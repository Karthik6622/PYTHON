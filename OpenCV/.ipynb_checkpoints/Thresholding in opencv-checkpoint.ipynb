{
 "cells": [
  {
   "cell_type": "markdown",
   "id": "424e7bc1",
   "metadata": {},
   "source": [
    "# Thresholding in opencv"
   ]
  },
  {
   "cell_type": "code",
   "execution_count": 1,
   "id": "71768d28",
   "metadata": {},
   "outputs": [],
   "source": [
    "import numpy as np\n",
    "import cv2"
   ]
  },
  {
   "cell_type": "markdown",
   "id": "636997b4",
   "metadata": {},
   "source": [
    "What is threhold?\n",
    "Thresholding in OpenCV is a technique used to segment an image into regions or objects based on pixel intensity values.\n",
    "Thresholding Methods: OpenCV provides various thresholding methods, but the most common ones are:\n",
    "\n",
    "Binary Thresholding: This is the simplest form of thresholding. It converts pixel values below a certain threshold to 0 (black) and values above or equal to the threshold to 255 (white).\n",
    "    \n",
    "Adaptive Thresholding: In this method, the threshold value is calculated for each pixel based on its local neighborhood. It's useful when the lighting conditions vary across the image.    \n"
   ]
  },
  {
   "cell_type": "code",
   "execution_count": 2,
   "id": "bcbc40d3",
   "metadata": {},
   "outputs": [
    {
     "data": {
      "text/plain": [
       "\"\\nIn OpenCV, when you apply thresholding using the cv2.threshold() function, it can produce two results:\\n\\nThe thresholded image(thresh): This is the main output of the thresholding operation. In this image, pixels are either set to a specified maximum value (if they pass the threshold) or a specified minimum value (if they don't pass the threshold).\\n\\nThe threshold value(_): The thresholding function returns the threshold value used for the operation. This value is used to separate the pixels into two categories: those below the threshold and those equal to or above the threshold.\\n\""
      ]
     },
     "execution_count": 2,
     "metadata": {},
     "output_type": "execute_result"
    }
   ],
   "source": [
    "#Binary Thresholding:-used to change image pixel value 0(black)-255(white)\n",
    "img=cv2.imread(\"ronaldo.jfif\")\n",
    "_,thres=cv2.threshold(img,100,50,cv2.THRESH_BINARY)#img-source,100-thresholdvalue,50-maximum value(we can't be give more than 255),cv2.THRESH_BINARY-threshold type\n",
    "'''\n",
    "You apply binary thresholding using cv2.threshold() with a threshold value of 100. \n",
    "In this case, pixels with intensity values less than 100 are set to 0, and pixels with values greater than or equal to 100 are set to 50. \n",
    "This means that the thresholded image (thres) will have pixel values of either 0 or 50.\n",
    "'''\n",
    "_,thres1=cv2.threshold(img,100,50,cv2.THRESH_BINARY_INV)\n",
    "'''\n",
    "cv2.THRESH_BINARY_INV specifies that you want to perform binary thresholding with an inverted behavior.\n",
    "This means that pixels with intensity values below the threshold (100) will be set to the maximum value (50), and pixels with values greater than or equal to the threshold will be set to 0.\n",
    "'''\n",
    "_,thres2=cv2.threshold(img,100,50,cv2.THRESH_TRUNC)\n",
    "'''\n",
    "cv2.THRESH_TRUNC, it specifies a truncation thresholding operation. This operation keeps pixels with values below the threshold (100) as they are but sets pixels with values greater than or equal to the threshold to the threshold value (which is 100).\n",
    "'''\n",
    "_,thres3=cv2.threshold(img,100,50,cv2.THRESH_TOZERO)\n",
    "'''\n",
    "thres3 will contain the result of the thresholding operation with a \"to zero\" effect applied to the img image.\n",
    "Pixels with intensity values below the threshold (100) will be unchanged, while pixels with values greater than or equal to 100 will be set to zero . This creates an image where values above the threshold are set to zero, \n",
    "'''\n",
    "_,thres4=cv2.threshold(img,100,50,cv2.THRESH_TOZERO_INV)\n",
    "'''\n",
    "cv2.THRESH_TOZERO_INV, it specifies a \"to zero inverse\" thresholding operation. This operation sets pixels with values below the threshold (100) to zero and keeps pixels with values greater than or equal to the threshold as they are.\n",
    "'''\n",
    "cv2.imshow(\"Ronaldo\",img)\n",
    "cv2.imshow(\"Thresholdimage\",thres)\n",
    "cv2.imshow(\"Thresholdimageinv\",thres1)\n",
    "cv2.imshow(\"Thresholdimagetrunc\",thres2)\n",
    "cv2.imshow(\"Thresholdimagettozero\",thres3)\n",
    "cv2.imshow(\"Thresholdimagettozeroinv\",thres4)\n",
    "cv2.waitKey()\n",
    "cv2.destroyAllWindows()\n",
    "#note:0 means black and 255 means so if we applay 0 or 0 nearvalue  means image will be dark and if we applay 255 or near 255 means image will be bright\n",
    "'''\n",
    "In OpenCV, when you apply thresholding using the cv2.threshold() function, it can produce two results:\n",
    "\n",
    "The thresholded image(thresh): This is the main output of the thresholding operation. In this image, pixels are either set to a specified maximum value (if they pass the threshold) or a specified minimum value (if they don't pass the threshold).\n",
    "\n",
    "The threshold value(_): The thresholding function returns the threshold value used for the operation. This value is used to separate the pixels into two categories: those below the threshold and those equal to or above the threshold.\n",
    "'''"
   ]
  },
  {
   "cell_type": "markdown",
   "id": "5e2f30e6",
   "metadata": {},
   "source": [
    "Adaptive thresholding is a technique in OpenCV used to binarize an image based on local pixel neighborhoods, rather than applying a single global threshold to the entire image. This can be particularly useful when the lighting conditions vary across different parts of the image. OpenCV provides several methods for adaptive thresholding, including:\n",
    "\n",
    "cv2.ADAPTIVE_THRESH_MEAN_C: In this method, the threshold value for each pixel is the mean of the neighborhood area minus a constant (C) that you specify.\n",
    "\n",
    "cv2.ADAPTIVE_THRESH_GAUSSIAN_C: Similar to the mean-based method, but instead of the mean, it uses the weighted sum of the neighborhood values, where the weights are determined by a Gaussian window."
   ]
  },
  {
   "cell_type": "code",
   "execution_count": 3,
   "id": "3b7b7411",
   "metadata": {},
   "outputs": [],
   "source": [
    "#Adaptive Thresholding:\n",
    "img=cv2.imread(\"ronaldo.jfif\")\n",
    "gray_img = cv2.cvtColor(img, cv2.COLOR_BGR2GRAY)\n",
    "thresh=cv2.adaptiveThreshold(gray_img,255,cv2.ADAPTIVE_THRESH_MEAN_C,cv2.THRESH_BINARY,11,5)\n",
    "#gray_img-source\n",
    "#255-maximum pixel value\n",
    "#cv2.ADAPTIVE_THRESH_MEAN_C-adoptive method\n",
    "#cv2.THRESH_BINARY-threshold mthod\n",
    "#11-size\n",
    "#5-constant\n",
    "thresh2=cv2.adaptiveThreshold(gray_img,255,cv2.ADAPTIVE_THRESH_GAUSSIAN_C,cv2.THRESH_BINARY,11,5)\n",
    "#gray_img-source\n",
    "cv2.imshow(\"Noralimage\",img)\n",
    "cv2.imshow(\"Adaptivetreshimage\",thresh)\n",
    "cv2.imshow(\"AdaptivetreshimageGaussian\",thresh)\n",
    "cv2.waitKey()\n",
    "cv2.destroyAllWindows()"
   ]
  },
  {
   "cell_type": "code",
   "execution_count": null,
   "id": "35777727",
   "metadata": {},
   "outputs": [],
   "source": [
    "#major use threshold is cut the object in image by intesity"
   ]
  }
 ],
 "metadata": {
  "kernelspec": {
   "display_name": "Python 3 (ipykernel)",
   "language": "python",
   "name": "python3"
  },
  "language_info": {
   "codemirror_mode": {
    "name": "ipython",
    "version": 3
   },
   "file_extension": ".py",
   "mimetype": "text/x-python",
   "name": "python",
   "nbconvert_exporter": "python",
   "pygments_lexer": "ipython3",
   "version": "3.10.9"
  }
 },
 "nbformat": 4,
 "nbformat_minor": 5
}
