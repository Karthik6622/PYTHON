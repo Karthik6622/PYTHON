{
 "cells": [
  {
   "cell_type": "markdown",
   "id": "45415c69",
   "metadata": {},
   "source": [
    "# MY_Bankaccount_statement_projects"
   ]
  },
  {
   "cell_type": "code",
   "execution_count": 112,
   "id": "fa0dd4c6",
   "metadata": {},
   "outputs": [],
   "source": [
    "import pandas as pd\n",
    "import numpy as np"
   ]
  },
  {
   "cell_type": "code",
   "execution_count": 136,
   "id": "85656f16",
   "metadata": {},
   "outputs": [
    {
     "data": {
      "text/plain": [
       "'\\nused to separate and distinguish individual pieces of data within a larger dataset or file. \\nDelimiters are commonly used when dealing with structured data formats like CSV (Comma-Separated Values), TSV (Tab-Separated Values), and many others.\\nHere are some common delimiters:\\n1.Comma (,)\\n2.Tab (\\t)\\n3.Semicolon (;)\\n4.Pipe (|):\\n'"
      ]
     },
     "execution_count": 136,
     "metadata": {},
     "output_type": "execute_result"
    }
   ],
   "source": [
    "df=pd.read_csv(\"September_month_statement.csv\",sep=\";\")\n",
    "#why we given sep=';'means?\n",
    "'''\n",
    "our CSV file uses a semicolon (;) as the delimiter.so we used ;\n",
    "'''\n",
    "#what is delimiter?\n",
    "'''\n",
    "used to separate and distinguish individual pieces of data within a larger dataset or file. \n",
    "Delimiters are commonly used when dealing with structured data formats like CSV (Comma-Separated Values), TSV (Tab-Separated Values), and many others.\n",
    "Here are some common delimiters:\n",
    "1.Comma (,)\n",
    "2.Tab (\\t)\n",
    "3.Semicolon (;)\n",
    "4.Pipe (|):\n",
    "'''"
   ]
  },
  {
   "cell_type": "code",
   "execution_count": 137,
   "id": "210b1567",
   "metadata": {},
   "outputs": [
    {
     "data": {
      "text/html": [
       "<div>\n",
       "<style scoped>\n",
       "    .dataframe tbody tr th:only-of-type {\n",
       "        vertical-align: middle;\n",
       "    }\n",
       "\n",
       "    .dataframe tbody tr th {\n",
       "        vertical-align: top;\n",
       "    }\n",
       "\n",
       "    .dataframe thead th {\n",
       "        text-align: right;\n",
       "    }\n",
       "</style>\n",
       "<table border=\"1\" class=\"dataframe\">\n",
       "  <thead>\n",
       "    <tr style=\"text-align: right;\">\n",
       "      <th></th>\n",
       "      <th>Tran Date,CHQNO,PARTICULARS,DR,CR,BAL,SOL</th>\n",
       "    </tr>\n",
       "  </thead>\n",
       "  <tbody>\n",
       "    <tr>\n",
       "      <th>0</th>\n",
       "      <td>1/9/2023,-,UPI/P2M/324448428665/BILLDESK /HDFC...</td>\n",
       "    </tr>\n",
       "    <tr>\n",
       "      <th>1</th>\n",
       "      <td>1/9/2023,-,UPI/P2A/324472728686/ABISHEK  /Kota...</td>\n",
       "    </tr>\n",
       "    <tr>\n",
       "      <th>2</th>\n",
       "      <td>1/9/2023,-,UPI/P2A/361024150265/Marithang/Indi...</td>\n",
       "    </tr>\n",
       "    <tr>\n",
       "      <th>3</th>\n",
       "      <td>1/9/2023,-,UPI/P2A/324432624651/KARTHICK /Indi...</td>\n",
       "    </tr>\n",
       "    <tr>\n",
       "      <th>4</th>\n",
       "      <td>2/9/2023,-,UPI/P2A/324516080378/Rajaxxxxx/Indi...</td>\n",
       "    </tr>\n",
       "    <tr>\n",
       "      <th>...</th>\n",
       "      <td>...</td>\n",
       "    </tr>\n",
       "    <tr>\n",
       "      <th>68</th>\n",
       "      <td>30-09-2023,-,UPI/P2A/327322613631/Ganesan C   ...</td>\n",
       "    </tr>\n",
       "    <tr>\n",
       "      <th>69</th>\n",
       "      <td>30-09-2023,-,UPI/P2M/327331589339/SMART BAZAAR...</td>\n",
       "    </tr>\n",
       "    <tr>\n",
       "      <th>70</th>\n",
       "      <td>30-09-2023,-,UPI/P2M/327332076410/M KALEEM BAS...</td>\n",
       "    </tr>\n",
       "    <tr>\n",
       "      <th>71</th>\n",
       "      <td>30-09-2023,-,UPI/P2A/363932535892/KARTHICK R  ...</td>\n",
       "    </tr>\n",
       "    <tr>\n",
       "      <th>72</th>\n",
       "      <td>1/10/2023,-,921010031799158:Int.Pd:01-07-2023 ...</td>\n",
       "    </tr>\n",
       "  </tbody>\n",
       "</table>\n",
       "<p>73 rows × 1 columns</p>\n",
       "</div>"
      ],
      "text/plain": [
       "            Tran Date,CHQNO,PARTICULARS,DR,CR,BAL,SOL\n",
       "0   1/9/2023,-,UPI/P2M/324448428665/BILLDESK /HDFC...\n",
       "1   1/9/2023,-,UPI/P2A/324472728686/ABISHEK  /Kota...\n",
       "2   1/9/2023,-,UPI/P2A/361024150265/Marithang/Indi...\n",
       "3   1/9/2023,-,UPI/P2A/324432624651/KARTHICK /Indi...\n",
       "4   2/9/2023,-,UPI/P2A/324516080378/Rajaxxxxx/Indi...\n",
       "..                                                ...\n",
       "68  30-09-2023,-,UPI/P2A/327322613631/Ganesan C   ...\n",
       "69  30-09-2023,-,UPI/P2M/327331589339/SMART BAZAAR...\n",
       "70  30-09-2023,-,UPI/P2M/327332076410/M KALEEM BAS...\n",
       "71  30-09-2023,-,UPI/P2A/363932535892/KARTHICK R  ...\n",
       "72  1/10/2023,-,921010031799158:Int.Pd:01-07-2023 ...\n",
       "\n",
       "[73 rows x 1 columns]"
      ]
     },
     "execution_count": 137,
     "metadata": {},
     "output_type": "execute_result"
    }
   ],
   "source": [
    "df"
   ]
  },
  {
   "cell_type": "code",
   "execution_count": 138,
   "id": "7fad5464",
   "metadata": {},
   "outputs": [],
   "source": [
    "#spliting dataframe\n",
    "#'Tran Date,CHQNO,PARTICULARS,DR,CR,BAL,SOL'-columnname\n",
    "df1=df['Tran Date,CHQNO,PARTICULARS,DR,CR,BAL,SOL'].str.split(',',expand=True)"
   ]
  },
  {
   "cell_type": "code",
   "execution_count": 139,
   "id": "5a26eff9",
   "metadata": {},
   "outputs": [
    {
     "data": {
      "text/html": [
       "<div>\n",
       "<style scoped>\n",
       "    .dataframe tbody tr th:only-of-type {\n",
       "        vertical-align: middle;\n",
       "    }\n",
       "\n",
       "    .dataframe tbody tr th {\n",
       "        vertical-align: top;\n",
       "    }\n",
       "\n",
       "    .dataframe thead th {\n",
       "        text-align: right;\n",
       "    }\n",
       "</style>\n",
       "<table border=\"1\" class=\"dataframe\">\n",
       "  <thead>\n",
       "    <tr style=\"text-align: right;\">\n",
       "      <th></th>\n",
       "      <th>0</th>\n",
       "      <th>1</th>\n",
       "      <th>2</th>\n",
       "      <th>3</th>\n",
       "      <th>4</th>\n",
       "      <th>5</th>\n",
       "      <th>6</th>\n",
       "    </tr>\n",
       "  </thead>\n",
       "  <tbody>\n",
       "    <tr>\n",
       "      <th>0</th>\n",
       "      <td>1/9/2023</td>\n",
       "      <td>-</td>\n",
       "      <td>UPI/P2M/324448428665/BILLDESK /HDFC BANK/UPI</td>\n",
       "      <td>239</td>\n",
       "      <td></td>\n",
       "      <td>22990.42</td>\n",
       "      <td>3093</td>\n",
       "    </tr>\n",
       "    <tr>\n",
       "      <th>1</th>\n",
       "      <td>1/9/2023</td>\n",
       "      <td>-</td>\n",
       "      <td>UPI/P2A/324472728686/ABISHEK  /Kotak Mah/Payment</td>\n",
       "      <td>500</td>\n",
       "      <td></td>\n",
       "      <td>22490.42</td>\n",
       "      <td>3093</td>\n",
       "    </tr>\n",
       "    <tr>\n",
       "      <th>2</th>\n",
       "      <td>1/9/2023</td>\n",
       "      <td>-</td>\n",
       "      <td>UPI/P2A/361024150265/Marithang/Indian Ba/NA</td>\n",
       "      <td>5000</td>\n",
       "      <td></td>\n",
       "      <td>17490.42</td>\n",
       "      <td>3093</td>\n",
       "    </tr>\n",
       "    <tr>\n",
       "      <th>3</th>\n",
       "      <td>1/9/2023</td>\n",
       "      <td>-</td>\n",
       "      <td>UPI/P2A/324432624651/KARTHICK /Indian Ov/NA</td>\n",
       "      <td></td>\n",
       "      <td>3000</td>\n",
       "      <td>20490.42</td>\n",
       "      <td>3093</td>\n",
       "    </tr>\n",
       "    <tr>\n",
       "      <th>4</th>\n",
       "      <td>2/9/2023</td>\n",
       "      <td>-</td>\n",
       "      <td>UPI/P2A/324516080378/Rajaxxxxx/Indian Ba/NA</td>\n",
       "      <td>8850</td>\n",
       "      <td></td>\n",
       "      <td>11640.42</td>\n",
       "      <td>3093</td>\n",
       "    </tr>\n",
       "    <tr>\n",
       "      <th>...</th>\n",
       "      <td>...</td>\n",
       "      <td>...</td>\n",
       "      <td>...</td>\n",
       "      <td>...</td>\n",
       "      <td>...</td>\n",
       "      <td>...</td>\n",
       "      <td>...</td>\n",
       "    </tr>\n",
       "    <tr>\n",
       "      <th>68</th>\n",
       "      <td>30-09-2023</td>\n",
       "      <td>-</td>\n",
       "      <td>UPI/P2A/327322613631/Ganesan C            /NA/...</td>\n",
       "      <td>5000</td>\n",
       "      <td></td>\n",
       "      <td>19206.42</td>\n",
       "      <td>3093</td>\n",
       "    </tr>\n",
       "    <tr>\n",
       "      <th>69</th>\n",
       "      <td>30-09-2023</td>\n",
       "      <td>-</td>\n",
       "      <td>UPI/P2M/327331589339/SMART BAZAAR         /NA/...</td>\n",
       "      <td>283.56</td>\n",
       "      <td></td>\n",
       "      <td>18922.86</td>\n",
       "      <td>3093</td>\n",
       "    </tr>\n",
       "    <tr>\n",
       "      <th>70</th>\n",
       "      <td>30-09-2023</td>\n",
       "      <td>-</td>\n",
       "      <td>UPI/P2M/327332076410/M KALEEM BASHA       /Sen...</td>\n",
       "      <td>50</td>\n",
       "      <td></td>\n",
       "      <td>18872.86</td>\n",
       "      <td>3093</td>\n",
       "    </tr>\n",
       "    <tr>\n",
       "      <th>71</th>\n",
       "      <td>30-09-2023</td>\n",
       "      <td>-</td>\n",
       "      <td>UPI/P2A/363932535892/KARTHICK R           /NA/...</td>\n",
       "      <td>600</td>\n",
       "      <td></td>\n",
       "      <td>18272.86</td>\n",
       "      <td>3093</td>\n",
       "    </tr>\n",
       "    <tr>\n",
       "      <th>72</th>\n",
       "      <td>1/10/2023</td>\n",
       "      <td>-</td>\n",
       "      <td>921010031799158:Int.Pd:01-07-2023 to 30-09-2023</td>\n",
       "      <td></td>\n",
       "      <td>22</td>\n",
       "      <td>18294.86</td>\n",
       "      <td>3093</td>\n",
       "    </tr>\n",
       "  </tbody>\n",
       "</table>\n",
       "<p>73 rows × 7 columns</p>\n",
       "</div>"
      ],
      "text/plain": [
       "             0  1                                                  2       3  \\\n",
       "0     1/9/2023  -       UPI/P2M/324448428665/BILLDESK /HDFC BANK/UPI     239   \n",
       "1     1/9/2023  -   UPI/P2A/324472728686/ABISHEK  /Kotak Mah/Payment     500   \n",
       "2     1/9/2023  -        UPI/P2A/361024150265/Marithang/Indian Ba/NA    5000   \n",
       "3     1/9/2023  -        UPI/P2A/324432624651/KARTHICK /Indian Ov/NA           \n",
       "4     2/9/2023  -        UPI/P2A/324516080378/Rajaxxxxx/Indian Ba/NA    8850   \n",
       "..         ... ..                                                ...     ...   \n",
       "68  30-09-2023  -  UPI/P2A/327322613631/Ganesan C            /NA/...    5000   \n",
       "69  30-09-2023  -  UPI/P2M/327331589339/SMART BAZAAR         /NA/...  283.56   \n",
       "70  30-09-2023  -  UPI/P2M/327332076410/M KALEEM BASHA       /Sen...      50   \n",
       "71  30-09-2023  -  UPI/P2A/363932535892/KARTHICK R           /NA/...     600   \n",
       "72   1/10/2023  -    921010031799158:Int.Pd:01-07-2023 to 30-09-2023           \n",
       "\n",
       "       4         5     6  \n",
       "0         22990.42  3093  \n",
       "1         22490.42  3093  \n",
       "2         17490.42  3093  \n",
       "3   3000  20490.42  3093  \n",
       "4         11640.42  3093  \n",
       "..   ...       ...   ...  \n",
       "68        19206.42  3093  \n",
       "69        18922.86  3093  \n",
       "70        18872.86  3093  \n",
       "71        18272.86  3093  \n",
       "72    22  18294.86  3093  \n",
       "\n",
       "[73 rows x 7 columns]"
      ]
     },
     "execution_count": 139,
     "metadata": {},
     "output_type": "execute_result"
    }
   ],
   "source": [
    "df1"
   ]
  },
  {
   "cell_type": "code",
   "execution_count": 140,
   "id": "b7eee6f1",
   "metadata": {},
   "outputs": [],
   "source": [
    "#deleting columns(CHQNO,SOL)\n",
    "df1.drop(columns={1,6},inplace=True)"
   ]
  },
  {
   "cell_type": "code",
   "execution_count": 141,
   "id": "b0f5acbb",
   "metadata": {},
   "outputs": [
    {
     "data": {
      "text/html": [
       "<div>\n",
       "<style scoped>\n",
       "    .dataframe tbody tr th:only-of-type {\n",
       "        vertical-align: middle;\n",
       "    }\n",
       "\n",
       "    .dataframe tbody tr th {\n",
       "        vertical-align: top;\n",
       "    }\n",
       "\n",
       "    .dataframe thead th {\n",
       "        text-align: right;\n",
       "    }\n",
       "</style>\n",
       "<table border=\"1\" class=\"dataframe\">\n",
       "  <thead>\n",
       "    <tr style=\"text-align: right;\">\n",
       "      <th></th>\n",
       "      <th>0</th>\n",
       "      <th>2</th>\n",
       "      <th>3</th>\n",
       "      <th>4</th>\n",
       "      <th>5</th>\n",
       "    </tr>\n",
       "  </thead>\n",
       "  <tbody>\n",
       "    <tr>\n",
       "      <th>0</th>\n",
       "      <td>1/9/2023</td>\n",
       "      <td>UPI/P2M/324448428665/BILLDESK /HDFC BANK/UPI</td>\n",
       "      <td>239</td>\n",
       "      <td></td>\n",
       "      <td>22990.42</td>\n",
       "    </tr>\n",
       "    <tr>\n",
       "      <th>1</th>\n",
       "      <td>1/9/2023</td>\n",
       "      <td>UPI/P2A/324472728686/ABISHEK  /Kotak Mah/Payment</td>\n",
       "      <td>500</td>\n",
       "      <td></td>\n",
       "      <td>22490.42</td>\n",
       "    </tr>\n",
       "    <tr>\n",
       "      <th>2</th>\n",
       "      <td>1/9/2023</td>\n",
       "      <td>UPI/P2A/361024150265/Marithang/Indian Ba/NA</td>\n",
       "      <td>5000</td>\n",
       "      <td></td>\n",
       "      <td>17490.42</td>\n",
       "    </tr>\n",
       "    <tr>\n",
       "      <th>3</th>\n",
       "      <td>1/9/2023</td>\n",
       "      <td>UPI/P2A/324432624651/KARTHICK /Indian Ov/NA</td>\n",
       "      <td></td>\n",
       "      <td>3000</td>\n",
       "      <td>20490.42</td>\n",
       "    </tr>\n",
       "    <tr>\n",
       "      <th>4</th>\n",
       "      <td>2/9/2023</td>\n",
       "      <td>UPI/P2A/324516080378/Rajaxxxxx/Indian Ba/NA</td>\n",
       "      <td>8850</td>\n",
       "      <td></td>\n",
       "      <td>11640.42</td>\n",
       "    </tr>\n",
       "    <tr>\n",
       "      <th>...</th>\n",
       "      <td>...</td>\n",
       "      <td>...</td>\n",
       "      <td>...</td>\n",
       "      <td>...</td>\n",
       "      <td>...</td>\n",
       "    </tr>\n",
       "    <tr>\n",
       "      <th>68</th>\n",
       "      <td>30-09-2023</td>\n",
       "      <td>UPI/P2A/327322613631/Ganesan C            /NA/...</td>\n",
       "      <td>5000</td>\n",
       "      <td></td>\n",
       "      <td>19206.42</td>\n",
       "    </tr>\n",
       "    <tr>\n",
       "      <th>69</th>\n",
       "      <td>30-09-2023</td>\n",
       "      <td>UPI/P2M/327331589339/SMART BAZAAR         /NA/...</td>\n",
       "      <td>283.56</td>\n",
       "      <td></td>\n",
       "      <td>18922.86</td>\n",
       "    </tr>\n",
       "    <tr>\n",
       "      <th>70</th>\n",
       "      <td>30-09-2023</td>\n",
       "      <td>UPI/P2M/327332076410/M KALEEM BASHA       /Sen...</td>\n",
       "      <td>50</td>\n",
       "      <td></td>\n",
       "      <td>18872.86</td>\n",
       "    </tr>\n",
       "    <tr>\n",
       "      <th>71</th>\n",
       "      <td>30-09-2023</td>\n",
       "      <td>UPI/P2A/363932535892/KARTHICK R           /NA/...</td>\n",
       "      <td>600</td>\n",
       "      <td></td>\n",
       "      <td>18272.86</td>\n",
       "    </tr>\n",
       "    <tr>\n",
       "      <th>72</th>\n",
       "      <td>1/10/2023</td>\n",
       "      <td>921010031799158:Int.Pd:01-07-2023 to 30-09-2023</td>\n",
       "      <td></td>\n",
       "      <td>22</td>\n",
       "      <td>18294.86</td>\n",
       "    </tr>\n",
       "  </tbody>\n",
       "</table>\n",
       "<p>73 rows × 5 columns</p>\n",
       "</div>"
      ],
      "text/plain": [
       "             0                                                  2       3  \\\n",
       "0     1/9/2023       UPI/P2M/324448428665/BILLDESK /HDFC BANK/UPI     239   \n",
       "1     1/9/2023   UPI/P2A/324472728686/ABISHEK  /Kotak Mah/Payment     500   \n",
       "2     1/9/2023        UPI/P2A/361024150265/Marithang/Indian Ba/NA    5000   \n",
       "3     1/9/2023        UPI/P2A/324432624651/KARTHICK /Indian Ov/NA           \n",
       "4     2/9/2023        UPI/P2A/324516080378/Rajaxxxxx/Indian Ba/NA    8850   \n",
       "..         ...                                                ...     ...   \n",
       "68  30-09-2023  UPI/P2A/327322613631/Ganesan C            /NA/...    5000   \n",
       "69  30-09-2023  UPI/P2M/327331589339/SMART BAZAAR         /NA/...  283.56   \n",
       "70  30-09-2023  UPI/P2M/327332076410/M KALEEM BASHA       /Sen...      50   \n",
       "71  30-09-2023  UPI/P2A/363932535892/KARTHICK R           /NA/...     600   \n",
       "72   1/10/2023    921010031799158:Int.Pd:01-07-2023 to 30-09-2023           \n",
       "\n",
       "       4         5  \n",
       "0         22990.42  \n",
       "1         22490.42  \n",
       "2         17490.42  \n",
       "3   3000  20490.42  \n",
       "4         11640.42  \n",
       "..   ...       ...  \n",
       "68        19206.42  \n",
       "69        18922.86  \n",
       "70        18872.86  \n",
       "71        18272.86  \n",
       "72    22  18294.86  \n",
       "\n",
       "[73 rows x 5 columns]"
      ]
     },
     "execution_count": 141,
     "metadata": {},
     "output_type": "execute_result"
    }
   ],
   "source": [
    "df1"
   ]
  },
  {
   "cell_type": "code",
   "execution_count": 142,
   "id": "1955a18b",
   "metadata": {},
   "outputs": [],
   "source": [
    "#change the column names as our wish\n",
    "df1.columns=('Date','Transcationid','Debit','Credit','Balance')"
   ]
  },
  {
   "cell_type": "code",
   "execution_count": 143,
   "id": "450c9e39",
   "metadata": {},
   "outputs": [
    {
     "data": {
      "text/html": [
       "<div>\n",
       "<style scoped>\n",
       "    .dataframe tbody tr th:only-of-type {\n",
       "        vertical-align: middle;\n",
       "    }\n",
       "\n",
       "    .dataframe tbody tr th {\n",
       "        vertical-align: top;\n",
       "    }\n",
       "\n",
       "    .dataframe thead th {\n",
       "        text-align: right;\n",
       "    }\n",
       "</style>\n",
       "<table border=\"1\" class=\"dataframe\">\n",
       "  <thead>\n",
       "    <tr style=\"text-align: right;\">\n",
       "      <th></th>\n",
       "      <th>Date</th>\n",
       "      <th>Transcationid</th>\n",
       "      <th>Debit</th>\n",
       "      <th>Credit</th>\n",
       "      <th>Balance</th>\n",
       "    </tr>\n",
       "  </thead>\n",
       "  <tbody>\n",
       "    <tr>\n",
       "      <th>0</th>\n",
       "      <td>1/9/2023</td>\n",
       "      <td>UPI/P2M/324448428665/BILLDESK /HDFC BANK/UPI</td>\n",
       "      <td>239</td>\n",
       "      <td></td>\n",
       "      <td>22990.42</td>\n",
       "    </tr>\n",
       "    <tr>\n",
       "      <th>1</th>\n",
       "      <td>1/9/2023</td>\n",
       "      <td>UPI/P2A/324472728686/ABISHEK  /Kotak Mah/Payment</td>\n",
       "      <td>500</td>\n",
       "      <td></td>\n",
       "      <td>22490.42</td>\n",
       "    </tr>\n",
       "    <tr>\n",
       "      <th>2</th>\n",
       "      <td>1/9/2023</td>\n",
       "      <td>UPI/P2A/361024150265/Marithang/Indian Ba/NA</td>\n",
       "      <td>5000</td>\n",
       "      <td></td>\n",
       "      <td>17490.42</td>\n",
       "    </tr>\n",
       "    <tr>\n",
       "      <th>3</th>\n",
       "      <td>1/9/2023</td>\n",
       "      <td>UPI/P2A/324432624651/KARTHICK /Indian Ov/NA</td>\n",
       "      <td></td>\n",
       "      <td>3000</td>\n",
       "      <td>20490.42</td>\n",
       "    </tr>\n",
       "    <tr>\n",
       "      <th>4</th>\n",
       "      <td>2/9/2023</td>\n",
       "      <td>UPI/P2A/324516080378/Rajaxxxxx/Indian Ba/NA</td>\n",
       "      <td>8850</td>\n",
       "      <td></td>\n",
       "      <td>11640.42</td>\n",
       "    </tr>\n",
       "    <tr>\n",
       "      <th>...</th>\n",
       "      <td>...</td>\n",
       "      <td>...</td>\n",
       "      <td>...</td>\n",
       "      <td>...</td>\n",
       "      <td>...</td>\n",
       "    </tr>\n",
       "    <tr>\n",
       "      <th>68</th>\n",
       "      <td>30-09-2023</td>\n",
       "      <td>UPI/P2A/327322613631/Ganesan C            /NA/...</td>\n",
       "      <td>5000</td>\n",
       "      <td></td>\n",
       "      <td>19206.42</td>\n",
       "    </tr>\n",
       "    <tr>\n",
       "      <th>69</th>\n",
       "      <td>30-09-2023</td>\n",
       "      <td>UPI/P2M/327331589339/SMART BAZAAR         /NA/...</td>\n",
       "      <td>283.56</td>\n",
       "      <td></td>\n",
       "      <td>18922.86</td>\n",
       "    </tr>\n",
       "    <tr>\n",
       "      <th>70</th>\n",
       "      <td>30-09-2023</td>\n",
       "      <td>UPI/P2M/327332076410/M KALEEM BASHA       /Sen...</td>\n",
       "      <td>50</td>\n",
       "      <td></td>\n",
       "      <td>18872.86</td>\n",
       "    </tr>\n",
       "    <tr>\n",
       "      <th>71</th>\n",
       "      <td>30-09-2023</td>\n",
       "      <td>UPI/P2A/363932535892/KARTHICK R           /NA/...</td>\n",
       "      <td>600</td>\n",
       "      <td></td>\n",
       "      <td>18272.86</td>\n",
       "    </tr>\n",
       "    <tr>\n",
       "      <th>72</th>\n",
       "      <td>1/10/2023</td>\n",
       "      <td>921010031799158:Int.Pd:01-07-2023 to 30-09-2023</td>\n",
       "      <td></td>\n",
       "      <td>22</td>\n",
       "      <td>18294.86</td>\n",
       "    </tr>\n",
       "  </tbody>\n",
       "</table>\n",
       "<p>73 rows × 5 columns</p>\n",
       "</div>"
      ],
      "text/plain": [
       "          Date                                      Transcationid   Debit  \\\n",
       "0     1/9/2023       UPI/P2M/324448428665/BILLDESK /HDFC BANK/UPI     239   \n",
       "1     1/9/2023   UPI/P2A/324472728686/ABISHEK  /Kotak Mah/Payment     500   \n",
       "2     1/9/2023        UPI/P2A/361024150265/Marithang/Indian Ba/NA    5000   \n",
       "3     1/9/2023        UPI/P2A/324432624651/KARTHICK /Indian Ov/NA           \n",
       "4     2/9/2023        UPI/P2A/324516080378/Rajaxxxxx/Indian Ba/NA    8850   \n",
       "..         ...                                                ...     ...   \n",
       "68  30-09-2023  UPI/P2A/327322613631/Ganesan C            /NA/...    5000   \n",
       "69  30-09-2023  UPI/P2M/327331589339/SMART BAZAAR         /NA/...  283.56   \n",
       "70  30-09-2023  UPI/P2M/327332076410/M KALEEM BASHA       /Sen...      50   \n",
       "71  30-09-2023  UPI/P2A/363932535892/KARTHICK R           /NA/...     600   \n",
       "72   1/10/2023    921010031799158:Int.Pd:01-07-2023 to 30-09-2023           \n",
       "\n",
       "   Credit   Balance  \n",
       "0          22990.42  \n",
       "1          22490.42  \n",
       "2          17490.42  \n",
       "3    3000  20490.42  \n",
       "4          11640.42  \n",
       "..    ...       ...  \n",
       "68         19206.42  \n",
       "69         18922.86  \n",
       "70         18872.86  \n",
       "71         18272.86  \n",
       "72     22  18294.86  \n",
       "\n",
       "[73 rows x 5 columns]"
      ]
     },
     "execution_count": 143,
     "metadata": {},
     "output_type": "execute_result"
    }
   ],
   "source": [
    "df1"
   ]
  },
  {
   "cell_type": "code",
   "execution_count": 144,
   "id": "c15a28ef",
   "metadata": {},
   "outputs": [
    {
     "name": "stdout",
     "output_type": "stream",
     "text": [
      "Total Debit Amount: 2395005000 8850600 600030001696101000 6300 100   1660030 100160155155 6002070200104 500020010000800010000260200080001272 4015 2015030 100 4030 3000 290002551000 150010180 40 50004005000283.5650600 \n",
      "Total Credit Amount:    3000  500     6000 50 530040007300  500    4200    43500         100  140   1000 432  3600 29000   1000   27930 1500      22\n"
     ]
    }
   ],
   "source": [
    "#find out total debit amount and credit amouts\n",
    "print(\"Total Debit Amount:\",df1['Debit'].sum())\n",
    "print(\"Total Credit Amount:\",df1['Credit'].sum())\n",
    "#because Debit and Credit column both are in string datatype that's why sum not happend"
   ]
  },
  {
   "cell_type": "code",
   "execution_count": 145,
   "id": "d57aa15a",
   "metadata": {},
   "outputs": [
    {
     "name": "stdout",
     "output_type": "stream",
     "text": [
      "<class 'pandas.core.frame.DataFrame'>\n",
      "RangeIndex: 73 entries, 0 to 72\n",
      "Data columns (total 5 columns):\n",
      " #   Column         Non-Null Count  Dtype \n",
      "---  ------         --------------  ----- \n",
      " 0   Date           73 non-null     object\n",
      " 1   Transcationid  73 non-null     object\n",
      " 2   Debit          73 non-null     object\n",
      " 3   Credit         73 non-null     object\n",
      " 4   Balance        73 non-null     object\n",
      "dtypes: object(5)\n",
      "memory usage: 3.0+ KB\n"
     ]
    }
   ],
   "source": [
    "df1.info()"
   ]
  },
  {
   "cell_type": "code",
   "execution_count": 146,
   "id": "84963af2",
   "metadata": {},
   "outputs": [],
   "source": [
    "#changing empty values to nan\n",
    "df1.replace(' ',np.nan,inplace=True)#because while converting string to int we getting error,if it is empty value"
   ]
  },
  {
   "cell_type": "code",
   "execution_count": 147,
   "id": "087b938d",
   "metadata": {},
   "outputs": [
    {
     "data": {
      "text/html": [
       "<div>\n",
       "<style scoped>\n",
       "    .dataframe tbody tr th:only-of-type {\n",
       "        vertical-align: middle;\n",
       "    }\n",
       "\n",
       "    .dataframe tbody tr th {\n",
       "        vertical-align: top;\n",
       "    }\n",
       "\n",
       "    .dataframe thead th {\n",
       "        text-align: right;\n",
       "    }\n",
       "</style>\n",
       "<table border=\"1\" class=\"dataframe\">\n",
       "  <thead>\n",
       "    <tr style=\"text-align: right;\">\n",
       "      <th></th>\n",
       "      <th>Date</th>\n",
       "      <th>Transcationid</th>\n",
       "      <th>Debit</th>\n",
       "      <th>Credit</th>\n",
       "      <th>Balance</th>\n",
       "    </tr>\n",
       "  </thead>\n",
       "  <tbody>\n",
       "    <tr>\n",
       "      <th>0</th>\n",
       "      <td>1/9/2023</td>\n",
       "      <td>UPI/P2M/324448428665/BILLDESK /HDFC BANK/UPI</td>\n",
       "      <td>239</td>\n",
       "      <td>NaN</td>\n",
       "      <td>22990.42</td>\n",
       "    </tr>\n",
       "    <tr>\n",
       "      <th>1</th>\n",
       "      <td>1/9/2023</td>\n",
       "      <td>UPI/P2A/324472728686/ABISHEK  /Kotak Mah/Payment</td>\n",
       "      <td>500</td>\n",
       "      <td>NaN</td>\n",
       "      <td>22490.42</td>\n",
       "    </tr>\n",
       "    <tr>\n",
       "      <th>2</th>\n",
       "      <td>1/9/2023</td>\n",
       "      <td>UPI/P2A/361024150265/Marithang/Indian Ba/NA</td>\n",
       "      <td>5000</td>\n",
       "      <td>NaN</td>\n",
       "      <td>17490.42</td>\n",
       "    </tr>\n",
       "    <tr>\n",
       "      <th>3</th>\n",
       "      <td>1/9/2023</td>\n",
       "      <td>UPI/P2A/324432624651/KARTHICK /Indian Ov/NA</td>\n",
       "      <td>NaN</td>\n",
       "      <td>3000</td>\n",
       "      <td>20490.42</td>\n",
       "    </tr>\n",
       "    <tr>\n",
       "      <th>4</th>\n",
       "      <td>2/9/2023</td>\n",
       "      <td>UPI/P2A/324516080378/Rajaxxxxx/Indian Ba/NA</td>\n",
       "      <td>8850</td>\n",
       "      <td>NaN</td>\n",
       "      <td>11640.42</td>\n",
       "    </tr>\n",
       "    <tr>\n",
       "      <th>...</th>\n",
       "      <td>...</td>\n",
       "      <td>...</td>\n",
       "      <td>...</td>\n",
       "      <td>...</td>\n",
       "      <td>...</td>\n",
       "    </tr>\n",
       "    <tr>\n",
       "      <th>68</th>\n",
       "      <td>30-09-2023</td>\n",
       "      <td>UPI/P2A/327322613631/Ganesan C            /NA/...</td>\n",
       "      <td>5000</td>\n",
       "      <td>NaN</td>\n",
       "      <td>19206.42</td>\n",
       "    </tr>\n",
       "    <tr>\n",
       "      <th>69</th>\n",
       "      <td>30-09-2023</td>\n",
       "      <td>UPI/P2M/327331589339/SMART BAZAAR         /NA/...</td>\n",
       "      <td>283.56</td>\n",
       "      <td>NaN</td>\n",
       "      <td>18922.86</td>\n",
       "    </tr>\n",
       "    <tr>\n",
       "      <th>70</th>\n",
       "      <td>30-09-2023</td>\n",
       "      <td>UPI/P2M/327332076410/M KALEEM BASHA       /Sen...</td>\n",
       "      <td>50</td>\n",
       "      <td>NaN</td>\n",
       "      <td>18872.86</td>\n",
       "    </tr>\n",
       "    <tr>\n",
       "      <th>71</th>\n",
       "      <td>30-09-2023</td>\n",
       "      <td>UPI/P2A/363932535892/KARTHICK R           /NA/...</td>\n",
       "      <td>600</td>\n",
       "      <td>NaN</td>\n",
       "      <td>18272.86</td>\n",
       "    </tr>\n",
       "    <tr>\n",
       "      <th>72</th>\n",
       "      <td>1/10/2023</td>\n",
       "      <td>921010031799158:Int.Pd:01-07-2023 to 30-09-2023</td>\n",
       "      <td>NaN</td>\n",
       "      <td>22</td>\n",
       "      <td>18294.86</td>\n",
       "    </tr>\n",
       "  </tbody>\n",
       "</table>\n",
       "<p>73 rows × 5 columns</p>\n",
       "</div>"
      ],
      "text/plain": [
       "          Date                                      Transcationid   Debit  \\\n",
       "0     1/9/2023       UPI/P2M/324448428665/BILLDESK /HDFC BANK/UPI     239   \n",
       "1     1/9/2023   UPI/P2A/324472728686/ABISHEK  /Kotak Mah/Payment     500   \n",
       "2     1/9/2023        UPI/P2A/361024150265/Marithang/Indian Ba/NA    5000   \n",
       "3     1/9/2023        UPI/P2A/324432624651/KARTHICK /Indian Ov/NA     NaN   \n",
       "4     2/9/2023        UPI/P2A/324516080378/Rajaxxxxx/Indian Ba/NA    8850   \n",
       "..         ...                                                ...     ...   \n",
       "68  30-09-2023  UPI/P2A/327322613631/Ganesan C            /NA/...    5000   \n",
       "69  30-09-2023  UPI/P2M/327331589339/SMART BAZAAR         /NA/...  283.56   \n",
       "70  30-09-2023  UPI/P2M/327332076410/M KALEEM BASHA       /Sen...      50   \n",
       "71  30-09-2023  UPI/P2A/363932535892/KARTHICK R           /NA/...     600   \n",
       "72   1/10/2023    921010031799158:Int.Pd:01-07-2023 to 30-09-2023     NaN   \n",
       "\n",
       "   Credit   Balance  \n",
       "0     NaN  22990.42  \n",
       "1     NaN  22490.42  \n",
       "2     NaN  17490.42  \n",
       "3    3000  20490.42  \n",
       "4     NaN  11640.42  \n",
       "..    ...       ...  \n",
       "68    NaN  19206.42  \n",
       "69    NaN  18922.86  \n",
       "70    NaN  18872.86  \n",
       "71    NaN  18272.86  \n",
       "72     22  18294.86  \n",
       "\n",
       "[73 rows x 5 columns]"
      ]
     },
     "execution_count": 147,
     "metadata": {},
     "output_type": "execute_result"
    }
   ],
   "source": [
    "df1"
   ]
  },
  {
   "cell_type": "code",
   "execution_count": 151,
   "id": "45710e89",
   "metadata": {},
   "outputs": [
    {
     "data": {
      "text/html": [
       "<div>\n",
       "<style scoped>\n",
       "    .dataframe tbody tr th:only-of-type {\n",
       "        vertical-align: middle;\n",
       "    }\n",
       "\n",
       "    .dataframe tbody tr th {\n",
       "        vertical-align: top;\n",
       "    }\n",
       "\n",
       "    .dataframe thead th {\n",
       "        text-align: right;\n",
       "    }\n",
       "</style>\n",
       "<table border=\"1\" class=\"dataframe\">\n",
       "  <thead>\n",
       "    <tr style=\"text-align: right;\">\n",
       "      <th></th>\n",
       "      <th>Date</th>\n",
       "      <th>Transcationid</th>\n",
       "      <th>Debit</th>\n",
       "      <th>Credit</th>\n",
       "      <th>Balance</th>\n",
       "    </tr>\n",
       "  </thead>\n",
       "  <tbody>\n",
       "    <tr>\n",
       "      <th>0</th>\n",
       "      <td>1/9/2023</td>\n",
       "      <td>UPI/P2M/324448428665/BILLDESK /HDFC BANK/UPI</td>\n",
       "      <td>239.00</td>\n",
       "      <td>NaN</td>\n",
       "      <td>22990.42</td>\n",
       "    </tr>\n",
       "    <tr>\n",
       "      <th>1</th>\n",
       "      <td>1/9/2023</td>\n",
       "      <td>UPI/P2A/324472728686/ABISHEK  /Kotak Mah/Payment</td>\n",
       "      <td>500.00</td>\n",
       "      <td>NaN</td>\n",
       "      <td>22490.42</td>\n",
       "    </tr>\n",
       "    <tr>\n",
       "      <th>2</th>\n",
       "      <td>1/9/2023</td>\n",
       "      <td>UPI/P2A/361024150265/Marithang/Indian Ba/NA</td>\n",
       "      <td>5000.00</td>\n",
       "      <td>NaN</td>\n",
       "      <td>17490.42</td>\n",
       "    </tr>\n",
       "    <tr>\n",
       "      <th>3</th>\n",
       "      <td>1/9/2023</td>\n",
       "      <td>UPI/P2A/324432624651/KARTHICK /Indian Ov/NA</td>\n",
       "      <td>NaN</td>\n",
       "      <td>3000.0</td>\n",
       "      <td>20490.42</td>\n",
       "    </tr>\n",
       "    <tr>\n",
       "      <th>4</th>\n",
       "      <td>2/9/2023</td>\n",
       "      <td>UPI/P2A/324516080378/Rajaxxxxx/Indian Ba/NA</td>\n",
       "      <td>8850.00</td>\n",
       "      <td>NaN</td>\n",
       "      <td>11640.42</td>\n",
       "    </tr>\n",
       "    <tr>\n",
       "      <th>...</th>\n",
       "      <td>...</td>\n",
       "      <td>...</td>\n",
       "      <td>...</td>\n",
       "      <td>...</td>\n",
       "      <td>...</td>\n",
       "    </tr>\n",
       "    <tr>\n",
       "      <th>68</th>\n",
       "      <td>30-09-2023</td>\n",
       "      <td>UPI/P2A/327322613631/Ganesan C            /NA/...</td>\n",
       "      <td>5000.00</td>\n",
       "      <td>NaN</td>\n",
       "      <td>19206.42</td>\n",
       "    </tr>\n",
       "    <tr>\n",
       "      <th>69</th>\n",
       "      <td>30-09-2023</td>\n",
       "      <td>UPI/P2M/327331589339/SMART BAZAAR         /NA/...</td>\n",
       "      <td>283.56</td>\n",
       "      <td>NaN</td>\n",
       "      <td>18922.86</td>\n",
       "    </tr>\n",
       "    <tr>\n",
       "      <th>70</th>\n",
       "      <td>30-09-2023</td>\n",
       "      <td>UPI/P2M/327332076410/M KALEEM BASHA       /Sen...</td>\n",
       "      <td>50.00</td>\n",
       "      <td>NaN</td>\n",
       "      <td>18872.86</td>\n",
       "    </tr>\n",
       "    <tr>\n",
       "      <th>71</th>\n",
       "      <td>30-09-2023</td>\n",
       "      <td>UPI/P2A/363932535892/KARTHICK R           /NA/...</td>\n",
       "      <td>600.00</td>\n",
       "      <td>NaN</td>\n",
       "      <td>18272.86</td>\n",
       "    </tr>\n",
       "    <tr>\n",
       "      <th>72</th>\n",
       "      <td>1/10/2023</td>\n",
       "      <td>921010031799158:Int.Pd:01-07-2023 to 30-09-2023</td>\n",
       "      <td>NaN</td>\n",
       "      <td>22.0</td>\n",
       "      <td>18294.86</td>\n",
       "    </tr>\n",
       "  </tbody>\n",
       "</table>\n",
       "<p>73 rows × 5 columns</p>\n",
       "</div>"
      ],
      "text/plain": [
       "          Date                                      Transcationid    Debit  \\\n",
       "0     1/9/2023       UPI/P2M/324448428665/BILLDESK /HDFC BANK/UPI   239.00   \n",
       "1     1/9/2023   UPI/P2A/324472728686/ABISHEK  /Kotak Mah/Payment   500.00   \n",
       "2     1/9/2023        UPI/P2A/361024150265/Marithang/Indian Ba/NA  5000.00   \n",
       "3     1/9/2023        UPI/P2A/324432624651/KARTHICK /Indian Ov/NA      NaN   \n",
       "4     2/9/2023        UPI/P2A/324516080378/Rajaxxxxx/Indian Ba/NA  8850.00   \n",
       "..         ...                                                ...      ...   \n",
       "68  30-09-2023  UPI/P2A/327322613631/Ganesan C            /NA/...  5000.00   \n",
       "69  30-09-2023  UPI/P2M/327331589339/SMART BAZAAR         /NA/...   283.56   \n",
       "70  30-09-2023  UPI/P2M/327332076410/M KALEEM BASHA       /Sen...    50.00   \n",
       "71  30-09-2023  UPI/P2A/363932535892/KARTHICK R           /NA/...   600.00   \n",
       "72   1/10/2023    921010031799158:Int.Pd:01-07-2023 to 30-09-2023      NaN   \n",
       "\n",
       "    Credit   Balance  \n",
       "0      NaN  22990.42  \n",
       "1      NaN  22490.42  \n",
       "2      NaN  17490.42  \n",
       "3   3000.0  20490.42  \n",
       "4      NaN  11640.42  \n",
       "..     ...       ...  \n",
       "68     NaN  19206.42  \n",
       "69     NaN  18922.86  \n",
       "70     NaN  18872.86  \n",
       "71     NaN  18272.86  \n",
       "72    22.0  18294.86  \n",
       "\n",
       "[73 rows x 5 columns]"
      ]
     },
     "execution_count": 151,
     "metadata": {},
     "output_type": "execute_result"
    }
   ],
   "source": [
    "#changing column datatype string to int\n",
    "df1['Debit']=df1['Debit'].astype(float)\n",
    "df1['Credit']=df1['Credit'].astype(float)\n",
    "df1"
   ]
  },
  {
   "cell_type": "code",
   "execution_count": 152,
   "id": "ade55fb7",
   "metadata": {},
   "outputs": [
    {
     "name": "stdout",
     "output_type": "stream",
     "text": [
      "Total Debit Amount: 144008.56\n",
      "Total Credit Amount: 139074.0\n"
     ]
    }
   ],
   "source": [
    "#find out total debit amount and credit amouts\n",
    "print(\"Total Debit Amount:\",df1['Debit'].sum())\n",
    "print(\"Total Credit Amount:\",df1['Credit'].sum())"
   ]
  },
  {
   "cell_type": "code",
   "execution_count": 153,
   "id": "e75d6e98",
   "metadata": {},
   "outputs": [
    {
     "name": "stdout",
     "output_type": "stream",
     "text": [
      "Highest Debit Amount: 29000.0\n",
      "Highest Credit Amount: 43500.0\n"
     ]
    }
   ],
   "source": [
    "#findout the Highest debited amount and highest cretied amount\n",
    "print(\"Highest Debit Amount:\",df1['Debit'].max())\n",
    "print(\"Highest Credit Amount:\",df1['Credit'].max())"
   ]
  },
  {
   "cell_type": "code",
   "execution_count": 154,
   "id": "fe588321",
   "metadata": {},
   "outputs": [
    {
     "name": "stdout",
     "output_type": "stream",
     "text": [
      "Highest Debit Amount: 15.0\n",
      "Highest Credit Amount: 22.0\n"
     ]
    }
   ],
   "source": [
    "#findout the lowest debited amount and lowest cretied amount\n",
    "print(\"Highest Debit Amount:\",df1['Debit'].min())\n",
    "print(\"Highest Credit Amount:\",df1['Credit'].min())"
   ]
  },
  {
   "cell_type": "code",
   "execution_count": 183,
   "id": "e9ede904",
   "metadata": {},
   "outputs": [
    {
     "data": {
      "application/vnd.plotly.v1+json": {
       "config": {
        "plotlyServerURL": "https://plot.ly"
       },
       "data": [
        {
         "marker": {
          "color": "rgb(255, 71, 26)",
          "line": {
           "color": "rgb(204, 41, 0)",
           "width": 2
          }
         },
         "name": "Debit Graph",
         "type": "bar",
         "x": [
          "1/9/2023",
          "1/9/2023",
          "1/9/2023",
          "1/9/2023",
          "2/9/2023",
          "2/9/2023",
          "2/9/2023",
          "2/9/2023",
          "2/9/2023",
          "2/9/2023",
          "3/9/2023",
          "5/9/2023",
          "5/9/2023",
          "5/9/2023",
          "5/9/2023",
          "6/9/2023",
          "6/9/2023",
          "6/9/2023",
          "6/9/2023",
          "6/9/2023",
          "7/9/2023",
          "8/9/2023",
          "8/9/2023",
          "9/9/2023",
          "11/9/2023",
          "11/9/2023",
          "11/9/2023",
          "11/9/2023",
          "11/9/2023",
          "11/9/2023",
          "11/9/2023",
          "12/9/2023",
          "12/9/2023",
          "12/9/2023",
          "12/9/2023",
          "12/9/2023",
          "12/9/2023",
          "13-09-2023",
          "14-09-2023",
          "14-09-2023",
          "15-09-2023",
          "15-09-2023",
          "15-09-2023",
          "15-09-2023",
          "16-09-2023",
          "17-09-2023",
          "17-09-2023",
          "17-09-2023",
          "19-09-2023",
          "19-09-2023",
          "20-09-2023",
          "21-09-2023",
          "21-09-2023",
          "22-09-2023",
          "22-09-2023",
          "22-09-2023",
          "22-09-2023",
          "22-09-2023",
          "23-09-2023",
          "27-09-2023",
          "27-09-2023",
          "28-09-2023",
          "28-09-2023",
          "29-09-2023",
          "29-09-2023",
          "30-09-2023",
          "30-09-2023",
          "30-09-2023",
          "30-09-2023",
          "30-09-2023",
          "30-09-2023",
          "30-09-2023",
          "1/10/2023"
         ],
         "y": [
          239,
          500,
          5000,
          null,
          8850,
          600,
          null,
          6000,
          3000,
          169,
          610,
          1000,
          null,
          6300,
          null,
          100,
          null,
          null,
          null,
          16600,
          30,
          null,
          100,
          160,
          155,
          155,
          null,
          600,
          2070,
          200,
          104,
          null,
          5000,
          200,
          10000,
          8000,
          10000,
          260,
          2000,
          8000,
          1272,
          null,
          40,
          15,
          null,
          20,
          150,
          30,
          null,
          100,
          null,
          40,
          30,
          null,
          3000,
          null,
          29000,
          255,
          1000,
          null,
          1500,
          101,
          80,
          null,
          40,
          null,
          5000,
          400,
          5000,
          283.56,
          50,
          600,
          null
         ]
        },
        {
         "marker": {
          "color": "rgb(77, 255, 184)",
          "line": {
           "color": "rgb(0, 0, 179)",
           "width": 2
          }
         },
         "name": "Credit Graph",
         "type": "bar",
         "x": [
          "1/9/2023",
          "1/9/2023",
          "1/9/2023",
          "1/9/2023",
          "2/9/2023",
          "2/9/2023",
          "2/9/2023",
          "2/9/2023",
          "2/9/2023",
          "2/9/2023",
          "3/9/2023",
          "5/9/2023",
          "5/9/2023",
          "5/9/2023",
          "5/9/2023",
          "6/9/2023",
          "6/9/2023",
          "6/9/2023",
          "6/9/2023",
          "6/9/2023",
          "7/9/2023",
          "8/9/2023",
          "8/9/2023",
          "9/9/2023",
          "11/9/2023",
          "11/9/2023",
          "11/9/2023",
          "11/9/2023",
          "11/9/2023",
          "11/9/2023",
          "11/9/2023",
          "12/9/2023",
          "12/9/2023",
          "12/9/2023",
          "12/9/2023",
          "12/9/2023",
          "12/9/2023",
          "13-09-2023",
          "14-09-2023",
          "14-09-2023",
          "15-09-2023",
          "15-09-2023",
          "15-09-2023",
          "15-09-2023",
          "16-09-2023",
          "17-09-2023",
          "17-09-2023",
          "17-09-2023",
          "19-09-2023",
          "19-09-2023",
          "20-09-2023",
          "21-09-2023",
          "21-09-2023",
          "22-09-2023",
          "22-09-2023",
          "22-09-2023",
          "22-09-2023",
          "22-09-2023",
          "23-09-2023",
          "27-09-2023",
          "27-09-2023",
          "28-09-2023",
          "28-09-2023",
          "29-09-2023",
          "29-09-2023",
          "30-09-2023",
          "30-09-2023",
          "30-09-2023",
          "30-09-2023",
          "30-09-2023",
          "30-09-2023",
          "30-09-2023",
          "1/10/2023"
         ],
         "y": [
          null,
          null,
          null,
          3000,
          null,
          null,
          500,
          null,
          null,
          null,
          null,
          null,
          6000,
          null,
          50,
          null,
          5300,
          4000,
          7300,
          null,
          null,
          500,
          null,
          null,
          null,
          null,
          4200,
          null,
          null,
          null,
          null,
          43500,
          null,
          null,
          null,
          null,
          null,
          null,
          null,
          null,
          null,
          100,
          null,
          null,
          140,
          null,
          null,
          null,
          1000,
          null,
          432,
          null,
          null,
          3600,
          null,
          29000,
          null,
          null,
          null,
          1000,
          null,
          null,
          null,
          27930,
          null,
          1500,
          null,
          null,
          null,
          null,
          null,
          null,
          22
         ]
        }
       ],
       "layout": {
        "barmode": "group",
        "paper_bgcolor": "rgb(217, 242, 217)",
        "plot_bgcolor": "rgb(238, 204, 255)",
        "template": {
         "data": {
          "bar": [
           {
            "error_x": {
             "color": "#2a3f5f"
            },
            "error_y": {
             "color": "#2a3f5f"
            },
            "marker": {
             "line": {
              "color": "#E5ECF6",
              "width": 0.5
             },
             "pattern": {
              "fillmode": "overlay",
              "size": 10,
              "solidity": 0.2
             }
            },
            "type": "bar"
           }
          ],
          "barpolar": [
           {
            "marker": {
             "line": {
              "color": "#E5ECF6",
              "width": 0.5
             },
             "pattern": {
              "fillmode": "overlay",
              "size": 10,
              "solidity": 0.2
             }
            },
            "type": "barpolar"
           }
          ],
          "carpet": [
           {
            "aaxis": {
             "endlinecolor": "#2a3f5f",
             "gridcolor": "white",
             "linecolor": "white",
             "minorgridcolor": "white",
             "startlinecolor": "#2a3f5f"
            },
            "baxis": {
             "endlinecolor": "#2a3f5f",
             "gridcolor": "white",
             "linecolor": "white",
             "minorgridcolor": "white",
             "startlinecolor": "#2a3f5f"
            },
            "type": "carpet"
           }
          ],
          "choropleth": [
           {
            "colorbar": {
             "outlinewidth": 0,
             "ticks": ""
            },
            "type": "choropleth"
           }
          ],
          "contour": [
           {
            "colorbar": {
             "outlinewidth": 0,
             "ticks": ""
            },
            "colorscale": [
             [
              0,
              "#0d0887"
             ],
             [
              0.1111111111111111,
              "#46039f"
             ],
             [
              0.2222222222222222,
              "#7201a8"
             ],
             [
              0.3333333333333333,
              "#9c179e"
             ],
             [
              0.4444444444444444,
              "#bd3786"
             ],
             [
              0.5555555555555556,
              "#d8576b"
             ],
             [
              0.6666666666666666,
              "#ed7953"
             ],
             [
              0.7777777777777778,
              "#fb9f3a"
             ],
             [
              0.8888888888888888,
              "#fdca26"
             ],
             [
              1,
              "#f0f921"
             ]
            ],
            "type": "contour"
           }
          ],
          "contourcarpet": [
           {
            "colorbar": {
             "outlinewidth": 0,
             "ticks": ""
            },
            "type": "contourcarpet"
           }
          ],
          "heatmap": [
           {
            "colorbar": {
             "outlinewidth": 0,
             "ticks": ""
            },
            "colorscale": [
             [
              0,
              "#0d0887"
             ],
             [
              0.1111111111111111,
              "#46039f"
             ],
             [
              0.2222222222222222,
              "#7201a8"
             ],
             [
              0.3333333333333333,
              "#9c179e"
             ],
             [
              0.4444444444444444,
              "#bd3786"
             ],
             [
              0.5555555555555556,
              "#d8576b"
             ],
             [
              0.6666666666666666,
              "#ed7953"
             ],
             [
              0.7777777777777778,
              "#fb9f3a"
             ],
             [
              0.8888888888888888,
              "#fdca26"
             ],
             [
              1,
              "#f0f921"
             ]
            ],
            "type": "heatmap"
           }
          ],
          "heatmapgl": [
           {
            "colorbar": {
             "outlinewidth": 0,
             "ticks": ""
            },
            "colorscale": [
             [
              0,
              "#0d0887"
             ],
             [
              0.1111111111111111,
              "#46039f"
             ],
             [
              0.2222222222222222,
              "#7201a8"
             ],
             [
              0.3333333333333333,
              "#9c179e"
             ],
             [
              0.4444444444444444,
              "#bd3786"
             ],
             [
              0.5555555555555556,
              "#d8576b"
             ],
             [
              0.6666666666666666,
              "#ed7953"
             ],
             [
              0.7777777777777778,
              "#fb9f3a"
             ],
             [
              0.8888888888888888,
              "#fdca26"
             ],
             [
              1,
              "#f0f921"
             ]
            ],
            "type": "heatmapgl"
           }
          ],
          "histogram": [
           {
            "marker": {
             "pattern": {
              "fillmode": "overlay",
              "size": 10,
              "solidity": 0.2
             }
            },
            "type": "histogram"
           }
          ],
          "histogram2d": [
           {
            "colorbar": {
             "outlinewidth": 0,
             "ticks": ""
            },
            "colorscale": [
             [
              0,
              "#0d0887"
             ],
             [
              0.1111111111111111,
              "#46039f"
             ],
             [
              0.2222222222222222,
              "#7201a8"
             ],
             [
              0.3333333333333333,
              "#9c179e"
             ],
             [
              0.4444444444444444,
              "#bd3786"
             ],
             [
              0.5555555555555556,
              "#d8576b"
             ],
             [
              0.6666666666666666,
              "#ed7953"
             ],
             [
              0.7777777777777778,
              "#fb9f3a"
             ],
             [
              0.8888888888888888,
              "#fdca26"
             ],
             [
              1,
              "#f0f921"
             ]
            ],
            "type": "histogram2d"
           }
          ],
          "histogram2dcontour": [
           {
            "colorbar": {
             "outlinewidth": 0,
             "ticks": ""
            },
            "colorscale": [
             [
              0,
              "#0d0887"
             ],
             [
              0.1111111111111111,
              "#46039f"
             ],
             [
              0.2222222222222222,
              "#7201a8"
             ],
             [
              0.3333333333333333,
              "#9c179e"
             ],
             [
              0.4444444444444444,
              "#bd3786"
             ],
             [
              0.5555555555555556,
              "#d8576b"
             ],
             [
              0.6666666666666666,
              "#ed7953"
             ],
             [
              0.7777777777777778,
              "#fb9f3a"
             ],
             [
              0.8888888888888888,
              "#fdca26"
             ],
             [
              1,
              "#f0f921"
             ]
            ],
            "type": "histogram2dcontour"
           }
          ],
          "mesh3d": [
           {
            "colorbar": {
             "outlinewidth": 0,
             "ticks": ""
            },
            "type": "mesh3d"
           }
          ],
          "parcoords": [
           {
            "line": {
             "colorbar": {
              "outlinewidth": 0,
              "ticks": ""
             }
            },
            "type": "parcoords"
           }
          ],
          "pie": [
           {
            "automargin": true,
            "type": "pie"
           }
          ],
          "scatter": [
           {
            "fillpattern": {
             "fillmode": "overlay",
             "size": 10,
             "solidity": 0.2
            },
            "type": "scatter"
           }
          ],
          "scatter3d": [
           {
            "line": {
             "colorbar": {
              "outlinewidth": 0,
              "ticks": ""
             }
            },
            "marker": {
             "colorbar": {
              "outlinewidth": 0,
              "ticks": ""
             }
            },
            "type": "scatter3d"
           }
          ],
          "scattercarpet": [
           {
            "marker": {
             "colorbar": {
              "outlinewidth": 0,
              "ticks": ""
             }
            },
            "type": "scattercarpet"
           }
          ],
          "scattergeo": [
           {
            "marker": {
             "colorbar": {
              "outlinewidth": 0,
              "ticks": ""
             }
            },
            "type": "scattergeo"
           }
          ],
          "scattergl": [
           {
            "marker": {
             "colorbar": {
              "outlinewidth": 0,
              "ticks": ""
             }
            },
            "type": "scattergl"
           }
          ],
          "scattermapbox": [
           {
            "marker": {
             "colorbar": {
              "outlinewidth": 0,
              "ticks": ""
             }
            },
            "type": "scattermapbox"
           }
          ],
          "scatterpolar": [
           {
            "marker": {
             "colorbar": {
              "outlinewidth": 0,
              "ticks": ""
             }
            },
            "type": "scatterpolar"
           }
          ],
          "scatterpolargl": [
           {
            "marker": {
             "colorbar": {
              "outlinewidth": 0,
              "ticks": ""
             }
            },
            "type": "scatterpolargl"
           }
          ],
          "scatterternary": [
           {
            "marker": {
             "colorbar": {
              "outlinewidth": 0,
              "ticks": ""
             }
            },
            "type": "scatterternary"
           }
          ],
          "surface": [
           {
            "colorbar": {
             "outlinewidth": 0,
             "ticks": ""
            },
            "colorscale": [
             [
              0,
              "#0d0887"
             ],
             [
              0.1111111111111111,
              "#46039f"
             ],
             [
              0.2222222222222222,
              "#7201a8"
             ],
             [
              0.3333333333333333,
              "#9c179e"
             ],
             [
              0.4444444444444444,
              "#bd3786"
             ],
             [
              0.5555555555555556,
              "#d8576b"
             ],
             [
              0.6666666666666666,
              "#ed7953"
             ],
             [
              0.7777777777777778,
              "#fb9f3a"
             ],
             [
              0.8888888888888888,
              "#fdca26"
             ],
             [
              1,
              "#f0f921"
             ]
            ],
            "type": "surface"
           }
          ],
          "table": [
           {
            "cells": {
             "fill": {
              "color": "#EBF0F8"
             },
             "line": {
              "color": "white"
             }
            },
            "header": {
             "fill": {
              "color": "#C8D4E3"
             },
             "line": {
              "color": "white"
             }
            },
            "type": "table"
           }
          ]
         },
         "layout": {
          "annotationdefaults": {
           "arrowcolor": "#2a3f5f",
           "arrowhead": 0,
           "arrowwidth": 1
          },
          "autotypenumbers": "strict",
          "coloraxis": {
           "colorbar": {
            "outlinewidth": 0,
            "ticks": ""
           }
          },
          "colorscale": {
           "diverging": [
            [
             0,
             "#8e0152"
            ],
            [
             0.1,
             "#c51b7d"
            ],
            [
             0.2,
             "#de77ae"
            ],
            [
             0.3,
             "#f1b6da"
            ],
            [
             0.4,
             "#fde0ef"
            ],
            [
             0.5,
             "#f7f7f7"
            ],
            [
             0.6,
             "#e6f5d0"
            ],
            [
             0.7,
             "#b8e186"
            ],
            [
             0.8,
             "#7fbc41"
            ],
            [
             0.9,
             "#4d9221"
            ],
            [
             1,
             "#276419"
            ]
           ],
           "sequential": [
            [
             0,
             "#0d0887"
            ],
            [
             0.1111111111111111,
             "#46039f"
            ],
            [
             0.2222222222222222,
             "#7201a8"
            ],
            [
             0.3333333333333333,
             "#9c179e"
            ],
            [
             0.4444444444444444,
             "#bd3786"
            ],
            [
             0.5555555555555556,
             "#d8576b"
            ],
            [
             0.6666666666666666,
             "#ed7953"
            ],
            [
             0.7777777777777778,
             "#fb9f3a"
            ],
            [
             0.8888888888888888,
             "#fdca26"
            ],
            [
             1,
             "#f0f921"
            ]
           ],
           "sequentialminus": [
            [
             0,
             "#0d0887"
            ],
            [
             0.1111111111111111,
             "#46039f"
            ],
            [
             0.2222222222222222,
             "#7201a8"
            ],
            [
             0.3333333333333333,
             "#9c179e"
            ],
            [
             0.4444444444444444,
             "#bd3786"
            ],
            [
             0.5555555555555556,
             "#d8576b"
            ],
            [
             0.6666666666666666,
             "#ed7953"
            ],
            [
             0.7777777777777778,
             "#fb9f3a"
            ],
            [
             0.8888888888888888,
             "#fdca26"
            ],
            [
             1,
             "#f0f921"
            ]
           ]
          },
          "colorway": [
           "#636efa",
           "#EF553B",
           "#00cc96",
           "#ab63fa",
           "#FFA15A",
           "#19d3f3",
           "#FF6692",
           "#B6E880",
           "#FF97FF",
           "#FECB52"
          ],
          "font": {
           "color": "#2a3f5f"
          },
          "geo": {
           "bgcolor": "white",
           "lakecolor": "white",
           "landcolor": "#E5ECF6",
           "showlakes": true,
           "showland": true,
           "subunitcolor": "white"
          },
          "hoverlabel": {
           "align": "left"
          },
          "hovermode": "closest",
          "mapbox": {
           "style": "light"
          },
          "paper_bgcolor": "white",
          "plot_bgcolor": "#E5ECF6",
          "polar": {
           "angularaxis": {
            "gridcolor": "white",
            "linecolor": "white",
            "ticks": ""
           },
           "bgcolor": "#E5ECF6",
           "radialaxis": {
            "gridcolor": "white",
            "linecolor": "white",
            "ticks": ""
           }
          },
          "scene": {
           "xaxis": {
            "backgroundcolor": "#E5ECF6",
            "gridcolor": "white",
            "gridwidth": 2,
            "linecolor": "white",
            "showbackground": true,
            "ticks": "",
            "zerolinecolor": "white"
           },
           "yaxis": {
            "backgroundcolor": "#E5ECF6",
            "gridcolor": "white",
            "gridwidth": 2,
            "linecolor": "white",
            "showbackground": true,
            "ticks": "",
            "zerolinecolor": "white"
           },
           "zaxis": {
            "backgroundcolor": "#E5ECF6",
            "gridcolor": "white",
            "gridwidth": 2,
            "linecolor": "white",
            "showbackground": true,
            "ticks": "",
            "zerolinecolor": "white"
           }
          },
          "shapedefaults": {
           "line": {
            "color": "#2a3f5f"
           }
          },
          "ternary": {
           "aaxis": {
            "gridcolor": "white",
            "linecolor": "white",
            "ticks": ""
           },
           "baxis": {
            "gridcolor": "white",
            "linecolor": "white",
            "ticks": ""
           },
           "bgcolor": "#E5ECF6",
           "caxis": {
            "gridcolor": "white",
            "linecolor": "white",
            "ticks": ""
           }
          },
          "title": {
           "x": 0.05
          },
          "xaxis": {
           "automargin": true,
           "gridcolor": "white",
           "linecolor": "white",
           "ticks": "",
           "title": {
            "standoff": 15
           },
           "zerolinecolor": "white",
           "zerolinewidth": 2
          },
          "yaxis": {
           "automargin": true,
           "gridcolor": "white",
           "linecolor": "white",
           "ticks": "",
           "title": {
            "standoff": 15
           },
           "zerolinecolor": "white",
           "zerolinewidth": 2
          }
         }
        },
        "title": {
         "font": {
          "color": "green",
          "size": 20
         },
         "text": "<b>Credit and Debit graph</b>",
         "x": 0.5,
         "y": 0.9
        },
        "xaxis": {
         "color": "red",
         "tickangle": -45,
         "title": {
          "text": "DATE"
         }
        },
        "yaxis": {
         "color": "red",
         "range": [
          0,
          50000
         ],
         "title": {
          "text": "MONEY"
         }
        }
       }
      },
      "text/html": [
       "<div>                            <div id=\"6a2541e2-039f-4125-8430-3662dbe44906\" class=\"plotly-graph-div\" style=\"height:525px; width:100%;\"></div>            <script type=\"text/javascript\">                require([\"plotly\"], function(Plotly) {                    window.PLOTLYENV=window.PLOTLYENV || {};                                    if (document.getElementById(\"6a2541e2-039f-4125-8430-3662dbe44906\")) {                    Plotly.newPlot(                        \"6a2541e2-039f-4125-8430-3662dbe44906\",                        [{\"marker\":{\"color\":\"rgb(255, 71, 26)\",\"line\":{\"color\":\"rgb(204, 41, 0)\",\"width\":2}},\"name\":\"Debit Graph\",\"x\":[\"1/9/2023\",\"1/9/2023\",\"1/9/2023\",\"1/9/2023\",\"2/9/2023\",\"2/9/2023\",\"2/9/2023\",\"2/9/2023\",\"2/9/2023\",\"2/9/2023\",\"3/9/2023\",\"5/9/2023\",\"5/9/2023\",\"5/9/2023\",\"5/9/2023\",\"6/9/2023\",\"6/9/2023\",\"6/9/2023\",\"6/9/2023\",\"6/9/2023\",\"7/9/2023\",\"8/9/2023\",\"8/9/2023\",\"9/9/2023\",\"11/9/2023\",\"11/9/2023\",\"11/9/2023\",\"11/9/2023\",\"11/9/2023\",\"11/9/2023\",\"11/9/2023\",\"12/9/2023\",\"12/9/2023\",\"12/9/2023\",\"12/9/2023\",\"12/9/2023\",\"12/9/2023\",\"13-09-2023\",\"14-09-2023\",\"14-09-2023\",\"15-09-2023\",\"15-09-2023\",\"15-09-2023\",\"15-09-2023\",\"16-09-2023\",\"17-09-2023\",\"17-09-2023\",\"17-09-2023\",\"19-09-2023\",\"19-09-2023\",\"20-09-2023\",\"21-09-2023\",\"21-09-2023\",\"22-09-2023\",\"22-09-2023\",\"22-09-2023\",\"22-09-2023\",\"22-09-2023\",\"23-09-2023\",\"27-09-2023\",\"27-09-2023\",\"28-09-2023\",\"28-09-2023\",\"29-09-2023\",\"29-09-2023\",\"30-09-2023\",\"30-09-2023\",\"30-09-2023\",\"30-09-2023\",\"30-09-2023\",\"30-09-2023\",\"30-09-2023\",\"1/10/2023\"],\"y\":[239.0,500.0,5000.0,null,8850.0,600.0,null,6000.0,3000.0,169.0,610.0,1000.0,null,6300.0,null,100.0,null,null,null,16600.0,30.0,null,100.0,160.0,155.0,155.0,null,600.0,2070.0,200.0,104.0,null,5000.0,200.0,10000.0,8000.0,10000.0,260.0,2000.0,8000.0,1272.0,null,40.0,15.0,null,20.0,150.0,30.0,null,100.0,null,40.0,30.0,null,3000.0,null,29000.0,255.0,1000.0,null,1500.0,101.0,80.0,null,40.0,null,5000.0,400.0,5000.0,283.56,50.0,600.0,null],\"type\":\"bar\"},{\"marker\":{\"color\":\"rgb(77, 255, 184)\",\"line\":{\"color\":\"rgb(0, 0, 179)\",\"width\":2}},\"name\":\"Credit Graph\",\"x\":[\"1/9/2023\",\"1/9/2023\",\"1/9/2023\",\"1/9/2023\",\"2/9/2023\",\"2/9/2023\",\"2/9/2023\",\"2/9/2023\",\"2/9/2023\",\"2/9/2023\",\"3/9/2023\",\"5/9/2023\",\"5/9/2023\",\"5/9/2023\",\"5/9/2023\",\"6/9/2023\",\"6/9/2023\",\"6/9/2023\",\"6/9/2023\",\"6/9/2023\",\"7/9/2023\",\"8/9/2023\",\"8/9/2023\",\"9/9/2023\",\"11/9/2023\",\"11/9/2023\",\"11/9/2023\",\"11/9/2023\",\"11/9/2023\",\"11/9/2023\",\"11/9/2023\",\"12/9/2023\",\"12/9/2023\",\"12/9/2023\",\"12/9/2023\",\"12/9/2023\",\"12/9/2023\",\"13-09-2023\",\"14-09-2023\",\"14-09-2023\",\"15-09-2023\",\"15-09-2023\",\"15-09-2023\",\"15-09-2023\",\"16-09-2023\",\"17-09-2023\",\"17-09-2023\",\"17-09-2023\",\"19-09-2023\",\"19-09-2023\",\"20-09-2023\",\"21-09-2023\",\"21-09-2023\",\"22-09-2023\",\"22-09-2023\",\"22-09-2023\",\"22-09-2023\",\"22-09-2023\",\"23-09-2023\",\"27-09-2023\",\"27-09-2023\",\"28-09-2023\",\"28-09-2023\",\"29-09-2023\",\"29-09-2023\",\"30-09-2023\",\"30-09-2023\",\"30-09-2023\",\"30-09-2023\",\"30-09-2023\",\"30-09-2023\",\"30-09-2023\",\"1/10/2023\"],\"y\":[null,null,null,3000.0,null,null,500.0,null,null,null,null,null,6000.0,null,50.0,null,5300.0,4000.0,7300.0,null,null,500.0,null,null,null,null,4200.0,null,null,null,null,43500.0,null,null,null,null,null,null,null,null,null,100.0,null,null,140.0,null,null,null,1000.0,null,432.0,null,null,3600.0,null,29000.0,null,null,null,1000.0,null,null,null,27930.0,null,1500.0,null,null,null,null,null,null,22.0],\"type\":\"bar\"}],                        {\"barmode\":\"group\",\"paper_bgcolor\":\"rgb(217, 242, 217)\",\"plot_bgcolor\":\"rgb(238, 204, 255)\",\"title\":{\"font\":{\"color\":\"green\",\"size\":20},\"text\":\"<b>Credit and Debit graph</b>\",\"x\":0.5,\"y\":0.9},\"xaxis\":{\"color\":\"red\",\"tickangle\":-45,\"title\":{\"text\":\"DATE\"}},\"yaxis\":{\"color\":\"red\",\"range\":[0,50000],\"title\":{\"text\":\"MONEY\"}},\"template\":{\"data\":{\"histogram2dcontour\":[{\"type\":\"histogram2dcontour\",\"colorbar\":{\"outlinewidth\":0,\"ticks\":\"\"},\"colorscale\":[[0.0,\"#0d0887\"],[0.1111111111111111,\"#46039f\"],[0.2222222222222222,\"#7201a8\"],[0.3333333333333333,\"#9c179e\"],[0.4444444444444444,\"#bd3786\"],[0.5555555555555556,\"#d8576b\"],[0.6666666666666666,\"#ed7953\"],[0.7777777777777778,\"#fb9f3a\"],[0.8888888888888888,\"#fdca26\"],[1.0,\"#f0f921\"]]}],\"choropleth\":[{\"type\":\"choropleth\",\"colorbar\":{\"outlinewidth\":0,\"ticks\":\"\"}}],\"histogram2d\":[{\"type\":\"histogram2d\",\"colorbar\":{\"outlinewidth\":0,\"ticks\":\"\"},\"colorscale\":[[0.0,\"#0d0887\"],[0.1111111111111111,\"#46039f\"],[0.2222222222222222,\"#7201a8\"],[0.3333333333333333,\"#9c179e\"],[0.4444444444444444,\"#bd3786\"],[0.5555555555555556,\"#d8576b\"],[0.6666666666666666,\"#ed7953\"],[0.7777777777777778,\"#fb9f3a\"],[0.8888888888888888,\"#fdca26\"],[1.0,\"#f0f921\"]]}],\"heatmap\":[{\"type\":\"heatmap\",\"colorbar\":{\"outlinewidth\":0,\"ticks\":\"\"},\"colorscale\":[[0.0,\"#0d0887\"],[0.1111111111111111,\"#46039f\"],[0.2222222222222222,\"#7201a8\"],[0.3333333333333333,\"#9c179e\"],[0.4444444444444444,\"#bd3786\"],[0.5555555555555556,\"#d8576b\"],[0.6666666666666666,\"#ed7953\"],[0.7777777777777778,\"#fb9f3a\"],[0.8888888888888888,\"#fdca26\"],[1.0,\"#f0f921\"]]}],\"heatmapgl\":[{\"type\":\"heatmapgl\",\"colorbar\":{\"outlinewidth\":0,\"ticks\":\"\"},\"colorscale\":[[0.0,\"#0d0887\"],[0.1111111111111111,\"#46039f\"],[0.2222222222222222,\"#7201a8\"],[0.3333333333333333,\"#9c179e\"],[0.4444444444444444,\"#bd3786\"],[0.5555555555555556,\"#d8576b\"],[0.6666666666666666,\"#ed7953\"],[0.7777777777777778,\"#fb9f3a\"],[0.8888888888888888,\"#fdca26\"],[1.0,\"#f0f921\"]]}],\"contourcarpet\":[{\"type\":\"contourcarpet\",\"colorbar\":{\"outlinewidth\":0,\"ticks\":\"\"}}],\"contour\":[{\"type\":\"contour\",\"colorbar\":{\"outlinewidth\":0,\"ticks\":\"\"},\"colorscale\":[[0.0,\"#0d0887\"],[0.1111111111111111,\"#46039f\"],[0.2222222222222222,\"#7201a8\"],[0.3333333333333333,\"#9c179e\"],[0.4444444444444444,\"#bd3786\"],[0.5555555555555556,\"#d8576b\"],[0.6666666666666666,\"#ed7953\"],[0.7777777777777778,\"#fb9f3a\"],[0.8888888888888888,\"#fdca26\"],[1.0,\"#f0f921\"]]}],\"surface\":[{\"type\":\"surface\",\"colorbar\":{\"outlinewidth\":0,\"ticks\":\"\"},\"colorscale\":[[0.0,\"#0d0887\"],[0.1111111111111111,\"#46039f\"],[0.2222222222222222,\"#7201a8\"],[0.3333333333333333,\"#9c179e\"],[0.4444444444444444,\"#bd3786\"],[0.5555555555555556,\"#d8576b\"],[0.6666666666666666,\"#ed7953\"],[0.7777777777777778,\"#fb9f3a\"],[0.8888888888888888,\"#fdca26\"],[1.0,\"#f0f921\"]]}],\"mesh3d\":[{\"type\":\"mesh3d\",\"colorbar\":{\"outlinewidth\":0,\"ticks\":\"\"}}],\"scatter\":[{\"fillpattern\":{\"fillmode\":\"overlay\",\"size\":10,\"solidity\":0.2},\"type\":\"scatter\"}],\"parcoords\":[{\"type\":\"parcoords\",\"line\":{\"colorbar\":{\"outlinewidth\":0,\"ticks\":\"\"}}}],\"scatterpolargl\":[{\"type\":\"scatterpolargl\",\"marker\":{\"colorbar\":{\"outlinewidth\":0,\"ticks\":\"\"}}}],\"bar\":[{\"error_x\":{\"color\":\"#2a3f5f\"},\"error_y\":{\"color\":\"#2a3f5f\"},\"marker\":{\"line\":{\"color\":\"#E5ECF6\",\"width\":0.5},\"pattern\":{\"fillmode\":\"overlay\",\"size\":10,\"solidity\":0.2}},\"type\":\"bar\"}],\"scattergeo\":[{\"type\":\"scattergeo\",\"marker\":{\"colorbar\":{\"outlinewidth\":0,\"ticks\":\"\"}}}],\"scatterpolar\":[{\"type\":\"scatterpolar\",\"marker\":{\"colorbar\":{\"outlinewidth\":0,\"ticks\":\"\"}}}],\"histogram\":[{\"marker\":{\"pattern\":{\"fillmode\":\"overlay\",\"size\":10,\"solidity\":0.2}},\"type\":\"histogram\"}],\"scattergl\":[{\"type\":\"scattergl\",\"marker\":{\"colorbar\":{\"outlinewidth\":0,\"ticks\":\"\"}}}],\"scatter3d\":[{\"type\":\"scatter3d\",\"line\":{\"colorbar\":{\"outlinewidth\":0,\"ticks\":\"\"}},\"marker\":{\"colorbar\":{\"outlinewidth\":0,\"ticks\":\"\"}}}],\"scattermapbox\":[{\"type\":\"scattermapbox\",\"marker\":{\"colorbar\":{\"outlinewidth\":0,\"ticks\":\"\"}}}],\"scatterternary\":[{\"type\":\"scatterternary\",\"marker\":{\"colorbar\":{\"outlinewidth\":0,\"ticks\":\"\"}}}],\"scattercarpet\":[{\"type\":\"scattercarpet\",\"marker\":{\"colorbar\":{\"outlinewidth\":0,\"ticks\":\"\"}}}],\"carpet\":[{\"aaxis\":{\"endlinecolor\":\"#2a3f5f\",\"gridcolor\":\"white\",\"linecolor\":\"white\",\"minorgridcolor\":\"white\",\"startlinecolor\":\"#2a3f5f\"},\"baxis\":{\"endlinecolor\":\"#2a3f5f\",\"gridcolor\":\"white\",\"linecolor\":\"white\",\"minorgridcolor\":\"white\",\"startlinecolor\":\"#2a3f5f\"},\"type\":\"carpet\"}],\"table\":[{\"cells\":{\"fill\":{\"color\":\"#EBF0F8\"},\"line\":{\"color\":\"white\"}},\"header\":{\"fill\":{\"color\":\"#C8D4E3\"},\"line\":{\"color\":\"white\"}},\"type\":\"table\"}],\"barpolar\":[{\"marker\":{\"line\":{\"color\":\"#E5ECF6\",\"width\":0.5},\"pattern\":{\"fillmode\":\"overlay\",\"size\":10,\"solidity\":0.2}},\"type\":\"barpolar\"}],\"pie\":[{\"automargin\":true,\"type\":\"pie\"}]},\"layout\":{\"autotypenumbers\":\"strict\",\"colorway\":[\"#636efa\",\"#EF553B\",\"#00cc96\",\"#ab63fa\",\"#FFA15A\",\"#19d3f3\",\"#FF6692\",\"#B6E880\",\"#FF97FF\",\"#FECB52\"],\"font\":{\"color\":\"#2a3f5f\"},\"hovermode\":\"closest\",\"hoverlabel\":{\"align\":\"left\"},\"paper_bgcolor\":\"white\",\"plot_bgcolor\":\"#E5ECF6\",\"polar\":{\"bgcolor\":\"#E5ECF6\",\"angularaxis\":{\"gridcolor\":\"white\",\"linecolor\":\"white\",\"ticks\":\"\"},\"radialaxis\":{\"gridcolor\":\"white\",\"linecolor\":\"white\",\"ticks\":\"\"}},\"ternary\":{\"bgcolor\":\"#E5ECF6\",\"aaxis\":{\"gridcolor\":\"white\",\"linecolor\":\"white\",\"ticks\":\"\"},\"baxis\":{\"gridcolor\":\"white\",\"linecolor\":\"white\",\"ticks\":\"\"},\"caxis\":{\"gridcolor\":\"white\",\"linecolor\":\"white\",\"ticks\":\"\"}},\"coloraxis\":{\"colorbar\":{\"outlinewidth\":0,\"ticks\":\"\"}},\"colorscale\":{\"sequential\":[[0.0,\"#0d0887\"],[0.1111111111111111,\"#46039f\"],[0.2222222222222222,\"#7201a8\"],[0.3333333333333333,\"#9c179e\"],[0.4444444444444444,\"#bd3786\"],[0.5555555555555556,\"#d8576b\"],[0.6666666666666666,\"#ed7953\"],[0.7777777777777778,\"#fb9f3a\"],[0.8888888888888888,\"#fdca26\"],[1.0,\"#f0f921\"]],\"sequentialminus\":[[0.0,\"#0d0887\"],[0.1111111111111111,\"#46039f\"],[0.2222222222222222,\"#7201a8\"],[0.3333333333333333,\"#9c179e\"],[0.4444444444444444,\"#bd3786\"],[0.5555555555555556,\"#d8576b\"],[0.6666666666666666,\"#ed7953\"],[0.7777777777777778,\"#fb9f3a\"],[0.8888888888888888,\"#fdca26\"],[1.0,\"#f0f921\"]],\"diverging\":[[0,\"#8e0152\"],[0.1,\"#c51b7d\"],[0.2,\"#de77ae\"],[0.3,\"#f1b6da\"],[0.4,\"#fde0ef\"],[0.5,\"#f7f7f7\"],[0.6,\"#e6f5d0\"],[0.7,\"#b8e186\"],[0.8,\"#7fbc41\"],[0.9,\"#4d9221\"],[1,\"#276419\"]]},\"xaxis\":{\"gridcolor\":\"white\",\"linecolor\":\"white\",\"ticks\":\"\",\"title\":{\"standoff\":15},\"zerolinecolor\":\"white\",\"automargin\":true,\"zerolinewidth\":2},\"yaxis\":{\"gridcolor\":\"white\",\"linecolor\":\"white\",\"ticks\":\"\",\"title\":{\"standoff\":15},\"zerolinecolor\":\"white\",\"automargin\":true,\"zerolinewidth\":2},\"scene\":{\"xaxis\":{\"backgroundcolor\":\"#E5ECF6\",\"gridcolor\":\"white\",\"linecolor\":\"white\",\"showbackground\":true,\"ticks\":\"\",\"zerolinecolor\":\"white\",\"gridwidth\":2},\"yaxis\":{\"backgroundcolor\":\"#E5ECF6\",\"gridcolor\":\"white\",\"linecolor\":\"white\",\"showbackground\":true,\"ticks\":\"\",\"zerolinecolor\":\"white\",\"gridwidth\":2},\"zaxis\":{\"backgroundcolor\":\"#E5ECF6\",\"gridcolor\":\"white\",\"linecolor\":\"white\",\"showbackground\":true,\"ticks\":\"\",\"zerolinecolor\":\"white\",\"gridwidth\":2}},\"shapedefaults\":{\"line\":{\"color\":\"#2a3f5f\"}},\"annotationdefaults\":{\"arrowcolor\":\"#2a3f5f\",\"arrowhead\":0,\"arrowwidth\":1},\"geo\":{\"bgcolor\":\"white\",\"landcolor\":\"#E5ECF6\",\"subunitcolor\":\"white\",\"showland\":true,\"showlakes\":true,\"lakecolor\":\"white\"},\"title\":{\"x\":0.05},\"mapbox\":{\"style\":\"light\"}}}},                        {\"responsive\": true}                    ).then(function(){\n",
       "                            \n",
       "var gd = document.getElementById('6a2541e2-039f-4125-8430-3662dbe44906');\n",
       "var x = new MutationObserver(function (mutations, observer) {{\n",
       "        var display = window.getComputedStyle(gd).display;\n",
       "        if (!display || display === 'none') {{\n",
       "            console.log([gd, 'removed!']);\n",
       "            Plotly.purge(gd);\n",
       "            observer.disconnect();\n",
       "        }}\n",
       "}});\n",
       "\n",
       "// Listen for the removal of the full notebook cells\n",
       "var notebookContainer = gd.closest('#notebook-container');\n",
       "if (notebookContainer) {{\n",
       "    x.observe(notebookContainer, {childList: true});\n",
       "}}\n",
       "\n",
       "// Listen for the clearing of the current output cell\n",
       "var outputEl = gd.closest('.output');\n",
       "if (outputEl) {{\n",
       "    x.observe(outputEl, {childList: true});\n",
       "}}\n",
       "\n",
       "                        })                };                });            </script>        </div>"
      ]
     },
     "metadata": {},
     "output_type": "display_data"
    }
   ],
   "source": [
    "#draw the graph for Date and credit and debit\n",
    "from plotly.offline import plot\n",
    "import plotly.graph_objs as go\n",
    "trace=go.Bar(\n",
    "x=df1['Date'],\n",
    "y=df1['Debit'],\n",
    "name=\"Debit Graph\",\n",
    "marker=dict(\n",
    "color='rgb(255, 71, 26)',\n",
    "line=dict(\n",
    "color='rgb(204, 41, 0)',\n",
    "width=2\n",
    "),\n",
    ")\n",
    ")\n",
    "trace1=go.Bar(\n",
    "x=df1['Date'],\n",
    "y=df1['Credit'],\n",
    "name=\"Credit Graph\",\n",
    "marker=dict(\n",
    "color='rgb(77, 255, 184)',\n",
    "line=dict(\n",
    "color='rgb(0, 0, 179)',\n",
    "width=2\n",
    "),\n",
    ")\n",
    ")\n",
    "layout=go.Layout(\n",
    "plot_bgcolor='rgb(238, 204, 255)',\n",
    "paper_bgcolor='rgb(217, 242, 217)',\n",
    "title=dict(text=\"<b>Credit and Debit graph</b>\",x=0.5,y=0.9,font=dict(color=\"green\",size=20)),\n",
    "barmode='group',\n",
    "yaxis=dict(range=[0,50000],title='MONEY',color=\"red\"),\n",
    "xaxis=dict(title='DATE',color=\"red\",tickangle=-45)\n",
    ")\n",
    "fig=go.Figure([trace,trace1],layout=layout)\n",
    "fig.show()"
   ]
  },
  {
   "cell_type": "code",
   "execution_count": 206,
   "id": "80821fac",
   "metadata": {},
   "outputs": [
    {
     "name": "stdout",
     "output_type": "stream",
     "text": [
      "               Debit   Credit\n",
      "Date                         \n",
      "1/10/2023       0.00     22.0\n",
      "1/9/2023     5739.00   3000.0\n",
      "11/9/2023    3284.00   4200.0\n",
      "12/9/2023   33200.00  43500.0\n",
      "13-09-2023    260.00      0.0\n",
      "14-09-2023  10000.00      0.0\n",
      "15-09-2023   1327.00    100.0\n",
      "16-09-2023      0.00    140.0\n",
      "17-09-2023    200.00      0.0\n",
      "19-09-2023    100.00   1000.0\n",
      "2/9/2023    18619.00    500.0\n",
      "20-09-2023      0.00    432.0\n",
      "21-09-2023     70.00      0.0\n",
      "22-09-2023  32255.00  32600.0\n",
      "23-09-2023   1000.00      0.0\n",
      "27-09-2023   1500.00   1000.0\n",
      "28-09-2023    181.00      0.0\n",
      "29-09-2023     40.00  27930.0\n",
      "3/9/2023      610.00      0.0\n",
      "30-09-2023  11333.56   1500.0\n",
      "5/9/2023     7300.00   6050.0\n",
      "6/9/2023    16700.00  16600.0\n",
      "7/9/2023       30.00      0.0\n",
      "8/9/2023      100.00    500.0\n",
      "9/9/2023      160.00      0.0\n"
     ]
    },
    {
     "name": "stderr",
     "output_type": "stream",
     "text": [
      "C:\\Users\\Admin\\AppData\\Local\\Temp\\ipykernel_820\\582198024.py:2: FutureWarning:\n",
      "\n",
      "Indexing with multiple keys (implicitly converted to a tuple of keys) will be deprecated, use a list instead.\n",
      "\n"
     ]
    }
   ],
   "source": [
    "#find out sum of every day tranctions\n",
    "data=df1.groupby(['Date'])['Debit','Credit'].sum()\n",
    "print(data)"
   ]
  },
  {
   "cell_type": "code",
   "execution_count": 211,
   "id": "ae53ec58",
   "metadata": {},
   "outputs": [
    {
     "data": {
      "text/html": [
       "<div>\n",
       "<style scoped>\n",
       "    .dataframe tbody tr th:only-of-type {\n",
       "        vertical-align: middle;\n",
       "    }\n",
       "\n",
       "    .dataframe tbody tr th {\n",
       "        vertical-align: top;\n",
       "    }\n",
       "\n",
       "    .dataframe thead th {\n",
       "        text-align: right;\n",
       "    }\n",
       "</style>\n",
       "<table border=\"1\" class=\"dataframe\">\n",
       "  <thead>\n",
       "    <tr style=\"text-align: right;\">\n",
       "      <th></th>\n",
       "      <th>Date</th>\n",
       "      <th>Debit</th>\n",
       "      <th>Credit</th>\n",
       "    </tr>\n",
       "  </thead>\n",
       "  <tbody>\n",
       "    <tr>\n",
       "      <th>0</th>\n",
       "      <td>1/10/2023</td>\n",
       "      <td>0.00</td>\n",
       "      <td>22.0</td>\n",
       "    </tr>\n",
       "    <tr>\n",
       "      <th>1</th>\n",
       "      <td>1/9/2023</td>\n",
       "      <td>5739.00</td>\n",
       "      <td>3000.0</td>\n",
       "    </tr>\n",
       "    <tr>\n",
       "      <th>2</th>\n",
       "      <td>11/9/2023</td>\n",
       "      <td>3284.00</td>\n",
       "      <td>4200.0</td>\n",
       "    </tr>\n",
       "    <tr>\n",
       "      <th>3</th>\n",
       "      <td>12/9/2023</td>\n",
       "      <td>33200.00</td>\n",
       "      <td>43500.0</td>\n",
       "    </tr>\n",
       "    <tr>\n",
       "      <th>4</th>\n",
       "      <td>13-09-2023</td>\n",
       "      <td>260.00</td>\n",
       "      <td>0.0</td>\n",
       "    </tr>\n",
       "    <tr>\n",
       "      <th>5</th>\n",
       "      <td>14-09-2023</td>\n",
       "      <td>10000.00</td>\n",
       "      <td>0.0</td>\n",
       "    </tr>\n",
       "    <tr>\n",
       "      <th>6</th>\n",
       "      <td>15-09-2023</td>\n",
       "      <td>1327.00</td>\n",
       "      <td>100.0</td>\n",
       "    </tr>\n",
       "    <tr>\n",
       "      <th>7</th>\n",
       "      <td>16-09-2023</td>\n",
       "      <td>0.00</td>\n",
       "      <td>140.0</td>\n",
       "    </tr>\n",
       "    <tr>\n",
       "      <th>8</th>\n",
       "      <td>17-09-2023</td>\n",
       "      <td>200.00</td>\n",
       "      <td>0.0</td>\n",
       "    </tr>\n",
       "    <tr>\n",
       "      <th>9</th>\n",
       "      <td>19-09-2023</td>\n",
       "      <td>100.00</td>\n",
       "      <td>1000.0</td>\n",
       "    </tr>\n",
       "    <tr>\n",
       "      <th>10</th>\n",
       "      <td>2/9/2023</td>\n",
       "      <td>18619.00</td>\n",
       "      <td>500.0</td>\n",
       "    </tr>\n",
       "    <tr>\n",
       "      <th>11</th>\n",
       "      <td>20-09-2023</td>\n",
       "      <td>0.00</td>\n",
       "      <td>432.0</td>\n",
       "    </tr>\n",
       "    <tr>\n",
       "      <th>12</th>\n",
       "      <td>21-09-2023</td>\n",
       "      <td>70.00</td>\n",
       "      <td>0.0</td>\n",
       "    </tr>\n",
       "    <tr>\n",
       "      <th>13</th>\n",
       "      <td>22-09-2023</td>\n",
       "      <td>32255.00</td>\n",
       "      <td>32600.0</td>\n",
       "    </tr>\n",
       "    <tr>\n",
       "      <th>14</th>\n",
       "      <td>23-09-2023</td>\n",
       "      <td>1000.00</td>\n",
       "      <td>0.0</td>\n",
       "    </tr>\n",
       "    <tr>\n",
       "      <th>15</th>\n",
       "      <td>27-09-2023</td>\n",
       "      <td>1500.00</td>\n",
       "      <td>1000.0</td>\n",
       "    </tr>\n",
       "    <tr>\n",
       "      <th>16</th>\n",
       "      <td>28-09-2023</td>\n",
       "      <td>181.00</td>\n",
       "      <td>0.0</td>\n",
       "    </tr>\n",
       "    <tr>\n",
       "      <th>17</th>\n",
       "      <td>29-09-2023</td>\n",
       "      <td>40.00</td>\n",
       "      <td>27930.0</td>\n",
       "    </tr>\n",
       "    <tr>\n",
       "      <th>18</th>\n",
       "      <td>3/9/2023</td>\n",
       "      <td>610.00</td>\n",
       "      <td>0.0</td>\n",
       "    </tr>\n",
       "    <tr>\n",
       "      <th>19</th>\n",
       "      <td>30-09-2023</td>\n",
       "      <td>11333.56</td>\n",
       "      <td>1500.0</td>\n",
       "    </tr>\n",
       "    <tr>\n",
       "      <th>20</th>\n",
       "      <td>5/9/2023</td>\n",
       "      <td>7300.00</td>\n",
       "      <td>6050.0</td>\n",
       "    </tr>\n",
       "    <tr>\n",
       "      <th>21</th>\n",
       "      <td>6/9/2023</td>\n",
       "      <td>16700.00</td>\n",
       "      <td>16600.0</td>\n",
       "    </tr>\n",
       "    <tr>\n",
       "      <th>22</th>\n",
       "      <td>7/9/2023</td>\n",
       "      <td>30.00</td>\n",
       "      <td>0.0</td>\n",
       "    </tr>\n",
       "    <tr>\n",
       "      <th>23</th>\n",
       "      <td>8/9/2023</td>\n",
       "      <td>100.00</td>\n",
       "      <td>500.0</td>\n",
       "    </tr>\n",
       "    <tr>\n",
       "      <th>24</th>\n",
       "      <td>9/9/2023</td>\n",
       "      <td>160.00</td>\n",
       "      <td>0.0</td>\n",
       "    </tr>\n",
       "  </tbody>\n",
       "</table>\n",
       "</div>"
      ],
      "text/plain": [
       "          Date     Debit   Credit\n",
       "0    1/10/2023      0.00     22.0\n",
       "1     1/9/2023   5739.00   3000.0\n",
       "2    11/9/2023   3284.00   4200.0\n",
       "3    12/9/2023  33200.00  43500.0\n",
       "4   13-09-2023    260.00      0.0\n",
       "5   14-09-2023  10000.00      0.0\n",
       "6   15-09-2023   1327.00    100.0\n",
       "7   16-09-2023      0.00    140.0\n",
       "8   17-09-2023    200.00      0.0\n",
       "9   19-09-2023    100.00   1000.0\n",
       "10    2/9/2023  18619.00    500.0\n",
       "11  20-09-2023      0.00    432.0\n",
       "12  21-09-2023     70.00      0.0\n",
       "13  22-09-2023  32255.00  32600.0\n",
       "14  23-09-2023   1000.00      0.0\n",
       "15  27-09-2023   1500.00   1000.0\n",
       "16  28-09-2023    181.00      0.0\n",
       "17  29-09-2023     40.00  27930.0\n",
       "18    3/9/2023    610.00      0.0\n",
       "19  30-09-2023  11333.56   1500.0\n",
       "20    5/9/2023   7300.00   6050.0\n",
       "21    6/9/2023  16700.00  16600.0\n",
       "22    7/9/2023     30.00      0.0\n",
       "23    8/9/2023    100.00    500.0\n",
       "24    9/9/2023    160.00      0.0"
      ]
     },
     "execution_count": 211,
     "metadata": {},
     "output_type": "execute_result"
    }
   ],
   "source": [
    "#draw the graph for sum of every day tranctions\n",
    "#change data(sum values) to dataframe\n",
    "sd=pd.DataFrame(data)\n",
    "#reset the index as default\n",
    "sd1=sd.reset_index()\n",
    "sd1"
   ]
  },
  {
   "cell_type": "code",
   "execution_count": 221,
   "id": "81796199",
   "metadata": {},
   "outputs": [
    {
     "data": {
      "application/vnd.plotly.v1+json": {
       "config": {
        "plotlyServerURL": "https://plot.ly"
       },
       "data": [
        {
         "marker": {
          "color": "rgb(255, 71, 26)",
          "line": {
           "color": "rgb(204, 41, 0)",
           "width": 2
          }
         },
         "name": "Debit Graph",
         "text": [
          0,
          5739,
          3284,
          33200,
          260,
          10000,
          1327,
          0,
          200,
          100,
          18619,
          0,
          70,
          32255,
          1000,
          1500,
          181,
          40,
          610,
          11333.56,
          7300,
          16700,
          30,
          100,
          160
         ],
         "type": "bar",
         "x": [
          "1/10/2023",
          "1/9/2023",
          "11/9/2023",
          "12/9/2023",
          "13-09-2023",
          "14-09-2023",
          "15-09-2023",
          "16-09-2023",
          "17-09-2023",
          "19-09-2023",
          "2/9/2023",
          "20-09-2023",
          "21-09-2023",
          "22-09-2023",
          "23-09-2023",
          "27-09-2023",
          "28-09-2023",
          "29-09-2023",
          "3/9/2023",
          "30-09-2023",
          "5/9/2023",
          "6/9/2023",
          "7/9/2023",
          "8/9/2023",
          "9/9/2023"
         ],
         "y": [
          0,
          5739,
          3284,
          33200,
          260,
          10000,
          1327,
          0,
          200,
          100,
          18619,
          0,
          70,
          32255,
          1000,
          1500,
          181,
          40,
          610,
          11333.56,
          7300,
          16700,
          30,
          100,
          160
         ]
        },
        {
         "marker": {
          "color": "rgb(77, 255, 184)",
          "line": {
           "color": "rgb(0, 0, 179)",
           "width": 2
          }
         },
         "name": "Credit Graph",
         "text": [
          22,
          3000,
          4200,
          43500,
          0,
          0,
          100,
          140,
          0,
          1000,
          500,
          432,
          0,
          32600,
          0,
          1000,
          0,
          27930,
          0,
          1500,
          6050,
          16600,
          0,
          500,
          0
         ],
         "type": "bar",
         "x": [
          "1/10/2023",
          "1/9/2023",
          "11/9/2023",
          "12/9/2023",
          "13-09-2023",
          "14-09-2023",
          "15-09-2023",
          "16-09-2023",
          "17-09-2023",
          "19-09-2023",
          "2/9/2023",
          "20-09-2023",
          "21-09-2023",
          "22-09-2023",
          "23-09-2023",
          "27-09-2023",
          "28-09-2023",
          "29-09-2023",
          "3/9/2023",
          "30-09-2023",
          "5/9/2023",
          "6/9/2023",
          "7/9/2023",
          "8/9/2023",
          "9/9/2023"
         ],
         "y": [
          22,
          3000,
          4200,
          43500,
          0,
          0,
          100,
          140,
          0,
          1000,
          500,
          432,
          0,
          32600,
          0,
          1000,
          0,
          27930,
          0,
          1500,
          6050,
          16600,
          0,
          500,
          0
         ]
        }
       ],
       "layout": {
        "barmode": "group",
        "paper_bgcolor": "rgb(217, 242, 217)",
        "plot_bgcolor": "rgb(238, 204, 255)",
        "template": {
         "data": {
          "bar": [
           {
            "error_x": {
             "color": "#2a3f5f"
            },
            "error_y": {
             "color": "#2a3f5f"
            },
            "marker": {
             "line": {
              "color": "#E5ECF6",
              "width": 0.5
             },
             "pattern": {
              "fillmode": "overlay",
              "size": 10,
              "solidity": 0.2
             }
            },
            "type": "bar"
           }
          ],
          "barpolar": [
           {
            "marker": {
             "line": {
              "color": "#E5ECF6",
              "width": 0.5
             },
             "pattern": {
              "fillmode": "overlay",
              "size": 10,
              "solidity": 0.2
             }
            },
            "type": "barpolar"
           }
          ],
          "carpet": [
           {
            "aaxis": {
             "endlinecolor": "#2a3f5f",
             "gridcolor": "white",
             "linecolor": "white",
             "minorgridcolor": "white",
             "startlinecolor": "#2a3f5f"
            },
            "baxis": {
             "endlinecolor": "#2a3f5f",
             "gridcolor": "white",
             "linecolor": "white",
             "minorgridcolor": "white",
             "startlinecolor": "#2a3f5f"
            },
            "type": "carpet"
           }
          ],
          "choropleth": [
           {
            "colorbar": {
             "outlinewidth": 0,
             "ticks": ""
            },
            "type": "choropleth"
           }
          ],
          "contour": [
           {
            "colorbar": {
             "outlinewidth": 0,
             "ticks": ""
            },
            "colorscale": [
             [
              0,
              "#0d0887"
             ],
             [
              0.1111111111111111,
              "#46039f"
             ],
             [
              0.2222222222222222,
              "#7201a8"
             ],
             [
              0.3333333333333333,
              "#9c179e"
             ],
             [
              0.4444444444444444,
              "#bd3786"
             ],
             [
              0.5555555555555556,
              "#d8576b"
             ],
             [
              0.6666666666666666,
              "#ed7953"
             ],
             [
              0.7777777777777778,
              "#fb9f3a"
             ],
             [
              0.8888888888888888,
              "#fdca26"
             ],
             [
              1,
              "#f0f921"
             ]
            ],
            "type": "contour"
           }
          ],
          "contourcarpet": [
           {
            "colorbar": {
             "outlinewidth": 0,
             "ticks": ""
            },
            "type": "contourcarpet"
           }
          ],
          "heatmap": [
           {
            "colorbar": {
             "outlinewidth": 0,
             "ticks": ""
            },
            "colorscale": [
             [
              0,
              "#0d0887"
             ],
             [
              0.1111111111111111,
              "#46039f"
             ],
             [
              0.2222222222222222,
              "#7201a8"
             ],
             [
              0.3333333333333333,
              "#9c179e"
             ],
             [
              0.4444444444444444,
              "#bd3786"
             ],
             [
              0.5555555555555556,
              "#d8576b"
             ],
             [
              0.6666666666666666,
              "#ed7953"
             ],
             [
              0.7777777777777778,
              "#fb9f3a"
             ],
             [
              0.8888888888888888,
              "#fdca26"
             ],
             [
              1,
              "#f0f921"
             ]
            ],
            "type": "heatmap"
           }
          ],
          "heatmapgl": [
           {
            "colorbar": {
             "outlinewidth": 0,
             "ticks": ""
            },
            "colorscale": [
             [
              0,
              "#0d0887"
             ],
             [
              0.1111111111111111,
              "#46039f"
             ],
             [
              0.2222222222222222,
              "#7201a8"
             ],
             [
              0.3333333333333333,
              "#9c179e"
             ],
             [
              0.4444444444444444,
              "#bd3786"
             ],
             [
              0.5555555555555556,
              "#d8576b"
             ],
             [
              0.6666666666666666,
              "#ed7953"
             ],
             [
              0.7777777777777778,
              "#fb9f3a"
             ],
             [
              0.8888888888888888,
              "#fdca26"
             ],
             [
              1,
              "#f0f921"
             ]
            ],
            "type": "heatmapgl"
           }
          ],
          "histogram": [
           {
            "marker": {
             "pattern": {
              "fillmode": "overlay",
              "size": 10,
              "solidity": 0.2
             }
            },
            "type": "histogram"
           }
          ],
          "histogram2d": [
           {
            "colorbar": {
             "outlinewidth": 0,
             "ticks": ""
            },
            "colorscale": [
             [
              0,
              "#0d0887"
             ],
             [
              0.1111111111111111,
              "#46039f"
             ],
             [
              0.2222222222222222,
              "#7201a8"
             ],
             [
              0.3333333333333333,
              "#9c179e"
             ],
             [
              0.4444444444444444,
              "#bd3786"
             ],
             [
              0.5555555555555556,
              "#d8576b"
             ],
             [
              0.6666666666666666,
              "#ed7953"
             ],
             [
              0.7777777777777778,
              "#fb9f3a"
             ],
             [
              0.8888888888888888,
              "#fdca26"
             ],
             [
              1,
              "#f0f921"
             ]
            ],
            "type": "histogram2d"
           }
          ],
          "histogram2dcontour": [
           {
            "colorbar": {
             "outlinewidth": 0,
             "ticks": ""
            },
            "colorscale": [
             [
              0,
              "#0d0887"
             ],
             [
              0.1111111111111111,
              "#46039f"
             ],
             [
              0.2222222222222222,
              "#7201a8"
             ],
             [
              0.3333333333333333,
              "#9c179e"
             ],
             [
              0.4444444444444444,
              "#bd3786"
             ],
             [
              0.5555555555555556,
              "#d8576b"
             ],
             [
              0.6666666666666666,
              "#ed7953"
             ],
             [
              0.7777777777777778,
              "#fb9f3a"
             ],
             [
              0.8888888888888888,
              "#fdca26"
             ],
             [
              1,
              "#f0f921"
             ]
            ],
            "type": "histogram2dcontour"
           }
          ],
          "mesh3d": [
           {
            "colorbar": {
             "outlinewidth": 0,
             "ticks": ""
            },
            "type": "mesh3d"
           }
          ],
          "parcoords": [
           {
            "line": {
             "colorbar": {
              "outlinewidth": 0,
              "ticks": ""
             }
            },
            "type": "parcoords"
           }
          ],
          "pie": [
           {
            "automargin": true,
            "type": "pie"
           }
          ],
          "scatter": [
           {
            "fillpattern": {
             "fillmode": "overlay",
             "size": 10,
             "solidity": 0.2
            },
            "type": "scatter"
           }
          ],
          "scatter3d": [
           {
            "line": {
             "colorbar": {
              "outlinewidth": 0,
              "ticks": ""
             }
            },
            "marker": {
             "colorbar": {
              "outlinewidth": 0,
              "ticks": ""
             }
            },
            "type": "scatter3d"
           }
          ],
          "scattercarpet": [
           {
            "marker": {
             "colorbar": {
              "outlinewidth": 0,
              "ticks": ""
             }
            },
            "type": "scattercarpet"
           }
          ],
          "scattergeo": [
           {
            "marker": {
             "colorbar": {
              "outlinewidth": 0,
              "ticks": ""
             }
            },
            "type": "scattergeo"
           }
          ],
          "scattergl": [
           {
            "marker": {
             "colorbar": {
              "outlinewidth": 0,
              "ticks": ""
             }
            },
            "type": "scattergl"
           }
          ],
          "scattermapbox": [
           {
            "marker": {
             "colorbar": {
              "outlinewidth": 0,
              "ticks": ""
             }
            },
            "type": "scattermapbox"
           }
          ],
          "scatterpolar": [
           {
            "marker": {
             "colorbar": {
              "outlinewidth": 0,
              "ticks": ""
             }
            },
            "type": "scatterpolar"
           }
          ],
          "scatterpolargl": [
           {
            "marker": {
             "colorbar": {
              "outlinewidth": 0,
              "ticks": ""
             }
            },
            "type": "scatterpolargl"
           }
          ],
          "scatterternary": [
           {
            "marker": {
             "colorbar": {
              "outlinewidth": 0,
              "ticks": ""
             }
            },
            "type": "scatterternary"
           }
          ],
          "surface": [
           {
            "colorbar": {
             "outlinewidth": 0,
             "ticks": ""
            },
            "colorscale": [
             [
              0,
              "#0d0887"
             ],
             [
              0.1111111111111111,
              "#46039f"
             ],
             [
              0.2222222222222222,
              "#7201a8"
             ],
             [
              0.3333333333333333,
              "#9c179e"
             ],
             [
              0.4444444444444444,
              "#bd3786"
             ],
             [
              0.5555555555555556,
              "#d8576b"
             ],
             [
              0.6666666666666666,
              "#ed7953"
             ],
             [
              0.7777777777777778,
              "#fb9f3a"
             ],
             [
              0.8888888888888888,
              "#fdca26"
             ],
             [
              1,
              "#f0f921"
             ]
            ],
            "type": "surface"
           }
          ],
          "table": [
           {
            "cells": {
             "fill": {
              "color": "#EBF0F8"
             },
             "line": {
              "color": "white"
             }
            },
            "header": {
             "fill": {
              "color": "#C8D4E3"
             },
             "line": {
              "color": "white"
             }
            },
            "type": "table"
           }
          ]
         },
         "layout": {
          "annotationdefaults": {
           "arrowcolor": "#2a3f5f",
           "arrowhead": 0,
           "arrowwidth": 1
          },
          "autotypenumbers": "strict",
          "coloraxis": {
           "colorbar": {
            "outlinewidth": 0,
            "ticks": ""
           }
          },
          "colorscale": {
           "diverging": [
            [
             0,
             "#8e0152"
            ],
            [
             0.1,
             "#c51b7d"
            ],
            [
             0.2,
             "#de77ae"
            ],
            [
             0.3,
             "#f1b6da"
            ],
            [
             0.4,
             "#fde0ef"
            ],
            [
             0.5,
             "#f7f7f7"
            ],
            [
             0.6,
             "#e6f5d0"
            ],
            [
             0.7,
             "#b8e186"
            ],
            [
             0.8,
             "#7fbc41"
            ],
            [
             0.9,
             "#4d9221"
            ],
            [
             1,
             "#276419"
            ]
           ],
           "sequential": [
            [
             0,
             "#0d0887"
            ],
            [
             0.1111111111111111,
             "#46039f"
            ],
            [
             0.2222222222222222,
             "#7201a8"
            ],
            [
             0.3333333333333333,
             "#9c179e"
            ],
            [
             0.4444444444444444,
             "#bd3786"
            ],
            [
             0.5555555555555556,
             "#d8576b"
            ],
            [
             0.6666666666666666,
             "#ed7953"
            ],
            [
             0.7777777777777778,
             "#fb9f3a"
            ],
            [
             0.8888888888888888,
             "#fdca26"
            ],
            [
             1,
             "#f0f921"
            ]
           ],
           "sequentialminus": [
            [
             0,
             "#0d0887"
            ],
            [
             0.1111111111111111,
             "#46039f"
            ],
            [
             0.2222222222222222,
             "#7201a8"
            ],
            [
             0.3333333333333333,
             "#9c179e"
            ],
            [
             0.4444444444444444,
             "#bd3786"
            ],
            [
             0.5555555555555556,
             "#d8576b"
            ],
            [
             0.6666666666666666,
             "#ed7953"
            ],
            [
             0.7777777777777778,
             "#fb9f3a"
            ],
            [
             0.8888888888888888,
             "#fdca26"
            ],
            [
             1,
             "#f0f921"
            ]
           ]
          },
          "colorway": [
           "#636efa",
           "#EF553B",
           "#00cc96",
           "#ab63fa",
           "#FFA15A",
           "#19d3f3",
           "#FF6692",
           "#B6E880",
           "#FF97FF",
           "#FECB52"
          ],
          "font": {
           "color": "#2a3f5f"
          },
          "geo": {
           "bgcolor": "white",
           "lakecolor": "white",
           "landcolor": "#E5ECF6",
           "showlakes": true,
           "showland": true,
           "subunitcolor": "white"
          },
          "hoverlabel": {
           "align": "left"
          },
          "hovermode": "closest",
          "mapbox": {
           "style": "light"
          },
          "paper_bgcolor": "white",
          "plot_bgcolor": "#E5ECF6",
          "polar": {
           "angularaxis": {
            "gridcolor": "white",
            "linecolor": "white",
            "ticks": ""
           },
           "bgcolor": "#E5ECF6",
           "radialaxis": {
            "gridcolor": "white",
            "linecolor": "white",
            "ticks": ""
           }
          },
          "scene": {
           "xaxis": {
            "backgroundcolor": "#E5ECF6",
            "gridcolor": "white",
            "gridwidth": 2,
            "linecolor": "white",
            "showbackground": true,
            "ticks": "",
            "zerolinecolor": "white"
           },
           "yaxis": {
            "backgroundcolor": "#E5ECF6",
            "gridcolor": "white",
            "gridwidth": 2,
            "linecolor": "white",
            "showbackground": true,
            "ticks": "",
            "zerolinecolor": "white"
           },
           "zaxis": {
            "backgroundcolor": "#E5ECF6",
            "gridcolor": "white",
            "gridwidth": 2,
            "linecolor": "white",
            "showbackground": true,
            "ticks": "",
            "zerolinecolor": "white"
           }
          },
          "shapedefaults": {
           "line": {
            "color": "#2a3f5f"
           }
          },
          "ternary": {
           "aaxis": {
            "gridcolor": "white",
            "linecolor": "white",
            "ticks": ""
           },
           "baxis": {
            "gridcolor": "white",
            "linecolor": "white",
            "ticks": ""
           },
           "bgcolor": "#E5ECF6",
           "caxis": {
            "gridcolor": "white",
            "linecolor": "white",
            "ticks": ""
           }
          },
          "title": {
           "x": 0.05
          },
          "xaxis": {
           "automargin": true,
           "gridcolor": "white",
           "linecolor": "white",
           "ticks": "",
           "title": {
            "standoff": 15
           },
           "zerolinecolor": "white",
           "zerolinewidth": 2
          },
          "yaxis": {
           "automargin": true,
           "gridcolor": "white",
           "linecolor": "white",
           "ticks": "",
           "title": {
            "standoff": 15
           },
           "zerolinecolor": "white",
           "zerolinewidth": 2
          }
         }
        },
        "title": {
         "font": {
          "color": "green",
          "size": 20
         },
         "text": "<b>Credit and Debit graph</b>",
         "x": 0.5,
         "y": 0.9
        },
        "xaxis": {
         "color": "red",
         "tickangle": -45,
         "title": {
          "text": "DATE"
         }
        },
        "yaxis": {
         "color": "red",
         "range": [
          0,
          50000
         ],
         "title": {
          "text": "MONEY"
         }
        }
       }
      },
      "text/html": [
       "<div>                            <div id=\"595937ba-9785-4ef2-89b0-f287a9e8de79\" class=\"plotly-graph-div\" style=\"height:525px; width:100%;\"></div>            <script type=\"text/javascript\">                require([\"plotly\"], function(Plotly) {                    window.PLOTLYENV=window.PLOTLYENV || {};                                    if (document.getElementById(\"595937ba-9785-4ef2-89b0-f287a9e8de79\")) {                    Plotly.newPlot(                        \"595937ba-9785-4ef2-89b0-f287a9e8de79\",                        [{\"marker\":{\"color\":\"rgb(255, 71, 26)\",\"line\":{\"color\":\"rgb(204, 41, 0)\",\"width\":2}},\"name\":\"Debit Graph\",\"text\":[0.0,5739.0,3284.0,33200.0,260.0,10000.0,1327.0,0.0,200.0,100.0,18619.0,0.0,70.0,32255.0,1000.0,1500.0,181.0,40.0,610.0,11333.56,7300.0,16700.0,30.0,100.0,160.0],\"x\":[\"1/10/2023\",\"1/9/2023\",\"11/9/2023\",\"12/9/2023\",\"13-09-2023\",\"14-09-2023\",\"15-09-2023\",\"16-09-2023\",\"17-09-2023\",\"19-09-2023\",\"2/9/2023\",\"20-09-2023\",\"21-09-2023\",\"22-09-2023\",\"23-09-2023\",\"27-09-2023\",\"28-09-2023\",\"29-09-2023\",\"3/9/2023\",\"30-09-2023\",\"5/9/2023\",\"6/9/2023\",\"7/9/2023\",\"8/9/2023\",\"9/9/2023\"],\"y\":[0.0,5739.0,3284.0,33200.0,260.0,10000.0,1327.0,0.0,200.0,100.0,18619.0,0.0,70.0,32255.0,1000.0,1500.0,181.0,40.0,610.0,11333.56,7300.0,16700.0,30.0,100.0,160.0],\"type\":\"bar\"},{\"marker\":{\"color\":\"rgb(77, 255, 184)\",\"line\":{\"color\":\"rgb(0, 0, 179)\",\"width\":2}},\"name\":\"Credit Graph\",\"text\":[22.0,3000.0,4200.0,43500.0,0.0,0.0,100.0,140.0,0.0,1000.0,500.0,432.0,0.0,32600.0,0.0,1000.0,0.0,27930.0,0.0,1500.0,6050.0,16600.0,0.0,500.0,0.0],\"x\":[\"1/10/2023\",\"1/9/2023\",\"11/9/2023\",\"12/9/2023\",\"13-09-2023\",\"14-09-2023\",\"15-09-2023\",\"16-09-2023\",\"17-09-2023\",\"19-09-2023\",\"2/9/2023\",\"20-09-2023\",\"21-09-2023\",\"22-09-2023\",\"23-09-2023\",\"27-09-2023\",\"28-09-2023\",\"29-09-2023\",\"3/9/2023\",\"30-09-2023\",\"5/9/2023\",\"6/9/2023\",\"7/9/2023\",\"8/9/2023\",\"9/9/2023\"],\"y\":[22.0,3000.0,4200.0,43500.0,0.0,0.0,100.0,140.0,0.0,1000.0,500.0,432.0,0.0,32600.0,0.0,1000.0,0.0,27930.0,0.0,1500.0,6050.0,16600.0,0.0,500.0,0.0],\"type\":\"bar\"}],                        {\"barmode\":\"group\",\"paper_bgcolor\":\"rgb(217, 242, 217)\",\"plot_bgcolor\":\"rgb(238, 204, 255)\",\"title\":{\"font\":{\"color\":\"green\",\"size\":20},\"text\":\"<b>Credit and Debit graph</b>\",\"x\":0.5,\"y\":0.9},\"xaxis\":{\"color\":\"red\",\"tickangle\":-45,\"title\":{\"text\":\"DATE\"}},\"yaxis\":{\"color\":\"red\",\"range\":[0,50000],\"title\":{\"text\":\"MONEY\"}},\"template\":{\"data\":{\"histogram2dcontour\":[{\"type\":\"histogram2dcontour\",\"colorbar\":{\"outlinewidth\":0,\"ticks\":\"\"},\"colorscale\":[[0.0,\"#0d0887\"],[0.1111111111111111,\"#46039f\"],[0.2222222222222222,\"#7201a8\"],[0.3333333333333333,\"#9c179e\"],[0.4444444444444444,\"#bd3786\"],[0.5555555555555556,\"#d8576b\"],[0.6666666666666666,\"#ed7953\"],[0.7777777777777778,\"#fb9f3a\"],[0.8888888888888888,\"#fdca26\"],[1.0,\"#f0f921\"]]}],\"choropleth\":[{\"type\":\"choropleth\",\"colorbar\":{\"outlinewidth\":0,\"ticks\":\"\"}}],\"histogram2d\":[{\"type\":\"histogram2d\",\"colorbar\":{\"outlinewidth\":0,\"ticks\":\"\"},\"colorscale\":[[0.0,\"#0d0887\"],[0.1111111111111111,\"#46039f\"],[0.2222222222222222,\"#7201a8\"],[0.3333333333333333,\"#9c179e\"],[0.4444444444444444,\"#bd3786\"],[0.5555555555555556,\"#d8576b\"],[0.6666666666666666,\"#ed7953\"],[0.7777777777777778,\"#fb9f3a\"],[0.8888888888888888,\"#fdca26\"],[1.0,\"#f0f921\"]]}],\"heatmap\":[{\"type\":\"heatmap\",\"colorbar\":{\"outlinewidth\":0,\"ticks\":\"\"},\"colorscale\":[[0.0,\"#0d0887\"],[0.1111111111111111,\"#46039f\"],[0.2222222222222222,\"#7201a8\"],[0.3333333333333333,\"#9c179e\"],[0.4444444444444444,\"#bd3786\"],[0.5555555555555556,\"#d8576b\"],[0.6666666666666666,\"#ed7953\"],[0.7777777777777778,\"#fb9f3a\"],[0.8888888888888888,\"#fdca26\"],[1.0,\"#f0f921\"]]}],\"heatmapgl\":[{\"type\":\"heatmapgl\",\"colorbar\":{\"outlinewidth\":0,\"ticks\":\"\"},\"colorscale\":[[0.0,\"#0d0887\"],[0.1111111111111111,\"#46039f\"],[0.2222222222222222,\"#7201a8\"],[0.3333333333333333,\"#9c179e\"],[0.4444444444444444,\"#bd3786\"],[0.5555555555555556,\"#d8576b\"],[0.6666666666666666,\"#ed7953\"],[0.7777777777777778,\"#fb9f3a\"],[0.8888888888888888,\"#fdca26\"],[1.0,\"#f0f921\"]]}],\"contourcarpet\":[{\"type\":\"contourcarpet\",\"colorbar\":{\"outlinewidth\":0,\"ticks\":\"\"}}],\"contour\":[{\"type\":\"contour\",\"colorbar\":{\"outlinewidth\":0,\"ticks\":\"\"},\"colorscale\":[[0.0,\"#0d0887\"],[0.1111111111111111,\"#46039f\"],[0.2222222222222222,\"#7201a8\"],[0.3333333333333333,\"#9c179e\"],[0.4444444444444444,\"#bd3786\"],[0.5555555555555556,\"#d8576b\"],[0.6666666666666666,\"#ed7953\"],[0.7777777777777778,\"#fb9f3a\"],[0.8888888888888888,\"#fdca26\"],[1.0,\"#f0f921\"]]}],\"surface\":[{\"type\":\"surface\",\"colorbar\":{\"outlinewidth\":0,\"ticks\":\"\"},\"colorscale\":[[0.0,\"#0d0887\"],[0.1111111111111111,\"#46039f\"],[0.2222222222222222,\"#7201a8\"],[0.3333333333333333,\"#9c179e\"],[0.4444444444444444,\"#bd3786\"],[0.5555555555555556,\"#d8576b\"],[0.6666666666666666,\"#ed7953\"],[0.7777777777777778,\"#fb9f3a\"],[0.8888888888888888,\"#fdca26\"],[1.0,\"#f0f921\"]]}],\"mesh3d\":[{\"type\":\"mesh3d\",\"colorbar\":{\"outlinewidth\":0,\"ticks\":\"\"}}],\"scatter\":[{\"fillpattern\":{\"fillmode\":\"overlay\",\"size\":10,\"solidity\":0.2},\"type\":\"scatter\"}],\"parcoords\":[{\"type\":\"parcoords\",\"line\":{\"colorbar\":{\"outlinewidth\":0,\"ticks\":\"\"}}}],\"scatterpolargl\":[{\"type\":\"scatterpolargl\",\"marker\":{\"colorbar\":{\"outlinewidth\":0,\"ticks\":\"\"}}}],\"bar\":[{\"error_x\":{\"color\":\"#2a3f5f\"},\"error_y\":{\"color\":\"#2a3f5f\"},\"marker\":{\"line\":{\"color\":\"#E5ECF6\",\"width\":0.5},\"pattern\":{\"fillmode\":\"overlay\",\"size\":10,\"solidity\":0.2}},\"type\":\"bar\"}],\"scattergeo\":[{\"type\":\"scattergeo\",\"marker\":{\"colorbar\":{\"outlinewidth\":0,\"ticks\":\"\"}}}],\"scatterpolar\":[{\"type\":\"scatterpolar\",\"marker\":{\"colorbar\":{\"outlinewidth\":0,\"ticks\":\"\"}}}],\"histogram\":[{\"marker\":{\"pattern\":{\"fillmode\":\"overlay\",\"size\":10,\"solidity\":0.2}},\"type\":\"histogram\"}],\"scattergl\":[{\"type\":\"scattergl\",\"marker\":{\"colorbar\":{\"outlinewidth\":0,\"ticks\":\"\"}}}],\"scatter3d\":[{\"type\":\"scatter3d\",\"line\":{\"colorbar\":{\"outlinewidth\":0,\"ticks\":\"\"}},\"marker\":{\"colorbar\":{\"outlinewidth\":0,\"ticks\":\"\"}}}],\"scattermapbox\":[{\"type\":\"scattermapbox\",\"marker\":{\"colorbar\":{\"outlinewidth\":0,\"ticks\":\"\"}}}],\"scatterternary\":[{\"type\":\"scatterternary\",\"marker\":{\"colorbar\":{\"outlinewidth\":0,\"ticks\":\"\"}}}],\"scattercarpet\":[{\"type\":\"scattercarpet\",\"marker\":{\"colorbar\":{\"outlinewidth\":0,\"ticks\":\"\"}}}],\"carpet\":[{\"aaxis\":{\"endlinecolor\":\"#2a3f5f\",\"gridcolor\":\"white\",\"linecolor\":\"white\",\"minorgridcolor\":\"white\",\"startlinecolor\":\"#2a3f5f\"},\"baxis\":{\"endlinecolor\":\"#2a3f5f\",\"gridcolor\":\"white\",\"linecolor\":\"white\",\"minorgridcolor\":\"white\",\"startlinecolor\":\"#2a3f5f\"},\"type\":\"carpet\"}],\"table\":[{\"cells\":{\"fill\":{\"color\":\"#EBF0F8\"},\"line\":{\"color\":\"white\"}},\"header\":{\"fill\":{\"color\":\"#C8D4E3\"},\"line\":{\"color\":\"white\"}},\"type\":\"table\"}],\"barpolar\":[{\"marker\":{\"line\":{\"color\":\"#E5ECF6\",\"width\":0.5},\"pattern\":{\"fillmode\":\"overlay\",\"size\":10,\"solidity\":0.2}},\"type\":\"barpolar\"}],\"pie\":[{\"automargin\":true,\"type\":\"pie\"}]},\"layout\":{\"autotypenumbers\":\"strict\",\"colorway\":[\"#636efa\",\"#EF553B\",\"#00cc96\",\"#ab63fa\",\"#FFA15A\",\"#19d3f3\",\"#FF6692\",\"#B6E880\",\"#FF97FF\",\"#FECB52\"],\"font\":{\"color\":\"#2a3f5f\"},\"hovermode\":\"closest\",\"hoverlabel\":{\"align\":\"left\"},\"paper_bgcolor\":\"white\",\"plot_bgcolor\":\"#E5ECF6\",\"polar\":{\"bgcolor\":\"#E5ECF6\",\"angularaxis\":{\"gridcolor\":\"white\",\"linecolor\":\"white\",\"ticks\":\"\"},\"radialaxis\":{\"gridcolor\":\"white\",\"linecolor\":\"white\",\"ticks\":\"\"}},\"ternary\":{\"bgcolor\":\"#E5ECF6\",\"aaxis\":{\"gridcolor\":\"white\",\"linecolor\":\"white\",\"ticks\":\"\"},\"baxis\":{\"gridcolor\":\"white\",\"linecolor\":\"white\",\"ticks\":\"\"},\"caxis\":{\"gridcolor\":\"white\",\"linecolor\":\"white\",\"ticks\":\"\"}},\"coloraxis\":{\"colorbar\":{\"outlinewidth\":0,\"ticks\":\"\"}},\"colorscale\":{\"sequential\":[[0.0,\"#0d0887\"],[0.1111111111111111,\"#46039f\"],[0.2222222222222222,\"#7201a8\"],[0.3333333333333333,\"#9c179e\"],[0.4444444444444444,\"#bd3786\"],[0.5555555555555556,\"#d8576b\"],[0.6666666666666666,\"#ed7953\"],[0.7777777777777778,\"#fb9f3a\"],[0.8888888888888888,\"#fdca26\"],[1.0,\"#f0f921\"]],\"sequentialminus\":[[0.0,\"#0d0887\"],[0.1111111111111111,\"#46039f\"],[0.2222222222222222,\"#7201a8\"],[0.3333333333333333,\"#9c179e\"],[0.4444444444444444,\"#bd3786\"],[0.5555555555555556,\"#d8576b\"],[0.6666666666666666,\"#ed7953\"],[0.7777777777777778,\"#fb9f3a\"],[0.8888888888888888,\"#fdca26\"],[1.0,\"#f0f921\"]],\"diverging\":[[0,\"#8e0152\"],[0.1,\"#c51b7d\"],[0.2,\"#de77ae\"],[0.3,\"#f1b6da\"],[0.4,\"#fde0ef\"],[0.5,\"#f7f7f7\"],[0.6,\"#e6f5d0\"],[0.7,\"#b8e186\"],[0.8,\"#7fbc41\"],[0.9,\"#4d9221\"],[1,\"#276419\"]]},\"xaxis\":{\"gridcolor\":\"white\",\"linecolor\":\"white\",\"ticks\":\"\",\"title\":{\"standoff\":15},\"zerolinecolor\":\"white\",\"automargin\":true,\"zerolinewidth\":2},\"yaxis\":{\"gridcolor\":\"white\",\"linecolor\":\"white\",\"ticks\":\"\",\"title\":{\"standoff\":15},\"zerolinecolor\":\"white\",\"automargin\":true,\"zerolinewidth\":2},\"scene\":{\"xaxis\":{\"backgroundcolor\":\"#E5ECF6\",\"gridcolor\":\"white\",\"linecolor\":\"white\",\"showbackground\":true,\"ticks\":\"\",\"zerolinecolor\":\"white\",\"gridwidth\":2},\"yaxis\":{\"backgroundcolor\":\"#E5ECF6\",\"gridcolor\":\"white\",\"linecolor\":\"white\",\"showbackground\":true,\"ticks\":\"\",\"zerolinecolor\":\"white\",\"gridwidth\":2},\"zaxis\":{\"backgroundcolor\":\"#E5ECF6\",\"gridcolor\":\"white\",\"linecolor\":\"white\",\"showbackground\":true,\"ticks\":\"\",\"zerolinecolor\":\"white\",\"gridwidth\":2}},\"shapedefaults\":{\"line\":{\"color\":\"#2a3f5f\"}},\"annotationdefaults\":{\"arrowcolor\":\"#2a3f5f\",\"arrowhead\":0,\"arrowwidth\":1},\"geo\":{\"bgcolor\":\"white\",\"landcolor\":\"#E5ECF6\",\"subunitcolor\":\"white\",\"showland\":true,\"showlakes\":true,\"lakecolor\":\"white\"},\"title\":{\"x\":0.05},\"mapbox\":{\"style\":\"light\"}}}},                        {\"responsive\": true}                    ).then(function(){\n",
       "                            \n",
       "var gd = document.getElementById('595937ba-9785-4ef2-89b0-f287a9e8de79');\n",
       "var x = new MutationObserver(function (mutations, observer) {{\n",
       "        var display = window.getComputedStyle(gd).display;\n",
       "        if (!display || display === 'none') {{\n",
       "            console.log([gd, 'removed!']);\n",
       "            Plotly.purge(gd);\n",
       "            observer.disconnect();\n",
       "        }}\n",
       "}});\n",
       "\n",
       "// Listen for the removal of the full notebook cells\n",
       "var notebookContainer = gd.closest('#notebook-container');\n",
       "if (notebookContainer) {{\n",
       "    x.observe(notebookContainer, {childList: true});\n",
       "}}\n",
       "\n",
       "// Listen for the clearing of the current output cell\n",
       "var outputEl = gd.closest('.output');\n",
       "if (outputEl) {{\n",
       "    x.observe(outputEl, {childList: true});\n",
       "}}\n",
       "\n",
       "                        })                };                });            </script>        </div>"
      ]
     },
     "metadata": {},
     "output_type": "display_data"
    }
   ],
   "source": [
    "from plotly.offline import plot\n",
    "import plotly.graph_objs as go\n",
    "trace=go.Bar(\n",
    "x=sd1['Date'],\n",
    "y=sd1['Debit'],\n",
    "name=\"Debit Graph\",\n",
    "text=sd1['Debit'],\n",
    "marker=dict(\n",
    "color='rgb(255, 71, 26)',\n",
    "line=dict(\n",
    "color='rgb(204, 41, 0)',\n",
    "width=2\n",
    "),\n",
    ")\n",
    ")\n",
    "trace1=go.Bar(\n",
    "x=sd1['Date'],\n",
    "y=sd1['Credit'],\n",
    "name=\"Credit Graph\",\n",
    "text=sd1['Credit'],\n",
    "marker=dict(\n",
    "color='rgb(77, 255, 184)',\n",
    "line=dict(\n",
    "color='rgb(0, 0, 179)',\n",
    "width=2\n",
    "),\n",
    ")\n",
    ")\n",
    "layout=go.Layout(\n",
    "plot_bgcolor='rgb(238, 204, 255)',\n",
    "paper_bgcolor='rgb(217, 242, 217)',\n",
    "title=dict(text=\"<b>Credit and Debit graph</b>\",x=0.5,y=0.9,font=dict(color=\"green\",size=20)),\n",
    "barmode='group',\n",
    "yaxis=dict(range=[0,50000],title='MONEY',color=\"red\"),\n",
    "xaxis=dict(title='DATE',color=\"red\",tickangle=-45)\n",
    ")\n",
    "fig=go.Figure([trace,trace1],layout=layout)\n",
    "fig.show()"
   ]
  },
  {
   "cell_type": "code",
   "execution_count": 202,
   "id": "4d629f4b",
   "metadata": {},
   "outputs": [
    {
     "data": {
      "text/plain": [
       "UPI/P2M/324448428665/BILLDESK /HDFC BANK/UPI                             1\n",
       "UPI/P2M/362213844617/VASEEM AH/Yes Bank /Sent fro/OTH                    1\n",
       "NEFT/DOR1168169.0086/TOSHIBA S/SUMITOMO //REC/                           1\n",
       "UPI/P2M/363063591111/APPADURAI            /Oid202/Paytm Payments Bank    1\n",
       "UPI/P2M/326410477904/ MUNIRAJAPPA         /NA/Yes Bank Ltd               1\n",
       "                                                                        ..\n",
       "UPI/P2M/325464560713/EURONETGPAY          /UPI/ICICI Bank                1\n",
       "UPI/P2M/325269363540/DATTATREYA C H       /Oid202/Paytm Payments Bank    1\n",
       "UPI/P2A/361774135571/NIKITH B SOMPURA     /Paymen/Axis Bank Ltd.         1\n",
       "UPI/P2A/361724980213/KARTHICK /Indian Ov/NA/                             1\n",
       "921010031799158:Int.Pd:01-07-2023 to 30-09-2023                          1\n",
       "Name: Transcationid, Length: 73, dtype: int64"
      ]
     },
     "execution_count": 202,
     "metadata": {},
     "output_type": "execute_result"
    }
   ],
   "source": [
    "#transactiionid unique value count\n",
    "df1[\"Transcationid\"].value_counts()"
   ]
  },
  {
   "cell_type": "code",
   "execution_count": 228,
   "id": "b1d39de0",
   "metadata": {},
   "outputs": [
    {
     "data": {
      "application/vnd.plotly.v1+json": {
       "config": {
        "plotlyServerURL": "https://plot.ly"
       },
       "data": [
        {
         "connectgaps": true,
         "marker": {
          "color": "red"
         },
         "mode": "lines+markers",
         "name": "Debit",
         "type": "scatter",
         "x": [
          "1/9/2023",
          "1/9/2023",
          "1/9/2023",
          "1/9/2023",
          "2/9/2023",
          "2/9/2023",
          "2/9/2023",
          "2/9/2023",
          "2/9/2023",
          "2/9/2023",
          "3/9/2023",
          "5/9/2023",
          "5/9/2023",
          "5/9/2023",
          "5/9/2023",
          "6/9/2023",
          "6/9/2023",
          "6/9/2023",
          "6/9/2023",
          "6/9/2023",
          "7/9/2023",
          "8/9/2023",
          "8/9/2023",
          "9/9/2023",
          "11/9/2023",
          "11/9/2023",
          "11/9/2023",
          "11/9/2023",
          "11/9/2023",
          "11/9/2023",
          "11/9/2023",
          "12/9/2023",
          "12/9/2023",
          "12/9/2023",
          "12/9/2023",
          "12/9/2023",
          "12/9/2023",
          "13-09-2023",
          "14-09-2023",
          "14-09-2023",
          "15-09-2023",
          "15-09-2023",
          "15-09-2023",
          "15-09-2023",
          "16-09-2023",
          "17-09-2023",
          "17-09-2023",
          "17-09-2023",
          "19-09-2023",
          "19-09-2023",
          "20-09-2023",
          "21-09-2023",
          "21-09-2023",
          "22-09-2023",
          "22-09-2023",
          "22-09-2023",
          "22-09-2023",
          "22-09-2023",
          "23-09-2023",
          "27-09-2023",
          "27-09-2023",
          "28-09-2023",
          "28-09-2023",
          "29-09-2023",
          "29-09-2023",
          "30-09-2023",
          "30-09-2023",
          "30-09-2023",
          "30-09-2023",
          "30-09-2023",
          "30-09-2023",
          "30-09-2023",
          "1/10/2023"
         ],
         "y": [
          239,
          500,
          5000,
          null,
          8850,
          600,
          null,
          6000,
          3000,
          169,
          610,
          1000,
          null,
          6300,
          null,
          100,
          null,
          null,
          null,
          16600,
          30,
          null,
          100,
          160,
          155,
          155,
          null,
          600,
          2070,
          200,
          104,
          null,
          5000,
          200,
          10000,
          8000,
          10000,
          260,
          2000,
          8000,
          1272,
          null,
          40,
          15,
          null,
          20,
          150,
          30,
          null,
          100,
          null,
          40,
          30,
          null,
          3000,
          null,
          29000,
          255,
          1000,
          null,
          1500,
          101,
          80,
          null,
          40,
          null,
          5000,
          400,
          5000,
          283.56,
          50,
          600,
          null
         ]
        },
        {
         "connectgaps": true,
         "marker": {
          "color": "green"
         },
         "mode": "lines+markers",
         "name": "Credit",
         "type": "scatter",
         "x": [
          "1/9/2023",
          "1/9/2023",
          "1/9/2023",
          "1/9/2023",
          "2/9/2023",
          "2/9/2023",
          "2/9/2023",
          "2/9/2023",
          "2/9/2023",
          "2/9/2023",
          "3/9/2023",
          "5/9/2023",
          "5/9/2023",
          "5/9/2023",
          "5/9/2023",
          "6/9/2023",
          "6/9/2023",
          "6/9/2023",
          "6/9/2023",
          "6/9/2023",
          "7/9/2023",
          "8/9/2023",
          "8/9/2023",
          "9/9/2023",
          "11/9/2023",
          "11/9/2023",
          "11/9/2023",
          "11/9/2023",
          "11/9/2023",
          "11/9/2023",
          "11/9/2023",
          "12/9/2023",
          "12/9/2023",
          "12/9/2023",
          "12/9/2023",
          "12/9/2023",
          "12/9/2023",
          "13-09-2023",
          "14-09-2023",
          "14-09-2023",
          "15-09-2023",
          "15-09-2023",
          "15-09-2023",
          "15-09-2023",
          "16-09-2023",
          "17-09-2023",
          "17-09-2023",
          "17-09-2023",
          "19-09-2023",
          "19-09-2023",
          "20-09-2023",
          "21-09-2023",
          "21-09-2023",
          "22-09-2023",
          "22-09-2023",
          "22-09-2023",
          "22-09-2023",
          "22-09-2023",
          "23-09-2023",
          "27-09-2023",
          "27-09-2023",
          "28-09-2023",
          "28-09-2023",
          "29-09-2023",
          "29-09-2023",
          "30-09-2023",
          "30-09-2023",
          "30-09-2023",
          "30-09-2023",
          "30-09-2023",
          "30-09-2023",
          "30-09-2023",
          "1/10/2023"
         ],
         "y": [
          null,
          null,
          null,
          3000,
          null,
          null,
          500,
          null,
          null,
          null,
          null,
          null,
          6000,
          null,
          50,
          null,
          5300,
          4000,
          7300,
          null,
          null,
          500,
          null,
          null,
          null,
          null,
          4200,
          null,
          null,
          null,
          null,
          43500,
          null,
          null,
          null,
          null,
          null,
          null,
          null,
          null,
          null,
          100,
          null,
          null,
          140,
          null,
          null,
          null,
          1000,
          null,
          432,
          null,
          null,
          3600,
          null,
          29000,
          null,
          null,
          null,
          1000,
          null,
          null,
          null,
          27930,
          null,
          1500,
          null,
          null,
          null,
          null,
          null,
          null,
          22
         ]
        }
       ],
       "layout": {
        "template": {
         "data": {
          "bar": [
           {
            "error_x": {
             "color": "#2a3f5f"
            },
            "error_y": {
             "color": "#2a3f5f"
            },
            "marker": {
             "line": {
              "color": "#E5ECF6",
              "width": 0.5
             },
             "pattern": {
              "fillmode": "overlay",
              "size": 10,
              "solidity": 0.2
             }
            },
            "type": "bar"
           }
          ],
          "barpolar": [
           {
            "marker": {
             "line": {
              "color": "#E5ECF6",
              "width": 0.5
             },
             "pattern": {
              "fillmode": "overlay",
              "size": 10,
              "solidity": 0.2
             }
            },
            "type": "barpolar"
           }
          ],
          "carpet": [
           {
            "aaxis": {
             "endlinecolor": "#2a3f5f",
             "gridcolor": "white",
             "linecolor": "white",
             "minorgridcolor": "white",
             "startlinecolor": "#2a3f5f"
            },
            "baxis": {
             "endlinecolor": "#2a3f5f",
             "gridcolor": "white",
             "linecolor": "white",
             "minorgridcolor": "white",
             "startlinecolor": "#2a3f5f"
            },
            "type": "carpet"
           }
          ],
          "choropleth": [
           {
            "colorbar": {
             "outlinewidth": 0,
             "ticks": ""
            },
            "type": "choropleth"
           }
          ],
          "contour": [
           {
            "colorbar": {
             "outlinewidth": 0,
             "ticks": ""
            },
            "colorscale": [
             [
              0,
              "#0d0887"
             ],
             [
              0.1111111111111111,
              "#46039f"
             ],
             [
              0.2222222222222222,
              "#7201a8"
             ],
             [
              0.3333333333333333,
              "#9c179e"
             ],
             [
              0.4444444444444444,
              "#bd3786"
             ],
             [
              0.5555555555555556,
              "#d8576b"
             ],
             [
              0.6666666666666666,
              "#ed7953"
             ],
             [
              0.7777777777777778,
              "#fb9f3a"
             ],
             [
              0.8888888888888888,
              "#fdca26"
             ],
             [
              1,
              "#f0f921"
             ]
            ],
            "type": "contour"
           }
          ],
          "contourcarpet": [
           {
            "colorbar": {
             "outlinewidth": 0,
             "ticks": ""
            },
            "type": "contourcarpet"
           }
          ],
          "heatmap": [
           {
            "colorbar": {
             "outlinewidth": 0,
             "ticks": ""
            },
            "colorscale": [
             [
              0,
              "#0d0887"
             ],
             [
              0.1111111111111111,
              "#46039f"
             ],
             [
              0.2222222222222222,
              "#7201a8"
             ],
             [
              0.3333333333333333,
              "#9c179e"
             ],
             [
              0.4444444444444444,
              "#bd3786"
             ],
             [
              0.5555555555555556,
              "#d8576b"
             ],
             [
              0.6666666666666666,
              "#ed7953"
             ],
             [
              0.7777777777777778,
              "#fb9f3a"
             ],
             [
              0.8888888888888888,
              "#fdca26"
             ],
             [
              1,
              "#f0f921"
             ]
            ],
            "type": "heatmap"
           }
          ],
          "heatmapgl": [
           {
            "colorbar": {
             "outlinewidth": 0,
             "ticks": ""
            },
            "colorscale": [
             [
              0,
              "#0d0887"
             ],
             [
              0.1111111111111111,
              "#46039f"
             ],
             [
              0.2222222222222222,
              "#7201a8"
             ],
             [
              0.3333333333333333,
              "#9c179e"
             ],
             [
              0.4444444444444444,
              "#bd3786"
             ],
             [
              0.5555555555555556,
              "#d8576b"
             ],
             [
              0.6666666666666666,
              "#ed7953"
             ],
             [
              0.7777777777777778,
              "#fb9f3a"
             ],
             [
              0.8888888888888888,
              "#fdca26"
             ],
             [
              1,
              "#f0f921"
             ]
            ],
            "type": "heatmapgl"
           }
          ],
          "histogram": [
           {
            "marker": {
             "pattern": {
              "fillmode": "overlay",
              "size": 10,
              "solidity": 0.2
             }
            },
            "type": "histogram"
           }
          ],
          "histogram2d": [
           {
            "colorbar": {
             "outlinewidth": 0,
             "ticks": ""
            },
            "colorscale": [
             [
              0,
              "#0d0887"
             ],
             [
              0.1111111111111111,
              "#46039f"
             ],
             [
              0.2222222222222222,
              "#7201a8"
             ],
             [
              0.3333333333333333,
              "#9c179e"
             ],
             [
              0.4444444444444444,
              "#bd3786"
             ],
             [
              0.5555555555555556,
              "#d8576b"
             ],
             [
              0.6666666666666666,
              "#ed7953"
             ],
             [
              0.7777777777777778,
              "#fb9f3a"
             ],
             [
              0.8888888888888888,
              "#fdca26"
             ],
             [
              1,
              "#f0f921"
             ]
            ],
            "type": "histogram2d"
           }
          ],
          "histogram2dcontour": [
           {
            "colorbar": {
             "outlinewidth": 0,
             "ticks": ""
            },
            "colorscale": [
             [
              0,
              "#0d0887"
             ],
             [
              0.1111111111111111,
              "#46039f"
             ],
             [
              0.2222222222222222,
              "#7201a8"
             ],
             [
              0.3333333333333333,
              "#9c179e"
             ],
             [
              0.4444444444444444,
              "#bd3786"
             ],
             [
              0.5555555555555556,
              "#d8576b"
             ],
             [
              0.6666666666666666,
              "#ed7953"
             ],
             [
              0.7777777777777778,
              "#fb9f3a"
             ],
             [
              0.8888888888888888,
              "#fdca26"
             ],
             [
              1,
              "#f0f921"
             ]
            ],
            "type": "histogram2dcontour"
           }
          ],
          "mesh3d": [
           {
            "colorbar": {
             "outlinewidth": 0,
             "ticks": ""
            },
            "type": "mesh3d"
           }
          ],
          "parcoords": [
           {
            "line": {
             "colorbar": {
              "outlinewidth": 0,
              "ticks": ""
             }
            },
            "type": "parcoords"
           }
          ],
          "pie": [
           {
            "automargin": true,
            "type": "pie"
           }
          ],
          "scatter": [
           {
            "fillpattern": {
             "fillmode": "overlay",
             "size": 10,
             "solidity": 0.2
            },
            "type": "scatter"
           }
          ],
          "scatter3d": [
           {
            "line": {
             "colorbar": {
              "outlinewidth": 0,
              "ticks": ""
             }
            },
            "marker": {
             "colorbar": {
              "outlinewidth": 0,
              "ticks": ""
             }
            },
            "type": "scatter3d"
           }
          ],
          "scattercarpet": [
           {
            "marker": {
             "colorbar": {
              "outlinewidth": 0,
              "ticks": ""
             }
            },
            "type": "scattercarpet"
           }
          ],
          "scattergeo": [
           {
            "marker": {
             "colorbar": {
              "outlinewidth": 0,
              "ticks": ""
             }
            },
            "type": "scattergeo"
           }
          ],
          "scattergl": [
           {
            "marker": {
             "colorbar": {
              "outlinewidth": 0,
              "ticks": ""
             }
            },
            "type": "scattergl"
           }
          ],
          "scattermapbox": [
           {
            "marker": {
             "colorbar": {
              "outlinewidth": 0,
              "ticks": ""
             }
            },
            "type": "scattermapbox"
           }
          ],
          "scatterpolar": [
           {
            "marker": {
             "colorbar": {
              "outlinewidth": 0,
              "ticks": ""
             }
            },
            "type": "scatterpolar"
           }
          ],
          "scatterpolargl": [
           {
            "marker": {
             "colorbar": {
              "outlinewidth": 0,
              "ticks": ""
             }
            },
            "type": "scatterpolargl"
           }
          ],
          "scatterternary": [
           {
            "marker": {
             "colorbar": {
              "outlinewidth": 0,
              "ticks": ""
             }
            },
            "type": "scatterternary"
           }
          ],
          "surface": [
           {
            "colorbar": {
             "outlinewidth": 0,
             "ticks": ""
            },
            "colorscale": [
             [
              0,
              "#0d0887"
             ],
             [
              0.1111111111111111,
              "#46039f"
             ],
             [
              0.2222222222222222,
              "#7201a8"
             ],
             [
              0.3333333333333333,
              "#9c179e"
             ],
             [
              0.4444444444444444,
              "#bd3786"
             ],
             [
              0.5555555555555556,
              "#d8576b"
             ],
             [
              0.6666666666666666,
              "#ed7953"
             ],
             [
              0.7777777777777778,
              "#fb9f3a"
             ],
             [
              0.8888888888888888,
              "#fdca26"
             ],
             [
              1,
              "#f0f921"
             ]
            ],
            "type": "surface"
           }
          ],
          "table": [
           {
            "cells": {
             "fill": {
              "color": "#EBF0F8"
             },
             "line": {
              "color": "white"
             }
            },
            "header": {
             "fill": {
              "color": "#C8D4E3"
             },
             "line": {
              "color": "white"
             }
            },
            "type": "table"
           }
          ]
         },
         "layout": {
          "annotationdefaults": {
           "arrowcolor": "#2a3f5f",
           "arrowhead": 0,
           "arrowwidth": 1
          },
          "autotypenumbers": "strict",
          "coloraxis": {
           "colorbar": {
            "outlinewidth": 0,
            "ticks": ""
           }
          },
          "colorscale": {
           "diverging": [
            [
             0,
             "#8e0152"
            ],
            [
             0.1,
             "#c51b7d"
            ],
            [
             0.2,
             "#de77ae"
            ],
            [
             0.3,
             "#f1b6da"
            ],
            [
             0.4,
             "#fde0ef"
            ],
            [
             0.5,
             "#f7f7f7"
            ],
            [
             0.6,
             "#e6f5d0"
            ],
            [
             0.7,
             "#b8e186"
            ],
            [
             0.8,
             "#7fbc41"
            ],
            [
             0.9,
             "#4d9221"
            ],
            [
             1,
             "#276419"
            ]
           ],
           "sequential": [
            [
             0,
             "#0d0887"
            ],
            [
             0.1111111111111111,
             "#46039f"
            ],
            [
             0.2222222222222222,
             "#7201a8"
            ],
            [
             0.3333333333333333,
             "#9c179e"
            ],
            [
             0.4444444444444444,
             "#bd3786"
            ],
            [
             0.5555555555555556,
             "#d8576b"
            ],
            [
             0.6666666666666666,
             "#ed7953"
            ],
            [
             0.7777777777777778,
             "#fb9f3a"
            ],
            [
             0.8888888888888888,
             "#fdca26"
            ],
            [
             1,
             "#f0f921"
            ]
           ],
           "sequentialminus": [
            [
             0,
             "#0d0887"
            ],
            [
             0.1111111111111111,
             "#46039f"
            ],
            [
             0.2222222222222222,
             "#7201a8"
            ],
            [
             0.3333333333333333,
             "#9c179e"
            ],
            [
             0.4444444444444444,
             "#bd3786"
            ],
            [
             0.5555555555555556,
             "#d8576b"
            ],
            [
             0.6666666666666666,
             "#ed7953"
            ],
            [
             0.7777777777777778,
             "#fb9f3a"
            ],
            [
             0.8888888888888888,
             "#fdca26"
            ],
            [
             1,
             "#f0f921"
            ]
           ]
          },
          "colorway": [
           "#636efa",
           "#EF553B",
           "#00cc96",
           "#ab63fa",
           "#FFA15A",
           "#19d3f3",
           "#FF6692",
           "#B6E880",
           "#FF97FF",
           "#FECB52"
          ],
          "font": {
           "color": "#2a3f5f"
          },
          "geo": {
           "bgcolor": "white",
           "lakecolor": "white",
           "landcolor": "#E5ECF6",
           "showlakes": true,
           "showland": true,
           "subunitcolor": "white"
          },
          "hoverlabel": {
           "align": "left"
          },
          "hovermode": "closest",
          "mapbox": {
           "style": "light"
          },
          "paper_bgcolor": "white",
          "plot_bgcolor": "#E5ECF6",
          "polar": {
           "angularaxis": {
            "gridcolor": "white",
            "linecolor": "white",
            "ticks": ""
           },
           "bgcolor": "#E5ECF6",
           "radialaxis": {
            "gridcolor": "white",
            "linecolor": "white",
            "ticks": ""
           }
          },
          "scene": {
           "xaxis": {
            "backgroundcolor": "#E5ECF6",
            "gridcolor": "white",
            "gridwidth": 2,
            "linecolor": "white",
            "showbackground": true,
            "ticks": "",
            "zerolinecolor": "white"
           },
           "yaxis": {
            "backgroundcolor": "#E5ECF6",
            "gridcolor": "white",
            "gridwidth": 2,
            "linecolor": "white",
            "showbackground": true,
            "ticks": "",
            "zerolinecolor": "white"
           },
           "zaxis": {
            "backgroundcolor": "#E5ECF6",
            "gridcolor": "white",
            "gridwidth": 2,
            "linecolor": "white",
            "showbackground": true,
            "ticks": "",
            "zerolinecolor": "white"
           }
          },
          "shapedefaults": {
           "line": {
            "color": "#2a3f5f"
           }
          },
          "ternary": {
           "aaxis": {
            "gridcolor": "white",
            "linecolor": "white",
            "ticks": ""
           },
           "baxis": {
            "gridcolor": "white",
            "linecolor": "white",
            "ticks": ""
           },
           "bgcolor": "#E5ECF6",
           "caxis": {
            "gridcolor": "white",
            "linecolor": "white",
            "ticks": ""
           }
          },
          "title": {
           "x": 0.05
          },
          "xaxis": {
           "automargin": true,
           "gridcolor": "white",
           "linecolor": "white",
           "ticks": "",
           "title": {
            "standoff": 15
           },
           "zerolinecolor": "white",
           "zerolinewidth": 2
          },
          "yaxis": {
           "automargin": true,
           "gridcolor": "white",
           "linecolor": "white",
           "ticks": "",
           "title": {
            "standoff": 15
           },
           "zerolinecolor": "white",
           "zerolinewidth": 2
          }
         }
        },
        "title": {
         "text": "CREDIT AND DEBIT"
        }
       }
      },
      "text/html": [
       "<div>                            <div id=\"54c55b50-a27d-4657-869f-fed3aa05b596\" class=\"plotly-graph-div\" style=\"height:525px; width:100%;\"></div>            <script type=\"text/javascript\">                require([\"plotly\"], function(Plotly) {                    window.PLOTLYENV=window.PLOTLYENV || {};                                    if (document.getElementById(\"54c55b50-a27d-4657-869f-fed3aa05b596\")) {                    Plotly.newPlot(                        \"54c55b50-a27d-4657-869f-fed3aa05b596\",                        [{\"connectgaps\":true,\"marker\":{\"color\":\"red\"},\"mode\":\"lines+markers\",\"name\":\"Debit\",\"x\":[\"1/9/2023\",\"1/9/2023\",\"1/9/2023\",\"1/9/2023\",\"2/9/2023\",\"2/9/2023\",\"2/9/2023\",\"2/9/2023\",\"2/9/2023\",\"2/9/2023\",\"3/9/2023\",\"5/9/2023\",\"5/9/2023\",\"5/9/2023\",\"5/9/2023\",\"6/9/2023\",\"6/9/2023\",\"6/9/2023\",\"6/9/2023\",\"6/9/2023\",\"7/9/2023\",\"8/9/2023\",\"8/9/2023\",\"9/9/2023\",\"11/9/2023\",\"11/9/2023\",\"11/9/2023\",\"11/9/2023\",\"11/9/2023\",\"11/9/2023\",\"11/9/2023\",\"12/9/2023\",\"12/9/2023\",\"12/9/2023\",\"12/9/2023\",\"12/9/2023\",\"12/9/2023\",\"13-09-2023\",\"14-09-2023\",\"14-09-2023\",\"15-09-2023\",\"15-09-2023\",\"15-09-2023\",\"15-09-2023\",\"16-09-2023\",\"17-09-2023\",\"17-09-2023\",\"17-09-2023\",\"19-09-2023\",\"19-09-2023\",\"20-09-2023\",\"21-09-2023\",\"21-09-2023\",\"22-09-2023\",\"22-09-2023\",\"22-09-2023\",\"22-09-2023\",\"22-09-2023\",\"23-09-2023\",\"27-09-2023\",\"27-09-2023\",\"28-09-2023\",\"28-09-2023\",\"29-09-2023\",\"29-09-2023\",\"30-09-2023\",\"30-09-2023\",\"30-09-2023\",\"30-09-2023\",\"30-09-2023\",\"30-09-2023\",\"30-09-2023\",\"1/10/2023\"],\"y\":[239.0,500.0,5000.0,null,8850.0,600.0,null,6000.0,3000.0,169.0,610.0,1000.0,null,6300.0,null,100.0,null,null,null,16600.0,30.0,null,100.0,160.0,155.0,155.0,null,600.0,2070.0,200.0,104.0,null,5000.0,200.0,10000.0,8000.0,10000.0,260.0,2000.0,8000.0,1272.0,null,40.0,15.0,null,20.0,150.0,30.0,null,100.0,null,40.0,30.0,null,3000.0,null,29000.0,255.0,1000.0,null,1500.0,101.0,80.0,null,40.0,null,5000.0,400.0,5000.0,283.56,50.0,600.0,null],\"type\":\"scatter\"},{\"connectgaps\":true,\"marker\":{\"color\":\"green\"},\"mode\":\"lines+markers\",\"name\":\"Credit\",\"x\":[\"1/9/2023\",\"1/9/2023\",\"1/9/2023\",\"1/9/2023\",\"2/9/2023\",\"2/9/2023\",\"2/9/2023\",\"2/9/2023\",\"2/9/2023\",\"2/9/2023\",\"3/9/2023\",\"5/9/2023\",\"5/9/2023\",\"5/9/2023\",\"5/9/2023\",\"6/9/2023\",\"6/9/2023\",\"6/9/2023\",\"6/9/2023\",\"6/9/2023\",\"7/9/2023\",\"8/9/2023\",\"8/9/2023\",\"9/9/2023\",\"11/9/2023\",\"11/9/2023\",\"11/9/2023\",\"11/9/2023\",\"11/9/2023\",\"11/9/2023\",\"11/9/2023\",\"12/9/2023\",\"12/9/2023\",\"12/9/2023\",\"12/9/2023\",\"12/9/2023\",\"12/9/2023\",\"13-09-2023\",\"14-09-2023\",\"14-09-2023\",\"15-09-2023\",\"15-09-2023\",\"15-09-2023\",\"15-09-2023\",\"16-09-2023\",\"17-09-2023\",\"17-09-2023\",\"17-09-2023\",\"19-09-2023\",\"19-09-2023\",\"20-09-2023\",\"21-09-2023\",\"21-09-2023\",\"22-09-2023\",\"22-09-2023\",\"22-09-2023\",\"22-09-2023\",\"22-09-2023\",\"23-09-2023\",\"27-09-2023\",\"27-09-2023\",\"28-09-2023\",\"28-09-2023\",\"29-09-2023\",\"29-09-2023\",\"30-09-2023\",\"30-09-2023\",\"30-09-2023\",\"30-09-2023\",\"30-09-2023\",\"30-09-2023\",\"30-09-2023\",\"1/10/2023\"],\"y\":[null,null,null,3000.0,null,null,500.0,null,null,null,null,null,6000.0,null,50.0,null,5300.0,4000.0,7300.0,null,null,500.0,null,null,null,null,4200.0,null,null,null,null,43500.0,null,null,null,null,null,null,null,null,null,100.0,null,null,140.0,null,null,null,1000.0,null,432.0,null,null,3600.0,null,29000.0,null,null,null,1000.0,null,null,null,27930.0,null,1500.0,null,null,null,null,null,null,22.0],\"type\":\"scatter\"}],                        {\"title\":{\"text\":\"CREDIT AND DEBIT\"},\"template\":{\"data\":{\"histogram2dcontour\":[{\"type\":\"histogram2dcontour\",\"colorbar\":{\"outlinewidth\":0,\"ticks\":\"\"},\"colorscale\":[[0.0,\"#0d0887\"],[0.1111111111111111,\"#46039f\"],[0.2222222222222222,\"#7201a8\"],[0.3333333333333333,\"#9c179e\"],[0.4444444444444444,\"#bd3786\"],[0.5555555555555556,\"#d8576b\"],[0.6666666666666666,\"#ed7953\"],[0.7777777777777778,\"#fb9f3a\"],[0.8888888888888888,\"#fdca26\"],[1.0,\"#f0f921\"]]}],\"choropleth\":[{\"type\":\"choropleth\",\"colorbar\":{\"outlinewidth\":0,\"ticks\":\"\"}}],\"histogram2d\":[{\"type\":\"histogram2d\",\"colorbar\":{\"outlinewidth\":0,\"ticks\":\"\"},\"colorscale\":[[0.0,\"#0d0887\"],[0.1111111111111111,\"#46039f\"],[0.2222222222222222,\"#7201a8\"],[0.3333333333333333,\"#9c179e\"],[0.4444444444444444,\"#bd3786\"],[0.5555555555555556,\"#d8576b\"],[0.6666666666666666,\"#ed7953\"],[0.7777777777777778,\"#fb9f3a\"],[0.8888888888888888,\"#fdca26\"],[1.0,\"#f0f921\"]]}],\"heatmap\":[{\"type\":\"heatmap\",\"colorbar\":{\"outlinewidth\":0,\"ticks\":\"\"},\"colorscale\":[[0.0,\"#0d0887\"],[0.1111111111111111,\"#46039f\"],[0.2222222222222222,\"#7201a8\"],[0.3333333333333333,\"#9c179e\"],[0.4444444444444444,\"#bd3786\"],[0.5555555555555556,\"#d8576b\"],[0.6666666666666666,\"#ed7953\"],[0.7777777777777778,\"#fb9f3a\"],[0.8888888888888888,\"#fdca26\"],[1.0,\"#f0f921\"]]}],\"heatmapgl\":[{\"type\":\"heatmapgl\",\"colorbar\":{\"outlinewidth\":0,\"ticks\":\"\"},\"colorscale\":[[0.0,\"#0d0887\"],[0.1111111111111111,\"#46039f\"],[0.2222222222222222,\"#7201a8\"],[0.3333333333333333,\"#9c179e\"],[0.4444444444444444,\"#bd3786\"],[0.5555555555555556,\"#d8576b\"],[0.6666666666666666,\"#ed7953\"],[0.7777777777777778,\"#fb9f3a\"],[0.8888888888888888,\"#fdca26\"],[1.0,\"#f0f921\"]]}],\"contourcarpet\":[{\"type\":\"contourcarpet\",\"colorbar\":{\"outlinewidth\":0,\"ticks\":\"\"}}],\"contour\":[{\"type\":\"contour\",\"colorbar\":{\"outlinewidth\":0,\"ticks\":\"\"},\"colorscale\":[[0.0,\"#0d0887\"],[0.1111111111111111,\"#46039f\"],[0.2222222222222222,\"#7201a8\"],[0.3333333333333333,\"#9c179e\"],[0.4444444444444444,\"#bd3786\"],[0.5555555555555556,\"#d8576b\"],[0.6666666666666666,\"#ed7953\"],[0.7777777777777778,\"#fb9f3a\"],[0.8888888888888888,\"#fdca26\"],[1.0,\"#f0f921\"]]}],\"surface\":[{\"type\":\"surface\",\"colorbar\":{\"outlinewidth\":0,\"ticks\":\"\"},\"colorscale\":[[0.0,\"#0d0887\"],[0.1111111111111111,\"#46039f\"],[0.2222222222222222,\"#7201a8\"],[0.3333333333333333,\"#9c179e\"],[0.4444444444444444,\"#bd3786\"],[0.5555555555555556,\"#d8576b\"],[0.6666666666666666,\"#ed7953\"],[0.7777777777777778,\"#fb9f3a\"],[0.8888888888888888,\"#fdca26\"],[1.0,\"#f0f921\"]]}],\"mesh3d\":[{\"type\":\"mesh3d\",\"colorbar\":{\"outlinewidth\":0,\"ticks\":\"\"}}],\"scatter\":[{\"fillpattern\":{\"fillmode\":\"overlay\",\"size\":10,\"solidity\":0.2},\"type\":\"scatter\"}],\"parcoords\":[{\"type\":\"parcoords\",\"line\":{\"colorbar\":{\"outlinewidth\":0,\"ticks\":\"\"}}}],\"scatterpolargl\":[{\"type\":\"scatterpolargl\",\"marker\":{\"colorbar\":{\"outlinewidth\":0,\"ticks\":\"\"}}}],\"bar\":[{\"error_x\":{\"color\":\"#2a3f5f\"},\"error_y\":{\"color\":\"#2a3f5f\"},\"marker\":{\"line\":{\"color\":\"#E5ECF6\",\"width\":0.5},\"pattern\":{\"fillmode\":\"overlay\",\"size\":10,\"solidity\":0.2}},\"type\":\"bar\"}],\"scattergeo\":[{\"type\":\"scattergeo\",\"marker\":{\"colorbar\":{\"outlinewidth\":0,\"ticks\":\"\"}}}],\"scatterpolar\":[{\"type\":\"scatterpolar\",\"marker\":{\"colorbar\":{\"outlinewidth\":0,\"ticks\":\"\"}}}],\"histogram\":[{\"marker\":{\"pattern\":{\"fillmode\":\"overlay\",\"size\":10,\"solidity\":0.2}},\"type\":\"histogram\"}],\"scattergl\":[{\"type\":\"scattergl\",\"marker\":{\"colorbar\":{\"outlinewidth\":0,\"ticks\":\"\"}}}],\"scatter3d\":[{\"type\":\"scatter3d\",\"line\":{\"colorbar\":{\"outlinewidth\":0,\"ticks\":\"\"}},\"marker\":{\"colorbar\":{\"outlinewidth\":0,\"ticks\":\"\"}}}],\"scattermapbox\":[{\"type\":\"scattermapbox\",\"marker\":{\"colorbar\":{\"outlinewidth\":0,\"ticks\":\"\"}}}],\"scatterternary\":[{\"type\":\"scatterternary\",\"marker\":{\"colorbar\":{\"outlinewidth\":0,\"ticks\":\"\"}}}],\"scattercarpet\":[{\"type\":\"scattercarpet\",\"marker\":{\"colorbar\":{\"outlinewidth\":0,\"ticks\":\"\"}}}],\"carpet\":[{\"aaxis\":{\"endlinecolor\":\"#2a3f5f\",\"gridcolor\":\"white\",\"linecolor\":\"white\",\"minorgridcolor\":\"white\",\"startlinecolor\":\"#2a3f5f\"},\"baxis\":{\"endlinecolor\":\"#2a3f5f\",\"gridcolor\":\"white\",\"linecolor\":\"white\",\"minorgridcolor\":\"white\",\"startlinecolor\":\"#2a3f5f\"},\"type\":\"carpet\"}],\"table\":[{\"cells\":{\"fill\":{\"color\":\"#EBF0F8\"},\"line\":{\"color\":\"white\"}},\"header\":{\"fill\":{\"color\":\"#C8D4E3\"},\"line\":{\"color\":\"white\"}},\"type\":\"table\"}],\"barpolar\":[{\"marker\":{\"line\":{\"color\":\"#E5ECF6\",\"width\":0.5},\"pattern\":{\"fillmode\":\"overlay\",\"size\":10,\"solidity\":0.2}},\"type\":\"barpolar\"}],\"pie\":[{\"automargin\":true,\"type\":\"pie\"}]},\"layout\":{\"autotypenumbers\":\"strict\",\"colorway\":[\"#636efa\",\"#EF553B\",\"#00cc96\",\"#ab63fa\",\"#FFA15A\",\"#19d3f3\",\"#FF6692\",\"#B6E880\",\"#FF97FF\",\"#FECB52\"],\"font\":{\"color\":\"#2a3f5f\"},\"hovermode\":\"closest\",\"hoverlabel\":{\"align\":\"left\"},\"paper_bgcolor\":\"white\",\"plot_bgcolor\":\"#E5ECF6\",\"polar\":{\"bgcolor\":\"#E5ECF6\",\"angularaxis\":{\"gridcolor\":\"white\",\"linecolor\":\"white\",\"ticks\":\"\"},\"radialaxis\":{\"gridcolor\":\"white\",\"linecolor\":\"white\",\"ticks\":\"\"}},\"ternary\":{\"bgcolor\":\"#E5ECF6\",\"aaxis\":{\"gridcolor\":\"white\",\"linecolor\":\"white\",\"ticks\":\"\"},\"baxis\":{\"gridcolor\":\"white\",\"linecolor\":\"white\",\"ticks\":\"\"},\"caxis\":{\"gridcolor\":\"white\",\"linecolor\":\"white\",\"ticks\":\"\"}},\"coloraxis\":{\"colorbar\":{\"outlinewidth\":0,\"ticks\":\"\"}},\"colorscale\":{\"sequential\":[[0.0,\"#0d0887\"],[0.1111111111111111,\"#46039f\"],[0.2222222222222222,\"#7201a8\"],[0.3333333333333333,\"#9c179e\"],[0.4444444444444444,\"#bd3786\"],[0.5555555555555556,\"#d8576b\"],[0.6666666666666666,\"#ed7953\"],[0.7777777777777778,\"#fb9f3a\"],[0.8888888888888888,\"#fdca26\"],[1.0,\"#f0f921\"]],\"sequentialminus\":[[0.0,\"#0d0887\"],[0.1111111111111111,\"#46039f\"],[0.2222222222222222,\"#7201a8\"],[0.3333333333333333,\"#9c179e\"],[0.4444444444444444,\"#bd3786\"],[0.5555555555555556,\"#d8576b\"],[0.6666666666666666,\"#ed7953\"],[0.7777777777777778,\"#fb9f3a\"],[0.8888888888888888,\"#fdca26\"],[1.0,\"#f0f921\"]],\"diverging\":[[0,\"#8e0152\"],[0.1,\"#c51b7d\"],[0.2,\"#de77ae\"],[0.3,\"#f1b6da\"],[0.4,\"#fde0ef\"],[0.5,\"#f7f7f7\"],[0.6,\"#e6f5d0\"],[0.7,\"#b8e186\"],[0.8,\"#7fbc41\"],[0.9,\"#4d9221\"],[1,\"#276419\"]]},\"xaxis\":{\"gridcolor\":\"white\",\"linecolor\":\"white\",\"ticks\":\"\",\"title\":{\"standoff\":15},\"zerolinecolor\":\"white\",\"automargin\":true,\"zerolinewidth\":2},\"yaxis\":{\"gridcolor\":\"white\",\"linecolor\":\"white\",\"ticks\":\"\",\"title\":{\"standoff\":15},\"zerolinecolor\":\"white\",\"automargin\":true,\"zerolinewidth\":2},\"scene\":{\"xaxis\":{\"backgroundcolor\":\"#E5ECF6\",\"gridcolor\":\"white\",\"linecolor\":\"white\",\"showbackground\":true,\"ticks\":\"\",\"zerolinecolor\":\"white\",\"gridwidth\":2},\"yaxis\":{\"backgroundcolor\":\"#E5ECF6\",\"gridcolor\":\"white\",\"linecolor\":\"white\",\"showbackground\":true,\"ticks\":\"\",\"zerolinecolor\":\"white\",\"gridwidth\":2},\"zaxis\":{\"backgroundcolor\":\"#E5ECF6\",\"gridcolor\":\"white\",\"linecolor\":\"white\",\"showbackground\":true,\"ticks\":\"\",\"zerolinecolor\":\"white\",\"gridwidth\":2}},\"shapedefaults\":{\"line\":{\"color\":\"#2a3f5f\"}},\"annotationdefaults\":{\"arrowcolor\":\"#2a3f5f\",\"arrowhead\":0,\"arrowwidth\":1},\"geo\":{\"bgcolor\":\"white\",\"landcolor\":\"#E5ECF6\",\"subunitcolor\":\"white\",\"showland\":true,\"showlakes\":true,\"lakecolor\":\"white\"},\"title\":{\"x\":0.05},\"mapbox\":{\"style\":\"light\"}}}},                        {\"responsive\": true}                    ).then(function(){\n",
       "                            \n",
       "var gd = document.getElementById('54c55b50-a27d-4657-869f-fed3aa05b596');\n",
       "var x = new MutationObserver(function (mutations, observer) {{\n",
       "        var display = window.getComputedStyle(gd).display;\n",
       "        if (!display || display === 'none') {{\n",
       "            console.log([gd, 'removed!']);\n",
       "            Plotly.purge(gd);\n",
       "            observer.disconnect();\n",
       "        }}\n",
       "}});\n",
       "\n",
       "// Listen for the removal of the full notebook cells\n",
       "var notebookContainer = gd.closest('#notebook-container');\n",
       "if (notebookContainer) {{\n",
       "    x.observe(notebookContainer, {childList: true});\n",
       "}}\n",
       "\n",
       "// Listen for the clearing of the current output cell\n",
       "var outputEl = gd.closest('.output');\n",
       "if (outputEl) {{\n",
       "    x.observe(outputEl, {childList: true});\n",
       "}}\n",
       "\n",
       "                        })                };                });            </script>        </div>"
      ]
     },
     "metadata": {},
     "output_type": "display_data"
    },
    {
     "data": {
      "text/plain": [
       "'Account_statement_graph.html'"
      ]
     },
     "execution_count": 228,
     "metadata": {},
     "output_type": "execute_result"
    }
   ],
   "source": [
    "#draw the line chart for Debit and creit values\n",
    "trace=go.Scatter(\n",
    "x=df1['Date'],\n",
    "y=df1['Debit'],\n",
    "mode='lines+markers',\n",
    "connectgaps=True,\n",
    "name=\"Debit\",\n",
    "marker=dict(\n",
    "color='red'\n",
    ")\n",
    ")\n",
    "trace1=go.Scatter(\n",
    "x=df1['Date'],\n",
    "y=df1['Credit'],\n",
    "mode='lines+markers',\n",
    "connectgaps=True,\n",
    "name=\"Credit\",\n",
    "marker=dict(\n",
    "color='green'\n",
    ")\n",
    ")\n",
    "layout=go.Layout(\n",
    "title=\"CREDIT AND DEBIT\"\n",
    ")\n",
    "fig=go.Figure([trace,trace1],layout=layout)\n",
    "#it's shows graph down\n",
    "fig.show()\n",
    "#it's shows graph to seperte html file format and save to path with this Account_statement_graph.html name\n",
    "plot(fig,filename='Account_statement_graph.html')"
   ]
  },
  {
   "cell_type": "code",
   "execution_count": 283,
   "id": "b594ead6",
   "metadata": {},
   "outputs": [
    {
     "name": "stdout",
     "output_type": "stream",
     "text": [
      "[{'args': ['transforms[0].aggregations[0].func', 'count'], 'label': 'count', 'method': 'restyle'}, {'args': ['transforms[0].aggregations[0].func', 'avg'], 'label': 'avg', 'method': 'restyle'}, {'args': ['transforms[0].aggregations[0].func', 'sum'], 'label': 'sum', 'method': 'restyle'}, {'args': ['transforms[0].aggregations[0].func', 'first'], 'label': 'first', 'method': 'restyle'}, {'args': ['transforms[0].aggregations[0].func', 'last'], 'label': 'last', 'method': 'restyle'}, {'args': ['transforms[0].aggregations[0].func', 'min'], 'label': 'min', 'method': 'restyle'}, {'args': ['transforms[0].aggregations[0].func', 'max'], 'label': 'max', 'method': 'restyle'}, {'args': ['transforms[0].aggregations[0].func', 'median'], 'label': 'median', 'method': 'restyle'}]\n"
     ]
    },
    {
     "data": {
      "text/plain": [
       "'temp-plot.html'"
      ]
     },
     "execution_count": 283,
     "metadata": {},
     "output_type": "execute_result"
    }
   ],
   "source": [
    "#find every day debit value for all aggregate values using updatemenu(dropdownlist)\n",
    "aggs=['count','avg','sum','first','last','min','max','median']\n",
    "dd1=[]\n",
    "dd=[]\n",
    "for i in range(len(aggs)):\n",
    "    dd=dict(\n",
    "    args=['transforms[0].aggregations[0].func',aggs[i]],\n",
    "    label=aggs[i],\n",
    "    method='restyle'\n",
    "    )\n",
    "    dd1.append(dd)\n",
    "data = [dict(\n",
    "  type = 'scatter',\n",
    "  x = df1['Date'],\n",
    "  y = df1['Debit'],\n",
    "  mode = 'markers',\n",
    "  transforms = [dict(\n",
    "    type = 'aggregate',\n",
    "    groups =df1['Date'] ,\n",
    "    aggregations = [dict(\n",
    "        target = 'y', func = 'sum', enabled = True)\n",
    "    ]\n",
    "  )]\n",
    ")]\n",
    "layout=dict(\n",
    "title=\"Every day debit value for all aggregate\",\n",
    "updatemenus=[dict(\n",
    "     x = 0.85,\n",
    "        y = 1.15,\n",
    "active=2,\n",
    "    buttons=dd1\n",
    "\n",
    ")]\n",
    ")\n",
    "print(dd1)\n",
    "plot({'data':data,'layout':layout},validate=False)#it will open seperate html webpage and there it will show the result"
   ]
  },
  {
   "cell_type": "code",
   "execution_count": 271,
   "id": "d82996d6",
   "metadata": {},
   "outputs": [
    {
     "name": "stdout",
     "output_type": "stream",
     "text": [
      "          Date         Debit        Credit\n",
      "0    1/10/2023           NaN     22.000000\n",
      "1     1/9/2023   1913.000000   3000.000000\n",
      "2    11/9/2023    547.333333   4200.000000\n",
      "3    12/9/2023   6640.000000  43500.000000\n",
      "4   13-09-2023    260.000000           NaN\n",
      "5   14-09-2023   5000.000000           NaN\n",
      "6   15-09-2023    442.333333    100.000000\n",
      "7   16-09-2023           NaN    140.000000\n",
      "8   17-09-2023     66.666667           NaN\n",
      "9   19-09-2023    100.000000   1000.000000\n",
      "10    2/9/2023   3723.800000    500.000000\n",
      "11  20-09-2023           NaN    432.000000\n",
      "12  21-09-2023     35.000000           NaN\n",
      "13  22-09-2023  10751.666667  16300.000000\n",
      "14  23-09-2023   1000.000000           NaN\n",
      "15  27-09-2023   1500.000000   1000.000000\n",
      "16  28-09-2023     90.500000           NaN\n",
      "17  29-09-2023     40.000000  27930.000000\n",
      "18    3/9/2023    610.000000           NaN\n",
      "19  30-09-2023   1888.926667   1500.000000\n",
      "20    5/9/2023   3650.000000   3025.000000\n",
      "21    6/9/2023   8350.000000   5533.333333\n",
      "22    7/9/2023     30.000000           NaN\n",
      "23    8/9/2023    100.000000    500.000000\n",
      "24    9/9/2023    160.000000           NaN\n"
     ]
    },
    {
     "name": "stderr",
     "output_type": "stream",
     "text": [
      "C:\\Users\\Admin\\AppData\\Local\\Temp\\ipykernel_820\\3600362541.py:2: FutureWarning:\n",
      "\n",
      "Indexing with multiple keys (implicitly converted to a tuple of keys) will be deprecated, use a list instead.\n",
      "\n"
     ]
    }
   ],
   "source": [
    "#find out Average of every day tranctions and create table by plotly\n",
    "data1=df1.groupby(['Date'])['Debit','Credit'].mean()\n",
    "data2=data1.reset_index()\n",
    "print(data2)"
   ]
  },
  {
   "cell_type": "code",
   "execution_count": 272,
   "id": "912e01cc",
   "metadata": {},
   "outputs": [
    {
     "data": {
      "application/vnd.plotly.v1+json": {
       "config": {
        "plotlyServerURL": "https://plot.ly"
       },
       "data": [
        {
         "cells": {
          "values": [
           [
            "1/10/2023",
            "1/9/2023",
            "11/9/2023",
            "12/9/2023",
            "13-09-2023",
            "14-09-2023",
            "15-09-2023",
            "16-09-2023",
            "17-09-2023",
            "19-09-2023",
            "2/9/2023",
            "20-09-2023",
            "21-09-2023",
            "22-09-2023",
            "23-09-2023",
            "27-09-2023",
            "28-09-2023",
            "29-09-2023",
            "3/9/2023",
            "30-09-2023",
            "5/9/2023",
            "6/9/2023",
            "7/9/2023",
            "8/9/2023",
            "9/9/2023"
           ],
           [
            null,
            1913,
            547.3333333333334,
            6640,
            260,
            5000,
            442.3333333333333,
            null,
            66.66666666666667,
            100,
            3723.8,
            null,
            35,
            10751.666666666666,
            1000,
            1500,
            90.5,
            40,
            610,
            1888.9266666666665,
            3650,
            8350,
            30,
            100,
            160
           ],
           [
            22,
            3000,
            4200,
            43500,
            null,
            null,
            100,
            140,
            null,
            1000,
            500,
            432,
            null,
            16300,
            null,
            1000,
            null,
            27930,
            null,
            1500,
            3025,
            5533.333333333333,
            null,
            500,
            null
           ]
          ]
         },
         "header": {
          "values": [
           "Date",
           "Debit",
           "Credit"
          ]
         },
         "type": "table"
        }
       ],
       "layout": {
        "template": {
         "data": {
          "bar": [
           {
            "error_x": {
             "color": "#2a3f5f"
            },
            "error_y": {
             "color": "#2a3f5f"
            },
            "marker": {
             "line": {
              "color": "#E5ECF6",
              "width": 0.5
             },
             "pattern": {
              "fillmode": "overlay",
              "size": 10,
              "solidity": 0.2
             }
            },
            "type": "bar"
           }
          ],
          "barpolar": [
           {
            "marker": {
             "line": {
              "color": "#E5ECF6",
              "width": 0.5
             },
             "pattern": {
              "fillmode": "overlay",
              "size": 10,
              "solidity": 0.2
             }
            },
            "type": "barpolar"
           }
          ],
          "carpet": [
           {
            "aaxis": {
             "endlinecolor": "#2a3f5f",
             "gridcolor": "white",
             "linecolor": "white",
             "minorgridcolor": "white",
             "startlinecolor": "#2a3f5f"
            },
            "baxis": {
             "endlinecolor": "#2a3f5f",
             "gridcolor": "white",
             "linecolor": "white",
             "minorgridcolor": "white",
             "startlinecolor": "#2a3f5f"
            },
            "type": "carpet"
           }
          ],
          "choropleth": [
           {
            "colorbar": {
             "outlinewidth": 0,
             "ticks": ""
            },
            "type": "choropleth"
           }
          ],
          "contour": [
           {
            "colorbar": {
             "outlinewidth": 0,
             "ticks": ""
            },
            "colorscale": [
             [
              0,
              "#0d0887"
             ],
             [
              0.1111111111111111,
              "#46039f"
             ],
             [
              0.2222222222222222,
              "#7201a8"
             ],
             [
              0.3333333333333333,
              "#9c179e"
             ],
             [
              0.4444444444444444,
              "#bd3786"
             ],
             [
              0.5555555555555556,
              "#d8576b"
             ],
             [
              0.6666666666666666,
              "#ed7953"
             ],
             [
              0.7777777777777778,
              "#fb9f3a"
             ],
             [
              0.8888888888888888,
              "#fdca26"
             ],
             [
              1,
              "#f0f921"
             ]
            ],
            "type": "contour"
           }
          ],
          "contourcarpet": [
           {
            "colorbar": {
             "outlinewidth": 0,
             "ticks": ""
            },
            "type": "contourcarpet"
           }
          ],
          "heatmap": [
           {
            "colorbar": {
             "outlinewidth": 0,
             "ticks": ""
            },
            "colorscale": [
             [
              0,
              "#0d0887"
             ],
             [
              0.1111111111111111,
              "#46039f"
             ],
             [
              0.2222222222222222,
              "#7201a8"
             ],
             [
              0.3333333333333333,
              "#9c179e"
             ],
             [
              0.4444444444444444,
              "#bd3786"
             ],
             [
              0.5555555555555556,
              "#d8576b"
             ],
             [
              0.6666666666666666,
              "#ed7953"
             ],
             [
              0.7777777777777778,
              "#fb9f3a"
             ],
             [
              0.8888888888888888,
              "#fdca26"
             ],
             [
              1,
              "#f0f921"
             ]
            ],
            "type": "heatmap"
           }
          ],
          "heatmapgl": [
           {
            "colorbar": {
             "outlinewidth": 0,
             "ticks": ""
            },
            "colorscale": [
             [
              0,
              "#0d0887"
             ],
             [
              0.1111111111111111,
              "#46039f"
             ],
             [
              0.2222222222222222,
              "#7201a8"
             ],
             [
              0.3333333333333333,
              "#9c179e"
             ],
             [
              0.4444444444444444,
              "#bd3786"
             ],
             [
              0.5555555555555556,
              "#d8576b"
             ],
             [
              0.6666666666666666,
              "#ed7953"
             ],
             [
              0.7777777777777778,
              "#fb9f3a"
             ],
             [
              0.8888888888888888,
              "#fdca26"
             ],
             [
              1,
              "#f0f921"
             ]
            ],
            "type": "heatmapgl"
           }
          ],
          "histogram": [
           {
            "marker": {
             "pattern": {
              "fillmode": "overlay",
              "size": 10,
              "solidity": 0.2
             }
            },
            "type": "histogram"
           }
          ],
          "histogram2d": [
           {
            "colorbar": {
             "outlinewidth": 0,
             "ticks": ""
            },
            "colorscale": [
             [
              0,
              "#0d0887"
             ],
             [
              0.1111111111111111,
              "#46039f"
             ],
             [
              0.2222222222222222,
              "#7201a8"
             ],
             [
              0.3333333333333333,
              "#9c179e"
             ],
             [
              0.4444444444444444,
              "#bd3786"
             ],
             [
              0.5555555555555556,
              "#d8576b"
             ],
             [
              0.6666666666666666,
              "#ed7953"
             ],
             [
              0.7777777777777778,
              "#fb9f3a"
             ],
             [
              0.8888888888888888,
              "#fdca26"
             ],
             [
              1,
              "#f0f921"
             ]
            ],
            "type": "histogram2d"
           }
          ],
          "histogram2dcontour": [
           {
            "colorbar": {
             "outlinewidth": 0,
             "ticks": ""
            },
            "colorscale": [
             [
              0,
              "#0d0887"
             ],
             [
              0.1111111111111111,
              "#46039f"
             ],
             [
              0.2222222222222222,
              "#7201a8"
             ],
             [
              0.3333333333333333,
              "#9c179e"
             ],
             [
              0.4444444444444444,
              "#bd3786"
             ],
             [
              0.5555555555555556,
              "#d8576b"
             ],
             [
              0.6666666666666666,
              "#ed7953"
             ],
             [
              0.7777777777777778,
              "#fb9f3a"
             ],
             [
              0.8888888888888888,
              "#fdca26"
             ],
             [
              1,
              "#f0f921"
             ]
            ],
            "type": "histogram2dcontour"
           }
          ],
          "mesh3d": [
           {
            "colorbar": {
             "outlinewidth": 0,
             "ticks": ""
            },
            "type": "mesh3d"
           }
          ],
          "parcoords": [
           {
            "line": {
             "colorbar": {
              "outlinewidth": 0,
              "ticks": ""
             }
            },
            "type": "parcoords"
           }
          ],
          "pie": [
           {
            "automargin": true,
            "type": "pie"
           }
          ],
          "scatter": [
           {
            "fillpattern": {
             "fillmode": "overlay",
             "size": 10,
             "solidity": 0.2
            },
            "type": "scatter"
           }
          ],
          "scatter3d": [
           {
            "line": {
             "colorbar": {
              "outlinewidth": 0,
              "ticks": ""
             }
            },
            "marker": {
             "colorbar": {
              "outlinewidth": 0,
              "ticks": ""
             }
            },
            "type": "scatter3d"
           }
          ],
          "scattercarpet": [
           {
            "marker": {
             "colorbar": {
              "outlinewidth": 0,
              "ticks": ""
             }
            },
            "type": "scattercarpet"
           }
          ],
          "scattergeo": [
           {
            "marker": {
             "colorbar": {
              "outlinewidth": 0,
              "ticks": ""
             }
            },
            "type": "scattergeo"
           }
          ],
          "scattergl": [
           {
            "marker": {
             "colorbar": {
              "outlinewidth": 0,
              "ticks": ""
             }
            },
            "type": "scattergl"
           }
          ],
          "scattermapbox": [
           {
            "marker": {
             "colorbar": {
              "outlinewidth": 0,
              "ticks": ""
             }
            },
            "type": "scattermapbox"
           }
          ],
          "scatterpolar": [
           {
            "marker": {
             "colorbar": {
              "outlinewidth": 0,
              "ticks": ""
             }
            },
            "type": "scatterpolar"
           }
          ],
          "scatterpolargl": [
           {
            "marker": {
             "colorbar": {
              "outlinewidth": 0,
              "ticks": ""
             }
            },
            "type": "scatterpolargl"
           }
          ],
          "scatterternary": [
           {
            "marker": {
             "colorbar": {
              "outlinewidth": 0,
              "ticks": ""
             }
            },
            "type": "scatterternary"
           }
          ],
          "surface": [
           {
            "colorbar": {
             "outlinewidth": 0,
             "ticks": ""
            },
            "colorscale": [
             [
              0,
              "#0d0887"
             ],
             [
              0.1111111111111111,
              "#46039f"
             ],
             [
              0.2222222222222222,
              "#7201a8"
             ],
             [
              0.3333333333333333,
              "#9c179e"
             ],
             [
              0.4444444444444444,
              "#bd3786"
             ],
             [
              0.5555555555555556,
              "#d8576b"
             ],
             [
              0.6666666666666666,
              "#ed7953"
             ],
             [
              0.7777777777777778,
              "#fb9f3a"
             ],
             [
              0.8888888888888888,
              "#fdca26"
             ],
             [
              1,
              "#f0f921"
             ]
            ],
            "type": "surface"
           }
          ],
          "table": [
           {
            "cells": {
             "fill": {
              "color": "#EBF0F8"
             },
             "line": {
              "color": "white"
             }
            },
            "header": {
             "fill": {
              "color": "#C8D4E3"
             },
             "line": {
              "color": "white"
             }
            },
            "type": "table"
           }
          ]
         },
         "layout": {
          "annotationdefaults": {
           "arrowcolor": "#2a3f5f",
           "arrowhead": 0,
           "arrowwidth": 1
          },
          "autotypenumbers": "strict",
          "coloraxis": {
           "colorbar": {
            "outlinewidth": 0,
            "ticks": ""
           }
          },
          "colorscale": {
           "diverging": [
            [
             0,
             "#8e0152"
            ],
            [
             0.1,
             "#c51b7d"
            ],
            [
             0.2,
             "#de77ae"
            ],
            [
             0.3,
             "#f1b6da"
            ],
            [
             0.4,
             "#fde0ef"
            ],
            [
             0.5,
             "#f7f7f7"
            ],
            [
             0.6,
             "#e6f5d0"
            ],
            [
             0.7,
             "#b8e186"
            ],
            [
             0.8,
             "#7fbc41"
            ],
            [
             0.9,
             "#4d9221"
            ],
            [
             1,
             "#276419"
            ]
           ],
           "sequential": [
            [
             0,
             "#0d0887"
            ],
            [
             0.1111111111111111,
             "#46039f"
            ],
            [
             0.2222222222222222,
             "#7201a8"
            ],
            [
             0.3333333333333333,
             "#9c179e"
            ],
            [
             0.4444444444444444,
             "#bd3786"
            ],
            [
             0.5555555555555556,
             "#d8576b"
            ],
            [
             0.6666666666666666,
             "#ed7953"
            ],
            [
             0.7777777777777778,
             "#fb9f3a"
            ],
            [
             0.8888888888888888,
             "#fdca26"
            ],
            [
             1,
             "#f0f921"
            ]
           ],
           "sequentialminus": [
            [
             0,
             "#0d0887"
            ],
            [
             0.1111111111111111,
             "#46039f"
            ],
            [
             0.2222222222222222,
             "#7201a8"
            ],
            [
             0.3333333333333333,
             "#9c179e"
            ],
            [
             0.4444444444444444,
             "#bd3786"
            ],
            [
             0.5555555555555556,
             "#d8576b"
            ],
            [
             0.6666666666666666,
             "#ed7953"
            ],
            [
             0.7777777777777778,
             "#fb9f3a"
            ],
            [
             0.8888888888888888,
             "#fdca26"
            ],
            [
             1,
             "#f0f921"
            ]
           ]
          },
          "colorway": [
           "#636efa",
           "#EF553B",
           "#00cc96",
           "#ab63fa",
           "#FFA15A",
           "#19d3f3",
           "#FF6692",
           "#B6E880",
           "#FF97FF",
           "#FECB52"
          ],
          "font": {
           "color": "#2a3f5f"
          },
          "geo": {
           "bgcolor": "white",
           "lakecolor": "white",
           "landcolor": "#E5ECF6",
           "showlakes": true,
           "showland": true,
           "subunitcolor": "white"
          },
          "hoverlabel": {
           "align": "left"
          },
          "hovermode": "closest",
          "mapbox": {
           "style": "light"
          },
          "paper_bgcolor": "white",
          "plot_bgcolor": "#E5ECF6",
          "polar": {
           "angularaxis": {
            "gridcolor": "white",
            "linecolor": "white",
            "ticks": ""
           },
           "bgcolor": "#E5ECF6",
           "radialaxis": {
            "gridcolor": "white",
            "linecolor": "white",
            "ticks": ""
           }
          },
          "scene": {
           "xaxis": {
            "backgroundcolor": "#E5ECF6",
            "gridcolor": "white",
            "gridwidth": 2,
            "linecolor": "white",
            "showbackground": true,
            "ticks": "",
            "zerolinecolor": "white"
           },
           "yaxis": {
            "backgroundcolor": "#E5ECF6",
            "gridcolor": "white",
            "gridwidth": 2,
            "linecolor": "white",
            "showbackground": true,
            "ticks": "",
            "zerolinecolor": "white"
           },
           "zaxis": {
            "backgroundcolor": "#E5ECF6",
            "gridcolor": "white",
            "gridwidth": 2,
            "linecolor": "white",
            "showbackground": true,
            "ticks": "",
            "zerolinecolor": "white"
           }
          },
          "shapedefaults": {
           "line": {
            "color": "#2a3f5f"
           }
          },
          "ternary": {
           "aaxis": {
            "gridcolor": "white",
            "linecolor": "white",
            "ticks": ""
           },
           "baxis": {
            "gridcolor": "white",
            "linecolor": "white",
            "ticks": ""
           },
           "bgcolor": "#E5ECF6",
           "caxis": {
            "gridcolor": "white",
            "linecolor": "white",
            "ticks": ""
           }
          },
          "title": {
           "x": 0.05
          },
          "xaxis": {
           "automargin": true,
           "gridcolor": "white",
           "linecolor": "white",
           "ticks": "",
           "title": {
            "standoff": 15
           },
           "zerolinecolor": "white",
           "zerolinewidth": 2
          },
          "yaxis": {
           "automargin": true,
           "gridcolor": "white",
           "linecolor": "white",
           "ticks": "",
           "title": {
            "standoff": 15
           },
           "zerolinecolor": "white",
           "zerolinewidth": 2
          }
         }
        },
        "title": {
         "text": "<b>average of every day tranctions</b>"
        }
       }
      },
      "text/html": [
       "<div>                            <div id=\"f1a00594-c508-477c-83c0-8e9470ce0a31\" class=\"plotly-graph-div\" style=\"height:525px; width:100%;\"></div>            <script type=\"text/javascript\">                require([\"plotly\"], function(Plotly) {                    window.PLOTLYENV=window.PLOTLYENV || {};                                    if (document.getElementById(\"f1a00594-c508-477c-83c0-8e9470ce0a31\")) {                    Plotly.newPlot(                        \"f1a00594-c508-477c-83c0-8e9470ce0a31\",                        [{\"cells\":{\"values\":[[\"1/10/2023\",\"1/9/2023\",\"11/9/2023\",\"12/9/2023\",\"13-09-2023\",\"14-09-2023\",\"15-09-2023\",\"16-09-2023\",\"17-09-2023\",\"19-09-2023\",\"2/9/2023\",\"20-09-2023\",\"21-09-2023\",\"22-09-2023\",\"23-09-2023\",\"27-09-2023\",\"28-09-2023\",\"29-09-2023\",\"3/9/2023\",\"30-09-2023\",\"5/9/2023\",\"6/9/2023\",\"7/9/2023\",\"8/9/2023\",\"9/9/2023\"],[null,1913.0,547.3333333333334,6640.0,260.0,5000.0,442.3333333333333,null,66.66666666666667,100.0,3723.8,null,35.0,10751.666666666666,1000.0,1500.0,90.5,40.0,610.0,1888.9266666666665,3650.0,8350.0,30.0,100.0,160.0],[22.0,3000.0,4200.0,43500.0,null,null,100.0,140.0,null,1000.0,500.0,432.0,null,16300.0,null,1000.0,null,27930.0,null,1500.0,3025.0,5533.333333333333,null,500.0,null]]},\"header\":{\"values\":[\"Date\",\"Debit\",\"Credit\"]},\"type\":\"table\"}],                        {\"title\":{\"text\":\"<b>average of every day tranctions</b>\"},\"template\":{\"data\":{\"histogram2dcontour\":[{\"type\":\"histogram2dcontour\",\"colorbar\":{\"outlinewidth\":0,\"ticks\":\"\"},\"colorscale\":[[0.0,\"#0d0887\"],[0.1111111111111111,\"#46039f\"],[0.2222222222222222,\"#7201a8\"],[0.3333333333333333,\"#9c179e\"],[0.4444444444444444,\"#bd3786\"],[0.5555555555555556,\"#d8576b\"],[0.6666666666666666,\"#ed7953\"],[0.7777777777777778,\"#fb9f3a\"],[0.8888888888888888,\"#fdca26\"],[1.0,\"#f0f921\"]]}],\"choropleth\":[{\"type\":\"choropleth\",\"colorbar\":{\"outlinewidth\":0,\"ticks\":\"\"}}],\"histogram2d\":[{\"type\":\"histogram2d\",\"colorbar\":{\"outlinewidth\":0,\"ticks\":\"\"},\"colorscale\":[[0.0,\"#0d0887\"],[0.1111111111111111,\"#46039f\"],[0.2222222222222222,\"#7201a8\"],[0.3333333333333333,\"#9c179e\"],[0.4444444444444444,\"#bd3786\"],[0.5555555555555556,\"#d8576b\"],[0.6666666666666666,\"#ed7953\"],[0.7777777777777778,\"#fb9f3a\"],[0.8888888888888888,\"#fdca26\"],[1.0,\"#f0f921\"]]}],\"heatmap\":[{\"type\":\"heatmap\",\"colorbar\":{\"outlinewidth\":0,\"ticks\":\"\"},\"colorscale\":[[0.0,\"#0d0887\"],[0.1111111111111111,\"#46039f\"],[0.2222222222222222,\"#7201a8\"],[0.3333333333333333,\"#9c179e\"],[0.4444444444444444,\"#bd3786\"],[0.5555555555555556,\"#d8576b\"],[0.6666666666666666,\"#ed7953\"],[0.7777777777777778,\"#fb9f3a\"],[0.8888888888888888,\"#fdca26\"],[1.0,\"#f0f921\"]]}],\"heatmapgl\":[{\"type\":\"heatmapgl\",\"colorbar\":{\"outlinewidth\":0,\"ticks\":\"\"},\"colorscale\":[[0.0,\"#0d0887\"],[0.1111111111111111,\"#46039f\"],[0.2222222222222222,\"#7201a8\"],[0.3333333333333333,\"#9c179e\"],[0.4444444444444444,\"#bd3786\"],[0.5555555555555556,\"#d8576b\"],[0.6666666666666666,\"#ed7953\"],[0.7777777777777778,\"#fb9f3a\"],[0.8888888888888888,\"#fdca26\"],[1.0,\"#f0f921\"]]}],\"contourcarpet\":[{\"type\":\"contourcarpet\",\"colorbar\":{\"outlinewidth\":0,\"ticks\":\"\"}}],\"contour\":[{\"type\":\"contour\",\"colorbar\":{\"outlinewidth\":0,\"ticks\":\"\"},\"colorscale\":[[0.0,\"#0d0887\"],[0.1111111111111111,\"#46039f\"],[0.2222222222222222,\"#7201a8\"],[0.3333333333333333,\"#9c179e\"],[0.4444444444444444,\"#bd3786\"],[0.5555555555555556,\"#d8576b\"],[0.6666666666666666,\"#ed7953\"],[0.7777777777777778,\"#fb9f3a\"],[0.8888888888888888,\"#fdca26\"],[1.0,\"#f0f921\"]]}],\"surface\":[{\"type\":\"surface\",\"colorbar\":{\"outlinewidth\":0,\"ticks\":\"\"},\"colorscale\":[[0.0,\"#0d0887\"],[0.1111111111111111,\"#46039f\"],[0.2222222222222222,\"#7201a8\"],[0.3333333333333333,\"#9c179e\"],[0.4444444444444444,\"#bd3786\"],[0.5555555555555556,\"#d8576b\"],[0.6666666666666666,\"#ed7953\"],[0.7777777777777778,\"#fb9f3a\"],[0.8888888888888888,\"#fdca26\"],[1.0,\"#f0f921\"]]}],\"mesh3d\":[{\"type\":\"mesh3d\",\"colorbar\":{\"outlinewidth\":0,\"ticks\":\"\"}}],\"scatter\":[{\"fillpattern\":{\"fillmode\":\"overlay\",\"size\":10,\"solidity\":0.2},\"type\":\"scatter\"}],\"parcoords\":[{\"type\":\"parcoords\",\"line\":{\"colorbar\":{\"outlinewidth\":0,\"ticks\":\"\"}}}],\"scatterpolargl\":[{\"type\":\"scatterpolargl\",\"marker\":{\"colorbar\":{\"outlinewidth\":0,\"ticks\":\"\"}}}],\"bar\":[{\"error_x\":{\"color\":\"#2a3f5f\"},\"error_y\":{\"color\":\"#2a3f5f\"},\"marker\":{\"line\":{\"color\":\"#E5ECF6\",\"width\":0.5},\"pattern\":{\"fillmode\":\"overlay\",\"size\":10,\"solidity\":0.2}},\"type\":\"bar\"}],\"scattergeo\":[{\"type\":\"scattergeo\",\"marker\":{\"colorbar\":{\"outlinewidth\":0,\"ticks\":\"\"}}}],\"scatterpolar\":[{\"type\":\"scatterpolar\",\"marker\":{\"colorbar\":{\"outlinewidth\":0,\"ticks\":\"\"}}}],\"histogram\":[{\"marker\":{\"pattern\":{\"fillmode\":\"overlay\",\"size\":10,\"solidity\":0.2}},\"type\":\"histogram\"}],\"scattergl\":[{\"type\":\"scattergl\",\"marker\":{\"colorbar\":{\"outlinewidth\":0,\"ticks\":\"\"}}}],\"scatter3d\":[{\"type\":\"scatter3d\",\"line\":{\"colorbar\":{\"outlinewidth\":0,\"ticks\":\"\"}},\"marker\":{\"colorbar\":{\"outlinewidth\":0,\"ticks\":\"\"}}}],\"scattermapbox\":[{\"type\":\"scattermapbox\",\"marker\":{\"colorbar\":{\"outlinewidth\":0,\"ticks\":\"\"}}}],\"scatterternary\":[{\"type\":\"scatterternary\",\"marker\":{\"colorbar\":{\"outlinewidth\":0,\"ticks\":\"\"}}}],\"scattercarpet\":[{\"type\":\"scattercarpet\",\"marker\":{\"colorbar\":{\"outlinewidth\":0,\"ticks\":\"\"}}}],\"carpet\":[{\"aaxis\":{\"endlinecolor\":\"#2a3f5f\",\"gridcolor\":\"white\",\"linecolor\":\"white\",\"minorgridcolor\":\"white\",\"startlinecolor\":\"#2a3f5f\"},\"baxis\":{\"endlinecolor\":\"#2a3f5f\",\"gridcolor\":\"white\",\"linecolor\":\"white\",\"minorgridcolor\":\"white\",\"startlinecolor\":\"#2a3f5f\"},\"type\":\"carpet\"}],\"table\":[{\"cells\":{\"fill\":{\"color\":\"#EBF0F8\"},\"line\":{\"color\":\"white\"}},\"header\":{\"fill\":{\"color\":\"#C8D4E3\"},\"line\":{\"color\":\"white\"}},\"type\":\"table\"}],\"barpolar\":[{\"marker\":{\"line\":{\"color\":\"#E5ECF6\",\"width\":0.5},\"pattern\":{\"fillmode\":\"overlay\",\"size\":10,\"solidity\":0.2}},\"type\":\"barpolar\"}],\"pie\":[{\"automargin\":true,\"type\":\"pie\"}]},\"layout\":{\"autotypenumbers\":\"strict\",\"colorway\":[\"#636efa\",\"#EF553B\",\"#00cc96\",\"#ab63fa\",\"#FFA15A\",\"#19d3f3\",\"#FF6692\",\"#B6E880\",\"#FF97FF\",\"#FECB52\"],\"font\":{\"color\":\"#2a3f5f\"},\"hovermode\":\"closest\",\"hoverlabel\":{\"align\":\"left\"},\"paper_bgcolor\":\"white\",\"plot_bgcolor\":\"#E5ECF6\",\"polar\":{\"bgcolor\":\"#E5ECF6\",\"angularaxis\":{\"gridcolor\":\"white\",\"linecolor\":\"white\",\"ticks\":\"\"},\"radialaxis\":{\"gridcolor\":\"white\",\"linecolor\":\"white\",\"ticks\":\"\"}},\"ternary\":{\"bgcolor\":\"#E5ECF6\",\"aaxis\":{\"gridcolor\":\"white\",\"linecolor\":\"white\",\"ticks\":\"\"},\"baxis\":{\"gridcolor\":\"white\",\"linecolor\":\"white\",\"ticks\":\"\"},\"caxis\":{\"gridcolor\":\"white\",\"linecolor\":\"white\",\"ticks\":\"\"}},\"coloraxis\":{\"colorbar\":{\"outlinewidth\":0,\"ticks\":\"\"}},\"colorscale\":{\"sequential\":[[0.0,\"#0d0887\"],[0.1111111111111111,\"#46039f\"],[0.2222222222222222,\"#7201a8\"],[0.3333333333333333,\"#9c179e\"],[0.4444444444444444,\"#bd3786\"],[0.5555555555555556,\"#d8576b\"],[0.6666666666666666,\"#ed7953\"],[0.7777777777777778,\"#fb9f3a\"],[0.8888888888888888,\"#fdca26\"],[1.0,\"#f0f921\"]],\"sequentialminus\":[[0.0,\"#0d0887\"],[0.1111111111111111,\"#46039f\"],[0.2222222222222222,\"#7201a8\"],[0.3333333333333333,\"#9c179e\"],[0.4444444444444444,\"#bd3786\"],[0.5555555555555556,\"#d8576b\"],[0.6666666666666666,\"#ed7953\"],[0.7777777777777778,\"#fb9f3a\"],[0.8888888888888888,\"#fdca26\"],[1.0,\"#f0f921\"]],\"diverging\":[[0,\"#8e0152\"],[0.1,\"#c51b7d\"],[0.2,\"#de77ae\"],[0.3,\"#f1b6da\"],[0.4,\"#fde0ef\"],[0.5,\"#f7f7f7\"],[0.6,\"#e6f5d0\"],[0.7,\"#b8e186\"],[0.8,\"#7fbc41\"],[0.9,\"#4d9221\"],[1,\"#276419\"]]},\"xaxis\":{\"gridcolor\":\"white\",\"linecolor\":\"white\",\"ticks\":\"\",\"title\":{\"standoff\":15},\"zerolinecolor\":\"white\",\"automargin\":true,\"zerolinewidth\":2},\"yaxis\":{\"gridcolor\":\"white\",\"linecolor\":\"white\",\"ticks\":\"\",\"title\":{\"standoff\":15},\"zerolinecolor\":\"white\",\"automargin\":true,\"zerolinewidth\":2},\"scene\":{\"xaxis\":{\"backgroundcolor\":\"#E5ECF6\",\"gridcolor\":\"white\",\"linecolor\":\"white\",\"showbackground\":true,\"ticks\":\"\",\"zerolinecolor\":\"white\",\"gridwidth\":2},\"yaxis\":{\"backgroundcolor\":\"#E5ECF6\",\"gridcolor\":\"white\",\"linecolor\":\"white\",\"showbackground\":true,\"ticks\":\"\",\"zerolinecolor\":\"white\",\"gridwidth\":2},\"zaxis\":{\"backgroundcolor\":\"#E5ECF6\",\"gridcolor\":\"white\",\"linecolor\":\"white\",\"showbackground\":true,\"ticks\":\"\",\"zerolinecolor\":\"white\",\"gridwidth\":2}},\"shapedefaults\":{\"line\":{\"color\":\"#2a3f5f\"}},\"annotationdefaults\":{\"arrowcolor\":\"#2a3f5f\",\"arrowhead\":0,\"arrowwidth\":1},\"geo\":{\"bgcolor\":\"white\",\"landcolor\":\"#E5ECF6\",\"subunitcolor\":\"white\",\"showland\":true,\"showlakes\":true,\"lakecolor\":\"white\"},\"title\":{\"x\":0.05},\"mapbox\":{\"style\":\"light\"}}}},                        {\"responsive\": true}                    ).then(function(){\n",
       "                            \n",
       "var gd = document.getElementById('f1a00594-c508-477c-83c0-8e9470ce0a31');\n",
       "var x = new MutationObserver(function (mutations, observer) {{\n",
       "        var display = window.getComputedStyle(gd).display;\n",
       "        if (!display || display === 'none') {{\n",
       "            console.log([gd, 'removed!']);\n",
       "            Plotly.purge(gd);\n",
       "            observer.disconnect();\n",
       "        }}\n",
       "}});\n",
       "\n",
       "// Listen for the removal of the full notebook cells\n",
       "var notebookContainer = gd.closest('#notebook-container');\n",
       "if (notebookContainer) {{\n",
       "    x.observe(notebookContainer, {childList: true});\n",
       "}}\n",
       "\n",
       "// Listen for the clearing of the current output cell\n",
       "var outputEl = gd.closest('.output');\n",
       "if (outputEl) {{\n",
       "    x.observe(outputEl, {childList: true});\n",
       "}}\n",
       "\n",
       "                        })                };                });            </script>        </div>"
      ]
     },
     "metadata": {},
     "output_type": "display_data"
    }
   ],
   "source": [
    "#creating table chart\n",
    "trace=go.Table(\n",
    "header=dict(values=data2.columns),\n",
    "cells=dict(\n",
    "values=[data2['Date'],data2['Debit'],data2['Credit']]\n",
    ")\n",
    "\n",
    ")\n",
    "layout=go.Layout(\n",
    "title=\"<b>average of every day tranctions</b>\"\n",
    ")\n",
    "figg=go.Figure(data=trace,layout=layout)\n",
    "figg.show()\n",
    "#plot(figg)"
   ]
  },
  {
   "cell_type": "code",
   "execution_count": 282,
   "id": "59c3be5d",
   "metadata": {},
   "outputs": [
    {
     "data": {
      "text/plain": [
       "Date\n",
       "1/10/2023     0\n",
       "1/9/2023      3\n",
       "11/9/2023     6\n",
       "12/9/2023     5\n",
       "13-09-2023    1\n",
       "14-09-2023    2\n",
       "15-09-2023    3\n",
       "16-09-2023    0\n",
       "17-09-2023    3\n",
       "19-09-2023    1\n",
       "2/9/2023      5\n",
       "20-09-2023    0\n",
       "21-09-2023    2\n",
       "22-09-2023    3\n",
       "23-09-2023    1\n",
       "27-09-2023    1\n",
       "28-09-2023    2\n",
       "29-09-2023    1\n",
       "3/9/2023      1\n",
       "30-09-2023    6\n",
       "5/9/2023      2\n",
       "6/9/2023      2\n",
       "7/9/2023      1\n",
       "8/9/2023      1\n",
       "9/9/2023      1\n",
       "Name: Debit, dtype: int64"
      ]
     },
     "execution_count": 282,
     "metadata": {},
     "output_type": "execute_result"
    }
   ],
   "source": [
    "#finding the debit column conunt for every day\n",
    "df1.groupby('Date')['Debit'].count()"
   ]
  },
  {
   "cell_type": "code",
   "execution_count": null,
   "id": "76d40bba",
   "metadata": {},
   "outputs": [],
   "source": [
    "#xlrd is excel file reader"
   ]
  },
  {
   "cell_type": "code",
   "execution_count": 45,
   "id": "0c9b440e",
   "metadata": {},
   "outputs": [
    {
     "name": "stdout",
     "output_type": "stream",
     "text": [
      "Defaulting to user installation because normal site-packages is not writeable\n",
      "Collecting xlrd\n",
      "  Downloading xlrd-2.0.1-py2.py3-none-any.whl (96 kB)\n",
      "     -------------------------------------- 96.5/96.5 kB 616.4 kB/s eta 0:00:00\n",
      "Installing collected packages: xlrd\n",
      "Successfully installed xlrd-2.0.1\n",
      "Note: you may need to restart the kernel to use updated packages.\n"
     ]
    }
   ],
   "source": [
    "pip install xlrd"
   ]
  },
  {
   "cell_type": "code",
   "execution_count": 284,
   "id": "54f88226",
   "metadata": {},
   "outputs": [
    {
     "data": {
      "text/html": [
       "<div>\n",
       "<style scoped>\n",
       "    .dataframe tbody tr th:only-of-type {\n",
       "        vertical-align: middle;\n",
       "    }\n",
       "\n",
       "    .dataframe tbody tr th {\n",
       "        vertical-align: top;\n",
       "    }\n",
       "\n",
       "    .dataframe thead th {\n",
       "        text-align: right;\n",
       "    }\n",
       "</style>\n",
       "<table border=\"1\" class=\"dataframe\">\n",
       "  <thead>\n",
       "    <tr style=\"text-align: right;\">\n",
       "      <th></th>\n",
       "      <th>Name :- KARTHIK R</th>\n",
       "      <th>Unnamed: 1</th>\n",
       "      <th>Unnamed: 2</th>\n",
       "      <th>Unnamed: 3</th>\n",
       "      <th>Unnamed: 4</th>\n",
       "      <th>Unnamed: 5</th>\n",
       "      <th>Unnamed: 6</th>\n",
       "      <th>Unnamed: 7</th>\n",
       "    </tr>\n",
       "  </thead>\n",
       "  <tbody>\n",
       "    <tr>\n",
       "      <th>0</th>\n",
       "      <td>Joint Holder :- -</td>\n",
       "      <td>NaN</td>\n",
       "      <td>NaN</td>\n",
       "      <td>NaN</td>\n",
       "      <td>NaN</td>\n",
       "      <td>NaN</td>\n",
       "      <td>NaN</td>\n",
       "      <td>NaN</td>\n",
       "    </tr>\n",
       "    <tr>\n",
       "      <th>1</th>\n",
       "      <td>1/92,WEST STREET,THOOTHUKKUDI</td>\n",
       "      <td>NaN</td>\n",
       "      <td>NaN</td>\n",
       "      <td>NaN</td>\n",
       "      <td>NaN</td>\n",
       "      <td>NaN</td>\n",
       "      <td>NaN</td>\n",
       "      <td>NaN</td>\n",
       "    </tr>\n",
       "    <tr>\n",
       "      <th>2</th>\n",
       "      <td></td>\n",
       "      <td>NaN</td>\n",
       "      <td>NaN</td>\n",
       "      <td>NaN</td>\n",
       "      <td>NaN</td>\n",
       "      <td>NaN</td>\n",
       "      <td>NaN</td>\n",
       "      <td>NaN</td>\n",
       "    </tr>\n",
       "    <tr>\n",
       "      <th>3</th>\n",
       "      <td>THOOTHUKKUDI-628216</td>\n",
       "      <td>NaN</td>\n",
       "      <td>NaN</td>\n",
       "      <td>NaN</td>\n",
       "      <td>NaN</td>\n",
       "      <td>NaN</td>\n",
       "      <td>NaN</td>\n",
       "      <td>NaN</td>\n",
       "    </tr>\n",
       "    <tr>\n",
       "      <th>4</th>\n",
       "      <td>TAMIL NADU-INDIA</td>\n",
       "      <td>NaN</td>\n",
       "      <td>NaN</td>\n",
       "      <td>NaN</td>\n",
       "      <td>NaN</td>\n",
       "      <td>NaN</td>\n",
       "      <td>NaN</td>\n",
       "      <td>NaN</td>\n",
       "    </tr>\n",
       "    <tr>\n",
       "      <th>...</th>\n",
       "      <td>...</td>\n",
       "      <td>...</td>\n",
       "      <td>...</td>\n",
       "      <td>...</td>\n",
       "      <td>...</td>\n",
       "      <td>...</td>\n",
       "      <td>...</td>\n",
       "      <td>...</td>\n",
       "    </tr>\n",
       "    <tr>\n",
       "      <th>108</th>\n",
       "      <td>CLG\\t\\t\\t-\\t\\t\\tCheque Clearing Transaction</td>\n",
       "      <td>NaN</td>\n",
       "      <td>NaN</td>\n",
       "      <td>NaN</td>\n",
       "      <td>NaN</td>\n",
       "      <td>NaN</td>\n",
       "      <td>NaN</td>\n",
       "      <td>NaN</td>\n",
       "    </tr>\n",
       "    <tr>\n",
       "      <th>109</th>\n",
       "      <td>EDC\\t\\t\\t-\\t\\t\\tCredit transaction through EDC...</td>\n",
       "      <td>NaN</td>\n",
       "      <td>NaN</td>\n",
       "      <td>NaN</td>\n",
       "      <td>NaN</td>\n",
       "      <td>NaN</td>\n",
       "      <td>NaN</td>\n",
       "      <td>NaN</td>\n",
       "    </tr>\n",
       "    <tr>\n",
       "      <th>110</th>\n",
       "      <td>SETU\\t\\t\\t-\\t\\t\\tSeamless electronic fund tran...</td>\n",
       "      <td>NaN</td>\n",
       "      <td>NaN</td>\n",
       "      <td>NaN</td>\n",
       "      <td>NaN</td>\n",
       "      <td>NaN</td>\n",
       "      <td>NaN</td>\n",
       "      <td>NaN</td>\n",
       "    </tr>\n",
       "    <tr>\n",
       "      <th>111</th>\n",
       "      <td>Int.pd\\t\\t\\t-\\t\\t\\tInterest paid to customer</td>\n",
       "      <td>NaN</td>\n",
       "      <td>NaN</td>\n",
       "      <td>NaN</td>\n",
       "      <td>NaN</td>\n",
       "      <td>NaN</td>\n",
       "      <td>NaN</td>\n",
       "      <td>NaN</td>\n",
       "    </tr>\n",
       "    <tr>\n",
       "      <th>112</th>\n",
       "      <td>Int.Coll\\t\\t-\\t\\t\\tInterest collected from the...</td>\n",
       "      <td>NaN</td>\n",
       "      <td>NaN</td>\n",
       "      <td>NaN</td>\n",
       "      <td>NaN</td>\n",
       "      <td>NaN</td>\n",
       "      <td>NaN</td>\n",
       "      <td>NaN</td>\n",
       "    </tr>\n",
       "  </tbody>\n",
       "</table>\n",
       "<p>113 rows × 8 columns</p>\n",
       "</div>"
      ],
      "text/plain": [
       "                                     Name :- KARTHIK R Unnamed: 1 Unnamed: 2  \\\n",
       "0                                    Joint Holder :- -        NaN        NaN   \n",
       "1                        1/92,WEST STREET,THOOTHUKKUDI        NaN        NaN   \n",
       "2                                                             NaN        NaN   \n",
       "3                                  THOOTHUKKUDI-628216        NaN        NaN   \n",
       "4                                     TAMIL NADU-INDIA        NaN        NaN   \n",
       "..                                                 ...        ...        ...   \n",
       "108        CLG\\t\\t\\t-\\t\\t\\tCheque Clearing Transaction        NaN        NaN   \n",
       "109  EDC\\t\\t\\t-\\t\\t\\tCredit transaction through EDC...        NaN        NaN   \n",
       "110  SETU\\t\\t\\t-\\t\\t\\tSeamless electronic fund tran...        NaN        NaN   \n",
       "111       Int.pd\\t\\t\\t-\\t\\t\\tInterest paid to customer        NaN        NaN   \n",
       "112  Int.Coll\\t\\t-\\t\\t\\tInterest collected from the...        NaN        NaN   \n",
       "\n",
       "    Unnamed: 3 Unnamed: 4 Unnamed: 5 Unnamed: 6 Unnamed: 7  \n",
       "0          NaN        NaN        NaN        NaN        NaN  \n",
       "1          NaN        NaN        NaN        NaN        NaN  \n",
       "2          NaN        NaN        NaN        NaN        NaN  \n",
       "3          NaN        NaN        NaN        NaN        NaN  \n",
       "4          NaN        NaN        NaN        NaN        NaN  \n",
       "..         ...        ...        ...        ...        ...  \n",
       "108        NaN        NaN        NaN        NaN        NaN  \n",
       "109        NaN        NaN        NaN        NaN        NaN  \n",
       "110        NaN        NaN        NaN        NaN        NaN  \n",
       "111        NaN        NaN        NaN        NaN        NaN  \n",
       "112        NaN        NaN        NaN        NaN        NaN  \n",
       "\n",
       "[113 rows x 8 columns]"
      ]
     },
     "execution_count": 284,
     "metadata": {},
     "output_type": "execute_result"
    }
   ],
   "source": [
    "#fetching whole data's from excel sheet\n",
    "#here displaying more wnwanted data's\n",
    "dd=pd.read_excel(\"921010031799158.xls\")\n",
    "dd"
   ]
  },
  {
   "cell_type": "code",
   "execution_count": 293,
   "id": "488a16f8",
   "metadata": {},
   "outputs": [
    {
     "data": {
      "text/html": [
       "<div>\n",
       "<style scoped>\n",
       "    .dataframe tbody tr th:only-of-type {\n",
       "        vertical-align: middle;\n",
       "    }\n",
       "\n",
       "    .dataframe tbody tr th {\n",
       "        vertical-align: top;\n",
       "    }\n",
       "\n",
       "    .dataframe thead th {\n",
       "        text-align: right;\n",
       "    }\n",
       "</style>\n",
       "<table border=\"1\" class=\"dataframe\">\n",
       "  <thead>\n",
       "    <tr style=\"text-align: right;\">\n",
       "      <th></th>\n",
       "      <th>Name :- KARTHIK R</th>\n",
       "      <th>Unnamed: 1</th>\n",
       "      <th>Unnamed: 2</th>\n",
       "      <th>Unnamed: 3</th>\n",
       "      <th>Unnamed: 4</th>\n",
       "      <th>Unnamed: 5</th>\n",
       "      <th>Unnamed: 6</th>\n",
       "      <th>Unnamed: 7</th>\n",
       "    </tr>\n",
       "  </thead>\n",
       "  <tbody>\n",
       "    <tr>\n",
       "      <th>0</th>\n",
       "      <td>Joint Holder :- -</td>\n",
       "      <td>NaN</td>\n",
       "      <td>NaN</td>\n",
       "      <td>NaN</td>\n",
       "      <td>NaN</td>\n",
       "      <td>NaN</td>\n",
       "      <td>NaN</td>\n",
       "      <td>NaN</td>\n",
       "    </tr>\n",
       "    <tr>\n",
       "      <th>1</th>\n",
       "      <td>1/92,WEST STREET,THOOTHUKKUDI</td>\n",
       "      <td>NaN</td>\n",
       "      <td>NaN</td>\n",
       "      <td>NaN</td>\n",
       "      <td>NaN</td>\n",
       "      <td>NaN</td>\n",
       "      <td>NaN</td>\n",
       "      <td>NaN</td>\n",
       "    </tr>\n",
       "    <tr>\n",
       "      <th>2</th>\n",
       "      <td></td>\n",
       "      <td>NaN</td>\n",
       "      <td>NaN</td>\n",
       "      <td>NaN</td>\n",
       "      <td>NaN</td>\n",
       "      <td>NaN</td>\n",
       "      <td>NaN</td>\n",
       "      <td>NaN</td>\n",
       "    </tr>\n",
       "    <tr>\n",
       "      <th>3</th>\n",
       "      <td>THOOTHUKKUDI-628216</td>\n",
       "      <td>NaN</td>\n",
       "      <td>NaN</td>\n",
       "      <td>NaN</td>\n",
       "      <td>NaN</td>\n",
       "      <td>NaN</td>\n",
       "      <td>NaN</td>\n",
       "      <td>NaN</td>\n",
       "    </tr>\n",
       "    <tr>\n",
       "      <th>4</th>\n",
       "      <td>TAMIL NADU-INDIA</td>\n",
       "      <td>NaN</td>\n",
       "      <td>NaN</td>\n",
       "      <td>NaN</td>\n",
       "      <td>NaN</td>\n",
       "      <td>NaN</td>\n",
       "      <td>NaN</td>\n",
       "      <td>NaN</td>\n",
       "    </tr>\n",
       "    <tr>\n",
       "      <th>5</th>\n",
       "      <td>Customer ID :- 907724646</td>\n",
       "      <td>NaN</td>\n",
       "      <td>NaN</td>\n",
       "      <td>NaN</td>\n",
       "      <td>NaN</td>\n",
       "      <td>NaN</td>\n",
       "      <td>NaN</td>\n",
       "      <td>NaN</td>\n",
       "    </tr>\n",
       "    <tr>\n",
       "      <th>6</th>\n",
       "      <td>IFSC Code :- UTIB0003093</td>\n",
       "      <td>NaN</td>\n",
       "      <td>NaN</td>\n",
       "      <td>NaN</td>\n",
       "      <td>NaN</td>\n",
       "      <td>NaN</td>\n",
       "      <td>NaN</td>\n",
       "      <td>NaN</td>\n",
       "    </tr>\n",
       "    <tr>\n",
       "      <th>7</th>\n",
       "      <td>MICR Code :- 560211072</td>\n",
       "      <td>NaN</td>\n",
       "      <td>NaN</td>\n",
       "      <td>NaN</td>\n",
       "      <td>NaN</td>\n",
       "      <td>NaN</td>\n",
       "      <td>NaN</td>\n",
       "      <td>NaN</td>\n",
       "    </tr>\n",
       "    <tr>\n",
       "      <th>8</th>\n",
       "      <td>Nominee Registered :- Y                       ...</td>\n",
       "      <td>NaN</td>\n",
       "      <td>NaN</td>\n",
       "      <td>NaN</td>\n",
       "      <td>NaN</td>\n",
       "      <td>NaN</td>\n",
       "      <td>NaN</td>\n",
       "      <td>NaN</td>\n",
       "    </tr>\n",
       "    <tr>\n",
       "      <th>9</th>\n",
       "      <td>Registered Mobile No :- XXXXXX4787</td>\n",
       "      <td>NaN</td>\n",
       "      <td>NaN</td>\n",
       "      <td>NaN</td>\n",
       "      <td>NaN</td>\n",
       "      <td>NaN</td>\n",
       "      <td>NaN</td>\n",
       "      <td>NaN</td>\n",
       "    </tr>\n",
       "    <tr>\n",
       "      <th>10</th>\n",
       "      <td>Registered Email ID :- TKXXXX22@GMAIL.COM</td>\n",
       "      <td>NaN</td>\n",
       "      <td>NaN</td>\n",
       "      <td>NaN</td>\n",
       "      <td>NaN</td>\n",
       "      <td>NaN</td>\n",
       "      <td>NaN</td>\n",
       "      <td>NaN</td>\n",
       "    </tr>\n",
       "    <tr>\n",
       "      <th>11</th>\n",
       "      <td>PAN :- FORM60</td>\n",
       "      <td>NaN</td>\n",
       "      <td>NaN</td>\n",
       "      <td>NaN</td>\n",
       "      <td>NaN</td>\n",
       "      <td>NaN</td>\n",
       "      <td>NaN</td>\n",
       "      <td>NaN</td>\n",
       "    </tr>\n",
       "    <tr>\n",
       "      <th>12</th>\n",
       "      <td>Statement of Account No - 921010031799158 for ...</td>\n",
       "      <td>NaN</td>\n",
       "      <td>NaN</td>\n",
       "      <td>NaN</td>\n",
       "      <td>NaN</td>\n",
       "      <td>NaN</td>\n",
       "      <td>NaN</td>\n",
       "      <td>NaN</td>\n",
       "    </tr>\n",
       "    <tr>\n",
       "      <th>13</th>\n",
       "      <td>\\t</td>\n",
       "      <td>NaN</td>\n",
       "      <td>NaN</td>\n",
       "      <td>NaN</td>\n",
       "      <td>NaN</td>\n",
       "      <td>NaN</td>\n",
       "      <td>NaN</td>\n",
       "      <td>NaN</td>\n",
       "    </tr>\n",
       "    <tr>\n",
       "      <th>14</th>\n",
       "      <td>SRL NO</td>\n",
       "      <td>Tran Date</td>\n",
       "      <td>CHQNO</td>\n",
       "      <td>PARTICULARS</td>\n",
       "      <td>DR</td>\n",
       "      <td>CR</td>\n",
       "      <td>BAL</td>\n",
       "      <td>SOL</td>\n",
       "    </tr>\n",
       "    <tr>\n",
       "      <th>15</th>\n",
       "      <td>1</td>\n",
       "      <td>01-09-2023</td>\n",
       "      <td>-</td>\n",
       "      <td>UPI/P2M/324448428665/BILLDESK /HDFC BANK/UPI</td>\n",
       "      <td>239.00</td>\n",
       "      <td></td>\n",
       "      <td>22990.42</td>\n",
       "      <td>3093</td>\n",
       "    </tr>\n",
       "    <tr>\n",
       "      <th>16</th>\n",
       "      <td>2</td>\n",
       "      <td>01-09-2023</td>\n",
       "      <td>-</td>\n",
       "      <td>UPI/P2A/324472728686/ABISHEK  /Kotak Mah/Payment</td>\n",
       "      <td>500.00</td>\n",
       "      <td></td>\n",
       "      <td>22490.42</td>\n",
       "      <td>3093</td>\n",
       "    </tr>\n",
       "    <tr>\n",
       "      <th>17</th>\n",
       "      <td>3</td>\n",
       "      <td>01-09-2023</td>\n",
       "      <td>-</td>\n",
       "      <td>UPI/P2A/361024150265/Marithang/Indian Ba/NA</td>\n",
       "      <td>5000.00</td>\n",
       "      <td></td>\n",
       "      <td>17490.42</td>\n",
       "      <td>3093</td>\n",
       "    </tr>\n",
       "    <tr>\n",
       "      <th>18</th>\n",
       "      <td>4</td>\n",
       "      <td>01-09-2023</td>\n",
       "      <td>-</td>\n",
       "      <td>UPI/P2A/324432624651/KARTHICK /Indian Ov/NA</td>\n",
       "      <td></td>\n",
       "      <td>3000.00</td>\n",
       "      <td>20490.42</td>\n",
       "      <td>3093</td>\n",
       "    </tr>\n",
       "    <tr>\n",
       "      <th>19</th>\n",
       "      <td>5</td>\n",
       "      <td>02-09-2023</td>\n",
       "      <td>-</td>\n",
       "      <td>UPI/P2A/324516080378/Rajaxxxxx/Indian Ba/NA</td>\n",
       "      <td>8850.00</td>\n",
       "      <td></td>\n",
       "      <td>11640.42</td>\n",
       "      <td>3093</td>\n",
       "    </tr>\n",
       "    <tr>\n",
       "      <th>20</th>\n",
       "      <td>6</td>\n",
       "      <td>02-09-2023</td>\n",
       "      <td>-</td>\n",
       "      <td>ATM-CASH/TIRUCHENDUR I ON/TIRUCHENDUR/020923</td>\n",
       "      <td>600.00</td>\n",
       "      <td></td>\n",
       "      <td>11040.42</td>\n",
       "      <td>3093</td>\n",
       "    </tr>\n",
       "    <tr>\n",
       "      <th>21</th>\n",
       "      <td>7</td>\n",
       "      <td>02-09-2023</td>\n",
       "      <td>-</td>\n",
       "      <td>UPI/P2A/361115807473/KARTHICK /Indian Ov/NA</td>\n",
       "      <td></td>\n",
       "      <td>500.00</td>\n",
       "      <td>11540.42</td>\n",
       "      <td>3093</td>\n",
       "    </tr>\n",
       "    <tr>\n",
       "      <th>22</th>\n",
       "      <td>8</td>\n",
       "      <td>02-09-2023</td>\n",
       "      <td>-</td>\n",
       "      <td>UPI/P2A/324574954658/SAMMANA R/Union Ban/Payment</td>\n",
       "      <td>6000.00</td>\n",
       "      <td></td>\n",
       "      <td>5540.42</td>\n",
       "      <td>3093</td>\n",
       "    </tr>\n",
       "    <tr>\n",
       "      <th>23</th>\n",
       "      <td>9</td>\n",
       "      <td>02-09-2023</td>\n",
       "      <td>-</td>\n",
       "      <td>UPI/P2A/361133886673/A MANICKA VASAGAM    /Sent</td>\n",
       "      <td>3000.00</td>\n",
       "      <td></td>\n",
       "      <td>2540.42</td>\n",
       "      <td>3093</td>\n",
       "    </tr>\n",
       "    <tr>\n",
       "      <th>24</th>\n",
       "      <td>10</td>\n",
       "      <td>02-09-2023</td>\n",
       "      <td>-</td>\n",
       "      <td>UPI/P2M/324588393841/SANTHI SW/Paytm Pay/Oid2023</td>\n",
       "      <td>169.00</td>\n",
       "      <td></td>\n",
       "      <td>2371.42</td>\n",
       "      <td>3093</td>\n",
       "    </tr>\n",
       "    <tr>\n",
       "      <th>25</th>\n",
       "      <td>11</td>\n",
       "      <td>03-09-2023</td>\n",
       "      <td>-</td>\n",
       "      <td>UPI/P2M/324682504893/SANTHI SWEETS        /Oid20</td>\n",
       "      <td>610.00</td>\n",
       "      <td></td>\n",
       "      <td>1761.42</td>\n",
       "      <td>3093</td>\n",
       "    </tr>\n",
       "    <tr>\n",
       "      <th>26</th>\n",
       "      <td>12</td>\n",
       "      <td>05-09-2023</td>\n",
       "      <td>-</td>\n",
       "      <td>UPI/P2A/324840810558/Karthick R           /NA</td>\n",
       "      <td>1000.00</td>\n",
       "      <td></td>\n",
       "      <td>761.42</td>\n",
       "      <td>3093</td>\n",
       "    </tr>\n",
       "    <tr>\n",
       "      <th>27</th>\n",
       "      <td>13</td>\n",
       "      <td>05-09-2023</td>\n",
       "      <td>-</td>\n",
       "      <td>UPI/P2A/324843480786/KARTHICK /Indian Ov/NA</td>\n",
       "      <td></td>\n",
       "      <td>6000.00</td>\n",
       "      <td>6761.42</td>\n",
       "      <td>3093</td>\n",
       "    </tr>\n",
       "    <tr>\n",
       "      <th>28</th>\n",
       "      <td>14</td>\n",
       "      <td>05-09-2023</td>\n",
       "      <td>-</td>\n",
       "      <td>UPI/P2A/361444401273/KARTHICK R           /NA</td>\n",
       "      <td>6300.00</td>\n",
       "      <td></td>\n",
       "      <td>461.42</td>\n",
       "      <td>3093</td>\n",
       "    </tr>\n",
       "    <tr>\n",
       "      <th>29</th>\n",
       "      <td>15</td>\n",
       "      <td>05-09-2023</td>\n",
       "      <td>-</td>\n",
       "      <td>UPI/P2A/361445796141/KARTHICK /Indian Ov/NA</td>\n",
       "      <td></td>\n",
       "      <td>50.00</td>\n",
       "      <td>511.42</td>\n",
       "      <td>3093</td>\n",
       "    </tr>\n",
       "  </tbody>\n",
       "</table>\n",
       "</div>"
      ],
      "text/plain": [
       "                                    Name :- KARTHIK R  Unnamed: 1 Unnamed: 2  \\\n",
       "0                                   Joint Holder :- -         NaN        NaN   \n",
       "1                       1/92,WEST STREET,THOOTHUKKUDI         NaN        NaN   \n",
       "2                                                             NaN        NaN   \n",
       "3                                 THOOTHUKKUDI-628216         NaN        NaN   \n",
       "4                                    TAMIL NADU-INDIA         NaN        NaN   \n",
       "5                            Customer ID :- 907724646         NaN        NaN   \n",
       "6                            IFSC Code :- UTIB0003093         NaN        NaN   \n",
       "7                              MICR Code :- 560211072         NaN        NaN   \n",
       "8   Nominee Registered :- Y                       ...         NaN        NaN   \n",
       "9                  Registered Mobile No :- XXXXXX4787         NaN        NaN   \n",
       "10          Registered Email ID :- TKXXXX22@GMAIL.COM         NaN        NaN   \n",
       "11                                      PAN :- FORM60         NaN        NaN   \n",
       "12  Statement of Account No - 921010031799158 for ...         NaN        NaN   \n",
       "13                                                 \\t         NaN        NaN   \n",
       "14                                             SRL NO   Tran Date      CHQNO   \n",
       "15                                                  1  01-09-2023          -   \n",
       "16                                                  2  01-09-2023          -   \n",
       "17                                                  3  01-09-2023          -   \n",
       "18                                                  4  01-09-2023          -   \n",
       "19                                                  5  02-09-2023          -   \n",
       "20                                                  6  02-09-2023          -   \n",
       "21                                                  7  02-09-2023          -   \n",
       "22                                                  8  02-09-2023          -   \n",
       "23                                                  9  02-09-2023          -   \n",
       "24                                                 10  02-09-2023          -   \n",
       "25                                                 11  03-09-2023          -   \n",
       "26                                                 12  05-09-2023          -   \n",
       "27                                                 13  05-09-2023          -   \n",
       "28                                                 14  05-09-2023          -   \n",
       "29                                                 15  05-09-2023          -   \n",
       "\n",
       "                                          Unnamed: 3             Unnamed: 4  \\\n",
       "0                                                NaN                    NaN   \n",
       "1                                                NaN                    NaN   \n",
       "2                                                NaN                    NaN   \n",
       "3                                                NaN                    NaN   \n",
       "4                                                NaN                    NaN   \n",
       "5                                                NaN                    NaN   \n",
       "6                                                NaN                    NaN   \n",
       "7                                                NaN                    NaN   \n",
       "8                                                NaN                    NaN   \n",
       "9                                                NaN                    NaN   \n",
       "10                                               NaN                    NaN   \n",
       "11                                               NaN                    NaN   \n",
       "12                                               NaN                    NaN   \n",
       "13                                               NaN                    NaN   \n",
       "14                                       PARTICULARS                     DR   \n",
       "15      UPI/P2M/324448428665/BILLDESK /HDFC BANK/UPI                 239.00   \n",
       "16  UPI/P2A/324472728686/ABISHEK  /Kotak Mah/Payment                 500.00   \n",
       "17       UPI/P2A/361024150265/Marithang/Indian Ba/NA                5000.00   \n",
       "18       UPI/P2A/324432624651/KARTHICK /Indian Ov/NA                          \n",
       "19       UPI/P2A/324516080378/Rajaxxxxx/Indian Ba/NA                8850.00   \n",
       "20      ATM-CASH/TIRUCHENDUR I ON/TIRUCHENDUR/020923                 600.00   \n",
       "21       UPI/P2A/361115807473/KARTHICK /Indian Ov/NA                          \n",
       "22  UPI/P2A/324574954658/SAMMANA R/Union Ban/Payment                6000.00   \n",
       "23   UPI/P2A/361133886673/A MANICKA VASAGAM    /Sent                3000.00   \n",
       "24  UPI/P2M/324588393841/SANTHI SW/Paytm Pay/Oid2023                 169.00   \n",
       "25  UPI/P2M/324682504893/SANTHI SWEETS        /Oid20                 610.00   \n",
       "26     UPI/P2A/324840810558/Karthick R           /NA                1000.00   \n",
       "27       UPI/P2A/324843480786/KARTHICK /Indian Ov/NA                          \n",
       "28     UPI/P2A/361444401273/KARTHICK R           /NA                6300.00   \n",
       "29       UPI/P2A/361445796141/KARTHICK /Indian Ov/NA                          \n",
       "\n",
       "               Unnamed: 5            Unnamed: 6 Unnamed: 7  \n",
       "0                     NaN                   NaN        NaN  \n",
       "1                     NaN                   NaN        NaN  \n",
       "2                     NaN                   NaN        NaN  \n",
       "3                     NaN                   NaN        NaN  \n",
       "4                     NaN                   NaN        NaN  \n",
       "5                     NaN                   NaN        NaN  \n",
       "6                     NaN                   NaN        NaN  \n",
       "7                     NaN                   NaN        NaN  \n",
       "8                     NaN                   NaN        NaN  \n",
       "9                     NaN                   NaN        NaN  \n",
       "10                    NaN                   NaN        NaN  \n",
       "11                    NaN                   NaN        NaN  \n",
       "12                    NaN                   NaN        NaN  \n",
       "13                    NaN                   NaN        NaN  \n",
       "14                     CR                   BAL        SOL  \n",
       "15                                     22990.42       3093  \n",
       "16                                     22490.42       3093  \n",
       "17                                     17490.42       3093  \n",
       "18                3000.00              20490.42       3093  \n",
       "19                                     11640.42       3093  \n",
       "20                                     11040.42       3093  \n",
       "21                 500.00              11540.42       3093  \n",
       "22                                      5540.42       3093  \n",
       "23                                      2540.42       3093  \n",
       "24                                      2371.42       3093  \n",
       "25                                      1761.42       3093  \n",
       "26                                       761.42       3093  \n",
       "27                6000.00               6761.42       3093  \n",
       "28                                       461.42       3093  \n",
       "29                  50.00                511.42       3093  "
      ]
     },
     "execution_count": 293,
     "metadata": {},
     "output_type": "execute_result"
    }
   ],
   "source": [
    "#finding wanted data from dataset like i want row 14 to 86\n",
    "#dd.tail(30)\n",
    "dd.head(30)"
   ]
  },
  {
   "cell_type": "code",
   "execution_count": 294,
   "id": "fbab3190",
   "metadata": {},
   "outputs": [
    {
     "data": {
      "text/html": [
       "<div>\n",
       "<style scoped>\n",
       "    .dataframe tbody tr th:only-of-type {\n",
       "        vertical-align: middle;\n",
       "    }\n",
       "\n",
       "    .dataframe tbody tr th {\n",
       "        vertical-align: top;\n",
       "    }\n",
       "\n",
       "    .dataframe thead th {\n",
       "        text-align: right;\n",
       "    }\n",
       "</style>\n",
       "<table border=\"1\" class=\"dataframe\">\n",
       "  <thead>\n",
       "    <tr style=\"text-align: right;\">\n",
       "      <th></th>\n",
       "      <th>index</th>\n",
       "      <th>Name :- KARTHIK R</th>\n",
       "      <th>Unnamed: 1</th>\n",
       "      <th>Unnamed: 2</th>\n",
       "      <th>Unnamed: 3</th>\n",
       "      <th>Unnamed: 4</th>\n",
       "      <th>Unnamed: 5</th>\n",
       "      <th>Unnamed: 6</th>\n",
       "      <th>Unnamed: 7</th>\n",
       "    </tr>\n",
       "  </thead>\n",
       "  <tbody>\n",
       "    <tr>\n",
       "      <th>0</th>\n",
       "      <td>14</td>\n",
       "      <td>SRL NO</td>\n",
       "      <td>Tran Date</td>\n",
       "      <td>CHQNO</td>\n",
       "      <td>PARTICULARS</td>\n",
       "      <td>DR</td>\n",
       "      <td>CR</td>\n",
       "      <td>BAL</td>\n",
       "      <td>SOL</td>\n",
       "    </tr>\n",
       "    <tr>\n",
       "      <th>1</th>\n",
       "      <td>15</td>\n",
       "      <td>1</td>\n",
       "      <td>01-09-2023</td>\n",
       "      <td>-</td>\n",
       "      <td>UPI/P2M/324448428665/BILLDESK /HDFC BANK/UPI</td>\n",
       "      <td>239.00</td>\n",
       "      <td></td>\n",
       "      <td>22990.42</td>\n",
       "      <td>3093</td>\n",
       "    </tr>\n",
       "    <tr>\n",
       "      <th>2</th>\n",
       "      <td>16</td>\n",
       "      <td>2</td>\n",
       "      <td>01-09-2023</td>\n",
       "      <td>-</td>\n",
       "      <td>UPI/P2A/324472728686/ABISHEK  /Kotak Mah/Payment</td>\n",
       "      <td>500.00</td>\n",
       "      <td></td>\n",
       "      <td>22490.42</td>\n",
       "      <td>3093</td>\n",
       "    </tr>\n",
       "    <tr>\n",
       "      <th>3</th>\n",
       "      <td>17</td>\n",
       "      <td>3</td>\n",
       "      <td>01-09-2023</td>\n",
       "      <td>-</td>\n",
       "      <td>UPI/P2A/361024150265/Marithang/Indian Ba/NA</td>\n",
       "      <td>5000.00</td>\n",
       "      <td></td>\n",
       "      <td>17490.42</td>\n",
       "      <td>3093</td>\n",
       "    </tr>\n",
       "    <tr>\n",
       "      <th>4</th>\n",
       "      <td>18</td>\n",
       "      <td>4</td>\n",
       "      <td>01-09-2023</td>\n",
       "      <td>-</td>\n",
       "      <td>UPI/P2A/324432624651/KARTHICK /Indian Ov/NA</td>\n",
       "      <td></td>\n",
       "      <td>3000.00</td>\n",
       "      <td>20490.42</td>\n",
       "      <td>3093</td>\n",
       "    </tr>\n",
       "    <tr>\n",
       "      <th>...</th>\n",
       "      <td>...</td>\n",
       "      <td>...</td>\n",
       "      <td>...</td>\n",
       "      <td>...</td>\n",
       "      <td>...</td>\n",
       "      <td>...</td>\n",
       "      <td>...</td>\n",
       "      <td>...</td>\n",
       "      <td>...</td>\n",
       "    </tr>\n",
       "    <tr>\n",
       "      <th>68</th>\n",
       "      <td>82</td>\n",
       "      <td>68</td>\n",
       "      <td>30-09-2023</td>\n",
       "      <td>-</td>\n",
       "      <td>UPI/P2M/327315710970/PRINCIPAL OXFD  DENT /Ver...</td>\n",
       "      <td>400.00</td>\n",
       "      <td></td>\n",
       "      <td>24206.42</td>\n",
       "      <td>3093</td>\n",
       "    </tr>\n",
       "    <tr>\n",
       "      <th>69</th>\n",
       "      <td>83</td>\n",
       "      <td>69</td>\n",
       "      <td>30-09-2023</td>\n",
       "      <td>-</td>\n",
       "      <td>UPI/P2A/327322613631/Ganesan C            /NA/...</td>\n",
       "      <td>5000.00</td>\n",
       "      <td></td>\n",
       "      <td>19206.42</td>\n",
       "      <td>3093</td>\n",
       "    </tr>\n",
       "    <tr>\n",
       "      <th>70</th>\n",
       "      <td>84</td>\n",
       "      <td>70</td>\n",
       "      <td>30-09-2023</td>\n",
       "      <td>-</td>\n",
       "      <td>UPI/P2M/327331589339/SMART BAZAAR         /NA/...</td>\n",
       "      <td>283.56</td>\n",
       "      <td></td>\n",
       "      <td>18922.86</td>\n",
       "      <td>3093</td>\n",
       "    </tr>\n",
       "    <tr>\n",
       "      <th>71</th>\n",
       "      <td>85</td>\n",
       "      <td>71</td>\n",
       "      <td>30-09-2023</td>\n",
       "      <td>-</td>\n",
       "      <td>UPI/P2M/327332076410/M KALEEM BASHA       /Sen...</td>\n",
       "      <td>50.00</td>\n",
       "      <td></td>\n",
       "      <td>18872.86</td>\n",
       "      <td>3093</td>\n",
       "    </tr>\n",
       "    <tr>\n",
       "      <th>72</th>\n",
       "      <td>86</td>\n",
       "      <td>72</td>\n",
       "      <td>30-09-2023</td>\n",
       "      <td>-</td>\n",
       "      <td>UPI/P2A/363932535892/KARTHICK R           /NA/...</td>\n",
       "      <td>600.00</td>\n",
       "      <td></td>\n",
       "      <td>18272.86</td>\n",
       "      <td>3093</td>\n",
       "    </tr>\n",
       "  </tbody>\n",
       "</table>\n",
       "<p>73 rows × 9 columns</p>\n",
       "</div>"
      ],
      "text/plain": [
       "    index Name :- KARTHIK R  Unnamed: 1 Unnamed: 2  \\\n",
       "0      14            SRL NO   Tran Date      CHQNO   \n",
       "1      15                 1  01-09-2023          -   \n",
       "2      16                 2  01-09-2023          -   \n",
       "3      17                 3  01-09-2023          -   \n",
       "4      18                 4  01-09-2023          -   \n",
       "..    ...               ...         ...        ...   \n",
       "68     82                68  30-09-2023          -   \n",
       "69     83                69  30-09-2023          -   \n",
       "70     84                70  30-09-2023          -   \n",
       "71     85                71  30-09-2023          -   \n",
       "72     86                72  30-09-2023          -   \n",
       "\n",
       "                                           Unnamed: 3             Unnamed: 4  \\\n",
       "0                                         PARTICULARS                     DR   \n",
       "1        UPI/P2M/324448428665/BILLDESK /HDFC BANK/UPI                 239.00   \n",
       "2    UPI/P2A/324472728686/ABISHEK  /Kotak Mah/Payment                 500.00   \n",
       "3         UPI/P2A/361024150265/Marithang/Indian Ba/NA                5000.00   \n",
       "4         UPI/P2A/324432624651/KARTHICK /Indian Ov/NA                          \n",
       "..                                                ...                    ...   \n",
       "68  UPI/P2M/327315710970/PRINCIPAL OXFD  DENT /Ver...                 400.00   \n",
       "69  UPI/P2A/327322613631/Ganesan C            /NA/...                5000.00   \n",
       "70  UPI/P2M/327331589339/SMART BAZAAR         /NA/...                 283.56   \n",
       "71  UPI/P2M/327332076410/M KALEEM BASHA       /Sen...                  50.00   \n",
       "72  UPI/P2A/363932535892/KARTHICK R           /NA/...                 600.00   \n",
       "\n",
       "               Unnamed: 5            Unnamed: 6 Unnamed: 7  \n",
       "0                      CR                   BAL        SOL  \n",
       "1                                      22990.42       3093  \n",
       "2                                      22490.42       3093  \n",
       "3                                      17490.42       3093  \n",
       "4                 3000.00              20490.42       3093  \n",
       "..                    ...                   ...        ...  \n",
       "68                                     24206.42       3093  \n",
       "69                                     19206.42       3093  \n",
       "70                                     18922.86       3093  \n",
       "71                                     18872.86       3093  \n",
       "72                                     18272.86       3093  \n",
       "\n",
       "[73 rows x 9 columns]"
      ]
     },
     "execution_count": 294,
     "metadata": {},
     "output_type": "execute_result"
    }
   ],
   "source": [
    "#extracing wanted data's from dd(whole dataset) dataset\n",
    "dd1=pd.DataFrame(dd.iloc[14:87]).reset_index()#extrxcting from 14 to 86 rows from dd dataset\n",
    "dd1"
   ]
  },
  {
   "cell_type": "code",
   "execution_count": 298,
   "id": "f0180e06",
   "metadata": {},
   "outputs": [],
   "source": [
    "#change the column as a first row\n",
    "dd1.rename(columns=dd1.iloc[0],inplace=True)"
   ]
  },
  {
   "cell_type": "code",
   "execution_count": 299,
   "id": "be2199bc",
   "metadata": {},
   "outputs": [
    {
     "data": {
      "text/html": [
       "<div>\n",
       "<style scoped>\n",
       "    .dataframe tbody tr th:only-of-type {\n",
       "        vertical-align: middle;\n",
       "    }\n",
       "\n",
       "    .dataframe tbody tr th {\n",
       "        vertical-align: top;\n",
       "    }\n",
       "\n",
       "    .dataframe thead th {\n",
       "        text-align: right;\n",
       "    }\n",
       "</style>\n",
       "<table border=\"1\" class=\"dataframe\">\n",
       "  <thead>\n",
       "    <tr style=\"text-align: right;\">\n",
       "      <th></th>\n",
       "      <th>14</th>\n",
       "      <th>SRL NO</th>\n",
       "      <th>Tran Date</th>\n",
       "      <th>CHQNO</th>\n",
       "      <th>PARTICULARS</th>\n",
       "      <th>DR</th>\n",
       "      <th>CR</th>\n",
       "      <th>BAL</th>\n",
       "      <th>SOL</th>\n",
       "    </tr>\n",
       "  </thead>\n",
       "  <tbody>\n",
       "    <tr>\n",
       "      <th>0</th>\n",
       "      <td>14</td>\n",
       "      <td>SRL NO</td>\n",
       "      <td>Tran Date</td>\n",
       "      <td>CHQNO</td>\n",
       "      <td>PARTICULARS</td>\n",
       "      <td>DR</td>\n",
       "      <td>CR</td>\n",
       "      <td>BAL</td>\n",
       "      <td>SOL</td>\n",
       "    </tr>\n",
       "    <tr>\n",
       "      <th>1</th>\n",
       "      <td>15</td>\n",
       "      <td>1</td>\n",
       "      <td>01-09-2023</td>\n",
       "      <td>-</td>\n",
       "      <td>UPI/P2M/324448428665/BILLDESK /HDFC BANK/UPI</td>\n",
       "      <td>239.00</td>\n",
       "      <td></td>\n",
       "      <td>22990.42</td>\n",
       "      <td>3093</td>\n",
       "    </tr>\n",
       "    <tr>\n",
       "      <th>2</th>\n",
       "      <td>16</td>\n",
       "      <td>2</td>\n",
       "      <td>01-09-2023</td>\n",
       "      <td>-</td>\n",
       "      <td>UPI/P2A/324472728686/ABISHEK  /Kotak Mah/Payment</td>\n",
       "      <td>500.00</td>\n",
       "      <td></td>\n",
       "      <td>22490.42</td>\n",
       "      <td>3093</td>\n",
       "    </tr>\n",
       "    <tr>\n",
       "      <th>3</th>\n",
       "      <td>17</td>\n",
       "      <td>3</td>\n",
       "      <td>01-09-2023</td>\n",
       "      <td>-</td>\n",
       "      <td>UPI/P2A/361024150265/Marithang/Indian Ba/NA</td>\n",
       "      <td>5000.00</td>\n",
       "      <td></td>\n",
       "      <td>17490.42</td>\n",
       "      <td>3093</td>\n",
       "    </tr>\n",
       "    <tr>\n",
       "      <th>4</th>\n",
       "      <td>18</td>\n",
       "      <td>4</td>\n",
       "      <td>01-09-2023</td>\n",
       "      <td>-</td>\n",
       "      <td>UPI/P2A/324432624651/KARTHICK /Indian Ov/NA</td>\n",
       "      <td></td>\n",
       "      <td>3000.00</td>\n",
       "      <td>20490.42</td>\n",
       "      <td>3093</td>\n",
       "    </tr>\n",
       "    <tr>\n",
       "      <th>...</th>\n",
       "      <td>...</td>\n",
       "      <td>...</td>\n",
       "      <td>...</td>\n",
       "      <td>...</td>\n",
       "      <td>...</td>\n",
       "      <td>...</td>\n",
       "      <td>...</td>\n",
       "      <td>...</td>\n",
       "      <td>...</td>\n",
       "    </tr>\n",
       "    <tr>\n",
       "      <th>68</th>\n",
       "      <td>82</td>\n",
       "      <td>68</td>\n",
       "      <td>30-09-2023</td>\n",
       "      <td>-</td>\n",
       "      <td>UPI/P2M/327315710970/PRINCIPAL OXFD  DENT /Ver...</td>\n",
       "      <td>400.00</td>\n",
       "      <td></td>\n",
       "      <td>24206.42</td>\n",
       "      <td>3093</td>\n",
       "    </tr>\n",
       "    <tr>\n",
       "      <th>69</th>\n",
       "      <td>83</td>\n",
       "      <td>69</td>\n",
       "      <td>30-09-2023</td>\n",
       "      <td>-</td>\n",
       "      <td>UPI/P2A/327322613631/Ganesan C            /NA/...</td>\n",
       "      <td>5000.00</td>\n",
       "      <td></td>\n",
       "      <td>19206.42</td>\n",
       "      <td>3093</td>\n",
       "    </tr>\n",
       "    <tr>\n",
       "      <th>70</th>\n",
       "      <td>84</td>\n",
       "      <td>70</td>\n",
       "      <td>30-09-2023</td>\n",
       "      <td>-</td>\n",
       "      <td>UPI/P2M/327331589339/SMART BAZAAR         /NA/...</td>\n",
       "      <td>283.56</td>\n",
       "      <td></td>\n",
       "      <td>18922.86</td>\n",
       "      <td>3093</td>\n",
       "    </tr>\n",
       "    <tr>\n",
       "      <th>71</th>\n",
       "      <td>85</td>\n",
       "      <td>71</td>\n",
       "      <td>30-09-2023</td>\n",
       "      <td>-</td>\n",
       "      <td>UPI/P2M/327332076410/M KALEEM BASHA       /Sen...</td>\n",
       "      <td>50.00</td>\n",
       "      <td></td>\n",
       "      <td>18872.86</td>\n",
       "      <td>3093</td>\n",
       "    </tr>\n",
       "    <tr>\n",
       "      <th>72</th>\n",
       "      <td>86</td>\n",
       "      <td>72</td>\n",
       "      <td>30-09-2023</td>\n",
       "      <td>-</td>\n",
       "      <td>UPI/P2A/363932535892/KARTHICK R           /NA/...</td>\n",
       "      <td>600.00</td>\n",
       "      <td></td>\n",
       "      <td>18272.86</td>\n",
       "      <td>3093</td>\n",
       "    </tr>\n",
       "  </tbody>\n",
       "</table>\n",
       "<p>73 rows × 9 columns</p>\n",
       "</div>"
      ],
      "text/plain": [
       "    14  SRL NO   Tran Date  CHQNO  \\\n",
       "0   14  SRL NO   Tran Date  CHQNO   \n",
       "1   15       1  01-09-2023      -   \n",
       "2   16       2  01-09-2023      -   \n",
       "3   17       3  01-09-2023      -   \n",
       "4   18       4  01-09-2023      -   \n",
       "..  ..     ...         ...    ...   \n",
       "68  82      68  30-09-2023      -   \n",
       "69  83      69  30-09-2023      -   \n",
       "70  84      70  30-09-2023      -   \n",
       "71  85      71  30-09-2023      -   \n",
       "72  86      72  30-09-2023      -   \n",
       "\n",
       "                                          PARTICULARS                     DR  \\\n",
       "0                                         PARTICULARS                     DR   \n",
       "1        UPI/P2M/324448428665/BILLDESK /HDFC BANK/UPI                 239.00   \n",
       "2    UPI/P2A/324472728686/ABISHEK  /Kotak Mah/Payment                 500.00   \n",
       "3         UPI/P2A/361024150265/Marithang/Indian Ba/NA                5000.00   \n",
       "4         UPI/P2A/324432624651/KARTHICK /Indian Ov/NA                          \n",
       "..                                                ...                    ...   \n",
       "68  UPI/P2M/327315710970/PRINCIPAL OXFD  DENT /Ver...                 400.00   \n",
       "69  UPI/P2A/327322613631/Ganesan C            /NA/...                5000.00   \n",
       "70  UPI/P2M/327331589339/SMART BAZAAR         /NA/...                 283.56   \n",
       "71  UPI/P2M/327332076410/M KALEEM BASHA       /Sen...                  50.00   \n",
       "72  UPI/P2A/363932535892/KARTHICK R           /NA/...                 600.00   \n",
       "\n",
       "                       CR                   BAL   SOL  \n",
       "0                      CR                   BAL   SOL  \n",
       "1                                      22990.42  3093  \n",
       "2                                      22490.42  3093  \n",
       "3                                      17490.42  3093  \n",
       "4                 3000.00              20490.42  3093  \n",
       "..                    ...                   ...   ...  \n",
       "68                                     24206.42  3093  \n",
       "69                                     19206.42  3093  \n",
       "70                                     18922.86  3093  \n",
       "71                                     18872.86  3093  \n",
       "72                                     18272.86  3093  \n",
       "\n",
       "[73 rows x 9 columns]"
      ]
     },
     "execution_count": 299,
     "metadata": {},
     "output_type": "execute_result"
    }
   ],
   "source": [
    "dd1"
   ]
  },
  {
   "cell_type": "code",
   "execution_count": 300,
   "id": "6e2df939",
   "metadata": {},
   "outputs": [],
   "source": [
    "#removing first row\n",
    "dd1.drop(index=[0],inplace=True)"
   ]
  },
  {
   "cell_type": "code",
   "execution_count": 301,
   "id": "6e709f3b",
   "metadata": {},
   "outputs": [
    {
     "data": {
      "text/html": [
       "<div>\n",
       "<style scoped>\n",
       "    .dataframe tbody tr th:only-of-type {\n",
       "        vertical-align: middle;\n",
       "    }\n",
       "\n",
       "    .dataframe tbody tr th {\n",
       "        vertical-align: top;\n",
       "    }\n",
       "\n",
       "    .dataframe thead th {\n",
       "        text-align: right;\n",
       "    }\n",
       "</style>\n",
       "<table border=\"1\" class=\"dataframe\">\n",
       "  <thead>\n",
       "    <tr style=\"text-align: right;\">\n",
       "      <th></th>\n",
       "      <th>14</th>\n",
       "      <th>SRL NO</th>\n",
       "      <th>Tran Date</th>\n",
       "      <th>CHQNO</th>\n",
       "      <th>PARTICULARS</th>\n",
       "      <th>DR</th>\n",
       "      <th>CR</th>\n",
       "      <th>BAL</th>\n",
       "      <th>SOL</th>\n",
       "    </tr>\n",
       "  </thead>\n",
       "  <tbody>\n",
       "    <tr>\n",
       "      <th>1</th>\n",
       "      <td>15</td>\n",
       "      <td>1</td>\n",
       "      <td>01-09-2023</td>\n",
       "      <td>-</td>\n",
       "      <td>UPI/P2M/324448428665/BILLDESK /HDFC BANK/UPI</td>\n",
       "      <td>239.00</td>\n",
       "      <td></td>\n",
       "      <td>22990.42</td>\n",
       "      <td>3093</td>\n",
       "    </tr>\n",
       "    <tr>\n",
       "      <th>2</th>\n",
       "      <td>16</td>\n",
       "      <td>2</td>\n",
       "      <td>01-09-2023</td>\n",
       "      <td>-</td>\n",
       "      <td>UPI/P2A/324472728686/ABISHEK  /Kotak Mah/Payment</td>\n",
       "      <td>500.00</td>\n",
       "      <td></td>\n",
       "      <td>22490.42</td>\n",
       "      <td>3093</td>\n",
       "    </tr>\n",
       "    <tr>\n",
       "      <th>3</th>\n",
       "      <td>17</td>\n",
       "      <td>3</td>\n",
       "      <td>01-09-2023</td>\n",
       "      <td>-</td>\n",
       "      <td>UPI/P2A/361024150265/Marithang/Indian Ba/NA</td>\n",
       "      <td>5000.00</td>\n",
       "      <td></td>\n",
       "      <td>17490.42</td>\n",
       "      <td>3093</td>\n",
       "    </tr>\n",
       "    <tr>\n",
       "      <th>4</th>\n",
       "      <td>18</td>\n",
       "      <td>4</td>\n",
       "      <td>01-09-2023</td>\n",
       "      <td>-</td>\n",
       "      <td>UPI/P2A/324432624651/KARTHICK /Indian Ov/NA</td>\n",
       "      <td></td>\n",
       "      <td>3000.00</td>\n",
       "      <td>20490.42</td>\n",
       "      <td>3093</td>\n",
       "    </tr>\n",
       "    <tr>\n",
       "      <th>5</th>\n",
       "      <td>19</td>\n",
       "      <td>5</td>\n",
       "      <td>02-09-2023</td>\n",
       "      <td>-</td>\n",
       "      <td>UPI/P2A/324516080378/Rajaxxxxx/Indian Ba/NA</td>\n",
       "      <td>8850.00</td>\n",
       "      <td></td>\n",
       "      <td>11640.42</td>\n",
       "      <td>3093</td>\n",
       "    </tr>\n",
       "    <tr>\n",
       "      <th>...</th>\n",
       "      <td>...</td>\n",
       "      <td>...</td>\n",
       "      <td>...</td>\n",
       "      <td>...</td>\n",
       "      <td>...</td>\n",
       "      <td>...</td>\n",
       "      <td>...</td>\n",
       "      <td>...</td>\n",
       "      <td>...</td>\n",
       "    </tr>\n",
       "    <tr>\n",
       "      <th>68</th>\n",
       "      <td>82</td>\n",
       "      <td>68</td>\n",
       "      <td>30-09-2023</td>\n",
       "      <td>-</td>\n",
       "      <td>UPI/P2M/327315710970/PRINCIPAL OXFD  DENT /Ver...</td>\n",
       "      <td>400.00</td>\n",
       "      <td></td>\n",
       "      <td>24206.42</td>\n",
       "      <td>3093</td>\n",
       "    </tr>\n",
       "    <tr>\n",
       "      <th>69</th>\n",
       "      <td>83</td>\n",
       "      <td>69</td>\n",
       "      <td>30-09-2023</td>\n",
       "      <td>-</td>\n",
       "      <td>UPI/P2A/327322613631/Ganesan C            /NA/...</td>\n",
       "      <td>5000.00</td>\n",
       "      <td></td>\n",
       "      <td>19206.42</td>\n",
       "      <td>3093</td>\n",
       "    </tr>\n",
       "    <tr>\n",
       "      <th>70</th>\n",
       "      <td>84</td>\n",
       "      <td>70</td>\n",
       "      <td>30-09-2023</td>\n",
       "      <td>-</td>\n",
       "      <td>UPI/P2M/327331589339/SMART BAZAAR         /NA/...</td>\n",
       "      <td>283.56</td>\n",
       "      <td></td>\n",
       "      <td>18922.86</td>\n",
       "      <td>3093</td>\n",
       "    </tr>\n",
       "    <tr>\n",
       "      <th>71</th>\n",
       "      <td>85</td>\n",
       "      <td>71</td>\n",
       "      <td>30-09-2023</td>\n",
       "      <td>-</td>\n",
       "      <td>UPI/P2M/327332076410/M KALEEM BASHA       /Sen...</td>\n",
       "      <td>50.00</td>\n",
       "      <td></td>\n",
       "      <td>18872.86</td>\n",
       "      <td>3093</td>\n",
       "    </tr>\n",
       "    <tr>\n",
       "      <th>72</th>\n",
       "      <td>86</td>\n",
       "      <td>72</td>\n",
       "      <td>30-09-2023</td>\n",
       "      <td>-</td>\n",
       "      <td>UPI/P2A/363932535892/KARTHICK R           /NA/...</td>\n",
       "      <td>600.00</td>\n",
       "      <td></td>\n",
       "      <td>18272.86</td>\n",
       "      <td>3093</td>\n",
       "    </tr>\n",
       "  </tbody>\n",
       "</table>\n",
       "<p>72 rows × 9 columns</p>\n",
       "</div>"
      ],
      "text/plain": [
       "    14 SRL NO   Tran Date CHQNO  \\\n",
       "1   15      1  01-09-2023     -   \n",
       "2   16      2  01-09-2023     -   \n",
       "3   17      3  01-09-2023     -   \n",
       "4   18      4  01-09-2023     -   \n",
       "5   19      5  02-09-2023     -   \n",
       "..  ..    ...         ...   ...   \n",
       "68  82     68  30-09-2023     -   \n",
       "69  83     69  30-09-2023     -   \n",
       "70  84     70  30-09-2023     -   \n",
       "71  85     71  30-09-2023     -   \n",
       "72  86     72  30-09-2023     -   \n",
       "\n",
       "                                          PARTICULARS                     DR  \\\n",
       "1        UPI/P2M/324448428665/BILLDESK /HDFC BANK/UPI                 239.00   \n",
       "2    UPI/P2A/324472728686/ABISHEK  /Kotak Mah/Payment                 500.00   \n",
       "3         UPI/P2A/361024150265/Marithang/Indian Ba/NA                5000.00   \n",
       "4         UPI/P2A/324432624651/KARTHICK /Indian Ov/NA                          \n",
       "5         UPI/P2A/324516080378/Rajaxxxxx/Indian Ba/NA                8850.00   \n",
       "..                                                ...                    ...   \n",
       "68  UPI/P2M/327315710970/PRINCIPAL OXFD  DENT /Ver...                 400.00   \n",
       "69  UPI/P2A/327322613631/Ganesan C            /NA/...                5000.00   \n",
       "70  UPI/P2M/327331589339/SMART BAZAAR         /NA/...                 283.56   \n",
       "71  UPI/P2M/327332076410/M KALEEM BASHA       /Sen...                  50.00   \n",
       "72  UPI/P2A/363932535892/KARTHICK R           /NA/...                 600.00   \n",
       "\n",
       "                       CR                   BAL   SOL  \n",
       "1                                      22990.42  3093  \n",
       "2                                      22490.42  3093  \n",
       "3                                      17490.42  3093  \n",
       "4                 3000.00              20490.42  3093  \n",
       "5                                      11640.42  3093  \n",
       "..                    ...                   ...   ...  \n",
       "68                                     24206.42  3093  \n",
       "69                                     19206.42  3093  \n",
       "70                                     18922.86  3093  \n",
       "71                                     18872.86  3093  \n",
       "72                                     18272.86  3093  \n",
       "\n",
       "[72 rows x 9 columns]"
      ]
     },
     "execution_count": 301,
     "metadata": {},
     "output_type": "execute_result"
    }
   ],
   "source": [
    "dd1"
   ]
  },
  {
   "cell_type": "code",
   "execution_count": 303,
   "id": "b62d4bdf",
   "metadata": {},
   "outputs": [],
   "source": [
    "#removing unwanted columns like a 14,SRLNO,CHQNO,SOL\n",
    "dd1.drop(columns=[14,'SRL NO','CHQNO','SOL'],inplace=True)"
   ]
  },
  {
   "cell_type": "code",
   "execution_count": 304,
   "id": "867fc1e7",
   "metadata": {},
   "outputs": [
    {
     "data": {
      "text/html": [
       "<div>\n",
       "<style scoped>\n",
       "    .dataframe tbody tr th:only-of-type {\n",
       "        vertical-align: middle;\n",
       "    }\n",
       "\n",
       "    .dataframe tbody tr th {\n",
       "        vertical-align: top;\n",
       "    }\n",
       "\n",
       "    .dataframe thead th {\n",
       "        text-align: right;\n",
       "    }\n",
       "</style>\n",
       "<table border=\"1\" class=\"dataframe\">\n",
       "  <thead>\n",
       "    <tr style=\"text-align: right;\">\n",
       "      <th></th>\n",
       "      <th>Tran Date</th>\n",
       "      <th>PARTICULARS</th>\n",
       "      <th>DR</th>\n",
       "      <th>CR</th>\n",
       "      <th>BAL</th>\n",
       "    </tr>\n",
       "  </thead>\n",
       "  <tbody>\n",
       "    <tr>\n",
       "      <th>1</th>\n",
       "      <td>01-09-2023</td>\n",
       "      <td>UPI/P2M/324448428665/BILLDESK /HDFC BANK/UPI</td>\n",
       "      <td>239.00</td>\n",
       "      <td></td>\n",
       "      <td>22990.42</td>\n",
       "    </tr>\n",
       "    <tr>\n",
       "      <th>2</th>\n",
       "      <td>01-09-2023</td>\n",
       "      <td>UPI/P2A/324472728686/ABISHEK  /Kotak Mah/Payment</td>\n",
       "      <td>500.00</td>\n",
       "      <td></td>\n",
       "      <td>22490.42</td>\n",
       "    </tr>\n",
       "    <tr>\n",
       "      <th>3</th>\n",
       "      <td>01-09-2023</td>\n",
       "      <td>UPI/P2A/361024150265/Marithang/Indian Ba/NA</td>\n",
       "      <td>5000.00</td>\n",
       "      <td></td>\n",
       "      <td>17490.42</td>\n",
       "    </tr>\n",
       "    <tr>\n",
       "      <th>4</th>\n",
       "      <td>01-09-2023</td>\n",
       "      <td>UPI/P2A/324432624651/KARTHICK /Indian Ov/NA</td>\n",
       "      <td></td>\n",
       "      <td>3000.00</td>\n",
       "      <td>20490.42</td>\n",
       "    </tr>\n",
       "    <tr>\n",
       "      <th>5</th>\n",
       "      <td>02-09-2023</td>\n",
       "      <td>UPI/P2A/324516080378/Rajaxxxxx/Indian Ba/NA</td>\n",
       "      <td>8850.00</td>\n",
       "      <td></td>\n",
       "      <td>11640.42</td>\n",
       "    </tr>\n",
       "    <tr>\n",
       "      <th>...</th>\n",
       "      <td>...</td>\n",
       "      <td>...</td>\n",
       "      <td>...</td>\n",
       "      <td>...</td>\n",
       "      <td>...</td>\n",
       "    </tr>\n",
       "    <tr>\n",
       "      <th>68</th>\n",
       "      <td>30-09-2023</td>\n",
       "      <td>UPI/P2M/327315710970/PRINCIPAL OXFD  DENT /Ver...</td>\n",
       "      <td>400.00</td>\n",
       "      <td></td>\n",
       "      <td>24206.42</td>\n",
       "    </tr>\n",
       "    <tr>\n",
       "      <th>69</th>\n",
       "      <td>30-09-2023</td>\n",
       "      <td>UPI/P2A/327322613631/Ganesan C            /NA/...</td>\n",
       "      <td>5000.00</td>\n",
       "      <td></td>\n",
       "      <td>19206.42</td>\n",
       "    </tr>\n",
       "    <tr>\n",
       "      <th>70</th>\n",
       "      <td>30-09-2023</td>\n",
       "      <td>UPI/P2M/327331589339/SMART BAZAAR         /NA/...</td>\n",
       "      <td>283.56</td>\n",
       "      <td></td>\n",
       "      <td>18922.86</td>\n",
       "    </tr>\n",
       "    <tr>\n",
       "      <th>71</th>\n",
       "      <td>30-09-2023</td>\n",
       "      <td>UPI/P2M/327332076410/M KALEEM BASHA       /Sen...</td>\n",
       "      <td>50.00</td>\n",
       "      <td></td>\n",
       "      <td>18872.86</td>\n",
       "    </tr>\n",
       "    <tr>\n",
       "      <th>72</th>\n",
       "      <td>30-09-2023</td>\n",
       "      <td>UPI/P2A/363932535892/KARTHICK R           /NA/...</td>\n",
       "      <td>600.00</td>\n",
       "      <td></td>\n",
       "      <td>18272.86</td>\n",
       "    </tr>\n",
       "  </tbody>\n",
       "</table>\n",
       "<p>72 rows × 5 columns</p>\n",
       "</div>"
      ],
      "text/plain": [
       "     Tran Date                                        PARTICULARS  \\\n",
       "1   01-09-2023       UPI/P2M/324448428665/BILLDESK /HDFC BANK/UPI   \n",
       "2   01-09-2023   UPI/P2A/324472728686/ABISHEK  /Kotak Mah/Payment   \n",
       "3   01-09-2023        UPI/P2A/361024150265/Marithang/Indian Ba/NA   \n",
       "4   01-09-2023        UPI/P2A/324432624651/KARTHICK /Indian Ov/NA   \n",
       "5   02-09-2023        UPI/P2A/324516080378/Rajaxxxxx/Indian Ba/NA   \n",
       "..         ...                                                ...   \n",
       "68  30-09-2023  UPI/P2M/327315710970/PRINCIPAL OXFD  DENT /Ver...   \n",
       "69  30-09-2023  UPI/P2A/327322613631/Ganesan C            /NA/...   \n",
       "70  30-09-2023  UPI/P2M/327331589339/SMART BAZAAR         /NA/...   \n",
       "71  30-09-2023  UPI/P2M/327332076410/M KALEEM BASHA       /Sen...   \n",
       "72  30-09-2023  UPI/P2A/363932535892/KARTHICK R           /NA/...   \n",
       "\n",
       "                       DR                     CR                   BAL  \n",
       "1                  239.00                                     22990.42  \n",
       "2                  500.00                                     22490.42  \n",
       "3                 5000.00                                     17490.42  \n",
       "4                                        3000.00              20490.42  \n",
       "5                 8850.00                                     11640.42  \n",
       "..                    ...                    ...                   ...  \n",
       "68                 400.00                                     24206.42  \n",
       "69                5000.00                                     19206.42  \n",
       "70                 283.56                                     18922.86  \n",
       "71                  50.00                                     18872.86  \n",
       "72                 600.00                                     18272.86  \n",
       "\n",
       "[72 rows x 5 columns]"
      ]
     },
     "execution_count": 304,
     "metadata": {},
     "output_type": "execute_result"
    }
   ],
   "source": [
    "dd1"
   ]
  },
  {
   "cell_type": "code",
   "execution_count": 305,
   "id": "c44ba2af",
   "metadata": {},
   "outputs": [],
   "source": [
    "#change the columnnames as we want\n",
    "dd1.rename(columns={'Tran Date':'TransactionDate','PARTICULARS':'TransactionID','DR':'Debited','CR':'Credited','BAL':'BALANCE'},inplace=True)"
   ]
  },
  {
   "cell_type": "code",
   "execution_count": 306,
   "id": "6b5073e4",
   "metadata": {},
   "outputs": [
    {
     "data": {
      "text/html": [
       "<div>\n",
       "<style scoped>\n",
       "    .dataframe tbody tr th:only-of-type {\n",
       "        vertical-align: middle;\n",
       "    }\n",
       "\n",
       "    .dataframe tbody tr th {\n",
       "        vertical-align: top;\n",
       "    }\n",
       "\n",
       "    .dataframe thead th {\n",
       "        text-align: right;\n",
       "    }\n",
       "</style>\n",
       "<table border=\"1\" class=\"dataframe\">\n",
       "  <thead>\n",
       "    <tr style=\"text-align: right;\">\n",
       "      <th></th>\n",
       "      <th>TransactionDate</th>\n",
       "      <th>TransactionID</th>\n",
       "      <th>Debited</th>\n",
       "      <th>Credited</th>\n",
       "      <th>BALANCE</th>\n",
       "    </tr>\n",
       "  </thead>\n",
       "  <tbody>\n",
       "    <tr>\n",
       "      <th>1</th>\n",
       "      <td>01-09-2023</td>\n",
       "      <td>UPI/P2M/324448428665/BILLDESK /HDFC BANK/UPI</td>\n",
       "      <td>239.00</td>\n",
       "      <td></td>\n",
       "      <td>22990.42</td>\n",
       "    </tr>\n",
       "    <tr>\n",
       "      <th>2</th>\n",
       "      <td>01-09-2023</td>\n",
       "      <td>UPI/P2A/324472728686/ABISHEK  /Kotak Mah/Payment</td>\n",
       "      <td>500.00</td>\n",
       "      <td></td>\n",
       "      <td>22490.42</td>\n",
       "    </tr>\n",
       "    <tr>\n",
       "      <th>3</th>\n",
       "      <td>01-09-2023</td>\n",
       "      <td>UPI/P2A/361024150265/Marithang/Indian Ba/NA</td>\n",
       "      <td>5000.00</td>\n",
       "      <td></td>\n",
       "      <td>17490.42</td>\n",
       "    </tr>\n",
       "    <tr>\n",
       "      <th>4</th>\n",
       "      <td>01-09-2023</td>\n",
       "      <td>UPI/P2A/324432624651/KARTHICK /Indian Ov/NA</td>\n",
       "      <td></td>\n",
       "      <td>3000.00</td>\n",
       "      <td>20490.42</td>\n",
       "    </tr>\n",
       "    <tr>\n",
       "      <th>5</th>\n",
       "      <td>02-09-2023</td>\n",
       "      <td>UPI/P2A/324516080378/Rajaxxxxx/Indian Ba/NA</td>\n",
       "      <td>8850.00</td>\n",
       "      <td></td>\n",
       "      <td>11640.42</td>\n",
       "    </tr>\n",
       "    <tr>\n",
       "      <th>...</th>\n",
       "      <td>...</td>\n",
       "      <td>...</td>\n",
       "      <td>...</td>\n",
       "      <td>...</td>\n",
       "      <td>...</td>\n",
       "    </tr>\n",
       "    <tr>\n",
       "      <th>68</th>\n",
       "      <td>30-09-2023</td>\n",
       "      <td>UPI/P2M/327315710970/PRINCIPAL OXFD  DENT /Ver...</td>\n",
       "      <td>400.00</td>\n",
       "      <td></td>\n",
       "      <td>24206.42</td>\n",
       "    </tr>\n",
       "    <tr>\n",
       "      <th>69</th>\n",
       "      <td>30-09-2023</td>\n",
       "      <td>UPI/P2A/327322613631/Ganesan C            /NA/...</td>\n",
       "      <td>5000.00</td>\n",
       "      <td></td>\n",
       "      <td>19206.42</td>\n",
       "    </tr>\n",
       "    <tr>\n",
       "      <th>70</th>\n",
       "      <td>30-09-2023</td>\n",
       "      <td>UPI/P2M/327331589339/SMART BAZAAR         /NA/...</td>\n",
       "      <td>283.56</td>\n",
       "      <td></td>\n",
       "      <td>18922.86</td>\n",
       "    </tr>\n",
       "    <tr>\n",
       "      <th>71</th>\n",
       "      <td>30-09-2023</td>\n",
       "      <td>UPI/P2M/327332076410/M KALEEM BASHA       /Sen...</td>\n",
       "      <td>50.00</td>\n",
       "      <td></td>\n",
       "      <td>18872.86</td>\n",
       "    </tr>\n",
       "    <tr>\n",
       "      <th>72</th>\n",
       "      <td>30-09-2023</td>\n",
       "      <td>UPI/P2A/363932535892/KARTHICK R           /NA/...</td>\n",
       "      <td>600.00</td>\n",
       "      <td></td>\n",
       "      <td>18272.86</td>\n",
       "    </tr>\n",
       "  </tbody>\n",
       "</table>\n",
       "<p>72 rows × 5 columns</p>\n",
       "</div>"
      ],
      "text/plain": [
       "   TransactionDate                                      TransactionID  \\\n",
       "1       01-09-2023       UPI/P2M/324448428665/BILLDESK /HDFC BANK/UPI   \n",
       "2       01-09-2023   UPI/P2A/324472728686/ABISHEK  /Kotak Mah/Payment   \n",
       "3       01-09-2023        UPI/P2A/361024150265/Marithang/Indian Ba/NA   \n",
       "4       01-09-2023        UPI/P2A/324432624651/KARTHICK /Indian Ov/NA   \n",
       "5       02-09-2023        UPI/P2A/324516080378/Rajaxxxxx/Indian Ba/NA   \n",
       "..             ...                                                ...   \n",
       "68      30-09-2023  UPI/P2M/327315710970/PRINCIPAL OXFD  DENT /Ver...   \n",
       "69      30-09-2023  UPI/P2A/327322613631/Ganesan C            /NA/...   \n",
       "70      30-09-2023  UPI/P2M/327331589339/SMART BAZAAR         /NA/...   \n",
       "71      30-09-2023  UPI/P2M/327332076410/M KALEEM BASHA       /Sen...   \n",
       "72      30-09-2023  UPI/P2A/363932535892/KARTHICK R           /NA/...   \n",
       "\n",
       "                  Debited               Credited               BALANCE  \n",
       "1                  239.00                                     22990.42  \n",
       "2                  500.00                                     22490.42  \n",
       "3                 5000.00                                     17490.42  \n",
       "4                                        3000.00              20490.42  \n",
       "5                 8850.00                                     11640.42  \n",
       "..                    ...                    ...                   ...  \n",
       "68                 400.00                                     24206.42  \n",
       "69                5000.00                                     19206.42  \n",
       "70                 283.56                                     18922.86  \n",
       "71                  50.00                                     18872.86  \n",
       "72                 600.00                                     18272.86  \n",
       "\n",
       "[72 rows x 5 columns]"
      ]
     },
     "execution_count": 306,
     "metadata": {},
     "output_type": "execute_result"
    }
   ],
   "source": [
    "dd1"
   ]
  },
  {
   "cell_type": "code",
   "execution_count": 307,
   "id": "c71319d5",
   "metadata": {},
   "outputs": [
    {
     "name": "stdout",
     "output_type": "stream",
     "text": [
      "<class 'pandas.core.frame.DataFrame'>\n",
      "RangeIndex: 72 entries, 1 to 72\n",
      "Data columns (total 5 columns):\n",
      " #   Column           Non-Null Count  Dtype \n",
      "---  ------           --------------  ----- \n",
      " 0   TransactionDate  72 non-null     object\n",
      " 1   TransactionID    72 non-null     object\n",
      " 2   Debited          72 non-null     object\n",
      " 3   Credited         72 non-null     object\n",
      " 4   BALANCE          72 non-null     object\n",
      "dtypes: object(5)\n",
      "memory usage: 2.9+ KB\n"
     ]
    }
   ],
   "source": [
    "dd1.info()"
   ]
  },
  {
   "cell_type": "code",
   "execution_count": 308,
   "id": "a9763e87",
   "metadata": {},
   "outputs": [],
   "source": [
    "#changing Debited,Creditted and BALANCE column datatype to float\n",
    "#first making nan value in empty value place\n",
    "dd1['Debited'].replace(' ',np.nan,inplace=True)\n",
    "dd1['Credited'].replace(' ',np.nan,inplace=True)\n",
    "dd1['BALANCE'].replace(' ',np.nan,inplace=True)"
   ]
  },
  {
   "cell_type": "code",
   "execution_count": 309,
   "id": "77d5e63e",
   "metadata": {},
   "outputs": [
    {
     "data": {
      "text/html": [
       "<div>\n",
       "<style scoped>\n",
       "    .dataframe tbody tr th:only-of-type {\n",
       "        vertical-align: middle;\n",
       "    }\n",
       "\n",
       "    .dataframe tbody tr th {\n",
       "        vertical-align: top;\n",
       "    }\n",
       "\n",
       "    .dataframe thead th {\n",
       "        text-align: right;\n",
       "    }\n",
       "</style>\n",
       "<table border=\"1\" class=\"dataframe\">\n",
       "  <thead>\n",
       "    <tr style=\"text-align: right;\">\n",
       "      <th></th>\n",
       "      <th>TransactionDate</th>\n",
       "      <th>TransactionID</th>\n",
       "      <th>Debited</th>\n",
       "      <th>Credited</th>\n",
       "      <th>BALANCE</th>\n",
       "    </tr>\n",
       "  </thead>\n",
       "  <tbody>\n",
       "    <tr>\n",
       "      <th>1</th>\n",
       "      <td>01-09-2023</td>\n",
       "      <td>UPI/P2M/324448428665/BILLDESK /HDFC BANK/UPI</td>\n",
       "      <td>239.00</td>\n",
       "      <td>NaN</td>\n",
       "      <td>22990.42</td>\n",
       "    </tr>\n",
       "    <tr>\n",
       "      <th>2</th>\n",
       "      <td>01-09-2023</td>\n",
       "      <td>UPI/P2A/324472728686/ABISHEK  /Kotak Mah/Payment</td>\n",
       "      <td>500.00</td>\n",
       "      <td>NaN</td>\n",
       "      <td>22490.42</td>\n",
       "    </tr>\n",
       "    <tr>\n",
       "      <th>3</th>\n",
       "      <td>01-09-2023</td>\n",
       "      <td>UPI/P2A/361024150265/Marithang/Indian Ba/NA</td>\n",
       "      <td>5000.00</td>\n",
       "      <td>NaN</td>\n",
       "      <td>17490.42</td>\n",
       "    </tr>\n",
       "    <tr>\n",
       "      <th>4</th>\n",
       "      <td>01-09-2023</td>\n",
       "      <td>UPI/P2A/324432624651/KARTHICK /Indian Ov/NA</td>\n",
       "      <td>NaN</td>\n",
       "      <td>3000.00</td>\n",
       "      <td>20490.42</td>\n",
       "    </tr>\n",
       "    <tr>\n",
       "      <th>5</th>\n",
       "      <td>02-09-2023</td>\n",
       "      <td>UPI/P2A/324516080378/Rajaxxxxx/Indian Ba/NA</td>\n",
       "      <td>8850.00</td>\n",
       "      <td>NaN</td>\n",
       "      <td>11640.42</td>\n",
       "    </tr>\n",
       "    <tr>\n",
       "      <th>...</th>\n",
       "      <td>...</td>\n",
       "      <td>...</td>\n",
       "      <td>...</td>\n",
       "      <td>...</td>\n",
       "      <td>...</td>\n",
       "    </tr>\n",
       "    <tr>\n",
       "      <th>68</th>\n",
       "      <td>30-09-2023</td>\n",
       "      <td>UPI/P2M/327315710970/PRINCIPAL OXFD  DENT /Ver...</td>\n",
       "      <td>400.00</td>\n",
       "      <td>NaN</td>\n",
       "      <td>24206.42</td>\n",
       "    </tr>\n",
       "    <tr>\n",
       "      <th>69</th>\n",
       "      <td>30-09-2023</td>\n",
       "      <td>UPI/P2A/327322613631/Ganesan C            /NA/...</td>\n",
       "      <td>5000.00</td>\n",
       "      <td>NaN</td>\n",
       "      <td>19206.42</td>\n",
       "    </tr>\n",
       "    <tr>\n",
       "      <th>70</th>\n",
       "      <td>30-09-2023</td>\n",
       "      <td>UPI/P2M/327331589339/SMART BAZAAR         /NA/...</td>\n",
       "      <td>283.56</td>\n",
       "      <td>NaN</td>\n",
       "      <td>18922.86</td>\n",
       "    </tr>\n",
       "    <tr>\n",
       "      <th>71</th>\n",
       "      <td>30-09-2023</td>\n",
       "      <td>UPI/P2M/327332076410/M KALEEM BASHA       /Sen...</td>\n",
       "      <td>50.00</td>\n",
       "      <td>NaN</td>\n",
       "      <td>18872.86</td>\n",
       "    </tr>\n",
       "    <tr>\n",
       "      <th>72</th>\n",
       "      <td>30-09-2023</td>\n",
       "      <td>UPI/P2A/363932535892/KARTHICK R           /NA/...</td>\n",
       "      <td>600.00</td>\n",
       "      <td>NaN</td>\n",
       "      <td>18272.86</td>\n",
       "    </tr>\n",
       "  </tbody>\n",
       "</table>\n",
       "<p>72 rows × 5 columns</p>\n",
       "</div>"
      ],
      "text/plain": [
       "   TransactionDate                                      TransactionID  \\\n",
       "1       01-09-2023       UPI/P2M/324448428665/BILLDESK /HDFC BANK/UPI   \n",
       "2       01-09-2023   UPI/P2A/324472728686/ABISHEK  /Kotak Mah/Payment   \n",
       "3       01-09-2023        UPI/P2A/361024150265/Marithang/Indian Ba/NA   \n",
       "4       01-09-2023        UPI/P2A/324432624651/KARTHICK /Indian Ov/NA   \n",
       "5       02-09-2023        UPI/P2A/324516080378/Rajaxxxxx/Indian Ba/NA   \n",
       "..             ...                                                ...   \n",
       "68      30-09-2023  UPI/P2M/327315710970/PRINCIPAL OXFD  DENT /Ver...   \n",
       "69      30-09-2023  UPI/P2A/327322613631/Ganesan C            /NA/...   \n",
       "70      30-09-2023  UPI/P2M/327331589339/SMART BAZAAR         /NA/...   \n",
       "71      30-09-2023  UPI/P2M/327332076410/M KALEEM BASHA       /Sen...   \n",
       "72      30-09-2023  UPI/P2A/363932535892/KARTHICK R           /NA/...   \n",
       "\n",
       "                  Debited               Credited               BALANCE  \n",
       "1                  239.00                    NaN              22990.42  \n",
       "2                  500.00                    NaN              22490.42  \n",
       "3                 5000.00                    NaN              17490.42  \n",
       "4                     NaN                3000.00              20490.42  \n",
       "5                 8850.00                    NaN              11640.42  \n",
       "..                    ...                    ...                   ...  \n",
       "68                 400.00                    NaN              24206.42  \n",
       "69                5000.00                    NaN              19206.42  \n",
       "70                 283.56                    NaN              18922.86  \n",
       "71                  50.00                    NaN              18872.86  \n",
       "72                 600.00                    NaN              18272.86  \n",
       "\n",
       "[72 rows x 5 columns]"
      ]
     },
     "execution_count": 309,
     "metadata": {},
     "output_type": "execute_result"
    }
   ],
   "source": [
    "dd1"
   ]
  },
  {
   "cell_type": "code",
   "execution_count": 312,
   "id": "f9376126",
   "metadata": {},
   "outputs": [],
   "source": [
    "#changing datatype\n",
    "dd1['Debited']=dd1['Debited'].astype(float)\n",
    "dd1['Credited']=dd1['Credited'].astype(float)\n",
    "dd1['BALANCE']=dd1['BALANCE'].astype(float)"
   ]
  },
  {
   "cell_type": "code",
   "execution_count": 313,
   "id": "a751af3b",
   "metadata": {},
   "outputs": [
    {
     "name": "stdout",
     "output_type": "stream",
     "text": [
      "<class 'pandas.core.frame.DataFrame'>\n",
      "RangeIndex: 72 entries, 1 to 72\n",
      "Data columns (total 5 columns):\n",
      " #   Column           Non-Null Count  Dtype  \n",
      "---  ------           --------------  -----  \n",
      " 0   TransactionDate  72 non-null     object \n",
      " 1   TransactionID    72 non-null     object \n",
      " 2   Debited          53 non-null     float64\n",
      " 3   Credited         19 non-null     float64\n",
      " 4   BALANCE          72 non-null     float64\n",
      "dtypes: float64(3), object(2)\n",
      "memory usage: 2.9+ KB\n"
     ]
    }
   ],
   "source": [
    "dd1.info()"
   ]
  },
  {
   "cell_type": "code",
   "execution_count": 315,
   "id": "cffa8147",
   "metadata": {},
   "outputs": [
    {
     "name": "stdout",
     "output_type": "stream",
     "text": [
      "Total Debit Amount: 144008.56\n",
      "Total Credit Amount: 139052.0\n"
     ]
    }
   ],
   "source": [
    "#find out total debit amount and credit amouts\n",
    "print(\"Total Debit Amount:\",dd1['Debited'].sum())\n",
    "print(\"Total Credit Amount:\",dd1['Credited'].sum())#credit value above and below differnt because there extra one date was there(1/10/2023)"
   ]
  },
  {
   "cell_type": "code",
   "execution_count": 336,
   "id": "d6080872",
   "metadata": {},
   "outputs": [
    {
     "data": {
      "application/vnd.plotly.v1+json": {
       "config": {
        "plotlyServerURL": "https://plot.ly"
       },
       "data": [
        {
         "cells": {
          "align": "center",
          "fill": {
           "color": "rgb(179, 255, 240)"
          },
          "line": {
           "color": "#8600b3",
           "width": 4
          },
          "values": [
           [
            "01-09-2023",
            "01-09-2023",
            "01-09-2023",
            "01-09-2023",
            "02-09-2023",
            "02-09-2023",
            "02-09-2023",
            "02-09-2023",
            "02-09-2023",
            "02-09-2023",
            "03-09-2023",
            "05-09-2023",
            "05-09-2023",
            "05-09-2023",
            "05-09-2023",
            "06-09-2023",
            "06-09-2023",
            "06-09-2023",
            "06-09-2023",
            "06-09-2023",
            "07-09-2023",
            "08-09-2023",
            "08-09-2023",
            "09-09-2023",
            "11-09-2023",
            "11-09-2023",
            "11-09-2023",
            "11-09-2023",
            "11-09-2023",
            "11-09-2023",
            "11-09-2023",
            "12-09-2023",
            "12-09-2023",
            "12-09-2023",
            "12-09-2023",
            "12-09-2023",
            "12-09-2023",
            "13-09-2023",
            "14-09-2023",
            "14-09-2023",
            "15-09-2023",
            "15-09-2023",
            "15-09-2023",
            "15-09-2023",
            "16-09-2023",
            "17-09-2023",
            "17-09-2023",
            "17-09-2023",
            "19-09-2023",
            "19-09-2023",
            "20-09-2023",
            "21-09-2023",
            "21-09-2023",
            "22-09-2023",
            "22-09-2023",
            "22-09-2023",
            "22-09-2023",
            "22-09-2023",
            "23-09-2023",
            "27-09-2023",
            "27-09-2023",
            "28-09-2023",
            "28-09-2023",
            "29-09-2023",
            "29-09-2023",
            "30-09-2023",
            "30-09-2023",
            "30-09-2023",
            "30-09-2023",
            "30-09-2023",
            "30-09-2023",
            "30-09-2023"
           ],
           [
            "UPI/P2M/324448428665/BILLDESK /HDFC BANK/UPI",
            "UPI/P2A/324472728686/ABISHEK  /Kotak Mah/Payment",
            "UPI/P2A/361024150265/Marithang/Indian Ba/NA",
            "UPI/P2A/324432624651/KARTHICK /Indian Ov/NA",
            "UPI/P2A/324516080378/Rajaxxxxx/Indian Ba/NA",
            "ATM-CASH/TIRUCHENDUR I ON/TIRUCHENDUR/020923",
            "UPI/P2A/361115807473/KARTHICK /Indian Ov/NA",
            "UPI/P2A/324574954658/SAMMANA R/Union Ban/Payment",
            "UPI/P2A/361133886673/A MANICKA VASAGAM    /Sent",
            "UPI/P2M/324588393841/SANTHI SW/Paytm Pay/Oid2023",
            "UPI/P2M/324682504893/SANTHI SWEETS        /Oid20",
            "UPI/P2A/324840810558/Karthick R           /NA",
            "UPI/P2A/324843480786/KARTHICK /Indian Ov/NA",
            "UPI/P2A/361444401273/KARTHICK R           /NA",
            "UPI/P2A/361445796141/KARTHICK /Indian Ov/NA",
            "UPI/P2A/361520406760/ABISHEK  /Kotak Mah/Payment",
            "BY CASH DEPOSIT-BNA/TWRO150601/6837/060923/BANGALO",
            "BY CASH DEPOSIT-BNA/TWRO150601/6839/060923/BANGALO",
            "BY CASH DEPOSIT-BNA/TWRO150601/6841/060923/BANGALO",
            "UPI/P2A/324922646275/KARTHICK R           /NA",
            "UPI/P2M/325067426279/SAMPATH KUMAR        /NA/Paytm Payments Bank",
            "UPI/P2A/361724980213/KARTHICK /Indian Ov/NA/",
            "UPI/P2A/361774135571/NIKITH B SOMPURA     /Paymen/Axis Bank Ltd.",
            "UPI/P2M/325269363540/DATTATREYA C H       /Oid202/Paytm Payments Bank",
            "UPI/P2M/325464560713/EURONETGPAY          /UPI/ICICI Bank",
            "UPI/P2M/325464718041/billdesktez          /UPI/ICICI Bank",
            "UPI/P2A/362021084470/KARTHICK /Indian Ov/NA/",
            "UPI/P2A/325478588210/ABISHEK  SENTHILKUMAR/UPI/Kotak Mahindra Bank",
            "UPI/P2A/325479701465/KARTHIK N GAONKAR    /UPI/Axis Bank Ltd.",
            "UPI/P2A/362038247428/PARTHIBAN            /NA/Canara Bank",
            "UPI/P2M/362068988685/AVARANKUTTY          /Oid202/Paytm Payments Bank",
            "BY CASH DEPOSIT-BNA/TWRO150601/7447/120923/BANGALO",
            "UPI/P2M/325594778791/Asai Comp/Axis Bank/Payment/OTH",
            "UPI/P2A/362125717943/KARTHICK R           /NA/Indian Overseas Bank",
            "UPI/P2A/325536008585/Karthick /Indian Ov/NA/OTH",
            "UPI/P2A/362146557487/KARTHICK R           /NA/Indian Overseas Bank",
            "UPI/P2A/362146734240/KARTHICK R           /NA/Indian Overseas Bank",
            "UPI/P2M/362213844617/VASEEM AH/Yes Bank /Sent fro/OTH",
            "ATM-CASH-AXIS/BECN150601/1648/140923/BANGALORE",
            "UPI/P2A/325740213448/KARTHICK R           /NA/Indian Overseas Bank",
            "UPI/P2M/362412095195/Karnataka Road Transp/Paymen/ICICI Bank",
            "UPI/P2A/325835159669/KARTHICK /Indian Ov/NA/",
            "UPI/P2M/325846918392/ APPADURAI           /NA/Yes Bank Ltd",
            "UPI/P2M/325860728028/EURONETGPAY          /UPI/ICICI Bank",
            "UPI/P2A/362508710399/KARTHICK /Indian Ov/NA/",
            "UPI/P2M/326052270829/AVARANKUTTY          /Oid202/Paytm Payments Bank",
            "UPI/P2A/326054811967/NANTHA KUMAR S       /Paymen/Canara Bank",
            "UPI/P2M/362626555482/KUNDAN JAIRU         /NA/Yes Bank Ltd",
            "UPI/P2A/326212788769/KARTHICK /Indian Ov/NA/",
            "ATM-CASH-AXIS/BECN150601/1681/190923/BANGALORE",
            "UPI/P2A/362921355265/KARTHICK /Indian Ov/NA/",
            "UPI/P2M/326410477904/ MUNIRAJAPPA         /NA/Yes Bank Ltd",
            "UPI/P2M/363063591111/APPADURAI            /Oid202/Paytm Payments Bank",
            "NEFT/DOR1168169.0086/TOSHIBA S/SUMITOMO //REC/",
            "UPI/P2A/363108131646/Marithangam Ravikumar/NA/Indian Bank",
            "BY CASH DEPOSIT-BNA/TWRO150601/8408/220923/BANGALO",
            "UPI/P2A/326527173838/KARTHICK R           /NA/Indian Overseas Bank",
            "UPI/P2M/363143491343/Mr DINESH S          /NA/Yes Bank Ltd",
            "ATM-CASH/UCO BANK  PONDICHE/PUDUCHERRY/230923",
            "UPI/P2A/363643617376/KARTHICK /Indian Ov/NA/",
            "UPI/P2A/363678226023/ABISHEK  SENTHILKUMAR/Paymen/Kotak Mahindra Bank",
            "UPI/P2A/363738001504/ABDUL KADIR          /NA/Paytm Payments Bank",
            "UPI/P2M/363788135096/YASMIN KHATOON       /Oid202/Paytm Payments Bank",
            "INB-BULK-UPLD/140586963197/SALARY/SEP/2023/WIMERA",
            "UPI/P2M/363818293583/A RAGHUNATH          /NA/Yes Bank Ltd",
            "UPI/P2A/363904402977/KARTHICK /Indian Ov/NA/",
            "UPI/P2A/363908628977/Marithangam Ravikumar/NA/Indian Bank",
            "UPI/P2M/327315710970/PRINCIPAL OXFD  DENT /Verifi/Bank of Baroda",
            "UPI/P2A/327322613631/Ganesan C            /NA/State Bank Of India",
            "UPI/P2M/327331589339/SMART BAZAAR         /NA/HDFC BANK LTD",
            "UPI/P2M/327332076410/M KALEEM BASHA       /Sent f/Yes Bank Ltd",
            "UPI/P2A/363932535892/KARTHICK R           /NA/Indian Overseas Bank"
           ],
           [
            239,
            500,
            5000,
            null,
            8850,
            600,
            null,
            6000,
            3000,
            169,
            610,
            1000,
            null,
            6300,
            null,
            100,
            null,
            null,
            null,
            16600,
            30,
            null,
            100,
            160,
            155,
            155,
            null,
            600,
            2070,
            200,
            104,
            null,
            5000,
            200,
            10000,
            8000,
            10000,
            260,
            2000,
            8000,
            1272,
            null,
            40,
            15,
            null,
            20,
            150,
            30,
            null,
            100,
            null,
            40,
            30,
            null,
            3000,
            null,
            29000,
            255,
            1000,
            null,
            1500,
            101,
            80,
            null,
            40,
            null,
            5000,
            400,
            5000,
            283.56,
            50,
            600
           ],
           [
            null,
            null,
            null,
            3000,
            null,
            null,
            500,
            null,
            null,
            null,
            null,
            null,
            6000,
            null,
            50,
            null,
            5300,
            4000,
            7300,
            null,
            null,
            500,
            null,
            null,
            null,
            null,
            4200,
            null,
            null,
            null,
            null,
            43500,
            null,
            null,
            null,
            null,
            null,
            null,
            null,
            null,
            null,
            100,
            null,
            null,
            140,
            null,
            null,
            null,
            1000,
            null,
            432,
            null,
            null,
            3600,
            null,
            29000,
            null,
            null,
            null,
            1000,
            null,
            null,
            null,
            27930,
            null,
            1500,
            null,
            null,
            null,
            null,
            null,
            null
           ],
           [
            22990.42,
            22490.42,
            17490.42,
            20490.42,
            11640.42,
            11040.42,
            11540.42,
            5540.42,
            2540.42,
            2371.42,
            1761.42,
            761.42,
            6761.42,
            461.42,
            511.42,
            411.42,
            5711.42,
            9711.42,
            17011.42,
            411.42,
            381.42,
            881.42,
            781.42,
            621.42,
            466.42,
            311.42,
            4511.42,
            3911.42,
            1841.42,
            1641.42,
            1537.42,
            45037.42,
            40037.42,
            39837.42,
            29837.42,
            21837.42,
            11837.42,
            11577.42,
            9577.42,
            1577.42,
            305.42,
            405.42,
            365.42,
            350.42,
            490.42,
            470.42,
            320.42,
            290.42,
            1290.42,
            1190.42,
            1622.42,
            1582.42,
            1552.42,
            5152.42,
            2152.42,
            31152.42,
            2152.42,
            1897.42,
            897.42,
            1897.42,
            397.42,
            296.42,
            216.42,
            28146.42,
            28106.42,
            29606.42,
            24606.42,
            24206.42,
            19206.42,
            18922.86,
            18872.86,
            18272.86
           ]
          ]
         },
         "columnwidth": [
          200,
          400,
          150,
          150,
          200
         ],
         "header": {
          "align": "center",
          "fill": {
           "color": "rgb(194, 214, 214)"
          },
          "line": {
           "color": "rgb(0, 0, 128)",
           "width": 8
          },
          "values": [
           "TransactionDate",
           "TransactionID",
           "Debited",
           "Credited",
           "BALANCE"
          ]
         },
         "type": "table"
        }
       ],
       "layout": {
        "template": {
         "data": {
          "bar": [
           {
            "error_x": {
             "color": "#2a3f5f"
            },
            "error_y": {
             "color": "#2a3f5f"
            },
            "marker": {
             "line": {
              "color": "#E5ECF6",
              "width": 0.5
             },
             "pattern": {
              "fillmode": "overlay",
              "size": 10,
              "solidity": 0.2
             }
            },
            "type": "bar"
           }
          ],
          "barpolar": [
           {
            "marker": {
             "line": {
              "color": "#E5ECF6",
              "width": 0.5
             },
             "pattern": {
              "fillmode": "overlay",
              "size": 10,
              "solidity": 0.2
             }
            },
            "type": "barpolar"
           }
          ],
          "carpet": [
           {
            "aaxis": {
             "endlinecolor": "#2a3f5f",
             "gridcolor": "white",
             "linecolor": "white",
             "minorgridcolor": "white",
             "startlinecolor": "#2a3f5f"
            },
            "baxis": {
             "endlinecolor": "#2a3f5f",
             "gridcolor": "white",
             "linecolor": "white",
             "minorgridcolor": "white",
             "startlinecolor": "#2a3f5f"
            },
            "type": "carpet"
           }
          ],
          "choropleth": [
           {
            "colorbar": {
             "outlinewidth": 0,
             "ticks": ""
            },
            "type": "choropleth"
           }
          ],
          "contour": [
           {
            "colorbar": {
             "outlinewidth": 0,
             "ticks": ""
            },
            "colorscale": [
             [
              0,
              "#0d0887"
             ],
             [
              0.1111111111111111,
              "#46039f"
             ],
             [
              0.2222222222222222,
              "#7201a8"
             ],
             [
              0.3333333333333333,
              "#9c179e"
             ],
             [
              0.4444444444444444,
              "#bd3786"
             ],
             [
              0.5555555555555556,
              "#d8576b"
             ],
             [
              0.6666666666666666,
              "#ed7953"
             ],
             [
              0.7777777777777778,
              "#fb9f3a"
             ],
             [
              0.8888888888888888,
              "#fdca26"
             ],
             [
              1,
              "#f0f921"
             ]
            ],
            "type": "contour"
           }
          ],
          "contourcarpet": [
           {
            "colorbar": {
             "outlinewidth": 0,
             "ticks": ""
            },
            "type": "contourcarpet"
           }
          ],
          "heatmap": [
           {
            "colorbar": {
             "outlinewidth": 0,
             "ticks": ""
            },
            "colorscale": [
             [
              0,
              "#0d0887"
             ],
             [
              0.1111111111111111,
              "#46039f"
             ],
             [
              0.2222222222222222,
              "#7201a8"
             ],
             [
              0.3333333333333333,
              "#9c179e"
             ],
             [
              0.4444444444444444,
              "#bd3786"
             ],
             [
              0.5555555555555556,
              "#d8576b"
             ],
             [
              0.6666666666666666,
              "#ed7953"
             ],
             [
              0.7777777777777778,
              "#fb9f3a"
             ],
             [
              0.8888888888888888,
              "#fdca26"
             ],
             [
              1,
              "#f0f921"
             ]
            ],
            "type": "heatmap"
           }
          ],
          "heatmapgl": [
           {
            "colorbar": {
             "outlinewidth": 0,
             "ticks": ""
            },
            "colorscale": [
             [
              0,
              "#0d0887"
             ],
             [
              0.1111111111111111,
              "#46039f"
             ],
             [
              0.2222222222222222,
              "#7201a8"
             ],
             [
              0.3333333333333333,
              "#9c179e"
             ],
             [
              0.4444444444444444,
              "#bd3786"
             ],
             [
              0.5555555555555556,
              "#d8576b"
             ],
             [
              0.6666666666666666,
              "#ed7953"
             ],
             [
              0.7777777777777778,
              "#fb9f3a"
             ],
             [
              0.8888888888888888,
              "#fdca26"
             ],
             [
              1,
              "#f0f921"
             ]
            ],
            "type": "heatmapgl"
           }
          ],
          "histogram": [
           {
            "marker": {
             "pattern": {
              "fillmode": "overlay",
              "size": 10,
              "solidity": 0.2
             }
            },
            "type": "histogram"
           }
          ],
          "histogram2d": [
           {
            "colorbar": {
             "outlinewidth": 0,
             "ticks": ""
            },
            "colorscale": [
             [
              0,
              "#0d0887"
             ],
             [
              0.1111111111111111,
              "#46039f"
             ],
             [
              0.2222222222222222,
              "#7201a8"
             ],
             [
              0.3333333333333333,
              "#9c179e"
             ],
             [
              0.4444444444444444,
              "#bd3786"
             ],
             [
              0.5555555555555556,
              "#d8576b"
             ],
             [
              0.6666666666666666,
              "#ed7953"
             ],
             [
              0.7777777777777778,
              "#fb9f3a"
             ],
             [
              0.8888888888888888,
              "#fdca26"
             ],
             [
              1,
              "#f0f921"
             ]
            ],
            "type": "histogram2d"
           }
          ],
          "histogram2dcontour": [
           {
            "colorbar": {
             "outlinewidth": 0,
             "ticks": ""
            },
            "colorscale": [
             [
              0,
              "#0d0887"
             ],
             [
              0.1111111111111111,
              "#46039f"
             ],
             [
              0.2222222222222222,
              "#7201a8"
             ],
             [
              0.3333333333333333,
              "#9c179e"
             ],
             [
              0.4444444444444444,
              "#bd3786"
             ],
             [
              0.5555555555555556,
              "#d8576b"
             ],
             [
              0.6666666666666666,
              "#ed7953"
             ],
             [
              0.7777777777777778,
              "#fb9f3a"
             ],
             [
              0.8888888888888888,
              "#fdca26"
             ],
             [
              1,
              "#f0f921"
             ]
            ],
            "type": "histogram2dcontour"
           }
          ],
          "mesh3d": [
           {
            "colorbar": {
             "outlinewidth": 0,
             "ticks": ""
            },
            "type": "mesh3d"
           }
          ],
          "parcoords": [
           {
            "line": {
             "colorbar": {
              "outlinewidth": 0,
              "ticks": ""
             }
            },
            "type": "parcoords"
           }
          ],
          "pie": [
           {
            "automargin": true,
            "type": "pie"
           }
          ],
          "scatter": [
           {
            "fillpattern": {
             "fillmode": "overlay",
             "size": 10,
             "solidity": 0.2
            },
            "type": "scatter"
           }
          ],
          "scatter3d": [
           {
            "line": {
             "colorbar": {
              "outlinewidth": 0,
              "ticks": ""
             }
            },
            "marker": {
             "colorbar": {
              "outlinewidth": 0,
              "ticks": ""
             }
            },
            "type": "scatter3d"
           }
          ],
          "scattercarpet": [
           {
            "marker": {
             "colorbar": {
              "outlinewidth": 0,
              "ticks": ""
             }
            },
            "type": "scattercarpet"
           }
          ],
          "scattergeo": [
           {
            "marker": {
             "colorbar": {
              "outlinewidth": 0,
              "ticks": ""
             }
            },
            "type": "scattergeo"
           }
          ],
          "scattergl": [
           {
            "marker": {
             "colorbar": {
              "outlinewidth": 0,
              "ticks": ""
             }
            },
            "type": "scattergl"
           }
          ],
          "scattermapbox": [
           {
            "marker": {
             "colorbar": {
              "outlinewidth": 0,
              "ticks": ""
             }
            },
            "type": "scattermapbox"
           }
          ],
          "scatterpolar": [
           {
            "marker": {
             "colorbar": {
              "outlinewidth": 0,
              "ticks": ""
             }
            },
            "type": "scatterpolar"
           }
          ],
          "scatterpolargl": [
           {
            "marker": {
             "colorbar": {
              "outlinewidth": 0,
              "ticks": ""
             }
            },
            "type": "scatterpolargl"
           }
          ],
          "scatterternary": [
           {
            "marker": {
             "colorbar": {
              "outlinewidth": 0,
              "ticks": ""
             }
            },
            "type": "scatterternary"
           }
          ],
          "surface": [
           {
            "colorbar": {
             "outlinewidth": 0,
             "ticks": ""
            },
            "colorscale": [
             [
              0,
              "#0d0887"
             ],
             [
              0.1111111111111111,
              "#46039f"
             ],
             [
              0.2222222222222222,
              "#7201a8"
             ],
             [
              0.3333333333333333,
              "#9c179e"
             ],
             [
              0.4444444444444444,
              "#bd3786"
             ],
             [
              0.5555555555555556,
              "#d8576b"
             ],
             [
              0.6666666666666666,
              "#ed7953"
             ],
             [
              0.7777777777777778,
              "#fb9f3a"
             ],
             [
              0.8888888888888888,
              "#fdca26"
             ],
             [
              1,
              "#f0f921"
             ]
            ],
            "type": "surface"
           }
          ],
          "table": [
           {
            "cells": {
             "fill": {
              "color": "#EBF0F8"
             },
             "line": {
              "color": "white"
             }
            },
            "header": {
             "fill": {
              "color": "#C8D4E3"
             },
             "line": {
              "color": "white"
             }
            },
            "type": "table"
           }
          ]
         },
         "layout": {
          "annotationdefaults": {
           "arrowcolor": "#2a3f5f",
           "arrowhead": 0,
           "arrowwidth": 1
          },
          "autotypenumbers": "strict",
          "coloraxis": {
           "colorbar": {
            "outlinewidth": 0,
            "ticks": ""
           }
          },
          "colorscale": {
           "diverging": [
            [
             0,
             "#8e0152"
            ],
            [
             0.1,
             "#c51b7d"
            ],
            [
             0.2,
             "#de77ae"
            ],
            [
             0.3,
             "#f1b6da"
            ],
            [
             0.4,
             "#fde0ef"
            ],
            [
             0.5,
             "#f7f7f7"
            ],
            [
             0.6,
             "#e6f5d0"
            ],
            [
             0.7,
             "#b8e186"
            ],
            [
             0.8,
             "#7fbc41"
            ],
            [
             0.9,
             "#4d9221"
            ],
            [
             1,
             "#276419"
            ]
           ],
           "sequential": [
            [
             0,
             "#0d0887"
            ],
            [
             0.1111111111111111,
             "#46039f"
            ],
            [
             0.2222222222222222,
             "#7201a8"
            ],
            [
             0.3333333333333333,
             "#9c179e"
            ],
            [
             0.4444444444444444,
             "#bd3786"
            ],
            [
             0.5555555555555556,
             "#d8576b"
            ],
            [
             0.6666666666666666,
             "#ed7953"
            ],
            [
             0.7777777777777778,
             "#fb9f3a"
            ],
            [
             0.8888888888888888,
             "#fdca26"
            ],
            [
             1,
             "#f0f921"
            ]
           ],
           "sequentialminus": [
            [
             0,
             "#0d0887"
            ],
            [
             0.1111111111111111,
             "#46039f"
            ],
            [
             0.2222222222222222,
             "#7201a8"
            ],
            [
             0.3333333333333333,
             "#9c179e"
            ],
            [
             0.4444444444444444,
             "#bd3786"
            ],
            [
             0.5555555555555556,
             "#d8576b"
            ],
            [
             0.6666666666666666,
             "#ed7953"
            ],
            [
             0.7777777777777778,
             "#fb9f3a"
            ],
            [
             0.8888888888888888,
             "#fdca26"
            ],
            [
             1,
             "#f0f921"
            ]
           ]
          },
          "colorway": [
           "#636efa",
           "#EF553B",
           "#00cc96",
           "#ab63fa",
           "#FFA15A",
           "#19d3f3",
           "#FF6692",
           "#B6E880",
           "#FF97FF",
           "#FECB52"
          ],
          "font": {
           "color": "#2a3f5f"
          },
          "geo": {
           "bgcolor": "white",
           "lakecolor": "white",
           "landcolor": "#E5ECF6",
           "showlakes": true,
           "showland": true,
           "subunitcolor": "white"
          },
          "hoverlabel": {
           "align": "left"
          },
          "hovermode": "closest",
          "mapbox": {
           "style": "light"
          },
          "paper_bgcolor": "white",
          "plot_bgcolor": "#E5ECF6",
          "polar": {
           "angularaxis": {
            "gridcolor": "white",
            "linecolor": "white",
            "ticks": ""
           },
           "bgcolor": "#E5ECF6",
           "radialaxis": {
            "gridcolor": "white",
            "linecolor": "white",
            "ticks": ""
           }
          },
          "scene": {
           "xaxis": {
            "backgroundcolor": "#E5ECF6",
            "gridcolor": "white",
            "gridwidth": 2,
            "linecolor": "white",
            "showbackground": true,
            "ticks": "",
            "zerolinecolor": "white"
           },
           "yaxis": {
            "backgroundcolor": "#E5ECF6",
            "gridcolor": "white",
            "gridwidth": 2,
            "linecolor": "white",
            "showbackground": true,
            "ticks": "",
            "zerolinecolor": "white"
           },
           "zaxis": {
            "backgroundcolor": "#E5ECF6",
            "gridcolor": "white",
            "gridwidth": 2,
            "linecolor": "white",
            "showbackground": true,
            "ticks": "",
            "zerolinecolor": "white"
           }
          },
          "shapedefaults": {
           "line": {
            "color": "#2a3f5f"
           }
          },
          "ternary": {
           "aaxis": {
            "gridcolor": "white",
            "linecolor": "white",
            "ticks": ""
           },
           "baxis": {
            "gridcolor": "white",
            "linecolor": "white",
            "ticks": ""
           },
           "bgcolor": "#E5ECF6",
           "caxis": {
            "gridcolor": "white",
            "linecolor": "white",
            "ticks": ""
           }
          },
          "title": {
           "x": 0.05
          },
          "xaxis": {
           "automargin": true,
           "gridcolor": "white",
           "linecolor": "white",
           "ticks": "",
           "title": {
            "standoff": 15
           },
           "zerolinecolor": "white",
           "zerolinewidth": 2
          },
          "yaxis": {
           "automargin": true,
           "gridcolor": "white",
           "linecolor": "white",
           "ticks": "",
           "title": {
            "standoff": 15
           },
           "zerolinecolor": "white",
           "zerolinewidth": 2
          }
         }
        },
        "title": {
         "text": "<b>SEPTEMBER MONTH STATEMENT</b>",
         "x": 0.5,
         "y": 0.9
        },
        "width": 1000
       }
      },
      "text/html": [
       "<div>                            <div id=\"4e143083-9a17-4d04-b260-8c6b27c4f93f\" class=\"plotly-graph-div\" style=\"height:525px; width:1000px;\"></div>            <script type=\"text/javascript\">                require([\"plotly\"], function(Plotly) {                    window.PLOTLYENV=window.PLOTLYENV || {};                                    if (document.getElementById(\"4e143083-9a17-4d04-b260-8c6b27c4f93f\")) {                    Plotly.newPlot(                        \"4e143083-9a17-4d04-b260-8c6b27c4f93f\",                        [{\"cells\":{\"align\":\"center\",\"fill\":{\"color\":\"rgb(179, 255, 240)\"},\"line\":{\"color\":\"#8600b3\",\"width\":4},\"values\":[[\"01-09-2023\",\"01-09-2023\",\"01-09-2023\",\"01-09-2023\",\"02-09-2023\",\"02-09-2023\",\"02-09-2023\",\"02-09-2023\",\"02-09-2023\",\"02-09-2023\",\"03-09-2023\",\"05-09-2023\",\"05-09-2023\",\"05-09-2023\",\"05-09-2023\",\"06-09-2023\",\"06-09-2023\",\"06-09-2023\",\"06-09-2023\",\"06-09-2023\",\"07-09-2023\",\"08-09-2023\",\"08-09-2023\",\"09-09-2023\",\"11-09-2023\",\"11-09-2023\",\"11-09-2023\",\"11-09-2023\",\"11-09-2023\",\"11-09-2023\",\"11-09-2023\",\"12-09-2023\",\"12-09-2023\",\"12-09-2023\",\"12-09-2023\",\"12-09-2023\",\"12-09-2023\",\"13-09-2023\",\"14-09-2023\",\"14-09-2023\",\"15-09-2023\",\"15-09-2023\",\"15-09-2023\",\"15-09-2023\",\"16-09-2023\",\"17-09-2023\",\"17-09-2023\",\"17-09-2023\",\"19-09-2023\",\"19-09-2023\",\"20-09-2023\",\"21-09-2023\",\"21-09-2023\",\"22-09-2023\",\"22-09-2023\",\"22-09-2023\",\"22-09-2023\",\"22-09-2023\",\"23-09-2023\",\"27-09-2023\",\"27-09-2023\",\"28-09-2023\",\"28-09-2023\",\"29-09-2023\",\"29-09-2023\",\"30-09-2023\",\"30-09-2023\",\"30-09-2023\",\"30-09-2023\",\"30-09-2023\",\"30-09-2023\",\"30-09-2023\"],[\"UPI/P2M/324448428665/BILLDESK /HDFC BANK/UPI\",\"UPI/P2A/324472728686/ABISHEK  /Kotak Mah/Payment\",\"UPI/P2A/361024150265/Marithang/Indian Ba/NA\",\"UPI/P2A/324432624651/KARTHICK /Indian Ov/NA\",\"UPI/P2A/324516080378/Rajaxxxxx/Indian Ba/NA\",\"ATM-CASH/TIRUCHENDUR I ON/TIRUCHENDUR/020923\",\"UPI/P2A/361115807473/KARTHICK /Indian Ov/NA\",\"UPI/P2A/324574954658/SAMMANA R/Union Ban/Payment\",\"UPI/P2A/361133886673/A MANICKA VASAGAM    /Sent\",\"UPI/P2M/324588393841/SANTHI SW/Paytm Pay/Oid2023\",\"UPI/P2M/324682504893/SANTHI SWEETS        /Oid20\",\"UPI/P2A/324840810558/Karthick R           /NA\",\"UPI/P2A/324843480786/KARTHICK /Indian Ov/NA\",\"UPI/P2A/361444401273/KARTHICK R           /NA\",\"UPI/P2A/361445796141/KARTHICK /Indian Ov/NA\",\"UPI/P2A/361520406760/ABISHEK  /Kotak Mah/Payment\",\"BY CASH DEPOSIT-BNA/TWRO150601/6837/060923/BANGALO\",\"BY CASH DEPOSIT-BNA/TWRO150601/6839/060923/BANGALO\",\"BY CASH DEPOSIT-BNA/TWRO150601/6841/060923/BANGALO\",\"UPI/P2A/324922646275/KARTHICK R           /NA\",\"UPI/P2M/325067426279/SAMPATH KUMAR        /NA/Paytm Payments Bank\",\"UPI/P2A/361724980213/KARTHICK /Indian Ov/NA/\",\"UPI/P2A/361774135571/NIKITH B SOMPURA     /Paymen/Axis Bank Ltd.\",\"UPI/P2M/325269363540/DATTATREYA C H       /Oid202/Paytm Payments Bank\",\"UPI/P2M/325464560713/EURONETGPAY          /UPI/ICICI Bank\",\"UPI/P2M/325464718041/billdesktez          /UPI/ICICI Bank\",\"UPI/P2A/362021084470/KARTHICK /Indian Ov/NA/\",\"UPI/P2A/325478588210/ABISHEK  SENTHILKUMAR/UPI/Kotak Mahindra Bank\",\"UPI/P2A/325479701465/KARTHIK N GAONKAR    /UPI/Axis Bank Ltd.\",\"UPI/P2A/362038247428/PARTHIBAN            /NA/Canara Bank\",\"UPI/P2M/362068988685/AVARANKUTTY          /Oid202/Paytm Payments Bank\",\"BY CASH DEPOSIT-BNA/TWRO150601/7447/120923/BANGALO\",\"UPI/P2M/325594778791/Asai Comp/Axis Bank/Payment/OTH\",\"UPI/P2A/362125717943/KARTHICK R           /NA/Indian Overseas Bank\",\"UPI/P2A/325536008585/Karthick /Indian Ov/NA/OTH\",\"UPI/P2A/362146557487/KARTHICK R           /NA/Indian Overseas Bank\",\"UPI/P2A/362146734240/KARTHICK R           /NA/Indian Overseas Bank\",\"UPI/P2M/362213844617/VASEEM AH/Yes Bank /Sent fro/OTH\",\"ATM-CASH-AXIS/BECN150601/1648/140923/BANGALORE\",\"UPI/P2A/325740213448/KARTHICK R           /NA/Indian Overseas Bank\",\"UPI/P2M/362412095195/Karnataka Road Transp/Paymen/ICICI Bank\",\"UPI/P2A/325835159669/KARTHICK /Indian Ov/NA/\",\"UPI/P2M/325846918392/ APPADURAI           /NA/Yes Bank Ltd\",\"UPI/P2M/325860728028/EURONETGPAY          /UPI/ICICI Bank\",\"UPI/P2A/362508710399/KARTHICK /Indian Ov/NA/\",\"UPI/P2M/326052270829/AVARANKUTTY          /Oid202/Paytm Payments Bank\",\"UPI/P2A/326054811967/NANTHA KUMAR S       /Paymen/Canara Bank\",\"UPI/P2M/362626555482/KUNDAN JAIRU         /NA/Yes Bank Ltd\",\"UPI/P2A/326212788769/KARTHICK /Indian Ov/NA/\",\"ATM-CASH-AXIS/BECN150601/1681/190923/BANGALORE\",\"UPI/P2A/362921355265/KARTHICK /Indian Ov/NA/\",\"UPI/P2M/326410477904/ MUNIRAJAPPA         /NA/Yes Bank Ltd\",\"UPI/P2M/363063591111/APPADURAI            /Oid202/Paytm Payments Bank\",\"NEFT/DOR1168169.0086/TOSHIBA S/SUMITOMO //REC/\",\"UPI/P2A/363108131646/Marithangam Ravikumar/NA/Indian Bank\",\"BY CASH DEPOSIT-BNA/TWRO150601/8408/220923/BANGALO\",\"UPI/P2A/326527173838/KARTHICK R           /NA/Indian Overseas Bank\",\"UPI/P2M/363143491343/Mr DINESH S          /NA/Yes Bank Ltd\",\"ATM-CASH/UCO BANK  PONDICHE/PUDUCHERRY/230923\",\"UPI/P2A/363643617376/KARTHICK /Indian Ov/NA/\",\"UPI/P2A/363678226023/ABISHEK  SENTHILKUMAR/Paymen/Kotak Mahindra Bank\",\"UPI/P2A/363738001504/ABDUL KADIR          /NA/Paytm Payments Bank\",\"UPI/P2M/363788135096/YASMIN KHATOON       /Oid202/Paytm Payments Bank\",\"INB-BULK-UPLD/140586963197/SALARY/SEP/2023/WIMERA\",\"UPI/P2M/363818293583/A RAGHUNATH          /NA/Yes Bank Ltd\",\"UPI/P2A/363904402977/KARTHICK /Indian Ov/NA/\",\"UPI/P2A/363908628977/Marithangam Ravikumar/NA/Indian Bank\",\"UPI/P2M/327315710970/PRINCIPAL OXFD  DENT /Verifi/Bank of Baroda\",\"UPI/P2A/327322613631/Ganesan C            /NA/State Bank Of India\",\"UPI/P2M/327331589339/SMART BAZAAR         /NA/HDFC BANK LTD\",\"UPI/P2M/327332076410/M KALEEM BASHA       /Sent f/Yes Bank Ltd\",\"UPI/P2A/363932535892/KARTHICK R           /NA/Indian Overseas Bank\"],[239.0,500.0,5000.0,null,8850.0,600.0,null,6000.0,3000.0,169.0,610.0,1000.0,null,6300.0,null,100.0,null,null,null,16600.0,30.0,null,100.0,160.0,155.0,155.0,null,600.0,2070.0,200.0,104.0,null,5000.0,200.0,10000.0,8000.0,10000.0,260.0,2000.0,8000.0,1272.0,null,40.0,15.0,null,20.0,150.0,30.0,null,100.0,null,40.0,30.0,null,3000.0,null,29000.0,255.0,1000.0,null,1500.0,101.0,80.0,null,40.0,null,5000.0,400.0,5000.0,283.56,50.0,600.0],[null,null,null,3000.0,null,null,500.0,null,null,null,null,null,6000.0,null,50.0,null,5300.0,4000.0,7300.0,null,null,500.0,null,null,null,null,4200.0,null,null,null,null,43500.0,null,null,null,null,null,null,null,null,null,100.0,null,null,140.0,null,null,null,1000.0,null,432.0,null,null,3600.0,null,29000.0,null,null,null,1000.0,null,null,null,27930.0,null,1500.0,null,null,null,null,null,null],[22990.42,22490.42,17490.42,20490.42,11640.42,11040.42,11540.42,5540.42,2540.42,2371.42,1761.42,761.42,6761.42,461.42,511.42,411.42,5711.42,9711.42,17011.42,411.42,381.42,881.42,781.42,621.42,466.42,311.42,4511.42,3911.42,1841.42,1641.42,1537.42,45037.42,40037.42,39837.42,29837.42,21837.42,11837.42,11577.42,9577.42,1577.42,305.42,405.42,365.42,350.42,490.42,470.42,320.42,290.42,1290.42,1190.42,1622.42,1582.42,1552.42,5152.42,2152.42,31152.42,2152.42,1897.42,897.42,1897.42,397.42,296.42,216.42,28146.42,28106.42,29606.42,24606.42,24206.42,19206.42,18922.86,18872.86,18272.86]]},\"columnwidth\":[200,400,150,150,200],\"header\":{\"align\":\"center\",\"fill\":{\"color\":\"rgb(194, 214, 214)\"},\"line\":{\"color\":\"rgb(0, 0, 128)\",\"width\":8},\"values\":[\"TransactionDate\",\"TransactionID\",\"Debited\",\"Credited\",\"BALANCE\"]},\"type\":\"table\"}],                        {\"title\":{\"text\":\"<b>SEPTEMBER MONTH STATEMENT</b>\",\"x\":0.5,\"y\":0.9},\"width\":1000,\"template\":{\"data\":{\"histogram2dcontour\":[{\"type\":\"histogram2dcontour\",\"colorbar\":{\"outlinewidth\":0,\"ticks\":\"\"},\"colorscale\":[[0.0,\"#0d0887\"],[0.1111111111111111,\"#46039f\"],[0.2222222222222222,\"#7201a8\"],[0.3333333333333333,\"#9c179e\"],[0.4444444444444444,\"#bd3786\"],[0.5555555555555556,\"#d8576b\"],[0.6666666666666666,\"#ed7953\"],[0.7777777777777778,\"#fb9f3a\"],[0.8888888888888888,\"#fdca26\"],[1.0,\"#f0f921\"]]}],\"choropleth\":[{\"type\":\"choropleth\",\"colorbar\":{\"outlinewidth\":0,\"ticks\":\"\"}}],\"histogram2d\":[{\"type\":\"histogram2d\",\"colorbar\":{\"outlinewidth\":0,\"ticks\":\"\"},\"colorscale\":[[0.0,\"#0d0887\"],[0.1111111111111111,\"#46039f\"],[0.2222222222222222,\"#7201a8\"],[0.3333333333333333,\"#9c179e\"],[0.4444444444444444,\"#bd3786\"],[0.5555555555555556,\"#d8576b\"],[0.6666666666666666,\"#ed7953\"],[0.7777777777777778,\"#fb9f3a\"],[0.8888888888888888,\"#fdca26\"],[1.0,\"#f0f921\"]]}],\"heatmap\":[{\"type\":\"heatmap\",\"colorbar\":{\"outlinewidth\":0,\"ticks\":\"\"},\"colorscale\":[[0.0,\"#0d0887\"],[0.1111111111111111,\"#46039f\"],[0.2222222222222222,\"#7201a8\"],[0.3333333333333333,\"#9c179e\"],[0.4444444444444444,\"#bd3786\"],[0.5555555555555556,\"#d8576b\"],[0.6666666666666666,\"#ed7953\"],[0.7777777777777778,\"#fb9f3a\"],[0.8888888888888888,\"#fdca26\"],[1.0,\"#f0f921\"]]}],\"heatmapgl\":[{\"type\":\"heatmapgl\",\"colorbar\":{\"outlinewidth\":0,\"ticks\":\"\"},\"colorscale\":[[0.0,\"#0d0887\"],[0.1111111111111111,\"#46039f\"],[0.2222222222222222,\"#7201a8\"],[0.3333333333333333,\"#9c179e\"],[0.4444444444444444,\"#bd3786\"],[0.5555555555555556,\"#d8576b\"],[0.6666666666666666,\"#ed7953\"],[0.7777777777777778,\"#fb9f3a\"],[0.8888888888888888,\"#fdca26\"],[1.0,\"#f0f921\"]]}],\"contourcarpet\":[{\"type\":\"contourcarpet\",\"colorbar\":{\"outlinewidth\":0,\"ticks\":\"\"}}],\"contour\":[{\"type\":\"contour\",\"colorbar\":{\"outlinewidth\":0,\"ticks\":\"\"},\"colorscale\":[[0.0,\"#0d0887\"],[0.1111111111111111,\"#46039f\"],[0.2222222222222222,\"#7201a8\"],[0.3333333333333333,\"#9c179e\"],[0.4444444444444444,\"#bd3786\"],[0.5555555555555556,\"#d8576b\"],[0.6666666666666666,\"#ed7953\"],[0.7777777777777778,\"#fb9f3a\"],[0.8888888888888888,\"#fdca26\"],[1.0,\"#f0f921\"]]}],\"surface\":[{\"type\":\"surface\",\"colorbar\":{\"outlinewidth\":0,\"ticks\":\"\"},\"colorscale\":[[0.0,\"#0d0887\"],[0.1111111111111111,\"#46039f\"],[0.2222222222222222,\"#7201a8\"],[0.3333333333333333,\"#9c179e\"],[0.4444444444444444,\"#bd3786\"],[0.5555555555555556,\"#d8576b\"],[0.6666666666666666,\"#ed7953\"],[0.7777777777777778,\"#fb9f3a\"],[0.8888888888888888,\"#fdca26\"],[1.0,\"#f0f921\"]]}],\"mesh3d\":[{\"type\":\"mesh3d\",\"colorbar\":{\"outlinewidth\":0,\"ticks\":\"\"}}],\"scatter\":[{\"fillpattern\":{\"fillmode\":\"overlay\",\"size\":10,\"solidity\":0.2},\"type\":\"scatter\"}],\"parcoords\":[{\"type\":\"parcoords\",\"line\":{\"colorbar\":{\"outlinewidth\":0,\"ticks\":\"\"}}}],\"scatterpolargl\":[{\"type\":\"scatterpolargl\",\"marker\":{\"colorbar\":{\"outlinewidth\":0,\"ticks\":\"\"}}}],\"bar\":[{\"error_x\":{\"color\":\"#2a3f5f\"},\"error_y\":{\"color\":\"#2a3f5f\"},\"marker\":{\"line\":{\"color\":\"#E5ECF6\",\"width\":0.5},\"pattern\":{\"fillmode\":\"overlay\",\"size\":10,\"solidity\":0.2}},\"type\":\"bar\"}],\"scattergeo\":[{\"type\":\"scattergeo\",\"marker\":{\"colorbar\":{\"outlinewidth\":0,\"ticks\":\"\"}}}],\"scatterpolar\":[{\"type\":\"scatterpolar\",\"marker\":{\"colorbar\":{\"outlinewidth\":0,\"ticks\":\"\"}}}],\"histogram\":[{\"marker\":{\"pattern\":{\"fillmode\":\"overlay\",\"size\":10,\"solidity\":0.2}},\"type\":\"histogram\"}],\"scattergl\":[{\"type\":\"scattergl\",\"marker\":{\"colorbar\":{\"outlinewidth\":0,\"ticks\":\"\"}}}],\"scatter3d\":[{\"type\":\"scatter3d\",\"line\":{\"colorbar\":{\"outlinewidth\":0,\"ticks\":\"\"}},\"marker\":{\"colorbar\":{\"outlinewidth\":0,\"ticks\":\"\"}}}],\"scattermapbox\":[{\"type\":\"scattermapbox\",\"marker\":{\"colorbar\":{\"outlinewidth\":0,\"ticks\":\"\"}}}],\"scatterternary\":[{\"type\":\"scatterternary\",\"marker\":{\"colorbar\":{\"outlinewidth\":0,\"ticks\":\"\"}}}],\"scattercarpet\":[{\"type\":\"scattercarpet\",\"marker\":{\"colorbar\":{\"outlinewidth\":0,\"ticks\":\"\"}}}],\"carpet\":[{\"aaxis\":{\"endlinecolor\":\"#2a3f5f\",\"gridcolor\":\"white\",\"linecolor\":\"white\",\"minorgridcolor\":\"white\",\"startlinecolor\":\"#2a3f5f\"},\"baxis\":{\"endlinecolor\":\"#2a3f5f\",\"gridcolor\":\"white\",\"linecolor\":\"white\",\"minorgridcolor\":\"white\",\"startlinecolor\":\"#2a3f5f\"},\"type\":\"carpet\"}],\"table\":[{\"cells\":{\"fill\":{\"color\":\"#EBF0F8\"},\"line\":{\"color\":\"white\"}},\"header\":{\"fill\":{\"color\":\"#C8D4E3\"},\"line\":{\"color\":\"white\"}},\"type\":\"table\"}],\"barpolar\":[{\"marker\":{\"line\":{\"color\":\"#E5ECF6\",\"width\":0.5},\"pattern\":{\"fillmode\":\"overlay\",\"size\":10,\"solidity\":0.2}},\"type\":\"barpolar\"}],\"pie\":[{\"automargin\":true,\"type\":\"pie\"}]},\"layout\":{\"autotypenumbers\":\"strict\",\"colorway\":[\"#636efa\",\"#EF553B\",\"#00cc96\",\"#ab63fa\",\"#FFA15A\",\"#19d3f3\",\"#FF6692\",\"#B6E880\",\"#FF97FF\",\"#FECB52\"],\"font\":{\"color\":\"#2a3f5f\"},\"hovermode\":\"closest\",\"hoverlabel\":{\"align\":\"left\"},\"paper_bgcolor\":\"white\",\"plot_bgcolor\":\"#E5ECF6\",\"polar\":{\"bgcolor\":\"#E5ECF6\",\"angularaxis\":{\"gridcolor\":\"white\",\"linecolor\":\"white\",\"ticks\":\"\"},\"radialaxis\":{\"gridcolor\":\"white\",\"linecolor\":\"white\",\"ticks\":\"\"}},\"ternary\":{\"bgcolor\":\"#E5ECF6\",\"aaxis\":{\"gridcolor\":\"white\",\"linecolor\":\"white\",\"ticks\":\"\"},\"baxis\":{\"gridcolor\":\"white\",\"linecolor\":\"white\",\"ticks\":\"\"},\"caxis\":{\"gridcolor\":\"white\",\"linecolor\":\"white\",\"ticks\":\"\"}},\"coloraxis\":{\"colorbar\":{\"outlinewidth\":0,\"ticks\":\"\"}},\"colorscale\":{\"sequential\":[[0.0,\"#0d0887\"],[0.1111111111111111,\"#46039f\"],[0.2222222222222222,\"#7201a8\"],[0.3333333333333333,\"#9c179e\"],[0.4444444444444444,\"#bd3786\"],[0.5555555555555556,\"#d8576b\"],[0.6666666666666666,\"#ed7953\"],[0.7777777777777778,\"#fb9f3a\"],[0.8888888888888888,\"#fdca26\"],[1.0,\"#f0f921\"]],\"sequentialminus\":[[0.0,\"#0d0887\"],[0.1111111111111111,\"#46039f\"],[0.2222222222222222,\"#7201a8\"],[0.3333333333333333,\"#9c179e\"],[0.4444444444444444,\"#bd3786\"],[0.5555555555555556,\"#d8576b\"],[0.6666666666666666,\"#ed7953\"],[0.7777777777777778,\"#fb9f3a\"],[0.8888888888888888,\"#fdca26\"],[1.0,\"#f0f921\"]],\"diverging\":[[0,\"#8e0152\"],[0.1,\"#c51b7d\"],[0.2,\"#de77ae\"],[0.3,\"#f1b6da\"],[0.4,\"#fde0ef\"],[0.5,\"#f7f7f7\"],[0.6,\"#e6f5d0\"],[0.7,\"#b8e186\"],[0.8,\"#7fbc41\"],[0.9,\"#4d9221\"],[1,\"#276419\"]]},\"xaxis\":{\"gridcolor\":\"white\",\"linecolor\":\"white\",\"ticks\":\"\",\"title\":{\"standoff\":15},\"zerolinecolor\":\"white\",\"automargin\":true,\"zerolinewidth\":2},\"yaxis\":{\"gridcolor\":\"white\",\"linecolor\":\"white\",\"ticks\":\"\",\"title\":{\"standoff\":15},\"zerolinecolor\":\"white\",\"automargin\":true,\"zerolinewidth\":2},\"scene\":{\"xaxis\":{\"backgroundcolor\":\"#E5ECF6\",\"gridcolor\":\"white\",\"linecolor\":\"white\",\"showbackground\":true,\"ticks\":\"\",\"zerolinecolor\":\"white\",\"gridwidth\":2},\"yaxis\":{\"backgroundcolor\":\"#E5ECF6\",\"gridcolor\":\"white\",\"linecolor\":\"white\",\"showbackground\":true,\"ticks\":\"\",\"zerolinecolor\":\"white\",\"gridwidth\":2},\"zaxis\":{\"backgroundcolor\":\"#E5ECF6\",\"gridcolor\":\"white\",\"linecolor\":\"white\",\"showbackground\":true,\"ticks\":\"\",\"zerolinecolor\":\"white\",\"gridwidth\":2}},\"shapedefaults\":{\"line\":{\"color\":\"#2a3f5f\"}},\"annotationdefaults\":{\"arrowcolor\":\"#2a3f5f\",\"arrowhead\":0,\"arrowwidth\":1},\"geo\":{\"bgcolor\":\"white\",\"landcolor\":\"#E5ECF6\",\"subunitcolor\":\"white\",\"showland\":true,\"showlakes\":true,\"lakecolor\":\"white\"},\"title\":{\"x\":0.05},\"mapbox\":{\"style\":\"light\"}}}},                        {\"responsive\": true}                    ).then(function(){\n",
       "                            \n",
       "var gd = document.getElementById('4e143083-9a17-4d04-b260-8c6b27c4f93f');\n",
       "var x = new MutationObserver(function (mutations, observer) {{\n",
       "        var display = window.getComputedStyle(gd).display;\n",
       "        if (!display || display === 'none') {{\n",
       "            console.log([gd, 'removed!']);\n",
       "            Plotly.purge(gd);\n",
       "            observer.disconnect();\n",
       "        }}\n",
       "}});\n",
       "\n",
       "// Listen for the removal of the full notebook cells\n",
       "var notebookContainer = gd.closest('#notebook-container');\n",
       "if (notebookContainer) {{\n",
       "    x.observe(notebookContainer, {childList: true});\n",
       "}}\n",
       "\n",
       "// Listen for the clearing of the current output cell\n",
       "var outputEl = gd.closest('.output');\n",
       "if (outputEl) {{\n",
       "    x.observe(outputEl, {childList: true});\n",
       "}}\n",
       "\n",
       "                        })                };                });            </script>        </div>"
      ]
     },
     "metadata": {},
     "output_type": "display_data"
    }
   ],
   "source": [
    "#creating table plot to display whole clened dataset(dd1)\n",
    "trace=go.Table(\n",
    "header=dict(\n",
    "values=dd1.columns,\n",
    "fill=dict(color='rgb(194, 214, 214)'),\n",
    "align='center',\n",
    "line=dict(color='rgb(0, 0, 128)',width=8)\n",
    "),\n",
    "cells=dict(\n",
    "values=[dd1['TransactionDate'],dd1['TransactionID'],dd1['Debited'],dd1['Credited'],dd1['BALANCE']],\n",
    "fill=dict(color='rgb(179, 255, 240)'),\n",
    "align='center',\n",
    "line=dict(color='#8600b3',width=4)\n",
    "),\n",
    "# Adjust columnwidth values as needed\n",
    "    columnwidth=[200,400,150,150,200]\n",
    ")\n",
    "layout=go.Layout(\n",
    "title=dict(text=\"<b>SEPTEMBER MONTH STATEMENT</b>\",\n",
    "        x=0.5,y=0.9),\n",
    "     width=1000,#total width of the table\n",
    "#autosize=False,\n",
    ")\n",
    "figure=go.Figure(trace,layout=layout)\n",
    "figure.show()"
   ]
  },
  {
   "cell_type": "code",
   "execution_count": null,
   "id": "753deae2",
   "metadata": {},
   "outputs": [],
   "source": []
  },
  {
   "cell_type": "code",
   "execution_count": null,
   "id": "01d51cb9",
   "metadata": {},
   "outputs": [],
   "source": []
  }
 ],
 "metadata": {
  "kernelspec": {
   "display_name": "Python 3 (ipykernel)",
   "language": "python",
   "name": "python3"
  },
  "language_info": {
   "codemirror_mode": {
    "name": "ipython",
    "version": 3
   },
   "file_extension": ".py",
   "mimetype": "text/x-python",
   "name": "python",
   "nbconvert_exporter": "python",
   "pygments_lexer": "ipython3",
   "version": "3.10.9"
  }
 },
 "nbformat": 4,
 "nbformat_minor": 5
}
