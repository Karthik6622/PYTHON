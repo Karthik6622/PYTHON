{
 "cells": [
  {
   "cell_type": "markdown",
   "id": "2554f024",
   "metadata": {},
   "source": [
    "# Queue-UserDefinedDataStructure"
   ]
  },
  {
   "cell_type": "code",
   "execution_count": 2,
   "id": "e0853463",
   "metadata": {},
   "outputs": [
    {
     "data": {
      "text/plain": [
       "[10, 20, 30]"
      ]
     },
     "execution_count": 2,
     "metadata": {},
     "output_type": "execute_result"
    }
   ],
   "source": [
    "#Queue Implementation using list\n",
    "#1st way\n",
    "#dequeue(remove)   <-- [][][][]<--enqueue(add)\n",
    "queue=[]\n",
    "queue.append(10)\n",
    "queue.append(20)\n",
    "queue.append(30)\n",
    "queue"
   ]
  },
  {
   "cell_type": "code",
   "execution_count": 3,
   "id": "5b5f2330",
   "metadata": {},
   "outputs": [
    {
     "data": {
      "text/plain": [
       "10"
      ]
     },
     "execution_count": 3,
     "metadata": {},
     "output_type": "execute_result"
    }
   ],
   "source": [
    "queue.pop(0)#here we giving index position to remove first elemnt"
   ]
  },
  {
   "cell_type": "code",
   "execution_count": 4,
   "id": "ef24ccfc",
   "metadata": {},
   "outputs": [
    {
     "data": {
      "text/plain": [
       "20"
      ]
     },
     "execution_count": 4,
     "metadata": {},
     "output_type": "execute_result"
    }
   ],
   "source": [
    "queue.pop(0)"
   ]
  },
  {
   "cell_type": "code",
   "execution_count": 5,
   "id": "155f8fa9",
   "metadata": {},
   "outputs": [
    {
     "data": {
      "text/plain": [
       "30"
      ]
     },
     "execution_count": 5,
     "metadata": {},
     "output_type": "execute_result"
    }
   ],
   "source": [
    "queue.pop(0)"
   ]
  },
  {
   "cell_type": "code",
   "execution_count": 6,
   "id": "a68ce081",
   "metadata": {},
   "outputs": [
    {
     "ename": "IndexError",
     "evalue": "pop from empty list",
     "output_type": "error",
     "traceback": [
      "\u001b[1;31m---------------------------------------------------------------------------\u001b[0m",
      "\u001b[1;31mIndexError\u001b[0m                                Traceback (most recent call last)",
      "Cell \u001b[1;32mIn[6], line 1\u001b[0m\n\u001b[1;32m----> 1\u001b[0m \u001b[43mqueue\u001b[49m\u001b[38;5;241;43m.\u001b[39;49m\u001b[43mpop\u001b[49m\u001b[43m(\u001b[49m\u001b[38;5;241;43m0\u001b[39;49m\u001b[43m)\u001b[49m\n",
      "\u001b[1;31mIndexError\u001b[0m: pop from empty list"
     ]
    }
   ],
   "source": [
    "queue.pop(0)#because queue is empty"
   ]
  },
  {
   "cell_type": "code",
   "execution_count": 7,
   "id": "f56c01bb",
   "metadata": {},
   "outputs": [
    {
     "data": {
      "text/plain": [
       "True"
      ]
     },
     "execution_count": 7,
     "metadata": {},
     "output_type": "execute_result"
    }
   ],
   "source": [
    "#how to check whether queue empty or not \n",
    "not queue"
   ]
  },
  {
   "cell_type": "code",
   "execution_count": 11,
   "id": "3bac290f",
   "metadata": {},
   "outputs": [
    {
     "name": "stdout",
     "output_type": "stream",
     "text": [
      "[1, 1, 1, 2, 1, 2, 3]\n"
     ]
    },
    {
     "data": {
      "text/plain": [
       "False"
      ]
     },
     "execution_count": 11,
     "metadata": {},
     "output_type": "execute_result"
    }
   ],
   "source": [
    "queue.append(1)\n",
    "queue.append(2)\n",
    "queue.append(3)\n",
    "print(queue)\n",
    "not queue"
   ]
  },
  {
   "cell_type": "code",
   "execution_count": 13,
   "id": "1e52b0da",
   "metadata": {},
   "outputs": [
    {
     "name": "stdout",
     "output_type": "stream",
     "text": [
      "rear: 3\n",
      "head: 1\n"
     ]
    }
   ],
   "source": [
    "#how to check rear and front position of queue\n",
    "#rear-\n",
    "print(\"rear:\",queue[-1])\n",
    "#head\n",
    "print(\"head:\",queue[0])"
   ]
  },
  {
   "cell_type": "code",
   "execution_count": 17,
   "id": "b4668f0e",
   "metadata": {},
   "outputs": [
    {
     "data": {
      "text/plain": [
       "[300, 200, 100]"
      ]
     },
     "execution_count": 17,
     "metadata": {},
     "output_type": "execute_result"
    }
   ],
   "source": [
    "#2nd way\n",
    "#enqueue(add)   -->  [][][][]-->dequeue(remove)\n",
    "queue=[]\n",
    "queue.insert(0,100)#inserting element to begining\n",
    "queue.insert(0,200)\n",
    "queue.insert(0,300)\n",
    "queue"
   ]
  },
  {
   "cell_type": "code",
   "execution_count": 18,
   "id": "993b587d",
   "metadata": {},
   "outputs": [
    {
     "data": {
      "text/plain": [
       "100"
      ]
     },
     "execution_count": 18,
     "metadata": {},
     "output_type": "execute_result"
    }
   ],
   "source": [
    "queue.pop()"
   ]
  },
  {
   "cell_type": "code",
   "execution_count": 19,
   "id": "4639f5b9",
   "metadata": {},
   "outputs": [
    {
     "data": {
      "text/plain": [
       "200"
      ]
     },
     "execution_count": 19,
     "metadata": {},
     "output_type": "execute_result"
    }
   ],
   "source": [
    "queue.pop()"
   ]
  },
  {
   "cell_type": "code",
   "execution_count": 20,
   "id": "24d999b2",
   "metadata": {},
   "outputs": [
    {
     "data": {
      "text/plain": [
       "300"
      ]
     },
     "execution_count": 20,
     "metadata": {},
     "output_type": "execute_result"
    }
   ],
   "source": [
    "queue.pop()"
   ]
  },
  {
   "cell_type": "code",
   "execution_count": 21,
   "id": "a34ce8d8",
   "metadata": {},
   "outputs": [
    {
     "data": {
      "text/plain": [
       "True"
      ]
     },
     "execution_count": 21,
     "metadata": {},
     "output_type": "execute_result"
    }
   ],
   "source": [
    "#finding whether queue is empty or not\n",
    "not queue"
   ]
  },
  {
   "cell_type": "code",
   "execution_count": 23,
   "id": "e0b46c3c",
   "metadata": {},
   "outputs": [
    {
     "name": "stdout",
     "output_type": "stream",
     "text": [
      "rear: -3\n",
      "head: -1\n"
     ]
    }
   ],
   "source": [
    "queue.insert(0,-1)\n",
    "queue.insert(0,-2)\n",
    "queue.insert(0,-3)\n",
    "#finding rear\n",
    "print(\"rear:\",queue[0])\n",
    "#finding head\n",
    "print(\"head:\",queue[-1])"
   ]
  },
  {
   "cell_type": "code",
   "execution_count": 28,
   "id": "132eaeae",
   "metadata": {},
   "outputs": [
    {
     "name": "stdout",
     "output_type": "stream",
     "text": [
      "Choose one Stack Operation\n",
      "1.enqueue\n",
      "2.dequeue\n",
      "3.Display\n",
      "4.Exit:\n",
      "3\n",
      "Queue Is: []\n",
      "Choose one Stack Operation\n",
      "1.enqueue\n",
      "2.dequeue\n",
      "3.Display\n",
      "4.Exit:\n",
      "1\n",
      "Enter the Element to Add to Queue:2\n",
      "Element 2 added Successfully!!!\n",
      "Choose one Stack Operation\n",
      "1.enqueue\n",
      "2.dequeue\n",
      "3.Display\n",
      "4.Exit:\n",
      "1\n",
      "Enter the Element to Add to Queue:3\n",
      "Element 3 added Successfully!!!\n",
      "Choose one Stack Operation\n",
      "1.enqueue\n",
      "2.dequeue\n",
      "3.Display\n",
      "4.Exit:\n",
      "1\n",
      "Enter the Element to Add to Queue:4\n",
      "Element 4 added Successfully!!!\n",
      "Choose one Stack Operation\n",
      "1.enqueue\n",
      "2.dequeue\n",
      "3.Display\n",
      "4.Exit:\n",
      "3\n",
      "Queue Is: ['2', '3', '4']\n",
      "Choose one Stack Operation\n",
      "1.enqueue\n",
      "2.dequeue\n",
      "3.Display\n",
      "4.Exit:\n",
      "2\n",
      "2 removed successfully!!!\n",
      "Choose one Stack Operation\n",
      "1.enqueue\n",
      "2.dequeue\n",
      "3.Display\n",
      "4.Exit:\n",
      "2\n",
      "3 removed successfully!!!\n",
      "Choose one Stack Operation\n",
      "1.enqueue\n",
      "2.dequeue\n",
      "3.Display\n",
      "4.Exit:\n",
      "2\n",
      "4 removed successfully!!!\n",
      "Choose one Stack Operation\n",
      "1.enqueue\n",
      "2.dequeue\n",
      "3.Display\n",
      "4.Exit:\n",
      "2\n",
      "Queue is Empty!!\n",
      "Choose one Stack Operation\n",
      "1.enqueue\n",
      "2.dequeue\n",
      "3.Display\n",
      "4.Exit:\n",
      "4\n"
     ]
    }
   ],
   "source": [
    "#write a program to implement Queue using list\n",
    "#dequeue(remove)   <-- [][][][]<--enqueue(add)\n",
    "queue=[]\n",
    "def enqueue():\n",
    "    element=input('Enter the Element to Add to Queue:')\n",
    "    queue.append(element)\n",
    "    print(f'Element {element} added Successfully!!!')\n",
    "def dequeue():\n",
    "    if len(queue)==0:\n",
    "        print(\"Queue is Empty!!\")\n",
    "    else:\n",
    "        print(f\"{queue[0]} removed successfully!!!\")\n",
    "        queue.pop(0)\n",
    "def display():\n",
    "    print(\"Queue Is:\",queue)\n",
    "while True:\n",
    "    choose=int(input('Choose one Stack Operation\\n1.enqueue\\n2.dequeue\\n3.Display\\n4.Exit:\\n'))\n",
    "    if choose==1:\n",
    "        enqueue()\n",
    "    elif choose==2:\n",
    "        dequeue()\n",
    "    elif choose==3:\n",
    "        display()\n",
    "    elif choose==4:\n",
    "        break\n",
    "    else:\n",
    "        print(\"Please choose proper one!!\")"
   ]
  },
  {
   "cell_type": "code",
   "execution_count": 29,
   "id": "6a95f1ca",
   "metadata": {},
   "outputs": [
    {
     "name": "stdout",
     "output_type": "stream",
     "text": [
      "Enter the Limit OF Queue:3\n",
      "Choose one Stack Operation\n",
      "1.enqueue\n",
      "2.dequeue\n",
      "3.Display\n",
      "4.Exit:\n",
      "2\n",
      "Queue is Empty!!\n",
      "Choose one Stack Operation\n",
      "1.enqueue\n",
      "2.dequeue\n",
      "3.Display\n",
      "4.Exit:\n",
      "1\n",
      "Enter the Element to Add to Queue:22\n",
      "Element 22 added Successfully!!!\n",
      "Choose one Stack Operation\n",
      "1.enqueue\n",
      "2.dequeue\n",
      "3.Display\n",
      "4.Exit:\n",
      "1\n",
      "Enter the Element to Add to Queue:23\n",
      "Element 23 added Successfully!!!\n",
      "Choose one Stack Operation\n",
      "1.enqueue\n",
      "2.dequeue\n",
      "3.Display\n",
      "4.Exit:\n",
      "1\n",
      "Enter the Element to Add to Queue:24\n",
      "Element 24 added Successfully!!!\n",
      "Choose one Stack Operation\n",
      "1.enqueue\n",
      "2.dequeue\n",
      "3.Display\n",
      "4.Exit:\n",
      "3\n",
      "Queue Is: ['24', '23', '22']\n",
      "Choose one Stack Operation\n",
      "1.enqueue\n",
      "2.dequeue\n",
      "3.Display\n",
      "4.Exit:\n",
      "2\n",
      "22 removed successfully!!!\n",
      "Choose one Stack Operation\n",
      "1.enqueue\n",
      "2.dequeue\n",
      "3.Display\n",
      "4.Exit:\n",
      "2\n",
      "23 removed successfully!!!\n",
      "Choose one Stack Operation\n",
      "1.enqueue\n",
      "2.dequeue\n",
      "3.Display\n",
      "4.Exit:\n",
      "2\n",
      "24 removed successfully!!!\n",
      "Choose one Stack Operation\n",
      "1.enqueue\n",
      "2.dequeue\n",
      "3.Display\n",
      "4.Exit:\n",
      "3\n",
      "Queue Is: []\n",
      "Choose one Stack Operation\n",
      "1.enqueue\n",
      "2.dequeue\n",
      "3.Display\n",
      "4.Exit:\n",
      "4\n"
     ]
    }
   ],
   "source": [
    "#write a program to implement Queue using list with limit\n",
    "#enqueue(add)   -->  [][][][]-->dequeue(remove)\n",
    "queue=[]\n",
    "def enqueue():\n",
    "    if limit==len(queue):\n",
    "        print(\"Queue is Full!!\")\n",
    "    else:\n",
    "        element=input('Enter the Element to Add to Queue:')\n",
    "        queue.insert(0,element)\n",
    "        print(f'Element {element} added Successfully!!!')\n",
    "def dequeue():\n",
    "    if len(queue)==0:\n",
    "        print(\"Queue is Empty!!\")\n",
    "    else:\n",
    "        print(f\"{queue[-1]} removed successfully!!!\")\n",
    "        queue.pop()\n",
    "def display():\n",
    "    print(\"Queue Is:\",queue)\n",
    "limit=int(input(\"Enter the Limit OF Queue:\"))\n",
    "while True:\n",
    "    choose=int(input('Choose one Stack Operation\\n1.enqueue\\n2.dequeue\\n3.Display\\n4.Exit:\\n'))\n",
    "    if choose==1:\n",
    "        enqueue()\n",
    "    elif choose==2:\n",
    "        dequeue()\n",
    "    elif choose==3:\n",
    "        display()\n",
    "    elif choose==4:\n",
    "        break\n",
    "    else:\n",
    "        print(\"Please choose proper one!!\")"
   ]
  },
  {
   "cell_type": "code",
   "execution_count": 33,
   "id": "a20132af",
   "metadata": {},
   "outputs": [
    {
     "data": {
      "text/plain": [
       "deque([23, 24, 25])"
      ]
     },
     "execution_count": 33,
     "metadata": {},
     "output_type": "execute_result"
    }
   ],
   "source": [
    "#queue implementaion using moodules\n",
    "#1st way\n",
    "#dequeue(remove)   <-- [][][][]<--enqueue(add)\n",
    "import collections\n",
    "queue=collections.deque()\n",
    "queue.append(23)\n",
    "queue.append(24)\n",
    "queue.append(25)\n",
    "queue"
   ]
  },
  {
   "cell_type": "code",
   "execution_count": 34,
   "id": "dbc4b72e",
   "metadata": {},
   "outputs": [
    {
     "data": {
      "text/plain": [
       "23"
      ]
     },
     "execution_count": 34,
     "metadata": {},
     "output_type": "execute_result"
    }
   ],
   "source": [
    "queue.popleft()"
   ]
  },
  {
   "cell_type": "code",
   "execution_count": 35,
   "id": "65fca66b",
   "metadata": {},
   "outputs": [
    {
     "data": {
      "text/plain": [
       "24"
      ]
     },
     "execution_count": 35,
     "metadata": {},
     "output_type": "execute_result"
    }
   ],
   "source": [
    "queue.popleft()"
   ]
  },
  {
   "cell_type": "code",
   "execution_count": 36,
   "id": "8a621f21",
   "metadata": {},
   "outputs": [
    {
     "data": {
      "text/plain": [
       "25"
      ]
     },
     "execution_count": 36,
     "metadata": {},
     "output_type": "execute_result"
    }
   ],
   "source": [
    "queue.popleft()"
   ]
  },
  {
   "cell_type": "code",
   "execution_count": 37,
   "id": "42dc9f02",
   "metadata": {},
   "outputs": [
    {
     "ename": "IndexError",
     "evalue": "pop from an empty deque",
     "output_type": "error",
     "traceback": [
      "\u001b[1;31m---------------------------------------------------------------------------\u001b[0m",
      "\u001b[1;31mIndexError\u001b[0m                                Traceback (most recent call last)",
      "Cell \u001b[1;32mIn[37], line 1\u001b[0m\n\u001b[1;32m----> 1\u001b[0m \u001b[43mqueue\u001b[49m\u001b[38;5;241;43m.\u001b[39;49m\u001b[43mpopleft\u001b[49m\u001b[43m(\u001b[49m\u001b[43m)\u001b[49m\n",
      "\u001b[1;31mIndexError\u001b[0m: pop from an empty deque"
     ]
    }
   ],
   "source": [
    "queue.popleft()#because of empty queue"
   ]
  },
  {
   "cell_type": "code",
   "execution_count": 40,
   "id": "40ffe710",
   "metadata": {},
   "outputs": [
    {
     "data": {
      "text/plain": [
       "True"
      ]
     },
     "execution_count": 40,
     "metadata": {},
     "output_type": "execute_result"
    }
   ],
   "source": [
    "#how to check whether queue is empty or not\n",
    "not queue"
   ]
  },
  {
   "cell_type": "code",
   "execution_count": 42,
   "id": "ba2057b7",
   "metadata": {},
   "outputs": [
    {
     "name": "stdout",
     "output_type": "stream",
     "text": [
      "Front: 0\n",
      "Rear: 2\n"
     ]
    }
   ],
   "source": [
    "#how to find front and rear position elements in queue\n",
    "queue.append(0)\n",
    "queue.append(1)\n",
    "queue.append(2)\n",
    "#front\n",
    "print('Front:',queue[0])\n",
    "#rear\n",
    "print('Rear:',queue[-1])"
   ]
  },
  {
   "cell_type": "code",
   "execution_count": 48,
   "id": "d29c0e33",
   "metadata": {},
   "outputs": [
    {
     "data": {
      "text/plain": [
       "deque([2, 1, 0])"
      ]
     },
     "execution_count": 48,
     "metadata": {},
     "output_type": "execute_result"
    }
   ],
   "source": [
    "#queue implementation using modules\n",
    "#2nd way\n",
    "##enqueue(add)   -->  [][][][]-->dequeue(remove)\n",
    "import collections\n",
    "q=collections.deque()\n",
    "q.appendleft(0)\n",
    "q.appendleft(1)\n",
    "q.appendleft(2)\n",
    "q"
   ]
  },
  {
   "cell_type": "code",
   "execution_count": 49,
   "id": "19654a0c",
   "metadata": {},
   "outputs": [
    {
     "data": {
      "text/plain": [
       "0"
      ]
     },
     "execution_count": 49,
     "metadata": {},
     "output_type": "execute_result"
    }
   ],
   "source": [
    "q.pop()"
   ]
  },
  {
   "cell_type": "code",
   "execution_count": 50,
   "id": "4e602af4",
   "metadata": {},
   "outputs": [
    {
     "data": {
      "text/plain": [
       "1"
      ]
     },
     "execution_count": 50,
     "metadata": {},
     "output_type": "execute_result"
    }
   ],
   "source": [
    "q.pop()"
   ]
  },
  {
   "cell_type": "code",
   "execution_count": 51,
   "id": "40f087e8",
   "metadata": {},
   "outputs": [
    {
     "data": {
      "text/plain": [
       "2"
      ]
     },
     "execution_count": 51,
     "metadata": {},
     "output_type": "execute_result"
    }
   ],
   "source": [
    "q.pop()"
   ]
  },
  {
   "cell_type": "code",
   "execution_count": 52,
   "id": "477abea0",
   "metadata": {},
   "outputs": [
    {
     "ename": "IndexError",
     "evalue": "pop from an empty deque",
     "output_type": "error",
     "traceback": [
      "\u001b[1;31m---------------------------------------------------------------------------\u001b[0m",
      "\u001b[1;31mIndexError\u001b[0m                                Traceback (most recent call last)",
      "Cell \u001b[1;32mIn[52], line 1\u001b[0m\n\u001b[1;32m----> 1\u001b[0m \u001b[43mq\u001b[49m\u001b[38;5;241;43m.\u001b[39;49m\u001b[43mpop\u001b[49m\u001b[43m(\u001b[49m\u001b[43m)\u001b[49m\n",
      "\u001b[1;31mIndexError\u001b[0m: pop from an empty deque"
     ]
    }
   ],
   "source": [
    "q.pop()#cause queue is empty"
   ]
  },
  {
   "cell_type": "code",
   "execution_count": 1,
   "id": "015fe36b",
   "metadata": {},
   "outputs": [
    {
     "data": {
      "text/plain": [
       "<queue.Queue at 0x25777e38850>"
      ]
     },
     "execution_count": 1,
     "metadata": {},
     "output_type": "execute_result"
    }
   ],
   "source": [
    "#Queue implementation using one more Modules\n",
    "##enqueue(add)   -->  [][][][]-->dequeue(remove)\n",
    "import queue\n",
    "q=queue.Queue()\n",
    "q.put(1,0)#second one is index position\n",
    "q.put(2,0)\n",
    "q.put(3,0)\n",
    "q"
   ]
  },
  {
   "cell_type": "code",
   "execution_count": 2,
   "id": "2eb55cb9",
   "metadata": {},
   "outputs": [
    {
     "data": {
      "text/plain": [
       "1"
      ]
     },
     "execution_count": 2,
     "metadata": {},
     "output_type": "execute_result"
    }
   ],
   "source": [
    "q.get()"
   ]
  },
  {
   "cell_type": "code",
   "execution_count": 3,
   "id": "8bdb1213",
   "metadata": {},
   "outputs": [
    {
     "data": {
      "text/plain": [
       "2"
      ]
     },
     "execution_count": 3,
     "metadata": {},
     "output_type": "execute_result"
    }
   ],
   "source": [
    "q.get()"
   ]
  },
  {
   "cell_type": "code",
   "execution_count": 4,
   "id": "12cd5e84",
   "metadata": {},
   "outputs": [
    {
     "data": {
      "text/plain": [
       "3"
      ]
     },
     "execution_count": 4,
     "metadata": {},
     "output_type": "execute_result"
    }
   ],
   "source": [
    "q.get()"
   ]
  },
  {
   "cell_type": "code",
   "execution_count": 5,
   "id": "94434ea0",
   "metadata": {},
   "outputs": [
    {
     "ename": "Empty",
     "evalue": "",
     "output_type": "error",
     "traceback": [
      "\u001b[1;31m---------------------------------------------------------------------------\u001b[0m",
      "\u001b[1;31mEmpty\u001b[0m                                     Traceback (most recent call last)",
      "Cell \u001b[1;32mIn[5], line 1\u001b[0m\n\u001b[1;32m----> 1\u001b[0m \u001b[43mq\u001b[49m\u001b[38;5;241;43m.\u001b[39;49m\u001b[43mget_nowait\u001b[49m\u001b[43m(\u001b[49m\u001b[43m)\u001b[49m\n",
      "File \u001b[1;32mC:\\ProgramData\\anaconda3\\lib\\queue.py:199\u001b[0m, in \u001b[0;36mQueue.get_nowait\u001b[1;34m(self)\u001b[0m\n\u001b[0;32m    193\u001b[0m \u001b[38;5;28;01mdef\u001b[39;00m \u001b[38;5;21mget_nowait\u001b[39m(\u001b[38;5;28mself\u001b[39m):\n\u001b[0;32m    194\u001b[0m     \u001b[38;5;124;03m'''Remove and return an item from the queue without blocking.\u001b[39;00m\n\u001b[0;32m    195\u001b[0m \n\u001b[0;32m    196\u001b[0m \u001b[38;5;124;03m    Only get an item if one is immediately available. Otherwise\u001b[39;00m\n\u001b[0;32m    197\u001b[0m \u001b[38;5;124;03m    raise the Empty exception.\u001b[39;00m\n\u001b[0;32m    198\u001b[0m \u001b[38;5;124;03m    '''\u001b[39;00m\n\u001b[1;32m--> 199\u001b[0m     \u001b[38;5;28;01mreturn\u001b[39;00m \u001b[38;5;28;43mself\u001b[39;49m\u001b[38;5;241;43m.\u001b[39;49m\u001b[43mget\u001b[49m\u001b[43m(\u001b[49m\u001b[43mblock\u001b[49m\u001b[38;5;241;43m=\u001b[39;49m\u001b[38;5;28;43;01mFalse\u001b[39;49;00m\u001b[43m)\u001b[49m\n",
      "File \u001b[1;32mC:\\ProgramData\\anaconda3\\lib\\queue.py:168\u001b[0m, in \u001b[0;36mQueue.get\u001b[1;34m(self, block, timeout)\u001b[0m\n\u001b[0;32m    166\u001b[0m \u001b[38;5;28;01mif\u001b[39;00m \u001b[38;5;129;01mnot\u001b[39;00m block:\n\u001b[0;32m    167\u001b[0m     \u001b[38;5;28;01mif\u001b[39;00m \u001b[38;5;129;01mnot\u001b[39;00m \u001b[38;5;28mself\u001b[39m\u001b[38;5;241m.\u001b[39m_qsize():\n\u001b[1;32m--> 168\u001b[0m         \u001b[38;5;28;01mraise\u001b[39;00m Empty\n\u001b[0;32m    169\u001b[0m \u001b[38;5;28;01melif\u001b[39;00m timeout \u001b[38;5;129;01mis\u001b[39;00m \u001b[38;5;28;01mNone\u001b[39;00m:\n\u001b[0;32m    170\u001b[0m     \u001b[38;5;28;01mwhile\u001b[39;00m \u001b[38;5;129;01mnot\u001b[39;00m \u001b[38;5;28mself\u001b[39m\u001b[38;5;241m.\u001b[39m_qsize():\n",
      "\u001b[1;31mEmpty\u001b[0m: "
     ]
    }
   ],
   "source": [
    "q.get_nowait()#if we give nowait,it won't wait for element adding"
   ]
  },
  {
   "cell_type": "code",
   "execution_count": 8,
   "id": "1e753ce1",
   "metadata": {},
   "outputs": [
    {
     "data": {
      "text/plain": [
       "True"
      ]
     },
     "execution_count": 8,
     "metadata": {},
     "output_type": "execute_result"
    }
   ],
   "source": [
    "#How to find whether queue is empty or not\n",
    "q.empty()"
   ]
  },
  {
   "cell_type": "code",
   "execution_count": 9,
   "id": "91cd9bd2",
   "metadata": {},
   "outputs": [
    {
     "data": {
      "text/plain": [
       "<queue.Queue at 0x25777e1b0a0>"
      ]
     },
     "execution_count": 9,
     "metadata": {},
     "output_type": "execute_result"
    }
   ],
   "source": [
    "#Queue implementation using one more Modules\n",
    "##dequeue(remove) <--  [][][][]<--enqueue(add)\n",
    "import queue\n",
    "q=queue.Queue()\n",
    "q.put(1)\n",
    "q.put(2)\n",
    "q.put(3)\n",
    "q"
   ]
  },
  {
   "cell_type": "code",
   "execution_count": 10,
   "id": "96d917e0",
   "metadata": {},
   "outputs": [
    {
     "data": {
      "text/plain": [
       "1"
      ]
     },
     "execution_count": 10,
     "metadata": {},
     "output_type": "execute_result"
    }
   ],
   "source": [
    "q.get(0)"
   ]
  },
  {
   "cell_type": "code",
   "execution_count": 11,
   "id": "67e32a6e",
   "metadata": {},
   "outputs": [
    {
     "data": {
      "text/plain": [
       "2"
      ]
     },
     "execution_count": 11,
     "metadata": {},
     "output_type": "execute_result"
    }
   ],
   "source": [
    "q.get(0)"
   ]
  },
  {
   "cell_type": "code",
   "execution_count": 12,
   "id": "3234247c",
   "metadata": {},
   "outputs": [
    {
     "data": {
      "text/plain": [
       "3"
      ]
     },
     "execution_count": 12,
     "metadata": {},
     "output_type": "execute_result"
    }
   ],
   "source": [
    "q.get(0)"
   ]
  },
  {
   "cell_type": "code",
   "execution_count": 14,
   "id": "55e2697c",
   "metadata": {},
   "outputs": [
    {
     "ename": "Empty",
     "evalue": "",
     "output_type": "error",
     "traceback": [
      "\u001b[1;31m---------------------------------------------------------------------------\u001b[0m",
      "\u001b[1;31mEmpty\u001b[0m                                     Traceback (most recent call last)",
      "Cell \u001b[1;32mIn[14], line 1\u001b[0m\n\u001b[1;32m----> 1\u001b[0m \u001b[43mq\u001b[49m\u001b[38;5;241;43m.\u001b[39;49m\u001b[43mget\u001b[49m\u001b[43m(\u001b[49m\u001b[38;5;241;43m0\u001b[39;49m\u001b[43m,\u001b[49m\u001b[43mtimeout\u001b[49m\u001b[38;5;241;43m=\u001b[39;49m\u001b[38;5;241;43m1\u001b[39;49m\u001b[43m)\u001b[49m\n",
      "File \u001b[1;32mC:\\ProgramData\\anaconda3\\lib\\queue.py:168\u001b[0m, in \u001b[0;36mQueue.get\u001b[1;34m(self, block, timeout)\u001b[0m\n\u001b[0;32m    166\u001b[0m \u001b[38;5;28;01mif\u001b[39;00m \u001b[38;5;129;01mnot\u001b[39;00m block:\n\u001b[0;32m    167\u001b[0m     \u001b[38;5;28;01mif\u001b[39;00m \u001b[38;5;129;01mnot\u001b[39;00m \u001b[38;5;28mself\u001b[39m\u001b[38;5;241m.\u001b[39m_qsize():\n\u001b[1;32m--> 168\u001b[0m         \u001b[38;5;28;01mraise\u001b[39;00m Empty\n\u001b[0;32m    169\u001b[0m \u001b[38;5;28;01melif\u001b[39;00m timeout \u001b[38;5;129;01mis\u001b[39;00m \u001b[38;5;28;01mNone\u001b[39;00m:\n\u001b[0;32m    170\u001b[0m     \u001b[38;5;28;01mwhile\u001b[39;00m \u001b[38;5;129;01mnot\u001b[39;00m \u001b[38;5;28mself\u001b[39m\u001b[38;5;241m.\u001b[39m_qsize():\n",
      "\u001b[1;31mEmpty\u001b[0m: "
     ]
    }
   ],
   "source": [
    "q.get(0,timeout=1)#it's won't wait for adding"
   ]
  },
  {
   "cell_type": "code",
   "execution_count": 1,
   "id": "3e5674af",
   "metadata": {},
   "outputs": [
    {
     "data": {
      "text/plain": [
       "<queue.Queue at 0x1eab36bacb0>"
      ]
     },
     "execution_count": 1,
     "metadata": {},
     "output_type": "execute_result"
    }
   ],
   "source": [
    "#set limit\n",
    "import queue\n",
    "q1=queue.Queue(3)\n",
    "q1.put(1)\n",
    "q1.put(2)\n",
    "q1.put(3)\n",
    "q1"
   ]
  },
  {
   "cell_type": "code",
   "execution_count": null,
   "id": "f1ed2b6f",
   "metadata": {},
   "outputs": [],
   "source": [
    "q1.put(1,block=True)#if we set block=True,even if queue reach full size,it wont give error it will wait for increase sizeor removing element"
   ]
  },
  {
   "cell_type": "code",
   "execution_count": 3,
   "id": "bdff30d6",
   "metadata": {},
   "outputs": [
    {
     "ename": "Full",
     "evalue": "",
     "output_type": "error",
     "traceback": [
      "\u001b[1;31m---------------------------------------------------------------------------\u001b[0m",
      "\u001b[1;31mFull\u001b[0m                                      Traceback (most recent call last)",
      "Cell \u001b[1;32mIn[3], line 1\u001b[0m\n\u001b[1;32m----> 1\u001b[0m \u001b[43mq1\u001b[49m\u001b[38;5;241;43m.\u001b[39;49m\u001b[43mput\u001b[49m\u001b[43m(\u001b[49m\u001b[38;5;241;43m5\u001b[39;49m\u001b[43m,\u001b[49m\u001b[43mblock\u001b[49m\u001b[38;5;241;43m=\u001b[39;49m\u001b[38;5;28;43;01mFalse\u001b[39;49;00m\u001b[43m)\u001b[49m\n",
      "File \u001b[1;32mC:\\ProgramData\\anaconda3\\lib\\queue.py:137\u001b[0m, in \u001b[0;36mQueue.put\u001b[1;34m(self, item, block, timeout)\u001b[0m\n\u001b[0;32m    135\u001b[0m \u001b[38;5;28;01mif\u001b[39;00m \u001b[38;5;129;01mnot\u001b[39;00m block:\n\u001b[0;32m    136\u001b[0m     \u001b[38;5;28;01mif\u001b[39;00m \u001b[38;5;28mself\u001b[39m\u001b[38;5;241m.\u001b[39m_qsize() \u001b[38;5;241m>\u001b[39m\u001b[38;5;241m=\u001b[39m \u001b[38;5;28mself\u001b[39m\u001b[38;5;241m.\u001b[39mmaxsize:\n\u001b[1;32m--> 137\u001b[0m         \u001b[38;5;28;01mraise\u001b[39;00m Full\n\u001b[0;32m    138\u001b[0m \u001b[38;5;28;01melif\u001b[39;00m timeout \u001b[38;5;129;01mis\u001b[39;00m \u001b[38;5;28;01mNone\u001b[39;00m:\n\u001b[0;32m    139\u001b[0m     \u001b[38;5;28;01mwhile\u001b[39;00m \u001b[38;5;28mself\u001b[39m\u001b[38;5;241m.\u001b[39m_qsize() \u001b[38;5;241m>\u001b[39m\u001b[38;5;241m=\u001b[39m \u001b[38;5;28mself\u001b[39m\u001b[38;5;241m.\u001b[39mmaxsize:\n",
      "\u001b[1;31mFull\u001b[0m: "
     ]
    }
   ],
   "source": [
    "q1.put(5,block=False)#defaultly block=false,if we set false,it's won't wait"
   ]
  },
  {
   "cell_type": "code",
   "execution_count": 2,
   "id": "c2e28522",
   "metadata": {},
   "outputs": [
    {
     "ename": "Full",
     "evalue": "",
     "output_type": "error",
     "traceback": [
      "\u001b[1;31m---------------------------------------------------------------------------\u001b[0m",
      "\u001b[1;31mFull\u001b[0m                                      Traceback (most recent call last)",
      "Cell \u001b[1;32mIn[2], line 1\u001b[0m\n\u001b[1;32m----> 1\u001b[0m \u001b[43mq1\u001b[49m\u001b[38;5;241;43m.\u001b[39;49m\u001b[43mput_nowait\u001b[49m\u001b[43m(\u001b[49m\u001b[38;5;241;43m6\u001b[39;49m\u001b[43m)\u001b[49m\n",
      "File \u001b[1;32mC:\\ProgramData\\anaconda3\\lib\\queue.py:191\u001b[0m, in \u001b[0;36mQueue.put_nowait\u001b[1;34m(self, item)\u001b[0m\n\u001b[0;32m    185\u001b[0m \u001b[38;5;28;01mdef\u001b[39;00m \u001b[38;5;21mput_nowait\u001b[39m(\u001b[38;5;28mself\u001b[39m, item):\n\u001b[0;32m    186\u001b[0m     \u001b[38;5;124;03m'''Put an item into the queue without blocking.\u001b[39;00m\n\u001b[0;32m    187\u001b[0m \n\u001b[0;32m    188\u001b[0m \u001b[38;5;124;03m    Only enqueue the item if a free slot is immediately available.\u001b[39;00m\n\u001b[0;32m    189\u001b[0m \u001b[38;5;124;03m    Otherwise raise the Full exception.\u001b[39;00m\n\u001b[0;32m    190\u001b[0m \u001b[38;5;124;03m    '''\u001b[39;00m\n\u001b[1;32m--> 191\u001b[0m     \u001b[38;5;28;01mreturn\u001b[39;00m \u001b[38;5;28;43mself\u001b[39;49m\u001b[38;5;241;43m.\u001b[39;49m\u001b[43mput\u001b[49m\u001b[43m(\u001b[49m\u001b[43mitem\u001b[49m\u001b[43m,\u001b[49m\u001b[43m \u001b[49m\u001b[43mblock\u001b[49m\u001b[38;5;241;43m=\u001b[39;49m\u001b[38;5;28;43;01mFalse\u001b[39;49;00m\u001b[43m)\u001b[49m\n",
      "File \u001b[1;32mC:\\ProgramData\\anaconda3\\lib\\queue.py:137\u001b[0m, in \u001b[0;36mQueue.put\u001b[1;34m(self, item, block, timeout)\u001b[0m\n\u001b[0;32m    135\u001b[0m \u001b[38;5;28;01mif\u001b[39;00m \u001b[38;5;129;01mnot\u001b[39;00m block:\n\u001b[0;32m    136\u001b[0m     \u001b[38;5;28;01mif\u001b[39;00m \u001b[38;5;28mself\u001b[39m\u001b[38;5;241m.\u001b[39m_qsize() \u001b[38;5;241m>\u001b[39m\u001b[38;5;241m=\u001b[39m \u001b[38;5;28mself\u001b[39m\u001b[38;5;241m.\u001b[39mmaxsize:\n\u001b[1;32m--> 137\u001b[0m         \u001b[38;5;28;01mraise\u001b[39;00m Full\n\u001b[0;32m    138\u001b[0m \u001b[38;5;28;01melif\u001b[39;00m timeout \u001b[38;5;129;01mis\u001b[39;00m \u001b[38;5;28;01mNone\u001b[39;00m:\n\u001b[0;32m    139\u001b[0m     \u001b[38;5;28;01mwhile\u001b[39;00m \u001b[38;5;28mself\u001b[39m\u001b[38;5;241m.\u001b[39m_qsize() \u001b[38;5;241m>\u001b[39m\u001b[38;5;241m=\u001b[39m \u001b[38;5;28mself\u001b[39m\u001b[38;5;241m.\u001b[39mmaxsize:\n",
      "\u001b[1;31mFull\u001b[0m: "
     ]
    }
   ],
   "source": [
    "q1.put_nowait(6)#it's no wait for any waiting"
   ]
  },
  {
   "cell_type": "code",
   "execution_count": 3,
   "id": "0502b0cd",
   "metadata": {},
   "outputs": [
    {
     "data": {
      "text/plain": [
       "1"
      ]
     },
     "execution_count": 3,
     "metadata": {},
     "output_type": "execute_result"
    }
   ],
   "source": [
    "q1.get(0)"
   ]
  },
  {
   "cell_type": "code",
   "execution_count": 4,
   "id": "bb6f7aa3",
   "metadata": {},
   "outputs": [
    {
     "data": {
      "text/plain": [
       "2"
      ]
     },
     "execution_count": 4,
     "metadata": {},
     "output_type": "execute_result"
    }
   ],
   "source": [
    "q1.get(0)"
   ]
  },
  {
   "cell_type": "code",
   "execution_count": 5,
   "id": "b3f2136c",
   "metadata": {},
   "outputs": [
    {
     "data": {
      "text/plain": [
       "3"
      ]
     },
     "execution_count": 5,
     "metadata": {},
     "output_type": "execute_result"
    }
   ],
   "source": [
    "q1.get(0)"
   ]
  },
  {
   "cell_type": "code",
   "execution_count": null,
   "id": "d3e6cb79",
   "metadata": {},
   "outputs": [],
   "source": [
    "q1.get(0,block=True)#if we set block=True,even if queue is empty,it wont give error it will wait for add element"
   ]
  },
  {
   "cell_type": "code",
   "execution_count": 7,
   "id": "4285b5b2",
   "metadata": {},
   "outputs": [
    {
     "ename": "Empty",
     "evalue": "",
     "output_type": "error",
     "traceback": [
      "\u001b[1;31m---------------------------------------------------------------------------\u001b[0m",
      "\u001b[1;31mEmpty\u001b[0m                                     Traceback (most recent call last)",
      "Cell \u001b[1;32mIn[7], line 1\u001b[0m\n\u001b[1;32m----> 1\u001b[0m \u001b[43mq1\u001b[49m\u001b[38;5;241;43m.\u001b[39;49m\u001b[43mget\u001b[49m\u001b[43m(\u001b[49m\u001b[38;5;241;43m0\u001b[39;49m\u001b[43m)\u001b[49m\n",
      "File \u001b[1;32mC:\\ProgramData\\anaconda3\\lib\\queue.py:168\u001b[0m, in \u001b[0;36mQueue.get\u001b[1;34m(self, block, timeout)\u001b[0m\n\u001b[0;32m    166\u001b[0m \u001b[38;5;28;01mif\u001b[39;00m \u001b[38;5;129;01mnot\u001b[39;00m block:\n\u001b[0;32m    167\u001b[0m     \u001b[38;5;28;01mif\u001b[39;00m \u001b[38;5;129;01mnot\u001b[39;00m \u001b[38;5;28mself\u001b[39m\u001b[38;5;241m.\u001b[39m_qsize():\n\u001b[1;32m--> 168\u001b[0m         \u001b[38;5;28;01mraise\u001b[39;00m Empty\n\u001b[0;32m    169\u001b[0m \u001b[38;5;28;01melif\u001b[39;00m timeout \u001b[38;5;129;01mis\u001b[39;00m \u001b[38;5;28;01mNone\u001b[39;00m:\n\u001b[0;32m    170\u001b[0m     \u001b[38;5;28;01mwhile\u001b[39;00m \u001b[38;5;129;01mnot\u001b[39;00m \u001b[38;5;28mself\u001b[39m\u001b[38;5;241m.\u001b[39m_qsize():\n",
      "\u001b[1;31mEmpty\u001b[0m: "
     ]
    }
   ],
   "source": [
    "q1.get(0)#here we have not given block so it's not waiting"
   ]
  },
  {
   "cell_type": "code",
   "execution_count": 8,
   "id": "e78091e1",
   "metadata": {},
   "outputs": [
    {
     "ename": "TypeError",
     "evalue": "Queue.get_nowait() takes 1 positional argument but 2 were given",
     "output_type": "error",
     "traceback": [
      "\u001b[1;31m---------------------------------------------------------------------------\u001b[0m",
      "\u001b[1;31mTypeError\u001b[0m                                 Traceback (most recent call last)",
      "Cell \u001b[1;32mIn[8], line 1\u001b[0m\n\u001b[1;32m----> 1\u001b[0m \u001b[43mq1\u001b[49m\u001b[38;5;241;43m.\u001b[39;49m\u001b[43mget_nowait\u001b[49m\u001b[43m(\u001b[49m\u001b[38;5;241;43m0\u001b[39;49m\u001b[43m)\u001b[49m\n",
      "\u001b[1;31mTypeError\u001b[0m: Queue.get_nowait() takes 1 positional argument but 2 were given"
     ]
    }
   ],
   "source": [
    "q1.get_nowait(0)#it's won't wait"
   ]
  },
  {
   "cell_type": "code",
   "execution_count": 10,
   "id": "4aa40fc2",
   "metadata": {},
   "outputs": [
    {
     "data": {
      "text/plain": [
       "[10, 20, 40]"
      ]
     },
     "execution_count": 10,
     "metadata": {},
     "output_type": "execute_result"
    }
   ],
   "source": [
    "#priority Queue implementation using List\n",
    "queue=[]\n",
    "queue.append(10)\n",
    "queue.append(40)\n",
    "queue.append(20)\n",
    "queue.sort()\n",
    "queue"
   ]
  },
  {
   "cell_type": "code",
   "execution_count": 11,
   "id": "29c48630",
   "metadata": {},
   "outputs": [
    {
     "data": {
      "text/plain": [
       "10"
      ]
     },
     "execution_count": 11,
     "metadata": {},
     "output_type": "execute_result"
    }
   ],
   "source": [
    "queue.pop(0)"
   ]
  },
  {
   "cell_type": "code",
   "execution_count": 12,
   "id": "57dbef7a",
   "metadata": {},
   "outputs": [
    {
     "data": {
      "text/plain": [
       "20"
      ]
     },
     "execution_count": 12,
     "metadata": {},
     "output_type": "execute_result"
    }
   ],
   "source": [
    "queue.pop(0)"
   ]
  },
  {
   "cell_type": "code",
   "execution_count": 13,
   "id": "169fd61e",
   "metadata": {},
   "outputs": [
    {
     "data": {
      "text/plain": [
       "40"
      ]
     },
     "execution_count": 13,
     "metadata": {},
     "output_type": "execute_result"
    }
   ],
   "source": [
    "queue.pop(0)"
   ]
  },
  {
   "cell_type": "code",
   "execution_count": 14,
   "id": "cb7353ab",
   "metadata": {},
   "outputs": [
    {
     "data": {
      "text/plain": [
       "True"
      ]
     },
     "execution_count": 14,
     "metadata": {},
     "output_type": "execute_result"
    }
   ],
   "source": [
    "#checking whether queue is empty or not\n",
    "not queue"
   ]
  },
  {
   "cell_type": "code",
   "execution_count": 1,
   "id": "d86e67c6",
   "metadata": {},
   "outputs": [
    {
     "data": {
      "text/plain": [
       "<queue.PriorityQueue at 0x153b83d96f0>"
      ]
     },
     "execution_count": 1,
     "metadata": {},
     "output_type": "execute_result"
    }
   ],
   "source": [
    "#priority Queue implementation suinf modules\n",
    "import queue\n",
    "q=queue.PriorityQueue()\n",
    "q.put(10)\n",
    "q.put(60)\n",
    "q.put(20)\n",
    "q.put(40)#if we give 2 same values,it will remove their order\n",
    "q.put(40)\n",
    "q"
   ]
  },
  {
   "cell_type": "code",
   "execution_count": 2,
   "id": "e4643666",
   "metadata": {},
   "outputs": [
    {
     "data": {
      "text/plain": [
       "10"
      ]
     },
     "execution_count": 2,
     "metadata": {},
     "output_type": "execute_result"
    }
   ],
   "source": [
    "#defaltly PriorityQueue() class delete as lower priority wise\n",
    "q.get()"
   ]
  },
  {
   "cell_type": "code",
   "execution_count": 3,
   "id": "2f543d31",
   "metadata": {},
   "outputs": [
    {
     "data": {
      "text/plain": [
       "20"
      ]
     },
     "execution_count": 3,
     "metadata": {},
     "output_type": "execute_result"
    }
   ],
   "source": [
    "q.get()"
   ]
  },
  {
   "cell_type": "code",
   "execution_count": 4,
   "id": "bd6bec51",
   "metadata": {},
   "outputs": [
    {
     "data": {
      "text/plain": [
       "40"
      ]
     },
     "execution_count": 4,
     "metadata": {},
     "output_type": "execute_result"
    }
   ],
   "source": [
    "q.get()"
   ]
  },
  {
   "cell_type": "code",
   "execution_count": 5,
   "id": "c5846574",
   "metadata": {},
   "outputs": [
    {
     "data": {
      "text/plain": [
       "40"
      ]
     },
     "execution_count": 5,
     "metadata": {},
     "output_type": "execute_result"
    }
   ],
   "source": [
    "q.get()"
   ]
  },
  {
   "cell_type": "code",
   "execution_count": 6,
   "id": "11205344",
   "metadata": {},
   "outputs": [
    {
     "data": {
      "text/plain": [
       "60"
      ]
     },
     "execution_count": 6,
     "metadata": {},
     "output_type": "execute_result"
    }
   ],
   "source": [
    "q.get()"
   ]
  },
  {
   "cell_type": "code",
   "execution_count": 7,
   "id": "60419f8d",
   "metadata": {},
   "outputs": [
    {
     "ename": "Empty",
     "evalue": "",
     "output_type": "error",
     "traceback": [
      "\u001b[1;31m---------------------------------------------------------------------------\u001b[0m",
      "\u001b[1;31mEmpty\u001b[0m                                     Traceback (most recent call last)",
      "Cell \u001b[1;32mIn[7], line 1\u001b[0m\n\u001b[1;32m----> 1\u001b[0m \u001b[43mq\u001b[49m\u001b[38;5;241;43m.\u001b[39;49m\u001b[43mget_nowait\u001b[49m\u001b[43m(\u001b[49m\u001b[43m)\u001b[49m\n",
      "File \u001b[1;32mC:\\ProgramData\\anaconda3\\lib\\queue.py:199\u001b[0m, in \u001b[0;36mQueue.get_nowait\u001b[1;34m(self)\u001b[0m\n\u001b[0;32m    193\u001b[0m \u001b[38;5;28;01mdef\u001b[39;00m \u001b[38;5;21mget_nowait\u001b[39m(\u001b[38;5;28mself\u001b[39m):\n\u001b[0;32m    194\u001b[0m     \u001b[38;5;124;03m'''Remove and return an item from the queue without blocking.\u001b[39;00m\n\u001b[0;32m    195\u001b[0m \n\u001b[0;32m    196\u001b[0m \u001b[38;5;124;03m    Only get an item if one is immediately available. Otherwise\u001b[39;00m\n\u001b[0;32m    197\u001b[0m \u001b[38;5;124;03m    raise the Empty exception.\u001b[39;00m\n\u001b[0;32m    198\u001b[0m \u001b[38;5;124;03m    '''\u001b[39;00m\n\u001b[1;32m--> 199\u001b[0m     \u001b[38;5;28;01mreturn\u001b[39;00m \u001b[38;5;28;43mself\u001b[39;49m\u001b[38;5;241;43m.\u001b[39;49m\u001b[43mget\u001b[49m\u001b[43m(\u001b[49m\u001b[43mblock\u001b[49m\u001b[38;5;241;43m=\u001b[39;49m\u001b[38;5;28;43;01mFalse\u001b[39;49;00m\u001b[43m)\u001b[49m\n",
      "File \u001b[1;32mC:\\ProgramData\\anaconda3\\lib\\queue.py:168\u001b[0m, in \u001b[0;36mQueue.get\u001b[1;34m(self, block, timeout)\u001b[0m\n\u001b[0;32m    166\u001b[0m \u001b[38;5;28;01mif\u001b[39;00m \u001b[38;5;129;01mnot\u001b[39;00m block:\n\u001b[0;32m    167\u001b[0m     \u001b[38;5;28;01mif\u001b[39;00m \u001b[38;5;129;01mnot\u001b[39;00m \u001b[38;5;28mself\u001b[39m\u001b[38;5;241m.\u001b[39m_qsize():\n\u001b[1;32m--> 168\u001b[0m         \u001b[38;5;28;01mraise\u001b[39;00m Empty\n\u001b[0;32m    169\u001b[0m \u001b[38;5;28;01melif\u001b[39;00m timeout \u001b[38;5;129;01mis\u001b[39;00m \u001b[38;5;28;01mNone\u001b[39;00m:\n\u001b[0;32m    170\u001b[0m     \u001b[38;5;28;01mwhile\u001b[39;00m \u001b[38;5;129;01mnot\u001b[39;00m \u001b[38;5;28mself\u001b[39m\u001b[38;5;241m.\u001b[39m_qsize():\n",
      "\u001b[1;31mEmpty\u001b[0m: "
     ]
    }
   ],
   "source": [
    "q.get_nowait()"
   ]
  },
  {
   "cell_type": "code",
   "execution_count": null,
   "id": "b67758ff",
   "metadata": {},
   "outputs": [],
   "source": []
  }
 ],
 "metadata": {
  "kernelspec": {
   "display_name": "Python 3 (ipykernel)",
   "language": "python",
   "name": "python3"
  },
  "language_info": {
   "codemirror_mode": {
    "name": "ipython",
    "version": 3
   },
   "file_extension": ".py",
   "mimetype": "text/x-python",
   "name": "python",
   "nbconvert_exporter": "python",
   "pygments_lexer": "ipython3",
   "version": "3.10.9"
  }
 },
 "nbformat": 4,
 "nbformat_minor": 5
}
