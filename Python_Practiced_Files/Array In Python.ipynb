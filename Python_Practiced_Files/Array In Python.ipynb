{
 "cells": [
  {
   "cell_type": "markdown",
   "id": "b23b7e1e",
   "metadata": {},
   "source": [
    "# Array In Python"
   ]
  },
  {
   "cell_type": "code",
   "execution_count": 14,
   "id": "b00fd508",
   "metadata": {},
   "outputs": [
    {
     "name": "stdout",
     "output_type": "stream",
     "text": [
      "array('i', [3, 6, 89, 0])\n",
      "<class 'array.array'>\n"
     ]
    }
   ],
   "source": [
    "#creation of Array\n",
    "import array\n",
    "arr=array.array('i',[3,6,89,0])#here we can't give float or String datatype only we can give int\n",
    "print(arr)\n",
    "print(type(arr))"
   ]
  },
  {
   "cell_type": "code",
   "execution_count": 6,
   "id": "45932c56",
   "metadata": {},
   "outputs": [
    {
     "name": "stdout",
     "output_type": "stream",
     "text": [
      "array('f', [34.0, 90.80000305175781, 45.29999923706055, 77.80000305175781])\n"
     ]
    }
   ],
   "source": [
    "#create array with Float datatype\n",
    "arr1=array.array('f',(34,90.8,45.3,77.8))#float accapt int value also\n",
    "print(arr1)"
   ]
  },
  {
   "cell_type": "code",
   "execution_count": 61,
   "id": "ebdf9436",
   "metadata": {},
   "outputs": [
    {
     "ename": "TypeError",
     "evalue": "'float' object cannot be interpreted as an integer",
     "output_type": "error",
     "traceback": [
      "\u001b[1;31m---------------------------------------------------------------------------\u001b[0m",
      "\u001b[1;31mTypeError\u001b[0m                                 Traceback (most recent call last)",
      "Cell \u001b[1;32mIn[61], line 2\u001b[0m\n\u001b[0;32m      1\u001b[0m \u001b[38;5;66;03m#create array with Float datatype\u001b[39;00m\n\u001b[1;32m----> 2\u001b[0m arr1\u001b[38;5;241m=\u001b[39m\u001b[43marray\u001b[49m\u001b[38;5;241;43m.\u001b[39;49m\u001b[43marray\u001b[49m\u001b[43m(\u001b[49m\u001b[38;5;124;43m'\u001b[39;49m\u001b[38;5;124;43mi\u001b[39;49m\u001b[38;5;124;43m'\u001b[39;49m\u001b[43m,\u001b[49m\u001b[43m(\u001b[49m\u001b[38;5;241;43m34\u001b[39;49m\u001b[43m,\u001b[49m\u001b[38;5;241;43m90\u001b[39;49m\u001b[43m,\u001b[49m\u001b[38;5;241;43m453.0\u001b[39;49m\u001b[43m,\u001b[49m\u001b[38;5;241;43m77\u001b[39;49m\u001b[43m)\u001b[49m\u001b[43m)\u001b[49m\u001b[38;5;66;03m#int does not accept float value\u001b[39;00m\n\u001b[0;32m      3\u001b[0m \u001b[38;5;28mprint\u001b[39m(arr1)\n",
      "\u001b[1;31mTypeError\u001b[0m: 'float' object cannot be interpreted as an integer"
     ]
    }
   ],
   "source": [
    "#create array with Float datatype\n",
    "arr1=array.array('i',(34,90,453.0,77))#int does not accept float value\n",
    "print(arr1)"
   ]
  },
  {
   "cell_type": "code",
   "execution_count": 15,
   "id": "0fdbf970",
   "metadata": {},
   "outputs": [
    {
     "name": "stdout",
     "output_type": "stream",
     "text": [
      "array('i', [3, 6, 89, 0, 55])\n",
      "array('i', [3, 6, 89, 0, 55, 56, 57])\n",
      "array('i', [999, 3, 6, 89, 0, 55, 56, 57])\n"
     ]
    }
   ],
   "source": [
    "#here we can use List all Attributes like a Append,insert....\n",
    "#add value one value into array Using Append\n",
    "arr.append(55)\n",
    "print(arr)\n",
    "#add more than one value into array using Extend\n",
    "arr.extend([56,57])\n",
    "print(arr)\n",
    "#insert the element to specific array position using insert\n",
    "arr.insert(0,999)\n",
    "print(arr)"
   ]
  },
  {
   "cell_type": "code",
   "execution_count": 20,
   "id": "6137477c",
   "metadata": {},
   "outputs": [
    {
     "name": "stdout",
     "output_type": "stream",
     "text": [
      "array('i', [1, 3, 6, 89, 0, 55, 56, 57])\n",
      "array('i', [3, 6, 89, 0, 55])\n",
      "array('i', [1, 3, 6, 89, 0, 55, 56, 57])\n",
      "array('i', [57, 56, 55, 0, 89, 6, 3, 1])\n"
     ]
    }
   ],
   "source": [
    "#array accept Duplicate values\n",
    "#Replace the value in array\n",
    "arr[0]=1\n",
    "print(arr)\n",
    "#Fetching array elements by Slicing\n",
    "print(arr[1:6])\n",
    "print(arr[-8:])\n",
    "print(arr[::-1])"
   ]
  },
  {
   "cell_type": "code",
   "execution_count": 23,
   "id": "6f423265",
   "metadata": {},
   "outputs": [
    {
     "name": "stdout",
     "output_type": "stream",
     "text": [
      "array('i', [1, 3, 6, 89, 0, 55, 56, 57])\n",
      "267\n",
      "0\n",
      "89\n",
      "1\n",
      "8\n"
     ]
    }
   ],
   "source": [
    "#Min-To find out minimum value of Array\n",
    "#Max-To find out Maximum value of Array\n",
    "#sum-to find out total value of Array elements\n",
    "#count-to count how many times present we given value in the array\n",
    "#len-to find Length of Array\n",
    "print(arr)\n",
    "print(sum(arr))\n",
    "print(min(arr))\n",
    "print(max(arr))\n",
    "print(arr.count(55))\n",
    "print(len(arr))"
   ]
  },
  {
   "cell_type": "code",
   "execution_count": 27,
   "id": "e2cc9054",
   "metadata": {},
   "outputs": [
    {
     "name": "stdout",
     "output_type": "stream",
     "text": [
      "array('i', [1, 3, 6, 89, 0, 55, 56, 57])\n",
      "4\n",
      "0\n",
      "array('i', [89, 0, 55, 56])\n"
     ]
    }
   ],
   "source": [
    "#Find index position of Array element using index function\n",
    "print(arr)\n",
    "print(arr.index(0))\n",
    "#fetching array elements using index positions\n",
    "print(arr[4])\n",
    "print(arr[3:7])"
   ]
  },
  {
   "cell_type": "code",
   "execution_count": 33,
   "id": "24534f4c",
   "metadata": {},
   "outputs": [
    {
     "name": "stdout",
     "output_type": "stream",
     "text": [
      "array('i', [1, 3, 6, 89, 0, 55, 56, 57])\n",
      "1 3 6 89 0 55 56 57 "
     ]
    }
   ],
   "source": [
    "#Print Array\n",
    "print(arr)\n",
    "for i in arr:\n",
    "    print(i,end=\" \")"
   ]
  },
  {
   "cell_type": "code",
   "execution_count": 63,
   "id": "b01dae53",
   "metadata": {},
   "outputs": [
    {
     "name": "stdout",
     "output_type": "stream",
     "text": [
      "[90, 79, 78]\n",
      "[90, 79]\n",
      "[]\n",
      "[788, 89, 99]\n"
     ]
    }
   ],
   "source": [
    "#del-to delete array element using index position\n",
    "#pop-to delete array element using index position\n",
    "#remove-to remove array element using array value\n",
    "#clear-it is used to clear whole array\n",
    "arr1.extend([90,79,78])\n",
    "print(arr1)\n",
    "del arr1[2]\n",
    "print(arr1)\n",
    "arr1.pop()\n",
    "arr1.pop(0)\n",
    "print(arr1)\n",
    "arr1.extend([788,89,99,90])\n",
    "arr1.remove(90)\n",
    "print(arr1)\n"
   ]
  },
  {
   "cell_type": "code",
   "execution_count": 55,
   "id": "8366c173",
   "metadata": {},
   "outputs": [
    {
     "name": "stdout",
     "output_type": "stream",
     "text": [
      "array('i', [788, 89, 99])\n"
     ]
    },
    {
     "ename": "AttributeError",
     "evalue": "'array.array' object has no attribute 'clear'",
     "output_type": "error",
     "traceback": [
      "\u001b[1;31m---------------------------------------------------------------------------\u001b[0m",
      "\u001b[1;31mAttributeError\u001b[0m                            Traceback (most recent call last)",
      "Cell \u001b[1;32mIn[55], line 3\u001b[0m\n\u001b[0;32m      1\u001b[0m \u001b[38;5;66;03m#clear\u001b[39;00m\n\u001b[0;32m      2\u001b[0m \u001b[38;5;28mprint\u001b[39m(arr1)\n\u001b[1;32m----> 3\u001b[0m \u001b[43marr1\u001b[49m\u001b[38;5;241;43m.\u001b[39;49m\u001b[43mclear\u001b[49m()\n\u001b[0;32m      4\u001b[0m \u001b[38;5;28mprint\u001b[39m(arr1)\n",
      "\u001b[1;31mAttributeError\u001b[0m: 'array.array' object has no attribute 'clear'"
     ]
    }
   ],
   "source": [
    "#clear Function not support for array\n",
    "print(arr1)\n",
    "arr1.clear()\n",
    "print(arr1)"
   ]
  },
  {
   "cell_type": "code",
   "execution_count": 64,
   "id": "3bf9325b",
   "metadata": {},
   "outputs": [
    {
     "name": "stdout",
     "output_type": "stream",
     "text": [
      "[788, 89, 99]\n",
      "array('i')\n",
      "<class 'array.array'>\n"
     ]
    }
   ],
   "source": [
    "#If we want to clear all elements we use use this one instead of clear function\n",
    "print(arr1)\n",
    "arr1=array.array('i')\n",
    "print(arr1)\n",
    "print(type(arr1))"
   ]
  },
  {
   "cell_type": "code",
   "execution_count": 66,
   "id": "127eabaa",
   "metadata": {},
   "outputs": [
    {
     "name": "stdout",
     "output_type": "stream",
     "text": [
      "array('u', 'karthik')\n"
     ]
    },
    {
     "ename": "TypeError",
     "evalue": "array item must be unicode character",
     "output_type": "error",
     "traceback": [
      "\u001b[1;31m---------------------------------------------------------------------------\u001b[0m",
      "\u001b[1;31mTypeError\u001b[0m                                 Traceback (most recent call last)",
      "Cell \u001b[1;32mIn[66], line 4\u001b[0m\n\u001b[0;32m      2\u001b[0m arr3\u001b[38;5;241m=\u001b[39marray\u001b[38;5;241m.\u001b[39marray(\u001b[38;5;124m'\u001b[39m\u001b[38;5;124mu\u001b[39m\u001b[38;5;124m'\u001b[39m,[\u001b[38;5;124m'\u001b[39m\u001b[38;5;124mk\u001b[39m\u001b[38;5;124m'\u001b[39m,\u001b[38;5;124m'\u001b[39m\u001b[38;5;124ma\u001b[39m\u001b[38;5;124m'\u001b[39m,\u001b[38;5;124m'\u001b[39m\u001b[38;5;124mr\u001b[39m\u001b[38;5;124m'\u001b[39m,\u001b[38;5;124m'\u001b[39m\u001b[38;5;124mt\u001b[39m\u001b[38;5;124m'\u001b[39m,\u001b[38;5;124m'\u001b[39m\u001b[38;5;124mh\u001b[39m\u001b[38;5;124m'\u001b[39m,\u001b[38;5;124m'\u001b[39m\u001b[38;5;124mi\u001b[39m\u001b[38;5;124m'\u001b[39m,\u001b[38;5;124m'\u001b[39m\u001b[38;5;124mk\u001b[39m\u001b[38;5;124m'\u001b[39m])\n\u001b[0;32m      3\u001b[0m \u001b[38;5;28mprint\u001b[39m(arr3)\n\u001b[1;32m----> 4\u001b[0m arr2\u001b[38;5;241m=\u001b[39m\u001b[43marray\u001b[49m\u001b[38;5;241;43m.\u001b[39;49m\u001b[43marray\u001b[49m\u001b[43m(\u001b[49m\u001b[38;5;124;43m'\u001b[39;49m\u001b[38;5;124;43mu\u001b[39;49m\u001b[38;5;124;43m'\u001b[39;49m\u001b[43m,\u001b[49m\u001b[43m[\u001b[49m\u001b[38;5;124;43m'\u001b[39;49m\u001b[38;5;124;43mkarthik\u001b[39;49m\u001b[38;5;124;43m'\u001b[39;49m\u001b[43m,\u001b[49m\u001b[38;5;124;43m'\u001b[39;49m\u001b[38;5;124;43ml\u001b[39;49m\u001b[38;5;124;43m'\u001b[39;49m\u001b[43m,\u001b[49m\u001b[38;5;124;43m'\u001b[39;49m\u001b[38;5;124;43mmani\u001b[39;49m\u001b[38;5;124;43m'\u001b[39;49m\u001b[43m,\u001b[49m\u001b[38;5;124;43m'\u001b[39;49m\u001b[38;5;124;43mn\u001b[39;49m\u001b[38;5;124;43m'\u001b[39;49m\u001b[43m,\u001b[49m\u001b[38;5;124;43m'\u001b[39;49m\u001b[38;5;124;43mk\u001b[39;49m\u001b[38;5;124;43m'\u001b[39;49m\u001b[43m]\u001b[49m\u001b[43m)\u001b[49m\u001b[38;5;66;03m#we can't give String inside \u001b[39;00m\n\u001b[0;32m      5\u001b[0m \u001b[38;5;28mprint\u001b[39m(arr2)\n",
      "\u001b[1;31mTypeError\u001b[0m: array item must be unicode character"
     ]
    }
   ],
   "source": [
    "#create array with String and caharacter\n",
    "arr3=array.array('u',['k','a','r','t','h','i','k'])\n",
    "print(arr3)\n",
    "arr2=array.array('u',['karthik','l','mani','n','k'])#we can't give String inside \n",
    "print(arr2)"
   ]
  },
  {
   "cell_type": "code",
   "execution_count": 112,
   "id": "89a75f29",
   "metadata": {},
   "outputs": [
    {
     "name": "stdout",
     "output_type": "stream",
     "text": [
      "array('i', [78, 0, 4, 90, 67])\n"
     ]
    },
    {
     "ename": "AttributeError",
     "evalue": "'array.array' object has no attribute 'copy'",
     "output_type": "error",
     "traceback": [
      "\u001b[1;31m---------------------------------------------------------------------------\u001b[0m",
      "\u001b[1;31mAttributeError\u001b[0m                            Traceback (most recent call last)",
      "Cell \u001b[1;32mIn[112], line 7\u001b[0m\n\u001b[0;32m      5\u001b[0m arr7\u001b[38;5;241m.\u001b[39mreverse()\n\u001b[0;32m      6\u001b[0m \u001b[38;5;28mprint\u001b[39m(arr7)\n\u001b[1;32m----> 7\u001b[0m c\u001b[38;5;241m=\u001b[39m\u001b[43marr7\u001b[49m\u001b[38;5;241;43m.\u001b[39;49m\u001b[43mcopy\u001b[49m()\n\u001b[0;32m      8\u001b[0m \u001b[38;5;28mprint\u001b[39m(c)\n\u001b[0;32m      9\u001b[0m arr7\u001b[38;5;241m.\u001b[39msort()\u001b[38;5;66;03m#sort function not support in array\u001b[39;00m\n",
      "\u001b[1;31mAttributeError\u001b[0m: 'array.array' object has no attribute 'copy'"
     ]
    }
   ],
   "source": [
    "#sort-it is used to sort to accending order array elements\n",
    "#reverse-It is userd to reverse the array elements\n",
    "import array\n",
    "arr7=array.array('i',[67,90,4,0,78])\n",
    "arr7.reverse()\n",
    "print(arr7)\n",
    "c=arr7.copy()#copy function not support in array\n",
    "print(c)\n",
    "arr7.sort()#sort function not support in array\n",
    "print(arr7)"
   ]
  },
  {
   "cell_type": "code",
   "execution_count": 114,
   "id": "f6221249",
   "metadata": {},
   "outputs": [
    {
     "name": "stdout",
     "output_type": "stream",
     "text": [
      "array('i', [78, 0, 4, 90, 67])\n",
      "[0, 4, 67, 78, 90]\n",
      "[90, 78, 67, 4, 0]\n"
     ]
    }
   ],
   "source": [
    "#we can use Sorted() function to sort and reverse array elements\n",
    "print(arr7)\n",
    "sort=sorted(arr7)\n",
    "reverse=sorted(arr7,reverse=True)\n",
    "print(sort)\n",
    "print(reverse)"
   ]
  },
  {
   "cell_type": "code",
   "execution_count": 86,
   "id": "ef9b23b7",
   "metadata": {},
   "outputs": [
    {
     "name": "stdout",
     "output_type": "stream",
     "text": [
      "array('u', 'apple banana cherry date')\n",
      "[' apple', 'banana', 'cherry', 'date']\n"
     ]
    }
   ],
   "source": [
    "#creating array with string and seperting string\n",
    "from array import array\n",
    "# Create an array of Unicode characters with the typecode 'u'\n",
    "arr4 = array('u', 'apple banana cherry date')\n",
    "print(arr4)\n",
    "temp=' '\n",
    "ll=[]\n",
    "for j in arr4:\n",
    "    if(j!=' '):\n",
    "        temp+=j       \n",
    "    else:\n",
    "        ll.append(temp)\n",
    "        temp=''\n",
    "ll.append(temp)\n",
    "print(ll)\n"
   ]
  },
  {
   "cell_type": "code",
   "execution_count": 103,
   "id": "bbce8459",
   "metadata": {},
   "outputs": [
    {
     "name": "stdout",
     "output_type": "stream",
     "text": [
      "Enter the Marks:90,90,90,90,90\n",
      "Total Sum Value is: 450\n",
      "Total Percentage is:90.0%\n"
     ]
    }
   ],
   "source": [
    "#homework-Write a python program to storing students marks into an array and findinf total marks and percentage on marks\n",
    "class marks:\n",
    "    def __init__(self):\n",
    "        #getting mark from user and storing into list by list comprehension\n",
    "        li_marks=[int(l) for l in input(\"Enter the Marks:\").split(',') ]\n",
    "        #array creation\n",
    "        arr6=array('i',li_marks)\n",
    "        self.arr=arr6\n",
    "    def total_marks(self):\n",
    "        summ=0\n",
    "        for i in self.arr:\n",
    "            summ+=i\n",
    "        print(\"Total Sum Value is:\",summ)\n",
    "        self.sum=summ\n",
    "    def percentage(self):\n",
    "        \n",
    "        print(f\"Total Percentage is:{self.sum/len(self.arr)}%\")\n",
    "m=marks()\n",
    "m.total_marks()\n",
    "m.percentage()\n"
   ]
  },
  {
   "cell_type": "code",
   "execution_count": 87,
   "id": "b0d74197",
   "metadata": {},
   "outputs": [
    {
     "name": "stdout",
     "output_type": "stream",
     "text": [
      "array('L', [0, 1, 2, 3, 4, 5, 6, 7, 8, 9])\n"
     ]
    }
   ],
   "source": [
    "#crating array using range function\n",
    "arr5=array('L',range(10))#L-long int(byte-4)\n",
    "print(arr5)"
   ]
  },
  {
   "cell_type": "code",
   "execution_count": 111,
   "id": "cdda5af4",
   "metadata": {},
   "outputs": [
    {
     "ename": "AttributeError",
     "evalue": "'array.array' object has no attribute 'sort'",
     "output_type": "error",
     "traceback": [
      "\u001b[1;31m---------------------------------------------------------------------------\u001b[0m",
      "\u001b[1;31mAttributeError\u001b[0m                            Traceback (most recent call last)",
      "Cell \u001b[1;32mIn[111], line 7\u001b[0m\n\u001b[0;32m      4\u001b[0m my_array \u001b[38;5;241m=\u001b[39m array\u001b[38;5;241m.\u001b[39marray(\u001b[38;5;124m'\u001b[39m\u001b[38;5;124mi\u001b[39m\u001b[38;5;124m'\u001b[39m, [\u001b[38;5;241m5\u001b[39m, \u001b[38;5;241m2\u001b[39m, \u001b[38;5;241m8\u001b[39m, \u001b[38;5;241m1\u001b[39m, \u001b[38;5;241m9\u001b[39m])\n\u001b[0;32m      6\u001b[0m \u001b[38;5;66;03m# Sort the array in ascending order\u001b[39;00m\n\u001b[1;32m----> 7\u001b[0m \u001b[43mmy_array\u001b[49m\u001b[38;5;241;43m.\u001b[39;49m\u001b[43msort\u001b[49m()\n\u001b[0;32m      9\u001b[0m \u001b[38;5;28mprint\u001b[39m(my_array)  \u001b[38;5;66;03m# Output: array('i', [1, 2, 5, 8, 9])\u001b[39;00m\n\u001b[0;32m     11\u001b[0m \u001b[38;5;66;03m# Reverse the elements of the array\u001b[39;00m\n",
      "\u001b[1;31mAttributeError\u001b[0m: 'array.array' object has no attribute 'sort'"
     ]
    }
   ],
   "source": [
    "import array\n",
    "\n",
    "# Create an array of integers\n",
    "my_array = array.array('i', [5, 2, 8, 1, 9])\n",
    "\n",
    "# Sort the array in ascending order\n",
    "my_array.sort()\n",
    "\n",
    "print(my_array)  # Output: array('i', [1, 2, 5, 8, 9])\n",
    "\n",
    "# Reverse the elements of the array\n",
    "my_array.reverse()\n",
    "\n",
    "print(my_array)  # Output: array('i', [9, 8, 5, 2, 1])\n"
   ]
  },
  {
   "cell_type": "code",
   "execution_count": null,
   "id": "05664a8c",
   "metadata": {},
   "outputs": [],
   "source": []
  }
 ],
 "metadata": {
  "kernelspec": {
   "display_name": "Python 3 (ipykernel)",
   "language": "python",
   "name": "python3"
  },
  "language_info": {
   "codemirror_mode": {
    "name": "ipython",
    "version": 3
   },
   "file_extension": ".py",
   "mimetype": "text/x-python",
   "name": "python",
   "nbconvert_exporter": "python",
   "pygments_lexer": "ipython3",
   "version": "3.10.9"
  }
 },
 "nbformat": 4,
 "nbformat_minor": 5
}
