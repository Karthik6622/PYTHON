{
 "cells": [
  {
   "cell_type": "markdown",
   "id": "8e1ee189",
   "metadata": {},
   "source": [
    "# Scipy-Scientific Python"
   ]
  },
  {
   "cell_type": "markdown",
   "id": "3c99f1df",
   "metadata": {},
   "source": [
    "it provides more utility Functions for optimization,stats and signal processing\n",
    "\n",
    "Like numpy,scipy is open source so we can use it freely\n",
    "\n",
    "Scipy was created by Numpy's creator Travis Oliphant\n",
    "\n",
    "scipy is used for scientific calculation"
   ]
  },
  {
   "cell_type": "code",
   "execution_count": 1,
   "id": "01be047e",
   "metadata": {},
   "outputs": [
    {
     "name": "stdout",
     "output_type": "stream",
     "text": [
      "3.141592653589793\n"
     ]
    }
   ],
   "source": [
    "#constants-In SciPy, the scipy.constants package provides a collection of physical and mathematical constants. These constants are often used in scientific and engineering calculation\n",
    "from scipy import constants\n",
    "print(constants.pi)#here we displaying pi value using constants package"
   ]
  },
  {
   "cell_type": "code",
   "execution_count": 2,
   "id": "2f5a1718",
   "metadata": {},
   "outputs": [
    {
     "name": "stdout",
     "output_type": "stream",
     "text": [
      "1000.0\n"
     ]
    }
   ],
   "source": [
    "print(constants.kilo)#here displaying 1 kg in milligrams"
   ]
  },
  {
   "cell_type": "code",
   "execution_count": 3,
   "id": "18311ed6",
   "metadata": {},
   "outputs": [
    {
     "name": "stdout",
     "output_type": "stream",
     "text": [
      "1e-06\n"
     ]
    }
   ],
   "source": [
    "print(constants.micro)#here giving micro unit value"
   ]
  },
  {
   "cell_type": "code",
   "execution_count": 4,
   "id": "5f86b3a9",
   "metadata": {},
   "outputs": [
    {
     "name": "stdout",
     "output_type": "stream",
     "text": [
      "0.1\n"
     ]
    }
   ],
   "source": [
    "print(constants.deci)#here we displaying decimal values"
   ]
  },
  {
   "cell_type": "code",
   "execution_count": 5,
   "id": "6f4c24ee",
   "metadata": {},
   "outputs": [
    {
     "name": "stdout",
     "output_type": "stream",
     "text": [
      "299792458.0\n"
     ]
    }
   ],
   "source": [
    "print(constants.c)#Speed of light in meters per second "
   ]
  },
  {
   "cell_type": "code",
   "execution_count": 6,
   "id": "e04f8294",
   "metadata": {},
   "outputs": [
    {
     "name": "stdout",
     "output_type": "stream",
     "text": [
      "0.017453292519943295\n"
     ]
    }
   ],
   "source": [
    "print(constants.degree)#The degree constant represents the degree, a unit of angular measurement, and its value is equal to π/180 radians."
   ]
  },
  {
   "cell_type": "code",
   "execution_count": 7,
   "id": "855718da",
   "metadata": {},
   "outputs": [
    {
     "name": "stdout",
     "output_type": "stream",
     "text": [
      "4.84813681109536e-06\n"
     ]
    }
   ],
   "source": [
    "print(constants.arcsec)#it's displaying seconds in arc value"
   ]
  },
  {
   "cell_type": "code",
   "execution_count": 14,
   "id": "b38831ec",
   "metadata": {},
   "outputs": [
    {
     "name": "stdout",
     "output_type": "stream",
     "text": [
      "60.0\n",
      "3600.0\n",
      "86400.0\n",
      "604800.0\n",
      "31536000.0\n",
      "31557600.0\n"
     ]
    }
   ],
   "source": [
    "print(constants.minute)#it give 1 minute in seconds\n",
    "print(constants.hour)#it display 1 hour in seconds\n",
    "print(constants.day)#it display 1 day in seconds\n",
    "print(constants.week)#it display 1 week in seconds\n",
    "print(constants.year)#it display 1 year in seconds\n",
    "print(constants.Julian_year)#it display 1 Julian year in seconds\n",
    "#A Julian year, also known as a Julian calendar year, is a unit of time defined as exactly 365.25 days. It is named after Julius Caesar, who introduced the Julian calendar in 45 BCE."
   ]
  },
  {
   "cell_type": "code",
   "execution_count": 1,
   "id": "82a018a5",
   "metadata": {},
   "outputs": [
    {
     "name": "stdout",
     "output_type": "stream",
     "text": [
      "Arithemetic mode is: ModeResult(mode=array([[3, 3, 6]]), count=array([[2, 1, 1]]))\n"
     ]
    },
    {
     "name": "stderr",
     "output_type": "stream",
     "text": [
      "C:\\Users\\Admin\\AppData\\Local\\Temp\\ipykernel_9092\\2666642794.py:5: FutureWarning: Unlike other reduction functions (e.g. `skew`, `kurtosis`), the default behavior of `mode` typically preserves the axis it acts along. In SciPy 1.11.0, this behavior will change: the default value of `keepdims` will become False, the `axis` over which the statistic is taken will be eliminated, and the value None will no longer be accepted. Set `keepdims` to True or False to avoid this warning.\n",
      "  print('Arithemetic mode is:',stats.mode(arr1))\n"
     ]
    }
   ],
   "source": [
    "#statistics -\n",
    "#mode-it will give check first repeat value,if it is there it will give repeate value count.if it is not there it will give for minimum vaue count\n",
    "from scipy import stats\n",
    "import numpy as np\n",
    "arr1=[[1,3,27],[3,4,6],[3,6,8]]\n",
    "print('Arithemetic mode is:',stats.mode(arr1))"
   ]
  },
  {
   "cell_type": "code",
   "execution_count": 2,
   "id": "2d86827b",
   "metadata": {},
   "outputs": [
    {
     "name": "stdout",
     "output_type": "stream",
     "text": [
      "[[ 1  3 27]\n",
      " [ 3  4  6]\n",
      " [ 3  6  8]]\n",
      "*************************\n",
      "Arithemetic mode is: ModeResult(mode=array([[3, 3, 6]]), count=array([[2, 1, 1]]))\n"
     ]
    },
    {
     "name": "stderr",
     "output_type": "stream",
     "text": [
      "C:\\Users\\Admin\\AppData\\Local\\Temp\\ipykernel_9092\\216622771.py:4: FutureWarning: Unlike other reduction functions (e.g. `skew`, `kurtosis`), the default behavior of `mode` typically preserves the axis it acts along. In SciPy 1.11.0, this behavior will change: the default value of `keepdims` will become False, the `axis` over which the statistic is taken will be eliminated, and the value None will no longer be accepted. Set `keepdims` to True or False to avoid this warning.\n",
      "  print('Arithemetic mode is:',stats.mode(arr1))\n"
     ]
    }
   ],
   "source": [
    "arr1=np.array([[1,3,27],[3,4,6],[3,6,8]])\n",
    "print(arr1)\n",
    "print('*'*25)\n",
    "print('Arithemetic mode is:',stats.mode(arr1))"
   ]
  },
  {
   "cell_type": "code",
   "execution_count": 5,
   "id": "ec3f55ae",
   "metadata": {},
   "outputs": [
    {
     "name": "stdout",
     "output_type": "stream",
     "text": [
      "Arithemetic mode is: ModeResult(mode=array([3]), count=array([3]))\n"
     ]
    },
    {
     "name": "stderr",
     "output_type": "stream",
     "text": [
      "C:\\Users\\Admin\\AppData\\Local\\Temp\\ipykernel_9092\\895305170.py:1: FutureWarning: Unlike other reduction functions (e.g. `skew`, `kurtosis`), the default behavior of `mode` typically preserves the axis it acts along. In SciPy 1.11.0, this behavior will change: the default value of `keepdims` will become False, the `axis` over which the statistic is taken will be eliminated, and the value None will no longer be accepted. Set `keepdims` to True or False to avoid this warning.\n",
      "  print('Arithemetic mode is:',stats.mode(arr1,axis=None))\n"
     ]
    }
   ],
   "source": [
    "print('Arithemetic mode is:',stats.mode(arr1,axis=None))#if axis is none means,it will check whole array and give which element has more reapeted "
   ]
  },
  {
   "cell_type": "code",
   "execution_count": 7,
   "id": "67ad7866",
   "metadata": {},
   "outputs": [
    {
     "name": "stdout",
     "output_type": "stream",
     "text": [
      "Arithemetic mode is: ModeResult(mode=array([[1],\n",
      "       [3],\n",
      "       [3]]), count=array([[1],\n",
      "       [1],\n",
      "       [1]]))\n"
     ]
    },
    {
     "name": "stderr",
     "output_type": "stream",
     "text": [
      "C:\\Users\\Admin\\AppData\\Local\\Temp\\ipykernel_9092\\1576354386.py:1: FutureWarning: Unlike other reduction functions (e.g. `skew`, `kurtosis`), the default behavior of `mode` typically preserves the axis it acts along. In SciPy 1.11.0, this behavior will change: the default value of `keepdims` will become False, the `axis` over which the statistic is taken will be eliminated, and the value None will no longer be accepted. Set `keepdims` to True or False to avoid this warning.\n",
      "  print('Arithemetic mode is:',stats.mode(arr1,axis=1))\n"
     ]
    }
   ],
   "source": [
    "print('Arithemetic mode is:',stats.mode(arr1,axis=1))#it will give result row wise"
   ]
  },
  {
   "cell_type": "code",
   "execution_count": 8,
   "id": "a91f30c2",
   "metadata": {},
   "outputs": [
    {
     "name": "stdout",
     "output_type": "stream",
     "text": [
      "Help on package scipy.cluster in scipy:\n",
      "\n",
      "NAME\n",
      "    scipy.cluster\n",
      "\n",
      "DESCRIPTION\n",
      "    =========================================\n",
      "    Clustering package (:mod:`scipy.cluster`)\n",
      "    =========================================\n",
      "    \n",
      "    .. currentmodule:: scipy.cluster\n",
      "    \n",
      "    :mod:`scipy.cluster.vq`\n",
      "    \n",
      "    Clustering algorithms are useful in information theory, target detection,\n",
      "    communications, compression, and other areas. The `vq` module only\n",
      "    supports vector quantization and the k-means algorithms.\n",
      "    \n",
      "    :mod:`scipy.cluster.hierarchy`\n",
      "    \n",
      "    The `hierarchy` module provides functions for hierarchical and\n",
      "    agglomerative clustering.  Its features include generating hierarchical\n",
      "    clusters from distance matrices,\n",
      "    calculating statistics on clusters, cutting linkages\n",
      "    to generate flat clusters, and visualizing clusters with dendrograms.\n",
      "\n",
      "PACKAGE CONTENTS\n",
      "    _hierarchy\n",
      "    _optimal_leaf_ordering\n",
      "    _vq\n",
      "    hierarchy\n",
      "    setup\n",
      "    tests (package)\n",
      "    vq\n",
      "\n",
      "DATA\n",
      "    __all__ = ['vq', 'hierarchy']\n",
      "\n",
      "FILE\n",
      "    c:\\programdata\\anaconda3\\lib\\site-packages\\scipy\\cluster\\__init__.py\n",
      "\n",
      "\n",
      "None\n"
     ]
    }
   ],
   "source": [
    "from scipy import cluster\n",
    "print(help(cluster))"
   ]
  },
  {
   "cell_type": "code",
   "execution_count": 9,
   "id": "e9eb3b34",
   "metadata": {},
   "outputs": [
    {
     "name": "stdout",
     "output_type": "stream",
     "text": [
      "100.0\n"
     ]
    }
   ],
   "source": [
    "from scipy import special\n",
    "a=special.exp10(2)#a = 10 ** 2\n",
    "#finding the expontial\n",
    "print(a)"
   ]
  },
  {
   "cell_type": "code",
   "execution_count": 11,
   "id": "1d90c5ff",
   "metadata": {},
   "outputs": [
    {
     "name": "stdout",
     "output_type": "stream",
     "text": [
      "8.0\n"
     ]
    }
   ],
   "source": [
    "b=special.exp2(3)\n",
    "print(b)"
   ]
  },
  {
   "cell_type": "code",
   "execution_count": 12,
   "id": "afe2516a",
   "metadata": {},
   "outputs": [
    {
     "name": "stdout",
     "output_type": "stream",
     "text": [
      "0.0\n"
     ]
    }
   ],
   "source": [
    "c=special.sindg(0)#finding the sin value\n",
    "print(c)"
   ]
  },
  {
   "cell_type": "code",
   "execution_count": 13,
   "id": "fa870d3d",
   "metadata": {},
   "outputs": [
    {
     "name": "stdout",
     "output_type": "stream",
     "text": [
      "0.7071067811865475\n"
     ]
    }
   ],
   "source": [
    "d=special.cosdg(45)#finding the cos value\n",
    "print(d)"
   ]
  },
  {
   "cell_type": "code",
   "execution_count": 14,
   "id": "9bf7161d",
   "metadata": {},
   "outputs": [
    {
     "name": "stdout",
     "output_type": "stream",
     "text": [
      "[[4.55393586]\n",
      " [0.51311953]\n",
      " [0.39067055]]\n"
     ]
    }
   ],
   "source": [
    "from scipy import linalg#linear algorithm\n",
    "a=np.array([[1,3,10],[2,12,7],[5,8,8]])\n",
    "b=np.array([[10],[18],[30]])\n",
    "x=linalg.solve(a,b)\n",
    "print(x)#it will give linear algebra value"
   ]
  },
  {
   "cell_type": "code",
   "execution_count": 15,
   "id": "8386e37f",
   "metadata": {},
   "outputs": [
    {
     "name": "stdout",
     "output_type": "stream",
     "text": [
      "\n",
      " Checking Results Vectors Must be Zeros\n",
      "[[0.]\n",
      " [0.]\n",
      " [0.]]\n"
     ]
    }
   ],
   "source": [
    "#checking results of liner algerbra output\n",
    "print('\\n Checking Results Vectors Must be Zeros')\n",
    "print(a.dot(x)-b)"
   ]
  },
  {
   "cell_type": "code",
   "execution_count": 16,
   "id": "d57709d1",
   "metadata": {},
   "outputs": [
    {
     "name": "stdout",
     "output_type": "stream",
     "text": [
      "-52.0\n"
     ]
    }
   ],
   "source": [
    "#Declaring the numpy array\n",
    "A=np.array([[5,9],[8,4]])\n",
    "#Passing the values to the det function\n",
    "x=linalg.det(A)\n",
    "#x = linalg.det(A) is used to calculate the determinant of a matrix \n",
    "print(x)"
   ]
  },
  {
   "cell_type": "code",
   "execution_count": 17,
   "id": "07e71ca0",
   "metadata": {},
   "outputs": [
    {
     "name": "stdout",
     "output_type": "stream",
     "text": [
      "[ 0.10174432 -0.16082313 -1.03760907  0.94245697]\n"
     ]
    }
   ],
   "source": [
    "from scipy.stats import norm#normal distribution\n",
    "#rvs-random variants\n",
    "print(norm.rvs(size=4))"
   ]
  },
  {
   "cell_type": "code",
   "execution_count": 18,
   "id": "e130b008",
   "metadata": {},
   "outputs": [
    {
     "name": "stdout",
     "output_type": "stream",
     "text": [
      "[-0.37152775 -0.1175926   0.33972671 -0.65173623]\n"
     ]
    }
   ],
   "source": [
    "print(norm.rvs(size=4))"
   ]
  },
  {
   "cell_type": "code",
   "execution_count": 19,
   "id": "4139610b",
   "metadata": {},
   "outputs": [
    {
     "data": {
      "image/png": "[encoded data removed]",
      "text/plain": [
       "<Figure size 640x480 with 1 Axes>"
      ]
     },
     "metadata": {},
     "output_type": "display_data"
    }
   ],
   "source": [
    "import numpy as np\n",
    "import matplotlib.pyplot as plt\n",
    "from scipy import stats\n",
    "observation_x=np.linspace(-4,4,200)\n",
    "norm=stats.norm.pdf(observation_x,loc=0,scale=1)#pdf=probability density function\n",
    "plt.plot(observation_x,norm)\n",
    "plt.xlabel(\"X-Values\")\n",
    "plt.ylabel('PDF_Norm_Values')\n",
    "plt.title(\"Probability Density function\")\n",
    "plt.show()\n",
    "'''\n",
    "The expression norm = stats.norm.pdf(observation_x, loc=0, scale=1) involves statistical functions typically found in libraries like SciPy. Here's what it means:\n",
    "\n",
    "stats likely refers to a module in a statistical library like SciPy.\n",
    "norm is a variable that will store the result of a probability density function (PDF) calculation.\n",
    "observation_x is the value at which you want to calculate the PDF.\n",
    "loc is a parameter that represents the mean (average) of the normal distribution.\n",
    "scale is a parameter that represents the standard deviation of the normal distribution.\n",
    "'''"
   ]
  },
  {
   "cell_type": "code",
   "execution_count": 20,
   "id": "7aa48b80",
   "metadata": {},
   "outputs": [
    {
     "name": "stdout",
     "output_type": "stream",
     "text": [
      "[1.33830226e-04 1.57050590e-04 1.84002220e-04 2.15230929e-04\n",
      " 2.51353204e-04 2.93063883e-04 3.41144442e-04 3.96471915e-04\n",
      " 4.60028443e-04 5.32911470e-04 6.16344577e-04 7.11688942e-04\n",
      " 8.20455413e-04 9.44317154e-04 1.08512283e-03 1.24491027e-03\n",
      " 1.42592055e-03 1.63061237e-03 1.86167671e-03 2.12205153e-03\n",
      " 2.41493649e-03 2.74380743e-03 3.11243057e-03 3.52487599e-03\n",
      " 3.98553053e-03 4.49910954e-03 5.07066735e-03 5.70560631e-03\n",
      " 6.40968388e-03 7.18901761e-03 8.05008771e-03 8.99973671e-03\n",
      " 1.00451661e-02 1.11939296e-02 1.24539221e-02 1.38333654e-02\n",
      " 1.53407884e-02 1.69850033e-02 1.87750768e-02 2.07202951e-02\n",
      " 2.28301243e-02 2.51141651e-02 2.75821008e-02 3.02436403e-02\n",
      " 3.31084551e-02 3.61861097e-02 3.94859874e-02 4.30172097e-02\n",
      " 4.67885513e-02 5.08083496e-02 5.50844105e-02 5.96239098e-02\n",
      " 6.44332924e-02 6.95181688e-02 7.48832098e-02 8.05320413e-02\n",
      " 8.64671393e-02 9.26897267e-02 9.91996730e-02 1.05995397e-01\n",
      " 1.13073777e-01 1.20430065e-01 1.28057810e-01 1.35948791e-01\n",
      " 1.44092957e-01 1.52478386e-01 1.61091247e-01 1.69915787e-01\n",
      " 1.78934320e-01 1.88127243e-01 1.97473062e-01 2.06948441e-01\n",
      " 2.16528259e-01 2.26185697e-01 2.35892329e-01 2.45618247e-01\n",
      " 2.55332186e-01 2.65001680e-01 2.74593226e-01 2.84072464e-01\n",
      " 2.93404375e-01 3.02553485e-01 3.11484086e-01 3.20160458e-01\n",
      " 3.28547109e-01 3.36609009e-01 3.44311833e-01 3.51622201e-01\n",
      " 3.58507922e-01 3.64938223e-01 3.70883981e-01 3.76317944e-01\n",
      " 3.81214934e-01 3.85552046e-01 3.89308823e-01 3.92467418e-01\n",
      " 3.95012735e-01 3.96932550e-01 3.98217608e-01 3.98861696e-01\n",
      " 3.98861696e-01 3.98217608e-01 3.96932550e-01 3.95012735e-01\n",
      " 3.92467418e-01 3.89308823e-01 3.85552046e-01 3.81214934e-01\n",
      " 3.76317944e-01 3.70883981e-01 3.64938223e-01 3.58507922e-01\n",
      " 3.51622201e-01 3.44311833e-01 3.36609009e-01 3.28547109e-01\n",
      " 3.20160458e-01 3.11484086e-01 3.02553485e-01 2.93404375e-01\n",
      " 2.84072464e-01 2.74593226e-01 2.65001680e-01 2.55332186e-01\n",
      " 2.45618247e-01 2.35892329e-01 2.26185697e-01 2.16528259e-01\n",
      " 2.06948441e-01 1.97473062e-01 1.88127243e-01 1.78934320e-01\n",
      " 1.69915787e-01 1.61091247e-01 1.52478386e-01 1.44092957e-01\n",
      " 1.35948791e-01 1.28057810e-01 1.20430065e-01 1.13073777e-01\n",
      " 1.05995397e-01 9.91996730e-02 9.26897267e-02 8.64671393e-02\n",
      " 8.05320413e-02 7.48832098e-02 6.95181688e-02 6.44332924e-02\n",
      " 5.96239098e-02 5.50844105e-02 5.08083496e-02 4.67885513e-02\n",
      " 4.30172097e-02 3.94859874e-02 3.61861097e-02 3.31084551e-02\n",
      " 3.02436403e-02 2.75821008e-02 2.51141651e-02 2.28301243e-02\n",
      " 2.07202951e-02 1.87750768e-02 1.69850033e-02 1.53407884e-02\n",
      " 1.38333654e-02 1.24539221e-02 1.11939296e-02 1.00451661e-02\n",
      " 8.99973671e-03 8.05008771e-03 7.18901761e-03 6.40968388e-03\n",
      " 5.70560631e-03 5.07066735e-03 4.49910954e-03 3.98553053e-03\n",
      " 3.52487599e-03 3.11243057e-03 2.74380743e-03 2.41493649e-03\n",
      " 2.12205153e-03 1.86167671e-03 1.63061237e-03 1.42592055e-03\n",
      " 1.24491027e-03 1.08512283e-03 9.44317154e-04 8.20455413e-04\n",
      " 7.11688942e-04 6.16344577e-04 5.32911470e-04 4.60028443e-04\n",
      " 3.96471915e-04 3.41144442e-04 2.93063883e-04 2.51353204e-04\n",
      " 2.15230929e-04 1.84002220e-04 1.57050590e-04 1.33830226e-04]\n"
     ]
    }
   ],
   "source": [
    "print(norm)"
   ]
  },
  {
   "cell_type": "code",
   "execution_count": null,
   "id": "41cbfcb1",
   "metadata": {},
   "outputs": [],
   "source": []
  }
 ],
 "metadata": {
  "kernelspec": {
   "display_name": "Python 3 (ipykernel)",
   "language": "python",
   "name": "python3"
  },
  "language_info": {
   "codemirror_mode": {
    "name": "ipython",
    "version": 3
   },
   "file_extension": ".py",
   "mimetype": "text/x-python",
   "name": "python",
   "nbconvert_exporter": "python",
   "pygments_lexer": "ipython3",
   "version": "3.10.9"
  }
 },
 "nbformat": 4,
 "nbformat_minor": 5
}
