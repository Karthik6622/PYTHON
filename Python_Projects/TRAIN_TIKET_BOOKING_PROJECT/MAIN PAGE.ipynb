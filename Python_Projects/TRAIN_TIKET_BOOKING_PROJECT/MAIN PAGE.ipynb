{
 "cells": [
  {
   "cell_type": "raw",
   "id": "0eecc8c5",
   "metadata": {},
   "source": [
    "# MAIN PAGE"
   ]
  },
  {
   "cell_type": "code",
   "execution_count": 36,
   "id": "ceb3e868",
   "metadata": {},
   "outputs": [],
   "source": [
    "passenger_details={}\n",
    "'''\n",
    "tickets={'upper':[3,6,8,11,14,16,19,22,24,27,30,32,35,38,40,43,46,48,51,54,56,59,62],\n",
    "'lower':[1,4,7,9,12,15,17,20,23,25,28,31,33,36,39,41,44,47,49,52,55,57,60,63],\n",
    "'middle':[2,5,10,13,18,21,26,29,34,37,42,45,52,53,58,61],'rac':[64,65,66,67,68,69,70,71,72,73,74,75,76,77,78,79,80,81],\n",
    " 'wl':[82,83,84,85,86,87,88,89,90,91]       }\n",
    " '''\n",
    "#print(len(tickets['middle'])+len(tickets['lower'])+len(tickets['upper']))\n",
    "#rac=list(range(1,19))\n",
    "#waiting_list=list(range(1,11))\n",
    "tickets={'upper':[3],'lower':[1],'middle':[2],'rac':[9,10],'wl':[11,12,13]}\n",
    "#tickets={'upper':[],'lower':[],'middle':}\n",
    "#rac=list(range(1,4))\n",
    "#waiting_list=list(range(1,5))"
   ]
  },
  {
   "cell_type": "code",
   "execution_count": 37,
   "id": "d4b9e117",
   "metadata": {},
   "outputs": [
    {
     "name": "stdout",
     "output_type": "stream",
     "text": [
      "1.Book\n",
      "2.Cancel\n",
      "3.Print available tickets\n",
      "4.Print booked tickets\n",
      "5.Exit\n",
      "please Select one option:1\n",
      "Enter No of tickets:3\n",
      "Enter Your Name:kkk\n",
      "Enter your Age:23\n",
      "Enter Your Preference(Upper/Middle/Lower):lower\n",
      "Enter Your Name:kkk\n",
      "Enter your Age:45\n",
      "Enter Your Preference(Upper/Middle/Lower):upper\n",
      "Enter Your Name:ww\n",
      "Enter your Age:32\n",
      "Enter Your Preference(Upper/Middle/Lower):lower\n",
      "sorry you given booking preference is lower But Not Avilable so we given middle\n",
      "Total Payment is: 900\n",
      "Enter the Payment900\n",
      "Ticket has been booked\n",
      "Your Booking Id Is: 7896\n",
      "1.Book\n",
      "2.Cancel\n",
      "3.Print available tickets\n",
      "4.Print booked tickets\n",
      "5.Exit\n",
      "please Select one option:3\n",
      "               AVAILABLE TICKETS\n",
      "LOWER_SEAT                     0\n",
      "MIDDLE_SEAT                    0\n",
      "UPPER_SEAT                     0\n",
      "RAC                            2\n",
      "WAITINGLIST                    3\n",
      "TOTAL TICKETS                  5\n",
      "1.Book\n",
      "2.Cancel\n",
      "3.Print available tickets\n",
      "4.Print booked tickets\n",
      "5.Exit\n",
      "please Select one option:5\n"
     ]
    }
   ],
   "source": [
    "import re\n",
    "import random\n",
    "import string\n",
    "import pandas as pa\n",
    "class boo():\n",
    "    def __init__(self):\n",
    "        booking_tickets=int(input(\"Enter No of tickets:\"))\n",
    "        normal_tickets=len(tickets['middle'])+len(tickets['lower'])+len(tickets['upper'])\n",
    "        #rac_tickets=len(rac)\n",
    "        #waiting_list_tickets=len(waiting_list)\n",
    "        temp_list2=[]\n",
    "        if (len(tickets['middle'])+len(tickets['lower'])+len(tickets['upper'])+len(tickets['rac'])+len(tickets['wl'])>=booking_tickets):\n",
    "                booking_id=''.join(random.sample(string.digits,4))\n",
    "                for i in range(1,booking_tickets+1):\n",
    "                    if len(tickets['middle'])+len(tickets['lower'])+len(tickets['upper'])!=0:\n",
    "                        temp_list=[]\n",
    "                        name_list=''\n",
    "                        booking_name=input(\"Enter Your Name:\")\n",
    "                        age_list=''\n",
    "                        booking_age=int(input(\"Enter your Age:\"))\n",
    "                        preference_list=''\n",
    "                        booking_preferance=input(\"Enter Your Preference(Upper/Middle/Lower):\")\n",
    "                        available_upper=len(tickets['upper'])\n",
    "                        available_middle=len(tickets['middle'])\n",
    "                        available_lower=len(tickets['lower'])\n",
    "                        if (re.search('^upper$',booking_preferance,re.IGNORECASE)):\n",
    "                            if available_upper!=0:\n",
    "                                preference_list=booking_preferance\n",
    "                            elif available_middle!=0:\n",
    "                                print(\"sorry you given booking preference is\",booking_preferance,\"But Not Avilable so we given middle\")\n",
    "                                booking_preferance1=\"middle\"\n",
    "                                preference_list=booking_preferance1\n",
    "                            else:\n",
    "                                print(\"sorry you given booking preference is\",booking_preferance,\"But Not Avilable so we given lower\")\n",
    "                                booking_preferance1=\"lower\"\n",
    "                                preference_list=booking_preferance1\n",
    "                        if (re.search('^middle$',booking_preferance,re.IGNORECASE)):\n",
    "                            if available_middle!=0:\n",
    "                                preference_list=booking_preferance\n",
    "                            elif available_upper!=0:\n",
    "                                print(\"sorry you given booking preference is\",booking_preferance,\"But Not Avilable so we given upper\")\n",
    "                                booking_preferance1=\"upper\"\n",
    "                                preference_list=booking_preferance1\n",
    "                            else:\n",
    "                                print(\"sorry you given booking preference is\",booking_preferance,\"But Not Avilable so we given lower\")\n",
    "                                booking_preferance1=\"lower\"\n",
    "                                preference_list=booking_preferance1\n",
    "                        if (re.search('^lower$',booking_preferance,re.IGNORECASE)):\n",
    "                            if available_lower!=0:\n",
    "                                preference_list=booking_preferance\n",
    "                            elif available_upper!=0:\n",
    "                                print(\"sorry you given booking preference is\",booking_preferance,\"But Not Avilable so we given upper\")\n",
    "                                booking_preferance1=\"upper\"\n",
    "                                preference_list=booking_preferance1\n",
    "                            else:\n",
    "                                print(\"sorry you given booking preference is\",booking_preferance,\"But Not Avilable so we given middle\")\n",
    "                                booking_preferance1=\"middle\"\n",
    "                                preference_list=booking_preferance1\n",
    "                        ticket_number=tickets[preference_list][0]\n",
    "                        del tickets[preference_list][0]\n",
    "                        temp_list=[booking_name,booking_age,preference_list,ticket_number]\n",
    "                        temp_list2.append(temp_list)\n",
    "                        #print(temp_list2)\n",
    "                    elif(len(tickets['rac'])!=0):\n",
    "                        temp_list=[]\n",
    "                        rac_name=input(\"ENTER YOUR NAME:\")\n",
    "                        rac_age=int(input(\"Enter your Age:\"))\n",
    "                        rac_preference=input(\"Enter Your Preference(Upper/Middle/Lower):\")\n",
    "                        ticket_number=tickets['rac'][0]\n",
    "                        del tickets['rac'][0]\n",
    "                        temp_list=[rac_name,rac_age,'rac',ticket_number]\n",
    "                        #print(temp_list)\n",
    "                        temp_list2.append(temp_list)\n",
    "                    elif(len(tickets['wl'])!=0):\n",
    "                        temp_list=[]\n",
    "                        wl_name=input(\"ENTER YOUR NAME:\")\n",
    "                        wl_age=int(input(\"Enter your Age:\"))\n",
    "                        wl_preference=input(\"Enter Your Preference(Upper/Middle/Lower):\")\n",
    "                        ticket_number=tickets['wl'][0]\n",
    "                        del tickets['wl'][0]\n",
    "                        temp_list=[wl_name,wl_age,\"wl\",ticket_number]\n",
    "                        #print(temp_list)\n",
    "                        temp_list2.append(temp_list)\n",
    "                    else:\n",
    "                        print(\"sorry!!!Ticket is not available..\")\n",
    "                print(\"Total Payment is:\",booking_tickets*300)\n",
    "                payment=int(input(\"Enter the Payment\"))\n",
    "                if payment==booking_tickets*300:\n",
    "                    passenger_details.update({booking_id:temp_list2})\n",
    "                    #print(passenger_details)\n",
    "                    print(\"Ticket has been booked\")\n",
    "                    print(\"Your Booking Id Is:\",booking_id)\n",
    "                else:\n",
    "                    for i in range(len(temp_list2)-1,-1,-1):\n",
    "                        ticket_number2=temp_list2[i][3]\n",
    "                        preference_list2=temp_list2[i][2]\n",
    "                        tickets[preference_list2].insert(0,ticket_number2)      \n",
    "                    print(\"sorry Payment Failed\")\n",
    "        else:\n",
    "            print(f\"sorry!!! Ticket is not available.. Tiket only available for {len(tickets['middle'])+len(tickets['lower'])+len(tickets['upper'])+len(tickets['rac'])+len(tickets['wl'])} Persons.\")\n",
    "class cancel():\n",
    "    def __init__(self):\n",
    "        cancel=input(\"Do you want to cancel(yes/no):\")\n",
    "        if (re.search(\"^yes$|^YES$\",cancel)):\n",
    "            length=len(passenger_details.keys())\n",
    "            j=0\n",
    "            idd=input(\"please enter Booking ID:\")\n",
    "            try:\n",
    "                for fid in passenger_details.keys():\n",
    "                    if fid==idd:\n",
    "                        print(f\"You Have booked {len(passenger_details[idd])} Tickets\")\n",
    "                        print(pa.DataFrame(passenger_details[idd],columns=['NAME','AGE',\"SEAT\",\"SEAT_NO\"]))\n",
    "                        seat_no={}\n",
    "                        seat=[]\n",
    "                        for iii in range(len(passenger_details[idd])):\n",
    "                            seat_no.update({passenger_details[idd][iii][3]:passenger_details[idd][iii][2]})\n",
    "                        #print(seat_no)\n",
    "                        delete_seat_no=int(input(\"Please enter seat number to cancel:\"))\n",
    "                        seat_keys=list(seat_no.keys())\n",
    "                        #print(seat_keys)\n",
    "                        index_position=0\n",
    "                        for iiii in range(len(seat_keys)):\n",
    "                            if seat_keys[iiii]==delete_seat_no:\n",
    "                                index_position=iiii\n",
    "                        #print(index_position)\n",
    "                        if delete_seat_no in seat_keys:\n",
    "                            seat_position=passenger_details[idd][index_position][2]\n",
    "                            tickets[seat_no[delete_seat_no]].append(delete_seat_no)\n",
    "                            del passenger_details[idd][index_position]\n",
    "                            try:\n",
    "                                temp_id=idd\n",
    "                                if len(passenger_details[temp_id])==0:\n",
    "                                    del passenger_details[temp_id]\n",
    "                                    #print(\"hi delete\")\n",
    "                            except RuntimeError:\n",
    "                                print(\" \")\n",
    "                            finally:\n",
    "                                if len(tickets['middle'])+len(tickets['lower'])+len(tickets['upper'])!=0 or len(tickets['rac'])!=0:\n",
    "\n",
    "                                    #print(passenger_details)\n",
    "                                    #print(\"*\"*50)\n",
    "                                    passenger_details2=[]\n",
    "                                    keys=list(passenger_details.keys())\n",
    "                                    for ii in keys:\n",
    "                                        for jj in range(len(passenger_details[ii])):\n",
    "                                            if len(passenger_details[ii][jj])>=3 and passenger_details[ii][jj][2]=='rac':\n",
    "                                                passenger_details2.extend([ii,jj])\n",
    "                                                break\n",
    "                                    #print(passenger_details2)\n",
    "                                    try:\n",
    "                                        first_rac=passenger_details[passenger_details2[0]][passenger_details2[1]]\n",
    "                                        first_rac_seat_position=first_rac[3]\n",
    "                                        first_rac_seat=first_rac[2]#rac\n",
    "                                        tickets[seat_position].remove(delete_seat_no)\n",
    "                                        rac_to_normal_name=first_rac[0]\n",
    "                                        rac_to_normal_age=first_rac[1]\n",
    "                                        rac_to_normal_sp=seat_position\n",
    "                                        rec_to_normal_seatno=delete_seat_no\n",
    "                                        rac_to_normal=[rac_to_normal_name,rac_to_normal_age,rac_to_normal_sp,rec_to_normal_seatno]\n",
    "                                        passenger_details[passenger_details2[0]][passenger_details2[1]]=rac_to_normal\n",
    "                                        tickets[first_rac[2]].insert(0,first_rac[3])\n",
    "                                    except IndexError:\n",
    "                                        print(\" \")\n",
    "                                    finally:\n",
    "                                        if len(tickets['rac'])!=0:\n",
    "                                            if len(tickets['wl'])!=0:\n",
    "                                                #print(\"hi inside\")\n",
    "                                                #print(passenger_details)\n",
    "                                                #print(\"*\"*50)\n",
    "                                                passenger_details3=[]\n",
    "                                                keys=list(passenger_details.keys())\n",
    "                                                for ii1 in keys:\n",
    "                                                    for jj1 in range(len(passenger_details[ii1])):\n",
    "                                                        if len(passenger_details[ii1][jj1])>=3 and passenger_details[ii1][jj1][2]=='wl':\n",
    "                                                            passenger_details3.extend([ii1,jj1])\n",
    "                                                            break\n",
    "                                                #print(passenger_details3)\n",
    "                                                try:\n",
    "                                                    first_wl=passenger_details[passenger_details3[0]][passenger_details3[1]]\n",
    "\n",
    "                                                    tickets[first_rac_seat].remove(first_rac_seat_position)\n",
    "                                                    wl_to_rac_name=first_wl[0]\n",
    "                                                    wl_to_rac_age=first_wl[1]\n",
    "                                                    wl_to_rac_sp=first_rac_seat\n",
    "                                                    wl_to_rac_seatno=first_rac_seat_position\n",
    "                                                    wl_to_rac=[wl_to_rac_name,wl_to_rac_age,wl_to_rac_sp,wl_to_rac_seatno]\n",
    "                                                    passenger_details[passenger_details3[0]][passenger_details3[1]]=wl_to_rac\n",
    "                                                    tickets[first_wl[2]].insert(0,first_wl[3])\n",
    "                                                except IndexError:\n",
    "                                                    print(\" \")\n",
    "                                \n",
    "                    else:\n",
    "                        print(\"please enter Above mentioned Seat no\")\n",
    "                    \n",
    "                else:\n",
    "                    j+=1\n",
    "            except RuntimeError:\n",
    "                print(\" \")\n",
    "            finally:\n",
    "                if j==length:\n",
    "                    print(\"You Entered Booking Id is incorrct!!! Please check..\")\n",
    "            \n",
    "        else:\n",
    "            print(\"You Entered No!!!\") \n",
    "class Available_tickets1():\n",
    "    def __init__(self):\n",
    "        df=pa.DataFrame(data={\n",
    "        'AVAILABLE TICKETS': [len(tickets['lower']), len(tickets['middle']), len(tickets['upper']), len(tickets['rac']), \n",
    "         len(tickets['wl']),len(tickets['lower'])+len(tickets['middle'])+len(tickets['upper'])+len(tickets['rac'])+ \n",
    "         len(tickets['wl'])]\n",
    "        }, index=['LOWER_SEAT', 'MIDDLE_SEAT', 'UPPER_SEAT', 'RAC', 'WAITINGLIST','TOTAL TICKETS'])\n",
    "        print(df)\n",
    "    \n",
    "class print_tickets():\n",
    "    def __init__(self):\n",
    "        idd=input(\"Enter the Booking ID:\")\n",
    "        j=0\n",
    "        length1=len(passenger_details.keys())\n",
    "        #print(passenger_details.keys())\n",
    "        for fid in passenger_details.keys():\n",
    "                    if fid==idd:\n",
    "                        print(f\"You Have booked {len(passenger_details[idd])} Tickets\")\n",
    "                        print(pa.DataFrame(passenger_details[idd],columns=['NAME','AGE',\"SEAT\",\"SEAT_NO\"]))\n",
    "                    else:\n",
    "                        j+=1\n",
    "        if j==length1:\n",
    "            print(\"You Entered Booking Id is incorrct!!! Please check..\")            \n",
    "i=True\n",
    "while i:\n",
    "    print(\"1.Book\")\n",
    "    print(\"2.Cancel\")\n",
    "    print('3.Print available tickets')\n",
    "    print('4.Print booked tickets')\n",
    "    print('5.Exit')\n",
    "    inp=int(input('please Select one option:'))\n",
    "    if (re.search('^1$',str(inp))):\n",
    "        b=boo()\n",
    "    elif (re.search('^2$',str(inp))):\n",
    "        c=cancel()\n",
    "    elif (re.search('^3$',str(inp))):\n",
    "        a=Available_tickets1()\n",
    "    elif (re.search('^4$',str(inp))):\n",
    "        p=print_tickets()\n",
    "    elif (re.search('^5$',str(inp))):\n",
    "        i=False\n",
    "    else:\n",
    "        print(\"please select correct value\")\n"
   ]
  },
  {
   "cell_type": "code",
   "execution_count": 34,
   "id": "cd0aee01",
   "metadata": {},
   "outputs": [
    {
     "data": {
      "text/plain": [
       "{'9856': [['k', 23, 'lower', 1], ['d', 7, 'upper', 3]],\n",
       " '7365': [['a', 23, 'middle', 2],\n",
       "  ['', 56, 'rac', 10],\n",
       "  ['c', 34, 'wl', 11],\n",
       "  ['e', 75, 'wl', 12],\n",
       "  ['f', 34, 'wl', 13]]}"
      ]
     },
     "execution_count": 34,
     "metadata": {},
     "output_type": "execute_result"
    }
   ],
   "source": [
    "passenger_details"
   ]
  },
  {
   "cell_type": "code",
   "execution_count": 11,
   "id": "88401827",
   "metadata": {},
   "outputs": [
    {
     "data": {
      "text/plain": [
       "{'3145': [['b', 21, 'middle', 2], ['c', 24, 'upper', 3]],\n",
       " '5014': [['d', 23, 'lower', 1], ['e', 45, 'rac', 10], ['f', 11, 'rac', 9]]}"
      ]
     },
     "execution_count": 11,
     "metadata": {},
     "output_type": "execute_result"
    }
   ],
   "source": [
    "passenger_details"
   ]
  },
  {
   "cell_type": "code",
   "execution_count": 35,
   "id": "21b577f7",
   "metadata": {},
   "outputs": [
    {
     "data": {
      "text/plain": [
       "{'upper': [], 'lower': [], 'middle': [], 'rac': [9], 'wl': []}"
      ]
     },
     "execution_count": 35,
     "metadata": {},
     "output_type": "execute_result"
    }
   ],
   "source": [
    "#passenger_details\n",
    "tickets"
   ]
  },
  {
   "cell_type": "code",
   "execution_count": 187,
   "id": "3d06b702",
   "metadata": {},
   "outputs": [
    {
     "ename": "NameError",
     "evalue": "name 'rac_normal' is not defined",
     "output_type": "error",
     "traceback": [
      "\u001b[1;31m---------------------------------------------------------------------------\u001b[0m",
      "\u001b[1;31mNameError\u001b[0m                                 Traceback (most recent call last)",
      "Cell \u001b[1;32mIn[187], line 1\u001b[0m\n\u001b[1;32m----> 1\u001b[0m \u001b[43mrac_normal\u001b[49m\n",
      "\u001b[1;31mNameError\u001b[0m: name 'rac_normal' is not defined"
     ]
    }
   ],
   "source": [
    "rac_normal"
   ]
  },
  {
   "cell_type": "code",
   "execution_count": 147,
   "id": "d1672366",
   "metadata": {},
   "outputs": [
    {
     "ename": "NameError",
     "evalue": "name 'first_rac' is not defined",
     "output_type": "error",
     "traceback": [
      "\u001b[1;31m---------------------------------------------------------------------------\u001b[0m",
      "\u001b[1;31mNameError\u001b[0m                                 Traceback (most recent call last)",
      "Cell \u001b[1;32mIn[147], line 1\u001b[0m\n\u001b[1;32m----> 1\u001b[0m \u001b[43mfirst_rac\u001b[49m\n",
      "\u001b[1;31mNameError\u001b[0m: name 'first_rac' is not defined"
     ]
    }
   ],
   "source": [
    "first_rac"
   ]
  },
  {
   "cell_type": "code",
   "execution_count": 32,
   "id": "addbebe1",
   "metadata": {},
   "outputs": [
    {
     "name": "stdout",
     "output_type": "stream",
     "text": [
      "ticktes\n"
     ]
    }
   ],
   "source": [
    "if 3 in [1,3]:\n",
    "    #tickets[seat_no[delete_seat_no]].append(delete_seat_no)\n",
    "    print(\"ticktes\")\n",
    "else:\n",
    "    print('hi')"
   ]
  },
  {
   "cell_type": "code",
   "execution_count": 39,
   "id": "38277c11",
   "metadata": {},
   "outputs": [
    {
     "data": {
      "text/plain": [
       "{'1974': [['karthik', 23, 'lower', 1]]}"
      ]
     },
     "execution_count": 39,
     "metadata": {},
     "output_type": "execute_result"
    }
   ],
   "source": [
    "gg={'1974': [['karthik', 23, 'lower', 1], ['baby', 23, 'upper', 3]]}\n",
    "del gg['1974'][1] \n",
    "gg"
   ]
  },
  {
   "cell_type": "code",
   "execution_count": 122,
   "id": "72691c13",
   "metadata": {},
   "outputs": [
    {
     "name": "stdout",
     "output_type": "stream",
     "text": [
      "{'6792': [['a', 23, 'lower', 1], ['b', 23, 'lower', 4], ['c', 23, 'lower', 7], ['d', 23, 'lower', 9], ['e', 23, 'upper', 3], ['f', 23, 'upper', 6], ['g', 23, 'upper', 8], ['h', 23, 'upper', 11], ['l', 23, 'middle', 2], ['er', 23, 'middle', 5]], '9784': [['aa1', 23, 'rac', 1], ['kkk', 45, 'rac', 2], ['aa1', 23, 'middle', 10]]}\n",
      "**************************************************\n",
      "['9784', 0]\n"
     ]
    }
   ],
   "source": [
    "print(passenger_details)\n",
    "print(\"*\"*50)\n",
    "passenger_details2=[]\n",
    "keys=list(passenger_details.keys())\n",
    "for i in keys:\n",
    "    for j in range(len(passenger_details[i])):\n",
    "        if passenger_details[i][j][2]=='rac':\n",
    "            passenger_details2.extend([i,j])\n",
    "            break\n",
    "print(passenger_details2)"
   ]
  },
  {
   "cell_type": "code",
   "execution_count": 32,
   "id": "b66a68fa",
   "metadata": {},
   "outputs": [
    {
     "name": "stdout",
     "output_type": "stream",
     "text": [
      "{'6572': [['kk', 24, 'lower', 4], ['kkk', 54, 'upper', 3]], '9713': [['b', 43, 'middle', 2], [['c', 65, 'upper', 6]], ['d', 53, 'rac', 2], ['g', 23, 'rac', 3]]}\n",
      "**************************************************\n",
      "['9713', 2]\n"
     ]
    }
   ],
   "source": [
    "print(passenger_details)\n",
    "print(\"*\"*50)\n",
    "passenger_details2=[]\n",
    "keys=list(passenger_details.keys())\n",
    "for ii in keys:\n",
    "    for jj in range(len(passenger_details[ii])):\n",
    "        if len(passenger_details[ii][jj])>=3 and passenger_details[ii][jj][2]=='rac':\n",
    "            passenger_details2.extend([ii,jj])\n",
    "            break\n",
    "print(passenger_details2)"
   ]
  },
  {
   "cell_type": "code",
   "execution_count": 30,
   "id": "c7fac934",
   "metadata": {},
   "outputs": [
    {
     "data": {
      "text/plain": [
       "False"
      ]
     },
     "execution_count": 30,
     "metadata": {},
     "output_type": "execute_result"
    }
   ],
   "source": [
    "len(passenger_details['6572'][0])>=3"
   ]
  },
  {
   "cell_type": "code",
   "execution_count": null,
   "id": "7d9b7941",
   "metadata": {},
   "outputs": [],
   "source": []
  }
 ],
 "metadata": {
  "kernelspec": {
   "display_name": "Python 3 (ipykernel)",
   "language": "python",
   "name": "python3"
  },
  "language_info": {
   "codemirror_mode": {
    "name": "ipython",
    "version": 3
   },
   "file_extension": ".py",
   "mimetype": "text/x-python",
   "name": "python",
   "nbconvert_exporter": "python",
   "pygments_lexer": "ipython3",
   "version": "3.10.9"
  }
 },
 "nbformat": 4,
 "nbformat_minor": 5
}
