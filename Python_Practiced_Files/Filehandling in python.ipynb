{
 "cells": [
  {
   "cell_type": "markdown",
   "id": "99f8b4ee",
   "metadata": {},
   "source": [
    "FILE HANDLING"
   ]
  },
  {
   "cell_type": "code",
   "execution_count": 12,
   "id": "a77b253b",
   "metadata": {},
   "outputs": [
    {
     "name": "stdout",
     "output_type": "stream",
     "text": [
      "File Handling in python:\n",
      "modes of operation:\n",
      "r-It is used to read the data from the file\n",
      "w-It is used to write the data in to file\n",
      "a-will not remove the previous content\n",
      "r+-both read and write operation\n",
      "w+-both read and write operation\n"
     ]
    }
   ],
   "source": [
    "#syntax-open('Pathname','modes of operation')\n",
    "file=open('E:\\PYTHON\\FILE\\kkk.txt','r')\n",
    "print(file.read())\n"
   ]
  },
  {
   "cell_type": "code",
   "execution_count": 5,
   "id": "aadc836f",
   "metadata": {},
   "outputs": [
    {
     "name": "stdout",
     "output_type": "stream",
     "text": [
      "234\n"
     ]
    }
   ],
   "source": [
    "\n",
    "file=open('kkk.txt','w')\n",
    "print(file.write(\"File Handling in python:\\nmodes of operation:\\nr-It is used to read the data from the file\\nw-It is used to write the data in to filea-will not remove the previous content\\nr+-both read and write operation\\nw+-both read and write operation\"))\n",
    "file.close()"
   ]
  },
  {
   "cell_type": "code",
   "execution_count": 8,
   "id": "9cee2f75",
   "metadata": {},
   "outputs": [
    {
     "name": "stdout",
     "output_type": "stream",
     "text": [
      "File Handling in python:\n",
      "modes of operation:\n",
      "r-It is used to read the data from the file\n",
      "w-It is used to write the data in to filea-will not remove the previous content\n",
      "r+-both read and write operation\n",
      "w+-both read and write operation\n"
     ]
    }
   ],
   "source": [
    "#IF WE SAVE INSIDE THE JUPYTER NOTE PATH ,WE NO NEED TO MENTION ALL PATH DETAILS INSTED WE CAN GIVE ONLY FILE NAME\n",
    "file=open('kkk.txt','r')\n",
    "print(file.read())"
   ]
  },
  {
   "cell_type": "code",
   "execution_count": 7,
   "id": "da949bed",
   "metadata": {},
   "outputs": [
    {
     "name": "stdout",
     "output_type": "stream",
     "text": [
      "234\n"
     ]
    }
   ],
   "source": [
    "#append with out existing file\n",
    "file=open('kkk1.txt','a')\n",
    "print(file.write(\"File Handling in python:\\nmodes of operation:\\nr-It is used to read the data from the file\\nw-It is used to write the data in to filea-will not remove the previous content\\nr+-both read and write operation\\nw+-both read and write operation\"))\n",
    "file.close()"
   ]
  },
  {
   "cell_type": "code",
   "execution_count": 9,
   "id": "78d2e553",
   "metadata": {},
   "outputs": [
    {
     "name": "stdout",
     "output_type": "stream",
     "text": [
      "karthiksduVSL>VluSA<Vcjlas.vc\n",
      "\n"
     ]
    }
   ],
   "source": [
    "#readline()-it's will fetch only first line from the file\n",
    "f=open('kkk.txt','r')\n",
    "print(f.readline())"
   ]
  },
  {
   "cell_type": "code",
   "execution_count": 5,
   "id": "36a58d5b",
   "metadata": {},
   "outputs": [
    {
     "name": "stdout",
     "output_type": "stream",
     "text": [
      "['karthiksduVSL>VluSA<Vcjlas.vc\\n', 'aFhtskykcjyxjtjhtmcgkcjykh\\n', 'egRSgKsudfhCLDF\\n', 'sGVWRjrsgxgxmhhm\\n', 'txghchmcnkhchc,h h,gvjvvhj\\n', 'kkkkkkkkkkkkkkkkkkkkkkkkkkk\\n', 'jjjjjjjjjjjjjjjjjjjjjjjjjjjj']\n",
      "--------------------------------------------------\n",
      "[]\n"
     ]
    }
   ],
   "source": [
    "#readlines()-it's will fetch all lines from the file like a list format\n",
    "f=open('kkk.txt','r')\n",
    "print(f.readlines())\n",
    "print('-'*50)\n",
    "list1=list(f.readlines())\n",
    "print(list1)"
   ]
  },
  {
   "cell_type": "code",
   "execution_count": 9,
   "id": "a14a0a54",
   "metadata": {},
   "outputs": [
    {
     "name": "stdout",
     "output_type": "stream",
     "text": [
      "['karthiksduVSL>VluSA<Vcjlas.vc\\n', 'aFhtskykcjyxjtjhtmcgkcjykh\\n', 'egRSgKsudfhCLDF\\n', 'sGVWRjrsgxgxmhhm\\n', 'txghchmcnkhchc,h h,gvjvvhj\\n', 'kkkkkkkkkkkkkkkkkkkkkkkkkkk\\n', 'jjjjjjjjjjjjjjjjjjjjjjjjjjjj']\n",
      "set()\n",
      "()\n"
     ]
    }
   ],
   "source": [
    "#readlines()-it's will fetch all lines from the file like a list format\n",
    "f=open('kkk.txt','r')\n",
    "list1=list(f.readlines())\n",
    "list2=set(f.readlines())\n",
    "list3=tuple(f.readlines())\n",
    "print(list1)\n",
    "print(list2)\n",
    "print(list3)"
   ]
  },
  {
   "cell_type": "code",
   "execution_count": 12,
   "id": "cdfda9f4",
   "metadata": {},
   "outputs": [
    {
     "name": "stdout",
     "output_type": "stream",
     "text": [
      "29\n"
     ]
    }
   ],
   "source": [
    "#w-write the data into the file\n",
    "w=open('karthik.txt','w')\n",
    "print(a.write('write the data into the file'))\n",
    "w.close()"
   ]
  },
  {
   "cell_type": "code",
   "execution_count": 14,
   "id": "02f3306e",
   "metadata": {},
   "outputs": [
    {
     "name": "stdout",
     "output_type": "stream",
     "text": [
      "29\n"
     ]
    }
   ],
   "source": [
    "#a-append-to add the data with out deleting existing data\n",
    "a=open('karthik.txt','a')\n",
    "print(a.write('\\nwrite the data into the file'))#\\n-nextline\n",
    "a.close()"
   ]
  },
  {
   "cell_type": "code",
   "execution_count": 7,
   "id": "f1f46257",
   "metadata": {},
   "outputs": [
    {
     "name": "stdout",
     "output_type": "stream",
     "text": [
      "karthikis a good boy\n",
      "\n"
     ]
    }
   ],
   "source": [
    "#r+-Both read and write operations\n",
    "file=open('E:\\\\PYTHON\\FILE\\kkk1.txt','r+')\n",
    "print(file.read())\n",
    "file.write('is a good boy')\n",
    "print(file.read())\n",
    "file.close()"
   ]
  },
  {
   "cell_type": "code",
   "execution_count": 15,
   "id": "425dee67",
   "metadata": {},
   "outputs": [
    {
     "name": "stdout",
     "output_type": "stream",
     "text": [
      "3582\n"
     ]
    }
   ],
   "source": [
    "#move the data from one file to another file\n",
    "file=open('kkk.txt','r')\n",
    "s=file.read()\n",
    "w=open('karthik1.txt','w')\n",
    "print(w.write(s))\n",
    "w.close()"
   ]
  },
  {
   "cell_type": "code",
   "execution_count": null,
   "id": "c17100a3",
   "metadata": {},
   "outputs": [],
   "source": []
  },
  {
   "cell_type": "code",
   "execution_count": null,
   "id": "517bd856",
   "metadata": {},
   "outputs": [],
   "source": []
  },
  {
   "cell_type": "code",
   "execution_count": null,
   "id": "fd9daa5e",
   "metadata": {},
   "outputs": [],
   "source": []
  },
  {
   "cell_type": "code",
   "execution_count": null,
   "id": "372ced16",
   "metadata": {},
   "outputs": [],
   "source": []
  },
  {
   "cell_type": "code",
   "execution_count": null,
   "id": "cd7b1d7f",
   "metadata": {},
   "outputs": [],
   "source": []
  },
  {
   "cell_type": "code",
   "execution_count": 47,
   "id": "fb664149",
   "metadata": {},
   "outputs": [
    {
     "name": "stdout",
     "output_type": "stream",
     "text": [
      "fghsry death   teha6h4rth\n",
      "\n"
     ]
    }
   ],
   "source": [
    "k=\"    fghsry death   teha6h4rth   \"\n",
    "print(k.strip())\n",
    "for i in k:\n",
    "    u=i.strip()\n",
    "print(u)"
   ]
  },
  {
   "cell_type": "code",
   "execution_count": 1,
   "id": "ea587d3a",
   "metadata": {},
   "outputs": [
    {
     "name": "stdout",
     "output_type": "stream",
     "text": [
      "\n"
     ]
    }
   ],
   "source": []
  },
  {
   "cell_type": "code",
   "execution_count": 6,
   "id": "d9d1c1f2",
   "metadata": {},
   "outputs": [
    {
     "ename": "SyntaxError",
     "evalue": "(unicode error) 'unicodeescape' codec can't decode bytes in position 2-3: truncated \\UXXXXXXXX escape (1437004231.py, line 3)",
     "output_type": "error",
     "traceback": [
      "\u001b[1;36m  Cell \u001b[1;32mIn[6], line 3\u001b[1;36m\u001b[0m\n\u001b[1;33m    which=\"C:\\Users\\Admin\\kkk(Python)\\kkk.txt\"\u001b[0m\n\u001b[1;37m                                              ^\u001b[0m\n\u001b[1;31mSyntaxError\u001b[0m\u001b[1;31m:\u001b[0m (unicode error) 'unicodeescape' codec can't decode bytes in position 2-3: truncated \\UXXXXXXXX escape\n"
     ]
    }
   ],
   "source": [
    "import os\n",
    "import shutil\n",
    "which=\"C:\\Users\\Admin\\kkk(Python)\\kkk.txt\"\n",
    "where=\"C:\\Users\\Admin\\kkk(Python)\\kkk1.txt\"\n",
    "file-os.listdir(which)\n",
    "shutil.move(which,where)\n",
    "print('file transfer is done')"
   ]
  },
  {
   "cell_type": "code",
   "execution_count": null,
   "id": "0a86bcfc",
   "metadata": {},
   "outputs": [],
   "source": []
  }
 ],
 "metadata": {
  "kernelspec": {
   "display_name": "Python 3 (ipykernel)",
   "language": "python",
   "name": "python3"
  },
  "language_info": {
   "codemirror_mode": {
    "name": "ipython",
    "version": 3
   },
   "file_extension": ".py",
   "mimetype": "text/x-python",
   "name": "python",
   "nbconvert_exporter": "python",
   "pygments_lexer": "ipython3",
   "version": "3.10.9"
  }
 },
 "nbformat": 4,
 "nbformat_minor": 5
}
