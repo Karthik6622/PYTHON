{
 "cells": [
  {
   "cell_type": "markdown",
   "id": "eac1f2aa",
   "metadata": {},
   "source": [
    "# Image pyramids in opencv"
   ]
  },
  {
   "cell_type": "markdown",
   "id": "acaf4083",
   "metadata": {},
   "source": [
    "Image pyramids in OpenCV are a multi-scale representation of an image, where the original image is repeatedly downsampled or upsampled to create a set of images at different scales. These pyramid representations are useful for various computer vision tasks, such as image blending, image matching, and object detection.\n",
    "\n",
    "there are two methods to create image pyramids in opencv\n",
    "\n",
    "1.Gaussian pyramid\n",
    "\n",
    "2.laplacian pyramid"
   ]
  },
  {
   "cell_type": "code",
   "execution_count": 4,
   "id": "bc54995b",
   "metadata": {},
   "outputs": [],
   "source": [
    "import numpy as np\n",
    "import matplotlib.pyplot as plt\n",
    "import cv2"
   ]
  },
  {
   "cell_type": "code",
   "execution_count": 8,
   "id": "f8629819",
   "metadata": {},
   "outputs": [],
   "source": [
    "#image pyramid-it is used to display multiple resolution images\n",
    "#Gaussian pyramid\n",
    "#pyrDown-it will create lower size resolution(1/4) from given image\n",
    "img=cv2.imread(\"image.jpg\")\n",
    "lower_resolution=cv2.pyrDown(img)\n",
    "lower_resolution2=cv2.pyrDown(lower_resolution)\n",
    "lower_resolution3=cv2.pyrDown(lower_resolution2)\n",
    "cv2.imshow(\"original image\",img)\n",
    "cv2.imshow(\"pyrdown1\",lower_resolution)\n",
    "cv2.imshow(\"pyrdown2\",lower_resolution2)\n",
    "cv2.imshow(\"pyrdown3\",lower_resolution3)\n",
    "cv2.waitKey(0)\n",
    "cv2.destroyAllWindows()"
   ]
  },
  {
   "cell_type": "code",
   "execution_count": 13,
   "id": "83ec9b21",
   "metadata": {},
   "outputs": [],
   "source": [
    "#Gaussian pyramid\n",
    "#pyrUp-it will create higher size resolution(1/4) from given image\n",
    "img=cv2.imread(\"image.jpg\")\n",
    "higher_resolution=cv2.pyrUp(img)\n",
    "higher_resolution2=cv2.pyrUp(higher_resolution)\n",
    "higher_resolution3=cv2.pyrUp(higher_resolution2)\n",
    "imgs=[img,higher_resolution,higher_resolution2,higher_resolution3]\n",
    "titles=['original image','Pyrup1','pyrup2','pyrup3']\n",
    "for i in range(len(imgs)):\n",
    "    cv2.imshow(titles[i],imgs[i])\n",
    "cv2.waitKey()\n",
    "cv2.destroyAllWindows()"
   ]
  },
  {
   "cell_type": "code",
   "execution_count": 16,
   "id": "10eeab73",
   "metadata": {},
   "outputs": [],
   "source": [
    "#display multiple resolution images using for loop\n",
    "img=cv2.imread(\"ronaldo.jfif\")\n",
    "layer=img.copy()\n",
    "for i in range(5):\n",
    "    layer=cv2.pyrDown(layer)\n",
    "    cv2.imshow(str(i),layer)\n",
    "cv2.waitKey()\n",
    "cv2.destroyAllWindows()\n"
   ]
  },
  {
   "cell_type": "code",
   "execution_count": null,
   "id": "85885748",
   "metadata": {},
   "outputs": [],
   "source": [
    "#note:if we highersize the lowersized image means,that image will be little bit blur"
   ]
  },
  {
   "cell_type": "markdown",
   "id": "12aabf0f",
   "metadata": {},
   "source": [
    "#laplacian pyramid\n",
    "\n",
    "Creating a Laplacian pyramid in OpenCV involves subtracting a lower-resolved version of an image (from the Gaussian pyramid) from its upsampled version."
   ]
  },
  {
   "cell_type": "code",
   "execution_count": 47,
   "id": "9ed23f5d",
   "metadata": {},
   "outputs": [],
   "source": [
    "#laplacian pyrmaid-subtract lower resolution image from that image before resolution\n",
    "#make image to lower resolution and stoting to list\n",
    "img=cv2.imread(\"ronaldo.jfif\")\n",
    "layer=img.copy()\n",
    "li=[layer]\n",
    "for i in range(6):\n",
    "    layer=cv2.pyrDown(layer)\n",
    "    li.append(layer)\n",
    "    #cv2.imshow(str(i),layer)\n",
    "for j in range(5,0,-1):\n",
    "    gussian_extented=cv2.pyrUp(li[j])\n",
    "    # Resize gussian_extended to match the dimensions of li[j-1]\n",
    "    gussian_extended = cv2.resize(gussian_extended, (li[j-1].shape[1], li[j-1].shape[0]))\n",
    "    laplacian=li[j-1]-gussian_extended\n",
    "    #print(li[j].shape)\n",
    "    cv2.imshow(str(j),laplacian)\n",
    "cv2.waitKey(0)\n",
    "cv2.destroyAllWindows()    "
   ]
  },
  {
   "cell_type": "code",
   "execution_count": 46,
   "id": "c21b81b7",
   "metadata": {},
   "outputs": [],
   "source": []
  },
  {
   "cell_type": "code",
   "execution_count": null,
   "id": "37649967",
   "metadata": {},
   "outputs": [],
   "source": []
  }
 ],
 "metadata": {
  "kernelspec": {
   "display_name": "Python 3 (ipykernel)",
   "language": "python",
   "name": "python3"
  },
  "language_info": {
   "codemirror_mode": {
    "name": "ipython",
    "version": 3
   },
   "file_extension": ".py",
   "mimetype": "text/x-python",
   "name": "python",
   "nbconvert_exporter": "python",
   "pygments_lexer": "ipython3",
   "version": "3.10.9"
  }
 },
 "nbformat": 4,
 "nbformat_minor": 5
}
