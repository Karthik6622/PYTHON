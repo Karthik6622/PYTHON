{
 "cells": [
  {
   "cell_type": "code",
   "execution_count": 1,
   "id": "e6e61f9b",
   "metadata": {},
   "outputs": [
    {
     "name": "stdout",
     "output_type": "stream",
     "text": [
      "baby\n"
     ]
    }
   ],
   "source": [
    "s=('b','a','b','y')\n",
    "\n",
    "print(''.join(s))"
   ]
  },
  {
   "cell_type": "code",
   "execution_count": 2,
   "id": "45d922fb",
   "metadata": {},
   "outputs": [
    {
     "name": "stdout",
     "output_type": "stream",
     "text": [
      "-3\n",
      "-4\n"
     ]
    }
   ],
   "source": [
    "x=2\n",
    "y=3\n",
    "print(~x)\n",
    "print(~y)"
   ]
  },
  {
   "cell_type": "code",
   "execution_count": 3,
   "id": "dd3430c2",
   "metadata": {},
   "outputs": [
    {
     "name": "stdout",
     "output_type": "stream",
     "text": [
      "13\n"
     ]
    }
   ],
   "source": [
    "print(int(0b1101))"
   ]
  },
  {
   "cell_type": "code",
   "execution_count": 4,
   "id": "c30cc1c5",
   "metadata": {},
   "outputs": [
    {
     "name": "stdout",
     "output_type": "stream",
     "text": [
      "Enter the execution Odd/Even:even\n",
      "Enter the starting value:3\n",
      "Enter the ending value:4\n",
      "please Enter even value as a start value\n"
     ]
    }
   ],
   "source": [
    "s=input(\"Enter the execution Odd/Even:\")\n",
    "s.lower()\n",
    "if(s=='even'):\n",
    "    starting_value=int(input(\"Enter the starting value:\"))\n",
    "    ending_value=int(input(\"Enter the ending value:\"))\n",
    "    ending_value+=1\n",
    "    if(starting_value%2==0):\n",
    "        for a in range(starting_value,ending_value,2):#2 is step value\n",
    "            print(a)\n",
    "    else:\n",
    "        print(\"please Enter even value as a start value\")\n",
    "elif(s=='odd'):\n",
    "    starting_value=int(input(\"Enter the starting value:\"))\n",
    "    ending_value=int(input(\"Enter the ending value:\"))\n",
    "    ending_value+=1\n",
    "    if(starting_value%2!=0):\n",
    "        if(starting_value!=0):\n",
    "            for a in range(starting_value,ending_value,2):\n",
    "                print(a)\n",
    "        else:\n",
    "            print(\"0 is even number so we can't use 0 as a starting value\")\n",
    "    else:\n",
    "        print(\"please Enter odd value as a start value\")\n",
    "else:\n",
    "    print(\"please enter odd or even\")\n"
   ]
  },
  {
   "cell_type": "code",
   "execution_count": 29,
   "id": "835b44cd",
   "metadata": {},
   "outputs": [
    {
     "name": "stdout",
     "output_type": "stream",
     "text": [
      "Enter the starting value:7\n",
      "Enter the steps value:5\n",
      "7\n",
      "8\n",
      "15\n",
      "23\n",
      "38\n"
     ]
    }
   ],
   "source": [
    "num=eval(input(\"Enter the starting value:\"))\n",
    "num1=eval(input(\"Enter the steps value:\"))\n",
    "temp=0\n",
    "temp2=num+1\n",
    "print(num)\n",
    "print(temp2)\n",
    "for i in range(1,num1-1):\n",
    "    temp=num+temp2\n",
    "    num=temp2\n",
    "    temp2=temp\n",
    "    print(temp2)"
   ]
  },
  {
   "cell_type": "code",
   "execution_count": 34,
   "id": "b9aca312",
   "metadata": {},
   "outputs": [
    {
     "name": "stdout",
     "output_type": "stream",
     "text": [
      "0\n",
      "1\n",
      "1\n",
      "2\n",
      "3\n",
      "5\n",
      "8\n"
     ]
    }
   ],
   "source": [
    "def fibo(m):\n",
    "    j=0\n",
    "    k=1\n",
    "    temp=0\n",
    "    print(j)\n",
    "    print(k)\n",
    "    for i in range(2,m):\n",
    "        temp=j+k\n",
    "        j=k\n",
    "        k=temp\n",
    "        print(k)\n",
    "fibo(7) "
   ]
  },
  {
   "cell_type": "code",
   "execution_count": 35,
   "id": "94747096",
   "metadata": {},
   "outputs": [
    {
     "name": "stdout",
     "output_type": "stream",
     "text": [
      "0\n",
      "1\n",
      "1\n",
      "2\n",
      "3\n",
      "5\n",
      "8\n",
      "13\n",
      "21\n",
      "34\n"
     ]
    }
   ],
   "source": [
    "fibo(10)"
   ]
  },
  {
   "cell_type": "code",
   "execution_count": 79,
   "id": "9a682647",
   "metadata": {},
   "outputs": [
    {
     "name": "stdout",
     "output_type": "stream",
     "text": [
      "Enter the no of elements:4\n",
      "Enter the Number1:34\n",
      "Enter the Number2:5\n",
      "Enter the Number3:76\n",
      "Enter the Number4:8\n",
      "[1156, 25, 5776, 64]\n"
     ]
    }
   ],
   "source": [
    "def pow():\n",
    "    j=int(input(\"Enter the no of elements:\"))\n",
    "    k=[]\n",
    "    for i in range(0,j):\n",
    "        num=int(input(\"Enter the Number{}:\".format(i+1)))\n",
    "        k.append(num)\n",
    "   \n",
    "    k1=[n**2 for n in k]\n",
    "    print(k1)\n",
    "pow()"
   ]
  },
  {
   "cell_type": "code",
   "execution_count": 77,
   "id": "b4a56147",
   "metadata": {},
   "outputs": [
    {
     "name": "stdout",
     "output_type": "stream",
     "text": [
      "Enter the number of elements: 3\n",
      "Enter Number 1: 2\n",
      "Enter Number 2: 56\n",
      "Enter Number 3: 5\n",
      "[2, 58, 63]\n"
     ]
    }
   ],
   "source": [
    "def calculate_sum():\n",
    "    j = int(input(\"Enter the number of elements: \"))\n",
    "    k = []\n",
    "    for i in range(j):\n",
    "        num = int(input(\"Enter Number {}: \".format(i + 1)))\n",
    "        k.append(num)\n",
    "    cumulative_sum = [sum(k[:i+1]) for i in range(j)]\n",
    "    print(cumulative_sum)\n",
    "\n",
    "calculate_sum()\n"
   ]
  },
  {
   "cell_type": "code",
   "execution_count": 26,
   "id": "a29d3717",
   "metadata": {},
   "outputs": [
    {
     "name": "stdout",
     "output_type": "stream",
     "text": [
      "Enter the value:98\n",
      "Given value is Number\n",
      "Are you want to continue(y/n):y\n",
      "Enter the value:3eee\n",
      "given value is alpha numeric charcter\n",
      "Are you want to continue(y/n):y\n",
      "Enter the value:;\n",
      "Special character\n",
      "Are you want to continue(y/n):y\n",
      "Enter the value:rth\n",
      "Given value is String\n",
      "Are you want to continue(y/n):y\n",
      "Enter the value:-6\n",
      "given value is nagative value\n",
      "Are you want to continue(y/n):n\n"
     ]
    }
   ],
   "source": [
    "\n",
    "k=True\n",
    "while(k==True):\n",
    "    nu=input(\"Enter the value:\")\n",
    "    if(nu.isalpha()==True):\n",
    "            print(\"Given value is String\")\n",
    "        \n",
    "    elif (nu.isdigit()==True):\n",
    "        print(\"Given value is Number\")\n",
    "    \n",
    "    elif (nu.isalnum()==True):\n",
    "        print(\"given value is alpha numeric charcter\")\n",
    "    elif (nu.startswith('-')==True):\n",
    "        print(\"given value is nagative value\")\n",
    "    else:\n",
    "        print(\"Special character\")\n",
    "            \n",
    "    c=input(\"Are you want to continue(y/n):\")\n",
    "    if(c=='y' or c=='Y'):\n",
    "        k=True\n",
    "    elif(c=='n' or c=='N'):\n",
    "        k=False\n",
    "    else:\n",
    "        print(\"please enter correct value\")\n",
    "        k=False"
   ]
  },
  {
   "cell_type": "code",
   "execution_count": 25,
   "id": "d3f54d88",
   "metadata": {},
   "outputs": [
    {
     "ename": "AttributeError",
     "evalue": "'int' object has no attribute 'isnumeric'",
     "output_type": "error",
     "traceback": [
      "\u001b[1;31m---------------------------------------------------------------------------\u001b[0m",
      "\u001b[1;31mAttributeError\u001b[0m                            Traceback (most recent call last)",
      "Cell \u001b[1;32mIn[25], line 2\u001b[0m\n\u001b[0;32m      1\u001b[0m c\u001b[38;5;241m=\u001b[39m\u001b[38;5;241m4\u001b[39m\n\u001b[1;32m----> 2\u001b[0m \u001b[38;5;28mprint\u001b[39m(\u001b[43mc\u001b[49m\u001b[38;5;241;43m.\u001b[39;49m\u001b[43misnumeric\u001b[49m())\n",
      "\u001b[1;31mAttributeError\u001b[0m: 'int' object has no attribute 'isnumeric'"
     ]
    }
   ],
   "source": [
    "c='\n",
    "print(c.isnumeric())"
   ]
  },
  {
   "cell_type": "code",
   "execution_count": null,
   "id": "4793592d",
   "metadata": {},
   "outputs": [],
   "source": []
  }
 ],
 "metadata": {
  "kernelspec": {
   "display_name": "Python 3 (ipykernel)",
   "language": "python",
   "name": "python3"
  },
  "language_info": {
   "codemirror_mode": {
    "name": "ipython",
    "version": 3
   },
   "file_extension": ".py",
   "mimetype": "text/x-python",
   "name": "python",
   "nbconvert_exporter": "python",
   "pygments_lexer": "ipython3",
   "version": "3.10.9"
  }
 },
 "nbformat": 4,
 "nbformat_minor": 5
}
