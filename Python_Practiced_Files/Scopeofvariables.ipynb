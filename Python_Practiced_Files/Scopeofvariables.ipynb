{
 "cells": [
  {
   "cell_type": "markdown",
   "id": "afca530b",
   "metadata": {},
   "source": [
    "# ScopeofVariables"
   ]
  },
  {
   "cell_type": "code",
   "execution_count": 1,
   "id": "14e099d7",
   "metadata": {},
   "outputs": [
    {
     "name": "stdout",
     "output_type": "stream",
     "text": [
      "100\n"
     ]
    },
    {
     "ename": "NameError",
     "evalue": "name 'x' is not defined",
     "output_type": "error",
     "traceback": [
      "\u001b[1;31m---------------------------------------------------------------------------\u001b[0m",
      "\u001b[1;31mNameError\u001b[0m                                 Traceback (most recent call last)",
      "Cell \u001b[1;32mIn[1], line 6\u001b[0m\n\u001b[0;32m      4\u001b[0m     x\u001b[38;5;241m=\u001b[39m\u001b[38;5;241m100\u001b[39m\n\u001b[0;32m      5\u001b[0m     \u001b[38;5;28mprint\u001b[39m(x)\n\u001b[1;32m----> 6\u001b[0m \u001b[38;5;28;01mclass\u001b[39;00m \u001b[38;5;21;01mb\u001b[39;00m:\n\u001b[0;32m      7\u001b[0m     \u001b[38;5;28mprint\u001b[39m(x)\n",
      "Cell \u001b[1;32mIn[1], line 7\u001b[0m, in \u001b[0;36mb\u001b[1;34m()\u001b[0m\n\u001b[0;32m      6\u001b[0m \u001b[38;5;28;01mclass\u001b[39;00m \u001b[38;5;21;01mb\u001b[39;00m:\n\u001b[1;32m----> 7\u001b[0m     \u001b[38;5;28mprint\u001b[39m(\u001b[43mx\u001b[49m)\n",
      "\u001b[1;31mNameError\u001b[0m: name 'x' is not defined"
     ]
    }
   ],
   "source": [
    "#localScope-in localscope we can't use that variables outside the local scope\n",
    "class c:\n",
    "    #local variable\n",
    "    x=100\n",
    "    print(x)\n",
    "class b:\n",
    "    print(x)#here we can't use local variable"
   ]
  },
  {
   "cell_type": "code",
   "execution_count": 3,
   "id": "5c8da74d",
   "metadata": {},
   "outputs": [
    {
     "name": "stdout",
     "output_type": "stream",
     "text": [
      "100\n"
     ]
    },
    {
     "ename": "NameError",
     "evalue": "name 'x' is not defined",
     "output_type": "error",
     "traceback": [
      "\u001b[1;31m---------------------------------------------------------------------------\u001b[0m",
      "\u001b[1;31mNameError\u001b[0m                                 Traceback (most recent call last)",
      "Cell \u001b[1;32mIn[3], line 8\u001b[0m\n\u001b[0;32m      6\u001b[0m     \u001b[38;5;28mprint\u001b[39m(x)\n\u001b[0;32m      7\u001b[0m cc()\n\u001b[1;32m----> 8\u001b[0m \u001b[43mdd\u001b[49m\u001b[43m(\u001b[49m\u001b[43m)\u001b[49m\n",
      "Cell \u001b[1;32mIn[3], line 6\u001b[0m, in \u001b[0;36mdd\u001b[1;34m()\u001b[0m\n\u001b[0;32m      5\u001b[0m \u001b[38;5;28;01mdef\u001b[39;00m \u001b[38;5;21mdd\u001b[39m():\n\u001b[1;32m----> 6\u001b[0m     \u001b[38;5;28mprint\u001b[39m(\u001b[43mx\u001b[49m)\n",
      "\u001b[1;31mNameError\u001b[0m: name 'x' is not defined"
     ]
    }
   ],
   "source": [
    "#use Method\n",
    "def cc():\n",
    "    x=100\n",
    "    print(x)\n",
    "def dd():\n",
    "    print(x)\n",
    "cc()\n",
    "dd()"
   ]
  },
  {
   "cell_type": "code",
   "execution_count": 4,
   "id": "d7eabf9a",
   "metadata": {},
   "outputs": [
    {
     "name": "stdout",
     "output_type": "stream",
     "text": [
      "100\n",
      "100\n",
      "100\n"
     ]
    }
   ],
   "source": [
    "#Global variable-we can use Global variable anywhere we want\n",
    "x=100\n",
    "class cc:\n",
    "    print(x)\n",
    "def dd():\n",
    "    print(x)\n",
    "c=cc()\n",
    "dd()\n",
    "print(x)"
   ]
  },
  {
   "cell_type": "code",
   "execution_count": 7,
   "id": "77892d2f",
   "metadata": {},
   "outputs": [
    {
     "name": "stdout",
     "output_type": "stream",
     "text": [
      "100\n"
     ]
    }
   ],
   "source": [
    "#Naming Variables-sometimes if we created local vatrible and global varibale both are smae,it will take first local variable next take global\n",
    "x=100\n",
    "def ddd():\n",
    "    x=50#if we comment it this line it will take x=100\n",
    "    print(x)\n",
    "ddd()"
   ]
  },
  {
   "cell_type": "code",
   "execution_count": 13,
   "id": "9e387a65",
   "metadata": {},
   "outputs": [
    {
     "name": "stdout",
     "output_type": "stream",
     "text": [
      "10\n",
      "10\n"
     ]
    }
   ],
   "source": [
    "#global Keyword-with this keyword we can make any local varibe to global variable\n",
    "def dd():\n",
    "    global y#we can use this outside the function also\n",
    "    y=10\n",
    "    print(y)\n",
    "def dd1():\n",
    "    print(y)\n",
    "dd()\n",
    "dd1()\n",
    "    "
   ]
  },
  {
   "cell_type": "code",
   "execution_count": null,
   "id": "338d1f62",
   "metadata": {},
   "outputs": [],
   "source": []
  }
 ],
 "metadata": {
  "kernelspec": {
   "display_name": "Python 3 (ipykernel)",
   "language": "python",
   "name": "python3"
  },
  "language_info": {
   "codemirror_mode": {
    "name": "ipython",
    "version": 3
   },
   "file_extension": ".py",
   "mimetype": "text/x-python",
   "name": "python",
   "nbconvert_exporter": "python",
   "pygments_lexer": "ipython3",
   "version": "3.10.9"
  }
 },
 "nbformat": 4,
 "nbformat_minor": 5
}
