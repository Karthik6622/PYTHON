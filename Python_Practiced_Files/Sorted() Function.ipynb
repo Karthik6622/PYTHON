{
 "cells": [
  {
   "cell_type": "markdown",
   "id": "22a655de",
   "metadata": {},
   "source": [
    "# Sorted() Function"
   ]
  },
  {
   "cell_type": "code",
   "execution_count": 4,
   "id": "2c50e9f9",
   "metadata": {},
   "outputs": [
    {
     "name": "stdout",
     "output_type": "stream",
     "text": [
      "None\n",
      "None\n",
      "[0, 2, 4, 43, 67, 3333]\n",
      "[3333, 67, 43, 4, 2, 0]\n"
     ]
    }
   ],
   "source": [
    "#sorted()-It is used to sort the we given elements\n",
    "li=[4,67,43,2,3333,0]\n",
    "li2=li.sort()#we can't store sort value to variable but it's sort orginial elements\n",
    "li3=li.reverse()#we can't store sort value to variable but it's sort orginial elements\n",
    "print(li2)\n",
    "print(li3)\n",
    "li.sort()\n",
    "print(li)\n",
    "li.reverse()\n",
    "print(li)"
   ]
  },
  {
   "cell_type": "code",
   "execution_count": 5,
   "id": "afcf73a8",
   "metadata": {},
   "outputs": [
    {
     "name": "stdout",
     "output_type": "stream",
     "text": [
      "[0, 2, 4, 43, 67, 3333]\n",
      "[3333, 67, 43, 4, 2, 0]\n"
     ]
    }
   ],
   "source": [
    "#if we want to store to variable sorted element,we can use sorted function\n",
    "li=[4,67,43,2,3333,0]\n",
    "li2=sorted(li)#defaultly reverse is false so if we want to perform accending order,no need to enter reverse argument\n",
    "li3=sorted(li,reverse=True)\n",
    "print(li2)\n",
    "print(li3)"
   ]
  },
  {
   "cell_type": "code",
   "execution_count": 7,
   "id": "a89f1a61",
   "metadata": {},
   "outputs": [
    {
     "name": "stdout",
     "output_type": "stream",
     "text": [
      "[0, 2, 11]\n",
      "['kk', 'k', 'a']\n"
     ]
    }
   ],
   "source": [
    "#using dictionary and tuple\n",
    "dic={0:'kkk',11:'fff',2:'eee'}\n",
    "dic1=sorted(dic)\n",
    "print(dic1)\n",
    "tu=('kk','a','k')\n",
    "print(sorted(tu,reverse=True))"
   ]
  },
  {
   "cell_type": "code",
   "execution_count": 8,
   "id": "c2b5ae1e",
   "metadata": {},
   "outputs": [
    {
     "name": "stdout",
     "output_type": "stream",
     "text": [
      "['date', 'apple', 'banana', 'cherry', 'elderberry']\n"
     ]
    }
   ],
   "source": [
    "#how to use key argument in sorted() function\n",
    "fruits = [\"apple\", \"banana\", \"cherry\", \"date\", \"elderberry\"]\n",
    "sorted_fruits = sorted(fruits, key=len)#here if we not asssign key,it will give output as apple,banana..alphatical order\n",
    "                                       #if we want to sort elements with specific way,we can use key. here we sorted by length \n",
    "print(sorted_fruits)\n"
   ]
  },
  {
   "cell_type": "code",
   "execution_count": 21,
   "id": "b97c4240",
   "metadata": {},
   "outputs": [
    {
     "name": "stdout",
     "output_type": "stream",
     "text": [
      "[('Alice', 25), ('Bob', 22), ('Charlie', 28), ('David', 20)]\n",
      "[('David', 20), ('Bob', 22), ('Alice', 25), ('Charlie', 28)]\n",
      "Bob\n",
      "22\n"
     ]
    }
   ],
   "source": [
    "#list inside tuple\n",
    "students = [(\"Alice\", 25), (\"Bob\", 22), (\"Charlie\", 28), (\"David\", 20)]\n",
    "sorted_students = sorted(students, key=lambda x: x[1])#here we sored by their age and we can use lamda function for fetching elements as argument\n",
    "print(students)\n",
    "print(sorted_students)\n",
    "#we can fecth one element like this\n",
    "print(students[1][0])\n",
    "print(students[1][1])"
   ]
  },
  {
   "cell_type": "code",
   "execution_count": 17,
   "id": "0837702b",
   "metadata": {},
   "outputs": [
    {
     "name": "stdout",
     "output_type": "stream",
     "text": [
      "[{'name': 'David', 'age': 20}, {'name': 'Bob', 'age': 22}, {'name': 'Alice', 'age': 25}, {'name': 'Charlie', 'age': 28}]\n",
      "Alice\n"
     ]
    }
   ],
   "source": [
    "#list inside dictionary\n",
    "persons = [\n",
    "    {\"name\": \"Alice\", \"age\": 25},\n",
    "    {\"name\": \"Bob\", \"age\": 22},\n",
    "    {\"name\": \"Charlie\", \"age\": 28},\n",
    "    {\"name\": \"David\", \"age\": 20}\n",
    "]\n",
    "sorted_persons = sorted(persons, key=lambda x: x[\"age\"])#here we sorted by their age\n",
    "\n",
    "print(sorted_persons)\n",
    "#we can fetch data like this\n",
    "print(persons[0][\"name\"])"
   ]
  },
  {
   "cell_type": "code",
   "execution_count": 24,
   "id": "e71da6a9",
   "metadata": {},
   "outputs": [
    {
     "name": "stdout",
     "output_type": "stream",
     "text": [
      "[25, 22, 28, 20]\n"
     ]
    }
   ],
   "source": [
    "students = [(\"Alice\", 25), (\"Bob\", 22), (\"Charlie\", 28), (\"David\", 20)]\n",
    "c=list(map(lambda x:x[1],students))\n",
    "print(c)"
   ]
  },
  {
   "cell_type": "code",
   "execution_count": 26,
   "id": "1b49422b",
   "metadata": {},
   "outputs": [
    {
     "name": "stdout",
     "output_type": "stream",
     "text": [
      "Enter the person1 Name:karthik\n",
      "Enter the person1 age:23\n",
      "Enter the person2 Name:mani\n",
      "Enter the person2 age:24\n",
      "[('karthik', '23'), ('mani', '24')]\n"
     ]
    }
   ],
   "source": [
    "inp=input(\"Enter the person1 Name:\")\n",
    "inp2=input(\"Enter the person1 age:\")\n",
    "inp3=input(\"Enter the person2 Name:\")\n",
    "inp4=input(\"Enter the person2 age:\")\n",
    "li=[(inp,inp2),(inp3,inp4)]\n",
    "print(li)"
   ]
  },
  {
   "cell_type": "code",
   "execution_count": null,
   "id": "8fd14c73",
   "metadata": {},
   "outputs": [],
   "source": []
  }
 ],
 "metadata": {
  "kernelspec": {
   "display_name": "Python 3 (ipykernel)",
   "language": "python",
   "name": "python3"
  },
  "language_info": {
   "codemirror_mode": {
    "name": "ipython",
    "version": 3
   },
   "file_extension": ".py",
   "mimetype": "text/x-python",
   "name": "python",
   "nbconvert_exporter": "python",
   "pygments_lexer": "ipython3",
   "version": "3.10.9"
  }
 },
 "nbformat": 4,
 "nbformat_minor": 5
}
