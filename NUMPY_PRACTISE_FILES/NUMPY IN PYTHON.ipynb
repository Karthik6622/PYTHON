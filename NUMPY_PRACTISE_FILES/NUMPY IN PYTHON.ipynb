{
 "cells": [
  {
   "cell_type": "markdown",
   "id": "081aa6ff",
   "metadata": {},
   "source": [
    "# NUMPY IN PYTHON"
   ]
  },
  {
   "cell_type": "code",
   "execution_count": 1,
   "id": "f6603b1b",
   "metadata": {},
   "outputs": [
    {
     "name": "stdout",
     "output_type": "stream",
     "text": [
      "[12 56 76 44 56]\n",
      "<class 'numpy.ndarray'>\n"
     ]
    }
   ],
   "source": [
    "#numpy Array creation\n",
    "import numpy\n",
    "arr=numpy.array([12,56,76,44,56])\n",
    "print(arr)\n",
    "print(type(arr))"
   ]
  },
  {
   "cell_type": "code",
   "execution_count": 2,
   "id": "ea4190ca",
   "metadata": {},
   "outputs": [
    {
     "name": "stdout",
     "output_type": "stream",
     "text": [
      "int32\n"
     ]
    }
   ],
   "source": [
    "#dtype-it's used to find datatype of numpy array\n",
    "print(arr.dtype)"
   ]
  },
  {
   "cell_type": "code",
   "execution_count": 4,
   "id": "57de0298",
   "metadata": {},
   "outputs": [
    {
     "name": "stdout",
     "output_type": "stream",
     "text": [
      "[56.  34.  23.6 57. ]\n",
      "<class 'numpy.ndarray'>\n",
      "float64\n"
     ]
    }
   ],
   "source": [
    "#if we change one element ino float,all element will be change to float automatically\n",
    "import numpy as np\n",
    "arr1=np.array([56,34,23.6,57])\n",
    "print(arr1)\n",
    "print(type(arr1))\n",
    "print(arr1.dtype)"
   ]
  },
  {
   "cell_type": "code",
   "execution_count": 5,
   "id": "fcd745de",
   "metadata": {},
   "outputs": [
    {
     "name": "stdout",
     "output_type": "stream",
     "text": [
      "[23.+0.j 45.+0.j 66.+0.j 67.+2.j 90.+0.j]\n",
      "<class 'numpy.ndarray'>\n",
      "complex128\n"
     ]
    }
   ],
   "source": [
    "#Create Numpy array with complex values\n",
    "arr2=np.array([23,45,66,67+2j,90])\n",
    "print(arr2)\n",
    "print(type(arr2))\n",
    "print(arr2.dtype)"
   ]
  },
  {
   "cell_type": "code",
   "execution_count": 7,
   "id": "c83c3a00",
   "metadata": {},
   "outputs": [
    {
     "name": "stdout",
     "output_type": "stream",
     "text": [
      "[23.+0.j 45.+0.j 66.+0.j 67.+2.j 90.+0.j]\n",
      "(5,)\n"
     ]
    }
   ],
   "source": [
    "#shape-it is used to find how many row and columns are present in Numpy array\n",
    "print(arr2)\n",
    "print(arr2.shape)"
   ]
  },
  {
   "cell_type": "code",
   "execution_count": 13,
   "id": "6e25fb6e",
   "metadata": {},
   "outputs": [
    {
     "name": "stdout",
     "output_type": "stream",
     "text": [
      "0\n",
      "1\n",
      "2\n",
      "3\n"
     ]
    }
   ],
   "source": [
    "#ndim-it's used to find dimentional of array\n",
    "from numpy import *\n",
    "a=array(34)#\n",
    "b=array([23,45,56,78])\n",
    "c=array([[34,5667,89],[45,67,89]])\n",
    "d=array([[[33,45,43],[345,67,65],[66,23,0]]])\n",
    "print(a.ndim)\n",
    "print(b.ndim)\n",
    "print(c.ndim)\n",
    "print(d.ndim)"
   ]
  },
  {
   "cell_type": "code",
   "execution_count": 14,
   "id": "8837ef80",
   "metadata": {},
   "outputs": [
    {
     "name": "stdout",
     "output_type": "stream",
     "text": [
      "<class 'list'>\n",
      "[45 56 55 43]\n",
      "<class 'numpy.ndarray'>\n"
     ]
    }
   ],
   "source": [
    "#changing list elements to Numpy array\n",
    "list1=[45,56,55,43]\n",
    "print(type(list1))\n",
    "arr3=array(list1)\n",
    "print(arr3)\n",
    "print(type(arr3))"
   ]
  },
  {
   "cell_type": "code",
   "execution_count": 15,
   "id": "66e5a112",
   "metadata": {},
   "outputs": [
    {
     "name": "stdout",
     "output_type": "stream",
     "text": [
      "['karthik' 'mani' 'ttth']\n",
      "<class 'numpy.ndarray'>\n",
      "<U7\n"
     ]
    }
   ],
   "source": [
    "#create Numpy array with string\n",
    "arr4=array(['karthik','mani','ttth'])\n",
    "print(arr4)\n",
    "print(type(arr4))\n",
    "print(arr4.dtype)"
   ]
  },
  {
   "cell_type": "code",
   "execution_count": 19,
   "id": "56e1b244",
   "metadata": {},
   "outputs": [
    {
     "name": "stdout",
     "output_type": "stream",
     "text": [
      "3\n",
      "[56.  34.  23.6 57. ]\n",
      "8\n"
     ]
    }
   ],
   "source": [
    "#size-it's going to find how much elements are present in Numpy array\n",
    "#itemsize-it's going to find Byte size of array\n",
    "print(arr4.size)\n",
    "print(arr1)\n",
    "print(arr1.itemsize)"
   ]
  },
  {
   "cell_type": "code",
   "execution_count": 26,
   "id": "d8840405",
   "metadata": {},
   "outputs": [
    {
     "name": "stdout",
     "output_type": "stream",
     "text": [
      "[  45.   6767.89]\n",
      "['k' 'karthki' 'frv']\n",
      "[34 56 21 23]\n",
      "[34.6+0.j 56. +0.j 21. +0.j 23.6+0.j]\n"
     ]
    }
   ],
   "source": [
    "#dtype declaration while creating numpyarray\n",
    "arr5=array([45.0,6767.89],dtype=\"float\")\n",
    "print(arr5)\n",
    "arr6=array([\"k\",\"karthki\",\"frv\"],dtype=\"str\")\n",
    "print(arr6)\n",
    "arr7=array([34.6,56,21,23.6],dtype=\"int\")#using this we can change the Datatype of element as we specified\n",
    "print(arr7)\n",
    "arr7=array([34.6,56,21,23.6],dtype=\"complex\")\n",
    "print(arr7)"
   ]
  },
  {
   "cell_type": "code",
   "execution_count": 28,
   "id": "9b2dc377",
   "metadata": {},
   "outputs": [
    {
     "name": "stdout",
     "output_type": "stream",
     "text": [
      "[0 1 2 3 4 5 6 7 8 9]\n",
      "<class 'numpy.ndarray'>\n",
      "int32\n"
     ]
    }
   ],
   "source": [
    "#arange-using arange function we can give value till we need\n",
    "import numpy as np\n",
    "ar1=np.arange(10)\n",
    "print(ar1)\n",
    "print(type(ar1))\n",
    "print(ar1.dtype)"
   ]
  },
  {
   "cell_type": "code",
   "execution_count": 29,
   "id": "fe2efe9d",
   "metadata": {},
   "outputs": [
    {
     "ename": "AttributeError",
     "evalue": "'numpy.ndarray' object has no attribute 'append'",
     "output_type": "error",
     "traceback": [
      "\u001b[1;31m---------------------------------------------------------------------------\u001b[0m",
      "\u001b[1;31mAttributeError\u001b[0m                            Traceback (most recent call last)",
      "Cell \u001b[1;32mIn[29], line 2\u001b[0m\n\u001b[0;32m      1\u001b[0m \u001b[38;5;66;03m#append-using append we can add one or morethan one value into numpy array\u001b[39;00m\n\u001b[1;32m----> 2\u001b[0m \u001b[43mar1\u001b[49m\u001b[38;5;241;43m.\u001b[39;49m\u001b[43mappend\u001b[49m(\u001b[38;5;241m78\u001b[39m)\n",
      "\u001b[1;31mAttributeError\u001b[0m: 'numpy.ndarray' object has no attribute 'append'"
     ]
    }
   ],
   "source": [
    "#append-using append we can add one or morethan one value into numpy array\n",
    "ar1.append(78)#here wecan not add like list in python"
   ]
  },
  {
   "cell_type": "code",
   "execution_count": 33,
   "id": "028e58c6",
   "metadata": {},
   "outputs": [
    {
     "name": "stdout",
     "output_type": "stream",
     "text": [
      "[0 1 2 3 4 5 6 7 8 9]\n",
      "[0 1 2 3 4 5 6 7 8 9]\n"
     ]
    }
   ],
   "source": [
    "#append-here we need to use numpy module and we should use variable to store additioanl element\n",
    "print(ar1)\n",
    "np.append(ar1,10)#if we not create variable,value not be add\n",
    "print(ar1)"
   ]
  },
  {
   "cell_type": "code",
   "execution_count": 35,
   "id": "c6c62559",
   "metadata": {},
   "outputs": [
    {
     "name": "stdout",
     "output_type": "stream",
     "text": [
      "[0 1 2 3 4 5 6 7 8 9]\n",
      "[ 0  1  2  3  4  5  6  7  8  9 10] <class 'numpy.ndarray'>\n"
     ]
    }
   ],
   "source": [
    "#append-here we need to use numpy module and we should use variable to store additioanl element\n",
    "print(ar1)\n",
    "new_element=np.append(ar1,10)#used new variable to add the element\n",
    "print(new_element,type(new_element))"
   ]
  },
  {
   "cell_type": "code",
   "execution_count": 37,
   "id": "a551419e",
   "metadata": {},
   "outputs": [
    {
     "name": "stdout",
     "output_type": "stream",
     "text": [
      "[ 0  1  2  3  4  5  6  7  8  9 10]\n",
      "[ 0  1  2  3  4  5  6  7  8  9 10 11 12 13] <class 'numpy.ndarray'>\n"
     ]
    }
   ],
   "source": [
    "#using append adding more than one value\n",
    "print(new_element)\n",
    "new_element1=np.append(new_element,[11,12,13])\n",
    "print(new_element1,type(new_element1))"
   ]
  },
  {
   "cell_type": "code",
   "execution_count": 39,
   "id": "21977203",
   "metadata": {},
   "outputs": [
    {
     "name": "stdout",
     "output_type": "stream",
     "text": [
      "[0 1 2 3 4 5 6 7 8 9]\n",
      "[11  1  2  3  4 55  6  7  8  9]\n"
     ]
    }
   ],
   "source": [
    "#Replacing element in numpy array\n",
    "print(ar1)\n",
    "ar1[0]=11\n",
    "ar1[5]=55\n",
    "print(ar1)"
   ]
  },
  {
   "cell_type": "code",
   "execution_count": 41,
   "id": "ed9264d4",
   "metadata": {},
   "outputs": [
    {
     "name": "stdout",
     "output_type": "stream",
     "text": [
      "[11  1  2  3  4 55  6  7  8  9]\n",
      "[11  1  2  3  4 55  6  7  8  9]\n",
      "****************************************************************************************************\n",
      "[11  1  2  3  4 55  6  7  8  9]\n",
      "[11 22  1  2  3  4 55  6  7  8  9]\n"
     ]
    }
   ],
   "source": [
    "#insert-it is used to insert one element specific place into numpy array\n",
    "print(ar1)\n",
    "np.insert(ar1,1,22)#here also we need to use variable to add element\n",
    "print(ar1)\n",
    "print('*'*100)\n",
    "print(ar1)\n",
    "new_element2=np.insert(ar1,1,22)\n",
    "print(new_element2)"
   ]
  },
  {
   "cell_type": "code",
   "execution_count": 43,
   "id": "19963c79",
   "metadata": {},
   "outputs": [
    {
     "name": "stdout",
     "output_type": "stream",
     "text": [
      "[11  1  2  3  4 55  6  7  8  9]\n",
      "2\n",
      "[ 1  2  3  4 55  6  7  8  9]\n",
      "[6 7 8 9]\n",
      "[ 9  8  7  6 55  4  3  2  1 11]\n"
     ]
    }
   ],
   "source": [
    "#how to access Numpy Array elements using id\n",
    "#slicing-fetch array element from where to where we want\n",
    "print(ar1)\n",
    "print(ar1[2])\n",
    "print(ar1[1:])\n",
    "print(ar1[-4:])\n",
    "print(ar1[::-1])"
   ]
  },
  {
   "cell_type": "code",
   "execution_count": 46,
   "id": "3982adb5",
   "metadata": {},
   "outputs": [
    {
     "name": "stdout",
     "output_type": "stream",
     "text": [
      "[11  1  2  3  4 55  6  7  8  9]\n",
      "106\n",
      "55\n",
      "1\n"
     ]
    }
   ],
   "source": [
    "#Array Value Operation\n",
    "print(ar1)\n",
    "#sum-to find Total Value of Array elements\n",
    "#max-To find Biggest value from Array Elements\n",
    "#min-To find smallest value from Array Elements\n",
    "print(ar1.sum())\n",
    "print(ar1.max())\n",
    "print(ar1.min())"
   ]
  },
  {
   "cell_type": "code",
   "execution_count": 86,
   "id": "656a8e43",
   "metadata": {},
   "outputs": [
    {
     "name": "stdout",
     "output_type": "stream",
     "text": [
      "[11  1  2  3  4 55  6  7  8  9]\n",
      "[3.31662479 1.         1.41421356 1.73205081 2.         7.41619849\n",
      " 2.44948974 2.64575131 2.82842712 3.        ]\n",
      "10.6\n",
      "6.5\n",
      "15.107613974417006\n",
      "[5.98741417e+04 2.71828183e+00 7.38905610e+00 2.00855369e+01\n",
      " 5.45981500e+01 7.69478527e+23 4.03428793e+02 1.09663316e+03\n",
      " 2.98095799e+03 8.10308393e+03]\n"
     ]
    }
   ],
   "source": [
    "#Statiscal Operation\n",
    "print(ar1)\n",
    "#sqrt-what number multiplied by itself will equal to under the root of the number\n",
    "#mean-Add all array elements and divide by no.of elemnts\n",
    "#median-it will sorted center element .if center element is odd means,it add center element and next elemnt divide by 2.if center element is even,same number come as output\n",
    "#std-\n",
    "#exp-\n",
    "print(np.sqrt(ar1))#defaulty it will give float format\n",
    "print(np.mean(ar1))#defaulty it will give float format\n",
    "print(np.median(ar1))#defaulty it will give float format\n",
    "print(np.std(ar1))#defaulty it will give float format\n",
    "print(np.exp(ar1))#defaulty it will give float format"
   ]
  },
  {
   "cell_type": "code",
   "execution_count": 84,
   "id": "25160c3a",
   "metadata": {},
   "outputs": [
    {
     "name": "stdout",
     "output_type": "stream",
     "text": [
      "[11  1  2  3  4 55  6  7  8  9]\n",
      "[ 1  2  3  4  6  7  8  9 11 55]\n"
     ]
    }
   ],
   "source": [
    "#sort-It is used to sort the elements to accending order\n",
    "print(ar1)\n",
    "print(np.sort(ar1))\n"
   ]
  },
  {
   "cell_type": "code",
   "execution_count": 94,
   "id": "fe360b6b",
   "metadata": {},
   "outputs": [
    {
     "name": "stdout",
     "output_type": "stream",
     "text": [
      "[6 7 8 9]\n",
      "[1 2 3 4]\n",
      "Addition: [ 7  9 11 13]\n",
      "Subtraction: [5 5 5 5]\n",
      "Multiplication: [ 6 14 24 36]\n",
      "Division: [6.         3.5        2.66666667 2.25      ]\n",
      "FloorDivision: [6 3 2 2]\n",
      "Remainder: [0 1 2 1]\n",
      "Expotential [   6   49  512 6561]\n"
     ]
    }
   ],
   "source": [
    "#Arithemetic operations-using Arithemetic operatrs we can do add or sub or multiply or any other arithemetic operation with two arrays\n",
    "ar2=np.arange(6,10)\n",
    "ar3=np.arange(1,5)\n",
    "ar4=np.arange(5,10)\n",
    "print(ar2)\n",
    "print(ar3)\n",
    "print(\"Addition:\",ar2+ar3)\n",
    "print(\"Subtraction:\",ar2-ar3)\n",
    "print(\"Multiplication:\",ar2*ar3)\n",
    "print(\"Division:\",ar2/ar3)\n",
    "print(\"FloorDivision:\",ar2//ar3)\n",
    "print(\"Remainder:\",ar2%ar3)\n",
    "print(\"Expotential\",ar2**ar3)"
   ]
  },
  {
   "cell_type": "code",
   "execution_count": 97,
   "id": "e6868faf",
   "metadata": {},
   "outputs": [
    {
     "name": "stdout",
     "output_type": "stream",
     "text": [
      "[0. 0. 0. 0. 0.]\n",
      "float64\n",
      "[1 1 1 1 1 1 1]\n",
      "int32\n",
      "<class 'numpy.ndarray'>\n"
     ]
    }
   ],
   "source": [
    "#zeros-eros package is used to add only Zero's in array.defaultly it will give float value\n",
    "#ones-ones package is used to add only one's in array.defaultly it will give float value\n",
    "#except Zero and one we can't add any other numbers like this\n",
    "zeros=np.zeros(5)\n",
    "ones=np.ones(7,dtype=\"int\")\n",
    "print(zeros)\n",
    "print(zeros.dtype)\n",
    "print(ones)\n",
    "print(ones.dtype)\n",
    "print(type(ones))"
   ]
  },
  {
   "cell_type": "code",
   "execution_count": 102,
   "id": "e0beca0a",
   "metadata": {},
   "outputs": [
    {
     "name": "stdout",
     "output_type": "stream",
     "text": [
      "[0. 0. 0. 0. 0.]\n",
      "float64\n",
      "**************************************************\n",
      "[0.+0.j 0.+0.j 0.+0.j 0.+0.j 0.+0.j]\n",
      "[0 0 0 0 0]\n"
     ]
    }
   ],
   "source": [
    "#astype-using this we can convert numpy array elements one datatype to another datatype\n",
    "print(zeros)\n",
    "print(zeros.dtype)\n",
    "print('*'*50)\n",
    "print(zeros.astype(\"complex\"))\n",
    "zeros2=zeros.astype(\"int\")\n",
    "print(zeros2)"
   ]
  },
  {
   "cell_type": "code",
   "execution_count": 113,
   "id": "29b0db9c",
   "metadata": {},
   "outputs": [
    {
     "name": "stdout",
     "output_type": "stream",
     "text": [
      "[[1. 0. 0. 0. 0. 0. 0. 0.]\n",
      " [0. 1. 0. 0. 0. 0. 0. 0.]\n",
      " [0. 0. 1. 0. 0. 0. 0. 0.]\n",
      " [0. 0. 0. 1. 0. 0. 0. 0.]\n",
      " [0. 0. 0. 0. 1. 0. 0. 0.]\n",
      " [0. 0. 0. 0. 0. 1. 0. 0.]\n",
      " [0. 0. 0. 0. 0. 0. 1. 0.]\n",
      " [0. 0. 0. 0. 0. 0. 0. 1.]]\n",
      "2\n",
      "[[1.]]\n",
      "2\n"
     ]
    }
   ],
   "source": [
    "#eye-this function used to crate 2d array and columns and rows by we given value\n",
    "ar4=np.eye(8)\n",
    "ar5=np.eye(1)\n",
    "print(ar4)\n",
    "print(ar4.ndim)\n",
    "print(ar5)\n",
    "print(ar5.ndim)"
   ]
  },
  {
   "cell_type": "code",
   "execution_count": 128,
   "id": "0b71cafa",
   "metadata": {},
   "outputs": [
    {
     "name": "stdout",
     "output_type": "stream",
     "text": [
      "[[1 2 3 4 9]\n",
      " [8 9 0 7 9]]\n",
      "int32\n",
      "2\n",
      "(2, 5)\n",
      "10\n",
      "4\n"
     ]
    }
   ],
   "source": [
    "#Creation of 2-dimensional array\n",
    "arr_2d=np.array([[1,2,3,4,9],[8,9,0,7,9]])\n",
    "print(arr_2d)\n",
    "print(arr_2d.dtype)\n",
    "print(arr_2d.ndim)\n",
    "print(arr_2d.shape)#it will give row and colum of array\n",
    "print(arr_2d.size)#it give output as total size of element in array\n",
    "print(arr_2d.itemsize)#it give every array elements byte size"
   ]
  },
  {
   "cell_type": "code",
   "execution_count": 122,
   "id": "a0242d83",
   "metadata": {},
   "outputs": [
    {
     "name": "stdout",
     "output_type": "stream",
     "text": [
      "[[ 0  1  2  3]\n",
      " [ 4  5  6  7]\n",
      " [ 8  9 10 11]]\n",
      "[[ 0  1]\n",
      " [ 2  3]\n",
      " [ 4  5]\n",
      " [ 6  7]\n",
      " [ 8  9]\n",
      " [10 11]]\n",
      "[[ 0  1  2]\n",
      " [ 3  4  5]\n",
      " [ 6  7  8]\n",
      " [ 9 10 11]]\n"
     ]
    },
    {
     "ename": "ValueError",
     "evalue": "cannot reshape array of size 12 into shape (6,6)",
     "output_type": "error",
     "traceback": [
      "\u001b[1;31m---------------------------------------------------------------------------\u001b[0m",
      "\u001b[1;31mValueError\u001b[0m                                Traceback (most recent call last)",
      "Cell \u001b[1;32mIn[122], line 8\u001b[0m\n\u001b[0;32m      6\u001b[0m arr_rs2\u001b[38;5;241m=\u001b[39marr_rs\u001b[38;5;241m.\u001b[39mreshape(\u001b[38;5;241m4\u001b[39m,\u001b[38;5;241m3\u001b[39m)\n\u001b[0;32m      7\u001b[0m \u001b[38;5;28mprint\u001b[39m(arr_rs2)\n\u001b[1;32m----> 8\u001b[0m \u001b[38;5;28mprint\u001b[39m(\u001b[43marr_rs\u001b[49m\u001b[38;5;241;43m.\u001b[39;49m\u001b[43mreshape\u001b[49m\u001b[43m(\u001b[49m\u001b[38;5;241;43m6\u001b[39;49m\u001b[43m,\u001b[49m\u001b[38;5;241;43m6\u001b[39;49m\u001b[43m)\u001b[49m)\n",
      "\u001b[1;31mValueError\u001b[0m: cannot reshape array of size 12 into shape (6,6)"
     ]
    }
   ],
   "source": [
    "#reshape and resize\n",
    "#reshape-is used to create  how much rows and columns we need to create array\n",
    "arr_rs=np.arange(12).reshape(3,4)#here we can give only which are the numbers multiply are equal to 12\n",
    "print(arr_rs)\n",
    "print(arr_rs.reshape(6,2))\n",
    "arr_rs2=arr_rs.reshape(4,3)\n",
    "print(arr_rs2)\n",
    "print(arr_rs.reshape(6,6))#if we give more than 12, it will throw the error\n"
   ]
  },
  {
   "cell_type": "code",
   "execution_count": 131,
   "id": "a4c7ae9c",
   "metadata": {},
   "outputs": [
    {
     "name": "stdout",
     "output_type": "stream",
     "text": [
      "[[34 67 77 56 78 90]\n",
      " [34 67 77 56 78 90]\n",
      " [34 67 77 56 78 90]]\n",
      "**************************************************\n",
      "[[34 67 77]\n",
      " [56 78 90]]\n",
      "[[34 67 77 56 78 90]\n",
      " [34 67 77 56 78 90]]\n"
     ]
    }
   ],
   "source": [
    "#resize -is help to fill the same values untill we met our mentioned dimention\n",
    "arr_rs3=np.array([[34,67,77],[56,78,90]])\n",
    "arr_rs4=np.resize(arr_rs3,(3,6))\n",
    "print(arr_rs4)\n",
    "print('*'*50)\n",
    "print(arr_rs3)\n",
    "print(np.resize(arr_rs3,(2,6)))"
   ]
  },
  {
   "cell_type": "code",
   "execution_count": 149,
   "id": "1ea69ba7",
   "metadata": {},
   "outputs": [
    {
     "name": "stdout",
     "output_type": "stream",
     "text": [
      "[[ 0  1  2]\n",
      " [ 3  4  5]\n",
      " [ 6  7  8]\n",
      " [ 9 10 11]] Dimention: 2\n"
     ]
    }
   ],
   "source": [
    "#creating a array to play on\n",
    "from numpy import *\n",
    "d_array=arange(12).reshape(4,3)\n",
    "print(d_array,\"Dimention:\",d_array.ndim)"
   ]
  },
  {
   "cell_type": "code",
   "execution_count": 163,
   "id": "1d567696",
   "metadata": {},
   "outputs": [
    {
     "name": "stdout",
     "output_type": "stream",
     "text": [
      "66\n",
      "**************************************************\n",
      "[18 22 26]\n",
      "**************************************************\n",
      "[ 3 12 21 30]\n",
      "**************************************************\n",
      "11\n"
     ]
    }
   ],
   "source": [
    "#sum-find the sum of 2d array\n",
    "#sum of all elements of an array\n",
    "print(d_array.sum())#if we give sum,it will give whole elements sum value\n",
    "print('*'*50)\n",
    "#Sum along the row\n",
    "print(d_array.sum(axis=0))#if we give sum(axis=0),it will give all row elements sum value\n",
    "print('*'*50)\n",
    "#sum along the column\n",
    "print(d_array.sum(axis=1))#if we give sum(axis=1),it will give all column elements sum value\n",
    "print('*'*50)\n"
   ]
  },
  {
   "cell_type": "code",
   "execution_count": 167,
   "id": "25e67095",
   "metadata": {},
   "outputs": [
    {
     "name": "stdout",
     "output_type": "stream",
     "text": [
      "[[ 0  1  2]\n",
      " [ 3  4  5]\n",
      " [ 6  7  8]\n",
      " [ 9 10 11]]\n",
      "**************************************************\n",
      "11\n",
      "Index poition: 11\n",
      "**************************************************\n",
      "[ 9 10 11]\n",
      "Index poition: [3 3 3]\n",
      "**************************************************\n",
      "[ 2  5  8 11]\n",
      "Index poition: [2 2 2 2]\n",
      "**************************************************\n",
      "0\n",
      "Index poition: 0\n",
      "**************************************************\n",
      "[0 1 2]\n",
      "Index poition: [0 0 0]\n",
      "**************************************************\n",
      "[0 3 6 9]\n",
      "Index poition: [2 2 2 2]\n",
      "**************************************************\n"
     ]
    }
   ],
   "source": [
    "#Get Max and Min from 2d array\n",
    "'''here |-row,--=column'''\n",
    "print(d_array)\n",
    "#max-find the maximum value from the array\n",
    "#argmax-it's give Max or min element index position\n",
    "print(\"*\"*50)\n",
    "print(d_array.max())#if we give max(),it will check all elements to find a max value\n",
    "print(\"Index poition:\",d_array.argmax())\n",
    "print(\"*\"*50)\n",
    "print(d_array.max(axis=0))#if we give max(axis=0),it will check each row elements to find a max value from each row\n",
    "print(\"Index poition:\",d_array.argmax(axis=0))\n",
    "print(\"*\"*50)\n",
    "print(d_array.max(axis=1))#if we give max(axis=1),it will check each column elements to find a max value from each column\n",
    "print(\"Index poition:\",d_array.argmax(axis=1))\n",
    "print(\"*\"*50)\n",
    "print(d_array.min())#if we give min(),it will check all elements to find a min value\n",
    "print(\"Index poition:\",d_array.argmin())\n",
    "print(\"*\"*50)\n",
    "print(d_array.min(axis=0))#if we give min(axis=0),it will check each row elements to find a min value from each row\n",
    "print(\"Index poition:\",d_array.argmin(axis=0))\n",
    "print(\"*\"*50)\n",
    "print(d_array.min(axis=1))#if we give min(axis=1),it will check each column elements to find a min value from each column\n",
    "print(\"Index poition:\",d_array.argmax(axis=1))\n",
    "print(\"*\"*50)"
   ]
  },
  {
   "cell_type": "code",
   "execution_count": null,
   "id": "b3f51aa2",
   "metadata": {},
   "outputs": [],
   "source": []
  },
  {
   "cell_type": "code",
   "execution_count": 169,
   "id": "cdf687c7",
   "metadata": {},
   "outputs": [
    {
     "name": "stdout",
     "output_type": "stream",
     "text": [
      "[1 2 3 4 5]\n",
      "2.0\n",
      "1.4142135623730951\n"
     ]
    }
   ],
   "source": [
    "#some satistical function\n",
    "#var-\n",
    "#std-\n",
    "sa_arr=arange(1,6)\n",
    "print(sa_arr)\n",
    "print(sa_arr.var())#varience\n",
    "print(sa_arr.std())#standared deviation"
   ]
  },
  {
   "cell_type": "code",
   "execution_count": 179,
   "id": "a043ef25",
   "metadata": {},
   "outputs": [
    {
     "name": "stdout",
     "output_type": "stream",
     "text": [
      "[[ 0  1  2  3]\n",
      " [ 4  5  6  7]\n",
      " [ 8  9 10 11]\n",
      " [12 13 14 15]]\n",
      "**************************************************\n",
      "[0 1 2 3]\n",
      "5\n",
      "14\n",
      "**************************************************\n",
      "[[ 4  5  6  7]\n",
      " [ 8  9 10 11]\n",
      " [12 13 14 15]]\n",
      "**************************************************\n",
      "[[ 5  6  7]\n",
      " [ 9 10 11]\n",
      " [13 14 15]]\n",
      "**************************************************\n",
      "[[0 1 2]\n",
      " [4 5 6]]\n"
     ]
    }
   ],
   "source": [
    "#numpy array Indexing and selection and slicing\n",
    "#here we are going to fetch array element using index positions\n",
    "ind_arr=arange(16).reshape(4,4)\n",
    "print(ind_arr)\n",
    "print(\"*\"*50)\n",
    "print(ind_arr[0])#if we give 0 position , it will give all 0 position row elements#[0]-row\n",
    "print(ind_arr[1][1])#if we want to fetch specific one element means,we can use row and column#[1]-row,[1]-column\n",
    "print(ind_arr[3][2])#[3]-row,[2]-column\n",
    "print(\"*\"*50)\n",
    "#slicing-used to display elements where to where to we want\n",
    "print(ind_arr[1:])#displaying all elements from 1 st row\n",
    "print(\"*\"*50)\n",
    "print(ind_arr[1:,1:])\n",
    "print(\"*\"*50)\n",
    "print(ind_arr[:2,:3])"
   ]
  },
  {
   "cell_type": "code",
   "execution_count": 190,
   "id": "a216c15c",
   "metadata": {},
   "outputs": [
    {
     "name": "stdout",
     "output_type": "stream",
     "text": [
      "[1 2 3 4 5]\n",
      "**************************************************\n",
      "[9 9 9 4 5]\n",
      "**************************************************\n",
      "[9 9 9] <class 'numpy.ndarray'>\n",
      "[4 5]\n",
      "**************************************************\n",
      "[55 55 55]\n",
      "**************************************************\n",
      "[55 55 55  4  5]\n"
     ]
    }
   ],
   "source": [
    "#changing the value of array as our wish\n",
    "cha_arr=arange(1,6)\n",
    "print(cha_arr)\n",
    "print('*'*50)\n",
    "cha_arr[0:3]=9#changing index position 0 to 3 all values 9\n",
    "print(cha_arr)\n",
    "print('*'*50)\n",
    "# creating array with fetching values from another array\n",
    "par=cha_arr[0:3]\n",
    "print(par,type(par))\n",
    "par2=cha_arr[3:5]\n",
    "print(par2)\n",
    "print('*'*50)\n",
    "par[:]=55#[:]-means all element\n",
    "print(par)\n",
    "print('*'*50)\n",
    "print(cha_arr)\n"
   ]
  },
  {
   "cell_type": "code",
   "execution_count": 206,
   "id": "c76dbf92",
   "metadata": {},
   "outputs": [
    {
     "name": "stdout",
     "output_type": "stream",
     "text": [
      "[[1 2 3]\n",
      " [4 5 6]\n",
      " [7 8 9]]\n",
      "**************************************************\n",
      "[[1 2 3]\n",
      " [4 5 6]]\n",
      "**************************************************\n",
      "[[1 2 3]\n",
      " [4 5 6]\n",
      " [7 8 9]]\n",
      "[[11 11 11]\n",
      " [11 11 11]\n",
      " [11 11 11]]\n",
      "**************************************************\n",
      "[[1 2 3]\n",
      " [4 5 6]\n",
      " [7 8 9]]\n"
     ]
    }
   ],
   "source": [
    "#it is always safer to work on the copy of an original aray unless we really want to modify the original array\n",
    "#copy-it is used to copy the original array elements\n",
    "co_arr=arange(1,10).reshape(3,3)\n",
    "print(co_arr)\n",
    "print(\"*\"*50)\n",
    "copy_arr2=co_arr[0:2,:3].copy()\n",
    "print(copy_arr2)\n",
    "print(\"*\"*50)\n",
    "copy_arr=co_arr.copy()\n",
    "print(copy_arr)\n",
    "copy_arr[:]=11\n",
    "print(copy_arr)\n",
    "print(\"*\"*50)\n",
    "print(co_arr)\n"
   ]
  },
  {
   "cell_type": "code",
   "execution_count": 213,
   "id": "dc28cbe8",
   "metadata": {},
   "outputs": [
    {
     "name": "stdout",
     "output_type": "stream",
     "text": [
      "[  23   56 4322  453    2    1   12]\n",
      "**************************************************\n",
      "**************************************************\n",
      "[False False  True  True False False False]\n",
      "[4322  453]\n"
     ]
    }
   ],
   "source": [
    "#selection-It is used to select the array elements using logical conditions\n",
    "aa=array([23,56,4322,453,2,1,12],dtype=\"int\")\n",
    "print(aa)\n",
    "print('*'*50)\n",
    "#fething more than 100 elements using condition\n",
    "aa>100#[false(23>100),false(56>100),true(4322>100),True(453>100),False(2>100),False(1>100),False(12>100)]\n",
    "print('*'*50)\n",
    "#how to fetch elements which are more than 100 elements(Not True or false value)\n",
    "fetch=aa>100\n",
    "print(fetch)\n",
    "print(aa[fetch])#if we we declare like this,it give only true values"
   ]
  },
  {
   "cell_type": "code",
   "execution_count": null,
   "id": "b196ef2f",
   "metadata": {},
   "outputs": [],
   "source": []
  },
  {
   "cell_type": "code",
   "execution_count": 136,
   "id": "9907653d",
   "metadata": {},
   "outputs": [
    {
     "name": "stdout",
     "output_type": "stream",
     "text": [
      "[[[1 2 3]]]\n",
      "3\n",
      "[[[ 1  2  3]\n",
      "  [ 3 45  6]\n",
      "  [55 56  8]]]\n",
      "3\n"
     ]
    }
   ],
   "source": [
    "#inside the 2d array one more array is called as 3d array\n",
    "arrr=np.array([[[1,2,3]]])\n",
    "print(arrr)\n",
    "print(arrr.ndim)\n",
    "arrrr=np.array([[[1,2,3],[3,45,6],[55,56,8]]])\n",
    "print(arrrr)\n",
    "print(arrrr.ndim)"
   ]
  },
  {
   "cell_type": "code",
   "execution_count": 214,
   "id": "3d435e7b",
   "metadata": {},
   "outputs": [
    {
     "name": "stdout",
     "output_type": "stream",
     "text": [
      "[[[[1 2 3]]]]\n",
      "4\n"
     ]
    }
   ],
   "source": [
    "#inside the 3d array one more array is called as 4d array\n",
    "arrrr1=np.array([[[[1,2,3]]]])\n",
    "print(arrrr1)\n",
    "print(arrrr1.ndim)"
   ]
  },
  {
   "cell_type": "code",
   "execution_count": 89,
   "id": "80725d1f",
   "metadata": {},
   "outputs": [
    {
     "data": {
      "text/plain": [
       "array([0.72996447, 0.10873607, 0.89390417, 0.85715425, 0.16508662,\n",
       "       0.63233401, 0.02048361, 0.11673727, 0.31636731, 0.15791231])"
      ]
     },
     "execution_count": 89,
     "metadata": {},
     "output_type": "execute_result"
    }
   ],
   "source": [
    "#creating array with random\n",
    "import numpy.random as np\n",
    "np.random(10)#it's created 10 random numbers from 0 to 1\n"
   ]
  },
  {
   "cell_type": "code",
   "execution_count": 91,
   "id": "795a370c",
   "metadata": {},
   "outputs": [
    {
     "data": {
      "text/plain": [
       "array([0.18026969, 0.01947524, 0.46321853, 0.72493393, 0.4202036 ,\n",
       "       0.4854271 , 0.01278081, 0.48737161, 0.94180665, 0.85079509])"
      ]
     },
     "execution_count": 91,
     "metadata": {},
     "output_type": "execute_result"
    }
   ],
   "source": [
    "#seed(random seed)-if every time run random value,it will change,by using seed we can stop changing random values every run\n",
    "np.seed(11)#inside value is optional number we can give any value\n",
    "np.random(10)"
   ]
  },
  {
   "cell_type": "code",
   "execution_count": 10,
   "id": "d9b8d4e6",
   "metadata": {},
   "outputs": [
    {
     "name": "stdout",
     "output_type": "stream",
     "text": [
      "[0.69701955 0.34713549 0.15499692 0.62724321 0.1081592 ]\n"
     ]
    }
   ],
   "source": [
    "nn=np.random(5)\n",
    "print(nn)\n",
    "#n=np.random(1,3,4)#we can not give value like this\n",
    "#print(n)"
   ]
  },
  {
   "cell_type": "code",
   "execution_count": 13,
   "id": "c19c947a",
   "metadata": {},
   "outputs": [
    {
     "name": "stdout",
     "output_type": "stream",
     "text": [
      "[[ 0.1548027  -1.27669894 -0.7937275 ]\n",
      " [-0.90522501 -1.10408098 -0.34869934]\n",
      " [-0.24616903 -0.87887746 -1.44246514]]\n",
      "<class 'numpy.ndarray'>\n",
      "2\n"
     ]
    }
   ],
   "source": [
    "#randn-it will give the positive and negative floating point random value from 0 to 1\n",
    "randn_arr=np.randn(9).reshape(3,3)\n",
    "print(randn_arr)\n",
    "print(type(randn_arr))\n",
    "print(randn_arr.ndim)"
   ]
  },
  {
   "cell_type": "code",
   "execution_count": 14,
   "id": "74c27a39",
   "metadata": {},
   "outputs": [
    {
     "name": "stdout",
     "output_type": "stream",
     "text": [
      "[[-1.27669894 -0.7937275   0.1548027 ]\n",
      " [-1.10408098 -0.90522501 -0.34869934]\n",
      " [-1.44246514 -0.87887746 -0.24616903]]\n"
     ]
    }
   ],
   "source": [
    "#sort-It's going to sort array elements in Accending order\n",
    "randn_arr.sort()#if we not given any axis anything means,it sort all elements\n",
    "print(randn_arr)"
   ]
  },
  {
   "cell_type": "code",
   "execution_count": 15,
   "id": "5093fad7",
   "metadata": {},
   "outputs": [
    {
     "name": "stdout",
     "output_type": "stream",
     "text": [
      "[[-1.44246514 -0.90522501 -0.34869934]\n",
      " [-1.27669894 -0.87887746 -0.24616903]\n",
      " [-1.10408098 -0.7937275   0.1548027 ]]\n"
     ]
    }
   ],
   "source": [
    "#sort(axis=0)-it will chane every row as a Accending order\n",
    "randn_arr.sort(axis=0)\n",
    "print(randn_arr)"
   ]
  },
  {
   "cell_type": "code",
   "execution_count": 16,
   "id": "57593f55",
   "metadata": {},
   "outputs": [
    {
     "name": "stdout",
     "output_type": "stream",
     "text": [
      "[[-1.44246514 -0.90522501 -0.34869934]\n",
      " [-1.27669894 -0.87887746 -0.24616903]\n",
      " [-1.10408098 -0.7937275   0.1548027 ]]\n"
     ]
    }
   ],
   "source": [
    "#sort(axis=1)-it will chane every column as a Accending order\n",
    "randn_arr.sort(axis=1)\n",
    "print(randn_arr)"
   ]
  },
  {
   "cell_type": "code",
   "execution_count": 17,
   "id": "37df3681",
   "metadata": {},
   "outputs": [
    {
     "data": {
      "text/plain": [
       "array([2, 4, 4, 1, 1, 2, 4, 2])"
      ]
     },
     "execution_count": 17,
     "metadata": {},
     "output_type": "execute_result"
    }
   ],
   "source": [
    "#randint-it generates random integers with in a specified range.it takes the lower and upper bounds as well as the dimensions of the output as Arguments\n",
    "np.randint(1,5,8)#1-starting value,5-Ending value,8-No of elements"
   ]
  },
  {
   "cell_type": "code",
   "execution_count": 18,
   "id": "6fd693e3",
   "metadata": {},
   "outputs": [
    {
     "name": "stdout",
     "output_type": "stream",
     "text": [
      "[[11 12 13 10]\n",
      " [10 11 12 14]\n",
      " [12 12 10 13]]\n"
     ]
    }
   ],
   "source": [
    "#Generate 2-d array of Shape (3,4) with random integers\n",
    "ran_2d=np.randint(10,15,(3,4))#it's created 2-d array with random numbers as we given dimention\n",
    "print(ran_2d)"
   ]
  },
  {
   "cell_type": "code",
   "execution_count": 20,
   "id": "a84f06b7",
   "metadata": {},
   "outputs": [
    {
     "data": {
      "text/plain": [
       "array([0.8406589 , 0.93719639, 0.98375968, 0.88466607, 0.9319849 ,\n",
       "       0.6772331 , 0.10959231, 0.89322895, 0.19394196, 0.79508273,\n",
       "       0.11041894, 0.24724478, 0.43342155, 0.18898907, 0.76194135])"
      ]
     },
     "execution_count": 20,
     "metadata": {},
     "output_type": "execute_result"
    }
   ],
   "source": [
    "#rand-it's like a random module to generate random numbers from 0 to 1\n",
    "np.rand(15)"
   ]
  },
  {
   "cell_type": "code",
   "execution_count": 26,
   "id": "56ea28fa",
   "metadata": {},
   "outputs": [
    {
     "data": {
      "text/plain": [
       "array([[0.69883535, 0.31667955, 0.99866098],\n",
       "       [0.56941727, 0.06124513, 0.02628768],\n",
       "       [0.68508774, 0.66124916, 0.71996215],\n",
       "       [0.44624133, 0.91722889, 0.3003879 ]])"
      ]
     },
     "execution_count": 26,
     "metadata": {},
     "output_type": "execute_result"
    }
   ],
   "source": [
    "#rand-creating 2-d array with radom numbers\n",
    "np.rand(12).reshape(4,3)"
   ]
  },
  {
   "cell_type": "code",
   "execution_count": 25,
   "id": "25890129",
   "metadata": {},
   "outputs": [
    {
     "data": {
      "text/plain": [
       "array([[0.22050168, 0.25377724, 0.782556  ],\n",
       "       [0.89456886, 0.10764306, 0.64407134],\n",
       "       [0.99111557, 0.36799904, 0.47589943],\n",
       "       [0.86800327, 0.47444134, 0.48710003]])"
      ]
     },
     "execution_count": 25,
     "metadata": {},
     "output_type": "execute_result"
    }
   ],
   "source": [
    "np.random(12).reshape(4,3)"
   ]
  },
  {
   "cell_type": "code",
   "execution_count": 28,
   "id": "1814b4f2",
   "metadata": {},
   "outputs": [
    {
     "name": "stdout",
     "output_type": "stream",
     "text": [
      "Original Array: [0 1 2 3 4]\n",
      "New Array: [0 1 2 3 4]\n",
      "Modification Arrays\n",
      "Original Array: [100   1   2   3   4]\n",
      "New Array: [100   1   2   3   4]\n"
     ]
    }
   ],
   "source": [
    "#view(Shallow copying)-it is used to copy the original array to one more array(Duplicate) like a copy module but difference is if you change Duplicate array,same changes will applay to Original array also\n",
    "import numpy as n\n",
    "a=n.arange(5)\n",
    "b=a.view()\n",
    "print(\"Original Array:\",a)\n",
    "print(\"New Array:\",b)\n",
    "b[0]=100\n",
    "print(\"Modification Arrays\")\n",
    "print(\"Original Array:\",a)#here we can see changes has been applied original array also\n",
    "print(\"New Array:\",b)"
   ]
  },
  {
   "cell_type": "code",
   "execution_count": 34,
   "id": "6bc595da",
   "metadata": {},
   "outputs": [
    {
     "name": "stdout",
     "output_type": "stream",
     "text": [
      "Original Array: [0 1 2 3 4]\n",
      "New Array: [0 1 2 3 4]\n",
      "Modification Arrays\n",
      "Original Array: [0 1 2 3 4]\n",
      "New Array: [100   1   2   3   4]\n"
     ]
    }
   ],
   "source": [
    "#copy(Deep copying)-copy the original array to one more array but here if you do any change in copy array,it wont be apply in original array\n",
    "c=n.arange(5)\n",
    "d1=c.copy()\n",
    "print(\"Original Array:\",c)\n",
    "print(\"New Array:\",d1)\n",
    "d1[0]=100\n",
    "print(\"Modification Arrays\")\n",
    "print(\"Original Array:\",c)#here we can see changes has not been applied original array\n",
    "print(\"New Array:\",d1)"
   ]
  },
  {
   "cell_type": "code",
   "execution_count": 38,
   "id": "d383857b",
   "metadata": {},
   "outputs": [
    {
     "name": "stdout",
     "output_type": "stream",
     "text": [
      "Original Array: [[ 0  1  2  3]\n",
      " [ 4  5  6  7]\n",
      " [ 8  9 10 11]]\n",
      "New Array: [[ 0  1  2  3]\n",
      " [ 4  5  6  7]\n",
      " [ 8  9 10 11]]\n",
      "Modification Arrays\n",
      "Original Array: [[ 0  1  2  3]\n",
      " [ 4  5  6  7]\n",
      " [ 8  9 10 11]]\n",
      "New Array: [[  0 100   2   3]\n",
      " [  4   5   6   7]\n",
      " [  8   9  10  11]]\n",
      "----------------------------\n",
      "Original Array: [[ 0  1  2  3]\n",
      " [ 4  5  6  7]\n",
      " [ 8  9 10 11]]\n",
      "New Array: [[ 0  1  2  3]\n",
      " [ 4  5  6  7]\n",
      " [ 8  9 10 11]]\n",
      "Modification Arrays\n",
      "Original Array: [[  0 100   2   3]\n",
      " [  4   5   6   7]\n",
      " [  8   9  10  11]]\n",
      "New Array: [[  0 100   2   3]\n",
      " [  4   5   6   7]\n",
      " [  8   9  10  11]]\n"
     ]
    }
   ],
   "source": [
    "#copy and view in 2d array\n",
    "k1=n.arange(12).reshape(3,4)\n",
    "k2=k1.copy()\n",
    "print(\"Original Array:\",k1)\n",
    "print(\"New Array:\",k2)\n",
    "k2[0][1]=100\n",
    "print(\"Modification Arrays\")\n",
    "print(\"Original Array:\",k1)\n",
    "print(\"New Array:\",k2)\n",
    "print(\"----------------------------\")\n",
    "k3=n.arange(12).reshape(3,4)\n",
    "k4=k3.view()\n",
    "print(\"Original Array:\",k3)\n",
    "print(\"New Array:\",k4)\n",
    "k4[0][1]=100\n",
    "print(\"Modification Arrays\")\n",
    "print(\"Original Array:\",k3)\n",
    "print(\"New Array:\",k4)"
   ]
  },
  {
   "cell_type": "code",
   "execution_count": 39,
   "id": "8307edb0",
   "metadata": {},
   "outputs": [
    {
     "name": "stdout",
     "output_type": "stream",
     "text": [
      "Result of a>b: [ True False False False]\n",
      "Check if any one element is true: True\n",
      "Check if all element is true: False\n",
      " a contains atleast one element greater than those of b\n"
     ]
    }
   ],
   "source": [
    "#python program to know the effects of any() and all() functions\n",
    "a=n.array([1,2,3,0])\n",
    "b=n.array([0,2,3,1])\n",
    "c=a>b\n",
    "print(\"Result of a>b:\",c)#here we not given any() and all() so it's check all element of a and b\n",
    "print(\"Check if any one element is true:\",any(c))#here if any one is true,it will give result as true\n",
    "print(\"Check if all element is true:\",all(c))#here if any one is false,it will give result as false11\n",
    "if (any(a>b)):\n",
    "    print(' a contains atleast one element greater than those of b')"
   ]
  },
  {
   "cell_type": "code",
   "execution_count": 46,
   "id": "a82b5b39",
   "metadata": {},
   "outputs": [
    {
     "name": "stdout",
     "output_type": "stream",
     "text": [
      "[ True  True  True]\n",
      "[ True  True  True]\n",
      "[False  True False  True]\n",
      "[ True False False]\n",
      "[False False False]\n"
     ]
    }
   ],
   "source": [
    "#A python progtam to understand the use of logical functions on arrays\n",
    "ar1=n.array([1,2,3],int)\n",
    "ar2=n.array([0,2,3],int)\n",
    "And=n.logical_and(ar1>=0,ar2<4)#here it's give true when both condition are true\n",
    "print(And)\n",
    "Or=n.logical_or(ar2>=0,ar2==1)#here it's give true when any one condition is true\n",
    "print(Or)\n",
    "#logical_not\n",
    "ar3=n.array([True,False,True,False])#it's give reverse result\n",
    "Not1=n.logical_not(ar3)\n",
    "print(Not1)\n",
    "Not=n.logical_not(ar2)#here it giving output as if 0 is present,True.Other than 0 ,false\n",
    "print(Not)\n",
    "Not2=n.logical_not(ar1)\n",
    "print(Not2)"
   ]
  },
  {
   "cell_type": "code",
   "execution_count": 53,
   "id": "6ff18fd9",
   "metadata": {},
   "outputs": [
    {
     "name": "stdout",
     "output_type": "stream",
     "text": [
      "2\n",
      "[[False False False]\n",
      " [False  True False]\n",
      " [False False  True]]\n",
      "[[ True  True  True]\n",
      " [ True  True  True]\n",
      " [ True  True  True]]\n",
      "[[False False  True]\n",
      " [False False False]\n",
      " [False False False]]\n"
     ]
    }
   ],
   "source": [
    "#logical function in 2d array\n",
    "ar4=n.array([[8,9,0],\n",
    "           [89,45,6],\n",
    "           [12,6,87]])\n",
    "print(ar4.ndim)\n",
    "lo_a=n.logical_and(ar4>=18,ar4<=88)\n",
    "lo_o=n.logical_or(ar4>=18,ar4<=88)\n",
    "lo_n=n.logical_not(ar4)\n",
    "print(lo_a)\n",
    "print(lo_o)\n",
    "print(lo_n)"
   ]
  },
  {
   "cell_type": "code",
   "execution_count": null,
   "id": "8dae5a4a",
   "metadata": {},
   "outputs": [],
   "source": [
    "#where-it is used to fetch array elements as we givien condition.\n",
    "#Syntax:\n",
    "#where(condition,expression1(variablename),expression2)"
   ]
  },
  {
   "cell_type": "code",
   "execution_count": 57,
   "id": "efe20b3d",
   "metadata": {},
   "outputs": [
    {
     "name": "stdout",
     "output_type": "stream",
     "text": [
      "Even numbers in array is:\n",
      "['10' ' ' '78' '0' '54']\n"
     ]
    }
   ],
   "source": [
    "#where concept in Numpy\n",
    "from numpy import *\n",
    "ar=array([10,89,78,0,54])\n",
    "even=where(ar%2==0,ar,' ')#it will fill we given third argument to condition false elements\n",
    "print(\"Even numbers in array is:\")\n",
    "print(even)"
   ]
  },
  {
   "cell_type": "code",
   "execution_count": 71,
   "id": "2ee1b638",
   "metadata": {},
   "outputs": [
    {
     "name": "stdout",
     "output_type": "stream",
     "text": [
      "['' '' '' '0'] ['0' '' '' '']\n"
     ]
    }
   ],
   "source": [
    "#fetching 0 elemets from two arrays by condition\n",
    "ar1=array([90,78,34,0])\n",
    "ar2=array([0,78,34,23])\n",
    "w=where(ar1==0,ar1,'')\n",
    "w1=where(ar2==0,ar2,'')\n",
    "print(w,w1)"
   ]
  },
  {
   "cell_type": "code",
   "execution_count": 72,
   "id": "6eecfb50",
   "metadata": {},
   "outputs": [
    {
     "name": "stdout",
     "output_type": "stream",
     "text": [
      "[90 78 34 23]\n"
     ]
    }
   ],
   "source": [
    "#fetching only biggest elements from two arrays\n",
    "ar1=array([90,78,34,0])\n",
    "ar2=array([0,78,34,23])\n",
    "w2=where(ar1>ar2,ar1,ar2)\n",
    "print(w2)"
   ]
  },
  {
   "cell_type": "code",
   "execution_count": 74,
   "id": "72f8c102",
   "metadata": {},
   "outputs": [
    {
     "name": "stdout",
     "output_type": "stream",
     "text": [
      "2\n",
      "[['' '' '']\n",
      " ['' '' '']\n",
      " ['' '8' '8']]\n"
     ]
    }
   ],
   "source": [
    "#fetching element from 2d- array\n",
    "d2=array([[32,56,6],\n",
    "        [87,3,2],\n",
    "        [67,8,8]])\n",
    "print(d2.ndim)\n",
    "w4=where(d2==8,d2,'')#fetching only 8\n",
    "print(w4)"
   ]
  },
  {
   "cell_type": "code",
   "execution_count": 112,
   "id": "a5f56f55",
   "metadata": {},
   "outputs": [
    {
     "name": "stdout",
     "output_type": "stream",
     "text": [
      "<class 'numpy.ndarray'>\n",
      "[[0]]\n",
      "---------------------\n",
      "[[ 0  1]\n",
      " [ 2  3]\n",
      " [ 4  5]\n",
      " [ 6  7]\n",
      " [ 8  9]\n",
      " [10 11]]\n",
      "[[5 0]\n",
      " [5 1]]\n"
     ]
    }
   ],
   "source": [
    "#argwhere-this one give index value of given condition\n",
    "aa=n.array(['kkk','utij','gbfn'])\n",
    "print(type(aa))\n",
    "se=argwhere(aa=='kkk')\n",
    "print(se)\n",
    "print(\"---------------------\")\n",
    "#2d array\n",
    "aa1=arange(12).reshape(6,2)\n",
    "print(aa1)\n",
    "se1=argwhere(aa1>=10)\n",
    "print(se1)"
   ]
  },
  {
   "cell_type": "code",
   "execution_count": 76,
   "id": "ea688b6b",
   "metadata": {},
   "outputs": [
    {
     "name": "stdout",
     "output_type": "stream",
     "text": [
      "[0 1 2 3 4 5 6 7]\n",
      "[4 4 4 4 4 4 4 4]\n"
     ]
    }
   ],
   "source": [
    "#fill-it is used to fill we given value to array\n",
    "arrr=arange(8)\n",
    "print(arrr)\n",
    "arrr.fill(4)#it's filled we given value 4 to all elements\n",
    "print(arrr)"
   ]
  },
  {
   "cell_type": "code",
   "execution_count": 79,
   "id": "6f3590fd",
   "metadata": {},
   "outputs": [
    {
     "name": "stdout",
     "output_type": "stream",
     "text": [
      "[[0 1]\n",
      " [2 3]\n",
      " [4 5]\n",
      " [6 7]\n",
      " [8 9]]\n",
      "[[9 9]\n",
      " [9 9]\n",
      " [9 9]\n",
      " [9 9]\n",
      " [9 9]]\n"
     ]
    }
   ],
   "source": [
    "#using fill() in 2d array\n",
    "arrr1=arange(10).reshape(5,2)\n",
    "print(arrr1)\n",
    "arrr1.fill(9)\n",
    "print(arrr1)"
   ]
  },
  {
   "cell_type": "code",
   "execution_count": 86,
   "id": "b8c0db97",
   "metadata": {},
   "outputs": [
    {
     "name": "stdout",
     "output_type": "stream",
     "text": [
      "[[6 6]\n",
      " [6 6]\n",
      " [6 6]\n",
      " [6 6]]\n"
     ]
    }
   ],
   "source": [
    "#creating array with full\n",
    "arrr2=n.full(shape=(4,2),fill_value=6)\n",
    "print(arrr2)"
   ]
  },
  {
   "cell_type": "code",
   "execution_count": 95,
   "id": "4f3045f1",
   "metadata": {},
   "outputs": [
    {
     "name": "stdout",
     "output_type": "stream",
     "text": [
      "['Chennai' 'Tuticorin' 'Coimbatore' 'Tirchy']\n"
     ]
    }
   ],
   "source": [
    "#creating array with string\n",
    "cities=array(['Chennai','Tuticorin','Coimbatore','Tirchy'])\n",
    "print(cities)"
   ]
  },
  {
   "cell_type": "code",
   "execution_count": 96,
   "id": "ce6493f0",
   "metadata": {},
   "outputs": [
    {
     "data": {
      "text/plain": [
       "array(['Chennai', 'Tuticorin', 'Coimbatore', 'Tirchy'], dtype='<U10')"
      ]
     },
     "execution_count": 96,
     "metadata": {},
     "output_type": "execute_result"
    }
   ],
   "source": [
    "#without print also we can show the array\n",
    "cities"
   ]
  },
  {
   "cell_type": "code",
   "execution_count": 97,
   "id": "4bf93ac4",
   "metadata": {},
   "outputs": [
    {
     "name": "stdout",
     "output_type": "stream",
     "text": [
      "<U10\n"
     ]
    }
   ],
   "source": [
    "#String datatype\n",
    "print(cities.dtype)#u10-means unicode character and maximum characterlength(coimbatorelength10)\n",
    "#unicode character is nothing but it's a string"
   ]
  },
  {
   "cell_type": "code",
   "execution_count": 98,
   "id": "5a893a9c",
   "metadata": {},
   "outputs": [
    {
     "name": "stdout",
     "output_type": "stream",
     "text": [
      "['Chennai' 'Coimbatore' 'Tirchy' 'Tuticorin']\n"
     ]
    }
   ],
   "source": [
    "#sort the String array\n",
    "cities.sort()\n",
    "print(cities)"
   ]
  },
  {
   "cell_type": "code",
   "execution_count": 102,
   "id": "7a026d77",
   "metadata": {},
   "outputs": [
    {
     "name": "stdout",
     "output_type": "stream",
     "text": [
      "['Chennai' 'Sivagangai' 'Tuticorin' 'coimbatore' 'dindugal' 'madurai'\n",
      " 'thirunelveli' 'tuticorin']\n"
     ]
    }
   ],
   "source": [
    "#find the Unique value from the string array\n",
    "cities4=array([['Chennai','Sivagangai','Tuticorin'],\n",
    "             ['coimbatore','dindugal','madurai'],\n",
    "             ['thirunelveli','madurai','tuticorin']])\n",
    "c=unique(cities4)\n",
    "print(c)"
   ]
  },
  {
   "cell_type": "code",
   "execution_count": 106,
   "id": "4a48e7e0",
   "metadata": {},
   "outputs": [
    {
     "name": "stdout",
     "output_type": "stream",
     "text": [
      "[['chennai' 'sivagangai' 'tuticorin']\n",
      " ['coimbatore' 'dindugal' 'madurai']\n",
      " ['thirunelveli' 'madurai' 'tuticorin']]\n",
      "------------------------------------------\n",
      "['chennai' 'coimbatore' 'dindugal' 'madurai' 'sivagangai' 'thirunelveli'\n",
      " 'tuticorin']\n"
     ]
    }
   ],
   "source": [
    "#it's fetched tuticorin two time cause one is T another one is t\n",
    "#how to void above problem\n",
    "#change whole array to lower\n",
    "ch=n.char.lower(cities4)\n",
    "print(ch)\n",
    "#now we do unique\n",
    "c1=unique(ch)\n",
    "print('------------------------------------------')\n",
    "print(c1)"
   ]
  },
  {
   "cell_type": "code",
   "execution_count": 114,
   "id": "4ef37a04",
   "metadata": {},
   "outputs": [
    {
     "name": "stdout",
     "output_type": "stream",
     "text": [
      "Product of a and b is:\n",
      "[[ 2 16]\n",
      " [25 12]]\n",
      "Dot Matrix of a and b is:\n",
      "[[22 12]\n",
      " [40 32]]\n"
     ]
    }
   ],
   "source": [
    "#dot matrix-it returns dot product of the Two vectors or matrixs\n",
    "import numpy as np\n",
    "a=np.array([[1,4],[5,6]])\n",
    "b=np.array([[2,4],[5,2]])\n",
    "print(\"Product of a and b is:\")\n",
    "print(a*b)\n",
    "print(\"Dot Matrix of a and b is:\")\n",
    "print(np.dot(a,b))"
   ]
  },
  {
   "cell_type": "code",
   "execution_count": 115,
   "id": "e98fa845",
   "metadata": {},
   "outputs": [
    {
     "data": {
      "text/plain": [
       "'\\nExplanation:\\n[1  4   [2  4\\n 5  6]   5  2]\\n--------------\\n[1*2+4*5 [1*4+4*2\\n5*2+6*5] 5*4+6*2]\\n---------------------\\n[22  12\\n40   32]\\n'"
      ]
     },
     "execution_count": 115,
     "metadata": {},
     "output_type": "execute_result"
    }
   ],
   "source": [
    "'''\n",
    "Explanation:\n",
    "[1  4   [2  4\n",
    " 5  6]   5  2]\n",
    "--------------\n",
    "[1*2+4*5 [1*4+4*2\n",
    "5*2+6*5] 5*4+6*2]\n",
    "---------------------\n",
    "[22  12\n",
    "40   32]\n",
    "'''"
   ]
  },
  {
   "cell_type": "code",
   "execution_count": 118,
   "id": "32d173e8",
   "metadata": {},
   "outputs": [
    {
     "name": "stdout",
     "output_type": "stream",
     "text": [
      "[2 4 3]\n",
      "[[5 6]\n",
      " [3 1]\n",
      " [2 5]]\n",
      "[28 31]\n"
     ]
    }
   ],
   "source": [
    "#dot matrix\n",
    "aa=np.array([2,4,3])\n",
    "aa2=np.array([[5,6],[3,1],[2,5]])\n",
    "print(aa)\n",
    "print(aa2)\n",
    "print(\"--------------------\")\n",
    "d=np.dot(aa,aa2)\n",
    "print(d)"
   ]
  },
  {
   "cell_type": "code",
   "execution_count": null,
   "id": "b98b3152",
   "metadata": {},
   "outputs": [],
   "source": [
    "'''\n",
    "Explanation:\n",
    "[2 4 3] [5  6\n",
    "         3  1\n",
    "         2  5]\n",
    "[2*5+4*3+3*2  2*6+4*1+3*5]\n",
    "[28  31]\n",
    "'''"
   ]
  },
  {
   "cell_type": "code",
   "execution_count": 6,
   "id": "0035c474",
   "metadata": {},
   "outputs": [
    {
     "name": "stdout",
     "output_type": "stream",
     "text": [
      "[[['k' 'rr' 'gb']\n",
      "  ['rf' 'dd' 'd']\n",
      "  ['aa' 'ac' 'cc']]]\n",
      "<U2\n",
      "3\n",
      "(1, 3, 3)\n"
     ]
    }
   ],
   "source": [
    "#3d array-Inside 2d array one more array 3d array\n",
    "import numpy as np\n",
    "d_arr=np.array([[['k','rr','gb'],['rf','dd','d'],['aa','ac','cc']]])\n",
    "print(d_arr)\n",
    "print(d_arr.dtype)\n",
    "print(d_arr.ndim)\n",
    "print(d_arr.shape)#(1,3,3)-1=Size of array,3=row,3=column"
   ]
  },
  {
   "cell_type": "code",
   "execution_count": 10,
   "id": "4f984061",
   "metadata": {},
   "outputs": [
    {
     "name": "stdout",
     "output_type": "stream",
     "text": [
      "[[['k']\n",
      "  ['rr']\n",
      "  ['gb']]\n",
      "\n",
      " [['rf']\n",
      "  ['dd']\n",
      "  ['d']]\n",
      "\n",
      " [['aa']\n",
      "  ['ac']\n",
      "  ['cc']]]\n"
     ]
    }
   ],
   "source": [
    "print(d_arr.reshape(3,3,1))"
   ]
  },
  {
   "cell_type": "code",
   "execution_count": 9,
   "id": "c0483d1a",
   "metadata": {},
   "outputs": [
    {
     "name": "stdout",
     "output_type": "stream",
     "text": [
      "[[[ 0  1]\n",
      "  [ 2  3]]\n",
      "\n",
      " [[ 4  5]\n",
      "  [ 6  7]]\n",
      "\n",
      " [[ 8  9]\n",
      "  [10 11]]]\n",
      "int32\n",
      "3\n",
      "(3, 2, 2)\n"
     ]
    }
   ],
   "source": [
    "d_arr2=np.arange(12).reshape(3,2,2)\n",
    "print(d_arr2)\n",
    "print(d_arr2.dtype)\n",
    "print(d_arr2.ndim)\n",
    "print(d_arr2.shape)#(3,2,2)-3=Size of array,2=row,2=column"
   ]
  },
  {
   "cell_type": "code",
   "execution_count": 12,
   "id": "16634d0b",
   "metadata": {},
   "outputs": [
    {
     "name": "stdout",
     "output_type": "stream",
     "text": [
      "Normal Matrix:\n",
      "[[0 1 2]\n",
      " [3 4 5]\n",
      " [6 7 8]]\n",
      "After Transpose:\n",
      "[[0 3 6]\n",
      " [1 4 7]\n",
      " [2 5 8]]\n"
     ]
    }
   ],
   "source": [
    "#transpose-It is used to change row elements to column\n",
    "a0=np.arange(9).reshape(3,3)\n",
    "print(\"Normal Array:\")\n",
    "print(a0)\n",
    "print(\"After Transpose:\")\n",
    "print(np.transpose(a0))"
   ]
  },
  {
   "cell_type": "code",
   "execution_count": 23,
   "id": "a36eedd9",
   "metadata": {},
   "outputs": [
    {
     "name": "stdout",
     "output_type": "stream",
     "text": [
      "[[4 6]\n",
      " [3 8]]\n",
      "<class 'numpy.matrix'>\n",
      "2\n",
      "-----------------\n",
      "[[ 4 63  8]\n",
      " [78 56  4]]\n",
      "<class 'numpy.matrix'>\n",
      "2\n",
      "-----------------\n",
      "[[4 3]\n",
      " [6 8]]\n"
     ]
    }
   ],
   "source": [
    "#matrix -matrix is nothing array only we call matrix in maths\n",
    "#instead of using array function we can use matrix function to create new array\n",
    "#using matrix creating 2d array\n",
    "mat=np.matrix('[4,6;3,8]')\n",
    "print(mat)\n",
    "print(type(mat))\n",
    "print(mat.ndim)\n",
    "print('-----------------')\n",
    "#matrix only support for 2d array not 3d and 1d\n",
    "mat1=np.matrix('[[[4,63,8;78,56,4]]]')\n",
    "print(mat1)\n",
    "print(type(mat1))\n",
    "print(mat1.ndim)\n",
    "print('-----------------')\n",
    "#transpose\n",
    "print(np.transpose(mat))"
   ]
  },
  {
   "cell_type": "code",
   "execution_count": 29,
   "id": "ae8c7984",
   "metadata": {},
   "outputs": [
    {
     "name": "stdout",
     "output_type": "stream",
     "text": [
      "[[4 6]\n",
      " [3 8]]\n",
      "[[4 6 3 8]]\n",
      "------------------\n",
      "Array's is:\n",
      "[[0 1 2 3]\n",
      " [4 5 6 7]]\n",
      "[[23  8 89  0]\n",
      " [98  6  5  4]]\n",
      "hstack Array's is:\n",
      "[[ 0  1  2  3 23  8 89  0]\n",
      " [ 4  5  6  7 98  6  5  4]]\n"
     ]
    }
   ],
   "source": [
    "#hstack(Horizontal stack)-it will make array elements as horizontal----\n",
    "#if we give one array means,it will change like this\n",
    "print(mat)\n",
    "print(np.hstack(mat))\n",
    "print(\"------------------\")\n",
    "#if we give two arrays means,it will change like This\n",
    "array_hstack=np.arange(8).reshape(2,4)\n",
    "array_hstack2=np.matrix('23,8,89,0;98,6,5,4')\n",
    "print(\"Array's is:\")\n",
    "print(array_hstack)\n",
    "print(array_hstack2)\n",
    "print(\"hstack Array's is:\")\n",
    "hstack_array=np.hstack((array_hstack,array_hstack2))\n",
    "print(hstack_array)"
   ]
  },
  {
   "cell_type": "code",
   "execution_count": 32,
   "id": "025f6a08",
   "metadata": {},
   "outputs": [
    {
     "name": "stdout",
     "output_type": "stream",
     "text": [
      "[[4 6]\n",
      " [3 8]]\n",
      "[[4 6]\n",
      " [3 8]]\n",
      "------------------\n",
      "Array's is:\n",
      "[[0 1 2 3 4]\n",
      " [5 6 7 8 9]]\n",
      "[[23  8 89 78  0]\n",
      " [98  6  5  4 89]]\n",
      "vstack Array's is:\n",
      "[[ 0  1  2  3  4]\n",
      " [ 5  6  7  8  9]\n",
      " [23  8 89 78  0]\n",
      " [98  6  5  4 89]]\n"
     ]
    }
   ],
   "source": [
    "#vstack(Vertical stack)-it will display array in vertical order|\n",
    "#if we give one array means,it will change like this\n",
    "print(mat)\n",
    "print(np.vstack(mat))\n",
    "print(\"------------------\")\n",
    "#if we give two arrays means,it will change like This\n",
    "array_vstack=np.arange(10).reshape(2,5)\n",
    "array_vstack2=np.matrix('23,8,89,78,0;98,6,5,4,89')\n",
    "print(\"Array's is:\")\n",
    "print(array_vstack)\n",
    "print(array_vstack2)\n",
    "print(\"vstack Array's is:\")\n",
    "vstack_array=np.vstack((array_vstack,array_vstack2))\n",
    "print(vstack_array)"
   ]
  },
  {
   "cell_type": "code",
   "execution_count": 41,
   "id": "aaa0e304",
   "metadata": {},
   "outputs": [
    {
     "name": "stdout",
     "output_type": "stream",
     "text": [
      "[[0 1 2 3 4]\n",
      " [5 6 7 8 9]]\n",
      "[[23  8 89 78  0]\n",
      " [98  6  5  4 89]]\n",
      "2\n",
      "2\n",
      "---------------\n",
      "Addition:\n",
      " [[ 23   9  91  81   4]\n",
      " [103  12  12  12  98]]\n",
      "---------------\n",
      "Subtraction:\n",
      " [[-23  -7 -87 -75   4]\n",
      " [-93   0   2   4 -80]]\n",
      "---------------\n",
      "---------------\n",
      "Division:\n",
      " [[0.         0.125      0.02247191 0.03846154        inf]\n",
      " [0.05102041 1.         1.4        2.         0.1011236 ]]\n",
      "---------------\n",
      "Floor Division:\n",
      " [[0 0 0 0 0]\n",
      " [0 1 1 2 0]]\n",
      "---------------\n",
      "Modules:\n",
      " [[0 1 2 3 0]\n",
      " [5 0 2 0 9]]\n"
     ]
    },
    {
     "name": "stderr",
     "output_type": "stream",
     "text": [
      "C:\\Users\\Admin\\AppData\\Local\\Temp\\ipykernel_3260\\1722399197.py:13: RuntimeWarning: divide by zero encountered in divide\n",
      "  print(\"Division:\\n\",array_vstack/array_vstack2)\n",
      "C:\\Users\\Admin\\AppData\\Local\\Temp\\ipykernel_3260\\1722399197.py:15: RuntimeWarning: divide by zero encountered in floor_divide\n",
      "  print(\"Floor Division:\\n\",array_vstack//array_vstack2)\n",
      "C:\\Users\\Admin\\AppData\\Local\\Temp\\ipykernel_3260\\1722399197.py:17: RuntimeWarning: divide by zero encountered in remainder\n",
      "  print(\"Modules:\\n\",array_vstack%array_vstack2)\n"
     ]
    }
   ],
   "source": [
    "#Arithemetic operation in 2d-array\n",
    "print(array_vstack)\n",
    "print(array_vstack2)\n",
    "print(array_vstack.ndim)\n",
    "print(array_vstack2.ndim)\n",
    "print(\"---------------\")\n",
    "print(\"Addition:\\n\",array_vstack+array_vstack2)\n",
    "print(\"---------------\")\n",
    "print(\"Subtraction:\\n\",array_vstack-array_vstack2)\n",
    "print(\"---------------\")\n",
    "#print(\"Multiplication:\\n\",array_vstack*array_vstack2)\n",
    "print(\"---------------\")\n",
    "print(\"Division:\\n\",array_vstack/array_vstack2)\n",
    "print(\"---------------\")\n",
    "print(\"Floor Division:\\n\",array_vstack//array_vstack2)\n",
    "print(\"---------------\")\n",
    "print(\"Modules:\\n\",array_vstack%array_vstack2)"
   ]
  },
  {
   "cell_type": "code",
   "execution_count": 61,
   "id": "012cb9b2",
   "metadata": {},
   "outputs": [
    {
     "name": "stdout",
     "output_type": "stream",
     "text": [
      "Creation Of 2-D Array\n",
      "Enter the Row of array:2\n",
      "Enter the Column of array:3\n",
      "Enter the number of [0] [0]:3\n",
      "Enter the number of [0] [1]:4\n",
      "Enter the number of [0] [2]:5\n",
      "Enter the number of [1] [0]:6\n",
      "Enter the number of [1] [1]:7\n",
      "Enter the number of [1] [2]:8\n",
      "Creation Of 1-D Array\n",
      "Enter the Size of array:3\n",
      "Enter the number of [0]:6\n",
      "Enter the number of [1]:5\n",
      "Enter the number of [2]:4\n",
      "1D-Array is:\n",
      " [6, 5, 4]\n",
      "<class 'numpy.ndarray'>\n",
      "1\n",
      "1D-Array is:\n",
      " [[3 4 5]\n",
      " [6 7 8]]\n",
      "<class 'numpy.ndarray'>\n",
      "2\n",
      "Transpose Array is:\n",
      " [[3 6]\n",
      " [4 7]\n",
      " [5 8]]\n",
      "Transpose Array is:\n",
      " [ 58 103]\n"
     ]
    }
   ],
   "source": [
    "#homework-Python program to accept matrix(array) from the keyboard and display it's transpose,dot matrix methods\n",
    "#getting input from user to create two dimensiona array\n",
    "print(\"Creation Of 2-D Array\")\n",
    "row=int(input(\"Enter the Row of array:\"))\n",
    "column=int(input(\"Enter the Column of array:\"))\n",
    "row_l=[]\n",
    "for i in range(row):\n",
    "    row_ll=[]\n",
    "    for j in range(column):\n",
    "        element=int(input(f'Enter the number of [{i}] [{j}]:'))\n",
    "        row_ll.append(element)\n",
    "    row_l.append(row_ll)\n",
    "user_2d=np.array(row_l)\n",
    "#getting input from user to create two dimensiona array\n",
    "print(\"Creation Of 1-D Array\")\n",
    "size=int(input(\"Enter the Size of array:\"))\n",
    "row_1d=[]\n",
    "for i in range(size):\n",
    "    element=int(input(f'Enter the number of [{i}]:'))\n",
    "    row_1d.append(element)\n",
    "user_1d=np.array(row_1d)\n",
    "print(\"1D-Array is:\\n\",row_1d)\n",
    "print(type(user_1d))\n",
    "print(user_1d.ndim)\n",
    "print(\"1D-Array is:\\n\",user_2d)\n",
    "print(type(user_2d))\n",
    "print(user_2d.ndim)\n",
    "print(\"Transpose Array is:\\n\",np.transpose(user_2d))\n",
    "print(\"Transpose Array is:\\n\",np.dot(user_2d,user_1d))#3*6+4*5+5*4=58\n",
    "                                                      #6*6+7*5+8*4=71+32=103"
   ]
  },
  {
   "cell_type": "code",
   "execution_count": 54,
   "id": "cfa69f95",
   "metadata": {},
   "outputs": [
    {
     "name": "stdout",
     "output_type": "stream",
     "text": [
      "Enter the Depth of array:3\n",
      "Enter the Row of array:2\n",
      "Enter the Column of array:2\n",
      "Enter the number of [0] [0]:4\n",
      "Enter the number of [0] [1]:4\n",
      "Enter the number of [1] [0]:5\n",
      "Enter the number of [1] [1]:5\n",
      "Enter the number of [0] [0]:6\n",
      "Enter the number of [0] [1]:6\n",
      "Enter the number of [1] [0]:7\n",
      "Enter the number of [1] [1]:7\n",
      "Enter the number of [0] [0]:8\n",
      "Enter the number of [0] [1]:8\n",
      "Enter the number of [1] [0]:9\n",
      "Enter the number of [1] [1]:9\n",
      "[[[4 4]\n",
      "  [5 5]]\n",
      "\n",
      " [[6 6]\n",
      "  [7 7]]\n",
      "\n",
      " [[8 8]\n",
      "  [9 9]]]\n",
      "<class 'numpy.ndarray'>\n",
      "3\n"
     ]
    }
   ],
   "source": [
    "#creating 3-d array by user input\n",
    "depth=int(input(\"Enter the Depth of array:\"))\n",
    "row2=int(input(\"Enter the Row of array:\"))\n",
    "column2=int(input(\"Enter the Column of array:\"))\n",
    "row_l2=[]\n",
    "for k in range(depth):\n",
    "    row_ll3=[]\n",
    "    for i in range(row2):\n",
    "        row_ll2=[]\n",
    "        for j in range(column2):\n",
    "            element=int(input(f'Enter the number of [{i}] [{j}]:'))\n",
    "            row_ll2.append(element)\n",
    "        row_ll3.append(row_ll2)\n",
    "    row_l2.append(row_ll3)\n",
    "user2_2d=np.array(row_l2)\n",
    "print(user2_2d)\n",
    "print(type(user2_2d))\n",
    "print(user2_2d.ndim)"
   ]
  },
  {
   "cell_type": "code",
   "execution_count": 65,
   "id": "dab52394",
   "metadata": {},
   "outputs": [
    {
     "data": {
      "text/plain": [
       "array([ 5.        ,  5.10204082,  5.20408163,  5.30612245,  5.40816327,\n",
       "        5.51020408,  5.6122449 ,  5.71428571,  5.81632653,  5.91836735,\n",
       "        6.02040816,  6.12244898,  6.2244898 ,  6.32653061,  6.42857143,\n",
       "        6.53061224,  6.63265306,  6.73469388,  6.83673469,  6.93877551,\n",
       "        7.04081633,  7.14285714,  7.24489796,  7.34693878,  7.44897959,\n",
       "        7.55102041,  7.65306122,  7.75510204,  7.85714286,  7.95918367,\n",
       "        8.06122449,  8.16326531,  8.26530612,  8.36734694,  8.46938776,\n",
       "        8.57142857,  8.67346939,  8.7755102 ,  8.87755102,  8.97959184,\n",
       "        9.08163265,  9.18367347,  9.28571429,  9.3877551 ,  9.48979592,\n",
       "        9.59183673,  9.69387755,  9.79591837,  9.89795918, 10.        ])"
      ]
     },
     "execution_count": 65,
     "metadata": {},
     "output_type": "execute_result"
    }
   ],
   "source": [
    "# Numpy linspace-it is used to create a numpy array whose elements are equally spaced between start and end\n",
    "#Defaultly 50 elements will be generated\n",
    "np.linspace(5,10)#it's generated random one time values from 5 to 10.5-startvale,10-endvalue\n",
    "#here we have not given no of elements,so defaultly it given 50 elements."
   ]
  },
  {
   "cell_type": "code",
   "execution_count": 64,
   "id": "d9defe1e",
   "metadata": {},
   "outputs": [
    {
     "name": "stdout",
     "output_type": "stream",
     "text": [
      "[ 5.    6.25  7.5   8.75 10.  ]\n"
     ]
    }
   ],
   "source": [
    "print(np.linspace(5,10,5))#last 5 is no of elements"
   ]
  },
  {
   "cell_type": "code",
   "execution_count": 69,
   "id": "8d6879b5",
   "metadata": {},
   "outputs": [
    {
     "name": "stdout",
     "output_type": "stream",
     "text": [
      "[[1 8]\n",
      " [4 8]\n",
      " [8 8]]\n"
     ]
    }
   ],
   "source": [
    "#creating 2d array using linspace\n",
    "aaaa=np.linspace(start=(1,8),stop=(8,8),num=3,dtype=int)#num=3-no of rows\n",
    "print(aaaa)"
   ]
  },
  {
   "cell_type": "code",
   "execution_count": 72,
   "id": "76033638",
   "metadata": {},
   "outputs": [
    {
     "name": "stdout",
     "output_type": "stream",
     "text": [
      "[[1.  +0.j 6.  +0.j]\n",
      " [2.75+0.j 6.75+0.j]\n",
      " [4.5 +0.j 7.5 +0.j]\n",
      " [6.25+0.j 8.25+0.j]\n",
      " [8.  +0.j 9.  +0.j]]\n",
      "---------------\n",
      "[6 6 7 8 9]\n"
     ]
    }
   ],
   "source": [
    "#creating 2d array using linspace\n",
    "aaaa1=np.linspace(start=(1,6),stop=(8,9),num=5,dtype=complex)#num=5-no of rows\n",
    "print(aaaa1)\n",
    "print('---------------')\n",
    "aaaa2=np.linspace(start=6,stop=9,num=5,dtype=int)#num=5-no of rows\n",
    "print(aaaa2)"
   ]
  },
  {
   "cell_type": "code",
   "execution_count": 73,
   "id": "7280c241",
   "metadata": {},
   "outputs": [
    {
     "data": {
      "text/plain": [
       "array([1.00000000e+08, 1.75751062e+08, 3.08884360e+08, 5.42867544e+08,\n",
       "       9.54095476e+08, 1.67683294e+09, 2.94705170e+09, 5.17947468e+09,\n",
       "       9.10298178e+09, 1.59985872e+10, 2.81176870e+10, 4.94171336e+10,\n",
       "       8.68511374e+10, 1.52641797e+11, 2.68269580e+11, 4.71486636e+11,\n",
       "       8.28642773e+11, 1.45634848e+12, 2.55954792e+12, 4.49843267e+12,\n",
       "       7.90604321e+12, 1.38949549e+13, 2.44205309e+13, 4.29193426e+13,\n",
       "       7.54312006e+13, 1.32571137e+14, 2.32995181e+14, 4.09491506e+14,\n",
       "       7.19685673e+14, 1.26485522e+15, 2.22299648e+15, 3.90693994e+15,\n",
       "       6.86648845e+15, 1.20679264e+16, 2.12095089e+16, 3.72759372e+16,\n",
       "       6.55128557e+16, 1.15139540e+17, 2.02358965e+17, 3.55648031e+17,\n",
       "       6.25055193e+17, 1.09854114e+18, 1.93069773e+18, 3.39322177e+18,\n",
       "       5.96362332e+18, 1.04811313e+19, 1.84206997e+19, 3.23745754e+19,\n",
       "       5.68986603e+19, 1.00000000e+20])"
      ]
     },
     "execution_count": 73,
     "metadata": {},
     "output_type": "execute_result"
    }
   ],
   "source": [
    "#numpy logspace-it is used to create a numpy array whose elements are equally spaced between start and end on logerithmic scale(log base 10)\n",
    "#Defaultly 50 elements will be generated\n",
    "np.logspace(8,20)#not given no of elements so its generated 50 elements"
   ]
  },
  {
   "cell_type": "code",
   "execution_count": 74,
   "id": "dafacadc",
   "metadata": {},
   "outputs": [
    {
     "data": {
      "text/plain": [
       "array([1.e+08, 1.e+11, 1.e+14, 1.e+17, 1.e+20])"
      ]
     },
     "execution_count": 74,
     "metadata": {},
     "output_type": "execute_result"
    }
   ],
   "source": [
    "np.logspace(8,20,5)"
   ]
  },
  {
   "cell_type": "code",
   "execution_count": 76,
   "id": "65f2acd1",
   "metadata": {},
   "outputs": [
    {
     "name": "stdout",
     "output_type": "stream",
     "text": [
      "[[ 100000000 1000000000]\n",
      " [ 215443469 1000000000]\n",
      " [ 464158883 1000000000]\n",
      " [1000000000 1000000000]]\n"
     ]
    }
   ],
   "source": [
    "#create 2-d array using logspace\n",
    "sss=np.logspace(start=(8,9),stop=(9,9),num=4,dtype=int)\n",
    "print(sss)"
   ]
  },
  {
   "cell_type": "code",
   "execution_count": 93,
   "id": "41407b76",
   "metadata": {},
   "outputs": [
    {
     "name": "stdout",
     "output_type": "stream",
     "text": [
      "[-17.77777778 -11.11111111   7.33888889   1.11111111  37.72777778\n",
      "   0.        ]\n",
      "[-18. -11.   7.   1.  38.   0.]\n",
      "[-17.78 -11.11   7.34   1.11  37.73   0.  ]\n"
     ]
    }
   ],
   "source": [
    "#round-it is used to round the floating point value\n",
    "import numpy as np\n",
    "Fahrenheit=np.array([0.,12.,45.21,34.,99.91,32.])\n",
    "fahrenheit_to_centigrate=(Fahrenheit-32)*5/9\n",
    "print(fahrenheit_to_centigrate)\n",
    "print(np.round(fahrenheit_to_centigrate))#if we give round it will give remove all . after value\n",
    "print(np.round(fahrenheit_to_centigrate,2))#if we want .after two values,we can give 2"
   ]
  },
  {
   "cell_type": "code",
   "execution_count": 95,
   "id": "cf91f049",
   "metadata": {},
   "outputs": [
    {
     "name": "stdout",
     "output_type": "stream",
     "text": [
      "[False False False]\n",
      "[False  True  True]\n"
     ]
    }
   ],
   "source": [
    "#isin()-it is used to check both arrays has same values or not.if same values means,give true.not same values means give false\n",
    "import numpy as np\n",
    "arr=np.array([67,78,90])\n",
    "arr2=np.array([78,90,56])\n",
    "result=arr==arr2#we can use comparison operator to check but it will give true when both same values position same and\n",
    "print(result)   #it's not work when both array size are not same\n",
    "print(np.isin(arr,arr2))#arr compare with arr2.while comparing values are equal it give true otherwise give false"
   ]
  },
  {
   "cell_type": "code",
   "execution_count": 98,
   "id": "8af6fc60",
   "metadata": {},
   "outputs": [
    {
     "name": "stdout",
     "output_type": "stream",
     "text": [
      "[ True False False  True]\n",
      "True\n"
     ]
    }
   ],
   "source": [
    "#isin\n",
    "ar=np.array(['kk','gg','ggg','wee'])\n",
    "ar1=np.array(['kk','wee'])\n",
    "result=np.isin(ar,ar1)\n",
    "print(result)\n",
    "result1=np.isin('gg',ar)#even we can give like this also\n",
    "print(result1)"
   ]
  },
  {
   "cell_type": "code",
   "execution_count": 117,
   "id": "31fe9047",
   "metadata": {},
   "outputs": [
    {
     "name": "stdout",
     "output_type": "stream",
     "text": [
      "[67 78 90]\n",
      "[78 90 56]\n",
      "------------------\n",
      "Union:\n",
      " [56 67 78 90]\n",
      "Intersection:\n",
      " [78 90]\n",
      "Difference:\n",
      " [67]\n",
      "Symmetric_differnce:\n",
      " [56 67]\n"
     ]
    }
   ],
   "source": [
    "#intersect1d-which is used to fetch common values from two arrays\n",
    "#union1d-it is used to fetch unique values from both arrays\n",
    "#setdiff1d-(difference)it is compare two arrays and give non-duplicate value from first array\n",
    "#setxor1d-(Symmetric difference)it is display all unique values from two arrays\n",
    "import numpy as np\n",
    "print(arr)\n",
    "print(arr2)\n",
    "print(\"------------------\")\n",
    "print(\"Union:\\n\",np.union1d(arr,arr2))\n",
    "print(\"Intersection:\\n\",np.intersect1d(arr,arr2))\n",
    "print(\"Difference:\\n\",np.setdiff1d(arr,arr2))\n",
    "print(\"Symmetric_differnce:\\n\",np.setxor1d(arr,arr2))"
   ]
  },
  {
   "cell_type": "code",
   "execution_count": 120,
   "id": "b9c6b7d4",
   "metadata": {},
   "outputs": [
    {
     "name": "stdout",
     "output_type": "stream",
     "text": [
      "[[0 1]\n",
      " [2 3]\n",
      " [4 5]]\n",
      "[[ 5  6  7]\n",
      " [ 8  9 10]]\n",
      "------------------\n",
      "Union:\n",
      " [ 0  1  2  3  4  5  6  7  8  9 10]\n",
      "Intersection:\n",
      " [5]\n",
      "Difference:\n",
      " [0 1 2 3 4]\n",
      "Symmetric_differnce:\n",
      " [ 0  1  2  3  4  6  7  8  9 10]\n"
     ]
    }
   ],
   "source": [
    "#for 2-d array also 1d only\n",
    "ar=np.arange(6).reshape(3,2)\n",
    "ar2=np.arange(5,11).reshape(2,3)\n",
    "print(ar)\n",
    "print(ar2)\n",
    "print(\"------------------\")\n",
    "print(\"Union:\\n\",np.union1d(ar,ar2))\n",
    "print(\"Intersection:\\n\",np.intersect1d(ar,ar2))\n",
    "print(\"Difference:\\n\",np.setdiff1d(ar,ar2))\n",
    "print(\"Symmetric_differnce:\\n\",np.setxor1d(ar,ar2))"
   ]
  },
  {
   "cell_type": "code",
   "execution_count": 127,
   "id": "6db8cee9",
   "metadata": {},
   "outputs": [
    {
     "name": "stdout",
     "output_type": "stream",
     "text": [
      "Original:\n",
      "[[ 0  1  2  3]\n",
      " [ 4  5  6  7]\n",
      " [ 8  9 10 11]]\n",
      "Constant:\n",
      "[[ 0  0  0  0  0  0]\n",
      " [ 0  0  1  2  3  0]\n",
      " [ 0  4  5  6  7  0]\n",
      " [ 0  8  9 10 11  0]\n",
      " [ 0  0  0  0  0  0]]\n",
      "Edge:\n",
      "[[ 0  0  0  1  2  3  3  3]\n",
      " [ 0  0  0  1  2  3  3  3]\n",
      " [ 0  0  0  1  2  3  3  3]\n",
      " [ 4  4  4  5  6  7  7  7]\n",
      " [ 8  8  8  9 10 11 11 11]\n",
      " [ 8  8  8  9 10 11 11 11]\n",
      " [ 8  8  8  9 10 11 11 11]]\n",
      "Minimum:\n",
      "[[ 0  0  1  2  3  0]\n",
      " [ 0  0  1  2  3  0]\n",
      " [ 4  4  5  6  7  4]\n",
      " [ 8  8  9 10 11  8]\n",
      " [ 0  0  1  2  3  0]]\n",
      "mean:\n",
      "[[ 6  4  5  6  7  6]\n",
      " [ 2  0  1  2  3  2]\n",
      " [ 6  4  5  6  7  6]\n",
      " [10  8  9 10 11 10]\n",
      " [ 6  4  5  6  7  6]]\n",
      "Median:\n",
      "[[ 6  4  5  6  7  6]\n",
      " [ 2  0  1  2  3  2]\n",
      " [ 6  4  5  6  7  6]\n",
      " [10  8  9 10 11 10]\n",
      " [ 6  4  5  6  7  6]]\n"
     ]
    }
   ],
   "source": [
    "#pad()-Padding means adding elements with specified values to the boundaries of the array, \n",
    "#Syntax-numpy.pad(array, pad_width, mode, **kwargs)\n",
    "#array-existing array\n",
    "#pad_width=if we give 2 means,bofore and after it's add rwo columns\n",
    "#mode-it's describe mode of filling.there are different modes available(constant,minimum,edge,symmetric,mean,median)\n",
    "import numpy as np\n",
    "sa=np.arange(12).reshape(3,4)\n",
    "print(\"Original:\")\n",
    "print(sa)\n",
    "print(\"Constant:\")\n",
    "pad=np.pad(sa,pad_width=1,mode='constant',constant_values=0)#mode constaant fill we given value as border\n",
    "print(pad)\n",
    "print(\"Edge:\")\n",
    "pad1=np.pad(sa,pad_width=2,mode='edge')#mode edge fill last value of array as border\n",
    "print(pad1)\n",
    "print(\"Minimum:\")\n",
    "pad2=np.pad(sa,pad_width=1,mode='minimum')#mode minimum fill minimum value of array as border\n",
    "print(pad2)\n",
    "print(\"mean:\")\n",
    "pad3=np.pad(sa,pad_width=1,mode='mean')#mode mean fill by average value of array as border\n",
    "print(pad3)\n",
    "print(\"Median:\")\n",
    "pad3=np.pad(sa,pad_width=1,mode='median')#mode median fill by center value of array as border\n",
    "print(pad3)"
   ]
  },
  {
   "cell_type": "code",
   "execution_count": 130,
   "id": "8ec80a40",
   "metadata": {},
   "outputs": [
    {
     "name": "stdout",
     "output_type": "stream",
     "text": [
      "[1 2 3 4 1 2 3 4]\n",
      "-----------------------\n",
      "[[ 1  2  3  4  1  2  3  4  1  2  3  4]\n",
      " [67 90 87  0 67 90 87  0 67 90 87  0]]\n"
     ]
    }
   ],
   "source": [
    "#title()-it is used to repeat full array as we want \n",
    "sample_array=np.array([1,2,3,4])\n",
    "repeat=np.tile(sample_array,2)#no of time repeat value\n",
    "print(repeat)\n",
    "print('-----------------------')\n",
    "#2d-array\n",
    "sample_array1=np.array([[1,2,3,4],[67,90,87,0]])\n",
    "repeat1=np.tile(sample_array1,3)#no of time repeat value\n",
    "print(repeat1)"
   ]
  },
  {
   "cell_type": "code",
   "execution_count": 137,
   "id": "ef5e03d3",
   "metadata": {},
   "outputs": [
    {
     "name": "stdout",
     "output_type": "stream",
     "text": [
      "[4 4 4]\n"
     ]
    }
   ],
   "source": [
    "#just tiling specfic element\n",
    "sample_array1=np.array([[1,2,3,4],[67,90,87,0]])\n",
    "repeat1=np.tile(sample_array1[0,3],3)#no of time repeat value\n",
    "print(repeat1)"
   ]
  },
  {
   "cell_type": "code",
   "execution_count": 134,
   "id": "d20aa606",
   "metadata": {},
   "outputs": [
    {
     "name": "stdout",
     "output_type": "stream",
     "text": [
      "[1 1 2 2 3 3 4 4]\n",
      "[ 1  1  1  2  2  2  3  3  3  4  4  4 67 67 67 90 90 90 87 87 87  0  0  0]\n"
     ]
    }
   ],
   "source": [
    "#repeat()-it is used to repeat each element as we want\n",
    "sample_array=np.array([1,2,3,4])\n",
    "repeat=np.repeat(sample_array,2)\n",
    "print(repeat)\n",
    "#2d-array\n",
    "sample_array1=np.array([[1,2,3,4],[67,90,87,0]])\n",
    "repeat1=np.repeat(sample_array1,3)#no of time repeat value\n",
    "print(repeat1)"
   ]
  },
  {
   "cell_type": "code",
   "execution_count": 138,
   "id": "83a36122",
   "metadata": {},
   "outputs": [
    {
     "name": "stdout",
     "output_type": "stream",
     "text": [
      "[4 4 4]\n"
     ]
    }
   ],
   "source": [
    "#just repeating specfic element\n",
    "sample_array1=np.array([[1,2,3,4],[67,90,87,0]])\n",
    "repeat1=np.repeat(sample_array1[0,3],3)#no of time repeat value\n",
    "print(repeat1)"
   ]
  },
  {
   "cell_type": "code",
   "execution_count": 141,
   "id": "5e28e78a",
   "metadata": {},
   "outputs": [
    {
     "name": "stdout",
     "output_type": "stream",
     "text": [
      "[34.+0.j 67.+0.j 89.+0.j  8.+0.j]\n",
      "--------------------------\n",
      "Seperated it Real number:\n",
      " [34. 67. 89.  8.]\n",
      "Seperated it Imaginary number:\n",
      " [0. 0. 0. 0.]\n"
     ]
    }
   ],
   "source": [
    "#real()-It's helps to seperate real number from complex data value array\n",
    "#imag()-It's helps to seperate Imaginary number from complex data value array\n",
    "compl=np.array([34,67,89,8],dtype=complex)\n",
    "print(compl)\n",
    "print(\"--------------------------\")\n",
    "print(\"Seperated it Real number:\\n\",np.real(compl))\n",
    "imag=np.imag(compl)\n",
    "print(\"Seperated it Imaginary number:\\n\",imag)"
   ]
  },
  {
   "cell_type": "code",
   "execution_count": 17,
   "id": "52e3b5a8",
   "metadata": {},
   "outputs": [
    {
     "name": "stdout",
     "output_type": "stream",
     "text": [
      "[0 5 4 2 3 1]\n"
     ]
    }
   ],
   "source": [
    "#lexsort()-it is used to sort the elements in accending order and gives elements index position.\n",
    "#while sorting if two elements are same it sort by one more mentioned key array value\n",
    "#example array b two times 8's are there.so it will check key array(a array) equal elemnet.8--6,8--23 so it sort first 8--6 \n",
    "import numpy as np\n",
    "a=np.array([34,0,6,23,1,4])\n",
    "b=np.array([4,67,8,8,7,6])\n",
    "sort=np.lexsort((a,b))#it will sort second parameter(b),first one key array\n",
    "print(sort)"
   ]
  },
  {
   "cell_type": "code",
   "execution_count": 31,
   "id": "8bb9d3ec",
   "metadata": {},
   "outputs": [
    {
     "name": "stdout",
     "output_type": "stream",
     "text": [
      "[[0 3 2 1]\n",
      " [0 1 3 2]]\n"
     ]
    }
   ],
   "source": [
    "#lexsort()\n",
    "a=np.array([['a','b','z','d'],['e','f','g','h']])\n",
    "b=np.array([['a','o','a','a'],['a','m','o','m']])\n",
    "so=np.lexsort((a,b),axis=-1)\n",
    "print(so)"
   ]
  },
  {
   "cell_type": "code",
   "execution_count": null,
   "id": "4737330b",
   "metadata": {},
   "outputs": [],
   "source": []
  }
 ],
 "metadata": {
  "kernelspec": {
   "display_name": "Python 3 (ipykernel)",
   "language": "python",
   "name": "python3"
  },
  "language_info": {
   "codemirror_mode": {
    "name": "ipython",
    "version": 3
   },
   "file_extension": ".py",
   "mimetype": "text/x-python",
   "name": "python",
   "nbconvert_exporter": "python",
   "pygments_lexer": "ipython3",
   "version": "3.10.9"
  }
 },
 "nbformat": 4,
 "nbformat_minor": 5
}
