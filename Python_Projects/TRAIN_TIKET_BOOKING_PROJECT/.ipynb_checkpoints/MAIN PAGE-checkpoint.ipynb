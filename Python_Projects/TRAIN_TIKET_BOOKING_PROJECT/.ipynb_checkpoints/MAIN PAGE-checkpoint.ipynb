{
 "cells": [
  {
   "cell_type": "raw",
   "id": "0eecc8c5",
   "metadata": {},
   "source": [
    "# MAIN PAGE"
   ]
  },
  {
   "cell_type": "code",
   "execution_count": 102,
   "id": "ceb3e868",
   "metadata": {},
   "outputs": [],
   "source": [
    "passenger_details={}\n",
    "#tickets={'upper':[3,6,8,11,14,16,19,22,24,27,30,32,35,38,40,43,46,48,51,54,56,59,62],'lower':[1,4,7,9,12,15,17,20,23,25,28,31,33,36,39,41,44,47,49,52,55,57,60,63],'middle':[2,5,10,13,18,21,26,29,34,37,42,45,52,53,58,61]}\n",
    "#print(len(tickets['middle'])+len(tickets['lower'])+len(tickets['upper']))\n",
    "#rac=list(range(1,19))\n",
    "#waiting_list=list(range(1,11))\n",
    "#tickets={'upper':[3,6,8,11],'lower':[1,4,7,9],'middle':[2,5,10]}\n",
    "tickets={'upper':[],'lower':[],'middle':[]}\n",
    "rac=list(range(1,4))\n",
    "waiting_list=list(range(1,5))"
   ]
  },
  {
   "cell_type": "code",
   "execution_count": 105,
   "id": "d4b9e117",
   "metadata": {},
   "outputs": [
    {
     "name": "stdout",
     "output_type": "stream",
     "text": [
      "1.Book\n",
      "2.Cancel\n",
      "3.Print booked tickets\n",
      "4.Print available tickets\n",
      "5.Exit\n",
      "please Select one option:2\n",
      "cancel\n",
      "1.Book\n",
      "2.Cancel\n",
      "3.Print booked tickets\n",
      "4.Print available tickets\n",
      "5.Exit\n",
      "please Select one option:5\n"
     ]
    }
   ],
   "source": [
    "import re\n",
    "import random\n",
    "import string\n",
    "class boo():\n",
    "    def __init__(self):\n",
    "        booking_tickets=int(input(\"Enter No of tickets:\"))\n",
    "        total_tickets=len(tickets['middle'])+len(tickets['lower'])+len(tickets['upper'])+len(rac)+len(waiting_list)\n",
    "        normal_tickets=len(tickets['middle'])+len(tickets['lower'])+len(tickets['upper'])\n",
    "        rac_tickets=len(rac)\n",
    "        waiting_list_tickets=len(waiting_list)\n",
    "        temp_list2=[]\n",
    "        if (total_tickets>=booking_tickets):\n",
    "                booking_id=''.join(random.sample(string.digits,4))\n",
    "                for i in range(1,booking_tickets+1):\n",
    "                    if len(tickets['middle'])+len(tickets['lower'])+len(tickets['upper'])!=0:\n",
    "                        temp_list=[]\n",
    "                        name_list=''\n",
    "                        booking_name=input(\"Enter Your Name:\")\n",
    "                        age_list=''\n",
    "                        booking_age=int(input(\"Enter your Age:\"))\n",
    "                        preference_list=''\n",
    "                        booking_preferance=input(\"Enter Your Preference(Upper/Middle/Lower):\")\n",
    "                        available_upper=len(tickets['upper'])\n",
    "                        available_middle=len(tickets['middle'])\n",
    "                        available_lower=len(tickets['lower'])\n",
    "                        if (re.search('^upper$',booking_preferance,re.IGNORECASE)):\n",
    "                            if available_upper!=0:\n",
    "                                preference_list=booking_preferance\n",
    "                            elif available_middle!=0:\n",
    "                                print(\"sorry you given booking preference is\",booking_preferance,\"But Not Avilable so we given middle\")\n",
    "                                booking_preferance1=\"middle\"\n",
    "                                preference_list=booking_preferance1\n",
    "                            else:\n",
    "                                print(\"sorry you given booking preference is\",booking_preferance,\"But Not Avilable so we given lower\")\n",
    "                                booking_preferance1=\"lower\"\n",
    "                                preference_list=booking_preferance1\n",
    "                        if (re.search('^middle$',booking_preferance,re.IGNORECASE)):\n",
    "                            if available_middle!=0:\n",
    "                                preference_list=booking_preferance\n",
    "                            elif available_upper!=0:\n",
    "                                print(\"sorry you given booking preference is\",booking_preferance,\"But Not Avilable so we given upper\")\n",
    "                                booking_preferance1=\"upper\"\n",
    "                                preference_list=booking_preferance1\n",
    "                            else:\n",
    "                                print(\"sorry you given booking preference is\",booking_preferance,\"But Not Avilable so we given lower\")\n",
    "                                booking_preferance1=\"lower\"\n",
    "                                preference_list=booking_preferance1\n",
    "                        if (re.search('^lower$',booking_preferance,re.IGNORECASE)):\n",
    "                            if available_lower!=0:\n",
    "                                preference_list=booking_preferance\n",
    "                            elif available_upper!=0:\n",
    "                                print(\"sorry you given booking preference is\",booking_preferance,\"But Not Avilable so we given upper\")\n",
    "                                booking_preferance1=\"upper\"\n",
    "                                preference_list=booking_preferance1\n",
    "                            else:\n",
    "                                print(\"sorry you given booking preference is\",booking_preferance,\"But Not Avilable so we given middle\")\n",
    "                                booking_preferance1=\"middle\"\n",
    "                                preference_list=booking_preferance1\n",
    "                        ticket_number=tickets[preference_list][0]\n",
    "                        del tickets[preference_list][0]\n",
    "                        temp_list=[booking_name,booking_age,preference_list,ticket_number]\n",
    "                        temp_list2.append(temp_list)\n",
    "                        print(temp_list2)\n",
    "                    elif(len(rac)!=0):\n",
    "                        temp_list=[]\n",
    "                        rac_name=input(\"ENTER YOUR NAME:\")\n",
    "                        rac_age=int(input(\"Enter your Age:\"))\n",
    "                        rac_preference=input(\"Enter Your Preference(Upper/Middle/Lower):\")\n",
    "                        ticket_number=rac[0]\n",
    "                        del rac[0]\n",
    "                        temp_list=[rac_name,rac_age,rac_preference,ticket_number,\"RAC\"]\n",
    "                        print(temp_list)\n",
    "                        temp_list2.append(temp_list)\n",
    "                    elif(len(waiting_list)!=0):\n",
    "                        temp_list=[]\n",
    "                        wl_name=input(\"ENTER YOUR NAME:\")\n",
    "                        wl_age=int(input(\"Enter your Age:\"))\n",
    "                        wl_preference=input(\"Enter Your Preference(Upper/Middle/Lower):\")\n",
    "                        ticket_number=waiting_list[0]\n",
    "                        del waiting_list[0]\n",
    "                        temp_list=[wl_name,wl_age,wl_preference,ticket_number,\"wl\"]\n",
    "                        print(temp_list)\n",
    "                        temp_list2.append(temp_list)\n",
    "                    else:\n",
    "                        print(\"sorry!!!Ticket is not available..\")\n",
    "                print(\"Total Payment is:\",booking_tickets*300)\n",
    "                payment=int(input(\"Enter the Payment\"))\n",
    "                if payment==booking_tickets*300:\n",
    "                    passenger_details.update({booking_id:temp_list2})\n",
    "                    print(passenger_details)\n",
    "                    print(\"Ticket has been booked\")\n",
    "                    print(\"Your Booking Id Is:\",booking_id)\n",
    "                else:\n",
    "                    for i in range(len(temp_list2)-1,-1,-1):\n",
    "                        ticket_number2=temp_list2[i][3]\n",
    "                        preference_list2=temp_list2[i][2]\n",
    "                        if len(rac)!=3:\n",
    "                            rac.insert(0,ticket_number2)\n",
    "                        elif len(waiting_list)!=4:\n",
    "                            waiting_list.insert(0,ticket_number2)\n",
    "                        else:\n",
    "                            tickets[preference_list2].insert(0,ticket_number2)\n",
    "                        \n",
    "                    print(\"sorry Payment Failed\")\n",
    "            \n",
    "class cancel():\n",
    "    def __init__(self):\n",
    "        print(\"cancel\")\n",
    "class Available_tickets():\n",
    "    def __init__(self):\n",
    "        print(\"Available tickets\")\n",
    "class print_tickets():\n",
    "    def __init__(self):\n",
    "        print(\"Print tickets\")\n",
    "i=True\n",
    "while i:\n",
    "    print(\"1.Book\")\n",
    "    print(\"2.Cancel\")\n",
    "    print('3.Print booked tickets')\n",
    "    print('4.Print available tickets')\n",
    "    print('5.Exit')\n",
    "    inp=int(input('please Select one option:'))\n",
    "    if (re.search('^1$',str(inp))):\n",
    "        b=boo()\n",
    "    elif (re.search('^2$',str(inp))):\n",
    "        c=cancel()\n",
    "    elif (re.search('^3$',str(inp))):\n",
    "        a=Available_tickets()\n",
    "    elif (re.search('^4$',str(inp))):\n",
    "        p=print_tickets()\n",
    "    elif (re.search('^5$',str(inp))):\n",
    "        i=False\n",
    "    else:\n",
    "        print(\"please select correct value\")\n"
   ]
  },
  {
   "cell_type": "code",
   "execution_count": 104,
   "id": "e3b96ae5",
   "metadata": {},
   "outputs": [
    {
     "data": {
      "text/plain": [
       "[1, 2, 3]"
      ]
     },
     "execution_count": 104,
     "metadata": {},
     "output_type": "execute_result"
    }
   ],
   "source": [
    "#tickets\n",
    "rac\n",
    "#passenger_details"
   ]
  },
  {
   "cell_type": "code",
   "execution_count": 92,
   "id": "1a48d93f",
   "metadata": {},
   "outputs": [
    {
     "name": "stdout",
     "output_type": "stream",
     "text": [
      "[[5, 67, 42], [5, 67, 42]]\n",
      "2\n",
      "42\n",
      "42\n"
     ]
    }
   ],
   "source": [
    "li=[5,67,42]\n",
    "li3=[5,67,42]\n",
    "li2=[]\n",
    "li2.append(li)\n",
    "li2.append(li3)\n",
    "print(li2)\n",
    "print(len(li2))\n",
    "for i in range(0,len(li2)):\n",
    "    print(li2[i][2])"
   ]
  },
  {
   "cell_type": "code",
   "execution_count": 114,
   "id": "3d06b702",
   "metadata": {},
   "outputs": [
    {
     "name": "stdout",
     "output_type": "stream",
     "text": [
      "{'upper': [1, 6, 8, 11, 14, 16, 19, 22, 24, 27, 30, 32, 35, 38, 40, 43, 46, 48, 51, 54, 56, 59, 62], 'lower': [1, 2, 3]}\n"
     ]
    }
   ],
   "source": [
    "ticket={'upper':[6,8,11,14,16,19,22,24,27,30,32,35,38,40,43,46,48,51,54,56,59,62],'lower':[1,2,3]}\n",
    "ticket['upper'].insert(0,1)\n",
    "print(ticket)"
   ]
  },
  {
   "cell_type": "code",
   "execution_count": 10,
   "id": "d1672366",
   "metadata": {},
   "outputs": [
    {
     "data": {
      "text/plain": [
       "[1, 2, 3, 4, 5, 6, 7, 8, 9, 10, 11, 12, 13, 14, 15, 16, 17, 18]"
      ]
     },
     "execution_count": 10,
     "metadata": {},
     "output_type": "execute_result"
    }
   ],
   "source": [
    "rac"
   ]
  },
  {
   "cell_type": "code",
   "execution_count": null,
   "id": "0735eb5f",
   "metadata": {},
   "outputs": [],
   "source": []
  }
 ],
 "metadata": {
  "kernelspec": {
   "display_name": "Python 3 (ipykernel)",
   "language": "python",
   "name": "python3"
  },
  "language_info": {
   "codemirror_mode": {
    "name": "ipython",
    "version": 3
   },
   "file_extension": ".py",
   "mimetype": "text/x-python",
   "name": "python",
   "nbconvert_exporter": "python",
   "pygments_lexer": "ipython3",
   "version": "3.10.9"
  }
 },
 "nbformat": 4,
 "nbformat_minor": 5
}
