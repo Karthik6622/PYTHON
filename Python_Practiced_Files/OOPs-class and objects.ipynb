{
 "cells": [
  {
   "cell_type": "markdown",
   "id": "73912db5",
   "metadata": {},
   "source": [
    "# OOPs-class and objects"
   ]
  },
  {
   "cell_type": "code",
   "execution_count": 8,
   "id": "ecd6731d",
   "metadata": {},
   "outputs": [
    {
     "name": "stdout",
     "output_type": "stream",
     "text": [
      "MY Car name is hundai and color is black.\n",
      "{'carname': 'hundai', 'color': 'black'}\n"
     ]
    }
   ],
   "source": [
    "#Creating empty class\n",
    "class car:\n",
    "    pass#for empty value\n",
    "o=car()#creation of object\n",
    "o.carname=\"hundai\"\n",
    "o.color=\"black\"\n",
    "print(f\"MY Car name is {o.carname} and color is {o.color}.\")\n",
    "#if we want to output as dictionary format,we can use __dict__ method\n",
    "print(o.__dict__)"
   ]
  },
  {
   "cell_type": "code",
   "execution_count": 9,
   "id": "872305e9",
   "metadata": {},
   "outputs": [
    {
     "name": "stdout",
     "output_type": "stream",
     "text": [
      "STUDENT DETAILS\n",
      "NAME: Karthik\n",
      "DEGREE: BSC(CS)\n",
      "NATIVE: Thiruchendur\n"
     ]
    }
   ],
   "source": [
    "#variable declaration inside the class\n",
    "class stu():#()is optional while creating class\n",
    "    #variables\n",
    "    Name='Karthik'\n",
    "    Degree='BSC(CS)'\n",
    "    Native=\"Thiruchendur\"\n",
    "    #whatever we declare inside the class its called as class members\n",
    "s=stu()\n",
    "print(\"STUDENT DETAILS\")\n",
    "print(\"NAME:\",s.Name)\n",
    "print(\"DEGREE:\",s.Degree)\n",
    "print(\"NATIVE:\",s.Native)"
   ]
  },
  {
   "cell_type": "code",
   "execution_count": 11,
   "id": "a94291b9",
   "metadata": {},
   "outputs": [
    {
     "name": "stdout",
     "output_type": "stream",
     "text": [
      "The Name is:karthik and age is:23\n"
     ]
    }
   ],
   "source": [
    "#using constructor or __init__ method inside the class\n",
    "class st():\n",
    "    #constructor\n",
    "    def __init__(self,Name,age):\n",
    "        self.a=Name#if we declare variables using self, we can use variables values whole class\n",
    "        self.b=age\n",
    "    #user defined function\n",
    "    def show(self):\n",
    "        print(f'The Name is:{self.a} and age is:{self.b}')\n",
    "obj=st('karthik',23)#if we created constructor inside class,we can directly pass value through class\n",
    "obj.show()\n",
    "        "
   ]
  },
  {
   "cell_type": "code",
   "execution_count": 14,
   "id": "cac9de0f",
   "metadata": {},
   "outputs": [
    {
     "name": "stdout",
     "output_type": "stream",
     "text": [
      "The Name is:Baby and age is:23\n"
     ]
    }
   ],
   "source": [
    "#using functions inside the class\n",
    "class st1():\n",
    "    #constructor\n",
    "    def stt(self,Name,age):\n",
    "        self.a=Name#if we declare variables using self, we can use variables values whole class\n",
    "        self.b=age\n",
    "    #user defined function\n",
    "    def show(self):\n",
    "        print(f'The Name is:{self.a} and age is:{self.b}')\n",
    "obj=st1()#if we not created constructor inside class,we can't directly pass value through class\n",
    "obj.stt('Baby',23)\n",
    "obj.show()\n",
    "        "
   ]
  },
  {
   "cell_type": "code",
   "execution_count": 17,
   "id": "1744990a",
   "metadata": {},
   "outputs": [
    {
     "name": "stdout",
     "output_type": "stream",
     "text": [
      "ENTER THE NUMBER1:20\n",
      "ENTER THE NUMBER2:12\n",
      "THE RESULT IS: 32\n",
      "----------------------------------------------------------------------------------------------------\n",
      "ENTER THE NUMBER1:50\n",
      "ENTER THE NUMBER2:40\n",
      "THE RESULT IS: 90\n"
     ]
    }
   ],
   "source": [
    "#sum of two numbers using class concept getting input from keyboard\n",
    "class sum:\n",
    "    def __init__(self,a,b):\n",
    "        self.a=a\n",
    "        self.b=b\n",
    "    def result(self):\n",
    "        c=self.a+self.b\n",
    "        print(\"THE RESULT IS:\",c)\n",
    "x=int(input(\"ENTER THE NUMBER1:\"))\n",
    "y=int(input(\"ENTER THE NUMBER2:\"))\n",
    "so=sum(x,y)\n",
    "so.result()\n",
    "print('-'*100)\n",
    "class sum1:\n",
    "    def __init__(self):\n",
    "        x=int(input(\"ENTER THE NUMBER1:\"))\n",
    "        y=int(input(\"ENTER THE NUMBER2:\"))\n",
    "        self.x=x\n",
    "        self.y=y\n",
    "    def result1(self):\n",
    "        c=self.x+self.y\n",
    "        print(\"THE RESULT IS:\",c)\n",
    "su=sum1()\n",
    "su.result1()"
   ]
  },
  {
   "cell_type": "code",
   "execution_count": 30,
   "id": "a564c7a6",
   "metadata": {},
   "outputs": [
    {
     "name": "stdout",
     "output_type": "stream",
     "text": [
      "1.deposit\n",
      "2.withdraw\n",
      "3.Show_balance\n",
      "4.exit\n",
      "Please choose Any one Option(1/2/3/4):1\n",
      "ENTER THE MONEY YOU WANT TO DEPOSIT:10000\n",
      "Your money has been deposited successfully\n",
      "1.deposit\n",
      "2.withdraw\n",
      "3.Show_balance\n",
      "4.exit\n",
      "Please choose Any one Option(1/2/3/4):3\n",
      "YOUR ACCOUNT BALANCE IS: 10000\n",
      "1.deposit\n",
      "2.withdraw\n",
      "3.Show_balance\n",
      "4.exit\n",
      "Please choose Any one Option(1/2/3/4):1\n",
      "ENTER THE MONEY YOU WANT TO DEPOSIT:100\n",
      "Your money has been deposited successfully\n",
      "1.deposit\n",
      "2.withdraw\n",
      "3.Show_balance\n",
      "4.exit\n",
      "Please choose Any one Option(1/2/3/4):2\n",
      "ENTER THE MONEY YOU WANT TO withdraw:100\n",
      "Your money has been withdrawn successfully\n",
      "1.deposit\n",
      "2.withdraw\n",
      "3.Show_balance\n",
      "4.exit\n",
      "Please choose Any one Option(1/2/3/4):3\n",
      "YOUR ACCOUNT BALANCE IS: 10000\n",
      "1.deposit\n",
      "2.withdraw\n",
      "3.Show_balance\n",
      "4.exit\n",
      "Please choose Any one Option(1/2/3/4):5\n",
      "please enter proper option\n"
     ]
    }
   ],
   "source": [
    "#A python program to create a bank class where deposits and withdrawls can be handled by using instance methods\n",
    "class bank:\n",
    "    def __init__(self):\n",
    "        self.amount=0\n",
    "    def deposit(self):\n",
    "        deposit_amount=int(input(\"ENTER THE MONEY YOU WANT TO DEPOSIT:\"))\n",
    "        if(deposit_amount>=100 and deposit_amount<=10000):\n",
    "            self.amount+=deposit_amount\n",
    "            print(\"Your money has been deposited successfully\")\n",
    "        else:\n",
    "            print(\"Please Enter more than 100 and less than or equal to 10000\")\n",
    "        \n",
    "    def withdraw(self):\n",
    "        withdraw_amount=int(input(\"ENTER THE MONEY YOU WANT TO withdraw:\"))\n",
    "        if(self.amount>=withdraw_amount):\n",
    "            self.amount-=withdraw_amount\n",
    "            print(\"Your money has been withdrawn successfully\")\n",
    "        else:\n",
    "            print(\"insufficient balance\")\n",
    "    def show_balance(self):\n",
    "        print(\"YOUR ACCOUNT BALANCE IS:\",self.amount)\n",
    "i=True\n",
    "b=bank() \n",
    "while i==True:\n",
    "    print(\"1.deposit\")\n",
    "    print(\"2.withdraw\")\n",
    "    print(\"3.Show_balance\")\n",
    "    print(\"4.exit\")\n",
    "    choose=int(input(\"Please choose Any one Option(1/2/3/4):\"))\n",
    "    if(choose==1):\n",
    "        b.deposit()  \n",
    "    elif(choose==2):\n",
    "        b.withdraw()\n",
    "    elif(choose==3):\n",
    "        b.show_balance()\n",
    "    elif(choose==4):\n",
    "        i=False\n",
    "    else:\n",
    "        print(\"please enter proper option\")\n",
    "        i=False"
   ]
  },
  {
   "cell_type": "code",
   "execution_count": null,
   "id": "06a0ab57",
   "metadata": {},
   "outputs": [],
   "source": []
  }
 ],
 "metadata": {
  "kernelspec": {
   "display_name": "Python 3 (ipykernel)",
   "language": "python",
   "name": "python3"
  },
  "language_info": {
   "codemirror_mode": {
    "name": "ipython",
    "version": 3
   },
   "file_extension": ".py",
   "mimetype": "text/x-python",
   "name": "python",
   "nbconvert_exporter": "python",
   "pygments_lexer": "ipython3",
   "version": "3.10.9"
  }
 },
 "nbformat": 4,
 "nbformat_minor": 5
}
