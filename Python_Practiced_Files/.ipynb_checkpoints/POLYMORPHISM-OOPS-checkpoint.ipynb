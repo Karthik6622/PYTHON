{
 "cells": [
  {
   "cell_type": "markdown",
   "id": "5a9a9968",
   "metadata": {},
   "source": [
    "# POLYMORPHISM-OOPS"
   ]
  },
  {
   "cell_type": "code",
   "execution_count": 11,
   "id": "c8f64f63",
   "metadata": {},
   "outputs": [
    {
     "name": "stdout",
     "output_type": "stream",
     "text": [
      "New Delhi is India capital\n",
      "Hindi is most speaking language\n",
      "India is one of the developing country\n",
      "WasingtonD.C is US capital\n",
      "English is most speaking language\n",
      "US is developed country\n"
     ]
    }
   ],
   "source": [
    "class india:\n",
    "    def capital(self):\n",
    "        print(\"New Delhi is India capital\")\n",
    "    def language(self):\n",
    "        print(\"Hindi is most speaking language\")\n",
    "    def type(self):\n",
    "        print(\"India is one of the developing country\")\n",
    "class usa:\n",
    "    def capital(self):\n",
    "        print(\"WasingtonD.C is US capital\")\n",
    "    def language(self):\n",
    "        print(\"English is most speaking language\")\n",
    "    def type(self):\n",
    "        print(\"US is developed country\")\n",
    "obj_ind=india()\n",
    "obj_usa=usa()\n",
    "for country in (obj_ind,obj_usa):\n",
    "    country.capital()\n",
    "    country.language()\n",
    "    country.type()"
   ]
  },
  {
   "cell_type": "code",
   "execution_count": 13,
   "id": "596030cb",
   "metadata": {},
   "outputs": [
    {
     "name": "stdout",
     "output_type": "stream",
     "text": [
      "[87, 90, 7]\n",
      "[6, 9, 8, 6]\n"
     ]
    }
   ],
   "source": [
    "list1=[87,90,7]\n",
    "list2=[6,9,8,6]\n",
    "for i in (list1,list2):\n",
    "    print(i)"
   ]
  },
  {
   "cell_type": "code",
   "execution_count": null,
   "id": "b16a3648",
   "metadata": {},
   "outputs": [],
   "source": []
  }
 ],
 "metadata": {
  "kernelspec": {
   "display_name": "Python 3 (ipykernel)",
   "language": "python",
   "name": "python3"
  },
  "language_info": {
   "codemirror_mode": {
    "name": "ipython",
    "version": 3
   },
   "file_extension": ".py",
   "mimetype": "text/x-python",
   "name": "python",
   "nbconvert_exporter": "python",
   "pygments_lexer": "ipython3",
   "version": "3.10.9"
  }
 },
 "nbformat": 4,
 "nbformat_minor": 5
}
