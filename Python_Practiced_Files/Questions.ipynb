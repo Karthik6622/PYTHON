{
 "cells": [
  {
   "cell_type": "markdown",
   "id": "c44b6696",
   "metadata": {},
   "source": [
    "# Questions:"
   ]
  },
  {
   "cell_type": "code",
   "execution_count": 6,
   "id": "38cd36ff",
   "metadata": {},
   "outputs": [
    {
     "name": "stdout",
     "output_type": "stream",
     "text": [
      "Enter the String Value:is it\n",
      "Output is: is it\n"
     ]
    }
   ],
   "source": [
    "#1.Write a program to replace 'there' word with 'their word in a string'\n",
    "#first method\n",
    "str_input=input(\"Enter the String Value:\")\n",
    "list1=str_input.split(\" \")\n",
    "for j,i in enumerate(list1):\n",
    "    if('there'== i):\n",
    "        list1[j]=\"their\"\n",
    "output_string=' '.join(list1)\n",
    "print(\"Output is:\",output_string)\n",
    "\n",
    "\n",
    "        "
   ]
  },
  {
   "cell_type": "code",
   "execution_count": null,
   "id": "5b26255d",
   "metadata": {},
   "outputs": [],
   "source": [
    "#2.Write a function that returns the reverse of the "
   ]
  },
  {
   "cell_type": "code",
   "execution_count": 26,
   "id": "cf1917ef",
   "metadata": {},
   "outputs": [
    {
     "name": "stdout",
     "output_type": "stream",
     "text": [
      "Enter the Input Value:123\n",
      "{1: 'A', 2: 'B', 3: 'C', 4: 'D', 5: 'E', 6: 'F', 7: 'G', 8: 'H', 9: 'I', 10: 'J', 11: 'K', 12: 'L', 13: 'M', 14: 'N', 15: 'O', 16: 'P', 17: 'Q', 18: 'R', 19: 'S', 20: 'T', 21: 'U', 22: 'V', 23: 'W', 24: 'X', 25: 'Y', 26: 'Z'}\n",
      "[1, 2, 3]\n",
      "ABC"
     ]
    }
   ],
   "source": [
    "'''\n",
    "write a program  to take numbers as input and print all string combination from given numbers\n",
    "Example input:\n",
    "152\n",
    "Example Output:\n",
    "AEB,OB\n",
    "'''\n",
    "import string\n",
    "User_input=int(input(\"Enter the Input Value:\"))\n",
    "s=string.ascii_uppercase\n",
    "dic={}\n",
    "for j,i in enumerate(s):\n",
    "    dic[j+1]=i\n",
    "print(dic)\n",
    "li=[int(l) for l in str(User_input)]\n",
    "print(li)\n",
    "for k in li:\n",
    "    print(dic[k],end=\"\")\n",
    "for m in li:\n",
    "    pass\n",
    "    "
   ]
  },
  {
   "cell_type": "code",
   "execution_count": 16,
   "id": "426516eb",
   "metadata": {},
   "outputs": [
    {
     "ename": "TypeError",
     "evalue": "list indices must be integers or slices, not list",
     "output_type": "error",
     "traceback": [
      "\u001b[1;31m---------------------------------------------------------------------------\u001b[0m",
      "\u001b[1;31mTypeError\u001b[0m                                 Traceback (most recent call last)",
      "Cell \u001b[1;32mIn[16], line 8\u001b[0m\n\u001b[0;32m      5\u001b[0m     \u001b[38;5;28;01mif\u001b[39;00m (nums[i]\u001b[38;5;241m==\u001b[39mval):\n\u001b[0;32m      6\u001b[0m         position\u001b[38;5;241m.\u001b[39mappend(i)\n\u001b[1;32m----> 8\u001b[0m \u001b[38;5;28;01mdel\u001b[39;00m nums[position]\n\u001b[0;32m     10\u001b[0m \u001b[38;5;28mprint\u001b[39m(nums)\n",
      "\u001b[1;31mTypeError\u001b[0m: list indices must be integers or slices, not list"
     ]
    }
   ],
   "source": [
    "nums=[0,1,2,2,3,0,4,2,2]\n",
    "val=2\n",
    "position=[]\n",
    "for i in range(len(nums)):\n",
    "    if (nums[i]==val):\n",
    "        position.append(i)\n",
    "\n",
    "del nums[position]\n",
    "    \n",
    "print(nums)\n",
    "    "
   ]
  },
  {
   "cell_type": "code",
   "execution_count": 24,
   "id": "2d6aae8d",
   "metadata": {},
   "outputs": [
    {
     "name": "stdout",
     "output_type": "stream",
     "text": [
      "[0, 1, 2, 2, 0, 4, 2]\n"
     ]
    }
   ],
   "source": [
    "nums=[0,1,2,2,3,0,4,2]\n",
    "val=3\n",
    "nums=[n for n in nums if n!=val]\n",
    "print(nums)"
   ]
  },
  {
   "cell_type": "code",
   "execution_count": 23,
   "id": "7f900cff",
   "metadata": {},
   "outputs": [
    {
     "name": "stdout",
     "output_type": "stream",
     "text": [
      "[0, 1, 3, 0, 4]\n"
     ]
    }
   ],
   "source": [
    "def remove_all_elements(input_list, element_to_remove):\n",
    "    \"\"\"\n",
    "    Removes all occurrences of the specified element from the list.\n",
    "    \n",
    "    Args:\n",
    "        input_list (list): The list from which to remove elements.\n",
    "        element_to_remove: The element to be removed from the list.\n",
    "    \"\"\"\n",
    "    # Use a list comprehension to create a new list with elements that are not equal to element_to_remove\n",
    "    input_list[:] = [item for item in input_list if item != element_to_remove]\n",
    "\n",
    "# Example usage:\n",
    "my_list = [0,1,2,2,3,0,4,2]\n",
    "element_to_remove = 2\n",
    "\n",
    "remove_all_elements(my_list, element_to_remove)\n",
    "print(my_list)  # The list will now contain [1, 3, 4, 5]\n"
   ]
  },
  {
   "cell_type": "code",
   "execution_count": 26,
   "id": "a8675aab",
   "metadata": {},
   "outputs": [
    {
     "name": "stdout",
     "output_type": "stream",
     "text": [
      "[0, 1, 2, 3, 0, 2]\n"
     ]
    }
   ],
   "source": [
    "my_list = [0,1,2,2,3,0,4,2]\n",
    "elements_to_remove = [2, 4]\n",
    "\n",
    "for element in elements_to_remove:\n",
    "    my_list.remove(element)\n",
    "\n",
    "print(my_list)  # Output: [1, 3, 5]\n"
   ]
  },
  {
   "cell_type": "code",
   "execution_count": null,
   "id": "96afe9fb",
   "metadata": {},
   "outputs": [],
   "source": []
  }
 ],
 "metadata": {
  "kernelspec": {
   "display_name": "Python 3 (ipykernel)",
   "language": "python",
   "name": "python3"
  },
  "language_info": {
   "codemirror_mode": {
    "name": "ipython",
    "version": 3
   },
   "file_extension": ".py",
   "mimetype": "text/x-python",
   "name": "python",
   "nbconvert_exporter": "python",
   "pygments_lexer": "ipython3",
   "version": "3.10.9"
  }
 },
 "nbformat": 4,
 "nbformat_minor": 5
}
