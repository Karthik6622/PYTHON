{
 "cells": [
  {
   "cell_type": "markdown",
   "id": "53cfc064",
   "metadata": {},
   "source": [
    "# REGULAR EXPRESSION"
   ]
  },
  {
   "cell_type": "code",
   "execution_count": 51,
   "id": "acd9096d",
   "metadata": {},
   "outputs": [
    {
     "name": "stdout",
     "output_type": "stream",
     "text": [
      "None\n"
     ]
    }
   ],
   "source": [
    "#RegEx-it is used to check if the string has given search pattern\n",
    "import re#RegEx module\n",
    "#match()\n",
    "s=\"karthik is a good boy\"\n",
    "print(re.match('is',s))\n",
    "\n",
    "#'''\n",
    "#if b:\n",
    "   # print(\"Match found\")\n",
    "#else:\n",
    "#    print(\"Match not found\")\n",
    "#'''"
   ]
  },
  {
   "cell_type": "code",
   "execution_count": 36,
   "id": "b19a901b",
   "metadata": {},
   "outputs": [
    {
     "name": "stdout",
     "output_type": "stream",
     "text": [
      "<re.Match object; span=(8, 10), match='is'>\n",
      "8\n",
      "10\n",
      "None\n"
     ]
    }
   ],
   "source": [
    "#search() function-this one give match object\n",
    "s=\"Karthik is a good boy is\"\n",
    "x=re.search('is',s)#even if string has two 'is',it will give first one positon only\n",
    "y=re.search('mani',s)#if searching pattern not available in string,it will give None value\n",
    "print(x)\n",
    "print(x.start())#it's give output as staring position of matching string\n",
    "print(x.end())#it's give output as ending position of matching string\n",
    "print(y)"
   ]
  },
  {
   "cell_type": "code",
   "execution_count": 53,
   "id": "f6047c57",
   "metadata": {},
   "outputs": [
    {
     "name": "stdout",
     "output_type": "stream",
     "text": [
      "<re.Match object; span=(7, 8), match=' '>\n",
      "(0, 7)\n",
      "karthik is a good boy\n",
      "karthik\n"
     ]
    }
   ],
   "source": [
    "#search\n",
    "z=re.search('\\s',s)#'\\s' represent a space\n",
    "print(z)\n",
    "#match objects properties in search\n",
    "#span()-\"it's give output as matching positions\"\n",
    "z1=re.search(\"karthik\",s)\n",
    "print(z1.span())\n",
    "#string=it's give output as full string even unmath and march strigs\n",
    "z2=re.search(\"karthik\",s)\n",
    "print(z2.string)\n",
    "#group()=it's give output as a match string\n",
    "z3=re.search(\"karthik\",s)\n",
    "print(z3.group())"
   ]
  },
  {
   "cell_type": "code",
   "execution_count": 42,
   "id": "72ea1e39",
   "metadata": {},
   "outputs": [
    {
     "name": "stdout",
     "output_type": "stream",
     "text": [
      "['very', 'very']\n",
      "['baby']\n",
      "['g', 'g', 'g', 'g']\n",
      "[]\n"
     ]
    }
   ],
   "source": [
    "#findall()-this function used to give all match strings as a list\n",
    "s=\"baby is a very good girl and very gorgeous too\"\n",
    "a=re.findall('very',s)\n",
    "a1=re.findall('baby',s)\n",
    "a3=re.findall('g',s)\n",
    "print(a)\n",
    "print(a1)\n",
    "print(a3)\n",
    "#if we nmatch value,it will be empty\n",
    "a2=re.findall('karthik',s)\n",
    "print(a2)"
   ]
  },
  {
   "cell_type": "code",
   "execution_count": 44,
   "id": "284df22d",
   "metadata": {},
   "outputs": [
    {
     "name": "stdout",
     "output_type": "stream",
     "text": [
      "['Always', 'be', 'happy', 'do', 'not', 'feel', 'bad']\n",
      "['Always', 'be', 'happy', 'do', 'not', 'feel', 'bad']\n"
     ]
    }
   ],
   "source": [
    "#split()-this function used to split the string as a list where matches present\n",
    "s='Always be happy do not feel bad'\n",
    "q=re.split(' ',s)\n",
    "q1=re.split('\\s',s)#\\s also represent space\n",
    "print(q)\n",
    "print(q1)"
   ]
  },
  {
   "cell_type": "code",
   "execution_count": 47,
   "id": "8914ca98",
   "metadata": {},
   "outputs": [
    {
     "name": "stdout",
     "output_type": "stream",
     "text": [
      "['Always', 'be', 'happy do not feel bad']\n"
     ]
    }
   ],
   "source": [
    "#we can control the number of occurrences by specifying the maxsplit parameter:\n",
    "q2=re.split('\\s',s,2)#2-is maxsplit parameter\n",
    "print(q2)"
   ]
  },
  {
   "cell_type": "code",
   "execution_count": 48,
   "id": "5ebb9f90",
   "metadata": {},
   "outputs": [
    {
     "name": "stdout",
     "output_type": "stream",
     "text": [
      "Baby@is@always@my@dream@girl\n"
     ]
    }
   ],
   "source": [
    "#sub()-it will replace we given string to matches string position\n",
    "s=\"Baby is always my dream girl\"\n",
    "s1=re.sub(' ','@',s)#' '-replacable string,'@'-replacing string\n",
    "print(s1)"
   ]
  },
  {
   "cell_type": "code",
   "execution_count": 49,
   "id": "aa492ef8",
   "metadata": {},
   "outputs": [
    {
     "name": "stdout",
     "output_type": "stream",
     "text": [
      "Baby@is@always my dream girl\n"
     ]
    }
   ],
   "source": [
    "#we can control the number of replacements by specifying the count parameter\n",
    "s2=re.sub(' ','@',s,2)#2-number of replacement\n",
    "print(s2)"
   ]
  },
  {
   "cell_type": "code",
   "execution_count": 58,
   "id": "0a0459f9",
   "metadata": {},
   "outputs": [
    {
     "name": "stdout",
     "output_type": "stream",
     "text": [
      "['h', 'b', 'b', 'h', 'b', 'e', 'e', 'n', 'c', 'm', 'e', 'i', 'n', 'm', 'l', 'i', 'f', 'e']\n",
      "<re.Match object; span=(4, 5), match='b'>\n"
     ]
    }
   ],
   "source": [
    "#metacharacters:\n",
    "#[]-using this we can give set of charcter\n",
    "s=\"Why baby has been come in my life?\"\n",
    "ss=re.findall('[b-n]',s)##Find all lower case characters alphabetically between \"b\" and \"n\":\n",
    "ss1=re.search('[b]',s)\n",
    "#ss2=re.search('[b-a]',s)#error will come because we coud not give z-a format\n",
    "print(ss)\n",
    "print(ss1)\n",
    "#print(ss2)"
   ]
  },
  {
   "cell_type": "code",
   "execution_count": 59,
   "id": "1785074f",
   "metadata": {},
   "outputs": [
    {
     "name": "stdout",
     "output_type": "stream",
     "text": [
      "['2', '4', '5', '6']\n"
     ]
    }
   ],
   "source": [
    "#\\-special sequence. with this we can fetch digit only alphapet and more...\n",
    "#\\d=return digits\n",
    "sss='kar2456'\n",
    "sss1=re.findall('\\d',sss)\n",
    "print(sss1)"
   ]
  },
  {
   "cell_type": "code",
   "execution_count": 62,
   "id": "876573e5",
   "metadata": {},
   "outputs": [
    {
     "name": "stdout",
     "output_type": "stream",
     "text": [
      "['hello']\n",
      "<re.Match object; span=(6, 11), match='world'>\n"
     ]
    }
   ],
   "source": [
    "#.-we can specify any character using . \n",
    "s='hello world'\n",
    "ss=re.findall('.e..o',s)\n",
    "ss1=re.search('....d',s)\n",
    "print(ss)\n",
    "print(ss1)"
   ]
  },
  {
   "cell_type": "code",
   "execution_count": 70,
   "id": "a33df1d9",
   "metadata": {},
   "outputs": [
    {
     "name": "stdout",
     "output_type": "stream",
     "text": [
      "It's start with word of we and end with character of s\n"
     ]
    }
   ],
   "source": [
    "#^-we can check string starting value as we serching \n",
    "#$-we can check string ending value as we serching\n",
    "s=\"we are all brothers and sisters\"\n",
    "if re.search('^we',s) and  re.search('s$',s):\n",
    "    print(\"It's start with word of we and end with character of s\")\n",
    "else:\n",
    "    print(\"It's not start with word of we and end with not character of s\")\n"
   ]
  },
  {
   "cell_type": "code",
   "execution_count": 107,
   "id": "89f13f6a",
   "metadata": {},
   "outputs": [
    {
     "name": "stdout",
     "output_type": "stream",
     "text": [
      "['night']\n",
      "['good', 'good']\n",
      "['to ', 'to ']\n",
      "----------------------------------------------------------------------------------------------------\n",
      "<re.Match object; span=(0, 11), match='good night '>\n",
      "<re.Match object; span=(0, 18), match='good night to all '>\n",
      "<re.Match object; span=(0, 5), match='good '>\n"
     ]
    }
   ],
   "source": [
    "#*=we can use this for zero or more occurence that means if we put * means it will take remaing all characters\n",
    "#+=we can use this for one or more occurence that means if we put + means it will take remaing all characters\n",
    "#?=we can use this for zero or one occurence \n",
    "#we need to put . before *,+,? and these are so usefull for search() function\n",
    "s=\"good night to all and advance good morning to all\"\n",
    "s1=re.findall('nigh*t',s)#zero occurence\n",
    "s11=re.findall('go+d',s)#one occurence\n",
    "s12=re.findall('.?o ',s)#one occureence\n",
    "print(s1)\n",
    "print(s11)\n",
    "print(s12)\n",
    "print('-'*100)\n",
    "s2=re.search('goo.*t ',s)\n",
    "s21=re.search('goo.+all ',s)\n",
    "s22=re.search('go.?d ',s)\n",
    "print(s2)\n",
    "print(s21)\n",
    "print(s22)"
   ]
  },
  {
   "cell_type": "code",
   "execution_count": 116,
   "id": "5c3711c8",
   "metadata": {},
   "outputs": [
    {
     "name": "stdout",
     "output_type": "stream",
     "text": [
      "['This']\n",
      "['is', 'is', 'karthik']\n",
      "<re.Match object; span=(2, 3), match='i'>\n",
      "[' is', 'karthik']\n",
      "[' is']\n"
     ]
    }
   ],
   "source": [
    "#{}-here we can give Exactly the specified number of occurrences\n",
    "#|=with this we can check either one string is present\n",
    "s=\"This is karthik\"\n",
    "a1=re.findall(\"T.{3}\",s)\n",
    "a2=re.findall(\"is|karthik\",s)\n",
    "a3=re.search('i{1}',s)\n",
    "a4=re.findall(\" is|karthik\",s)\n",
    "a5=re.findall(\" is|karthik789\",s)\n",
    "print(a1)\n",
    "print(a2)\n",
    "print(a3)\n",
    "print(a4)\n",
    "print(a5)"
   ]
  },
  {
   "cell_type": "code",
   "execution_count": null,
   "id": "baeaeee5",
   "metadata": {},
   "outputs": [],
   "source": [
    "#()-"
   ]
  },
  {
   "cell_type": "code",
   "execution_count": null,
   "id": "d24642af",
   "metadata": {},
   "outputs": [],
   "source": []
  }
 ],
 "metadata": {
  "kernelspec": {
   "display_name": "Python 3 (ipykernel)",
   "language": "python",
   "name": "python3"
  },
  "language_info": {
   "codemirror_mode": {
    "name": "ipython",
    "version": 3
   },
   "file_extension": ".py",
   "mimetype": "text/x-python",
   "name": "python",
   "nbconvert_exporter": "python",
   "pygments_lexer": "ipython3",
   "version": "3.10.9"
  }
 },
 "nbformat": 4,
 "nbformat_minor": 5
}
