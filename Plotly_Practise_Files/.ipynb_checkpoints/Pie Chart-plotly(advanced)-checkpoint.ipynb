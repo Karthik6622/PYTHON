{
 "cells": [
  {
   "cell_type": "markdown",
   "id": "69571ea0",
   "metadata": {},
   "source": [
    "# Pie Chart"
   ]
  },
  {
   "cell_type": "markdown",
   "id": "bc7a34c1",
   "metadata": {},
   "source": [
    "In Plotly, a pie chart is a type of chart used to represent data as a circular graph, where the whole circle represents the total data set (100%), and individual segments or \"slices\" of the pie represent portions of the whole based on their relative sizes or proportions."
   ]
  },
  {
   "cell_type": "code",
   "execution_count": 1,
   "id": "71afc39a",
   "metadata": {},
   "outputs": [],
   "source": [
    "from plotly.offline import plot\n",
    "import plotly.graph_objs as go"
   ]
  },
  {
   "cell_type": "markdown",
   "id": "31745de7",
   "metadata": {},
   "source": [
    "# Simple Pie Chart"
   ]
  },
  {
   "cell_type": "code",
   "execution_count": 2,
   "id": "49f15ecb",
   "metadata": {},
   "outputs": [
    {
     "data": {
      "text/plain": [
       "'temp-plot.html'"
      ]
     },
     "execution_count": 2,
     "metadata": {},
     "output_type": "execute_result"
    }
   ],
   "source": [
    "labels=['Oxygen','Hydrogen','Carbon_Dioxide','Nitrogen']\n",
    "values=[4500,3000,2980,1980]\n",
    "trace=go.Pie(labels=labels,values=values)\n",
    "plot([trace])"
   ]
  },
  {
   "cell_type": "markdown",
   "id": "9933fd10",
   "metadata": {},
   "source": [
    "# Styled Pie Chart"
   ]
  },
  {
   "cell_type": "code",
   "execution_count": 3,
   "id": "475bce0f",
   "metadata": {},
   "outputs": [
    {
     "data": {
      "text/plain": [
       "'temp-plot.html'"
      ]
     },
     "execution_count": 3,
     "metadata": {},
     "output_type": "execute_result"
    }
   ],
   "source": [
    "labels=['Oxygen','Hydrogen','Carbon_Dioxide','Nitrogen']\n",
    "values=[4500,3000,2980,1980]\n",
    "colors=['yellow','blue','green','red']\n",
    "trace=go.Pie(labels=labels,values=values,\n",
    "             hoverinfo=\"label+percent\",#while move mouse near the pie chart slice,it will display label and percentage\n",
    "             textinfo=\"label+percent+value\",#pie chart slice top of the label text change as (oxegen 36.1% 4500...)\n",
    "             textfont=dict(size=20),\n",
    "             marker=dict(\n",
    "             colors=colors,\n",
    "             line=dict(\n",
    "             width=2,\n",
    "             color=\"orange\"\n",
    "             ),\n",
    "             )\n",
    "            \n",
    "            )\n",
    "# Define the layout with custom attributes\n",
    "layout = go.Layout(\n",
    "    title=dict(\n",
    "        text=\"Pie Chart\",\n",
    "        x=0.46,  # X-coordinate of the title\n",
    "        y=0.9,   # Y-coordinate of the title\n",
    "        font=dict(size=20, family=\"Arial\"),  # Font settings\n",
    "    ),\n",
    "    paper_bgcolor=\"pink\",  # Background color of the entire chart\n",
    "    plot_bgcolor=\"grey\"    # Background color of the plot area\n",
    ")\n",
    "\n",
    "fig=go.Figure([trace],layout=layout)\n",
    "plot(fig)"
   ]
  },
  {
   "cell_type": "code",
   "execution_count": null,
   "id": "a30d90af",
   "metadata": {},
   "outputs": [],
   "source": []
  }
 ],
 "metadata": {
  "kernelspec": {
   "display_name": "Python 3 (ipykernel)",
   "language": "python",
   "name": "python3"
  },
  "language_info": {
   "codemirror_mode": {
    "name": "ipython",
    "version": 3
   },
   "file_extension": ".py",
   "mimetype": "text/x-python",
   "name": "python",
   "nbconvert_exporter": "python",
   "pygments_lexer": "ipython3",
   "version": "3.10.9"
  }
 },
 "nbformat": 4,
 "nbformat_minor": 5
}
