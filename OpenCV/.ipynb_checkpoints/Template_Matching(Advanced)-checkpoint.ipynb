{
 "cells": [
  {
   "cell_type": "markdown",
   "id": "3c542197",
   "metadata": {},
   "source": [
    "# Template_Matching in opencv"
   ]
  },
  {
   "cell_type": "markdown",
   "id": "c830ebf3",
   "metadata": {},
   "source": [
    "Template matching in OpenCV is a technique used to locate a template (a small image) within a larger image."
   ]
  },
  {
   "cell_type": "code",
   "execution_count": 1,
   "id": "72e51d2c",
   "metadata": {},
   "outputs": [],
   "source": [
    "import cv2"
   ]
  },
  {
   "cell_type": "code",
   "execution_count": 105,
   "id": "b6204f17",
   "metadata": {},
   "outputs": [],
   "source": [
    "#read the image\n",
    "img=cv2.imread(\"ronaldo.jfif\")\n",
    "cv2.imshow(\"Ronaldo\",img)\n",
    "#read and display template image  or small part image\n",
    "template_img=cv2.imread(\"ronaldo_head.JPG\",0)\n",
    "cv2.imshow(\"Ronaldo-head\",template_img)\n",
    "cv2.waitKey()\n",
    "cv2.destroyAllWindows()"
   ]
  },
  {
   "cell_type": "code",
   "execution_count": 106,
   "id": "c50c2720",
   "metadata": {},
   "outputs": [
    {
     "name": "stdout",
     "output_type": "stream",
     "text": [
      "[[ 0.3176113   0.33278793  0.34898403 ... -0.21595645 -0.21320571\n",
      "  -0.21056429]\n",
      " [ 0.3085985   0.32351404  0.3392881  ... -0.21454288 -0.21150179\n",
      "  -0.20853753]\n",
      " [ 0.29849142  0.31284118  0.32857478 ... -0.21455881 -0.21108875\n",
      "  -0.20759916]\n",
      " ...\n",
      " [ 0.0488948   0.05100452  0.0538083  ...  0.04305733  0.04268197\n",
      "   0.04271546]\n",
      " [ 0.07982642  0.08114041  0.08374973 ...  0.0386825   0.03631224\n",
      "   0.03450163]\n",
      " [ 0.10456778  0.10506848  0.10592974 ...  0.035217    0.03171436\n",
      "   0.02909144]]\n"
     ]
    }
   ],
   "source": [
    "#chaning original imag to grayscale\n",
    "gray=cv2.cvtColor(img,cv2.COLOR_RGB2GRAY)\n",
    "#finding the matching\n",
    "res=cv2.matchTemplate(gray,template_img,cv2.TM_CCOEFF_NORMED)\n",
    "print(res)\n",
    "#here we can see lot of pixel values are there.so from here we can take matching value"
   ]
  },
  {
   "cell_type": "code",
   "execution_count": 107,
   "id": "1caf71bc",
   "metadata": {},
   "outputs": [
    {
     "name": "stdout",
     "output_type": "stream",
     "text": [
      "(array([65], dtype=int64), array([144], dtype=int64))\n"
     ]
    }
   ],
   "source": [
    "#matching template has higher pixel rate so we can fetch like that\n",
    "import numpy as np\n",
    "threshold=0.5286\n",
    "loc=np.where(threshold<=res)\n",
    "print(loc)#here we need only two higher values so we used threshold variable to fetch two vaalues"
   ]
  },
  {
   "cell_type": "code",
   "execution_count": null,
   "id": "049b164c",
   "metadata": {},
   "outputs": [],
   "source": []
  },
  {
   "cell_type": "code",
   "execution_count": 108,
   "id": "50b5ac61",
   "metadata": {},
   "outputs": [
    {
     "name": "stdout",
     "output_type": "stream",
     "text": [
      "108 90\n"
     ]
    }
   ],
   "source": [
    "#Finding the template img width and height\n",
    "w,h=template_img.shape[:]\n",
    "print(w,h)"
   ]
  },
  {
   "cell_type": "code",
   "execution_count": 109,
   "id": "4ca39742",
   "metadata": {},
   "outputs": [],
   "source": [
    "#draw the rectange of matching orginal image template\n",
    "for pt in zip(*loc[::-1]):\n",
    "    cv2.rectangle(img,(pt[0],pt[1]-20),(w,h),(0,0,255),2)\n",
    "cv2.imshow(\"Ronaldo-head\",img)\n",
    "cv2.waitKey()\n",
    "cv2.destroyAllWindows()"
   ]
  },
  {
   "cell_type": "code",
   "execution_count": 137,
   "id": "cb832ecd",
   "metadata": {},
   "outputs": [],
   "source": [
    "#blending the same image using hstack function\n",
    "img1=cv2.imread(\"ronaldo.jfif\")\n",
    "img2=cv2.imread(\"ronaldo.jfif\")\n",
    "imm=np.hstack((img1,img2))\n",
    "cv2.imshow(\"Ronaldo\",imm)\n",
    "cv2.waitKey()\n",
    "cv2.destroyAllWindows()"
   ]
  },
  {
   "cell_type": "code",
   "execution_count": 138,
   "id": "09e56296",
   "metadata": {},
   "outputs": [
    {
     "name": "stdout",
     "output_type": "stream",
     "text": [
      "90 108\n",
      "(array([65, 65], dtype=int64), array([144, 453], dtype=int64))\n"
     ]
    }
   ],
   "source": [
    "#finding matched two positions by templete image\n",
    "template=cv2.imread(\"ronaldo_head.JPG\",0)\n",
    "w,h=template.shape[::-1]\n",
    "print(w,h)\n",
    "gray1=cv2.cvtColor(imm,cv2.COLOR_RGB2GRAY)\n",
    "#finding the matching\n",
    "res1=cv2.matchTemplate(gray1,template,cv2.TM_CCOEFF_NORMED)\n",
    "threshold=0.5286\n",
    "loc=np.where(res1>=threshold)\n",
    "print(loc)\n",
    "for pt in zip(*loc[::-1]):\n",
    "    cv2.rectangle(imm,pt,(pt[0]+w,pt[1]+h),(0,0,255),2)\n",
    "cv2.imshow(\"Ronaldo-head\",imm)\n",
    "cv2.waitKey()\n",
    "cv2.destroyAllWindows()"
   ]
  },
  {
   "cell_type": "code",
   "execution_count": null,
   "id": "db3e02a3",
   "metadata": {},
   "outputs": [],
   "source": []
  }
 ],
 "metadata": {
  "kernelspec": {
   "display_name": "Python 3 (ipykernel)",
   "language": "python",
   "name": "python3"
  },
  "language_info": {
   "codemirror_mode": {
    "name": "ipython",
    "version": 3
   },
   "file_extension": ".py",
   "mimetype": "text/x-python",
   "name": "python",
   "nbconvert_exporter": "python",
   "pygments_lexer": "ipython3",
   "version": "3.10.9"
  }
 },
 "nbformat": 4,
 "nbformat_minor": 5
}
