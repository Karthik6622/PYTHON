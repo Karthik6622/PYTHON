{
 "cells": [
  {
   "cell_type": "markdown",
   "id": "a226f076",
   "metadata": {},
   "source": [
    "# FLIGHTBOOKING_PROJECT2"
   ]
  },
  {
   "cell_type": "code",
   "execution_count": 1,
   "id": "47acd67f",
   "metadata": {},
   "outputs": [
    {
     "name": "stdout",
     "output_type": "stream",
     "text": [
      "WELCOME TO KARTHIK AIRWAYS\n",
      "Enter the From location:chennai\n",
      "Enter the travel location:Delhi\n"
     ]
    }
   ],
   "source": [
    "print(\"WELCOME TO KARTHIK AIRWAYS\")\n",
    "from_=input(\"Enter the From location:\")\n",
    "to_=input(\"Enter the travel location:\")\n"
   ]
  },
  {
   "cell_type": "code",
   "execution_count": null,
   "id": "0ecd521c",
   "metadata": {},
   "outputs": [],
   "source": []
  }
 ],
 "metadata": {
  "kernelspec": {
   "display_name": "Python 3 (ipykernel)",
   "language": "python",
   "name": "python3"
  },
  "language_info": {
   "codemirror_mode": {
    "name": "ipython",
    "version": 3
   },
   "file_extension": ".py",
   "mimetype": "text/x-python",
   "name": "python",
   "nbconvert_exporter": "python",
   "pygments_lexer": "ipython3",
   "version": "3.10.9"
  }
 },
 "nbformat": 4,
 "nbformat_minor": 5
}
