{
 "cells": [
  {
   "cell_type": "markdown",
   "id": "67aca4ae",
   "metadata": {},
   "source": [
    "# Barcharts"
   ]
  },
  {
   "cell_type": "code",
   "execution_count": 1,
   "id": "febb387a",
   "metadata": {},
   "outputs": [],
   "source": [
    "from plotly.offline import plot\n",
    "import plotly.graph_objs as go\n",
    "import numpy as np"
   ]
  },
  {
   "cell_type": "markdown",
   "id": "f3bd1e46",
   "metadata": {},
   "source": [
    "# Basic bar chart"
   ]
  },
  {
   "cell_type": "code",
   "execution_count": 2,
   "id": "c5b9d7e8",
   "metadata": {},
   "outputs": [
    {
     "data": {
      "text/plain": [
       "'temp-plot.html'"
      ]
     },
     "execution_count": 2,
     "metadata": {},
     "output_type": "execute_result"
    }
   ],
   "source": [
    "#vertical bars\n",
    "x=['tiger','Lion','monkey']\n",
    "y=[23,12,56]\n",
    "data=[go.Bar(\n",
    "x=x,\n",
    "y=y,    \n",
    ")]\n",
    "plot(data)"
   ]
  },
  {
   "cell_type": "markdown",
   "id": "18dd7bf6",
   "metadata": {},
   "source": [
    "# Grouped bar chart"
   ]
  },
  {
   "cell_type": "code",
   "execution_count": 3,
   "id": "ebd96618",
   "metadata": {},
   "outputs": [
    {
     "data": {
      "text/plain": [
       "'barchart.html'"
      ]
     },
     "execution_count": 3,
     "metadata": {},
     "output_type": "execute_result"
    }
   ],
   "source": [
    "#it's create two bar charts as a group\n",
    "trace=go.Bar(\n",
    "x=['tiger','Lion','monkey'],\n",
    "y=[23,12,56],\n",
    "name=\"Chennai ZOO\"\n",
    ")\n",
    "trace2=go.Bar(\n",
    "x=['tiger','Lion','monkey'],\n",
    "y=[3,2,36],\n",
    "name=\"Coimbatore ZOO\"\n",
    ")\n",
    "layout=go.Layout(\n",
    "title=\"tamilnadu Zoos\",\n",
    "barmode='group'\n",
    ")\n",
    "data=[trace,trace2]\n",
    "fig=go.Figure(data,layout=layout)\n",
    "plot(fig,filename=\"barchart.html\")"
   ]
  },
  {
   "cell_type": "markdown",
   "id": "eca5c0ae",
   "metadata": {},
   "source": [
    "# stacked bar chart"
   ]
  },
  {
   "cell_type": "code",
   "execution_count": 4,
   "id": "efec635e",
   "metadata": {},
   "outputs": [
    {
     "data": {
      "text/plain": [
       "'barchart.html'"
      ]
     },
     "execution_count": 4,
     "metadata": {},
     "output_type": "execute_result"
    }
   ],
   "source": [
    "#it's create two bar charts as a stack(one barchart up one more bar chart)\n",
    "trace=go.Bar(\n",
    "x=['tiger','Lion','monkey'],\n",
    "y=[23,12,56],\n",
    "name=\"Chennai ZOO\"\n",
    ")\n",
    "trace2=go.Bar(\n",
    "x=['tiger','Lion','monkey'],\n",
    "y=[3,2,36],\n",
    "name=\"Coimbatore ZOO\"\n",
    ")\n",
    "layout=go.Layout(\n",
    "title=\"tamilnadu Zoos\",\n",
    "barmode='stack'\n",
    ")\n",
    "data=[trace,trace2]\n",
    "fig=go.Figure(data,layout=layout)\n",
    "plot(fig,filename=\"barchart.html\")"
   ]
  },
  {
   "cell_type": "markdown",
   "id": "877d5677",
   "metadata": {},
   "source": [
    "# Bar chart with hover text"
   ]
  },
  {
   "cell_type": "code",
   "execution_count": 5,
   "id": "32b17754",
   "metadata": {},
   "outputs": [
    {
     "data": {
      "text/plain": [
       "'temp-plot.html'"
      ]
     },
     "execution_count": 5,
     "metadata": {},
     "output_type": "execute_result"
    }
   ],
   "source": [
    "trace0=go.Bar(\n",
    "x=['Product-A','Product-B','Product-C'],\n",
    "y=[24,56,78],\n",
    "text=['10% offer on Product-A','250% offer on Product-B','30% offer on Product-C'],\n",
    "marker=dict(\n",
    "color='plum',\n",
    "line=dict(\n",
    "color='orange',\n",
    "width=2\n",
    "),\n",
    "    opacity=0.4\n",
    ")\n",
    ")\n",
    "layout=go.Layout(\n",
    "    #to move to text message to center\n",
    "title=dict(text=\"MAY MONTH SALES REPORT\",x=0.5,y=0.9\n",
    "          )\n",
    ")\n",
    "fig=go.Figure([trace0],layout=layout)\n",
    "plot(fig)"
   ]
  },
  {
   "cell_type": "markdown",
   "id": "99e2139e",
   "metadata": {},
   "source": [
    "# Bar chart with direct labels"
   ]
  },
  {
   "cell_type": "code",
   "execution_count": 11,
   "id": "1a33a22e",
   "metadata": {},
   "outputs": [
    {
     "data": {
      "text/plain": [
       "'temp-plot.html'"
      ]
     },
     "execution_count": 11,
     "metadata": {},
     "output_type": "execute_result"
    }
   ],
   "source": [
    "'''\n",
    "textposition:\n",
    "'inside': Places the text inside the bars or markers.\n",
    "\n",
    "'outside': Places the text outside the bars or markers.\n",
    "\n",
    "'auto': Automatically places the text in the optimal position for visibility. This is the default behavior when textposition is not specified.\n",
    "\n",
    "'none': Does not display any text.\n",
    "\n",
    "'hover': Displays text only when hovering over the corresponding data point.\n",
    "'''\n",
    "trace0=go.Bar(\n",
    "x=['Product-A','Product-B','Product-C'],\n",
    "y=[24,56,78],\n",
    "text=['10% offer on Product-A','250% offer on Product-B','30% offer on Product-C'],\n",
    "textposition='outside',\n",
    "marker=dict(\n",
    "color='lightgray',\n",
    "line=dict(\n",
    "color='green',\n",
    "width=2\n",
    "),\n",
    "    opacity=0.2\n",
    ")\n",
    ")\n",
    "layout=go.Layout(\n",
    "    #to move to text message to center\n",
    "title=dict(text=\"MAY MONTH SALES REPORT\",x=0.5,y=0.9\n",
    "          )\n",
    ")\n",
    "fig=go.Figure([trace0],layout=layout)\n",
    "plot(fig)"
   ]
  },
  {
   "cell_type": "markdown",
   "id": "8eb7aa9b",
   "metadata": {},
   "source": [
    "# Angled Bar chart Labels"
   ]
  },
  {
   "cell_type": "code",
   "execution_count": 12,
   "id": "57a208fd",
   "metadata": {},
   "outputs": [
    {
     "data": {
      "text/plain": [
       "'AngledBarChart.html'"
      ]
     },
     "execution_count": 12,
     "metadata": {},
     "output_type": "execute_result"
    }
   ],
   "source": [
    "# Sample data\n",
    "categories = ['Category 1', 'Category 2', 'Category 3', 'Category 4', 'Category 5']\n",
    "values = [10, 8, 6, 4, 2]\n",
    "\n",
    "# Create a bar chart trace\n",
    "trace = go.Bar(\n",
    "    x=categories,\n",
    "    y=values,\n",
    "    name='Angled Bar Chart'\n",
    ")\n",
    "\n",
    "# Define the layout\n",
    "layout = go.Layout(\n",
    "    title='Angled Bar Chart Example',\n",
    "    xaxis=dict(\n",
    "        title='Categories',\n",
    "        tickangle=-45,  # Angle to slant the x-axis labels (e.g., -45 degrees)\n",
    "        tickfont=dict(\n",
    "            size=14   # Font size of x-axis labels\n",
    "        )\n",
    "    ),\n",
    "    yaxis=dict(title='Values')\n",
    ")\n",
    "\n",
    "# Create a figure with the bar chart trace and layout\n",
    "fig = go.Figure(data=[trace], layout=layout)\n",
    "\n",
    "# Use plot() to generate the HTML file\n",
    "plot(fig, filename=\"AngledBarChart.html\")\n"
   ]
  },
  {
   "cell_type": "markdown",
   "id": "70887ec0",
   "metadata": {},
   "source": [
    "# Customizing individual bar colors"
   ]
  },
  {
   "cell_type": "code",
   "execution_count": 13,
   "id": "a2175764",
   "metadata": {},
   "outputs": [
    {
     "data": {
      "text/plain": [
       "'temp-plot.html'"
      ]
     },
     "execution_count": 13,
     "metadata": {},
     "output_type": "execute_result"
    }
   ],
   "source": [
    "products=['Rice','Thal','Oil','Biscuit']\n",
    "value=[70,80,79,40]\n",
    "trace=go.Bar(\n",
    "x=products,\n",
    "y=value,\n",
    "name=\"Products rate\",\n",
    "text=products,\n",
    "#textposition='auto',\n",
    "marker=dict(\n",
    "color=['rgb(255, 153, 153)','rgb(255, 255, 179)','rgb(255, 179, 217)','rgb(255, 179, 255)'],\n",
    "line=dict(\n",
    "width=2,\n",
    "color='rgb(230, 179, 204)'    \n",
    "),\n",
    ")\n",
    ")\n",
    "layout=go.Layout(\n",
    "#graph background color\n",
    "plot_bgcolor='rgb(179, 255, 204)',\n",
    "#full background page color \n",
    "paper_bgcolor='rgb(153, 204, 255)',\n",
    "title=dict(text=\"Product rate details\",x=0.5,y=0.9),\n",
    "xaxis=dict(title='Products',tickangle=-30,tickfont=dict(family='Arial',color=\"green\")),\n",
    "yaxis=dict(title='Rate',tickangle=-40,tickfont=dict(family='Arial',color=\"purple\"))\n",
    ")\n",
    "fig=go.Figure([trace],layout=layout)\n",
    "plot(fig)"
   ]
  },
  {
   "cell_type": "markdown",
   "id": "652d74b4",
   "metadata": {},
   "source": [
    "# Customizing individual Bar widths"
   ]
  },
  {
   "cell_type": "code",
   "execution_count": 14,
   "id": "0d97446d",
   "metadata": {},
   "outputs": [
    {
     "data": {
      "text/plain": [
       "'temp-plot.html'"
      ]
     },
     "execution_count": 14,
     "metadata": {},
     "output_type": "execute_result"
    }
   ],
   "source": [
    "#it is used to set the widths for bars\n",
    "country=['india','china','USA','England']\n",
    "gdp=[7,8,6,4]\n",
    "trace=go.Bar(\n",
    "x=country,\n",
    "y=gdp,\n",
    "width=[0.5,0.6,0.7,0.8],\n",
    "name=\"Products rate\",\n",
    "text=[f'{country[0]}-{gdp[0]}',f'{country[1]}-{gdp[1]}',f'{country[2]}-{gdp[2]}',f'{country[3]}-{gdp[3]}'])\n",
    "plot([trace])"
   ]
  },
  {
   "cell_type": "markdown",
   "id": "717b3cf4",
   "metadata": {},
   "source": [
    "# Customizing individual Bar Base"
   ]
  },
  {
   "cell_type": "code",
   "execution_count": 15,
   "id": "4d161de8",
   "metadata": {},
   "outputs": [
    {
     "data": {
      "text/plain": [
       "'temp-plot.html'"
      ]
     },
     "execution_count": 15,
     "metadata": {},
     "output_type": "execute_result"
    }
   ],
   "source": [
    "#it is used to set the base for bars(like swinging bar )\n",
    "country=['india','china','USA','England']\n",
    "gdp=[7,8,6,4]\n",
    "trace=go.Bar(\n",
    "x=country,\n",
    "y=gdp,\n",
    "base=[-7,-8,-6,-4],\n",
    "name=\"Products rate\",\n",
    "text=[f'{country[0]}-{gdp[0]}',f'{country[1]}-{gdp[1]}',f'{country[2]}-{gdp[2]}',f'{country[3]}-{gdp[3]}'])\n",
    "plot([trace])"
   ]
  },
  {
   "cell_type": "markdown",
   "id": "458726bd",
   "metadata": {},
   "source": [
    "# Customizing individual bar"
   ]
  },
  {
   "cell_type": "code",
   "execution_count": 20,
   "id": "d811fea2",
   "metadata": {},
   "outputs": [
    {
     "data": {
      "text/plain": [
       "'CustomizedIndividualBars.html'"
      ]
     },
     "execution_count": 20,
     "metadata": {},
     "output_type": "execute_result"
    }
   ],
   "source": [
    "'''\n",
    " we can customize individual bars in a bar chart by specifying the attributes for each bar separately\n",
    "'''\n",
    "categories = ['Category 1', 'Category 2', 'Category 3', 'Category 4', 'Category 5']\n",
    "values = [10, 8, 6, 4, 2]\n",
    "\n",
    "# Create a list of custom colors for each bar\n",
    "custom_colors = ['red', 'green', 'blue', 'purple', 'orange']\n",
    "traces=[]\n",
    "for i in range(len(categories)):\n",
    "    trace=go.Bar(\n",
    "    x=[categories[i]],\n",
    "    y=[values[i]],\n",
    "    marker=dict(\n",
    "    color=custom_colors[i]\n",
    "    ),\n",
    "    opacity=0.4\n",
    "    )\n",
    "    traces.append(trace)\n",
    "layout = go.Layout(\n",
    "    title='Customized Individual Bars in a Bar Chart',\n",
    "    xaxis=dict(title='Categories'),\n",
    "    yaxis=dict(title='Values'),\n",
    "    barmode='group'  # Use 'group' for multiple bars in the same category\n",
    ")\n",
    "\n",
    "# Create a figure with the bar traces and layout\n",
    "fig = go.Figure(data=traces, layout=layout)\n",
    "\n",
    "# Use plot() to generate the HTML file\n",
    "plot(fig, filename=\"CustomizedIndividualBars.html\")"
   ]
  },
  {
   "cell_type": "markdown",
   "id": "9f683992",
   "metadata": {},
   "source": [
    "# Basic Horizontal bar chart"
   ]
  },
  {
   "cell_type": "code",
   "execution_count": 18,
   "id": "e8e6f7b1",
   "metadata": {},
   "outputs": [
    {
     "data": {
      "text/plain": [
       "'temp-plot.html'"
      ]
     },
     "execution_count": 18,
     "metadata": {},
     "output_type": "execute_result"
    }
   ],
   "source": [
    "crickters=['Dhoni','raina','Jedaja','Ashwin']\n",
    "runs=[6000,5500,3000,2000]\n",
    "data=[go.Bar(\n",
    "y=crickters,\n",
    "x=runs,\n",
    "orientation='h'#h-horizontal\n",
    ")]\n",
    "plot(data)"
   ]
  },
  {
   "cell_type": "markdown",
   "id": "b35d745e",
   "metadata": {},
   "source": [
    "# Grouped horizontal bar chart¶"
   ]
  },
  {
   "cell_type": "code",
   "execution_count": 19,
   "id": "df07ea82",
   "metadata": {},
   "outputs": [
    {
     "data": {
      "text/plain": [
       "'barchart.html'"
      ]
     },
     "execution_count": 19,
     "metadata": {},
     "output_type": "execute_result"
    }
   ],
   "source": [
    "#it's create two bar charts as a group\n",
    "trace=go.Bar(\n",
    "y=['tiger','Lion','monkey'],\n",
    "x=[23,12,56],\n",
    "name=\"Chennai ZOO\",\n",
    "orientation='h'\n",
    ")\n",
    "trace2=go.Bar(\n",
    "y=['tiger','Lion','monkey'],\n",
    "x=[3,2,36],\n",
    "name=\"Coimbatore ZOO\",\n",
    "orientation='h'\n",
    ")\n",
    "layout=go.Layout(\n",
    "title=\"tamilnadu Zoos\",\n",
    "barmode='group'\n",
    ")\n",
    "data=[trace,trace2]\n",
    "fig=go.Figure(data,layout=layout)\n",
    "plot(fig,filename=\"barchart.html\")"
   ]
  },
  {
   "cell_type": "markdown",
   "id": "ec110fbc",
   "metadata": {},
   "source": [
    "# stacked horizontal bar chart"
   ]
  },
  {
   "cell_type": "code",
   "execution_count": 21,
   "id": "8c2745f9",
   "metadata": {},
   "outputs": [
    {
     "data": {
      "text/plain": [
       "'barchart.html'"
      ]
     },
     "execution_count": 21,
     "metadata": {},
     "output_type": "execute_result"
    }
   ],
   "source": [
    "#it's create two bar charts as a stack(one barchart up one more bar chart)\n",
    "trace=go.Bar(\n",
    "y=['tiger','Lion','monkey'],\n",
    "x=[23,12,56],\n",
    "name=\"Chennai ZOO\",\n",
    "orientation='h'\n",
    ")\n",
    "trace2=go.Bar(\n",
    "y=['tiger','Lion','monkey'],\n",
    "x=[3,2,36],\n",
    "name=\"Coimbatore ZOO\",\n",
    "orientation='h'\n",
    ")\n",
    "layout=go.Layout(\n",
    "title=\"tamilnadu Zoos\",\n",
    "barmode='stack'\n",
    ")\n",
    "data=[trace,trace2]\n",
    "fig=go.Figure(data,layout=layout)\n",
    "plot(fig,filename=\"barchart.html\")"
   ]
  },
  {
   "cell_type": "markdown",
   "id": "4e139230",
   "metadata": {},
   "source": [
    "# Note:we can do all things in horizontal bar chart whtever we can do in vertical bar chart "
   ]
  },
  {
   "cell_type": "code",
   "execution_count": null,
   "id": "e007a0c3",
   "metadata": {},
   "outputs": [],
   "source": []
  }
 ],
 "metadata": {
  "kernelspec": {
   "display_name": "Python 3 (ipykernel)",
   "language": "python",
   "name": "python3"
  },
  "language_info": {
   "codemirror_mode": {
    "name": "ipython",
    "version": 3
   },
   "file_extension": ".py",
   "mimetype": "text/x-python",
   "name": "python",
   "nbconvert_exporter": "python",
   "pygments_lexer": "ipython3",
   "version": "3.10.9"
  }
 },
 "nbformat": 4,
 "nbformat_minor": 5
}
