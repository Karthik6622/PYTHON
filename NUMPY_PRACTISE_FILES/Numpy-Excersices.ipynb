{
 "cells": [
  {
   "cell_type": "markdown",
   "id": "3472f6ac",
   "metadata": {},
   "source": [
    "# Numpy-Excersices"
   ]
  },
  {
   "cell_type": "markdown",
   "id": "1e46741a",
   "metadata": {},
   "source": [
    "his notebook offers a set of exercises for different tasks with NumPy.\n",
    "\n",
    "It should be noted there may be more than one different way to answer a question or complete an exercise.\n",
    "\n",
    "Exercises are based off (and directly taken from) the quick introduction to NumPy notebook.\n",
    "\n",
    "Different tasks will be detailed by comments or text.\n",
    "\n",
    "For further reference and resources, it's advised to check out the NumPy documentation.\n",
    "\n",
    "And if you get stuck, try searching for a question in the following format: \"how to do XYZ with numpy\", where XYZ is the function you want to leverage from NumPy."
   ]
  },
  {
   "cell_type": "code",
   "execution_count": 1,
   "id": "e6c5858a",
   "metadata": {},
   "outputs": [],
   "source": [
    "# Import NumPy as its abbreviation 'np'\n",
    "import numpy as np"
   ]
  },
  {
   "cell_type": "code",
   "execution_count": 2,
   "id": "a10109c8",
   "metadata": {},
   "outputs": [],
   "source": [
    "# Create a 1-dimensional NumPy array using np.array()\n",
    "dim1=np.array([3,4,5,6])\n",
    "# Create a 2-dimensional NumPy array using np.array()\n",
    "dim2=np.array([[3,4,5,6],[4,5,4,3]])\n",
    "# Create a 3-dimensional Numpy array using np.array()\n",
    "dim3=np.array([[[3,4,5,6],[5,6,5,3]]])"
   ]
  },
  {
   "cell_type": "markdown",
   "id": "b7137e08",
   "metadata": {},
   "source": [
    "Now we've you've created 3 different arrays, let's find details about them.\n",
    "\n",
    "Find the shape, number of dimensions, data type, size and type of each array."
   ]
  },
  {
   "cell_type": "code",
   "execution_count": 5,
   "id": "1be471bb",
   "metadata": {},
   "outputs": [
    {
     "name": "stdout",
     "output_type": "stream",
     "text": [
      "Shape of the array: (4,)\n",
      "number of dimensions: 1\n",
      "Data type of array: int32\n",
      "size of array: 4\n",
      "itemsize of array: 4\n",
      "type of array: <class 'numpy.ndarray'>\n"
     ]
    }
   ],
   "source": [
    "# Attributes of 1-dimensional array (shape, \n",
    "# number of dimensions, data type, size and type)\n",
    "print(\"Shape of the array:\",dim1.shape)\n",
    "print(\"number of dimensions:\",dim1.ndim)\n",
    "print(\"Data type of array:\",dim1.dtype)\n",
    "print(\"size of array:\",dim1.size)\n",
    "print(\"itemsize of array:\",dim1.itemsize)\n",
    "print(\"type of array:\",type(dim1))"
   ]
  },
  {
   "cell_type": "code",
   "execution_count": 6,
   "id": "348ccd2f",
   "metadata": {},
   "outputs": [
    {
     "name": "stdout",
     "output_type": "stream",
     "text": [
      "Shape of the array: (2, 4)\n",
      "number of dimensions: 2\n",
      "Data type of array: int32\n",
      "size of array: 8\n",
      "itemsize of array: 4\n",
      "type of array: <class 'numpy.ndarray'>\n"
     ]
    }
   ],
   "source": [
    "# Attributes of 2-dimensional array\n",
    "print(\"Shape of the array:\",dim2.shape)\n",
    "print(\"number of dimensions:\",dim2.ndim)\n",
    "print(\"Data type of array:\",dim2.dtype)\n",
    "print(\"size of array:\",dim2.size)\n",
    "print(\"itemsize of array:\",dim2.itemsize)\n",
    "print(\"type of array:\",type(dim2))"
   ]
  },
  {
   "cell_type": "code",
   "execution_count": 7,
   "id": "30f05384",
   "metadata": {},
   "outputs": [
    {
     "name": "stdout",
     "output_type": "stream",
     "text": [
      "Shape of the array: (1, 2, 4)\n",
      "number of dimensions: 3\n",
      "Data type of array: int32\n",
      "size of array: 8\n",
      "itemsize of array: 4\n",
      "type of array: <class 'numpy.ndarray'>\n"
     ]
    }
   ],
   "source": [
    "# Attributes of 3-dimensional array\n",
    "print(\"Shape of the array:\",dim3.shape)\n",
    "print(\"number of dimensions:\",dim3.ndim)\n",
    "print(\"Data type of array:\",dim3.dtype)\n",
    "print(\"size of array:\",dim3.size)\n",
    "print(\"itemsize of array:\",dim3.itemsize)\n",
    "print(\"type of array:\",type(dim3))"
   ]
  },
  {
   "cell_type": "code",
   "execution_count": 8,
   "id": "9e288f7b",
   "metadata": {},
   "outputs": [
    {
     "data": {
      "text/html": [
       "<div>\n",
       "<style scoped>\n",
       "    .dataframe tbody tr th:only-of-type {\n",
       "        vertical-align: middle;\n",
       "    }\n",
       "\n",
       "    .dataframe tbody tr th {\n",
       "        vertical-align: top;\n",
       "    }\n",
       "\n",
       "    .dataframe thead th {\n",
       "        text-align: right;\n",
       "    }\n",
       "</style>\n",
       "<table border=\"1\" class=\"dataframe\">\n",
       "  <thead>\n",
       "    <tr style=\"text-align: right;\">\n",
       "      <th></th>\n",
       "      <th>0</th>\n",
       "      <th>1</th>\n",
       "      <th>2</th>\n",
       "      <th>3</th>\n",
       "    </tr>\n",
       "  </thead>\n",
       "  <tbody>\n",
       "    <tr>\n",
       "      <th>0</th>\n",
       "      <td>3</td>\n",
       "      <td>4</td>\n",
       "      <td>5</td>\n",
       "      <td>6</td>\n",
       "    </tr>\n",
       "    <tr>\n",
       "      <th>1</th>\n",
       "      <td>4</td>\n",
       "      <td>5</td>\n",
       "      <td>4</td>\n",
       "      <td>3</td>\n",
       "    </tr>\n",
       "  </tbody>\n",
       "</table>\n",
       "</div>"
      ],
      "text/plain": [
       "   0  1  2  3\n",
       "0  3  4  5  6\n",
       "1  4  5  4  3"
      ]
     },
     "execution_count": 8,
     "metadata": {},
     "output_type": "execute_result"
    }
   ],
   "source": [
    "# Import pandas and create a DataFrame out of one\n",
    "# of the arrays you've created\n",
    "import pandas as pd\n",
    "df=pd.DataFrame(dim2)\n",
    "df"
   ]
  },
  {
   "cell_type": "code",
   "execution_count": 13,
   "id": "4d599c51",
   "metadata": {},
   "outputs": [
    {
     "name": "stdout",
     "output_type": "stream",
     "text": [
      "[[1 1]\n",
      " [1 1]\n",
      " [1 1]\n",
      " [1 1]\n",
      " [1 1]\n",
      " [1 1]\n",
      " [1 1]\n",
      " [1 1]\n",
      " [1 1]\n",
      " [1 1]]\n"
     ]
    }
   ],
   "source": [
    "# Create an array of shape (10, 2) with only ones\n",
    "ones=np.ones((10,2),dtype=int)\n",
    "print(ones)"
   ]
  },
  {
   "cell_type": "code",
   "execution_count": 14,
   "id": "b2666478",
   "metadata": {},
   "outputs": [
    {
     "name": "stdout",
     "output_type": "stream",
     "text": [
      "[[[0 0 0]\n",
      "  [0 0 0]]\n",
      "\n",
      " [[0 0 0]\n",
      "  [0 0 0]]\n",
      "\n",
      " [[0 0 0]\n",
      "  [0 0 0]]\n",
      "\n",
      " [[0 0 0]\n",
      "  [0 0 0]]\n",
      "\n",
      " [[0 0 0]\n",
      "  [0 0 0]]\n",
      "\n",
      " [[0 0 0]\n",
      "  [0 0 0]]\n",
      "\n",
      " [[0 0 0]\n",
      "  [0 0 0]]]\n"
     ]
    }
   ],
   "source": [
    "# Create an array of shape (7, 2, 3) of only zeros\n",
    "zeros=np.zeros((7,2,3),dtype=int)\n",
    "print(zeros)"
   ]
  },
  {
   "cell_type": "code",
   "execution_count": 15,
   "id": "2ec4da8f",
   "metadata": {},
   "outputs": [
    {
     "data": {
      "text/plain": [
       "array([ 0,  3,  6,  9, 12, 15, 18, 21, 24, 27, 30, 33, 36, 39, 42, 45, 48,\n",
       "       51, 54, 57, 60, 63, 66, 69, 72, 75, 78, 81, 84, 87, 90, 93, 96, 99])"
      ]
     },
     "execution_count": 15,
     "metadata": {},
     "output_type": "execute_result"
    }
   ],
   "source": [
    "# Create an array within a range of 0 and 100 with step 3\n",
    "arr=np.arange(0,100,3)\n",
    "arr"
   ]
  },
  {
   "cell_type": "code",
   "execution_count": 22,
   "id": "bfedbc95",
   "metadata": {},
   "outputs": [
    {
     "name": "stdout",
     "output_type": "stream",
     "text": [
      "[[1 0]\n",
      " [0 7]\n",
      " [7 9]\n",
      " [3 3]\n",
      " [2 3]\n",
      " [4 4]\n",
      " [3 8]]\n"
     ]
    }
   ],
   "source": [
    "# Create a random array with numbers between 0 and 10 of size (7, 2)\n",
    "ra=np.random.randint(0,10,(7,2))\n",
    "print(ra)"
   ]
  },
  {
   "cell_type": "code",
   "execution_count": 18,
   "id": "28986a63",
   "metadata": {},
   "outputs": [
    {
     "data": {
      "text/plain": [
       "array([[0.84594177, 0.42289417, 0.59792562, 0.20096558, 0.95938054],\n",
       "       [0.5005404 , 0.12035607, 0.58184066, 0.81460162, 0.05722313],\n",
       "       [0.65520243, 0.0669872 , 0.04472583, 0.88513608, 0.00226396]])"
      ]
     },
     "execution_count": 18,
     "metadata": {},
     "output_type": "execute_result"
    }
   ],
   "source": [
    "# Create a random array of floats between 0 & 1 of shape (3, 5)\n",
    "ra2=np.random.random((3,5))\n",
    "ra2"
   ]
  },
  {
   "cell_type": "code",
   "execution_count": 29,
   "id": "6fa5036d",
   "metadata": {},
   "outputs": [
    {
     "name": "stdout",
     "output_type": "stream",
     "text": [
      "[[3 6 6 0 9 8]\n",
      " [4 7 0 0 7 1]\n",
      " [5 7 0 1 4 6]\n",
      " [2 9 9 9 9 1]]\n"
     ]
    }
   ],
   "source": [
    "# Set the random seed to 42\n",
    "np.random.seed(5)\n",
    "# Create a random array of numbers between 0 & 10 of size (4, 6)\n",
    "ra3=np.random.randint(0,10,24).reshape(4,6)\n",
    "print(ra3)"
   ]
  },
  {
   "cell_type": "markdown",
   "id": "b1f07773",
   "metadata": {},
   "source": [
    "Run the cell above again, what happens?\n",
    "\n",
    "Are the numbers in the array different or the same? Why do think this is?"
   ]
  },
  {
   "cell_type": "markdown",
   "id": "a7b58ce9",
   "metadata": {},
   "source": [
    "because we used seed function right"
   ]
  },
  {
   "cell_type": "code",
   "execution_count": 36,
   "id": "2cebb0ed",
   "metadata": {},
   "outputs": [
    {
     "name": "stdout",
     "output_type": "stream",
     "text": [
      "[[6 4 5 1 3 3 2]\n",
      " [2 8 2 8 3 7 4]\n",
      " [7 9 1 2 1 9 8]]\n",
      "--------------------------------------------------\n",
      "Unique Numbers: [1 2 3 4 5 6 7 8 9]\n"
     ]
    }
   ],
   "source": [
    "# Create an array of random numbers between 1 & 10 of size (3, 7)\n",
    "# and save it to a variable\n",
    "ra4=np.random.randint(1,10,(3,7))\n",
    "print(ra4)\n",
    "print('-'*50)\n",
    "# Find the unique numbers in the array you just created\n",
    "print(\"Unique Numbers:\",np.unique(ra4))"
   ]
  },
  {
   "cell_type": "code",
   "execution_count": 37,
   "id": "d3d7fd6a",
   "metadata": {},
   "outputs": [
    {
     "data": {
      "text/plain": [
       "array([6, 4, 5, 1, 3, 3, 2])"
      ]
     },
     "execution_count": 37,
     "metadata": {},
     "output_type": "execute_result"
    }
   ],
   "source": [
    "# Find the 0'th index of the latest array you created\n",
    "ra4[0]"
   ]
  },
  {
   "cell_type": "code",
   "execution_count": 39,
   "id": "3f521669",
   "metadata": {},
   "outputs": [
    {
     "data": {
      "text/plain": [
       "array([[6, 4, 5, 1, 3, 3, 2],\n",
       "       [2, 8, 2, 8, 3, 7, 4]])"
      ]
     },
     "execution_count": 39,
     "metadata": {},
     "output_type": "execute_result"
    }
   ],
   "source": [
    "# Get the first 2 rows of latest array you created\n",
    "ra4[0:2]"
   ]
  },
  {
   "cell_type": "code",
   "execution_count": 43,
   "id": "9162eea3",
   "metadata": {},
   "outputs": [
    {
     "data": {
      "text/plain": [
       "array([[6, 4],\n",
       "       [2, 8]])"
      ]
     },
     "execution_count": 43,
     "metadata": {},
     "output_type": "execute_result"
    }
   ],
   "source": [
    "# Get the first 2 values of the first 2 rows of the latest array\n",
    "ra4[:2,:2]"
   ]
  },
  {
   "cell_type": "code",
   "execution_count": 41,
   "id": "e7fc9977",
   "metadata": {},
   "outputs": [
    {
     "name": "stdout",
     "output_type": "stream",
     "text": [
      "[[7 9 4 1 4]\n",
      " [2 1 7 5 4]\n",
      " [2 2 1 2 3]]\n",
      "[[1 2 4 9 0]\n",
      " [1 2 3 8 5]\n",
      " [5 4 3 9 5]]\n"
     ]
    }
   ],
   "source": [
    "# Create a random array of numbers between 0 & 10 and an array of ones\n",
    "# both of size (3, 5), save them both to variables\n",
    "aa=np.random.randint(0,10,(3,5))\n",
    "aa2=np.random.randint(0,10,(3,5))\n",
    "print(aa)\n",
    "print(aa2)"
   ]
  },
  {
   "cell_type": "code",
   "execution_count": 42,
   "id": "e391a43f",
   "metadata": {},
   "outputs": [
    {
     "name": "stdout",
     "output_type": "stream",
     "text": [
      "[[ 8 11  8 10  4]\n",
      " [ 3  3 10 13  9]\n",
      " [ 7  6  4 11  8]]\n"
     ]
    }
   ],
   "source": [
    "# Add the two arrays together\n",
    "print(aa+aa2)"
   ]
  },
  {
   "cell_type": "code",
   "execution_count": 44,
   "id": "6263a88d",
   "metadata": {},
   "outputs": [
    {
     "data": {
      "text/plain": [
       "array([[ 0,  1,  2],\n",
       "       [ 3,  4,  5],\n",
       "       [ 6,  7,  8],\n",
       "       [ 9, 10, 11],\n",
       "       [12, 13, 14]])"
      ]
     },
     "execution_count": 44,
     "metadata": {},
     "output_type": "execute_result"
    }
   ],
   "source": [
    "# Create another array of ones of shape (5, 3)\n",
    "aa3=np.arange(15).reshape(5,3)\n",
    "aa3"
   ]
  },
  {
   "cell_type": "code",
   "execution_count": 57,
   "id": "87185826",
   "metadata": {},
   "outputs": [
    {
     "ename": "ValueError",
     "evalue": "operands could not be broadcast together with shapes (3,5) (5,3) ",
     "output_type": "error",
     "traceback": [
      "\u001b[1;31m---------------------------------------------------------------------------\u001b[0m",
      "\u001b[1;31mValueError\u001b[0m                                Traceback (most recent call last)",
      "Cell \u001b[1;32mIn[57], line 3\u001b[0m\n\u001b[0;32m      1\u001b[0m \u001b[38;5;66;03m# Try add the array of ones and the other most recent array together\u001b[39;00m\n\u001b[0;32m      2\u001b[0m one\u001b[38;5;241m=\u001b[39mnp\u001b[38;5;241m.\u001b[39mones((\u001b[38;5;241m3\u001b[39m,\u001b[38;5;241m5\u001b[39m),dtype\u001b[38;5;241m=\u001b[39m\u001b[38;5;28mint\u001b[39m)\n\u001b[1;32m----> 3\u001b[0m add\u001b[38;5;241m=\u001b[39m\u001b[43mone\u001b[49m\u001b[38;5;241;43m+\u001b[39;49m\u001b[43maa3\u001b[49m\n\u001b[0;32m      4\u001b[0m add\n",
      "\u001b[1;31mValueError\u001b[0m: operands could not be broadcast together with shapes (3,5) (5,3) "
     ]
    }
   ],
   "source": [
    "# Try add the array of ones and the other most recent array together\n",
    "one=np.ones((3,5),dtype=int)\n",
    "add=one+aa3\n",
    "add"
   ]
  },
  {
   "cell_type": "markdown",
   "id": "25c625c5",
   "metadata": {},
   "source": [
    "When you try the last cell, it produces an error. Why do think this is?\n",
    "\n",
    "How would you fix it?"
   ]
  },
  {
   "cell_type": "code",
   "execution_count": 47,
   "id": "5a901a1f",
   "metadata": {},
   "outputs": [
    {
     "data": {
      "text/plain": [
       "array([[ 1,  2,  3],\n",
       "       [ 4,  5,  6],\n",
       "       [ 7,  8,  9],\n",
       "       [10, 11, 12],\n",
       "       [13, 14, 15]])"
      ]
     },
     "execution_count": 47,
     "metadata": {},
     "output_type": "execute_result"
    }
   ],
   "source": [
    "#reshaped array\n",
    "one=np.ones((5,3),dtype=int)\n",
    "add=one+aa3\n",
    "add"
   ]
  },
  {
   "cell_type": "code",
   "execution_count": 51,
   "id": "5de8e11d",
   "metadata": {},
   "outputs": [
    {
     "name": "stdout",
     "output_type": "stream",
     "text": [
      "(3, 5)\n",
      "[[ 3  5  6  7  3]\n",
      " [34  6  2  1  2]\n",
      " [ 0  2 31  6 77]]\n"
     ]
    }
   ],
   "source": [
    "# Create another array of ones of shape (3, 5)\n",
    "arr3=np.array([[3,5,6,7,3],[34,6,2,1,2],[0,2,31,6,77]])\n",
    "print(arr3.shape)\n",
    "print(arr3)"
   ]
  },
  {
   "cell_type": "code",
   "execution_count": 60,
   "id": "02f1be62",
   "metadata": {},
   "outputs": [
    {
     "name": "stdout",
     "output_type": "stream",
     "text": [
      "1st array:\n",
      " [[ 1  2  3  4  5]\n",
      " [ 6  7  8  9 10]\n",
      " [11 12 13 14 15]]\n",
      "2nd array:\n",
      " [[ 3  5  6  7  3]\n",
      " [34  6  2  1  2]\n",
      " [ 0  2 31  6 77]]\n",
      "Subtract:\n",
      " [[ -2  -3  -3  -3   2]\n",
      " [-28   1   6   8   8]\n",
      " [ 11  10 -18   8 -62]]\n"
     ]
    }
   ],
   "source": [
    "# Subtract the new array of ones from the other most recent array\n",
    "add1=add.reshape(3,5)\n",
    "print(\"1st array:\\n\",add1.reshape(3,5))\n",
    "print(\"2nd array:\\n\",arr3)\n",
    "print(\"Subtract:\\n\",add1-arr3)"
   ]
  },
  {
   "cell_type": "code",
   "execution_count": 61,
   "id": "97495938",
   "metadata": {},
   "outputs": [
    {
     "name": "stdout",
     "output_type": "stream",
     "text": [
      "1st array:\n",
      " [[ 1  2  3  4  5]\n",
      " [ 6  7  8  9 10]\n",
      " [11 12 13 14 15]]\n",
      "2nd array:\n",
      " [[ 3  5  6  7  3]\n",
      " [34  6  2  1  2]\n",
      " [ 0  2 31  6 77]]\n",
      "Multiply:\n",
      " [[   3   10   18   28   15]\n",
      " [ 204   42   16    9   20]\n",
      " [   0   24  403   84 1155]]\n"
     ]
    }
   ],
   "source": [
    "# Multiply the ones array with the latest array\n",
    "print(\"1st array:\\n\",add1.reshape(3,5))\n",
    "print(\"2nd array:\\n\",arr3)\n",
    "print(\"Multiply:\\n\",add1*arr3)"
   ]
  },
  {
   "cell_type": "code",
   "execution_count": 62,
   "id": "317d6949",
   "metadata": {},
   "outputs": [
    {
     "name": "stdout",
     "output_type": "stream",
     "text": [
      "Latest array:\n",
      " [[ 3  5  6  7  3]\n",
      " [34  6  2  1  2]\n",
      " [ 0  2 31  6 77]]\n",
      "power of 2 using '**':\n",
      " [[   9   25   36   49    9]\n",
      " [1156   36    4    1    4]\n",
      " [   0    4  961   36 5929]]\n"
     ]
    }
   ],
   "source": [
    "# Take the latest array to the power of 2 using '**'\n",
    "print(\"Latest array:\\n\",arr3)\n",
    "print(\"power of 2 using '**':\\n\",arr3**2)"
   ]
  },
  {
   "cell_type": "code",
   "execution_count": 64,
   "id": "e501761c",
   "metadata": {},
   "outputs": [
    {
     "name": "stdout",
     "output_type": "stream",
     "text": [
      "Latest array:\n",
      " [[ 3  5  6  7  3]\n",
      " [34  6  2  1  2]\n",
      " [ 0  2 31  6 77]]\n",
      "Squre of:\n",
      " [[   9   25   36   49    9]\n",
      " [1156   36    4    1    4]\n",
      " [   0    4  961   36 5929]]\n"
     ]
    }
   ],
   "source": [
    "# Do the same thing with np.square()\n",
    "print(\"Latest array:\\n\",arr3)\n",
    "print(\"Squre of:\\n\",np.square(arr3))"
   ]
  },
  {
   "cell_type": "code",
   "execution_count": 65,
   "id": "d0e3d61f",
   "metadata": {},
   "outputs": [
    {
     "name": "stdout",
     "output_type": "stream",
     "text": [
      "Latest array:\n",
      " [[ 3  5  6  7  3]\n",
      " [34  6  2  1  2]\n",
      " [ 0  2 31  6 77]]\n",
      "mean value:\n",
      " 12.333333333333334\n"
     ]
    }
   ],
   "source": [
    "# Find the mean of the latest array using np.mean()\n",
    "print(\"Latest array:\\n\",arr3)\n",
    "print(\"mean value:\\n\",np.mean(arr3))"
   ]
  },
  {
   "cell_type": "code",
   "execution_count": 66,
   "id": "94bc328e",
   "metadata": {},
   "outputs": [
    {
     "name": "stdout",
     "output_type": "stream",
     "text": [
      "Latest array:\n",
      " [[ 3  5  6  7  3]\n",
      " [34  6  2  1  2]\n",
      " [ 0  2 31  6 77]]\n",
      "Maximum value:\n",
      " 77\n"
     ]
    }
   ],
   "source": [
    "# Find the maximum of the latest array using np.max()\n",
    "print(\"Latest array:\\n\",arr3)\n",
    "print(\"Maximum value:\\n\",np.max(arr3))"
   ]
  },
  {
   "cell_type": "code",
   "execution_count": 67,
   "id": "2ef728a0",
   "metadata": {},
   "outputs": [
    {
     "name": "stdout",
     "output_type": "stream",
     "text": [
      "Latest array:\n",
      " [[ 3  5  6  7  3]\n",
      " [34  6  2  1  2]\n",
      " [ 0  2 31  6 77]]\n",
      "Minimum value:\n",
      " 0\n"
     ]
    }
   ],
   "source": [
    "# Find the minimum of the latest array using np.min()\n",
    "print(\"Latest array:\\n\",arr3)\n",
    "print(\"Minimum value:\\n\",np.min(arr3))"
   ]
  },
  {
   "cell_type": "code",
   "execution_count": 68,
   "id": "b9b398aa",
   "metadata": {},
   "outputs": [
    {
     "name": "stdout",
     "output_type": "stream",
     "text": [
      "Latest array:\n",
      " [[ 3  5  6  7  3]\n",
      " [34  6  2  1  2]\n",
      " [ 0  2 31  6 77]]\n",
      "Standared Deviation:\n",
      " 19.96218647565664\n"
     ]
    }
   ],
   "source": [
    "# Find the standard deviation of the latest array\n",
    "print(\"Latest array:\\n\",arr3)\n",
    "print(\"Standared Deviation:\\n\",np.std(arr3))"
   ]
  },
  {
   "cell_type": "code",
   "execution_count": 69,
   "id": "65e93cce",
   "metadata": {},
   "outputs": [
    {
     "name": "stdout",
     "output_type": "stream",
     "text": [
      "Latest array:\n",
      " [[ 3  5  6  7  3]\n",
      " [34  6  2  1  2]\n",
      " [ 0  2 31  6 77]]\n",
      "variance value:\n",
      " 398.48888888888894\n"
     ]
    }
   ],
   "source": [
    "# Find the variance of the latest array\n",
    "print(\"Latest array:\\n\",arr3)\n",
    "print(\"variance value:\\n\",np.var(arr3))"
   ]
  },
  {
   "cell_type": "code",
   "execution_count": 70,
   "id": "3903855c",
   "metadata": {},
   "outputs": [
    {
     "name": "stdout",
     "output_type": "stream",
     "text": [
      "Latest array:\n",
      " [[ 3  5  6  7  3]\n",
      " [34  6  2  1  2]\n",
      " [ 0  2 31  6 77]]\n",
      "reshaped array:\n",
      " [[[ 3]\n",
      "  [ 5]\n",
      "  [ 6]\n",
      "  [ 7]\n",
      "  [ 3]]\n",
      "\n",
      " [[34]\n",
      "  [ 6]\n",
      "  [ 2]\n",
      "  [ 1]\n",
      "  [ 2]]\n",
      "\n",
      " [[ 0]\n",
      "  [ 2]\n",
      "  [31]\n",
      "  [ 6]\n",
      "  [77]]]\n"
     ]
    }
   ],
   "source": [
    "# Reshape the latest array to (3, 5, 1)\n",
    "print(\"Latest array:\\n\",arr3)\n",
    "print(\"reshaped array:\\n\",arr3.reshape(3,5,1))"
   ]
  },
  {
   "cell_type": "code",
   "execution_count": 71,
   "id": "1158259d",
   "metadata": {},
   "outputs": [
    {
     "name": "stdout",
     "output_type": "stream",
     "text": [
      "Latest array:\n",
      " [[ 3  5  6  7  3]\n",
      " [34  6  2  1  2]\n",
      " [ 0  2 31  6 77]]\n",
      "Transpose array:\n",
      " [[ 3 34  0]\n",
      " [ 5  6  2]\n",
      " [ 6  2 31]\n",
      " [ 7  1  6]\n",
      " [ 3  2 77]]\n"
     ]
    }
   ],
   "source": [
    "# Transpose the latest array\n",
    "print(\"Latest array:\\n\",arr3)\n",
    "print(\"Transpose array:\\n\",np.transpose(arr3))"
   ]
  },
  {
   "cell_type": "markdown",
   "id": "df26457f",
   "metadata": {},
   "source": [
    "What does the transpose do?\n",
    "it's changed array row as column"
   ]
  },
  {
   "cell_type": "code",
   "execution_count": 78,
   "id": "08acaafb",
   "metadata": {},
   "outputs": [
    {
     "name": "stdout",
     "output_type": "stream",
     "text": [
      "[[5 4 8]\n",
      " [2 6 4]\n",
      " [4 8 3]]\n",
      "[[4 1]\n",
      " [0 6]\n",
      " [8 6]]\n"
     ]
    }
   ],
   "source": [
    "# Create two arrays of random integers between 0 to 10\n",
    "# one of size (3, 3) the other of size (3, 2)\n",
    "array1=np.random.uniform(0,10,(3,3)).astype(int)\n",
    "array2=np.random.uniform(0,10,(3,2)).astype(int)\n",
    "print(array1)\n",
    "print(array2)"
   ]
  },
  {
   "cell_type": "code",
   "execution_count": 79,
   "id": "9f9e5604",
   "metadata": {},
   "outputs": [
    {
     "name": "stdout",
     "output_type": "stream",
     "text": [
      "Dot matrix:\n",
      " [[84 77]\n",
      " [40 62]\n",
      " [40 70]]\n"
     ]
    }
   ],
   "source": [
    "# Perform a dot product on the two newest arrays you created\n",
    "print(\"Dot matrix:\\n\",np.dot(array1,array2))"
   ]
  },
  {
   "cell_type": "code",
   "execution_count": 80,
   "id": "a085ea8e",
   "metadata": {},
   "outputs": [
    {
     "name": "stdout",
     "output_type": "stream",
     "text": [
      "[[1 8 6]\n",
      " [1 5 1]\n",
      " [8 8 8]\n",
      " [3 3 9]]\n",
      "[[7 0 8]\n",
      " [7 3 4]\n",
      " [7 0 6]\n",
      " [3 1 5]]\n"
     ]
    }
   ],
   "source": [
    "# Create two arrays of random integers between 0 to 10\n",
    "# both of size (4, 3)\n",
    "array3=np.random.randint(0,10,(4,3))\n",
    "array4=np.random.randint(0,10,(4,3))\n",
    "print(array3)\n",
    "print(array4)"
   ]
  },
  {
   "cell_type": "code",
   "execution_count": 81,
   "id": "e55e1201",
   "metadata": {},
   "outputs": [
    {
     "ename": "ValueError",
     "evalue": "shapes (4,3) and (4,3) not aligned: 3 (dim 1) != 4 (dim 0)",
     "output_type": "error",
     "traceback": [
      "\u001b[1;31m---------------------------------------------------------------------------\u001b[0m",
      "\u001b[1;31mValueError\u001b[0m                                Traceback (most recent call last)",
      "Cell \u001b[1;32mIn[81], line 2\u001b[0m\n\u001b[0;32m      1\u001b[0m \u001b[38;5;66;03m# Perform a dot product on the two newest arrays you created\u001b[39;00m\n\u001b[1;32m----> 2\u001b[0m \u001b[38;5;28mprint\u001b[39m(\u001b[38;5;124m\"\u001b[39m\u001b[38;5;124mDot matrix:\u001b[39m\u001b[38;5;130;01m\\n\u001b[39;00m\u001b[38;5;124m\"\u001b[39m,\u001b[43mnp\u001b[49m\u001b[38;5;241;43m.\u001b[39;49m\u001b[43mdot\u001b[49m\u001b[43m(\u001b[49m\u001b[43marray3\u001b[49m\u001b[43m,\u001b[49m\u001b[43marray4\u001b[49m\u001b[43m)\u001b[49m)\n",
      "File \u001b[1;32m<__array_function__ internals>:180\u001b[0m, in \u001b[0;36mdot\u001b[1;34m(*args, **kwargs)\u001b[0m\n",
      "\u001b[1;31mValueError\u001b[0m: shapes (4,3) and (4,3) not aligned: 3 (dim 1) != 4 (dim 0)"
     ]
    }
   ],
   "source": [
    "# Perform a dot product on the two newest arrays you created\n",
    "print(\"Dot matrix:\\n\",np.dot(array3,array4))"
   ]
  },
  {
   "cell_type": "markdown",
   "id": "bbb62659",
   "metadata": {},
   "source": [
    "# It doesn't work. How would you fix it?\n",
    "Why it's not working means for matrix multiplication first array row shape and second array column shape should be same.\n",
    "by transpose the array,we can fix "
   ]
  },
  {
   "cell_type": "code",
   "execution_count": 84,
   "id": "cbd9a988",
   "metadata": {},
   "outputs": [
    {
     "name": "stdout",
     "output_type": "stream",
     "text": [
      "Dot matrix:\n",
      " [[ 55  55  43  41]\n",
      " [ 15  26  13  13]\n",
      " [120 112 104  72]\n",
      " [ 93  66  75  57]]\n"
     ]
    }
   ],
   "source": [
    "# Take the latest two arrays, perform a transpose on one of them and then perform \n",
    "# a dot product on them both\n",
    "print(\"Dot matrix:\\n\",np.dot(array3,array4.T))#.T-transpose"
   ]
  },
  {
   "cell_type": "markdown",
   "id": "3d42b782",
   "metadata": {},
   "source": [
    "Notice how performing a transpose allows the dot product to happen.\n",
    "\n",
    "Why is this?\n",
    "\n",
    "Checking out the documentation on np.dot() may help, as well as reading Math is Fun's guide on the dot product."
   ]
  },
  {
   "cell_type": "markdown",
   "id": "fe60df68",
   "metadata": {},
   "source": [
    "Let's now compare arrays."
   ]
  },
  {
   "cell_type": "code",
   "execution_count": 93,
   "id": "0d15e378",
   "metadata": {},
   "outputs": [
    {
     "name": "stdout",
     "output_type": "stream",
     "text": [
      "[[4 5 3 9]\n",
      " [9 5 4 1]\n",
      " [9 2 0 3]]\n",
      "[[6 7 4 3]\n",
      " [3 7 3 1]\n",
      " [9 5 8 9]]\n"
     ]
    }
   ],
   "source": [
    "# Create two arrays of random integers between 0 & 10 of the same shape\n",
    "# and save them to variables\n",
    "array5=np.random.randint(0,10,(3,4))\n",
    "array6=np.random.randint(0,10,(3,4))\n",
    "print(array5)\n",
    "print(array6)"
   ]
  },
  {
   "cell_type": "code",
   "execution_count": 94,
   "id": "9cefb45c",
   "metadata": {},
   "outputs": [
    {
     "name": "stdout",
     "output_type": "stream",
     "text": [
      "Compare Two arrays: [[False False False  True]\n",
      " [ True False  True False]\n",
      " [False False False False]]\n"
     ]
    }
   ],
   "source": [
    "# Compare the two arrays with '>'\n",
    "print(\"Compare Two arrays:\",array5>array6)"
   ]
  },
  {
   "cell_type": "markdown",
   "id": "2d31f648",
   "metadata": {},
   "source": [
    "What happens when you compare the arrays with >?\n",
    "Its compared two arrays elements by we given condition.if condtion is true,given true.if condition is false,given false"
   ]
  },
  {
   "cell_type": "code",
   "execution_count": 95,
   "id": "7f7a7439",
   "metadata": {},
   "outputs": [
    {
     "name": "stdout",
     "output_type": "stream",
     "text": [
      "first array:\n",
      " [[4 5 3 9]\n",
      " [9 5 4 1]\n",
      " [9 2 0 3]]\n",
      "second array:\n",
      " [[6 7 4 3]\n",
      " [3 7 3 1]\n",
      " [9 5 8 9]]\n",
      "Compare Two arrays: [[False False False  True]\n",
      " [ True False  True  True]\n",
      " [ True False False False]]\n"
     ]
    }
   ],
   "source": [
    "# Compare the two arrays with '>='\n",
    "print(\"first array:\\n\",array5)\n",
    "print(\"second array:\\n\",array6)\n",
    "print(\"Compare Two arrays:\",array5>=array6)"
   ]
  },
  {
   "cell_type": "code",
   "execution_count": 98,
   "id": "663928c7",
   "metadata": {},
   "outputs": [
    {
     "name": "stdout",
     "output_type": "stream",
     "text": [
      "first array:\n",
      " [[4 5 3 9]\n",
      " [9 5 4 1]\n",
      " [9 2 0 3]]\n",
      "greater than 7:\n",
      " [[False False False  True]\n",
      " [ True False False False]\n",
      " [ True False False False]]\n",
      "elements of Greater than 7:\n",
      " [9 9 9]\n"
     ]
    }
   ],
   "source": [
    "# Find which elements of the first array are greater than 7\n",
    "print(\"first array:\\n\",array5)\n",
    "print(\"greater than 7:\\n\",array5>7)\n",
    "con=array5>7\n",
    "print(\"elements of Greater than 7:\\n\",array5[con])"
   ]
  },
  {
   "cell_type": "code",
   "execution_count": 100,
   "id": "a6672d1c",
   "metadata": {},
   "outputs": [
    {
     "name": "stdout",
     "output_type": "stream",
     "text": [
      "first array:\n",
      " [[4 5 3 9]\n",
      " [9 5 4 1]\n",
      " [9 2 0 3]]\n",
      "second array:\n",
      " [[6 7 4 3]\n",
      " [3 7 3 1]\n",
      " [9 5 8 9]]\n",
      "Each array equal: [[False False False False]\n",
      " [False False False  True]\n",
      " [ True False False False]]\n"
     ]
    }
   ],
   "source": [
    "# Which parts of each array are equal? (try using '==')\n",
    "print(\"first array:\\n\",array5)\n",
    "print(\"second array:\\n\",array6)\n",
    "print(\"Each array equal:\",array5==array6)"
   ]
  },
  {
   "cell_type": "code",
   "execution_count": 103,
   "id": "6ff74e37",
   "metadata": {},
   "outputs": [
    {
     "name": "stdout",
     "output_type": "stream",
     "text": [
      "first array:\n",
      " [[3 4 5 9]\n",
      " [1 4 5 9]\n",
      " [0 2 3 9]]\n",
      "sorted array:\n",
      " [[3 4 5 9]\n",
      " [1 4 5 9]\n",
      " [0 2 3 9]]\n"
     ]
    }
   ],
   "source": [
    "# Sort one of the arrays you just created in ascending order\n",
    "print(\"first array:\\n\",array5)\n",
    "print(\"sorted array:\\n\",np.sort(array5))"
   ]
  },
  {
   "cell_type": "code",
   "execution_count": 104,
   "id": "eea76138",
   "metadata": {},
   "outputs": [
    {
     "name": "stdout",
     "output_type": "stream",
     "text": [
      "first array:\n",
      " [[3 4 5 9]\n",
      " [1 4 5 9]\n",
      " [0 2 3 9]]\n",
      "indexces of sorted array:\n",
      " [[0 1 2 3]\n",
      " [0 1 2 3]\n",
      " [0 1 2 3]]\n"
     ]
    }
   ],
   "source": [
    "# Sort the indexes of one of the arrays you just created\n",
    "print(\"first array:\\n\",array5)\n",
    "print(\"indexces of sorted array:\\n\",np.argsort(array5))"
   ]
  },
  {
   "cell_type": "code",
   "execution_count": 106,
   "id": "2b8713b1",
   "metadata": {},
   "outputs": [
    {
     "name": "stdout",
     "output_type": "stream",
     "text": [
      "first array:\n",
      " [[3 4 5 9]\n",
      " [1 4 5 9]\n",
      " [0 2 3 9]]\n",
      "maximum value:\n",
      " 9\n",
      "index of maximum value:\n",
      " 3\n"
     ]
    }
   ],
   "source": [
    "# Find the index with the maximum value in one of the arrays you've created\n",
    "print(\"first array:\\n\",array5)\n",
    "print(\"maximum value:\\n\",np.max(array5))\n",
    "print(\"index of maximum value:\\n\",np.argmax(array5))"
   ]
  },
  {
   "cell_type": "code",
   "execution_count": 107,
   "id": "e6c86e22",
   "metadata": {},
   "outputs": [
    {
     "name": "stdout",
     "output_type": "stream",
     "text": [
      "first array:\n",
      " [[3 4 5 9]\n",
      " [1 4 5 9]\n",
      " [0 2 3 9]]\n",
      "minimum value:\n",
      " 0\n",
      "index of minimum value:\n",
      " 8\n"
     ]
    }
   ],
   "source": [
    "# Find the index with the minimum value in one of the arrays you've created\n",
    "print(\"first array:\\n\",array5)\n",
    "print(\"minimum value:\\n\",np.min(array5))\n",
    "print(\"index of minimum value:\\n\",np.argmin(array5))"
   ]
  },
  {
   "cell_type": "code",
   "execution_count": 109,
   "id": "644693fe",
   "metadata": {},
   "outputs": [
    {
     "name": "stdout",
     "output_type": "stream",
     "text": [
      "first array:\n",
      " [[3 4 5 9]\n",
      " [1 4 5 9]\n",
      " [0 2 3 9]]\n",
      " maximum value:\n",
      " [9 9 9]\n",
      "index of maximum value:\n",
      " [3 3 3]\n"
     ]
    }
   ],
   "source": [
    "# Find the indexes with the maximum values down the 1st axis (axis=1)\n",
    "# of one of the arrays you created\n",
    "print(\"first array:\\n\",array5)\n",
    "print(\" maximum value:\\n\",np.max(array5,axis=1))\n",
    "print(\"index of maximum value:\\n\",np.argmax(array5,axis=1))"
   ]
  },
  {
   "cell_type": "code",
   "execution_count": 110,
   "id": "7d922770",
   "metadata": {},
   "outputs": [
    {
     "name": "stdout",
     "output_type": "stream",
     "text": [
      "first array:\n",
      " [[3 4 5 9]\n",
      " [1 4 5 9]\n",
      " [0 2 3 9]]\n",
      " minimum value:\n",
      " [0 2 3 9]\n",
      "index of minimum value:\n",
      " [2 2 2 0]\n"
     ]
    }
   ],
   "source": [
    "# Find the indexes with the minimum values across the 0th axis (axis=0)\n",
    "# of one of the arrays you created\n",
    "print(\"first array:\\n\",array5)\n",
    "print(\" minimum value:\\n\",np.min(array5,axis=0))\n",
    "print(\"index of minimum value:\\n\",np.argmin(array5,axis=0))"
   ]
  },
  {
   "cell_type": "code",
   "execution_count": 116,
   "id": "4ea03348",
   "metadata": {},
   "outputs": [
    {
     "name": "stdout",
     "output_type": "stream",
     "text": [
      "[[-0.59332312 -0.24009104]\n",
      " [ 1.32005045 -0.26919013]\n",
      " [-1.91602589 -1.97121562]\n",
      " [ 0.41810678  0.70930993]]\n"
     ]
    }
   ],
   "source": [
    "# Create an array of normally distributed random numbers\n",
    "mean=0\n",
    "std_div=1\n",
    "na=np.random.normal(mean,std_div,(4,2))\n",
    "print(na)"
   ]
  },
  {
   "cell_type": "code",
   "execution_count": 114,
   "id": "a05b7887",
   "metadata": {},
   "outputs": [
    {
     "name": "stdout",
     "output_type": "stream",
     "text": [
      "[  1.  12.  23.  34.  45.  56.  67.  78.  89. 100.]\n"
     ]
    }
   ],
   "source": [
    "# Create an array with 10 evenly spaced numbers between 1 and 100\n",
    "lin_array=np.linspace(1,100,10)\n",
    "print(lin_array)"
   ]
  },
  {
   "cell_type": "code",
   "execution_count": null,
   "id": "c0a82975",
   "metadata": {},
   "outputs": [],
   "source": []
  },
  {
   "cell_type": "code",
   "execution_count": null,
   "id": "3bc3275c",
   "metadata": {},
   "outputs": [],
   "source": []
  },
  {
   "cell_type": "code",
   "execution_count": null,
   "id": "97984789",
   "metadata": {},
   "outputs": [],
   "source": []
  },
  {
   "cell_type": "code",
   "execution_count": null,
   "id": "68cae211",
   "metadata": {},
   "outputs": [],
   "source": []
  }
 ],
 "metadata": {
  "kernelspec": {
   "display_name": "Python 3 (ipykernel)",
   "language": "python",
   "name": "python3"
  },
  "language_info": {
   "codemirror_mode": {
    "name": "ipython",
    "version": 3
   },
   "file_extension": ".py",
   "mimetype": "text/x-python",
   "name": "python",
   "nbconvert_exporter": "python",
   "pygments_lexer": "ipython3",
   "version": "3.10.9"
  }
 },
 "nbformat": 4,
 "nbformat_minor": 5
}
