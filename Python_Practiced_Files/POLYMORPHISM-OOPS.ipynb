{
 "cells": [
  {
   "cell_type": "markdown",
   "id": "5a9a9968",
   "metadata": {},
   "source": [
    "# POLYMORPHISM-OOPS"
   ]
  },
  {
   "cell_type": "code",
   "execution_count": 1,
   "id": "9a68538c",
   "metadata": {},
   "outputs": [
    {
     "name": "stdout",
     "output_type": "stream",
     "text": [
      "8\n",
      "4\n",
      "2\n"
     ]
    }
   ],
   "source": [
    "#polymorphi len\n",
    "#here sam len funcion only but doing differnt operation of everytime\n",
    "string=\"karthjik\"\n",
    "list1=[90,67,45,'iiii']\n",
    "dic={0:'kkk',1:'bbb'}\n",
    "print(len(string))#here length function calcuate character length\n",
    "print(len(list1))#here length function calculate elements length\n",
    "print(len(dic))#here length function calculate key length"
   ]
  },
  {
   "cell_type": "code",
   "execution_count": 11,
   "id": "c8f64f63",
   "metadata": {},
   "outputs": [
    {
     "name": "stdout",
     "output_type": "stream",
     "text": [
      "New Delhi is India capital\n",
      "Hindi is most speaking language\n",
      "India is one of the developing country\n",
      "WasingtonD.C is US capital\n",
      "English is most speaking language\n",
      "US is developed country\n"
     ]
    }
   ],
   "source": [
    "#polymorishm class\n",
    "#different classes but inside classes methods are same.\n",
    "#capital() method inside the india class it's printing different . inside the usa class it's printing differnt\n",
    "class india:\n",
    "    def capital(self):\n",
    "        print(\"New Delhi is India capital\")\n",
    "    def language(self):\n",
    "        print(\"Hindi is most speaking language\")\n",
    "    def type(self):\n",
    "        print(\"India is one of the developing country\")\n",
    "class usa:\n",
    "    def capital(self):\n",
    "        print(\"WasingtonD.C is US capital\")\n",
    "    def language(self):\n",
    "        print(\"English is most speaking language\")\n",
    "    def type(self):\n",
    "        print(\"US is developed country\")\n",
    "obj_ind=india()\n",
    "obj_usa=usa()\n",
    "for country in (obj_ind,obj_usa):\n",
    "    country.capital()\n",
    "    country.language()\n",
    "    country.type()"
   ]
  },
  {
   "cell_type": "code",
   "execution_count": 13,
   "id": "596030cb",
   "metadata": {},
   "outputs": [
    {
     "name": "stdout",
     "output_type": "stream",
     "text": [
      "[87, 90, 7]\n",
      "[6, 9, 8, 6]\n"
     ]
    }
   ],
   "source": [
    "list1=[87,90,7]\n",
    "list2=[6,9,8,6]\n",
    "for i in (list1,list2):\n",
    "    print(i)"
   ]
  },
  {
   "cell_type": "code",
   "execution_count": 3,
   "id": "b16a3648",
   "metadata": {},
   "outputs": [
    {
     "name": "stdout",
     "output_type": "stream",
     "text": [
      "hello \n"
     ]
    }
   ],
   "source": [
    "#method overriding-\n",
    "class man:\n",
    "    def f(self):\n",
    "        print(\" hi\")\n",
    "    def f(self):\n",
    "        print(\"hello \")\n",
    "m=man()\n",
    "m.f()#here i called method but first method value was overridden by second method\n"
   ]
  },
  {
   "cell_type": "code",
   "execution_count": 9,
   "id": "2a9a3ef3",
   "metadata": {},
   "outputs": [
    {
     "name": "stdout",
     "output_type": "stream",
     "text": [
      "Parking\n",
      "----------------------------------------------------------------------------------------------------\n",
      "Speaking\n",
      "Parking\n"
     ]
    }
   ],
   "source": [
    "#method Overriding\n",
    "class Animal:\n",
    "    def speak(self):\n",
    "        print(\"Speaking\")\n",
    "class dog(Animal):\n",
    "    def speak(self):\n",
    "        print(\"Parking\")\n",
    "d=dog()\n",
    "a=Animal()\n",
    "d.speak()#first method value was overridden by second method\n",
    "print('-'*100)\n",
    "for i in (a,d):\n",
    "    i.speak()"
   ]
  },
  {
   "cell_type": "code",
   "execution_count": 20,
   "id": "59b39736",
   "metadata": {},
   "outputs": [
    {
     "name": "stdout",
     "output_type": "stream",
     "text": [
      "131\n"
     ]
    },
    {
     "ename": "TypeError",
     "evalue": "m() missing 1 required positional argument: 'z'",
     "output_type": "error",
     "traceback": [
      "\u001b[1;31m---------------------------------------------------------------------------\u001b[0m",
      "\u001b[1;31mTypeError\u001b[0m                                 Traceback (most recent call last)",
      "Cell \u001b[1;32mIn[20], line 7\u001b[0m\n\u001b[0;32m      5\u001b[0m     \u001b[38;5;28mprint\u001b[39m(x\u001b[38;5;241m+\u001b[39my\u001b[38;5;241m+\u001b[39mz)\n\u001b[0;32m      6\u001b[0m m(\u001b[38;5;241m34\u001b[39m,\u001b[38;5;241m89\u001b[39m,\u001b[38;5;241m8\u001b[39m)\n\u001b[1;32m----> 7\u001b[0m \u001b[43mm\u001b[49m\u001b[43m(\u001b[49m\u001b[38;5;241;43m34\u001b[39;49m\u001b[43m,\u001b[49m\u001b[38;5;241;43m89\u001b[39;49m\u001b[43m)\u001b[49m\n",
      "\u001b[1;31mTypeError\u001b[0m: m() missing 1 required positional argument: 'z'"
     ]
    }
   ],
   "source": [
    "#method overloading\n",
    "def m(x,y):\n",
    "    print(x+y)\n",
    "def m(x,y,z):\n",
    "    print(x+y+z)\n",
    "m(34,89,8)\n",
    "m(34,89)#if we pass two values, it will throw error.cause already we have declared three parameters"
   ]
  },
  {
   "cell_type": "code",
   "execution_count": 27,
   "id": "a790b86a",
   "metadata": {},
   "outputs": [
    {
     "name": "stdout",
     "output_type": "stream",
     "text": [
      "14\n",
      "20\n",
      "6\n"
     ]
    }
   ],
   "source": [
    "#method overloading\n",
    "class c:\n",
    "    def f(self,x=None,y=None,z=None):\n",
    "        if x!=None and y==None:\n",
    "            print(x)\n",
    "        elif x!=None and y!=None and z!=None:\n",
    "            print(x+y+z)\n",
    "        else:\n",
    "            print(x+y)\n",
    "cc=c()\n",
    "cc.f(6,8)\n",
    "cc.f(6,8,6) \n",
    "cc.f(6)"
   ]
  },
  {
   "cell_type": "code",
   "execution_count": 30,
   "id": "40683a9e",
   "metadata": {},
   "outputs": [
    {
     "name": "stdout",
     "output_type": "stream",
     "text": [
      "6.9\n",
      "7\n"
     ]
    }
   ],
   "source": [
    "#method overloading-call same method name more times it's called method overloadincg\n",
    "class bank:\n",
    "    def getroi(self):\n",
    "        return 10\n",
    "class SBI(bank):\n",
    "    def getroi(self):\n",
    "        return 7\n",
    "class ICICI(SBI):\n",
    "    def getroi(self):\n",
    "        return 6.9\n",
    "i=ICICI()\n",
    "i1=SBI()\n",
    "print(i.getroi())\n",
    "print(i1.getroi())"
   ]
  },
  {
   "cell_type": "code",
   "execution_count": 31,
   "id": "d4487a4e",
   "metadata": {},
   "outputs": [
    {
     "name": "stdout",
     "output_type": "stream",
     "text": [
      "9\n",
      "karthik\n",
      "25\n",
      "kkkkk\n"
     ]
    }
   ],
   "source": [
    "#operator overloading-use same operator more than one time for different uses.\n",
    "#+\n",
    "print(5+4)#here + operator used to add two integer numbers\n",
    "print(\"karth\"+\"ik\")#here + operator used to combine two string\n",
    "#*\n",
    "print(5*5)#here * operator used to multiply the integer numbers\n",
    "print('k'*5)#here * operator used to repeat the string\n",
    "#here integer number and string used +,*  operators as a overloaded "
   ]
  },
  {
   "cell_type": "code",
   "execution_count": 32,
   "id": "79d88404",
   "metadata": {},
   "outputs": [
    {
     "ename": "TypeError",
     "evalue": "unsupported operand type(s) for *: 'calculation' and 'calculation'",
     "output_type": "error",
     "traceback": [
      "\u001b[1;31m---------------------------------------------------------------------------\u001b[0m",
      "\u001b[1;31mTypeError\u001b[0m                                 Traceback (most recent call last)",
      "Cell \u001b[1;32mIn[32], line 11\u001b[0m\n\u001b[0;32m      9\u001b[0m y\u001b[38;5;241m=\u001b[39m\u001b[38;5;241m12\u001b[39m\n\u001b[0;32m     10\u001b[0m c\u001b[38;5;241m=\u001b[39mcalculation(x,y)\n\u001b[1;32m---> 11\u001b[0m \u001b[38;5;28mprint\u001b[39m(\u001b[43mc\u001b[49m\u001b[38;5;241;43m*\u001b[39;49m\u001b[43mc\u001b[49m)\n",
      "\u001b[1;31mTypeError\u001b[0m: unsupported operand type(s) for *: 'calculation' and 'calculation'"
     ]
    }
   ],
   "source": [
    "#if we want add two object,we can't add two object\n",
    "class calculation:\n",
    "    def __init__(self,x,y):\n",
    "        self.a=x\n",
    "        self.b=y\n",
    "    def mul(self):\n",
    "        return self.a*self.b\n",
    "x=10\n",
    "y=12\n",
    "c=calculation(x,y)\n",
    "print(c*c)\n",
    "\n",
    "    "
   ]
  },
  {
   "cell_type": "code",
   "execution_count": 40,
   "id": "c40b5d83",
   "metadata": {},
   "outputs": [
    {
     "name": "stdout",
     "output_type": "stream",
     "text": [
      "120\n",
      "22\n"
     ]
    }
   ],
   "source": [
    "#using operator overloading method,we can multiply two objects\n",
    "class calculation:\n",
    "    def __init__(self,x,y):\n",
    "        self.a=x\n",
    "        self.b=y\n",
    "    def __mul__(self,other):#we need to declare one argument like other(other is optional)\n",
    "        return self.a*self.b\n",
    "    def __add__(self,o):\n",
    "        return self.a+o.b#o.b it's will take remaining argument\n",
    "x=10\n",
    "y=12\n",
    "c=calculation(x,y)\n",
    "print(c*c)#it's run __mul__ method\n",
    "print(c+c)#it's run __add__ method"
   ]
  },
  {
   "cell_type": "code",
   "execution_count": 45,
   "id": "e9d7c49d",
   "metadata": {},
   "outputs": [
    {
     "name": "stdout",
     "output_type": "stream",
     "text": [
      "120\n",
      "32\n",
      "32\n"
     ]
    }
   ],
   "source": [
    "#operator overloading\n",
    "class calculation:\n",
    "    def __init__(self,x,y,z):\n",
    "        self.a=x\n",
    "        self.b=y\n",
    "        self.c=z\n",
    "    def __mul__(self,other):\n",
    "        return self.a*self.b\n",
    "    def __add__(self,o):\n",
    "        return self.a+o.b+o.c\n",
    "x=10\n",
    "y=12\n",
    "z=10\n",
    "c=calculation(x,y,z)\n",
    "print(c.a*c.b)\n",
    "print(c.a+c.b+c.c)\n",
    "print(c+c)"
   ]
  },
  {
   "cell_type": "code",
   "execution_count": 52,
   "id": "5f8a0cc9",
   "metadata": {},
   "outputs": [
    {
     "name": "stdout",
     "output_type": "stream",
     "text": [
      "object has been created\n",
      "object\n",
      "object has been deleted\n"
     ]
    },
    {
     "ename": "NameError",
     "evalue": "name 'kk' is not defined",
     "output_type": "error",
     "traceback": [
      "\u001b[1;31m---------------------------------------------------------------------------\u001b[0m",
      "\u001b[1;31mNameError\u001b[0m                                 Traceback (most recent call last)",
      "Cell \u001b[1;32mIn[52], line 13\u001b[0m\n\u001b[0;32m     11\u001b[0m \u001b[38;5;28mprint\u001b[39m(kk\u001b[38;5;241m.\u001b[39mname)\n\u001b[0;32m     12\u001b[0m \u001b[38;5;28;01mdel\u001b[39;00m kk\n\u001b[1;32m---> 13\u001b[0m \u001b[38;5;28mprint\u001b[39m(\u001b[43mkk\u001b[49m\u001b[38;5;241m.\u001b[39mname)\n",
      "\u001b[1;31mNameError\u001b[0m: name 'kk' is not defined"
     ]
    }
   ],
   "source": [
    "#Destructor-it is used to delete the object \n",
    "class k:\n",
    "    #constructor\n",
    "    def __init__(self,name):\n",
    "        self.name=name\n",
    "        print(f'{self.name} has been created')\n",
    "    #destructor\n",
    "    def __del__(self):\n",
    "        print(f'{self.name} has been deleted')#this one used to remove whatebver data that object has\n",
    "kk=k(\"object\")\n",
    "print(kk.name)\n",
    "del kk#here we deleted kk object\n",
    "print(kk.name)#here after delete we called again,that's why it's throwing the error"
   ]
  },
  {
   "cell_type": "code",
   "execution_count": 53,
   "id": "44234131",
   "metadata": {},
   "outputs": [
    {
     "name": "stdout",
     "output_type": "stream",
     "text": [
      "Inside Constructor\n",
      "Object Initialized\n",
      "Hello!!! my name is:karthik\n",
      "Inside the Destructor\n",
      "Object Destroyed\n",
      "Inside Constructor\n",
      "Object Initialized\n",
      "Hello!!! my name is:mani\n"
     ]
    },
    {
     "ename": "NameError",
     "evalue": "name 's1' is not defined",
     "output_type": "error",
     "traceback": [
      "\u001b[1;31m---------------------------------------------------------------------------\u001b[0m",
      "\u001b[1;31mNameError\u001b[0m                                 Traceback (most recent call last)",
      "Cell \u001b[1;32mIn[53], line 20\u001b[0m\n\u001b[0;32m     18\u001b[0m s2\u001b[38;5;241m=\u001b[39mstudent(\u001b[38;5;124m\"\u001b[39m\u001b[38;5;124mmani\u001b[39m\u001b[38;5;124m\"\u001b[39m)\n\u001b[0;32m     19\u001b[0m s2\u001b[38;5;241m.\u001b[39mshow()\n\u001b[1;32m---> 20\u001b[0m \u001b[43ms1\u001b[49m\u001b[38;5;241m.\u001b[39mshow()\n",
      "\u001b[1;31mNameError\u001b[0m: name 's1' is not defined"
     ]
    }
   ],
   "source": [
    "#destructor\n",
    "class student:\n",
    "    #constructor\n",
    "    def __init__(self,name):\n",
    "        print(\"Inside Constructor\")\n",
    "        self.name=name\n",
    "        print(\"Object Initialized\")\n",
    "    def show(self):\n",
    "        print(f'Hello!!! my name is:{self.name}')\n",
    "    #destructor\n",
    "    def __del__(self):\n",
    "        print(\"Inside the Destructor\")\n",
    "        print(\"Object Destroyed\")\n",
    "#create object\n",
    "s1=student(\"karthik\")\n",
    "s1.show()\n",
    "del s1\n",
    "s2=student(\"mani\")\n",
    "s2.show()\n",
    "s1.show()#s1 object was destroyed already,so it's throwing the error\n"
   ]
  },
  {
   "cell_type": "code",
   "execution_count": null,
   "id": "45b4b846",
   "metadata": {},
   "outputs": [],
   "source": []
  },
  {
   "cell_type": "code",
   "execution_count": null,
   "id": "c05ce5fa",
   "metadata": {},
   "outputs": [],
   "source": []
  },
  {
   "cell_type": "code",
   "execution_count": null,
   "id": "502c2197",
   "metadata": {},
   "outputs": [],
   "source": []
  }
 ],
 "metadata": {
  "kernelspec": {
   "display_name": "Python 3 (ipykernel)",
   "language": "python",
   "name": "python3"
  },
  "language_info": {
   "codemirror_mode": {
    "name": "ipython",
    "version": 3
   },
   "file_extension": ".py",
   "mimetype": "text/x-python",
   "name": "python",
   "nbconvert_exporter": "python",
   "pygments_lexer": "ipython3",
   "version": "3.10.9"
  }
 },
 "nbformat": 4,
 "nbformat_minor": 5
}
