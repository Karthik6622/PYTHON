{
 "cells": [
  {
   "cell_type": "markdown",
   "id": "0905c149",
   "metadata": {},
   "source": [
    "# Functions2"
   ]
  },
  {
   "cell_type": "code",
   "execution_count": 2,
   "id": "f7b03dcf",
   "metadata": {},
   "outputs": [
    {
     "name": "stdout",
     "output_type": "stream",
     "text": [
      "hello all\n"
     ]
    }
   ],
   "source": [
    "#user defined function\n",
    "def kk():\n",
    "    print(\"hello all\")\n",
    "kk()"
   ]
  },
  {
   "cell_type": "code",
   "execution_count": 4,
   "id": "26ea41e6",
   "metadata": {},
   "outputs": [
    {
     "name": "stdout",
     "output_type": "stream",
     "text": [
      "10\n"
     ]
    }
   ],
   "source": [
    "#buit-in-function\n",
    "print(sum(range(5)))"
   ]
  },
  {
   "cell_type": "code",
   "execution_count": 5,
   "id": "a9e9bbcf",
   "metadata": {},
   "outputs": [
    {
     "name": "stdout",
     "output_type": "stream",
     "text": [
      "9.0\n",
      "3.0\n"
     ]
    }
   ],
   "source": [
    "#return function #required argument\n",
    "def sqrt(n):\n",
    "    return n**0.5\n",
    "print(sqrt(81))\n",
    "print(sqrt(9))"
   ]
  },
  {
   "cell_type": "code",
   "execution_count": 7,
   "id": "6d5b3056",
   "metadata": {},
   "outputs": [
    {
     "name": "stdout",
     "output_type": "stream",
     "text": [
      "54\n",
      "8\n"
     ]
    }
   ],
   "source": [
    "#default argument\n",
    "def s(x,y=50):\n",
    "    print(x+y)\n",
    "s(4)\n",
    "s(4,4)    "
   ]
  },
  {
   "cell_type": "code",
   "execution_count": 10,
   "id": "1cb1697e",
   "metadata": {},
   "outputs": [
    {
     "name": "stdout",
     "output_type": "stream",
     "text": [
      "My name is Karthik.I have completed BSC(cs).and my city is chennai.\n",
      "My name is baby.I have completed MA(ENG).and my city is chennai.\n"
     ]
    }
   ],
   "source": [
    "#keyword argument\n",
    "def details(name,degree,city='chennai'):\n",
    "    print(f'My name is {name}.I have completed {degree}.and my city is {city}.')\n",
    "details('Karthik','BSC(cs)')\n",
    "details('baby','MA(ENG)','chennai')"
   ]
  },
  {
   "cell_type": "code",
   "execution_count": 11,
   "id": "8a8a41d6",
   "metadata": {},
   "outputs": [
    {
     "name": "stdout",
     "output_type": "stream",
     "text": [
      "07\n",
      "02\n",
      "998\n",
      "00\n"
     ]
    }
   ],
   "source": [
    "#Arbitary argument\n",
    "import math as m\n",
    "def k(*n):\n",
    "    for i in n:\n",
    "        j=int(i)/10#it will give same number\n",
    "        ss=str(j)\n",
    "        ll=[l1 for l1 in ss]\n",
    "        ll2=[lll for lll in ll if lll!='.' ]\n",
    "        print(''.join(ll2))\n",
    "        \n",
    "        \n",
    "k(7,2,998,0)"
   ]
  },
  {
   "cell_type": "code",
   "execution_count": 15,
   "id": "f847ed26",
   "metadata": {},
   "outputs": [
    {
     "name": "stdout",
     "output_type": "stream",
     "text": [
      "name karthik\n",
      "age 23\n"
     ]
    }
   ],
   "source": [
    "def kk(**n):\n",
    "    for key,value in n.items():\n",
    "        \n",
    "        print(f'{key} {value}')\n",
    "kk(name='karthik',age=23)"
   ]
  },
  {
   "cell_type": "code",
   "execution_count": 17,
   "id": "aa894233",
   "metadata": {},
   "outputs": [
    {
     "name": "stdout",
     "output_type": "stream",
     "text": [
      "4\n"
     ]
    }
   ],
   "source": [
    "#lambda function\n",
    "import math\n",
    "c=lambda x,y:math.ceil(x/y)\n",
    "print(c(10,3))"
   ]
  },
  {
   "cell_type": "code",
   "execution_count": 20,
   "id": "1fe3a633",
   "metadata": {},
   "outputs": [
    {
     "name": "stdout",
     "output_type": "stream",
     "text": [
      "[98, 89.8, 67, 34]\n"
     ]
    }
   ],
   "source": [
    "#lambda reduce function\n",
    "from functools import reduce\n",
    "ma=[67,98,89.8,34]\n",
    "li=[]\n",
    "for i in range(len(ma)):\n",
    "    max=reduce(lambda x,y:x if x>y else y,ma)\n",
    "    li.append(max)\n",
    "    ma.remove(max)\n",
    "print(li)"
   ]
  },
  {
   "cell_type": "code",
   "execution_count": 30,
   "id": "418df94b",
   "metadata": {},
   "outputs": [
    {
     "name": "stdout",
     "output_type": "stream",
     "text": [
      "karthik\n",
      "baby\n"
     ]
    }
   ],
   "source": [
    "#lamda filter function\n",
    "#to find 20+ age people name from dictionary using lambda filter function\n",
    "dic={'karthik':23,'baby':24,'parthi':19}\n",
    "dic_age=list(dic.values())\n",
    "dic_name=list(dic.keys())\n",
    "dic1={}\n",
    "for i,j in zip(dic_age,dic_name):\n",
    "    dic1.update({i:'{}'.format(j)})\n",
    "l=list(filter(lambda x:x>=20,dic_age))\n",
    "for j in l:\n",
    "    print(dic1[j])"
   ]
  },
  {
   "cell_type": "code",
   "execution_count": 35,
   "id": "d218f853",
   "metadata": {},
   "outputs": [
    {
     "name": "stdout",
     "output_type": "stream",
     "text": [
      "celcius values is: [38.32222222222222, 36.111111111111114, 35.0]\n",
      "ferenheit values is: [100.97999999999999, 97.0, 95.0]\n"
     ]
    }
   ],
   "source": [
    "#lambda map function\n",
    "# to change every element in ferenhit to celcius\n",
    "list1=[100.98,97,95]\n",
    "list2=list(map(lambda x:(x-32)*5/9,list1))\n",
    "print(\"celcius values is:\",list2)\n",
    "# to change every element in celcius to ferenheit\n",
    "list3=list(map(lambda x:(x*9/5)+32,list2))\n",
    "print(\"ferenheit values is:\",list3)"
   ]
  },
  {
   "cell_type": "code",
   "execution_count": null,
   "id": "32053839",
   "metadata": {},
   "outputs": [],
   "source": []
  },
  {
   "cell_type": "code",
   "execution_count": null,
   "id": "60c991dd",
   "metadata": {},
   "outputs": [],
   "source": [
    "\n"
   ]
  },
  {
   "cell_type": "code",
   "execution_count": null,
   "id": "60980ad8",
   "metadata": {},
   "outputs": [],
   "source": []
  }
 ],
 "metadata": {
  "kernelspec": {
   "display_name": "Python 3 (ipykernel)",
   "language": "python",
   "name": "python3"
  },
  "language_info": {
   "codemirror_mode": {
    "name": "ipython",
    "version": 3
   },
   "file_extension": ".py",
   "mimetype": "text/x-python",
   "name": "python",
   "nbconvert_exporter": "python",
   "pygments_lexer": "ipython3",
   "version": "3.10.9"
  }
 },
 "nbformat": 4,
 "nbformat_minor": 5
}
