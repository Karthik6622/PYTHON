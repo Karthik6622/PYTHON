{
 "cells": [
  {
   "cell_type": "markdown",
   "id": "0dd023bf",
   "metadata": {},
   "source": [
    "# Filters"
   ]
  },
  {
   "cell_type": "code",
   "execution_count": 1,
   "id": "df4d0b4d",
   "metadata": {},
   "outputs": [],
   "source": [
    "from plotly.offline import plot\n",
    "import plotly.graph_objs as go"
   ]
  },
  {
   "cell_type": "markdown",
   "id": "9651f8e5",
   "metadata": {},
   "source": [
    "'''\n",
    "a \"filter\" typically refers to a mechanism or functionality that allows you to interactively modify or subset data displayed in a Plotly chart based on user input or predefined criteria.\n",
    "'''"
   ]
  },
  {
   "cell_type": "markdown",
   "id": "bd76bd50",
   "metadata": {},
   "source": [
    "# Filtering the datas"
   ]
  },
  {
   "cell_type": "code",
   "execution_count": 19,
   "id": "c95aa8a3",
   "metadata": {},
   "outputs": [
    {
     "data": {
      "text/plain": [
       "'temp-plot.html'"
      ]
     },
     "execution_count": 19,
     "metadata": {},
     "output_type": "execute_result"
    }
   ],
   "source": [
    "#filter y value which has morethan 4 and display as scatterplot\n",
    "data=[dict\n",
    " (\n",
    "type=\"scatter\",\n",
    "x=[1,2,3,4,5,6,7,8,9],\n",
    "y=[12,13,6,2,8,1,0,54,2],\n",
    "mode='markers',\n",
    "transforms=[dict(\n",
    "type=\"filter\",\n",
    "target='y',\n",
    "operation='>',\n",
    "value=4\n",
    ")]\n",
    ")]\n",
    "layout=dict(\n",
    "title='MOrethan >4'\n",
    ")\n",
    "plot({'data':data,'layout':layout},validate=False)"
   ]
  },
  {
   "cell_type": "code",
   "execution_count": 18,
   "id": "abf718ba",
   "metadata": {},
   "outputs": [
    {
     "data": {
      "text/plain": [
       "'temp-plot.html'"
      ]
     },
     "execution_count": 18,
     "metadata": {},
     "output_type": "execute_result"
    }
   ],
   "source": [
    "#filter x value which has morethan 5 and display as scatterplot\n",
    "data=[dict\n",
    " (\n",
    "type=\"bar\",\n",
    "x=[1,2,3,4,5,6,7,8,9],\n",
    "y=[12,13,6,2,8,1,0,54,2],\n",
    "transforms=[dict(\n",
    "type=\"filter\",\n",
    "target='x',\n",
    "operation='>',\n",
    "value=5\n",
    ")]\n",
    ")]\n",
    "layout=dict(\n",
    "title='MOrethan >5'\n",
    ")\n",
    "plot({'data':data,'layout':layout},validate=False)"
   ]
  },
  {
   "cell_type": "markdown",
   "id": "0fc26b20",
   "metadata": {},
   "source": [
    "# Groupby"
   ]
  },
  {
   "cell_type": "code",
   "execution_count": 25,
   "id": "f4727b88",
   "metadata": {},
   "outputs": [
    {
     "data": {
      "text/plain": [
       "'temp-plot.html'"
      ]
     },
     "execution_count": 25,
     "metadata": {},
     "output_type": "execute_result"
    }
   ],
   "source": [
    "#here we grouping X values(A,B,C) and terir values seperaly and given seperate color for every group\n",
    "x=['A','B','A','C','B','B','A']\n",
    "y=[13,2,11,8,5,2,1]\n",
    "data=[dict(\n",
    "x=x,\n",
    "y=y,\n",
    "type=\"scatter\",\n",
    "mode='markers',\n",
    "transforms=[dict(\n",
    "type='groupby',\n",
    "groups=x,\n",
    "styles=[dict(target='A',value=dict(marker=dict(color='red'))),dict(target='B',value=dict(marker=dict(color='black'))),\n",
    "      dict(target='C',value=dict(marker=dict(color='blue')))\n",
    "      ]\n",
    ")]\n",
    ")]\n",
    "layout=dict(\n",
    "title='Groupby'\n",
    ")\n",
    "plot({'data':data,'layout':layout},validate=False)"
   ]
  },
  {
   "cell_type": "markdown",
   "id": "aff26933",
   "metadata": {},
   "source": [
    "# Aggergate function"
   ]
  },
  {
   "cell_type": "code",
   "execution_count": 28,
   "id": "77c25cad",
   "metadata": {},
   "outputs": [
    {
     "data": {
      "text/plain": [
       "'temp-plot.html'"
      ]
     },
     "execution_count": 28,
     "metadata": {},
     "output_type": "execute_result"
    }
   ],
   "source": [
    "#here we grouping X values(A,B,C) aand finding sum of each group usinf aggregation function\n",
    "x=['A','B','A','C','B','B','A']\n",
    "y=[13,2,11,8,5,2,1]\n",
    "data=[dict(\n",
    "x=x,\n",
    "y=y,\n",
    "type=\"scatter\",\n",
    "mode='markers',\n",
    "transforms=[dict(type=\"aggregate\",\n",
    "                groups=x,\n",
    "                aggregations=[dict(\n",
    "                target='y',func='sum',\n",
    "                enabled=True\n",
    "                )]\n",
    "                              \n",
    "                )]\n",
    ")]  \n",
    "layout=dict(\n",
    "title='Aggregation'\n",
    ")\n",
    "plot({'data':data,'layout':layout},validate=False)"
   ]
  },
  {
   "cell_type": "code",
   "execution_count": 82,
   "id": "b332b22e",
   "metadata": {},
   "outputs": [
    {
     "data": {
      "text/plain": [
       "'temp-plot.html'"
      ]
     },
     "execution_count": 82,
     "metadata": {},
     "output_type": "execute_result"
    }
   ],
   "source": [
    "#create updatemenu(dropdownlist) for all Aggregation functions\n",
    "#create  the values\n",
    "subject = ['Moe', 'Larry', 'Curly',\n",
    "           'Moe', 'Larry', 'Curly',\n",
    "           'Moe', 'Larry', 'Curly',\n",
    "           'Moe', 'Larry', 'Curly']\n",
    "\n",
    "score = [1, 6, 2, 8, 2, 9,\n",
    "         4, 5, 1, 5, 2, 8]\n",
    "#here listing all aggregtion functions\n",
    "aggs=[\"count\",\"sum\",\"avg\",\"median\",\"min\",\"max\",\"first\",\"last\",\"stddev\"]\n",
    "#here we storing aggs values to button args,label and method\n",
    "agg_func=[]\n",
    "agg=[]\n",
    "for i in range(len(aggs)):\n",
    "    agg=dict(args=['transforms[0].aggregations[0].func',aggs[i]],\n",
    "             label=aggs[i],\n",
    "             method=\"restyle\"\n",
    "             )\n",
    "    agg_func.append(agg)\n",
    "#for first time display we craeting sum Aggrgation scatter plot\n",
    "data = [dict(\n",
    "  type = 'scatter',\n",
    "  x = subject,\n",
    "  y = score,\n",
    "  mode = 'markers',\n",
    "  transforms = [dict(\n",
    "    type = 'aggregate',\n",
    "    groups = subject,\n",
    "    aggregations = [dict(\n",
    "        target = 'y', func = 'sum', enabled = True)\n",
    "    ]\n",
    "  )]\n",
    ")]\n",
    "#creating \n",
    "layout with updatemenus\n",
    "layout = dict(\n",
    "  title = '<b>Plotly Aggregations</b><br>use dropdown to change aggregation',\n",
    "  xaxis = dict(title = 'Subject'),\n",
    "  yaxis = dict(title = 'Score'),\n",
    "  updatemenus = [dict(\n",
    "      #x,y is alignment of updatemenu\n",
    "        x = 0.85,\n",
    "        y = 1.15,\n",
    "      #active-1 means sum display first\n",
    "      active=1,\n",
    "      #if we click button(updatemenubuttons),aggregation function will be happen\n",
    "        buttons = agg_func\n",
    "  )]\n",
    ")        \n",
    "plot({'data':data,'layout':layout},validate=False)"
   ]
  },
  {
   "cell_type": "code",
   "execution_count": 87,
   "id": "c2939c23",
   "metadata": {},
   "outputs": [
    {
     "data": {
      "text/plain": [
       "'temp-plot.html'"
      ]
     },
     "execution_count": 87,
     "metadata": {},
     "output_type": "execute_result"
    }
   ],
   "source": [
    "#changing colors of scatterplot by selecting updatemenus(dropdownlist)\n",
    "subject = ['Moe', 'Larry', 'Curly',\n",
    "           'Moe', 'Larry', 'Curly',\n",
    "           'Moe', 'Larry', 'Curly',\n",
    "           'Moe', 'Larry', 'Curly']\n",
    "\n",
    "score = [1, 6, 2, 8, 2, 9,\n",
    "         4, 5, 1, 5, 2, 8]\n",
    "\n",
    "aggs = [\"red\",\"blue\",\"orange\",\"yellow\",\"plum\"]\n",
    "\n",
    "agg = []\n",
    "agg_func = []\n",
    "for i in range(len(aggs)):\n",
    "    agg = dict(\n",
    "        args=['marker.color',aggs[i]],\n",
    "        label=aggs[i],\n",
    "        method='restyle'\n",
    "    )\n",
    "    agg_func.append(agg)\n",
    "\n",
    "\n",
    "data = [dict(\n",
    "  type = 'scatter',\n",
    "  x = subject,\n",
    "  y = score,\n",
    "  mode = 'markers',\n",
    "  marker=dict(\n",
    "  color=\"orange\"\n",
    "  )\n",
    "  )]\n",
    "layout = dict(\n",
    "  title = '<b>Plotly Aggregations</b><br>use dropdown to change aggregation',\n",
    "  xaxis = dict(title = 'Subject'),\n",
    "  yaxis = dict(title = 'Score'),\n",
    "  updatemenus = [dict(\n",
    "        x = 0.85,\n",
    "        y = 1.15,\n",
    "        active = 2,\n",
    "        buttons = agg_func\n",
    "  )]\n",
    ")\n",
    "plot({'data': data,'layout': layout}, validate=False)"
   ]
  },
  {
   "cell_type": "code",
   "execution_count": null,
   "id": "5466d7ee",
   "metadata": {},
   "outputs": [],
   "source": []
  },
  {
   "cell_type": "code",
   "execution_count": null,
   "id": "f02fad59",
   "metadata": {},
   "outputs": [],
   "source": []
  },
  {
   "cell_type": "code",
   "execution_count": null,
   "id": "cf39b5e3",
   "metadata": {},
   "outputs": [],
   "source": []
  },
  {
   "cell_type": "code",
   "execution_count": null,
   "id": "d3595c7f",
   "metadata": {},
   "outputs": [],
   "source": []
  },
  {
   "cell_type": "code",
   "execution_count": null,
   "id": "8d4b3051",
   "metadata": {},
   "outputs": [],
   "source": []
  }
 ],
 "metadata": {
  "kernelspec": {
   "display_name": "Python 3 (ipykernel)",
   "language": "python",
   "name": "python3"
  },
  "language_info": {
   "codemirror_mode": {
    "name": "ipython",
    "version": 3
   },
   "file_extension": ".py",
   "mimetype": "text/x-python",
   "name": "python",
   "nbconvert_exporter": "python",
   "pygments_lexer": "ipython3",
   "version": "3.10.9"
  }
 },
 "nbformat": 4,
 "nbformat_minor": 5
}
