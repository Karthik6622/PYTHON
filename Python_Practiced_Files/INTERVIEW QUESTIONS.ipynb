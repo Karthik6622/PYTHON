{
 "cells": [
  {
   "cell_type": "markdown",
   "id": "8bdcf68e",
   "metadata": {},
   "source": [
    "INTERVIEW QUESTIONS"
   ]
  },
  {
   "cell_type": "markdown",
   "id": "f8aa7cc6",
   "metadata": {},
   "source": [
    "# Basic of Python Programming"
   ]
  },
  {
   "cell_type": "code",
   "execution_count": 2,
   "id": "010189e4",
   "metadata": {},
   "outputs": [
    {
     "name": "stdout",
     "output_type": "stream",
     "text": [
      "ENTER THE NUMBER1:5\n",
      "ENTER THE NUMBER2:2\n",
      "ADDTION: 7\n",
      "SUBSTRACTION: 3\n",
      "MULTIPLICATION: 10\n",
      "DIVISION: 2.5\n",
      "MODULES: 1\n",
      "FLOOR DIVISION: 2\n"
     ]
    }
   ],
   "source": [
    "#1. Write a program to enter two integers and then perform all arithmetic operations on them?\n",
    "def all_arithemetic_operation(a,b):\n",
    "    print(\"ADDTION:\",a+b)\n",
    "    print(\"SUBSTRACTION:\",a-b)\n",
    "    print(\"MULTIPLICATION:\",a*b)\n",
    "    print(\"DIVISION:\",a/b)\n",
    "    print(\"MODULES:\",a%b)\n",
    "    print(\"FLOOR DIVISION:\",a//b)\n",
    "x=int(input(\"ENTER THE NUMBER1:\"))\n",
    "y=int(input(\"ENTER THE NUMBER2:\"))\n",
    "all_arithemetic_operation(x,y)"
   ]
  },
  {
   "cell_type": "code",
   "execution_count": 3,
   "id": "c034d809",
   "metadata": {},
   "outputs": [
    {
     "name": "stdout",
     "output_type": "stream",
     "text": [
      "Enter the first String:karthik\n",
      "Enter the concatination string:k\n",
      "karthikk\n",
      "do you want to continue concatination with existing string(yes/no):yes\n",
      "Enter the concatination string:karthik\n",
      "karthikkkarthik\n",
      "do you want to continue concatination with existing string(yes/no):no\n"
     ]
    }
   ],
   "source": [
    "#2. Write a program to perform string concatenation?\n",
    "str1=input(\"Enter the first String:\")\n",
    "temp=str1\n",
    "i=True\n",
    "while i:\n",
    "    str2=input(\"Enter the concatination string:\")\n",
    "    temp+=str2\n",
    "    print(temp)\n",
    "    inp=input(\"do you want to continue concatination with existing string(yes/no):\")\n",
    "    if inp=='no' or inp=='NO':\n",
    "        i=False\n",
    "        \n",
    "\n",
    "    "
   ]
  },
  {
   "cell_type": "code",
   "execution_count": 57,
   "id": "e3feb396",
   "metadata": {},
   "outputs": [
    {
     "name": "stdout",
     "output_type": "stream",
     "text": [
      "Enter the Uppercase Character:W\n",
      "Equal lower case character is: w\n",
      "----------------------------------------------------------------------------------------------------\n",
      "Equal lower case character is: w\n"
     ]
    }
   ],
   "source": [
    "#3.Write a program to read a character in uppercase and then print it in lowercase?\n",
    "inp=input(\"Enter the Uppercase Character:\")\n",
    "if inp>='A' and inp<='Z':\n",
    "    print(\"Equal lower case character is:\",inp.lower())\n",
    "else:\n",
    "    print(\"please Enter uppercase character\")\n",
    "print('-'*100)\n",
    "#without using lower() function\n",
    "import string\n",
    "s=string.ascii_lowercase\n",
    "s1=string.ascii_uppercase\n",
    "dic={}\n",
    "for i,j in zip(s,s1):\n",
    "    dic.update({j:i})\n",
    "#print(dic)\n",
    "if inp>='A' and inp<='Z':\n",
    "    for k in dic:\n",
    "        if(k==inp):\n",
    "            print(\"Equal lower case character is:\",dic[k])\n",
    "else:\n",
    "    print(\"please Enter uppercase character\")"
   ]
  },
  {
   "cell_type": "code",
   "execution_count": 68,
   "id": "ea5682bb",
   "metadata": {},
   "outputs": [
    {
     "name": "stdout",
     "output_type": "stream",
     "text": [
      "Enter the String with quotes('ex',\"ex\",''' ex''')'''cdce'''\n",
      "Given string is triple quotes character\n",
      "And character is: '''cdce'''\n"
     ]
    }
   ],
   "source": [
    "#4. Write a program to demonstrate printing a string within single quotes, double quotes, and triple quotes. \n",
    "s=input(\"Enter the String with quotes('ex',\\\"ex\\\",''' ex''')\")#if we want to use same quotes two times,we should use \\\"\\\"\n",
    "if(s.startswith(\"'''\") and s.endswith(\"'''\")):\n",
    "    print(\"Given string is triple quotes character\")\n",
    "    print(\"And character is:\",s)\n",
    "elif(s.startswith('\"') and s.endswith('\"')):\n",
    "    print(\"Given string is double quotes character\")\n",
    "    print(\"And character is:\",s)\n",
    "elif(s.startswith(\"'\") and s.endswith(\"'\")):\n",
    "    print(\"Given string is single quotes character\")\n",
    "    print(\"And character is:\",s)\n",
    "else:\n",
    "    print(\"Please enter string and with quotes\")"
   ]
  },
  {
   "cell_type": "code",
   "execution_count": 85,
   "id": "098019cb",
   "metadata": {},
   "outputs": [
    {
     "name": "stdout",
     "output_type": "stream",
     "text": [
      "Enter the Principal Amount:1000\n",
      "Enter the number of year:1\n",
      "Enter the rate of interest:10\n",
      "SIMPLE INTEREST IS: 100.0\n",
      "COMPOUND INTEREST IS: 1100.0\n"
     ]
    }
   ],
   "source": [
    "#5. Write a program to calculate simple interest and compound interest.\n",
    "import math\n",
    "p=float(input(\"Enter the Principal Amount:\"))\n",
    "t=int(input(\"Enter the number of year:\"))\n",
    "r=float(input(\"Enter the rate of interest:\"))\n",
    "si=(p*t*r)/100\n",
    "ci=p*math.pow((1+r/100),n)\n",
    "print(\"SIMPLE INTEREST IS:\",si)\n",
    "print(\"COMPOUND INTEREST IS:\",ci)"
   ]
  },
  {
   "cell_type": "markdown",
   "id": "25d459a5",
   "metadata": {},
   "source": [
    "# Control Flow Statements"
   ]
  },
  {
   "cell_type": "code",
   "execution_count": 16,
   "id": "ac01d7d8",
   "metadata": {},
   "outputs": [
    {
     "name": "stdout",
     "output_type": "stream",
     "text": [
      "ENTER THE NUMBER1:2\n",
      "ENTER THE NUMBER2:2\n",
      "BOTH NUMBERS ARE EQUAL\n"
     ]
    }
   ],
   "source": [
    "#1. Write a program to input two numbers and check whether they are equal or not.\n",
    "n1=int(input(\"ENTER THE NUMBER1:\"))\n",
    "n2=int(input(\"ENTER THE NUMBER2:\"))\n",
    "if(n1==n2):\n",
    "    print(\"BOTH NUMBERS ARE EQUAL\")\n",
    "else:\n",
    "    print(\"BOTH NUMBERS ARE NOT EQUAL\")"
   ]
  },
  {
   "cell_type": "code",
   "execution_count": 103,
   "id": "814f4c3c",
   "metadata": {},
   "outputs": [
    {
     "name": "stdout",
     "output_type": "stream",
     "text": [
      "Enter anything:hk\n",
      "Entered value is Alphabet\n"
     ]
    }
   ],
   "source": [
    "#2. Write a program that determines whether an alphabet, digit or a whitespace was entered.\n",
    "import string\n",
    "s=input(\"Enter anything:\")\n",
    "special=string.punctuation\n",
    "#print(special)\n",
    "if(s.isdigit()==True):\n",
    "    print(\"Entered value is Digit\")\n",
    "elif(s.isalpha()==True):\n",
    "    print(\"Entered value is Alphabet\")\n",
    "elif(s.isalnum()==True):\n",
    "    print(\"Entered value is Alphanumeric\")\n",
    "elif(s==' '):\n",
    "    print(\"Entered value is Whitespace\")\n",
    "elif(s.startswith('-')==True):\n",
    "    print(\"Entered value is Negative value\")\n",
    "else:\n",
    "    if(i in s):\n",
    "        print(\"Entered value is special character\")\n",
    "    else:\n",
    "        print(\"Please enter some value\")"
   ]
  },
  {
   "cell_type": "code",
   "execution_count": 108,
   "id": "8230e794",
   "metadata": {},
   "outputs": [
    {
     "name": "stdout",
     "output_type": "stream",
     "text": [
      "Enter the Character:8h\n",
      "enter correct value\n"
     ]
    }
   ],
   "source": [
    "#3. Write a program that determines whether a digit, uppercase, or a lowercase character was entered.\n",
    "inp=input(\"Enter the Character:\")\n",
    "if(inp>='a' and inp<='z'):\n",
    "    print(\"lower\")\n",
    "elif(inp>='A' and inp<='Z'):\n",
    "    print(\"upper\")\n",
    "elif(inp.isdigit()==True):\n",
    "    print(\"digit\")\n",
    "else:\n",
    "    print(\"enter correct value\")\n"
   ]
  },
  {
   "cell_type": "code",
   "execution_count": 109,
   "id": "a771087d",
   "metadata": {},
   "outputs": [
    {
     "name": "stdout",
     "output_type": "stream",
     "text": [
      "12345678910"
     ]
    }
   ],
   "source": [
    "#4. Write a program that displays first 10 natural numbers using for loop.\n",
    "for i in range(1,10+1):\n",
    "    print(i,end=\"\")"
   ]
  },
  {
   "cell_type": "code",
   "execution_count": 115,
   "id": "3f222c23",
   "metadata": {},
   "outputs": [
    {
     "name": "stdout",
     "output_type": "stream",
     "text": [
      "Enter the no of element:4\n",
      "Enter the 1 number10\n",
      "Enter the 2 number11\n",
      "Enter the 3 number10\n",
      "Enter the 4 number11\n",
      "The Average is: 10.5\n"
     ]
    }
   ],
   "source": [
    "#5. Write a program that finds average of first n numbers using for loop\n",
    "no_of_digit=int(input(\"Enter the no of element:\"))\n",
    "li=[]\n",
    "for i in range(no_of_digit):\n",
    "    li.append(int(input(\"Enter the {} number\".format(i+1))))\n",
    "list1=sum(li)/no_of_digit\n",
    "print(\"The Average is:\",list1)"
   ]
  },
  {
   "cell_type": "markdown",
   "id": "bd910c4f",
   "metadata": {},
   "source": [
    "# Functions\n"
   ]
  },
  {
   "cell_type": "code",
   "execution_count": 8,
   "id": "5835c2f5",
   "metadata": {},
   "outputs": [
    {
     "name": "stdout",
     "output_type": "stream",
     "text": [
      "z is bigger than x and y\n"
     ]
    }
   ],
   "source": [
    "#1. Write a program that finds the greatest of three given numbers using functions. Pass the numbers as arguments.\n",
    "def biggest(x,y,z):\n",
    "    if(x==y and y==z and z==x):\n",
    "        print(\"X,y and z both of them equal\")\n",
    "    elif(x>y and x>z):\n",
    "        print(\"X is bigger than y and z\")\n",
    "    elif(y>x and y>z):\n",
    "        print(\"Y is bigger than x and z\")\n",
    "    else:\n",
    "        print(\"z is bigger than x and y\")\n",
    "biggest(12033,12,100000)"
   ]
  },
  {
   "cell_type": "code",
   "execution_count": 4,
   "id": "5159212c",
   "metadata": {},
   "outputs": [
    {
     "name": "stdout",
     "output_type": "stream",
     "text": [
      "499999999500000000\n",
      "0:00:37.415063\n"
     ]
    }
   ],
   "source": [
    "#2. Write a program that prints the time taken to execute a program in Python.\n",
    "import datetime\n",
    "start_time=datetime.datetime.now()\n",
    "print(sum(range(1,1000000000)))\n",
    "end_time=datetime.datetime.now()\n",
    "elsped_time=end_time-start_time\n",
    "print(elsped_time)#total time was taken for execution"
   ]
  },
  {
   "cell_type": "code",
   "execution_count": 13,
   "id": "8d42cb7a",
   "metadata": {},
   "outputs": [
    {
     "name": "stdout",
     "output_type": "stream",
     "text": [
      "Enter the Number:-4\n",
      "THE absolute number of given number 4.0\n"
     ]
    }
   ],
   "source": [
    "#3. Write a function that returns the absolute value of a number.\n",
    "import math\n",
    "def abs(x):\n",
    "    return math.fabs(x)\n",
    "x=float(input(\"Enter the Number:\"))\n",
    "print(\"THE absolute number of given number\",abs(x))\n",
    "    "
   ]
  },
  {
   "cell_type": "code",
   "execution_count": 16,
   "id": "eaa03ce2",
   "metadata": {},
   "outputs": [
    {
     "name": "stdout",
     "output_type": "stream",
     "text": [
      "THE Multiplication value is: 529\n"
     ]
    }
   ],
   "source": [
    "#4. Write a program that uses lambda function to multiply two numbers.\n",
    "multi=lambda x,y:x*y\n",
    "print(\"THE Multiplication value is:\",multi(23,23))"
   ]
  },
  {
   "cell_type": "code",
   "execution_count": 12,
   "id": "057b880d",
   "metadata": {},
   "outputs": [
    {
     "name": "stdout",
     "output_type": "stream",
     "text": [
      "654\n",
      "--------------------------------------------------\n",
      "765\n"
     ]
    }
   ],
   "source": [
    "#5. Write a program to read an integer number. Print the reverse of this number using recursion.\n",
    "\n",
    "number=456\n",
    "#without using recursion\n",
    "s=len(str(number))\n",
    "i=0\n",
    "while i<s:\n",
    "    last_digit=number%10\n",
    "    print(last_digit,end=\"\")\n",
    "    number=number//10\n",
    "    i+=1\n",
    "print()\n",
    "print(\"-\"*50)\n",
    "#using recursion\n",
    "def reverse(n):\n",
    "    if n<10:\n",
    "        return n\n",
    "    last_digit=n%10\n",
    "    remaining_digit=n//10\n",
    "    rev=int(str(last_digit)+str(reverse(remaining_digit)))\n",
    "    return rev\n",
    "print(reverse(567))"
   ]
  },
  {
   "cell_type": "code",
   "execution_count": 6,
   "id": "a3864b45",
   "metadata": {},
   "outputs": [
    {
     "name": "stdout",
     "output_type": "stream",
     "text": [
      "Enter the BASE value:4\n",
      "Enter the Height value:3\n",
      "THE AREA OF TRIANGLE IS: 6.0\n"
     ]
    }
   ],
   "source": [
    "#6. Write a program to calculate the area of a triangle using a function\n",
    "def area_of_triangle(base,height):\n",
    "    ans=(1/2)*base*height\n",
    "    print(\"THE AREA OF TRIANGLE IS:\",ans)\n",
    "base=int(input(\"Enter the BASE value:\"))\n",
    "height=int(input(\"Enter the Height value:\"))\n",
    "area_of_triangle(base,height)    "
   ]
  },
  {
   "cell_type": "code",
   "execution_count": 5,
   "id": "531e050f",
   "metadata": {},
   "outputs": [
    {
     "name": "stdout",
     "output_type": "stream",
     "text": [
      "16\n"
     ]
    }
   ],
   "source": [
    "#7. Write a program to calculate exp(x,y) using recursion.\n",
    "def exp(x,y):\n",
    "    if y==0:\n",
    "        return 1\n",
    "    return x*exp(x,y-1)\n",
    "print(exp(2,4))"
   ]
  },
  {
   "cell_type": "code",
   "execution_count": 15,
   "id": "cb41e958",
   "metadata": {},
   "outputs": [
    {
     "name": "stdout",
     "output_type": "stream",
     "text": [
      "Enter the value:5\n",
      "0\n",
      "1\n",
      "1\n",
      "2\n",
      "3\n"
     ]
    }
   ],
   "source": [
    "#8. Write a program to print the Fibonacci series without using recursion.\n",
    "def fibo(inp):\n",
    "    x=0\n",
    "    y=1\n",
    "    print(x)\n",
    "    print(y)\n",
    "    temp=0\n",
    "    for i in range(inp-2):\n",
    "        temp=x+y\n",
    "        x=y\n",
    "        y=temp\n",
    "        print(y)\n",
    "inp=int(input(\"Enter the value:\"))\n",
    "fibo(inp)"
   ]
  },
  {
   "cell_type": "code",
   "execution_count": 22,
   "id": "1ee2cdc5",
   "metadata": {},
   "outputs": [
    {
     "name": "stdout",
     "output_type": "stream",
     "text": [
      "karthik mani\n"
     ]
    }
   ],
   "source": [
    "#9. Write a program to concatenate two strings using recursion.\n",
    "def con(str1,str2):\n",
    "    if len(str1)==0:\n",
    "        return str2\n",
    "    return str1[0]+con(str[1:],str2)\n",
    "    \n",
    "print(\"karthik\",\"mani\")"
   ]
  },
  {
   "cell_type": "code",
   "execution_count": 20,
   "id": "b4475efe",
   "metadata": {},
   "outputs": [
    {
     "name": "stdout",
     "output_type": "stream",
     "text": [
      "388\n"
     ]
    }
   ],
   "source": [
    "#10. Write a program to find the biggest of three intergers using reduce function\n",
    "from functools import reduce\n",
    "li=[34,67,388]\n",
    "big=reduce(lambda x,y:x if x>y else y,li)\n",
    "print(big)"
   ]
  },
  {
   "cell_type": "markdown",
   "id": "ec6e0463",
   "metadata": {},
   "source": [
    "# String\n"
   ]
  },
  {
   "cell_type": "code",
   "execution_count": 11,
   "id": "ad4e8639",
   "metadata": {},
   "outputs": [
    {
     "name": "stdout",
     "output_type": "stream",
     "text": [
      "position is: 6\n"
     ]
    }
   ],
   "source": [
    "#1. Modify the find_ch() function so that it starts finding the character from the specified position in the string.\n",
    "def find_ch(y,x=0):\n",
    "    s=\"karthik is a good guy\"\n",
    "    for i in range(x,len(s)):\n",
    "        if(y==s[i]):\n",
    "            print(\"position is:\",i)\n",
    "            break\n",
    "find_ch('k',1)"
   ]
  },
  {
   "cell_type": "code",
   "execution_count": 12,
   "id": "57cb1601",
   "metadata": {},
   "outputs": [
    {
     "name": "stdout",
     "output_type": "stream",
     "text": [
      "Enter the String:karthik\n",
      "YOU Entered String length is: 7\n",
      "--------------------------------------------------\n",
      "YOU Entered String length is: 7\n"
     ]
    }
   ],
   "source": [
    "#2. Write a program to calculate the length of a string.\n",
    "inp=input(\"Enter the String:\")\n",
    "#using len() function\n",
    "length=len(inp)\n",
    "print(\"YOU Entered String length is:\",length)\n",
    "print('-'*50)\n",
    "#Without using len() function\n",
    "j=0\n",
    "for i in inp:\n",
    "      j+=1\n",
    "print(\"YOU Entered String length is:\",j)      "
   ]
  },
  {
   "cell_type": "code",
   "execution_count": 2,
   "id": "808558dc",
   "metadata": {},
   "outputs": [
    {
     "name": "stdout",
     "output_type": "stream",
     "text": [
      "The Length of longest one word is: rrrrrrrrrrrrrr\n"
     ]
    }
   ],
   "source": [
    "#3. Write a function that takes a list of words and returns the length of the longest one.\n",
    "from functools import reduce\n",
    "def fun(*x):\n",
    "    dic={}\n",
    "    for i in x:\n",
    "        dic.update({len(i):i})\n",
    "    #print(dic)\n",
    "    big=reduce(lambda x,y:x if x>y else y,dic)\n",
    "    print(\"The Length of longest one word is:\",dic[big])\n",
    "'''no_of_element=int(input(\"Enter the no_of_elements\"))\n",
    "s=[]\n",
    "for j in range(no_of_element):\n",
    "    s.append(input(\"Enter the String{}:\".format(j+1)))\n",
    "s1=\",\".join(s)'''\n",
    "fun(\"karthik\",\"kkkk\",\"uiyyth\",\"jkkuivj\",'rrrrrrrrrrrrrr')\n",
    "#\n",
    "\n"
   ]
  },
  {
   "cell_type": "code",
   "execution_count": 23,
   "id": "13f9b6a7",
   "metadata": {},
   "outputs": [
    {
     "name": "stdout",
     "output_type": "stream",
     "text": [
      "Before Swapping: raj\n",
      "Before Swapping: mani\n",
      "After Swapping: mani\n",
      "After Swapping: raj\n",
      "----------------------------------------------------------------------------------------------------\n",
      "mmm\n",
      "kkk\n"
     ]
    }
   ],
   "source": [
    "#4. Write a program to swap two strings.\n",
    "#without using any temperary\n",
    "string1=\"raj\"\n",
    "string2=\"mani\"\n",
    "print(\"Before Swapping:\",string1)\n",
    "print(\"Before Swapping:\",string2)\n",
    "string1=string1+\" \"+string2\n",
    "#print(string1)\n",
    "#string2=string1[0:7]\n",
    "#string1=string1[8:]\n",
    "string2=string1.split(\" \")\n",
    "string1=string2[1]\n",
    "string2=string2[0]\n",
    "print(\"After Swapping:\",string1)\n",
    "print(\"After Swapping:\",string2)\n",
    "print('-'*100)\n",
    "#using temp variable\n",
    "str1=\"kkk\"\n",
    "str2=\"mmm\"\n",
    "temp=str1\n",
    "str1=str2\n",
    "str2=temp\n",
    "print(str1)\n",
    "print(str2)\n"
   ]
  },
  {
   "cell_type": "code",
   "execution_count": 17,
   "id": "97f51c02",
   "metadata": {},
   "outputs": [
    {
     "name": "stdout",
     "output_type": "stream",
     "text": [
      "Previous string is: JAVA PROGRAM\n",
      "replaced string is: Python PROGRAM\n"
     ]
    }
   ],
   "source": [
    "#5. Write a program to replace a string with another string. Do not use the replace().\n",
    "s=\"JAVA PROGRAM\"\n",
    "print(\"Previous string is:\",s)\n",
    "li=s.split(\" \")\n",
    "#print(li)\n",
    "for i in range(len(li)):\n",
    "    if(li[i]==\"JAVA\"):\n",
    "        li[i]=\"Python\"\n",
    "#print(li)\n",
    "s1=' '.join(li)\n",
    "print(\"replaced string is:\",s1)        \n"
   ]
  },
  {
   "cell_type": "code",
   "execution_count": 18,
   "id": "b6fd65f0",
   "metadata": {},
   "outputs": [
    {
     "name": "stdout",
     "output_type": "stream",
     "text": [
      "GIVEN STRING IS not a PALINDROME\n",
      "--------------------------------------------------\n",
      "GIVEN STRING IS not a PALINDROME\n"
     ]
    }
   ],
   "source": [
    "#6. Write a program to check whether a string is a palindrome or not.\n",
    "s=\"karthik\"\n",
    "reverse=s[::-1]\n",
    "if s==reverse:\n",
    "    print(\"GIVEN STRING IS PALINDROME\")\n",
    "else:\n",
    "    print(\"GIVEN STRING IS not a PALINDROME\")\n",
    "print('-'*50)\n",
    "length=len(s)+1\n",
    "j=1-length\n",
    "i=-1\n",
    "reverse2=\"\"\n",
    "while(i>=j):\n",
    "    reverse2+=s[i]\n",
    "    i+=-1\n",
    "#print(reverse2)\n",
    "if s==reverse2:\n",
    "    print(\"GIVEN STRING IS PALINDROME\")\n",
    "else:\n",
    "    print(\"GIVEN STRING IS not a PALINDROME\")\n",
    "\n"
   ]
  },
  {
   "cell_type": "code",
   "execution_count": 19,
   "id": "e5c0f3f8",
   "metadata": {},
   "outputs": [
    {
     "name": "stdout",
     "output_type": "stream",
     "text": [
      "Enter the Number:456\n",
      "4,5,6,"
     ]
    }
   ],
   "source": [
    "#7. Write a program to display a number with comma separator.\n",
    "inp=int(input(\"Enter the Number:\"))\n",
    "s=str(inp)\n",
    "for i in s:\n",
    "    print(i+',',end=\"\")"
   ]
  },
  {
   "cell_type": "code",
   "execution_count": 9,
   "id": "cb5ab163",
   "metadata": {},
   "outputs": [
    {
     "name": "stdout",
     "output_type": "stream",
     "text": [
      "3\n",
      "----------------------------------------------------------------------------------------------------\n",
      "3\n"
     ]
    }
   ],
   "source": [
    "#8. Write a program to print floating numbers with no decimal places.\n",
    "import math as m\n",
    "f=3.19766898\n",
    "print(m.floor(f))\n",
    "print('-'*100)\n",
    "print('{:.0f}'.format(f))"
   ]
  },
  {
   "cell_type": "code",
   "execution_count": 7,
   "id": "850f58f9",
   "metadata": {},
   "outputs": [
    {
     "name": "stdout",
     "output_type": "stream",
     "text": [
      "please Enter INsert string:bad\n",
      "plese enter insert position:0\n",
      "bad karthik is a good boy\n"
     ]
    }
   ],
   "source": [
    "#9. Write a program to insert a string in another string.\n",
    "string1=\"karthik is a good boy\"\n",
    "lii=string1.split(\" \")\n",
    "#print(lii)\n",
    "insert_string=input(\"please Enter INsert string:\")\n",
    "inserting_positition=int(input(\"plese enter insert position:\"))\n",
    "lii.insert(inserting_positition,insert_string)\n",
    "string2=' '.join(lii)\n",
    "print(string2)"
   ]
  },
  {
   "cell_type": "code",
   "execution_count": 60,
   "id": "7660f9c4",
   "metadata": {},
   "outputs": [
    {
     "name": "stdout",
     "output_type": "stream",
     "text": [
      "TOTAL CHARACTERS: 90\n",
      "TOTAL LINES: 6\n",
      "TOTAL WORDS: 11\n"
     ]
    }
   ],
   "source": [
    "#10. Write a program to count the number of characters, words, and lines in the given text.\n",
    "ss='''karthik\n",
    "hwtdc dwcwefveg\n",
    "rfgergrhtrth rththrth\n",
    "hrhrhr rthhht rtgrhh htrhrthrt\n",
    "grgggeg\n",
    "ggrgg'''\n",
    "print(\"TOTAL CHARACTERS:\",len(ss))\n",
    "total_lines=ss.split(\"\\n\")\n",
    "print(\"TOTAL LINES:\",len(total_lines))\n",
    "total_words=' '.join(total_lines)\n",
    "#total_words=ss.split(\" \")#if we split directly from text means \"\\n\" also coming so we could not find out how many words .\n",
    "        #['karthik\\nhwtdc', 'dwcwefveg\\nrfgergrhtrth', 'rththrth\\nhrhrhr', 'rthhht', 'rtgrhh', 'htrhrthrt\\ngrgggeg\\nggrgg']\n",
    "total_words2=total_words.split(\" \")\n",
    "print(\"TOTAL WORDS:\",len(total_words2))\n",
    "#print(len(ss.split()))#this also we can use to find words length"
   ]
  },
  {
   "cell_type": "markdown",
   "id": "28399e7f",
   "metadata": {},
   "source": [
    "# List, Tuples, and Dictionaries\n"
   ]
  },
  {
   "cell_type": "code",
   "execution_count": 3,
   "id": "295c7afb",
   "metadata": {},
   "outputs": [
    {
     "name": "stdout",
     "output_type": "stream",
     "text": [
      "[9, 1, 1, 1, 7]\n"
     ]
    }
   ],
   "source": [
    "#1. Make a list of five random numbers.\n",
    "import random\n",
    "li=[]\n",
    "i=0\n",
    "while i<5:\n",
    "    li.append(random.randint(1,10))\n",
    "    i+=1\n",
    "print(li)"
   ]
  },
  {
   "cell_type": "code",
   "execution_count": 6,
   "id": "78efef79",
   "metadata": {},
   "outputs": [
    {
     "name": "stdout",
     "output_type": "stream",
     "text": [
      "[107, 97, 114, 116, 104, 105, 107]\n"
     ]
    }
   ],
   "source": [
    "#2. Write a program that converts a list of characters into their corresponding ASCII values using map() function.\n",
    "s='karthik'\n",
    "s1=[s2 for s2 in s]#creating list with characters\n",
    "#print(s1)\n",
    "s3=list(map(lambda x:ord(x),s1))\n",
    "print(s3)"
   ]
  },
  {
   "cell_type": "code",
   "execution_count": 13,
   "id": "16995f9e",
   "metadata": {},
   "outputs": [
    {
     "name": "stdout",
     "output_type": "stream",
     "text": [
      "55\n"
     ]
    }
   ],
   "source": [
    "#3. Write a program using reduce() function to calculate the sum of first 10 natural numbers.\n",
    "from functools import reduce\n",
    "li=list(range(1,10+1))\n",
    "r=reduce(lambda x,y:x+y,li)\n",
    "print(r)"
   ]
  },
  {
   "cell_type": "code",
   "execution_count": 16,
   "id": "a88034d1",
   "metadata": {},
   "outputs": [
    {
     "name": "stdout",
     "output_type": "stream",
     "text": [
      "[2, 4, 6, 8, 10]\n"
     ]
    }
   ],
   "source": [
    "#4. Write a program that use filter() function to filter out only even numbers from a list.\n",
    "li3=[li4 for li4 in range(1,11)]#stored data into list using list comprehension\n",
    "#print(li3)\n",
    "f=list(filter(lambda x:x%2==0,li3))\n",
    "print(f)"
   ]
  },
  {
   "cell_type": "code",
   "execution_count": 21,
   "id": "5fe63434",
   "metadata": {},
   "outputs": [
    {
     "name": "stdout",
     "output_type": "stream",
     "text": [
      "(40, 42, 44, 46, 48, 50, 52, 54)\n"
     ]
    }
   ],
   "source": [
    "#5. Write a program that uses map() to print the double value of each element in a list.\n",
    "li4=list(range(20,28))\n",
    "#print(li4)\n",
    "m=tuple(map(lambda x:x*2,li4))\n",
    "print(m)"
   ]
  },
  {
   "cell_type": "code",
   "execution_count": 7,
   "id": "1ff69d20",
   "metadata": {},
   "outputs": [
    {
     "name": "stdout",
     "output_type": "stream",
     "text": [
      "<class 'tuple'> ('a', 'b', 'c')\n",
      "----------------------------------------------------------------------------------------------------\n",
      "<class 'list'> ['a', 'b', 'c']\n",
      "<class 'list'> ['a', 'b', 'c']\n"
     ]
    }
   ],
   "source": [
    "#6. Write a program that creates a list [‘a’,’b’,’c’],then create a tuple from that list. Now do the opposite. That is, create the tuple (‘a’,’b’,’c’), and then create a list from it. \n",
    "list1=['a','b','c']\n",
    "tu=tuple(list1)\n",
    "print(type(tu),tu)\n",
    "print('-'*100)\n",
    "li=list(tu)\n",
    "print(type(li),li)\n",
    "list2=[ll for ll in tu]\n",
    "print(type(list2),list2)"
   ]
  },
  {
   "cell_type": "code",
   "execution_count": 35,
   "id": "3b4eeb7f",
   "metadata": {},
   "outputs": [
    {
     "name": "stdout",
     "output_type": "stream",
     "text": [
      "5\n",
      "----------------------------------------------------------------------------------------------------\n",
      "5\n"
     ]
    }
   ],
   "source": [
    "#7. Create a tuple that has just one element which in turn may have three elements ‘a’, ‘b’, and ‘c’. Print the length of this tuple.\n",
    "tup=(4,5,6,433,434)\n",
    "print(len(tup))\n",
    "print('-'*100)\n",
    "j=0\n",
    "for i in tup:\n",
    "    j+=1\n",
    "print(j)"
   ]
  },
  {
   "cell_type": "code",
   "execution_count": 3,
   "id": "43cbbbdd",
   "metadata": {},
   "outputs": [
    {
     "name": "stdout",
     "output_type": "stream",
     "text": [
      "{0: 22, 1: 23, 2: 24, 3: 25, 4: 26, 5: 27, 6: 28, 7: 29}\n",
      "Maximum value: 29\n",
      "Minimum value: 22\n",
      "----------------------------------------------------------------------------------------------------\n",
      "Maximum value is: 29\n",
      "Minimum value is: 22\n"
     ]
    }
   ],
   "source": [
    "#8. Write a program that prints the maximum and minimum value in a dictionary.\n",
    "#assign values to dictionary using for loop function\n",
    "dic={}\n",
    "for e,i in enumerate(range(22,30)):\n",
    "    dic.update({e:i})\n",
    "print(dic)\n",
    "#using max and min function\n",
    "print(\"Maximum value:\",dic[max(dic)])\n",
    "print(\"Minimum value:\",dic[min(dic)])\n",
    "print('-'*100)\n",
    "#without using max and min function\n",
    "from functools import reduce\n",
    "l=list(dic.values())\n",
    "r1_maximum=reduce(lambda x,y:x if x>y else y,l)\n",
    "r1_minimum=reduce(lambda x,y:x if x<y else y,l)\n",
    "print(\"Maximum value is:\",r1_maximum)\n",
    "print(\"Minimum value is:\",r1_minimum)"
   ]
  },
  {
   "cell_type": "code",
   "execution_count": 1,
   "id": "5cb29d23",
   "metadata": {},
   "outputs": [
    {
     "name": "stdout",
     "output_type": "stream",
     "text": [
      "{'name': 'Karthik', 'city': 'Tiruchendur', 'state': 'Tamil nadu'}\n"
     ]
    }
   ],
   "source": [
    "#9. Write a program to get a dictionary from an object’s fields.\n",
    "class value:\n",
    "    pass\n",
    "v=value()\n",
    "v.name=\"Karthik\"\n",
    "v.city=\"Tiruchendur\"\n",
    "v.state=\"Tamil nadu\"\n",
    "print(v.__dict__)"
   ]
  },
  {
   "cell_type": "code",
   "execution_count": 29,
   "id": "5de8a99f",
   "metadata": {},
   "outputs": [
    {
     "name": "stdout",
     "output_type": "stream",
     "text": [
      "{4: 'k', 1: 'j', 2: 'k', 3: 'k', 8: 'j'}\n",
      "{4: 'k', 1: 'j'}\n"
     ]
    }
   ],
   "source": [
    "#10. Write a program to remove duplicate values from a dictionary\n",
    "dic1={4:'k',1:'j',2:'k',3:'k',8:'j'}\n",
    "print(dic1)\n",
    "dic={}\n",
    "for i in dic1:\n",
    "    if dic1[i] in dic:\n",
    "        continue\n",
    "    else:\n",
    "        dic[dic1[i]]=i\n",
    "dic3={}\n",
    "for i in dic:\n",
    "    dic3.update({dic[i]:i})\n",
    "print(dic3)"
   ]
  },
  {
   "cell_type": "code",
   "execution_count": null,
   "id": "f790be69",
   "metadata": {},
   "outputs": [],
   "source": []
  },
  {
   "cell_type": "code",
   "execution_count": null,
   "id": "6664fe1b",
   "metadata": {},
   "outputs": [],
   "source": []
  }
 ],
 "metadata": {
  "kernelspec": {
   "display_name": "Python 3 (ipykernel)",
   "language": "python",
   "name": "python3"
  },
  "language_info": {
   "codemirror_mode": {
    "name": "ipython",
    "version": 3
   },
   "file_extension": ".py",
   "mimetype": "text/x-python",
   "name": "python",
   "nbconvert_exporter": "python",
   "pygments_lexer": "ipython3",
   "version": "3.10.9"
  }
 },
 "nbformat": 4,
 "nbformat_minor": 5
}
