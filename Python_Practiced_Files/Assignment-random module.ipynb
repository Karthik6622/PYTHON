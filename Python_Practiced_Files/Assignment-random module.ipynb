{
 "cells": [
  {
   "cell_type": "markdown",
   "id": "3da78b7d",
   "metadata": {},
   "source": [
    "Assignment-random module\n"
   ]
  },
  {
   "cell_type": "code",
   "execution_count": 4,
   "id": "76e5a0b3",
   "metadata": {},
   "outputs": [
    {
     "name": "stdout",
     "output_type": "stream",
     "text": [
      "Enter the Number between (1-30)only 5 chance is available15\n",
      "Its high!!! but not close please think and try\n",
      "Enter the Number between (1-30)only 4 chance is available6\n",
      "Its high!!! but close keep try\n",
      "Enter the Number between (1-30)only 3 chance is available5\n",
      "Its high!!! but close keep try\n",
      "Enter the Number between (1-30)only 2 chance is available4\n",
      "Its high!!! but close keep try\n",
      "please guess carefully last cahance\n",
      "Enter the Number between (1-30)only 1 chance is available3\n",
      "Its high!!! but close nice try better luck next time \n",
      "Sorry, you've reached the maximum number of guesses. The secret number was: 2\n"
     ]
    }
   ],
   "source": [
    "#Guessing the game using random number\n",
    "import random\n",
    "secret_number=random.randint(1,30)\n",
    "#print(secret_number)\n",
    "maximum_attempt=5\n",
    "no_of_attempt=0\n",
    "while no_of_attempt<maximum_attempt:\n",
    "    if(maximum_attempt-no_of_attempt==1):\n",
    "        print(\"please guess carefully last cahance\")\n",
    "    inp=int(input(\"Enter the Number between (1-30)only {} chance is available\".format(maximum_attempt-no_of_attempt)))\n",
    "    \n",
    "    no_of_attempt+=1\n",
    "    if secret_number == inp:\n",
    "        print(\"You guessed corrct number\")\n",
    "        break\n",
    "    else:\n",
    "        temp=secret_number-inp\n",
    "        #print(temp)\n",
    "        if(temp>=1 and temp<=5 and no_of_attempt==5):\n",
    "             print(\"Its low!!! but close nice try better luck next time\") \n",
    "        elif(temp>=1 and temp<=5):\n",
    "            print(\"Its low!!! but close keep try\")\n",
    "        elif(temp>=6 and temp<=29 and no_of_attempt==5):\n",
    "            print(\"Its low!!! but not close better luck next time\")\n",
    "        elif(temp>=6 and temp<=29):\n",
    "            print(\"Its low!!! but not close please think and try\")\n",
    "        elif(temp<=-1 and temp>=-5 and no_of_attempt==5):\n",
    "            print(\"Its high!!! but close nice try better luck next time \")\n",
    "        elif(temp<=-1 and temp>=-5):\n",
    "            print(\"Its high!!! but close keep try\")\n",
    "        elif(temp<=-6 and temp<=-29 and no_of_attempt==5):\n",
    "            print(\"Its high!!! but not close better luck next time\")\n",
    "        else:\n",
    "            print(\"Its high!!! but not close please think and try\")\n",
    "        if no_of_attempt == maximum_attempt:\n",
    "            print(\"Sorry, you've reached the maximum number of guesses. The secret number was:\", secret_number)"
   ]
  },
  {
   "cell_type": "code",
   "execution_count": 3,
   "id": "f1c0ddcf",
   "metadata": {},
   "outputs": [
    {
     "name": "stdout",
     "output_type": "stream",
     "text": [
      "Enter the type of password:(easy/normal/strong)strong\n",
      "Enter the length of password(length should be minimum 8 to maximum 16):10\n",
      "RkEZtb/2t<"
     ]
    }
   ],
   "source": [
    "#password generation using random module\n",
    "import random\n",
    "import string\n",
    "str='{}{}{}'.format(string.digits,string.punctuation,string.ascii_letters)\n",
    "str1='{}{}'.format(string.digits,string.ascii_lowercase)\n",
    "str2='{}'.format(string.digits)\n",
    "type=input(\"Enter the type of password:(easy/normal/strong)\")\n",
    "if(type.lower()=='strong' or type.lower()=='normal' or type.lower()=='easy'):\n",
    "    \n",
    "    if type.lower()=='strong':\n",
    "        len1=int(input(\"Enter the length of password(length should be minimum 8 to maximum 16):\"))\n",
    "        if(len1>=8 and len1<=16):\n",
    "            for i in range(len1):\n",
    "                print(random.choice(str),end='')\n",
    "        else:\n",
    "            print(\"please enter length as minimum 8 to maximum 16 \")\n",
    "    elif type.lower()=='normal':\n",
    "        len1=int(input(\"Enter the length of password(length should be minimum 6 to maximum 10):\"))\n",
    "        if(len1>=6 and len1<=10):\n",
    "            for i in range(len1):\n",
    "                print(random.choice(str1),end='')\n",
    "        else:\n",
    "            print(\"please enter length as minimum 6 to maximum 10\")\n",
    "    else:\n",
    "        len1=int(input(\"Enter the length of password(length should be minimum 1 to maximum 6):\"))\n",
    "        if(len1>=1 and len1<=6):\n",
    "            for i in range(len1):\n",
    "                print(random.choice(str2),end='')\n",
    "        else:\n",
    "            print(\"please enter length as minimum 1 to maximum 6\")\n",
    "else:\n",
    "    print(\"Please enter mentioned one\")"
   ]
  },
  {
   "cell_type": "code",
   "execution_count": 2,
   "id": "a73a2389",
   "metadata": {},
   "outputs": [
    {
     "name": "stdout",
     "output_type": "stream",
     "text": [
      "Generated Password: +NW56IH(\n"
     ]
    }
   ],
   "source": [
    "#password generation\n",
    "import random\n",
    "import string\n",
    "\n",
    "def generate_password(length):\n",
    "    characters = string.ascii_letters + string.digits + string.punctuation\n",
    "    password = ''.join(random.choice(characters) for _ in range(length))\n",
    "    return password\n",
    "\n",
    "password_length = 8\n",
    "generated_password = generate_password(password_length)\n",
    "print(\"Generated Password:\", generated_password)\n"
   ]
  },
  {
   "cell_type": "code",
   "execution_count": 5,
   "id": "6b8a0d0a",
   "metadata": {},
   "outputs": [
    {
     "name": "stdout",
     "output_type": "stream",
     "text": [
      "Enter the number of element:5\n",
      "Enter the number1:8\n",
      "Enter the number2:90\n",
      "Enter the number3:5\n",
      "Enter the number4:0\n",
      "Enter the number5:9\n",
      "[90, 9, 8, 5, 0]\n"
     ]
    }
   ],
   "source": [
    "#asscending order without using any function\n",
    "no_of_element=int(input(\"Enter the number of element:\"))\n",
    "inp=[]\n",
    "for k in range(no_of_element):\n",
    "    inp.append(int(input(\"Enter the number{}:\".format(k+1))))\n",
    "for i in range(len(inp)):\n",
    "    for j in range(len(inp)):\n",
    "        if inp[i]>inp[j]:\n",
    "            temp=inp[i]\n",
    "            inp[i]=inp[j]\n",
    "            inp[j]=temp\n",
    "print(inp)\n",
    "    "
   ]
  },
  {
   "cell_type": "code",
   "execution_count": null,
   "id": "14c566ea",
   "metadata": {},
   "outputs": [],
   "source": []
  }
 ],
 "metadata": {
  "kernelspec": {
   "display_name": "Python 3 (ipykernel)",
   "language": "python",
   "name": "python3"
  },
  "language_info": {
   "codemirror_mode": {
    "name": "ipython",
    "version": 3
   },
   "file_extension": ".py",
   "mimetype": "text/x-python",
   "name": "python",
   "nbconvert_exporter": "python",
   "pygments_lexer": "ipython3",
   "version": "3.10.9"
  }
 },
 "nbformat": 4,
 "nbformat_minor": 5
}
