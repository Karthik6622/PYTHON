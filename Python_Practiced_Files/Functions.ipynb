{
 "cells": [
  {
   "cell_type": "markdown",
   "id": "196e8a9c",
   "metadata": {},
   "source": [
    "# Function"
   ]
  },
  {
   "cell_type": "code",
   "execution_count": 3,
   "id": "3c8eaf40",
   "metadata": {},
   "outputs": [
    {
     "name": "stdout",
     "output_type": "stream",
     "text": [
      "135\n",
      "120\n",
      "--------------------------------------------------\n",
      "40\n"
     ]
    }
   ],
   "source": [
    "#function-we can execute specific task easily\n",
    "x,y=90,45\n",
    "print(x+y)\n",
    "x=70\n",
    "y=50\n",
    "print(x+y)\n",
    "print('-'*50)\n",
    "def add(x,y):#if we use function, we can easily perform .\n",
    "    print(x+y)\n",
    "add(20,20)"
   ]
  },
  {
   "cell_type": "code",
   "execution_count": 6,
   "id": "b1ee207f",
   "metadata": {},
   "outputs": [
    {
     "name": "stdout",
     "output_type": "stream",
     "text": [
      "Enter the VALUE1:3\n",
      "Enter the VALUE1:3\n",
      "The multiplication value is: 9\n"
     ]
    }
   ],
   "source": [
    "#user defined function-the function defined by the user\n",
    "def multiplication():\n",
    "    x=int(input(\"Enter the VALUE1:\"))\n",
    "    y=int(input(\"Enter the VALUE1:\"))\n",
    "    print(\"The multiplication value is:\",x*y)\n",
    "multiplication()"
   ]
  },
  {
   "cell_type": "code",
   "execution_count": 10,
   "id": "23760536",
   "metadata": {},
   "outputs": [
    {
     "name": "stdout",
     "output_type": "stream",
     "text": [
      "Power value is: 16\n",
      "--------------------------------------------------\n"
     ]
    },
    {
     "ename": "TypeError",
     "evalue": "power() missing 1 required positional argument: 'b'",
     "output_type": "error",
     "traceback": [
      "\u001b[1;31m---------------------------------------------------------------------------\u001b[0m",
      "\u001b[1;31mTypeError\u001b[0m                                 Traceback (most recent call last)",
      "Cell \u001b[1;32mIn[10], line 6\u001b[0m\n\u001b[0;32m      4\u001b[0m power(\u001b[38;5;241m2\u001b[39m,\u001b[38;5;241m4\u001b[39m)\n\u001b[0;32m      5\u001b[0m \u001b[38;5;28mprint\u001b[39m(\u001b[38;5;124m'\u001b[39m\u001b[38;5;124m-\u001b[39m\u001b[38;5;124m'\u001b[39m\u001b[38;5;241m*\u001b[39m\u001b[38;5;241m50\u001b[39m)\n\u001b[1;32m----> 6\u001b[0m \u001b[43mpower\u001b[49m\u001b[43m(\u001b[49m\u001b[38;5;241;43m3\u001b[39;49m\u001b[43m)\u001b[49m\n",
      "\u001b[1;31mTypeError\u001b[0m: power() missing 1 required positional argument: 'b'"
     ]
    }
   ],
   "source": [
    "#required Argument\n",
    "def power(a,b):\n",
    "    print(\"Power value is:\",a**b)\n",
    "power(2,4)\n",
    "print('-'*50)\n",
    "power(3)    "
   ]
  },
  {
   "cell_type": "code",
   "execution_count": 11,
   "id": "e6f0d5b7",
   "metadata": {},
   "outputs": [
    {
     "name": "stdout",
     "output_type": "stream",
     "text": [
      "value is: 210.0\n",
      "value is: 195.0\n"
     ]
    }
   ],
   "source": [
    "#default argument\n",
    "def bodmas(x,y,z=10):\n",
    "    print(\"value is:\",(x/2)+y*z-x)\n",
    "bodmas(80,25)\n",
    "bodmas(10,10,20)#if we give value means, it will take this value. if we not give value means, it will take paremeter value"
   ]
  },
  {
   "cell_type": "code",
   "execution_count": 14,
   "id": "15329aac",
   "metadata": {},
   "outputs": [
    {
     "name": "stdout",
     "output_type": "stream",
     "text": [
      "Good morning to all\n",
      "HI ALL\n"
     ]
    }
   ],
   "source": [
    "#return-return the value or expression as a output\n",
    "def great():\n",
    "    return \"Good morning to all\"\n",
    "def display(s):\n",
    "    return s\n",
    "print(great())\n",
    "print(display(\"HI ALL\"))"
   ]
  },
  {
   "cell_type": "code",
   "execution_count": 15,
   "id": "f792595a",
   "metadata": {},
   "outputs": [
    {
     "name": "stdout",
     "output_type": "stream",
     "text": [
      "Enter the number1:10\n",
      "Enter the number1:2\n",
      "division value is: 5.0\n"
     ]
    }
   ],
   "source": [
    "def dev(a,b):\n",
    "    return a/b\n",
    "n=int(input(\"Enter the number1:\"))\n",
    "m=int(input(\"Enter the number1:\"))\n",
    "print(\"division value is:\",dev(n,m))\n",
    "    "
   ]
  },
  {
   "cell_type": "code",
   "execution_count": 18,
   "id": "dfa1c7dd",
   "metadata": {},
   "outputs": [
    {
     "name": "stdout",
     "output_type": "stream",
     "text": [
      "my name is:karthik.and age is:23.I have completed BSC(CS).\n",
      "my name is:baby.and age is:23.I have completed BSC(CS).\n"
     ]
    }
   ],
   "source": [
    "#keyword argument\n",
    "def stu(name,age,degree):\n",
    "    print(f'my name is:{name}.and age is:{age}.I have completed {degree}.')\n",
    "stu('karthik',23,'BSC(CS)')\n",
    "stu('baby',23,'BSC(CS)')"
   ]
  },
  {
   "cell_type": "code",
   "execution_count": 19,
   "id": "5bd463e3",
   "metadata": {},
   "outputs": [
    {
     "name": "stdout",
     "output_type": "stream",
     "text": [
      "my name is:karthik.and age is:23.I have completed BSC(CS).\n",
      "my name is:baby.and age is:23.I have completed MA(ENGLISH).\n"
     ]
    }
   ],
   "source": [
    "#keyword argument with default argument\n",
    "def stu(name,age,degree=\"BSC(CS)\"):\n",
    "    print(f'my name is:{name}.and age is:{age}.I have completed {degree}.')\n",
    "stu('karthik',23)\n",
    "stu('baby',23,'MA(ENGLISH)')"
   ]
  },
  {
   "cell_type": "code",
   "execution_count": 22,
   "id": "53fc227b",
   "metadata": {},
   "outputs": [
    {
     "name": "stdout",
     "output_type": "stream",
     "text": [
      "I would like to eat: apple\n",
      "I would like to eat: Orange\n",
      "I would like to eat: mango\n",
      "I would like to eat: banana\n",
      "--------------------------------------------------\n",
      "I would like to eat: 1\n",
      "I would like to eat: 2\n",
      "I would like to eat: 3\n",
      "I would like to eat: 4\n",
      "I would like to eat: 5\n"
     ]
    }
   ],
   "source": [
    "#Arbitary arguments-*,**\n",
    "def fruits(*inp):\n",
    "    for i in inp:\n",
    "        print(\"I would like to eat:\",i)\n",
    "fruits(\"apple\",'Orange',\"mango\",\"banana\")\n",
    "print('-'*50)\n",
    "fruits(1,2,3,4,5)"
   ]
  },
  {
   "cell_type": "code",
   "execution_count": 28,
   "id": "1e122d4f",
   "metadata": {},
   "outputs": [
    {
     "name": "stdout",
     "output_type": "stream",
     "text": [
      "Name1 KARTHIK\n",
      "Name2 maqni\n",
      "Name3 baby\n"
     ]
    }
   ],
   "source": [
    "def details(**inpu):\n",
    "    for key,value in inpu.items():\n",
    "        print(key,value)\n",
    "details(Name1='KARTHIK',Name2='maqni',Name3='baby')"
   ]
  },
  {
   "cell_type": "code",
   "execution_count": 48,
   "id": "68723789",
   "metadata": {},
   "outputs": [
    {
     "name": "stdout",
     "output_type": "stream",
     "text": [
      "Enter the Number:234\n",
      "bcdlist['234']\n"
     ]
    }
   ],
   "source": [
    "s='abcdefghijklmnopqrstuvwxyz'\n",
    "l=len(s)\n",
    "#print(l)\n",
    "dic={}\n",
    "for i in range(0,l):\n",
    "    dic.update({i+1:'{}'.format(s[i])})\n",
    "num=int(input(\"Enter the Number:\"))\n",
    "s1=str(num)\n",
    "for j in s1:\n",
    "    if(int(j)<=26):\n",
    "        print(dic[int(j)],end=\"\")  \n",
    "s1=str(num)\n",
    "lii=list[s1]\n",
    "print(lii)"
   ]
  },
  {
   "cell_type": "code",
   "execution_count": 47,
   "id": "6211e165",
   "metadata": {},
   "outputs": [
    {
     "name": "stdout",
     "output_type": "stream",
     "text": [
      "[7]\n"
     ]
    }
   ],
   "source": [
    "import random\n",
    "population=range(0,9)\n",
    "sample_size=1\n",
    "k=random.sample(population,sample_size)\n",
    "print(k)"
   ]
  },
  {
   "cell_type": "code",
   "execution_count": null,
   "id": "eb3b1911",
   "metadata": {},
   "outputs": [],
   "source": []
  },
  {
   "cell_type": "code",
   "execution_count": null,
   "id": "1b6923c9",
   "metadata": {},
   "outputs": [],
   "source": []
  }
 ],
 "metadata": {
  "kernelspec": {
   "display_name": "Python 3 (ipykernel)",
   "language": "python",
   "name": "python3"
  },
  "language_info": {
   "codemirror_mode": {
    "name": "ipython",
    "version": 3
   },
   "file_extension": ".py",
   "mimetype": "text/x-python",
   "name": "python",
   "nbconvert_exporter": "python",
   "pygments_lexer": "ipython3",
   "version": "3.10.9"
  }
 },
 "nbformat": 4,
 "nbformat_minor": 5
}
