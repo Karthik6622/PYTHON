{
 "cells": [
  {
   "cell_type": "markdown",
   "id": "e553720e",
   "metadata": {},
   "source": [
    "# Netflix_data_Excesise"
   ]
  },
  {
   "cell_type": "markdown",
   "id": "a4be28cd",
   "metadata": {},
   "source": [
    "# Pandas Exercises\n",
    "In this section, we'll use a netflix database that I have recently come across to do some exercises with Pandas. https://www.kaggle.com/shivamb/netflix-shows\n",
    "\n",
    "Dataset is already included in the folder. However, I have provided the link if anyone wants to have a look.\n"
   ]
  },
  {
   "cell_type": "markdown",
   "id": "e31ed19d",
   "metadata": {},
   "source": [
    "# Starting with our imports as usual, numpy as np, pandas as pd and import DataFrame module from pandas:"
   ]
  },
  {
   "cell_type": "code",
   "execution_count": 1,
   "id": "c3301333",
   "metadata": {},
   "outputs": [],
   "source": [
    "import numpy as np\n",
    "import pandas as pd"
   ]
  },
  {
   "cell_type": "code",
   "execution_count": null,
   "id": "f2fab8f0",
   "metadata": {},
   "outputs": [],
   "source": []
  }
 ],
 "metadata": {
  "kernelspec": {
   "display_name": "Python 3 (ipykernel)",
   "language": "python",
   "name": "python3"
  },
  "language_info": {
   "codemirror_mode": {
    "name": "ipython",
    "version": 3
   },
   "file_extension": ".py",
   "mimetype": "text/x-python",
   "name": "python",
   "nbconvert_exporter": "python",
   "pygments_lexer": "ipython3",
   "version": "3.10.9"
  }
 },
 "nbformat": 4,
 "nbformat_minor": 5
}
