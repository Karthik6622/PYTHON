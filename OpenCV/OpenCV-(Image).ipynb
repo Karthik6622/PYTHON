{
 "cells": [
  {
   "cell_type": "markdown",
   "id": "00fd338c",
   "metadata": {},
   "source": [
    "# OpenCV-(Image)"
   ]
  },
  {
   "cell_type": "code",
   "execution_count": 1,
   "id": "3c4237f0",
   "metadata": {},
   "outputs": [],
   "source": [
    "#importing the oencv module\n",
    "import cv2"
   ]
  },
  {
   "cell_type": "code",
   "execution_count": 2,
   "id": "d7a0101f",
   "metadata": {},
   "outputs": [
    {
     "name": "stdout",
     "output_type": "stream",
     "text": [
      "[[167 164 162 ...  87  69  69]\n",
      " [165 163 160 ...  89  71  71]\n",
      " [164 161 159 ... 110  83  83]\n",
      " ...\n",
      " [145 154 156 ... 197 206 206]\n",
      " [152 155 155 ... 197 211 211]\n",
      " [155 153 153 ... 196 212 212]]\n"
     ]
    }
   ],
   "source": [
    "#read image from our folder\n",
    "img=cv2.imread(\"image.jpg\",0)\n",
    "print(img)#it's show the image matrix form\n",
    "#imshow method using to dispaly the read image\n",
    "cv2.imshow(\"Karthik-Image\",img)\n",
    "cv2.waitKey()#it's display image till we specify time(if we not mentioned anything it's shows image forever and we can dispaly 5 seconds,10seconds as we want like waitkey(5000))\n",
    "cv2.destroyAllWindows()#destroy all the windows which we have already created"
   ]
  },
  {
   "cell_type": "code",
   "execution_count": 3,
   "id": "d9623c3e",
   "metadata": {},
   "outputs": [
    {
     "data": {
      "text/plain": [
       "'\\ncv2.imread() second argument is a flag which specifies the way image should be read\\n    flag                  Integer value        Description\\n\\ncv2.IMREAD_COLOR              1                 Loads a color image\\n\\ncv2.IMREAD_GRAYSCALE          0                 Loads image in grayscale  mode\\n\\ncv2.IMREAD_UNCHANGED          -1                Loads image as such including alpha cahannel\\n'"
      ]
     },
     "execution_count": 3,
     "metadata": {},
     "output_type": "execute_result"
    }
   ],
   "source": [
    "#Read an image\n",
    "'''\n",
    "cv2.imread() second argument is a flag which specifies the way image should be read\n",
    "    flag                  Integer value        Description\n",
    "\n",
    "cv2.IMREAD_COLOR              1                 Loads a color image\n",
    "\n",
    "cv2.IMREAD_GRAYSCALE          0                 Loads image in grayscale  mode\n",
    "\n",
    "cv2.IMREAD_UNCHANGED          -1                Loads image as such including alpha cahannel\n",
    "'''"
   ]
  },
  {
   "cell_type": "code",
   "execution_count": 4,
   "id": "0c151172",
   "metadata": {},
   "outputs": [],
   "source": [
    "#read color image and daisply as gray scale\n",
    "im=cv2.imread(\"image.jpg\",cv2.IMREAD_GRAYSCALE)#or we can use 0  to change image to gray scale\n",
    "cv2.imshow(\"MYIMAGE\",im)#MYIMAGE-is title of image window\n",
    "cv2.waitKey(4000)#it will be going to display image in 4 second after 4 second it will disappear\n",
    "cv2.destroyAllWindows()"
   ]
  },
  {
   "cell_type": "code",
   "execution_count": 21,
   "id": "460b5776",
   "metadata": {},
   "outputs": [],
   "source": [
    "#read color image and disoaly image as alphachannel format\n",
    "'''\n",
    "The alpha channel is a crucial component in digital graphics and imaging. \n",
    "It represents the transparency or opacity of an image or a specific pixel within an image.\n",
    "'''\n",
    "imm=cv2.imread(\"image.jpg\",-1)#we can use cv2.IMREAD_UNCHANGED\n",
    "cv2.imshow(\"Aplaha channel Image\",imm)\n",
    "cv2.waitKey(0)\n",
    "cv2.destroyAllWindows()"
   ]
  },
  {
   "cell_type": "code",
   "execution_count": 20,
   "id": "65d88502",
   "metadata": {},
   "outputs": [],
   "source": [
    "#how to write or create new image from readed image \n",
    "imm1=cv2.imread(\"image.jpg\",1)#we can use cv2.IMREAD_COLOR\n",
    "cv2.imshow(\"Aplaha channel Image\",imm1)\n",
    "cv2.waitKey(33)\n",
    "cv2.imwrite('karthik.png',imm)#karthik.png=image going to save with this name,im=readed image \n",
    "cv2.destroyAllWindows()"
   ]
  },
  {
   "cell_type": "code",
   "execution_count": 19,
   "id": "e9af1593",
   "metadata": {},
   "outputs": [],
   "source": [
    "#write a program to save readed image if we click s in keyboard,if we click n it's not going to save and all windows destroy\n",
    "i=cv2.imread('grayscale.jpg',1)\n",
    "cv2.imshow(\"GRAYSCALEIMAGE\",i)\n",
    "key=cv2.waitKey(0)#ord()-it is used to findout character ascii value\n",
    "if key==ord('s'):\n",
    "    cv2.imwrite(\"Saving-grayscaleimage.png\",i)\n",
    "    cv2.destroyAllWindows()\n",
    "elif key==ord('n'):#ord()-it is used to findout character ascii value\n",
    "     cv2.destroyAllWindows()\n",
    "#note:according to above code image will be open if we click 's',it will save to folder and image close .\n",
    "#if we click 'n' means,it will not  be save to folder and image will close"
   ]
  },
  {
   "cell_type": "code",
   "execution_count": 18,
   "id": "13862a21",
   "metadata": {},
   "outputs": [],
   "source": [
    "#to change the color image to grayscale image using cvtColor() function\n",
    "ii=cv2.imread('image.jpg',1)\n",
    "converted=cv2.cvtColor(ii,cv2.COLOR_RGB2GRAY)\n",
    "cv2.imshow(\"ConvertedGrayscaleImage\",converted)\n",
    "cv2.waitKey(3000)#display 3 seconds\n",
    "cv2.destroyAllWindows()"
   ]
  },
  {
   "cell_type": "code",
   "execution_count": null,
   "id": "e4455467",
   "metadata": {},
   "outputs": [],
   "source": []
  }
 ],
 "metadata": {
  "kernelspec": {
   "display_name": "Python 3 (ipykernel)",
   "language": "python",
   "name": "python3"
  },
  "language_info": {
   "codemirror_mode": {
    "name": "ipython",
    "version": 3
   },
   "file_extension": ".py",
   "mimetype": "text/x-python",
   "name": "python",
   "nbconvert_exporter": "python",
   "pygments_lexer": "ipython3",
   "version": "3.10.9"
  }
 },
 "nbformat": 4,
 "nbformat_minor": 5
}
