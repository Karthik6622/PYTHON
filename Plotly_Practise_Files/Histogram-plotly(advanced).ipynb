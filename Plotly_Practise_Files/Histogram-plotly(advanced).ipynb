{
 "cells": [
  {
   "cell_type": "markdown",
   "id": "d41523bb",
   "metadata": {},
   "source": [
    "# Histogram"
   ]
  },
  {
   "cell_type": "markdown",
   "id": "34c9ac31",
   "metadata": {},
   "source": [
    "A histogram is a graphical representation of the distribution of a dataset, showing the frequency of values within specific intervals, called bins"
   ]
  },
  {
   "cell_type": "code",
   "execution_count": 2,
   "id": "c3bd3669",
   "metadata": {},
   "outputs": [],
   "source": [
    "from plotly.offline import plot\n",
    "import plotly.graph_objs as go\n",
    "import numpy as np\n",
    "import pandas as pd"
   ]
  },
  {
   "cell_type": "markdown",
   "id": "d016a947",
   "metadata": {},
   "source": [
    "# Basic Histogram"
   ]
  },
  {
   "cell_type": "code",
   "execution_count": 3,
   "id": "8ee9097e",
   "metadata": {},
   "outputs": [
    {
     "data": {
      "text/html": [
       "<div>\n",
       "<style scoped>\n",
       "    .dataframe tbody tr th:only-of-type {\n",
       "        vertical-align: middle;\n",
       "    }\n",
       "\n",
       "    .dataframe tbody tr th {\n",
       "        vertical-align: top;\n",
       "    }\n",
       "\n",
       "    .dataframe thead th {\n",
       "        text-align: right;\n",
       "    }\n",
       "</style>\n",
       "<table border=\"1\" class=\"dataframe\">\n",
       "  <thead>\n",
       "    <tr style=\"text-align: right;\">\n",
       "      <th></th>\n",
       "      <th>x</th>\n",
       "      <th>y</th>\n",
       "    </tr>\n",
       "  </thead>\n",
       "  <tbody>\n",
       "    <tr>\n",
       "      <th>0</th>\n",
       "      <td>0.144147</td>\n",
       "      <td>0.564213</td>\n",
       "    </tr>\n",
       "    <tr>\n",
       "      <th>1</th>\n",
       "      <td>0.020941</td>\n",
       "      <td>1.189549</td>\n",
       "    </tr>\n",
       "    <tr>\n",
       "      <th>2</th>\n",
       "      <td>-1.819243</td>\n",
       "      <td>-0.817852</td>\n",
       "    </tr>\n",
       "    <tr>\n",
       "      <th>3</th>\n",
       "      <td>-1.052018</td>\n",
       "      <td>-0.169326</td>\n",
       "    </tr>\n",
       "    <tr>\n",
       "      <th>4</th>\n",
       "      <td>-0.264279</td>\n",
       "      <td>-0.082089</td>\n",
       "    </tr>\n",
       "  </tbody>\n",
       "</table>\n",
       "</div>"
      ],
      "text/plain": [
       "          x         y\n",
       "0  0.144147  0.564213\n",
       "1  0.020941  1.189549\n",
       "2 -1.819243 -0.817852\n",
       "3 -1.052018 -0.169326\n",
       "4 -0.264279 -0.082089"
      ]
     },
     "execution_count": 3,
     "metadata": {},
     "output_type": "execute_result"
    }
   ],
   "source": [
    "n=100\n",
    "x=np.random.randn(n)\n",
    "y=np.random.randn(n)\n",
    "df=pd.DataFrame({'x':x,'y':y})\n",
    "df.head()"
   ]
  },
  {
   "cell_type": "code",
   "execution_count": 4,
   "id": "d4c599ac",
   "metadata": {},
   "outputs": [
    {
     "data": {
      "text/plain": [
       "'temp-plot.html'"
      ]
     },
     "execution_count": 4,
     "metadata": {},
     "output_type": "execute_result"
    }
   ],
   "source": [
    "trace=go.Histogram(\n",
    "x=df['y']#y=if we give y means,horizontally it will display\n",
    ")\n",
    "data=[trace]\n",
    "plot(data)"
   ]
  },
  {
   "cell_type": "markdown",
   "id": "8055f6e3",
   "metadata": {},
   "source": [
    "# customized Histogram"
   ]
  },
  {
   "cell_type": "code",
   "execution_count": 6,
   "id": "21401d6e",
   "metadata": {},
   "outputs": [
    {
     "data": {
      "text/plain": [
       "'temp-plot.html'"
      ]
     },
     "execution_count": 6,
     "metadata": {},
     "output_type": "execute_result"
    }
   ],
   "source": [
    "trace=go.Histogram(\n",
    "x=df['x'],\n",
    "xbins=dict(start=min(x),end=max(x),size=0.1),# Specify bin size and range(bin is bar of histogram)\n",
    "name=\"Myplot\",\n",
    "marker=dict(color='plum',#here we can't give size cause we given size in xbins\n",
    "line=dict(width=5,color='orange')\n",
    "),\n",
    "opacity=0.4\n",
    ")\n",
    "layout = go.Layout(\n",
    "    title='Customized Histogram Example',\n",
    "    xaxis=dict(title='Value'),\n",
    "    yaxis=dict(title='Frequency'),\n",
    "    plot_bgcolor='rgb(194, 240, 194)',\n",
    "    paper_bgcolor='rgb(224, 204, 255)'\n",
    ")\n",
    "\n",
    "# Create a figure with the histogram trace and layout\n",
    "fig = go.Figure(data=[trace], layout=layout)\n",
    "\n",
    "# Display the customized histogram\n",
    "plot(fig)\n",
    "\n"
   ]
  },
  {
   "cell_type": "markdown",
   "id": "0d88cb4c",
   "metadata": {},
   "source": []
  }
 ],
 "metadata": {
  "kernelspec": {
   "display_name": "Python 3 (ipykernel)",
   "language": "python",
   "name": "python3"
  },
  "language_info": {
   "codemirror_mode": {
    "name": "ipython",
    "version": 3
   },
   "file_extension": ".py",
   "mimetype": "text/x-python",
   "name": "python",
   "nbconvert_exporter": "python",
   "pygments_lexer": "ipython3",
   "version": "3.10.9"
  }
 },
 "nbformat": 4,
 "nbformat_minor": 5
}
