{
 "cells": [
  {
   "cell_type": "markdown",
   "id": "7a380b9a",
   "metadata": {},
   "source": [
    "# Built-in-DataStucture"
   ]
  },
  {
   "cell_type": "markdown",
   "id": "f8dd8b87",
   "metadata": {},
   "source": [
    "LIST"
   ]
  },
  {
   "cell_type": "code",
   "execution_count": 6,
   "id": "55f5f83f",
   "metadata": {},
   "outputs": [
    {
     "name": "stdout",
     "output_type": "stream",
     "text": [
      "<class 'list'> \n",
      " [1, 2, 3, 4]\n",
      "<class 'list'> \n",
      " []\n"
     ]
    }
   ],
   "source": [
    "#List is collection of Zero or many elements seperated by comma and enclosed by squre bracket.\n",
    "#List can contain Zero or more than zero elements.\n",
    "li=[1,2,3,4]\n",
    "print(type(li),\"\\n\",li)\n",
    "#creating empty list using list constructor\n",
    "li_zero=list()\n",
    "print(type(li_zero),\"\\n\",li_zero)"
   ]
  },
  {
   "cell_type": "code",
   "execution_count": 7,
   "id": "8d8580c7",
   "metadata": {},
   "outputs": [
    {
     "name": "stdout",
     "output_type": "stream",
     "text": [
      "[1, 'karthik', 'k', 3.4, (34+5j)]\n"
     ]
    }
   ],
   "source": [
    "#can store data of differnt datatypes.\n",
    "li_dfdatas=[1,\"karthik\",'k',3.4,34+5j]\n",
    "print(li_dfdatas)"
   ]
  },
  {
   "cell_type": "code",
   "execution_count": 9,
   "id": "71d3b20a",
   "metadata": {},
   "outputs": [
    {
     "name": "stdout",
     "output_type": "stream",
     "text": [
      "False\n",
      "**************************************************\n",
      "True\n"
     ]
    }
   ],
   "source": [
    "#Lists are ordered.\n",
    "list1=[1,2,3,4,5]\n",
    "list2=[2,1,3,4,5]\n",
    "print(list1==list2)#it will give false even if all elements are same cause elements order changed\n",
    "print(\"*\"*50)\n",
    "list3=[1,2,3,4,5]\n",
    "list4=[1,2,3,4,5]\n",
    "print(list3==list4)#if elemets order and values both same means, it will give True output"
   ]
  },
  {
   "cell_type": "code",
   "execution_count": 10,
   "id": "cde01bd7",
   "metadata": {},
   "outputs": [
    {
     "name": "stdout",
     "output_type": "stream",
     "text": [
      "45\n",
      "kd\n",
      "['kd', 3, 78, 45]\n"
     ]
    }
   ],
   "source": [
    "#we can access list elements using index.\n",
    "list_ele=[45,78,3,\"kd\"]\n",
    "print(list_ele[0])\n",
    "print(list_ele[-1])\n",
    "print(list_ele[::-1])"
   ]
  },
  {
   "cell_type": "code",
   "execution_count": 11,
   "id": "96b70deb",
   "metadata": {},
   "outputs": [
    {
     "name": "stdout",
     "output_type": "stream",
     "text": [
      "[98, 23, [34, 45, 67]]\n"
     ]
    }
   ],
   "source": [
    "#List can be nested.\n",
    "list_nested=[98,23,[34,45,67]]#list inside creating one more list it called as nested list. \n",
    "print(list_nested)"
   ]
  },
  {
   "cell_type": "code",
   "execution_count": 13,
   "id": "65ea4f1c",
   "metadata": {},
   "outputs": [
    {
     "name": "stdout",
     "output_type": "stream",
     "text": [
      "[45, 78, 3, 'kd']\n",
      "**************************************************\n",
      "[45, 78, 3, 'kd', 99]\n",
      "[45, 78, 3, 99]\n"
     ]
    }
   ],
   "source": [
    "#.Lists are Mutable.(we can add and remove the elements so list is mutable)\n",
    "li_mutable=list_ele\n",
    "print(li_mutable)\n",
    "print(\"*\"*50)\n",
    "li_mutable.append(99)\n",
    "print(li_mutable)\n",
    "li_mutable.remove(\"kd\")\n",
    "print(li_mutable)"
   ]
  },
  {
   "cell_type": "code",
   "execution_count": 17,
   "id": "ed5b74e4",
   "metadata": {},
   "outputs": [
    {
     "name": "stdout",
     "output_type": "stream",
     "text": [
      "[1, 2, 3, 4]\n",
      "Size of List: 4\n",
      "**************************************************\n",
      "[1, 2, 3, 4, 0, 1, 2, 3, 4, 5, 6, 7, 8, 9, 10, 11, 12, 13, 14, 15, 16, 17, 18, 19]\n",
      "Size of List: 24\n",
      "**************************************************\n",
      "[6, 7, 8, 9, 10, 11, 12, 13, 14, 15, 16, 17, 18, 19]\n",
      "Size of List: 14\n"
     ]
    }
   ],
   "source": [
    "#Lists are dynamic.(Cause if we add the element into the List,it will grow.if we remove the element in the list ,it will shrink)\n",
    "li_mutable1=[1,2,3,4]\n",
    "print(li_mutable1)\n",
    "print(\"Size of List:\",len(li_mutable1))\n",
    "print(\"*\"*50)\n",
    "li_mutable1.extend(range(20))\n",
    "print(li_mutable1)\n",
    "print(\"Size of List:\",len(li_mutable1))\n",
    "print(\"*\"*50)\n",
    "del li_mutable1[0:10]\n",
    "print(li_mutable1)\n",
    "print(\"Size of List:\",len(li_mutable1))\n"
   ]
  },
  {
   "cell_type": "markdown",
   "id": "c965b4b0",
   "metadata": {},
   "source": [
    "Tuples"
   ]
  },
  {
   "cell_type": "code",
   "execution_count": 18,
   "id": "2ce18094",
   "metadata": {},
   "outputs": [
    {
     "name": "stdout",
     "output_type": "stream",
     "text": [
      "<class 'tuple'> \n",
      " (1, 2, 3, 4)\n",
      "<class 'tuple'> \n",
      " ()\n"
     ]
    }
   ],
   "source": [
    "#1.Tuple is collection of Zero or many elements seperated by comma and enclosed by parenthisis.\n",
    "#creation of tuples.\n",
    "tup=(1,2,3,4)\n",
    "print(type(tup),\"\\n\",tup)\n",
    "#created empty tuple using tuple constructor\n",
    "tt=tuple()\n",
    "print(type(tt),\"\\n\",tt)"
   ]
  },
  {
   "cell_type": "code",
   "execution_count": 20,
   "id": "274fba6e",
   "metadata": {},
   "outputs": [
    {
     "name": "stdout",
     "output_type": "stream",
     "text": [
      "(1, 2, 3, 4)\n"
     ]
    },
    {
     "ename": "AttributeError",
     "evalue": "'tuple' object has no attribute 'append'",
     "output_type": "error",
     "traceback": [
      "\u001b[1;31m---------------------------------------------------------------------------\u001b[0m",
      "\u001b[1;31mAttributeError\u001b[0m                            Traceback (most recent call last)",
      "Cell \u001b[1;32mIn[20], line 3\u001b[0m\n\u001b[0;32m      1\u001b[0m \u001b[38;5;66;03m#Tuples are immutable(we can't add or remove elemets here)\u001b[39;00m\n\u001b[0;32m      2\u001b[0m \u001b[38;5;28mprint\u001b[39m(tup)\n\u001b[1;32m----> 3\u001b[0m \u001b[43mtup\u001b[49m\u001b[38;5;241;43m.\u001b[39;49m\u001b[43mappend\u001b[49m(\u001b[38;5;241m7\u001b[39m)\n\u001b[0;32m      4\u001b[0m tup\u001b[38;5;241m.\u001b[39mremove(\u001b[38;5;241m4\u001b[39m)\n",
      "\u001b[1;31mAttributeError\u001b[0m: 'tuple' object has no attribute 'append'"
     ]
    }
   ],
   "source": [
    "#Tuples are immutable(we can't add or remove elemets here)\n",
    "print(tup)\n",
    "tup.append(7)\n",
    "tup.remove(4)"
   ]
  },
  {
   "cell_type": "code",
   "execution_count": 21,
   "id": "15baa6db",
   "metadata": {},
   "outputs": [
    {
     "name": "stdout",
     "output_type": "stream",
     "text": [
      "(34, 'kkk', ('893', 90, 90.78))\n"
     ]
    }
   ],
   "source": [
    "#Tuples can be nested.\n",
    "#Tuple accept multiple datatypes and duplicate values.\n",
    "tup_nes=(34,'kkk',('893',90,90.78))\n",
    "print(tup_nes)#create tuple inside the one more tuple is called as nested tuple"
   ]
  },
  {
   "cell_type": "code",
   "execution_count": 24,
   "id": "115fdf76",
   "metadata": {},
   "outputs": [
    {
     "name": "stdout",
     "output_type": "stream",
     "text": [
      "(34, 'kkk', ('893', 90, 90.78))\n",
      "**************************************************\n",
      "34\n",
      "('893', 90, 90.78)\n",
      "90\n"
     ]
    }
   ],
   "source": [
    "#we can access elements using Index position.\n",
    "print(tup_nes)\n",
    "print(\"*\"*50)\n",
    "print(tup_nes[0])\n",
    "print(tup_nes[-1])\n",
    "print(tup_nes[2][1])"
   ]
  },
  {
   "cell_type": "code",
   "execution_count": 26,
   "id": "3e5cfbbc",
   "metadata": {},
   "outputs": [
    {
     "name": "stdout",
     "output_type": "stream",
     "text": [
      "False\n",
      "**************************************************\n",
      "True\n"
     ]
    }
   ],
   "source": [
    "#tuple is orderd\n",
    "list1=(1,2,3,4,5)\n",
    "list2=(2,1,3,4,5)\n",
    "print(list1==list2)#it will give false even if all elements are same cause elements order changed\n",
    "print(\"*\"*50)\n",
    "list3=(1,2,3,4,5)\n",
    "list4=(1,2,3,4,5)\n",
    "print(list3==list4)#if elemets order and values both same means, it will give True output"
   ]
  },
  {
   "cell_type": "markdown",
   "id": "85f3801f",
   "metadata": {},
   "source": [
    "Dictionary\n"
   ]
  },
  {
   "cell_type": "code",
   "execution_count": 30,
   "id": "a4c40c1d",
   "metadata": {},
   "outputs": [
    {
     "name": "stdout",
     "output_type": "stream",
     "text": [
      "{1: 'karthik', 'kk': 3}\n",
      "<class 'dict'> {}\n"
     ]
    }
   ],
   "source": [
    "#1.Used to store data's in (key:value) pair with enclosed by curly bracket\n",
    "#2.Craetion of Empty and value dictionary\n",
    "dic={1:'karthik','kk':3}#dictionary accept all datatypes\n",
    "print(dic)\n",
    "#creating empty dictionary using dict constructor\n",
    "dic1=dict()\n",
    "print(type(dic1),dic1)"
   ]
  },
  {
   "cell_type": "code",
   "execution_count": 31,
   "id": "7f3fa9fc",
   "metadata": {},
   "outputs": [
    {
     "name": "stdout",
     "output_type": "stream",
     "text": [
      "{1: 'r', 2: 'a', 3: 'a'}\n"
     ]
    }
   ],
   "source": [
    "#dictionary key can't accept duplicate keys.but Values accept duplicate.\n",
    "dicc={1:'k',2:'a',1:'r',3:'a'}\n",
    "print(dicc)"
   ]
  },
  {
   "cell_type": "code",
   "execution_count": 33,
   "id": "ef975790",
   "metadata": {},
   "outputs": [
    {
     "name": "stdout",
     "output_type": "stream",
     "text": [
      "{(6, 4, 5): 'dll'}\n"
     ]
    },
    {
     "ename": "TypeError",
     "evalue": "unhashable type: 'list'",
     "output_type": "error",
     "traceback": [
      "\u001b[1;31m---------------------------------------------------------------------------\u001b[0m",
      "\u001b[1;31mTypeError\u001b[0m                                 Traceback (most recent call last)",
      "Cell \u001b[1;32mIn[33], line 4\u001b[0m\n\u001b[0;32m      2\u001b[0m diccc1\u001b[38;5;241m=\u001b[39m{(\u001b[38;5;241m6\u001b[39m,\u001b[38;5;241m4\u001b[39m,\u001b[38;5;241m5\u001b[39m):\u001b[38;5;124m\"\u001b[39m\u001b[38;5;124mdll\u001b[39m\u001b[38;5;124m\"\u001b[39m}\u001b[38;5;66;03m#here I had tried list to dictionary key\u001b[39;00m\n\u001b[0;32m      3\u001b[0m \u001b[38;5;28mprint\u001b[39m(diccc1)\n\u001b[1;32m----> 4\u001b[0m diccc\u001b[38;5;241m=\u001b[39m{[\u001b[38;5;241m6\u001b[39m,\u001b[38;5;241m4\u001b[39m,\u001b[38;5;241m5\u001b[39m]:\u001b[38;5;124m\"\u001b[39m\u001b[38;5;124mdll\u001b[39m\u001b[38;5;124m\"\u001b[39m}\u001b[38;5;66;03m#here I had tried list to dictionary key\u001b[39;00m\n\u001b[0;32m      5\u001b[0m \u001b[38;5;28mprint\u001b[39m(diccc)\n",
      "\u001b[1;31mTypeError\u001b[0m: unhashable type: 'list'"
     ]
    }
   ],
   "source": [
    "#We can't be use mutable datatype as a key.\n",
    "diccc1={(6,4,5):\"dll\"}#here I had tried tuple to dictionary key.tuple is imutable datatype so it's accepting\n",
    "print(diccc1)\n",
    "diccc={[6,4,5]:\"dll\"}#here I had tried list to dictionary key.list is a mutable datatype  so it's not accepting\n",
    "print(diccc)"
   ]
  },
  {
   "cell_type": "code",
   "execution_count": 36,
   "id": "dfdf1665",
   "metadata": {},
   "outputs": [
    {
     "name": "stdout",
     "output_type": "stream",
     "text": [
      "{'d': [2, 3, 4, 5], 'r': (45, 78)}\n"
     ]
    }
   ],
   "source": [
    "#we can use mutable and immutable types as a value.\n",
    "diccc={'d':[2,3,4,5],'r':(45,78)}#as value we can use both mutable and mutable datatype\n",
    "print(diccc)"
   ]
  },
  {
   "cell_type": "code",
   "execution_count": 39,
   "id": "405f283f",
   "metadata": {},
   "outputs": [
    {
     "name": "stdout",
     "output_type": "stream",
     "text": [
      "True\n",
      "**************************************************\n",
      "False\n"
     ]
    }
   ],
   "source": [
    "#dictionary is the Unordered\n",
    "di={2:'k',1:'a'}\n",
    "di1={1:'a',2:'k'}\n",
    "print(di==di1)#it's won't check order,it's only check values\n",
    "print(\"*\"*50)\n",
    "di={2:'k',1:'a'}\n",
    "di1={1:'s',2:'k'}\n",
    "print(di==di1)"
   ]
  },
  {
   "cell_type": "code",
   "execution_count": 42,
   "id": "4e31f999",
   "metadata": {},
   "outputs": [
    {
     "name": "stdout",
     "output_type": "stream",
     "text": [
      "{2: 'k', 1: 'a'}\n",
      "k\n",
      "k\n",
      "a\n"
     ]
    }
   ],
   "source": [
    "#7.here we can access the Element by Dictionary keys.\n",
    "print(di)\n",
    "print(di[2])\n",
    "for i in di:\n",
    "    print(di[i])"
   ]
  },
  {
   "cell_type": "code",
   "execution_count": 44,
   "id": "e2ea5cc5",
   "metadata": {},
   "outputs": [
    {
     "name": "stdout",
     "output_type": "stream",
     "text": [
      "{2: 'k', 1: 'a'}\n",
      "{2: 'k', 1: 'a', 3: 'r', 4: 't'}\n",
      "{2: 'k', 3: 'r', 4: 't'}\n"
     ]
    }
   ],
   "source": [
    "#8.Dictionary is mutable.(so we can add and remove values).\n",
    "#to add\n",
    "print(di)\n",
    "di.update({3:'r',4:'t'})\n",
    "print(di)\n",
    "del di[1]\n",
    "print(di)"
   ]
  },
  {
   "cell_type": "code",
   "execution_count": 47,
   "id": "1d3153b6",
   "metadata": {},
   "outputs": [
    {
     "name": "stdout",
     "output_type": "stream",
     "text": [
      "{1: {'kkk', 90}}\n"
     ]
    },
    {
     "ename": "TypeError",
     "evalue": "unhashable type: 'dict'",
     "output_type": "error",
     "traceback": [
      "\u001b[1;31m---------------------------------------------------------------------------\u001b[0m",
      "\u001b[1;31mTypeError\u001b[0m                                 Traceback (most recent call last)",
      "Cell \u001b[1;32mIn[47], line 4\u001b[0m\n\u001b[0;32m      2\u001b[0m dii\u001b[38;5;241m=\u001b[39m{\u001b[38;5;241m1\u001b[39m:{\u001b[38;5;241m90\u001b[39m,\u001b[38;5;124m\"\u001b[39m\u001b[38;5;124mkkk\u001b[39m\u001b[38;5;124m\"\u001b[39m}}\n\u001b[0;32m      3\u001b[0m \u001b[38;5;28mprint\u001b[39m(dii)\n\u001b[1;32m----> 4\u001b[0m dd\u001b[38;5;241m=\u001b[39m{{\u001b[38;5;241m1\u001b[39m:\u001b[38;5;241m2\u001b[39m}:\u001b[38;5;124m\"\u001b[39m\u001b[38;5;124mkkk\u001b[39m\u001b[38;5;124m\"\u001b[39m}\n\u001b[0;32m      5\u001b[0m \u001b[38;5;28mprint\u001b[39m(dd)\n",
      "\u001b[1;31mTypeError\u001b[0m: unhashable type: 'dict'"
     ]
    }
   ],
   "source": [
    "#9.Nested dictionary(we can nested dictionary values but we can't nested dictionary keys)\n",
    "dii={1:{90,\"kkk\"}}\n",
    "print(dii)\n",
    "dd={{1:2}:\"kkk\"}#we can't give dic to key\n",
    "print(dd)"
   ]
  },
  {
   "cell_type": "markdown",
   "id": "34621904",
   "metadata": {},
   "source": [
    "SET"
   ]
  },
  {
   "cell_type": "code",
   "execution_count": 49,
   "id": "83d95fd1",
   "metadata": {},
   "outputs": [
    {
     "name": "stdout",
     "output_type": "stream",
     "text": [
      "<class 'set'> {2, 34.89, 34, 5, 'kkk'}\n",
      "<class 'set'> \n",
      " set()\n"
     ]
    }
   ],
   "source": [
    "#collection of immutable unique elements enclosed with {}\n",
    "#1.Creation of Set with value and without value.\n",
    "se={2,34,5,'kkk',34.89}#it's accept all datatypes\n",
    "print(type(se),se)\n",
    "#empty set reation using set() constructor\n",
    "em_se=set()\n",
    "print(type(em_se),\"\\n\",em_se)"
   ]
  },
  {
   "cell_type": "code",
   "execution_count": 50,
   "id": "5935d6d0",
   "metadata": {},
   "outputs": [
    {
     "name": "stdout",
     "output_type": "stream",
     "text": [
      "{34, 2, 45}\n"
     ]
    }
   ],
   "source": [
    "#it won't accept Duplicate values.\n",
    "no_duplicate={34,45,34,45,2}\n",
    "print(no_duplicate)"
   ]
  },
  {
   "cell_type": "code",
   "execution_count": 51,
   "id": "5a074b35",
   "metadata": {},
   "outputs": [
    {
     "name": "stdout",
     "output_type": "stream",
     "text": [
      "True\n",
      "**************************************************\n",
      "False\n"
     ]
    }
   ],
   "source": [
    "#set is also unordered\n",
    "di={2,'k',1,'a'}\n",
    "di1={1,'a',2,'k'}\n",
    "print(di==di1)#it's won't check order,it's only check values\n",
    "print(\"*\"*50)\n",
    "di={2,'k',1,'a'}\n",
    "di1={1,'s',2,'k'}\n",
    "print(di==di1)"
   ]
  },
  {
   "cell_type": "code",
   "execution_count": 54,
   "id": "e0f849e6",
   "metadata": {},
   "outputs": [
    {
     "name": "stdout",
     "output_type": "stream",
     "text": [
      "{2, 34.89, 34, 5, 23, 24, 90}\n",
      "{2, 34.89, 34, 5, 23, 'kkk', 24, 90}\n",
      "{2, 34.89, 34, 5, 23, 24, 90}\n"
     ]
    }
   ],
   "source": [
    "#set is a mutable datatype so we can add and remove elements.\n",
    "print(se)\n",
    "se.add(23)\n",
    "se.update({24,'kkk',90})\n",
    "print(se)\n",
    "se.remove('kkk')\n",
    "print(se)"
   ]
  },
  {
   "cell_type": "code",
   "execution_count": 55,
   "id": "661b6fb4",
   "metadata": {},
   "outputs": [
    {
     "ename": "TypeError",
     "evalue": "unhashable type: 'list'",
     "output_type": "error",
     "traceback": [
      "\u001b[1;31m---------------------------------------------------------------------------\u001b[0m",
      "\u001b[1;31mTypeError\u001b[0m                                 Traceback (most recent call last)",
      "Cell \u001b[1;32mIn[55], line 2\u001b[0m\n\u001b[0;32m      1\u001b[0m \u001b[38;5;66;03m#mutable elements can't be a element of sets.only immutable elements can be a element of sets.\u001b[39;00m\n\u001b[1;32m----> 2\u001b[0m set1\u001b[38;5;241m=\u001b[39m{[\u001b[38;5;241m1\u001b[39m,\u001b[38;5;241m2\u001b[39m,\u001b[38;5;241m34\u001b[39m]}\n\u001b[0;32m      3\u001b[0m \u001b[38;5;28mprint\u001b[39m(set1)\n",
      "\u001b[1;31mTypeError\u001b[0m: unhashable type: 'list'"
     ]
    }
   ],
   "source": [
    "#mutable elements can't be a element of sets.only immutable elements can be a element of sets.\n",
    "set1={[1,2,34]}#list is mutable type so it's not accepting\n",
    "print(set1)"
   ]
  },
  {
   "cell_type": "code",
   "execution_count": 57,
   "id": "7946b3e5",
   "metadata": {},
   "outputs": [
    {
     "name": "stdout",
     "output_type": "stream",
     "text": [
      "{(23, 4), 90, ('kk', 'bb')}\n"
     ]
    }
   ],
   "source": [
    "set1={(23,4),('kk','bb'),90}#here tupe is the mutable datatype so it's accepting tuple as a set elements\n",
    "print(set1)"
   ]
  },
  {
   "cell_type": "code",
   "execution_count": 58,
   "id": "c7d59470",
   "metadata": {},
   "outputs": [
    {
     "ename": "TypeError",
     "evalue": "unhashable type: 'set'",
     "output_type": "error",
     "traceback": [
      "\u001b[1;31m---------------------------------------------------------------------------\u001b[0m",
      "\u001b[1;31mTypeError\u001b[0m                                 Traceback (most recent call last)",
      "Cell \u001b[1;32mIn[58], line 2\u001b[0m\n\u001b[0;32m      1\u001b[0m \u001b[38;5;66;03m#set can't be nested\u001b[39;00m\n\u001b[1;32m----> 2\u001b[0m set_nes\u001b[38;5;241m=\u001b[39m{\u001b[38;5;241m45\u001b[39m,\u001b[38;5;241m45\u001b[39m,{\u001b[38;5;241m45\u001b[39m,\u001b[38;5;241m89\u001b[39m},\u001b[38;5;241m9\u001b[39m}\n\u001b[0;32m      3\u001b[0m \u001b[38;5;28mprint\u001b[39m(set_nes)\n",
      "\u001b[1;31mTypeError\u001b[0m: unhashable type: 'set'"
     ]
    }
   ],
   "source": [
    "#set can't be nested\n",
    "set_nes={45,45,{45,89},9}\n",
    "print(set_nes)"
   ]
  },
  {
   "cell_type": "code",
   "execution_count": 60,
   "id": "5e33e655",
   "metadata": {},
   "outputs": [
    {
     "name": "stdout",
     "output_type": "stream",
     "text": [
      "{(23, 4), 90, ('kk', 'bb')}\n"
     ]
    },
    {
     "ename": "TypeError",
     "evalue": "'set' object is not subscriptable",
     "output_type": "error",
     "traceback": [
      "\u001b[1;31m---------------------------------------------------------------------------\u001b[0m",
      "\u001b[1;31mTypeError\u001b[0m                                 Traceback (most recent call last)",
      "Cell \u001b[1;32mIn[60], line 3\u001b[0m\n\u001b[0;32m      1\u001b[0m \u001b[38;5;66;03m#we can access set elements by their id.\u001b[39;00m\n\u001b[0;32m      2\u001b[0m \u001b[38;5;28mprint\u001b[39m(set1)\n\u001b[1;32m----> 3\u001b[0m \u001b[38;5;28mprint\u001b[39m(\u001b[43mset1\u001b[49m\u001b[43m[\u001b[49m\u001b[38;5;241;43m0\u001b[39;49m\u001b[43m]\u001b[49m)\n",
      "\u001b[1;31mTypeError\u001b[0m: 'set' object is not subscriptable"
     ]
    }
   ],
   "source": [
    "#we can't access set elements by their id.\n",
    "print(set1)\n",
    "print(set1[0])"
   ]
  },
  {
   "cell_type": "code",
   "execution_count": null,
   "id": "482ac516",
   "metadata": {},
   "outputs": [],
   "source": []
  }
 ],
 "metadata": {
  "kernelspec": {
   "display_name": "Python 3 (ipykernel)",
   "language": "python",
   "name": "python3"
  },
  "language_info": {
   "codemirror_mode": {
    "name": "ipython",
    "version": 3
   },
   "file_extension": ".py",
   "mimetype": "text/x-python",
   "name": "python",
   "nbconvert_exporter": "python",
   "pygments_lexer": "ipython3",
   "version": "3.10.9"
  }
 },
 "nbformat": 4,
 "nbformat_minor": 5
}
