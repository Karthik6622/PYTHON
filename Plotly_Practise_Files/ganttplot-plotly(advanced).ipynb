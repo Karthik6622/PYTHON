{
 "cells": [
  {
   "cell_type": "markdown",
   "id": "bef43801",
   "metadata": {},
   "source": [
    "# ganttchart in python"
   ]
  },
  {
   "cell_type": "markdown",
   "id": "e7739569",
   "metadata": {},
   "source": [
    "\n",
    "'''\n",
    "A Gantt chart is a type of bar chart that represents a project schedule over time.\n",
    "and it is commonly used in project management to visually illustrate the timing of various tasks or activities within a project\n",
    "'''"
   ]
  },
  {
   "cell_type": "code",
   "execution_count": 2,
   "id": "2cd1b8db",
   "metadata": {},
   "outputs": [],
   "source": [
    "from plotly.offline import plot\n",
    "import plotly.graph_objs as go\n",
    "#for gantt chart we have to import one more addtionl library\n",
    "import plotly.figure_factory as ff"
   ]
  },
  {
   "cell_type": "markdown",
   "id": "b7021496",
   "metadata": {},
   "source": [
    "# Gantt charts in python"
   ]
  },
  {
   "cell_type": "code",
   "execution_count": 3,
   "id": "96699f89",
   "metadata": {},
   "outputs": [
    {
     "data": {
      "text/plain": [
       "'temp-plot.html'"
      ]
     },
     "execution_count": 3,
     "metadata": {},
     "output_type": "execute_result"
    }
   ],
   "source": [
    "df=[\n",
    "    dict(Task=\"JOB A\",Start=\"2022-1-1\",Finish='2023-1-1'),#Task,Start,Finish-first letter is capital\n",
    "    dict(Task=\"JOB B\",Start=\"2021-1-3\",Finish='2023-6-1'),#give date format like  =yyyy-mm-dd\n",
    "    dict(Task=\"JOB C\",Start=\"2023-8-9\",Finish='2023-11-11')\n",
    "]\n",
    "fig=ff.create_gantt(df)\n",
    "plot(fig)"
   ]
  },
  {
   "cell_type": "markdown",
   "id": "719c7a03",
   "metadata": {},
   "source": [
    "# index by numeric value(colorscale)"
   ]
  },
  {
   "cell_type": "code",
   "execution_count": 4,
   "id": "eafcc372",
   "metadata": {},
   "outputs": [
    {
     "data": {
      "text/plain": [
       "'temp-plot.html'"
      ]
     },
     "execution_count": 4,
     "metadata": {},
     "output_type": "execute_result"
    }
   ],
   "source": [
    "'''\n",
    "Color Coding: In many Gantt charts, tasks are color-coded based on their completion status. \n",
    "For example, tasks that are 100% complete may be displayed in green, while tasks with lower completion percentages may be displayed in different colors (e.g., yellow or red) to indicate varying degrees of incompleteness.\n",
    "'''\n",
    "df=[\n",
    "    dict(Task=\"JOB A\",Start=\"2022-1-1\",Finish='2023-1-1',Complete=80),#Task,Start,Finish-first letter is capital\n",
    "    dict(Task=\"JOB B\",Start=\"2021-1-3\",Finish='2023-6-1',Complete=60),#give date format like  =yyyy-mm-dd\n",
    "    dict(Task=\"JOB C\",Start=\"2023-8-9\",Finish='2023-11-11',Complete=100)\n",
    "]\n",
    "fig=ff.create_gantt(df,colors='Viridis',index_col=\"Complete\",show_colorbar=True)#show_colorbar=True-it show the color legend\n",
    "plot(fig)"
   ]
  },
  {
   "cell_type": "markdown",
   "id": "bcfde289",
   "metadata": {},
   "source": [
    "# index by string value"
   ]
  },
  {
   "cell_type": "code",
   "execution_count": 5,
   "id": "49e6f938",
   "metadata": {},
   "outputs": [
    {
     "data": {
      "text/plain": [
       "'temp-plot.html'"
      ]
     },
     "execution_count": 5,
     "metadata": {},
     "output_type": "execute_result"
    }
   ],
   "source": [
    "'''\n",
    "In a Gantt chart, the \"resource\" attribute represents the allocation of specific resources to tasks or activities within a project.\n",
    "Resource Assignment: Each task in a Gantt chart can be associated with one or more resources, such as team members, employees, machinery, equipment, or other assets required to complete the task. T\n",
    "he \"resource\" attribute specifies who or what is responsible for the task.\n",
    "'''\n",
    "df=[\n",
    "    dict(Task=\"JOB A\",Start=\"2022-1-1\",Finish='2023-1-1',Resource=\"TeamA\"),#Task,Start,Finish-first letter is capital\n",
    "    dict(Task=\"JOB B\",Start=\"2021-1-3\",Finish='2023-6-1',Resource=\"TeamB\"),#give date format like  =yyyy-mm-dd\n",
    "    dict(Task=\"JOB C\",Start=\"2023-8-9\",Finish='2023-11-11',Resource=\"TeamC\")\n",
    "]\n",
    "colors=['rgb(255,5,6)','rgb(45,67,3)','rgb(67,8,43)']#its only accept rgb format \n",
    "fig=ff.create_gantt(df,colors=colors,index_col=\"Resource\",show_colorbar=True)#show_colorbar=True-it show the color legend\n",
    "plot(fig)"
   ]
  },
  {
   "cell_type": "markdown",
   "id": "e735660e",
   "metadata": {},
   "source": [
    "# use dictionary for color"
   ]
  },
  {
   "cell_type": "code",
   "execution_count": 16,
   "id": "bd9f46e4",
   "metadata": {},
   "outputs": [
    {
     "data": {
      "text/plain": [
       "'temp-plot.html'"
      ]
     },
     "execution_count": 16,
     "metadata": {},
     "output_type": "execute_result"
    }
   ],
   "source": [
    "df=[\n",
    "    dict(Task=\"JOB A\",Start=\"2022-1-1\",Finish='2023-1-1',Resource=\"TeamA\"),#Task,Start,Finish-first letter is capital\n",
    "    dict(Task=\"JOB B\",Start=\"2021-1-3\",Finish='2023-6-1',Resource=\"TeamB\"),#give date format like  =yyyy-mm-dd\n",
    "    dict(Task=\"JOB C\",Start=\"2023-8-9\",Finish='2023-11-11',Resource=\"TeamC\")\n",
    "]\n",
    "colors=dict(TeamA='rgb(255,5,6)',TeamB='rgb(45,67,3)',TeamC='rgb(67,8,43)')#its only accept rgb format \n",
    "fig=ff.create_gantt(df,colors=colors,index_col=\"Resource\",show_colorbar=True)#show_colorbar=True-it show the color legend\n",
    "plot(fig)"
   ]
  },
  {
   "cell_type": "markdown",
   "id": "6e2567c1",
   "metadata": {},
   "source": [
    "# Note:in gannt chart we can use Resource,Complete attributes for tracking project and diifercience the project and customize"
   ]
  },
  {
   "cell_type": "code",
   "execution_count": null,
   "id": "a92225a5",
   "metadata": {},
   "outputs": [],
   "source": []
  }
 ],
 "metadata": {
  "kernelspec": {
   "display_name": "Python 3 (ipykernel)",
   "language": "python",
   "name": "python3"
  },
  "language_info": {
   "codemirror_mode": {
    "name": "ipython",
    "version": 3
   },
   "file_extension": ".py",
   "mimetype": "text/x-python",
   "name": "python",
   "nbconvert_exporter": "python",
   "pygments_lexer": "ipython3",
   "version": "3.10.9"
  }
 },
 "nbformat": 4,
 "nbformat_minor": 5
}
