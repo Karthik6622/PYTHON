{
 "cells": [
  {
   "cell_type": "markdown",
   "id": "4bd6d19c",
   "metadata": {},
   "source": [
    "# ZOHO_SECONDROUND_PROGRAMMING_QUESTIONS"
   ]
  },
  {
   "cell_type": "code",
   "execution_count": 27,
   "id": "8fecd20e",
   "metadata": {},
   "outputs": [
    {
     "name": "stdout",
     "output_type": "stream",
     "text": [
      " P   R\n",
      "  R   R\n",
      "   O   R\n",
      "    G   R\n",
      "   O\n",
      "  R\n",
      " P\n"
     ]
    }
   ],
   "source": [
    "'''\n",
    "1. Print the word with odd letters as\n",
    "\n",
    "P         M\n",
    " R      A\n",
    "   O  R\n",
    "     G\n",
    "  O    R\n",
    " R       A\n",
    "P          M \n",
    "'''\n",
    "s='PROGRAM'\n",
    "for i in range(len(s)-3):\n",
    "    for j in range(i+1):\n",
    "        print(\" \",end=\"\")\n",
    "    print(s[i],end=\"\")\n",
    "    for m in range(len(s)-1,3,-1):\n",
    "         print(\" \",end=\"\")\n",
    "    print(s[m])\n",
    "for k in range(len(s)-5,-1,-1):\n",
    "    for l in range(k+1):\n",
    "        print(\" \",end=\"\")\n",
    "    print(s[k])\n"
   ]
  },
  {
   "cell_type": "code",
   "execution_count": 30,
   "id": "882a5f7f",
   "metadata": {},
   "outputs": [
    {
     "name": "stdout",
     "output_type": "stream",
     "text": [
      "   P\n",
      "   R\n",
      "   O\n"
     ]
    }
   ],
   "source": [
    "for i in range(len(s)-4):\n",
    "    for m in range(len(s)-1,3,-1):\n",
    "        print(\" \",end=\"\")\n",
    "    print(s[i])"
   ]
  },
  {
   "cell_type": "code",
   "execution_count": 306,
   "id": "d7b1443f",
   "metadata": {},
   "outputs": [
    {
     "ename": "TypeError",
     "evalue": "'int' object is not callable",
     "output_type": "error",
     "traceback": [
      "\u001b[1;31m---------------------------------------------------------------------------\u001b[0m",
      "\u001b[1;31mTypeError\u001b[0m                                 Traceback (most recent call last)",
      "Cell \u001b[1;32mIn[306], line 29\u001b[0m\n\u001b[0;32m     27\u001b[0m \u001b[38;5;66;03m# Driver code\u001b[39;00m\n\u001b[0;32m     28\u001b[0m str1\u001b[38;5;241m=\u001b[39m\u001b[38;5;124m\"\u001b[39m\u001b[38;5;124mGeek\u001b[39m\u001b[38;5;124m\"\u001b[39m\n\u001b[1;32m---> 29\u001b[0m leng\u001b[38;5;241m=\u001b[39m\u001b[38;5;28;43mlen\u001b[39;49m\u001b[43m(\u001b[49m\u001b[43mstr1\u001b[49m\u001b[43m)\u001b[49m\n\u001b[0;32m     30\u001b[0m pattern(str1, leng)\n",
      "\u001b[1;31mTypeError\u001b[0m: 'int' object is not callable"
     ]
    }
   ],
   "source": [
    "def pattern(str, len):\n",
    " \n",
    "    # i and j are the indexes\n",
    "    # of characters to be\n",
    "    # displayed in the ith\n",
    "    # iteration i = 0 initially\n",
    "    # and go upto length of string\n",
    "    # j = length of string initially\n",
    "    # in each iteration of i, we\n",
    "    # increment i and decrement j,\n",
    "    # we print character only of\n",
    "    # k==i or k==j\n",
    "    for i in range(0, len):\n",
    " \n",
    "        j = len - 1 - i\n",
    "        for k in range(0, len):\n",
    " \n",
    "            if (k == i or k == j):\n",
    "                print(str[k],\n",
    "                      end=\"\")\n",
    "            else:\n",
    "                print(end=\" \")\n",
    " \n",
    "        print(\" \")\n",
    " \n",
    " \n",
    "# Driver code\n",
    "str1=\"Geek\"\n",
    "leng=len(str1)\n",
    "pattern(str1, leng)"
   ]
  },
  {
   "cell_type": "code",
   "execution_count": 155,
   "id": "5eea3323",
   "metadata": {},
   "outputs": [
    {
     "name": "stdout",
     "output_type": "stream",
     "text": [
      "Enter the Input:a4b6\n",
      "aaaabbbbbb"
     ]
    }
   ],
   "source": [
    "'''\n",
    "1. Write a program to give the following output for the given input\n",
    "\n",
    "Eg 1: Input: a1b10\n",
    "       Output: abbbbbbbbbb\n",
    "Eg: 2: Input: b3c6d15\n",
    "          Output: bbbccccccddddddddddddddd\n",
    "The number varies from 1 to 99.\n",
    "'''\n",
    "#Imported Regular Expression and String Module\n",
    "import re\n",
    "import string\n",
    "#getting Input from user\n",
    "inputt=input(\"Enter the Input:\")\n",
    "#here we are storing all Alphapetical lower character to list\n",
    "list1=list(string.ascii_lowercase)\n",
    "#print(list1)\n",
    "#we created two Empty list and one Empty string\n",
    "list2=[]\n",
    "list3=[]\n",
    "s=''\n",
    "for i in inputt:\n",
    "    if(i in list1):\n",
    "        #in list3 we storing user given character\n",
    "        list3.append(i)\n",
    "        #in list2 we storing user given number\n",
    "        list2.append(s)\n",
    "        s=''\n",
    "    else:\n",
    "        #here storing user given number\n",
    "        s+=i\n",
    "list2.append(s)\n",
    "#print(list2)\n",
    "#removing all Empty charater in list\n",
    "list2.remove(\"\")\n",
    "#print(list3)\n",
    "#print(list2)\n",
    "for i,j in zip(list3,list2):\n",
    "    if(int(j)<100):\n",
    "        print(i*int(j),end=\"\")\n",
    "    else:\n",
    "        print(\"Please Enter lessthan 100\")\n",
    "\n"
   ]
  },
  {
   "cell_type": "code",
   "execution_count": null,
   "id": "0027dbcf",
   "metadata": {},
   "outputs": [],
   "source": []
  },
  {
   "cell_type": "code",
   "execution_count": null,
   "id": "4dca3b47",
   "metadata": {},
   "outputs": [],
   "source": [
    "'''\n",
    "2. Write a program to sort the elements in odd positions in descending order and elements in ascending order\n",
    "\n",
    "Eg 1: Input: 13,2 4,15,12,10,5\n",
    "        Output: 13,2,12,10,5,15,4\n",
    "Eg 2: Input: 1,2,3,4,5,6,7,8,9\n",
    "        Output: 9,2,7,4,5,6,3,8,1 \n",
    "'''"
   ]
  },
  {
   "cell_type": "code",
   "execution_count": null,
   "id": "d4ff4a53",
   "metadata": {},
   "outputs": [],
   "source": []
  },
  {
   "cell_type": "code",
   "execution_count": 106,
   "id": "815099e2",
   "metadata": {},
   "outputs": [
    {
     "name": "stdout",
     "output_type": "stream",
     "text": [
      "                0 \n",
      "              1 0 1 \n",
      "            2 1 0 1 2 \n",
      "          3 2 1 0 1 2 3 \n",
      "        4 3 2 1 0 1 2 3 4 \n",
      "      5 4 3 2 1 0 1 2 3 4 5 \n",
      "    6 5 4 3 2 1 0 1 2 3 4 5 6 \n",
      "  7 6 5 4 3 2 1 0 1 2 3 4 5 6 7 \n",
      "    6 5 4 3 2 1 0 1 2 3 4 5 6 \n",
      "      5 4 3 2 1 0 1 2 3 4 5 \n",
      "        4 3 2 1 0 1 2 3 4 \n",
      "          3 2 1 0 1 2 3 \n",
      "            2 1 0 1 2 \n",
      "              1 0 1 \n",
      "                0 \n"
     ]
    }
   ],
   "source": [
    "'''Write a program to print the below pattern with the numbers\n",
    "sample:if the input is 5\n",
    "output:\n",
    "          0\n",
    "        1 0 1\n",
    "      2 1 0 1 2\n",
    "    3 2 1 0 1 2 3\n",
    "  4 3 2 1 0 1 2 3 4\n",
    "5 4 3 2 1 0 1 2 3 4 5\n",
    "  4 3 2 1 0 1 2 3 4\n",
    "    3 2 1 0 1 2 3 \n",
    "      2 1 0 1 2 \n",
    "        1 0 1\n",
    "          0\n",
    "          '''\n",
    "       \n",
    "inpp=7\n",
    "for i in range(inpp+1):\n",
    "    for j in range(inpp+1,i,-1):\n",
    "        print(\" \",end=\" \")\n",
    "    for k in range(i,-1,-1):\n",
    "        print(k,end=\" \")\n",
    "    for l in range(1,i+1):\n",
    "        print(l,end=\" \")\n",
    "    print()\n",
    "n=inpp\n",
    "for i in range(inpp):\n",
    "    for j in range(i+2):\n",
    "        print(\" \",end=\" \")\n",
    "    for k in range(n-1,-1,-1):\n",
    "        print(k,end=\" \")\n",
    "    for l in range(1,n):\n",
    "        print(l,end=\" \")\n",
    "    n-=1\n",
    "    print()"
   ]
  },
  {
   "cell_type": "code",
   "execution_count": 213,
   "id": "5bc79b94",
   "metadata": {},
   "outputs": [
    {
     "name": "stdout",
     "output_type": "stream",
     "text": [
      "1111\n",
      "2222\n",
      "3333\n",
      "4444\n",
      "5555\n",
      "6666\n",
      "7777\n",
      "8888\n",
      "9999\n",
      "10101010\n",
      "11111111\n",
      "12121212\n",
      "13131313\n",
      "14141414\n",
      "15151515\n"
     ]
    }
   ],
   "source": [
    "'''\n",
    "write a program to print snake matrix in the following pattern with out using array and if conditions\n",
    "input:4\n",
    "output:\n",
    "               1   2   3   4\n",
    "           8   7   6   5\n",
    "        9  10  11  12 \n",
    "   16  15  14  13\n",
    "'''\n",
    "inputt=4\n",
    "row=inputt\n",
    "cloumn=inputt\n",
    "value=list(range(1,4*4+1))\n",
    "k=1\n",
    "for i in range(1,16):\n",
    "    for j in range(1,5):\n",
    "        print(i,end=\"\")\n",
    "        k+=1\n",
    "    print()"
   ]
  },
  {
   "cell_type": "code",
   "execution_count": null,
   "id": "92f1099e",
   "metadata": {},
   "outputs": [],
   "source": [
    "\n"
   ]
  },
  {
   "cell_type": "code",
   "execution_count": 19,
   "id": "d2197c08",
   "metadata": {},
   "outputs": [
    {
     "name": "stdout",
     "output_type": "stream",
     "text": [
      "UNION: {1, 2, 3, 4, 5, 6, 8, 9}\n",
      "INTERSECTION: [1, 5, 8, 9]\n",
      "Except: [1, 3, 5, 9, 8, 2]\n"
     ]
    }
   ],
   "source": [
    "'''\n",
    "4. Find the union intersection of two list and also find except (remove even \n",
    "elements from list1 and odd elements from list2)\n",
    "Input\n",
    "List 1: 1,3,4,5,6,8,9\n",
    "List 2: 1,5,8,9,2\n",
    "Union: 1,3,4,5,6,8,9,2\n",
    "Intersection: 1,5,8,9\n",
    "Except: 1, 3, 5,9,8,2\n",
    "'''\n",
    "class find:\n",
    "    def __init__(self):\n",
    "        self.listt1=[1,3,4,5,6,8,9]\n",
    "        self.listt2=[1,5,8,9,2]\n",
    "        self.sett1=set(self.listt1)\n",
    "        self.sett2=set(self.listt2)\n",
    "    def union(self):\n",
    "        print(\"UNION:\",self.sett2|self.sett1)\n",
    "        \n",
    "    def intersection(self):\n",
    "        print(\"INTERSECTION:\",sorted(self.sett2&self.sett1))\n",
    "    def except1(self):\n",
    "        list3=[l for l in self.listt1 if l%2!=0]\n",
    "        list4=[l for l in self.listt2 if l%2==0]\n",
    "        print(\"Except:\",list3+list4)\n",
    "f=find()\n",
    "f.union()\n",
    "f.intersection()\n",
    "f.except1()\n",
    "        "
   ]
  },
  {
   "cell_type": "code",
   "execution_count": 47,
   "id": "db91064c",
   "metadata": {},
   "outputs": [
    {
     "name": "stdout",
     "output_type": "stream",
     "text": [
      "Enter the Number of Digit:4\n",
      "Enter the Number:4691\n",
      "The Biggest prime number is: 9641\n"
     ]
    }
   ],
   "source": [
    "'''\n",
    "5. Find the largest possible prime number with given no\n",
    "Input\n",
    "5\n",
    "4691\n",
    "Output:\n",
    "9461\n",
    "'''\n",
    "#getting Input From User\n",
    "No_of_Digit=int(input(\"Enter the Number of Digit:\"))\n",
    "inn=int(input(\"Enter the Number:\"))\n",
    "#checking whether user giving above mentioned Digit or not\n",
    "if(No_of_Digit==len(str(inn))):\n",
    "    if(inn>1):   \n",
    "        #converting user given input to list using list comprehension\n",
    "        list1=[li for li in str(inn)]\n",
    "        #print(list1)\n",
    "        #finding Possible Lowest rearrange number for user input\n",
    "        lowest=\"\".join(sorted(list1))\n",
    "        #print(lowest)\n",
    "        #finding Possible biggest rearrange number for user input\n",
    "        highest=\"\".join(sorted(list1,reverse=True))\n",
    "        #print(highest)\n",
    "        #finding biggest prime number from lowest to highest\n",
    "        prime=0\n",
    "        for i in range(int(lowest),int(highest)+1):\n",
    "            for j in range(2,i):\n",
    "                if i%j!=0:\n",
    "                    prime=i\n",
    "        print(\"The Biggest prime number is:\",prime) \n",
    "    elif(inn==1):\n",
    "        print(\"The Biggest prime number is:\",inn)\n",
    "    else:\n",
    "        print(\"Plese enter 1 or more than 1\")\n",
    "            \n",
    "else:\n",
    "    print(\"Please Enter Above Mentioned Number Of Digit\")\n",
    "\n",
    "    \n"
   ]
  },
  {
   "cell_type": "code",
   "execution_count": 113,
   "id": "5cfae514",
   "metadata": {},
   "outputs": [
    {
     "name": "stdout",
     "output_type": "stream",
     "text": [
      "[['w', 'e', 'L', 'C', 'O'], ['M', 'E', 'T', 'O', 'Z'], ['O', 'H', 'O', 'C', 'O'], ['R', 'P', 'O', 'R', 'A'], ['T', 'I', 'O', 'n']]\n",
      "['w', 'e', 'L', 'C', 'O', 'M', 'E', 'T', 'O', 'Z', 'O', 'H', 'O', 'C', 'O', 'R', 'P', 'O', 'R', 'A', 'T', 'I', 'O', 'n']\n"
     ]
    },
    {
     "ename": "ValueError",
     "evalue": "shape mismatch: objects cannot be broadcast to a single shape.  Mismatch is between arg 0 with shape (5, 5) and arg 1 with shape (3,).",
     "output_type": "error",
     "traceback": [
      "\u001b[1;31m---------------------------------------------------------------------------\u001b[0m",
      "\u001b[1;31mValueError\u001b[0m                                Traceback (most recent call last)",
      "Cell \u001b[1;32mIn[113], line 38\u001b[0m\n\u001b[0;32m     36\u001b[0m ar\u001b[38;5;241m=\u001b[39mnp\u001b[38;5;241m.\u001b[39marray([S1])\n\u001b[0;32m     37\u001b[0m resi\u001b[38;5;241m=\u001b[39mnp\u001b[38;5;241m.\u001b[39mresize(ar,(\u001b[38;5;241m5\u001b[39m,\u001b[38;5;241m5\u001b[39m))\n\u001b[1;32m---> 38\u001b[0m se\u001b[38;5;241m=\u001b[39mnp\u001b[38;5;241m.\u001b[39margwhere(\u001b[43mresi\u001b[49m\u001b[38;5;241;43m==\u001b[39;49m\u001b[43m[\u001b[49m\u001b[38;5;124;43m'\u001b[39;49m\u001b[38;5;124;43mT\u001b[39;49m\u001b[38;5;124;43m'\u001b[39;49m\u001b[43m,\u001b[49m\u001b[38;5;124;43m\"\u001b[39;49m\u001b[38;5;124;43mO\u001b[39;49m\u001b[38;5;124;43m\"\u001b[39;49m\u001b[43m,\u001b[49m\u001b[38;5;124;43m\"\u001b[39;49m\u001b[38;5;124;43mO\u001b[39;49m\u001b[38;5;124;43m\"\u001b[39;49m\u001b[43m]\u001b[49m)\n\u001b[0;32m     39\u001b[0m \u001b[38;5;28mprint\u001b[39m(se)\n",
      "\u001b[1;31mValueError\u001b[0m: shape mismatch: objects cannot be broadcast to a single shape.  Mismatch is between arg 0 with shape (5, 5) and arg 1 with shape (3,)."
     ]
    }
   ],
   "source": [
    "'''\n",
    "3. Save the string “WELCOMETOZOHOCORPORATION” in a two \n",
    "dimensional array and search for substring like “too” in the two \n",
    "dimensional string both from left to right and from top to bottom.\n",
    "w e L C O\n",
    "M E T O Z\n",
    "O H O C O\n",
    "R P O R A\n",
    "T I O n \n",
    "And print the start and ending index as\n",
    "Start index : <1,2>\n",
    "End index: <3, 2>\n",
    "'''\n",
    "import numpy as np\n",
    "import re\n",
    "S=list(\"weLCOMETOZOHOCORPORATIOn\")\n",
    "S1=list(\"weLCOMETOZOHOCORPORATIOn\")\n",
    "rows=5\n",
    "ll=[]\n",
    "ll2=[]\n",
    "i=0\n",
    "length=len(S)\n",
    "while i<length:\n",
    "    if i<5:\n",
    "        ll.append(S[i])\n",
    "        i+=1\n",
    "    else:\n",
    "        ll2.append(ll)\n",
    "        ll=[]\n",
    "        del S[0:5]\n",
    "        i=0\n",
    "        length=len(S)\n",
    "ll2.append(ll) \n",
    "print(ll2)\n",
    "print(S1)\n",
    "ar=np.array([S1])\n",
    "resi=np.resize(ar,(5,5))\n",
    "se=np.argwhere(resi==)\n",
    "print(se)"
   ]
  },
  {
   "cell_type": "code",
   "execution_count": 180,
   "id": "ebd98965",
   "metadata": {},
   "outputs": [
    {
     "name": "stdout",
     "output_type": "stream",
     "text": [
      "The element 9 is found at row 2, column 2.\n"
     ]
    }
   ],
   "source": [
    "import numpy as np\n",
    "\n",
    "# Example 2D NumPy array\n",
    "two_dimensional_array = np.array([\n",
    "    [1, 2, 3],\n",
    "    [4, 5, 6],\n",
    "    [7, 8, 9]\n",
    "])\n",
    "\n",
    "# Find the indices of the element 5 in the 2D array\n",
    "target_element = 9\n",
    "row_indices, col_indices = np.where(two_dimensional_array == target_element)\n",
    "\n",
    "# Print the indices\n",
    "for row_index, col_index in zip(row_indices, col_indices):\n",
    "    print(f\"The element {target_element} is found at row {row_index}, column {col_index}.\")\n"
   ]
  },
  {
   "cell_type": "code",
   "execution_count": 230,
   "id": "6d73fd75",
   "metadata": {},
   "outputs": [
    {
     "name": "stdout",
     "output_type": "stream",
     "text": [
      "6.0\n",
      "36\n"
     ]
    }
   ],
   "source": [
    "import math\n",
    "print(int(math.sqrt(36))\n",
    "print(6**2)"
   ]
  },
  {
   "cell_type": "code",
   "execution_count": 279,
   "id": "b0ef4b1b",
   "metadata": {},
   "outputs": [
    {
     "name": "stdout",
     "output_type": "stream",
     "text": [
      "<(89, 0)><(10, 3)><(54, 3)><(12, 4)><(36, 5)>"
     ]
    }
   ],
   "source": [
    "'''\n",
    "Given a set of numbers like <10, 36, 54,89,12> we want to find sum of \n",
    "weights based on the following conditions\n",
    " 1. 5 if a perfect square\n",
    " 2. 4 if multiple of 4 and divisible by 6\n",
    " 3. 3 if even number\n",
    "And sort the numbers based on the weight and print it as follows\n",
    "<10,its_weight>,<36,its weight><89,its weight>\n",
    "Should display the numbers based on increasing order.\n",
    "'''\n",
    "import math\n",
    "def sum_of_weight(num):\n",
    "    sq=str(math.sqrt(num))\n",
    "    if re.search('^\\d*.0$',sq):\n",
    "        return 5\n",
    "    elif num%4==0 and num%6==0:\n",
    "        return 4\n",
    "    elif num%2==0:\n",
    "        return 3\n",
    "    else:\n",
    "        return 0\n",
    "li=[10,36,54,89,12]\n",
    "dic={}\n",
    "for i in li:\n",
    "    dic.update({i:sum_of_weight(i)})\n",
    "\n",
    "sorted_dic=sorted(dic.items(),key=lambda item:item[1])\n",
    "#print(sorted_dic)\n",
    "for j in range(len(sorted_dic)):\n",
    "    print(f\"<{sorted_dic[j]}>\",end=\"\")"
   ]
  },
  {
   "cell_type": "code",
   "execution_count": 268,
   "id": "8c259dad",
   "metadata": {},
   "outputs": [
    {
     "name": "stdout",
     "output_type": "stream",
     "text": [
      "perfect Squre\n"
     ]
    }
   ],
   "source": [
    "#how to find we given number is perfect squre or not\n",
    "n=str(math.sqrt(36))#or use (36**0.5)\n",
    "if re.search(\"^\\d*.0$\",n):#checking After sqrt operation completed,result is 6.0\n",
    "    print(\"perfect Squre\")\n",
    "else:\n",
    "    print(\"not perfecct squre\")"
   ]
  },
  {
   "cell_type": "code",
   "execution_count": 70,
   "id": "a09a8336",
   "metadata": {},
   "outputs": [
    {
     "name": "stdout",
     "output_type": "stream",
     "text": [
      "[['99' '66' '45']\n",
      " ['56' '76' '34']] 2\n",
      "[['99', '66', '45'], ['56', '76', '34']]\n"
     ]
    }
   ],
   "source": [
    "li=[['99','66','45'],['56','76','34']]\n",
    "aa=np.array(li)\n",
    "print(aa,aa.ndim)\n",
    "print(li)"
   ]
  },
  {
   "cell_type": "code",
   "execution_count": 78,
   "id": "fd675dc3",
   "metadata": {},
   "outputs": [
    {
     "name": "stdout",
     "output_type": "stream",
     "text": [
      "[list(['w', 'e', 'L', 'C', 'O']) list(['M', 'E', 'T', 'O', 'Z'])\n",
      " list(['O', 'H', 'O', 'C', 'O']) list(['R', 'P', 'O', 'R', 'A'])\n",
      " list(['T', 'I', 'O', 'n'])] 1\n",
      "[['w', 'e', 'L', 'C', 'O'], ['M', 'E', 'T', 'O', 'Z'], ['O', 'H', 'O', 'C', 'O'], ['R', 'P', 'O', 'R', 'A'], ['T', 'I', 'O', 'n']]\n",
      "[]\n"
     ]
    }
   ],
   "source": [
    "ss=[['w', 'e', 'L', 'C', 'O'], ['M', 'E', 'T', 'O', 'Z'], ['O', 'H', 'O', 'C', 'O'], ['R', 'P', 'O', 'R', 'A'], ['T', 'I', 'O', 'n']]\n",
    "aa=np.array(ss,dtype=object)\n",
    "print(aa,aa.ndim)\n",
    "print(ss)\n",
    "s=np.argwhere(aa==\"L\")\n",
    "print(s)"
   ]
  },
  {
   "cell_type": "code",
   "execution_count": 87,
   "id": "8d450fca",
   "metadata": {},
   "outputs": [
    {
     "name": "stdout",
     "output_type": "stream",
     "text": [
      "[[0 4]\n",
      " [1 3]\n",
      " [2 0]\n",
      " [2 2]\n",
      " [2 4]\n",
      " [3 2]\n",
      " [4 2]]\n"
     ]
    }
   ],
   "source": [
    "j=np.array([['w', 'e', 'L', 'C', 'O'],\n",
    "       ['M', 'E', 'T', 'O', 'Z'],\n",
    "       ['O', 'H', 'O', 'C', 'O'],\n",
    "       ['R', 'P', 'O', 'R', 'A'],\n",
    "       ['T', 'I', 'O', 'n',' ']],dtype=object)\n",
    "\n",
    "s=np.argwhere(j==\"O\")\n",
    "print(s)\n"
   ]
  },
  {
   "cell_type": "code",
   "execution_count": 3,
   "id": "801bd42b",
   "metadata": {},
   "outputs": [
    {
     "name": "stdout",
     "output_type": "stream",
     "text": [
      "1\n",
      "2\n",
      "3\n",
      "5\n",
      "7\n"
     ]
    }
   ],
   "source": [
    "#how to find 1 to 10 prime number\n",
    "def ppp(v):\n",
    "    if v==1 or v==2:\n",
    "        print(v)\n",
    "    else:\n",
    "        te=2\n",
    "        for i in range(2,v):\n",
    "            if v%i!=0:\n",
    "                te+=1\n",
    "        if te==v:\n",
    "            print(v)\n",
    "for i in range(1,10):\n",
    "    ppp(i)"
   ]
  },
  {
   "cell_type": "code",
   "execution_count": 6,
   "id": "18dfc11a",
   "metadata": {},
   "outputs": [
    {
     "name": "stdout",
     "output_type": "stream",
     "text": [
      "Prime\n"
     ]
    }
   ],
   "source": [
    "#how to find we given number is prime or not\n",
    "n=73\n",
    "te=2\n",
    "for i in range(2,n):\n",
    "    if n%i!=0:\n",
    "        te+=1\n",
    "if te==n:\n",
    "    print(\"Prime\")\n",
    "else:\n",
    "    print(\"not prime\")"
   ]
  },
  {
   "cell_type": "code",
   "execution_count": null,
   "id": "05c1beca",
   "metadata": {},
   "outputs": [],
   "source": []
  }
 ],
 "metadata": {
  "kernelspec": {
   "display_name": "Python 3 (ipykernel)",
   "language": "python",
   "name": "python3"
  },
  "language_info": {
   "codemirror_mode": {
    "name": "ipython",
    "version": 3
   },
   "file_extension": ".py",
   "mimetype": "text/x-python",
   "name": "python",
   "nbconvert_exporter": "python",
   "pygments_lexer": "ipython3",
   "version": "3.10.9"
  }
 },
 "nbformat": 4,
 "nbformat_minor": 5
}
