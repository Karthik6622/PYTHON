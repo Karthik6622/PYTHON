{
 "cells": [
  {
   "cell_type": "markdown",
   "id": "a7b7437f",
   "metadata": {},
   "source": [
    "# Stack-UserDefinedDataStructure"
   ]
  },
  {
   "cell_type": "code",
   "execution_count": 7,
   "id": "7d863df8",
   "metadata": {},
   "outputs": [
    {
     "name": "stdout",
     "output_type": "stream",
     "text": [
      "[10, 20, 30]\n"
     ]
    }
   ],
   "source": [
    "#stack implementation using list\n",
    "stack=[]\n",
    "stack.append(10)\n",
    "stack.append(20)\n",
    "stack.append(30)\n",
    "print(stack)"
   ]
  },
  {
   "cell_type": "code",
   "execution_count": 8,
   "id": "8b88e5dd",
   "metadata": {},
   "outputs": [
    {
     "data": {
      "text/plain": [
       "30"
      ]
     },
     "execution_count": 8,
     "metadata": {},
     "output_type": "execute_result"
    }
   ],
   "source": [
    "stack.pop()"
   ]
  },
  {
   "cell_type": "code",
   "execution_count": 9,
   "id": "8e09aec2",
   "metadata": {},
   "outputs": [
    {
     "data": {
      "text/plain": [
       "20"
      ]
     },
     "execution_count": 9,
     "metadata": {},
     "output_type": "execute_result"
    }
   ],
   "source": [
    "stack.pop()"
   ]
  },
  {
   "cell_type": "code",
   "execution_count": 10,
   "id": "01f4f67d",
   "metadata": {},
   "outputs": [
    {
     "data": {
      "text/plain": [
       "10"
      ]
     },
     "execution_count": 10,
     "metadata": {},
     "output_type": "execute_result"
    }
   ],
   "source": [
    "stack.pop()"
   ]
  },
  {
   "cell_type": "code",
   "execution_count": 11,
   "id": "4b75dd83",
   "metadata": {},
   "outputs": [
    {
     "ename": "IndexError",
     "evalue": "pop from empty list",
     "output_type": "error",
     "traceback": [
      "\u001b[1;31m---------------------------------------------------------------------------\u001b[0m",
      "\u001b[1;31mIndexError\u001b[0m                                Traceback (most recent call last)",
      "Cell \u001b[1;32mIn[11], line 1\u001b[0m\n\u001b[1;32m----> 1\u001b[0m \u001b[43mstack\u001b[49m\u001b[38;5;241;43m.\u001b[39;49m\u001b[43mpop\u001b[49m\u001b[43m(\u001b[49m\u001b[43m)\u001b[49m\n",
      "\u001b[1;31mIndexError\u001b[0m: pop from empty list"
     ]
    }
   ],
   "source": [
    "stack.pop()#because stack is empty"
   ]
  },
  {
   "cell_type": "code",
   "execution_count": 12,
   "id": "46c9f4c6",
   "metadata": {},
   "outputs": [
    {
     "data": {
      "text/plain": [
       "True"
      ]
     },
     "execution_count": 12,
     "metadata": {},
     "output_type": "execute_result"
    }
   ],
   "source": [
    "#checking whether Stack is empty or not\n",
    "len(stack)==0"
   ]
  },
  {
   "cell_type": "code",
   "execution_count": 13,
   "id": "33033d12",
   "metadata": {},
   "outputs": [
    {
     "data": {
      "text/plain": [
       "20"
      ]
     },
     "execution_count": 13,
     "metadata": {},
     "output_type": "execute_result"
    }
   ],
   "source": [
    "#check last element of stack(top element)\n",
    "stack.append(10)\n",
    "stack.append(20)\n",
    "stack[-1]"
   ]
  },
  {
   "cell_type": "code",
   "execution_count": 18,
   "id": "abfbe596",
   "metadata": {},
   "outputs": [
    {
     "name": "stdout",
     "output_type": "stream",
     "text": [
      "Choose one Stack Operation\n",
      "1.push\n",
      "2.Pop\n",
      "3.Display\n",
      "4.Exit:\n",
      "2\n",
      "Stack is Empty!!\n",
      "Choose one Stack Operation\n",
      "1.push\n",
      "2.Pop\n",
      "3.Display\n",
      "4.Exit:\n",
      "1\n",
      "Enter the Element to Add to Stack:50\n",
      "Element 50 added Successfully!!!\n",
      "Choose one Stack Operation\n",
      "1.push\n",
      "2.Pop\n",
      "3.Display\n",
      "4.Exit:\n",
      "1\n",
      "Enter the Element to Add to Stack:30\n",
      "Element 30 added Successfully!!!\n",
      "Choose one Stack Operation\n",
      "1.push\n",
      "2.Pop\n",
      "3.Display\n",
      "4.Exit:\n",
      "1\n",
      "Enter the Element to Add to Stack:20\n",
      "Element 20 added Successfully!!!\n",
      "Choose one Stack Operation\n",
      "1.push\n",
      "2.Pop\n",
      "3.Display\n",
      "4.Exit:\n",
      "3\n",
      "Stack Is: [50, 30, 20]\n",
      "Choose one Stack Operation\n",
      "1.push\n",
      "2.Pop\n",
      "3.Display\n",
      "4.Exit:\n",
      "2\n",
      "20 removed successfully!!!\n",
      "Choose one Stack Operation\n",
      "1.push\n",
      "2.Pop\n",
      "3.Display\n",
      "4.Exit:\n",
      "2\n",
      "30 removed successfully!!!\n",
      "Choose one Stack Operation\n",
      "1.push\n",
      "2.Pop\n",
      "3.Display\n",
      "4.Exit:\n",
      "2\n",
      "50 removed successfully!!!\n",
      "Choose one Stack Operation\n",
      "1.push\n",
      "2.Pop\n",
      "3.Display\n",
      "4.Exit:\n",
      "2\n",
      "Stack is Empty!!\n",
      "Choose one Stack Operation\n",
      "1.push\n",
      "2.Pop\n",
      "3.Display\n",
      "4.Exit:\n",
      "4\n"
     ]
    }
   ],
   "source": [
    "#write a program to implement stack using list\n",
    "stack=[]\n",
    "def push():\n",
    "    add=int(input('Enter the Element to Add to Stack:'))\n",
    "    stack.append(add)\n",
    "    print(f'Element {add} added Successfully!!!')\n",
    "def pop():\n",
    "    if len(stack)==0:\n",
    "          print(\"Stack is Empty!!\")\n",
    "    else:\n",
    "          print(f\"{stack[-1]} removed successfully!!!\")\n",
    "          stack.pop()\n",
    "def display():\n",
    "    print(\"Stack Is:\",stack)\n",
    "while True:\n",
    "    choose=int(input('Choose one Stack Operation\\n1.push\\n2.Pop\\n3.Display\\n4.Exit:\\n'))\n",
    "    if choose==1:\n",
    "        push()\n",
    "    elif choose==2:\n",
    "        pop()\n",
    "    elif choose==3:\n",
    "        display()\n",
    "    elif choose==4:\n",
    "        break\n",
    "    else:\n",
    "        print(\"Please choose proper one!!\")\n",
    "          "
   ]
  },
  {
   "cell_type": "code",
   "execution_count": 20,
   "id": "df515e98",
   "metadata": {},
   "outputs": [
    {
     "name": "stdout",
     "output_type": "stream",
     "text": [
      "Enter The Limitation of Stack:3\n",
      "Choose one Stack Operation\n",
      "1.push\n",
      "2.Pop\n",
      "3.Display\n",
      "4.Exit:\n",
      "2\n",
      "Stack is Empty!!\n",
      "Choose one Stack Operation\n",
      "1.push\n",
      "2.Pop\n",
      "3.Display\n",
      "4.Exit:\n",
      "1\n",
      "Enter the Element to Add to Stack:1\n",
      "Element 1 added Successfully!!!\n",
      "Choose one Stack Operation\n",
      "1.push\n",
      "2.Pop\n",
      "3.Display\n",
      "4.Exit:\n",
      "2\n",
      "1 removed successfully!!!\n",
      "Choose one Stack Operation\n",
      "1.push\n",
      "2.Pop\n",
      "3.Display\n",
      "4.Exit:\n",
      "1\n",
      "Enter the Element to Add to Stack:1\n",
      "Element 1 added Successfully!!!\n",
      "Choose one Stack Operation\n",
      "1.push\n",
      "2.Pop\n",
      "3.Display\n",
      "4.Exit:\n",
      "1\n",
      "Enter the Element to Add to Stack:2\n",
      "Element 2 added Successfully!!!\n",
      "Choose one Stack Operation\n",
      "1.push\n",
      "2.Pop\n",
      "3.Display\n",
      "4.Exit:\n",
      "1\n",
      "Enter the Element to Add to Stack:2\n",
      "Element 2 added Successfully!!!\n",
      "Choose one Stack Operation\n",
      "1.push\n",
      "2.Pop\n",
      "3.Display\n",
      "4.Exit:\n",
      "1\n",
      "Stack limit is full!!\n",
      "Choose one Stack Operation\n",
      "1.push\n",
      "2.Pop\n",
      "3.Display\n",
      "4.Exit:\n",
      "2\n",
      "2 removed successfully!!!\n",
      "Choose one Stack Operation\n",
      "1.push\n",
      "2.Pop\n",
      "3.Display\n",
      "4.Exit:\n",
      "3\n",
      "Stack Is: [1, 2]\n",
      "Choose one Stack Operation\n",
      "1.push\n",
      "2.Pop\n",
      "3.Display\n",
      "4.Exit:\n",
      "2\n",
      "2 removed successfully!!!\n",
      "Choose one Stack Operation\n",
      "1.push\n",
      "2.Pop\n",
      "3.Display\n",
      "4.Exit:\n",
      "3\n",
      "Stack Is: [1]\n",
      "Choose one Stack Operation\n",
      "1.push\n",
      "2.Pop\n",
      "3.Display\n",
      "4.Exit:\n",
      "1\n",
      "Enter the Element to Add to Stack:2\n",
      "Element 2 added Successfully!!!\n",
      "Choose one Stack Operation\n",
      "1.push\n",
      "2.Pop\n",
      "3.Display\n",
      "4.Exit:\n",
      "1\n",
      "Enter the Element to Add to Stack:3\n",
      "Element 3 added Successfully!!!\n",
      "Choose one Stack Operation\n",
      "1.push\n",
      "2.Pop\n",
      "3.Display\n",
      "4.Exit:\n",
      "1\n",
      "Stack limit is full!!\n",
      "Choose one Stack Operation\n",
      "1.push\n",
      "2.Pop\n",
      "3.Display\n",
      "4.Exit:\n",
      "4\n"
     ]
    }
   ],
   "source": [
    "#write a program to implement stack using list and set limitation of stack\n",
    "stack=[]\n",
    "def push():\n",
    "    if limit==len(stack):\n",
    "        print('Stack limit is full!!')\n",
    "    else:\n",
    "        add=int(input('Enter the Element to Add to Stack:'))\n",
    "        stack.append(add)\n",
    "        print(f'Element {add} added Successfully!!!')\n",
    "def pop():\n",
    "    if len(stack)==0:\n",
    "          print(\"Stack is Empty!!\")\n",
    "    else:\n",
    "          print(f\"{stack[-1]} removed successfully!!!\")\n",
    "          stack.pop()\n",
    "def display():\n",
    "    print(\"Stack Is:\",stack)\n",
    "limit=int(input(\"Enter The Limitation of Stack:\"))\n",
    "while True:\n",
    "    choose=int(input('Choose one Stack Operation\\n1.push\\n2.Pop\\n3.Display\\n4.Exit:\\n'))\n",
    "    if choose==1:\n",
    "        push()\n",
    "    elif choose==2:\n",
    "        pop()\n",
    "    elif choose==3:\n",
    "        display()\n",
    "    elif choose==4:\n",
    "        break\n",
    "    else:\n",
    "        print(\"Please choose proper one!!\")\n",
    "          "
   ]
  },
  {
   "cell_type": "code",
   "execution_count": 22,
   "id": "9b078f06",
   "metadata": {},
   "outputs": [
    {
     "name": "stdout",
     "output_type": "stream",
     "text": [
      "deque(['A', 'B', 'C'])\n"
     ]
    }
   ],
   "source": [
    "#stack implementation Using modules:\n",
    "#1st way\n",
    "import collections\n",
    "stack=collections.deque()\n",
    "stack.append('A')\n",
    "stack.append('B')\n",
    "stack.append('C')\n",
    "print(stack)"
   ]
  },
  {
   "cell_type": "code",
   "execution_count": 23,
   "id": "56ff9f6d",
   "metadata": {},
   "outputs": [
    {
     "data": {
      "text/plain": [
       "'C'"
      ]
     },
     "execution_count": 23,
     "metadata": {},
     "output_type": "execute_result"
    }
   ],
   "source": [
    "stack.pop()"
   ]
  },
  {
   "cell_type": "code",
   "execution_count": 24,
   "id": "8c3a25ea",
   "metadata": {},
   "outputs": [
    {
     "data": {
      "text/plain": [
       "'B'"
      ]
     },
     "execution_count": 24,
     "metadata": {},
     "output_type": "execute_result"
    }
   ],
   "source": [
    "stack.pop()"
   ]
  },
  {
   "cell_type": "code",
   "execution_count": 25,
   "id": "20339b09",
   "metadata": {},
   "outputs": [
    {
     "data": {
      "text/plain": [
       "'A'"
      ]
     },
     "execution_count": 25,
     "metadata": {},
     "output_type": "execute_result"
    }
   ],
   "source": [
    "stack.pop()"
   ]
  },
  {
   "cell_type": "code",
   "execution_count": 26,
   "id": "a08668fe",
   "metadata": {},
   "outputs": [
    {
     "ename": "IndexError",
     "evalue": "pop from an empty deque",
     "output_type": "error",
     "traceback": [
      "\u001b[1;31m---------------------------------------------------------------------------\u001b[0m",
      "\u001b[1;31mIndexError\u001b[0m                                Traceback (most recent call last)",
      "Cell \u001b[1;32mIn[26], line 1\u001b[0m\n\u001b[1;32m----> 1\u001b[0m \u001b[43mstack\u001b[49m\u001b[38;5;241;43m.\u001b[39;49m\u001b[43mpop\u001b[49m\u001b[43m(\u001b[49m\u001b[43m)\u001b[49m\n",
      "\u001b[1;31mIndexError\u001b[0m: pop from an empty deque"
     ]
    }
   ],
   "source": [
    "stack.pop()#because stack is empty"
   ]
  },
  {
   "cell_type": "code",
   "execution_count": 27,
   "id": "78b8b2f0",
   "metadata": {},
   "outputs": [
    {
     "data": {
      "text/plain": [
       "True"
      ]
     },
     "execution_count": 27,
     "metadata": {},
     "output_type": "execute_result"
    }
   ],
   "source": [
    "#how to check whether stack is empty or not\n",
    "not stack#if stack empty,it will give result as True"
   ]
  },
  {
   "cell_type": "code",
   "execution_count": 28,
   "id": "ab0bf84b",
   "metadata": {},
   "outputs": [
    {
     "data": {
      "text/plain": [
       "False"
      ]
     },
     "execution_count": 28,
     "metadata": {},
     "output_type": "execute_result"
    }
   ],
   "source": [
    "stack.append(10)\n",
    "stack.append(20)\n",
    "not stack#if stack is not empty it will give result as false"
   ]
  },
  {
   "cell_type": "code",
   "execution_count": 30,
   "id": "63af0a92",
   "metadata": {},
   "outputs": [
    {
     "data": {
      "text/plain": [
       "20"
      ]
     },
     "execution_count": 30,
     "metadata": {},
     "output_type": "execute_result"
    }
   ],
   "source": [
    "#how to find stack top element\n",
    "stack[-1]#20 is the top of the stack"
   ]
  },
  {
   "cell_type": "code",
   "execution_count": 6,
   "id": "613100fb",
   "metadata": {},
   "outputs": [
    {
     "data": {
      "text/plain": [
       "<queue.LifoQueue at 0x160da171a80>"
      ]
     },
     "execution_count": 6,
     "metadata": {},
     "output_type": "execute_result"
    }
   ],
   "source": [
    "#2nd way of using module to implement stack\n",
    "import queue\n",
    "stack1=queue.LifoQueue()\n",
    "stack1.put(100)#to add we use put \n",
    "stack1.put(200)\n",
    "stack1.put(300)\n",
    "stack1#here we can't see the elements"
   ]
  },
  {
   "cell_type": "code",
   "execution_count": 2,
   "id": "edb9fa29",
   "metadata": {},
   "outputs": [
    {
     "data": {
      "text/plain": [
       "300"
      ]
     },
     "execution_count": 2,
     "metadata": {},
     "output_type": "execute_result"
    }
   ],
   "source": [
    "stack1.get()#to remove we use get"
   ]
  },
  {
   "cell_type": "code",
   "execution_count": 3,
   "id": "fc812f51",
   "metadata": {},
   "outputs": [
    {
     "data": {
      "text/plain": [
       "200"
      ]
     },
     "execution_count": 3,
     "metadata": {},
     "output_type": "execute_result"
    }
   ],
   "source": [
    "stack1.get()"
   ]
  },
  {
   "cell_type": "code",
   "execution_count": 4,
   "id": "b9553d76",
   "metadata": {},
   "outputs": [
    {
     "data": {
      "text/plain": [
       "100"
      ]
     },
     "execution_count": 4,
     "metadata": {},
     "output_type": "execute_result"
    }
   ],
   "source": [
    "stack1.get()"
   ]
  },
  {
   "cell_type": "code",
   "execution_count": null,
   "id": "a5410045",
   "metadata": {},
   "outputs": [],
   "source": [
    "stack1.get()#it won't give result because it's waiting for add element to stack"
   ]
  },
  {
   "cell_type": "code",
   "execution_count": 5,
   "id": "8b368322",
   "metadata": {},
   "outputs": [
    {
     "ename": "Empty",
     "evalue": "",
     "output_type": "error",
     "traceback": [
      "\u001b[1;31m---------------------------------------------------------------------------\u001b[0m",
      "\u001b[1;31mEmpty\u001b[0m                                     Traceback (most recent call last)",
      "Cell \u001b[1;32mIn[5], line 1\u001b[0m\n\u001b[1;32m----> 1\u001b[0m \u001b[43mstack1\u001b[49m\u001b[38;5;241;43m.\u001b[39;49m\u001b[43mget\u001b[49m\u001b[43m(\u001b[49m\u001b[43mtimeout\u001b[49m\u001b[38;5;241;43m=\u001b[39;49m\u001b[38;5;241;43m1\u001b[39;49m\u001b[43m)\u001b[49m\n",
      "File \u001b[1;32mC:\\ProgramData\\anaconda3\\lib\\queue.py:179\u001b[0m, in \u001b[0;36mQueue.get\u001b[1;34m(self, block, timeout)\u001b[0m\n\u001b[0;32m    177\u001b[0m         remaining \u001b[38;5;241m=\u001b[39m endtime \u001b[38;5;241m-\u001b[39m time()\n\u001b[0;32m    178\u001b[0m         \u001b[38;5;28;01mif\u001b[39;00m remaining \u001b[38;5;241m<\u001b[39m\u001b[38;5;241m=\u001b[39m \u001b[38;5;241m0.0\u001b[39m:\n\u001b[1;32m--> 179\u001b[0m             \u001b[38;5;28;01mraise\u001b[39;00m Empty\n\u001b[0;32m    180\u001b[0m         \u001b[38;5;28mself\u001b[39m\u001b[38;5;241m.\u001b[39mnot_empty\u001b[38;5;241m.\u001b[39mwait(remaining)\n\u001b[0;32m    181\u001b[0m item \u001b[38;5;241m=\u001b[39m \u001b[38;5;28mself\u001b[39m\u001b[38;5;241m.\u001b[39m_get()\n",
      "\u001b[1;31mEmpty\u001b[0m: "
     ]
    }
   ],
   "source": [
    "stack1.get(timeout=1)#if we wanr result with in 1 second,use timeout keyword"
   ]
  },
  {
   "cell_type": "code",
   "execution_count": 2,
   "id": "09a43265",
   "metadata": {},
   "outputs": [
    {
     "data": {
      "text/plain": [
       "<queue.LifoQueue at 0x1f65ac48640>"
      ]
     },
     "execution_count": 2,
     "metadata": {},
     "output_type": "execute_result"
    }
   ],
   "source": [
    "#we can set limit also here\n",
    "import queue\n",
    "stack=queue.LifoQueue(3)\n",
    "stack.put(0)\n",
    "stack.put(1)\n",
    "stack.put(2)\n",
    "stack"
   ]
  },
  {
   "cell_type": "code",
   "execution_count": null,
   "id": "c5915a4a",
   "metadata": {},
   "outputs": [],
   "source": [
    "stack.put(3)#if we try to add 4 element,it should give error .but instead of error it's waiting for size increase"
   ]
  },
  {
   "cell_type": "code",
   "execution_count": 4,
   "id": "5d15cf7b",
   "metadata": {},
   "outputs": [
    {
     "ename": "Full",
     "evalue": "",
     "output_type": "error",
     "traceback": [
      "\u001b[1;31m---------------------------------------------------------------------------\u001b[0m",
      "\u001b[1;31mFull\u001b[0m                                      Traceback (most recent call last)",
      "Cell \u001b[1;32mIn[4], line 2\u001b[0m\n\u001b[0;32m      1\u001b[0m \u001b[38;5;66;03m#to avoid above issue use timeout\u001b[39;00m\n\u001b[1;32m----> 2\u001b[0m \u001b[43mstack\u001b[49m\u001b[38;5;241;43m.\u001b[39;49m\u001b[43mput\u001b[49m\u001b[43m(\u001b[49m\u001b[38;5;241;43m3\u001b[39;49m\u001b[43m,\u001b[49m\u001b[43mtimeout\u001b[49m\u001b[38;5;241;43m=\u001b[39;49m\u001b[38;5;241;43m1\u001b[39;49m\u001b[43m)\u001b[49m\n",
      "File \u001b[1;32mC:\\ProgramData\\anaconda3\\lib\\queue.py:148\u001b[0m, in \u001b[0;36mQueue.put\u001b[1;34m(self, item, block, timeout)\u001b[0m\n\u001b[0;32m    146\u001b[0m             remaining \u001b[38;5;241m=\u001b[39m endtime \u001b[38;5;241m-\u001b[39m time()\n\u001b[0;32m    147\u001b[0m             \u001b[38;5;28;01mif\u001b[39;00m remaining \u001b[38;5;241m<\u001b[39m\u001b[38;5;241m=\u001b[39m \u001b[38;5;241m0.0\u001b[39m:\n\u001b[1;32m--> 148\u001b[0m                 \u001b[38;5;28;01mraise\u001b[39;00m Full\n\u001b[0;32m    149\u001b[0m             \u001b[38;5;28mself\u001b[39m\u001b[38;5;241m.\u001b[39mnot_full\u001b[38;5;241m.\u001b[39mwait(remaining)\n\u001b[0;32m    150\u001b[0m \u001b[38;5;28mself\u001b[39m\u001b[38;5;241m.\u001b[39m_put(item)\n",
      "\u001b[1;31mFull\u001b[0m: "
     ]
    }
   ],
   "source": [
    "#to avoid above issue use timeout\n",
    "stack.put(3,timeout=1)"
   ]
  },
  {
   "cell_type": "code",
   "execution_count": null,
   "id": "f0eb27c7",
   "metadata": {},
   "outputs": [],
   "source": []
  },
  {
   "cell_type": "code",
   "execution_count": 11,
   "id": "0a9510be",
   "metadata": {},
   "outputs": [
    {
     "name": "stdout",
     "output_type": "stream",
     "text": [
      "Fetched element: 2\n",
      "Fetched element: 1\n",
      "Fetched element: 0\n"
     ]
    }
   ],
   "source": [
    "#how to see the stack element\n",
    "while not stack.empty():\n",
    "    element=stack.get()\n",
    "    print(\"Fetched element:\", element)#here elements will remove also\n",
    "    "
   ]
  },
  {
   "cell_type": "code",
   "execution_count": 17,
   "id": "41be47df",
   "metadata": {},
   "outputs": [
    {
     "data": {
      "text/plain": [
       "True"
      ]
     },
     "execution_count": 17,
     "metadata": {},
     "output_type": "execute_result"
    }
   ],
   "source": [
    "#how to check whether stack is empty or not\n",
    "stack.empty()"
   ]
  },
  {
   "cell_type": "code",
   "execution_count": 18,
   "id": "b8add166",
   "metadata": {},
   "outputs": [
    {
     "ename": "Empty",
     "evalue": "",
     "output_type": "error",
     "traceback": [
      "\u001b[1;31m---------------------------------------------------------------------------\u001b[0m",
      "\u001b[1;31mEmpty\u001b[0m                                     Traceback (most recent call last)",
      "Cell \u001b[1;32mIn[18], line 2\u001b[0m\n\u001b[0;32m      1\u001b[0m \u001b[38;5;66;03m#in stack also we can use block=true,nowait attributes\u001b[39;00m\n\u001b[1;32m----> 2\u001b[0m \u001b[43mstack\u001b[49m\u001b[38;5;241;43m.\u001b[39;49m\u001b[43mget_nowait\u001b[49m\u001b[43m(\u001b[49m\u001b[43m)\u001b[49m\n",
      "File \u001b[1;32mC:\\ProgramData\\anaconda3\\lib\\queue.py:199\u001b[0m, in \u001b[0;36mQueue.get_nowait\u001b[1;34m(self)\u001b[0m\n\u001b[0;32m    193\u001b[0m \u001b[38;5;28;01mdef\u001b[39;00m \u001b[38;5;21mget_nowait\u001b[39m(\u001b[38;5;28mself\u001b[39m):\n\u001b[0;32m    194\u001b[0m     \u001b[38;5;124;03m'''Remove and return an item from the queue without blocking.\u001b[39;00m\n\u001b[0;32m    195\u001b[0m \n\u001b[0;32m    196\u001b[0m \u001b[38;5;124;03m    Only get an item if one is immediately available. Otherwise\u001b[39;00m\n\u001b[0;32m    197\u001b[0m \u001b[38;5;124;03m    raise the Empty exception.\u001b[39;00m\n\u001b[0;32m    198\u001b[0m \u001b[38;5;124;03m    '''\u001b[39;00m\n\u001b[1;32m--> 199\u001b[0m     \u001b[38;5;28;01mreturn\u001b[39;00m \u001b[38;5;28;43mself\u001b[39;49m\u001b[38;5;241;43m.\u001b[39;49m\u001b[43mget\u001b[49m\u001b[43m(\u001b[49m\u001b[43mblock\u001b[49m\u001b[38;5;241;43m=\u001b[39;49m\u001b[38;5;28;43;01mFalse\u001b[39;49;00m\u001b[43m)\u001b[49m\n",
      "File \u001b[1;32mC:\\ProgramData\\anaconda3\\lib\\queue.py:168\u001b[0m, in \u001b[0;36mQueue.get\u001b[1;34m(self, block, timeout)\u001b[0m\n\u001b[0;32m    166\u001b[0m \u001b[38;5;28;01mif\u001b[39;00m \u001b[38;5;129;01mnot\u001b[39;00m block:\n\u001b[0;32m    167\u001b[0m     \u001b[38;5;28;01mif\u001b[39;00m \u001b[38;5;129;01mnot\u001b[39;00m \u001b[38;5;28mself\u001b[39m\u001b[38;5;241m.\u001b[39m_qsize():\n\u001b[1;32m--> 168\u001b[0m         \u001b[38;5;28;01mraise\u001b[39;00m Empty\n\u001b[0;32m    169\u001b[0m \u001b[38;5;28;01melif\u001b[39;00m timeout \u001b[38;5;129;01mis\u001b[39;00m \u001b[38;5;28;01mNone\u001b[39;00m:\n\u001b[0;32m    170\u001b[0m     \u001b[38;5;28;01mwhile\u001b[39;00m \u001b[38;5;129;01mnot\u001b[39;00m \u001b[38;5;28mself\u001b[39m\u001b[38;5;241m.\u001b[39m_qsize():\n",
      "\u001b[1;31mEmpty\u001b[0m: "
     ]
    }
   ],
   "source": [
    "#in stack also we can use block=true,nowait attributes\n",
    "stack.get_nowait()#if we give nowait it won't wait for anything ,if we not give nowait,it will not give error instead of wait"
   ]
  },
  {
   "cell_type": "code",
   "execution_count": 19,
   "id": "2db17677",
   "metadata": {},
   "outputs": [],
   "source": [
    "stack.put(0)"
   ]
  },
  {
   "cell_type": "code",
   "execution_count": 20,
   "id": "bea429d7",
   "metadata": {},
   "outputs": [
    {
     "ename": "Full",
     "evalue": "",
     "output_type": "error",
     "traceback": [
      "\u001b[1;31m---------------------------------------------------------------------------\u001b[0m",
      "\u001b[1;31mFull\u001b[0m                                      Traceback (most recent call last)",
      "Cell \u001b[1;32mIn[20], line 3\u001b[0m\n\u001b[0;32m      1\u001b[0m stack\u001b[38;5;241m.\u001b[39mput(\u001b[38;5;241m2\u001b[39m)\n\u001b[0;32m      2\u001b[0m stack\u001b[38;5;241m.\u001b[39mput(\u001b[38;5;241m1\u001b[39m)\n\u001b[1;32m----> 3\u001b[0m \u001b[43mstack\u001b[49m\u001b[38;5;241;43m.\u001b[39;49m\u001b[43mput\u001b[49m\u001b[43m(\u001b[49m\u001b[38;5;241;43m5\u001b[39;49m\u001b[43m,\u001b[49m\u001b[43mblock\u001b[49m\u001b[38;5;241;43m=\u001b[39;49m\u001b[38;5;28;43;01mTrue\u001b[39;49;00m\u001b[43m,\u001b[49m\u001b[43mtimeout\u001b[49m\u001b[38;5;241;43m=\u001b[39;49m\u001b[38;5;241;43m1\u001b[39;49m\u001b[43m)\u001b[49m\n",
      "File \u001b[1;32mC:\\ProgramData\\anaconda3\\lib\\queue.py:148\u001b[0m, in \u001b[0;36mQueue.put\u001b[1;34m(self, item, block, timeout)\u001b[0m\n\u001b[0;32m    146\u001b[0m             remaining \u001b[38;5;241m=\u001b[39m endtime \u001b[38;5;241m-\u001b[39m time()\n\u001b[0;32m    147\u001b[0m             \u001b[38;5;28;01mif\u001b[39;00m remaining \u001b[38;5;241m<\u001b[39m\u001b[38;5;241m=\u001b[39m \u001b[38;5;241m0.0\u001b[39m:\n\u001b[1;32m--> 148\u001b[0m                 \u001b[38;5;28;01mraise\u001b[39;00m Full\n\u001b[0;32m    149\u001b[0m             \u001b[38;5;28mself\u001b[39m\u001b[38;5;241m.\u001b[39mnot_full\u001b[38;5;241m.\u001b[39mwait(remaining)\n\u001b[0;32m    150\u001b[0m \u001b[38;5;28mself\u001b[39m\u001b[38;5;241m.\u001b[39m_put(item)\n",
      "\u001b[1;31mFull\u001b[0m: "
     ]
    }
   ],
   "source": [
    "stack.put(2)\n",
    "stack.put(1)\n",
    "stack.put(5,block=True,timeout=1)"
   ]
  },
  {
   "cell_type": "code",
   "execution_count": 21,
   "id": "2936650a",
   "metadata": {},
   "outputs": [
    {
     "ename": "Full",
     "evalue": "",
     "output_type": "error",
     "traceback": [
      "\u001b[1;31m---------------------------------------------------------------------------\u001b[0m",
      "\u001b[1;31mFull\u001b[0m                                      Traceback (most recent call last)",
      "Cell \u001b[1;32mIn[21], line 1\u001b[0m\n\u001b[1;32m----> 1\u001b[0m \u001b[43mstack\u001b[49m\u001b[38;5;241;43m.\u001b[39;49m\u001b[43mput_nowait\u001b[49m\u001b[43m(\u001b[49m\u001b[38;5;241;43m5\u001b[39;49m\u001b[43m)\u001b[49m\n",
      "File \u001b[1;32mC:\\ProgramData\\anaconda3\\lib\\queue.py:191\u001b[0m, in \u001b[0;36mQueue.put_nowait\u001b[1;34m(self, item)\u001b[0m\n\u001b[0;32m    185\u001b[0m \u001b[38;5;28;01mdef\u001b[39;00m \u001b[38;5;21mput_nowait\u001b[39m(\u001b[38;5;28mself\u001b[39m, item):\n\u001b[0;32m    186\u001b[0m     \u001b[38;5;124;03m'''Put an item into the queue without blocking.\u001b[39;00m\n\u001b[0;32m    187\u001b[0m \n\u001b[0;32m    188\u001b[0m \u001b[38;5;124;03m    Only enqueue the item if a free slot is immediately available.\u001b[39;00m\n\u001b[0;32m    189\u001b[0m \u001b[38;5;124;03m    Otherwise raise the Full exception.\u001b[39;00m\n\u001b[0;32m    190\u001b[0m \u001b[38;5;124;03m    '''\u001b[39;00m\n\u001b[1;32m--> 191\u001b[0m     \u001b[38;5;28;01mreturn\u001b[39;00m \u001b[38;5;28;43mself\u001b[39;49m\u001b[38;5;241;43m.\u001b[39;49m\u001b[43mput\u001b[49m\u001b[43m(\u001b[49m\u001b[43mitem\u001b[49m\u001b[43m,\u001b[49m\u001b[43m \u001b[49m\u001b[43mblock\u001b[49m\u001b[38;5;241;43m=\u001b[39;49m\u001b[38;5;28;43;01mFalse\u001b[39;49;00m\u001b[43m)\u001b[49m\n",
      "File \u001b[1;32mC:\\ProgramData\\anaconda3\\lib\\queue.py:137\u001b[0m, in \u001b[0;36mQueue.put\u001b[1;34m(self, item, block, timeout)\u001b[0m\n\u001b[0;32m    135\u001b[0m \u001b[38;5;28;01mif\u001b[39;00m \u001b[38;5;129;01mnot\u001b[39;00m block:\n\u001b[0;32m    136\u001b[0m     \u001b[38;5;28;01mif\u001b[39;00m \u001b[38;5;28mself\u001b[39m\u001b[38;5;241m.\u001b[39m_qsize() \u001b[38;5;241m>\u001b[39m\u001b[38;5;241m=\u001b[39m \u001b[38;5;28mself\u001b[39m\u001b[38;5;241m.\u001b[39mmaxsize:\n\u001b[1;32m--> 137\u001b[0m         \u001b[38;5;28;01mraise\u001b[39;00m Full\n\u001b[0;32m    138\u001b[0m \u001b[38;5;28;01melif\u001b[39;00m timeout \u001b[38;5;129;01mis\u001b[39;00m \u001b[38;5;28;01mNone\u001b[39;00m:\n\u001b[0;32m    139\u001b[0m     \u001b[38;5;28;01mwhile\u001b[39;00m \u001b[38;5;28mself\u001b[39m\u001b[38;5;241m.\u001b[39m_qsize() \u001b[38;5;241m>\u001b[39m\u001b[38;5;241m=\u001b[39m \u001b[38;5;28mself\u001b[39m\u001b[38;5;241m.\u001b[39mmaxsize:\n",
      "\u001b[1;31mFull\u001b[0m: "
     ]
    }
   ],
   "source": [
    "stack.put_nowait(5)"
   ]
  },
  {
   "cell_type": "code",
   "execution_count": null,
   "id": "9513eacf",
   "metadata": {},
   "outputs": [],
   "source": []
  }
 ],
 "metadata": {
  "kernelspec": {
   "display_name": "Python 3 (ipykernel)",
   "language": "python",
   "name": "python3"
  },
  "language_info": {
   "codemirror_mode": {
    "name": "ipython",
    "version": 3
   },
   "file_extension": ".py",
   "mimetype": "text/x-python",
   "name": "python",
   "nbconvert_exporter": "python",
   "pygments_lexer": "ipython3",
   "version": "3.10.9"
  }
 },
 "nbformat": 4,
 "nbformat_minor": 5
}
