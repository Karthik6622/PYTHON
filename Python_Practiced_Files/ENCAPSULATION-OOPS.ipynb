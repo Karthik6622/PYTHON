{
 "cells": [
  {
   "cell_type": "markdown",
   "id": "0be2c409",
   "metadata": {},
   "source": [
    "# ENCAPSULATION-OOPS"
   ]
  },
  {
   "cell_type": "code",
   "execution_count": 51,
   "id": "3704df1c",
   "metadata": {},
   "outputs": [
    {
     "name": "stdout",
     "output_type": "stream",
     "text": [
      "X value is: 10\n",
      "10\n",
      "100\n"
     ]
    }
   ],
   "source": [
    "#encapsulation-its help to prevent data\n",
    "# public-defalutly take public only if we declare variable or methods.we can use public variable or method inside and outside the class  and overright the value\n",
    "class public:\n",
    "    def __init__(self,x):\n",
    "        self.x=x#public variable\n",
    "    def show(self):#public method\n",
    "        print(\"X value is:\",self.x)\n",
    "p=public(10)\n",
    "p.show()\n",
    "print(p.x)\n",
    "p.x=100#we have overriteen value,we can do overrite in public\n",
    "print(p.x)"
   ]
  },
  {
   "cell_type": "code",
   "execution_count": 15,
   "id": "0e8ea3f8",
   "metadata": {},
   "outputs": [
    {
     "name": "stdout",
     "output_type": "stream",
     "text": [
      "X value is: 100\n",
      "X value is: 100\n"
     ]
    },
    {
     "ename": "AttributeError",
     "evalue": "'pro2' object has no attribute '_pro2__x'",
     "output_type": "error",
     "traceback": [
      "\u001b[1;31m---------------------------------------------------------------------------\u001b[0m",
      "\u001b[1;31mAttributeError\u001b[0m                            Traceback (most recent call last)",
      "Cell \u001b[1;32mIn[15], line 11\u001b[0m\n\u001b[0;32m      9\u001b[0m p1\u001b[38;5;241m=\u001b[39mpro2()\n\u001b[0;32m     10\u001b[0m p\u001b[38;5;241m=\u001b[39mprivate()\n\u001b[1;32m---> 11\u001b[0m \u001b[43mp1\u001b[49m\u001b[38;5;241;43m.\u001b[39;49m\u001b[43mshow\u001b[49m\u001b[43m(\u001b[49m\u001b[43m)\u001b[49m\n",
      "Cell \u001b[1;32mIn[15], line 8\u001b[0m, in \u001b[0;36mpro2.show\u001b[1;34m(self)\u001b[0m\n\u001b[0;32m      7\u001b[0m \u001b[38;5;28;01mdef\u001b[39;00m \u001b[38;5;21mshow\u001b[39m(\u001b[38;5;28mself\u001b[39m):\n\u001b[1;32m----> 8\u001b[0m     \u001b[38;5;28mprint\u001b[39m(\u001b[38;5;124m\"\u001b[39m\u001b[38;5;124mX value is:\u001b[39m\u001b[38;5;124m\"\u001b[39m,\u001b[38;5;28;43mself\u001b[39;49m\u001b[38;5;241;43m.\u001b[39;49m\u001b[43m__x\u001b[49m)\n",
      "\u001b[1;31mAttributeError\u001b[0m: 'pro2' object has no attribute '_pro2__x'"
     ]
    }
   ],
   "source": [
    "#private-we can use and access only declared class inside and we can't overright private variable value\n",
    "class private:\n",
    "    def __init__(self):\n",
    "        self.__x=100#private variable\n",
    "        print(\"X value is:\",self.__x)\n",
    "class pro2(private):\n",
    "    def show(self):\n",
    "        print(\"X value is:\",self.__x)\n",
    "p1=pro2()\n",
    "p=private()\n",
    "p1.show()#it will throw the error because we can't use outside the class private variable"
   ]
  },
  {
   "cell_type": "code",
   "execution_count": 16,
   "id": "b278249a",
   "metadata": {},
   "outputs": [
    {
     "ename": "AttributeError",
     "evalue": "'pro2' object has no attribute '__x'",
     "output_type": "error",
     "traceback": [
      "\u001b[1;31m---------------------------------------------------------------------------\u001b[0m",
      "\u001b[1;31mAttributeError\u001b[0m                            Traceback (most recent call last)",
      "Cell \u001b[1;32mIn[16], line 1\u001b[0m\n\u001b[1;32m----> 1\u001b[0m \u001b[38;5;28mprint\u001b[39m(\u001b[43mp1\u001b[49m\u001b[38;5;241;43m.\u001b[39;49m\u001b[43m__x\u001b[49m)\n",
      "\u001b[1;31mAttributeError\u001b[0m: 'pro2' object has no attribute '__x'"
     ]
    }
   ],
   "source": [
    "print(p1.__x)#it will throw the error because we can't use outside the class private variable"
   ]
  },
  {
   "cell_type": "code",
   "execution_count": 17,
   "id": "d3684926",
   "metadata": {},
   "outputs": [
    {
     "ename": "AttributeError",
     "evalue": "'private' object has no attribute '__x'",
     "output_type": "error",
     "traceback": [
      "\u001b[1;31m---------------------------------------------------------------------------\u001b[0m",
      "\u001b[1;31mAttributeError\u001b[0m                            Traceback (most recent call last)",
      "Cell \u001b[1;32mIn[17], line 1\u001b[0m\n\u001b[1;32m----> 1\u001b[0m \u001b[38;5;28mprint\u001b[39m(\u001b[43mp\u001b[49m\u001b[38;5;241;43m.\u001b[39;49m\u001b[43m__x\u001b[49m)\n",
      "\u001b[1;31mAttributeError\u001b[0m: 'private' object has no attribute '__x'"
     ]
    }
   ],
   "source": [
    "print(p.__x)#it will throw the error because we can't use outside the class private variable"
   ]
  },
  {
   "cell_type": "code",
   "execution_count": 40,
   "id": "77020fbb",
   "metadata": {},
   "outputs": [
    {
     "ename": "AttributeError",
     "evalue": "'pri' object has no attribute '__privatemethod'",
     "output_type": "error",
     "traceback": [
      "\u001b[1;31m---------------------------------------------------------------------------\u001b[0m",
      "\u001b[1;31mAttributeError\u001b[0m                            Traceback (most recent call last)",
      "Cell \u001b[1;32mIn[40], line 7\u001b[0m\n\u001b[0;32m      5\u001b[0m         \u001b[38;5;28;01mreturn\u001b[39;00m \u001b[38;5;124m\"\u001b[39m\u001b[38;5;124mInside the private method\u001b[39m\u001b[38;5;124m\"\u001b[39m\n\u001b[0;32m      6\u001b[0m pp\u001b[38;5;241m=\u001b[39mpri()\n\u001b[1;32m----> 7\u001b[0m \u001b[43mpp\u001b[49m\u001b[38;5;241;43m.\u001b[39;49m\u001b[43m__privatemethod\u001b[49m()\n",
      "\u001b[1;31mAttributeError\u001b[0m: 'pri' object has no attribute '__privatemethod'"
     ]
    }
   ],
   "source": [
    "#private method and private variable\n",
    "class pri:\n",
    "    __name='karthik'\n",
    "    def __privatemethod(self):\n",
    "        return \"Inside the private method\"\n",
    "pp=pri()\n",
    "pp.__privatemethod()#we can't access private method outside"
   ]
  },
  {
   "cell_type": "code",
   "execution_count": 41,
   "id": "80b0de5b",
   "metadata": {},
   "outputs": [
    {
     "name": "stdout",
     "output_type": "stream",
     "text": [
      "karthik\n",
      "Inside the private method\n"
     ]
    }
   ],
   "source": [
    "#how to access private method and private variable indirectly\n",
    "print(pp._pri__name)\n",
    "print(pp._pri__privatemethod())"
   ]
  },
  {
   "cell_type": "code",
   "execution_count": 62,
   "id": "78dfaf17",
   "metadata": {},
   "outputs": [
    {
     "name": "stdout",
     "output_type": "stream",
     "text": [
      "This is a protected method.\n",
      "This is a public method.\n",
      "42\n",
      "42\n",
      "This is a protected method.\n",
      "None\n",
      "100\n"
     ]
    }
   ],
   "source": [
    "#potected-we can use protected variable and method like a public so python not good for protected modifiers\n",
    "class MyBaseClass:\n",
    "    def __init__(self):\n",
    "        self._protected_variable = 42\n",
    "\n",
    "    def _protected_method(self):\n",
    "        print(\"This is a protected method.\")\n",
    "\n",
    "class MyDerivedClass(MyBaseClass):\n",
    "    def __init__(self):\n",
    "        super().__init__()\n",
    "\n",
    "    def public_method(self):\n",
    "        self._protected_method()\n",
    "        print(\"This is a public method.\")\n",
    "\n",
    "# Create an instance of MyDerivedClass\n",
    "obj = MyDerivedClass()\n",
    "\n",
    "# Access protected method and variable\n",
    "obj.public_method()\n",
    "print(obj._protected_variable)\n",
    "m=MyBaseClass()\n",
    "print(m._protected_variable)\n",
    "print(m._protected_method())\n",
    "m._protected_variable=100\n",
    "print(m._protected_variable)"
   ]
  },
  {
   "cell_type": "code",
   "execution_count": null,
   "id": "ee0ddc49",
   "metadata": {},
   "outputs": [],
   "source": []
  }
 ],
 "metadata": {
  "kernelspec": {
   "display_name": "Python 3 (ipykernel)",
   "language": "python",
   "name": "python3"
  },
  "language_info": {
   "codemirror_mode": {
    "name": "ipython",
    "version": 3
   },
   "file_extension": ".py",
   "mimetype": "text/x-python",
   "name": "python",
   "nbconvert_exporter": "python",
   "pygments_lexer": "ipython3",
   "version": "3.10.9"
  }
 },
 "nbformat": 4,
 "nbformat_minor": 5
}
