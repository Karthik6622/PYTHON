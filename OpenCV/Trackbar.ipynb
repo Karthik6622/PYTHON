{
 "cells": [
  {
   "cell_type": "markdown",
   "id": "b37df4e3",
   "metadata": {},
   "source": [
    "# Trackbar"
   ]
  },
  {
   "cell_type": "code",
   "execution_count": 1,
   "id": "072af1b5",
   "metadata": {},
   "outputs": [],
   "source": [
    "import numpy as np\n",
    "import cv2"
   ]
  },
  {
   "cell_type": "code",
   "execution_count": 7,
   "id": "ce4df3a7",
   "metadata": {},
   "outputs": [
    {
     "name": "stdout",
     "output_type": "stream",
     "text": [
      "40\n",
      "36\n",
      "32\n",
      "28\n",
      "68\n"
     ]
    }
   ],
   "source": [
    "#create empty image using numpy as well as create track bar for that image\n",
    "img=np.zeros([500,500,1],dtype=np.uint8)\n",
    "cv2.imshow(\"Image\",img)\n",
    "#if we track trackbar,this fuction will run and give trackbar value by x \n",
    "def callback(x):\n",
    "    print(x)\n",
    "#creating trackbar\n",
    "cv2.createTrackbar('B','Image',0,200,callback)\n",
    "#'B'-trackbarname\n",
    "#'Image'-image window name\n",
    "#0-trackbar starting value\n",
    "#200-track bar end value\n",
    "#callback-calling the function if trackbar is move.\n",
    "cv2.waitKey()\n",
    "cv2.destroyAllWindows()"
   ]
  },
  {
   "cell_type": "code",
   "execution_count": null,
   "id": "cdee710a",
   "metadata": {},
   "outputs": [],
   "source": [
    "#create 3 trackbar with the name of B,G,R and change the image color by BGR value and make if we click Esc button ,image need be close\n",
    "#creating empty image using numpy\n",
    "empty_image=np.zeros([600,600,3],dtype=np.uint8)\n",
    "def event(x):\n",
    "    #print(x)\n",
    "    #get trackbar value by event() function\n",
    "    b=cv2.getTrackbarPos('B','IMAGE')\n",
    "    g=cv2.getTrackbarPos('G','IMAGE')\n",
    "    r=cv2.getTrackbarPos('R','IMAGE')\n",
    "    #'B'-trackbarname\n",
    "    #'IMAGE'-image window name\n",
    "    #assign bgr color coordinates to image\n",
    "    empty_image[:]=[b,g,r]\n",
    "    cv2.imshow(\"IMAGE\",empty_image)\n",
    "    print(b,g,r)\n",
    "cv2.imshow(\"IMAGE\",empty_image)\n",
    "#creating 3 trackabrs with the name of B,G,R(color coordinats)\n",
    "cv2.createTrackbar('B','IMAGE',0,100,event)\n",
    "cv2.createTrackbar('G','IMAGE',0,100,event)\n",
    "cv2.createTrackbar('R','IMAGE',0,100,event)\n",
    "#IF WE Click 'q' button,opened image will be closed\n",
    "if cv2.waitKey()==ord('q'):\n",
    "    cv2.destroyAllWindows()"
   ]
  },
  {
   "cell_type": "code",
   "execution_count": 3,
   "id": "a7a99897",
   "metadata": {},
   "outputs": [
    {
     "name": "stdout",
     "output_type": "stream",
     "text": [
      "0 0 0\n",
      "0 0 20\n",
      "0 20 20\n",
      "20 20 20\n",
      "20 40 20\n",
      "20 40 40\n",
      "40 40 40\n",
      "40 60 40\n",
      "40 60 60\n",
      "40 60 80\n",
      "40 80 80\n"
     ]
    }
   ],
   "source": [
    "#set on and off switch for above codeing.if switch is on,allow color change on image.if swith is off,image color should not be change.\n",
    "empty_image=np.zeros([600,600,3],dtype=np.uint8)\n",
    "def event(x):\n",
    "    #print(x)\n",
    "    #get trackbar value by event() function\n",
    "    b=cv2.getTrackbarPos('B','IMAGE')\n",
    "    g=cv2.getTrackbarPos('G','IMAGE')\n",
    "    r=cv2.getTrackbarPos('R','IMAGE')\n",
    "    switch=cv2.getTrackbarPos('ON:1/OFF:0','IMAGE')\n",
    "    #'B'-trackbarname\n",
    "    #'IMAGE'-image window name\n",
    "    #assign bgr color coordinates to image\n",
    "    if switch==0:\n",
    "        empty_image[:]=[0,0,0]\n",
    "    else:\n",
    "        empty_image[:]=[b,g,r]\n",
    "        cv2.imshow(\"IMAGE\",empty_image)\n",
    "        print(b,g,r)\n",
    "cv2.imshow(\"IMAGE\",empty_image)\n",
    "#creating 3 trackabrs with the name of B,G,R(color coordinats)\n",
    "cv2.createTrackbar('B','IMAGE',0,100,event)\n",
    "cv2.createTrackbar('G','IMAGE',0,100,event)\n",
    "cv2.createTrackbar('R','IMAGE',0,100,event)\n",
    "#creating on/off trackbar\n",
    "cv2.createTrackbar('ON:1/OFF:0','IMAGE',0,1,event)\n",
    "#IF WE Click esc button,opened image will be closed\n",
    "if cv2.waitKey()==ord('q'):\n",
    "    cv2.destroyAllWindows()"
   ]
  },
  {
   "cell_type": "code",
   "execution_count": 28,
   "id": "0f3eaae5",
   "metadata": {},
   "outputs": [
    {
     "name": "stdout",
     "output_type": "stream",
     "text": [
      "1\n",
      "40\n",
      "80\n",
      "120\n",
      "160\n"
     ]
    }
   ],
   "source": [
    "#display the trackbar number value on image and crate one more track bar with color and grey option.if we selct color,image display as color.if we select grey image shoukd display as gray\n",
    "#reading imgae from system\n",
    "#call back the trackbar\n",
    "def event(x):\n",
    "    print(x)\n",
    "#seetibg name for image window\n",
    "cv2.namedWindow('Image')\n",
    "#creating two track bar(one for number tracking and one more color tracking)\n",
    "cv2.createTrackbar(\"Number\",'Image',0,200,event)\n",
    "switch='color/gray'\n",
    "cv2.createTrackbar(switch,'Image',0,1,event)\n",
    "#while(1)  means it continue looping infinity time untill loop inside terminated\n",
    "while(1):\n",
    "    #reading image from system \n",
    "    img=cv2.imread(\"image.jpg\")\n",
    "    #getting number tracking position by event()\n",
    "    pos=cv2.getTrackbarPos(\"Number\",'Image')\n",
    "    font=cv2.FONT_HERSHEY_COMPLEX\n",
    "    cv2.putText(img,str(pos),(100,100),font,2,(0,0,0),3)\n",
    "    #getting color tracked value by event()\n",
    "    colo=cv2.getTrackbarPos(switch,'Image')\n",
    "    #if color trackbar value is 0,it will going to give same image\n",
    "    if colo==0:\n",
    "        pass#for empty value we use pass keyword \n",
    "    else:\n",
    "        img=cv2.cvtColor(img,cv2.COLOR_BGR2GRAY)\n",
    "    cv2.imshow(\"Image\",img)\n",
    "    #image window going to close if we press 'q' character\n",
    "    if cv2.waitKey(1)==ord('q'):\n",
    "        break\n",
    "cv2.destroyAllWindows()"
   ]
  },
  {
   "cell_type": "code",
   "execution_count": null,
   "id": "d1e99158",
   "metadata": {},
   "outputs": [],
   "source": []
  }
 ],
 "metadata": {
  "kernelspec": {
   "display_name": "Python 3 (ipykernel)",
   "language": "python",
   "name": "python3"
  },
  "language_info": {
   "codemirror_mode": {
    "name": "ipython",
    "version": 3
   },
   "file_extension": ".py",
   "mimetype": "text/x-python",
   "name": "python",
   "nbconvert_exporter": "python",
   "pygments_lexer": "ipython3",
   "version": "3.10.9"
  }
 },
 "nbformat": 4,
 "nbformat_minor": 5
}
