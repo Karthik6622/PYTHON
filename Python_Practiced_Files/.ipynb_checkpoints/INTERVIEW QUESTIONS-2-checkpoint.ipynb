{
 "cells": [
  {
   "cell_type": "markdown",
   "id": "5fe828c5",
   "metadata": {},
   "source": [
    "# INTERVIEW QUESTIONS-2"
   ]
  },
  {
   "cell_type": "markdown",
   "id": "aac2855a",
   "metadata": {},
   "source": [
    "Coding Based Questions\n",
    "Module 1 - Python Fundamentals\n"
   ]
  },
  {
   "cell_type": "code",
   "execution_count": 12,
   "id": "08b9fc94",
   "metadata": {},
   "outputs": [
    {
     "name": "stdout",
     "output_type": "stream",
     "text": [
      "Enter the Number:80\n",
      "The Integer Value is: 80 <class 'int'>\n"
     ]
    }
   ],
   "source": [
    "#Coding 1: Accept numbers from a user\n",
    "#1) Use Python’s built-in function to accept user input\n",
    "#2) Convert user input to the integer type using constructor.\n",
    "class con:\n",
    "    def __init__(self):\n",
    "        try:\n",
    "            inp=int(input(\"Enter the Number:\"))\n",
    "            print(\"The Integer Value is:\",inp,inp.__class__)\n",
    "        except ValueError:\n",
    "            print(\"you Entered String Please Enter number\")\n",
    "            #print(ord(inp))\n",
    "c=con()"
   ]
  },
  {
   "cell_type": "code",
   "execution_count": 4,
   "id": "b6eeb689",
   "metadata": {},
   "outputs": [
    {
     "name": "stdout",
     "output_type": "stream",
     "text": [
      "Enter the Number:5\n",
      "Sum of Squre value is: 55\n",
      "--------------------------------------------------\n"
     ]
    }
   ],
   "source": [
    "'''Coding 2: Implement the Python Program to Sum of \n",
    "squares of first n natural numbers\n",
    "Given a positive integer N. The task is to find 12 + 22 + 32 + ….. + N2\n",
    ".\n",
    "Example Input 1: N = 4\n",
    "Output 1: 30 12 + 22 + 32 + 42 = 1 + 4 + 9 + 16 = 30\n",
    "Example Input 2: N = 5\n",
    "Output 2: 55'''\n",
    "#to find sum of squre\n",
    "inp=int(input((\"Enter the Number:\")))\n",
    "temp=0\n",
    "for i in range(inp+1):\n",
    "    temp+=i**2\n",
    "print(\"Sum of Squre value is:\",temp)\n",
    "print('-'*50)"
   ]
  },
  {
   "cell_type": "code",
   "execution_count": 25,
   "id": "b8a55779",
   "metadata": {},
   "outputs": [
    {
     "name": "stdout",
     "output_type": "stream",
     "text": [
      "Enter the Number:876\n",
      "eight seven six "
     ]
    }
   ],
   "source": [
    "'''Coding 3: Implement the program to convert a \n",
    "number entered by the user into its corresponding \n",
    "number in words.\n",
    "For example:\n",
    "Input: 876\n",
    "Output: 'Eight Seven Six'.\n",
    "(Hint. use dictionary for keys 0-9 and their values as equivalent words.)'''\n",
    "dic1={0:'zero',1:'one',2:'two',3:'three',4:'four',5:'five',6:'six',7:'seven',8:'eight',9:'nine'}\n",
    "inp=int(input(\"Enter the Number:\"))\n",
    "i=0\n",
    "s=str(inp)\n",
    "for i in s:\n",
    "    print(dic1[int(i)],end=\" \")\n"
   ]
  },
  {
   "cell_type": "code",
   "execution_count": 31,
   "id": "b8b873b1",
   "metadata": {},
   "outputs": [
    {
     "name": "stdout",
     "output_type": "stream",
     "text": [
      "Enter the no of element:5\n",
      "Enter the number1:12\n",
      "Enter the number2:35\n",
      "Enter the number3:9\n",
      "Enter the number4:56\n",
      "Enter the number5:24\n",
      "The normal list is [12, 35, 9, 56, 24]\n",
      "The interchanged list is: [24, 35, 9, 56, 12]\n"
     ]
    }
   ],
   "source": [
    "'''\n",
    "Coding 4. Implement the Python program to \n",
    "interchange first and last elements in a list.\n",
    "Example Input 1: [12, 35, 9, 56, 24]\n",
    "Output 1: [24, 35, 9, 56, 12]\n",
    "Example Input 2: [1, 2, 3]\n",
    "Output 2: [3, 2, 1]'''\n",
    "inp=int(input(\"Enter the no of element:\"))\n",
    "li=[]\n",
    "for i in range(inp):\n",
    "    li.append(int(input(\"Enter the number{}:\".format(i+1))))\n",
    "print(\"The normal list is\",li)\n",
    "first=li[0]\n",
    "last=li[-1]\n",
    "li[0]=last\n",
    "li[-1]=first\n",
    "print(\"The interchanged list is:\",li)"
   ]
  },
  {
   "cell_type": "code",
   "execution_count": 35,
   "id": "c3b040d6",
   "metadata": {},
   "outputs": [
    {
     "name": "stdout",
     "output_type": "stream",
     "text": [
      "Enter the no of element:5\n",
      "Enter the number1:20\n",
      "Enter the number2:10\n",
      "Enter the number3:20\n",
      "Enter the number4:1\n",
      "Enter the number5:100\n",
      "The small value is: 1\n"
     ]
    }
   ],
   "source": [
    "'''\n",
    "Coding 5. Implement the Python program to find \n",
    "smallest number in a list.\n",
    "Example Input 1: list1 = [10,20,4]\n",
    "Output 1: 4\n",
    "Example Input 2: list2 = [20,10,20,1,100] \n",
    "Output : 1\n",
    "'''\n",
    "inp=int(input(\"Enter the no of element:\"))\n",
    "li=[]\n",
    "for i in range(inp):\n",
    "    li.append(int(input(\"Enter the number{}:\".format(i+1))))\n",
    "from functools import reduce\n",
    "l=reduce(lambda x,y:x if x<y else y,li)\n",
    "print(\"The small value is:\",l)"
   ]
  },
  {
   "cell_type": "code",
   "execution_count": 39,
   "id": "9402af80",
   "metadata": {},
   "outputs": [
    {
     "name": "stdout",
     "output_type": "stream",
     "text": [
      "Enter the no of element:4\n",
      "Enter the number1:12\n",
      "Enter the number2:14\n",
      "Enter the number3:95\n",
      "Enter the number4:3\n",
      "The Even value in list is: (12, 14)\n",
      "--------------------------------------------------\n",
      "The Even value in list is: [12, 14]\n"
     ]
    }
   ],
   "source": [
    "'''\n",
    "Coding 6: Implement the Python program to print \n",
    "even numbers in a list.\n",
    " Input and Output Specifications:\n",
    " Input: list1 = [2, 7, 5, 64, 14]\n",
    "Output: [2, 64, 14]\n",
    "Input: list2 = [12, 14, 95, 3]'''\n",
    "inp=int(input(\"Enter the no of element:\"))\n",
    "li=[]\n",
    "for i in range(inp):\n",
    "    li.append(int(input(\"Enter the number{}:\".format(i+1))))\n",
    "l=tuple(filter(lambda x:x%2==0,li))\n",
    "print(\"The Even value in list is:\",l)\n",
    "print('-'*50)\n",
    "#using list comprehension\n",
    "l1=[k for k in li if k%2==0]\n",
    "print(\"The Even value in list is:\",l1)"
   ]
  },
  {
   "cell_type": "code",
   "execution_count": 42,
   "id": "350043ba",
   "metadata": {},
   "outputs": [
    {
     "name": "stdout",
     "output_type": "stream",
     "text": [
      "Enter the Number:5\n",
      "1 2 3 4 5 \n",
      "THE SUM VALUE IS: 15\n"
     ]
    }
   ],
   "source": [
    "'''\n",
    "Coding 7: Consider a question of finding the sum \n",
    "of N numbers inputted from the user.\n",
    "Input a number N.\n",
    "Input N numbers are separated by a single space in a line.\n",
    "Examples:\n",
    "Input : \n",
    "5\n",
    "1 2 3 4 5\n",
    "Output :\n",
    "15'''\n",
    "inp=int(input(\"Enter the Number:\"))\n",
    "temp=0\n",
    "for i in range(1,inp+1):\n",
    "    print(i,end=\" \")\n",
    "    temp+=i\n",
    "print()\n",
    "print(\"THE SUM VALUE IS:\",temp)"
   ]
  },
  {
   "cell_type": "code",
   "execution_count": 5,
   "id": "dbe89778",
   "metadata": {},
   "outputs": [
    {
     "name": "stdout",
     "output_type": "stream",
     "text": [
      "Enter the Positive integer value:4\n",
      "4 is a power of two and Ture\n"
     ]
    }
   ],
   "source": [
    "'''\n",
    "Coding 8: Implement the Python program to check if \n",
    "a given positive integer is a power of two.\n",
    "Example Input: 4\n",
    "Example Output : True\n",
    "'''\n",
    "def is_a_power_of_two(n):\n",
    "    if n<=1:\n",
    "        return False\n",
    "    else:\n",
    "        while n>=2:\n",
    "            if(n%2!=0):\n",
    "                return False\n",
    "            else:\n",
    "                n=n//2\n",
    "        return True\n",
    "inp=int(input(\"Enter the Positive integer value:\"))\n",
    "if is_a_power_of_two(inp)==True:\n",
    "    print(f'{inp} is a power of two and Ture')\n",
    "else:\n",
    "    print(f'{inp} is not a power of two and False')\n",
    "          "
   ]
  },
  {
   "cell_type": "code",
   "execution_count": 18,
   "id": "91c5b1fc",
   "metadata": {},
   "outputs": [
    {
     "name": "stdout",
     "output_type": "stream",
     "text": [
      "5\n",
      "--------------------------------------------------\n",
      "no missing number\n"
     ]
    }
   ],
   "source": [
    "'''\n",
    "Coding 9: Implement the Python program to find a \n",
    "missing number from a list.\n",
    " Input and Output Specifications:\n",
    "Input : [1,2,3,4,6,7,8]\n",
    "Output : 5'''\n",
    "#using for loop-in forloop we could not perform reverse order so i have used while loop\n",
    "list1=[1,2,3,4,6,7,8]\n",
    "start=list1[0]\n",
    "end=list1[-1]\n",
    "for i in range(start,end):\n",
    "    if (i not in list1) == True:\n",
    "            print(i)\n",
    "print('-'*50)\n",
    "#using while we can display missing number in accending order and decending order and if we are not put missing number means,it will tell that also\n",
    "list1=[10,11,12,13,14,15]\n",
    "\n",
    "#list1=[100,99,96]#output#98\n",
    "                         #97\n",
    "if (list1==sorted(list1)) or (list1==sorted(list1,reverse=True)):\n",
    "    start=list1[0]\n",
    "    end=list1[-1]\n",
    "    length=end-start\n",
    "    length+=1\n",
    "    if start<end:\n",
    "        k=0\n",
    "        length=end-start\n",
    "        length+=1\n",
    "        ii=start\n",
    "        while ii<=end:\n",
    "            if (ii not in list1) == True:\n",
    "                print(ii)\n",
    "            else:\n",
    "                k+=1\n",
    "            ii+=1\n",
    "    elif start>end:\n",
    "        ii=start\n",
    "        k=0\n",
    "        length=start-end\n",
    "        length+=1\n",
    "        while ii>=end:\n",
    "            if (ii not in list1) == True:\n",
    "                print(ii)\n",
    "            else:\n",
    "                k+=1\n",
    "            ii-=1\n",
    "    else:\n",
    "        print(\"first value and not value shoud not be equal\")\n",
    "    if(k>=length):\n",
    "        print(\"no missing number\")\n",
    "else:\n",
    "    print(\"please enter proper accending order or decending order value as a input\")"
   ]
  },
  {
   "cell_type": "code",
   "execution_count": 33,
   "id": "3438f565",
   "metadata": {},
   "outputs": [
    {
     "name": "stdout",
     "output_type": "stream",
     "text": [
      "[5]\n",
      "--------------------------------------------------\n",
      "[9, 8]\n"
     ]
    }
   ],
   "source": [
    "'''\n",
    "Coding 10: Implement the Python program to find \n",
    "missing numbers from a list.\n",
    "Input and Output Specifications:\n",
    "Input : [1,2,3,4,6,7,10]\n",
    "Output : [5, 8, 9]'''#it's same like a previous program but here we need to display output as list format\n",
    "#using for loop-in forloop we could not perform reverse order so i have used while loop\n",
    "list1=[1,2,3,4,6,7,8]\n",
    "start=list1[0]\n",
    "end=list1[-1]\n",
    "ll=[]\n",
    "for i in range(start,end):\n",
    "    if (i not in list1) == True:\n",
    "            ll.append(i)\n",
    "print(ll)\n",
    "print('-'*50)\n",
    "#using while we can display missing number in accending order and decending order and if we are not put missing number means,it will tell that also\n",
    "list1=[10,7]\n",
    "#list1=[100,99,96]#output#98\n",
    "                         #97\n",
    "ll=[]\n",
    "if (list1==sorted(list1)) or (list1==sorted(list1,reverse=True)):\n",
    "    start=list1[0]\n",
    "    end=list1[-1]\n",
    "    length=end-start\n",
    "    length+=1\n",
    "    if start<end:\n",
    "        k=0\n",
    "        length=end-start\n",
    "        length+=1\n",
    "        ii=start\n",
    "        while ii<=end:\n",
    "            if (ii not in list1) == True:\n",
    "                ll.append(ii)\n",
    "            else:\n",
    "                k+=1\n",
    "            ii+=1\n",
    "        if(len(ll)!=0): \n",
    "            print(ll)\n",
    "    elif start>end:\n",
    "        ii=start\n",
    "        k=0\n",
    "        length=start-end\n",
    "        length+=1\n",
    "        while ii>=end:\n",
    "            if (ii not in list1) == True:\n",
    "                ll.append(ii)\n",
    "            else:\n",
    "                k+=1\n",
    "            ii-=1\n",
    "        if(len(ll)!=0): \n",
    "            print(ll)\n",
    "    else:\n",
    "        print(\"first value and not value shoud not be equal\")\n",
    "    if(k>=length):\n",
    "        print(\"no missing number\")\n",
    "else:\n",
    "    print(\"please enter proper accending order or decending order value as a input\")"
   ]
  },
  {
   "cell_type": "markdown",
   "id": "95fa5620",
   "metadata": {},
   "source": [
    "# Module 3 - Program Control Flow\n"
   ]
  },
  {
   "cell_type": "code",
   "execution_count": 64,
   "id": "846079be",
   "metadata": {},
   "outputs": [
    {
     "name": "stdout",
     "output_type": "stream",
     "text": [
      "Enter the starting value:-4\n",
      "Enter the step value:5\n",
      "-4 -3 -2 -1 "
     ]
    }
   ],
   "source": [
    "'''\n",
    "Coding 1: Implement the Python program to print \n",
    "all negative numbers in a range.\n",
    "For Examples:\n",
    "Input 1: start = -4, end = 5\n",
    "Output 1: -4, -3, -2, -1\n",
    "Input 1: start = -3, end = 4\n",
    "Output 2: -3, -2, -1\n",
    "'''\n",
    "start=int(input(\"Enter the starting value:\"))\n",
    "if (str(start).startswith(\"-\")==True or start<0):\n",
    "    end=int(input(\"Enter the step value:\"))\n",
    "    for i in range(end-1):\n",
    "        if start<end:\n",
    "            print(start,end=\" \")\n",
    "            start+=1\n",
    "else:\n",
    "    print(\"Plese enter negative value\")"
   ]
  },
  {
   "cell_type": "code",
   "execution_count": null,
   "id": "26caa58e",
   "metadata": {},
   "outputs": [],
   "source": [
    "'''\n",
    "Coding 2: Implement the Python program to Count \n",
    "pairs with given sum\n",
    "Input: arr[] = {1, 5, 7, -1}, \n",
    " Sum = 6\n",
    "Output : 2\n",
    "Pairs with sum 6 are (1, 5) and (7, -1)\n",
    "'''\n",
    "list1=[1,5,7,-1]\n"
   ]
  },
  {
   "cell_type": "code",
   "execution_count": 66,
   "id": "94c3a863",
   "metadata": {},
   "outputs": [
    {
     "name": "stdout",
     "output_type": "stream",
     "text": [
      "Enter the Age:35\n",
      "You are eligible to vote\n"
     ]
    }
   ],
   "source": [
    "'''\n",
    "Coding 3: Implement the Python program to \n",
    "Determine the whether a person is eligible to vote \n",
    "Input and Output Specifications:\n",
    "Input: 35\n",
    "Output: You are eligible to vote\n",
    "\n",
    "'''\n",
    "vote=int(input(\"Enter the Age:\"))\n",
    "if(vote>=18):\n",
    "    print(\"You are eligible to vote\")\n",
    "else:\n",
    "    print(\"You are not eligible to vote\")"
   ]
  },
  {
   "cell_type": "code",
   "execution_count": 71,
   "id": "c7606762",
   "metadata": {},
   "outputs": [
    {
     "name": "stdout",
     "output_type": "stream",
     "text": [
      "Enter the Age:10\n",
      "You are not eligible to vote you need to wait still 8 years\n"
     ]
    }
   ],
   "source": [
    "'''\n",
    "Coding 4: Implement the Python program to \n",
    "Determine whether a person is eligible to vote or not. \n",
    "If he is not eligible, display how many years are left to \n",
    "be eligible.\n",
    "Example Input 1: 10\n",
    "Output 1: You have to wait for another 8 years to cast your vote\n",
    "Example Input 2: 18\n",
    "Output 2: You are eligible to vote\n",
    "'''\n",
    "vote=int(input(\"Enter the Age:\"))\n",
    "if(vote>=18):\n",
    "    print(\"You are eligible to vote\")\n",
    "else:\n",
    "    left=18-vote\n",
    "    print(f\"You are not eligible to vote you need to wait still {left} years\")"
   ]
  },
  {
   "cell_type": "code",
   "execution_count": 73,
   "id": "ebd13239",
   "metadata": {},
   "outputs": [
    {
     "name": "stdout",
     "output_type": "stream",
     "text": [
      "Enter the Number:122\n",
      "122 is even\n"
     ]
    }
   ],
   "source": [
    "'''\n",
    "Coding 5: Implement the Python program to find \n",
    "whether the given number is even or odd.\n",
    "Input and Output Specifications:\n",
    "Input 1: 125\n",
    "Output 1: 125 is odd\n",
    "Input 2: 122\n",
    "Output 2: 122 is even\n",
    "'''\n",
    "inp=int(input(\"Enter the Number:\"))\n",
    "if inp%2==0:\n",
    "    print(inp, \"is even\")\n",
    "else:\n",
    "    print(inp, \"is odd\")"
   ]
  },
  {
   "cell_type": "code",
   "execution_count": 4,
   "id": "c6b0af1e",
   "metadata": {},
   "outputs": [
    {
     "name": "stdout",
     "output_type": "stream",
     "text": [
      "The sum value of first 10 numbers is: 55\n",
      "The Average value of first 10 numbers is: [5.5]\n"
     ]
    }
   ],
   "source": [
    "'''\n",
    "Coding 6: Implement the Python program to calculate \n",
    "the sum and average of first 10 numbers.\n",
    "Sample Input: 55\n",
    "Sample Output: 5.5\n",
    "'''\n",
    "#first 10 numbers\n",
    "li=[l for l in range(1,10+1)]\n",
    "#print(li)\n",
    "#finding sum and avg\n",
    "from functools import reduce\n",
    "sum=reduce(lambda x,y:x+y,li)\n",
    "#print(type(sum))\n",
    "print(\"The sum value of first 10 numbers is:\",sum)\n",
    "average=list(map(lambda x:x/10,[sum]))#sum variable is integer so we used squre bracket to change list\n",
    "print(\"The Average value of first 10 numbers is:\",average)"
   ]
  },
  {
   "cell_type": "code",
   "execution_count": 20,
   "id": "a8e31d26",
   "metadata": {},
   "outputs": [
    {
     "name": "stdout",
     "output_type": "stream",
     "text": [
      "Enter the Number:908\n",
      "17\n",
      "--------------------------------------------------\n",
      "17\n"
     ]
    }
   ],
   "source": [
    "'''\n",
    "Coding 7: Implement the Python program to Enter a \n",
    "number and than calculate the sum of its digits.\n",
    "Input 1: 123\n",
    "Output 1: The sum of digits = 6\n",
    "'''\n",
    "#without type conversion\n",
    "inp=int(input(\"Enter the Number:\"))\n",
    "temp=inp\n",
    "sum_of_digit=0\n",
    "while inp>0:\n",
    "    last=inp%10 #to get last digit\n",
    "    sum_of_digit+=last\n",
    "    inp=inp//10 #to remove last digit\n",
    "print(sum_of_digit)\n",
    "print('-'*50)\n",
    "#with type conversion\n",
    "sum1=0\n",
    "for i in str(temp):\n",
    "    sum1+=int(i)\n",
    "print(sum1)"
   ]
  },
  {
   "cell_type": "code",
   "execution_count": 33,
   "id": "049b1b3d",
   "metadata": {},
   "outputs": [
    {
     "name": "stdout",
     "output_type": "stream",
     "text": [
      "Enter the value:k\n",
      "You enter value is lowercase character\n"
     ]
    }
   ],
   "source": [
    "'''\n",
    "Coding 8: Implement the Python program to take \n",
    "input from the user and then check whether it is a \n",
    "number or a character. If it is a character, determine \n",
    "whether it is in uppercase or lowercase.\n",
    "Input and Output Specifications:\n",
    "Input 1: c\n",
    "Output 1: Uppercase character was entered\n",
    "'''\n",
    "inp=input(\"Enter the value:\")\n",
    "if(inp.isdigit()==True):\n",
    "    print(\"You enter value is number\")\n",
    "elif(inp.isalpha()==True and inp.islower()==True):\n",
    "    print(\"You enter value is lowercase character\")\n",
    "elif(inp.isalpha()==True and inp.isupper()==True):\n",
    "    print(\"You enter value is uppercase character\")\n",
    "else:\n",
    "    print(\"please enter number or character\")"
   ]
  },
  {
   "cell_type": "code",
   "execution_count": 38,
   "id": "5784e397",
   "metadata": {},
   "outputs": [
    {
     "name": "stdout",
     "output_type": "stream",
     "text": [
      "Large= 500\n"
     ]
    }
   ],
   "source": [
    "'''Coding 9: Python program to find larger of two \n",
    "number.\n",
    " Input 1: a = 50 b=30\n",
    " Output 1: Large = 50'''\n",
    "big=lambda x,y:x if x>y else y\n",
    "print(\"Large=\",big(500,30))\n"
   ]
  },
  {
   "cell_type": "code",
   "execution_count": 45,
   "id": "08db16b9",
   "metadata": {},
   "outputs": [
    {
     "name": "stdout",
     "output_type": "stream",
     "text": [
      "Enter the Number:-1\n",
      "The number is negative\n"
     ]
    }
   ],
   "source": [
    "'''\n",
    "Coding 10: Python program to test whether a number \n",
    "entered by the user is negative, positive, or equal to \n",
    "zero.\n",
    " Input 1: -10\n",
    " Output 1: the number is negative\n",
    "'''\n",
    "inp=int(input(\"Enter the Number:\"))\n",
    "if(inp>=0):\n",
    "    if(inp==0):\n",
    "        print(\"The number is Zero\")\n",
    "    else:\n",
    "        print(\"The number is positive\")\n",
    "else:\n",
    "    print(\"The number is negative\")"
   ]
  },
  {
   "cell_type": "code",
   "execution_count": 52,
   "id": "73732778",
   "metadata": {},
   "outputs": [
    {
     "name": "stdout",
     "output_type": "stream",
     "text": [
      "Enter the character:U\n",
      "U is a vowel\n"
     ]
    }
   ],
   "source": [
    "'''\n",
    "Coding 11: Python program to determine whether \n",
    "the character entered is a vowel or not.\n",
    "Input and Output Specifications:\n",
    " Input 1: h\n",
    " Output 1: h is not a vowel\n",
    "'''\n",
    "inp=input(\"Enter the character:\")\n",
    "if(inp>='a' and inp<='z' or inp>='A' and inp<='Z'):\n",
    "    if(inp=='a' or inp=='A' or inp=='e' or inp=='E' or inp=='i' or inp=='I' or inp=='o' or inp=='O' or inp=='u' or inp=='U'):\n",
    "        print(inp,\"is a vowel\")\n",
    "    else:\n",
    "        print(inp,\"is not a vowel\")\n",
    "else:\n",
    "    print(\"Please enter the character\")"
   ]
  },
  {
   "cell_type": "code",
   "execution_count": 80,
   "id": "80ff0568",
   "metadata": {},
   "outputs": [
    {
     "name": "stdout",
     "output_type": "stream",
     "text": [
      "Enter the fibonaci position to get number:20\n",
      "The 20 position fibonaci value is:[6765]\n"
     ]
    }
   ],
   "source": [
    "'''\n",
    "Page 13\n",
    "Coding 12: Implement the Python Program for n-th \n",
    "Fibonacci number.\n",
    "Fn = Fn-1 + Fn-2\n",
    "with seed values\n",
    "F0 = 0 and F1 = 1.\n",
    "'''\n",
    "inp=int(input(\"Enter the fibonaci position to get number:\"))\n",
    "x=0\n",
    "y=1\n",
    "temp=0\n",
    "li=[]\n",
    "li.extend([x,y])\n",
    "for i in range(inp-1):\n",
    "    temp=x+y\n",
    "    x=y\n",
    "    y=temp\n",
    "    li.append(y)\n",
    "#print(li)\n",
    "l=[k for k in li if k==li[inp]]\n",
    "print(f'The {inp} position fibonaci value is:{l}')"
   ]
  },
  {
   "cell_type": "code",
   "execution_count": 84,
   "id": "b1a620fb",
   "metadata": {},
   "outputs": [
    {
     "name": "stdout",
     "output_type": "stream",
     "text": [
      "*****\n",
      "*****\n",
      "*****\n",
      "*****\n",
      "*****\n"
     ]
    }
   ],
   "source": [
    "'''\n",
    "Coding 13: Python program to print the following \n",
    "square Pattern.\n",
    "Output:\n",
    "*****\n",
    "*****\n",
    "*****\n",
    "*****\n",
    "*****\n",
    "Coding 14: Python program to print the following \n",
    "Hallow square Patter\n",
    "'''\n",
    "for i in range(5):\n",
    "    for j in range(5):\n",
    "        print('*',end=\"\")\n",
    "    print()"
   ]
  },
  {
   "cell_type": "code",
   "execution_count": 91,
   "id": "e5bb4397",
   "metadata": {},
   "outputs": [
    {
     "name": "stdout",
     "output_type": "stream",
     "text": [
      "*****\n",
      "* *  \n",
      "* *  \n",
      "* *  \n",
      "*****\n"
     ]
    }
   ],
   "source": [
    "'''\n",
    "Coding 14: Python program to print the following \n",
    "Hallow square Pattern.\n",
    "Output: \n",
    "*****\n",
    "* *\n",
    "* *\n",
    "* *\n",
    "*****\n",
    "'''\n",
    "for i in range(5):\n",
    "    for j in range(5):\n",
    "        if(i==0 or i==4):\n",
    "            print('*',end=\"\")\n",
    "        elif(j==0 or j==2):\n",
    "            print('*',end=\"\")\n",
    "        else:\n",
    "            print(\" \",end=\"\")\n",
    "    print()"
   ]
  },
  {
   "cell_type": "code",
   "execution_count": 110,
   "id": "22d41d41",
   "metadata": {},
   "outputs": [
    {
     "name": "stdout",
     "output_type": "stream",
     "text": [
      "\n",
      "*\n",
      "**\n",
      "***\n",
      "****\n",
      "*****\n",
      "--------------------------------------------------\n",
      "*\n",
      "**\n",
      "***\n",
      "****\n",
      "*****\n"
     ]
    }
   ],
   "source": [
    "'''\n",
    "Coding 15: Python program to print the following Left \n",
    "Triangle Star Pattern.\n",
    "Output:\n",
    "*\n",
    "**\n",
    "***\n",
    "****\n",
    "*****\n",
    "'''\n",
    "for i in range(6):\n",
    "    for j in range(i):\n",
    "        print('*',end=\"\")\n",
    "    print()\n",
    "#another way\n",
    "print('-'*50)\n",
    "for i in range(5):\n",
    "    for j in range(5):\n",
    "        if(i>=j):\n",
    "            print('*',end='')\n",
    "    print()"
   ]
  },
  {
   "cell_type": "code",
   "execution_count": 137,
   "id": "5bf1b9cd",
   "metadata": {},
   "outputs": [
    {
     "name": "stdout",
     "output_type": "stream",
     "text": [
      "     *\n",
      "    **\n",
      "   ***\n",
      "  ****\n",
      " *****\n"
     ]
    }
   ],
   "source": [
    "'''\n",
    "Coding 16: Python program to print the following\n",
    "Right Triangle Star Pattern.\n",
    "Output: \n",
    "    *\n",
    "   **\n",
    "  ***\n",
    " ****\n",
    "*****\n",
    "'''\n",
    "j=5\n",
    "for i in range(1,5+1):\n",
    "    for j in range(1,j+1):\n",
    "        print(' ',end='')\n",
    "    for k in range(1,i+1):\n",
    "        print('*',end='')\n",
    "    j-=1\n",
    "    print()"
   ]
  },
  {
   "cell_type": "code",
   "execution_count": 146,
   "id": "60529171",
   "metadata": {},
   "outputs": [
    {
     "name": "stdout",
     "output_type": "stream",
     "text": [
      "*****\n",
      "****\n",
      "***\n",
      "**\n",
      "*\n"
     ]
    }
   ],
   "source": [
    "'''\n",
    "Coding 17: Python program to print the following Left \n",
    "Downward Triangle Star Pattern.\n",
    "Output:\n",
    "*****\n",
    "****\n",
    "***\n",
    "**\n",
    "*\n",
    "'''\n",
    "for i in range(5):\n",
    "    for j in range(5):\n",
    "        if(i<=j):\n",
    "            print('*',end=\"\")\n",
    "    print()"
   ]
  },
  {
   "cell_type": "code",
   "execution_count": 149,
   "id": "8a2a9e9c",
   "metadata": {},
   "outputs": [
    {
     "name": "stdout",
     "output_type": "stream",
     "text": [
      " *****\n",
      "  ****\n",
      "   ***\n",
      "    **\n",
      "     *\n"
     ]
    }
   ],
   "source": [
    "'''\n",
    "Coding 18: Python program to print the following\n",
    "Right Downward Triangle Star Pattern.\n",
    "Output: \n",
    "*****\n",
    " ****\n",
    "  ***\n",
    "   **\n",
    "    *\n",
    "'''\n",
    "temp=5\n",
    "for i in range(1,5+1):\n",
    "    for j in range(i):\n",
    "        print(' ',end=\"\")       \n",
    "    for k in range(1,temp+1):\n",
    "            print('*',end=\"\")\n",
    "    temp-=1\n",
    "    print()"
   ]
  },
  {
   "cell_type": "code",
   "execution_count": 181,
   "id": "8ab1cb77",
   "metadata": {},
   "outputs": [
    {
     "name": "stdout",
     "output_type": "stream",
     "text": [
      "    *\n",
      "   ***\n",
      "  *****\n",
      " *******\n",
      "*********\n"
     ]
    }
   ],
   "source": [
    "'''\n",
    "Coding 19: Python program to print the following\n",
    "Pyramid Pattern.\n",
    "Output:\n",
    "    *\n",
    "   ***\n",
    "  *****\n",
    " *******\n",
    "*********\n",
    "'''\n",
    "rows = 5\n",
    "for i in range(1,5+1):\n",
    "    for j in range(5):\n",
    "        if(i<=j):\n",
    "            print(' ',end=\"\")\n",
    "    for k in range(1,2*i):\n",
    "        print('*',end=\"\")\n",
    "    print()\n"
   ]
  },
  {
   "cell_type": "code",
   "execution_count": 211,
   "id": "8093c633",
   "metadata": {},
   "outputs": [
    {
     "name": "stdout",
     "output_type": "stream",
     "text": [
      "     *\n",
      "    * *\n",
      "   *   *\n",
      "  *     *\n",
      " *********\n"
     ]
    }
   ],
   "source": [
    "'''\n",
    "Coding 20: Python program to print the following\n",
    "Hallow Pyramid Pattern.\n",
    "Output:\n",
    "    *\n",
    "   * *\n",
    "  *   *\n",
    " *     *\n",
    "*********\n",
    "'''\n",
    "for i in range(1,5+1):\n",
    "    for j in range(1,5+1):\n",
    "        if i<=j:\n",
    "            print(\" \",end=\"\")\n",
    "    for k in range(1,i*2):\n",
    "        if(k==1 or i==5 or k==i*2-1):\n",
    "            print(\"*\",end=\"\")\n",
    "        else:\n",
    "            print(\" \",end=\"\")\n",
    "    print()"
   ]
  },
  {
   "cell_type": "code",
   "execution_count": 25,
   "id": "3379ab4f",
   "metadata": {},
   "outputs": [
    {
     "name": "stdout",
     "output_type": "stream",
     "text": [
      " *********\n",
      "  *******\n",
      "   *****\n",
      "    ***\n",
      "     *\n"
     ]
    }
   ],
   "source": [
    "'''\n",
    "Coding 21: Python program to print the following\n",
    "Reverse Pyramid Pattern.\n",
    "Output:\n",
    "*********\n",
    " *******\n",
    "  *****\n",
    "   ***\n",
    "    *\n",
    "'''\n",
    "for i in range(1,5+1):\n",
    "    for j in range(1,5+1):\n",
    "        if(i>=j):\n",
    "            print(' ',end=\"\")\n",
    "    for k in range(11,i*2,-1):\n",
    "        print('*',end=\"\")\n",
    "    print()"
   ]
  },
  {
   "cell_type": "code",
   "execution_count": 219,
   "id": "de4fd95e",
   "metadata": {},
   "outputs": [
    {
     "name": "stdout",
     "output_type": "stream",
     "text": [
      "  1\n",
      "  2  2\n",
      "  3  3  3\n",
      "  4  4  4  4\n",
      "  5  5  5  5  5\n"
     ]
    }
   ],
   "source": [
    "'''\n",
    "Coding 22: Python program to print the following\n",
    "Number Pattern.\n",
    "Output:\n",
    "1 \n",
    "2 2 \n",
    "3 3 3 \n",
    "4 4 4 4 \n",
    "5 5 5 5 5\n",
    "'''\n",
    "for i in range(1,5+1):\n",
    "    for j in range(1,5+1):\n",
    "        if(i>=j):\n",
    "            print(\" \",i,end=\"\")\n",
    "    print()"
   ]
  },
  {
   "cell_type": "code",
   "execution_count": 220,
   "id": "1ac60b1e",
   "metadata": {},
   "outputs": [
    {
     "name": "stdout",
     "output_type": "stream",
     "text": [
      "  1\n",
      "  1  2\n",
      "  1  2  3\n",
      "  1  2  3  4\n",
      "  1  2  3  4  5\n"
     ]
    }
   ],
   "source": [
    "'''\n",
    "Coding 23: Python program to print the following\n",
    "Pyramid Pattern of numbers.\n",
    "Output:\n",
    "1 \n",
    "1 2 \n",
    "1 2 3 \n",
    "1 2 3 4 \n",
    "1 2 3 4 5\n",
    "'''\n",
    "for i in range(1,5+1):\n",
    "    for j in range(1,5+1):\n",
    "        if(i>=j):\n",
    "            print(\" \",j,end=\"\")\n",
    "    print()"
   ]
  },
  {
   "cell_type": "code",
   "execution_count": 221,
   "id": "ff61b563",
   "metadata": {},
   "outputs": [
    {
     "name": "stdout",
     "output_type": "stream",
     "text": [
      "  1  1  1  1  1\n",
      "  2  2  2  2\n",
      "  3  3  3\n",
      "  4  4\n",
      "  5\n"
     ]
    }
   ],
   "source": [
    "'''\n",
    "Coding 24: Python program to Inverted pyramid \n",
    "pattern of numbers.\n",
    "Output:\n",
    "1 1 1 1 1 \n",
    "2 2 2 2 \n",
    "3 3 3 \n",
    "4 4 \n",
    "5\n",
    "'''\n",
    "for i in range(1,5+1):\n",
    "    for j in range(1,5+1):\n",
    "        if(i<=j):\n",
    "            print(\" \",i,end=\"\")\n",
    "    print()"
   ]
  },
  {
   "cell_type": "code",
   "execution_count": 250,
   "id": "51b32121",
   "metadata": {},
   "outputs": [
    {
     "name": "stdout",
     "output_type": "stream",
     "text": [
      "  1\n",
      "  3  3\n",
      "  5  5  5\n",
      "  7  7  7  7\n",
      "  9  9  9  9  9\n"
     ]
    }
   ],
   "source": [
    "'''\n",
    "Coding 25: Python program to Alternate numbers \n",
    "pattern using while Loop. \n",
    "Output:\n",
    "1 \n",
    "3 3 \n",
    "5 5 5 \n",
    "7 7 7 7 \n",
    "9 9 9 9 9\n",
    "'''\n",
    "sum=1\n",
    "for i in range(1,5+1):\n",
    "    for j in range(1,i+1):\n",
    "        print(\" \",sum,end=\"\")\n",
    "    print()\n",
    "    sum+=2"
   ]
  },
  {
   "cell_type": "code",
   "execution_count": 4,
   "id": "799d0356",
   "metadata": {},
   "outputs": [
    {
     "name": "stdout",
     "output_type": "stream",
     "text": [
      "     1\n",
      "    12\n",
      "   123\n",
      "  1234\n",
      " 12345\n"
     ]
    }
   ],
   "source": [
    "'''\n",
    "Coding 26: Python program to Number triangle \n",
    "pattern.\n",
    "Output:\n",
    "        1 \n",
    "      1 2 \n",
    "    1 2 3 \n",
    "  1 2 3 4 \n",
    "1 2 3 4 5 \n",
    "'''\n",
    "for i in range(1,5+1):\n",
    "    for j in range(5+1,i,-1):\n",
    "        print(\" \",end=\"\")\n",
    "    for k in range(1,i+1):\n",
    "        print(k,end=\"\")\n",
    "    print()\n",
    "        "
   ]
  },
  {
   "cell_type": "code",
   "execution_count": 21,
   "id": "56616389",
   "metadata": {},
   "outputs": [
    {
     "name": "stdout",
     "output_type": "stream",
     "text": [
      "  * * * * * *\n",
      "   * * * * *\n",
      "    * * * *\n",
      "     * * *\n",
      "      * *\n",
      "       *\n"
     ]
    }
   ],
   "source": [
    "'''\n",
    "Coding 27: Python program to Downward full \n",
    "Pyramid Pattern of star.\n",
    "Output\n",
    " * * * * * * \n",
    "  * * * * * \n",
    "   * * * * \n",
    "    * * * \n",
    "     * * \n",
    "      * \n",
    "'''\n",
    "for i in range(1,6+1):\n",
    "    for j in range(1,i+1):\n",
    "        print(\" \",end=\"\")\n",
    "    for k in range(7,i,-1):\n",
    "        print(\" *\",end=\"\")\n",
    "    print()"
   ]
  },
  {
   "cell_type": "code",
   "execution_count": 37,
   "id": "86a1744c",
   "metadata": {},
   "outputs": [
    {
     "name": "stdout",
     "output_type": "stream",
     "text": [
      "       * \n",
      "      * * \n",
      "     * * * \n",
      "    * * * * \n",
      "   * * * * * \n",
      "  * * * * * * \n",
      " * * * * * * * \n"
     ]
    }
   ],
   "source": [
    "'''\n",
    "Coding 28: Python program to Equilateral Triangle \n",
    "Pattern of star.\n",
    "Output:\n",
    "      * \n",
    "     * * \n",
    "    * * * \n",
    "   * * * * \n",
    "  * * * * * \n",
    " * * * * * * \n",
    "* * * * * * * \n",
    "'''\n",
    "for i in range(1,7+1):\n",
    "    for j in range(8,i,-1):\n",
    "        print(\" \",end=\"\")\n",
    "    for k in range(1,i+1):\n",
    "        print(\"*\",end=\" \")\n",
    "    print()"
   ]
  },
  {
   "cell_type": "code",
   "execution_count": 52,
   "id": "bbed5880",
   "metadata": {},
   "outputs": [
    {
     "name": "stdout",
     "output_type": "stream",
     "text": [
      "* \n",
      "* * \n",
      "* * * \n",
      "* * * * \n",
      "* * * * * \n",
      "* * * * * * \n",
      "\n",
      "* * * * * * \n",
      "* * * * * \n",
      "* * * * \n",
      "* * * \n",
      "* * \n",
      "* \n"
     ]
    }
   ],
   "source": [
    "'''\n",
    "Coding 29: Python program to Equilateral Triangle \n",
    "Pattern of star.\n",
    "Output:\n",
    "* \n",
    "* * \n",
    "* * * \n",
    "* * * * \n",
    "* * * * * \n",
    "* * * * * * \n",
    "\n",
    "* * * * * * \n",
    "* * * * * \n",
    "* * * * \n",
    "* * * \n",
    "* * \n",
    "*\n",
    "'''\n",
    "for i in range(1,7):\n",
    "    for j in range(1,i+1):\n",
    "        print(\"*\",end=\" \")\n",
    "    print()\n",
    "print()\n",
    "for i in range(1,7):\n",
    "    for k in range(7,i,-1):\n",
    "          print(\"*\",end=\" \")\n",
    "    print()"
   ]
  },
  {
   "cell_type": "code",
   "execution_count": 67,
   "id": "e5b2cccc",
   "metadata": {},
   "outputs": [
    {
     "name": "stdout",
     "output_type": "stream",
     "text": [
      "*****************\n",
      "********_********\n",
      "*******___*******\n",
      "******_____******\n",
      "*****_______*****\n",
      "****_________****\n",
      "***___________***\n",
      "**_____________**\n",
      "*_______________*\n"
     ]
    }
   ],
   "source": [
    "'''\n",
    "Coding 30: Python program to Pant Style pattern of \n",
    "stars.\n",
    "Output:\n",
    "Python from Scratch\n",
    " \n",
    "Page 22\n",
    "****************\n",
    "*******__*******\n",
    "******____******\n",
    "*****______*****\n",
    "****________****\n",
    "***__________***\n",
    "**____________**\n",
    "*______________*\n",
    "\n",
    "'''\n",
    "for l in range(1,18):\n",
    "    print('*',end=\"\")\n",
    "print()\n",
    "for i in range(1,9):\n",
    "    for j in range(9,i,-1):\n",
    "            print('*',end=\"\")\n",
    "    for k in range(1,i*2):\n",
    "        print('_',end=\"\")\n",
    "    for m in range(9,i,-1):\n",
    "        print('*',end=\"\")\n",
    "    print()"
   ]
  },
  {
   "cell_type": "code",
   "execution_count": 80,
   "id": "9f078b0f",
   "metadata": {},
   "outputs": [
    {
     "name": "stdout",
     "output_type": "stream",
     "text": [
      "      * \n",
      "     * * \n",
      "    * * * \n",
      "   * * * * \n",
      "  * * * * * \n",
      " * * * * * * \n",
      "  * * * * *\n",
      "   * * * *\n",
      "    * * *\n",
      "     * *\n",
      "      *\n"
     ]
    }
   ],
   "source": [
    "'''\n",
    "Coding 31: Python program to Diamond-shaped \n",
    "pattern of stars. \n",
    "Output:\n",
    "     * \n",
    "    * * \n",
    "   * * * \n",
    "  * * * * \n",
    " * * * * * \n",
    "* * * * * * \n",
    " * * * * * \n",
    "  * * * * \n",
    "   * * * \n",
    "    * *\n",
    "     *\n",
    "'''\n",
    "for i in range(1,7):\n",
    "    for j in range(7,i,-1):\n",
    "        print(\" \",end=\"\")\n",
    "    for k in range(1,i+1):\n",
    "        print(\"*\",end=\" \")\n",
    "    print()\n",
    "for i in range(1,6):\n",
    "    for j in range(1,i+1):\n",
    "        print(\" \",end=\"\")\n",
    "    for k in range(6,i,-1):\n",
    "        print(\" *\",end=\"\")\n",
    "    print()"
   ]
  },
  {
   "cell_type": "code",
   "execution_count": 84,
   "id": "f6006ae6",
   "metadata": {},
   "outputs": [
    {
     "name": "stdout",
     "output_type": "stream",
     "text": [
      "p\n",
      "py\n",
      "pyt\n",
      "pyth\n",
      "pytho\n",
      "python\n"
     ]
    }
   ],
   "source": [
    "'''\n",
    "Coding 32: Python program to Pattern to display \n",
    "letter of the word.\n",
    "Output:\n",
    "P\n",
    "Py\n",
    "Pyt\n",
    "Pyth\n",
    "Pytho\n",
    "Python\n",
    "'''\n",
    "s=\"python\"\n",
    "for i in range(0,6):\n",
    "    for j in range(0,i+1):\n",
    "        print(s[j],end=\"\")\n",
    "    print()"
   ]
  },
  {
   "cell_type": "code",
   "execution_count": 102,
   "id": "37c0f46a",
   "metadata": {},
   "outputs": [
    {
     "name": "stdout",
     "output_type": "stream",
     "text": [
      "      A \n",
      "     B C \n",
      "    D E F \n",
      "   G H I J \n",
      "  K L M N O \n",
      " P Q R S T U \n",
      " V W X Y Z"
     ]
    }
   ],
   "source": [
    "'''\n",
    "Coding 33: Python program to Equilateral triangle \n",
    "pattern of characters/ Alphabets.\n",
    "Output:\n",
    "     A \n",
    "    B C \n",
    "   D E F \n",
    "  G H I J \n",
    " K L M N O \n",
    "P Q R S T U \n",
    " V W X Y Z\n",
    "'''\n",
    "import string\n",
    "s=string.ascii_uppercase\n",
    "temp=0\n",
    "for i in range(1,7):\n",
    "    for j in range(7,i,-1):\n",
    "        print(\" \",end=\"\")\n",
    "    for k in range(1,i+1):\n",
    "        print(s[temp],end=\" \")\n",
    "        temp+=1\n",
    "    print()\n",
    "for l in range(0,5):\n",
    "    print('',s[temp+l],end=\"\")\n",
    "    "
   ]
  },
  {
   "cell_type": "code",
   "execution_count": null,
   "id": "86c25690",
   "metadata": {},
   "outputs": [],
   "source": []
  }
 ],
 "metadata": {
  "kernelspec": {
   "display_name": "Python 3 (ipykernel)",
   "language": "python",
   "name": "python3"
  },
  "language_info": {
   "codemirror_mode": {
    "name": "ipython",
    "version": 3
   },
   "file_extension": ".py",
   "mimetype": "text/x-python",
   "name": "python",
   "nbconvert_exporter": "python",
   "pygments_lexer": "ipython3",
   "version": "3.10.9"
  }
 },
 "nbformat": 4,
 "nbformat_minor": 5
}
