{
 "cells": [
  {
   "cell_type": "markdown",
   "id": "f8d9c978",
   "metadata": {},
   "source": [
    "# Bubblechart"
   ]
  },
  {
   "cell_type": "code",
   "execution_count": 2,
   "id": "f25634d5",
   "metadata": {},
   "outputs": [],
   "source": [
    "from plotly.offline import plot\n",
    "import plotly.graph_objs as go\n",
    "import numpy as np"
   ]
  },
  {
   "cell_type": "markdown",
   "id": "0c85caa2",
   "metadata": {},
   "source": [
    "# Simple bubble chart"
   ]
  },
  {
   "cell_type": "code",
   "execution_count": 3,
   "id": "440037cf",
   "metadata": {},
   "outputs": [
    {
     "data": {
      "text/plain": [
       "'bubblechart.html'"
      ]
     },
     "execution_count": 3,
     "metadata": {},
     "output_type": "execute_result"
    }
   ],
   "source": [
    "trace=go.Scatter(\n",
    "x=[1,2,3,4],\n",
    "y=[10,20,30,40],\n",
    "mode=\"markers\",\n",
    "marker=dict(\n",
    "size=[20,30,40,50]\n",
    "#it's give different size of each scatters\n",
    "           )\n",
    ")\n",
    "data=[trace]\n",
    "plot(data,filename=\"bubblechart.html\")"
   ]
  },
  {
   "cell_type": "markdown",
   "id": "073be6ba",
   "metadata": {},
   "source": [
    "# Setting marker size and color"
   ]
  },
  {
   "cell_type": "code",
   "execution_count": 7,
   "id": "44b74c68",
   "metadata": {},
   "outputs": [
    {
     "data": {
      "text/plain": [
       "'bubblechart2.html'"
      ]
     },
     "execution_count": 7,
     "metadata": {},
     "output_type": "execute_result"
    }
   ],
   "source": [
    "trace=go.Scatter(\n",
    "x=[1,2,3,4],\n",
    "y=[10,20,30,40],\n",
    "mode=\"markers\",\n",
    "marker=dict(\n",
    "size=[20,30,40,50],\n",
    "#it's give different size of each scatters\n",
    "color=['rgb(184, 0, 0)','rgb(184, 98, 0)','rgb(184, 0, 78)','rgb(14, 14, 0)'],\n",
    "opacity=[1,0.7,0.3,0.5]\n",
    "           )\n",
    ")\n",
    "data=[trace]\n",
    "plot(data,filename=\"bubblechart2.html\")"
   ]
  },
  {
   "cell_type": "markdown",
   "id": "379ebe3d",
   "metadata": {},
   "source": [
    "# Hover text with bubble chart"
   ]
  },
  {
   "cell_type": "code",
   "execution_count": 4,
   "id": "6a3c2d8b",
   "metadata": {},
   "outputs": [
    {
     "data": {
      "text/plain": [
       "'bubblechart3.html'"
      ]
     },
     "execution_count": 4,
     "metadata": {},
     "output_type": "execute_result"
    }
   ],
   "source": [
    "#if we our cursor near the bubble it will display the we mentioned text meassages\n",
    "trace=go.Scatter(\n",
    "x=[1,2,3,4],\n",
    "y=[10,20,30,40],\n",
    "text=['A<br>size:20','B<br>size:30','C<br>size:40','D<br>size:50'],\n",
    "mode=\"markers\",\n",
    "marker=dict(\n",
    "size=[20,30,40,50],\n",
    "#it's give different size of each scatters\n",
    "color=['rgb(184, 0, 0)','rgb(184, 98, 0)','rgb(184, 0, 78)','rgb(14, 14, 0)'],\n",
    "opacity=[1,0.7,0.3,0.5]\n",
    "           )\n",
    ")\n",
    "data=[trace]\n",
    "plot(data,filename=\"bubblechart3.html\")"
   ]
  },
  {
   "cell_type": "markdown",
   "id": "a9f88e73",
   "metadata": {},
   "source": [
    "# Bubble chart with colorscale"
   ]
  },
  {
   "cell_type": "code",
   "execution_count": 5,
   "id": "4d7b5c23",
   "metadata": {},
   "outputs": [
    {
     "data": {
      "text/plain": [
       "'bubblechart4.html'"
      ]
     },
     "execution_count": 5,
     "metadata": {},
     "output_type": "execute_result"
    }
   ],
   "source": [
    "#we can dierctlly create data's as dictionary instead of go.scatter()\n",
    "data=[\n",
    "{\n",
    "    'x':np.arange(1,8),\n",
    "    'y':np.arange(11,18),\n",
    "    'mode':'markers',\n",
    "    'marker':{\n",
    "    'color':[34,89,76,78,90,54,7] ,\n",
    "    'size':[10,20,30,40,50,60,70],\n",
    "    'showscale':True,\n",
    "    'colorscale':'viridis'   \n",
    "    }\n",
    "}\n",
    "    \n",
    "]\n",
    "plot(data,filename=\"bubblechart4.html\")"
   ]
  },
  {
   "cell_type": "code",
   "execution_count": null,
   "id": "9c760324",
   "metadata": {},
   "outputs": [],
   "source": []
  }
 ],
 "metadata": {
  "kernelspec": {
   "display_name": "Python 3 (ipykernel)",
   "language": "python",
   "name": "python3"
  },
  "language_info": {
   "codemirror_mode": {
    "name": "ipython",
    "version": 3
   },
   "file_extension": ".py",
   "mimetype": "text/x-python",
   "name": "python",
   "nbconvert_exporter": "python",
   "pygments_lexer": "ipython3",
   "version": "3.10.9"
  }
 },
 "nbformat": 4,
 "nbformat_minor": 5
}
