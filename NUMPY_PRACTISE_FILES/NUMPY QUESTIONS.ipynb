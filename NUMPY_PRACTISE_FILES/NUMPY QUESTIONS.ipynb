{
 "cells": [
  {
   "cell_type": "markdown",
   "id": "17742075",
   "metadata": {},
   "source": [
    "# NUMPY QUESTIONS:"
   ]
  },
  {
   "cell_type": "code",
   "execution_count": 8,
   "id": "7102bf9b",
   "metadata": {},
   "outputs": [
    {
     "name": "stdout",
     "output_type": "stream",
     "text": [
      "NUMPY VERSION: 1.23.5\n"
     ]
    }
   ],
   "source": [
    "#1. Write a NumPy program to print the NumPy version on your system.\n",
    "import numpy\n",
    "print(\"NUMPY VERSION:\",numpy.__version__)"
   ]
  },
  {
   "cell_type": "code",
   "execution_count": 11,
   "id": "eb16dfe3",
   "metadata": {},
   "outputs": [
    {
     "name": "stdout",
     "output_type": "stream",
     "text": [
      "1-D Array is:\n",
      " [[ 19  23  15  62 100  56  32]]\n",
      "<class 'numpy.ndarray'>\n"
     ]
    }
   ],
   "source": [
    "'''\n",
    "2. Write a NumPy program to convert a list of numeric values into a one\u0002dimensional NumPy array.\n",
    "Expected Output:\n",
    "Original List: [19.23, 15.62, 100, 56.32]\n",
    "One-dimensional NumPy array: [ 19.23 15.62 100. 56.32]\n",
    "'''\n",
    "import numpy as np\n",
    "List_Values=[19,23,15,62,100,56,32]\n",
    "Array_form_List=np.array([List_Values])\n",
    "print(\"1-D Array is:\\n\",Array_form_List)\n",
    "print(type(Array_form_List))"
   ]
  },
  {
   "cell_type": "code",
   "execution_count": 14,
   "id": "c7378a9e",
   "metadata": {},
   "outputs": [
    {
     "name": "stdout",
     "output_type": "stream",
     "text": [
      "3*3 matrix is:\n",
      " [[ 2  3  4]\n",
      " [ 5  6  7]\n",
      " [ 8  9 10]]\n"
     ]
    }
   ],
   "source": [
    "'''\n",
    "3.Write a NumPy program to create a 3x3 matrix with values ranging from 2 to \n",
    "10.\n",
    "Expected Output:\n",
    "[[ 2 3 4]\n",
    "[ 5 6 7]\n",
    "[ 8 9 10]]\n",
    "'''\n",
    "matrix_3=np.arange(2,11).reshape(3,3)\n",
    "print(\"3*3 matrix is:\\n\",matrix_3)"
   ]
  },
  {
   "cell_type": "code",
   "execution_count": 16,
   "id": "ed553154",
   "metadata": {},
   "outputs": [
    {
     "name": "stdout",
     "output_type": "stream",
     "text": [
      "NULL Vector is:\n",
      " [0. 0. 0. 0. 0. 0. 0. 0. 0. 0.]\n",
      "Updated_null_vector is:\n",
      " [ 0.  0.  0.  0.  0.  0. 11.  0.  0.  0.]\n"
     ]
    }
   ],
   "source": [
    "'''\n",
    "4. Write a NumPy program to create a null vector of size 10 and update the \n",
    "sixth value to 11.\n",
    "[ 0. 0. 0. 0. 0. 0. 0. 0. 0. 0.]\n",
    "Update sixth value to 11\n",
    "[ 0. 0. 0. 0. 0. 0. 11. 0. 0. 0.\n",
    "'''\n",
    "null_vector=np.zeros(10)\n",
    "print(\"NULL Vector is:\\n\",null_vector)\n",
    "null_vector[6]=11\n",
    "print(\"Updated_null_vector is:\\n\",null_vector)"
   ]
  },
  {
   "cell_type": "code",
   "execution_count": 17,
   "id": "fcea9495",
   "metadata": {},
   "outputs": [
    {
     "name": "stdout",
     "output_type": "stream",
     "text": [
      "Expected Output:\n",
      " [12 13 14 15 16 17 18 19 20 21 22 23 24 25 26 27 28 29 30 31 32 33 34 35\n",
      " 36 37]\n"
     ]
    }
   ],
   "source": [
    "'''\n",
    "5. Write a NumPy program to create an array with values ranging from 12 to \n",
    "38.\n",
    "Expected Output:\n",
    "[12 13 14 15 16 17 18 19 20 21 22 23 24 25 26 27 28 29 30 31 32 33 34 35 \n",
    "36 37\n",
    "'''\n",
    "create_array=np.arange(12,38)\n",
    "print(\"Expected Output:\\n\",create_array)"
   ]
  },
  {
   "cell_type": "code",
   "execution_count": 22,
   "id": "eeb0aa21",
   "metadata": {},
   "outputs": [
    {
     "name": "stdout",
     "output_type": "stream",
     "text": [
      "Original array:\n",
      " [12 13 14 15 16 17 18 19 20 21 22 23 24 25 26 27 28 29 30 31 32 33 34 35\n",
      " 36 37]\n",
      "Reverse array:\n",
      " [37, 36, 35, 34, 33, 32, 31, 30, 29, 28, 27, 26, 25, 24, 23, 22, 21, 20, 19, 18, 17, 16, 15, 14, 13, 12]\n"
     ]
    }
   ],
   "source": [
    "'''\n",
    "6. Write a NumPy program to reverse an array (the first element becomes the \n",
    "last).\n",
    "Original array:\n",
    "[12 13 14 15 16 17 18 19 20 21 22 23 24 25 26 27 28 29 30 31 32 33 34 35 \n",
    "36 37]\n",
    "Reverse array:\n",
    "[37 36 35 34 33 32 31 30 29 28 27 26 25 24 23 22 21 20 19 18 17 16 15 14 \n",
    "13 12]\n",
    "'''\n",
    "print(\"Original array:\\n\",create_array)\n",
    "sorted_array=sorted(create_array,reverse=True)\n",
    "print(\"Reverse array:\\n\",sorted_array)"
   ]
  },
  {
   "cell_type": "code",
   "execution_count": 24,
   "id": "aa95e259",
   "metadata": {},
   "outputs": [
    {
     "name": "stdout",
     "output_type": "stream",
     "text": [
      "Original array:\n",
      " [1 2 3 4]\n",
      "Array converted to a float type:\n",
      " [1. 2. 3. 4.]\n"
     ]
    }
   ],
   "source": [
    "'''\n",
    "7. Write a NumPy program to convert an array to a floating type.\n",
    "Sample output:\n",
    "Original array\n",
    "[1, 2, 3, 4]\n",
    "Array converted to a float type:\n",
    "[ 1. 2. 3. 4.]\n",
    "'''\n",
    "original_array=np.array([1,2,3,4])\n",
    "print(\"Original array:\\n\",original_array)\n",
    "converted_float=original_array.astype(float)\n",
    "print(\"Array converted to a float type:\\n\",converted_float)"
   ]
  },
  {
   "cell_type": "code",
   "execution_count": 121,
   "id": "5cc0c3fa",
   "metadata": {},
   "outputs": [
    {
     "name": "stdout",
     "output_type": "stream",
     "text": [
      "Original array:\n",
      " [[1. 1. 1. 1. 1.]\n",
      " [1. 1. 1. 1. 1.]\n",
      " [1. 1. 1. 1. 1.]\n",
      " [1. 1. 1. 1. 1.]\n",
      " [1. 1. 1. 1. 1.]]\n",
      "1 on the border and 0 inside in the array:\n",
      " [[1. 1. 1. 1. 1.]\n",
      " [1. 0. 0. 0. 1.]\n",
      " [1. 0. 0. 0. 1.]\n",
      " [1. 0. 0. 0. 1.]\n",
      " [1. 1. 1. 1. 1.]]\n"
     ]
    }
   ],
   "source": [
    "'''\n",
    "8. Write a NumPy program to create a 2D array with 1 on the border and 0 \n",
    "inside.\n",
    "Expected Output:\n",
    "Original array:\n",
    "[[ 1. 1. 1. 1. 1.]\n",
    "...................\n",
    "[ 1. 1. 1. 1. 1.]]\n",
    "1 on the border and 0 inside in the array\n",
    "[[ 1. 1. 1. 1. 1.]\n",
    "...................\n",
    "[ 1. 1. 1. 1. 1.]]\n",
    "'''\n",
    "o_array=np.ones((5,5))\n",
    "print(\"Original array:\\n\",o_array)\n",
    "#o_array[1:,1:]=0\n",
    "#o_array[4]=1\n",
    "o_array[1:-1,1:-1]=0#1:-1-from index 1 to -2\n",
    "'''\n",
    "    1:-1 for the rows means you're selecting all rows except the first and the last.\n",
    "    1:-1 for the columns means you're selecting all columns except the first and the last.\n",
    "'''\n",
    "print(\"1 on the border and 0 inside in the array:\\n\",o_array)"
   ]
  },
  {
   "cell_type": "code",
   "execution_count": 155,
   "id": "3479d7af",
   "metadata": {},
   "outputs": [
    {
     "name": "stdout",
     "output_type": "stream",
     "text": [
      "Original array:\n",
      " [[1. 1. 1.]\n",
      " [1. 1. 1.]\n",
      " [1. 1. 1.]]\n",
      "Result:\n",
      " [[0. 0. 0. 0. 0.]\n",
      " [0. 1. 1. 1. 0.]\n",
      " [0. 1. 1. 1. 0.]\n",
      " [0. 1. 1. 1. 0.]\n",
      " [0. 0. 0. 0. 0.]]\n"
     ]
    }
   ],
   "source": [
    "'''\n",
    "9. Write a NumPy program to add a border (filled with 0's) around an existing \n",
    "array.\n",
    "Expected Output:\n",
    "Original array:\n",
    "[[ 1. 1. 1.]\n",
    "[ 1. 1. 1.]\n",
    "[ 1. 1. 1.]]\n",
    "1 on the border and 0 inside in the array\n",
    "[[ 0. 0. 0. 0. 0.]\n",
    "...........\n",
    "[ 0. 0. 0. 0. 0.]]\n",
    "'''\n",
    "ooo_array=np.ones((3,3))\n",
    "print(\"Original array:\\n\",ooo_array)\n",
    "pad=np.pad(ooo_array,pad_width=1,mode=\"constant\",constant_values=0)\n",
    "print(\"Result:\\n\",pad)"
   ]
  },
  {
   "cell_type": "code",
   "execution_count": 85,
   "id": "15f40327",
   "metadata": {},
   "outputs": [
    {
     "name": "stdout",
     "output_type": "stream",
     "text": [
      "[[0 1 0 1 0 1 0 1]\n",
      " [1 0 1 0 1 0 1 0]\n",
      " [0 1 0 1 0 1 0 1]\n",
      " [1 0 1 0 1 0 1 0]\n",
      " [0 1 0 1 0 1 0 1]\n",
      " [1 0 1 0 1 0 1 0]\n",
      " [0 1 0 1 0 1 0 1]\n",
      " [1 0 1 0 1 0 1 0]]\n"
     ]
    }
   ],
   "source": [
    "'''\n",
    "10. Write a NumPy program to create an 8x8 matrix and fill it with a \n",
    "checkerboard pattern.\n",
    "Checkerboard pattern:\n",
    "[[0 1 0 1 0 1 0 1]\n",
    "..........\n",
    "[0 1 0 1 0 1 0 1]\n",
    "[1 0 1 0 1 0 1 0]]\n",
    "'''\n",
    "resz=np.zeros((8,8),dtype=int)\n",
    "resz[1::2, ::2] = 1#1::2-fetch odd index row,::2-fetch even index column\n",
    "resz[::2,1::2] = 1#::2-fetch even index row,:1::2-fetch odd index column\n",
    "print(resz)"
   ]
  },
  {
   "cell_type": "code",
   "execution_count": 28,
   "id": "3e191fc2",
   "metadata": {},
   "outputs": [
    {
     "name": "stdout",
     "output_type": "stream",
     "text": [
      "[78, 89, 7, 3, 4]\n",
      "((7, 9, 9, 0), (89, 6, 9, 0))\n",
      "-------------------------\n",
      "List to array:\n",
      " [78 89  7  3  4]\n",
      "Tuple to array:\n",
      " [[ 7  9  9  0]\n",
      " [89  6  9  0]]\n",
      "2\n",
      "int32\n",
      "<class 'numpy.ndarray'>\n"
     ]
    }
   ],
   "source": [
    "'''\n",
    "11. Write a NumPy program to convert a list and tuple into arrays.\n",
    "List to array:\n",
    "[1 2 3 4 5 6 7 8]\n",
    "Tuple to array:\n",
    "[[8 4 6]\n",
    "[1 2 3]]\n",
    "'''\n",
    "List=[78,89,7,3,4]\n",
    "Tuple=((7,9,9,0),(89,6,9,0))\n",
    "print(List)\n",
    "print(Tuple)\n",
    "print('-------------------------')\n",
    "List_To_Array=np.array(List)\n",
    "Tuple_To_Array=np.array(Tuple)\n",
    "print(\"List to array:\\n\",List_To_Array)\n",
    "print(\"Tuple to array:\\n\",Tuple_To_Array)\n",
    "print(Tuple_To_Array.ndim)\n",
    "print(Tuple_To_Array.dtype)\n",
    "print(type(Tuple_To_Array))"
   ]
  },
  {
   "cell_type": "code",
   "execution_count": 31,
   "id": "7864c953",
   "metadata": {},
   "outputs": [
    {
     "name": "stdout",
     "output_type": "stream",
     "text": [
      "Original array:\n",
      " [10 20 30]\n",
      "After append values to the end of the array:\n",
      " [10 20 30 40 50 60 70 80 90]\n"
     ]
    }
   ],
   "source": [
    "'''\n",
    "12. Write a NumPy program to append values to the end of an array.\n",
    "Expected Output:\n",
    "Original array:\n",
    "[10, 20, 30]\n",
    "After append values to the end of the array:\n",
    "[10 20 30 40 50 60 70 80 90]\n",
    "'''\n",
    "Original_array=np.array([10,20,30])\n",
    "print(\"Original array:\\n\",Original_array)\n",
    "After_append=np.append(Original_array,[40,50,60,70,80,90])\n",
    "print(\"After append values to the end of the array:\\n\",After_append)"
   ]
  },
  {
   "cell_type": "code",
   "execution_count": 34,
   "id": "c1dc9cae",
   "metadata": {},
   "outputs": [
    {
     "name": "stdout",
     "output_type": "stream",
     "text": [
      "Expected Output:\n",
      " [[[1 1 1 1 1]\n",
      "  [1 1 1 1 1]\n",
      "  [1 1 1 1 1]\n",
      "  [1 1 1 1 1]\n",
      "  [1 1 1 1 1]]\n",
      "\n",
      " [[1 1 1 1 1]\n",
      "  [1 1 1 1 1]\n",
      "  [1 1 1 1 1]\n",
      "  [1 1 1 1 1]\n",
      "  [1 1 1 1 1]]\n",
      "\n",
      " [[1 1 1 1 1]\n",
      "  [1 1 1 1 1]\n",
      "  [1 1 1 1 1]\n",
      "  [1 1 1 1 1]\n",
      "  [1 1 1 1 1]]\n",
      "\n",
      " [[1 1 1 1 1]\n",
      "  [1 1 1 1 1]\n",
      "  [1 1 1 1 1]\n",
      "  [1 1 1 1 1]\n",
      "  [1 1 1 1 1]]\n",
      "\n",
      " [[1 1 1 1 1]\n",
      "  [1 1 1 1 1]\n",
      "  [1 1 1 1 1]\n",
      "  [1 1 1 1 1]\n",
      "  [1 1 1 1 1]]]\n"
     ]
    }
   ],
   "source": [
    "'''\n",
    "13. Write a NumPy program to create a 5x5x5 cube of 1's.\n",
    "Expected Output:\n",
    "[[[1 1 1 1 1]\n",
    "[1 1 1 1 1]\n",
    "[1 1 1 1 1]\n",
    "[1 1 1 1 1]\n",
    "[1 1 1 1 1]]\n",
    "............\n",
    "[[1 1 1 1 1]\n",
    "[1 1 1 1 1]\n",
    "[1 1 1 1 1]\n",
    "[1 1 1 1 1]\n",
    "[1 1 1 1 1]]]\n",
    "\n",
    "'''\n",
    "cube_of_1s=np.ones(125,dtype=int).reshape(5,5,5)\n",
    "print(\"Expected Output:\\n\",cube_of_1s)"
   ]
  },
  {
   "cell_type": "code",
   "execution_count": 17,
   "id": "2fb7df9b",
   "metadata": {},
   "outputs": [
    {
     "name": "stdout",
     "output_type": "stream",
     "text": [
      "Fahrenheit Value is:\n",
      " [ 0.   12.   45.21 34.   99.91 32.  ]\n",
      "Centigrade Value is:\n",
      " [-17.78 -11.11   7.34   1.11  37.73   0.  ]\n",
      "Centigrade_to_fahrenheit is:\n",
      " [-0.   12.   45.21 34.   99.91 32.  ]\n",
      "fahrenheit_to_centigrate is:\n",
      " [-17.78 -11.11   7.34   1.11  37.73   0.  ]\n"
     ]
    }
   ],
   "source": [
    "'''\n",
    "14. Write a NumPy program to convert Centigrade degrees into Fahrenheit \n",
    "degrees. Centigrade values are stored in a NumPy array.\n",
    "Sample Array [0, 12, 45.21, 34, 99.91]\n",
    "[-17.78, -11.11, 7.34, 1.11, 37.73, 0. ]\n",
    "Expected Output:\n",
    "Values in Fahrenheit degrees:\n",
    "[ 0. 12. 45.21 34. 99.91 32. ]\n",
    "Values in Centigrade degrees:\n",
    "[-17.78 -11.11 7.34 1.11 37.73 0. ]\n",
    "Values in Centigrade degrees:\n",
    "[-17.78 -11.11 7.34 1.11 37.73 0. ]\n",
    "Values in Fahrenheit degrees:\n",
    "[-0. 12. 45.21 34. 99.91 32. ]\n",
    "\n",
    "'''\n",
    "import numpy as np\n",
    "Fahrenheit=np.array([0.,12.,45.21,34.,99.91,32.])\n",
    "Centigrade=np.array([-17.78,-11.11,7.34,1.11,37.73,0.])#centigrade is celcius\n",
    "print(\"Fahrenheit Value is:\\n\",Fahrenheit)\n",
    "print(\"Centigrade Value is:\\n\",Centigrade)\n",
    "Centigrade_to_fahrenheit=(Centigrade*9/5)+32\n",
    "print(\"Centigrade_to_fahrenheit is:\\n\",np.round(Centigrade_to_fahrenheit,2))\n",
    "fahrenheit_to_centigrate=(Fahrenheit-32)*5/9\n",
    "print(\"fahrenheit_to_centigrate is:\\n\",np.round(fahrenheit_to_centigrate,2))"
   ]
  },
  {
   "cell_type": "code",
   "execution_count": 184,
   "id": "6ee0f953",
   "metadata": {},
   "outputs": [
    {
     "name": "stdout",
     "output_type": "stream",
     "text": [
      "Original Array:\n",
      " [[1.        +0.j         0.70710678+0.70710678j]]\n",
      "------------------------------------------------------------\n",
      "Real part of the array:\n",
      " [[1.         0.70710678]]\n",
      "Imaginary part of the array:\n",
      " [[0.         0.70710678]]\n"
     ]
    }
   ],
   "source": [
    "'''\n",
    "15. Write a NumPy program to find the real and imaginary parts of an array of \n",
    "complex numbers.\n",
    "Expected Output:\n",
    "Original array [ 1.00000000+0.j 0.70710678+0.70710678j]\n",
    "Real part of the array:\n",
    "[ 1. 0.70710678]\n",
    "Imaginary part of the array:\n",
    "[ 0. 0.70710678]\n",
    "'''\n",
    "og_array=np.array([[ 1.00000000+0.j,0.70710678+0.70710678j]])\n",
    "print(\"Original Array:\\n\",og_array)\n",
    "print(\"------------------------------------------------------------\")\n",
    "print(\"Real part of the array:\\n\",np.real(og_array))\n",
    "print(\"Imaginary part of the array:\\n\",np.imag(og_array))"
   ]
  },
  {
   "cell_type": "code",
   "execution_count": 166,
   "id": "77ca9db1",
   "metadata": {},
   "outputs": [
    {
     "name": "stdout",
     "output_type": "stream",
     "text": [
      "Array:\n",
      " [ 3.  90.6 56. ]\n",
      "--------------------------------\n",
      "Size of the array:\n",
      " 3\n",
      "Length of one array element in bytes:\n",
      " 8\n",
      "Total bytes consumed by the elements of the array:\n",
      " 24\n"
     ]
    }
   ],
   "source": [
    "'''\n",
    "16. Write a NumPy program to find the number of elements in an array. It also \n",
    "finds the length of one array element in bytes and the total bytes consumed by \n",
    "the elements.\n",
    "Expected Output:\n",
    "Size of the array: 3\n",
    "Length of one array element in bytes: 8\n",
    "Total bytes consumed by the elements of the array: 24\n",
    "'''\n",
    "aaa=np.array([3.,90.6,56.])\n",
    "print(\"Array:\\n\",aaa)\n",
    "print(\"--------------------------------\")\n",
    "print(\"Size of the array:\\n\",aaa.size)#total element of array\n",
    "print(\"Length of one array element in bytes:\\n\",aaa.itemsize)#1 elemnt byte size of array\n",
    "print(\"Total bytes consumed by the elements of the array:\\n\",aaa.size*aaa.itemsize)"
   ]
  },
  {
   "cell_type": "code",
   "execution_count": 39,
   "id": "a27bb664",
   "metadata": {},
   "outputs": [
    {
     "name": "stdout",
     "output_type": "stream",
     "text": [
      "Array1 is:\n",
      " [ 0 10 20 40 60]\n",
      "Array2 is:\n",
      " [ 0 40]\n",
      "Compare each element of array1 and array2:\n",
      " [ True False False  True False]\n"
     ]
    }
   ],
   "source": [
    "'''\n",
    "17. Write a NumPy program to test whether each element of a 1-D array is \n",
    "also present in a second array.\n",
    "Expected Output:\n",
    "Array1: [ 0 10 20 40 60]\n",
    "Array2: [0, 40]\n",
    "Compare each element of array1 and array2\n",
    "[ True False False True False]\n",
    "'''\n",
    "Array1=np.array([0,10,20,40,60])\n",
    "Array2=np.array([0,40])\n",
    "print(\"Array1 is:\\n\",Array1)\n",
    "print(\"Array2 is:\\n\",Array2)\n",
    "compare=np.isin(Array1,Array2)\n",
    "print(\"Compare each element of array1 and array2:\\n\",compare)"
   ]
  },
  {
   "cell_type": "code",
   "execution_count": 40,
   "id": "1ed62c9f",
   "metadata": {},
   "outputs": [
    {
     "name": "stdout",
     "output_type": "stream",
     "text": [
      "Array1 is:\n",
      " [ 0 10 20 40 60]\n",
      "Array2 is:\n",
      " [10 30 40]\n",
      "Compare each element of array1 and array2:\n",
      " [10 40]\n"
     ]
    }
   ],
   "source": [
    "'''\n",
    "18. Write a NumPy program to find common values between two arrays.\n",
    "Expected Output:\n",
    "Array1: [ 0 10 20 40 60]\n",
    "Array2: [10, 30, 40]\n",
    "Common values between two arrays:\n",
    "[10 40]\n",
    "'''\n",
    "Array1=np.array([0,10,20,40,60])\n",
    "Array2=np.array([10,30,40])\n",
    "print(\"Array1 is:\\n\",Array1)\n",
    "print(\"Array2 is:\\n\",Array2)\n",
    "compare=np.intersect1d(Array1,Array2)\n",
    "print(\"Compare each element of array1 and array2:\\n\",compare)"
   ]
  },
  {
   "cell_type": "code",
   "execution_count": 43,
   "id": "8aa9bad6",
   "metadata": {},
   "outputs": [
    {
     "name": "stdout",
     "output_type": "stream",
     "text": [
      "[10 10 20 20 30 30]\n",
      "[[1 1]\n",
      " [2 3]]\n",
      "-------------------------------\n",
      "Unique elements of the above array:\n",
      " [10 20 30]\n",
      "Unique elements of the above array:\n",
      " [1 2 3]\n",
      "--------------------------------\n",
      "Unique elemnts from two arrays:\n",
      " [ 1  2  3 10 20 30]\n"
     ]
    }
   ],
   "source": [
    "'''\n",
    "19. Write a NumPy program to get the unique elements of an array.\n",
    "Expected Output:\n",
    "Original array:\n",
    "[10 10 20 20 30 30]\n",
    "Unique elements of the above array:\n",
    "[10 20 30]\n",
    "Original array:\n",
    "[[1 1]\n",
    "[2 3]]\n",
    "Unique elements of the above array:\n",
    "[1 2 3]\n",
    "\n",
    "'''\n",
    "import numpy as np\n",
    "original_array=np.array([10,10,20,20,30,30])\n",
    "original_array1=np.array([[1,1],[2,3]])\n",
    "print(original_array)\n",
    "print(original_array1)\n",
    "print(\"-------------------------------\")\n",
    "print(\"Unique elements of the above array:\\n\",np.unique(original_array))\n",
    "print(\"Unique elements of the above array:\\n\",np.unique(original_array1))\n",
    "print(\"--------------------------------\")\n",
    "#if we need to find out unique elemnt from two arrys,we can use union\n",
    "print(\"Unique elemnts from two arrays:\\n\",np.union1d(original_array,original_array1))"
   ]
  },
  {
   "cell_type": "code",
   "execution_count": 45,
   "id": "782ab99e",
   "metadata": {},
   "outputs": [
    {
     "name": "stdout",
     "output_type": "stream",
     "text": [
      "Array1:\n",
      " [ 0 10 20 40 60 80]\n",
      "Array2:\n",
      " [10 30 40 50 70 90]\n",
      "------------------------\n",
      "Set difference between two arrays:\n",
      " [ 0 20 60 80]\n"
     ]
    }
   ],
   "source": [
    "'''\n",
    "20. Write a NumPy program to find the set difference between two arrays. The \n",
    "set difference will return sorted, distinct values in array1 that are not in array2.\n",
    "Expected Output:\n",
    "Array1: [ 0 10 20 40 60 80]\n",
    "Array2: [10, 30, 40, 50, 70, 90]\n",
    "Set difference between two arrays:\n",
    "[ 0 20 60 80]\n",
    "'''\n",
    "import numpy as np\n",
    "array1=np.array([ 0,10,20,40,60,80])\n",
    "array2=np.array([10, 30, 40, 50, 70, 90])\n",
    "print(\"Array1:\\n\",array1)\n",
    "print(\"Array2:\\n\",array2)\n",
    "print(\"------------------------\")\n",
    "print(\"Set difference between two arrays:\\n\",np.setdiff1d(array1,array2))"
   ]
  },
  {
   "cell_type": "code",
   "execution_count": 47,
   "id": "a2a84bbc",
   "metadata": {},
   "outputs": [
    {
     "name": "stdout",
     "output_type": "stream",
     "text": [
      "Array1:\n",
      " [ 0 10 20 40 60 80]\n",
      "Array2:\n",
      " [10 30 40 50 70 90]\n",
      "------------------------\n",
      "Unique values that are in only one (not both) of the input arrays:\n",
      " [ 0 20 30 50 60 70 80 90]\n"
     ]
    }
   ],
   "source": [
    "'''\n",
    "21. Write a NumPy program to find the set exclusive-or of two arrays. Set \n",
    "exclusive-or will return sorted, distinct values in only one (not both) of the input \n",
    "arrays.\n",
    "Array1: [ 0 10 20 40 60 80]\n",
    "Array2: [10, 30, 40, 50, 70]\n",
    "Unique values that are in only one (not both) of the input arrays:\n",
    "[ 0 20 30 50 60 70 80]'''\n",
    "print(\"Array1:\\n\",array1)\n",
    "print(\"Array2:\\n\",array2)\n",
    "print(\"------------------------\")\n",
    "print(\"Unique values that are in only one (not both) of the input arrays:\\n\",np.setxor1d(array1,array2))"
   ]
  },
  {
   "cell_type": "code",
   "execution_count": 48,
   "id": "0a9a6850",
   "metadata": {},
   "outputs": [
    {
     "name": "stdout",
     "output_type": "stream",
     "text": [
      "Array1:\n",
      " [ 0 10 20 40 60 80]\n",
      "Array2:\n",
      " [10 30 40 50 70 90]\n",
      "------------------------\n",
      "Unique sorted array of values that are in either of the two input arrays:\n",
      " [ 0 10 20 30 40 50 60 70 80 90]\n"
     ]
    }
   ],
   "source": [
    "'''\n",
    "22. Write a NumPy program to find the union of two arrays. Union will return a \n",
    "unique, sorted array of values in each of the two input arrays.\n",
    "Array1: [ 0 10 20 40 60 80]\n",
    "Array2: [10, 30, 40, 50, 70]\n",
    "Unique sorted array of values that are in either of the two input arrays:\n",
    "[ 0 10 20 30 40 50 60 70 80]\n",
    "'''\n",
    "print(\"Array1:\\n\",array1)\n",
    "print(\"Array2:\\n\",array2)\n",
    "print(\"------------------------\")\n",
    "print(\"Unique sorted array of values that are in either of the two input arrays:\\n\",np.union1d(array1,array2))"
   ]
  },
  {
   "cell_type": "code",
   "execution_count": 181,
   "id": "bc0dea03",
   "metadata": {},
   "outputs": [
    {
     "name": "stdout",
     "output_type": "stream",
     "text": [
      "True\n",
      "--------------------------\n",
      "False\n"
     ]
    }
   ],
   "source": [
    "'''\n",
    "23. Write a NumPy program to test whether all elements in an array evaluate \n",
    "to True.\n",
    "Note: 0 evaluates to False in NumPy.\n",
    "'''\n",
    "#if 0 not comes,it will give True result\n",
    "arrr = np.array([1, 2, 3, 7, 4])\n",
    "res=np.all(arrr)\n",
    "print(res)\n",
    "print(\"--------------------------\")\n",
    "#if 0 comes,it will give false result\n",
    "arrr1 = np.array([1, 2, 3, 0, 4])\n",
    "res1=arrr1.all()\n",
    "print(res1)"
   ]
  },
  {
   "cell_type": "code",
   "execution_count": 180,
   "id": "80aa179b",
   "metadata": {},
   "outputs": [
    {
     "name": "stdout",
     "output_type": "stream",
     "text": [
      "True\n",
      "--------------------------\n",
      "True\n",
      "False\n"
     ]
    }
   ],
   "source": [
    "'''\n",
    "24. Write a NumPy program to test whether any array element along a given \n",
    "axis evaluates to True.\n",
    "Note: 0 evaluates to False in NumPy.\n",
    "'''\n",
    "#if 0 not comes,it will give True result\n",
    "arrr = np.array([1, 2, 3, 7, 4])\n",
    "res=np.any(arrr)\n",
    "print(res)\n",
    "print(\"--------------------------\")\n",
    "#if 0 comes also ,it will give true result.cause here one case is pass means it give true only\n",
    "arrr1 = np.array([1, 2, 3, 0, 4])\n",
    "res1=np.any(arrr1)\n",
    "print(res1)\n",
    "#if all values 0,it will result false\n",
    "arrr2 = np.array([0,0,0,0,0])\n",
    "res2=arrr2.any()\n",
    "print(res2)"
   ]
  },
  {
   "cell_type": "code",
   "execution_count": 169,
   "id": "0b33f9a6",
   "metadata": {},
   "outputs": [
    {
     "name": "stdout",
     "output_type": "stream",
     "text": [
      "Sample Array:\n",
      " [1 2 3 4]\n",
      "Repeating 2 times:\n",
      " [1 2 3 4 1 2 3 4]\n",
      "Repeating 3 times:\n",
      " [1 2 3 4 1 2 3 4 1 2 3 4]\n"
     ]
    }
   ],
   "source": [
    "'''\n",
    "25. Write a NumPy program to construct an array by repeating.\n",
    "Sample array: [1, 2, 3, 4]\n",
    "Expected Output:\n",
    "Original array\n",
    "[1, 2, 3, 4]\n",
    "Repeating 2 times\n",
    "[1 2 3 4 1 2 3 4]\n",
    "Repeating 3 times\n",
    "[1 2 3 4 1 2 3 4 1 2 3 4]\n",
    "'''\n",
    "sample_array=np.array([1,2,3,4])\n",
    "print(\"Sample Array:\\n\",sample_array)\n",
    "print(\"Repeating 2 times:\\n\",np.tile(sample_array,2))\n",
    "repeat_3=np.tile(sample_array,3)\n",
    "print(\"Repeating 3 times:\\n\",repeat_3)"
   ]
  },
  {
   "cell_type": "code",
   "execution_count": 172,
   "id": "75d5dda2",
   "metadata": {},
   "outputs": [
    {
     "name": "stdout",
     "output_type": "stream",
     "text": [
      "Original Array:\n",
      " [1 2 3 4]\n",
      "Expected Output:\n",
      "[3 3 3 3]\n",
      "[1 1 2 2 3 3 4 4]\n"
     ]
    }
   ],
   "source": [
    "'''\n",
    "26.Write a NumPy program to repeat array elements.\n",
    "Expected Output:\n",
    "[3 3 3 3]\n",
    "[1 1 2 2 3 3 4 4]\n",
    "'''\n",
    "print(\"Original Array:\\n\",sample_array)\n",
    "print(\"Expected Output:\")\n",
    "print(np.repeat(sample_array[2],4))\n",
    "print(np.repeat(sample_array,2))"
   ]
  },
  {
   "cell_type": "code",
   "execution_count": 53,
   "id": "f1c900b1",
   "metadata": {},
   "outputs": [
    {
     "name": "stdout",
     "output_type": "stream",
     "text": [
      "Original array:\n",
      " [1 2 3 4 5 6]\n",
      "------------------------------\n",
      "Maximum Values: 6\n",
      "Minimum Values: 1\n"
     ]
    }
   ],
   "source": [
    "'''\n",
    "27. Write a NumPy program to find the indices of the maximum and minimum \n",
    "values along the given axis of an array.\n",
    "Original array: [1 2 3 4 5 6]\n",
    "Maximum Values: 5\n",
    "Minimum Values: 0\n",
    "'''\n",
    "orig_array=np.arange(1,7)\n",
    "print(\"Original array:\\n\",orig_array)\n",
    "print(\"------------------------------\")\n",
    "print(\"Maximum Values:\",orig_array.max())\n",
    "print(\"Minimum Values:\",orig_array.min())"
   ]
  },
  {
   "cell_type": "code",
   "execution_count": 18,
   "id": "e2b686e5",
   "metadata": {},
   "outputs": [
    {
     "name": "stdout",
     "output_type": "stream",
     "text": [
      "Array a:\n",
      " [1 2]\n",
      "Array b:\n",
      " [4 5]\n",
      "-------------------\n",
      "a>b:\n",
      " [False False]\n",
      "a>=b:\n",
      " [False False]\n",
      "a<b:\n",
      " [ True  True]\n",
      "a<=b:\n",
      " [ True  True]\n"
     ]
    }
   ],
   "source": [
    "'''\n",
    "28. Write a NumPy program to compare two arrays using NumPy.\n",
    "Array a: [1 2]\n",
    "Array b: [4 5]\n",
    "a > b\n",
    "[False False]\n",
    "a >= b\n",
    "[False False]\n",
    "a < b\n",
    "[ True True]\n",
    "a <= b\n",
    "[ True True]\n",
    "'''\n",
    "import numpy as np\n",
    "a=np.array([1,2])\n",
    "b=np.array([4,5])\n",
    "print(\"Array a:\\n\",a)\n",
    "print(\"Array b:\\n\",b)\n",
    "print(\"-------------------\")\n",
    "print('a>b:\\n',a>b)\n",
    "print('a>=b:\\n',a>=b)\n",
    "print('a<b:\\n',a<b)\n",
    "print('a<=b:\\n',a<=b)"
   ]
  },
  {
   "cell_type": "code",
   "execution_count": 68,
   "id": "609de082",
   "metadata": {},
   "outputs": [
    {
     "name": "stdout",
     "output_type": "stream",
     "text": [
      "Original array:\n",
      " [[4 6]\n",
      " [2 1]]\n",
      "------------------------------\n",
      "Sort along the first axis:\n",
      " [[2 1]\n",
      " [4 6]]\n",
      "Sort along the last axis:\n",
      " [[1 2]\n",
      " [4 6]]\n",
      "------------------------------\n",
      "Original array:\n",
      " [[4 6]\n",
      " [2 1]]\n"
     ]
    }
   ],
   "source": [
    "'''\n",
    "29. Write a NumPy program to sort along the first and last axes of an array.\n",
    "Sample array: [[2,5],[4,4]]\n",
    "Expected Output:\n",
    "Original array:\n",
    "[[4 6]\n",
    "[2 1]]\n",
    "Sort along the first axis:\n",
    "[[2 1]\n",
    "[4 6]]\n",
    "Sort along the last axis:\n",
    "[[1 2]\n",
    "[4 6]]\n",
    "'''\n",
    "oo_array=np.array([[4,6],[2,1]])\n",
    "print(\"Original array:\\n\",oo_array)\n",
    "print(\"------------------------------\")\n",
    "nn=np.sort(oo_array,axis=0)\n",
    "print(\"Sort along the first axis:\\n\",nn)\n",
    "print(\"Sort along the last axis:\\n\",np.sort(nn,axis=1))\n",
    "print(\"------------------------------\")\n",
    "print(\"Original array:\\n\",oo_array)#after sort also original array has not changed\n"
   ]
  },
  {
   "cell_type": "code",
   "execution_count": 1,
   "id": "9cb55bad",
   "metadata": {},
   "outputs": [
    {
     "name": "stdout",
     "output_type": "stream",
     "text": [
      "[0 1 4 2 3]\n"
     ]
    }
   ],
   "source": [
    "'''\n",
    "30. Write a NumPy program to sort pairs of a first name and a last name and \n",
    "return their indices (first by last name, then by first name).\n",
    "first_names = (Betsey, Shelley, Lanell, Genesis, Margery)\n",
    "last_names = (Battle, Brien, Plotner, Stahl, Woolum)\n",
    "Expected Output:\n",
    "[1 3 2 4 0]\n",
    "'''\n",
    "import numpy as np\n",
    "first_names=np.array(['Betsey', 'Shelley','Lanell','Genesis','Margery'])\n",
    "last_names = np.array(['Battle','Brien','Stahl', 'Woolum','Plotner'])\n",
    "s=np.lexsort((first_names,last_names))\n",
    "print(s)"
   ]
  },
  {
   "cell_type": "code",
   "execution_count": 3,
   "id": "b4ded51e",
   "metadata": {},
   "outputs": [
    {
     "name": "stdout",
     "output_type": "stream",
     "text": [
      "[('Betsey', 'Battle'), ('Shelley', 'Brien'), ('Margery', 'Plotner'), ('Lanell', 'Stahl'), ('Genesis', 'Woolum')]\n"
     ]
    }
   ],
   "source": [
    "sorted_names = [(first_names[i], last_names[i]) for i in s]\n",
    "print(sorted_names)\n"
   ]
  },
  {
   "cell_type": "code",
   "execution_count": null,
   "id": "5acc8669",
   "metadata": {},
   "outputs": [],
   "source": []
  }
 ],
 "metadata": {
  "kernelspec": {
   "display_name": "Python 3 (ipykernel)",
   "language": "python",
   "name": "python3"
  },
  "language_info": {
   "codemirror_mode": {
    "name": "ipython",
    "version": 3
   },
   "file_extension": ".py",
   "mimetype": "text/x-python",
   "name": "python",
   "nbconvert_exporter": "python",
   "pygments_lexer": "ipython3",
   "version": "3.10.9"
  }
 },
 "nbformat": 4,
 "nbformat_minor": 5
}
