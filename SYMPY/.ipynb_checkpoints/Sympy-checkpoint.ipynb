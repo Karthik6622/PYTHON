{
 "cells": [
  {
   "cell_type": "markdown",
   "id": "183c336f",
   "metadata": {},
   "source": [
    "#SYMPY\n",
    "\n",
    "SymPy is a Python library for symbolic mathematics. It is a powerful tool for symbolic mathematics, including algebra, calculus, and equation solving. You can use it to perform tasks like symbolic algebraic manipulation, solve equations, compute derivatives, integrals, and much more.\n",
    "\n",
    "and it is used to display mathematical symbols."
   ]
  },
  {
   "cell_type": "code",
   "execution_count": 1,
   "id": "78fd1ed8",
   "metadata": {},
   "outputs": [
    {
     "name": "stdout",
     "output_type": "stream",
     "text": [
      "Defaulting to user installation because normal site-packages is not writeableNote: you may need to restart the kernel to use updated packages.\n",
      "\n",
      "Requirement already satisfied: sympy in c:\\programdata\\anaconda3\\lib\\site-packages (1.11.1)\n",
      "Requirement already satisfied: mpmath>=0.19 in c:\\programdata\\anaconda3\\lib\\site-packages (from sympy) (1.2.1)\n"
     ]
    }
   ],
   "source": [
    "pip install sympy"
   ]
  },
  {
   "cell_type": "code",
   "execution_count": 2,
   "id": "630e1b47",
   "metadata": {},
   "outputs": [],
   "source": [
    "#importing sympy module\n",
    "from sympy import *"
   ]
  },
  {
   "cell_type": "code",
   "execution_count": 3,
   "id": "a8b96498",
   "metadata": {},
   "outputs": [
    {
     "data": {
      "text/plain": [
       "5.0"
      ]
     },
     "execution_count": 3,
     "metadata": {},
     "output_type": "execute_result"
    }
   ],
   "source": [
    "25/5#in normal we can't display fractional number as a output"
   ]
  },
  {
   "cell_type": "code",
   "execution_count": 12,
   "id": "898a5340",
   "metadata": {},
   "outputs": [
    {
     "data": {
      "text/latex": [
       "$\\displaystyle \\frac{5}{3}$"
      ],
      "text/plain": [
       "5/3"
      ]
     },
     "execution_count": 12,
     "metadata": {},
     "output_type": "execute_result"
    }
   ],
   "source": [
    "#but in sumpy we can display fractional numbers\n",
    "#fractional number-it is two number separated by a horizontal line or a slash (/) like 1/2,3/4...\n",
    "frac=Rational(25,15)\n",
    "frac"
   ]
  },
  {
   "cell_type": "code",
   "execution_count": 14,
   "id": "18733159",
   "metadata": {},
   "outputs": [
    {
     "data": {
      "text/latex": [
       "$\\displaystyle 3 x + y$"
      ],
      "text/plain": [
       "3*x + y"
      ]
     },
     "execution_count": 14,
     "metadata": {},
     "output_type": "execute_result"
    }
   ],
   "source": [
    "#how to display numbers with symbols\n",
    "x,y=symbols('x y')#assgin two symbols x and y\n",
    "expression=3*x+y#joining symbols and values\n",
    "expression"
   ]
  },
  {
   "cell_type": "code",
   "execution_count": 20,
   "id": "0b24b3a5",
   "metadata": {},
   "outputs": [
    {
     "data": {
      "text/latex": [
       "$\\displaystyle x^{2} + 2 y - z$"
      ],
      "text/plain": [
       "x**2 + 2*y - z"
      ]
     },
     "execution_count": 20,
     "metadata": {},
     "output_type": "execute_result"
    }
   ],
   "source": [
    "x,y,z=symbols('x y z')\n",
    "expression1=x**2+2*y-z\n",
    "expression1"
   ]
  },
  {
   "cell_type": "code",
   "execution_count": 19,
   "id": "3cc61061",
   "metadata": {},
   "outputs": [
    {
     "data": {
      "text/latex": [
       "$\\displaystyle x^{2} + 2 y - z$"
      ],
      "text/plain": [
       "x**2 + 2*y - z"
      ]
     },
     "execution_count": 19,
     "metadata": {},
     "output_type": "execute_result"
    }
   ],
   "source": [
    "expression2=simplify(x**2+2*y-z)#instead of giving directly(expression1=x**2+2*y-z) we can use simplify package also\n",
    "expression2"
   ]
  },
  {
   "cell_type": "code",
   "execution_count": 30,
   "id": "ff202d55",
   "metadata": {},
   "outputs": [
    {
     "data": {
      "text/latex": [
       "$\\displaystyle x^{2} + 2 y - z = 4$"
      ],
      "text/plain": [
       "Eq(x**2 + 2*y - z, 4)"
      ]
     },
     "execution_count": 30,
     "metadata": {},
     "output_type": "execute_result"
    }
   ],
   "source": [
    "#how to assign value to equation\n",
    "equation=Eq(expression2,4)\n",
    "equation"
   ]
  },
  {
   "cell_type": "code",
   "execution_count": 31,
   "id": "785a6124",
   "metadata": {},
   "outputs": [
    {
     "data": {
      "text/plain": [
       "[-sqrt(-2*y + z + 4), sqrt(-2*y + z + 4)]"
      ]
     },
     "execution_count": 31,
     "metadata": {},
     "output_type": "execute_result"
    }
   ],
   "source": [
    "#it's will solve the problem and give x ansswer\n",
    "solutions=solve(equation,x)\n",
    "solutions"
   ]
  },
  {
   "cell_type": "code",
   "execution_count": 35,
   "id": "081416a3",
   "metadata": {},
   "outputs": [
    {
     "data": {
      "text/latex": [
       "$\\displaystyle \\int \\sqrt{\\frac{1}{x}}\\, dx$"
      ],
      "text/plain": [
       "Integral(sqrt(1/x), x)"
      ]
     },
     "execution_count": 35,
     "metadata": {},
     "output_type": "execute_result"
    }
   ],
   "source": [
    "#display integral formula\n",
    "Integral(sqrt(1/x),x)"
   ]
  },
  {
   "cell_type": "code",
   "execution_count": 36,
   "id": "d6408471",
   "metadata": {},
   "outputs": [],
   "source": [
    "#old version we had to use init_priting to display integral formula but now it's not required\n",
    "init_printing()"
   ]
  },
  {
   "cell_type": "code",
   "execution_count": 37,
   "id": "dcd96879",
   "metadata": {},
   "outputs": [
    {
     "data": {
      "image/png": "[encoded data removed]",
      "text/latex": [
       "$\\displaystyle \\int \\sqrt{\\frac{1}{x}}\\, dx$"
      ],
      "text/plain": [
       "⌠           \n",
       "⎮     ___   \n",
       "⎮    ╱ 1    \n",
       "⎮   ╱  ─  dx\n",
       "⎮ ╲╱   x    \n",
       "⌡           "
      ]
     },
     "execution_count": 37,
     "metadata": {},
     "output_type": "execute_result"
    }
   ],
   "source": [
    "Integral(sqrt(1/x),x)"
   ]
  },
  {
   "cell_type": "code",
   "execution_count": 39,
   "id": "46416ef7",
   "metadata": {},
   "outputs": [
    {
     "data": {
      "image/png": "[encoded data removed]",
      "text/plain": [
       "<Figure size 640x480 with 1 Axes>"
      ]
     },
     "metadata": {},
     "output_type": "display_data"
    }
   ],
   "source": [
    "import matplotlib.pyplot as plt\n",
    "import sympy as sm\n",
    "from sympy.printing import latex#latex is used to display integral in x label\n",
    "X=sm.symbols('X')#declaring x symbol\n",
    "f=sm.Integral(sm.sqrt(1/X),X)#creating integral formula\n",
    "plt.plot([])#creating empty plot\n",
    "plt.xlabel(f'${latex(f)}$')#assining integral formula to x label\n",
    "plt.show()"
   ]
  },
  {
   "cell_type": "code",
   "execution_count": 40,
   "id": "b696c408",
   "metadata": {},
   "outputs": [
    {
     "data": {
      "image/png": "[encoded data removed]",
      "text/latex": [
       "$\\displaystyle 2 X + \\sin^{2}{\\left(X \\right)}$"
      ],
      "text/plain": [
       "         2   \n",
       "2⋅X + sin (X)"
      ]
     },
     "execution_count": 40,
     "metadata": {},
     "output_type": "execute_result"
    }
   ],
   "source": [
    "#sin expression\n",
    "expr=sin(x)**2+2*x\n",
    "expr"
   ]
  },
  {
   "cell_type": "code",
   "execution_count": 41,
   "id": "53071f6f",
   "metadata": {},
   "outputs": [
    {
     "data": {
      "image/png": "[encoded data removed]",
      "text/latex": [
       "$\\displaystyle 2 \\sin{\\left(X \\right)} \\cos{\\left(X \\right)} + 2$"
      ],
      "text/plain": [
       "2⋅sin(X)⋅cos(X) + 2"
      ]
     },
     "execution_count": 41,
     "metadata": {},
     "output_type": "execute_result"
    }
   ],
   "source": [
    "#finding the differencial of sin expression\n",
    "diff(expr)"
   ]
  },
  {
   "cell_type": "code",
   "execution_count": 42,
   "id": "d8600920",
   "metadata": {},
   "outputs": [
    {
     "data": {
      "image/png": "[encoded data removed]",
      "text/latex": [
       "$\\displaystyle \\frac{6 X^{2} + 3 X}{3 X}$"
      ],
      "text/plain": [
       "   2      \n",
       "6⋅X  + 3⋅X\n",
       "──────────\n",
       "   3⋅X    "
      ]
     },
     "execution_count": 42,
     "metadata": {},
     "output_type": "execute_result"
    }
   ],
   "source": [
    "#creating expression\n",
    "expr=(6*x**2+3*x)/(3*x)\n",
    "expr"
   ]
  },
  {
   "cell_type": "code",
   "execution_count": 43,
   "id": "f1a44c31",
   "metadata": {},
   "outputs": [
    {
     "data": {
      "image/png": "[encoded data removed]",
      "text/latex": [
       "$\\displaystyle \\cos{\\left(X \\right)}$"
      ],
      "text/plain": [
       "cos(X)"
      ]
     },
     "execution_count": 43,
     "metadata": {},
     "output_type": "execute_result"
    }
   ],
   "source": [
    "#trignomentric identifiers-trigsimp()=it is used for applay trignametric formulas\n",
    "trigsimp(1/sec(x))"
   ]
  },
  {
   "cell_type": "code",
   "execution_count": 46,
   "id": "3a884b51",
   "metadata": {},
   "outputs": [
    {
     "data": {
      "image/png": "[encoded data removed]",
      "text/latex": [
       "$\\displaystyle \\tan{\\left(X \\right)}$"
      ],
      "text/plain": [
       "tan(X)"
      ]
     },
     "execution_count": 46,
     "metadata": {},
     "output_type": "execute_result"
    }
   ],
   "source": [
    "trigsimp(sin(x)/cos(x))"
   ]
  },
  {
   "cell_type": "code",
   "execution_count": 48,
   "id": "1862c1fd",
   "metadata": {},
   "outputs": [
    {
     "data": {
      "text/plain": [
       "'1.11.1'"
      ]
     },
     "execution_count": 48,
     "metadata": {},
     "output_type": "execute_result"
    }
   ],
   "source": [
    "#to find the version of sympy\n",
    "import sympy\n",
    "sympy.__version__"
   ]
  },
  {
   "cell_type": "code",
   "execution_count": 49,
   "id": "bda45f7a",
   "metadata": {},
   "outputs": [
    {
     "data": {
      "image/png": "[encoded data removed]",
      "text/latex": [
       "$\\displaystyle \\int\\limits_{-\\infty}^{\\infty} e^{- x^{2}}\\, dx$"
      ],
      "text/plain": [
       "∞         \n",
       "⌠         \n",
       "⎮     2   \n",
       "⎮   -x    \n",
       "⎮  ℯ    dx\n",
       "⌡         \n",
       "-∞        "
      ]
     },
     "execution_count": 49,
     "metadata": {},
     "output_type": "execute_result"
    }
   ],
   "source": [
    "#integral formula\n",
    "from sympy import *\n",
    "x=symbols('x')\n",
    "Integral(exp(-x**2),(x,-oo,oo))"
   ]
  },
  {
   "cell_type": "code",
   "execution_count": 50,
   "id": "068815fe",
   "metadata": {},
   "outputs": [
    {
     "data": {
      "image/png": "[encoded data removed]",
      "text/latex": [
       "$\\displaystyle \\sqrt{\\pi}$"
      ],
      "text/plain": [
       "√π"
      ]
     },
     "execution_count": 50,
     "metadata": {},
     "output_type": "execute_result"
    }
   ],
   "source": [
    "_.doit()#derived answer of above cell code"
   ]
  },
  {
   "cell_type": "code",
   "execution_count": 51,
   "id": "23ac5d7b",
   "metadata": {},
   "outputs": [
    {
     "name": "stdout",
     "output_type": "stream",
     "text": [
      "3.14159265358979\n"
     ]
    }
   ],
   "source": [
    "#evalf()-used to display value of pi\n",
    "q=pi.evalf()\n",
    "print(q)"
   ]
  },
  {
   "cell_type": "code",
   "execution_count": 52,
   "id": "ba7f9f66",
   "metadata": {},
   "outputs": [],
   "source": []
  },
  {
   "cell_type": "code",
   "execution_count": 56,
   "id": "4db2a3a8",
   "metadata": {},
   "outputs": [
    {
     "data": {
      "text/latex": [
       "$\\displaystyle \\left[\\begin{matrix}5 & -1 & -3\\\\3 & 2 & -2\\\\2 & 1 & -4\\end{matrix}\\right]$"
      ],
      "text/plain": [
       "⎡5  -1  -3⎤\n",
       "⎢         ⎥\n",
       "⎢3  2   -2⎥\n",
       "⎢         ⎥\n",
       "⎣2  1   -4⎦"
      ]
     },
     "execution_count": 56,
     "metadata": {},
     "output_type": "execute_result"
    }
   ],
   "source": [
    "A=Matrix([[5,-1,-3],[3,2,-2],[2,1,-4]])\n",
    "A"
   ]
  },
  {
   "cell_type": "code",
   "execution_count": 57,
   "id": "55c47eeb",
   "metadata": {},
   "outputs": [
    {
     "data": {
      "text/latex": [
       "$\\displaystyle \\left[\\begin{matrix}10\\\\15\\\\-3\\end{matrix}\\right]$"
      ],
      "text/plain": [
       "⎡10⎤\n",
       "⎢  ⎥\n",
       "⎢15⎥\n",
       "⎢  ⎥\n",
       "⎣-3⎦"
      ]
     },
     "execution_count": 57,
     "metadata": {},
     "output_type": "execute_result"
    }
   ],
   "source": [
    "B=Matrix([10,15,-3])\n",
    "B"
   ]
  },
  {
   "cell_type": "code",
   "execution_count": 58,
   "id": "b9f8f004",
   "metadata": {},
   "outputs": [
    {
     "data": {
      "image/png": "[encoded data removed]",
      "text/latex": [
       "$\\displaystyle \\left\\{\\left( \\frac{27}{5}, \\  \\frac{19}{5}, \\  \\frac{22}{5}\\right)\\right\\}$"
      ],
      "text/plain": [
       "{(27/5, 19/5, 22/5)}"
      ]
     },
     "execution_count": 58,
     "metadata": {},
     "output_type": "execute_result"
    }
   ],
   "source": [
    "#finding linear algebra for a and b\n",
    "r=linsolve((A,B))\n",
    "r"
   ]
  },
  {
   "cell_type": "code",
   "execution_count": 59,
   "id": "24ad3050",
   "metadata": {},
   "outputs": [
    {
     "name": "stdout",
     "output_type": "stream",
     "text": [
      "Before Substitution: cos(x) + 7\n"
     ]
    }
   ],
   "source": [
    "#creating cos expression\n",
    "x=symbols('x')\n",
    "exp=cos(x)+7\n",
    "print(f'Before Substitution: {exp}')"
   ]
  },
  {
   "cell_type": "code",
   "execution_count": 60,
   "id": "cf4185b0",
   "metadata": {},
   "outputs": [
    {
     "name": "stdout",
     "output_type": "stream",
     "text": [
      "After Substitution: 8\n"
     ]
    }
   ],
   "source": [
    "#assign value for cos expression\n",
    "res=exp.subs(x,0)\n",
    "print(f'After Substitution: {res}')"
   ]
  },
  {
   "cell_type": "code",
   "execution_count": 61,
   "id": "d649a5b9",
   "metadata": {},
   "outputs": [
    {
     "data": {
      "image/png": "[encoded data removed]",
      "text/latex": [
       "$\\displaystyle \\left[ \\left( 1, \\  2\\right), \\  \\left( 22, \\  9\\right), \\  \\left( 23, \\  98\\right)\\right]$"
      ],
      "text/plain": [
       "[(1, 2), (22, 9), (23, 98)]"
      ]
     },
     "execution_count": 61,
     "metadata": {},
     "output_type": "execute_result"
    }
   ],
   "source": [
    "x,y=symbols('x y')\n",
    "points=[(1,2),(22,9),(23,98)]\n",
    "points"
   ]
  },
  {
   "cell_type": "code",
   "execution_count": 62,
   "id": "086484f2",
   "metadata": {},
   "outputs": [
    {
     "data": {
      "image/png": "[encoded data removed]",
      "text/latex": [
       "$\\displaystyle \\frac{133 x^{2}}{33} - \\frac{1016 x}{11} + \\frac{271}{3}$"
      ],
      "text/plain": [
       "     2               \n",
       "133⋅x    1016⋅x   271\n",
       "────── - ────── + ───\n",
       "  33       11      3 "
      ]
     },
     "execution_count": 62,
     "metadata": {},
     "output_type": "execute_result"
    }
   ],
   "source": [
    "#creating interpolate for points\n",
    "pol=interpolate(points,x)\n",
    "pol"
   ]
  },
  {
   "cell_type": "code",
   "execution_count": 72,
   "id": "df3193aa",
   "metadata": {},
   "outputs": [
    {
     "data": {
      "image/png": "[encoded data removed]",
      "text/plain": [
       "<Figure size 640x480 with 1 Axes>"
      ]
     },
     "metadata": {},
     "output_type": "display_data"
    }
   ],
   "source": [
    "import matplotlib.pyplot as plt\n",
    "import numpy as np\n",
    "t1=np.arange(0.0,30.0,0.1)\n",
    "t2=[]\n",
    "for i in t1:\n",
    "    t2.append(pol.subs(x,i))\n",
    "plt.plot(t1,t2)\n",
    "plt.plot(*zip(*points),'ro')#'ro' argument specifies that red points ('r' for red) should be plotted.\n",
    "plt.show()"
   ]
  },
  {
   "cell_type": "code",
   "execution_count": null,
   "id": "33aecae8",
   "metadata": {},
   "outputs": [],
   "source": []
  }
 ],
 "metadata": {
  "kernelspec": {
   "display_name": "Python 3 (ipykernel)",
   "language": "python",
   "name": "python3"
  },
  "language_info": {
   "codemirror_mode": {
    "name": "ipython",
    "version": 3
   },
   "file_extension": ".py",
   "mimetype": "text/x-python",
   "name": "python",
   "nbconvert_exporter": "python",
   "pygments_lexer": "ipython3",
   "version": "3.10.9"
  }
 },
 "nbformat": 4,
 "nbformat_minor": 5
}
