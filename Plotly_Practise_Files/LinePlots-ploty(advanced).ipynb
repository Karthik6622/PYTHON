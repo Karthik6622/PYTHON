{
 "cells": [
  {
   "cell_type": "markdown",
   "id": "c7d36f0d",
   "metadata": {},
   "source": [
    "# LinePlots"
   ]
  },
  {
   "cell_type": "code",
   "execution_count": 2,
   "id": "dcbf5191",
   "metadata": {},
   "outputs": [],
   "source": [
    "from plotly.offline import plot\n",
    "import plotly.graph_objs as go\n",
    "import numpy as np"
   ]
  },
  {
   "cell_type": "markdown",
   "id": "7814667c",
   "metadata": {},
   "source": [
    "# Simple Line Plot"
   ]
  },
  {
   "cell_type": "code",
   "execution_count": 3,
   "id": "614a1ff4",
   "metadata": {},
   "outputs": [
    {
     "data": {
      "text/plain": [
       "'line.html'"
      ]
     },
     "execution_count": 3,
     "metadata": {},
     "output_type": "execute_result"
    }
   ],
   "source": [
    "#we are creating here simple lineplot using scatter\n",
    "n=50\n",
    "random_x=np.linspace(0,1,n)\n",
    "random_y=np.random.randn(n)\n",
    "trace=go.Scatter(\n",
    "x=random_x,\n",
    "y=random_y\n",
    ")\n",
    "data=[trace]\n",
    "plot(data,filename=\"line.html\")"
   ]
  },
  {
   "cell_type": "markdown",
   "id": "ad1a4c0d",
   "metadata": {},
   "source": [
    "# Line Plot Modes"
   ]
  },
  {
   "cell_type": "code",
   "execution_count": 4,
   "id": "4fa97364",
   "metadata": {},
   "outputs": [
    {
     "data": {
      "text/plain": [
       "'line2.html'"
      ]
     },
     "execution_count": 4,
     "metadata": {},
     "output_type": "execute_result"
    }
   ],
   "source": [
    "#creating lineplots with two modes\n",
    "n=50\n",
    "random_x=np.linspace(0,1,n)\n",
    "random_y1=np.random.randint(1,10,n)\n",
    "random_y2=np.random.randn(n)\n",
    "trace=go.Scatter(\n",
    "x=random_x,\n",
    "y=random_y1,\n",
    "mode='lines',\n",
    "name=\"Lines\"\n",
    ")\n",
    "trace1=go.Scatter(\n",
    "x=random_x,\n",
    "y=random_y2,\n",
    "mode='lines+markers',\n",
    "name='line and markers'\n",
    ")\n",
    "data=[trace,trace1]\n",
    "plot(data,filename=\"line2.html\")"
   ]
  },
  {
   "cell_type": "markdown",
   "id": "56acc791",
   "metadata": {},
   "source": [
    "# connect data gaps"
   ]
  },
  {
   "cell_type": "code",
   "execution_count": 5,
   "id": "908c32d6",
   "metadata": {},
   "outputs": [
    {
     "data": {
      "text/plain": [
       "'line3.html'"
      ]
     },
     "execution_count": 5,
     "metadata": {},
     "output_type": "execute_result"
    }
   ],
   "source": [
    "#if value is none,in line plot we can see gap to overcome that we can use connectgaps=True attribute\n",
    "n=50\n",
    "trace=go.Scatter(\n",
    "x=[89,90,91,92,93,94,95,96,97,98,99],\n",
    "y=[80,65,None,76,56,87,34,89,None,77,54],\n",
    "mode='lines',\n",
    "name=\"no gaps\",\n",
    "connectgaps=True\n",
    ")\n",
    "trace1=go.Scatter(\n",
    "x=np.arange(16),\n",
    "y=np.array([5,15,None,10,5,0,10,None,10,5,5,10,20,15,5]),\n",
    "mode='lines+markers',\n",
    "name='gaps'\n",
    ")\n",
    "data=[trace,trace1]\n",
    "plot(data,filename=\"line3.html\")"
   ]
  },
  {
   "cell_type": "code",
   "execution_count": null,
   "id": "67dafcba",
   "metadata": {},
   "outputs": [],
   "source": []
  }
 ],
 "metadata": {
  "kernelspec": {
   "display_name": "Python 3 (ipykernel)",
   "language": "python",
   "name": "python3"
  },
  "language_info": {
   "codemirror_mode": {
    "name": "ipython",
    "version": 3
   },
   "file_extension": ".py",
   "mimetype": "text/x-python",
   "name": "python",
   "nbconvert_exporter": "python",
   "pygments_lexer": "ipython3",
   "version": "3.10.9"
  }
 },
 "nbformat": 4,
 "nbformat_minor": 5
}
