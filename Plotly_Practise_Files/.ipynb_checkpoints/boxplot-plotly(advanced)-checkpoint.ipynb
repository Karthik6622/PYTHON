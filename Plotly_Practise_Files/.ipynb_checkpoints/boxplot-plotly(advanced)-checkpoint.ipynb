{
 "cells": [
  {
   "cell_type": "markdown",
   "id": "a86d1854",
   "metadata": {},
   "source": [
    "# boxplot"
   ]
  },
  {
   "cell_type": "markdown",
   "id": "fc86fbc1",
   "metadata": {},
   "source": [
    "A box plot, also known as a box-and-whisker plot, is a graphical representation of a dataset's summary statistics, providing information about the distribution and spread of the data"
   ]
  },
  {
   "cell_type": "code",
   "execution_count": 2,
   "id": "f7748465",
   "metadata": {},
   "outputs": [],
   "source": [
    "import string\n",
    "import numpy as np\n",
    "import pandas as pd\n",
    "from plotly.offline import plot\n",
    "import plotly.graph_objs as go"
   ]
  },
  {
   "cell_type": "markdown",
   "id": "f1dba4b1",
   "metadata": {},
   "source": [
    "# Basic box plot"
   ]
  },
  {
   "cell_type": "code",
   "execution_count": 3,
   "id": "0ed14031",
   "metadata": {},
   "outputs": [
    {
     "data": {
      "text/html": [
       "<div>\n",
       "<style scoped>\n",
       "    .dataframe tbody tr th:only-of-type {\n",
       "        vertical-align: middle;\n",
       "    }\n",
       "\n",
       "    .dataframe tbody tr th {\n",
       "        vertical-align: top;\n",
       "    }\n",
       "\n",
       "    .dataframe thead th {\n",
       "        text-align: right;\n",
       "    }\n",
       "</style>\n",
       "<table border=\"1\" class=\"dataframe\">\n",
       "  <thead>\n",
       "    <tr style=\"text-align: right;\">\n",
       "      <th></th>\n",
       "      <th>A</th>\n",
       "      <th>B</th>\n",
       "      <th>C</th>\n",
       "      <th>D</th>\n",
       "      <th>E</th>\n",
       "      <th>F</th>\n",
       "      <th>G</th>\n",
       "      <th>H</th>\n",
       "      <th>I</th>\n",
       "      <th>J</th>\n",
       "      <th>...</th>\n",
       "      <th>Q</th>\n",
       "      <th>R</th>\n",
       "      <th>S</th>\n",
       "      <th>T</th>\n",
       "      <th>U</th>\n",
       "      <th>V</th>\n",
       "      <th>W</th>\n",
       "      <th>X</th>\n",
       "      <th>Y</th>\n",
       "      <th>Z</th>\n",
       "    </tr>\n",
       "  </thead>\n",
       "  <tbody>\n",
       "    <tr>\n",
       "      <th>0</th>\n",
       "      <td>19</td>\n",
       "      <td>13</td>\n",
       "      <td>29</td>\n",
       "      <td>24</td>\n",
       "      <td>10</td>\n",
       "      <td>3</td>\n",
       "      <td>24</td>\n",
       "      <td>17</td>\n",
       "      <td>21</td>\n",
       "      <td>27</td>\n",
       "      <td>...</td>\n",
       "      <td>19</td>\n",
       "      <td>21</td>\n",
       "      <td>9</td>\n",
       "      <td>3</td>\n",
       "      <td>17</td>\n",
       "      <td>29</td>\n",
       "      <td>27</td>\n",
       "      <td>5</td>\n",
       "      <td>25</td>\n",
       "      <td>30</td>\n",
       "    </tr>\n",
       "    <tr>\n",
       "      <th>1</th>\n",
       "      <td>12</td>\n",
       "      <td>7</td>\n",
       "      <td>18</td>\n",
       "      <td>21</td>\n",
       "      <td>17</td>\n",
       "      <td>2</td>\n",
       "      <td>5</td>\n",
       "      <td>6</td>\n",
       "      <td>29</td>\n",
       "      <td>23</td>\n",
       "      <td>...</td>\n",
       "      <td>30</td>\n",
       "      <td>22</td>\n",
       "      <td>22</td>\n",
       "      <td>33</td>\n",
       "      <td>6</td>\n",
       "      <td>4</td>\n",
       "      <td>9</td>\n",
       "      <td>3</td>\n",
       "      <td>10</td>\n",
       "      <td>6</td>\n",
       "    </tr>\n",
       "    <tr>\n",
       "      <th>2</th>\n",
       "      <td>2</td>\n",
       "      <td>16</td>\n",
       "      <td>31</td>\n",
       "      <td>21</td>\n",
       "      <td>7</td>\n",
       "      <td>16</td>\n",
       "      <td>14</td>\n",
       "      <td>14</td>\n",
       "      <td>33</td>\n",
       "      <td>24</td>\n",
       "      <td>...</td>\n",
       "      <td>9</td>\n",
       "      <td>15</td>\n",
       "      <td>8</td>\n",
       "      <td>27</td>\n",
       "      <td>7</td>\n",
       "      <td>15</td>\n",
       "      <td>17</td>\n",
       "      <td>21</td>\n",
       "      <td>14</td>\n",
       "      <td>2</td>\n",
       "    </tr>\n",
       "    <tr>\n",
       "      <th>3</th>\n",
       "      <td>19</td>\n",
       "      <td>24</td>\n",
       "      <td>14</td>\n",
       "      <td>28</td>\n",
       "      <td>3</td>\n",
       "      <td>23</td>\n",
       "      <td>9</td>\n",
       "      <td>20</td>\n",
       "      <td>26</td>\n",
       "      <td>12</td>\n",
       "      <td>...</td>\n",
       "      <td>28</td>\n",
       "      <td>22</td>\n",
       "      <td>29</td>\n",
       "      <td>25</td>\n",
       "      <td>13</td>\n",
       "      <td>25</td>\n",
       "      <td>19</td>\n",
       "      <td>7</td>\n",
       "      <td>15</td>\n",
       "      <td>28</td>\n",
       "    </tr>\n",
       "    <tr>\n",
       "      <th>4</th>\n",
       "      <td>8</td>\n",
       "      <td>2</td>\n",
       "      <td>15</td>\n",
       "      <td>6</td>\n",
       "      <td>10</td>\n",
       "      <td>7</td>\n",
       "      <td>24</td>\n",
       "      <td>10</td>\n",
       "      <td>30</td>\n",
       "      <td>7</td>\n",
       "      <td>...</td>\n",
       "      <td>27</td>\n",
       "      <td>21</td>\n",
       "      <td>5</td>\n",
       "      <td>6</td>\n",
       "      <td>6</td>\n",
       "      <td>18</td>\n",
       "      <td>24</td>\n",
       "      <td>25</td>\n",
       "      <td>33</td>\n",
       "      <td>15</td>\n",
       "    </tr>\n",
       "  </tbody>\n",
       "</table>\n",
       "<p>5 rows × 26 columns</p>\n",
       "</div>"
      ],
      "text/plain": [
       "    A   B   C   D   E   F   G   H   I   J  ...   Q   R   S   T   U   V   W  \\\n",
       "0  19  13  29  24  10   3  24  17  21  27  ...  19  21   9   3  17  29  27   \n",
       "1  12   7  18  21  17   2   5   6  29  23  ...  30  22  22  33   6   4   9   \n",
       "2   2  16  31  21   7  16  14  14  33  24  ...   9  15   8  27   7  15  17   \n",
       "3  19  24  14  28   3  23   9  20  26  12  ...  28  22  29  25  13  25  19   \n",
       "4   8   2  15   6  10   7  24  10  30   7  ...  27  21   5   6   6  18  24   \n",
       "\n",
       "    X   Y   Z  \n",
       "0   5  25  30  \n",
       "1   3  10   6  \n",
       "2  21  14   2  \n",
       "3   7  15  28  \n",
       "4  25  33  15  \n",
       "\n",
       "[5 rows x 26 columns]"
      ]
     },
     "execution_count": 3,
     "metadata": {},
     "output_type": "execute_result"
    }
   ],
   "source": [
    "n=50\n",
    "y_vals={}\n",
    "for i in list(string.ascii_uppercase):\n",
    "    y_vals[i]=np.random.randint(1,34,n)\n",
    "df=pd.DataFrame(y_vals)\n",
    "df.head()"
   ]
  },
  {
   "cell_type": "code",
   "execution_count": 4,
   "id": "a165d165",
   "metadata": {},
   "outputs": [
    {
     "data": {
      "text/plain": [
       "'temp-plot.html'"
      ]
     },
     "execution_count": 4,
     "metadata": {},
     "output_type": "execute_result"
    }
   ],
   "source": [
    "#creating boxplot for every column\n",
    "data=[]\n",
    "for j in  df.columns:\n",
    "    data.append(go.Box(\n",
    "        y=df[j],#x-if we assign value to x means horizontal barbox wil come\n",
    "        name=j,\n",
    "    ))\n",
    "plot(data)"
   ]
  },
  {
   "cell_type": "code",
   "execution_count": 13,
   "id": "19386bf4",
   "metadata": {},
   "outputs": [
    {
     "data": {
      "text/plain": [
       "count    50.000000\n",
       "mean     16.600000\n",
       "std       9.180725\n",
       "min       1.000000\n",
       "25%       8.500000\n",
       "50%      17.000000\n",
       "75%      23.750000\n",
       "max      33.000000\n",
       "Name: A, dtype: float64"
      ]
     },
     "execution_count": 13,
     "metadata": {},
     "output_type": "execute_result"
    }
   ],
   "source": [
    "#above boxplot describe the column \n",
    "df['A'].describe()"
   ]
  },
  {
   "cell_type": "markdown",
   "id": "8f9d2a13",
   "metadata": {},
   "source": [
    "# customized box plot"
   ]
  },
  {
   "cell_type": "code",
   "execution_count": 7,
   "id": "f7828192",
   "metadata": {},
   "outputs": [
    {
     "data": {
      "text/plain": [
       "'temp-plot.html'"
      ]
     },
     "execution_count": 7,
     "metadata": {},
     "output_type": "execute_result"
    }
   ],
   "source": [
    "#data = [[20, 22, 25, 27, 28, 29, 30],[20, 22, 25, 27, 28, 29, 30, 32, 33, 35, 37, 38, 40],[200, 220, 250, 270, 280, 290, 300, 320, 330, 350, 370, 380, 400]]\n",
    "#we can't give like above mentioned data(2d array)\n",
    "#here always better to give 1d data\n",
    "data=[20, 22, 25, 27, 28, 29, 30, 32, 33, 35, 37, 38, 40]\n",
    "trace=go.Box(\n",
    "y=data,\n",
    "name=\"MYbox\",\n",
    "boxpoints='outliers',# Display outliers as separate points\n",
    "marker=dict(size=8,color='plum'),\n",
    "line=dict(color='red',width=5),\n",
    "boxmean=True,# Display mean value inside the box\n",
    "jitter=0.7## Add jitter to the points for better visibility\n",
    "\n",
    ")\n",
    "plot([trace])"
   ]
  },
  {
   "cell_type": "code",
   "execution_count": null,
   "id": "a9d9215a",
   "metadata": {},
   "outputs": [],
   "source": []
  }
 ],
 "metadata": {
  "kernelspec": {
   "display_name": "Python 3 (ipykernel)",
   "language": "python",
   "name": "python3"
  },
  "language_info": {
   "codemirror_mode": {
    "name": "ipython",
    "version": 3
   },
   "file_extension": ".py",
   "mimetype": "text/x-python",
   "name": "python",
   "nbconvert_exporter": "python",
   "pygments_lexer": "ipython3",
   "version": "3.10.9"
  }
 },
 "nbformat": 4,
 "nbformat_minor": 5
}
