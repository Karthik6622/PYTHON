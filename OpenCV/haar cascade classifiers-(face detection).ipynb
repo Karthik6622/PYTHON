{
 "cells": [
  {
   "cell_type": "markdown",
   "id": "c33b9c0b",
   "metadata": {},
   "source": [
    "# HAAR FEATURE BASED CASCADE CLASSIFIERS"
   ]
  },
  {
   "cell_type": "markdown",
   "id": "cbeb1192",
   "metadata": {},
   "source": [
    "Haar feature-based cascade classifiers, often referred to as Haar cascades, are a machine learning approach used in computer vision and image processing for object detection. They are particularly popular for tasks like face detection, where they can efficiently and accurately identify objects within images or video streams."
   ]
  },
  {
   "cell_type": "markdown",
   "id": "79ab7529",
   "metadata": {},
   "source": [
    "haar cascade classifiers has lot of xml files to create face detection,eye detection,etc...if we want that,we have to download xml file to our pc.\n",
    "xml path link:https://github.com/opencv/opencv/tree/master/data/haarcascades"
   ]
  },
  {
   "cell_type": "code",
   "execution_count": 2,
   "id": "6f1c08a7",
   "metadata": {},
   "outputs": [],
   "source": [
    "import cv2"
   ]
  },
  {
   "cell_type": "code",
   "execution_count": 62,
   "id": "d22886c3",
   "metadata": {},
   "outputs": [],
   "source": [
    "#face dtection in photo using cascade classifier\n",
    "facecascade=cv2.CascadeClassifier(\"haarcascade_frontalface_default.xml\")\n",
    "img=cv2.imread(\"ronaldo.jfif\")\n",
    "faces=facecascade.detectMultiScale(img,1.1,5)\n",
    "'''\n",
    "The detectMultiScale method returns a list of rectangles where faces are detected in the image. Each rectangle is represented by a set of (x, y, w, h) values\n",
    "'''\n",
    "'''\n",
    "1.1: This parameter controls the scale factor. It determines how much the image size is reduced at each image scale. A smaller value like 1.1 means that the algorithm is more likely to find objects that are smaller, but it might be slower.\n",
    "\n",
    "4: This parameter sets the minimum number of neighboring rectangles that need to be considered as a face. Increasing this value may result in more reliable but fewer face detections.\n",
    "'''\n",
    "for (x,y,w,h) in faces:\n",
    "    cv2.rectangle(img,(x,y),(w+x,h+y),(255,0,0),3)\n",
    "cv2.imshow(\"image\",img)\n",
    "cv2.waitKey()\n",
    "cv2.destroyAllWindows()"
   ]
  },
  {
   "cell_type": "code",
   "execution_count": 64,
   "id": "3bbaa274",
   "metadata": {},
   "outputs": [],
   "source": [
    "#multiple person face dtection in photo using cascade classifier\n",
    "facecascade2=cv2.CascadeClassifier(\"haarcascade_frontalcatface.xml\")\n",
    "img1=cv2.imread(\"groupofpeople.png\")\n",
    "gray=cv2.cvtColor(img1,cv2.COLOR_BGR2GRAY)\n",
    "faces=facecascade2.detectMultiScale(gray,1.02,3)\n",
    "for (x,y,w,h) in faces:\n",
    "    cv2.rectangle(img1,(x,y),(w+x,h+y),(255,0,0),3)\n",
    "cv2.imshow(\"image\",img1)\n",
    "cv2.waitKey()\n",
    "cv2.destroyAllWindows()"
   ]
  },
  {
   "cell_type": "code",
   "execution_count": 68,
   "id": "e7aebda5",
   "metadata": {},
   "outputs": [],
   "source": [
    "#video eye detection and face detection code executed in pycharm"
   ]
  },
  {
   "cell_type": "code",
   "execution_count": 69,
   "id": "e52a6830",
   "metadata": {},
   "outputs": [],
   "source": []
  },
  {
   "cell_type": "code",
   "execution_count": null,
   "id": "c06329e6",
   "metadata": {},
   "outputs": [],
   "source": []
  }
 ],
 "metadata": {
  "kernelspec": {
   "display_name": "Python 3 (ipykernel)",
   "language": "python",
   "name": "python3"
  },
  "language_info": {
   "codemirror_mode": {
    "name": "ipython",
    "version": 3
   },
   "file_extension": ".py",
   "mimetype": "text/x-python",
   "name": "python",
   "nbconvert_exporter": "python",
   "pygments_lexer": "ipython3",
   "version": "3.10.9"
  }
 },
 "nbformat": 4,
 "nbformat_minor": 5
}
