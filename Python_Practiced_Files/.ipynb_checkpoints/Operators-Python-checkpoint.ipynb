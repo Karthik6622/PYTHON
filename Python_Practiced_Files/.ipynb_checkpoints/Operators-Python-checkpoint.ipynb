{
 "cells": [
  {
   "cell_type": "markdown",
   "id": "493d9861",
   "metadata": {},
   "source": [
    "# PYTHON OPERATORS"
   ]
  },
  {
   "cell_type": "code",
   "execution_count": 3,
   "id": "384e4496",
   "metadata": {},
   "outputs": [
    {
     "name": "stdout",
     "output_type": "stream",
     "text": [
      "Enter the number=10\n",
      "Enter the number=3\n",
      "Addition of x and y is: 13\n",
      "Subtraction of x and y is: 7\n",
      "Multiplication of x and y is: 30\n",
      "Division of x and y is: 3.3333333333333335\n",
      "Floor Division of x and y is: 3\n",
      "Modules of x and y is: 1\n",
      "Expontial of x and y is: 1000\n"
     ]
    }
   ],
   "source": [
    "#Arithmetic operator\n",
    "x=int(input(\"Enter the number=\"))\n",
    "y=int(input(\"Enter the number=\"))\n",
    "print('Addition of x and y is:',x+y)\n",
    "print('Subtraction of x and y is:',x-y)\n",
    "print('Multiplication of x and y is:',x*y)\n",
    "print('Division of x and y is:',x/y)\n",
    "print('Floor Division of x and y is:',x//y)#it will display whole value or round value\n",
    "print('Modules of x and y is:',x%y)#it will give Reminder value\n",
    "print('Expontial of x and y is:',x**y)#it will give power of value"
   ]
  },
  {
   "cell_type": "code",
   "execution_count": 1,
   "id": "05ccda75",
   "metadata": {},
   "outputs": [
    {
     "name": "stdout",
     "output_type": "stream",
     "text": [
      "Enter the Number:30\n",
      "Enter the Number:15\n",
      "The Value of Z is: 45\n",
      "The Addition is: 75\n",
      "The Subtraction is: 60\n",
      "The Multiplication is: 1800\n",
      "The Subtraction is: 120.0\n"
     ]
    }
   ],
   "source": [
    "#Assignment Operator\n",
    "x=int(input('Enter the Number:'))#30\n",
    "y=int(input('Enter the Number:'))#15\n",
    "z=x+y\n",
    "print('The Value of Z is:',z)#45\n",
    "z+=x #z=z+x-->z=45+30\n",
    "print('The Addition is:',z)#75\n",
    "z-=y #z=z-y-->z=75-15\n",
    "print('The Subtraction is:',z)#60\n",
    "z*=x #z=z*x-->z=60*30\n",
    "print('The Multiplication is:',z)#1800\n",
    "z/=y #z=z/y-->z=1800/15\n",
    "print('The Subtraction is:',z)#120"
   ]
  },
  {
   "cell_type": "code",
   "execution_count": 2,
   "id": "1930a00f",
   "metadata": {},
   "outputs": [
    {
     "name": "stdout",
     "output_type": "stream",
     "text": [
      "enter the number:90\n",
      "enter the number:90\n",
      "Equal to is: True\n",
      "notEqual to is: False\n",
      "Greaterthan is: False\n",
      "Greaterthan equal to is: True\n",
      "lessthan is: False\n",
      "lessthan equal to is: True\n"
     ]
    }
   ],
   "source": [
    "#comparison operator\n",
    "x=int(input(\"enter the number:\"))\n",
    "y=int(input(\"enter the number:\"))\n",
    "print('Equal to is:',x==y)\n",
    "print('notEqual to is:',x!=y)\n",
    "print('Greaterthan is:',x>y)\n",
    "print('Greaterthan equal to is:',x>=y)\n",
    "print('lessthan is:',x<y)\n",
    "print('lessthan equal to is:',x<=y)"
   ]
  },
  {
   "cell_type": "code",
   "execution_count": 4,
   "id": "d31f3bd8",
   "metadata": {},
   "outputs": [
    {
     "name": "stdout",
     "output_type": "stream",
     "text": [
      "enter the number:50\n",
      "enter the number:50\n",
      "And value is: False\n",
      "OR value is: True\n",
      "OR value is: True\n"
     ]
    }
   ],
   "source": [
    "#logical operator\n",
    "x=int(input(\"enter the number:\"))\n",
    "y=int(input(\"enter the number:\"))\n",
    "print(\"And value is:\",x==y and x!=y)#Returns True if both statements are true\n",
    "print(\"OR value is:\",x==y or x!=y)#Returns True if one of the statements is true\n",
    "print(\"OR value is:\",not(x==y and x!=y))#Reverse the result, returns False if the result is true"
   ]
  },
  {
   "cell_type": "code",
   "execution_count": 5,
   "id": "13738d07",
   "metadata": {},
   "outputs": [
    {
     "name": "stdout",
     "output_type": "stream",
     "text": [
      "True\n",
      "True\n"
     ]
    }
   ],
   "source": [
    "#membership operator\n",
    "fruits=['apple','orange','mango','pine apple']\n",
    "print('apple' in fruits)\n",
    "print('APPLE' not in fruits)"
   ]
  },
  {
   "cell_type": "code",
   "execution_count": 9,
   "id": "48ca1198",
   "metadata": {},
   "outputs": [
    {
     "name": "stdout",
     "output_type": "stream",
     "text": [
      "enter the number:20\n",
      "enter the number:20\n",
      "2562900951888\n",
      "2562900951888\n",
      "True\n",
      "False\n"
     ]
    }
   ],
   "source": [
    "#Identity operator\n",
    "x=int(input(\"enter the number:\"))\n",
    "y=int(input(\"enter the number:\"))#if we give same number means, it memory storing id will be same\n",
    "print(id(x))\n",
    "print(id(y))\n",
    "print(x is y)\n",
    "print(y is not y)"
   ]
  },
  {
   "cell_type": "code",
   "execution_count": 2,
   "id": "b1f3dea7",
   "metadata": {},
   "outputs": [
    {
     "name": "stdout",
     "output_type": "stream",
     "text": [
      "enter the number:23\n",
      "enter the number:45\n",
      "1980524594096\n",
      "1980524594800\n",
      "False\n",
      "True\n"
     ]
    }
   ],
   "source": [
    "x=int(input(\"enter the number:\"))\n",
    "y=int(input(\"enter the number:\"))#if we give not same number means, it memory storing id will not be same\n",
    "print(id(x))\n",
    "print(id(y))\n",
    "print(x is y)\n",
    "print(x is not y)"
   ]
  },
  {
   "cell_type": "code",
   "execution_count": 11,
   "id": "081de6fd",
   "metadata": {},
   "outputs": [
    {
     "name": "stdout",
     "output_type": "stream",
     "text": [
      "2562981608448\n",
      "2562981663424\n",
      "False\n",
      "True\n"
     ]
    }
   ],
   "source": [
    "l=[1,2,3]\n",
    "l1=[1,2,3]\n",
    "print(id(l))\n",
    "print(id(l1))\n",
    "print(l is l1)\n",
    "print(l is not l1)#list is a mutable datatype.so even if values are same, id won't be same"
   ]
  },
  {
   "cell_type": "code",
   "execution_count": 9,
   "id": "e8838c80",
   "metadata": {},
   "outputs": [
    {
     "name": "stdout",
     "output_type": "stream",
     "text": [
      "Enter the Name:Karthik R\n",
      "Enter the Degree:Bsc(cs)\n",
      "My name is: Karthik R .I have completed Bsc(cs)\n",
      "------------------------------------------------------------\n",
      "Enter the Name:baby\n",
      "Enter the Degree:MA(English)\n",
      "My name is:baby.I have completed MA(English)\n"
     ]
    }
   ],
   "source": [
    "#normal\n",
    "name=input(\"Enter the Name:\")\n",
    "degree=input(\"Enter the Degree:\")\n",
    "print('My name is:',name,'.I have completed',degree)\n",
    "print(\"-\"*60)\n",
    "#String formatting\n",
    "name1=input(\"Enter the Name:\")\n",
    "degree1=input(\"Enter the Degree:\")\n",
    "print(f'''My name is:{name1}.I have completed {degree1}''')#we can use ('', \"\" ,'''''')"
   ]
  },
  {
   "cell_type": "code",
   "execution_count": 23,
   "id": "17e326a9",
   "metadata": {},
   "outputs": [
    {
     "name": "stdout",
     "output_type": "stream",
     "text": [
      "kkkkkkkkkkkkkkkkkkkkkkkkkkkkkkkkkkkkkkkkkkkkkkkkkkkkkkkkkkkkkkkkkkkkkkkkkkkkkkkkkkkkkkkkkkkkkkkkkkkk\n"
     ]
    }
   ],
   "source": [
    "print(\"k\"*100)"
   ]
  },
  {
   "cell_type": "code",
   "execution_count": 39,
   "id": "1dd9fd3e",
   "metadata": {},
   "outputs": [
    {
     "name": "stdout",
     "output_type": "stream",
     "text": [
      "0b1111\n",
      "0b11000\n",
      "--------------------------------------------------\n",
      "15\n",
      "0o17\n",
      "0x14\n",
      "0xa\n"
     ]
    }
   ],
   "source": [
    "#to find binaryvalue\n",
    "print(bin(15))\n",
    "print(bin(24))\n",
    "print('-'*50)\n",
    "#to convert binary to decimal\n",
    "a=bin(15)\n",
    "print(int(a,2))#base value of binary\n",
    "print('-'*50)\n",
    "#to find octal value\n",
    "print(oct(15))\n",
    "print('-'*50)\n",
    "#to find hexadecimal value\n",
    "print(hex(20))\n",
    "print(hex(10))#remainder value 10-a,11-b,12-c,13-d,14-e,15-f\n",
    "print('-'*50)"
   ]
  },
  {
   "cell_type": "code",
   "execution_count": null,
   "id": "c941ab8f",
   "metadata": {},
   "outputs": [],
   "source": []
  }
 ],
 "metadata": {
  "kernelspec": {
   "display_name": "Python 3 (ipykernel)",
   "language": "python",
   "name": "python3"
  },
  "language_info": {
   "codemirror_mode": {
    "name": "ipython",
    "version": 3
   },
   "file_extension": ".py",
   "mimetype": "text/x-python",
   "name": "python",
   "nbconvert_exporter": "python",
   "pygments_lexer": "ipython3",
   "version": "3.10.9"
  }
 },
 "nbformat": 4,
 "nbformat_minor": 5
}
