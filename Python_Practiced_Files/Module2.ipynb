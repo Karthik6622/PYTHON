{
 "cells": [
  {
   "cell_type": "code",
   "execution_count": 1,
   "id": "82e64747",
   "metadata": {},
   "outputs": [
    {
     "name": "stdout",
     "output_type": "stream",
     "text": [
      "bf[688, 8776, 980]\n"
     ]
    },
    {
     "ename": "AttributeError",
     "evalue": "module 'MODULES' has no attribute 'dic'",
     "output_type": "error",
     "traceback": [
      "\u001b[1;31m---------------------------------------------------------------------------\u001b[0m",
      "\u001b[1;31mAttributeError\u001b[0m                            Traceback (most recent call last)",
      "Cell \u001b[1;32mIn[1], line 4\u001b[0m\n\u001b[0;32m      2\u001b[0m MODULES\u001b[38;5;241m.\u001b[39mfindchar(\u001b[38;5;241m26\u001b[39m)\n\u001b[0;32m      3\u001b[0m \u001b[38;5;28mprint\u001b[39m(MODULES\u001b[38;5;241m.\u001b[39mlist1)\n\u001b[1;32m----> 4\u001b[0m \u001b[38;5;28mprint\u001b[39m(\u001b[43mMODULES\u001b[49m\u001b[38;5;241;43m.\u001b[39;49m\u001b[43mdic\u001b[49m)\n",
      "\u001b[1;31mAttributeError\u001b[0m: module 'MODULES' has no attribute 'dic'"
     ]
    }
   ],
   "source": [
    "import MODULES\n",
    "MODULES.findchar(26)\n",
    "print(MODULES.list1)\n",
    "print(MODULES.dic)#beacause dictionary variable available inside the function hence we can't call variable "
   ]
  },
  {
   "cell_type": "code",
   "execution_count": 1,
   "id": "17c44e0d",
   "metadata": {},
   "outputs": [
    {
     "name": "stdout",
     "output_type": "stream",
     "text": [
      "3466\n",
      "cdff\n"
     ]
    }
   ],
   "source": [
    "from MODULES import *\n",
    "findnumber('cdff')\n",
    "findchar(3466)"
   ]
  },
  {
   "cell_type": "code",
   "execution_count": 2,
   "id": "cc03c619",
   "metadata": {},
   "outputs": [
    {
     "name": "stdout",
     "output_type": "stream",
     "text": [
      "Help on built-in module math:\n",
      "\n",
      "NAME\n",
      "    math\n",
      "\n",
      "DESCRIPTION\n",
      "    This module provides access to the mathematical functions\n",
      "    defined by the C standard.\n",
      "\n",
      "FUNCTIONS\n",
      "    acos(x, /)\n",
      "        Return the arc cosine (measured in radians) of x.\n",
      "        \n",
      "        The result is between 0 and pi.\n",
      "    \n",
      "    acosh(x, /)\n",
      "        Return the inverse hyperbolic cosine of x.\n",
      "    \n",
      "    asin(x, /)\n",
      "        Return the arc sine (measured in radians) of x.\n",
      "        \n",
      "        The result is between -pi/2 and pi/2.\n",
      "    \n",
      "    asinh(x, /)\n",
      "        Return the inverse hyperbolic sine of x.\n",
      "    \n",
      "    atan(x, /)\n",
      "        Return the arc tangent (measured in radians) of x.\n",
      "        \n",
      "        The result is between -pi/2 and pi/2.\n",
      "    \n",
      "    atan2(y, x, /)\n",
      "        Return the arc tangent (measured in radians) of y/x.\n",
      "        \n",
      "        Unlike atan(y/x), the signs of both x and y are considered.\n",
      "    \n",
      "    atanh(x, /)\n",
      "        Return the inverse hyperbolic tangent of x.\n",
      "    \n",
      "    ceil(x, /)\n",
      "        Return the ceiling of x as an Integral.\n",
      "        \n",
      "        This is the smallest integer >= x.\n",
      "    \n",
      "    comb(n, k, /)\n",
      "        Number of ways to choose k items from n items without repetition and without order.\n",
      "        \n",
      "        Evaluates to n! / (k! * (n - k)!) when k <= n and evaluates\n",
      "        to zero when k > n.\n",
      "        \n",
      "        Also called the binomial coefficient because it is equivalent\n",
      "        to the coefficient of k-th term in polynomial expansion of the\n",
      "        expression (1 + x)**n.\n",
      "        \n",
      "        Raises TypeError if either of the arguments are not integers.\n",
      "        Raises ValueError if either of the arguments are negative.\n",
      "    \n",
      "    copysign(x, y, /)\n",
      "        Return a float with the magnitude (absolute value) of x but the sign of y.\n",
      "        \n",
      "        On platforms that support signed zeros, copysign(1.0, -0.0)\n",
      "        returns -1.0.\n",
      "    \n",
      "    cos(x, /)\n",
      "        Return the cosine of x (measured in radians).\n",
      "    \n",
      "    cosh(x, /)\n",
      "        Return the hyperbolic cosine of x.\n",
      "    \n",
      "    degrees(x, /)\n",
      "        Convert angle x from radians to degrees.\n",
      "    \n",
      "    dist(p, q, /)\n",
      "        Return the Euclidean distance between two points p and q.\n",
      "        \n",
      "        The points should be specified as sequences (or iterables) of\n",
      "        coordinates.  Both inputs must have the same dimension.\n",
      "        \n",
      "        Roughly equivalent to:\n",
      "            sqrt(sum((px - qx) ** 2.0 for px, qx in zip(p, q)))\n",
      "    \n",
      "    erf(x, /)\n",
      "        Error function at x.\n",
      "    \n",
      "    erfc(x, /)\n",
      "        Complementary error function at x.\n",
      "    \n",
      "    exp(x, /)\n",
      "        Return e raised to the power of x.\n",
      "    \n",
      "    expm1(x, /)\n",
      "        Return exp(x)-1.\n",
      "        \n",
      "        This function avoids the loss of precision involved in the direct evaluation of exp(x)-1 for small x.\n",
      "    \n",
      "    fabs(x, /)\n",
      "        Return the absolute value of the float x.\n",
      "    \n",
      "    factorial(x, /)\n",
      "        Find x!.\n",
      "        \n",
      "        Raise a ValueError if x is negative or non-integral.\n",
      "    \n",
      "    floor(x, /)\n",
      "        Return the floor of x as an Integral.\n",
      "        \n",
      "        This is the largest integer <= x.\n",
      "    \n",
      "    fmod(x, y, /)\n",
      "        Return fmod(x, y), according to platform C.\n",
      "        \n",
      "        x % y may differ.\n",
      "    \n",
      "    frexp(x, /)\n",
      "        Return the mantissa and exponent of x, as pair (m, e).\n",
      "        \n",
      "        m is a float and e is an int, such that x = m * 2.**e.\n",
      "        If x is 0, m and e are both 0.  Else 0.5 <= abs(m) < 1.0.\n",
      "    \n",
      "    fsum(seq, /)\n",
      "        Return an accurate floating point sum of values in the iterable seq.\n",
      "        \n",
      "        Assumes IEEE-754 floating point arithmetic.\n",
      "    \n",
      "    gamma(x, /)\n",
      "        Gamma function at x.\n",
      "    \n",
      "    gcd(*integers)\n",
      "        Greatest Common Divisor.\n",
      "    \n",
      "    hypot(...)\n",
      "        hypot(*coordinates) -> value\n",
      "        \n",
      "        Multidimensional Euclidean distance from the origin to a point.\n",
      "        \n",
      "        Roughly equivalent to:\n",
      "            sqrt(sum(x**2 for x in coordinates))\n",
      "        \n",
      "        For a two dimensional point (x, y), gives the hypotenuse\n",
      "        using the Pythagorean theorem:  sqrt(x*x + y*y).\n",
      "        \n",
      "        For example, the hypotenuse of a 3/4/5 right triangle is:\n",
      "        \n",
      "            >>> hypot(3.0, 4.0)\n",
      "            5.0\n",
      "    \n",
      "    isclose(a, b, *, rel_tol=1e-09, abs_tol=0.0)\n",
      "        Determine whether two floating point numbers are close in value.\n",
      "        \n",
      "          rel_tol\n",
      "            maximum difference for being considered \"close\", relative to the\n",
      "            magnitude of the input values\n",
      "          abs_tol\n",
      "            maximum difference for being considered \"close\", regardless of the\n",
      "            magnitude of the input values\n",
      "        \n",
      "        Return True if a is close in value to b, and False otherwise.\n",
      "        \n",
      "        For the values to be considered close, the difference between them\n",
      "        must be smaller than at least one of the tolerances.\n",
      "        \n",
      "        -inf, inf and NaN behave similarly to the IEEE 754 Standard.  That\n",
      "        is, NaN is not close to anything, even itself.  inf and -inf are\n",
      "        only close to themselves.\n",
      "    \n",
      "    isfinite(x, /)\n",
      "        Return True if x is neither an infinity nor a NaN, and False otherwise.\n",
      "    \n",
      "    isinf(x, /)\n",
      "        Return True if x is a positive or negative infinity, and False otherwise.\n",
      "    \n",
      "    isnan(x, /)\n",
      "        Return True if x is a NaN (not a number), and False otherwise.\n",
      "    \n",
      "    isqrt(n, /)\n",
      "        Return the integer part of the square root of the input.\n",
      "    \n",
      "    lcm(*integers)\n",
      "        Least Common Multiple.\n",
      "    \n",
      "    ldexp(x, i, /)\n",
      "        Return x * (2**i).\n",
      "        \n",
      "        This is essentially the inverse of frexp().\n",
      "    \n",
      "    lgamma(x, /)\n",
      "        Natural logarithm of absolute value of Gamma function at x.\n",
      "    \n",
      "    log(...)\n",
      "        log(x, [base=math.e])\n",
      "        Return the logarithm of x to the given base.\n",
      "        \n",
      "        If the base not specified, returns the natural logarithm (base e) of x.\n",
      "    \n",
      "    log10(x, /)\n",
      "        Return the base 10 logarithm of x.\n",
      "    \n",
      "    log1p(x, /)\n",
      "        Return the natural logarithm of 1+x (base e).\n",
      "        \n",
      "        The result is computed in a way which is accurate for x near zero.\n",
      "    \n",
      "    log2(x, /)\n",
      "        Return the base 2 logarithm of x.\n",
      "    \n",
      "    modf(x, /)\n",
      "        Return the fractional and integer parts of x.\n",
      "        \n",
      "        Both results carry the sign of x and are floats.\n",
      "    \n",
      "    nextafter(x, y, /)\n",
      "        Return the next floating-point value after x towards y.\n",
      "    \n",
      "    perm(n, k=None, /)\n",
      "        Number of ways to choose k items from n items without repetition and with order.\n",
      "        \n",
      "        Evaluates to n! / (n - k)! when k <= n and evaluates\n",
      "        to zero when k > n.\n",
      "        \n",
      "        If k is not specified or is None, then k defaults to n\n",
      "        and the function returns n!.\n",
      "        \n",
      "        Raises TypeError if either of the arguments are not integers.\n",
      "        Raises ValueError if either of the arguments are negative.\n",
      "    \n",
      "    pow(x, y, /)\n",
      "        Return x**y (x to the power of y).\n",
      "    \n",
      "    prod(iterable, /, *, start=1)\n",
      "        Calculate the product of all the elements in the input iterable.\n",
      "        \n",
      "        The default start value for the product is 1.\n",
      "        \n",
      "        When the iterable is empty, return the start value.  This function is\n",
      "        intended specifically for use with numeric values and may reject\n",
      "        non-numeric types.\n",
      "    \n",
      "    radians(x, /)\n",
      "        Convert angle x from degrees to radians.\n",
      "    \n",
      "    remainder(x, y, /)\n",
      "        Difference between x and the closest integer multiple of y.\n",
      "        \n",
      "        Return x - n*y where n*y is the closest integer multiple of y.\n",
      "        In the case where x is exactly halfway between two multiples of\n",
      "        y, the nearest even value of n is used. The result is always exact.\n",
      "    \n",
      "    sin(x, /)\n",
      "        Return the sine of x (measured in radians).\n",
      "    \n",
      "    sinh(x, /)\n",
      "        Return the hyperbolic sine of x.\n",
      "    \n",
      "    sqrt(x, /)\n",
      "        Return the square root of x.\n",
      "    \n",
      "    tan(x, /)\n",
      "        Return the tangent of x (measured in radians).\n",
      "    \n",
      "    tanh(x, /)\n",
      "        Return the hyperbolic tangent of x.\n",
      "    \n",
      "    trunc(x, /)\n",
      "        Truncates the Real x to the nearest Integral toward 0.\n",
      "        \n",
      "        Uses the __trunc__ magic method.\n",
      "    \n",
      "    ulp(x, /)\n",
      "        Return the value of the least significant bit of the float x.\n",
      "\n",
      "DATA\n",
      "    e = 2.718281828459045\n",
      "    inf = inf\n",
      "    nan = nan\n",
      "    pi = 3.141592653589793\n",
      "    tau = 6.283185307179586\n",
      "\n",
      "FILE\n",
      "    (built-in)\n",
      "\n",
      "\n",
      "None\n"
     ]
    }
   ],
   "source": [
    "#math-it will perform the mathematical calculation\n",
    "print(help('math'))"
   ]
  },
  {
   "cell_type": "code",
   "execution_count": 4,
   "id": "4f907b9e",
   "metadata": {},
   "outputs": [
    {
     "name": "stdout",
     "output_type": "stream",
     "text": [
      "The squre root value is: 9.0\n",
      "The squre root value is: 9.327379053088816\n"
     ]
    }
   ],
   "source": [
    "#sqrt-what number is multiplied by itself will equal to number of under the squre root\n",
    "import math#module name\n",
    "print(\"The squre root value is:\",math.sqrt(81))\n",
    "print(\"The squre root value is:\",math.sqrt(87))"
   ]
  },
  {
   "cell_type": "code",
   "execution_count": 8,
   "id": "c67cc6ed",
   "metadata": {},
   "outputs": [
    {
     "name": "stdout",
     "output_type": "stream",
     "text": [
      "The pow value is: 8.0\n",
      "The pow value is: 1.0\n"
     ]
    }
   ],
   "source": [
    "#pow-to find the power value of given number\n",
    "import math as m#alias name\n",
    "print(\"The pow value is:\",m.pow(2,3))\n",
    "print(\"The pow value is:\",m.pow(2,0))"
   ]
  },
  {
   "cell_type": "code",
   "execution_count": 9,
   "id": "103efecf",
   "metadata": {},
   "outputs": [
    {
     "name": "stdout",
     "output_type": "stream",
     "text": [
      "The ceil value is: 3\n",
      "The floor value is: 2\n"
     ]
    }
   ],
   "source": [
    "#ceil-it's gives round value of next number\n",
    "#floor-it's gives round value of same number\n",
    "from math import * #here we import all the packages\n",
    "print(\"The ceil value is:\",ceil(2.333))\n",
    "print(\"The floor value is:\",floor(2.98))"
   ]
  },
  {
   "cell_type": "code",
   "execution_count": 24,
   "id": "887e8e4a",
   "metadata": {},
   "outputs": [
    {
     "name": "stdout",
     "output_type": "stream",
     "text": [
      "The Factorial value is: 120\n",
      "The Remainder value is: 1.0\n",
      "The gcd value is: 20\n",
      "The absolute value is: 5\n",
      "The absolute value is: 9.0\n",
      "The absolute value is: 0.8989\n"
     ]
    }
   ],
   "source": [
    "#factorial-it's helps to find the factorial value of given number\n",
    "#remainder-it's help to find remainder value of given two numbers like % module operator \n",
    "#gcd-gretest common divisor-it's give output as last divisable value of given numbers\n",
    "#abs,fabs-it will give output as absolute number\n",
    "print(\"The Factorial value is:\",factorial(5))\n",
    "print(\"The Remainder value is:\",remainder(10,3))\n",
    "print(\"The gcd value is:\",gcd(100,60))\n",
    "print(\"The absolute value is:\",abs(-5))\n",
    "print(\"The absolute value is:\",fabs(9))\n",
    "print(\"The absolute value is:\",fabs(-0.8989))"
   ]
  },
  {
   "cell_type": "code",
   "execution_count": 32,
   "id": "7fd0f9be",
   "metadata": {},
   "outputs": [
    {
     "name": "stdout",
     "output_type": "stream",
     "text": [
      "The sum value is: 45\n",
      "The sum value is: 32.0\n"
     ]
    }
   ],
   "source": [
    "#sum,fsum-it is used to find sum of given values\n",
    "print(\"The sum value is:\",sum(range(0,10)))\n",
    "li=[8,8,8,8]\n",
    "print(\"The sum value is:\",fsum(li))"
   ]
  },
  {
   "cell_type": "code",
   "execution_count": 35,
   "id": "553d941c",
   "metadata": {},
   "outputs": [
    {
     "name": "stdout",
     "output_type": "stream",
     "text": [
      "Cmath squreroot value is: (9.433981132056603+0j)\n",
      "Cmath cos value is: (1-0j)\n",
      "Cmath sin value is: (-0.9880316240928618+0j)\n",
      "Cmath tan value is: (1.3386902103511544+0j)\n"
     ]
    }
   ],
   "source": [
    "#python cmath module-this one give result as a complex number\n",
    "import cmath\n",
    "print(\"Cmath squreroot value is:\",cmath.sqrt(89))\n",
    "from cmath import *\n",
    "print(\"Cmath cos value is:\",cos(0))\n",
    "print(\"Cmath sin value is:\",sin(30))\n",
    "print(\"Cmath tan value is:\",tan(180))"
   ]
  },
  {
   "cell_type": "code",
   "execution_count": 38,
   "id": "90dfd771",
   "metadata": {},
   "outputs": [
    {
     "name": "stdout",
     "output_type": "stream",
     "text": [
      "                                  2023\n",
      "\n",
      "      January                   February                   March\n",
      "Mo Tu We Th Fr Sa Su      Mo Tu We Th Fr Sa Su      Mo Tu We Th Fr Sa Su\n",
      "                   1             1  2  3  4  5             1  2  3  4  5\n",
      " 2  3  4  5  6  7  8       6  7  8  9 10 11 12       6  7  8  9 10 11 12\n",
      " 9 10 11 12 13 14 15      13 14 15 16 17 18 19      13 14 15 16 17 18 19\n",
      "16 17 18 19 20 21 22      20 21 22 23 24 25 26      20 21 22 23 24 25 26\n",
      "23 24 25 26 27 28 29      27 28                     27 28 29 30 31\n",
      "30 31\n",
      "\n",
      "       April                      May                       June\n",
      "Mo Tu We Th Fr Sa Su      Mo Tu We Th Fr Sa Su      Mo Tu We Th Fr Sa Su\n",
      "                1  2       1  2  3  4  5  6  7                1  2  3  4\n",
      " 3  4  5  6  7  8  9       8  9 10 11 12 13 14       5  6  7  8  9 10 11\n",
      "10 11 12 13 14 15 16      15 16 17 18 19 20 21      12 13 14 15 16 17 18\n",
      "17 18 19 20 21 22 23      22 23 24 25 26 27 28      19 20 21 22 23 24 25\n",
      "24 25 26 27 28 29 30      29 30 31                  26 27 28 29 30\n",
      "\n",
      "        July                     August                  September\n",
      "Mo Tu We Th Fr Sa Su      Mo Tu We Th Fr Sa Su      Mo Tu We Th Fr Sa Su\n",
      "                1  2          1  2  3  4  5  6                   1  2  3\n",
      " 3  4  5  6  7  8  9       7  8  9 10 11 12 13       4  5  6  7  8  9 10\n",
      "10 11 12 13 14 15 16      14 15 16 17 18 19 20      11 12 13 14 15 16 17\n",
      "17 18 19 20 21 22 23      21 22 23 24 25 26 27      18 19 20 21 22 23 24\n",
      "24 25 26 27 28 29 30      28 29 30 31               25 26 27 28 29 30\n",
      "31\n",
      "\n",
      "      October                   November                  December\n",
      "Mo Tu We Th Fr Sa Su      Mo Tu We Th Fr Sa Su      Mo Tu We Th Fr Sa Su\n",
      "                   1             1  2  3  4  5                   1  2  3\n",
      " 2  3  4  5  6  7  8       6  7  8  9 10 11 12       4  5  6  7  8  9 10\n",
      " 9 10 11 12 13 14 15      13 14 15 16 17 18 19      11 12 13 14 15 16 17\n",
      "16 17 18 19 20 21 22      20 21 22 23 24 25 26      18 19 20 21 22 23 24\n",
      "23 24 25 26 27 28 29      27 28 29 30               25 26 27 28 29 30 31\n",
      "30 31\n",
      "\n"
     ]
    }
   ],
   "source": [
    "#calendar-calendar module used to display yearly and monthly calendar\n",
    "import calendar#module name\n",
    "print(calendar.calendar(2023))#2nd calendar is package name\n"
   ]
  },
  {
   "cell_type": "code",
   "execution_count": 58,
   "id": "d64ff918",
   "metadata": {},
   "outputs": [
    {
     "name": "stdout",
     "output_type": "stream",
     "text": [
      "     June 2023\n",
      "Mo Tu We Th Fr Sa Su\n",
      "          1  2  3  4\n",
      " 5  6  7  8  9 10 11\n",
      "12 13 14 15 16 17 18\n",
      "19 20 21 22 23 24 25\n",
      "26 27 28 29 30\n",
      "\n",
      "[2000, 2004, 2008, 2012, 2016, 2020]\n",
      "[2000, 2012]\n"
     ]
    }
   ],
   "source": [
    "#month-it will display month calendar\n",
    "from calendar import *\n",
    "print(month(2023,6))#6-month\n",
    "#isleap-to find whether we given year is leap or not\n",
    "#to find leap year using list comprehension\n",
    "list1=[ll for ll in range(2000,2023) if isleap(ll)==True]\n",
    "print(list1)\n",
    "#to find leap year using lambda filter function\n",
    "li=[2000,2012,2023]\n",
    "li1=list(filter(lambda x:isleap(x)==True,li))\n",
    "print(li1)"
   ]
  },
  {
   "cell_type": "code",
   "execution_count": 2,
   "id": "340433b5",
   "metadata": {},
   "outputs": [
    {
     "name": "stdout",
     "output_type": "stream",
     "text": [
      "['January', 'February', 'March', 'April', 'May', 'June', 'July', 'August', 'September', 'October', 'November', 'December']\n",
      "['Jan', 'Feb', 'Mar', 'Apr', 'May', 'Jun', 'Jul', 'Aug', 'Sep', 'Oct', 'Nov', 'Dec']\n"
     ]
    }
   ],
   "source": [
    "#creating months names using calendar module\n",
    "import calendar\n",
    "months=calendar.month_name[1:]\n",
    "#creating abbreviation months names using calendar module\n",
    "#abbreviation is Jan,Feb...\n",
    "abbreviation=calendar.month_abbr[1:]\n",
    "print(months)\n",
    "print(abbreviation)"
   ]
  },
  {
   "cell_type": "code",
   "execution_count": 11,
   "id": "55f9067a",
   "metadata": {},
   "outputs": [
    {
     "name": "stdout",
     "output_type": "stream",
     "text": [
      "-0.9880316240928618\n",
      "0.15425144988758405\n",
      "0.6997549963688922\n"
     ]
    }
   ],
   "source": [
    "#trignometric functions:\n",
    "import math as m    \n",
    "k_sin=lambda x:m.sin(x)\n",
    "k_cos=lambda x:m.cos(x)\n",
    "k_acos=lambda x:m.acos(x)\n",
    "print(k_sin(30))\n",
    "print(k_cos(30))\n",
    "print(k_acos(0.765))   "
   ]
  },
  {
   "cell_type": "code",
   "execution_count": 46,
   "id": "35caaaf1",
   "metadata": {},
   "outputs": [
    {
     "name": "stdout",
     "output_type": "stream",
     "text": [
      "3.141592653589793\n",
      "2.718281828459045\n",
      "Eqular value of : 2.7182816639434755\n",
      "6.283185307179586\n"
     ]
    }
   ],
   "source": [
    "from math import *\n",
    "#we use these three for various calculation\n",
    "#pi-basically we use pi for to findout area,volume,cirucumfernce of circle,squre,...\n",
    "print(pi)\n",
    "#euler-euler number is endles number it will increase 2.7..... after . \n",
    "print(e)\n",
    "#eular fromula\n",
    "def ee(n):\n",
    "    return (1+1/n)**n    \n",
    "print(\"Eqular value of :\",ee(1567123445))\n",
    "#tau-it will give how much divisor have we given number\n",
    "12-1,2,3,4,6,12-ans-6\n",
    "print(tau)"
   ]
  },
  {
   "cell_type": "code",
   "execution_count": 24,
   "id": "5334b376",
   "metadata": {},
   "outputs": [
    {
     "name": "stdout",
     "output_type": "stream",
     "text": [
      "Enter the radius value:5\n",
      "THE AREA OF CIRCLE VALUE IS: 78.57142857142857\n",
      "THE AREA OF SQURE VALUE IS: 314.1592653589793\n"
     ]
    }
   ],
   "source": [
    "#area of circle-22/7*r**2\n",
    "#area of squre-4*22/7*r**2\n",
    "def aoc(r):\n",
    "    result=(22/7)*r**2\n",
    "    print(\"THE AREA OF CIRCLE VALUE IS:\",result)\n",
    "inp=int(input(\"Enter the radius value:\"))\n",
    "aoc(inp)\n",
    "area_of_squre=lambda r:4*pi*r**2\n",
    "print(\"THE AREA OF SQURE VALUE IS:\",area_of_squre(inp))"
   ]
  },
  {
   "cell_type": "code",
   "execution_count": 25,
   "id": "f14850b7",
   "metadata": {},
   "outputs": [
    {
     "name": "stdout",
     "output_type": "stream",
     "text": [
      "Circumference of circle is: 31.41592653589793\n",
      "Circumference of Squre is: 20\n"
     ]
    }
   ],
   "source": [
    "#cirumference of circle-2*22/7*r\n",
    "#cirumference of squre-4*s\n",
    "ciru_of_circle=lambda r:2*pi*r\n",
    "ciru_of_squre=lambda s:4*s\n",
    "print(\"Circumference of circle is:\",ciru_of_circle(5))\n",
    "print(\"Circumference of Squre is:\",ciru_of_squre(5))"
   ]
  },
  {
   "cell_type": "code",
   "execution_count": 20,
   "id": "9c580062",
   "metadata": {},
   "outputs": [
    {
     "name": "stdout",
     "output_type": "stream",
     "text": [
      "volume of Sphere is: 904.7786842338603\n"
     ]
    }
   ],
   "source": [
    "#volume of sphere-(4/3)*22/7*r**3\n",
    "import math\n",
    "pi=math.pi\n",
    "volume_of_sphere=lambda r:(4/3)*pi*r**3\n",
    "print(\"volume of Sphere is:\",volume_of_sphere(6))"
   ]
  },
  {
   "cell_type": "code",
   "execution_count": 21,
   "id": "c994d734",
   "metadata": {},
   "outputs": [
    {
     "name": "stdout",
     "output_type": "stream",
     "text": [
      "nan\n",
      "True\n",
      "--------------------------------------------------\n",
      "inf\n",
      "False\n"
     ]
    }
   ],
   "source": [
    "#nan-(not a number)nan package going to check result is either nan or not\n",
    "#when we get nan number?-some calculation (ex)sqrt(-1)=nan\n",
    "import math\n",
    "result =math.nan \n",
    "print(result)  # Output: nan\n",
    "print(math.isnan(result))  # Output: True (Check if the result is NaN)\n",
    "print('-'*50)\n",
    "#inf-infinity\n",
    "r=math.inf\n",
    "print(r)\n",
    "print(math.isfinite(r))  # Output: True (Check if the result is non infinity)"
   ]
  },
  {
   "cell_type": "code",
   "execution_count": 42,
   "id": "ce452f7e",
   "metadata": {},
   "outputs": [
    {
     "name": "stdout",
     "output_type": "stream",
     "text": [
      "0123456789\n",
      "abcdefghijklmnopqrstuvwxyzABCDEFGHIJKLMNOPQRSTUVWXYZ\n",
      "abcdefghijklmnopqrstuvwxyz\n",
      "ABCDEFGHIJKLMNOPQRSTUVWXYZ\n",
      "!\"#$%&'()*+,-./:;<=>?@[\\]^_`{|}~\n"
     ]
    }
   ],
   "source": [
    "#string module-using string module we can get alphapatical,digit and special charcters\n",
    "import string\n",
    "print(string.digits)\n",
    "print(string.ascii_letters)\n",
    "lowercase=string.ascii_lowercase\n",
    "uppercase=string.ascii_uppercase\n",
    "#special characters\n",
    "special_c=string.punctuation\n",
    "print(lowercase)\n",
    "print(uppercase)\n",
    "print(special_c)"
   ]
  },
  {
   "cell_type": "code",
   "execution_count": null,
   "id": "1ea9ed82",
   "metadata": {},
   "outputs": [],
   "source": []
  },
  {
   "cell_type": "code",
   "execution_count": 20,
   "id": "49b21eb0",
   "metadata": {},
   "outputs": [
    {
     "name": "stdout",
     "output_type": "stream",
     "text": [
      "Enter the Number between (1-100)34\n",
      "too high\n",
      "Enter the Number between (1-100)30\n",
      "too high\n",
      "Enter the Number between (1-100)20\n",
      "too high\n",
      "Enter the Number between (1-100)10\n",
      "too low\n",
      "Enter the Number between (1-100)15\n",
      "too low\n",
      "Enter the Number between (1-100)17\n",
      "too low\n",
      "Enter the Number between (1-100)19\n",
      "too high\n",
      "Enter the Number between (1-100)18\n",
      "You guessed corrct number\n"
     ]
    }
   ],
   "source": [
    "#Guessing game using random number\n",
    "import random\n",
    "secret_number=random.randint(1,100)\n",
    "while True:\n",
    "    inp=int(input(\"Enter the Number between (1-100)\"))\n",
    "    if secret_number == inp:\n",
    "        print(\"You guessed corrct number\")\n",
    "        break\n",
    "    else:\n",
    "        if inp>secret_number:\n",
    "            print(\"too high\")\n",
    "        else:\n",
    "            print(\"too low\")"
   ]
  },
  {
   "cell_type": "code",
   "execution_count": 11,
   "id": "5e7df719",
   "metadata": {},
   "outputs": [
    {
     "name": "stdout",
     "output_type": "stream",
     "text": [
      "Enter the Number between (1-30)only 5 chance is available15\n",
      "Its high!!! but not close please think and try\n",
      "Enter the Number between (1-30)only 4 chance is available10\n",
      "Its high!!! but close keep try\n",
      "Enter the Number between (1-30)only 3 chance is available10\n",
      "Its high!!! but close keep try\n",
      "Enter the Number between (1-30)only 2 chance is available4\n",
      "Its low!!! but close keep try\n",
      "please guess carefully last cahance\n",
      "Enter the Number between (1-30)only 1 chance is available5\n",
      "Its low!!! but close nice try better luck next time\n",
      "Sorry, you've reached the maximum number of guesses. The secret number was: 6\n"
     ]
    }
   ],
   "source": [
    "#Guessing the game using random number\n",
    "import random\n",
    "secret_number=random.randint(1,30)\n",
    "#print(secret_number)\n",
    "maximum_attempt=5\n",
    "no_of_attempt=0\n",
    "while no_of_attempt<maximum_attempt:\n",
    "    if(maximum_attempt-no_of_attempt==1):\n",
    "        print(\"please guess carefully last cahance\")\n",
    "    inp=int(input(\"Enter the Number between (1-30)only {} chance is available\".format(maximum_attempt-no_of_attempt)))\n",
    "    \n",
    "    no_of_attempt+=1\n",
    "    if secret_number == inp:\n",
    "        print(\"You guessed corrct number\")\n",
    "        break\n",
    "    else:\n",
    "        temp=secret_number-inp\n",
    "        #print(temp)\n",
    "        if(temp>=1 and temp<=5 and no_of_attempt==5):\n",
    "             print(\"Its low!!! but close nice try better luck next time\") \n",
    "        elif(temp>=1 and temp<=5):\n",
    "            print(\"Its low!!! but close keep try\")\n",
    "        elif(temp>=6 and temp<=29 and no_of_attempt==5):\n",
    "            print(\"Its low!!! but not close better luck next time\")\n",
    "        elif(temp>=6 and temp<=29):\n",
    "            print(\"Its low!!! but not close please think and try\")\n",
    "        elif(temp<=-1 and temp>=-5 and no_of_attempt==5):\n",
    "            print(\"Its high!!! but close nice try better luck next time \")\n",
    "        elif(temp<=-1 and temp>=-5):\n",
    "            print(\"Its high!!! but close keep try\")\n",
    "        elif(temp<=-6 and temp<=-29 and no_of_attempt==5):\n",
    "            print(\"Its high!!! but not close better luck next time\")\n",
    "        else:\n",
    "            print(\"Its high!!! but not close please think and try\")\n",
    "        if no_of_attempt == maximum_attempt:\n",
    "            print(\"Sorry, you've reached the maximum number of guesses. The secret number was:\", secret_number)"
   ]
  },
  {
   "cell_type": "code",
   "execution_count": 4,
   "id": "2e919630",
   "metadata": {},
   "outputs": [
    {
     "name": "stdout",
     "output_type": "stream",
     "text": [
      "-1\n",
      "kkkk\n"
     ]
    }
   ],
   "source": [
    "\n",
    "print(28-29)\n",
    "temp=-2\n",
    "if(temp>=-1 and temp<=-5):\n",
    "            print(\"Its high but close\")\n",
    "        \n",
    "else:\n",
    "    print(\"kkkk\")"
   ]
  },
  {
   "cell_type": "code",
   "execution_count": 45,
   "id": "621130c2",
   "metadata": {},
   "outputs": [
    {
     "name": "stdout",
     "output_type": "stream",
     "text": [
      "6\n",
      "10\n",
      "--------------------------------------------------\n",
      "6\n",
      "10\n"
     ]
    }
   ],
   "source": [
    "#swap the value of both variables using one more variable\n",
    "a=10\n",
    "b=6\n",
    "c=a\n",
    "a=b\n",
    "b=c\n",
    "print(a)\n",
    "print(b)\n",
    "print('-'*50)\n",
    "#swap the value of both variables without using any other variable\n",
    "a=10\n",
    "b=6\n",
    "a=a+b#a=10+6-->a=16\n",
    "b=a-b#b=16-6-->b=10\n",
    "a=a-b#a=16-10-->a=6\n",
    "print(a)\n",
    "print(b)"
   ]
  },
  {
   "cell_type": "code",
   "execution_count": 35,
   "id": "cdb42e4e",
   "metadata": {},
   "outputs": [
    {
     "name": "stdout",
     "output_type": "stream",
     "text": [
      "Enter the type of password:(easy/normal/strong)strong\n",
      "Enter the length of password(length should be minimum 8 to maximum 16):11\n",
      "EOD&7l#s\\EL"
     ]
    }
   ],
   "source": [
    "#password generation using random module\n",
    "import random\n",
    "import string\n",
    "str='{}{}{}'.format(string.digits,string.punctuation,string.ascii_letters)\n",
    "str1='{}{}'.format(string.digits,string.ascii_lowercase)\n",
    "str2='{}'.format(string.digits)\n",
    "type=input(\"Enter the type of password:(easy/normal/strong)\")\n",
    "if(type.lower()=='strong' or type.lower()=='normal' or type.lower()=='easy'):\n",
    "    \n",
    "    if type.lower()=='strong':\n",
    "        len1=int(input(\"Enter the length of password(length should be minimum 8 to maximum 16):\"))\n",
    "        if(len1>=8 and len1<=16):\n",
    "            for i in range(len1):\n",
    "                print(random.choice(str),end='')\n",
    "        else:\n",
    "            print(\"please enter length as minimum 8 to maximum 16 \")\n",
    "    elif type.lower()=='normal':\n",
    "        len1=int(input(\"Enter the length of password(length should be minimum 6 to maximum 10):\"))\n",
    "        if(len1>=6 and len1<=10):\n",
    "            for i in range(len1):\n",
    "                print(random.choice(str1),end='')\n",
    "        else:\n",
    "            print(\"please enter length as minimum 6 to maximum 10\")\n",
    "    else:\n",
    "        len1=int(input(\"Enter the length of password(length should be minimum 1 to maximum 6):\"))\n",
    "        if(len1>=1 and len1<=6):\n",
    "            for i in range(len1):\n",
    "                print(random.choice(str2),end='')\n",
    "        else:\n",
    "            print(\"please enter length as minimum 1 to maximum 6\")\n",
    "else:\n",
    "    print(\"Please enter mentioned one\")"
   ]
  },
  {
   "cell_type": "code",
   "execution_count": 27,
   "id": "2cd1089a",
   "metadata": {},
   "outputs": [
    {
     "name": "stdout",
     "output_type": "stream",
     "text": [
      "Generated Password: #xWm3U!#\n"
     ]
    }
   ],
   "source": [
    "import random\n",
    "import string\n",
    "\n",
    "def generate_password(length):\n",
    "    characters = string.ascii_letters + string.digits + string.punctuation\n",
    "    password = ''.join(random.choice(characters) for _ in range(length))\n",
    "    return password\n",
    "\n",
    "password_length = 8\n",
    "generated_password = generate_password(password_length)\n",
    "print(\"Generated Password:\", generated_password)\n"
   ]
  },
  {
   "cell_type": "code",
   "execution_count": 29,
   "id": "4c24536a",
   "metadata": {},
   "outputs": [
    {
     "name": "stdout",
     "output_type": "stream",
     "text": [
      "[1, 2, 3]\n"
     ]
    }
   ],
   "source": [
    "import random\n",
    "\n",
    "list1 = [1, 2, 3]\n",
    "list2 = ['a', 'b', 'c']\n",
    "list3 = ['apple', 'banana', 'orange']\n",
    "\n",
    "random_list = random.choice([list1, list2, list3])\n",
    "print(random_list)\n"
   ]
  },
  {
   "cell_type": "code",
   "execution_count": 47,
   "id": "0b02547b",
   "metadata": {},
   "outputs": [
    {
     "name": "stdout",
     "output_type": "stream",
     "text": [
      "0.59693864605247\n"
     ]
    }
   ],
   "source": [
    "#random-it is a built-in module of python which is used to generate the random number\n",
    "import random\n",
    "print(random.random())#it will give floating point random number between 0.0 to 1\n"
   ]
  },
  {
   "cell_type": "code",
   "execution_count": 5,
   "id": "2cdc16ab",
   "metadata": {},
   "outputs": [
    {
     "name": "stdout",
     "output_type": "stream",
     "text": [
      "93\n"
     ]
    }
   ],
   "source": [
    "import random\n",
    "#if we want integer number, we can use randint() package\n",
    "print(random.randint(12,222))#give 12 to 222 one random nnumber"
   ]
  },
  {
   "cell_type": "code",
   "execution_count": 15,
   "id": "ce0eb3c7",
   "metadata": {},
   "outputs": [
    {
     "name": "stdout",
     "output_type": "stream",
     "text": [
      "89\n",
      "--------------------------------------------------\n",
      "78\n",
      "['k', 'a', 'r']\n"
     ]
    }
   ],
   "source": [
    "#choice\n",
    "print(random.choice([23,34,556,89,90]))#it will give one random number from the given list\n",
    "print('-'*50)\n",
    "li=[89,'karthik','3e',78]\n",
    "random1=random.choice(li)\n",
    "print(random1)\n",
    "li1=[5,67,86]\n",
    "li2=['k','a','r']\n",
    "print(random.choice([li,li1,li2]))"
   ]
  },
  {
   "cell_type": "code",
   "execution_count": 19,
   "id": "7d28dbbf",
   "metadata": {},
   "outputs": [
    {
     "name": "stdout",
     "output_type": "stream",
     "text": [
      "[34, 89, 90, 23, 45, 0]\n"
     ]
    }
   ],
   "source": [
    "import random\n",
    "#shuffle-it's helps to shuffle we given values every time\n",
    "li=[89,90,0,45,34,23]\n",
    "random.shuffle(li)\n",
    "print(li)"
   ]
  },
  {
   "cell_type": "code",
   "execution_count": 9,
   "id": "d3e12be4",
   "metadata": {},
   "outputs": [
    {
     "name": "stdout",
     "output_type": "stream",
     "text": [
      "2000-05-16\n",
      "Today date is: 2023-06-18\n"
     ]
    }
   ],
   "source": [
    "#datetime module-python datetime module suplies classes to work with date and time\n",
    "from datetime import date\n",
    "print(date(2000,5,16))#we can give ony yyyy-m-d format\n",
    "my_date=date(2023,6,18)\n",
    "print(\"Today date is:\",my_date)"
   ]
  },
  {
   "cell_type": "code",
   "execution_count": 11,
   "id": "5e76f069",
   "metadata": {},
   "outputs": [
    {
     "name": "stdout",
     "output_type": "stream",
     "text": [
      "Today date is: 2023-06-18\n",
      "--------------------------------------------------\n",
      "Current year is: 2023\n",
      "Current month is: 6\n",
      "Current day is: 18\n"
     ]
    }
   ],
   "source": [
    "#today-it helps to display today date \n",
    "from datetime import date\n",
    "my_date=date.today()\n",
    "print(\"Today date is:\",my_date)\n",
    "print('-'*50)\n",
    "print(\"Current year is:\",my_date.year)\n",
    "print(\"Current month is:\",my_date.month)\n",
    "print(\"Current day is:\",my_date.day)"
   ]
  },
  {
   "cell_type": "code",
   "execution_count": 44,
   "id": "8c63ac47",
   "metadata": {},
   "outputs": [
    {
     "name": "stdout",
     "output_type": "stream",
     "text": [
      "2023-06-18 02:20:52.569962\n",
      "The current second is: 02:20:52.569962\n",
      "The current second is: 20\n",
      "The current second is: 52\n",
      "The current second is: 6\n",
      "The current second is: 2023\n"
     ]
    }
   ],
   "source": [
    "#now\n",
    "import datetime\n",
    "print(datetime.datetime.now())#1st datetime-module,2nd datetime-package\n",
    "n=datetime.datetime.now()\n",
    "print(\"The current second is:\",n.time())\n",
    "print(\"The current second is:\",n.minute)\n",
    "print(\"The current second is:\",n.second)\n",
    "print(\"The current second is:\",n.month)\n",
    "print(\"The current second is:\",n.year)\n"
   ]
  },
  {
   "cell_type": "code",
   "execution_count": 35,
   "id": "a6ac6bd7",
   "metadata": {},
   "outputs": [
    {
     "name": "stdout",
     "output_type": "stream",
     "text": [
      "Sunday-Sun-06/18/23-18-June-Jun-23-2023-06\n",
      "Today date is: 18/Jun/2023(Sunday)\n"
     ]
    }
   ],
   "source": [
    "#strftime-we can format the current time output as we expected by strftime\n",
    "#%A-diplay day like Monday..\n",
    "#%a-diplay day like Mon,Tue..\n",
    "#%d-diplay day like 6,8,23..\n",
    "#%D-display like 06/18/23\n",
    "#%B-display month like May,June..\n",
    "#%b-display month like May,Jun..\n",
    "#%Y-display year like a 2023,2024\n",
    "#%y-display year like 23,22..\n",
    "#%m-display month like 04,05...\n",
    "import datetime\n",
    "now=datetime.datetime.now()\n",
    "customized=now.strftime('%A-%a-%D-%d-%B-%b-%y-%Y-%m')\n",
    "print(customized)\n",
    "#we can use those attribute as we need\n",
    "print(\"Today date is:\",now.strftime('%d/%b/%Y(%A)'))"
   ]
  },
  {
   "cell_type": "code",
   "execution_count": 14,
   "id": "971e7c96",
   "metadata": {},
   "outputs": [
    {
     "name": "stdout",
     "output_type": "stream",
     "text": [
      "['file1', 'file2', 'file3']\n",
      "['file4', 'file5', 'file6']\n",
      "['file7', 'file8', 'file9']\n",
      "['file10', 'file11', 'file12']\n",
      "['file13']\n"
     ]
    }
   ],
   "source": [
    "#write a program to seperate 3 values to one list next 3 values to another list\n",
    "list=['file1','file2','file3','file4','file5','file6','file7','file8','file9','file10','file11','file12','file13']\n",
    "list1=[]\n",
    "length=len(list)\n",
    "i=0\n",
    "while i<length:\n",
    "    if i<3:\n",
    "        list1.append(list[i])\n",
    "        i+=1\n",
    "    else:\n",
    "        print(list1)\n",
    "        del list[0:3]\n",
    "        #print(list)\n",
    "        length=len(list)\n",
    "        list1=[]\n",
    "        i=0\n",
    "print(list)        "
   ]
  },
  {
   "cell_type": "code",
   "execution_count": 13,
   "id": "e0670e7f",
   "metadata": {},
   "outputs": [
    {
     "name": "stdout",
     "output_type": "stream",
     "text": [
      "Account number is: PJXBC96751\n"
     ]
    }
   ],
   "source": [
    "#gerneate account number using random module\n",
    "import random\n",
    "import string\n",
    "account_number=''.join(random.sample(string.ascii_uppercase,5)+random.sample(string.digits,5))\n",
    "print(\"Account number is:\",account_number)"
   ]
  },
  {
   "cell_type": "markdown",
   "id": "11f86207",
   "metadata": {},
   "source": [
    "#os module-operaing system(Linux commands)"
   ]
  },
  {
   "cell_type": "code",
   "execution_count": 19,
   "id": "1d9131a9",
   "metadata": {},
   "outputs": [],
   "source": [
    "#mkdir-going to make the directory(folder) to we given path\n",
    "import os\n",
    "os.mkdir('E:/eduverse')#eduverse is folder name\n"
   ]
  },
  {
   "cell_type": "code",
   "execution_count": 21,
   "id": "d0cebd0e",
   "metadata": {},
   "outputs": [
    {
     "name": "stdout",
     "output_type": "stream",
     "text": [
      "C:\\Users\\Admin\\kkk(Python)\n"
     ]
    }
   ],
   "source": [
    "#getcwd-(getcurrentworkingdirctory) get the name of the current working directory\n",
    "print(os.getcwd())"
   ]
  },
  {
   "cell_type": "code",
   "execution_count": 22,
   "id": "17f3f83f",
   "metadata": {},
   "outputs": [],
   "source": [
    "#rmdir-(remove directory)It's goong to remove the directory(folder)\n",
    "os.rmdir('E:/eduverse')"
   ]
  },
  {
   "cell_type": "code",
   "execution_count": 23,
   "id": "225b552f",
   "metadata": {},
   "outputs": [],
   "source": [
    "#rename-it's rename to existing file\n",
    "os.rename('E:/PYTHON/FILE/k2.txt','E:/PYTHON/FILE/k3.txt')"
   ]
  },
  {
   "cell_type": "code",
   "execution_count": 25,
   "id": "9a608e1c",
   "metadata": {},
   "outputs": [],
   "source": [
    "#remove-it will remove the file\n",
    "os.remove('E:/PYTHON/FILE/k3.txt')"
   ]
  },
  {
   "cell_type": "code",
   "execution_count": null,
   "id": "5a78676e",
   "metadata": {},
   "outputs": [],
   "source": []
  }
 ],
 "metadata": {
  "kernelspec": {
   "display_name": "Python 3 (ipykernel)",
   "language": "python",
   "name": "python3"
  },
  "language_info": {
   "codemirror_mode": {
    "name": "ipython",
    "version": 3
   },
   "file_extension": ".py",
   "mimetype": "text/x-python",
   "name": "python",
   "nbconvert_exporter": "python",
   "pygments_lexer": "ipython3",
   "version": "3.10.9"
  }
 },
 "nbformat": 4,
 "nbformat_minor": 5
}
