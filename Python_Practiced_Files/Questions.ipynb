{
 "cells": [
  {
   "cell_type": "markdown",
   "id": "c44b6696",
   "metadata": {},
   "source": [
    "# Questions:"
   ]
  },
  {
   "cell_type": "code",
   "execution_count": 6,
   "id": "38cd36ff",
   "metadata": {},
   "outputs": [
    {
     "name": "stdout",
     "output_type": "stream",
     "text": [
      "Enter the String Value:is it\n",
      "Output is: is it\n"
     ]
    }
   ],
   "source": [
    "#1.Write a program to replace 'there' word with 'their word in a string'\n",
    "#first method\n",
    "str_input=input(\"Enter the String Value:\")\n",
    "list1=str_input.split(\" \")\n",
    "for j,i in enumerate(list1):\n",
    "    if('there'== i):\n",
    "        list1[j]=\"their\"\n",
    "output_string=' '.join(list1)\n",
    "print(\"Output is:\",output_string)\n",
    "\n",
    "\n",
    "        "
   ]
  },
  {
   "cell_type": "code",
   "execution_count": null,
   "id": "5b26255d",
   "metadata": {},
   "outputs": [],
   "source": [
    "#2.Write a function that returns the reverse of the "
   ]
  },
  {
   "cell_type": "code",
   "execution_count": 26,
   "id": "cf1917ef",
   "metadata": {},
   "outputs": [
    {
     "name": "stdout",
     "output_type": "stream",
     "text": [
      "Enter the Input Value:123\n",
      "{1: 'A', 2: 'B', 3: 'C', 4: 'D', 5: 'E', 6: 'F', 7: 'G', 8: 'H', 9: 'I', 10: 'J', 11: 'K', 12: 'L', 13: 'M', 14: 'N', 15: 'O', 16: 'P', 17: 'Q', 18: 'R', 19: 'S', 20: 'T', 21: 'U', 22: 'V', 23: 'W', 24: 'X', 25: 'Y', 26: 'Z'}\n",
      "[1, 2, 3]\n",
      "ABC"
     ]
    }
   ],
   "source": [
    "'''\n",
    "write a program  to take numbers as input and print all string combination from given numbers\n",
    "Example input:\n",
    "152\n",
    "Example Output:\n",
    "AEB,OB\n",
    "'''\n",
    "import string\n",
    "User_input=int(input(\"Enter the Input Value:\"))\n",
    "s=string.ascii_uppercase\n",
    "dic={}\n",
    "for j,i in enumerate(s):\n",
    "    dic[j+1]=i\n",
    "print(dic)\n",
    "li=[int(l) for l in str(User_input)]\n",
    "print(li)\n",
    "for k in li:\n",
    "    print(dic[k],end=\"\")\n",
    "for m in li:\n",
    "    pass\n",
    "    "
   ]
  },
  {
   "cell_type": "code",
   "execution_count": null,
   "id": "426516eb",
   "metadata": {},
   "outputs": [],
   "source": []
  },
  {
   "cell_type": "code",
   "execution_count": null,
   "id": "2d6aae8d",
   "metadata": {},
   "outputs": [],
   "source": []
  }
 ],
 "metadata": {
  "kernelspec": {
   "display_name": "Python 3 (ipykernel)",
   "language": "python",
   "name": "python3"
  },
  "language_info": {
   "codemirror_mode": {
    "name": "ipython",
    "version": 3
   },
   "file_extension": ".py",
   "mimetype": "text/x-python",
   "name": "python",
   "nbconvert_exporter": "python",
   "pygments_lexer": "ipython3",
   "version": "3.10.9"
  }
 },
 "nbformat": 4,
 "nbformat_minor": 5
}
