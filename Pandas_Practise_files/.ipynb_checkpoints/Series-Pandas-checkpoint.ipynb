{
 "cells": [
  {
   "cell_type": "markdown",
   "id": "62d0958c",
   "metadata": {},
   "source": [
    "# Series-Pandas"
   ]
  },
  {
   "cell_type": "code",
   "execution_count": 1,
   "id": "0f24f37f",
   "metadata": {},
   "outputs": [],
   "source": [
    "#series-it's display data's like a onedimention table with column\n",
    "import numpy as np\n",
    "import pandas as pa"
   ]
  },
  {
   "cell_type": "code",
   "execution_count": 15,
   "id": "8ab1f5fb",
   "metadata": {},
   "outputs": [
    {
     "name": "stdout",
     "output_type": "stream",
     "text": [
      "[2.0, 2.5, 3.25, 4.9]\n",
      "**************************************************\n",
      "0    2.00\n",
      "1    2.50\n",
      "2    3.25\n",
      "3    4.90\n",
      "dtype: float64\n",
      "**************************************************\n",
      "0    2.00\n",
      "1    2.50\n",
      "2    3.25\n",
      "3    4.90\n",
      "dtype: float64\n"
     ]
    }
   ],
   "source": [
    "#create series from a List\n",
    "lis=[2.0,2.5,3.25,4.9]\n",
    "print(lis)\n",
    "print('*'*50)\n",
    "ser=pa.Series(lis)#it's automatically add index columnn as 0,1,2... if we not given\n",
    "print(ser)\n",
    "print('*'*50)\n",
    "ser=pa.Series(data=lis)#both are same we can give like that or directly \n",
    "print(ser)"
   ]
  },
  {
   "cell_type": "code",
   "execution_count": 13,
   "id": "dd1941ef",
   "metadata": {},
   "outputs": [
    {
     "name": "stdout",
     "output_type": "stream",
     "text": [
      "[2.0, 2.5, 3.25, 4.9]\n",
      "**************************************************\n",
      "A    2.00\n",
      "B    2.50\n",
      "C    3.25\n",
      "D    4.90\n",
      "dtype: float64\n"
     ]
    }
   ],
   "source": [
    "#add index as we want in the datasets\n",
    "print(lis)\n",
    "print('*'*50)\n",
    "ser2=pa.Series(data=lis,index=['A','B','C','D'])#index column going to change as we given\n",
    "print(ser2)"
   ]
  },
  {
   "cell_type": "code",
   "execution_count": 19,
   "id": "ea23f81e",
   "metadata": {},
   "outputs": [
    {
     "name": "stdout",
     "output_type": "stream",
     "text": [
      "0    2.00\n",
      "1    2.50\n",
      "2    3.25\n",
      "3    4.90\n",
      "dtype: float64\n",
      "A    2.00\n",
      "B    2.50\n",
      "C    3.25\n",
      "D    4.90\n",
      "dtype: float64\n",
      "**************************************************\n",
      "[2.   2.5  3.25 4.9 ]\n",
      "RangeIndex(start=0, stop=4, step=1)\n",
      "Index(['A', 'B', 'C', 'D'], dtype='object')\n"
     ]
    }
   ],
   "source": [
    "#if we wnat to fetch values or indexes from Series,use below steps\n",
    "print(ser)#inthis variable we did not give any specific index position\n",
    "print(ser2)#this variable we given A,B,C,D Index\n",
    "print('*'*50)\n",
    "print(ser.values)\n",
    "print(ser.index)#if we not given index position,i will give output as start,stop,step like that\n",
    "print(ser2.index)#if we given index values,it will show that index values"
   ]
  },
  {
   "cell_type": "code",
   "execution_count": 23,
   "id": "465d763e",
   "metadata": {},
   "outputs": [
    {
     "name": "stdout",
     "output_type": "stream",
     "text": [
      "[[30.+3.j 56.+0.j 78.+0.j 90.+0.j  0.+0.j]\n",
      " [30.+3.j 56.+0.j 78.+0.j 90.+0.j  0.+0.j]]\n",
      "**************************************************\n"
     ]
    },
    {
     "ename": "ValueError",
     "evalue": "Data must be 1-dimensional",
     "output_type": "error",
     "traceback": [
      "\u001b[1;31m---------------------------------------------------------------------------\u001b[0m",
      "\u001b[1;31mValueError\u001b[0m                                Traceback (most recent call last)",
      "Cell \u001b[1;32mIn[23], line 5\u001b[0m\n\u001b[0;32m      3\u001b[0m \u001b[38;5;28mprint\u001b[39m(arr)\n\u001b[0;32m      4\u001b[0m \u001b[38;5;28mprint\u001b[39m(\u001b[38;5;124m'\u001b[39m\u001b[38;5;124m*\u001b[39m\u001b[38;5;124m'\u001b[39m\u001b[38;5;241m*\u001b[39m\u001b[38;5;241m50\u001b[39m)\n\u001b[1;32m----> 5\u001b[0m \u001b[38;5;28mprint\u001b[39m(\u001b[43mpa\u001b[49m\u001b[38;5;241;43m.\u001b[39;49m\u001b[43mSeries\u001b[49m\u001b[43m(\u001b[49m\u001b[43mdata\u001b[49m\u001b[38;5;241;43m=\u001b[39;49m\u001b[43marr\u001b[49m\u001b[43m)\u001b[49m)\n",
      "File \u001b[1;32mC:\\ProgramData\\anaconda3\\lib\\site-packages\\pandas\\core\\series.py:470\u001b[0m, in \u001b[0;36mSeries.__init__\u001b[1;34m(self, data, index, dtype, name, copy, fastpath)\u001b[0m\n\u001b[0;32m    468\u001b[0m         data \u001b[38;5;241m=\u001b[39m data\u001b[38;5;241m.\u001b[39mcopy()\n\u001b[0;32m    469\u001b[0m \u001b[38;5;28;01melse\u001b[39;00m:\n\u001b[1;32m--> 470\u001b[0m     data \u001b[38;5;241m=\u001b[39m \u001b[43msanitize_array\u001b[49m\u001b[43m(\u001b[49m\u001b[43mdata\u001b[49m\u001b[43m,\u001b[49m\u001b[43m \u001b[49m\u001b[43mindex\u001b[49m\u001b[43m,\u001b[49m\u001b[43m \u001b[49m\u001b[43mdtype\u001b[49m\u001b[43m,\u001b[49m\u001b[43m \u001b[49m\u001b[43mcopy\u001b[49m\u001b[43m)\u001b[49m\n\u001b[0;32m    472\u001b[0m     manager \u001b[38;5;241m=\u001b[39m get_option(\u001b[38;5;124m\"\u001b[39m\u001b[38;5;124mmode.data_manager\u001b[39m\u001b[38;5;124m\"\u001b[39m)\n\u001b[0;32m    473\u001b[0m     \u001b[38;5;28;01mif\u001b[39;00m manager \u001b[38;5;241m==\u001b[39m \u001b[38;5;124m\"\u001b[39m\u001b[38;5;124mblock\u001b[39m\u001b[38;5;124m\"\u001b[39m:\n",
      "File \u001b[1;32mC:\\ProgramData\\anaconda3\\lib\\site-packages\\pandas\\core\\construction.py:647\u001b[0m, in \u001b[0;36msanitize_array\u001b[1;34m(data, index, dtype, copy, raise_cast_failure, allow_2d)\u001b[0m\n\u001b[0;32m    644\u001b[0m             subarr \u001b[38;5;241m=\u001b[39m cast(np\u001b[38;5;241m.\u001b[39mndarray, subarr)\n\u001b[0;32m    645\u001b[0m             subarr \u001b[38;5;241m=\u001b[39m maybe_infer_to_datetimelike(subarr)\n\u001b[1;32m--> 647\u001b[0m subarr \u001b[38;5;241m=\u001b[39m \u001b[43m_sanitize_ndim\u001b[49m\u001b[43m(\u001b[49m\u001b[43msubarr\u001b[49m\u001b[43m,\u001b[49m\u001b[43m \u001b[49m\u001b[43mdata\u001b[49m\u001b[43m,\u001b[49m\u001b[43m \u001b[49m\u001b[43mdtype\u001b[49m\u001b[43m,\u001b[49m\u001b[43m \u001b[49m\u001b[43mindex\u001b[49m\u001b[43m,\u001b[49m\u001b[43m \u001b[49m\u001b[43mallow_2d\u001b[49m\u001b[38;5;241;43m=\u001b[39;49m\u001b[43mallow_2d\u001b[49m\u001b[43m)\u001b[49m\n\u001b[0;32m    649\u001b[0m \u001b[38;5;28;01mif\u001b[39;00m \u001b[38;5;28misinstance\u001b[39m(subarr, np\u001b[38;5;241m.\u001b[39mndarray):\n\u001b[0;32m    650\u001b[0m     \u001b[38;5;66;03m# at this point we should have dtype be None or subarr.dtype == dtype\u001b[39;00m\n\u001b[0;32m    651\u001b[0m     dtype \u001b[38;5;241m=\u001b[39m cast(np\u001b[38;5;241m.\u001b[39mdtype, dtype)\n",
      "File \u001b[1;32mC:\\ProgramData\\anaconda3\\lib\\site-packages\\pandas\\core\\construction.py:698\u001b[0m, in \u001b[0;36m_sanitize_ndim\u001b[1;34m(result, data, dtype, index, allow_2d)\u001b[0m\n\u001b[0;32m    696\u001b[0m     \u001b[38;5;28;01mif\u001b[39;00m allow_2d:\n\u001b[0;32m    697\u001b[0m         \u001b[38;5;28;01mreturn\u001b[39;00m result\n\u001b[1;32m--> 698\u001b[0m     \u001b[38;5;28;01mraise\u001b[39;00m \u001b[38;5;167;01mValueError\u001b[39;00m(\u001b[38;5;124m\"\u001b[39m\u001b[38;5;124mData must be 1-dimensional\u001b[39m\u001b[38;5;124m\"\u001b[39m)\n\u001b[0;32m    699\u001b[0m \u001b[38;5;28;01mif\u001b[39;00m is_object_dtype(dtype) \u001b[38;5;129;01mand\u001b[39;00m \u001b[38;5;28misinstance\u001b[39m(dtype, ExtensionDtype):\n\u001b[0;32m    700\u001b[0m     \u001b[38;5;66;03m# i.e. PandasDtype(\"O\")\u001b[39;00m\n\u001b[0;32m    702\u001b[0m     result \u001b[38;5;241m=\u001b[39m com\u001b[38;5;241m.\u001b[39masarray_tuplesafe(data, dtype\u001b[38;5;241m=\u001b[39mnp\u001b[38;5;241m.\u001b[39mdtype(\u001b[38;5;124m\"\u001b[39m\u001b[38;5;124mobject\u001b[39m\u001b[38;5;124m\"\u001b[39m))\n",
      "\u001b[1;31mValueError\u001b[0m: Data must be 1-dimensional"
     ]
    }
   ],
   "source": [
    "#creating series from an array\n",
    "arr=np.array([[30+3j,56,78,90,0],[30+3j,56,78,90,0]])\n",
    "print(arr)\n",
    "print('*'*50)\n",
    "print(pa.Series(data=arr))\n",
    "#we can't give two dimention array datas to cahnge Series"
   ]
  },
  {
   "cell_type": "code",
   "execution_count": 24,
   "id": "103f7754",
   "metadata": {},
   "outputs": [
    {
     "name": "stdout",
     "output_type": "stream",
     "text": [
      "[30.+3.j 56.+0.j 78.+0.j 90.+0.j  0.+0.j]\n",
      "**************************************************\n",
      "0    30.0+3.0j\n",
      "1    56.0+0.0j\n",
      "2    78.0+0.0j\n",
      "3    90.0+0.0j\n",
      "4     0.0+0.0j\n",
      "dtype: complex128\n"
     ]
    }
   ],
   "source": [
    "#creating series from an array\n",
    "arr=np.array([30+3j,56,78,90,0])\n",
    "print(arr)\n",
    "print('*'*50)\n",
    "print(pa.Series(data=arr))"
   ]
  },
  {
   "cell_type": "code",
   "execution_count": 27,
   "id": "ffba9e14",
   "metadata": {},
   "outputs": [
    {
     "name": "stdout",
     "output_type": "stream",
     "text": [
      "[0 1 2 3 4]\n",
      "**************************************************\n",
      "zero     0\n",
      "one      1\n",
      "two      2\n",
      "three    3\n",
      "four     4\n",
      "dtype: int32\n"
     ]
    }
   ],
   "source": [
    "#creating series from array integer data\n",
    "arr1=np.arange(5)\n",
    "print(arr1)\n",
    "print('*'*50)\n",
    "ser3=pa.Series(arr1,index=['zero','one','two','three','four'])\n",
    "print(ser3)"
   ]
  },
  {
   "cell_type": "code",
   "execution_count": 33,
   "id": "3d545c54",
   "metadata": {},
   "outputs": [
    {
     "name": "stdout",
     "output_type": "stream",
     "text": [
      "Name           karthik\n",
      "Age                 23\n",
      "Degree         BSC(CS)\n",
      "Native    thiruchendur\n",
      "dtype: object\n"
     ]
    }
   ],
   "source": [
    "#creating series from Dictionary\n",
    "from pandas import Series\n",
    "#in dictionary series will take key value as a index value\n",
    "dic={\"Name\":'karthik','Age':23,'Degree':\"BSC(CS)\",'Native':\"thiruchendur\"}\n",
    "ser5=Series(dic)\n",
    "print(ser5)"
   ]
  },
  {
   "cell_type": "code",
   "execution_count": 3,
   "id": "2bb128bd",
   "metadata": {},
   "outputs": [
    {
     "name": "stdout",
     "output_type": "stream",
     "text": [
      "1    NaN\n",
      "2    NaN\n",
      "3    NaN\n",
      "4    NaN\n",
      "dtype: object\n"
     ]
    }
   ],
   "source": [
    "#creating series from Dictionary\n",
    "from pandas import Series\n",
    "#in dictionary series will take key value as a index value\n",
    "dic={\"Name\":'karthik','Age':23,'Degree':\"BSC(CS)\",'Native':\"thiruchendur\"}\n",
    "ser4=Series(dic,index=[1,2,3,4])\n",
    "print(ser4)\n",
    "#we can't give index values while creating series from dictionary"
   ]
  },
  {
   "cell_type": "code",
   "execution_count": 39,
   "id": "170ef98e",
   "metadata": {},
   "outputs": [
    {
     "name": "stdout",
     "output_type": "stream",
     "text": [
      "Name           karthik\n",
      "Age                 23\n",
      "Degree         BSC(CS)\n",
      "Native    thiruchendur\n",
      "dtype: object\n",
      "My name is: karthik\n",
      "**************************************************\n",
      "A    2.00\n",
      "B    2.50\n",
      "C    3.25\n",
      "D    4.90\n",
      "dtype: float64\n",
      "Number_4: 4.9\n"
     ]
    }
   ],
   "source": [
    "#how to access series element (access series values by their index values)\n",
    "print(ser5)\n",
    "print('My name is:',ser5['Name'])#we can access those index value\n",
    "print('*'*50)\n",
    "print(ser2)\n",
    "number4=ser2['D']\n",
    "print('Number_4:',number4)"
   ]
  },
  {
   "cell_type": "code",
   "execution_count": 48,
   "id": "11038241",
   "metadata": {},
   "outputs": [
    {
     "name": "stdout",
     "output_type": "stream",
     "text": [
      "Name           karthik\n",
      "Age                 23\n",
      "Degree         BSC(CS)\n",
      "Native    thiruchendur\n",
      "dtype: object\n",
      "**************************************************\n",
      "Name    karthik\n",
      "dtype: object\n",
      "--------------------------------------------------\n",
      "Age            23\n",
      "Degree    BSC(CS)\n",
      "dtype: object\n"
     ]
    }
   ],
   "source": [
    "#how to access index and values both\n",
    "print(ser5)\n",
    "print('*'*50)\n",
    "print(ser5[['Name']])\n",
    "print('-'*50)\n",
    "print(ser5[['Age','Degree']])"
   ]
  },
  {
   "cell_type": "code",
   "execution_count": 51,
   "id": "2bab401a",
   "metadata": {},
   "outputs": [
    {
     "name": "stdout",
     "output_type": "stream",
     "text": [
      "0    0\n",
      "1    1\n",
      "2    2\n",
      "3    3\n",
      "4    4\n",
      "5    5\n",
      "6    6\n",
      "7    7\n",
      "8    8\n",
      "9    9\n",
      "dtype: int32\n"
     ]
    }
   ],
   "source": [
    "#arange\n",
    "arr4=np.arange(10)\n",
    "ser6=Series(arr4)\n",
    "print(ser6)"
   ]
  },
  {
   "cell_type": "code",
   "execution_count": 53,
   "id": "c3aecdf3",
   "metadata": {},
   "outputs": [
    {
     "data": {
      "text/plain": [
       "0    False\n",
       "1    False\n",
       "2    False\n",
       "3     True\n",
       "4     True\n",
       "5     True\n",
       "6     True\n",
       "7     True\n",
       "8     True\n",
       "9     True\n",
       "dtype: bool"
      ]
     },
     "execution_count": 53,
     "metadata": {},
     "output_type": "execute_result"
    }
   ],
   "source": [
    "#find series values are 3 or more than 3\n",
    "ser6 >=3"
   ]
  },
  {
   "cell_type": "code",
   "execution_count": 57,
   "id": "911f097b",
   "metadata": {},
   "outputs": [
    {
     "name": "stdout",
     "output_type": "stream",
     "text": [
      "3    3\n",
      "4    4\n",
      "5    5\n",
      "6    6\n",
      "7    7\n",
      "8    8\n",
      "9    9\n",
      "dtype: int32\n"
     ]
    }
   ],
   "source": [
    "#to fetch values from series which are 3 or moethan 3\n",
    "print(ser6[ser6>=3])\n"
   ]
  },
  {
   "cell_type": "code",
   "execution_count": 61,
   "id": "c558e5b8",
   "metadata": {},
   "outputs": [
    {
     "name": "stdout",
     "output_type": "stream",
     "text": [
      "[2 3 4 5 6 7 8]\n",
      "**************************************************\n",
      "0    2\n",
      "1    3\n",
      "2    4\n",
      "3    5\n",
      "4    6\n",
      "5    7\n",
      "6    8\n",
      "dtype: int32\n",
      "**************************************************\n",
      "False\n",
      "True\n"
     ]
    }
   ],
   "source": [
    "#check we sercing value is present by 'in' operator\n",
    "arr6=np.arange(2,9)\n",
    "print(arr6)\n",
    "print('*'*50)\n",
    "ser7=Series(arr6)\n",
    "print(ser7)\n",
    "print('*'*50)\n",
    "print(7 in ser7)#why it's giving false,it's check index values not values\n",
    "print(6 in ser7)"
   ]
  },
  {
   "cell_type": "code",
   "execution_count": 62,
   "id": "da7b3ddb",
   "metadata": {},
   "outputs": [
    {
     "data": {
      "text/plain": [
       "6    8\n",
       "dtype: int32"
      ]
     },
     "execution_count": 62,
     "metadata": {},
     "output_type": "execute_result"
    }
   ],
   "source": [
    "#want to fetch only which are the element is eaual to 8\n",
    "ser7[ser7==8]"
   ]
  },
  {
   "cell_type": "code",
   "execution_count": 65,
   "id": "178608cb",
   "metadata": {},
   "outputs": [
    {
     "name": "stdout",
     "output_type": "stream",
     "text": [
      "Karthik    90\n",
      "Mani       89\n",
      "Raj        56\n",
      "Bala       37\n",
      "dtype: int64\n",
      "**************************************************\n",
      "Karthik    80\n",
      "Monisha    98\n",
      "Sivangi    60\n",
      "Bala       76\n",
      "dtype: int64\n"
     ]
    }
   ],
   "source": [
    "#how to create series index using list variable\n",
    "names=['Karthik','Mani','Raj',\"Bala\"]\n",
    "ser8=Series(data=[90,89,56,37],index=names)\n",
    "print(ser8)\n",
    "print('*'*50)\n",
    "names=['Karthik','Monisha','Sivangi',\"Bala\"]\n",
    "ser9=Series(data=[80,98,60,76],index=names)\n",
    "print(ser9)"
   ]
  },
  {
   "cell_type": "code",
   "execution_count": 67,
   "id": "b26ee377",
   "metadata": {},
   "outputs": [
    {
     "name": "stdout",
     "output_type": "stream",
     "text": [
      "Karthik    90\n",
      "Mani       89\n",
      "Raj        56\n",
      "Bala       37\n",
      "dtype: int64\n",
      "Karthik    80\n",
      "Monisha    98\n",
      "Sivangi    60\n",
      "Bala       76\n",
      "dtype: int64\n",
      "**************************************************\n",
      "Bala       113.0\n",
      "Karthik    170.0\n",
      "Mani         NaN\n",
      "Monisha      NaN\n",
      "Raj          NaN\n",
      "Sivangi      NaN\n",
      "dtype: float64\n"
     ]
    }
   ],
   "source": [
    "#how to create NaN value using to series variables\n",
    "print(ser8)\n",
    "print(ser9)\n",
    "print('*'*50)\n",
    "#now we going to add two series.if both series has same index value means,it will add otherwise it will give NaN value\n",
    "my_series=ser8+ser9\n",
    "print(my_series)"
   ]
  },
  {
   "cell_type": "code",
   "execution_count": 70,
   "id": "ea298e68",
   "metadata": {},
   "outputs": [
    {
     "name": "stdout",
     "output_type": "stream",
     "text": [
      "Bala       113.0\n",
      "Karthik    170.0\n",
      "Mani         NaN\n",
      "Monisha      NaN\n",
      "Raj          NaN\n",
      "Sivangi      NaN\n",
      "dtype: float64\n",
      "**************************************************\n"
     ]
    },
    {
     "data": {
      "text/plain": [
       "Bala       False\n",
       "Karthik    False\n",
       "Mani        True\n",
       "Monisha     True\n",
       "Raj         True\n",
       "Sivangi     True\n",
       "dtype: bool"
      ]
     },
     "execution_count": 70,
     "metadata": {},
     "output_type": "execute_result"
    }
   ],
   "source": [
    "#how to find NaN's in Series\n",
    "print(my_series)\n",
    "print('*'*50)\n",
    "my_series.isnull()"
   ]
  },
  {
   "cell_type": "code",
   "execution_count": 71,
   "id": "c565207c",
   "metadata": {},
   "outputs": [
    {
     "name": "stdout",
     "output_type": "stream",
     "text": [
      "Bala       113.0\n",
      "Karthik    170.0\n",
      "Mani         NaN\n",
      "Monisha      NaN\n",
      "Raj          NaN\n",
      "Sivangi      NaN\n",
      "dtype: float64\n",
      "**************************************************\n"
     ]
    },
    {
     "data": {
      "text/plain": [
       "Mani      NaN\n",
       "Monisha   NaN\n",
       "Raj       NaN\n",
       "Sivangi   NaN\n",
       "dtype: float64"
      ]
     },
     "execution_count": 71,
     "metadata": {},
     "output_type": "execute_result"
    }
   ],
   "source": [
    "#fetch only NaN values form the series\n",
    "print(my_series)\n",
    "print('*'*50)\n",
    "my_series[my_series.isnull()]"
   ]
  },
  {
   "cell_type": "code",
   "execution_count": 19,
   "id": "0f822254",
   "metadata": {},
   "outputs": [
    {
     "name": "stdout",
     "output_type": "stream",
     "text": [
      "0    2\n",
      "1    3\n",
      "2    4\n",
      "3    5\n",
      "4    6\n",
      "5    7\n",
      "dtype: int32\n"
     ]
    }
   ],
   "source": [
    "#Replacing the Values\n",
    "series=Series(np.arange(2,8))\n",
    "print(series)"
   ]
  },
  {
   "cell_type": "code",
   "execution_count": 20,
   "id": "1a38f0e6",
   "metadata": {},
   "outputs": [
    {
     "data": {
      "text/plain": [
       "0    $\n",
       "1    3\n",
       "2    4\n",
       "3    5\n",
       "4    6\n",
       "5    7\n",
       "dtype: object"
      ]
     },
     "execution_count": 20,
     "metadata": {},
     "output_type": "execute_result"
    }
   ],
   "source": [
    "#replace value like a list replacing\n",
    "series[0]='$'#if we use this method,it will replace permently we given value\n",
    "series"
   ]
  },
  {
   "cell_type": "code",
   "execution_count": 21,
   "id": "42302d64",
   "metadata": {},
   "outputs": [
    {
     "data": {
      "text/plain": [
       "0    $\n",
       "1    3\n",
       "2    4\n",
       "3    5\n",
       "4    6\n",
       "5    7\n",
       "dtype: object"
      ]
     },
     "execution_count": 21,
     "metadata": {},
     "output_type": "execute_result"
    }
   ],
   "source": [
    "series"
   ]
  },
  {
   "cell_type": "code",
   "execution_count": 23,
   "id": "7abc380f",
   "metadata": {},
   "outputs": [
    {
     "data": {
      "text/plain": [
       "0     $\n",
       "1    10\n",
       "2     4\n",
       "3     5\n",
       "4     6\n",
       "5     7\n",
       "dtype: object"
      ]
     },
     "execution_count": 23,
     "metadata": {},
     "output_type": "execute_result"
    }
   ],
   "source": [
    "#replace-using replace we can change value,but we changed value not change to original series variable\n",
    "series.replace(3,10)#3-changing value,10-what value going to be change"
   ]
  },
  {
   "cell_type": "code",
   "execution_count": 24,
   "id": "596a3731",
   "metadata": {},
   "outputs": [
    {
     "data": {
      "text/plain": [
       "0    $\n",
       "1    3\n",
       "2    4\n",
       "3    5\n",
       "4    6\n",
       "5    7\n",
       "dtype: object"
      ]
     },
     "execution_count": 24,
     "metadata": {},
     "output_type": "execute_result"
    }
   ],
   "source": [
    "series"
   ]
  },
  {
   "cell_type": "code",
   "execution_count": 25,
   "id": "a95bf922",
   "metadata": {},
   "outputs": [],
   "source": [
    "#if we want to change values to original series variable means,using inplace keyword\n",
    "series.replace(3,100,inplace=True)"
   ]
  },
  {
   "cell_type": "code",
   "execution_count": 26,
   "id": "6e543143",
   "metadata": {},
   "outputs": [
    {
     "data": {
      "text/plain": [
       "0      $\n",
       "1    100\n",
       "2      4\n",
       "3      5\n",
       "4      6\n",
       "5      7\n",
       "dtype: object"
      ]
     },
     "execution_count": 26,
     "metadata": {},
     "output_type": "execute_result"
    }
   ],
   "source": [
    "series"
   ]
  },
  {
   "cell_type": "code",
   "execution_count": 29,
   "id": "8329ba70",
   "metadata": {},
   "outputs": [
    {
     "name": "stdout",
     "output_type": "stream",
     "text": [
      "0      $\n",
      "1    100\n",
      "2    100\n",
      "3      5\n",
      "4      6\n",
      "5      7\n",
      "dtype: object\n"
     ]
    }
   ],
   "source": [
    "#with new variable also we can use to replace the value permently\n",
    "series1=series.replace(4,100)\n",
    "print(series1)"
   ]
  },
  {
   "cell_type": "code",
   "execution_count": 30,
   "id": "0cf78635",
   "metadata": {},
   "outputs": [
    {
     "data": {
      "text/plain": [
       "0      $\n",
       "1    100\n",
       "2    100\n",
       "3      5\n",
       "4      6\n",
       "5      7\n",
       "dtype: object"
      ]
     },
     "execution_count": 30,
     "metadata": {},
     "output_type": "execute_result"
    }
   ],
   "source": [
    "series1"
   ]
  },
  {
   "cell_type": "code",
   "execution_count": 31,
   "id": "1458ad6d",
   "metadata": {},
   "outputs": [
    {
     "data": {
      "text/plain": [
       "0    99\n",
       "1     0\n",
       "2     0\n",
       "3     5\n",
       "4     6\n",
       "5     7\n",
       "dtype: int64"
      ]
     },
     "execution_count": 31,
     "metadata": {},
     "output_type": "execute_result"
    }
   ],
   "source": [
    "#how to replace two series values at a time\n",
    "series1.replace(['$',100],[99,0])#'$-->going to change 99,100-->going to change 0'"
   ]
  },
  {
   "cell_type": "code",
   "execution_count": 32,
   "id": "7a7170ca",
   "metadata": {},
   "outputs": [
    {
     "data": {
      "text/plain": [
       "0      $\n",
       "1    100\n",
       "2    100\n",
       "3      5\n",
       "4      6\n",
       "5      7\n",
       "dtype: object"
      ]
     },
     "execution_count": 32,
     "metadata": {},
     "output_type": "execute_result"
    }
   ],
   "source": [
    "series1#it's not changed original varibale"
   ]
  },
  {
   "cell_type": "code",
   "execution_count": 35,
   "id": "2562e3cb",
   "metadata": {},
   "outputs": [],
   "source": [
    "#to use inplace  keyword inorder to applay repplace in original series variable\n",
    "series1.replace(['$',100],[99,0],inplace=True)#'$-->going to change 99,100-->going to change 0'"
   ]
  },
  {
   "cell_type": "code",
   "execution_count": 36,
   "id": "c5f2e5e6",
   "metadata": {},
   "outputs": [
    {
     "data": {
      "text/plain": [
       "0    99\n",
       "1     0\n",
       "2     0\n",
       "3     5\n",
       "4     6\n",
       "5     7\n",
       "dtype: int64"
      ]
     },
     "execution_count": 36,
     "metadata": {},
     "output_type": "execute_result"
    }
   ],
   "source": [
    "series1#it's changed to original varibale"
   ]
  },
  {
   "cell_type": "code",
   "execution_count": 40,
   "id": "4661399f",
   "metadata": {},
   "outputs": [
    {
     "name": "stdout",
     "output_type": "stream",
     "text": [
      "0    99\n",
      "1     0\n",
      "2     0\n",
      "3     k\n",
      "4     A\n",
      "5     7\n",
      "dtype: object\n",
      "0    99\n",
      "1     0\n",
      "2     0\n",
      "3     5\n",
      "4     6\n",
      "5     r\n",
      "dtype: object\n"
     ]
    }
   ],
   "source": [
    "#replace series values as a dictionary value\n",
    "print(series1.replace({5:'k',6:'A'}))\n",
    "print(series1.replace({7:'r'}))"
   ]
  },
  {
   "cell_type": "code",
   "execution_count": 41,
   "id": "13f1dbb6",
   "metadata": {},
   "outputs": [
    {
     "data": {
      "text/plain": [
       "0    99\n",
       "1     0\n",
       "2     0\n",
       "3     5\n",
       "4     6\n",
       "5     7\n",
       "dtype: int64"
      ]
     },
     "execution_count": 41,
     "metadata": {},
     "output_type": "execute_result"
    }
   ],
   "source": [
    "series1"
   ]
  },
  {
   "cell_type": "code",
   "execution_count": 42,
   "id": "1da8b515",
   "metadata": {},
   "outputs": [
    {
     "data": {
      "text/plain": [
       "0    99\n",
       "1     0\n",
       "2     0\n",
       "3     5\n",
       "4     6\n",
       "5     7\n",
       "dtype: int64"
      ]
     },
     "execution_count": 42,
     "metadata": {},
     "output_type": "execute_result"
    }
   ],
   "source": [
    "#bfill-fill backward-it is used to fill backward value to we given value position\n",
    "#ffill-fill forward-it is used to fill forward value to we given value position\n",
    "series1"
   ]
  },
  {
   "cell_type": "code",
   "execution_count": 4,
   "id": "56ef493f",
   "metadata": {},
   "outputs": [
    {
     "name": "stdout",
     "output_type": "stream",
     "text": [
      "0    2\n",
      "1    3\n",
      "2    4\n",
      "3    5\n",
      "4    6\n",
      "5    7\n",
      "dtype: int32\n",
      "**************************************************\n"
     ]
    },
    {
     "data": {
      "text/plain": [
       "0    2\n",
       "1    4\n",
       "2    4\n",
       "3    5\n",
       "4    6\n",
       "5    7\n",
       "dtype: int32"
      ]
     },
     "execution_count": 4,
     "metadata": {},
     "output_type": "execute_result"
    }
   ],
   "source": [
    "from pandas import Series\n",
    "series2=Series(np.arange(2,8))\n",
    "print(series2)\n",
    "print('*'*50)\n",
    "series2.replace(3,method='bfill')#it filled backword value 4 to we give 3 value position"
   ]
  },
  {
   "cell_type": "code",
   "execution_count": 8,
   "id": "73f83061",
   "metadata": {},
   "outputs": [
    {
     "name": "stdout",
     "output_type": "stream",
     "text": [
      "0    2\n",
      "1    3\n",
      "2    4\n",
      "3    5\n",
      "4    6\n",
      "5    7\n",
      "dtype: int32\n",
      "**************************************************\n"
     ]
    }
   ],
   "source": [
    "#if we want to change permently replace use inplace keyword\n",
    "print(series2)\n",
    "print('*'*50)\n",
    "series2.replace(3,method='bfill',inplace=True)#it filled backword value 4 to we give 3 value position"
   ]
  },
  {
   "cell_type": "code",
   "execution_count": 9,
   "id": "c611a0c5",
   "metadata": {},
   "outputs": [
    {
     "data": {
      "text/plain": [
       "0    2\n",
       "1    4\n",
       "2    4\n",
       "3    5\n",
       "4    6\n",
       "5    7\n",
       "dtype: int32"
      ]
     },
     "execution_count": 9,
     "metadata": {},
     "output_type": "execute_result"
    }
   ],
   "source": [
    "series2"
   ]
  },
  {
   "cell_type": "code",
   "execution_count": 11,
   "id": "7301aa72",
   "metadata": {},
   "outputs": [
    {
     "name": "stdout",
     "output_type": "stream",
     "text": [
      "0    2\n",
      "1    4\n",
      "2    4\n",
      "3    5\n",
      "4    6\n",
      "5    7\n",
      "dtype: int32\n",
      "**************************************************\n"
     ]
    },
    {
     "data": {
      "text/plain": [
       "0    2\n",
       "1    4\n",
       "2    4\n",
       "3    5\n",
       "4    5\n",
       "5    7\n",
       "dtype: int32"
      ]
     },
     "execution_count": 11,
     "metadata": {},
     "output_type": "execute_result"
    }
   ],
   "source": [
    "#ffill\n",
    "print(series2)\n",
    "print('*'*50)\n",
    "series2.replace(6,method='ffill')#it's filled forward value of 5 to we given value 6 posision"
   ]
  },
  {
   "cell_type": "code",
   "execution_count": 13,
   "id": "6c654a73",
   "metadata": {},
   "outputs": [
    {
     "data": {
      "text/plain": [
       "Row1     NaN\n",
       "Row2    10.0\n",
       "Row3    20.0\n",
       "Row4    30.0\n",
       "Row5     NaN\n",
       "dtype: float64"
      ]
     },
     "execution_count": 13,
     "metadata": {},
     "output_type": "execute_result"
    }
   ],
   "source": [
    "#NaN-(none)how to create Nan value during the Series creation\n",
    "sser=pa.Series([np.nan,10,20,30,np.nan],index=['Row1','Row2','Row3','Row4','Row5'])\n",
    "sser"
   ]
  },
  {
   "cell_type": "code",
   "execution_count": 14,
   "id": "89daf9f5",
   "metadata": {},
   "outputs": [
    {
     "data": {
      "text/plain": [
       "Row1     True\n",
       "Row2    False\n",
       "Row3    False\n",
       "Row4    False\n",
       "Row5     True\n",
       "dtype: bool"
      ]
     },
     "execution_count": 14,
     "metadata": {},
     "output_type": "execute_result"
    }
   ],
   "source": [
    "#isnull()-this function is used to give true or false output if values is nan is give True\n",
    "sser.isnull()"
   ]
  },
  {
   "cell_type": "code",
   "execution_count": 15,
   "id": "38c60c03",
   "metadata": {},
   "outputs": [
    {
     "data": {
      "text/plain": [
       "Row2    10.0\n",
       "Row3    20.0\n",
       "Row4    30.0\n",
       "dtype: float64"
      ]
     },
     "execution_count": 15,
     "metadata": {},
     "output_type": "execute_result"
    }
   ],
   "source": [
    "#dropna-used to drop the rows which has Nan values\n",
    "sser.dropna()"
   ]
  },
  {
   "cell_type": "code",
   "execution_count": 16,
   "id": "bfde94e3",
   "metadata": {},
   "outputs": [
    {
     "data": {
      "text/plain": [
       "Row1     kkk\n",
       "Row2    10.0\n",
       "Row3    20.0\n",
       "Row4    30.0\n",
       "Row5     kkk\n",
       "dtype: object"
      ]
     },
     "execution_count": 16,
     "metadata": {},
     "output_type": "execute_result"
    }
   ],
   "source": [
    "#fillna-it's used to fill we given value to Nan value position\n",
    "sser.fillna(value='kkk')"
   ]
  },
  {
   "cell_type": "code",
   "execution_count": 17,
   "id": "f1b84a08",
   "metadata": {},
   "outputs": [
    {
     "data": {
      "text/plain": [
       "Row1     NaN\n",
       "Row3    20.0\n",
       "Row4    30.0\n",
       "Row5     NaN\n",
       "dtype: float64"
      ]
     },
     "execution_count": 17,
     "metadata": {},
     "output_type": "execute_result"
    }
   ],
   "source": [
    "#drop-it's is used to drop we given Row\n",
    "sser.drop('Row2')"
   ]
  },
  {
   "cell_type": "code",
   "execution_count": 22,
   "id": "8a76b5df",
   "metadata": {},
   "outputs": [
    {
     "name": "stdout",
     "output_type": "stream",
     "text": [
      "A    0\n",
      "B    1\n",
      "C    2\n",
      "dtype: int32\n",
      "**************************************************\n",
      "X    11\n",
      "Y    12\n",
      "dtype: int32\n",
      "**************************************************\n",
      "1    21\n",
      "2    22\n",
      "3    23\n",
      "dtype: int32\n",
      "**************************************************\n",
      "A     0\n",
      "B     1\n",
      "C     2\n",
      "X    11\n",
      "Y    12\n",
      "1    21\n",
      "2    22\n",
      "3    23\n",
      "dtype: int32\n",
      "**************************************************\n"
     ]
    },
    {
     "data": {
      "text/plain": [
       "A     0\n",
       "B     1\n",
       "C     2\n",
       "X    11\n",
       "Y    12\n",
       "dtype: int32"
      ]
     },
     "execution_count": 22,
     "metadata": {},
     "output_type": "execute_result"
    }
   ],
   "source": [
    "#concat-it is used to concat two Series or morethan two series\n",
    "from pandas import DataFrame,Series\n",
    "ser1=Series(np.arange(3),index=['A','B','C'])\n",
    "print(ser1)\n",
    "print('*'*50)\n",
    "ser2=Series(np.arange(11,13),index=['X','Y'])\n",
    "print(ser2)\n",
    "print('*'*50)\n",
    "ser3=Series(np.arange(21,24),index=[1,2,3])\n",
    "print(ser3)\n",
    "print('*'*50)\n",
    "sss=pa.concat([ser1,ser2,ser3])\n",
    "print(sss)\n",
    "print('*'*50)\n",
    "pa.concat([ser1,ser2])\n"
   ]
  },
  {
   "cell_type": "code",
   "execution_count": null,
   "id": "40a27965",
   "metadata": {},
   "outputs": [],
   "source": []
  }
 ],
 "metadata": {
  "kernelspec": {
   "display_name": "Python 3 (ipykernel)",
   "language": "python",
   "name": "python3"
  },
  "language_info": {
   "codemirror_mode": {
    "name": "ipython",
    "version": 3
   },
   "file_extension": ".py",
   "mimetype": "text/x-python",
   "name": "python",
   "nbconvert_exporter": "python",
   "pygments_lexer": "ipython3",
   "version": "3.10.9"
  }
 },
 "nbformat": 4,
 "nbformat_minor": 5
}
