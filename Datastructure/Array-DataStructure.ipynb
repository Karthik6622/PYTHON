{
 "cells": [
  {
   "cell_type": "markdown",
   "id": "14eee6d9",
   "metadata": {},
   "source": [
    "# Array-DataStructure"
   ]
  },
  {
   "cell_type": "code",
   "execution_count": 60,
   "id": "f80ef48e",
   "metadata": {},
   "outputs": [
    {
     "name": "stdout",
     "output_type": "stream",
     "text": [
      "[{'january': 2200} {'February': 2350} {'March': 2600} {'April': 2130}\n",
      " {'May': 2190}]\n"
     ]
    }
   ],
   "source": [
    "import numpy as np\n",
    "a=np.array([{'january':2200},{'February':2350},{'March':2600},{'April':2130},{'May':2190}])\n",
    "print(a)"
   ]
  },
  {
   "cell_type": "code",
   "execution_count": 16,
   "id": "bfc57462",
   "metadata": {},
   "outputs": [
    {
     "name": "stdout",
     "output_type": "stream",
     "text": [
      "We have Spent morethan 150 in Febuary compare than January\n"
     ]
    }
   ],
   "source": [
    "#1.In feb,how many dollers you spent extra compare to january\n",
    "feb=a[1]['February']-a[0]['january']\n",
    "print(f\"We have Spent morethan {feb} in Febuary compare than January\")"
   ]
  },
  {
   "cell_type": "code",
   "execution_count": 28,
   "id": "0c6eb0c8",
   "metadata": {},
   "outputs": [
    {
     "name": "stdout",
     "output_type": "stream",
     "text": [
      "Three Months Total Expenses: 7150\n"
     ]
    }
   ],
   "source": [
    "#2.find out your total expense in first quarter(first three months) of the year\n",
    "sum1=0\n",
    "for i in range(len(a)):\n",
    "    if i<3:\n",
    "        temp=a[i]\n",
    "        for k in temp.keys():\n",
    "            sum1+=temp[k]\n",
    "print(\"Three Months Total Expenses:\",sum1)        "
   ]
  },
  {
   "cell_type": "code",
   "execution_count": 57,
   "id": "3b39a231",
   "metadata": {},
   "outputs": [
    {
     "name": "stdout",
     "output_type": "stream",
     "text": [
      "expense 2000 not equal to any month \n"
     ]
    }
   ],
   "source": [
    "#3.find out if you spent exactly 2000 in any months\n",
    "length=len(a)\n",
    "s=0\n",
    "for j in range(len(a)):\n",
    "    temp=a[j]\n",
    "    for k in temp.keys():\n",
    "        if temp[k]==2000:\n",
    "            print(k)\n",
    "        else:\n",
    "            s+=1\n",
    "if length==s:\n",
    "    print(\"expense 2000 not equal to any month \")\n",
    "            "
   ]
  },
  {
   "cell_type": "code",
   "execution_count": 58,
   "id": "db1d4dc8",
   "metadata": {},
   "outputs": [
    {
     "name": "stdout",
     "output_type": "stream",
     "text": [
      "[{'january': 2200} {'February': 2350} {'March': 2600} {'April': 2130}\n",
      " {'May': 2190} {'June': 1900}]\n"
     ]
    }
   ],
   "source": [
    "#4.June month just finished and your expense is 1980 dollar.add this item to our monthly expense list\n",
    "a1=np.append(a,{'June':1900})\n",
    "a=a1\n",
    "print(a)"
   ]
  },
  {
   "cell_type": "code",
   "execution_count": 61,
   "id": "e674a5a8",
   "metadata": {},
   "outputs": [
    {
     "name": "stdout",
     "output_type": "stream",
     "text": [
      "[{'january': 2200} {'February': 2350} {'March': 2600} {'April': 2330}\n",
      " {'May': 2190}]\n"
     ]
    }
   ],
   "source": [
    "#you returned an item that you bought in month of april and got a refund of 200$.make a corrrection to your monthly expemse list\n",
    "a[3]['April']=a[3]['April']+200\n",
    "print(a)"
   ]
  },
  {
   "cell_type": "code",
   "execution_count": null,
   "id": "a6d4a64a",
   "metadata": {},
   "outputs": [],
   "source": []
  }
 ],
 "metadata": {
  "kernelspec": {
   "display_name": "Python 3 (ipykernel)",
   "language": "python",
   "name": "python3"
  },
  "language_info": {
   "codemirror_mode": {
    "name": "ipython",
    "version": 3
   },
   "file_extension": ".py",
   "mimetype": "text/x-python",
   "name": "python",
   "nbconvert_exporter": "python",
   "pygments_lexer": "ipython3",
   "version": "3.10.9"
  }
 },
 "nbformat": 4,
 "nbformat_minor": 5
}
