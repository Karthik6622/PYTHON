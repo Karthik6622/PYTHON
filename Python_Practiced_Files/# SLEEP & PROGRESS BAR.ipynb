{
 "cells": [
  {
   "cell_type": "markdown",
   "id": "fe020bce",
   "metadata": {},
   "source": [
    "# SLEEP & PROGRESS BAR"
   ]
  },
  {
   "cell_type": "code",
   "execution_count": 3,
   "id": "cd7cdc08",
   "metadata": {},
   "outputs": [
    {
     "name": "stdout",
     "output_type": "stream",
     "text": [
      "2023-07-19 20:57:24.712117\n",
      "2023-07-19 20:57:34.723164\n",
      "2023-07-19 20:57:44.734954\n",
      "2023-07-19 20:57:54.748566\n",
      "2023-07-19 20:58:04.751080\n",
      "2023-07-19 20:58:14.759639\n",
      "2023-07-19 20:58:24.764128\n",
      "2023-07-19 20:58:34.776321\n",
      "2023-07-19 20:58:44.788095\n",
      "2023-07-19 20:58:54.793377\n"
     ]
    }
   ],
   "source": [
    "import time\n",
    "import datetime\n",
    "for i in range(10):\n",
    "    time.sleep(10)#10 second pause\n",
    "    print(datetime.datetime.now())\n"
   ]
  },
  {
   "cell_type": "code",
   "execution_count": 5,
   "id": "78babb8f",
   "metadata": {},
   "outputs": [
    {
     "name": "stderr",
     "output_type": "stream",
     "text": [
      "100%|██████████| 5/5 [00:20<00:00,  4.01s/it]\n"
     ]
    }
   ],
   "source": [
    "#we using tqdm module for progress bar creation\n",
    "import tqdm\n",
    "#five times loops will going to perform\n",
    "for i in tqdm.tqdm(range(5)):\n",
    "    time.sleep(4)#it pause for loop every 4 seconds\n"
   ]
  },
  {
   "cell_type": "code",
   "execution_count": 8,
   "id": "87135a7a",
   "metadata": {},
   "outputs": [
    {
     "name": "stderr",
     "output_type": "stream",
     "text": [
      "██████████\n"
     ]
    }
   ],
   "source": [
    "#how to remove words after progress bar\n",
    "from tqdm import tqdm\n",
    "for i in tqdm(range(4),bar_format=\"{bar}\"):#bar_format=with this we can format progress bar as we espected\n",
    "    time.sleep(0.5)\n"
   ]
  },
  {
   "cell_type": "code",
   "execution_count": 23,
   "id": "9a3419c5",
   "metadata": {},
   "outputs": [
    {
     "name": "stderr",
     "output_type": "stream",
     "text": [
      "Processing: 100%|██████████| 4/4 [00:02<00:00,  1.97it/s]\n"
     ]
    }
   ],
   "source": [
    "from tqdm import tqdm\n",
    "for i in tqdm(range(4),desc=\"Processing\",bar_format=\"{l_bar}{bar}{r_bar}\"):#{l_bar}=100%,{bar}=|||||||||||,desc=used to give string\n",
    "    time.sleep(0.5)                                                        #{r_bar}=uesd to display\"4/4 [00:02<00:00,  1.95it/s]\"\n"
   ]
  },
  {
   "cell_type": "code",
   "execution_count": 24,
   "id": "4b4d59a0",
   "metadata": {},
   "outputs": [
    {
     "name": "stderr",
     "output_type": "stream",
     "text": [
      "Processing: 100%|██████████\n"
     ]
    }
   ],
   "source": [
    "from tqdm import tqdm\n",
    "for i in tqdm(range(4),desc=\"Processing\",bar_format=\"{l_bar}{bar}\"):\n",
    "    time.sleep(0.4)"
   ]
  },
  {
   "cell_type": "code",
   "execution_count": 25,
   "id": "2b09f98b",
   "metadata": {},
   "outputs": [
    {
     "name": "stderr",
     "output_type": "stream",
     "text": [
      "\u001b[1;35mProcessing: 100%|██████████\u001b[0m\n"
     ]
    }
   ],
   "source": [
    "#how to chane color of progress bar\n",
    "'''\n",
    "In this example, we're using ANSI escape codes to change the color of the progress bar. \n",
    "The escape code \\033[1;32m sets the color to green, and \\033[0m resets the color to the default. \n",
    "You can modify the escape code to change the color to your desired value.\n",
    "\n",
    "Here are a few common ANSI escape codes for colors:\n",
    "Black: \\033[1;30m\n",
    "Red: \\033[1;31m\n",
    "Green: \\033[1;32m\n",
    "Yellow: \\033[1;33m\n",
    "Blue: \\033[1;34m\n",
    "Magenta: \\033[1;35m\n",
    "Cyan: \\033[1;36m\n",
    "White: \\033[1;37m\n",
    "'''\n",
    "from tqdm import tqdm\n",
    "for i in tqdm(range(4),desc=\"Processing\",bar_format=\"\\033[1;35m{l_bar}{bar}\\033[0m\"):\n",
    "    time.sleep(0.4)"
   ]
  },
  {
   "cell_type": "code",
   "execution_count": null,
   "id": "0c9f0a20",
   "metadata": {},
   "outputs": [],
   "source": []
  },
  {
   "cell_type": "code",
   "execution_count": null,
   "id": "13c21b15",
   "metadata": {},
   "outputs": [],
   "source": []
  }
 ],
 "metadata": {
  "kernelspec": {
   "display_name": "Python 3 (ipykernel)",
   "language": "python",
   "name": "python3"
  },
  "language_info": {
   "codemirror_mode": {
    "name": "ipython",
    "version": 3
   },
   "file_extension": ".py",
   "mimetype": "text/x-python",
   "name": "python",
   "nbconvert_exporter": "python",
   "pygments_lexer": "ipython3",
   "version": "3.10.9"
  }
 },
 "nbformat": 4,
 "nbformat_minor": 5
}
