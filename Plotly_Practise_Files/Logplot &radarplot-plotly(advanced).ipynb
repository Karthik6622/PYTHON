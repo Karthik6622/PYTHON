{
 "cells": [
  {
   "cell_type": "markdown",
   "id": "596c72ea",
   "metadata": {},
   "source": [
    "# Logplot"
   ]
  },
  {
   "cell_type": "markdown",
   "id": "bc826e8c",
   "metadata": {},
   "source": [
    "To create a logarithmic plot in Plotly, you can use the type attribute within the xaxis or yaxis properties of the layout to specify the axis type as \"log\"."
   ]
  },
  {
   "cell_type": "code",
   "execution_count": 1,
   "id": "2b514a39",
   "metadata": {},
   "outputs": [],
   "source": [
    "from plotly.offline import plot\n",
    "import plotly.graph_objs as go\n",
    "import numpy as np"
   ]
  },
  {
   "cell_type": "markdown",
   "id": "f903e200",
   "metadata": {},
   "source": [
    "# Basic Logplot"
   ]
  },
  {
   "cell_type": "code",
   "execution_count": 7,
   "id": "fd67803c",
   "metadata": {},
   "outputs": [
    {
     "data": {
      "text/plain": [
       "'temp-plot.html'"
      ]
     },
     "execution_count": 7,
     "metadata": {},
     "output_type": "execute_result"
    }
   ],
   "source": [
    "\n",
    "trace=go.Scatter(\n",
    "    x=[23,67,87,34,1,78],\n",
    "    y=[7,8,5,2,90,24,9987],\n",
    "mode='markers+lines',\n",
    "               \n",
    "                )\n",
    "layout=go.Layout(\n",
    "title=\"LOG PLOT\",\n",
    "yaxis=dict(\n",
    "type='log'\n",
    ")\n",
    ")\n",
    "fig=go.Figure([trace],layout=layout)\n",
    "plot(fig)"
   ]
  },
  {
   "cell_type": "markdown",
   "id": "58ce2626",
   "metadata": {},
   "source": [
    "# Radarplot"
   ]
  },
  {
   "cell_type": "markdown",
   "id": "702ef62a",
   "metadata": {},
   "source": [
    "Radar charts are useful for visualizing and comparing multiple variables across different categories or groups.\n",
    "A radar chart, also known as a spider chart or a radar plot, is a graphical method for displaying multivariate data in the form of a two-dimensional chart with three or more quantitative variables represented on axes that radiate from a central point."
   ]
  },
  {
   "cell_type": "markdown",
   "id": "fefe5058",
   "metadata": {},
   "source": [
    "# Basic Radarplot"
   ]
  },
  {
   "cell_type": "code",
   "execution_count": 16,
   "id": "71182c07",
   "metadata": {},
   "outputs": [
    {
     "data": {
      "text/plain": [
       "'temp-plot.html'"
      ]
     },
     "execution_count": 16,
     "metadata": {},
     "output_type": "execute_result"
    }
   ],
   "source": [
    "trace=go.Scatterpolar(\n",
    "r=[39,28,8,7,28,39],\n",
    "theta=['A','B','C','D','E','A'],#theta-The theta values are typically specified in radians and determine the position of each data point along the axes that radiate from the center\n",
    "fill='toself'\n",
    ")\n",
    "data=[trace]\n",
    "layout=go.Layout(\n",
    "    title=\"Radarplot\"\n",
    "#polar=dict(\n",
    "#radialaxis=dict(\n",
    "#visible=True,\n",
    "#range=[0,50]\n",
    ")\n",
    "#)\n",
    "#)\n",
    "fig=go.Figure(data=data,layout=layout)\n",
    "plot(fig)"
   ]
  },
  {
   "cell_type": "markdown",
   "id": "0a3a1930",
   "metadata": {},
   "source": [
    "# create multiple radarplot for athelet peformance"
   ]
  },
  {
   "cell_type": "code",
   "execution_count": 19,
   "id": "fae3dadd",
   "metadata": {},
   "outputs": [
    {
     "data": {
      "text/plain": [
       "'temp-plot.html'"
      ]
     },
     "execution_count": 19,
     "metadata": {},
     "output_type": "execute_result"
    }
   ],
   "source": [
    "trace=go.Scatterpolar(\n",
    "r=[5,10,19],\n",
    "theta=['Gold','Silver','Broze'],\n",
    "name='Group-A',\n",
    "fill='toself'\n",
    ")\n",
    "trace2=go.Scatterpolar(\n",
    "r=[8,8,20],\n",
    "theta=['Gold','Silver','Bronze'],\n",
    "name='Group-B',\n",
    "fill='toself'\n",
    ")\n",
    "data=[trace,trace2]\n",
    "plot(data)"
   ]
  },
  {
   "cell_type": "code",
   "execution_count": null,
   "id": "bdec7b6d",
   "metadata": {},
   "outputs": [],
   "source": []
  }
 ],
 "metadata": {
  "kernelspec": {
   "display_name": "Python 3 (ipykernel)",
   "language": "python",
   "name": "python3"
  },
  "language_info": {
   "codemirror_mode": {
    "name": "ipython",
    "version": 3
   },
   "file_extension": ".py",
   "mimetype": "text/x-python",
   "name": "python",
   "nbconvert_exporter": "python",
   "pygments_lexer": "ipython3",
   "version": "3.10.9"
  }
 },
 "nbformat": 4,
 "nbformat_minor": 5
}
