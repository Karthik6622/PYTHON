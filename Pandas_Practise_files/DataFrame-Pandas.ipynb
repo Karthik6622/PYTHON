{
 "cells": [
  {
   "cell_type": "markdown",
   "id": "e5e0f895",
   "metadata": {},
   "source": [
    "# DataFrame-Pandas"
   ]
  },
  {
   "cell_type": "code",
   "execution_count": 1,
   "id": "6599448a",
   "metadata": {},
   "outputs": [],
   "source": [
    "#DataFrame-with DataFrame we can create two dimenton table with row and column\n",
    "import numpy as np\n",
    "import pandas as pa"
   ]
  },
  {
   "cell_type": "code",
   "execution_count": 7,
   "id": "cd7ffc84",
   "metadata": {},
   "outputs": [
    {
     "data": {
      "text/html": [
       "<div>\n",
       "<style scoped>\n",
       "    .dataframe tbody tr th:only-of-type {\n",
       "        vertical-align: middle;\n",
       "    }\n",
       "\n",
       "    .dataframe tbody tr th {\n",
       "        vertical-align: top;\n",
       "    }\n",
       "\n",
       "    .dataframe thead th {\n",
       "        text-align: right;\n",
       "    }\n",
       "</style>\n",
       "<table border=\"1\" class=\"dataframe\">\n",
       "  <thead>\n",
       "    <tr style=\"text-align: right;\">\n",
       "      <th></th>\n",
       "      <th>0</th>\n",
       "    </tr>\n",
       "  </thead>\n",
       "  <tbody>\n",
       "    <tr>\n",
       "      <th>0</th>\n",
       "      <td>Asha</td>\n",
       "    </tr>\n",
       "    <tr>\n",
       "      <th>1</th>\n",
       "      <td>Versha</td>\n",
       "    </tr>\n",
       "    <tr>\n",
       "      <th>2</th>\n",
       "      <td>baby</td>\n",
       "    </tr>\n",
       "    <tr>\n",
       "      <th>3</th>\n",
       "      <td>Azula</td>\n",
       "    </tr>\n",
       "  </tbody>\n",
       "</table>\n",
       "</div>"
      ],
      "text/plain": [
       "        0\n",
       "0    Asha\n",
       "1  Versha\n",
       "2    baby\n",
       "3   Azula"
      ]
     },
     "execution_count": 7,
     "metadata": {},
     "output_type": "execute_result"
    }
   ],
   "source": [
    "#creating DataFrame using List\n",
    "lst=[\"Asha\",'Versha','baby','Azula']\n",
    "df=pa.DataFrame(data=lst)#it's automatically generated row and column as 0,1...\n",
    "df"
   ]
  },
  {
   "cell_type": "code",
   "execution_count": 8,
   "id": "d893c3be",
   "metadata": {},
   "outputs": [
    {
     "name": "stdout",
     "output_type": "stream",
     "text": [
      "        0\n",
      "0    Asha\n",
      "1  Versha\n",
      "2    baby\n",
      "3   Azula\n"
     ]
    }
   ],
   "source": [
    "#in DataFrame,if we use print() ,it give output as normal but directly if we print,it's give colorfull output\n",
    "print(df)"
   ]
  },
  {
   "cell_type": "code",
   "execution_count": 13,
   "id": "a0cf64bf",
   "metadata": {},
   "outputs": [
    {
     "name": "stdout",
     "output_type": "stream",
     "text": [
      "(['Asha', 'Versha', 'baby', 'Azula'], ['mani', 'raju', 'Raj', 'Muthu'])\n",
      "**************************************************\n",
      "          A       B     C      D\n",
      "Girls  Asha  Versha  baby  Azula\n",
      "Boys   mani    raju   Raj  Muthu\n"
     ]
    }
   ],
   "source": [
    "#how to set row and column names as we wamt into the DataFrame\n",
    "lst2=[\"Asha\",'Versha','baby','Azula'],['mani','raju','Raj','Muthu']\n",
    "print(lst2)\n",
    "print('*'*50)\n",
    "df1=pa.DataFrame(lst2,index=['Girls','Boys'],columns=['A','B','C','D'])#index-row heading,columns-Column headings\n",
    "print(df1)"
   ]
  },
  {
   "cell_type": "code",
   "execution_count": 15,
   "id": "e1e5f3ff",
   "metadata": {},
   "outputs": [
    {
     "name": "stdout",
     "output_type": "stream",
     "text": [
      "{'NAME': ['Karthik', 'Bharat', 'Vasu', 'Mani'], 'AGE': [23, 45, 56, 24], 'ADDRESS': ['TCR', 'Chennai', 'Coimbatore', 'Madurai'], 'QUALIFICATION': ['BSC(CS)', 'BTEC', 'MTEC', 'Bcom']}\n",
      "**************************************************\n"
     ]
    },
    {
     "data": {
      "text/html": [
       "<div>\n",
       "<style scoped>\n",
       "    .dataframe tbody tr th:only-of-type {\n",
       "        vertical-align: middle;\n",
       "    }\n",
       "\n",
       "    .dataframe tbody tr th {\n",
       "        vertical-align: top;\n",
       "    }\n",
       "\n",
       "    .dataframe thead th {\n",
       "        text-align: right;\n",
       "    }\n",
       "</style>\n",
       "<table border=\"1\" class=\"dataframe\">\n",
       "  <thead>\n",
       "    <tr style=\"text-align: right;\">\n",
       "      <th></th>\n",
       "      <th>NAME</th>\n",
       "      <th>AGE</th>\n",
       "      <th>ADDRESS</th>\n",
       "      <th>QUALIFICATION</th>\n",
       "    </tr>\n",
       "  </thead>\n",
       "  <tbody>\n",
       "    <tr>\n",
       "      <th>0</th>\n",
       "      <td>Karthik</td>\n",
       "      <td>23</td>\n",
       "      <td>TCR</td>\n",
       "      <td>BSC(CS)</td>\n",
       "    </tr>\n",
       "    <tr>\n",
       "      <th>1</th>\n",
       "      <td>Bharat</td>\n",
       "      <td>45</td>\n",
       "      <td>Chennai</td>\n",
       "      <td>BTEC</td>\n",
       "    </tr>\n",
       "    <tr>\n",
       "      <th>2</th>\n",
       "      <td>Vasu</td>\n",
       "      <td>56</td>\n",
       "      <td>Coimbatore</td>\n",
       "      <td>MTEC</td>\n",
       "    </tr>\n",
       "    <tr>\n",
       "      <th>3</th>\n",
       "      <td>Mani</td>\n",
       "      <td>24</td>\n",
       "      <td>Madurai</td>\n",
       "      <td>Bcom</td>\n",
       "    </tr>\n",
       "  </tbody>\n",
       "</table>\n",
       "</div>"
      ],
      "text/plain": [
       "      NAME  AGE     ADDRESS QUALIFICATION\n",
       "0  Karthik   23         TCR       BSC(CS)\n",
       "1   Bharat   45     Chennai          BTEC\n",
       "2     Vasu   56  Coimbatore          MTEC\n",
       "3     Mani   24     Madurai          Bcom"
      ]
     },
     "execution_count": 15,
     "metadata": {},
     "output_type": "execute_result"
    }
   ],
   "source": [
    "#creating a dictionary containing employee data into dataframe\n",
    "data={'NAME':['Karthik','Bharat','Vasu','Mani'],\n",
    "     'AGE':[23,45,56,24],\n",
    "      'ADDRESS':['TCR','Chennai','Coimbatore','Madurai'],\n",
    "      'QUALIFICATION':['BSC(CS)','BTEC','MTEC','Bcom']\n",
    "     }\n",
    "print(data)\n",
    "print('*'*50)\n",
    "df2=pa.DataFrame(data)#it's take dictionary key values as Column heders\n",
    "df2"
   ]
  },
  {
   "cell_type": "code",
   "execution_count": 16,
   "id": "44014744",
   "metadata": {},
   "outputs": [
    {
     "name": "stdout",
     "output_type": "stream",
     "text": [
      "      NAME  AGE     ADDRESS QUALIFICATION\n",
      "0  Karthik   23         TCR       BSC(CS)\n",
      "1   Bharat   45     Chennai          BTEC\n",
      "2     Vasu   56  Coimbatore          MTEC\n",
      "3     Mani   24     Madurai          Bcom\n"
     ]
    }
   ],
   "source": [
    "print(df2)"
   ]
  },
  {
   "cell_type": "code",
   "execution_count": 18,
   "id": "2d7e6ab0",
   "metadata": {},
   "outputs": [
    {
     "name": "stdout",
     "output_type": "stream",
     "text": [
      "RangeIndex(start=0, stop=4, step=1)\n",
      "Index(['Girls', 'Boys'], dtype='object')\n",
      "Index(['NAME', 'AGE', 'ADDRESS', 'QUALIFICATION'], dtype='object')\n"
     ]
    }
   ],
   "source": [
    "#how to fetch index(row) values and columns values\n",
    "print(df2.index)\n",
    "print(df1.index)\n",
    "print(df2.columns)"
   ]
  },
  {
   "cell_type": "code",
   "execution_count": 23,
   "id": "073abc16",
   "metadata": {},
   "outputs": [
    {
     "name": "stdout",
     "output_type": "stream",
     "text": [
      "      NAME  AGE     ADDRESS QUALIFICATION\n",
      "0  Karthik   23         TCR       BSC(CS)\n",
      "1   Bharat   45     Chennai          BTEC\n",
      "2     Vasu   56  Coimbatore          MTEC\n",
      "3     Mani   24     Madurai          Bcom\n",
      "**************************************************\n",
      "0    Karthik\n",
      "1     Bharat\n",
      "2       Vasu\n",
      "3       Mani\n",
      "Name: NAME, dtype: object\n",
      "      NAME\n",
      "0  Karthik\n",
      "1   Bharat\n",
      "2     Vasu\n",
      "3     Mani\n"
     ]
    }
   ],
   "source": [
    "#selecting a column\n",
    "print(df2)\n",
    "print('*'*50)\n",
    "print(df2['NAME'])#mentioned column datas\n",
    "print(df2[['NAME']])#mentioned column datas with column header"
   ]
  },
  {
   "cell_type": "code",
   "execution_count": 25,
   "id": "bd29b956",
   "metadata": {},
   "outputs": [
    {
     "name": "stdout",
     "output_type": "stream",
     "text": [
      "      NAME  AGE     ADDRESS QUALIFICATION\n",
      "0  Karthik   23         TCR       BSC(CS)\n",
      "1   Bharat   45     Chennai          BTEC\n",
      "2     Vasu   56  Coimbatore          MTEC\n",
      "3     Mani   24     Madurai          Bcom\n",
      "**************************************************\n",
      "      NAME  AGE\n",
      "0  Karthik   23\n",
      "1   Bharat   45\n",
      "2     Vasu   56\n",
      "3     Mani   24\n",
      "      NAME\n",
      "0  Karthik\n",
      "1   Bharat\n",
      "2     Vasu\n",
      "3     Mani\n"
     ]
    }
   ],
   "source": [
    "#selecting a multiple columns\n",
    "print(df2)\n",
    "print('*'*50)\n",
    "print(df2[['NAME','AGE']])#mentioned Name and age column datas and with column headers"
   ]
  },
  {
   "cell_type": "code",
   "execution_count": 45,
   "id": "802172c6",
   "metadata": {},
   "outputs": [
    {
     "name": "stdout",
     "output_type": "stream",
     "text": [
      "      NAME  AGE     ADDRESS QUALIFICATION\n",
      "0  Karthik   23         TCR       BSC(CS)\n",
      "1   Bharat   45     Chennai          BTEC\n",
      "2     Vasu   56  Coimbatore          MTEC\n",
      "3     Mani   24     Madurai          Bcom\n",
      "**************************************************\n",
      "NAME             Karthik\n",
      "AGE                   23\n",
      "ADDRESS              TCR\n",
      "QUALIFICATION    BSC(CS)\n",
      "Name: 0, dtype: object\n",
      "**************************************************\n",
      "Karthik\n"
     ]
    }
   ],
   "source": [
    "#Access the Values from DataFrame\n",
    "#iloc-which is used to fetch we given specific row\n",
    "print(df2)\n",
    "print('*'*50)\n",
    "#if i want fetch only Karthik row \n",
    "print(df2.iloc[0])\n",
    "print('*'*50)\n",
    "#if we want to fetch one value from dataframe,we can use below statment\n",
    "print(df2['NAME'][0])"
   ]
  },
  {
   "cell_type": "code",
   "execution_count": 48,
   "id": "f0573e2f",
   "metadata": {},
   "outputs": [
    {
     "name": "stdout",
     "output_type": "stream",
     "text": [
      "      NAME  AGE     ADDRESS QUALIFICATION\n",
      "0  Karthik   23         TCR       BSC(CS)\n",
      "1   Bharat   45     Chennai          BTEC\n",
      "2     Vasu   56  Coimbatore          MTEC\n",
      "3     Mani   24     Madurai          Bcom\n",
      "**************************************************\n"
     ]
    },
    {
     "data": {
      "text/html": [
       "<div>\n",
       "<style scoped>\n",
       "    .dataframe tbody tr th:only-of-type {\n",
       "        vertical-align: middle;\n",
       "    }\n",
       "\n",
       "    .dataframe tbody tr th {\n",
       "        vertical-align: top;\n",
       "    }\n",
       "\n",
       "    .dataframe thead th {\n",
       "        text-align: right;\n",
       "    }\n",
       "</style>\n",
       "<table border=\"1\" class=\"dataframe\">\n",
       "  <thead>\n",
       "    <tr style=\"text-align: right;\">\n",
       "      <th></th>\n",
       "      <th>NAME</th>\n",
       "      <th>ADDRESS</th>\n",
       "      <th>QUALIFICATION</th>\n",
       "    </tr>\n",
       "  </thead>\n",
       "  <tbody>\n",
       "    <tr>\n",
       "      <th>0</th>\n",
       "      <td>Karthik</td>\n",
       "      <td>TCR</td>\n",
       "      <td>BSC(CS)</td>\n",
       "    </tr>\n",
       "    <tr>\n",
       "      <th>1</th>\n",
       "      <td>Bharat</td>\n",
       "      <td>Chennai</td>\n",
       "      <td>BTEC</td>\n",
       "    </tr>\n",
       "    <tr>\n",
       "      <th>2</th>\n",
       "      <td>Vasu</td>\n",
       "      <td>Coimbatore</td>\n",
       "      <td>MTEC</td>\n",
       "    </tr>\n",
       "    <tr>\n",
       "      <th>3</th>\n",
       "      <td>Mani</td>\n",
       "      <td>Madurai</td>\n",
       "      <td>Bcom</td>\n",
       "    </tr>\n",
       "  </tbody>\n",
       "</table>\n",
       "</div>"
      ],
      "text/plain": [
       "      NAME     ADDRESS QUALIFICATION\n",
       "0  Karthik         TCR       BSC(CS)\n",
       "1   Bharat     Chennai          BTEC\n",
       "2     Vasu  Coimbatore          MTEC\n",
       "3     Mani     Madurai          Bcom"
      ]
     },
     "execution_count": 48,
     "metadata": {},
     "output_type": "execute_result"
    }
   ],
   "source": [
    "#drop-it is used to delete one \n",
    "print(df2)\n",
    "print('*'*50)\n",
    "#if we want delete One column,use below code\n",
    "df2.drop('AGE',axis=1)"
   ]
  },
  {
   "cell_type": "code",
   "execution_count": 49,
   "id": "44419c2b",
   "metadata": {},
   "outputs": [
    {
     "data": {
      "text/html": [
       "<div>\n",
       "<style scoped>\n",
       "    .dataframe tbody tr th:only-of-type {\n",
       "        vertical-align: middle;\n",
       "    }\n",
       "\n",
       "    .dataframe tbody tr th {\n",
       "        vertical-align: top;\n",
       "    }\n",
       "\n",
       "    .dataframe thead th {\n",
       "        text-align: right;\n",
       "    }\n",
       "</style>\n",
       "<table border=\"1\" class=\"dataframe\">\n",
       "  <thead>\n",
       "    <tr style=\"text-align: right;\">\n",
       "      <th></th>\n",
       "      <th>NAME</th>\n",
       "      <th>AGE</th>\n",
       "      <th>ADDRESS</th>\n",
       "      <th>QUALIFICATION</th>\n",
       "    </tr>\n",
       "  </thead>\n",
       "  <tbody>\n",
       "    <tr>\n",
       "      <th>1</th>\n",
       "      <td>Bharat</td>\n",
       "      <td>45</td>\n",
       "      <td>Chennai</td>\n",
       "      <td>BTEC</td>\n",
       "    </tr>\n",
       "    <tr>\n",
       "      <th>2</th>\n",
       "      <td>Vasu</td>\n",
       "      <td>56</td>\n",
       "      <td>Coimbatore</td>\n",
       "      <td>MTEC</td>\n",
       "    </tr>\n",
       "    <tr>\n",
       "      <th>3</th>\n",
       "      <td>Mani</td>\n",
       "      <td>24</td>\n",
       "      <td>Madurai</td>\n",
       "      <td>Bcom</td>\n",
       "    </tr>\n",
       "  </tbody>\n",
       "</table>\n",
       "</div>"
      ],
      "text/plain": [
       "     NAME  AGE     ADDRESS QUALIFICATION\n",
       "1  Bharat   45     Chennai          BTEC\n",
       "2    Vasu   56  Coimbatore          MTEC\n",
       "3    Mani   24     Madurai          Bcom"
      ]
     },
     "execution_count": 49,
     "metadata": {},
     "output_type": "execute_result"
    }
   ],
   "source": [
    "#if we want delete One row,use below code\n",
    "df2.drop(0,axis=0)"
   ]
  },
  {
   "cell_type": "code",
   "execution_count": 50,
   "id": "1318b472",
   "metadata": {},
   "outputs": [
    {
     "data": {
      "text/html": [
       "<div>\n",
       "<style scoped>\n",
       "    .dataframe tbody tr th:only-of-type {\n",
       "        vertical-align: middle;\n",
       "    }\n",
       "\n",
       "    .dataframe tbody tr th {\n",
       "        vertical-align: top;\n",
       "    }\n",
       "\n",
       "    .dataframe thead th {\n",
       "        text-align: right;\n",
       "    }\n",
       "</style>\n",
       "<table border=\"1\" class=\"dataframe\">\n",
       "  <thead>\n",
       "    <tr style=\"text-align: right;\">\n",
       "      <th></th>\n",
       "      <th>NAME</th>\n",
       "      <th>AGE</th>\n",
       "      <th>ADDRESS</th>\n",
       "      <th>QUALIFICATION</th>\n",
       "    </tr>\n",
       "  </thead>\n",
       "  <tbody>\n",
       "    <tr>\n",
       "      <th>0</th>\n",
       "      <td>Karthik</td>\n",
       "      <td>23</td>\n",
       "      <td>TCR</td>\n",
       "      <td>BSC(CS)</td>\n",
       "    </tr>\n",
       "    <tr>\n",
       "      <th>1</th>\n",
       "      <td>Bharat</td>\n",
       "      <td>45</td>\n",
       "      <td>Chennai</td>\n",
       "      <td>BTEC</td>\n",
       "    </tr>\n",
       "    <tr>\n",
       "      <th>2</th>\n",
       "      <td>Vasu</td>\n",
       "      <td>56</td>\n",
       "      <td>Coimbatore</td>\n",
       "      <td>MTEC</td>\n",
       "    </tr>\n",
       "    <tr>\n",
       "      <th>3</th>\n",
       "      <td>Mani</td>\n",
       "      <td>24</td>\n",
       "      <td>Madurai</td>\n",
       "      <td>Bcom</td>\n",
       "    </tr>\n",
       "  </tbody>\n",
       "</table>\n",
       "</div>"
      ],
      "text/plain": [
       "      NAME  AGE     ADDRESS QUALIFICATION\n",
       "0  Karthik   23         TCR       BSC(CS)\n",
       "1   Bharat   45     Chennai          BTEC\n",
       "2     Vasu   56  Coimbatore          MTEC\n",
       "3     Mani   24     Madurai          Bcom"
      ]
     },
     "execution_count": 50,
     "metadata": {},
     "output_type": "execute_result"
    }
   ],
   "source": [
    "df2#above we did drop changes not applied in real varible if we want to delete permently we can use inplace"
   ]
  },
  {
   "cell_type": "code",
   "execution_count": 51,
   "id": "043ccc5a",
   "metadata": {},
   "outputs": [],
   "source": [
    "df2.drop('AGE',axis=1,inplace=True)#Age column deleted Permently using inplace keyword"
   ]
  },
  {
   "cell_type": "code",
   "execution_count": 52,
   "id": "f3254599",
   "metadata": {},
   "outputs": [
    {
     "data": {
      "text/html": [
       "<div>\n",
       "<style scoped>\n",
       "    .dataframe tbody tr th:only-of-type {\n",
       "        vertical-align: middle;\n",
       "    }\n",
       "\n",
       "    .dataframe tbody tr th {\n",
       "        vertical-align: top;\n",
       "    }\n",
       "\n",
       "    .dataframe thead th {\n",
       "        text-align: right;\n",
       "    }\n",
       "</style>\n",
       "<table border=\"1\" class=\"dataframe\">\n",
       "  <thead>\n",
       "    <tr style=\"text-align: right;\">\n",
       "      <th></th>\n",
       "      <th>NAME</th>\n",
       "      <th>ADDRESS</th>\n",
       "      <th>QUALIFICATION</th>\n",
       "    </tr>\n",
       "  </thead>\n",
       "  <tbody>\n",
       "    <tr>\n",
       "      <th>0</th>\n",
       "      <td>Karthik</td>\n",
       "      <td>TCR</td>\n",
       "      <td>BSC(CS)</td>\n",
       "    </tr>\n",
       "    <tr>\n",
       "      <th>1</th>\n",
       "      <td>Bharat</td>\n",
       "      <td>Chennai</td>\n",
       "      <td>BTEC</td>\n",
       "    </tr>\n",
       "    <tr>\n",
       "      <th>2</th>\n",
       "      <td>Vasu</td>\n",
       "      <td>Coimbatore</td>\n",
       "      <td>MTEC</td>\n",
       "    </tr>\n",
       "    <tr>\n",
       "      <th>3</th>\n",
       "      <td>Mani</td>\n",
       "      <td>Madurai</td>\n",
       "      <td>Bcom</td>\n",
       "    </tr>\n",
       "  </tbody>\n",
       "</table>\n",
       "</div>"
      ],
      "text/plain": [
       "      NAME     ADDRESS QUALIFICATION\n",
       "0  Karthik         TCR       BSC(CS)\n",
       "1   Bharat     Chennai          BTEC\n",
       "2     Vasu  Coimbatore          MTEC\n",
       "3     Mani     Madurai          Bcom"
      ]
     },
     "execution_count": 52,
     "metadata": {},
     "output_type": "execute_result"
    }
   ],
   "source": [
    "df2"
   ]
  },
  {
   "cell_type": "code",
   "execution_count": 53,
   "id": "c43784f3",
   "metadata": {},
   "outputs": [
    {
     "data": {
      "text/html": [
       "<div>\n",
       "<style scoped>\n",
       "    .dataframe tbody tr th:only-of-type {\n",
       "        vertical-align: middle;\n",
       "    }\n",
       "\n",
       "    .dataframe tbody tr th {\n",
       "        vertical-align: top;\n",
       "    }\n",
       "\n",
       "    .dataframe thead th {\n",
       "        text-align: right;\n",
       "    }\n",
       "</style>\n",
       "<table border=\"1\" class=\"dataframe\">\n",
       "  <thead>\n",
       "    <tr style=\"text-align: right;\">\n",
       "      <th></th>\n",
       "      <th>0</th>\n",
       "      <th>1</th>\n",
       "      <th>2</th>\n",
       "    </tr>\n",
       "  </thead>\n",
       "  <tbody>\n",
       "    <tr>\n",
       "      <th>0</th>\n",
       "      <td>10.0</td>\n",
       "      <td>NaN</td>\n",
       "      <td>30.0</td>\n",
       "    </tr>\n",
       "    <tr>\n",
       "      <th>1</th>\n",
       "      <td>40.0</td>\n",
       "      <td>50.0</td>\n",
       "      <td>NaN</td>\n",
       "    </tr>\n",
       "    <tr>\n",
       "      <th>2</th>\n",
       "      <td>60.0</td>\n",
       "      <td>70.0</td>\n",
       "      <td>80.0</td>\n",
       "    </tr>\n",
       "    <tr>\n",
       "      <th>3</th>\n",
       "      <td>NaN</td>\n",
       "      <td>NaN</td>\n",
       "      <td>NaN</td>\n",
       "    </tr>\n",
       "  </tbody>\n",
       "</table>\n",
       "</div>"
      ],
      "text/plain": [
       "      0     1     2\n",
       "0  10.0   NaN  30.0\n",
       "1  40.0  50.0   NaN\n",
       "2  60.0  70.0  80.0\n",
       "3   NaN   NaN   NaN"
      ]
     },
     "execution_count": 53,
     "metadata": {},
     "output_type": "execute_result"
    }
   ],
   "source": [
    "#create DataFrame with NaN values\n",
    "import pandas as pa\n",
    "import numpy as np\n",
    "nan_dataframe=pa.DataFrame([[10,np.nan,30],[40,50,np.nan],[60,70,80],[np.nan,np.nan,np.nan]])\n",
    "nan_dataframe\n",
    "        "
   ]
  },
  {
   "cell_type": "code",
   "execution_count": 56,
   "id": "12f9d177",
   "metadata": {},
   "outputs": [
    {
     "name": "stdout",
     "output_type": "stream",
     "text": [
      "      0     1     2\n",
      "2  60.0  70.0  80.0\n",
      "**************************************************\n",
      "      0     1     2\n",
      "2  60.0  70.0  80.0\n",
      "**************************************************\n",
      "Empty DataFrame\n",
      "Columns: []\n",
      "Index: [0, 1, 2, 3]\n"
     ]
    }
   ],
   "source": [
    "#dropna-which is used to drop row or column which are contain NaN value and display unnan values\n",
    "print(nan_dataframe.dropna())#defaultly it will deleted row wise\n",
    "print('*'*50)\n",
    "print(nan_dataframe.dropna(axis=0))#row\n",
    "print('*'*50)\n",
    "print(nan_dataframe.dropna(axis=1))#if we want delete column wise use axis=1\n",
    "#if we want to permently delete non values in DataFrame ,use inplace=True"
   ]
  },
  {
   "cell_type": "code",
   "execution_count": 72,
   "id": "bdec04f3",
   "metadata": {},
   "outputs": [
    {
     "name": "stdout",
     "output_type": "stream",
     "text": [
      "      0     1     2\n",
      "0  10.0   NaN  30.0\n",
      "1  40.0  50.0   NaN\n",
      "2  60.0  70.0  80.0\n",
      "3   NaN   NaN   NaN\n",
      "**************************************************\n",
      "      0     1     2\n",
      "0  10.0   NaN  30.0\n",
      "1  40.0  50.0   NaN\n",
      "2  60.0  70.0  80.0\n",
      "**************************************************\n",
      "      0     1     2\n",
      "2  60.0  70.0  80.0\n",
      "**************************************************\n",
      "      0\n",
      "0  10.0\n",
      "1  40.0\n",
      "2  60.0\n",
      "3   NaN\n"
     ]
    }
   ],
   "source": [
    "#thresh-it will display non-nan valus rows or columns as we given value\n",
    "print(nan_dataframe)\n",
    "print('*'*50)\n",
    "print(nan_dataframe.dropna(thresh=2))#it's display which are the row has two non-Nan values\n",
    "print('*'*50)\n",
    "print(nan_dataframe.dropna(thresh=3,axis=0))#it's display which are the row has three non-Nan values\n",
    "print('*'*50)\n",
    "print(nan_dataframe.dropna(thresh=3,axis=1))#it's display which are the column has three non-Nan values\n",
    "#use inplace=true to permenant cahnge"
   ]
  },
  {
   "cell_type": "code",
   "execution_count": 80,
   "id": "29631543",
   "metadata": {},
   "outputs": [
    {
     "name": "stdout",
     "output_type": "stream",
     "text": [
      "      0     1     2\n",
      "0  10.0   NaN  30.0\n",
      "1  40.0  50.0   NaN\n",
      "2  60.0  70.0  80.0\n",
      "3   NaN   NaN   NaN\n",
      "**************************************************\n",
      "         0        1        2\n",
      "0     10.0  karthik     30.0\n",
      "1     40.0     50.0  karthik\n",
      "2     60.0     70.0     80.0\n",
      "3  karthik  karthik  karthik\n",
      "**************************************************\n",
      "      0     1     2\n",
      "0  10.0  20.0  30.0\n",
      "1  40.0  50.0  20.0\n",
      "2  60.0  70.0  80.0\n",
      "3  20.0  20.0  20.0\n",
      "**************************************************\n",
      "           0     1     2\n",
      "0  10.000000  60.0  30.0\n",
      "1  40.000000  50.0  55.0\n",
      "2  60.000000  70.0  80.0\n",
      "3  36.666667  60.0  55.0\n"
     ]
    }
   ],
   "source": [
    "#fillna-it is used to fill we given value to nan value posotion\n",
    "print(nan_dataframe)\n",
    "print('*'*50)\n",
    "print(nan_dataframe.fillna(value=\"karthik\"))\n",
    "print('*'*50)\n",
    "print(nan_dataframe.fillna(value=20))\n",
    "print('*'*50)\n",
    "print(nan_dataframe.fillna(value=nan_dataframe.mean()))"
   ]
  },
  {
   "cell_type": "code",
   "execution_count": 84,
   "id": "3dffff76",
   "metadata": {},
   "outputs": [
    {
     "name": "stdout",
     "output_type": "stream",
     "text": [
      "          A       B     C      D\n",
      "Girls  Asha  Versha  baby  Azula\n",
      "Boys   mani    raju   Raj  Muthu\n",
      "**************************************************\n",
      "      NAME     ADDRESS QUALIFICATION\n",
      "0  Karthik         TCR       BSC(CS)\n",
      "1   Bharat     Chennai          BTEC\n",
      "2     Vasu  Coimbatore          MTEC\n",
      "3     Mani     Madurai          Bcom\n",
      "**************************************************\n",
      "          A       B     C      D     NAME     ADDRESS QUALIFICATION\n",
      "Girls  Asha  Versha  baby  Azula      NaN         NaN           NaN\n",
      "Boys   mani    raju   Raj  Muthu      NaN         NaN           NaN\n",
      "0       NaN     NaN   NaN    NaN  Karthik         TCR       BSC(CS)\n",
      "1       NaN     NaN   NaN    NaN   Bharat     Chennai          BTEC\n",
      "2       NaN     NaN   NaN    NaN     Vasu  Coimbatore          MTEC\n",
      "3       NaN     NaN   NaN    NaN     Mani     Madurai          Bcom\n"
     ]
    }
   ],
   "source": [
    "#concat-it is used to concat two dataFrames or more than two dataframes\n",
    "print(df1)\n",
    "print('*'*50)\n",
    "print(df2)\n",
    "print('*'*50)\n",
    "print(pa.concat([df1,df2]))"
   ]
  },
  {
   "cell_type": "code",
   "execution_count": 89,
   "id": "d29a5c12",
   "metadata": {},
   "outputs": [
    {
     "name": "stdout",
     "output_type": "stream",
     "text": [
      "A    0\n",
      "B    1\n",
      "C    2\n",
      "dtype: int32\n",
      "**************************************************\n",
      "X    11\n",
      "Y    12\n",
      "dtype: int32\n",
      "**************************************************\n",
      "     0     1\n",
      "A  0.0   NaN\n",
      "B  1.0   NaN\n",
      "C  2.0   NaN\n",
      "X  NaN  11.0\n",
      "Y  NaN  12.0\n",
      "**************************************************\n",
      "A     0\n",
      "B     1\n",
      "C     2\n",
      "X    11\n",
      "Y    12\n",
      "dtype: int32\n",
      "**************************************************\n",
      "Tab1  A     0\n",
      "      B     1\n",
      "      C     2\n",
      "Tab2  X    11\n",
      "      Y    12\n",
      "dtype: int32\n"
     ]
    }
   ],
   "source": [
    "#crating data frame using concat two series\n",
    "from pandas import DataFrame,Series\n",
    "ser1=Series(np.arange(3),index=['A','B','C'])\n",
    "print(ser1)\n",
    "print('*'*50)\n",
    "ser2=Series(np.arange(11,13),index=['X','Y'])\n",
    "print(ser2)\n",
    "print('*'*50)\n",
    "print(pa.concat([ser1,ser2],axis=1,sort=False))#it's concatinated like column it's added first series as first column.second\n",
    "                                              #series as a second column\n",
    "print('*'*50)\n",
    "print(pa.concat([ser1,ser2],axis=0,sort=True))#it's concatinated like a rowise\n",
    "print('*'*50)\n",
    "print(pa.concat([ser1,ser2],axis=0,keys=['Tab1','Tab2']))"
   ]
  },
  {
   "cell_type": "code",
   "execution_count": null,
   "id": "68a0664b",
   "metadata": {},
   "outputs": [],
   "source": []
  }
 ],
 "metadata": {
  "kernelspec": {
   "display_name": "Python 3 (ipykernel)",
   "language": "python",
   "name": "python3"
  },
  "language_info": {
   "codemirror_mode": {
    "name": "ipython",
    "version": 3
   },
   "file_extension": ".py",
   "mimetype": "text/x-python",
   "name": "python",
   "nbconvert_exporter": "python",
   "pygments_lexer": "ipython3",
   "version": "3.10.9"
  }
 },
 "nbformat": 4,
 "nbformat_minor": 5
}
