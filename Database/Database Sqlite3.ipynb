{
 "cells": [
  {
   "cell_type": "code",
   "execution_count": 2,
   "id": "effbfb60",
   "metadata": {},
   "outputs": [
    {
     "name": "stdout",
     "output_type": "stream",
     "text": [
      "Opened Database successfully\n"
     ]
    }
   ],
   "source": [
    "#connecting the database\n",
    "#importing the Sqlite3 module\n",
    "import sqlite3\n",
    "conn=sqlite3.connect(\"E:\\DBMS\\kkk.sqlite\")\n",
    "cursor=conn.cursor()\n",
    "print(\"Opened Database successfully\")"
   ]
  },
  {
   "cell_type": "markdown",
   "id": "b508e686",
   "metadata": {},
   "source": [
    "Database query-is not a case sensitive,\n",
    "SQL-structure Query language"
   ]
  },
  {
   "cell_type": "code",
   "execution_count": 3,
   "id": "ca6d8d54",
   "metadata": {},
   "outputs": [],
   "source": [
    "#creating the table inside our DB\n",
    "conn=sqlite3.connect(\"E:\\DBMS\\kkk.sqlite\")\n",
    "cursor=conn.cursor()\n",
    "cursor.execute('''CREATE TABLE EDUVERSE\n",
    "                (ID INT PRIMARY KEY NOT NULL,\n",
    "                NAME TEXT NOT NULL,\n",
    "                AGE INT NOT NULL,\n",
    "                ADDRESS CHAR(50),\n",
    "                SALARY INT);\n",
    "                ''')\n",
    "#conn.close()\n",
    "#or\n",
    "cursor.close()"
   ]
  },
  {
   "cell_type": "code",
   "execution_count": 4,
   "id": "aef01be2",
   "metadata": {},
   "outputs": [],
   "source": [
    "#inserting the value into the table\n",
    "conn=sqlite3.connect(\"E:\\DBMS\\kkk.sqlite\")\n",
    "cursor=conn.cursor()\n",
    "cursor.execute(\"Insert into EDUVERSE values(101,'Sarvana',31,'Anna nagar,Chennai',70000)\")\n",
    "cursor.execute(\"Insert into EDUVERSE values(102,'Karthik',23,'West street,Tiruchendur',80000)\")\n",
    "cursor.execute(\"Insert into EDUVERSE values(103,'Raja',24,'Gandhi street,Chennai',60000)\")\n",
    "cursor.execute(\"Insert into EDUVERSE values(104,'Mani',25,'North street,Madurai',50000)\")\n",
    "cursor.execute(\"Insert into EDUVERSE values(105,'Baby',23,'central nagar,Coimbatore',30000)\")\n",
    "conn.commit()#to save the data's\n",
    "conn.close()"
   ]
  },
  {
   "cell_type": "code",
   "execution_count": 10,
   "id": "a79b1965",
   "metadata": {},
   "outputs": [
    {
     "name": "stdout",
     "output_type": "stream",
     "text": [
      "TYPE OF THE DATA IS:\n",
      " <class 'list'>\n",
      "\n",
      "\n",
      "[(101, 'Sarvana', 31, 'Anna nagar,Chennai', 70000), (102, 'Karthik', 23, 'West street,Tiruchendur', 80000), (103, 'Raja', 24, 'Gandhi street,Chennai', 60000), (104, 'Mani', 25, 'North street,Madurai', 50000), (105, 'Baby', 23, 'central nagar,Coimbatore', 30000)]\n"
     ]
    }
   ],
   "source": [
    "#how to select the all datas in the database\n",
    "conn=sqlite3.connect(\"E:\\DBMS\\kkk.sqlite\")\n",
    "cursor=conn.cursor()\n",
    "query=\"SELECT * FROM Eduverse\"\n",
    "cursor.execute(query)\n",
    "data=cursor.fetchall()\n",
    "print(\"TYPE OF THE DATA IS:\\n\",type(data))\n",
    "print('\\n')\n",
    "print(data)"
   ]
  },
  {
   "cell_type": "code",
   "execution_count": 16,
   "id": "97cd4fb8",
   "metadata": {},
   "outputs": [
    {
     "name": "stdout",
     "output_type": "stream",
     "text": [
      "ID== 101\n",
      "NAME== Sarvana\n",
      "AGE== 31\n",
      "SALARY== 70000 \n",
      "\n",
      "ID== 102\n",
      "NAME== Karthik\n",
      "AGE== 23\n",
      "SALARY== 80000 \n",
      "\n",
      "ID== 103\n",
      "NAME== Raja\n",
      "AGE== 24\n",
      "SALARY== 60000 \n",
      "\n",
      "ID== 104\n",
      "NAME== Mani\n",
      "AGE== 25\n",
      "SALARY== 50000 \n",
      "\n",
      "ID== 105\n",
      "NAME== Baby\n",
      "AGE== 23\n",
      "SALARY== 30000 \n",
      "\n"
     ]
    }
   ],
   "source": [
    "#to select the Specific column from the database\n",
    "conn=sqlite3.connect(\"E:\\DBMS\\kkk.sqlite\")\n",
    "cursor=conn.cursor()\n",
    "for row in cursor.execute(\"Select ID,NAME,AGE,SALARY FROM EDUVERSE\"):\n",
    "    print('ID==',row[0])\n",
    "    print('NAME==',row[1])\n",
    "    print('AGE==',row[2])\n",
    "    print('SALARY==',row[3],'\\n')\n",
    "conn.commit()\n",
    "conn.close()"
   ]
  },
  {
   "cell_type": "code",
   "execution_count": 17,
   "id": "aee7251e",
   "metadata": {},
   "outputs": [
    {
     "name": "stdout",
     "output_type": "stream",
     "text": [
      "Getting only one data from the table\n",
      "(101, 'Sarvana', 31, 'Anna nagar,Chennai', 70000)\n"
     ]
    }
   ],
   "source": [
    "#how to select the one data in the database\n",
    "conn=sqlite3.connect(\"E:\\DBMS\\kkk.sqlite\")\n",
    "cursor=conn.cursor()\n",
    "query=\"SELECT * FROM Eduverse\"\n",
    "print(\"Getting only one data from the table\")\n",
    "cursor.execute(query)\n",
    "data=cursor.fetchone()\n",
    "print(data)\n",
    "conn.close()"
   ]
  },
  {
   "cell_type": "code",
   "execution_count": 20,
   "id": "a7fe2959",
   "metadata": {},
   "outputs": [
    {
     "name": "stdout",
     "output_type": "stream",
     "text": [
      "Getting only one or more data from the table\n",
      "[(101, 'Sarvana', 31, 'Anna nagar,Chennai', 70000), (102, 'Karthik', 23, 'West street,Tiruchendur', 80000), (103, 'Raja', 24, 'Gandhi street,Chennai', 60000)]\n"
     ]
    }
   ],
   "source": [
    "#how to select the specific number of data in the database\n",
    "conn=sqlite3.connect(\"E:\\DBMS\\kkk.sqlite\")\n",
    "cursor=conn.cursor()\n",
    "query=\"SELECT * FROM Eduverse\"\n",
    "print(\"Getting only one or more data from the table\")\n",
    "cursor.execute(query)\n",
    "data=cursor.fetchmany(3)#it's display 3 rows\n",
    "print(data)\n",
    "conn.close()"
   ]
  },
  {
   "cell_type": "code",
   "execution_count": 23,
   "id": "c083c5d1",
   "metadata": {},
   "outputs": [
    {
     "name": "stdout",
     "output_type": "stream",
     "text": [
      "Enter the ID:200\n",
      "Enter the Name:reshma\n",
      "Enter the Age:23\n",
      "Enter the Address:Anna nagar,chennai\n",
      "Enter Your Salary:70000\n",
      "Data saved Successfully!!!\n"
     ]
    }
   ],
   "source": [
    "#get input from user and insert into database\n",
    "conn=sqlite3.connect(\"E:\\DBMS\\kkk.sqlite\")\n",
    "cursor=conn.cursor()\n",
    "i=input('Enter the ID:')\n",
    "n=input('Enter the Name:')\n",
    "a=input('Enter the Age:')\n",
    "add=input('Enter the Address:')\n",
    "s=input('Enter Your Salary:')\n",
    "query=\"insert into Eduverse (ID,NAME,AGE,ADDRESS,SALARY) values(\"+i +\",'\"+n+\"',\"+a+\",'\"+add+\"',\"+s+\")\"\n",
    "conn.execute(query)\n",
    "conn.commit()\n",
    "conn.close()\n",
    "print('Data saved Successfully!!!')"
   ]
  },
  {
   "cell_type": "code",
   "execution_count": 24,
   "id": "8408c4d0",
   "metadata": {},
   "outputs": [
    {
     "name": "stdout",
     "output_type": "stream",
     "text": [
      "Saved Successfully!!\n"
     ]
    }
   ],
   "source": [
    "#update-it is used to update an existing record in database table\n",
    "conn=sqlite3.connect(\"E:\\DBMS\\kkk.sqlite\")\n",
    "cursor=conn.cursor()\n",
    "query=\"Update eduverse SET SALARY=100000 WHERE ID=200\"\n",
    "conn.execute(query)\n",
    "conn.commit()\n",
    "conn.close()\n",
    "print(\"Saved Successfully!!\")"
   ]
  },
  {
   "cell_type": "code",
   "execution_count": null,
   "id": "f8149485",
   "metadata": {},
   "outputs": [],
   "source": []
  }
 ],
 "metadata": {
  "kernelspec": {
   "display_name": "Python 3 (ipykernel)",
   "language": "python",
   "name": "python3"
  },
  "language_info": {
   "codemirror_mode": {
    "name": "ipython",
    "version": 3
   },
   "file_extension": ".py",
   "mimetype": "text/x-python",
   "name": "python",
   "nbconvert_exporter": "python",
   "pygments_lexer": "ipython3",
   "version": "3.10.9"
  }
 },
 "nbformat": 4,
 "nbformat_minor": 5
}
