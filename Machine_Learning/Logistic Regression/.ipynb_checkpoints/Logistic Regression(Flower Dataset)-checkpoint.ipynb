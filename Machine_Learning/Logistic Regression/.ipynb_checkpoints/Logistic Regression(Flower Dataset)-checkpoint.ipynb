{
 "cells": [
  {
   "cell_type": "markdown",
   "id": "5369d9b0",
   "metadata": {},
   "source": [
    "# Logistic Regression(Flower Dataset)"
   ]
  },
  {
   "cell_type": "markdown",
   "id": "7b912302",
   "metadata": {},
   "source": [
    "How do you create a logistic regression model using Scikit-Learn? The first thing you need to know is that despite the name logistic regression containing the word regression, logistic regression is a model used for classification. Classification models can be used for tasks like classifying flower species or image recognition. All of this of course depends on the availability and quality of your data. Logistic Regression has some advantages including\n",
    "\n",
    "Model training and predictions are relatively fast\n",
    "No tuning is usually needed for logistic regression unless you want to regularize your model.\n",
    "Finally, it can perform well with a small number of observations.\n",
    "In this video, I'll share with you how you can create a logistic regession model for binary classification."
   ]
  },
  {
   "cell_type": "markdown",
   "id": "a3021ac7",
   "metadata": {},
   "source": [
    "# Import Libraries"
   ]
  },
  {
   "cell_type": "code",
   "execution_count": 101,
   "id": "797a6249",
   "metadata": {},
   "outputs": [],
   "source": [
    "import matplotlib.pyplot as plt\n",
    "import pandas as pd\n",
    "import numpy as np\n",
    "from sklearn.model_selection import train_test_split\n",
    "from sklearn.preprocessing import StandardScaler\n",
    "from sklearn.linear_model import LogisticRegression\n",
    "from sklearn import metrics\n",
    "import seaborn as sns"
   ]
  },
  {
   "cell_type": "markdown",
   "id": "b449b07c",
   "metadata": {},
   "source": [
    "# Load the Dataset\n",
    "The code below loads a modified version of the iris dataset which has two classes. A 1 is a virginica flower and a 0 is versicolor flower."
   ]
  },
  {
   "cell_type": "code",
   "execution_count": 13,
   "id": "4ee9a194",
   "metadata": {},
   "outputs": [],
   "source": [
    "df=pd.read_csv(\"modifiedIris2Classes.csv\")"
   ]
  },
  {
   "cell_type": "code",
   "execution_count": 14,
   "id": "501a3f3c",
   "metadata": {},
   "outputs": [
    {
     "data": {
      "text/html": [
       "<div>\n",
       "<style scoped>\n",
       "    .dataframe tbody tr th:only-of-type {\n",
       "        vertical-align: middle;\n",
       "    }\n",
       "\n",
       "    .dataframe tbody tr th {\n",
       "        vertical-align: top;\n",
       "    }\n",
       "\n",
       "    .dataframe thead th {\n",
       "        text-align: right;\n",
       "    }\n",
       "</style>\n",
       "<table border=\"1\" class=\"dataframe\">\n",
       "  <thead>\n",
       "    <tr style=\"text-align: right;\">\n",
       "      <th></th>\n",
       "      <th>sepal length (cm)</th>\n",
       "      <th>sepal width (cm)</th>\n",
       "      <th>petal length (cm)</th>\n",
       "      <th>petal width (cm)</th>\n",
       "      <th>target</th>\n",
       "    </tr>\n",
       "  </thead>\n",
       "  <tbody>\n",
       "    <tr>\n",
       "      <th>0</th>\n",
       "      <td>7.0</td>\n",
       "      <td>3.2</td>\n",
       "      <td>4.7</td>\n",
       "      <td>1.4</td>\n",
       "      <td>0</td>\n",
       "    </tr>\n",
       "    <tr>\n",
       "      <th>1</th>\n",
       "      <td>6.4</td>\n",
       "      <td>3.2</td>\n",
       "      <td>4.5</td>\n",
       "      <td>1.5</td>\n",
       "      <td>0</td>\n",
       "    </tr>\n",
       "    <tr>\n",
       "      <th>2</th>\n",
       "      <td>6.9</td>\n",
       "      <td>3.1</td>\n",
       "      <td>4.9</td>\n",
       "      <td>1.5</td>\n",
       "      <td>0</td>\n",
       "    </tr>\n",
       "    <tr>\n",
       "      <th>3</th>\n",
       "      <td>5.5</td>\n",
       "      <td>2.3</td>\n",
       "      <td>4.0</td>\n",
       "      <td>1.3</td>\n",
       "      <td>0</td>\n",
       "    </tr>\n",
       "    <tr>\n",
       "      <th>4</th>\n",
       "      <td>6.5</td>\n",
       "      <td>2.8</td>\n",
       "      <td>4.6</td>\n",
       "      <td>1.5</td>\n",
       "      <td>0</td>\n",
       "    </tr>\n",
       "  </tbody>\n",
       "</table>\n",
       "</div>"
      ],
      "text/plain": [
       "   sepal length (cm)  sepal width (cm)  petal length (cm)  petal width (cm)  \\\n",
       "0                7.0               3.2                4.7               1.4   \n",
       "1                6.4               3.2                4.5               1.5   \n",
       "2                6.9               3.1                4.9               1.5   \n",
       "3                5.5               2.3                4.0               1.3   \n",
       "4                6.5               2.8                4.6               1.5   \n",
       "\n",
       "   target  \n",
       "0       0  \n",
       "1       0  \n",
       "2       0  \n",
       "3       0  \n",
       "4       0  "
      ]
     },
     "execution_count": 14,
     "metadata": {},
     "output_type": "execute_result"
    }
   ],
   "source": [
    "df.head()"
   ]
  },
  {
   "cell_type": "code",
   "execution_count": 15,
   "id": "540c9047",
   "metadata": {},
   "outputs": [
    {
     "data": {
      "text/plain": [
       "(100, 5)"
      ]
     },
     "execution_count": 15,
     "metadata": {},
     "output_type": "execute_result"
    }
   ],
   "source": [
    "df.shape"
   ]
  },
  {
   "cell_type": "code",
   "execution_count": 16,
   "id": "cd0aeb7e",
   "metadata": {},
   "outputs": [
    {
     "name": "stdout",
     "output_type": "stream",
     "text": [
      "<class 'pandas.core.frame.DataFrame'>\n",
      "RangeIndex: 100 entries, 0 to 99\n",
      "Data columns (total 5 columns):\n",
      " #   Column             Non-Null Count  Dtype  \n",
      "---  ------             --------------  -----  \n",
      " 0   sepal length (cm)  100 non-null    float64\n",
      " 1   sepal width (cm)   100 non-null    float64\n",
      " 2   petal length (cm)  100 non-null    float64\n",
      " 3   petal width (cm)   100 non-null    float64\n",
      " 4   target             100 non-null    int64  \n",
      "dtypes: float64(4), int64(1)\n",
      "memory usage: 4.0 KB\n"
     ]
    }
   ],
   "source": [
    "df.info()"
   ]
  },
  {
   "cell_type": "markdown",
   "id": "9ebb8f41",
   "metadata": {},
   "source": [
    "# Splitting Data into Training and Test Sets"
   ]
  },
  {
   "cell_type": "code",
   "execution_count": 25,
   "id": "c8e46c83",
   "metadata": {},
   "outputs": [],
   "source": [
    "x_train, x_test, y_train, y_test = train_test_split(df[['petal length (cm)']], df['target'], random_state=0)#if we not mention test_size,it will take defaultly 0.25"
   ]
  },
  {
   "cell_type": "markdown",
   "id": "ff548f06",
   "metadata": {},
   "source": [
    "# Standardize the Data\n",
    "Logistic Regression is effected by scale so you need to scale the features in the data before using Logistic Regresison. You can transform the data onto unit scale (mean = 0 and variance = 1) for better performance. Scikit-Learn's StandardScaler helps standardize the dataset’s features. Note you fit on the training set and transform on the training and test set."
   ]
  },
  {
   "cell_type": "code",
   "execution_count": 26,
   "id": "445d48f2",
   "metadata": {},
   "outputs": [],
   "source": [
    "scaler=StandardScaler()\n",
    "# Fit on training set only.\n",
    "scaler.fit(x_train)\n",
    "# Apply transform to both the training set and the test set.\n",
    "x_train=scaler.transform(x_train)\n",
    "x_test=scaler.transform(x_test)"
   ]
  },
  {
   "cell_type": "code",
   "execution_count": 27,
   "id": "7ec3a291",
   "metadata": {},
   "outputs": [
    {
     "data": {
      "text/plain": [
       "array([[-2.29778941],\n",
       "       [-0.24187257],\n",
       "       [ 0.24187257],\n",
       "       [ 0.84655399],\n",
       "       [-0.12093628],\n",
       "       [ 0.24187257],\n",
       "       [ 1.45123542],\n",
       "       [ 0.84655399],\n",
       "       [ 2.4187257 ],\n",
       "       [ 0.24187257],\n",
       "       [ 0.12093628],\n",
       "       [-0.48374514],\n",
       "       [-0.48374514],\n",
       "       [ 0.12093628],\n",
       "       [ 0.96749028],\n",
       "       [-0.48374514],\n",
       "       [ 0.48374514],\n",
       "       [-1.08842656],\n",
       "       [-0.36280885],\n",
       "       [-0.36280885],\n",
       "       [-0.60468142],\n",
       "       [-0.96749028],\n",
       "       [-0.60468142],\n",
       "       [-0.96749028],\n",
       "       [-0.48374514],\n",
       "       [ 0.24187257],\n",
       "       [ 1.45123542],\n",
       "       [-0.24187257],\n",
       "       [-0.48374514],\n",
       "       [-0.48374514],\n",
       "       [ 1.33029913],\n",
       "       [-0.84655399],\n",
       "       [-0.48374514],\n",
       "       [-0.24187257],\n",
       "       [ 1.20936285],\n",
       "       [-1.69310799],\n",
       "       [-1.45123542],\n",
       "       [ 0.72561771],\n",
       "       [ 1.69310799],\n",
       "       [ 1.08842656],\n",
       "       [ 1.45123542],\n",
       "       [-1.20936285],\n",
       "       [ 0.84655399],\n",
       "       [-1.5721717 ],\n",
       "       [ 0.60468142],\n",
       "       [-1.20936285],\n",
       "       [-1.69310799],\n",
       "       [-0.96749028],\n",
       "       [ 0.36280885],\n",
       "       [ 0.60468142],\n",
       "       [ 0.12093628],\n",
       "       [-0.12093628],\n",
       "       [ 0.96749028],\n",
       "       [ 2.17685313],\n",
       "       [ 0.        ],\n",
       "       [-0.60468142],\n",
       "       [-0.60468142],\n",
       "       [ 1.81404427],\n",
       "       [-0.84655399],\n",
       "       [-1.08842656],\n",
       "       [ 0.48374514],\n",
       "       [ 1.08842656],\n",
       "       [-1.08842656],\n",
       "       [-0.12093628],\n",
       "       [ 0.96749028],\n",
       "       [ 0.72561771],\n",
       "       [-0.24187257],\n",
       "       [-1.08842656],\n",
       "       [ 0.24187257],\n",
       "       [-1.20936285],\n",
       "       [ 0.12093628],\n",
       "       [ 2.17685313],\n",
       "       [ 0.24187257],\n",
       "       [-0.72561771],\n",
       "       [-0.84655399]])"
      ]
     },
     "execution_count": 27,
     "metadata": {},
     "output_type": "execute_result"
    }
   ],
   "source": [
    "x_train"
   ]
  },
  {
   "cell_type": "code",
   "execution_count": 28,
   "id": "867386f1",
   "metadata": {},
   "outputs": [
    {
     "data": {
      "text/plain": [
       "array([[-0.12093628],\n",
       "       [ 0.84655399],\n",
       "       [ 0.        ],\n",
       "       [ 2.05591684],\n",
       "       [ 1.33029913],\n",
       "       [ 1.20936285],\n",
       "       [-0.48374514],\n",
       "       [ 0.        ],\n",
       "       [ 1.08842656],\n",
       "       [ 0.36280885],\n",
       "       [ 0.84655399],\n",
       "       [ 0.24187257],\n",
       "       [ 0.84655399],\n",
       "       [-0.24187257],\n",
       "       [-1.93498056],\n",
       "       [-1.33029913],\n",
       "       [ 0.        ],\n",
       "       [-0.72561771],\n",
       "       [ 0.24187257],\n",
       "       [-0.36280885],\n",
       "       [-1.93498056],\n",
       "       [ 0.72561771],\n",
       "       [-1.08842656],\n",
       "       [ 0.        ],\n",
       "       [-0.84655399]])"
      ]
     },
     "execution_count": 28,
     "metadata": {},
     "output_type": "execute_result"
    }
   ],
   "source": [
    "x_test"
   ]
  },
  {
   "cell_type": "markdown",
   "id": "4d665d88",
   "metadata": {},
   "source": [
    "# Logistic Regression\n",
    "Step 1: Import the model you want to use\n",
    "\n",
    "In sklearn, all machine learning models are implemented as Python classes"
   ]
  },
  {
   "cell_type": "code",
   "execution_count": 29,
   "id": "eba6c699",
   "metadata": {},
   "outputs": [],
   "source": [
    "# This was already imported earlier in the notebook so commenting out\n",
    "from sklearn.linear_model import LogisticRegression"
   ]
  },
  {
   "cell_type": "markdown",
   "id": "a0d1cc8b",
   "metadata": {},
   "source": [
    "Step 2: Make an instance of the Model\n",
    "\n",
    "This is a place where we can tune the hyperparameters of a model. Typically this is where you tune C is related to regularization"
   ]
  },
  {
   "cell_type": "code",
   "execution_count": 30,
   "id": "5126611e",
   "metadata": {},
   "outputs": [],
   "source": [
    "model=LogisticRegression()"
   ]
  },
  {
   "cell_type": "markdown",
   "id": "5d351658",
   "metadata": {},
   "source": [
    "Step 3: Training the model on the data, storing the information learned from the data\n",
    "\n",
    "Model is learning the relationship between x ( sepal length) and y (labels-which species of iris)\n",
    "\n",
    "model.fit(X_train, y_train) # training"
   ]
  },
  {
   "cell_type": "code",
   "execution_count": 31,
   "id": "e44848ad",
   "metadata": {},
   "outputs": [
    {
     "data": {
      "text/html": [
       "<style>#sk-container-id-1 {color: black;background-color: white;}#sk-container-id-1 pre{padding: 0;}#sk-container-id-1 div.sk-toggleable {background-color: white;}#sk-container-id-1 label.sk-toggleable__label {cursor: pointer;display: block;width: 100%;margin-bottom: 0;padding: 0.3em;box-sizing: border-box;text-align: center;}#sk-container-id-1 label.sk-toggleable__label-arrow:before {content: \"▸\";float: left;margin-right: 0.25em;color: #696969;}#sk-container-id-1 label.sk-toggleable__label-arrow:hover:before {color: black;}#sk-container-id-1 div.sk-estimator:hover label.sk-toggleable__label-arrow:before {color: black;}#sk-container-id-1 div.sk-toggleable__content {max-height: 0;max-width: 0;overflow: hidden;text-align: left;background-color: #f0f8ff;}#sk-container-id-1 div.sk-toggleable__content pre {margin: 0.2em;color: black;border-radius: 0.25em;background-color: #f0f8ff;}#sk-container-id-1 input.sk-toggleable__control:checked~div.sk-toggleable__content {max-height: 200px;max-width: 100%;overflow: auto;}#sk-container-id-1 input.sk-toggleable__control:checked~label.sk-toggleable__label-arrow:before {content: \"▾\";}#sk-container-id-1 div.sk-estimator input.sk-toggleable__control:checked~label.sk-toggleable__label {background-color: #d4ebff;}#sk-container-id-1 div.sk-label input.sk-toggleable__control:checked~label.sk-toggleable__label {background-color: #d4ebff;}#sk-container-id-1 input.sk-hidden--visually {border: 0;clip: rect(1px 1px 1px 1px);clip: rect(1px, 1px, 1px, 1px);height: 1px;margin: -1px;overflow: hidden;padding: 0;position: absolute;width: 1px;}#sk-container-id-1 div.sk-estimator {font-family: monospace;background-color: #f0f8ff;border: 1px dotted black;border-radius: 0.25em;box-sizing: border-box;margin-bottom: 0.5em;}#sk-container-id-1 div.sk-estimator:hover {background-color: #d4ebff;}#sk-container-id-1 div.sk-parallel-item::after {content: \"\";width: 100%;border-bottom: 1px solid gray;flex-grow: 1;}#sk-container-id-1 div.sk-label:hover label.sk-toggleable__label {background-color: #d4ebff;}#sk-container-id-1 div.sk-serial::before {content: \"\";position: absolute;border-left: 1px solid gray;box-sizing: border-box;top: 0;bottom: 0;left: 50%;z-index: 0;}#sk-container-id-1 div.sk-serial {display: flex;flex-direction: column;align-items: center;background-color: white;padding-right: 0.2em;padding-left: 0.2em;position: relative;}#sk-container-id-1 div.sk-item {position: relative;z-index: 1;}#sk-container-id-1 div.sk-parallel {display: flex;align-items: stretch;justify-content: center;background-color: white;position: relative;}#sk-container-id-1 div.sk-item::before, #sk-container-id-1 div.sk-parallel-item::before {content: \"\";position: absolute;border-left: 1px solid gray;box-sizing: border-box;top: 0;bottom: 0;left: 50%;z-index: -1;}#sk-container-id-1 div.sk-parallel-item {display: flex;flex-direction: column;z-index: 1;position: relative;background-color: white;}#sk-container-id-1 div.sk-parallel-item:first-child::after {align-self: flex-end;width: 50%;}#sk-container-id-1 div.sk-parallel-item:last-child::after {align-self: flex-start;width: 50%;}#sk-container-id-1 div.sk-parallel-item:only-child::after {width: 0;}#sk-container-id-1 div.sk-dashed-wrapped {border: 1px dashed gray;margin: 0 0.4em 0.5em 0.4em;box-sizing: border-box;padding-bottom: 0.4em;background-color: white;}#sk-container-id-1 div.sk-label label {font-family: monospace;font-weight: bold;display: inline-block;line-height: 1.2em;}#sk-container-id-1 div.sk-label-container {text-align: center;}#sk-container-id-1 div.sk-container {/* jupyter's `normalize.less` sets `[hidden] { display: none; }` but bootstrap.min.css set `[hidden] { display: none !important; }` so we also need the `!important` here to be able to override the default hidden behavior on the sphinx rendered scikit-learn.org. See: https://github.com/scikit-learn/scikit-learn/issues/21755 */display: inline-block !important;position: relative;}#sk-container-id-1 div.sk-text-repr-fallback {display: none;}</style><div id=\"sk-container-id-1\" class=\"sk-top-container\"><div class=\"sk-text-repr-fallback\"><pre>LogisticRegression()</pre><b>In a Jupyter environment, please rerun this cell to show the HTML representation or trust the notebook. <br />On GitHub, the HTML representation is unable to render, please try loading this page with nbviewer.org.</b></div><div class=\"sk-container\" hidden><div class=\"sk-item\"><div class=\"sk-estimator sk-toggleable\"><input class=\"sk-toggleable__control sk-hidden--visually\" id=\"sk-estimator-id-1\" type=\"checkbox\" checked><label for=\"sk-estimator-id-1\" class=\"sk-toggleable__label sk-toggleable__label-arrow\">LogisticRegression</label><div class=\"sk-toggleable__content\"><pre>LogisticRegression()</pre></div></div></div></div></div>"
      ],
      "text/plain": [
       "LogisticRegression()"
      ]
     },
     "execution_count": 31,
     "metadata": {},
     "output_type": "execute_result"
    }
   ],
   "source": [
    "model.fit(x_train,y_train)"
   ]
  },
  {
   "cell_type": "markdown",
   "id": "16fbbf5f",
   "metadata": {},
   "source": [
    "Step 4: Predict the labels of new data (new flowers)\n",
    "\n",
    "Logistic regression also allows you to see prediction probabilities as well as a prediction. This is not like other algorithms like decision trees for classification which only give you a prediction not a probability."
   ]
  },
  {
   "cell_type": "code",
   "execution_count": 33,
   "id": "a981e7ab",
   "metadata": {},
   "outputs": [
    {
     "data": {
      "text/plain": [
       "array([[-0.12093628]])"
      ]
     },
     "execution_count": 33,
     "metadata": {},
     "output_type": "execute_result"
    }
   ],
   "source": [
    "# One observation's petal length after standardization\n",
    "x_test[0].reshape(1,-1)"
   ]
  },
  {
   "cell_type": "code",
   "execution_count": 34,
   "id": "c1b1e221",
   "metadata": {},
   "outputs": [
    {
     "name": "stdout",
     "output_type": "stream",
     "text": [
      "Predict: [0]\n",
      "Probability: [[0.52720087 0.47279913]]\n"
     ]
    }
   ],
   "source": [
    "#check predict and probability \n",
    "print('Predict:',model.predict(x_test[0].reshape(1,-1)))\n",
    "print('Probability:',model.predict_proba(x_test[0].reshape(1,-1)))#it will give 2 probability value"
   ]
  },
  {
   "cell_type": "code",
   "execution_count": 40,
   "id": "77c59c3f",
   "metadata": {},
   "outputs": [
    {
     "data": {
      "text/plain": [
       "array([-0.12093628,  0.84655399,  0.        ,  2.05591684,  1.33029913,\n",
       "        1.20936285, -0.48374514,  0.        ,  1.08842656,  0.36280885,\n",
       "        0.84655399,  0.24187257,  0.84655399, -0.24187257, -1.93498056,\n",
       "       -1.33029913,  0.        , -0.72561771,  0.24187257, -0.36280885,\n",
       "       -1.93498056,  0.72561771, -1.08842656,  0.        , -0.84655399])"
      ]
     },
     "execution_count": 40,
     "metadata": {},
     "output_type": "execute_result"
    }
   ],
   "source": [
    "#changing 2dimention array to single dimention array\n",
    "x_test.reshape(-1)#-1 means all x_test values"
   ]
  },
  {
   "cell_type": "code",
   "execution_count": 42,
   "id": "6f98d4c6",
   "metadata": {},
   "outputs": [
    {
     "data": {
      "text/plain": [
       "array([[0, 1, 1, 1, 1, 1, 0, 1, 1, 1, 1, 1, 1, 0, 0, 0, 1, 0, 1, 0, 0, 1,\n",
       "        0, 1, 0]], dtype=int64)"
      ]
     },
     "execution_count": 42,
     "metadata": {},
     "output_type": "execute_result"
    }
   ],
   "source": [
    "#displaying predicted data to 2 dimentional array\n",
    "y_prd=np.array(model.predict(x_test)).reshape(1,-1)\n",
    "y_prd"
   ]
  },
  {
   "cell_type": "markdown",
   "id": "4b98fad7",
   "metadata": {},
   "source": [
    "# If this is unclear, let's visualize how logistic regression makes predictions by looking at our test data!"
   ]
  },
  {
   "cell_type": "code",
   "execution_count": 50,
   "id": "6d6a9a10",
   "metadata": {},
   "outputs": [],
   "source": [
    "example_df=pd.DataFrame()\n",
    "example_df['petal length (cm)']=x_test.reshape(-1)\n",
    "example_df['target']=y_test.values\n",
    "example_df['logistic_preds']=pd.DataFrame(model.predict_proba(x_test))[1]#here we storing probability of first value"
   ]
  },
  {
   "cell_type": "code",
   "execution_count": 51,
   "id": "4e1d2c44",
   "metadata": {},
   "outputs": [
    {
     "data": {
      "text/html": [
       "<div>\n",
       "<style scoped>\n",
       "    .dataframe tbody tr th:only-of-type {\n",
       "        vertical-align: middle;\n",
       "    }\n",
       "\n",
       "    .dataframe tbody tr th {\n",
       "        vertical-align: top;\n",
       "    }\n",
       "\n",
       "    .dataframe thead th {\n",
       "        text-align: right;\n",
       "    }\n",
       "</style>\n",
       "<table border=\"1\" class=\"dataframe\">\n",
       "  <thead>\n",
       "    <tr style=\"text-align: right;\">\n",
       "      <th></th>\n",
       "      <th>petal length (cm)</th>\n",
       "      <th>target</th>\n",
       "      <th>logistic_preds</th>\n",
       "    </tr>\n",
       "  </thead>\n",
       "  <tbody>\n",
       "    <tr>\n",
       "      <th>0</th>\n",
       "      <td>-0.120936</td>\n",
       "      <td>0</td>\n",
       "      <td>0.472799</td>\n",
       "    </tr>\n",
       "    <tr>\n",
       "      <th>1</th>\n",
       "      <td>0.846554</td>\n",
       "      <td>1</td>\n",
       "      <td>0.950658</td>\n",
       "    </tr>\n",
       "    <tr>\n",
       "      <th>2</th>\n",
       "      <td>0.000000</td>\n",
       "      <td>0</td>\n",
       "      <td>0.568197</td>\n",
       "    </tr>\n",
       "    <tr>\n",
       "      <th>3</th>\n",
       "      <td>2.055917</td>\n",
       "      <td>1</td>\n",
       "      <td>0.998879</td>\n",
       "    </tr>\n",
       "    <tr>\n",
       "      <th>4</th>\n",
       "      <td>1.330299</td>\n",
       "      <td>1</td>\n",
       "      <td>0.988926</td>\n",
       "    </tr>\n",
       "    <tr>\n",
       "      <th>5</th>\n",
       "      <td>1.209363</td>\n",
       "      <td>1</td>\n",
       "      <td>0.983835</td>\n",
       "    </tr>\n",
       "    <tr>\n",
       "      <th>6</th>\n",
       "      <td>-0.483745</td>\n",
       "      <td>0</td>\n",
       "      <td>0.221122</td>\n",
       "    </tr>\n",
       "    <tr>\n",
       "      <th>7</th>\n",
       "      <td>0.000000</td>\n",
       "      <td>1</td>\n",
       "      <td>0.568197</td>\n",
       "    </tr>\n",
       "    <tr>\n",
       "      <th>8</th>\n",
       "      <td>1.088427</td>\n",
       "      <td>1</td>\n",
       "      <td>0.976459</td>\n",
       "    </tr>\n",
       "    <tr>\n",
       "      <th>9</th>\n",
       "      <td>0.362809</td>\n",
       "      <td>1</td>\n",
       "      <td>0.806079</td>\n",
       "    </tr>\n",
       "    <tr>\n",
       "      <th>10</th>\n",
       "      <td>0.846554</td>\n",
       "      <td>1</td>\n",
       "      <td>0.950658</td>\n",
       "    </tr>\n",
       "    <tr>\n",
       "      <th>11</th>\n",
       "      <td>0.241873</td>\n",
       "      <td>1</td>\n",
       "      <td>0.739104</td>\n",
       "    </tr>\n",
       "    <tr>\n",
       "      <th>12</th>\n",
       "      <td>0.846554</td>\n",
       "      <td>1</td>\n",
       "      <td>0.950658</td>\n",
       "    </tr>\n",
       "    <tr>\n",
       "      <th>13</th>\n",
       "      <td>-0.241873</td>\n",
       "      <td>0</td>\n",
       "      <td>0.379347</td>\n",
       "    </tr>\n",
       "    <tr>\n",
       "      <th>14</th>\n",
       "      <td>-1.934981</td>\n",
       "      <td>0</td>\n",
       "      <td>0.002843</td>\n",
       "    </tr>\n",
       "    <tr>\n",
       "      <th>15</th>\n",
       "      <td>-1.330299</td>\n",
       "      <td>0</td>\n",
       "      <td>0.019021</td>\n",
       "    </tr>\n",
       "    <tr>\n",
       "      <th>16</th>\n",
       "      <td>0.000000</td>\n",
       "      <td>0</td>\n",
       "      <td>0.568197</td>\n",
       "    </tr>\n",
       "    <tr>\n",
       "      <th>17</th>\n",
       "      <td>-0.725618</td>\n",
       "      <td>0</td>\n",
       "      <td>0.116504</td>\n",
       "    </tr>\n",
       "    <tr>\n",
       "      <th>18</th>\n",
       "      <td>0.241873</td>\n",
       "      <td>0</td>\n",
       "      <td>0.739104</td>\n",
       "    </tr>\n",
       "    <tr>\n",
       "      <th>19</th>\n",
       "      <td>-0.362809</td>\n",
       "      <td>0</td>\n",
       "      <td>0.294063</td>\n",
       "    </tr>\n",
       "    <tr>\n",
       "      <th>20</th>\n",
       "      <td>-1.934981</td>\n",
       "      <td>0</td>\n",
       "      <td>0.002843</td>\n",
       "    </tr>\n",
       "    <tr>\n",
       "      <th>21</th>\n",
       "      <td>0.725618</td>\n",
       "      <td>1</td>\n",
       "      <td>0.929232</td>\n",
       "    </tr>\n",
       "    <tr>\n",
       "      <th>22</th>\n",
       "      <td>-1.088427</td>\n",
       "      <td>0</td>\n",
       "      <td>0.040072</td>\n",
       "    </tr>\n",
       "    <tr>\n",
       "      <th>23</th>\n",
       "      <td>0.000000</td>\n",
       "      <td>1</td>\n",
       "      <td>0.568197</td>\n",
       "    </tr>\n",
       "    <tr>\n",
       "      <th>24</th>\n",
       "      <td>-0.846554</td>\n",
       "      <td>0</td>\n",
       "      <td>0.082461</td>\n",
       "    </tr>\n",
       "  </tbody>\n",
       "</table>\n",
       "</div>"
      ],
      "text/plain": [
       "    petal length (cm)  target  logistic_preds\n",
       "0           -0.120936       0        0.472799\n",
       "1            0.846554       1        0.950658\n",
       "2            0.000000       0        0.568197\n",
       "3            2.055917       1        0.998879\n",
       "4            1.330299       1        0.988926\n",
       "5            1.209363       1        0.983835\n",
       "6           -0.483745       0        0.221122\n",
       "7            0.000000       1        0.568197\n",
       "8            1.088427       1        0.976459\n",
       "9            0.362809       1        0.806079\n",
       "10           0.846554       1        0.950658\n",
       "11           0.241873       1        0.739104\n",
       "12           0.846554       1        0.950658\n",
       "13          -0.241873       0        0.379347\n",
       "14          -1.934981       0        0.002843\n",
       "15          -1.330299       0        0.019021\n",
       "16           0.000000       0        0.568197\n",
       "17          -0.725618       0        0.116504\n",
       "18           0.241873       0        0.739104\n",
       "19          -0.362809       0        0.294063\n",
       "20          -1.934981       0        0.002843\n",
       "21           0.725618       1        0.929232\n",
       "22          -1.088427       0        0.040072\n",
       "23           0.000000       1        0.568197\n",
       "24          -0.846554       0        0.082461"
      ]
     },
     "execution_count": 51,
     "metadata": {},
     "output_type": "execute_result"
    }
   ],
   "source": [
    "example_df"
   ]
  },
  {
   "cell_type": "code",
   "execution_count": null,
   "id": "b789e1ae",
   "metadata": {},
   "outputs": [],
   "source": []
  },
  {
   "cell_type": "code",
   "execution_count": 81,
   "id": "7a4a9feb",
   "metadata": {},
   "outputs": [
    {
     "data": {
      "image/png": "[encoded data removed]",
      "text/plain": [
       "<Figure size 1000x800 with 1 Axes>"
      ]
     },
     "metadata": {},
     "output_type": "display_data"
    }
   ],
   "source": [
    "#draw the sigmod() function graph using above example_df dataset\n",
    "#here we above 0.5 is verginica and below 0.5 versicolor\n",
    "fig,ax=plt.subplots(nrows=1,ncols=1,figsize=(10,8))\n",
    "#filtering the target 0 and 1\n",
    "verginica_filter=example_df['target']==1\n",
    "versicolor_filter=example_df['target']==0\n",
    "#draw the scatter plot for logistic predict columns by target filter\n",
    "ax.scatter(example_df.loc[verginica_filter,'petal length (cm)'].values,example_df.loc[verginica_filter,'logistic_preds'].values,s=25,color='r',label='verginica')\n",
    "#draw the scatter plot for logistic predict columns by target filter\n",
    "ax.scatter(example_df.loc[versicolor_filter,'petal length (cm)'].values,example_df.loc[versicolor_filter,'logistic_preds'].values,s=25,color='green',label='versicolor')\n",
    "#draw the horizontal line in 0.5\n",
    "ax.axhline(y=.5,color='yellow')\n",
    "\n",
    "#set different colors for each parts\n",
    "ax.axhspan(.5,1,alpha=0.05,color='green')\n",
    "ax.axhspan(0,0.4999,alpha=0.05,color='blue')\n",
    "#\n",
    "ax.set_ylim(0,1)#used to fit the diagram up to bottom\n",
    "#set the Labels for each parts\n",
    "ax.text(0.5, .6, 'Classified as viginica', fontsize = 16)\n",
    "ax.text(0.5, .4, 'Classified as versicolor', fontsize = 16)\n",
    "ax.legend(loc = 'lower right', markerscale = 1.0, fontsize = 12)\n",
    "ax.set_xlabel('petal length (cm)', fontsize = 24)\n",
    "ax.set_ylabel('probability of virginica', fontsize = 24)\n",
    "ax.set_title('Logistic Regression Predictions', fontsize = 24)\n",
    "fig.tight_layout()\n",
    "'''\n",
    "fig.tight_layout() is a function in Matplotlib that adjusts the layout of subplots or axes within a figure to prevent overlapping. It is useful when you have multiple subplots in a figure\n",
    "'''"
   ]
  },
  {
   "cell_type": "markdown",
   "id": "bd1eb75d",
   "metadata": {},
   "source": [
    "Measuring Model Performance\n",
    "\n",
    "While there are other ways of measuring model performance (precision, recall, F1 Score, ROC Curve, etc), let's keep this simple and use accuracy as our metric.  To do this are going to see how the model performs on new data (test set)\n",
    "\n",
    "Accuracy is defined as: (fraction of correct predictions): correct predictions / total number of data points"
   ]
  },
  {
   "cell_type": "code",
   "execution_count": 95,
   "id": "3a4f79b0",
   "metadata": {},
   "outputs": [
    {
     "data": {
      "text/plain": [
       "0.88"
      ]
     },
     "execution_count": 95,
     "metadata": {},
     "output_type": "execute_result"
    }
   ],
   "source": [
    "score=model.score(x_test,y_test)\n",
    "score"
   ]
  },
  {
   "cell_type": "code",
   "execution_count": 96,
   "id": "260b3c5a",
   "metadata": {},
   "outputs": [
    {
     "data": {
      "text/plain": [
       "array([0, 1, 0, 1, 1, 1, 0, 1, 1, 1, 1, 1, 1, 0, 0, 0, 0, 0, 0, 0, 0, 1,\n",
       "       0, 1, 0], dtype=int64)"
      ]
     },
     "execution_count": 96,
     "metadata": {},
     "output_type": "execute_result"
    }
   ],
   "source": [
    "y_test"
   ]
  },
  {
   "cell_type": "code",
   "execution_count": 97,
   "id": "1fe9f143",
   "metadata": {},
   "outputs": [
    {
     "data": {
      "text/plain": [
       "array([0, 1, 1, 1, 1, 1, 0, 1, 1, 1, 1, 1, 1, 0, 0, 0, 1, 0, 1, 0, 0, 1,\n",
       "       0, 1, 0], dtype=int64)"
      ]
     },
     "execution_count": 97,
     "metadata": {},
     "output_type": "execute_result"
    }
   ],
   "source": [
    "model.predict(x_test)"
   ]
  },
  {
   "cell_type": "markdown",
   "id": "b0757e0e",
   "metadata": {},
   "source": [
    "Accuracy is one metric, but it doesn't say give much insight into what was wrong. Let's look at a confusion matrix"
   ]
  },
  {
   "cell_type": "code",
   "execution_count": 99,
   "id": "f9bdca6e",
   "metadata": {},
   "outputs": [],
   "source": [
    "from sklearn import metrics"
   ]
  },
  {
   "cell_type": "code",
   "execution_count": 115,
   "id": "649d29d8",
   "metadata": {},
   "outputs": [
    {
     "data": {
      "image/png": "[encoded data removed]",
      "text/plain": [
       "<Figure size 1000x800 with 2 Axes>"
      ]
     },
     "metadata": {},
     "output_type": "display_data"
    }
   ],
   "source": [
    "cm=metrics.confusion_matrix(y_test,model.predict(x_test))\n",
    "plt.figure(figsize=(10,8))\n",
    "sns.heatmap(cm,annot=True,fmt=\".0f\",square=True,linewidth=.5,cmap='Blues')\n",
    "'''\n",
    "annot=True: It adds annotations (numbers) to each cell of the heatmap, displaying the actual values of the confusion matrix.\n",
    "fmt=\".0f\": It specifies the format of the annotations. In this case, it's set to display floating-point numbers with zero decimal places.\n",
    "\n",
    "linewidths=.5: It sets the width of the lines between cells in the heatmap to 0.5.\n",
    "\n",
    "square=True: It ensures that each cell in the heatmap is square.\n",
    "\n",
    "cmap='Blues': It specifies the color map to be used for the heatmap. In this case, the 'Blues' color map is chosen, where darker shades represent higher values.\n",
    "'''\n",
    "plt.ylabel('Actual label', fontsize = 17);\n",
    "plt.xlabel('Predicted label', fontsize = 17);\n",
    "plt.title('Accuracy Score: {}'.format(score), size = 17)\n",
    "plt.tick_params(labelsize= 15)#x and y labels(0,1,0,1)"
   ]
  },
  {
   "cell_type": "code",
   "execution_count": 116,
   "id": "9dcaf2ea",
   "metadata": {},
   "outputs": [
    {
     "data": {
      "text/plain": [
       "array([[10,  3],\n",
       "       [ 0, 12]], dtype=int64)"
      ]
     },
     "execution_count": 116,
     "metadata": {},
     "output_type": "execute_result"
    }
   ],
   "source": [
    "cm"
   ]
  },
  {
   "cell_type": "code",
   "execution_count": 121,
   "id": "0d19bdf1",
   "metadata": {},
   "outputs": [],
   "source": [
    "modify_cm=[]\n",
    "for index,value in enumerate(cm):\n",
    "    if index==0:\n",
    "        modify_cm.append([\"TN=\"+str(value[0]),'FP = ' + str(value[1])])\n",
    "    if index==1:\n",
    "        modify_cm.append(['FN = ' + str(value[0]), 'TP = ' + str(value[1])])"
   ]
  },
  {
   "cell_type": "code",
   "execution_count": 122,
   "id": "0d8dc460",
   "metadata": {},
   "outputs": [
    {
     "data": {
      "text/plain": [
       "[['TN=10', 'FP = 3'], ['FN = 0', 'TP = 12']]"
      ]
     },
     "execution_count": 122,
     "metadata": {},
     "output_type": "execute_result"
    }
   ],
   "source": [
    "modify_cm"
   ]
  },
  {
   "cell_type": "code",
   "execution_count": 124,
   "id": "5661bfbb",
   "metadata": {},
   "outputs": [
    {
     "data": {
      "image/png": "[encoded data removed]",
      "text/plain": [
       "<Figure size 900x900 with 2 Axes>"
      ]
     },
     "metadata": {},
     "output_type": "display_data"
    }
   ],
   "source": [
    "plt.figure(figsize=(9,9))\n",
    "sns.heatmap(cm, annot=np.array(modify_cm),\n",
    "            fmt=\"\",\n",
    "            annot_kws={\"size\": 20},\n",
    "            linewidths=.5,\n",
    "            square = True,\n",
    "            cmap = 'Blues',\n",
    "            xticklabels = ['versicolor', 'viginica'],\n",
    "            yticklabels = ['versicolor', 'viginica'],\n",
    "            );\n",
    "\n",
    "plt.ylabel('Actual label', fontsize = 17);\n",
    "plt.xlabel('Predicted label', fontsize = 17);\n",
    "plt.title('Accuracy Score: {:.3f}'.format(score), size = 17);\n",
    "plt.tick_params(labelsize= 15)"
   ]
  },
  {
   "cell_type": "code",
   "execution_count": null,
   "id": "fc6b929c",
   "metadata": {},
   "outputs": [],
   "source": []
  }
 ],
 "metadata": {
  "kernelspec": {
   "display_name": "Python 3 (ipykernel)",
   "language": "python",
   "name": "python3"
  },
  "language_info": {
   "codemirror_mode": {
    "name": "ipython",
    "version": 3
   },
   "file_extension": ".py",
   "mimetype": "text/x-python",
   "name": "python",
   "nbconvert_exporter": "python",
   "pygments_lexer": "ipython3",
   "version": "3.10.9"
  }
 },
 "nbformat": 4,
 "nbformat_minor": 5
}
