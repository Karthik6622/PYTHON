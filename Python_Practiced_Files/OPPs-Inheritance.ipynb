{
 "cells": [
  {
   "cell_type": "markdown",
   "id": "88a24e6b",
   "metadata": {},
   "source": [
    "# OPPs-Inheritance"
   ]
  },
  {
   "cell_type": "code",
   "execution_count": 17,
   "id": "e37cbaab",
   "metadata": {},
   "outputs": [
    {
     "name": "stdout",
     "output_type": "stream",
     "text": [
      "8\n",
      "30\n"
     ]
    }
   ],
   "source": [
    "#super() function-it is used to inherit all data from the parent class and we can use super function only inheritances concept\n",
    "class su:\n",
    "    def __init__(self,length,width):\n",
    "        self.width=width\n",
    "        self.length=length\n",
    "class rect(su):\n",
    "    def __init__(self,length,width):\n",
    "        super().__init__(length,width)\n",
    "    def area(self):\n",
    "        return self.length*self.width\n",
    "class speare(su):\n",
    "    def __init__(self,length,width,height):\n",
    "        super().__init__(length,width)\n",
    "        self.height=height\n",
    "    def volume(self):\n",
    "        return self.length*self.width*self.height\n",
    "spere=speare(2,2,2)\n",
    "recta=rect(5,6)\n",
    "print(spere.volume())\n",
    "print(recta.area())\n",
    "        "
   ]
  },
  {
   "cell_type": "code",
   "execution_count": 33,
   "id": "abc92c42",
   "metadata": {},
   "outputs": [
    {
     "name": "stdout",
     "output_type": "stream",
     "text": [
      "110\n"
     ]
    }
   ],
   "source": [
    "#super()\n",
    "class i():\n",
    "    def fun(self):\n",
    "        self.a=100\n",
    "        self.b=10\n",
    "class j(i):\n",
    "    def fun1(self):\n",
    "        super().fun()#here we can use base calss values through the super() function\n",
    "        return self.a+self.b\n",
    "J=j()\n",
    "print(J.fun1())"
   ]
  },
  {
   "cell_type": "code",
   "execution_count": 24,
   "id": "74de64e4",
   "metadata": {},
   "outputs": [
    {
     "name": "stdout",
     "output_type": "stream",
     "text": [
      "This is a parent class\n"
     ]
    },
    {
     "ename": "AttributeError",
     "evalue": "'p' object has no attribute 'fun1'",
     "output_type": "error",
     "traceback": [
      "\u001b[1;31m---------------------------------------------------------------------------\u001b[0m",
      "\u001b[1;31mAttributeError\u001b[0m                            Traceback (most recent call last)",
      "Cell \u001b[1;32mIn[24], line 10\u001b[0m\n\u001b[0;32m      8\u001b[0m parent\u001b[38;5;241m=\u001b[39mp()\n\u001b[0;32m      9\u001b[0m parent\u001b[38;5;241m.\u001b[39mfun()\n\u001b[1;32m---> 10\u001b[0m \u001b[43mparent\u001b[49m\u001b[38;5;241;43m.\u001b[39;49m\u001b[43mfun1\u001b[49m()\n",
      "\u001b[1;31mAttributeError\u001b[0m: 'p' object has no attribute 'fun1'"
     ]
    }
   ],
   "source": [
    "#single Inheritance-its'used to inherit baseclass characteristics to child class\n",
    "class p:#parent class\n",
    "    def fun(self):\n",
    "        print(\"This is a parent class\")\n",
    "class c(p):#child class\n",
    "    def fun1(self):\n",
    "        print(\"This is a child class\")\n",
    "parent=p()\n",
    "parent.fun()\n",
    "parent.fun1()#we can't call child class function by parent class object"
   ]
  },
  {
   "cell_type": "code",
   "execution_count": 43,
   "id": "6a44f122",
   "metadata": {},
   "outputs": [
    {
     "name": "stdout",
     "output_type": "stream",
     "text": [
      "This is a child class\n",
      "This is a parent class\n"
     ]
    }
   ],
   "source": [
    "child=c()\n",
    "child.fun1()\n",
    "child.fun()#here we can call parent calss function also using child class object"
   ]
  },
  {
   "cell_type": "code",
   "execution_count": 55,
   "id": "96af654d",
   "metadata": {},
   "outputs": [
    {
     "name": "stdout",
     "output_type": "stream",
     "text": [
      "MY NAME IS Karthik and age is 23\n",
      "I have completed BSC(CS) and woring as a Software Engineer\n"
     ]
    }
   ],
   "source": [
    "#single inheritance\n",
    "class parent():\n",
    "    def __init__(self,Name,age):\n",
    "        self.name=Name\n",
    "        self.age=age\n",
    "    def display(self):\n",
    "        print(f'MY NAME IS {self.name} and age is {self.age}')\n",
    "class child(parent):\n",
    "    def __init__(self,name,age,degree,role):\n",
    "        self.name=name\n",
    "        self.age=age\n",
    "        self.degree=degree\n",
    "        self.role=role\n",
    "    def dis(self):\n",
    "        print(f'I have completed {self.degree} and woring as a {self.role}')\n",
    "c=child('Karthik',23,'BSC(CS)','Software Engineer')\n",
    "c.display()\n",
    "c.dis()\n",
    "        "
   ]
  },
  {
   "cell_type": "code",
   "execution_count": 6,
   "id": "e2b11b54",
   "metadata": {},
   "outputs": [
    {
     "name": "stdout",
     "output_type": "stream",
     "text": [
      "My Father name is rajan and my name is venkat\n"
     ]
    }
   ],
   "source": [
    "#single inheitance\n",
    "class father:\n",
    "    def __init__(self,fathername,sonname):\n",
    "        self.fathername=fathername\n",
    "        self.sonname=sonname\n",
    "class son(father):\n",
    "    def __init__(self,fathername,sonname):\n",
    "        super().__init__(fathername,sonname)\n",
    "    def dis(self):\n",
    "        print(f\"My Father name is {self.fathername} and my name is {self.sonname}\")\n",
    "s=son('rajan','venkat')\n",
    "s.dis()"
   ]
  },
  {
   "cell_type": "code",
   "execution_count": 18,
   "id": "cc1cdb95",
   "metadata": {},
   "outputs": [
    {
     "name": "stdout",
     "output_type": "stream",
     "text": [
      "The car name is:Tesla and model is S22 and battery capacity is 20000MPH\n",
      "The Car name is:Tesla and model is S22\n",
      "----------------------------------------------------------------------------------------------------\n",
      "The Car name is:hundai and model is S22\n"
     ]
    }
   ],
   "source": [
    "#single inheritance\n",
    "class car:\n",
    "    def __init__(self,car_name,model):\n",
    "        self.car_name=car_name\n",
    "        self.model=model\n",
    "    def start(self):\n",
    "        print(\"The Car name is:{} and model is {}\".format(self.car_name,self.model))\n",
    "class electric_car(car):\n",
    "    def __init__(self,car_name,model,battery_capacity):\n",
    "        super().__init__(car_name,model)\n",
    "        self.battery_capacity=battery_capacity\n",
    "    def dis(self):\n",
    "        print(\"The car name is:{} and model is {} and battery capacity is {}\".format(self.car_name,self.model,self.battery_capacity))\n",
    "c=electric_car(\"Tesla\",\"S22\",'20000MPH')\n",
    "c.dis()\n",
    "c.start()\n",
    "print('-'*100)\n",
    "c1=car(\"hundai\",\"S22\")\n",
    "c1.start()\n",
    "        "
   ]
  },
  {
   "cell_type": "code",
   "execution_count": 29,
   "id": "f74caf4e",
   "metadata": {},
   "outputs": [
    {
     "name": "stdout",
     "output_type": "stream",
     "text": [
      "My father name is snakar and my mother name is shanthi\n"
     ]
    }
   ],
   "source": [
    "#Multiple Inheritance\n",
    "class father:#parent class1\n",
    "    def __init__(self):\n",
    "        fathername=\"\"\n",
    "        self.fathername=fathername\n",
    "class mother:#parent class2\n",
    "    def __init__(self):\n",
    "        mothername=\"\"\n",
    "        self.mothername=mothername\n",
    "class son(father,mother):#child class\n",
    "    def parents(self):\n",
    "        print(f'My father name is {self.fathername} and my mother name is {self.mothername}')\n",
    "s=son()\n",
    "s.fathername=\"snakar\"\n",
    "s.mothername=\"shanthi\"\n",
    "s.parents()"
   ]
  },
  {
   "cell_type": "code",
   "execution_count": 33,
   "id": "8c26edb4",
   "metadata": {},
   "outputs": [
    {
     "name": "stdout",
     "output_type": "stream",
     "text": [
      "My father name is karthik and my mother name is baby\n"
     ]
    }
   ],
   "source": [
    "#Multiple Inheritance\n",
    "class father:#parent class1\n",
    "    fathername=\"\"\n",
    "    def father(self):\n",
    "        self.fathername\n",
    "class mother:#parent class2\n",
    "    mothername=\"\"\n",
    "    def mother(self):\n",
    "        self.mothername\n",
    "class son(father,mother):#child class\n",
    "    def parents(self):\n",
    "        print(f'My father name is {self.fathername} and my mother name is {self.mothername}')\n",
    "s=son()\n",
    "s.fathername=\"karthik\"\n",
    "s.mothername=\"baby\"\n",
    "s.parents()"
   ]
  },
  {
   "cell_type": "code",
   "execution_count": 35,
   "id": "d114200e",
   "metadata": {},
   "outputs": [
    {
     "name": "stdout",
     "output_type": "stream",
     "text": [
      "Enter the Number1:20\n",
      "Enter the Number2:10\n",
      "ADDITION IS: 30\n",
      "SUBTRACTION IS: 10\n",
      "MULTIPLICATION IS: 200\n",
      "DIVISON IS: 2.0\n"
     ]
    }
   ],
   "source": [
    "#multiple inheritance\n",
    "class cal:#base class1\n",
    "    def __init__(self,x,y):\n",
    "        self.a=x\n",
    "        self.b=y\n",
    "    def add(self):\n",
    "        return self.a+self.b\n",
    "class cal2:#base class2\n",
    "    def sub(self):\n",
    "        return self.a-self.b\n",
    "class cal3(cal,cal2):#derived class\n",
    "    def multi(self):\n",
    "        return self.a*self.b\n",
    "    def div(self):\n",
    "        return self.a/self.b\n",
    "x=int(input(\"Enter the Number1:\"))\n",
    "y=int(input(\"Enter the Number2:\"))\n",
    "c3=cal3(x,y)\n",
    "print(\"ADDITION IS:\",c3.add())\n",
    "print(\"SUBTRACTION IS:\",c3.sub())\n",
    "print(\"MULTIPLICATION IS:\",c3.multi())\n",
    "print(\"DIVISON IS:\",c3.div())"
   ]
  },
  {
   "cell_type": "code",
   "execution_count": 38,
   "id": "01dcf913",
   "metadata": {},
   "outputs": [
    {
     "name": "stdout",
     "output_type": "stream",
     "text": [
      "Enter the Number1:20\n",
      "Enter the Number2:13\n",
      "POWER VALUE IS: 81920000000000000\n",
      "FLOOR VALUE IS: 1\n",
      "REMAINDER VALUE IS: 7\n"
     ]
    }
   ],
   "source": [
    "#Multilevel Inheritance\n",
    "class cal:#base class1\n",
    "    def __init__(self,x,y):\n",
    "        self.a=x\n",
    "        self.b=y\n",
    "    def power(self):\n",
    "        return self.a**self.b\n",
    "class cal2(cal):#derived class1\n",
    "    def floor(self):\n",
    "        return self.a//self.b\n",
    "class cal3(cal2):#derived class2\n",
    "    def remainder(self):\n",
    "        return self.a%self.b\n",
    "x=int(input(\"Enter the Number1:\"))\n",
    "y=int(input(\"Enter the Number2:\"))\n",
    "c3=cal3(x,y)\n",
    "print(\"POWER VALUE IS:\",c3.power())\n",
    "print(\"FLOOR VALUE IS:\",c3.floor())\n",
    "print(\"REMAINDER VALUE IS:\",c3.remainder())\n"
   ]
  },
  {
   "cell_type": "code",
   "execution_count": 49,
   "id": "016c3e69",
   "metadata": {},
   "outputs": [
    {
     "name": "stdout",
     "output_type": "stream",
     "text": [
      "My Grandfather name is raju and my father name is raj and my name is raja\n"
     ]
    }
   ],
   "source": [
    "#multilevel inheritance\n",
    "class grandfather:\n",
    "    def __init__(self,gname):\n",
    "        self.gname=gname\n",
    "class father(grandfather):\n",
    "    def __init__(self,fname):\n",
    "        self.fname=fname\n",
    "class son(father):\n",
    "    def __init__(self,gname,fname,sname):\n",
    "        self.sname=sname\n",
    "        self.gname=gname\n",
    "        self.fname=fname\n",
    "    def display(self):\n",
    "        print(\"My Grandfather name is {} and my father name is {} and my name is {}\".format(self.gname,self.fname,self.sname))\n",
    "ss=son('raju','raj','raja')\n",
    "ss.display()"
   ]
  },
  {
   "cell_type": "code",
   "execution_count": 50,
   "id": "3440a516",
   "metadata": {},
   "outputs": [
    {
     "name": "stdout",
     "output_type": "stream",
     "text": [
      "My Grandfather name is raju and my father name is raj and my name is raja\n"
     ]
    }
   ],
   "source": [
    "#multilevel inheritance\n",
    "class grandfather:\n",
    "    def __init__(self,gname):\n",
    "        self.gname=gname\n",
    "class father(grandfather):\n",
    "    def __init__(self,gname,fname):\n",
    "        super().__init__(gname)\n",
    "        self.fname=fname\n",
    "class son(father):\n",
    "    def __init__(self,gname,fname,sname):\n",
    "        super().__init__(gname,fname)\n",
    "        self.sname=sname\n",
    "    def display(self):\n",
    "        print(\"My Grandfather name is {} and my father name is {} and my name is {}\".format(self.gname,self.fname,self.sname))\n",
    "ss=son('raju','raj','raja')\n",
    "ss.display()"
   ]
  },
  {
   "cell_type": "code",
   "execution_count": 54,
   "id": "adc89355",
   "metadata": {},
   "outputs": [
    {
     "name": "stdout",
     "output_type": "stream",
     "text": [
      "TIGER is eating\n",
      "TIGER is parking\n",
      "ROSE is eating\n",
      "ROSE is Meowing\n"
     ]
    }
   ],
   "source": [
    "#hierarchical level inheritance\n",
    "class animal:\n",
    "    def __init__(self,name):\n",
    "        self.name=name\n",
    "    def eat(self):\n",
    "        print(f\"{self.name} is eating\")\n",
    "class dog(animal):\n",
    "    def park(self):\n",
    "        print(f\"{self.name} is parking\")\n",
    "class cat(animal):\n",
    "    def meow(self):\n",
    "        print(f\"{self.name} is Meowing\")\n",
    "d=dog(\"TIGER\")\n",
    "d.eat()\n",
    "d.park()\n",
    "c=cat(\"ROSE\")\n",
    "c.eat()\n",
    "c.meow()"
   ]
  },
  {
   "cell_type": "code",
   "execution_count": 57,
   "id": "27d73297",
   "metadata": {},
   "outputs": [
    {
     "name": "stdout",
     "output_type": "stream",
     "text": [
      "This function is in school\n",
      "This function is in student1\n"
     ]
    },
    {
     "ename": "AttributeError",
     "evalue": "'student3' object has no attribute 'func3'",
     "output_type": "error",
     "traceback": [
      "\u001b[1;31m---------------------------------------------------------------------------\u001b[0m",
      "\u001b[1;31mAttributeError\u001b[0m                            Traceback (most recent call last)",
      "Cell \u001b[1;32mIn[57], line 18\u001b[0m\n\u001b[0;32m     16\u001b[0m stu\u001b[38;5;241m.\u001b[39mfunc1()\n\u001b[0;32m     17\u001b[0m stu\u001b[38;5;241m.\u001b[39mfunc2()\n\u001b[1;32m---> 18\u001b[0m \u001b[43mstu\u001b[49m\u001b[38;5;241;43m.\u001b[39;49m\u001b[43mfunc3\u001b[49m()\n\u001b[0;32m     19\u001b[0m stu\u001b[38;5;241m.\u001b[39mfunc4()\n\u001b[0;32m     20\u001b[0m \u001b[38;5;28mprint\u001b[39m(\u001b[38;5;124m'\u001b[39m\u001b[38;5;124m-\u001b[39m\u001b[38;5;124m'\u001b[39m\u001b[38;5;241m*\u001b[39m\u001b[38;5;241m100\u001b[39m)\n",
      "\u001b[1;31mAttributeError\u001b[0m: 'student3' object has no attribute 'func3'"
     ]
    }
   ],
   "source": [
    "#Hybrid Inheritance\n",
    "class school:\n",
    "    def func1(self):\n",
    "        print(\"This function is in school\")\n",
    "class student1(school):\n",
    "    def func2(self):\n",
    "        print(\"This function is in student1\")\n",
    "class student2(school):\n",
    "    def func3(self):\n",
    "        print(\"This function is in student2\")\n",
    "class student3(student1,school):\n",
    "    def func4(self):\n",
    "        print(\"This function is in student3\")\n",
    "\n",
    "stu=student3()\n",
    "stu.func1()\n",
    "stu.func2()\n",
    "stu.func3()\n",
    "stu.func4()  "
   ]
  },
  {
   "cell_type": "code",
   "execution_count": 58,
   "id": "ebd9d64c",
   "metadata": {},
   "outputs": [
    {
     "name": "stdout",
     "output_type": "stream",
     "text": [
      "This function is in school\n",
      "This function is in student1\n",
      "This function is in student2\n",
      "This function is in student3\n"
     ]
    }
   ],
   "source": [
    "#Hybrid Inheritance\n",
    "class school:\n",
    "    def func1(self):\n",
    "        print(\"This function is in school\")\n",
    "class student1(school):\n",
    "    def func2(self):\n",
    "        print(\"This function is in student1\")\n",
    "class student2(school):\n",
    "    def func3(self):\n",
    "        print(\"This function is in student2\")\n",
    "class student3(student1,student2):\n",
    "    def func4(self):\n",
    "        print(\"This function is in student3\")\n",
    "\n",
    "stu=student3()\n",
    "stu.func1()\n",
    "stu.func2()\n",
    "stu.func3()\n",
    "stu.func4()  "
   ]
  },
  {
   "cell_type": "code",
   "execution_count": 71,
   "id": "0e377c05",
   "metadata": {},
   "outputs": [
    {
     "name": "stdout",
     "output_type": "stream",
     "text": [
      "-0.9880316240928618\n",
      "-6.405331196646276\n",
      "0.15425144988758405\n",
      "1.5374753309166493\n"
     ]
    }
   ],
   "source": [
    "#hybrid Inheritance\n",
    "class trignamentory:#base class\n",
    "    import math\n",
    "    def __init__(self,x):\n",
    "        self.value=x\n",
    "    def sin(self):\n",
    "        return math.sin(self.value)\n",
    "class trignamentory2(trignamentory):#derived class1\n",
    "    def tan(self):\n",
    "        return math.tan(self.value)\n",
    "class trignamentory3(trignamentory2):#derived class2\n",
    "    def cos(self):\n",
    "        return math.cos(self.value)\n",
    "class trignamentory4(trignamentory3):#derived class3\n",
    "    def atan(self):\n",
    "        return math.atan(self.value)\n",
    "c=trignamentory4(30)\n",
    "print(c.sin())\n",
    "print(c.tan())\n",
    "print(c.cos())\n",
    "print(c.atan())"
   ]
  },
  {
   "cell_type": "code",
   "execution_count": 76,
   "id": "547b211c",
   "metadata": {},
   "outputs": [
    {
     "name": "stdout",
     "output_type": "stream",
     "text": [
      "-0.9880316240928618\n",
      "-6.405331196646276\n",
      "0.15425144988758405\n",
      "1.5374753309166493\n"
     ]
    }
   ],
   "source": [
    "#hybrid Inheritance\n",
    "class trignamentory:#base class\n",
    "    import math\n",
    "    def __init__(self,x):\n",
    "        self.value=x\n",
    "    def sin(self):\n",
    "        return math.sin(self.value)\n",
    "class trignamentory2(trignamentory):#derived class1\n",
    "    def tan(self):\n",
    "        return math.tan(self.value)\n",
    "class trignamentory3(trignamentory2):#derived class2\n",
    "    def cos(self):\n",
    "        return math.cos(self.value)\n",
    "class trignamentory4(trignamentory3,trignamentory):#derived class3\n",
    "    def atan(self):\n",
    "        return math.atan(self.value)\n",
    "c=trignamentory4(30)\n",
    "print(c.sin())\n",
    "print(c.tan())\n",
    "print(c.cos())\n",
    "print(c.atan())"
   ]
  },
  {
   "cell_type": "code",
   "execution_count": 87,
   "id": "129de97f",
   "metadata": {},
   "outputs": [
    {
     "name": "stdout",
     "output_type": "stream",
     "text": [
      "False\n"
     ]
    }
   ],
   "source": [
    "#issubclass-\n",
    "class company:\n",
    "    pass\n",
    "class employee(company):\n",
    "    pass\n",
    "class employee1(company):\n",
    "    pass\n",
    "print(issubclass(employee,employee1))"
   ]
  },
  {
   "cell_type": "code",
   "execution_count": 88,
   "id": "ebd9fd4d",
   "metadata": {},
   "outputs": [
    {
     "name": "stdout",
     "output_type": "stream",
     "text": [
      "True\n",
      "----------------------------------------------------------------------------------------------------\n",
      "False\n"
     ]
    }
   ],
   "source": [
    "#issubclass\n",
    "class company:#parent class\n",
    "    def func1(self):\n",
    "        print(\"this is a parent class\")\n",
    "class employee(company):#child class\n",
    "    def func2(self):\n",
    "        print(\"This is a child class\")\n",
    "print(issubclass(employee,company))#here we can only check we given first class is subclass of second class or not\n",
    "print('-'*100)\n",
    "print(issubclass(company,employee))"
   ]
  },
  {
   "cell_type": "code",
   "execution_count": null,
   "id": "767f5ff1",
   "metadata": {},
   "outputs": [],
   "source": []
  }
 ],
 "metadata": {
  "kernelspec": {
   "display_name": "Python 3 (ipykernel)",
   "language": "python",
   "name": "python3"
  },
  "language_info": {
   "codemirror_mode": {
    "name": "ipython",
    "version": 3
   },
   "file_extension": ".py",
   "mimetype": "text/x-python",
   "name": "python",
   "nbconvert_exporter": "python",
   "pygments_lexer": "ipython3",
   "version": "3.10.9"
  }
 },
 "nbformat": 4,
 "nbformat_minor": 5
}
