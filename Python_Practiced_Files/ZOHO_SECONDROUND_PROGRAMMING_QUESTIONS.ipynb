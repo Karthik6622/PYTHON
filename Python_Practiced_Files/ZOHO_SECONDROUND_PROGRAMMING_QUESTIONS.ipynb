{
 "cells": [
  {
   "cell_type": "markdown",
   "id": "4bd6d19c",
   "metadata": {},
   "source": [
    "# ZOHO_SECONDROUND_PROGRAMMING_QUESTIONS"
   ]
  },
  {
   "cell_type": "code",
   "execution_count": 26,
   "id": "48948894",
   "metadata": {},
   "outputs": [
    {
     "name": "stdout",
     "output_type": "stream",
     "text": [
      "P\n",
      "              M\n",
      "  R\n",
      "            A\n",
      "    O\n",
      "          R\n",
      "      G\n",
      "        G\n",
      "        R\n",
      "      O\n",
      "          A\n",
      "    R\n",
      "            M\n",
      "  P\n"
     ]
    }
   ],
   "source": [
    "'''\n",
    "1. Print the word with odd letters as\n",
    "\n",
    "P         M\n",
    " R      A\n",
    "   O  R\n",
    "     G\n",
    "  O    R\n",
    " R       A\n",
    "P          M \n",
    "'''\n",
    "s='PROGRAM'\n",
    "s1=len(s)\n",
    "n=s1\n",
    "for e,i in enumerate(s):\n",
    "    for j in range(e):\n",
    "        print(\"  \",end=\"\")\n",
    "    print(i,end=\"\")\n",
    "    print()\n",
    "    for l in range(n):\n",
    "        print(\"  \",end=\"\")\n",
    "    print(s[n-1],end=\"\")\n",
    "    n-=1\n",
    "    print()\n",
    "    "
   ]
  },
  {
   "cell_type": "code",
   "execution_count": 11,
   "id": "5eea3323",
   "metadata": {},
   "outputs": [
    {
     "name": "stdout",
     "output_type": "stream",
     "text": [
      "Enter the input:a1b10\n",
      "['1', '1', '0']\n"
     ]
    }
   ],
   "source": [
    "'''\n",
    "1. Write a program to give the following output for the given input\n",
    "\n",
    "Eg 1: Input: a1b10\n",
    "       Output: abbbbbbbbbb\n",
    "Eg: 2: Input: b3c6d15\n",
    "          Output: bbbccccccddddddddddddddd\n",
    "The number varies from 1 to 99.\n",
    "'''\n",
    "\n"
   ]
  },
  {
   "cell_type": "code",
   "execution_count": null,
   "id": "4dca3b47",
   "metadata": {},
   "outputs": [],
   "source": [
    "'''\n",
    "2. Write a program to sort the elements in odd positions in descending order and elements in ascending order\n",
    "\n",
    "Eg 1: Input: 13,2 4,15,12,10,5\n",
    "        Output: 13,2,12,10,5,15,4\n",
    "Eg 2: Input: 1,2,3,4,5,6,7,8,9\n",
    "        Output: 9,2,7,4,5,6,3,8,1 \n",
    "'''"
   ]
  },
  {
   "cell_type": "code",
   "execution_count": 23,
   "id": "d4ff4a53",
   "metadata": {},
   "outputs": [
    {
     "name": "stdout",
     "output_type": "stream",
     "text": [
      "0\n",
      "1\n",
      "1\n",
      "1\n",
      "1\n",
      "1\n",
      "1\n",
      "1\n",
      "1\n",
      "2\n",
      "3\n",
      "4\n",
      "5\n",
      "6\n"
     ]
    }
   ],
   "source": [
    "str=\"karthik\"\n",
    "i=0\n",
    "j=0\n",
    "while i<len(str):\n",
    "    print(i)\n",
    "    i+=1\n",
    "    while j<len(str):\n",
    "        print(i)\n",
    "        j+=1\n",
    "    "
   ]
  },
  {
   "cell_type": "code",
   "execution_count": 8,
   "id": "815099e2",
   "metadata": {},
   "outputs": [
    {
     "name": "stdout",
     "output_type": "stream",
     "text": [
      "              0 \n",
      "            1 0 1 \n",
      "          2 1 0 1 2 \n",
      "        3 2 1 0 1 2 3 \n",
      "      4 3 2 1 0 1 2 3 4 \n",
      "    5 4 3 2 1 0 1 2 3 4 5 \n",
      "  6 5 4 3 2 1 0 1 2 3 4 5 6 \n",
      "    5 4 3 2 1 0 1 2 3 4 5 \n",
      "      4 3 2 1 0 1 2 3 4 \n",
      "        3 2 1 0 1 2 3 \n",
      "          2 1 0 1 2 \n",
      "            1 0 1 \n",
      "              0 \n"
     ]
    }
   ],
   "source": [
    "'''Write a program to print the below pattern with the numbers\n",
    "sample:if the input is 5\n",
    "output:\n",
    "          0\n",
    "        1 0 1\n",
    "      2 1 0 1 2\n",
    "    3 2 1 0 1 2 3\n",
    "  4 3 2 1 0 1 2 3 4\n",
    "5 4 3 2 1 0 1 2 3 4 5\n",
    "  4 3 2 1 0 1 2 3 4\n",
    "    3 2 1 0 1 2 3 \n",
    "      2 1 0 1 2 \n",
    "        1 0 1\n",
    "          0\n",
    "          '''\n",
    "\n",
    "inp=6\n",
    "for i in range(inp+1):\n",
    "    for j in range(inp+1,i,-1):\n",
    "        print(\" \",end=\" \")\n",
    "    for k in range(i,-1,-1):\n",
    "        print(k,end=\" \")\n",
    "    for l in range(1,i+1):\n",
    "        print(l,end=\" \")\n",
    "    print()\n",
    "s=inp\n",
    "s1=inp\n",
    "for m in range(inp):\n",
    "    for n in range(m+2):\n",
    "        print(\" \",end=\" \")\n",
    "    for p in range(s-1,-1,-1):\n",
    "        print(p,end=\" \")\n",
    "    s-=1\n",
    "    for p in range(1,s1):\n",
    "        print(p,end=\" \")\n",
    "    s1-=1\n",
    "    print()\n",
    "    \n",
    "   "
   ]
  },
  {
   "cell_type": "code",
   "execution_count": 8,
   "id": "5bc79b94",
   "metadata": {},
   "outputs": [
    {
     "name": "stdout",
     "output_type": "stream",
     "text": [
      "123\n",
      "567\n",
      "91011\n",
      "131415\n",
      "\n",
      "123\n",
      "567\n",
      "91011\n",
      "131415\n",
      "\n",
      "123\n",
      "567\n",
      "91011\n",
      "131415\n",
      "\n",
      "123\n",
      "567\n",
      "91011\n",
      "131415\n",
      "\n",
      "123\n",
      "567\n",
      "91011\n",
      "131415\n",
      "\n"
     ]
    }
   ],
   "source": [
    "'''\n",
    "write a program to print snake matrix in the following pattern with out using array and if conditions\n",
    "input:4\n",
    "output:\n",
    "               1   2   3   4\n",
    "           8   7   6   5\n",
    "        9  10  11  12 \n",
    "   16  15  14  13\n",
    "'''\n",
    "inp=4\n",
    "s=inp**2\n",
    "for i in range(inp+1):\n",
    "    for j in range(1,s+1):\n",
    "        if(j%4==0):\n",
    "            print()\n",
    "        else:\n",
    "            print(j,end=\"\")\n",
    "    print()"
   ]
  },
  {
   "cell_type": "code",
   "execution_count": null,
   "id": "d2197c08",
   "metadata": {},
   "outputs": [],
   "source": []
  }
 ],
 "metadata": {
  "kernelspec": {
   "display_name": "Python 3 (ipykernel)",
   "language": "python",
   "name": "python3"
  },
  "language_info": {
   "codemirror_mode": {
    "name": "ipython",
    "version": 3
   },
   "file_extension": ".py",
   "mimetype": "text/x-python",
   "name": "python",
   "nbconvert_exporter": "python",
   "pygments_lexer": "ipython3",
   "version": "3.10.9"
  }
 },
 "nbformat": 4,
 "nbformat_minor": 5
}
