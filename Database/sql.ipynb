{
 "cells": [
  {
   "cell_type": "markdown",
   "id": "734ab961",
   "metadata": {},
   "source": [
    "# sql-(structured query language)"
   ]
  },
  {
   "cell_type": "code",
   "execution_count": 7,
   "id": "91fd8f36",
   "metadata": {},
   "outputs": [
    {
     "name": "stdout",
     "output_type": "stream",
     "text": [
      "Database file connected\n"
     ]
    }
   ],
   "source": [
    "#creating a database file to inside we specified path\n",
    "import sqlite3\n",
    "conn=sqlite3.connect(\"E:\\\\DBMS\\\\table2.sqlite\")\n",
    "cursor=conn.cursor()\n",
    "print(\"Database file connected\")"
   ]
  },
  {
   "cell_type": "code",
   "execution_count": 8,
   "id": "1dcc7353",
   "metadata": {},
   "outputs": [],
   "source": [
    "#create table with different datatypes and with primarykey\n",
    "conn=sqlite3.connect(\"E:\\\\DBMS\\\\table2.sqlite\")\n",
    "cursor=conn.cursor()\n",
    "cursor.execute('''\n",
    "               Create table baby(\n",
    "                   ID numeric(4) not null unique primary key,\n",
    "                   NAME char(10),\n",
    "                   CODE numeric(5) not null unique,\n",
    "                   JOINING_DATE date not null,\n",
    "                   ADDRESS varchar2(20)\n",
    "               );\n",
    "               ''')\n",
    "conn.close()"
   ]
  },
  {
   "cell_type": "code",
   "execution_count": 88,
   "id": "155c1f3f",
   "metadata": {},
   "outputs": [],
   "source": [
    "#insert values into baby table\n",
    "conn=sqlite3.connect(\"E:\\\\DBMS\\\\table2.sqlite\")\n",
    "cursor=conn.cursor()\n",
    "cursor.execute(\"insert into baby values(1,'karthik',6860,'26-09-23','annanagar,chennai')\")\n",
    "cursor.execute(\"insert into baby values(2,'reshma',6861,'26-09-23','annanagar,chennai')\")\n",
    "conn.commit()\n",
    "conn.close()"
   ]
  },
  {
   "cell_type": "code",
   "execution_count": 10,
   "id": "81b0d0e5",
   "metadata": {},
   "outputs": [],
   "source": [
    "#create baby1 table with forienkey\n",
    "conn=sqlite3.connect(\"E:\\\\DBMS\\\\table2.sqlite\")\n",
    "cursor=conn.cursor()\n",
    "cursor.execute('''\n",
    "               Create table baby1(\n",
    "                   EMP_CODE  not null unique primary key references baby(CODE),\n",
    "                   EMP_POSITION char(20),\n",
    "                   EMP_AGE numeric(2) not null\n",
    "               );\n",
    "               ''')\n",
    "conn.close()"
   ]
  },
  {
   "cell_type": "code",
   "execution_count": 11,
   "id": "c0e0f1d0",
   "metadata": {},
   "outputs": [],
   "source": [
    "#insert values into baby1 table\n",
    "conn=sqlite3.connect(\"E:\\\\DBMS\\\\table2.sqlite\")\n",
    "cursor=conn.cursor()\n",
    "cursor.execute(\"insert into baby1 values(6860,'software Engineer',23)\")\n",
    "cursor.execute(\"insert into baby1 values(6861,'communication spaclist',23)\")\n",
    "conn.commit()\n",
    "conn.close()"
   ]
  },
  {
   "cell_type": "code",
   "execution_count": 13,
   "id": "11ed2aeb",
   "metadata": {},
   "outputs": [],
   "source": [
    "#create baby3 table with check constraint\n",
    "conn=sqlite3.connect(\"E:\\\\DBMS\\\\table2.sqlite\")\n",
    "cursor=conn.cursor()\n",
    "cursor.execute('''\n",
    "               Create table baby3(\n",
    "                   PHONENUMBER  not null unique primary key,\n",
    "                   NAME char(20) NOT NULL,\n",
    "                   AGE numeric(2) not null,\n",
    "                    CITY varchar(20) not null,\n",
    "                   check (age>=18)\n",
    "                  \n",
    "               );\n",
    "               ''')\n",
    "conn.close()"
   ]
  },
  {
   "cell_type": "code",
   "execution_count": 14,
   "id": "76963051",
   "metadata": {},
   "outputs": [
    {
     "ename": "IntegrityError",
     "evalue": "CHECK constraint failed: age>=18",
     "output_type": "error",
     "traceback": [
      "\u001b[1;31m---------------------------------------------------------------------------\u001b[0m",
      "\u001b[1;31mIntegrityError\u001b[0m                            Traceback (most recent call last)",
      "Cell \u001b[1;32mIn[14], line 5\u001b[0m\n\u001b[0;32m      3\u001b[0m cursor\u001b[38;5;241m=\u001b[39mconn\u001b[38;5;241m.\u001b[39mcursor()\n\u001b[0;32m      4\u001b[0m cursor\u001b[38;5;241m.\u001b[39mexecute(\u001b[38;5;124m\"\u001b[39m\u001b[38;5;124minsert into baby3 values(9944194787,\u001b[39m\u001b[38;5;124m'\u001b[39m\u001b[38;5;124mKarthik\u001b[39m\u001b[38;5;124m'\u001b[39m\u001b[38;5;124m,23,\u001b[39m\u001b[38;5;124m'\u001b[39m\u001b[38;5;124mchennai\u001b[39m\u001b[38;5;124m'\u001b[39m\u001b[38;5;124m)\u001b[39m\u001b[38;5;124m\"\u001b[39m)\n\u001b[1;32m----> 5\u001b[0m \u001b[43mcursor\u001b[49m\u001b[38;5;241;43m.\u001b[39;49m\u001b[43mexecute\u001b[49m\u001b[43m(\u001b[49m\u001b[38;5;124;43m\"\u001b[39;49m\u001b[38;5;124;43minsert into baby3 values(9944194788,\u001b[39;49m\u001b[38;5;124;43m'\u001b[39;49m\u001b[38;5;124;43mReshma\u001b[39;49m\u001b[38;5;124;43m'\u001b[39;49m\u001b[38;5;124;43m,13,\u001b[39;49m\u001b[38;5;124;43m'\u001b[39;49m\u001b[38;5;124;43mchennai\u001b[39;49m\u001b[38;5;124;43m'\u001b[39;49m\u001b[38;5;124;43m)\u001b[39;49m\u001b[38;5;124;43m\"\u001b[39;49m\u001b[43m)\u001b[49m\n\u001b[0;32m      6\u001b[0m conn\u001b[38;5;241m.\u001b[39mcommit()\n\u001b[0;32m      7\u001b[0m conn\u001b[38;5;241m.\u001b[39mclose()\n",
      "\u001b[1;31mIntegrityError\u001b[0m: CHECK constraint failed: age>=18"
     ]
    }
   ],
   "source": [
    "#insert values into baby3 table\n",
    "conn=sqlite3.connect(\"E:\\\\DBMS\\\\table2.sqlite\")\n",
    "cursor=conn.cursor()\n",
    "cursor.execute(\"insert into baby3 values(9944194787,'Karthik',23,'chennai')\")\n",
    "cursor.execute(\"insert into baby3 values(9944194788,'Reshma',13,'chennai')\")\n",
    "conn.commit()\n",
    "conn.close()\n",
    "#it's won't accept lessthan age18"
   ]
  },
  {
   "cell_type": "code",
   "execution_count": 15,
   "id": "02de3e49",
   "metadata": {},
   "outputs": [],
   "source": [
    "#insert values into baby3 table\n",
    "conn=sqlite3.connect(\"E:\\\\DBMS\\\\table2.sqlite\")\n",
    "cursor=conn.cursor()\n",
    "cursor.execute(\"insert into baby3 values(9944194787,'Karthik',23,'chennai')\")\n",
    "cursor.execute(\"insert into baby3 values(9944194788,'Reshma',23,'chennai')\")\n",
    "conn.commit()\n",
    "conn.close()\n",
    "#if we give morethan 18 or 18,it will accept"
   ]
  },
  {
   "cell_type": "code",
   "execution_count": 16,
   "id": "75ab8a1d",
   "metadata": {},
   "outputs": [],
   "source": [
    "#create baby4 table with check constraint\n",
    "conn=sqlite3.connect(\"E:\\\\DBMS\\\\table2.sqlite\")\n",
    "cursor=conn.cursor()\n",
    "cursor.execute('''\n",
    "               Create table baby4(\n",
    "                   PHONENUMBER  not null unique primary key,\n",
    "                   NAME char(20) NOT NULL,\n",
    "                   AGE numeric(2) not null,\n",
    "                    CITY varchar(20) not null,\n",
    "                   check (AGE>=18 AND CITY=='Chennai')\n",
    "                  \n",
    "               );\n",
    "               ''')\n",
    "conn.close()"
   ]
  },
  {
   "cell_type": "code",
   "execution_count": 17,
   "id": "548710f2",
   "metadata": {},
   "outputs": [
    {
     "ename": "IntegrityError",
     "evalue": "CHECK constraint failed: AGE>=18 AND CITY=='Chennai'",
     "output_type": "error",
     "traceback": [
      "\u001b[1;31m---------------------------------------------------------------------------\u001b[0m",
      "\u001b[1;31mIntegrityError\u001b[0m                            Traceback (most recent call last)",
      "Cell \u001b[1;32mIn[17], line 4\u001b[0m\n\u001b[0;32m      2\u001b[0m conn\u001b[38;5;241m=\u001b[39msqlite3\u001b[38;5;241m.\u001b[39mconnect(\u001b[38;5;124m\"\u001b[39m\u001b[38;5;124mE:\u001b[39m\u001b[38;5;130;01m\\\\\u001b[39;00m\u001b[38;5;124mDBMS\u001b[39m\u001b[38;5;130;01m\\\\\u001b[39;00m\u001b[38;5;124mtable2.sqlite\u001b[39m\u001b[38;5;124m\"\u001b[39m)\n\u001b[0;32m      3\u001b[0m cursor\u001b[38;5;241m=\u001b[39mconn\u001b[38;5;241m.\u001b[39mcursor()\n\u001b[1;32m----> 4\u001b[0m \u001b[43mcursor\u001b[49m\u001b[38;5;241;43m.\u001b[39;49m\u001b[43mexecute\u001b[49m\u001b[43m(\u001b[49m\u001b[38;5;124;43m\"\u001b[39;49m\u001b[38;5;124;43minsert into baby4 values(9944194787,\u001b[39;49m\u001b[38;5;124;43m'\u001b[39;49m\u001b[38;5;124;43mKarthik\u001b[39;49m\u001b[38;5;124;43m'\u001b[39;49m\u001b[38;5;124;43m,23,\u001b[39;49m\u001b[38;5;124;43m'\u001b[39;49m\u001b[38;5;124;43mmaduri\u001b[39;49m\u001b[38;5;124;43m'\u001b[39;49m\u001b[38;5;124;43m)\u001b[39;49m\u001b[38;5;124;43m\"\u001b[39;49m\u001b[43m)\u001b[49m\n\u001b[0;32m      5\u001b[0m cursor\u001b[38;5;241m.\u001b[39mexecute(\u001b[38;5;124m\"\u001b[39m\u001b[38;5;124minsert into baby4 values(9944194788,\u001b[39m\u001b[38;5;124m'\u001b[39m\u001b[38;5;124mReshma\u001b[39m\u001b[38;5;124m'\u001b[39m\u001b[38;5;124m,23,\u001b[39m\u001b[38;5;124m'\u001b[39m\u001b[38;5;124mchennai\u001b[39m\u001b[38;5;124m'\u001b[39m\u001b[38;5;124m)\u001b[39m\u001b[38;5;124m\"\u001b[39m)\n\u001b[0;32m      6\u001b[0m conn\u001b[38;5;241m.\u001b[39mcommit()\n",
      "\u001b[1;31mIntegrityError\u001b[0m: CHECK constraint failed: AGE>=18 AND CITY=='Chennai'"
     ]
    }
   ],
   "source": [
    "#insert values into baby4 table\n",
    "conn=sqlite3.connect(\"E:\\\\DBMS\\\\table2.sqlite\")\n",
    "cursor=conn.cursor()\n",
    "cursor.execute(\"insert into baby4 values(9944194787,'Karthik',23,'maduri')\")\n",
    "cursor.execute(\"insert into baby4 values(9944194788,'Reshma',23,'chennai')\")\n",
    "conn.commit()\n",
    "conn.close()\n",
    "#it won't accept lassthan 18 age and except chennai"
   ]
  },
  {
   "cell_type": "code",
   "execution_count": 18,
   "id": "3c2682a1",
   "metadata": {},
   "outputs": [],
   "source": [
    "#insert values into baby4 table\n",
    "conn=sqlite3.connect(\"E:\\\\DBMS\\\\table2.sqlite\")\n",
    "cursor=conn.cursor()\n",
    "cursor.execute(\"insert into baby4 values(9944194787,'Karthik',23,'Chennai')\")\n",
    "cursor.execute(\"insert into baby4 values(9944194788,'Reshma',24,'Chennai')\")\n",
    "conn.commit()\n",
    "conn.close()\n",
    "#it's accept if we give city as Chennai and age morethan 18 or 18"
   ]
  },
  {
   "cell_type": "code",
   "execution_count": 19,
   "id": "348aca11",
   "metadata": {},
   "outputs": [],
   "source": [
    "#select\n",
    "#select whole table and displaying tables data using pandas\n",
    "import pandas as pd\n",
    "conn=sqlite3.connect(\"E:\\\\DBMS\\\\table2.sqlite\")\n",
    "cursor=conn.cursor()\n",
    "query=\"select * from baby\";\n",
    "cursor.execute(query)\n",
    "data=cursor.fetchall()\n",
    "df1=pd.DataFrame(data)\n",
    "conn.close()"
   ]
  },
  {
   "cell_type": "code",
   "execution_count": 20,
   "id": "afdd5050",
   "metadata": {},
   "outputs": [
    {
     "data": {
      "text/html": [
       "<div>\n",
       "<style scoped>\n",
       "    .dataframe tbody tr th:only-of-type {\n",
       "        vertical-align: middle;\n",
       "    }\n",
       "\n",
       "    .dataframe tbody tr th {\n",
       "        vertical-align: top;\n",
       "    }\n",
       "\n",
       "    .dataframe thead th {\n",
       "        text-align: right;\n",
       "    }\n",
       "</style>\n",
       "<table border=\"1\" class=\"dataframe\">\n",
       "  <thead>\n",
       "    <tr style=\"text-align: right;\">\n",
       "      <th></th>\n",
       "      <th>0</th>\n",
       "      <th>1</th>\n",
       "      <th>2</th>\n",
       "      <th>3</th>\n",
       "      <th>4</th>\n",
       "    </tr>\n",
       "  </thead>\n",
       "  <tbody>\n",
       "    <tr>\n",
       "      <th>0</th>\n",
       "      <td>1</td>\n",
       "      <td>karthik</td>\n",
       "      <td>6860</td>\n",
       "      <td>26-09-23</td>\n",
       "      <td>annanagar,chennai</td>\n",
       "    </tr>\n",
       "    <tr>\n",
       "      <th>1</th>\n",
       "      <td>2</td>\n",
       "      <td>reshma</td>\n",
       "      <td>6861</td>\n",
       "      <td>26-09-23</td>\n",
       "      <td>annanagar,chennai</td>\n",
       "    </tr>\n",
       "  </tbody>\n",
       "</table>\n",
       "</div>"
      ],
      "text/plain": [
       "   0        1     2         3                  4\n",
       "0  1  karthik  6860  26-09-23  annanagar,chennai\n",
       "1  2   reshma  6861  26-09-23  annanagar,chennai"
      ]
     },
     "execution_count": 20,
     "metadata": {},
     "output_type": "execute_result"
    }
   ],
   "source": [
    "df1"
   ]
  },
  {
   "cell_type": "code",
   "execution_count": 23,
   "id": "22a1cb38",
   "metadata": {},
   "outputs": [
    {
     "name": "stdout",
     "output_type": "stream",
     "text": [
      "[(1, 'karthik'), (2, 'reshma')]\n"
     ]
    }
   ],
   "source": [
    "#select specific columns\n",
    "conn=sqlite3.connect(\"E:\\\\DBMS\\\\table2.sqlite\")\n",
    "cursor=conn.cursor()\n",
    "query=\"select ID,NAME from baby\";\n",
    "cursor.execute(query)\n",
    "data=cursor.fetchall()\n",
    "df2=pd.DataFrame(data)\n",
    "print(data)\n",
    "conn.close()"
   ]
  },
  {
   "cell_type": "code",
   "execution_count": 24,
   "id": "6d57cd30",
   "metadata": {},
   "outputs": [
    {
     "data": {
      "text/html": [
       "<div>\n",
       "<style scoped>\n",
       "    .dataframe tbody tr th:only-of-type {\n",
       "        vertical-align: middle;\n",
       "    }\n",
       "\n",
       "    .dataframe tbody tr th {\n",
       "        vertical-align: top;\n",
       "    }\n",
       "\n",
       "    .dataframe thead th {\n",
       "        text-align: right;\n",
       "    }\n",
       "</style>\n",
       "<table border=\"1\" class=\"dataframe\">\n",
       "  <thead>\n",
       "    <tr style=\"text-align: right;\">\n",
       "      <th></th>\n",
       "      <th>0</th>\n",
       "      <th>1</th>\n",
       "    </tr>\n",
       "  </thead>\n",
       "  <tbody>\n",
       "    <tr>\n",
       "      <th>0</th>\n",
       "      <td>1</td>\n",
       "      <td>karthik</td>\n",
       "    </tr>\n",
       "    <tr>\n",
       "      <th>1</th>\n",
       "      <td>2</td>\n",
       "      <td>reshma</td>\n",
       "    </tr>\n",
       "  </tbody>\n",
       "</table>\n",
       "</div>"
      ],
      "text/plain": [
       "   0        1\n",
       "0  1  karthik\n",
       "1  2   reshma"
      ]
     },
     "execution_count": 24,
     "metadata": {},
     "output_type": "execute_result"
    }
   ],
   "source": [
    "df2"
   ]
  },
  {
   "cell_type": "code",
   "execution_count": 25,
   "id": "f35704da",
   "metadata": {},
   "outputs": [
    {
     "name": "stdout",
     "output_type": "stream",
     "text": [
      "[('annanagar,chennai',)]\n"
     ]
    }
   ],
   "source": [
    "#select specific columns using Distinct statment\n",
    "conn=sqlite3.connect(\"E:\\\\DBMS\\\\table2.sqlite\")\n",
    "cursor=conn.cursor()\n",
    "query=\"select Distinct ADDRESS from baby\";\n",
    "cursor.execute(query)\n",
    "data=cursor.fetchall()\n",
    "df3=pd.DataFrame(data)\n",
    "print(data)\n",
    "conn.close()\n",
    "#dinstict keyword not display repeted value(we have two data's same like a 'annanagar,chennai' but here displayed only one time)"
   ]
  },
  {
   "cell_type": "code",
   "execution_count": 26,
   "id": "c94e1578",
   "metadata": {},
   "outputs": [
    {
     "data": {
      "text/html": [
       "<div>\n",
       "<style scoped>\n",
       "    .dataframe tbody tr th:only-of-type {\n",
       "        vertical-align: middle;\n",
       "    }\n",
       "\n",
       "    .dataframe tbody tr th {\n",
       "        vertical-align: top;\n",
       "    }\n",
       "\n",
       "    .dataframe thead th {\n",
       "        text-align: right;\n",
       "    }\n",
       "</style>\n",
       "<table border=\"1\" class=\"dataframe\">\n",
       "  <thead>\n",
       "    <tr style=\"text-align: right;\">\n",
       "      <th></th>\n",
       "      <th>0</th>\n",
       "    </tr>\n",
       "  </thead>\n",
       "  <tbody>\n",
       "    <tr>\n",
       "      <th>0</th>\n",
       "      <td>annanagar,chennai</td>\n",
       "    </tr>\n",
       "  </tbody>\n",
       "</table>\n",
       "</div>"
      ],
      "text/plain": [
       "                   0\n",
       "0  annanagar,chennai"
      ]
     },
     "execution_count": 26,
     "metadata": {},
     "output_type": "execute_result"
    }
   ],
   "source": [
    "df3"
   ]
  },
  {
   "cell_type": "code",
   "execution_count": 27,
   "id": "e37173c9",
   "metadata": {},
   "outputs": [
    {
     "name": "stdout",
     "output_type": "stream",
     "text": [
      "[(2,)]\n"
     ]
    }
   ],
   "source": [
    "#count the value of NAME column using select statment\n",
    "conn=sqlite3.connect(\"E:\\\\DBMS\\\\table2.sqlite\")\n",
    "cursor=conn.cursor()\n",
    "query=\"select count(Distinct NAME) from baby\";\n",
    "cursor.execute(query)\n",
    "data=cursor.fetchall()\n",
    "print(data)\n",
    "conn.close()"
   ]
  },
  {
   "cell_type": "code",
   "execution_count": 28,
   "id": "dd5c18cb",
   "metadata": {},
   "outputs": [
    {
     "name": "stdout",
     "output_type": "stream",
     "text": [
      "[(1, 11), (2, 12)]\n"
     ]
    }
   ],
   "source": [
    "#literals operation \n",
    "conn=sqlite3.connect(\"E:\\\\DBMS\\\\table2.sqlite\")\n",
    "cursor=conn.cursor()\n",
    "query=\"select ID,ID+10 from baby\";\n",
    "cursor.execute(query)\n",
    "data=cursor.fetchall()\n",
    "print(data)\n",
    "conn.close()"
   ]
  },
  {
   "cell_type": "code",
   "execution_count": 29,
   "id": "8652e19d",
   "metadata": {},
   "outputs": [
    {
     "name": "stdout",
     "output_type": "stream",
     "text": [
      "[('1karthik',), ('2reshma',)]\n"
     ]
    }
   ],
   "source": [
    "#concatination operator\n",
    "conn=sqlite3.connect(\"E:\\\\DBMS\\\\table2.sqlite\")\n",
    "cursor=conn.cursor()\n",
    "query=\"select ID||NAME from baby\";\n",
    "cursor.execute(query)\n",
    "data=cursor.fetchall()\n",
    "print(data)\n",
    "conn.close()"
   ]
  },
  {
   "cell_type": "code",
   "execution_count": 30,
   "id": "805f5ad0",
   "metadata": {},
   "outputs": [
    {
     "name": "stdout",
     "output_type": "stream",
     "text": [
      "[(9944194788, 'Reshma', 24, 'Chennai')]\n"
     ]
    }
   ],
   "source": [
    "#displaying person detils who has age 24 using where clause\n",
    "conn=sqlite3.connect(\"E:\\\\DBMS\\\\table2.sqlite\")\n",
    "cursor=conn.cursor()\n",
    "query=\"select * from baby4 where AGE==24\";\n",
    "cursor.execute(query)\n",
    "data=cursor.fetchall()\n",
    "print(data)\n",
    "conn.close()"
   ]
  },
  {
   "cell_type": "code",
   "execution_count": 31,
   "id": "63d86162",
   "metadata": {},
   "outputs": [
    {
     "name": "stdout",
     "output_type": "stream",
     "text": [
      "[(9944194787, 'Karthik', 23, 'Chennai')]\n"
     ]
    }
   ],
   "source": [
    "#displaying person detils who has 7 character name\n",
    "conn=sqlite3.connect(\"E:\\\\DBMS\\\\table2.sqlite\")\n",
    "cursor=conn.cursor()\n",
    "query=\"select * from baby4 where length(NAME)==7\";\n",
    "cursor.execute(query)\n",
    "data=cursor.fetchall()\n",
    "print(data)\n",
    "conn.close()"
   ]
  },
  {
   "cell_type": "code",
   "execution_count": 32,
   "id": "74c3a48e",
   "metadata": {},
   "outputs": [
    {
     "name": "stdout",
     "output_type": "stream",
     "text": [
      "[(6860, 'software Engineer', 23), (6861, 'communication spaclist', 23)]\n"
     ]
    }
   ],
   "source": [
    "#displaying person's details by in operator\n",
    "conn=sqlite3.connect(\"E:\\\\DBMS\\\\table2.sqlite\")\n",
    "cursor=conn.cursor()\n",
    "query=\"select * from baby1 where EMP_POSITION in('software Engineer','communication spaclist')\";\n",
    "cursor.execute(query)\n",
    "data=cursor.fetchall()\n",
    "print(data)\n",
    "conn.close()"
   ]
  },
  {
   "cell_type": "code",
   "execution_count": 33,
   "id": "670ec649",
   "metadata": {},
   "outputs": [
    {
     "name": "stdout",
     "output_type": "stream",
     "text": [
      "[(6861, 'communication spaclist', 23)]\n"
     ]
    }
   ],
   "source": [
    "#displaying person's details by not in operator\n",
    "conn=sqlite3.connect(\"E:\\\\DBMS\\\\table2.sqlite\")\n",
    "cursor=conn.cursor()\n",
    "query=\"select * from baby1 where EMP_CODE not in(6860)\";\n",
    "cursor.execute(query)\n",
    "data=cursor.fetchall()\n",
    "print(data)\n",
    "conn.close()"
   ]
  },
  {
   "cell_type": "code",
   "execution_count": 34,
   "id": "f220de58",
   "metadata": {},
   "outputs": [
    {
     "name": "stdout",
     "output_type": "stream",
     "text": [
      "[(6860, 'software Engineer', 23)]\n"
     ]
    }
   ],
   "source": [
    "#displaying person's details by between operator\n",
    "conn=sqlite3.connect(\"E:\\\\DBMS\\\\table2.sqlite\")\n",
    "cursor=conn.cursor()\n",
    "query=\"select * from baby1 where EMP_CODE between 6850 AND 6860\";\n",
    "cursor.execute(query)\n",
    "data=cursor.fetchall()\n",
    "print(data)\n",
    "conn.close()"
   ]
  },
  {
   "cell_type": "code",
   "execution_count": 41,
   "id": "ecdebdae",
   "metadata": {},
   "outputs": [
    {
     "name": "stdout",
     "output_type": "stream",
     "text": [
      "[(5, 'mani', 6870, -10, None)]\n"
     ]
    }
   ],
   "source": [
    "##displaying person's details by is operator\n",
    "conn=sqlite3.connect(\"E:\\\\DBMS\\\\table2.sqlite\")\n",
    "cursor=conn.cursor()\n",
    "query=\"select * from baby where ADDRESS is null\";\n",
    "cursor.execute(query)\n",
    "data=cursor.fetchall()\n",
    "print(data)\n",
    "conn.close()\n",
    "#it's displayed records which Address has null"
   ]
  },
  {
   "cell_type": "code",
   "execution_count": 36,
   "id": "59a64bc3",
   "metadata": {},
   "outputs": [
    {
     "name": "stdout",
     "output_type": "stream",
     "text": [
      "[(1, 'karthik', 6860, '26-09-23', 'annanagar,chennai'), (2, 'reshma', 6861, '26-09-23', 'annanagar,chennai')]\n"
     ]
    }
   ],
   "source": [
    "##displaying person's details by is operator\n",
    "conn=sqlite3.connect(\"E:\\\\DBMS\\\\table2.sqlite\")\n",
    "cursor=conn.cursor()\n",
    "query=\"select * from baby where ADDRESS is not null\";\n",
    "cursor.execute(query)\n",
    "data=cursor.fetchall()\n",
    "print(data)\n",
    "conn.close()\n",
    "#it's displayed records which Address has not null"
   ]
  },
  {
   "cell_type": "code",
   "execution_count": 37,
   "id": "9b460797",
   "metadata": {},
   "outputs": [
    {
     "name": "stdout",
     "output_type": "stream",
     "text": [
      "[(2, 'reshma', 6861, '26-09-23', 'annanagar,chennai')]\n"
     ]
    }
   ],
   "source": [
    "#display the employee whose name start with 'r'\n",
    "conn=sqlite3.connect(\"E:\\\\DBMS\\\\table2.sqlite\")\n",
    "cursor=conn.cursor()\n",
    "query=\"select * from baby where NAME like 'r%'\";\n",
    "cursor.execute(query)\n",
    "data=cursor.fetchall()\n",
    "print(data)\n",
    "conn.close()"
   ]
  },
  {
   "cell_type": "code",
   "execution_count": 38,
   "id": "4b1df987",
   "metadata": {},
   "outputs": [
    {
     "name": "stdout",
     "output_type": "stream",
     "text": [
      "[(1, 'karthik', 6860, '26-09-23', 'annanagar,chennai')]\n"
     ]
    }
   ],
   "source": [
    "#display the employee whose name 2nd letter is 'a'\n",
    "conn=sqlite3.connect(\"E:\\\\DBMS\\\\table2.sqlite\")\n",
    "cursor=conn.cursor()\n",
    "query=\"select * from baby where NAME like '_a%'\";\n",
    "cursor.execute(query)\n",
    "data=cursor.fetchall()\n",
    "print(data)\n",
    "conn.close()"
   ]
  },
  {
   "cell_type": "code",
   "execution_count": 42,
   "id": "3fb98089",
   "metadata": {},
   "outputs": [
    {
     "name": "stdout",
     "output_type": "stream",
     "text": [
      "[(5, 'mani', 6870, -10, None)]\n"
     ]
    }
   ],
   "source": [
    "#display the employee whose name has 4 letters\n",
    "conn=sqlite3.connect(\"E:\\\\DBMS\\\\table2.sqlite\")\n",
    "cursor=conn.cursor()\n",
    "query=\"select * from baby where NAME like '____'\";\n",
    "cursor.execute(query)\n",
    "data=cursor.fetchall()\n",
    "print(data)\n",
    "conn.close()"
   ]
  },
  {
   "cell_type": "code",
   "execution_count": 43,
   "id": "126a0f31",
   "metadata": {},
   "outputs": [
    {
     "name": "stdout",
     "output_type": "stream",
     "text": [
      "[(1, 'karthik', 6860, '26-09-23', 'annanagar,chennai'), (5, 'mani', 6870, -10, None), (2, 'reshma', 6861, '26-09-23', 'annanagar,chennai')]\n"
     ]
    }
   ],
   "source": [
    "#sort the recodrs as accending order by their names using orderbyclass\n",
    "conn=sqlite3.connect(\"E:\\\\DBMS\\\\table2.sqlite\")\n",
    "cursor=conn.cursor()\n",
    "query=\"select * from baby order by NAME ASC\";\n",
    "cursor.execute(query)\n",
    "data=cursor.fetchall()\n",
    "print(data)\n",
    "conn.close()"
   ]
  },
  {
   "cell_type": "code",
   "execution_count": 44,
   "id": "4e1002f1",
   "metadata": {},
   "outputs": [
    {
     "name": "stdout",
     "output_type": "stream",
     "text": [
      "[(5, 'mani', 6870, -10, None), (2, 'reshma', 6861, '26-09-23', 'annanagar,chennai'), (1, 'karthik', 6860, '26-09-23', 'annanagar,chennai')]\n"
     ]
    }
   ],
   "source": [
    "#sort the recodrs as decending order by their id using orderbyclass\n",
    "conn=sqlite3.connect(\"E:\\\\DBMS\\\\table2.sqlite\")\n",
    "cursor=conn.cursor()\n",
    "query=\"select * from baby order by ID DESC\";\n",
    "cursor.execute(query)\n",
    "data=cursor.fetchall()\n",
    "print(data)\n",
    "conn.close()"
   ]
  },
  {
   "cell_type": "code",
   "execution_count": 45,
   "id": "2c45df6a",
   "metadata": {},
   "outputs": [],
   "source": [
    "#create new table from Existing table\n",
    "conn=sqlite3.connect(\"E:\\\\DBMS\\\\table2.sqlite\")\n",
    "cursor=conn.cursor()\n",
    "query=\"create table baby5 As select * from baby\";\n",
    "cursor.execute(query)\n",
    "conn.close()"
   ]
  },
  {
   "cell_type": "code",
   "execution_count": null,
   "id": "d4de646d",
   "metadata": {},
   "outputs": [],
   "source": [
    "#displaying baby5 table\n",
    "conn=sqlite3.connect(\"E:\\\\DBMS\\\\table1.sqlite\")\n",
    "cursor=conn.cursor()\n",
    "query=\"select * from baby5\";\n",
    "cursor.execute(query)\n",
    "data=cursor.fetchall()\n",
    "print(data)\n",
    "conn.close()"
   ]
  },
  {
   "cell_type": "code",
   "execution_count": 46,
   "id": "6a2d9446",
   "metadata": {},
   "outputs": [
    {
     "name": "stdout",
     "output_type": "stream",
     "text": [
      "drop successfully\n"
     ]
    }
   ],
   "source": [
    "#droping baby5 table\n",
    "conn=sqlite3.connect(\"E:\\\\DBMS\\\\table2.sqlite\")\n",
    "cursor=conn.cursor()\n",
    "query=\"drop table baby5\";\n",
    "cursor.execute(query)\n",
    "print(\"drop successfully\")\n",
    "conn.close()"
   ]
  },
  {
   "cell_type": "code",
   "execution_count": 47,
   "id": "5102a2ba",
   "metadata": {},
   "outputs": [
    {
     "ename": "OperationalError",
     "evalue": "no such table: baby5",
     "output_type": "error",
     "traceback": [
      "\u001b[1;31m---------------------------------------------------------------------------\u001b[0m",
      "\u001b[1;31mOperationalError\u001b[0m                          Traceback (most recent call last)",
      "Cell \u001b[1;32mIn[47], line 5\u001b[0m\n\u001b[0;32m      3\u001b[0m cursor\u001b[38;5;241m=\u001b[39mconn\u001b[38;5;241m.\u001b[39mcursor()\n\u001b[0;32m      4\u001b[0m query\u001b[38;5;241m=\u001b[39m\u001b[38;5;124m\"\u001b[39m\u001b[38;5;124mselect * from baby5\u001b[39m\u001b[38;5;124m\"\u001b[39m;\n\u001b[1;32m----> 5\u001b[0m \u001b[43mcursor\u001b[49m\u001b[38;5;241;43m.\u001b[39;49m\u001b[43mexecute\u001b[49m\u001b[43m(\u001b[49m\u001b[43mquery\u001b[49m\u001b[43m)\u001b[49m\n\u001b[0;32m      6\u001b[0m data\u001b[38;5;241m=\u001b[39mcursor\u001b[38;5;241m.\u001b[39mfetchall()\n\u001b[0;32m      7\u001b[0m \u001b[38;5;28mprint\u001b[39m(data)\n",
      "\u001b[1;31mOperationalError\u001b[0m: no such table: baby5"
     ]
    }
   ],
   "source": [
    "#tryiing to display deleteed table\n",
    "conn=sqlite3.connect(\"E:\\\\DBMS\\\\table2.sqlite\")\n",
    "cursor=conn.cursor()\n",
    "query=\"select * from baby5\";\n",
    "cursor.execute(query)\n",
    "data=cursor.fetchall()\n",
    "print(data)\n",
    "conn.close()"
   ]
  },
  {
   "cell_type": "code",
   "execution_count": 48,
   "id": "70782955",
   "metadata": {},
   "outputs": [
    {
     "name": "stdout",
     "output_type": "stream",
     "text": [
      "new column added!!!\n"
     ]
    }
   ],
   "source": [
    "#adding new column into baby4 table\n",
    "conn=sqlite3.connect(\"E:\\\\DBMS\\\\table2.sqlite\")\n",
    "cursor=conn.cursor()\n",
    "query=\"alter table baby4 add DEGREE varchar(20)\";\n",
    "cursor.execute(query)\n",
    "print(\"new column added!!!\")\n",
    "conn.close()"
   ]
  },
  {
   "cell_type": "code",
   "execution_count": 49,
   "id": "1570a539",
   "metadata": {},
   "outputs": [
    {
     "name": "stdout",
     "output_type": "stream",
     "text": [
      "rename successfully!!!\n"
     ]
    }
   ],
   "source": [
    "#renaming column name in baby4 table\n",
    "conn=sqlite3.connect(\"E:\\\\DBMS\\\\table2.sqlite\")\n",
    "cursor=conn.cursor()\n",
    "query=\"alter table baby4 rename column DEGREE to Degree\";\n",
    "cursor.execute(query)\n",
    "print(\"rename successfully!!!\")\n",
    "conn.close()"
   ]
  },
  {
   "cell_type": "code",
   "execution_count": 51,
   "id": "a6296671",
   "metadata": {},
   "outputs": [
    {
     "name": "stdout",
     "output_type": "stream",
     "text": [
      "deleted successfully!!!\n"
     ]
    }
   ],
   "source": [
    "#removing column in baby4 table\n",
    "conn=sqlite3.connect(\"E:\\\\DBMS\\\\table2.sqlite\")\n",
    "cursor=conn.cursor()\n",
    "query=\"alter table baby4 drop column Degree\";\n",
    "cursor.execute(query)\n",
    "print(\"deleted successfully!!!\")\n",
    "conn.close()"
   ]
  },
  {
   "cell_type": "code",
   "execution_count": 52,
   "id": "ba3a7227",
   "metadata": {},
   "outputs": [
    {
     "name": "stdout",
     "output_type": "stream",
     "text": [
      "deleted successfully!!!\n"
     ]
    }
   ],
   "source": [
    "#deleting particular row using delete command with condition\n",
    "conn=sqlite3.connect(\"E:\\\\DBMS\\\\table2.sqlite\")\n",
    "cursor=conn.cursor()\n",
    "query=\"delete from baby4 where AGE='23'\";\n",
    "cursor.execute(query)\n",
    "conn.commit()\n",
    "print(\"deleted successfully!!!\")\n",
    "conn.close()"
   ]
  },
  {
   "cell_type": "code",
   "execution_count": 53,
   "id": "87ae4d29",
   "metadata": {},
   "outputs": [
    {
     "name": "stdout",
     "output_type": "stream",
     "text": [
      "deleted successfully!!!\n"
     ]
    }
   ],
   "source": [
    "#deleting all row using delete command \n",
    "conn=sqlite3.connect(\"E:\\\\DBMS\\\\table2.sqlite\")\n",
    "cursor=conn.cursor()\n",
    "query=\"delete from baby4\";\n",
    "cursor.execute(query)\n",
    "conn.commit()\n",
    "print(\"deleted successfully!!!\")\n",
    "conn.close()"
   ]
  },
  {
   "cell_type": "code",
   "execution_count": 54,
   "id": "fe4b5805",
   "metadata": {},
   "outputs": [
    {
     "name": "stdout",
     "output_type": "stream",
     "text": [
      "updated successfully!!!\n"
     ]
    }
   ],
   "source": [
    "#update one row using update command \n",
    "conn=sqlite3.connect(\"E:\\\\DBMS\\\\table2.sqlite\")\n",
    "cursor=conn.cursor()\n",
    "query=\"update baby3 set CITY='Madurai' where NAME='Karthik'\";\n",
    "cursor.execute(query)\n",
    "conn.commit()\n",
    "print(\"updated successfully!!!\")\n",
    "conn.close()"
   ]
  },
  {
   "cell_type": "code",
   "execution_count": 55,
   "id": "ced8f0ce",
   "metadata": {},
   "outputs": [
    {
     "name": "stdout",
     "output_type": "stream",
     "text": [
      "updated successfully!!!\n"
     ]
    }
   ],
   "source": [
    "#update more than one row using update command \n",
    "conn=sqlite3.connect(\"E:\\\\DBMS\\\\table2.sqlite\")\n",
    "cursor=conn.cursor()\n",
    "query=\"update baby3 set AGE='24' where NAME in('Karthik','Reshma')\";\n",
    "cursor.execute(query)\n",
    "conn.commit()\n",
    "print(\"updated successfully!!!\")\n",
    "conn.close()"
   ]
  },
  {
   "cell_type": "code",
   "execution_count": 64,
   "id": "e1a287f6",
   "metadata": {},
   "outputs": [
    {
     "name": "stdout",
     "output_type": "stream",
     "text": [
      "deleted successfully!!!\n"
     ]
    }
   ],
   "source": [
    "#deleting baby3 table for rollback\n",
    "conn=sqlite3.connect(\"E:\\\\DBMS\\\\table2.sqlite\")\n",
    "cursor=conn.cursor()\n",
    "query=\"delete from baby3\";\n",
    "cursor.execute(query)\n",
    "conn.commit()\n",
    "print(\"deleted successfully!!!\")\n",
    "#conn.close()"
   ]
  },
  {
   "cell_type": "code",
   "execution_count": 65,
   "id": "17fdee73",
   "metadata": {},
   "outputs": [
    {
     "name": "stdout",
     "output_type": "stream",
     "text": [
      "rollback successfully!!!\n"
     ]
    }
   ],
   "source": [
    "#rollback command \n",
    "conn=sqlite3.connect(\"E:\\\\DBMS\\\\table2.sqlite\")\n",
    "cursor=conn.cursor()\n",
    "conn.rollback()\n",
    "print(\"rollback successfully!!!\")\n",
    "conn.close()\n",
    "#but data not rollbaced in the table cause we did commit above cell"
   ]
  },
  {
   "cell_type": "code",
   "execution_count": 90,
   "id": "e5959e64",
   "metadata": {},
   "outputs": [
    {
     "name": "stdout",
     "output_type": "stream",
     "text": [
      "[('KARTHIK',), ('RESHMA',)]\n"
     ]
    }
   ],
   "source": [
    "#case manipulation functions\n",
    "#upper\n",
    "conn=sqlite3.connect(\"E:\\\\DBMS\\\\table2.sqlite\")\n",
    "cursor=conn.cursor()\n",
    "query=\"select upper(NAME) from baby\" \n",
    "cursor.execute(query)\n",
    "data=cursor.fetchall()\n",
    "print(data)\n",
    "conn.close()"
   ]
  },
  {
   "cell_type": "code",
   "execution_count": 91,
   "id": "6ca2fc1e",
   "metadata": {},
   "outputs": [
    {
     "name": "stdout",
     "output_type": "stream",
     "text": [
      "[('karthik',), ('reshma',)]\n"
     ]
    }
   ],
   "source": [
    "#lower\n",
    "conn=sqlite3.connect(\"E:\\\\DBMS\\\\table2.sqlite\")\n",
    "cursor=conn.cursor()\n",
    "query=\"select LOWER(NAME) from baby\" \n",
    "cursor.execute(query)\n",
    "data=cursor.fetchall()\n",
    "print(data)\n",
    "conn.close()"
   ]
  },
  {
   "cell_type": "code",
   "execution_count": 98,
   "id": "dabbf51c",
   "metadata": {},
   "outputs": [],
   "source": [
    "#change the Name character to upper case and update into the table\n",
    "conn=sqlite3.connect(\"E:\\\\DBMS\\\\table2.sqlite\")\n",
    "cursor=conn.cursor()\n",
    "query=\"update baby set NAME=upper(NAME)\" ;\n",
    "cursor.execute(query)\n",
    "conn.commit()\n",
    "#print(data)\n",
    "conn.close()"
   ]
  },
  {
   "cell_type": "code",
   "execution_count": 99,
   "id": "1a4f0787",
   "metadata": {},
   "outputs": [
    {
     "name": "stdout",
     "output_type": "stream",
     "text": [
      "[('K$RTHIK',), ('RESHM$',)]\n"
     ]
    }
   ],
   "source": [
    "#Character manipulation functions\n",
    "#replace()\n",
    "conn=sqlite3.connect(\"E:\\\\DBMS\\\\table2.sqlite\")\n",
    "cursor=conn.cursor()\n",
    "query=\"select replace(NAME,'A','$') from baby\" \n",
    "cursor.execute(query)\n",
    "data=cursor.fetchall()\n",
    "print(data)\n",
    "conn.close()"
   ]
  },
  {
   "cell_type": "code",
   "execution_count": 111,
   "id": "d5e0e884",
   "metadata": {},
   "outputs": [
    {
     "name": "stdout",
     "output_type": "stream",
     "text": [
      "[('ARTHI',), ('ESHMA',)]\n",
      "[('K',), ('A',)]\n"
     ]
    }
   ],
   "source": [
    "#substr(substring)\n",
    "conn=sqlite3.connect(\"E:\\\\DBMS\\\\table2.sqlite\")\n",
    "cursor=conn.cursor()\n",
    "query=\"select substr(NAME,2,5) from baby\" \n",
    "cursor.execute(query)\n",
    "data=cursor.fetchall()\n",
    "print(data)\n",
    "query2=\"select substr(NAME,-1) from baby\" \n",
    "cursor.execute(query2)\n",
    "data2=cursor.fetchall()\n",
    "print(data2)\n",
    "conn.close()"
   ]
  },
  {
   "cell_type": "code",
   "execution_count": 114,
   "id": "92cf631f",
   "metadata": {},
   "outputs": [
    {
     "name": "stdout",
     "output_type": "stream",
     "text": [
      "[('KARTHIK6860',), ('RESHMA6861',)]\n",
      "[('MYNAME is:KARTHIK',), ('MYNAME is:RESHMA',)]\n"
     ]
    }
   ],
   "source": [
    "#concat()\n",
    "conn=sqlite3.connect(\"E:\\\\DBMS\\\\table2.sqlite\")\n",
    "cursor=conn.cursor()\n",
    "query=\"select NAME || CODE from baby\" \n",
    "cursor.execute(query)\n",
    "data=cursor.fetchall()\n",
    "print(data)\n",
    "query2=\"select 'MY'||'NAME is:'||NAME from baby\" \n",
    "cursor.execute(query2)\n",
    "data2=cursor.fetchall()\n",
    "print(data2)\n",
    "conn.close()"
   ]
  },
  {
   "cell_type": "code",
   "execution_count": 147,
   "id": "3084251c",
   "metadata": {},
   "outputs": [
    {
     "ename": "OperationalError",
     "evalue": "wrong number of arguments to function INSTR()",
     "output_type": "error",
     "traceback": [
      "\u001b[1;31m---------------------------------------------------------------------------\u001b[0m",
      "\u001b[1;31mOperationalError\u001b[0m                          Traceback (most recent call last)",
      "Cell \u001b[1;32mIn[147], line 4\u001b[0m\n\u001b[0;32m      2\u001b[0m conn\u001b[38;5;241m=\u001b[39msqlite3\u001b[38;5;241m.\u001b[39mconnect(\u001b[38;5;124m\"\u001b[39m\u001b[38;5;124mE:\u001b[39m\u001b[38;5;130;01m\\\\\u001b[39;00m\u001b[38;5;124mDBMS\u001b[39m\u001b[38;5;130;01m\\\\\u001b[39;00m\u001b[38;5;124mtable2.sqlite\u001b[39m\u001b[38;5;124m\"\u001b[39m)\n\u001b[0;32m      3\u001b[0m cursor\u001b[38;5;241m=\u001b[39mconn\u001b[38;5;241m.\u001b[39mcursor()\n\u001b[1;32m----> 4\u001b[0m \u001b[43mcursor\u001b[49m\u001b[38;5;241;43m.\u001b[39;49m\u001b[43mexecute\u001b[49m\u001b[43m(\u001b[49m\u001b[38;5;124;43m\"\u001b[39;49m\u001b[38;5;124;43mselect INSTR(name,\u001b[39;49m\u001b[38;5;124;43m'\u001b[39;49m\u001b[38;5;124;43mK\u001b[39;49m\u001b[38;5;124;43m'\u001b[39;49m\u001b[38;5;124;43m,1) from baby\u001b[39;49m\u001b[38;5;124;43m\"\u001b[39;49m\u001b[43m)\u001b[49m\n\u001b[0;32m      5\u001b[0m data\u001b[38;5;241m=\u001b[39mcursor\u001b[38;5;241m.\u001b[39mfetchall()\n\u001b[0;32m      6\u001b[0m \u001b[38;5;28mprint\u001b[39m(data)\n",
      "\u001b[1;31mOperationalError\u001b[0m: wrong number of arguments to function INSTR()"
     ]
    }
   ],
   "source": [
    "#instr()\n",
    "conn=sqlite3.connect(\"E:\\\\DBMS\\\\table2.sqlite\")\n",
    "cursor=conn.cursor()\n",
    "cursor.execute(\"select INSTR(name,'K',1) from baby\")\n",
    "data=cursor.fetchall()\n",
    "print(data)\n",
    "#query2=\"select 'MY'||'NAME is:'||NAME from baby\" \n",
    "#cursor.execute(query2)\n",
    "#data2=cursor.fetchall()\n",
    "#print(data2)\n",
    "conn.close()"
   ]
  },
  {
   "cell_type": "code",
   "execution_count": 132,
   "id": "178b9c34",
   "metadata": {},
   "outputs": [
    {
     "name": "stdout",
     "output_type": "stream",
     "text": [
      "[('KARTHIK',), ('ESHMA',)]\n"
     ]
    }
   ],
   "source": [
    "#ltrim()\n",
    "conn=sqlite3.connect(\"E:\\\\DBMS\\\\table2.sqlite\")\n",
    "cursor=conn.cursor()\n",
    "query=\"select ltrim(NAME,'R') from baby\" \n",
    "cursor.execute(query)\n",
    "data=cursor.fetchall()\n",
    "print(data)\n",
    "conn.close()"
   ]
  },
  {
   "cell_type": "code",
   "execution_count": 133,
   "id": "ad1b7e7a",
   "metadata": {},
   "outputs": [
    {
     "name": "stdout",
     "output_type": "stream",
     "text": [
      "[('KARTHI',), ('RESHMA',)]\n"
     ]
    }
   ],
   "source": [
    "#ltrim()\n",
    "conn=sqlite3.connect(\"E:\\\\DBMS\\\\table2.sqlite\")\n",
    "cursor=conn.cursor()\n",
    "query=\"select rtrim(NAME,'K') from baby\" \n",
    "cursor.execute(query)\n",
    "data=cursor.fetchall()\n",
    "print(data)\n",
    "conn.close()"
   ]
  },
  {
   "cell_type": "code",
   "execution_count": 171,
   "id": "a0024ad1",
   "metadata": {},
   "outputs": [],
   "source": [
    "#adding new salary column for multirow functions\n",
    "conn=sqlite3.connect(\"E:\\\\DBMS\\\\table2.sqlite\")\n",
    "cursor=conn.cursor()\n",
    "query=\"alter table baby add salary numeric(5)\" \n",
    "cursor.execute(query)\n",
    "query2=\"update baby set salary=case when ID=1 then 70000 when ID=2 then 60000 end where ID in(1,2)\" \n",
    "cursor.execute(query2)\n",
    "conn.commit()\n",
    "conn.close()"
   ]
  },
  {
   "cell_type": "code",
   "execution_count": 174,
   "id": "ba55c2a1",
   "metadata": {},
   "outputs": [
    {
     "name": "stdout",
     "output_type": "stream",
     "text": [
      "minimum: 60000\n",
      "maximunm: 70000\n",
      "sum: 130000\n",
      "average 65000.0\n",
      "count: 2\n"
     ]
    }
   ],
   "source": [
    "#multirow functions\n",
    "conn=sqlite3.connect(\"E:\\\\DBMS\\\\table2.sqlite\")\n",
    "cursor=conn.cursor()\n",
    "for i in cursor.execute(\"select min(salary),max(salary),sum(salary),AVG(salary),count(salary) from baby\"):\n",
    "    print(\"minimum:\",i[0])\n",
    "    print(\"maximunm:\",i[1])\n",
    "    print(\"sum:\",i[2])\n",
    "    print(\"average\",i[3])\n",
    "    print(\"count:\",i[4])\n",
    "conn.close()"
   ]
  },
  {
   "cell_type": "code",
   "execution_count": 183,
   "id": "ee7782c1",
   "metadata": {},
   "outputs": [
    {
     "name": "stdout",
     "output_type": "stream",
     "text": [
      "table created!!!!\n"
     ]
    }
   ],
   "source": [
    "#creating new table for groupby statement\n",
    "conn=sqlite3.connect(\"E:\\\\DBMS\\\\table2.sqlite\")\n",
    "cursor=conn.cursor()\n",
    "query='''\n",
    "create table baby6(\n",
    " EMP_ID not null unique primary key,\n",
    " EMP_NAME varchar(20),\n",
    " CITY varchar(20),\n",
    " SALARY numeric(6)\n",
    ");\n",
    "'''\n",
    "cursor.execute(query)\n",
    "print(\"table created!!!!\")\n",
    "#inseting values into the table\n",
    "cursor.execute(\"INSERT INTO baby6 values(6860,'karthik','chennai',150000)\")\n",
    "cursor.execute(\"INSERT INTO baby6 values(6862,'Reshma','chennai',100000)\")\n",
    "cursor.execute(\"INSERT INTO baby6 values(6868,'mani','madurai',50000)\")\n",
    "cursor.execute(\"INSERT INTO baby6 values(6876,'Rajesh','salem',60000)\")\n",
    "cursor.execute(\"INSERT INTO baby6 values(6877,'raj','madurai',230000)\")\n",
    "cursor.execute(\"INSERT INTO baby6 values(6879,'kalam','coimbatore',10000)\")\n",
    "cursor.execute(\"INSERT INTO baby6 values(6859,'Azula','salem',18000)\")\n",
    "cursor.execute(\"INSERT INTO baby6 values(6855,'Bala','coimbatore',20000)\")\n",
    "cursor.execute(\"INSERT INTO baby6 values(6832,'gani','salem',64000)\")\n",
    "cursor.execute(\"INSERT INTO baby6 values(6822,'Abi','chennai',70000)\")\n",
    "conn.commit()\n",
    "conn.close()"
   ]
  },
  {
   "cell_type": "code",
   "execution_count": 185,
   "id": "08388c71",
   "metadata": {},
   "outputs": [
    {
     "name": "stdout",
     "output_type": "stream",
     "text": [
      "[('chennai', 106666.66666666667), ('coimbatore', 15000.0), ('madurai', 140000.0), ('salem', 47333.333333333336)]\n"
     ]
    }
   ],
   "source": [
    "#finding each city Average salary using groupby clause\n",
    "conn=sqlite3.connect(\"E:\\\\DBMS\\\\table2.sqlite\")\n",
    "cursor=conn.cursor()\n",
    "query='''\n",
    "select CITY,avg(SALARY)\n",
    "from baby6\n",
    "group by CITY\n",
    "'''\n",
    "cursor.execute(query)\n",
    "data=cursor.fetchall()\n",
    "print(data)\n",
    "conn.close()"
   ]
  },
  {
   "cell_type": "code",
   "execution_count": 207,
   "id": "39b72b1a",
   "metadata": {},
   "outputs": [
    {
     "name": "stdout",
     "output_type": "stream",
     "text": [
      "[(6860, 'karthik', 'chennai', 150000), (6862, 'Reshma', 'chennai', 100000)]\n"
     ]
    }
   ],
   "source": [
    "#finding whoever getting morethan 100000 salary and living in chennai\n",
    "conn=sqlite3.connect(\"E:\\\\DBMS\\\\table2.sqlite\")\n",
    "cursor=conn.cursor()\n",
    "query='''\n",
    "select * from baby6 where SALARY in (select SALARY from baby6 where SALARY>=100000 and CITY='chennai')\n",
    "'''\n",
    "cursor.execute(query)\n",
    "data=cursor.fetchall()\n",
    "print(data)\n",
    "conn.close()"
   ]
  },
  {
   "cell_type": "code",
   "execution_count": 209,
   "id": "1f2be192",
   "metadata": {},
   "outputs": [
    {
     "name": "stdout",
     "output_type": "stream",
     "text": [
      "[(6868, 'mani', 'madurai', 50000)]\n"
     ]
    }
   ],
   "source": [
    "#finding whoever staying in madurai and getting sla\n",
    "conn=sqlite3.connect(\"E:\\\\DBMS\\\\table2.sqlite\")\n",
    "cursor=conn.cursor()\n",
    "query='''\n",
    "select * from baby6 where salary in (select SALARY from baby6 where CITY='madurai' and SALARY=50000)\n",
    "'''\n",
    "cursor.execute(query)\n",
    "data=cursor.fetchall()\n",
    "print(data)\n",
    "conn.close()"
   ]
  },
  {
   "cell_type": "code",
   "execution_count": 210,
   "id": "46da7a36",
   "metadata": {},
   "outputs": [
    {
     "name": "stdout",
     "output_type": "stream",
     "text": [
      "[('KARTHIK', 'karthik'), ('KARTHIK', 'Reshma'), ('KARTHIK', 'mani'), ('KARTHIK', 'Rajesh'), ('KARTHIK', 'raj'), ('KARTHIK', 'kalam'), ('KARTHIK', 'Azula'), ('KARTHIK', 'Bala'), ('KARTHIK', 'gani'), ('KARTHIK', 'Abi'), ('RESHMA', 'karthik'), ('RESHMA', 'Reshma'), ('RESHMA', 'mani'), ('RESHMA', 'Rajesh'), ('RESHMA', 'raj'), ('RESHMA', 'kalam'), ('RESHMA', 'Azula'), ('RESHMA', 'Bala'), ('RESHMA', 'gani'), ('RESHMA', 'Abi')]\n"
     ]
    }
   ],
   "source": [
    "#cartision join or cross join\n",
    "conn=sqlite3.connect(\"E:\\\\DBMS\\\\table2.sqlite\")\n",
    "cursor=conn.cursor()\n",
    "query='''\n",
    "select NAME,EMP_NAME from baby,baby6\n",
    "'''\n",
    "cursor.execute(query)\n",
    "data=cursor.fetchall()\n",
    "print(data)\n",
    "conn.close()"
   ]
  },
  {
   "cell_type": "code",
   "execution_count": 212,
   "id": "b34c9b48",
   "metadata": {},
   "outputs": [
    {
     "name": "stdout",
     "output_type": "stream",
     "text": [
      "[('KARTHIK', 'karthik')]\n"
     ]
    }
   ],
   "source": [
    "#innerjoin\n",
    "conn=sqlite3.connect(\"E:\\\\DBMS\\\\table2.sqlite\")\n",
    "cursor=conn.cursor()\n",
    "query='''\n",
    "select baby.NAME,baby6.EMP_NAME from baby,baby6 where baby.CODE=baby6.EMP_ID\n",
    "'''\n",
    "cursor.execute(query)\n",
    "data=cursor.fetchall()\n",
    "print(data)\n",
    "conn.close()"
   ]
  },
  {
   "cell_type": "code",
   "execution_count": 220,
   "id": "c5b34431",
   "metadata": {},
   "outputs": [
    {
     "name": "stdout",
     "output_type": "stream",
     "text": [
      "[('KARTHIK', 'karthik'), ('RESHMA', None)]\n"
     ]
    }
   ],
   "source": [
    "#leftouterjoin\n",
    "conn=sqlite3.connect(\"E:\\\\DBMS\\\\table2.sqlite\")\n",
    "cursor=conn.cursor()\n",
    "query='''\n",
    "select baby.NAME,baby6.EMP_NAME from baby left outer join baby6 on baby.CODE=baby6.EMP_ID\n",
    "'''\n",
    "cursor.execute(query)\n",
    "data=cursor.fetchall()\n",
    "print(data)\n",
    "conn.close()"
   ]
  },
  {
   "cell_type": "code",
   "execution_count": 221,
   "id": "2bcedabd",
   "metadata": {},
   "outputs": [
    {
     "name": "stdout",
     "output_type": "stream",
     "text": [
      "[('KARTHIK', 'karthik'), (None, 'Reshma'), (None, 'mani'), (None, 'Rajesh'), (None, 'raj'), (None, 'kalam'), (None, 'Azula'), (None, 'Bala'), (None, 'gani'), (None, 'Abi')]\n"
     ]
    }
   ],
   "source": [
    "#rightouterjoin\n",
    "conn=sqlite3.connect(\"E:\\\\DBMS\\\\table2.sqlite\")\n",
    "cursor=conn.cursor()\n",
    "query='''\n",
    "select baby.NAME,baby6.EMP_NAME from baby right outer join baby6 on baby.CODE=baby6.EMP_ID\n",
    "'''\n",
    "cursor.execute(query)\n",
    "data=cursor.fetchall()\n",
    "print(data)\n",
    "conn.close()"
   ]
  },
  {
   "cell_type": "code",
   "execution_count": 222,
   "id": "b60fc7b2",
   "metadata": {},
   "outputs": [
    {
     "name": "stdout",
     "output_type": "stream",
     "text": [
      "[('KARTHIK', 'karthik'), ('RESHMA', None), (None, 'Reshma'), (None, 'mani'), (None, 'Rajesh'), (None, 'raj'), (None, 'kalam'), (None, 'Azula'), (None, 'Bala'), (None, 'gani'), (None, 'Abi')]\n"
     ]
    }
   ],
   "source": [
    "#full outer join\n",
    "conn=sqlite3.connect(\"E:\\\\DBMS\\\\table2.sqlite\")\n",
    "cursor=conn.cursor()\n",
    "query='''\n",
    "select baby.NAME,baby6.EMP_NAME from baby full outer join baby6 on baby.CODE=baby6.EMP_ID\n",
    "'''\n",
    "cursor.execute(query)\n",
    "data=cursor.fetchall()\n",
    "print(data)\n",
    "conn.close()"
   ]
  },
  {
   "cell_type": "code",
   "execution_count": 228,
   "id": "89189dd8",
   "metadata": {},
   "outputs": [],
   "source": [
    "#creating a table for selfjoin\n",
    "conn=sqlite3.connect(\"E:\\\\DBMS\\\\table2.sqlite\")\n",
    "cursor=conn.cursor()\n",
    "query='''\n",
    "create table baby7 AS select * from baby6\n",
    "'''\n",
    "cursor.execute(query)\n",
    "#add code column into the table\n",
    "query2=\"alter table baby7 add COMPANY_CODE numeric(4)\"\n",
    "cursor.execute(query2)\n",
    "#add values into the COMPANY_CODE column of bab7 table\n",
    "query3=\"update baby7 set COMPANY_CODE=6860 where EMP_ID in(6860,6868)\"\n",
    "cursor.execute(query3)\n",
    "query4=\"update baby7 set COMPANY_CODE=6822 where EMP_ID in(6855,6859)\"\n",
    "cursor.execute(query4)\n",
    "conn.commit()\n",
    "conn.close()"
   ]
  },
  {
   "cell_type": "code",
   "execution_count": 234,
   "id": "7363dd68",
   "metadata": {},
   "outputs": [
    {
     "name": "stdout",
     "output_type": "stream",
     "text": [
      "[('karthik', 'chennai'), ('mani', 'chennai'), ('Azula', 'chennai'), ('Bala', 'chennai')]\n"
     ]
    }
   ],
   "source": [
    "#self join\n",
    "conn=sqlite3.connect(\"E:\\\\DBMS\\\\table2.sqlite\")\n",
    "cursor=conn.cursor()\n",
    "query='''\n",
    "select e.EMP_NAME,c.CITY from baby7 e,baby7 c where e.COMPANY_CODE=c.EMP_ID\n",
    "'''\n",
    "cursor.execute(query)\n",
    "data=cursor.fetchall()\n",
    "print(data)\n",
    "conn.close()"
   ]
  },
  {
   "cell_type": "code",
   "execution_count": 238,
   "id": "af666aa5",
   "metadata": {},
   "outputs": [
    {
     "name": "stdout",
     "output_type": "stream",
     "text": [
      "[('salem', 142000)]\n"
     ]
    }
   ],
   "source": [
    "#having clause\n",
    "#finding the each city total sum value salary and display only which city has lenght of 5\n",
    "conn=sqlite3.connect(\"E:\\\\DBMS\\\\table2.sqlite\")\n",
    "cursor=conn.cursor()\n",
    "query='''\n",
    "select CITY,SUM(SALARY)\n",
    "from baby6 \n",
    "group by CITY\n",
    "having length(city)=5\n",
    "'''\n",
    "cursor.execute(query)\n",
    "data=cursor.fetchall()\n",
    "print(data)\n",
    "conn.close()"
   ]
  },
  {
   "cell_type": "code",
   "execution_count": 239,
   "id": "774e5c3e",
   "metadata": {},
   "outputs": [
    {
     "name": "stdout",
     "output_type": "stream",
     "text": [
      "[('karthik',), ('Reshma',), ('mani',), ('Rajesh',), ('raj',), ('kalam',), ('Azula',), ('Bala',), ('gani',), ('Abi',)]\n"
     ]
    }
   ],
   "source": [
    "#Aliases name\n",
    "conn=sqlite3.connect(\"E:\\\\DBMS\\\\table2.sqlite\")\n",
    "cursor=conn.cursor()\n",
    "query='''\n",
    "select EMP_NAME as name from baby6\n",
    "'''\n",
    "cursor.execute(query)\n",
    "data=cursor.fetchall()\n",
    "print(data)\n",
    "conn.close()"
   ]
  },
  {
   "cell_type": "code",
   "execution_count": 253,
   "id": "8665a698",
   "metadata": {},
   "outputs": [
    {
     "name": "stdout",
     "output_type": "stream",
     "text": [
      "[('karthik', 150000, 'Morethan 100000 rupess'), ('Reshma', 100000, 'equalto 100000 rupees'), ('mani', 50000, 'lessthan 100000 rupees'), ('Rajesh', 60000, 'lessthan 100000 rupees'), ('raj', 230000, 'Morethan 100000 rupess'), ('kalam', 10000, 'lessthan 100000 rupees'), ('Azula', 18000, 'lessthan 100000 rupees'), ('Bala', 20000, 'lessthan 100000 rupees'), ('gani', 64000, 'lessthan 100000 rupees'), ('Abi', 70000, 'lessthan 100000 rupees')]\n"
     ]
    }
   ],
   "source": [
    "#case expression\n",
    "#find the salary whoever getting morethan 100000 ruppes and lessthan 10000 rupees,equalto 10000 rupees\n",
    "conn=sqlite3.connect(\"E:\\\\DBMS\\\\table2.sqlite\")\n",
    "cursor=conn.cursor()\n",
    "query='''\n",
    "select EMP_NAME,SALARY,\n",
    "case\n",
    "when SALARY>100000 then \"Morethan 100000 rupess\"\n",
    "when SALARY=100000 then \"equalto 100000 rupees\"\n",
    "else \"lessthan 100000 rupees\"\n",
    "end\n",
    "from baby6\n",
    "'''\n",
    "cursor.execute(query)\n",
    "data=cursor.fetchall()\n",
    "print(data)\n",
    "conn.close()"
   ]
  },
  {
   "cell_type": "code",
   "execution_count": 259,
   "id": "8bcb32e5",
   "metadata": {},
   "outputs": [
    {
     "name": "stdout",
     "output_type": "stream",
     "text": [
      "[('karthik',), ('Reshma',), ('mani',), ('Rajesh',), ('raj',), ('kalam',), ('Azula',), ('Bala',), ('gani',), ('Abi',)]\n",
      "[('karthik',), ('Reshma',), ('mani',), ('Rajesh',), ('raj',), ('kalam',), ('Azula',), ('Bala',), ('gani',), ('Abi',)]\n"
     ]
    }
   ],
   "source": [
    "#comments\n",
    "conn=sqlite3.connect(\"E:\\\\DBMS\\\\table2.sqlite\")\n",
    "cursor=conn.cursor()\n",
    "query='''\n",
    "select EMP_NAME from baby6 --where EMP_ID=6860\n",
    "'''\n",
    "cursor.execute(query)\n",
    "data=cursor.fetchall()\n",
    "print(data)\n",
    "query1='''\n",
    "select EMP_NAME from baby6\n",
    "/*\n",
    "where EMP_ID=6860 \n",
    "order by SALARY*/\n",
    "'''\n",
    "cursor.execute(query1)\n",
    "data1=cursor.fetchall()\n",
    "print(data1)\n",
    "conn.close()"
   ]
  },
  {
   "cell_type": "code",
   "execution_count": 263,
   "id": "4d28d0a3",
   "metadata": {},
   "outputs": [
    {
     "ename": "OperationalError",
     "evalue": "near \"into\": syntax error",
     "output_type": "error",
     "traceback": [
      "\u001b[1;31m---------------------------------------------------------------------------\u001b[0m",
      "\u001b[1;31mOperationalError\u001b[0m                          Traceback (most recent call last)",
      "Cell \u001b[1;32mIn[263], line 8\u001b[0m\n\u001b[0;32m      4\u001b[0m cursor\u001b[38;5;241m=\u001b[39mconn\u001b[38;5;241m.\u001b[39mcursor()\n\u001b[0;32m      5\u001b[0m query\u001b[38;5;241m=\u001b[39m\u001b[38;5;124m'''\u001b[39m\n\u001b[0;32m      6\u001b[0m \u001b[38;5;124mselect  * into chennai from baby6 where CITY=\u001b[39m\u001b[38;5;124m'\u001b[39m\u001b[38;5;124mchennai\u001b[39m\u001b[38;5;124m'\u001b[39m\n\u001b[0;32m      7\u001b[0m \u001b[38;5;124m'''\u001b[39m\n\u001b[1;32m----> 8\u001b[0m \u001b[43mcursor\u001b[49m\u001b[38;5;241;43m.\u001b[39;49m\u001b[43mexecute\u001b[49m\u001b[43m(\u001b[49m\u001b[43mquery\u001b[49m\u001b[43m)\u001b[49m\n\u001b[0;32m      9\u001b[0m \u001b[38;5;28mprint\u001b[39m(\u001b[38;5;124m\"\u001b[39m\u001b[38;5;124mtable created!!!\u001b[39m\u001b[38;5;124m\"\u001b[39m)\n\u001b[0;32m     10\u001b[0m conn\u001b[38;5;241m.\u001b[39mcommit()\n",
      "\u001b[1;31mOperationalError\u001b[0m: near \"into\": syntax error"
     ]
    }
   ],
   "source": [
    "#select into statement\n",
    "#copy the data who are working in chennai to new table\n",
    "conn=sqlite3.connect(\"E:\\\\DBMS\\\\table2.sqlite\")\n",
    "cursor=conn.cursor()\n",
    "query='''\n",
    "select  * into chennai from baby6 where CITY='chennai'\n",
    "'''\n",
    "cursor.execute(query)\n",
    "print(\"table created!!!\")\n",
    "conn.commit()\n",
    "conn.close()\n",
    "#in sqlite not support select into statement"
   ]
  },
  {
   "cell_type": "code",
   "execution_count": 264,
   "id": "d3a1c706",
   "metadata": {},
   "outputs": [
    {
     "name": "stdout",
     "output_type": "stream",
     "text": [
      "table created!!!\n"
     ]
    }
   ],
   "source": [
    "#if we want to make chennai tbale we can use below code\n",
    "conn=sqlite3.connect(\"E:\\\\DBMS\\\\table2.sqlite\")\n",
    "cursor=conn.cursor()\n",
    "query='''\n",
    "create table chennai as select  * from baby6 where CITY='chennai'\n",
    "'''\n",
    "cursor.execute(query)\n",
    "print(\"table created!!!\")\n",
    "conn.commit()\n",
    "conn.close()"
   ]
  },
  {
   "cell_type": "code",
   "execution_count": 266,
   "id": "4a939b1b",
   "metadata": {},
   "outputs": [],
   "source": [
    "#insert into select statement\n",
    "#copy baby6 table madurai city rows to chennai table\n",
    "conn=sqlite3.connect(\"E:\\\\DBMS\\\\table2.sqlite\")\n",
    "cursor=conn.cursor()\n",
    "query='''\n",
    "insert into chennai\n",
    "select * from baby6\n",
    "where CITY='madurai'\n",
    "'''\n",
    "cursor.execute(query)\n",
    "conn.commit()\n",
    "conn.close()"
   ]
  },
  {
   "cell_type": "code",
   "execution_count": 275,
   "id": "2612b9e5",
   "metadata": {},
   "outputs": [
    {
     "name": "stdout",
     "output_type": "stream",
     "text": [
      "[('karthik', 1), ('Reshma', 2), ('mani', 3), ('Rajesh', 4), ('raj', 5), ('kalam', 6), ('Azula', 7), ('Bala', 8), ('gani', 9), ('Abi', 10)]\n"
     ]
    }
   ],
   "source": [
    "#rownum\n",
    "conn=sqlite3.connect(\"E:\\\\DBMS\\\\table2.sqlite\")\n",
    "cursor=conn.cursor()\n",
    "query='''\n",
    "select EMP_NAME,ROWid FROM baby6\n",
    "'''\n",
    "cursor.execute(query)\n",
    "data=cursor.fetchall()\n",
    "print(data)\n",
    "conn.close()"
   ]
  },
  {
   "cell_type": "code",
   "execution_count": 279,
   "id": "c7fea162",
   "metadata": {},
   "outputs": [
    {
     "name": "stdout",
     "output_type": "stream",
     "text": [
      "[('karthik',)]\n"
     ]
    }
   ],
   "source": [
    "#core related subquries (exists)\n",
    "conn=sqlite3.connect(\"E:\\\\DBMS\\\\table2.sqlite\")\n",
    "cursor=conn.cursor()\n",
    "query='''\n",
    "select EMP_NAME from baby6 where exists(select CODE from baby where baby.CODE=baby6.EMP_ID)\n",
    "'''\n",
    "cursor.execute(query)\n",
    "data=cursor.fetchall()\n",
    "print(data)\n",
    "conn.close()"
   ]
  },
  {
   "cell_type": "code",
   "execution_count": 280,
   "id": "b1a55ae8",
   "metadata": {},
   "outputs": [
    {
     "name": "stdout",
     "output_type": "stream",
     "text": [
      "[('Reshma',), ('mani',), ('Rajesh',), ('raj',), ('kalam',), ('Azula',), ('Bala',), ('gani',), ('Abi',)]\n"
     ]
    }
   ],
   "source": [
    "#core related subquries (not exists)\n",
    "conn=sqlite3.connect(\"E:\\\\DBMS\\\\table2.sqlite\")\n",
    "cursor=conn.cursor()\n",
    "query='''\n",
    "select EMP_NAME from baby6 where not exists(select CODE from baby where baby.CODE=baby6.EMP_ID)\n",
    "'''\n",
    "cursor.execute(query)\n",
    "data=cursor.fetchall()\n",
    "print(data)\n",
    "conn.close()"
   ]
  },
  {
   "cell_type": "code",
   "execution_count": 3,
   "id": "4ce5d08d",
   "metadata": {},
   "outputs": [
    {
     "name": "stdout",
     "output_type": "stream",
     "text": [
      "[('2023-10-07',)]\n"
     ]
    }
   ],
   "source": [
    "#how to display the date\n",
    "import sqlite3\n",
    "conn=sqlite3.connect(\"E:\\\\DBMS\\\\table2.sqlite\")\n",
    "cursor=conn.cursor()\n",
    "query='''\n",
    "select date('now')\n",
    "'''\n",
    "cursor.execute(query)\n",
    "data=cursor.fetchall()\n",
    "print(data)\n",
    "conn.close()"
   ]
  },
  {
   "cell_type": "code",
   "execution_count": 4,
   "id": "990ab8be",
   "metadata": {},
   "outputs": [
    {
     "name": "stdout",
     "output_type": "stream",
     "text": [
      "[('2023-10-07 14:31:49',)]\n"
     ]
    }
   ],
   "source": [
    "#how to display the date and time\n",
    "import sqlite3\n",
    "conn=sqlite3.connect(\"E:\\\\DBMS\\\\table2.sqlite\")\n",
    "cursor=conn.cursor()\n",
    "query='''\n",
    "select datetime('now')\n",
    "'''\n",
    "cursor.execute(query)\n",
    "data=cursor.fetchall()\n",
    "print(data)\n",
    "conn.close()"
   ]
  },
  {
   "cell_type": "code",
   "execution_count": null,
   "id": "efd8cd0c",
   "metadata": {},
   "outputs": [],
   "source": [
    "#date related sqllite commands\n",
    "'''\n",
    "--displaying date as we given date format\n",
    "--select strftime('%Y-%m-%d %H:%M:%S','now')\n",
    "\n",
    "--to find  start of the current month \n",
    "--select strftime('%Y-%m-%d %H:%M:%S','now','start of month')\n",
    "\n",
    "--finding after 6 days later date \n",
    "--select strftime('%Y-%m-%d','2023-10-08','6 days')\n",
    "\n",
    "--using alias name to display date\n",
    "--select strftime('%Y-%m-%d','2023-10-11','10 days') as 'Date';\n",
    "\n",
    "--finding 5 days before date\n",
    "--select strftime('%Y-%m-%d','2023-10-11','-5 days')\n",
    "\n",
    "--display before 6 day from start of month\n",
    "--select strftime('%Y-%m-%d','2023-10-08','start of month','-6 days')\n",
    "\n",
    "--how to find out end of month\n",
    "--select date('now','start of month','+1 month','-1 day')\n",
    "\n",
    "--find next month and display 5 days later from next month\n",
    "--select strftime('%Y-%m-%d','2023-10-08','start of month','+1 month','5 days') as 'Date';\n",
    "\n",
    "/*The Julian Day (JD) is a continuous count of days since the beginning of the Julian Period, which started on January 1, 4713 BC (BCE) in the Julian calendar. \n",
    "It's a widely used system for specifying a date and time as a single integer number, particularly in astronomy and other scientific applications.*/\n",
    "--select julianday('now') as 'julianday';\n",
    "--select julianday('now','start of month') as 'julianday';\n",
    "\n",
    "\n",
    "'''"
   ]
  },
  {
   "cell_type": "code",
   "execution_count": null,
   "id": "612216ef",
   "metadata": {},
   "outputs": [],
   "source": [
    "#delete the row using delete command\n",
    "#delete from baby where Empid=6860(it's delete the row which has empid 6860)"
   ]
  },
  {
   "cell_type": "code",
   "execution_count": 4,
   "id": "47769e33",
   "metadata": {},
   "outputs": [
    {
     "name": "stdout",
     "output_type": "stream",
     "text": [
      "[(6860, 'karthik', 'chennai', 150000), (6862, 'Reshma', 'chennai', 100000), (6868, 'mani', 'madurai', 50000)]\n"
     ]
    }
   ],
   "source": [
    "#limit-limit clause is used to limit the data amount fetched by Select  command from a table\n",
    "import sqlite3\n",
    "conn=sqlite3.connect(\"E:\\\\DBMS\\\\table2.sqlite\")\n",
    "cursor=conn.cursor()\n",
    "query=\"select * from baby6 limit 3\"\n",
    "cursor.execute(query)\n",
    "data=cursor.fetchall()\n",
    "print(data)\n",
    "conn.close()\n",
    "#it will fetch rows as we given limit"
   ]
  },
  {
   "cell_type": "code",
   "execution_count": 3,
   "id": "521c3c0e",
   "metadata": {},
   "outputs": [
    {
     "name": "stdout",
     "output_type": "stream",
     "text": [
      "[(6822, 'Abi', 'chennai', 70000), (6832, 'gani', 'salem', 64000), (6855, 'Bala', 'coimbatore', 20000), (6859, 'Azula', 'salem', 18000), (6860, 'karthik', 'chennai', 150000), (6862, 'Reshma', 'chennai', 100000), (6868, 'mani', 'madurai', 50000), (6876, 'Rajesh', 'salem', 60000), (6877, 'raj', 'madurai', 230000), (6879, 'kalam', 'coimbatore', 10000)]\n"
     ]
    }
   ],
   "source": [
    "#note=before performing union,unionall,inntersect,except,make sure both tables columns and rows should be same\n",
    "#union-It is used to Combine the two tables and give only non-dublicate rows from both tables\n",
    "import sqlite3\n",
    "conn=sqlite3.connect(\"E:\\\\DBMS\\\\table2.sqlite\")\n",
    "cursor=conn.cursor()\n",
    "query='''select * from baby6\n",
    "union\n",
    "select * from chennai\n",
    "'''\n",
    "cursor.execute(query)\n",
    "data=cursor.fetchall()\n",
    "print(data)\n",
    "conn.close()"
   ]
  },
  {
   "cell_type": "code",
   "execution_count": 4,
   "id": "256d9b79",
   "metadata": {},
   "outputs": [
    {
     "name": "stdout",
     "output_type": "stream",
     "text": [
      "[(6860, 'karthik', 'chennai', 150000), (6862, 'Reshma', 'chennai', 100000), (6868, 'mani', 'madurai', 50000), (6876, 'Rajesh', 'salem', 60000), (6877, 'raj', 'madurai', 230000), (6879, 'kalam', 'coimbatore', 10000), (6859, 'Azula', 'salem', 18000), (6855, 'Bala', 'coimbatore', 20000), (6832, 'gani', 'salem', 64000), (6822, 'Abi', 'chennai', 70000), (6860, 'karthik', 'chennai', 150000), (6862, 'Reshma', 'chennai', 100000), (6822, 'Abi', 'chennai', 70000), (6868, 'mani', 'madurai', 50000), (6877, 'raj', 'madurai', 230000)]\n"
     ]
    }
   ],
   "source": [
    "#union all-It is used to Combine the two tables and give all rows from both tables even dublicate rows\n",
    "import sqlite3\n",
    "conn=sqlite3.connect(\"E:\\\\DBMS\\\\table2.sqlite\")\n",
    "cursor=conn.cursor()\n",
    "query='''select * from baby6\n",
    "union all\n",
    "select * from chennai\n",
    "'''\n",
    "cursor.execute(query)\n",
    "data=cursor.fetchall()\n",
    "print(data)\n",
    "conn.close()"
   ]
  },
  {
   "cell_type": "code",
   "execution_count": 5,
   "id": "d35df612",
   "metadata": {},
   "outputs": [
    {
     "name": "stdout",
     "output_type": "stream",
     "text": [
      "[(6822, 'Abi', 'chennai', 70000), (6860, 'karthik', 'chennai', 150000), (6862, 'Reshma', 'chennai', 100000), (6868, 'mani', 'madurai', 50000), (6877, 'raj', 'madurai', 230000)]\n"
     ]
    }
   ],
   "source": [
    "#intersect-It is used to fetch only common values from both tables\n",
    "import sqlite3\n",
    "conn=sqlite3.connect(\"E:\\\\DBMS\\\\table2.sqlite\")\n",
    "cursor=conn.cursor()\n",
    "query='''select * from baby6\n",
    "intersect\n",
    "select * from chennai\n",
    "'''\n",
    "cursor.execute(query)\n",
    "data=cursor.fetchall()\n",
    "print(data)\n",
    "conn.close()"
   ]
  },
  {
   "cell_type": "code",
   "execution_count": 7,
   "id": "3f84728e",
   "metadata": {},
   "outputs": [
    {
     "name": "stdout",
     "output_type": "stream",
     "text": [
      "[(6832, 'gani', 'salem', 64000), (6855, 'Bala', 'coimbatore', 20000), (6859, 'Azula', 'salem', 18000), (6876, 'Rajesh', 'salem', 60000), (6879, 'kalam', 'coimbatore', 10000)]\n"
     ]
    }
   ],
   "source": [
    "#except(like a difference in python)-table1 will compare with table2 and give only non duplicate value from table1\n",
    "import sqlite3\n",
    "conn=sqlite3.connect(\"E:\\\\DBMS\\\\table2.sqlite\")\n",
    "cursor=conn.cursor()\n",
    "query='''select * from baby6\n",
    "except\n",
    "select * from chennai\n",
    "'''\n",
    "cursor.execute(query)\n",
    "data=cursor.fetchall()\n",
    "print(data)\n",
    "conn.close()"
   ]
  },
  {
   "cell_type": "code",
   "execution_count": 22,
   "id": "fdb7e501",
   "metadata": {},
   "outputs": [
    {
     "name": "stdout",
     "output_type": "stream",
     "text": [
      "[]\n"
     ]
    }
   ],
   "source": [
    "#symmentric difference-it's print all two tables value except what values are same in both tables.\n",
    "import sqlite3\n",
    "conn=sqlite3.connect(\"E:\\\\DBMS\\\\table2.sqlite\")\n",
    "cursor=conn.cursor()\n",
    "query1= '''\n",
    "    SELECT * FROM baby6\n",
    "    EXCEPT\n",
    "    SELECT * FROM baby3\n",
    "    '''\n",
    "query2='''\n",
    "    SELECT * FROM baby3\n",
    "    EXCEPT\n",
    "    SELECT * FROM baby6\n",
    "    '''\n",
    "final_query=f'{query1} union {query2}'\n",
    "cursor.execute(final_query)\n",
    "data=cursor.fetchall()\n",
    "print(data)\n",
    "conn.close()\n",
    "#note:above mentioned method was not working so we used next cell sqlite code for symmetric difference."
   ]
  },
  {
   "cell_type": "code",
   "execution_count": 19,
   "id": "bc2b5b29",
   "metadata": {},
   "outputs": [],
   "source": [
    "#sqlite direct query\n",
    "-- Create a temporary table to store the symmetric difference\n",
    "-- between baby6 and chennai\n",
    "CREATE TEMP TABLE temp_diff AS\n",
    "SELECT * FROM baby6\n",
    "EXCEPT\n",
    "SELECT * FROM chennai;\n",
    "\n",
    "-- Add rows from chennai that are not in baby6 to the temporary table\n",
    "INSERT INTO temp_diff\n",
    "SELECT * FROM chennai\n",
    "EXCEPT\n",
    "SELECT * FROM baby6;\n",
    "\n",
    "-- Select the symmetric difference from the temporary table\n",
    "SELECT * FROM temp_diff;\n",
    "\n",
    "-- Drop the temporary table when done\n",
    "DROP TABLE temp_diff;\n"
   ]
  },
  {
   "cell_type": "code",
   "execution_count": null,
   "id": "7027e591",
   "metadata": {},
   "outputs": [],
   "source": []
  },
  {
   "cell_type": "code",
   "execution_count": 28,
   "id": "c98f7812",
   "metadata": {},
   "outputs": [
    {
     "name": "stdout",
     "output_type": "stream",
     "text": [
      "[(6832, 'gani', 'salem', 64000), (6855, 'Bala', 'coimbatore', 20000), (6859, 'Azula', 'salem', 18000), (6876, 'Rajesh', 'salem', 60000), (6879, 'kalam', 'coimbatore', 10000)]\n"
     ]
    }
   ],
   "source": [
    "#using python sqlite3 modukle ,we displaying symmetric_difference\n",
    "import sqlite3\n",
    "\n",
    "# Connect to the SQLite database\n",
    "conn = sqlite3.connect(\"E:\\\\DBMS\\\\table2.sqlite\")\n",
    "cursor = conn.cursor()\n",
    "\n",
    "# Step 1: Create a temporary table to store the symmetric difference\n",
    "query1 = '''\n",
    "    CREATE TEMP TABLE temp_ta AS\n",
    "    SELECT * FROM baby6\n",
    "    EXCEPT\n",
    "    SELECT * FROM chennai\n",
    "    '''\n",
    "cursor.execute(query1)\n",
    "\n",
    "# Step 2: Add rows from chennai that are not in baby6 to the temporary table\n",
    "query2 = '''\n",
    "    INSERT INTO temp_ta\n",
    "    SELECT * FROM chennai\n",
    "    EXCEPT\n",
    "    SELECT * FROM baby6\n",
    "    '''\n",
    "cursor.execute(query2)\n",
    "\n",
    "# Commit the changes to the database\n",
    "conn.commit()\n",
    "\n",
    "# Step 3: Select the symmetric difference from the temporary table\n",
    "query3 = 'SELECT * FROM temp_ta'\n",
    "cursor.execute(query3)\n",
    "data = cursor.fetchall()\n",
    "print(data)\n",
    "\n",
    "# Close the database connection\n",
    "conn.close()\n"
   ]
  },
  {
   "cell_type": "code",
   "execution_count": 1,
   "id": "30563bb3",
   "metadata": {},
   "outputs": [
    {
     "data": {
      "text/html": [
       "<div>\n",
       "<style scoped>\n",
       "    .dataframe tbody tr th:only-of-type {\n",
       "        vertical-align: middle;\n",
       "    }\n",
       "\n",
       "    .dataframe tbody tr th {\n",
       "        vertical-align: top;\n",
       "    }\n",
       "\n",
       "    .dataframe thead th {\n",
       "        text-align: right;\n",
       "    }\n",
       "</style>\n",
       "<table border=\"1\" class=\"dataframe\">\n",
       "  <thead>\n",
       "    <tr style=\"text-align: right;\">\n",
       "      <th></th>\n",
       "      <th>EMP_ID</th>\n",
       "      <th>EMP_NAME</th>\n",
       "      <th>CITY</th>\n",
       "      <th>SALARY</th>\n",
       "    </tr>\n",
       "  </thead>\n",
       "  <tbody>\n",
       "    <tr>\n",
       "      <th>0</th>\n",
       "      <td>6860</td>\n",
       "      <td>karthik</td>\n",
       "      <td>chennai</td>\n",
       "      <td>150000</td>\n",
       "    </tr>\n",
       "    <tr>\n",
       "      <th>1</th>\n",
       "      <td>6862</td>\n",
       "      <td>Reshma</td>\n",
       "      <td>chennai</td>\n",
       "      <td>100000</td>\n",
       "    </tr>\n",
       "    <tr>\n",
       "      <th>2</th>\n",
       "      <td>6868</td>\n",
       "      <td>mani</td>\n",
       "      <td>madurai</td>\n",
       "      <td>50000</td>\n",
       "    </tr>\n",
       "    <tr>\n",
       "      <th>3</th>\n",
       "      <td>6876</td>\n",
       "      <td>Rajesh</td>\n",
       "      <td>salem</td>\n",
       "      <td>60000</td>\n",
       "    </tr>\n",
       "    <tr>\n",
       "      <th>4</th>\n",
       "      <td>6877</td>\n",
       "      <td>raj</td>\n",
       "      <td>madurai</td>\n",
       "      <td>230000</td>\n",
       "    </tr>\n",
       "    <tr>\n",
       "      <th>5</th>\n",
       "      <td>6879</td>\n",
       "      <td>kalam</td>\n",
       "      <td>coimbatore</td>\n",
       "      <td>10000</td>\n",
       "    </tr>\n",
       "    <tr>\n",
       "      <th>6</th>\n",
       "      <td>6859</td>\n",
       "      <td>Azula</td>\n",
       "      <td>salem</td>\n",
       "      <td>18000</td>\n",
       "    </tr>\n",
       "    <tr>\n",
       "      <th>7</th>\n",
       "      <td>6855</td>\n",
       "      <td>Bala</td>\n",
       "      <td>coimbatore</td>\n",
       "      <td>20000</td>\n",
       "    </tr>\n",
       "    <tr>\n",
       "      <th>8</th>\n",
       "      <td>6832</td>\n",
       "      <td>gani</td>\n",
       "      <td>salem</td>\n",
       "      <td>64000</td>\n",
       "    </tr>\n",
       "    <tr>\n",
       "      <th>9</th>\n",
       "      <td>6822</td>\n",
       "      <td>Abi</td>\n",
       "      <td>chennai</td>\n",
       "      <td>70000</td>\n",
       "    </tr>\n",
       "  </tbody>\n",
       "</table>\n",
       "</div>"
      ],
      "text/plain": [
       "   EMP_ID EMP_NAME        CITY  SALARY\n",
       "0    6860  karthik     chennai  150000\n",
       "1    6862   Reshma     chennai  100000\n",
       "2    6868     mani     madurai   50000\n",
       "3    6876   Rajesh       salem   60000\n",
       "4    6877      raj     madurai  230000\n",
       "5    6879    kalam  coimbatore   10000\n",
       "6    6859    Azula       salem   18000\n",
       "7    6855     Bala  coimbatore   20000\n",
       "8    6832     gani       salem   64000\n",
       "9    6822      Abi     chennai   70000"
      ]
     },
     "execution_count": 1,
     "metadata": {},
     "output_type": "execute_result"
    }
   ],
   "source": [
    "#how to read database data by pandas\n",
    "import sqlite3\n",
    "import pandas as pd\n",
    "conn=sqlite3.connect('E:\\\\DBMS\\\\table2.sqlite')#existing data base file\n",
    "data=pd.read_sql_query('select * from baby6',conn)\n",
    "data\n",
    "#here  fetched database data's"
   ]
  },
  {
   "cell_type": "code",
   "execution_count": null,
   "id": "ed3c3eed",
   "metadata": {},
   "outputs": [],
   "source": []
  }
 ],
 "metadata": {
  "kernelspec": {
   "display_name": "Python 3 (ipykernel)",
   "language": "python",
   "name": "python3"
  },
  "language_info": {
   "codemirror_mode": {
    "name": "ipython",
    "version": 3
   },
   "file_extension": ".py",
   "mimetype": "text/x-python",
   "name": "python",
   "nbconvert_exporter": "python",
   "pygments_lexer": "ipython3",
   "version": "3.10.9"
  }
 },
 "nbformat": 4,
 "nbformat_minor": 5
}
