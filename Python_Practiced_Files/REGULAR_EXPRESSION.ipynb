{
 "cells": [
  {
   "cell_type": "markdown",
   "id": "53cfc064",
   "metadata": {},
   "source": [
    "# REGULAR EXPRESSION"
   ]
  },
  {
   "cell_type": "code",
   "execution_count": 51,
   "id": "acd9096d",
   "metadata": {},
   "outputs": [
    {
     "name": "stdout",
     "output_type": "stream",
     "text": [
      "None\n"
     ]
    }
   ],
   "source": [
    "#RegEx-it is used to check if the string has given search pattern\n",
    "import re#RegEx module\n",
    "#match()\n",
    "s=\"karthik is a good boy\"\n",
    "print(re.match('is',s))\n",
    "\n",
    "#'''\n",
    "#if b:\n",
    "   # print(\"Match found\")\n",
    "#else:\n",
    "#    print(\"Match not found\")\n",
    "#'''"
   ]
  },
  {
   "cell_type": "code",
   "execution_count": 36,
   "id": "b19a901b",
   "metadata": {},
   "outputs": [
    {
     "name": "stdout",
     "output_type": "stream",
     "text": [
      "<re.Match object; span=(8, 10), match='is'>\n",
      "8\n",
      "10\n",
      "None\n"
     ]
    }
   ],
   "source": [
    "#search() function-this one give match object\n",
    "s=\"Karthik is a good boy is\"\n",
    "x=re.search('is',s)#even if string has two 'is',it will give first one positon only\n",
    "y=re.search('mani',s)#if searching pattern not available in string,it will give None value\n",
    "print(x)\n",
    "print(x.start())#it's give output as staring position of matching string\n",
    "print(x.end())#it's give output as ending position of matching string\n",
    "print(y)"
   ]
  },
  {
   "cell_type": "code",
   "execution_count": 53,
   "id": "f6047c57",
   "metadata": {},
   "outputs": [
    {
     "name": "stdout",
     "output_type": "stream",
     "text": [
      "<re.Match object; span=(7, 8), match=' '>\n",
      "(0, 7)\n",
      "karthik is a good boy\n",
      "karthik\n"
     ]
    }
   ],
   "source": [
    "#search\n",
    "z=re.search('\\s',s)#'\\s' represent a space\n",
    "print(z)\n",
    "#match objects properties in search\n",
    "#span()-\"it's give output as matching positions\"\n",
    "z1=re.search(\"karthik\",s)\n",
    "print(z1.span())\n",
    "#string=it's give output as full string even unmath and march strigs\n",
    "z2=re.search(\"karthik\",s)\n",
    "print(z2.string)\n",
    "#group()=it's give output as a match string\n",
    "z3=re.search(\"karthik\",s)\n",
    "print(z3.group())"
   ]
  },
  {
   "cell_type": "code",
   "execution_count": 42,
   "id": "f89d5c1e",
   "metadata": {},
   "outputs": [
    {
     "name": "stdout",
     "output_type": "stream",
     "text": [
      "['very', 'very']\n",
      "['baby']\n",
      "['g', 'g', 'g', 'g']\n",
      "[]\n"
     ]
    }
   ],
   "source": [
    "#findall()-this function used to give all match strings as a list\n",
    "s=\"baby is a very good girl and very gorgeous too\"\n",
    "a=re.findall('very',s)\n",
    "a1=re.findall('baby',s)\n",
    "a3=re.findall('g',s)\n",
    "print(a)\n",
    "print(a1)\n",
    "print(a3)\n",
    "#if we nmatch value,it will be empty\n",
    "a2=re.findall('karthik',s)\n",
    "print(a2)"
   ]
  },
  {
   "cell_type": "code",
   "execution_count": 44,
   "id": "c8d54cae",
   "metadata": {},
   "outputs": [
    {
     "name": "stdout",
     "output_type": "stream",
     "text": [
      "['Always', 'be', 'happy', 'do', 'not', 'feel', 'bad']\n",
      "['Always', 'be', 'happy', 'do', 'not', 'feel', 'bad']\n"
     ]
    }
   ],
   "source": [
    "#split()-this function used to split the string as a list where matches present\n",
    "s='Always be happy do not feel bad'\n",
    "q=re.split(' ',s)\n",
    "q1=re.split('\\s',s)#\\s also represent space\n",
    "print(q)\n",
    "print(q1)"
   ]
  },
  {
   "cell_type": "code",
   "execution_count": 47,
   "id": "c5799e32",
   "metadata": {},
   "outputs": [
    {
     "name": "stdout",
     "output_type": "stream",
     "text": [
      "['Always', 'be', 'happy do not feel bad']\n"
     ]
    }
   ],
   "source": [
    "#we can control the number of occurrences by specifying the maxsplit parameter:\n",
    "q2=re.split('\\s',s,2)#2-is maxsplit parameter\n",
    "print(q2)"
   ]
  },
  {
   "cell_type": "code",
   "execution_count": 48,
   "id": "502eb192",
   "metadata": {},
   "outputs": [
    {
     "name": "stdout",
     "output_type": "stream",
     "text": [
      "Baby@is@always@my@dream@girl\n"
     ]
    }
   ],
   "source": [
    "#sub()-it will replace we given string to matches string position\n",
    "s=\"Baby is always my dream girl\"\n",
    "s1=re.sub(' ','@',s)#' '-replacable string,'@'-replacing string\n",
    "print(s1)"
   ]
  },
  {
   "cell_type": "code",
   "execution_count": 49,
   "id": "9952a7ba",
   "metadata": {},
   "outputs": [
    {
     "name": "stdout",
     "output_type": "stream",
     "text": [
      "Baby@is@always my dream girl\n"
     ]
    }
   ],
   "source": [
    "#we can control the number of replacements by specifying the count parameter\n",
    "s2=re.sub(' ','@',s,2)#2-number of replacement\n",
    "print(s2)"
   ]
  },
  {
   "cell_type": "code",
   "execution_count": 58,
   "id": "63a619e0",
   "metadata": {},
   "outputs": [
    {
     "name": "stdout",
     "output_type": "stream",
     "text": [
      "['h', 'b', 'b', 'h', 'b', 'e', 'e', 'n', 'c', 'm', 'e', 'i', 'n', 'm', 'l', 'i', 'f', 'e']\n",
      "<re.Match object; span=(4, 5), match='b'>\n"
     ]
    }
   ],
   "source": [
    "#metacharacters:\n",
    "#[]-using this we can give set of charcter\n",
    "s=\"Why baby has been come in my life?\"\n",
    "ss=re.findall('[b-n]',s)##Find all lower case characters alphabetically between \"b\" and \"n\":\n",
    "ss1=re.search('[b]',s)\n",
    "#ss2=re.search('[b-a]',s)#error will come because we coud not give z-a format\n",
    "print(ss)\n",
    "print(ss1)\n",
    "#print(ss2)"
   ]
  },
  {
   "cell_type": "code",
   "execution_count": 59,
   "id": "278b9a9b",
   "metadata": {},
   "outputs": [
    {
     "name": "stdout",
     "output_type": "stream",
     "text": [
      "['2', '4', '5', '6']\n"
     ]
    }
   ],
   "source": [
    "#\\-special sequence. with this we can fetch digit only alphapet and more...\n",
    "#\\d=return digits\n",
    "sss='kar2456'\n",
    "sss1=re.findall('\\d',sss)\n",
    "print(sss1)"
   ]
  },
  {
   "cell_type": "code",
   "execution_count": 62,
   "id": "744d7d59",
   "metadata": {},
   "outputs": [
    {
     "name": "stdout",
     "output_type": "stream",
     "text": [
      "['hello']\n",
      "<re.Match object; span=(6, 11), match='world'>\n"
     ]
    }
   ],
   "source": [
    "#.-we can specify any character using . \n",
    "s='hello world'\n",
    "ss=re.findall('.e..o',s)\n",
    "ss1=re.search('....d',s)\n",
    "print(ss)\n",
    "print(ss1)"
   ]
  },
  {
   "cell_type": "code",
   "execution_count": 70,
   "id": "90556c4f",
   "metadata": {},
   "outputs": [
    {
     "name": "stdout",
     "output_type": "stream",
     "text": [
      "It's start with word of we and end with character of s\n"
     ]
    }
   ],
   "source": [
    "#^-we can check string starting value as we serching \n",
    "#$-we can check string ending value as we serching\n",
    "s=\"we are all brothers and sisters\"\n",
    "if re.search('^we',s) and  re.search('s$',s):\n",
    "    print(\"It's start with word of we and end with character of s\")\n",
    "else:\n",
    "    print(\"It's not start with word of we and end with not character of s\")\n"
   ]
  },
  {
   "cell_type": "code",
   "execution_count": 107,
   "id": "2c61b726",
   "metadata": {},
   "outputs": [
    {
     "name": "stdout",
     "output_type": "stream",
     "text": [
      "['night']\n",
      "['good', 'good']\n",
      "['to ', 'to ']\n",
      "----------------------------------------------------------------------------------------------------\n",
      "<re.Match object; span=(0, 11), match='good night '>\n",
      "<re.Match object; span=(0, 18), match='good night to all '>\n",
      "<re.Match object; span=(0, 5), match='good '>\n"
     ]
    }
   ],
   "source": [
    "#*=we can use this for zero or more occurence that means if we put * means it will take remaing all characters\n",
    "#+=we can use this for one or more occurence that means if we put + means it will take remaing all characters\n",
    "#?=we can use this for zero or one occurence \n",
    "#we need to put . before *,+,? and these are so usefull for search() function\n",
    "s=\"good night to all and advance good morning to all\"\n",
    "s1=re.findall('nigh*t',s)#zero occurence\n",
    "s11=re.findall('go+d',s)#one occurence\n",
    "s12=re.findall('.?o ',s)#one occureence\n",
    "print(s1)\n",
    "print(s11)\n",
    "print(s12)\n",
    "print('-'*100)\n",
    "s2=re.search('goo.*t ',s)\n",
    "s21=re.search('goo.+all ',s)\n",
    "s22=re.search('go.?d ',s)\n",
    "print(s2)\n",
    "print(s21)\n",
    "print(s22)"
   ]
  },
  {
   "cell_type": "code",
   "execution_count": 116,
   "id": "b1b8beb8",
   "metadata": {},
   "outputs": [
    {
     "name": "stdout",
     "output_type": "stream",
     "text": [
      "['This']\n",
      "['is', 'is', 'karthik']\n",
      "<re.Match object; span=(2, 3), match='i'>\n",
      "[' is', 'karthik']\n",
      "[' is']\n"
     ]
    }
   ],
   "source": [
    "#{}-here we can give Exactly the specified number of occurrences\n",
    "#|=with this we can check either one string is present\n",
    "s=\"This is karthik\"\n",
    "a1=re.findall(\"T.{3}\",s)#we need to use . before {}\n",
    "a2=re.findall(\"is|karthik\",s)\n",
    "a3=re.search('i{1}',s)\n",
    "a4=re.findall(\" is|karthik\",s)\n",
    "a5=re.findall(\" is|karthik789\",s)\n",
    "print(a1)\n",
    "print(a2)\n",
    "print(a3)\n",
    "print(a4)\n",
    "print(a5)"
   ]
  },
  {
   "cell_type": "code",
   "execution_count": 132,
   "id": "cf049b56",
   "metadata": {},
   "outputs": [
    {
     "name": "stdout",
     "output_type": "stream",
     "text": [
      "[('I', 'love')]\n",
      "[('7', 'j')]\n"
     ]
    }
   ],
   "source": [
    "#()-capture and group-it's check two words simetenously as we given string\n",
    "s='I love you so much'\n",
    "s1='8k-7h7-jhvc7-ngc9'\n",
    "se=re.findall(\"(I) (love)\",s)\n",
    "se1=re.findall(\"(\\d)-(j)\",s1)\n",
    "print(se)\n",
    "print(se1)"
   ]
  },
  {
   "cell_type": "code",
   "execution_count": 6,
   "id": "6977a1c6",
   "metadata": {},
   "outputs": [
    {
     "ename": "SyntaxError",
     "evalue": "(unicode error) 'unicodeescape' codec can't decode bytes in position 2-3: truncated \\UXXXXXXXX escape (2847692632.py, line 3)",
     "output_type": "error",
     "traceback": [
      "\u001b[1;36m  Cell \u001b[1;32mIn[6], line 3\u001b[1;36m\u001b[0m\n\u001b[1;33m    s=\"C:\\Users\\Username\\Documents\\file.txt\"\u001b[0m\n\u001b[1;37m                                            ^\u001b[0m\n\u001b[1;31mSyntaxError\u001b[0m\u001b[1;31m:\u001b[0m (unicode error) 'unicodeescape' codec can't decode bytes in position 2-3: truncated \\UXXXXXXXX escape\n"
     ]
    }
   ],
   "source": [
    "#rawstring=r''-this one we can use while we use frequntly slash in string\n",
    "#if we declare string with slash,it will give error\n",
    "s=\"C:\\Users\\Username\\Documents\\file.txt\"\n",
    "print(s)"
   ]
  },
  {
   "cell_type": "code",
   "execution_count": 7,
   "id": "442459a3",
   "metadata": {},
   "outputs": [
    {
     "name": "stdout",
     "output_type": "stream",
     "text": [
      "C:\\Users\\Username\\Documents\\file.txt\n"
     ]
    }
   ],
   "source": [
    "#using raw string\n",
    "s=r\"C:\\Users\\Username\\Documents\\file.txt\"\n",
    "print(s)"
   ]
  },
  {
   "cell_type": "code",
   "execution_count": 30,
   "id": "65a8a8fd",
   "metadata": {},
   "outputs": [
    {
     "name": "stdout",
     "output_type": "stream",
     "text": [
      "['iam']\n",
      "String start from iam\n",
      "<re.Match object; span=(20, 25), match='India'>\n",
      "['India']\n",
      "<re.Match object; span=(16, 19), match='and'>\n",
      "['and', 'and']\n",
      "['e', 'e', 'e']\n",
      "['e', 'e']\n"
     ]
    }
   ],
   "source": [
    "#special sequences-it is \\ followed by a one character and every character has seperate meaning\n",
    "#\\A-it's return a match if we specified characters present in begining of the string\n",
    "import re\n",
    "s=\"iam can't forget baby forever iam\"\n",
    "s1=re.search(r'\\Aiam',s)\n",
    "s2=re.findall(r'\\Aiam',s)\n",
    "print(s2)\n",
    "if s1:\n",
    "    print(\"String start from iam\")\n",
    "else:\n",
    "    print(\"String not start from iam\")\n",
    "#\\Z-it's return a match if we specified characters present in end of the string\n",
    "ss=\"I need to go out of India\"\n",
    "ss1=re.search(r\"india\\Z\",ss,re.IGNORECASE)#IGNORECASE-will ignore lower or upper case\n",
    "ss2=re.findall(r\"India\\Z\",ss)\n",
    "print(ss1)\n",
    "print(ss2)\n",
    "#\\b-it's return a match if we specified characters present in begining or end of words\n",
    "sss=\"be happy always and be smil evey moment and\"\n",
    "sss1=re.search(r\"\\band\\b\",sss)\n",
    "sss2=re.findall(r\"\\band\\b\",sss)\n",
    "print(sss1)\n",
    "print(sss2)\n",
    "#\\B-it's return a match if we specified characters not present in begining or end of words\n",
    "sss3=re.findall(r\"e\\B\",sss)#it's fetch ending not 'e' character character e\n",
    "sss4=re.findall(r\"\\Be\\B\",sss)\n",
    "print(sss3)\n",
    "print(sss4)"
   ]
  },
  {
   "cell_type": "code",
   "execution_count": 36,
   "id": "2cb265fc",
   "metadata": {},
   "outputs": [
    {
     "name": "stdout",
     "output_type": "stream",
     "text": [
      "['8', '9', '7', '8', '9', '8', '7', '9', '8', '2', '3', '4']\n",
      "['_', '_', 'k', 'a', 'r', 'h', 'i', 'k', ' ', 'i', 'i', 'b', 'i', 'b', ' ', 'i', 'u', 'b', '!', '@', '@', '@', '@']\n",
      "[' ', ' ']\n",
      "['_', '_', 'k', 'a', 'r', 'h', 'i', 'k', '8', '9', 'i', 'i', 'b', 'i', 'b', '7', '8', '9', 'i', 'u', 'b', '8', '7', '9', '8', '2', '3', '!', '@', '@', '@', '@', '4']\n",
      "['_', '_', 'k', 'a', 'r', 'h', 'i', 'k', '8', '9', 'i', 'i', 'b', 'i', 'b', '7', '8', '9', 'i', 'u', 'b', '8', '7', '9', '8', '2', '3', '4']\n",
      "[' ', ' ', '!', '@', '@', '@', '@']\n"
     ]
    }
   ],
   "source": [
    "#d-it's return a match where string contains digit(0-9)\n",
    "m=\"__karhik89 iibib789 iub879823!@@@@4\"\n",
    "m1=re.findall(\"\\d\",m)\n",
    "print(m1)\n",
    "#D-it's return a match where string not contains digit\n",
    "m2=re.findall(\"\\D\",m)\n",
    "print(m2)\n",
    "#s-it's return a match where stringcontains space\n",
    "m3=re.findall(\"\\s\",m)\n",
    "print(m3)\n",
    "#S-it's return a match where string not contains space\n",
    "m4=re.findall(\"\\S\",m)\n",
    "print(m4)\n",
    "#w-it's return a match where a string contains words(a-z) and digits,underscore\n",
    "m5=re.findall(\"\\w\",m)\n",
    "print(m5)\n",
    "#W-it's return a match where a string not contains words(a-z) and digits,underscore\n",
    "m6=re.findall(\"\\W\",m)\n",
    "print(m6)"
   ]
  },
  {
   "cell_type": "code",
   "execution_count": 41,
   "id": "1651d136",
   "metadata": {},
   "outputs": [
    {
     "name": "stdout",
     "output_type": "stream",
     "text": [
      "['a', 'a', 'c', 'c', 'c', 'c']\n",
      "['a', 'd', 'e', 'e', 'b', 'a', 'c', 'd', 'c', 'd', 'c', 'd', 'c']\n",
      "['d', 'e', 'i', 'e', 'y', 'c', ' ', 'w', 'd', 'c', 'd', 'w', 'c', 'd', 'w', 'c']\n",
      "['a', 'b', 'a']\n"
     ]
    }
   ],
   "source": [
    "#set=set of character inside the square bracket and everyone has different meaning\n",
    "#[acj]-its return we specified a or c or j match characters in string\n",
    "s=\"sadeiebyac wdcdwcdwc\"\n",
    "sc=re.findall('[acj]',s)\n",
    "print(sc)\n",
    "#[a-f]#it returns we specified match characters from lower case a to f in string\n",
    "sc1=re.findall('[a-f]',s)\n",
    "print(sc1)\n",
    "#[^abs]it will return we specified except match characters in string\n",
    "sc2=re.findall('[^abs]',s)\n",
    "print(sc2)\n",
    "#[A-Za-z]#it return we specified match characters from Uppercase A to Z or lowercase a to z in string\n",
    "sc3=re.findall('[A-Ba-b]',s)\n",
    "print(sc3)"
   ]
  },
  {
   "cell_type": "code",
   "execution_count": 52,
   "id": "bfa7fc82",
   "metadata": {},
   "outputs": [
    {
     "name": "stdout",
     "output_type": "stream",
     "text": [
      "['0', '0', '0', '6']\n",
      "['1', '0', '2', '3', '3', '4', '3', '2', '2', '0', '0']\n",
      "['19']\n",
      "<re.Match object; span=(0, 2), match='58'>\n"
     ]
    }
   ],
   "source": [
    "#[650]-it returns we specified match digit characters(6 or 5 or 0) in the string.\n",
    "s='19023dsdc34322006789'\n",
    "ss=re.findall('[650]',s)\n",
    "print(ss)\n",
    "#[0-5]-it returns we specified match digit characters from 0 to 5 in the string\n",
    "ss1=re.findall('[0-5]',s)\n",
    "print(ss1)\n",
    "#[0-5][0-9]Returns a match for any two-digit numbers from 00 and 59\n",
    "s1='58'\n",
    "ss2=re.findall('[1-1][0-9]',s)\n",
    "ss3=re.search('[0-5][0-9]',s1)\n",
    "print(ss2)\n",
    "print(ss3)"
   ]
  },
  {
   "cell_type": "code",
   "execution_count": 54,
   "id": "bbaf7887",
   "metadata": {},
   "outputs": [
    {
     "name": "stdout",
     "output_type": "stream",
     "text": [
      "['3', '3']\n"
     ]
    }
   ],
   "source": [
    "#compile-it's compile the we giving search pattern into object.and we can use that object for searching\n",
    "import re\n",
    "patter=re.compile('[1-5]')\n",
    "#print(patter)\n",
    "res=patter.findall(\"wj83903snjsjs\")\n",
    "print(res)"
   ]
  },
  {
   "cell_type": "code",
   "execution_count": null,
   "id": "310b9b2d",
   "metadata": {},
   "outputs": [],
   "source": []
  }
 ],
 "metadata": {
  "kernelspec": {
   "display_name": "Python 3 (ipykernel)",
   "language": "python",
   "name": "python3"
  },
  "language_info": {
   "codemirror_mode": {
    "name": "ipython",
    "version": 3
   },
   "file_extension": ".py",
   "mimetype": "text/x-python",
   "name": "python",
   "nbconvert_exporter": "python",
   "pygments_lexer": "ipython3",
   "version": "3.10.9"
  }
 },
 "nbformat": 4,
 "nbformat_minor": 5
}
