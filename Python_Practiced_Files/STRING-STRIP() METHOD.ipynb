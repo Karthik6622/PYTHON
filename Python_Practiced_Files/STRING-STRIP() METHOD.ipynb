{
 "cells": [
  {
   "cell_type": "markdown",
   "id": "fc578006",
   "metadata": {},
   "source": [
    "String-Strip"
   ]
  },
  {
   "cell_type": "code",
   "execution_count": 2,
   "id": "b8e681df",
   "metadata": {},
   "outputs": [
    {
     "name": "stdout",
     "output_type": "stream",
     "text": [
      "   banana     \n",
      "banana\n"
     ]
    }
   ],
   "source": [
    "#strip()-remove space beginning of the string and end of the string\n",
    "k='   banana     '\n",
    "print(k)\n",
    "print(k.strip())#using strip"
   ]
  },
  {
   "cell_type": "code",
   "execution_count": 4,
   "id": "8c77d71b",
   "metadata": {},
   "outputs": [
    {
     "name": "stdout",
     "output_type": "stream",
     "text": [
      "@,.5kugkgdv56**\n",
      "5kugkgdv56\n"
     ]
    }
   ],
   "source": [
    "#we can remove any special characters beginning,ending and inbetween using strip\n",
    "kk='@,.5kugkgdv56**'\n",
    "print(kk)\n",
    "print(kk.strip('@,.*'))"
   ]
  },
  {
   "cell_type": "code",
   "execution_count": 6,
   "id": "95512f1a",
   "metadata": {},
   "outputs": [
    {
     "name": "stdout",
     "output_type": "stream",
     "text": [
      "karthik is a good boy\n"
     ]
    }
   ],
   "source": [
    "#if we want remove inbetween space in string,just use replace function\n",
    "kkk='  karthik is   a good boy   '\n",
    "print(kkk.strip().replace('  ',''))"
   ]
  },
  {
   "cell_type": "code",
   "execution_count": null,
   "id": "2ed93b45",
   "metadata": {},
   "outputs": [],
   "source": []
  }
 ],
 "metadata": {
  "kernelspec": {
   "display_name": "Python 3 (ipykernel)",
   "language": "python",
   "name": "python3"
  },
  "language_info": {
   "codemirror_mode": {
    "name": "ipython",
    "version": 3
   },
   "file_extension": ".py",
   "mimetype": "text/x-python",
   "name": "python",
   "nbconvert_exporter": "python",
   "pygments_lexer": "ipython3",
   "version": "3.10.9"
  }
 },
 "nbformat": 4,
 "nbformat_minor": 5
}
