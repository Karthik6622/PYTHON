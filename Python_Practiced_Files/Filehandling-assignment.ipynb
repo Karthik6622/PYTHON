{
 "cells": [
  {
   "cell_type": "markdown",
   "id": "10a4fa43",
   "metadata": {},
   "source": [
    "Filehandling-assignment"
   ]
  },
  {
   "cell_type": "code",
   "execution_count": 1,
   "id": "f4078c0d",
   "metadata": {},
   "outputs": [
    {
     "name": "stdout",
     "output_type": "stream",
     "text": [
      "234\n"
     ]
    }
   ],
   "source": [
    "#move the data from one file to another file in reversed order\n",
    "file=open('Move_data_from_one_file_to another.txt','r')\n",
    "s=file.read()\n",
    "w=open('Move_data_from_one_file_to another1.txt','w')\n",
    "print(w.write(s))\n",
    "w.close()"
   ]
  },
  {
   "cell_type": "code",
   "execution_count": 2,
   "id": "ea49d3ff",
   "metadata": {},
   "outputs": [
    {
     "name": "stdout",
     "output_type": "stream",
     "text": [
      "234\n"
     ]
    }
   ],
   "source": [
    "#move the data from one file to another file in reversed order\n",
    "file=open('Move_data_from_one_file_to another.txt','r')\n",
    "s=file.read()\n",
    "reverse=s[::-1]\n",
    "w=open('Move_data_from_one_file_to another2.txt','w')\n",
    "print(w.write(reverse))\n",
    "w.close()"
   ]
  },
  {
   "cell_type": "code",
   "execution_count": 3,
   "id": "d089581b",
   "metadata": {},
   "outputs": [
    {
     "name": "stdout",
     "output_type": "stream",
     "text": [
      "235\n"
     ]
    }
   ],
   "source": [
    "#move the data from same file to same file in reversed order\n",
    "file=open('Move_data_from_one_file_to another2.txt','r')\n",
    "s=file.read()\n",
    "reverse=s[::-1]\n",
    "w=open('Move_data_from_one_file_to another2.txt','a')\n",
    "print(w.write('\\n'+reverse))\n",
    "w.close()"
   ]
  },
  {
   "cell_type": "code",
   "execution_count": 4,
   "id": "0797b7d9",
   "metadata": {},
   "outputs": [
    {
     "name": "stdout",
     "output_type": "stream",
     "text": [
      "6\n"
     ]
    }
   ],
   "source": [
    "#count the number of lines in a file\n",
    "f=open('Move_data_from_one_file_to another.txt','r')\n",
    "list1=list(f.readlines())\n",
    "length=len(list1)\n",
    "print(length)\n"
   ]
  },
  {
   "cell_type": "code",
   "execution_count": 8,
   "id": "8f70a593",
   "metadata": {},
   "outputs": [
    {
     "name": "stdout",
     "output_type": "stream",
     "text": [
      "Enter the searching word:both\n",
      "you entered both is 2 times present\n"
     ]
    }
   ],
   "source": [
    "#using file handling python progrm to count the frequency of words in a file\n",
    "inp=input(\"Enter the searching word:\")\n",
    "f=open('Move_data_from_one_file_to another.txt','r')\n",
    "list1=f.read()\n",
    "#print(list1)\n",
    "list2=[]\n",
    "list2=list1.split(' ')\n",
    "#print(list2)\n",
    "k=0\n",
    "for j in list2:\n",
    "    if j==inp:\n",
    "        k+=1\n",
    "print(f'you entered {inp} is {k} times present')"
   ]
  },
  {
   "cell_type": "code",
   "execution_count": 6,
   "id": "6ecb9eb1",
   "metadata": {},
   "outputs": [
    {
     "name": "stdout",
     "output_type": "stream",
     "text": [
      "['File', 'Handling', 'in', 'python:\\nmodes', 'of', 'operation:\\nr-', 'It', 'is', 'used', 'to', 'read', 'the', 'data', 'from', 'the', 'file\\nw-', 'It', 'is', 'used', 'to', 'write', 'the', 'data', 'in', 'to', 'filea-will', 'not', 'remove', 'the', 'previous', 'content\\nr+-', 'both', 'read', 'and', 'write', 'operation\\nw+-', 'both', 'read', 'and', 'write', 'operation']\n",
      "File : 1\n",
      "Handling : 1\n",
      "in : 2\n",
      "python:\n",
      "modes : 1\n",
      "of : 1\n",
      "operation:\n",
      "r- : 1\n",
      "It : 2\n",
      "is : 2\n",
      "used : 2\n",
      "to : 3\n",
      "read : 3\n",
      "the : 4\n",
      "data : 2\n",
      "from : 1\n",
      "file\n",
      "w- : 1\n",
      "write : 3\n",
      "filea-will : 1\n",
      "not : 1\n",
      "remove : 1\n",
      "previous : 1\n",
      "content\n",
      "r+- : 1\n",
      "both : 2\n",
      "and : 2\n",
      "operation\n",
      "w+- : 1\n",
      "operation : 1\n"
     ]
    }
   ],
   "source": [
    "#using file handling python progrm to count the frequency of words in a file\n",
    "f=open('Move_data_from_one_file_to another.txt','r+')\n",
    "d={}\n",
    "file1=f.read()\n",
    "li=file1.split(\" \")\n",
    "for j in li:\n",
    "    if j in d:\n",
    "        d[j]+=1\n",
    "    else:\n",
    "        d[j]=1\n",
    "#print(d)\n",
    "ll=list(d.keys())\n",
    "for i in ll:\n",
    "    print(i,':',d[i])"
   ]
  },
  {
   "cell_type": "code",
   "execution_count": null,
   "id": "98b601f0",
   "metadata": {},
   "outputs": [],
   "source": []
  }
 ],
 "metadata": {
  "kernelspec": {
   "display_name": "Python 3 (ipykernel)",
   "language": "python",
   "name": "python3"
  },
  "language_info": {
   "codemirror_mode": {
    "name": "ipython",
    "version": 3
   },
   "file_extension": ".py",
   "mimetype": "text/x-python",
   "name": "python",
   "nbconvert_exporter": "python",
   "pygments_lexer": "ipython3",
   "version": "3.10.9"
  }
 },
 "nbformat": 4,
 "nbformat_minor": 5
}
