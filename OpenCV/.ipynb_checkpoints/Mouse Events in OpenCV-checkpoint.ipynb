{
 "cells": [
  {
   "cell_type": "markdown",
   "id": "7c8d3604",
   "metadata": {},
   "source": [
    "# Mouse Events in OpenCV"
   ]
  },
  {
   "cell_type": "code",
   "execution_count": 4,
   "id": "eef6ef9c",
   "metadata": {},
   "outputs": [
    {
     "name": "stdout",
     "output_type": "stream",
     "text": [
      "['EVENT_FLAG_ALTKEY', 'EVENT_FLAG_CTRLKEY', 'EVENT_FLAG_LBUTTON', 'EVENT_FLAG_MBUTTON', 'EVENT_FLAG_RBUTTON', 'EVENT_FLAG_SHIFTKEY', 'EVENT_LBUTTONDBLCLK', 'EVENT_LBUTTONDOWN', 'EVENT_LBUTTONUP', 'EVENT_MBUTTONDBLCLK', 'EVENT_MBUTTONDOWN', 'EVENT_MBUTTONUP', 'EVENT_MOUSEHWHEEL', 'EVENT_MOUSEMOVE', 'EVENT_MOUSEWHEEL', 'EVENT_RBUTTONDBLCLK', 'EVENT_RBUTTONDOWN', 'EVENT_RBUTTONUP']\n"
     ]
    }
   ],
   "source": [
    "#first we going to check what are the mouse events are availble in openCv using list comprehension\n",
    "import cv2\n",
    "events=[i for i in dir(cv2) if 'EVENT' in i]\n",
    "print(events)\n",
    "#dir() function used to Lists attributes and functions available in the specific module"
   ]
  },
  {
   "cell_type": "markdown",
   "id": "afcdf797",
   "metadata": {},
   "source": [
    "# what is the setMouseCallBack?\n",
    "\n",
    "In OpenCV, the setMouseCallback function is used to set up a callback function that responds to mouse events when you display an image or a video frame using OpenCV's"
   ]
  },
  {
   "cell_type": "markdown",
   "id": "1fd37f9c",
   "metadata": {},
   "source": [
    "The code snippet def click_event(event, x, y, flags, param) defines a Python function named click_event. This function is intended to be used as a callback function for handling mouse events in OpenCV applications.\n",
    "\n",
    "Here's an explanation of the function's parameters:\n",
    "\n",
    "event: This parameter represents the type of mouse event that occurred. It can take various values, such as cv2.EVENT_LBUTTONDOWN (left mouse button down), cv2.EVENT_RBUTTONDOWN (right mouse button down), cv2.EVENT_MOUSEMOVE (mouse movement), and others. The function can check the value of event to determine the specific mouse event that occurred.\n",
    "\n",
    "x and y: These parameters represent the coordinates of the mouse cursor when the event occurred. x is the horizontal coordinate (typically from left to right), and y is the vertical coordinate (typically from top to bottom).\n",
    "\n",
    "flags: This parameter provides additional information about the mouse event. It is often not used in simple applications but can be examined for specific behaviors, such as detecting whether a modifier key like Shift or Ctrl was pressed during the mouse event.\n",
    "\n",
    "param: This parameter allows you to pass additional data to the callback function if needed. It is an optional parameter and can be used to provide context or additional information to the callback."
   ]
  },
  {
   "cell_type": "code",
   "execution_count": 5,
   "id": "43a64eea",
   "metadata": {},
   "outputs": [],
   "source": [
    "import numpy as np\n",
    "import cv2"
   ]
  },
  {
   "cell_type": "code",
   "execution_count": 17,
   "id": "99f75859",
   "metadata": {},
   "outputs": [
    {
     "name": "stdout",
     "output_type": "stream",
     "text": [
      "The mouse clicked x and y coortinates:141,204\n",
      "The mouse clicked x and y coortinates:340,256\n",
      "The mouse clicked x and y coortinates:262,364\n"
     ]
    }
   ],
   "source": [
    "#finding while image opening,check whether mouse left button cliked or not.if it is clicked display ,display clicked x and y coordinates\n",
    "def click_event(event,x,y,flags,param):\n",
    "    if event==cv2.EVENT_LBUTTONDOWN:\n",
    "        print(\"The mouse clicked x and y coortinates:{},{}\".format(x,y))\n",
    "img=np.zeros([700,500,1],dtype=np.uint8)\n",
    "cv2.imshow('image',img)\n",
    "cv2.setMouseCallback('image',click_event)#this 'image' should be same as cv2.imshow('image')\n",
    "cv2.waitKey()\n",
    "cv2.destroyAllWindows()\n",
    "#if we click mouse left click on the image,it will give x and y coordinates of clicked position"
   ]
  },
  {
   "cell_type": "code",
   "execution_count": 26,
   "id": "624ebdb8",
   "metadata": {},
   "outputs": [
    {
     "name": "stdout",
     "output_type": "stream",
     "text": [
      "(145, 144)\n",
      "(432, 112)\n",
      "(436, 202)\n",
      "(356, 102)\n",
      "(332, 196)\n",
      "(236, 320)\n",
      "(190, 241)\n",
      "(150, 141)\n",
      "(238, 69)\n",
      "(185, 175)\n",
      "(96, 219)\n",
      "(105, 307)\n"
     ]
    }
   ],
   "source": [
    "#how to display mouse right clicked x and y position in same image during the image display\n",
    "def ce(event,x,y,flags,param):\n",
    "    if event==cv2.EVENT_RBUTTONDOWN:\n",
    "        text=str(x)+','+str(y)\n",
    "        clicked_position=(x,y)\n",
    "        print(clicked_position)\n",
    "        font=cv2.FONT_HERSHEY_COMPLEX\n",
    "        cv2.putText(img,text,clicked_position,font,0.8,(255,255,255),2)\n",
    "        cv2.imshow('image',img)\n",
    "img=np.zeros([500,600,1],dtype=np.uint8)\n",
    "cv2.imshow('image',img)\n",
    "cv2.setMouseCallback('image',ce)\n",
    "cv2.waitKey()\n",
    "cv2.destroyAllWindows()"
   ]
  },
  {
   "cell_type": "code",
   "execution_count": 28,
   "id": "3873e247",
   "metadata": {},
   "outputs": [
    {
     "name": "stdout",
     "output_type": "stream",
     "text": [
      "mouse was moved on image!!\n",
      "mouse was moved on image!!\n",
      "mouse was moved on image!!\n",
      "mouse was moved on image!!\n",
      "mouse was moved on image!!\n",
      "mouse was moved on image!!\n",
      "mouse was moved on image!!\n",
      "mouse was moved on image!!\n",
      "mouse was moved on image!!\n",
      "mouse was moved on image!!\n",
      "mouse was moved on image!!\n",
      "mouse was moved on image!!\n",
      "mouse was moved on image!!\n",
      "mouse was moved on image!!\n",
      "mouse was moved on image!!\n",
      "mouse was moved on image!!\n",
      "mouse was moved on image!!\n",
      "mouse was moved on image!!\n",
      "mouse was moved on image!!\n",
      "mouse was moved on image!!\n",
      "mouse was moved on image!!\n",
      "mouse was moved on image!!\n",
      "mouse was moved on image!!\n",
      "mouse was moved on image!!\n",
      "mouse was moved on image!!\n",
      "mouse was moved on image!!\n",
      "mouse was moved on image!!\n",
      "mouse was moved on image!!\n",
      "mouse was moved on image!!\n",
      "mouse was moved on image!!\n",
      "mouse was moved on image!!\n",
      "mouse was moved on image!!\n",
      "mouse was moved on image!!\n",
      "mouse was moved on image!!\n",
      "mouse was moved on image!!\n",
      "mouse was moved on image!!\n",
      "mouse was moved on image!!\n",
      "mouse was moved on image!!\n",
      "mouse was moved on image!!\n",
      "mouse was moved on image!!\n",
      "mouse was moved on image!!\n",
      "mouse was moved on image!!\n",
      "mouse was moved on image!!\n",
      "mouse was moved on image!!\n",
      "mouse was moved on image!!\n",
      "mouse was moved on image!!\n",
      "mouse was moved on image!!\n",
      "mouse was moved on image!!\n",
      "mouse was moved on image!!\n",
      "mouse was moved on image!!\n",
      "mouse was moved on image!!\n",
      "mouse was moved on image!!\n",
      "mouse was moved on image!!\n",
      "mouse was moved on image!!\n",
      "mouse was moved on image!!\n",
      "mouse was moved on image!!\n",
      "mouse was moved on image!!\n",
      "mouse was moved on image!!\n",
      "mouse was moved on image!!\n",
      "mouse was moved on image!!\n",
      "mouse was moved on image!!\n",
      "mouse was moved on image!!\n",
      "mouse was moved on image!!\n",
      "mouse was moved on image!!\n",
      "mouse was moved on image!!\n",
      "mouse was moved on image!!\n",
      "mouse was moved on image!!\n",
      "mouse was moved on image!!\n",
      "mouse was moved on image!!\n",
      "mouse was moved on image!!\n",
      "mouse was moved on image!!\n",
      "mouse was moved on image!!\n",
      "mouse was moved on image!!\n",
      "mouse was moved on image!!\n"
     ]
    }
   ],
   "source": [
    "#how to find whether mouse is moving or not during the image open\n",
    "def ce(event,x,y,flags,param):\n",
    "    if event ==cv2.EVENT_MOUSEMOVE:\n",
    "        print(\"mouse was moved on image!!\")\n",
    "img=cv2.imread(\"image.jpg\")\n",
    "cv2.imshow(\"im\",img)\n",
    "cv2.setMouseCallback(\"im\",ce)\n",
    "cv2.waitKey()\n",
    "cv2.destroyAllWindows()"
   ]
  },
  {
   "cell_type": "code",
   "execution_count": 39,
   "id": "0c906de9",
   "metadata": {},
   "outputs": [
    {
     "name": "stdout",
     "output_type": "stream",
     "text": [
      "you have been clicked SHIFT key + mouse left during the image open\n",
      "you have been clicked ALT key + mouse left during the image open\n",
      "you have been clicked ALT key + mouse left during the image open\n",
      "you have been clicked CONTROL key +mouse left during the image open\n",
      "you have been clicked CONTROL key +mouse left during the image open\n"
     ]
    }
   ],
   "source": [
    "#check whheter while image is opening ALT-key or CTRL-key or SHIFT-key is clicked or not using flags\n",
    "def clickevent(event,x,y,flags,param):\n",
    "    if event==cv2.EVENT_LBUTTONDOWN:\n",
    "        if flags & cv2.EVENT_FLAG_SHIFTKEY:\n",
    "            print(\"you have been clicked SHIFT key + mouse left during the image open\")\n",
    "        elif flags & cv2.EVENT_FLAG_CTRLKEY:\n",
    "            print(\"you have been clicked CONTROL key +mouse left during the image open\")\n",
    "        elif flags & cv2.EVENT_FLAG_ALTKEY:\n",
    "            print(\"you have been clicked ALT key + mouse left during the image open\")\n",
    "img=cv2.imread(\"image.jpg\")\n",
    "cv2.imshow('ii',img)\n",
    "cv2.setMouseCallback('ii',clickevent)\n",
    "cv2.waitKey()\n",
    "cv2.destroyAllWindows()"
   ]
  },
  {
   "cell_type": "code",
   "execution_count": 56,
   "id": "cc559c99",
   "metadata": {},
   "outputs": [
    {
     "name": "stdout",
     "output_type": "stream",
     "text": [
      "Clicked mouse right button and mouse middle button\n",
      "Clicked mouse right button and mouse left button\n",
      "middle right button pressed twice\n",
      "middle right button pressed twice\n"
     ]
    }
   ],
   "source": [
    "#check the mouse right,left,middle button combinations are clicked simetenously\n",
    "def click(event,x,y,flags,param):\n",
    "    if event==cv2.EVENT_RBUTTONDOWN:\n",
    "        if flags & cv2.EVENT_FLAG_MBUTTON:\n",
    "            print(\"Clicked mouse right button and mouse middle button\")\n",
    "        elif flags & cv2.EVENT_FLAG_LBUTTON:\n",
    "            print(\"Clicked mouse right button and mouse left button\")\n",
    "        elif flags & cv2.EVENT_FLAG_RBUTTON:\n",
    "            print(\"middle right button pressed twice\")\n",
    "image=cv2.imread(\"image.jpg\")\n",
    "cv2.imshow(\"Image\",image)\n",
    "cv2.setMouseCallback(\"Image\",click)\n",
    "cv2.waitKey()\n",
    "cv2.destroyAllWindows()"
   ]
  },
  {
   "cell_type": "code",
   "execution_count": 64,
   "id": "307619e5",
   "metadata": {},
   "outputs": [
    {
     "name": "stdout",
     "output_type": "stream",
     "text": [
      "middle button is pressed\n",
      "middle button is pressed\n"
     ]
    }
   ],
   "source": [
    "#display the image clicked position BGR color when we pressed mouse middle button\n",
    "def click(event,x,y,flags,param):\n",
    "    if event==cv2.EVENT_MBUTTONDOWN:\n",
    "        print(\"middle button is pressed\")\n",
    "        coordination=(x,y)\n",
    "        font=cv2.FONT_HERSHEY_PLAIN\n",
    "        #finding a mouse clicking position BGR color combination\n",
    "        blue=immm[y,x,0]#y-img clicking y value,x-img clicking x value,0-channel(pixel rate of image)\n",
    "        green=immm[y,x,1]\n",
    "        red=immm[y,x,2]\n",
    "        bgr=str(blue)+','+str(green)+','+str(red)\n",
    "        cv2.putText(immm,bgr,coordination,font,0.8,(0,0,255),2)\n",
    "        cv2.imshow(\"image\",immm)\n",
    "immm=cv2.imread(\"image.jpg\")\n",
    "cv2.imshow(\"image\",immm)\n",
    "cv2.setMouseCallback(\"image\",click)\n",
    "cv2.waitKey()\n",
    "cv2.destroyAllWindows()"
   ]
  },
  {
   "cell_type": "code",
   "execution_count": 67,
   "id": "e5e33d21",
   "metadata": {},
   "outputs": [],
   "source": [
    "#draw the circle where we click mouse right button and if we click mouse right button in image another position ,both circle must be connected\n",
    "def click_event(event,x,y,flags,param):\n",
    "    if event==cv2.EVENT_RBUTTONDOWN:\n",
    "        #draw the circle where mouse right button clicked in image\n",
    "        cv2.circle(empty_image,(x,y),5,(0,0,255),-1)\n",
    "        cv2.imshow(\"Image\",empty_image)\n",
    "        #storing mouse clicking x and y position to list\n",
    "        storing_coor.append((x,y))\n",
    "        #draw the line between last mouse clicked position to before last mouse click position\n",
    "        if len(storing_coor)>=2:\n",
    "            cv2.line(empty_image,storing_coor[-1],storing_coor[-2],(255,255,255),3)\n",
    "            cv2.imshow(\"Image\",empty_image)\n",
    "#creating empty image using numpy\n",
    "empty_image=np.zeros([500,500,3],dtype=np.uint8)\n",
    "storing_coor=[]\n",
    "cv2.imshow(\"Image\",empty_image)\n",
    "cv2.setMouseCallback(\"Image\",click_event)\n",
    "cv2.waitKey()\n",
    "cv2.destroyAllWindows()"
   ]
  },
  {
   "cell_type": "code",
   "execution_count": 70,
   "id": "950e85e3",
   "metadata": {},
   "outputs": [],
   "source": [
    "#if we mouse left click image one position,that position color going to set new image window backgroundcolor\n",
    "def click(event,x,y,flags,param):\n",
    "    if event==cv2.EVENT_LBUTTONDOWN:\n",
    "        #find out the clicking position bgr color coordination\n",
    "        blue=im[y,x,0]\n",
    "        green=im[y,x,1]\n",
    "        red=im[y,x,2]\n",
    "        #creating new image window using numpy\n",
    "        new_img=np.zeros([700,400,3],dtype=np.uint8)\n",
    "        #assign [blue,green,red] values to numpy all pixels or points\n",
    "        new_img[:]=[blue,green,red]\n",
    "        cv2.imshow(\"New-Image\",new_img)\n",
    "im=cv2.imread(\"image.jpg\")\n",
    "cv2.imshow(\"MYIMAGE\",im)\n",
    "cv2.setMouseCallback(\"MYIMAGE\",click)\n",
    "cv2.waitKey()\n",
    "cv2.destroyAllWindows()"
   ]
  },
  {
   "cell_type": "code",
   "execution_count": 72,
   "id": "0823e844",
   "metadata": {},
   "outputs": [
    {
     "name": "stdout",
     "output_type": "stream",
     "text": [
      "passed value is:Hi!!!KARTHIK\n",
      "passed value is:Hi!!!KARTHIK\n"
     ]
    }
   ],
   "source": [
    "#here we going to see how to use param parameter\n",
    "#it is used to pass the value to clickevent function through the mousecallback function as we want\n",
    "def clik_event(event,x,y,flags,param):\n",
    "    if event==cv2.EVENT_MBUTTONDOWN:\n",
    "        passed_value=param\n",
    "        print(\"passed value is:{}\".format(passed_value))\n",
    "im=cv2.imread(\"image.jpg\")\n",
    "cv2.imshow(\"immm\",im)\n",
    "value=\"Hi!!!KARTHIK\"\n",
    "cv2.setMouseCallback('immm',clik_event,value)#value passing to clik_event\n",
    "cv2.waitKey()\n",
    "cv2.destroyAllWindows()\n",
    "#here we clicked mouse middle click on image so passed values displaying as a output down"
   ]
  },
  {
   "cell_type": "code",
   "execution_count": 83,
   "id": "5d06009c",
   "metadata": {},
   "outputs": [
    {
     "name": "stdout",
     "output_type": "stream",
     "text": [
      "You click mouse middle button\n",
      "You double clicked mouse right button\n",
      "You click mouse leftt button\n",
      "You double clicked mouse right button\n",
      "You click mouse middle button\n",
      "You double clicked mouse right button\n",
      "You double clicked mouse right button\n",
      "You click mouse middle button\n",
      "You double clicked mouse right button\n",
      "You click mouse middle button\n",
      "You double clicked mouse right button\n",
      "You click mouse leftt button\n",
      "You click mouse right button and mouse left button\n",
      "You double clicked mouse right button\n"
     ]
    }
   ],
   "source": [
    "#checking mouse events are working while video capturing\n",
    "def click_event(event,x,y,flags,param):\n",
    "    if event==cv2.EVENT_RBUTTONDOWN:\n",
    "        if flags & cv2.EVENT_FLAG_LBUTTON:\n",
    "            print(\"You click mouse right button and mouse left button\")\n",
    "        if flags & cv2.EVENT_FLAG_MBUTTON:\n",
    "            print(\"You click mouse right button and mouse middle button\")\n",
    "        if flags & cv2.EVENT_FLAG_RBUTTON:\n",
    "            print(\"You double clicked mouse right button\")\n",
    "    elif event==cv2.EVENT_RBUTTONDOWN:\n",
    "        print(\"You click mouse right button\")\n",
    "    elif event==cv2.EVENT_MBUTTONDOWN:\n",
    "        print(\"You click mouse middle button\")\n",
    "    elif event==cv2.EVENT_LBUTTONDOWN:\n",
    "        print(\"You click mouse leftt button\")\n",
    "cap=cv2.VideoCapture(\"google_issues_video.mp4\")\n",
    "# Create a window for video playback\n",
    "cv2.namedWindow(\"Videodisplaying\")\n",
    "\n",
    "cv2.setMouseCallback(\"Videodisplaying\",click_event)\n",
    "while(cap.isOpened()):\n",
    "    check,frame=cap.read()\n",
    "    if check==True:\n",
    "        cv2.imshow(\"Videodisplaying\",frame)\n",
    "        if cv2.waitKey(10)==ord('q'):\n",
    "             break\n",
    "    else:\n",
    "        break\n",
    "cap.release()\n",
    "cv2.destroyAllWindows()"
   ]
  },
  {
   "cell_type": "code",
   "execution_count": null,
   "id": "82774970",
   "metadata": {},
   "outputs": [],
   "source": []
  }
 ],
 "metadata": {
  "kernelspec": {
   "display_name": "Python 3 (ipykernel)",
   "language": "python",
   "name": "python3"
  },
  "language_info": {
   "codemirror_mode": {
    "name": "ipython",
    "version": 3
   },
   "file_extension": ".py",
   "mimetype": "text/x-python",
   "name": "python",
   "nbconvert_exporter": "python",
   "pygments_lexer": "ipython3",
   "version": "3.10.9"
  }
 },
 "nbformat": 4,
 "nbformat_minor": 5
}
