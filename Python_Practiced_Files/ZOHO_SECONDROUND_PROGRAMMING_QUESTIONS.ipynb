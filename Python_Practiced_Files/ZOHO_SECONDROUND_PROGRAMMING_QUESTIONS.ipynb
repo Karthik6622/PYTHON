{
 "cells": [
  {
   "cell_type": "markdown",
   "id": "4bd6d19c",
   "metadata": {},
   "source": [
    "# ZOHO_SECONDROUND_PROGRAMMING_QUESTIONS"
   ]
  },
  {
   "cell_type": "code",
   "execution_count": 48,
   "id": "df6d52ef",
   "metadata": {},
   "outputs": [
    {
     "name": "stdout",
     "output_type": "stream",
     "text": [
      "PRORAM\n",
      "P        M\n",
      "  R      A\n",
      "    O    R\n",
      "      G  O\n",
      "        R R\n",
      "          A P\n",
      "            M M\n"
     ]
    }
   ],
   "source": [
    "'''\n",
    "1. Print the word with odd letters as\n",
    "\n",
    "P         M\n",
    " R      A\n",
    "   O  R\n",
    "     G\n",
    "  O    R\n",
    " R       A\n",
    "P          M \n",
    "'''\n",
    "s='PROGRAM'\n",
    "remove_center=s.replace(\"PROGRAM\",\"PRORAM\")\n",
    "print(remove_center)\n",
    "s1=len(remove_center)\n",
    "n=s1\n",
    "for e,i in enumerate(s):\n",
    "    for j in range(e):\n",
    "        print(\"  \",end=\"\")\n",
    "    print(i,end=\" \")\n",
    "    #print()\n",
    "    for l in range(n-e+1):\n",
    "        print(\" \",end=\"\")\n",
    "    print(remove_center[n-1],end=\"\")\n",
    "    print()\n",
    "    n-=1\n",
    "    "
   ]
  },
  {
   "cell_type": "code",
   "execution_count": 155,
   "id": "5eea3323",
   "metadata": {},
   "outputs": [
    {
     "name": "stdout",
     "output_type": "stream",
     "text": [
      "Enter the Input:a4b6\n",
      "aaaabbbbbb"
     ]
    }
   ],
   "source": [
    "'''\n",
    "1. Write a program to give the following output for the given input\n",
    "\n",
    "Eg 1: Input: a1b10\n",
    "       Output: abbbbbbbbbb\n",
    "Eg: 2: Input: b3c6d15\n",
    "          Output: bbbccccccddddddddddddddd\n",
    "The number varies from 1 to 99.\n",
    "'''\n",
    "#Imported Regular Expression and String Module\n",
    "import re\n",
    "import string\n",
    "#getting Input from user\n",
    "inputt=input(\"Enter the Input:\")\n",
    "#here we are storing all Alphapetical lower character to list\n",
    "list1=list(string.ascii_lowercase)\n",
    "#print(list1)\n",
    "#we created two Empty list and one Empty string\n",
    "list2=[]\n",
    "list3=[]\n",
    "s=''\n",
    "for i in inputt:\n",
    "    if(i in list1):\n",
    "        #in list3 we storing user given character\n",
    "        list3.append(i)\n",
    "        #in list2 we storing user given number\n",
    "        list2.append(s)\n",
    "        s=''\n",
    "    else:\n",
    "        #here storing user given number\n",
    "        s+=i\n",
    "list2.append(s)\n",
    "#print(list2)\n",
    "#removing all Empty charater in list\n",
    "list2.remove(\"\")\n",
    "#print(list3)\n",
    "#print(list2)\n",
    "for i,j in zip(list3,list2):\n",
    "    if(int(j)<100):\n",
    "        print(i*int(j),end=\"\")\n",
    "    else:\n",
    "        print(\"Please Enter lessthan 100\")\n",
    "\n"
   ]
  },
  {
   "cell_type": "code",
   "execution_count": null,
   "id": "ab013695",
   "metadata": {},
   "outputs": [],
   "source": []
  },
  {
   "cell_type": "code",
   "execution_count": null,
   "id": "4dca3b47",
   "metadata": {},
   "outputs": [],
   "source": [
    "'''\n",
    "2. Write a program to sort the elements in odd positions in descending order and elements in ascending order\n",
    "\n",
    "Eg 1: Input: 13,2 4,15,12,10,5\n",
    "        Output: 13,2,12,10,5,15,4\n",
    "Eg 2: Input: 1,2,3,4,5,6,7,8,9\n",
    "        Output: 9,2,7,4,5,6,3,8,1 \n",
    "'''"
   ]
  },
  {
   "cell_type": "code",
   "execution_count": 23,
   "id": "d4ff4a53",
   "metadata": {},
   "outputs": [
    {
     "name": "stdout",
     "output_type": "stream",
     "text": [
      "0\n",
      "1\n",
      "1\n",
      "1\n",
      "1\n",
      "1\n",
      "1\n",
      "1\n",
      "1\n",
      "2\n",
      "3\n",
      "4\n",
      "5\n",
      "6\n"
     ]
    }
   ],
   "source": [
    "str=\"karthik\"\n",
    "i=0\n",
    "j=0\n",
    "while i<len(str):\n",
    "    print(i)\n",
    "    i+=1\n",
    "    while j<len(str):\n",
    "        print(i)\n",
    "        j+=1\n",
    "    "
   ]
  },
  {
   "cell_type": "code",
   "execution_count": 106,
   "id": "815099e2",
   "metadata": {},
   "outputs": [
    {
     "name": "stdout",
     "output_type": "stream",
     "text": [
      "                0 \n",
      "              1 0 1 \n",
      "            2 1 0 1 2 \n",
      "          3 2 1 0 1 2 3 \n",
      "        4 3 2 1 0 1 2 3 4 \n",
      "      5 4 3 2 1 0 1 2 3 4 5 \n",
      "    6 5 4 3 2 1 0 1 2 3 4 5 6 \n",
      "  7 6 5 4 3 2 1 0 1 2 3 4 5 6 7 \n",
      "    6 5 4 3 2 1 0 1 2 3 4 5 6 \n",
      "      5 4 3 2 1 0 1 2 3 4 5 \n",
      "        4 3 2 1 0 1 2 3 4 \n",
      "          3 2 1 0 1 2 3 \n",
      "            2 1 0 1 2 \n",
      "              1 0 1 \n",
      "                0 \n"
     ]
    }
   ],
   "source": [
    "'''Write a program to print the below pattern with the numbers\n",
    "sample:if the input is 5\n",
    "output:\n",
    "          0\n",
    "        1 0 1\n",
    "      2 1 0 1 2\n",
    "    3 2 1 0 1 2 3\n",
    "  4 3 2 1 0 1 2 3 4\n",
    "5 4 3 2 1 0 1 2 3 4 5\n",
    "  4 3 2 1 0 1 2 3 4\n",
    "    3 2 1 0 1 2 3 \n",
    "      2 1 0 1 2 \n",
    "        1 0 1\n",
    "          0\n",
    "          '''\n",
    "       \n",
    "inpp=7\n",
    "for i in range(inpp+1):\n",
    "    for j in range(inpp+1,i,-1):\n",
    "        print(\" \",end=\" \")\n",
    "    for k in range(i,-1,-1):\n",
    "        print(k,end=\" \")\n",
    "    for l in range(1,i+1):\n",
    "        print(l,end=\" \")\n",
    "    print()\n",
    "n=inpp\n",
    "for i in range(inpp):\n",
    "    for j in range(i+2):\n",
    "        print(\" \",end=\" \")\n",
    "    for k in range(n-1,-1,-1):\n",
    "        print(k,end=\" \")\n",
    "    for l in range(1,n):\n",
    "        print(l,end=\" \")\n",
    "    n-=1\n",
    "    print()"
   ]
  },
  {
   "cell_type": "code",
   "execution_count": 8,
   "id": "5bc79b94",
   "metadata": {},
   "outputs": [
    {
     "name": "stdout",
     "output_type": "stream",
     "text": [
      "123\n",
      "567\n",
      "91011\n",
      "131415\n",
      "\n",
      "123\n",
      "567\n",
      "91011\n",
      "131415\n",
      "\n",
      "123\n",
      "567\n",
      "91011\n",
      "131415\n",
      "\n",
      "123\n",
      "567\n",
      "91011\n",
      "131415\n",
      "\n",
      "123\n",
      "567\n",
      "91011\n",
      "131415\n",
      "\n"
     ]
    }
   ],
   "source": [
    "'''\n",
    "write a program to print snake matrix in the following pattern with out using array and if conditions\n",
    "input:4\n",
    "output:\n",
    "               1   2   3   4\n",
    "           8   7   6   5\n",
    "        9  10  11  12 \n",
    "   16  15  14  13\n",
    "'''\n",
    "inp=4\n",
    "s=inp**2\n",
    "for i in range(inp+1):\n",
    "    for j in range(1,s+1):\n",
    "        if(j%4==0):\n",
    "            print()\n",
    "        else:\n",
    "            print(j,end=\"\")\n",
    "    print()"
   ]
  },
  {
   "cell_type": "code",
   "execution_count": 19,
   "id": "d2197c08",
   "metadata": {},
   "outputs": [
    {
     "name": "stdout",
     "output_type": "stream",
     "text": [
      "UNION: {1, 2, 3, 4, 5, 6, 8, 9}\n",
      "INTERSECTION: [1, 5, 8, 9]\n",
      "Except: [1, 3, 5, 9, 8, 2]\n"
     ]
    }
   ],
   "source": [
    "'''\n",
    "4. Find the union intersection of two list and also find except (remove even \n",
    "elements from list1 and odd elements from list2)\n",
    "Input\n",
    "List 1: 1,3,4,5,6,8,9\n",
    "List 2: 1,5,8,9,2\n",
    "Union: 1,3,4,5,6,8,9,2\n",
    "Intersection: 1,5,8,9\n",
    "Except: 1, 3, 5,9,8,2\n",
    "'''\n",
    "class find:\n",
    "    def __init__(self):\n",
    "        self.listt1=[1,3,4,5,6,8,9]\n",
    "        self.listt2=[1,5,8,9,2]\n",
    "        self.sett1=set(self.listt1)\n",
    "        self.sett2=set(self.listt2)\n",
    "    def union(self):\n",
    "        print(\"UNION:\",self.sett2|self.sett1)\n",
    "        \n",
    "    def intersection(self):\n",
    "        print(\"INTERSECTION:\",sorted(self.sett2&self.sett1))\n",
    "    def except1(self):\n",
    "        list3=[l for l in self.listt1 if l%2!=0]\n",
    "        list4=[l for l in self.listt2 if l%2==0]\n",
    "        print(\"Except:\",list3+list4)\n",
    "f=find()\n",
    "f.union()\n",
    "f.intersection()\n",
    "f.except1()\n",
    "        "
   ]
  },
  {
   "cell_type": "code",
   "execution_count": 47,
   "id": "b4703898",
   "metadata": {},
   "outputs": [
    {
     "name": "stdout",
     "output_type": "stream",
     "text": [
      "Enter the Number of Digit:4\n",
      "Enter the Number:4691\n",
      "The Biggest prime number is: 9641\n"
     ]
    }
   ],
   "source": [
    "'''\n",
    "5. Find the largest possible prime number with given no\n",
    "Input\n",
    "5\n",
    "4691\n",
    "Output:\n",
    "9461\n",
    "'''\n",
    "#getting Input From User\n",
    "No_of_Digit=int(input(\"Enter the Number of Digit:\"))\n",
    "inn=int(input(\"Enter the Number:\"))\n",
    "#checking whether user giving above mentioned Digit or not\n",
    "if(No_of_Digit==len(str(inn))):\n",
    "    if(inn>1):   \n",
    "        #converting user given input to list using list comprehension\n",
    "        list1=[li for li in str(inn)]\n",
    "        #print(list1)\n",
    "        #finding Possible Lowest rearrange number for user input\n",
    "        lowest=\"\".join(sorted(list1))\n",
    "        #print(lowest)\n",
    "        #finding Possible biggest rearrange number for user input\n",
    "        highest=\"\".join(sorted(list1,reverse=True))\n",
    "        #print(highest)\n",
    "        #finding biggest prime number from lowest to highest\n",
    "        prime=0\n",
    "        for i in range(int(lowest),int(highest)+1):\n",
    "            for j in range(2,i):\n",
    "                if i%j!=0:\n",
    "                    prime=i\n",
    "        print(\"The Biggest prime number is:\",prime) \n",
    "    elif(inn==1):\n",
    "        print(\"The Biggest prime number is:\",inn)\n",
    "    else:\n",
    "        print(\"Plese enter 1 or more than 1\")\n",
    "            \n",
    "else:\n",
    "    print(\"Please Enter Above Mentioned Number Of Digit\")\n",
    "\n",
    "    \n"
   ]
  },
  {
   "cell_type": "code",
   "execution_count": 167,
   "id": "b5ceed1b",
   "metadata": {},
   "outputs": [
    {
     "name": "stdout",
     "output_type": "stream",
     "text": [
      "[['w', 'e', 'L', 'C', 'O'], ['M', 'E', 'T', 'O', 'Z'], ['O', 'H', 'O', 'C', 'O'], ['R', 'P', 'O', 'R', 'A'], ['T', 'I', 'O', 'n']]\n"
     ]
    },
    {
     "ename": "TypeError",
     "evalue": "expected string or bytes-like object",
     "output_type": "error",
     "traceback": [
      "\u001b[1;31m---------------------------------------------------------------------------\u001b[0m",
      "\u001b[1;31mTypeError\u001b[0m                                 Traceback (most recent call last)",
      "Cell \u001b[1;32mIn[167], line 46\u001b[0m\n\u001b[0;32m     34\u001b[0m \u001b[38;5;28mprint\u001b[39m(ll2)\n\u001b[0;32m     35\u001b[0m \u001b[38;5;124;03m'''\u001b[39;00m\n\u001b[0;32m     36\u001b[0m \u001b[38;5;124;03mi=0\u001b[39;00m\n\u001b[0;32m     37\u001b[0m \u001b[38;5;124;03mwhile i<lr:\u001b[39;00m\n\u001b[1;32m   (...)\u001b[0m\n\u001b[0;32m     44\u001b[0m \u001b[38;5;124;03mprint(arr1.ndim)  \u001b[39;00m\n\u001b[0;32m     45\u001b[0m \u001b[38;5;124;03m'''\u001b[39;00m\n\u001b[1;32m---> 46\u001b[0m result\u001b[38;5;241m=\u001b[39m\u001b[43mre\u001b[49m\u001b[38;5;241;43m.\u001b[39;49m\u001b[43msearch\u001b[49m\u001b[43m(\u001b[49m\u001b[38;5;124;43m\"\u001b[39;49m\u001b[38;5;124;43mtoo\u001b[39;49m\u001b[38;5;124;43m\"\u001b[39;49m\u001b[43m,\u001b[49m\u001b[43mll2\u001b[49m\u001b[43m,\u001b[49m\u001b[43mre\u001b[49m\u001b[38;5;241;43m.\u001b[39;49m\u001b[43mIGNORECASE\u001b[49m\u001b[43m)\u001b[49m\n\u001b[0;32m     47\u001b[0m \u001b[38;5;28mprint\u001b[39m(result)\n",
      "File \u001b[1;32mC:\\ProgramData\\anaconda3\\lib\\re.py:200\u001b[0m, in \u001b[0;36msearch\u001b[1;34m(pattern, string, flags)\u001b[0m\n\u001b[0;32m    197\u001b[0m \u001b[38;5;28;01mdef\u001b[39;00m \u001b[38;5;21msearch\u001b[39m(pattern, string, flags\u001b[38;5;241m=\u001b[39m\u001b[38;5;241m0\u001b[39m):\n\u001b[0;32m    198\u001b[0m     \u001b[38;5;124;03m\"\"\"Scan through string looking for a match to the pattern, returning\u001b[39;00m\n\u001b[0;32m    199\u001b[0m \u001b[38;5;124;03m    a Match object, or None if no match was found.\"\"\"\u001b[39;00m\n\u001b[1;32m--> 200\u001b[0m     \u001b[38;5;28;01mreturn\u001b[39;00m \u001b[43m_compile\u001b[49m\u001b[43m(\u001b[49m\u001b[43mpattern\u001b[49m\u001b[43m,\u001b[49m\u001b[43m \u001b[49m\u001b[43mflags\u001b[49m\u001b[43m)\u001b[49m\u001b[38;5;241;43m.\u001b[39;49m\u001b[43msearch\u001b[49m\u001b[43m(\u001b[49m\u001b[43mstring\u001b[49m\u001b[43m)\u001b[49m\n",
      "\u001b[1;31mTypeError\u001b[0m: expected string or bytes-like object"
     ]
    }
   ],
   "source": [
    "'''\n",
    "3. Save the string “WELCOMETOZOHOCORPORATION” in a two \n",
    "dimensional array and search for substring like “too” in the two \n",
    "dimensional string both from left to right and from top to bottom.\n",
    "w e L C O\n",
    "M E T O Z\n",
    "O H O C O\n",
    "R P O R A\n",
    "T I O n \n",
    "And print the start and ending index as\n",
    "Start index : <1,2>\n",
    "End index: <3, 2>\n",
    "'''\n",
    "import numpy as np\n",
    "import re\n",
    "S=list(\"weLCOMETOZOHOCORPORATIOn\")\n",
    "rows=5\n",
    "ll=[]\n",
    "ll2=[]\n",
    "i=0\n",
    "length=len(S)\n",
    "while i<length:\n",
    "    if i<5:\n",
    "        ll.append(S[i])\n",
    "        i+=1\n",
    "    else:\n",
    "        ll2.append(ll)\n",
    "        ll=[]\n",
    "        del S[0:5]\n",
    "        i=0\n",
    "        length=len(S)\n",
    "ll2.append(ll) \n",
    "lr=len(ll2)\n",
    "print(ll2)\n",
    "'''\n",
    "i=0\n",
    "while i<lr:\n",
    "    arr=np.array([ll2[i]])\n",
    "    print(arr)\n",
    "    i+=1\n",
    "arr1=np.array([ll2],dtype=object)\n",
    "#print(arr1)\n",
    "print(type(arr1))\n",
    "print(arr1.ndim)  \n",
    "'''\n",
    "result=re.search(\"too\",ll2,re.IGNORECASE)\n",
    "print(result)"
   ]
  },
  {
   "cell_type": "code",
   "execution_count": 123,
   "id": "8a9c6e3d",
   "metadata": {},
   "outputs": [
    {
     "name": "stdout",
     "output_type": "stream",
     "text": [
      "[64. 23.  2.  4.]\n"
     ]
    }
   ],
   "source": [
    "arr=np.array([])\n",
    "s=np.append(arr,[5,6,7,8])\n",
    "s1=np.append(arr,[64,23,2,4])\n",
    "print(s1)"
   ]
  },
  {
   "cell_type": "code",
   "execution_count": null,
   "id": "c7339eca",
   "metadata": {},
   "outputs": [],
   "source": []
  }
 ],
 "metadata": {
  "kernelspec": {
   "display_name": "Python 3 (ipykernel)",
   "language": "python",
   "name": "python3"
  },
  "language_info": {
   "codemirror_mode": {
    "name": "ipython",
    "version": 3
   },
   "file_extension": ".py",
   "mimetype": "text/x-python",
   "name": "python",
   "nbconvert_exporter": "python",
   "pygments_lexer": "ipython3",
   "version": "3.10.9"
  }
 },
 "nbformat": 4,
 "nbformat_minor": 5
}
