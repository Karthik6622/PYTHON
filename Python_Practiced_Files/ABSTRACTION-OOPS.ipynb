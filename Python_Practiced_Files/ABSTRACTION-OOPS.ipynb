{
 "cells": [
  {
   "cell_type": "markdown",
   "id": "c964c38d",
   "metadata": {},
   "source": [
    "# ABSTRACTION-OOPS"
   ]
  },
  {
   "cell_type": "code",
   "execution_count": 2,
   "id": "1d23fc5f",
   "metadata": {},
   "outputs": [
    {
     "name": "stdout",
     "output_type": "stream",
     "text": [
      "Enter the string to find a Length:baby\n",
      "The length of given string is: 4\n"
     ]
    }
   ],
   "source": [
    "#Abstraction-hide interal functionality\n",
    "from MODULES import *\n",
    "inp=input(\"Enter the string to find a Length:\")\n",
    "lenofstring(inp)\n",
    "#here we seeing only outside implementation,but inside lenofstring() function running from another file this is abstraction"
   ]
  },
  {
   "cell_type": "code",
   "execution_count": 3,
   "id": "db457df6",
   "metadata": {},
   "outputs": [
    {
     "ename": "TypeError",
     "evalue": "Can't instantiate abstract class A with abstract method abst",
     "output_type": "error",
     "traceback": [
      "\u001b[1;31m---------------------------------------------------------------------------\u001b[0m",
      "\u001b[1;31mTypeError\u001b[0m                                 Traceback (most recent call last)",
      "Cell \u001b[1;32mIn[3], line 10\u001b[0m\n\u001b[0;32m      7\u001b[0m     \u001b[38;5;129m@abstractmethod\u001b[39m\n\u001b[0;32m      8\u001b[0m     \u001b[38;5;28;01mdef\u001b[39;00m \u001b[38;5;21mabst\u001b[39m(\u001b[38;5;28mself\u001b[39m):\n\u001b[0;32m      9\u001b[0m         \u001b[38;5;28mprint\u001b[39m(\u001b[38;5;124m\"\u001b[39m\u001b[38;5;124mAbstrct method\u001b[39m\u001b[38;5;124m\"\u001b[39m)\n\u001b[1;32m---> 10\u001b[0m a\u001b[38;5;241m=\u001b[39m\u001b[43mA\u001b[49m\u001b[43m(\u001b[49m\u001b[43m)\u001b[49m\n\u001b[0;32m     11\u001b[0m a\u001b[38;5;241m.\u001b[39mabst()\n",
      "\u001b[1;31mTypeError\u001b[0m: Can't instantiate abstract class A with abstract method abst"
     ]
    }
   ],
   "source": [
    "#Abstract class-A class which is contains one or more abstract method is called as abstract class\n",
    "#once if we created abstract method,we need to implement abstact method inside the sub class which inherted abstact class\n",
    "from abc import ABC,abstractmethod\n",
    "class A(ABC):\n",
    "    def __init__(self):\n",
    "        print(\"HI Karthik\")\n",
    "    @abstractmethod\n",
    "    def abst(self):\n",
    "        print(\"Abstrct method\")\n",
    "a=A()\n",
    "a.abst()\n",
    "#we can't directly create object for abstract class"
   ]
  },
  {
   "cell_type": "code",
   "execution_count": 4,
   "id": "501d98b6",
   "metadata": {},
   "outputs": [
    {
     "name": "stdout",
     "output_type": "stream",
     "text": [
      "Abstract----\n"
     ]
    }
   ],
   "source": [
    "#here we have created abstract class but it was not inherited by any class. if not inherited means,no need to call abstrct method\n",
    "from abc import ABC,abstractmethod\n",
    "class A(ABC):\n",
    "    def __init__(self):\n",
    "        print(\"HI Karthik\")\n",
    "    @abstractmethod\n",
    "    def abst(self):\n",
    "        print(\"Abstrct method\")\n",
    "\n",
    "class B():\n",
    "    def abst1(self):\n",
    "        print(\"Abstract----\")\n",
    "b=B()\n",
    "b.abst1()"
   ]
  },
  {
   "cell_type": "code",
   "execution_count": 5,
   "id": "b5ff2e40",
   "metadata": {},
   "outputs": [
    {
     "ename": "TypeError",
     "evalue": "Can't instantiate abstract class B with abstract method abst",
     "output_type": "error",
     "traceback": [
      "\u001b[1;31m---------------------------------------------------------------------------\u001b[0m",
      "\u001b[1;31mTypeError\u001b[0m                                 Traceback (most recent call last)",
      "Cell \u001b[1;32mIn[5], line 12\u001b[0m\n\u001b[0;32m     10\u001b[0m     \u001b[38;5;28;01mdef\u001b[39;00m \u001b[38;5;21mabst1\u001b[39m(\u001b[38;5;28mself\u001b[39m):\n\u001b[0;32m     11\u001b[0m         \u001b[38;5;28mprint\u001b[39m(\u001b[38;5;124m\"\u001b[39m\u001b[38;5;124mAbstract----\u001b[39m\u001b[38;5;124m\"\u001b[39m)\n\u001b[1;32m---> 12\u001b[0m b\u001b[38;5;241m=\u001b[39m\u001b[43mB\u001b[49m\u001b[43m(\u001b[49m\u001b[43m)\u001b[49m\n\u001b[0;32m     13\u001b[0m b\u001b[38;5;241m.\u001b[39mabst1()\n",
      "\u001b[1;31mTypeError\u001b[0m: Can't instantiate abstract class B with abstract method abst"
     ]
    }
   ],
   "source": [
    "#here we have created abstract class and it was inherited by sub class. if we inherited means,we need to call abstrct method inside the subclass otherwise it throw the error\n",
    "from abc import ABC,abstractmethod\n",
    "class A(ABC):\n",
    "    def __init__(self):\n",
    "        print(\"HI Karthik\")\n",
    "    @abstractmethod\n",
    "    def abst(self):\n",
    "        print(\"Abstrct method\")\n",
    "\n",
    "class B(A):\n",
    "    def abst1(self):\n",
    "        print(\"Abstract----\")\n",
    "b=B()\n",
    "b.abst1()"
   ]
  },
  {
   "cell_type": "code",
   "execution_count": 6,
   "id": "084ed8bd",
   "metadata": {},
   "outputs": [
    {
     "name": "stdout",
     "output_type": "stream",
     "text": [
      "Abstract----\n",
      "Abstract method\n"
     ]
    }
   ],
   "source": [
    "#we should declare abstract class method inside inherited subclass.except that we can create any method as our wish\n",
    "from abc import ABC,abstractmethod\n",
    "class A(ABC):\n",
    "    @abstractmethod\n",
    "    def abst(self):\n",
    "        pass\n",
    "class B(A):\n",
    "    def abst1(self):\n",
    "        print(\"Abstract----\")\n",
    "    def abst(self):\n",
    "        print(\"Abstract method\")\n",
    "b=B()\n",
    "b.abst1()\n",
    "b.abst()"
   ]
  },
  {
   "cell_type": "code",
   "execution_count": 7,
   "id": "df1a0dde",
   "metadata": {},
   "outputs": [
    {
     "name": "stdout",
     "output_type": "stream",
     "text": [
      "Dog name is Denu and Vicky\n",
      "Dog is Parking\n",
      "Cat name is manju\n",
      "Dog is Meowing\n"
     ]
    },
    {
     "ename": "TypeError",
     "evalue": "Can't instantiate abstract class tiger with abstract method voice",
     "output_type": "error",
     "traceback": [
      "\u001b[1;31m---------------------------------------------------------------------------\u001b[0m",
      "\u001b[1;31mTypeError\u001b[0m                                 Traceback (most recent call last)",
      "Cell \u001b[1;32mIn[7], line 25\u001b[0m\n\u001b[0;32m     23\u001b[0m c\u001b[38;5;241m.\u001b[39mname()\n\u001b[0;32m     24\u001b[0m c\u001b[38;5;241m.\u001b[39mvoice()\n\u001b[1;32m---> 25\u001b[0m t\u001b[38;5;241m=\u001b[39m\u001b[43mtiger\u001b[49m\u001b[43m(\u001b[49m\u001b[43m)\u001b[49m\n\u001b[0;32m     26\u001b[0m t\u001b[38;5;241m.\u001b[39mname()\n",
      "\u001b[1;31mTypeError\u001b[0m: Can't instantiate abstract class tiger with abstract method voice"
     ]
    }
   ],
   "source": [
    "#we did'not implement abstract method inside the tiger class so it's throwing the error\n",
    "from abc import ABC,abstractmethod\n",
    "class animal(ABC):\n",
    "    @abstractmethod\n",
    "    def voice(self):\n",
    "        pass\n",
    "class dog(animal):\n",
    "    def name(self):\n",
    "        print(\"Dog name is Denu and Vicky\")\n",
    "    def voice(self):\n",
    "        print(\"Dog is Parking\")\n",
    "class cat(animal):\n",
    "    def name(self):\n",
    "        print(\"Cat name is manju\")\n",
    "    def voice(self):\n",
    "        print(\"Dog is Meowing\")\n",
    "class tiger(animal):\n",
    "    def name(self):\n",
    "        print(\"Tiger name is tiger\")\n",
    "d=dog()\n",
    "d.name()\n",
    "d.voice()\n",
    "c=cat()\n",
    "c.name()\n",
    "c.voice()\n",
    "t=tiger()\n",
    "t.name()\n"
   ]
  },
  {
   "cell_type": "code",
   "execution_count": 8,
   "id": "4bcf3d1b",
   "metadata": {},
   "outputs": [
    {
     "name": "stdout",
     "output_type": "stream",
     "text": [
      "Dog name is Denu and Vicky\n",
      "Dog is Parking\n",
      "Cat name is manju\n",
      "cat is Meowing\n",
      "Tiger name is tiger\n",
      "Tiger is Roaring\n"
     ]
    }
   ],
   "source": [
    "#we implemented abstect method to all classes\n",
    "from abc import ABC,abstractmethod\n",
    "class animal(ABC):\n",
    "    @abstractmethod\n",
    "    def voice(self):\n",
    "        pass\n",
    "class dog(animal):\n",
    "    def name(self):\n",
    "        print(\"Dog name is Denu and Vicky\")\n",
    "    def voice(self):\n",
    "        print(\"Dog is Parking\")\n",
    "class cat(animal):\n",
    "    def name(self):\n",
    "        print(\"Cat name is manju\")\n",
    "    def voice(self):\n",
    "        print(\"cat is Meowing\")\n",
    "class tiger(animal):\n",
    "    def name(self):\n",
    "        print(\"Tiger name is tiger\")\n",
    "    def voice(self):\n",
    "        print(\"Tiger is Roaring\")\n",
    "d=dog()\n",
    "d.name()\n",
    "d.voice()\n",
    "c=cat()\n",
    "c.name()\n",
    "c.voice()\n",
    "t=tiger()\n",
    "t.name()\n",
    "t.voice()"
   ]
  },
  {
   "cell_type": "code",
   "execution_count": null,
   "id": "6be3a0af",
   "metadata": {},
   "outputs": [],
   "source": []
  }
 ],
 "metadata": {
  "kernelspec": {
   "display_name": "Python 3 (ipykernel)",
   "language": "python",
   "name": "python3"
  },
  "language_info": {
   "codemirror_mode": {
    "name": "ipython",
    "version": 3
   },
   "file_extension": ".py",
   "mimetype": "text/x-python",
   "name": "python",
   "nbconvert_exporter": "python",
   "pygments_lexer": "ipython3",
   "version": "3.10.9"
  }
 },
 "nbformat": 4,
 "nbformat_minor": 5
}
