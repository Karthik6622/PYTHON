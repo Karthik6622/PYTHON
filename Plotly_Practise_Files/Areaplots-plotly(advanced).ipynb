{
 "cells": [
  {
   "cell_type": "markdown",
   "id": "4d047f8f",
   "metadata": {},
   "source": [
    "# Areaplots"
   ]
  },
  {
   "cell_type": "code",
   "execution_count": 1,
   "id": "8f3bb293",
   "metadata": {},
   "outputs": [],
   "source": [
    "#importing required library\n",
    "from plotly.offline import plot\n",
    "import plotly.graph_objects as go\n",
    "import numpy as np"
   ]
  },
  {
   "cell_type": "markdown",
   "id": "afdb62d5",
   "metadata": {},
   "source": [
    "# Basic Areacharts"
   ]
  },
  {
   "cell_type": "code",
   "execution_count": 3,
   "id": "fae9d45c",
   "metadata": {},
   "outputs": [
    {
     "data": {
      "text/plain": [
       "'AreaChart.html'"
      ]
     },
     "execution_count": 3,
     "metadata": {},
     "output_type": "execute_result"
    }
   ],
   "source": [
    "#here we filling x area\n",
    "x_data = [1, 2, 3, 4, 5]\n",
    "y_data = [10, 8, 6, 4, 2]\n",
    "# Create an area chart trace\n",
    "trace = go.Scatter(\n",
    "    x=x_data,\n",
    "    y=y_data,\n",
    "    mode='lines+markers', \n",
    "    fill='tozeroy',  # Fill area to the x-axis .we can give 'tonexty' value also give sameoutput\n",
    "    name='Area Chart',\n",
    "    fillcolor='green',\n",
    "    marker=dict(\n",
    "    line=dict(\n",
    "       color='red',\n",
    "        #width=5\n",
    "    ),\n",
    "        size=10,          # Marker size\n",
    "        color='blue'),\n",
    "    text='Data Point'\n",
    ")\n",
    "\n",
    "# Define the layout\n",
    "layout = go.Layout(\n",
    "    title='Area Chart Example',\n",
    "    xaxis_title='X-Axis',\n",
    "    yaxis_title='Y-Axis'\n",
    ")\n",
    "\n",
    "# Create a figure with the area chart trace and layout\n",
    "fig = go.Figure(data=[trace], layout=layout)\n",
    "\n",
    "# Use plot() to generate the HTML file\n",
    "plot(fig, filename=\"AreaChart.html\")\n"
   ]
  },
  {
   "cell_type": "code",
   "execution_count": 4,
   "id": "9c06e4d5",
   "metadata": {},
   "outputs": [
    {
     "data": {
      "text/plain": [
       "'temp-plot.html'"
      ]
     },
     "execution_count": 4,
     "metadata": {},
     "output_type": "execute_result"
    }
   ],
   "source": [
    "#filling y area\n",
    "x_data = [1, 2, 3, 4, 5]\n",
    "y_data = [10, 8, 6, 4, 2]\n",
    "trace=go.Scatter(\n",
    "x=x_data,\n",
    "    y=y_data,\n",
    "    mode='none',\n",
    "    fill='tonextx', #Fill area to the x-axis .we can give 'tozerox' value also give sameoutput\n",
    "    fillcolor=\"orange\"\n",
    ")\n",
    "plot([trace])"
   ]
  },
  {
   "cell_type": "markdown",
   "id": "42fc5b33",
   "metadata": {},
   "source": [
    "# stacked area chart"
   ]
  },
  {
   "cell_type": "code",
   "execution_count": 11,
   "id": "d627841d",
   "metadata": {},
   "outputs": [
    {
     "data": {
      "text/plain": [
       "'StackedAreaChart.html'"
      ]
     },
     "execution_count": 11,
     "metadata": {},
     "output_type": "execute_result"
    }
   ],
   "source": [
    "import plotly.graph_objs as go\n",
    "from plotly.offline import plot\n",
    "'''\n",
    "stackarea-A stacked area chart in Plotly represents multiple data series as filled areas, with each area stacked on top of the previous one.\n",
    "'''\n",
    "\n",
    "# Sample data\n",
    "x_data = [1, 2, 3, 4, 5]\n",
    "y_data1 = [10, 8, 6, 4, 2]\n",
    "y_data2 = [5, 6, 7, 8, 9]\n",
    "y_data3 = [2, 4, 6, 8, 10]\n",
    "\n",
    "# Create stacked area chart traces\n",
    "trace1 = go.Scatter(\n",
    "    x=x_data,\n",
    "    y=y_data1,\n",
    "    mode='none',# Set to 'none' for area chart without lines\n",
    "    hoverinfo='x+y',\n",
    "    fillcolor=\"red\",\n",
    "    fill='tozeroy',  # Fill area to the x-axis\n",
    "    name='Category 1',\n",
    "    stackgroup='one',  # Stack group name\n",
    "    line=dict(width=0)  # Set line width to 0 for a clean appearance\n",
    ")\n",
    "\n",
    "trace2 = go.Scatter(\n",
    "    x=x_data,\n",
    "    y=y_data2,\n",
    "    mode='none',\n",
    "    hoverinfo='x+y',\n",
    "    fillcolor=\"yellow\",\n",
    "    fill='tonexty',  # Fill to the next trace\n",
    "    name='Category 2',\n",
    "    stackgroup='one',\n",
    "    line=dict(width=0)\n",
    ")\n",
    "\n",
    "trace3 = go.Scatter(\n",
    "    x=x_data,\n",
    "    y=y_data3,\n",
    "    mode='none',\n",
    "    hoverinfo='x+y',\n",
    "    fillcolor=\"green\",\n",
    "    fill='tonexty',  # Fill to the next trace\n",
    "    name='Category 3',\n",
    "    stackgroup='two',\n",
    "    line=dict(width=0)\n",
    ")\n",
    "\n",
    "# Define the layout\n",
    "layout = go.Layout(\n",
    "    title='Stacked Area Chart Example',\n",
    "    xaxis=dict(title='X-Axis'),\n",
    "    yaxis=dict(title='Y-Axis'),\n",
    "    showlegend=True  # Show legend for trace names\n",
    ")\n",
    "\n",
    "# Create a figure with the stacked area chart traces and layout\n",
    "fig = go.Figure(data=[trace1, trace2, trace3], layout=layout)\n",
    "\n",
    "# Use plot() to generate the HTML file\n",
    "plot(fig, filename=\"StackedAreaChart.html\")\n"
   ]
  },
  {
   "cell_type": "code",
   "execution_count": null,
   "id": "9b19a6b4",
   "metadata": {},
   "outputs": [],
   "source": []
  }
 ],
 "metadata": {
  "kernelspec": {
   "display_name": "Python 3 (ipykernel)",
   "language": "python",
   "name": "python3"
  },
  "language_info": {
   "codemirror_mode": {
    "name": "ipython",
    "version": 3
   },
   "file_extension": ".py",
   "mimetype": "text/x-python",
   "name": "python",
   "nbconvert_exporter": "python",
   "pygments_lexer": "ipython3",
   "version": "3.10.9"
  }
 },
 "nbformat": 4,
 "nbformat_minor": 5
}
