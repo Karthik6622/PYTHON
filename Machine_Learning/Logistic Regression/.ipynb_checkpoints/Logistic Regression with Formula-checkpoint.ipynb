{
 "cells": [
  {
   "cell_type": "markdown",
   "id": "336c8418",
   "metadata": {},
   "source": [
    "# Logistic Regression with Formula"
   ]
  },
  {
   "cell_type": "code",
   "execution_count": 51,
   "id": "19fbea92",
   "metadata": {},
   "outputs": [],
   "source": [
    "import numpy as np\n",
    "import pandas as pd"
   ]
  },
  {
   "cell_type": "code",
   "execution_count": 52,
   "id": "682a5410",
   "metadata": {},
   "outputs": [
    {
     "data": {
      "text/html": [
       "<div>\n",
       "<style scoped>\n",
       "    .dataframe tbody tr th:only-of-type {\n",
       "        vertical-align: middle;\n",
       "    }\n",
       "\n",
       "    .dataframe tbody tr th {\n",
       "        vertical-align: top;\n",
       "    }\n",
       "\n",
       "    .dataframe thead th {\n",
       "        text-align: right;\n",
       "    }\n",
       "</style>\n",
       "<table border=\"1\" class=\"dataframe\">\n",
       "  <thead>\n",
       "    <tr style=\"text-align: right;\">\n",
       "      <th></th>\n",
       "      <th>studyinghour</th>\n",
       "      <th>pass/fail</th>\n",
       "    </tr>\n",
       "  </thead>\n",
       "  <tbody>\n",
       "    <tr>\n",
       "      <th>0</th>\n",
       "      <td>10</td>\n",
       "      <td>1</td>\n",
       "    </tr>\n",
       "    <tr>\n",
       "      <th>1</th>\n",
       "      <td>12</td>\n",
       "      <td>0</td>\n",
       "    </tr>\n",
       "    <tr>\n",
       "      <th>2</th>\n",
       "      <td>4</td>\n",
       "      <td>1</td>\n",
       "    </tr>\n",
       "    <tr>\n",
       "      <th>3</th>\n",
       "      <td>7</td>\n",
       "      <td>0</td>\n",
       "    </tr>\n",
       "    <tr>\n",
       "      <th>4</th>\n",
       "      <td>9</td>\n",
       "      <td>0</td>\n",
       "    </tr>\n",
       "  </tbody>\n",
       "</table>\n",
       "</div>"
      ],
      "text/plain": [
       "   studyinghour  pass/fail\n",
       "0            10          1\n",
       "1            12          0\n",
       "2             4          1\n",
       "3             7          0\n",
       "4             9          0"
      ]
     },
     "execution_count": 52,
     "metadata": {},
     "output_type": "execute_result"
    }
   ],
   "source": [
    "#creating own dataset for test the algorithm\n",
    "data={'studyinghour':[10,12,4,7,9],'pass/fail':[1,0,1,0,0]}\n",
    "dd=pd.DataFrame(data)\n",
    "dd"
   ]
  },
  {
   "cell_type": "code",
   "execution_count": 53,
   "id": "28286249",
   "metadata": {},
   "outputs": [],
   "source": [
    "x=dd[['studyinghour']].values\n",
    "y=dd['pass/fail'].values"
   ]
  },
  {
   "cell_type": "code",
   "execution_count": 54,
   "id": "fdebce4c",
   "metadata": {},
   "outputs": [
    {
     "data": {
      "text/plain": [
       "array([[10],\n",
       "       [12],\n",
       "       [ 4],\n",
       "       [ 7],\n",
       "       [ 9]], dtype=int64)"
      ]
     },
     "execution_count": 54,
     "metadata": {},
     "output_type": "execute_result"
    }
   ],
   "source": [
    "x#dependent variable"
   ]
  },
  {
   "cell_type": "code",
   "execution_count": 55,
   "id": "d9e99677",
   "metadata": {},
   "outputs": [
    {
     "data": {
      "text/plain": [
       "array([1, 0, 1, 0, 0], dtype=int64)"
      ]
     },
     "execution_count": 55,
     "metadata": {},
     "output_type": "execute_result"
    }
   ],
   "source": [
    "y#independent variable"
   ]
  },
  {
   "cell_type": "code",
   "execution_count": 56,
   "id": "04f7b690",
   "metadata": {},
   "outputs": [],
   "source": [
    "#assign values to train and test\n",
    "from sklearn.model_selection import train_test_split\n",
    "x_train,x_test,y_train,y_test=train_test_split(x,y,test_size=0.25,random_state=7)"
   ]
  },
  {
   "cell_type": "code",
   "execution_count": 57,
   "id": "1774ebcd",
   "metadata": {},
   "outputs": [
    {
     "data": {
      "text/plain": [
       "array([[ 4],\n",
       "       [12],\n",
       "       [ 9]], dtype=int64)"
      ]
     },
     "execution_count": 57,
     "metadata": {},
     "output_type": "execute_result"
    }
   ],
   "source": [
    "#displaying x_train values\n",
    "x_train"
   ]
  },
  {
   "cell_type": "code",
   "execution_count": 58,
   "id": "1cf63c7c",
   "metadata": {},
   "outputs": [
    {
     "data": {
      "text/plain": [
       "array([[10],\n",
       "       [ 7]], dtype=int64)"
      ]
     },
     "execution_count": 58,
     "metadata": {},
     "output_type": "execute_result"
    }
   ],
   "source": [
    "#displaying x_test values\n",
    "x_test"
   ]
  },
  {
   "cell_type": "code",
   "execution_count": 59,
   "id": "ff8fcf13",
   "metadata": {},
   "outputs": [],
   "source": [
    "#doing standarlization\n",
    "from sklearn.preprocessing import StandardScaler\n",
    "stan=StandardScaler()\n",
    "x_train=stan.fit_transform(x_train)\n",
    "x_test=stan.fit_transform(x_test)\n",
    "#from sklearn.preprocessing import MinMaxScaler\n",
    "#stan=MinMaxScaler()\n",
    "#x_train=stan.fit_transform(x_train)\n",
    "#x_test=stan.fit_transform(x_test)"
   ]
  },
  {
   "cell_type": "code",
   "execution_count": 60,
   "id": "454f45c5",
   "metadata": {},
   "outputs": [
    {
     "data": {
      "text/plain": [
       "array([[-1.31319831],\n",
       "       [ 1.1111678 ],\n",
       "       [ 0.20203051]])"
      ]
     },
     "execution_count": 60,
     "metadata": {},
     "output_type": "execute_result"
    }
   ],
   "source": [
    "#after standarlization x_train values\n",
    "x_train"
   ]
  },
  {
   "cell_type": "code",
   "execution_count": 61,
   "id": "3dbe5dd6",
   "metadata": {},
   "outputs": [
    {
     "data": {
      "text/plain": [
       "array([1, 0, 0], dtype=int64)"
      ]
     },
     "execution_count": 61,
     "metadata": {},
     "output_type": "execute_result"
    }
   ],
   "source": [
    "y_train"
   ]
  },
  {
   "cell_type": "code",
   "execution_count": 67,
   "id": "4d71ad80",
   "metadata": {},
   "outputs": [
    {
     "data": {
      "text/plain": [
       "array([[ 1.],\n",
       "       [-1.]])"
      ]
     },
     "execution_count": 67,
     "metadata": {},
     "output_type": "execute_result"
    }
   ],
   "source": [
    "#after standarlization x_test values\n",
    "x_test"
   ]
  },
  {
   "cell_type": "code",
   "execution_count": 64,
   "id": "3968e5c1",
   "metadata": {},
   "outputs": [
    {
     "data": {
      "text/html": [
       "<style>#sk-container-id-3 {color: black;background-color: white;}#sk-container-id-3 pre{padding: 0;}#sk-container-id-3 div.sk-toggleable {background-color: white;}#sk-container-id-3 label.sk-toggleable__label {cursor: pointer;display: block;width: 100%;margin-bottom: 0;padding: 0.3em;box-sizing: border-box;text-align: center;}#sk-container-id-3 label.sk-toggleable__label-arrow:before {content: \"▸\";float: left;margin-right: 0.25em;color: #696969;}#sk-container-id-3 label.sk-toggleable__label-arrow:hover:before {color: black;}#sk-container-id-3 div.sk-estimator:hover label.sk-toggleable__label-arrow:before {color: black;}#sk-container-id-3 div.sk-toggleable__content {max-height: 0;max-width: 0;overflow: hidden;text-align: left;background-color: #f0f8ff;}#sk-container-id-3 div.sk-toggleable__content pre {margin: 0.2em;color: black;border-radius: 0.25em;background-color: #f0f8ff;}#sk-container-id-3 input.sk-toggleable__control:checked~div.sk-toggleable__content {max-height: 200px;max-width: 100%;overflow: auto;}#sk-container-id-3 input.sk-toggleable__control:checked~label.sk-toggleable__label-arrow:before {content: \"▾\";}#sk-container-id-3 div.sk-estimator input.sk-toggleable__control:checked~label.sk-toggleable__label {background-color: #d4ebff;}#sk-container-id-3 div.sk-label input.sk-toggleable__control:checked~label.sk-toggleable__label {background-color: #d4ebff;}#sk-container-id-3 input.sk-hidden--visually {border: 0;clip: rect(1px 1px 1px 1px);clip: rect(1px, 1px, 1px, 1px);height: 1px;margin: -1px;overflow: hidden;padding: 0;position: absolute;width: 1px;}#sk-container-id-3 div.sk-estimator {font-family: monospace;background-color: #f0f8ff;border: 1px dotted black;border-radius: 0.25em;box-sizing: border-box;margin-bottom: 0.5em;}#sk-container-id-3 div.sk-estimator:hover {background-color: #d4ebff;}#sk-container-id-3 div.sk-parallel-item::after {content: \"\";width: 100%;border-bottom: 1px solid gray;flex-grow: 1;}#sk-container-id-3 div.sk-label:hover label.sk-toggleable__label {background-color: #d4ebff;}#sk-container-id-3 div.sk-serial::before {content: \"\";position: absolute;border-left: 1px solid gray;box-sizing: border-box;top: 0;bottom: 0;left: 50%;z-index: 0;}#sk-container-id-3 div.sk-serial {display: flex;flex-direction: column;align-items: center;background-color: white;padding-right: 0.2em;padding-left: 0.2em;position: relative;}#sk-container-id-3 div.sk-item {position: relative;z-index: 1;}#sk-container-id-3 div.sk-parallel {display: flex;align-items: stretch;justify-content: center;background-color: white;position: relative;}#sk-container-id-3 div.sk-item::before, #sk-container-id-3 div.sk-parallel-item::before {content: \"\";position: absolute;border-left: 1px solid gray;box-sizing: border-box;top: 0;bottom: 0;left: 50%;z-index: -1;}#sk-container-id-3 div.sk-parallel-item {display: flex;flex-direction: column;z-index: 1;position: relative;background-color: white;}#sk-container-id-3 div.sk-parallel-item:first-child::after {align-self: flex-end;width: 50%;}#sk-container-id-3 div.sk-parallel-item:last-child::after {align-self: flex-start;width: 50%;}#sk-container-id-3 div.sk-parallel-item:only-child::after {width: 0;}#sk-container-id-3 div.sk-dashed-wrapped {border: 1px dashed gray;margin: 0 0.4em 0.5em 0.4em;box-sizing: border-box;padding-bottom: 0.4em;background-color: white;}#sk-container-id-3 div.sk-label label {font-family: monospace;font-weight: bold;display: inline-block;line-height: 1.2em;}#sk-container-id-3 div.sk-label-container {text-align: center;}#sk-container-id-3 div.sk-container {/* jupyter's `normalize.less` sets `[hidden] { display: none; }` but bootstrap.min.css set `[hidden] { display: none !important; }` so we also need the `!important` here to be able to override the default hidden behavior on the sphinx rendered scikit-learn.org. See: https://github.com/scikit-learn/scikit-learn/issues/21755 */display: inline-block !important;position: relative;}#sk-container-id-3 div.sk-text-repr-fallback {display: none;}</style><div id=\"sk-container-id-3\" class=\"sk-top-container\"><div class=\"sk-text-repr-fallback\"><pre>LogisticRegression()</pre><b>In a Jupyter environment, please rerun this cell to show the HTML representation or trust the notebook. <br />On GitHub, the HTML representation is unable to render, please try loading this page with nbviewer.org.</b></div><div class=\"sk-container\" hidden><div class=\"sk-item\"><div class=\"sk-estimator sk-toggleable\"><input class=\"sk-toggleable__control sk-hidden--visually\" id=\"sk-estimator-id-3\" type=\"checkbox\" checked><label for=\"sk-estimator-id-3\" class=\"sk-toggleable__label sk-toggleable__label-arrow\">LogisticRegression</label><div class=\"sk-toggleable__content\"><pre>LogisticRegression()</pre></div></div></div></div></div>"
      ],
      "text/plain": [
       "LogisticRegression()"
      ]
     },
     "execution_count": 64,
     "metadata": {},
     "output_type": "execute_result"
    }
   ],
   "source": [
    "#applying logistic regression \n",
    "from sklearn.linear_model import LogisticRegression\n",
    "log=LogisticRegression()\n",
    "log.fit(x_train,y_train)"
   ]
  },
  {
   "cell_type": "code",
   "execution_count": 68,
   "id": "526867f1",
   "metadata": {},
   "outputs": [],
   "source": [
    "#predict the values by x_test\n",
    "y_prd=log.predict(x_test)"
   ]
  },
  {
   "cell_type": "code",
   "execution_count": 69,
   "id": "44200c67",
   "metadata": {},
   "outputs": [
    {
     "data": {
      "text/plain": [
       "array([0, 1], dtype=int64)"
      ]
     },
     "execution_count": 69,
     "metadata": {},
     "output_type": "execute_result"
    }
   ],
   "source": [
    "y_prd"
   ]
  },
  {
   "cell_type": "code",
   "execution_count": 70,
   "id": "809dbfc8",
   "metadata": {},
   "outputs": [
    {
     "data": {
      "text/plain": [
       "array([-0.79133011])"
      ]
     },
     "execution_count": 70,
     "metadata": {},
     "output_type": "execute_result"
    }
   ],
   "source": [
    "#finding the y_intercept values\n",
    "log.intercept_"
   ]
  },
  {
   "cell_type": "code",
   "execution_count": 71,
   "id": "5ebbbe42",
   "metadata": {},
   "outputs": [
    {
     "data": {
      "text/plain": [
       "array([[-0.80166758]])"
      ]
     },
     "execution_count": 71,
     "metadata": {},
     "output_type": "execute_result"
    }
   ],
   "source": [
    "#finding the coefficient value\n",
    "log.coef_"
   ]
  },
  {
   "cell_type": "code",
   "execution_count": 2,
   "id": "775b73b3",
   "metadata": {},
   "outputs": [
    {
     "data": {
      "text/html": [
       "<img src=\"20231205_161926.jpg\" width=\"800\" height=\"800\"/>"
      ],
      "text/plain": [
       "<IPython.core.display.Image object>"
      ]
     },
     "execution_count": 2,
     "metadata": {},
     "output_type": "execute_result"
    }
   ],
   "source": [
    "from IPython.display import Image\n",
    "Image(url='20231205_161926.jpg',height=800,width=800)"
   ]
  },
  {
   "cell_type": "code",
   "execution_count": 3,
   "id": "50ab4c22",
   "metadata": {},
   "outputs": [
    {
     "data": {
      "text/html": [
       "<img src=\"20231205_162025.jpg\" width=\"800\" height=\"800\"/>"
      ],
      "text/plain": [
       "<IPython.core.display.Image object>"
      ]
     },
     "execution_count": 3,
     "metadata": {},
     "output_type": "execute_result"
    }
   ],
   "source": [
    "Image(url='20231205_162025.jpg',height=800,width=800)"
   ]
  },
  {
   "cell_type": "code",
   "execution_count": 73,
   "id": "294b9fd4",
   "metadata": {},
   "outputs": [],
   "source": [
    "import cmath\n",
    "k=cmath.sqrt(-0.541)"
   ]
  },
  {
   "cell_type": "code",
   "execution_count": null,
   "id": "2d948ff6",
   "metadata": {},
   "outputs": [],
   "source": [
    "import math\n",
    "a=math.sqrt(0.084)"
   ]
  },
  {
   "cell_type": "code",
   "execution_count": null,
   "id": "c6a3d202",
   "metadata": {},
   "outputs": [],
   "source": [
    "import math\n",
    "r=math.sqrt(0.459)"
   ]
  },
  {
   "cell_type": "code",
   "execution_count": null,
   "id": "4af16873",
   "metadata": {},
   "outputs": [],
   "source": [
    "re=k+a+r\n",
    "res=-0.5416/re\n",
    "res"
   ]
  },
  {
   "cell_type": "code",
   "execution_count": null,
   "id": "71014dec",
   "metadata": {},
   "outputs": [],
   "source": [
    "re"
   ]
  },
  {
   "cell_type": "code",
   "execution_count": null,
   "id": "4ebc7462",
   "metadata": {},
   "outputs": [],
   "source": [
    "a=[4,12,9]\n",
    "mean=np.mean(a)\n",
    "std=np.std(a)\n",
    "mean"
   ]
  },
  {
   "cell_type": "code",
   "execution_count": null,
   "id": "e40a1c97",
   "metadata": {},
   "outputs": [],
   "source": [
    "std"
   ]
  },
  {
   "cell_type": "code",
   "execution_count": null,
   "id": "74e5ea97",
   "metadata": {},
   "outputs": [],
   "source": [
    "(7-mean)/std"
   ]
  },
  {
   "cell_type": "code",
   "execution_count": null,
   "id": "e8ce9f95",
   "metadata": {},
   "outputs": [],
   "source": [
    "res=(7-mean)/std\n",
    "res"
   ]
  },
  {
   "cell_type": "code",
   "execution_count": null,
   "id": "57840578",
   "metadata": {},
   "outputs": [],
   "source": []
  },
  {
   "cell_type": "code",
   "execution_count": null,
   "id": "c735d50b",
   "metadata": {},
   "outputs": [],
   "source": [
    "stan.mean_"
   ]
  },
  {
   "cell_type": "code",
   "execution_count": null,
   "id": "37197151",
   "metadata": {},
   "outputs": [],
   "source": [
    "stan.scale_"
   ]
  },
  {
   "cell_type": "code",
   "execution_count": null,
   "id": "928c7872",
   "metadata": {},
   "outputs": [],
   "source": [
    "import cmath\n",
    "cmath.sqrt(10)"
   ]
  },
  {
   "cell_type": "code",
   "execution_count": null,
   "id": "640e3d3a",
   "metadata": {},
   "outputs": [],
   "source": [
    "-1.65**2"
   ]
  },
  {
   "cell_type": "code",
   "execution_count": null,
   "id": "22d37c0c",
   "metadata": {},
   "outputs": [],
   "source": [
    "-2.21+0.222+0.49"
   ]
  },
  {
   "cell_type": "code",
   "execution_count": null,
   "id": "c9c20dee",
   "metadata": {},
   "outputs": [],
   "source": [
    "-1.498/-13.2549"
   ]
  },
  {
   "cell_type": "code",
   "execution_count": null,
   "id": "1dac99a1",
   "metadata": {},
   "outputs": [],
   "source": [
    "matrix=np.array([[1,-1.31],[1,1.11],[1,0.20]])\n",
    "matrix"
   ]
  },
  {
   "cell_type": "code",
   "execution_count": null,
   "id": "0b1bb9c0",
   "metadata": {},
   "outputs": [],
   "source": [
    "transpose=np.transpose(matrix)\n",
    "transpose"
   ]
  },
  {
   "cell_type": "code",
   "execution_count": null,
   "id": "87b4fce2",
   "metadata": {},
   "outputs": [],
   "source": [
    "xtx=np.dot(matrix,transpose)\n",
    "xtx"
   ]
  },
  {
   "cell_type": "code",
   "execution_count": null,
   "id": "13a0410f",
   "metadata": {},
   "outputs": [],
   "source": [
    "inverse=np.linalg.inv(xtx)\n",
    "inverse"
   ]
  },
  {
   "cell_type": "code",
   "execution_count": null,
   "id": "d67a048c",
   "metadata": {},
   "outputs": [],
   "source": [
    "rr=np.dot(inverse,transpose)\n",
    "rr"
   ]
  },
  {
   "cell_type": "code",
   "execution_count": null,
   "id": "80a68883",
   "metadata": {},
   "outputs": [],
   "source": [
    "y=np.array([4,3,4])\n",
    "res=np.dot(rr,y)\n",
    "res"
   ]
  },
  {
   "cell_type": "code",
   "execution_count": null,
   "id": "0b8f514b",
   "metadata": {},
   "outputs": [],
   "source": [
    "8/-8"
   ]
  },
  {
   "cell_type": "code",
   "execution_count": null,
   "id": "c656a14f",
   "metadata": {},
   "outputs": [],
   "source": []
  }
 ],
 "metadata": {
  "kernelspec": {
   "display_name": "Python 3 (ipykernel)",
   "language": "python",
   "name": "python3"
  },
  "language_info": {
   "codemirror_mode": {
    "name": "ipython",
    "version": 3
   },
   "file_extension": ".py",
   "mimetype": "text/x-python",
   "name": "python",
   "nbconvert_exporter": "python",
   "pygments_lexer": "ipython3",
   "version": "3.10.9"
  }
 },
 "nbformat": 4,
 "nbformat_minor": 5
}
