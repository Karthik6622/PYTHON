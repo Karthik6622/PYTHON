{
 "cells": [
  {
   "cell_type": "markdown",
   "id": "32fdedb5",
   "metadata": {},
   "source": [
    "# DRAW GEOMETRIC SHAPES"
   ]
  },
  {
   "cell_type": "markdown",
   "id": "da0676bc",
   "metadata": {},
   "source": [
    "Geometric shapes-circle,rectangele,triangel,eclipse,etc...."
   ]
  },
  {
   "cell_type": "code",
   "execution_count": 2,
   "id": "a80073e6",
   "metadata": {},
   "outputs": [],
   "source": [
    "#draw line shape in image\n",
    "import cv2\n",
    "img=cv2.imread('image.jpg')\n",
    "img=cv2.line(img,(0,0),(100,100),(147,96,56),10)\n",
    "#img-in which image we going to draw the shape\n",
    "#(0,0)-stating coortinates\n",
    "#(100,100)-end coordinates\n",
    "#(147,96,56)-bgr color (rgb reverse)\n",
    "#10-thickness of line\n",
    "cv2.imshow('LIne',img)\n",
    "cv2.waitKey(0)\n",
    "cv2.destroyAllWindows()"
   ]
  },
  {
   "cell_type": "code",
   "execution_count": 5,
   "id": "0833eaa1",
   "metadata": {},
   "outputs": [],
   "source": [
    "#draw arrowlined shape in image\n",
    "import cv2\n",
    "img=cv2.imread('image.jpg')\n",
    "img=cv2.line(img,(0,0),(100,100),(147,96,56),10)\n",
    "#img-in which image we going to draw the shape\n",
    "#(0,0)-stating coortinates\n",
    "#(100,100)-end coordinates\n",
    "#(147,96,56)-bgr color (rgb reverse)\n",
    "#10-thickness of line\n",
    "img=cv2.arrowedLine(img,(200,200),(280,280),(147,96,56),10)\n",
    "#img-in which image we going to draw the shape\n",
    "#(200,200)-stating coortinates\n",
    "#(280,280)-end coordinates\n",
    "#(147,96,56)-bgr color (rgb reverse)\n",
    "#10-thickness of line\n",
    "cv2.imshow('LIne',img)\n",
    "cv2.waitKey(0)\n",
    "cv2.destroyAllWindows()"
   ]
  },
  {
   "cell_type": "code",
   "execution_count": 6,
   "id": "9b30987f",
   "metadata": {},
   "outputs": [],
   "source": [
    "#draw the rectangle in image\n",
    "import cv2\n",
    "img=cv2.imread('image.jpg')\n",
    "img=cv2.rectangle(img,(0,0),(100,100),(178,96,56),10)\n",
    "#img-in which image we going to draw the shape\n",
    "#(0,0)-stating coortinates\n",
    "#(100,100)-end coordinates\n",
    "#(147,96,56)-bgr color (rgb reverse)\n",
    "#10-thickness of line\n",
    "cv2.imshow('rectangle',img)\n",
    "cv2.waitKey(0)\n",
    "cv2.destroyAllWindows()"
   ]
  },
  {
   "cell_type": "code",
   "execution_count": 9,
   "id": "88e1cd50",
   "metadata": {},
   "outputs": [],
   "source": [
    "#draw the circle in image\n",
    "import cv2\n",
    "img=cv2.imread('image.jpg')\n",
    "img=cv2.circle(img,(200,200),80,(178,96,56),-1)#if we give -1 circle fill with mentioned color\n",
    "#img-in which image we going to draw the shape\n",
    "#(200,200)-center\n",
    "#80-radius\n",
    "#(147,96,56)-bgr color (rgb reverse)\n",
    "#10-thickness of line\n",
    "cv2.imshow('rectangle',img)\n",
    "cv2.waitKey(0)\n",
    "cv2.destroyAllWindows()"
   ]
  },
  {
   "cell_type": "code",
   "execution_count": 15,
   "id": "acbc3af8",
   "metadata": {},
   "outputs": [],
   "source": [
    "#how to write text on image\n",
    "import cv2\n",
    "img=cv2.imread('image.jpg')\n",
    "font=cv2.FONT_HERSHEY_COMPLEX#this is one of the font style\n",
    "img=cv2.putText(img,'KARTHIK',(100,100),font,2,(178,96,56),10)\n",
    "#img-in which image we going to write text\n",
    "#Karthik-what text we going to write\n",
    "#(100,100)-strating coorditates of text\n",
    "#font-font of the text\n",
    "#2-size of the font\n",
    "#(147,96,56)-bgr color (rgb reverse)\n",
    "#10-thickness of line\n",
    "cv2.imshow('rectangle',img)\n",
    "cv2.waitKey(0)\n",
    "cv2.destroyAllWindows()"
   ]
  },
  {
   "cell_type": "code",
   "execution_count": 91,
   "id": "3f38b829",
   "metadata": {},
   "outputs": [],
   "source": [
    "#create a image by numpy zeros method and write text on it\n",
    "import numpy as np\n",
    "img=np.zeros([500,600,4],dtype=np.uint8)\n",
    "#width = 500  # Width of the image in pixels\n",
    "#height = 600 # Height of the image in pixels\n",
    "#channels = 4  # Number of color channels (e.g., 3 for RGB)\n",
    "font=cv2.FONT_HERSHEY_SCRIPT_COMPLEX\n",
    "img=cv2.putText(img,'RESHMA',(150,80),font,2,(255,255,255),5)\n",
    "img=cv2.circle(img,(250,170),40,(0,0,255),-1)\n",
    "img=cv2.circle(img,(300,170),40,(0,0,255),-1)\n",
    "img=cv2.circle(img,(275,186),48,(0,0,255),-1)\n",
    "img=cv2.putText(img,'KARTHIK',(140,300),font,2,(255,255,255),5)\n",
    "cv2.imshow('image',img)\n",
    "cv2.waitKey()\n",
    "cv2.destroyAllWindows()"
   ]
  },
  {
   "cell_type": "code",
   "execution_count": null,
   "id": "27aa2136",
   "metadata": {},
   "outputs": [],
   "source": []
  },
  {
   "cell_type": "code",
   "execution_count": null,
   "id": "dd75c0ce",
   "metadata": {},
   "outputs": [],
   "source": []
  },
  {
   "cell_type": "code",
   "execution_count": null,
   "id": "5911c59d",
   "metadata": {},
   "outputs": [],
   "source": []
  },
  {
   "cell_type": "code",
   "execution_count": null,
   "id": "17e8ee56",
   "metadata": {},
   "outputs": [],
   "source": []
  }
 ],
 "metadata": {
  "kernelspec": {
   "display_name": "Python 3 (ipykernel)",
   "language": "python",
   "name": "python3"
  },
  "language_info": {
   "codemirror_mode": {
    "name": "ipython",
    "version": 3
   },
   "file_extension": ".py",
   "mimetype": "text/x-python",
   "name": "python",
   "nbconvert_exporter": "python",
   "pygments_lexer": "ipython3",
   "version": "3.10.9"
  }
 },
 "nbformat": 4,
 "nbformat_minor": 5
}
