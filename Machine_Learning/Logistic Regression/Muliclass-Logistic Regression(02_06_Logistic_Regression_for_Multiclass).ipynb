{
 "cells": [
  {
   "cell_type": "markdown",
   "id": "a3ee7a09",
   "metadata": {},
   "source": [
    "# Muliclass-Logistic Regression"
   ]
  },
  {
   "cell_type": "markdown",
   "id": "f0aca9d6",
   "metadata": {},
   "source": [
    "# Logistic Regression for multiclass classification"
   ]
  },
  {
   "cell_type": "markdown",
   "id": "9f1d5b2f",
   "metadata": {},
   "source": [
    "Logistic regression is inherently a binary classification algorithm, meaning it is designed to predict one of two classes. However, there are techniques to extend logistic regression for multiclass classification problems. One common approach is the \"One-vs-Rest\" (OvR) or \"One-vs-All\" (OvA) strategy."
   ]
  },
  {
   "cell_type": "markdown",
   "id": "479cbd18",
   "metadata": {},
   "source": [
    "A lot of classification models like logistic regression were originally designed for binary classification, that is predicting whether something is one thing or another. For datasets with more than two classes, what do you do? For multiclass classification problems, one approach is to split the task into multiple binary classification datasets and fit a binary classification model on each. In this lecture, we will explore the One-vs-Rest strategy and how you can apply it to logisitic regression using Scikit-Learn."
   ]
  },
  {
   "cell_type": "markdown",
   "id": "b35eaaf1",
   "metadata": {},
   "source": [
    "# One-vs-Rest\n",
    "One Versus Rest (OvR), which is also called one versus all (OvA) is a technique that extends binary classifiers to multi-class problems. Here is how it works:\n",
    "\n",
    "You train one classifier per class, where one class is treated as the positive class and the other classes are considered negative classes.\n",
    "For example, say you have an image recogition task. Your dataset has 4 classes, the digits 0, 1, 2, and 3. Your goal is to classify them. Using the one versus rest approach, you break down the task into 4 binary classification problems.\n",
    "\n",
    "Binary Classification Problem 1: digit 0 vs digits 1, 2, and 3\n",
    "\n",
    "Binary Classification Problem 2: digit 1 vs digits 0, 2, and 3\n",
    "\n",
    "Binary Classification Problem 3: digit 2 vs digits 0, 1, and 3\n",
    "\n",
    "Binary Classification Problem 4: digit 3 vs digits 0, 1, and 2\n",
    "\n",
    "From there, if you want to classify a new sample, you would use each of the classifiers. The model that predicts the highest class probability is the predicted class."
   ]
  },
  {
   "cell_type": "markdown",
   "id": "df6257d0",
   "metadata": {},
   "source": [
    "# Simple explanation\n",
    "In multiclass logistic regression,it will create 4 class in here cause label column has only 4 unique values like(0,1,2,3)\n",
    "then algorithm check the pixel values and compare those pixel is matching with those 4 classes.if it is matching with one class it will give that class label values.\n",
    "example if 1 is matching means,it will provide 1class label value."
   ]
  },
  {
   "cell_type": "markdown",
   "id": "60c9b0b3",
   "metadata": {},
   "source": [
    "# Import Libraries"
   ]
  },
  {
   "cell_type": "code",
   "execution_count": 11,
   "id": "240da4b0",
   "metadata": {},
   "outputs": [],
   "source": [
    "import numpy as np\n",
    "import pandas as pd\n",
    "import matplotlib.pyplot as plt\n",
    "import seaborn as sns"
   ]
  },
  {
   "cell_type": "markdown",
   "id": "8a70b972",
   "metadata": {},
   "source": [
    "# Load the Dataset\n",
    "\n",
    "The code below loads a modified version of the digits dataset which is arranged in a csv file for convenience. The data consists of pixel intensity values for 720 images that are 8 by 8 pixels. Each image is labeled with a number from 0-4."
   ]
  },
  {
   "cell_type": "code",
   "execution_count": 309,
   "id": "8c3b3de7",
   "metadata": {},
   "outputs": [],
   "source": [
    "df=pd.read_csv(\"modifiedDigits4Classes.csv\")"
   ]
  },
  {
   "cell_type": "code",
   "execution_count": 310,
   "id": "fb130d9b",
   "metadata": {},
   "outputs": [
    {
     "data": {
      "text/html": [
       "<div>\n",
       "<style scoped>\n",
       "    .dataframe tbody tr th:only-of-type {\n",
       "        vertical-align: middle;\n",
       "    }\n",
       "\n",
       "    .dataframe tbody tr th {\n",
       "        vertical-align: top;\n",
       "    }\n",
       "\n",
       "    .dataframe thead th {\n",
       "        text-align: right;\n",
       "    }\n",
       "</style>\n",
       "<table border=\"1\" class=\"dataframe\">\n",
       "  <thead>\n",
       "    <tr style=\"text-align: right;\">\n",
       "      <th></th>\n",
       "      <th>0</th>\n",
       "      <th>1</th>\n",
       "      <th>2</th>\n",
       "      <th>3</th>\n",
       "      <th>4</th>\n",
       "      <th>5</th>\n",
       "      <th>6</th>\n",
       "      <th>7</th>\n",
       "      <th>8</th>\n",
       "      <th>9</th>\n",
       "      <th>...</th>\n",
       "      <th>55</th>\n",
       "      <th>56</th>\n",
       "      <th>57</th>\n",
       "      <th>58</th>\n",
       "      <th>59</th>\n",
       "      <th>60</th>\n",
       "      <th>61</th>\n",
       "      <th>62</th>\n",
       "      <th>63</th>\n",
       "      <th>label</th>\n",
       "    </tr>\n",
       "  </thead>\n",
       "  <tbody>\n",
       "    <tr>\n",
       "      <th>0</th>\n",
       "      <td>0</td>\n",
       "      <td>0</td>\n",
       "      <td>5</td>\n",
       "      <td>13</td>\n",
       "      <td>9</td>\n",
       "      <td>1</td>\n",
       "      <td>0</td>\n",
       "      <td>0</td>\n",
       "      <td>0</td>\n",
       "      <td>0</td>\n",
       "      <td>...</td>\n",
       "      <td>0</td>\n",
       "      <td>0</td>\n",
       "      <td>0</td>\n",
       "      <td>6</td>\n",
       "      <td>13</td>\n",
       "      <td>10</td>\n",
       "      <td>0</td>\n",
       "      <td>0</td>\n",
       "      <td>0</td>\n",
       "      <td>0</td>\n",
       "    </tr>\n",
       "    <tr>\n",
       "      <th>1</th>\n",
       "      <td>0</td>\n",
       "      <td>0</td>\n",
       "      <td>0</td>\n",
       "      <td>12</td>\n",
       "      <td>13</td>\n",
       "      <td>5</td>\n",
       "      <td>0</td>\n",
       "      <td>0</td>\n",
       "      <td>0</td>\n",
       "      <td>0</td>\n",
       "      <td>...</td>\n",
       "      <td>0</td>\n",
       "      <td>0</td>\n",
       "      <td>0</td>\n",
       "      <td>0</td>\n",
       "      <td>11</td>\n",
       "      <td>16</td>\n",
       "      <td>10</td>\n",
       "      <td>0</td>\n",
       "      <td>0</td>\n",
       "      <td>1</td>\n",
       "    </tr>\n",
       "    <tr>\n",
       "      <th>2</th>\n",
       "      <td>0</td>\n",
       "      <td>0</td>\n",
       "      <td>0</td>\n",
       "      <td>4</td>\n",
       "      <td>15</td>\n",
       "      <td>12</td>\n",
       "      <td>0</td>\n",
       "      <td>0</td>\n",
       "      <td>0</td>\n",
       "      <td>0</td>\n",
       "      <td>...</td>\n",
       "      <td>0</td>\n",
       "      <td>0</td>\n",
       "      <td>0</td>\n",
       "      <td>0</td>\n",
       "      <td>3</td>\n",
       "      <td>11</td>\n",
       "      <td>16</td>\n",
       "      <td>9</td>\n",
       "      <td>0</td>\n",
       "      <td>2</td>\n",
       "    </tr>\n",
       "    <tr>\n",
       "      <th>3</th>\n",
       "      <td>0</td>\n",
       "      <td>0</td>\n",
       "      <td>7</td>\n",
       "      <td>15</td>\n",
       "      <td>13</td>\n",
       "      <td>1</td>\n",
       "      <td>0</td>\n",
       "      <td>0</td>\n",
       "      <td>0</td>\n",
       "      <td>8</td>\n",
       "      <td>...</td>\n",
       "      <td>0</td>\n",
       "      <td>0</td>\n",
       "      <td>0</td>\n",
       "      <td>7</td>\n",
       "      <td>13</td>\n",
       "      <td>13</td>\n",
       "      <td>9</td>\n",
       "      <td>0</td>\n",
       "      <td>0</td>\n",
       "      <td>3</td>\n",
       "    </tr>\n",
       "    <tr>\n",
       "      <th>4</th>\n",
       "      <td>0</td>\n",
       "      <td>0</td>\n",
       "      <td>1</td>\n",
       "      <td>9</td>\n",
       "      <td>15</td>\n",
       "      <td>11</td>\n",
       "      <td>0</td>\n",
       "      <td>0</td>\n",
       "      <td>0</td>\n",
       "      <td>0</td>\n",
       "      <td>...</td>\n",
       "      <td>0</td>\n",
       "      <td>0</td>\n",
       "      <td>0</td>\n",
       "      <td>1</td>\n",
       "      <td>10</td>\n",
       "      <td>13</td>\n",
       "      <td>3</td>\n",
       "      <td>0</td>\n",
       "      <td>0</td>\n",
       "      <td>0</td>\n",
       "    </tr>\n",
       "  </tbody>\n",
       "</table>\n",
       "<p>5 rows × 65 columns</p>\n",
       "</div>"
      ],
      "text/plain": [
       "   0  1  2   3   4   5  6  7  8  9  ...  55  56  57  58  59  60  61  62  63  \\\n",
       "0  0  0  5  13   9   1  0  0  0  0  ...   0   0   0   6  13  10   0   0   0   \n",
       "1  0  0  0  12  13   5  0  0  0  0  ...   0   0   0   0  11  16  10   0   0   \n",
       "2  0  0  0   4  15  12  0  0  0  0  ...   0   0   0   0   3  11  16   9   0   \n",
       "3  0  0  7  15  13   1  0  0  0  8  ...   0   0   0   7  13  13   9   0   0   \n",
       "4  0  0  1   9  15  11  0  0  0  0  ...   0   0   0   1  10  13   3   0   0   \n",
       "\n",
       "   label  \n",
       "0      0  \n",
       "1      1  \n",
       "2      2  \n",
       "3      3  \n",
       "4      0  \n",
       "\n",
       "[5 rows x 65 columns]"
      ]
     },
     "execution_count": 310,
     "metadata": {},
     "output_type": "execute_result"
    }
   ],
   "source": [
    "df.head()"
   ]
  },
  {
   "cell_type": "code",
   "execution_count": 311,
   "id": "f93fe458",
   "metadata": {},
   "outputs": [
    {
     "data": {
      "text/plain": [
       "(720, 65)"
      ]
     },
     "execution_count": 311,
     "metadata": {},
     "output_type": "execute_result"
    }
   ],
   "source": [
    "df.shape"
   ]
  },
  {
   "cell_type": "code",
   "execution_count": 312,
   "id": "54a426bd",
   "metadata": {},
   "outputs": [
    {
     "data": {
      "text/html": [
       "<div>\n",
       "<style scoped>\n",
       "    .dataframe tbody tr th:only-of-type {\n",
       "        vertical-align: middle;\n",
       "    }\n",
       "\n",
       "    .dataframe tbody tr th {\n",
       "        vertical-align: top;\n",
       "    }\n",
       "\n",
       "    .dataframe thead th {\n",
       "        text-align: right;\n",
       "    }\n",
       "</style>\n",
       "<table border=\"1\" class=\"dataframe\">\n",
       "  <thead>\n",
       "    <tr style=\"text-align: right;\">\n",
       "      <th></th>\n",
       "      <th>0</th>\n",
       "      <th>1</th>\n",
       "      <th>2</th>\n",
       "      <th>3</th>\n",
       "      <th>4</th>\n",
       "      <th>5</th>\n",
       "      <th>6</th>\n",
       "      <th>7</th>\n",
       "      <th>8</th>\n",
       "      <th>9</th>\n",
       "      <th>...</th>\n",
       "      <th>55</th>\n",
       "      <th>56</th>\n",
       "      <th>57</th>\n",
       "      <th>58</th>\n",
       "      <th>59</th>\n",
       "      <th>60</th>\n",
       "      <th>61</th>\n",
       "      <th>62</th>\n",
       "      <th>63</th>\n",
       "      <th>label</th>\n",
       "    </tr>\n",
       "  </thead>\n",
       "  <tbody>\n",
       "    <tr>\n",
       "      <th>715</th>\n",
       "      <td>0</td>\n",
       "      <td>0</td>\n",
       "      <td>6</td>\n",
       "      <td>12</td>\n",
       "      <td>12</td>\n",
       "      <td>6</td>\n",
       "      <td>0</td>\n",
       "      <td>0</td>\n",
       "      <td>0</td>\n",
       "      <td>0</td>\n",
       "      <td>...</td>\n",
       "      <td>0</td>\n",
       "      <td>0</td>\n",
       "      <td>0</td>\n",
       "      <td>2</td>\n",
       "      <td>11</td>\n",
       "      <td>10</td>\n",
       "      <td>4</td>\n",
       "      <td>0</td>\n",
       "      <td>0</td>\n",
       "      <td>1</td>\n",
       "    </tr>\n",
       "    <tr>\n",
       "      <th>716</th>\n",
       "      <td>0</td>\n",
       "      <td>3</td>\n",
       "      <td>14</td>\n",
       "      <td>15</td>\n",
       "      <td>6</td>\n",
       "      <td>0</td>\n",
       "      <td>0</td>\n",
       "      <td>0</td>\n",
       "      <td>0</td>\n",
       "      <td>7</td>\n",
       "      <td>...</td>\n",
       "      <td>0</td>\n",
       "      <td>0</td>\n",
       "      <td>4</td>\n",
       "      <td>15</td>\n",
       "      <td>13</td>\n",
       "      <td>12</td>\n",
       "      <td>11</td>\n",
       "      <td>1</td>\n",
       "      <td>0</td>\n",
       "      <td>2</td>\n",
       "    </tr>\n",
       "    <tr>\n",
       "      <th>717</th>\n",
       "      <td>0</td>\n",
       "      <td>1</td>\n",
       "      <td>10</td>\n",
       "      <td>13</td>\n",
       "      <td>2</td>\n",
       "      <td>0</td>\n",
       "      <td>0</td>\n",
       "      <td>0</td>\n",
       "      <td>0</td>\n",
       "      <td>10</td>\n",
       "      <td>...</td>\n",
       "      <td>0</td>\n",
       "      <td>0</td>\n",
       "      <td>0</td>\n",
       "      <td>9</td>\n",
       "      <td>13</td>\n",
       "      <td>11</td>\n",
       "      <td>10</td>\n",
       "      <td>9</td>\n",
       "      <td>0</td>\n",
       "      <td>2</td>\n",
       "    </tr>\n",
       "    <tr>\n",
       "      <th>718</th>\n",
       "      <td>0</td>\n",
       "      <td>0</td>\n",
       "      <td>15</td>\n",
       "      <td>13</td>\n",
       "      <td>1</td>\n",
       "      <td>0</td>\n",
       "      <td>0</td>\n",
       "      <td>0</td>\n",
       "      <td>0</td>\n",
       "      <td>0</td>\n",
       "      <td>...</td>\n",
       "      <td>0</td>\n",
       "      <td>0</td>\n",
       "      <td>0</td>\n",
       "      <td>10</td>\n",
       "      <td>13</td>\n",
       "      <td>10</td>\n",
       "      <td>6</td>\n",
       "      <td>2</td>\n",
       "      <td>0</td>\n",
       "      <td>2</td>\n",
       "    </tr>\n",
       "    <tr>\n",
       "      <th>719</th>\n",
       "      <td>0</td>\n",
       "      <td>0</td>\n",
       "      <td>6</td>\n",
       "      <td>16</td>\n",
       "      <td>13</td>\n",
       "      <td>11</td>\n",
       "      <td>1</td>\n",
       "      <td>0</td>\n",
       "      <td>0</td>\n",
       "      <td>0</td>\n",
       "      <td>...</td>\n",
       "      <td>0</td>\n",
       "      <td>0</td>\n",
       "      <td>0</td>\n",
       "      <td>6</td>\n",
       "      <td>16</td>\n",
       "      <td>14</td>\n",
       "      <td>6</td>\n",
       "      <td>0</td>\n",
       "      <td>0</td>\n",
       "      <td>0</td>\n",
       "    </tr>\n",
       "  </tbody>\n",
       "</table>\n",
       "<p>5 rows × 65 columns</p>\n",
       "</div>"
      ],
      "text/plain": [
       "     0  1   2   3   4   5  6  7  8   9  ...  55  56  57  58  59  60  61  62  \\\n",
       "715  0  0   6  12  12   6  0  0  0   0  ...   0   0   0   2  11  10   4   0   \n",
       "716  0  3  14  15   6   0  0  0  0   7  ...   0   0   4  15  13  12  11   1   \n",
       "717  0  1  10  13   2   0  0  0  0  10  ...   0   0   0   9  13  11  10   9   \n",
       "718  0  0  15  13   1   0  0  0  0   0  ...   0   0   0  10  13  10   6   2   \n",
       "719  0  0   6  16  13  11  1  0  0   0  ...   0   0   0   6  16  14   6   0   \n",
       "\n",
       "     63  label  \n",
       "715   0      1  \n",
       "716   0      2  \n",
       "717   0      2  \n",
       "718   0      2  \n",
       "719   0      0  \n",
       "\n",
       "[5 rows x 65 columns]"
      ]
     },
     "execution_count": 312,
     "metadata": {},
     "output_type": "execute_result"
    }
   ],
   "source": [
    "df.tail()"
   ]
  },
  {
   "cell_type": "code",
   "execution_count": 313,
   "id": "25c3b056",
   "metadata": {},
   "outputs": [
    {
     "name": "stdout",
     "output_type": "stream",
     "text": [
      "<class 'pandas.core.frame.DataFrame'>\n",
      "RangeIndex: 720 entries, 0 to 719\n",
      "Data columns (total 65 columns):\n",
      " #   Column  Non-Null Count  Dtype\n",
      "---  ------  --------------  -----\n",
      " 0   0       720 non-null    int64\n",
      " 1   1       720 non-null    int64\n",
      " 2   2       720 non-null    int64\n",
      " 3   3       720 non-null    int64\n",
      " 4   4       720 non-null    int64\n",
      " 5   5       720 non-null    int64\n",
      " 6   6       720 non-null    int64\n",
      " 7   7       720 non-null    int64\n",
      " 8   8       720 non-null    int64\n",
      " 9   9       720 non-null    int64\n",
      " 10  10      720 non-null    int64\n",
      " 11  11      720 non-null    int64\n",
      " 12  12      720 non-null    int64\n",
      " 13  13      720 non-null    int64\n",
      " 14  14      720 non-null    int64\n",
      " 15  15      720 non-null    int64\n",
      " 16  16      720 non-null    int64\n",
      " 17  17      720 non-null    int64\n",
      " 18  18      720 non-null    int64\n",
      " 19  19      720 non-null    int64\n",
      " 20  20      720 non-null    int64\n",
      " 21  21      720 non-null    int64\n",
      " 22  22      720 non-null    int64\n",
      " 23  23      720 non-null    int64\n",
      " 24  24      720 non-null    int64\n",
      " 25  25      720 non-null    int64\n",
      " 26  26      720 non-null    int64\n",
      " 27  27      720 non-null    int64\n",
      " 28  28      720 non-null    int64\n",
      " 29  29      720 non-null    int64\n",
      " 30  30      720 non-null    int64\n",
      " 31  31      720 non-null    int64\n",
      " 32  32      720 non-null    int64\n",
      " 33  33      720 non-null    int64\n",
      " 34  34      720 non-null    int64\n",
      " 35  35      720 non-null    int64\n",
      " 36  36      720 non-null    int64\n",
      " 37  37      720 non-null    int64\n",
      " 38  38      720 non-null    int64\n",
      " 39  39      720 non-null    int64\n",
      " 40  40      720 non-null    int64\n",
      " 41  41      720 non-null    int64\n",
      " 42  42      720 non-null    int64\n",
      " 43  43      720 non-null    int64\n",
      " 44  44      720 non-null    int64\n",
      " 45  45      720 non-null    int64\n",
      " 46  46      720 non-null    int64\n",
      " 47  47      720 non-null    int64\n",
      " 48  48      720 non-null    int64\n",
      " 49  49      720 non-null    int64\n",
      " 50  50      720 non-null    int64\n",
      " 51  51      720 non-null    int64\n",
      " 52  52      720 non-null    int64\n",
      " 53  53      720 non-null    int64\n",
      " 54  54      720 non-null    int64\n",
      " 55  55      720 non-null    int64\n",
      " 56  56      720 non-null    int64\n",
      " 57  57      720 non-null    int64\n",
      " 58  58      720 non-null    int64\n",
      " 59  59      720 non-null    int64\n",
      " 60  60      720 non-null    int64\n",
      " 61  61      720 non-null    int64\n",
      " 62  62      720 non-null    int64\n",
      " 63  63      720 non-null    int64\n",
      " 64  label   720 non-null    int64\n",
      "dtypes: int64(65)\n",
      "memory usage: 365.8 KB\n"
     ]
    }
   ],
   "source": [
    "df.info()"
   ]
  },
  {
   "cell_type": "code",
   "execution_count": 314,
   "id": "2a8c3501",
   "metadata": {},
   "outputs": [
    {
     "data": {
      "text/html": [
       "<div>\n",
       "<style scoped>\n",
       "    .dataframe tbody tr th:only-of-type {\n",
       "        vertical-align: middle;\n",
       "    }\n",
       "\n",
       "    .dataframe tbody tr th {\n",
       "        vertical-align: top;\n",
       "    }\n",
       "\n",
       "    .dataframe thead th {\n",
       "        text-align: right;\n",
       "    }\n",
       "</style>\n",
       "<table border=\"1\" class=\"dataframe\">\n",
       "  <thead>\n",
       "    <tr style=\"text-align: right;\">\n",
       "      <th></th>\n",
       "      <th>0</th>\n",
       "      <th>1</th>\n",
       "      <th>2</th>\n",
       "      <th>3</th>\n",
       "      <th>4</th>\n",
       "      <th>5</th>\n",
       "      <th>6</th>\n",
       "      <th>7</th>\n",
       "      <th>8</th>\n",
       "      <th>9</th>\n",
       "      <th>...</th>\n",
       "      <th>55</th>\n",
       "      <th>56</th>\n",
       "      <th>57</th>\n",
       "      <th>58</th>\n",
       "      <th>59</th>\n",
       "      <th>60</th>\n",
       "      <th>61</th>\n",
       "      <th>62</th>\n",
       "      <th>63</th>\n",
       "      <th>label</th>\n",
       "    </tr>\n",
       "  </thead>\n",
       "  <tbody>\n",
       "    <tr>\n",
       "      <th>count</th>\n",
       "      <td>720.0</td>\n",
       "      <td>720.000000</td>\n",
       "      <td>720.000000</td>\n",
       "      <td>720.000000</td>\n",
       "      <td>720.000000</td>\n",
       "      <td>720.000000</td>\n",
       "      <td>720.000000</td>\n",
       "      <td>720.000000</td>\n",
       "      <td>720.000000</td>\n",
       "      <td>720.000000</td>\n",
       "      <td>...</td>\n",
       "      <td>720.000000</td>\n",
       "      <td>720.000000</td>\n",
       "      <td>720.000000</td>\n",
       "      <td>720.000000</td>\n",
       "      <td>720.000000</td>\n",
       "      <td>720.000000</td>\n",
       "      <td>720.000000</td>\n",
       "      <td>720.000000</td>\n",
       "      <td>720.000000</td>\n",
       "      <td>720.000000</td>\n",
       "    </tr>\n",
       "    <tr>\n",
       "      <th>mean</th>\n",
       "      <td>0.0</td>\n",
       "      <td>0.401389</td>\n",
       "      <td>6.163889</td>\n",
       "      <td>12.654167</td>\n",
       "      <td>11.405556</td>\n",
       "      <td>4.747222</td>\n",
       "      <td>0.486111</td>\n",
       "      <td>0.001389</td>\n",
       "      <td>0.005556</td>\n",
       "      <td>2.609722</td>\n",
       "      <td>...</td>\n",
       "      <td>0.354167</td>\n",
       "      <td>0.001389</td>\n",
       "      <td>0.362500</td>\n",
       "      <td>6.444444</td>\n",
       "      <td>12.819444</td>\n",
       "      <td>13.363889</td>\n",
       "      <td>8.616667</td>\n",
       "      <td>3.169444</td>\n",
       "      <td>0.869444</td>\n",
       "      <td>1.506944</td>\n",
       "    </tr>\n",
       "    <tr>\n",
       "      <th>std</th>\n",
       "      <td>0.0</td>\n",
       "      <td>0.951537</td>\n",
       "      <td>4.775439</td>\n",
       "      <td>4.240163</td>\n",
       "      <td>4.405960</td>\n",
       "      <td>5.019849</td>\n",
       "      <td>1.594436</td>\n",
       "      <td>0.037268</td>\n",
       "      <td>0.091181</td>\n",
       "      <td>3.633665</td>\n",
       "      <td>...</td>\n",
       "      <td>1.316783</td>\n",
       "      <td>0.037268</td>\n",
       "      <td>1.027025</td>\n",
       "      <td>5.145420</td>\n",
       "      <td>4.281559</td>\n",
       "      <td>3.040904</td>\n",
       "      <td>5.328721</td>\n",
       "      <td>5.128844</td>\n",
       "      <td>2.848938</td>\n",
       "      <td>1.120032</td>\n",
       "    </tr>\n",
       "    <tr>\n",
       "      <th>min</th>\n",
       "      <td>0.0</td>\n",
       "      <td>0.000000</td>\n",
       "      <td>0.000000</td>\n",
       "      <td>0.000000</td>\n",
       "      <td>0.000000</td>\n",
       "      <td>0.000000</td>\n",
       "      <td>0.000000</td>\n",
       "      <td>0.000000</td>\n",
       "      <td>0.000000</td>\n",
       "      <td>0.000000</td>\n",
       "      <td>...</td>\n",
       "      <td>0.000000</td>\n",
       "      <td>0.000000</td>\n",
       "      <td>0.000000</td>\n",
       "      <td>0.000000</td>\n",
       "      <td>0.000000</td>\n",
       "      <td>0.000000</td>\n",
       "      <td>0.000000</td>\n",
       "      <td>0.000000</td>\n",
       "      <td>0.000000</td>\n",
       "      <td>0.000000</td>\n",
       "    </tr>\n",
       "    <tr>\n",
       "      <th>25%</th>\n",
       "      <td>0.0</td>\n",
       "      <td>0.000000</td>\n",
       "      <td>2.000000</td>\n",
       "      <td>12.000000</td>\n",
       "      <td>9.000000</td>\n",
       "      <td>0.000000</td>\n",
       "      <td>0.000000</td>\n",
       "      <td>0.000000</td>\n",
       "      <td>0.000000</td>\n",
       "      <td>0.000000</td>\n",
       "      <td>...</td>\n",
       "      <td>0.000000</td>\n",
       "      <td>0.000000</td>\n",
       "      <td>0.000000</td>\n",
       "      <td>2.000000</td>\n",
       "      <td>12.000000</td>\n",
       "      <td>12.000000</td>\n",
       "      <td>4.000000</td>\n",
       "      <td>0.000000</td>\n",
       "      <td>0.000000</td>\n",
       "      <td>1.000000</td>\n",
       "    </tr>\n",
       "    <tr>\n",
       "      <th>50%</th>\n",
       "      <td>0.0</td>\n",
       "      <td>0.000000</td>\n",
       "      <td>6.000000</td>\n",
       "      <td>14.000000</td>\n",
       "      <td>12.000000</td>\n",
       "      <td>3.000000</td>\n",
       "      <td>0.000000</td>\n",
       "      <td>0.000000</td>\n",
       "      <td>0.000000</td>\n",
       "      <td>0.000000</td>\n",
       "      <td>...</td>\n",
       "      <td>0.000000</td>\n",
       "      <td>0.000000</td>\n",
       "      <td>0.000000</td>\n",
       "      <td>6.000000</td>\n",
       "      <td>14.000000</td>\n",
       "      <td>14.000000</td>\n",
       "      <td>9.000000</td>\n",
       "      <td>0.000000</td>\n",
       "      <td>0.000000</td>\n",
       "      <td>1.500000</td>\n",
       "    </tr>\n",
       "    <tr>\n",
       "      <th>75%</th>\n",
       "      <td>0.0</td>\n",
       "      <td>0.000000</td>\n",
       "      <td>10.000000</td>\n",
       "      <td>16.000000</td>\n",
       "      <td>15.000000</td>\n",
       "      <td>8.000000</td>\n",
       "      <td>0.000000</td>\n",
       "      <td>0.000000</td>\n",
       "      <td>0.000000</td>\n",
       "      <td>5.000000</td>\n",
       "      <td>...</td>\n",
       "      <td>0.000000</td>\n",
       "      <td>0.000000</td>\n",
       "      <td>0.000000</td>\n",
       "      <td>11.000000</td>\n",
       "      <td>16.000000</td>\n",
       "      <td>16.000000</td>\n",
       "      <td>13.000000</td>\n",
       "      <td>4.000000</td>\n",
       "      <td>0.000000</td>\n",
       "      <td>3.000000</td>\n",
       "    </tr>\n",
       "    <tr>\n",
       "      <th>max</th>\n",
       "      <td>0.0</td>\n",
       "      <td>6.000000</td>\n",
       "      <td>16.000000</td>\n",
       "      <td>16.000000</td>\n",
       "      <td>16.000000</td>\n",
       "      <td>16.000000</td>\n",
       "      <td>15.000000</td>\n",
       "      <td>1.000000</td>\n",
       "      <td>2.000000</td>\n",
       "      <td>15.000000</td>\n",
       "      <td>...</td>\n",
       "      <td>13.000000</td>\n",
       "      <td>1.000000</td>\n",
       "      <td>8.000000</td>\n",
       "      <td>16.000000</td>\n",
       "      <td>16.000000</td>\n",
       "      <td>16.000000</td>\n",
       "      <td>16.000000</td>\n",
       "      <td>16.000000</td>\n",
       "      <td>16.000000</td>\n",
       "      <td>3.000000</td>\n",
       "    </tr>\n",
       "  </tbody>\n",
       "</table>\n",
       "<p>8 rows × 65 columns</p>\n",
       "</div>"
      ],
      "text/plain": [
       "           0           1           2           3           4           5  \\\n",
       "count  720.0  720.000000  720.000000  720.000000  720.000000  720.000000   \n",
       "mean     0.0    0.401389    6.163889   12.654167   11.405556    4.747222   \n",
       "std      0.0    0.951537    4.775439    4.240163    4.405960    5.019849   \n",
       "min      0.0    0.000000    0.000000    0.000000    0.000000    0.000000   \n",
       "25%      0.0    0.000000    2.000000   12.000000    9.000000    0.000000   \n",
       "50%      0.0    0.000000    6.000000   14.000000   12.000000    3.000000   \n",
       "75%      0.0    0.000000   10.000000   16.000000   15.000000    8.000000   \n",
       "max      0.0    6.000000   16.000000   16.000000   16.000000   16.000000   \n",
       "\n",
       "                6           7           8           9  ...          55  \\\n",
       "count  720.000000  720.000000  720.000000  720.000000  ...  720.000000   \n",
       "mean     0.486111    0.001389    0.005556    2.609722  ...    0.354167   \n",
       "std      1.594436    0.037268    0.091181    3.633665  ...    1.316783   \n",
       "min      0.000000    0.000000    0.000000    0.000000  ...    0.000000   \n",
       "25%      0.000000    0.000000    0.000000    0.000000  ...    0.000000   \n",
       "50%      0.000000    0.000000    0.000000    0.000000  ...    0.000000   \n",
       "75%      0.000000    0.000000    0.000000    5.000000  ...    0.000000   \n",
       "max     15.000000    1.000000    2.000000   15.000000  ...   13.000000   \n",
       "\n",
       "               56          57          58          59          60          61  \\\n",
       "count  720.000000  720.000000  720.000000  720.000000  720.000000  720.000000   \n",
       "mean     0.001389    0.362500    6.444444   12.819444   13.363889    8.616667   \n",
       "std      0.037268    1.027025    5.145420    4.281559    3.040904    5.328721   \n",
       "min      0.000000    0.000000    0.000000    0.000000    0.000000    0.000000   \n",
       "25%      0.000000    0.000000    2.000000   12.000000   12.000000    4.000000   \n",
       "50%      0.000000    0.000000    6.000000   14.000000   14.000000    9.000000   \n",
       "75%      0.000000    0.000000   11.000000   16.000000   16.000000   13.000000   \n",
       "max      1.000000    8.000000   16.000000   16.000000   16.000000   16.000000   \n",
       "\n",
       "               62          63       label  \n",
       "count  720.000000  720.000000  720.000000  \n",
       "mean     3.169444    0.869444    1.506944  \n",
       "std      5.128844    2.848938    1.120032  \n",
       "min      0.000000    0.000000    0.000000  \n",
       "25%      0.000000    0.000000    1.000000  \n",
       "50%      0.000000    0.000000    1.500000  \n",
       "75%      4.000000    0.000000    3.000000  \n",
       "max     16.000000   16.000000    3.000000  \n",
       "\n",
       "[8 rows x 65 columns]"
      ]
     },
     "execution_count": 314,
     "metadata": {},
     "output_type": "execute_result"
    }
   ],
   "source": [
    "df.describe()"
   ]
  },
  {
   "cell_type": "code",
   "execution_count": 315,
   "id": "35512f29",
   "metadata": {},
   "outputs": [
    {
     "data": {
      "text/plain": [
       "Index(['0', '1', '2', '3', '4', '5', '6', '7', '8', '9', '10', '11', '12',\n",
       "       '13', '14', '15', '16', '17', '18', '19', '20', '21', '22', '23', '24',\n",
       "       '25', '26', '27', '28', '29', '30', '31', '32', '33', '34', '35', '36',\n",
       "       '37', '38', '39', '40', '41', '42', '43', '44', '45', '46', '47', '48',\n",
       "       '49', '50', '51', '52', '53', '54', '55', '56', '57', '58', '59', '60',\n",
       "       '61', '62', '63', 'label'],\n",
       "      dtype='object')"
      ]
     },
     "execution_count": 315,
     "metadata": {},
     "output_type": "execute_result"
    }
   ],
   "source": [
    "df.columns"
   ]
  },
  {
   "cell_type": "code",
   "execution_count": 316,
   "id": "d587adb8",
   "metadata": {},
   "outputs": [
    {
     "data": {
      "text/plain": [
       "3    183\n",
       "1    182\n",
       "0    178\n",
       "2    177\n",
       "Name: label, dtype: int64"
      ]
     },
     "execution_count": 316,
     "metadata": {},
     "output_type": "execute_result"
    }
   ],
   "source": [
    "#counting the value of label columns values\n",
    "df['label'].value_counts()"
   ]
  },
  {
   "cell_type": "markdown",
   "id": "c3e87221",
   "metadata": {},
   "source": [
    "# Visualize Each Digit"
   ]
  },
  {
   "cell_type": "code",
   "execution_count": 317,
   "id": "83bc44b3",
   "metadata": {},
   "outputs": [],
   "source": [
    "pixel_columns=df.columns[:-1]#we are taking all the columns except label column"
   ]
  },
  {
   "cell_type": "code",
   "execution_count": 318,
   "id": "e59c596a",
   "metadata": {},
   "outputs": [
    {
     "data": {
      "text/plain": [
       "Index(['0', '1', '2', '3', '4', '5', '6', '7', '8', '9', '10', '11', '12',\n",
       "       '13', '14', '15', '16', '17', '18', '19', '20', '21', '22', '23', '24',\n",
       "       '25', '26', '27', '28', '29', '30', '31', '32', '33', '34', '35', '36',\n",
       "       '37', '38', '39', '40', '41', '42', '43', '44', '45', '46', '47', '48',\n",
       "       '49', '50', '51', '52', '53', '54', '55', '56', '57', '58', '59', '60',\n",
       "       '61', '62', '63'],\n",
       "      dtype='object')"
      ]
     },
     "execution_count": 318,
     "metadata": {},
     "output_type": "execute_result"
    }
   ],
   "source": [
    "pixel_columns"
   ]
  },
  {
   "cell_type": "code",
   "execution_count": 319,
   "id": "8750c9d8",
   "metadata": {},
   "outputs": [],
   "source": [
    "# Get all columns except the label column for the first image\n",
    "#image_values=df.iloc[0,0:-1].values\n",
    "#or\n",
    "image_values=df.loc[0,pixel_columns].values"
   ]
  },
  {
   "cell_type": "code",
   "execution_count": 320,
   "id": "4e29faac",
   "metadata": {},
   "outputs": [
    {
     "data": {
      "text/plain": [
       "array([ 0,  0,  5, 13,  9,  1,  0,  0,  0,  0, 13, 15, 10, 15,  5,  0,  0,\n",
       "        3, 15,  2,  0, 11,  8,  0,  0,  4, 12,  0,  0,  8,  8,  0,  0,  5,\n",
       "        8,  0,  0,  9,  8,  0,  0,  4, 11,  0,  1, 12,  7,  0,  0,  2, 14,\n",
       "        5, 10, 12,  0,  0,  0,  0,  6, 13, 10,  0,  0,  0], dtype=int64)"
      ]
     },
     "execution_count": 320,
     "metadata": {},
     "output_type": "execute_result"
    }
   ],
   "source": [
    "image_values"
   ]
  },
  {
   "cell_type": "code",
   "execution_count": 321,
   "id": "b7e64f83",
   "metadata": {},
   "outputs": [
    {
     "data": {
      "text/plain": [
       "array([[ 0,  0,  5, 13,  9,  1,  0,  0],\n",
       "       [ 0,  0, 13, 15, 10, 15,  5,  0],\n",
       "       [ 0,  3, 15,  2,  0, 11,  8,  0],\n",
       "       [ 0,  4, 12,  0,  0,  8,  8,  0],\n",
       "       [ 0,  5,  8,  0,  0,  9,  8,  0],\n",
       "       [ 0,  4, 11,  0,  1, 12,  7,  0],\n",
       "       [ 0,  2, 14,  5, 10, 12,  0,  0],\n",
       "       [ 0,  0,  6, 13, 10,  0,  0,  0]], dtype=int64)"
      ]
     },
     "execution_count": 321,
     "metadata": {},
     "output_type": "execute_result"
    }
   ],
   "source": [
    "#change image values 8*8 matrix\n",
    "image_values.reshape(8,8)"
   ]
  },
  {
   "cell_type": "code",
   "execution_count": 322,
   "id": "19f75cce",
   "metadata": {},
   "outputs": [
    {
     "data": {
      "text/plain": [
       "<matplotlib.image.AxesImage at 0x22f2bcb94e0>"
      ]
     },
     "execution_count": 322,
     "metadata": {},
     "output_type": "execute_result"
    },
    {
     "data": {
      "image/png": "[encoded data removed]",
      "text/plain": [
       "<Figure size 640x480 with 1 Axes>"
      ]
     },
     "metadata": {},
     "output_type": "display_data"
    }
   ],
   "source": [
    "#displaying pixel values image using matplot lib imshow() function\n",
    "plt.imshow(image_values.reshape(8,8),cmap='hot')"
   ]
  },
  {
   "cell_type": "code",
   "execution_count": 323,
   "id": "60c83dcd",
   "metadata": {},
   "outputs": [
    {
     "data": {
      "image/png": "[encoded data removed]",
      "text/plain": [
       "<Figure size 1000x1200 with 4 Axes>"
      ]
     },
     "metadata": {},
     "output_type": "display_data"
    }
   ],
   "source": [
    "#draw the first 4 rows image\n",
    "plt.figure(figsize=(10,12))\n",
    "for i in range(0,4):\n",
    "    plt.subplot(1,4,1+i)\n",
    "    img_values=df.loc[i,pixel_columns].values\n",
    "    img_label=df.loc[i,'label']\n",
    "    plt.imshow(img_values.reshape(8,8),cmap='plasma')\n",
    "    plt.title('Label:'+str(img_label))"
   ]
  },
  {
   "cell_type": "markdown",
   "id": "1261e2f9",
   "metadata": {},
   "source": [
    "# Splitting Data into Training and Test Sets"
   ]
  },
  {
   "cell_type": "code",
   "execution_count": 324,
   "id": "7bef42a2",
   "metadata": {},
   "outputs": [],
   "source": [
    "from sklearn.model_selection import train_test_split"
   ]
  },
  {
   "cell_type": "code",
   "execution_count": 325,
   "id": "eacad8e4",
   "metadata": {},
   "outputs": [],
   "source": [
    "x_train,x_test,y_train,y_test=train_test_split(df[pixel_columns],df['label'],test_size=0.25,random_state=0)"
   ]
  },
  {
   "cell_type": "code",
   "execution_count": 326,
   "id": "6db27604",
   "metadata": {},
   "outputs": [
    {
     "data": {
      "text/plain": [
       "109    1\n",
       "700    2\n",
       "101    2\n",
       "499    3\n",
       "319    2\n",
       "      ..\n",
       "707    3\n",
       "192    1\n",
       "629    2\n",
       "559    1\n",
       "684    1\n",
       "Name: label, Length: 540, dtype: int64"
      ]
     },
     "execution_count": 326,
     "metadata": {},
     "output_type": "execute_result"
    }
   ],
   "source": [
    "y_train"
   ]
  },
  {
   "cell_type": "markdown",
   "id": "ee683830",
   "metadata": {},
   "source": [
    "# Standardize the Data\n",
    "Logistic Regression is effected by scale so you need to scale the features in the data before using Logistic Regresison. You can transform the data onto unit scale (mean = 0 and variance = 1) for better performance. Scikit-Learn's StandardScaler helps standardize the dataset’s features. Note you fit on the training set and transform on the training and test set."
   ]
  },
  {
   "cell_type": "code",
   "execution_count": 327,
   "id": "d964f8af",
   "metadata": {},
   "outputs": [],
   "source": [
    "from sklearn.preprocessing import StandardScaler"
   ]
  },
  {
   "cell_type": "code",
   "execution_count": 328,
   "id": "5ba4ec2b",
   "metadata": {},
   "outputs": [],
   "source": [
    "stan=StandardScaler()\n",
    "# Fit on training set only.\n",
    "#stan.fit(x_train)\n",
    "# Apply transform to both the training set and the test set.\n",
    "x_train=stan.fit_transform(x_train)\n",
    "x_test=stan.fit_transform(x_test)"
   ]
  },
  {
   "cell_type": "code",
   "execution_count": 329,
   "id": "e2596b3f",
   "metadata": {},
   "outputs": [
    {
     "data": {
      "text/plain": [
       "array([[ 0.        , -0.44164163, -1.31139693, ...,  0.26893013,\n",
       "        -0.61146785, -0.29725387],\n",
       "       [ 0.        ,  1.5374993 ,  0.96296738, ..., -1.61952591,\n",
       "        -0.61146785, -0.29725387],\n",
       "       [ 0.        ,  1.5374993 ,  1.79000895, ...,  0.08008452,\n",
       "        -0.41231668, -0.29725387],\n",
       "       ...,\n",
       "       [ 0.        , -0.44164163, -0.89787615, ..., -1.61952591,\n",
       "         0.384288  ,  1.16199242],\n",
       "       [ 0.        , -0.44164163, -0.89787615, ..., -1.61952591,\n",
       "        -0.61146785, -0.29725387],\n",
       "       [ 0.        , -0.44164163, -1.10463654, ...,  0.08008452,\n",
       "        -0.61146785, -0.29725387]])"
      ]
     },
     "execution_count": 329,
     "metadata": {},
     "output_type": "execute_result"
    }
   ],
   "source": [
    "x_train"
   ]
  },
  {
   "cell_type": "markdown",
   "id": "7e9c4407",
   "metadata": {},
   "source": [
    "# Logistic Regression"
   ]
  },
  {
   "cell_type": "code",
   "execution_count": 330,
   "id": "d50c5133",
   "metadata": {},
   "outputs": [],
   "source": [
    "from sklearn.linear_model import LogisticRegression"
   ]
  },
  {
   "cell_type": "code",
   "execution_count": 331,
   "id": "bc9d2130",
   "metadata": {},
   "outputs": [
    {
     "name": "stdout",
     "output_type": "stream",
     "text": [
      "Test Accuracy: 1.0\n",
      "Train Accuracy: 1.0\n"
     ]
    }
   ],
   "source": [
    "# multi_class is specifying one versus rest\n",
    "clf=LogisticRegression(multi_class='ovr',random_state=0)#ovr-one vs rest\n",
    "clf.fit(x_train,y_train)\n",
    "print(\"Test Accuracy:\",clf.score(x_train,y_train))\n",
    "print(\"Train Accuracy:\",clf.score(x_test,y_test))"
   ]
  },
  {
   "cell_type": "markdown",
   "id": "422f298a",
   "metadata": {},
   "source": [
    "Both the training and test accuracies are very high. If you access the intercept terms by using the intercept_ attribute, you can see that the array has four values. Since the Logistic Regression instance was fit on a multiclass dataset via the OvR approach, the first intercept belongs to the model that fits digit 0 versus digits 1,2, and 3. The second value is the intercept of the model that fits digit 1 versus digits 0,2, and 3. Etc."
   ]
  },
  {
   "cell_type": "code",
   "execution_count": 332,
   "id": "465780b8",
   "metadata": {},
   "outputs": [
    {
     "data": {
      "text/plain": [
       "array([-5.03829065, -6.10080072, -4.45172253, -3.57242627])"
      ]
     },
     "execution_count": 332,
     "metadata": {},
     "output_type": "execute_result"
    }
   ],
   "source": [
    "clf.intercept_#4 classs that's why 4 intercept created"
   ]
  },
  {
   "cell_type": "code",
   "execution_count": 333,
   "id": "16dc2679",
   "metadata": {},
   "outputs": [
    {
     "data": {
      "text/plain": [
       "array([[ 0.00000000e+00, -5.26951755e-02, -1.74959277e-01,\n",
       "         1.09456884e-02, -1.22637187e-01, -4.49848044e-01,\n",
       "        -3.00373617e-01, -2.03362314e-04, -1.82580517e-04,\n",
       "        -6.65915492e-03,  1.75632951e-02,  1.76975555e-01,\n",
       "        -1.91230624e-01,  1.87749448e-03, -5.99739851e-02,\n",
       "        -2.77550008e-03, -1.01150944e-01,  1.33421582e-01,\n",
       "         4.84271369e-01, -1.87600915e-01, -8.76036215e-01,\n",
       "         2.83500104e-01,  1.47404310e-01,  0.00000000e+00,\n",
       "        -1.12556561e-01,  3.26040242e-01,  5.94126829e-01,\n",
       "        -3.13711067e-01, -9.02839650e-01,  1.79816036e-01,\n",
       "         5.81666259e-01,  0.00000000e+00,  0.00000000e+00,\n",
       "         5.20585263e-01,  6.39954748e-01, -2.62723896e-01,\n",
       "        -6.05677581e-01,  1.51748391e-02,  4.16356800e-01,\n",
       "         0.00000000e+00,  0.00000000e+00,  1.93405587e-01,\n",
       "         4.37191044e-01, -3.03073817e-01, -1.85971104e-01,\n",
       "         2.10005828e-01,  2.33793105e-01, -2.94048371e-03,\n",
       "        -1.18320833e-02, -4.64261807e-02,  1.71881987e-01,\n",
       "         3.14462400e-02,  2.41946386e-02,  6.25420761e-02,\n",
       "        -3.07514929e-01, -2.71610253e-01, -1.18320833e-02,\n",
       "        -8.68839495e-02, -2.54948401e-01,  1.24127767e-01,\n",
       "         4.12076434e-02, -2.94359374e-01, -3.38120760e-01,\n",
       "        -2.32287184e-01],\n",
       "       [ 0.00000000e+00, -2.39824796e-01, -4.72586946e-02,\n",
       "        -4.29264348e-01, -5.94623291e-01,  4.25810523e-01,\n",
       "         6.85829413e-01, -2.36713797e-01, -1.20238863e-03,\n",
       "        -9.93733100e-01, -9.49944146e-01,  3.90739103e-01,\n",
       "        -1.79542042e-01, -1.67125284e-01, -4.73606601e-01,\n",
       "        -1.09411836e-01,  9.13960060e-02,  2.02763218e-01,\n",
       "         2.49580354e-01,  1.59199722e+00,  8.30448113e-01,\n",
       "        -4.54605051e-01, -1.53700016e-02,  0.00000000e+00,\n",
       "         1.22954765e-01, -2.48701299e-02,  3.81248198e-01,\n",
       "         1.13444195e+00,  7.79849229e-01,  2.88108093e-01,\n",
       "         6.34993799e-02,  0.00000000e+00,  0.00000000e+00,\n",
       "         1.50126450e-01,  3.11125729e-01,  3.79911173e-01,\n",
       "         5.58731141e-01, -8.68661122e-02, -1.80675444e-01,\n",
       "         0.00000000e+00,  0.00000000e+00, -5.57464933e-01,\n",
       "        -1.49438291e-01,  2.71124491e-01,  8.21808298e-01,\n",
       "        -1.56478119e-01, -5.30522799e-01, -8.18549042e-03,\n",
       "        -1.77461646e-02, -5.08476695e-01, -2.91102269e-01,\n",
       "        -3.82494455e-01, -2.76643480e-01, -4.98183643e-01,\n",
       "        -3.84724833e-01,  2.59005541e-01, -1.77461646e-02,\n",
       "        -1.43964625e-01, -1.88007793e-01, -7.90137709e-01,\n",
       "         1.89108418e-01, -6.14860534e-02, -1.94912839e-01,\n",
       "         3.28793551e-01],\n",
       "       [ 0.00000000e+00,  3.21245326e-02,  2.15050034e-02,\n",
       "         2.35070999e-01,  2.49632185e-02, -8.85860761e-02,\n",
       "        -1.46587923e-01, -1.16946333e-03, -8.87221835e-04,\n",
       "         6.71381145e-01,  7.94316573e-01, -1.12197589e-01,\n",
       "         3.97228823e-01, -2.46108635e-01, -3.25965208e-01,\n",
       "        -4.04543382e-04,  5.96591544e-03,  5.04239524e-02,\n",
       "         1.88103468e-01, -7.55501502e-01,  2.21279163e-01,\n",
       "         1.20900077e-01,  3.76533201e-01,  0.00000000e+00,\n",
       "        -6.76895143e-02, -3.54354114e-01, -1.00227203e+00,\n",
       "        -1.28611351e+00, -3.58704810e-01,  3.60292050e-01,\n",
       "         2.33662650e-01,  0.00000000e+00,  0.00000000e+00,\n",
       "        -6.99470941e-01, -7.80947399e-01, -1.05453780e-01,\n",
       "        -3.28134269e-01, -5.80151994e-01, -8.67650700e-01,\n",
       "         0.00000000e+00,  0.00000000e+00,  1.47010091e-01,\n",
       "         3.47308927e-01,  1.32756275e+00, -7.04021195e-01,\n",
       "        -1.12343007e+00, -9.09449558e-01,  2.07992207e-01,\n",
       "         3.32450465e-02,  5.15241700e-01,  1.72238001e-01,\n",
       "         1.13561633e+00,  2.41703130e-01,  3.22630045e-01,\n",
       "         3.63334478e-01,  9.23983258e-02,  3.32450465e-02,\n",
       "         1.85125998e-01,  1.55493137e-01,  1.43795726e-01,\n",
       "        -4.40849449e-01,  5.86330421e-01,  7.50417530e-01,\n",
       "         2.77588064e-01],\n",
       "       [ 0.00000000e+00,  1.83302808e-01,  8.30662731e-02,\n",
       "         5.19601248e-01,  5.58191785e-01,  1.13291830e-01,\n",
       "        -5.66950646e-02,  9.00956138e-02, -6.52890703e-02,\n",
       "        -4.33327294e-01,  8.81434733e-01,  2.54575587e-01,\n",
       "        -1.63289770e-01,  5.36199793e-01,  7.98952859e-01,\n",
       "         4.04503097e-02, -8.15141600e-02,  1.43198924e-01,\n",
       "        -6.85653095e-01, -5.50895284e-01,  1.79260160e-02,\n",
       "        -5.79506280e-02, -5.25339590e-01,  0.00000000e+00,\n",
       "        -6.22430521e-04, -3.95439471e-01, -4.84143276e-01,\n",
       "         4.81835377e-01,  8.38936231e-01, -6.50413630e-01,\n",
       "        -1.00767334e+00,  0.00000000e+00,  0.00000000e+00,\n",
       "        -8.48145371e-01, -7.33665831e-02,  4.72553748e-02,\n",
       "         7.60007855e-03,  5.81080190e-01,  3.21810960e-01,\n",
       "         0.00000000e+00,  0.00000000e+00,  4.23283219e-03,\n",
       "        -5.71006072e-01, -1.59657698e+00,  3.19316327e-01,\n",
       "         1.30463462e+00,  7.31519697e-01, -1.35917719e-01,\n",
       "         1.66387724e-05, -4.94142564e-02, -5.42461593e-01,\n",
       "        -8.64231978e-01, -7.84801965e-01, -4.35593844e-01,\n",
       "         4.66386018e-01, -1.56909362e-01,  1.66387724e-05,\n",
       "        -1.76448355e-01,  1.08374968e-01,  6.32189631e-01,\n",
       "         4.05596436e-02, -5.28752651e-01, -4.19292981e-01,\n",
       "        -5.96084409e-01]])"
      ]
     },
     "execution_count": 333,
     "metadata": {},
     "output_type": "execute_result"
    }
   ],
   "source": [
    "clf.coef_#coefficient was created for each class(0,1,2,3) and every row"
   ]
  },
  {
   "cell_type": "code",
   "execution_count": 334,
   "id": "89ddeac0",
   "metadata": {},
   "outputs": [
    {
     "data": {
      "text/plain": [
       "(180, 64)"
      ]
     },
     "execution_count": 334,
     "metadata": {},
     "output_type": "execute_result"
    }
   ],
   "source": [
    "x_test.shape"
   ]
  },
  {
   "cell_type": "code",
   "execution_count": 335,
   "id": "9a365fd5",
   "metadata": {},
   "outputs": [
    {
     "data": {
      "text/plain": [
       "180.0"
      ]
     },
     "execution_count": 335,
     "metadata": {},
     "output_type": "execute_result"
    }
   ],
   "source": [
    "720*25/100"
   ]
  },
  {
   "cell_type": "markdown",
   "id": "7324f3e2",
   "metadata": {},
   "source": [
    "# Predictions"
   ]
  },
  {
   "cell_type": "code",
   "execution_count": 336,
   "id": "5c2a3690",
   "metadata": {},
   "outputs": [
    {
     "data": {
      "text/plain": [
       "array([[1.59054134e-04, 9.94893354e-01, 1.23249668e-03, 3.71509503e-03]])"
      ]
     },
     "execution_count": 336,
     "metadata": {},
     "output_type": "execute_result"
    }
   ],
   "source": [
    "# The second class is the highest score so it will be the prediction for this data\n",
    "clf.predict_proba(x_test[0:1])"
   ]
  },
  {
   "cell_type": "code",
   "execution_count": 337,
   "id": "4a61808c",
   "metadata": {},
   "outputs": [
    {
     "data": {
      "text/html": [
       "<div>\n",
       "<style scoped>\n",
       "    .dataframe tbody tr th:only-of-type {\n",
       "        vertical-align: middle;\n",
       "    }\n",
       "\n",
       "    .dataframe tbody tr th {\n",
       "        vertical-align: top;\n",
       "    }\n",
       "\n",
       "    .dataframe thead th {\n",
       "        text-align: right;\n",
       "    }\n",
       "</style>\n",
       "<table border=\"1\" class=\"dataframe\">\n",
       "  <thead>\n",
       "    <tr style=\"text-align: right;\">\n",
       "      <th></th>\n",
       "      <th>0</th>\n",
       "      <th>1</th>\n",
       "      <th>2</th>\n",
       "      <th>3</th>\n",
       "      <th>4</th>\n",
       "      <th>5</th>\n",
       "      <th>6</th>\n",
       "      <th>7</th>\n",
       "      <th>8</th>\n",
       "      <th>9</th>\n",
       "      <th>...</th>\n",
       "      <th>54</th>\n",
       "      <th>55</th>\n",
       "      <th>56</th>\n",
       "      <th>57</th>\n",
       "      <th>58</th>\n",
       "      <th>59</th>\n",
       "      <th>60</th>\n",
       "      <th>61</th>\n",
       "      <th>62</th>\n",
       "      <th>63</th>\n",
       "    </tr>\n",
       "  </thead>\n",
       "  <tbody>\n",
       "    <tr>\n",
       "      <th>0</th>\n",
       "      <td>0.0</td>\n",
       "      <td>-0.366679</td>\n",
       "      <td>-0.359221</td>\n",
       "      <td>-0.13716</td>\n",
       "      <td>0.396239</td>\n",
       "      <td>-0.526642</td>\n",
       "      <td>-0.272433</td>\n",
       "      <td>0.0</td>\n",
       "      <td>-0.074744</td>\n",
       "      <td>-0.687921</td>\n",
       "      <td>...</td>\n",
       "      <td>-0.916771</td>\n",
       "      <td>-0.317228</td>\n",
       "      <td>0.0</td>\n",
       "      <td>-0.316686</td>\n",
       "      <td>0.029321</td>\n",
       "      <td>0.790952</td>\n",
       "      <td>-0.098555</td>\n",
       "      <td>-1.614943</td>\n",
       "      <td>-0.64027</td>\n",
       "      <td>-0.329359</td>\n",
       "    </tr>\n",
       "  </tbody>\n",
       "</table>\n",
       "<p>1 rows × 64 columns</p>\n",
       "</div>"
      ],
      "text/plain": [
       "    0         1         2        3         4         5         6    7   \\\n",
       "0  0.0 -0.366679 -0.359221 -0.13716  0.396239 -0.526642 -0.272433  0.0   \n",
       "\n",
       "         8         9   ...        54        55   56        57        58  \\\n",
       "0 -0.074744 -0.687921  ... -0.916771 -0.317228  0.0 -0.316686  0.029321   \n",
       "\n",
       "         59        60        61       62        63  \n",
       "0  0.790952 -0.098555 -1.614943 -0.64027 -0.329359  \n",
       "\n",
       "[1 rows x 64 columns]"
      ]
     },
     "execution_count": 337,
     "metadata": {},
     "output_type": "execute_result"
    }
   ],
   "source": [
    "pd.DataFrame(x_test[0:1])"
   ]
  },
  {
   "cell_type": "code",
   "execution_count": 338,
   "id": "fd72f562",
   "metadata": {},
   "outputs": [
    {
     "data": {
      "text/plain": [
       "array([1, 3], dtype=int64)"
      ]
     },
     "execution_count": 338,
     "metadata": {},
     "output_type": "execute_result"
    }
   ],
   "source": [
    "clf.predict(x_test[0:2])"
   ]
  },
  {
   "cell_type": "markdown",
   "id": "48f234a4",
   "metadata": {},
   "source": [
    "So that's it, I encourage you to try using logisitic regression for multiclass classification."
   ]
  },
  {
   "cell_type": "code",
   "execution_count": 339,
   "id": "75ba9f4d",
   "metadata": {},
   "outputs": [],
   "source": [
    "score=clf.score(x_test,clf.predict(x_test))"
   ]
  },
  {
   "cell_type": "code",
   "execution_count": 340,
   "id": "b3d26aa1",
   "metadata": {},
   "outputs": [
    {
     "data": {
      "text/plain": [
       "1.0"
      ]
     },
     "execution_count": 340,
     "metadata": {},
     "output_type": "execute_result"
    }
   ],
   "source": [
    "score"
   ]
  },
  {
   "cell_type": "markdown",
   "id": "14281bca",
   "metadata": {},
   "source": [
    "# we test the model with real photo image of 3"
   ]
  },
  {
   "cell_type": "code",
   "execution_count": 341,
   "id": "c862736a",
   "metadata": {},
   "outputs": [
    {
     "data": {
      "text/plain": [
       "array([[253, 253, 251,   2,   2,   3, 253, 253, 253, 254,   0,   2,   2,\n",
       "          0,   0, 253, 253, 178,   2, 253, 253,   0,   0, 253, 253, 253,\n",
       "        253, 253,   0,   0, 250, 253, 253, 253, 253, 253, 249,   0,   0,\n",
       "        253, 253,   2,   2, 253, 253,   0,   0, 253, 253, 254,  24,  24,\n",
       "         27,  22,  21, 253, 253, 253, 253, 253, 253, 253, 253, 253]],\n",
       "      dtype=uint8)"
      ]
     },
     "execution_count": 341,
     "metadata": {},
     "output_type": "execute_result"
    }
   ],
   "source": [
    "import cv2\n",
    "import numpy as np\n",
    "from sklearn.preprocessing import StandardScaler\n",
    "\n",
    "# Read the image using OpenCV\n",
    "img = cv2.imread(\"three.jpg\")\n",
    "\n",
    "# Convert the image to grayscale\n",
    "gray_img = cv2.cvtColor(img, cv2.COLOR_BGR2GRAY)\n",
    "\n",
    "# Threshold the image to create a binary image\n",
    "_, binary_img = cv2.threshold(gray_img, 127, 255, cv2.THRESH_BINARY)\n",
    "\n",
    "# Find contours in the binary image\n",
    "contours, _ = cv2.findContours(binary_img, cv2.RETR_EXTERNAL, cv2.CHAIN_APPROX_SIMPLE)\n",
    "\n",
    "# Sort the contours by area and get the largest contour (assuming it's the number 3)\n",
    "contours = sorted(contours,key=cv2.contourArea, reverse=True)\n",
    "largest_contour = contours[0]\n",
    "\n",
    "# Get the bounding box of the largest contour\n",
    "x, y, w, h = cv2.boundingRect(largest_contour)\n",
    "\n",
    "# Crop the region of interest (ROI) containing the number 3\n",
    "number_three_roi = gray_img[y:y + h, x:x + w]\n",
    "\n",
    "# Resize the ROI to 8x8 pixels\n",
    "resized_roi = cv2.resize(number_three_roi, (8, 8))\n",
    "\n",
    "# Flatten the 2D array to a 1D array\n",
    "arr = resized_roi.flatten()\n",
    "\n",
    "# Reshape the 1D array to a 2D array with a single sample\n",
    "arr_2d = arr.reshape(1, -1)\n",
    "\n",
    "arr_2d"
   ]
  },
  {
   "cell_type": "code",
   "execution_count": 342,
   "id": "6b902b5a",
   "metadata": {},
   "outputs": [],
   "source": [
    "ss=stan.fit_transform(arr_2d)"
   ]
  },
  {
   "cell_type": "code",
   "execution_count": 343,
   "id": "909d6e12",
   "metadata": {},
   "outputs": [
    {
     "data": {
      "text/plain": [
       "array([[0., 0., 0., 0., 0., 0., 0., 0., 0., 0., 0., 0., 0., 0., 0., 0.,\n",
       "        0., 0., 0., 0., 0., 0., 0., 0., 0., 0., 0., 0., 0., 0., 0., 0.,\n",
       "        0., 0., 0., 0., 0., 0., 0., 0., 0., 0., 0., 0., 0., 0., 0., 0.,\n",
       "        0., 0., 0., 0., 0., 0., 0., 0., 0., 0., 0., 0., 0., 0., 0., 0.]])"
      ]
     },
     "execution_count": 343,
     "metadata": {},
     "output_type": "execute_result"
    }
   ],
   "source": [
    "ss"
   ]
  },
  {
   "cell_type": "code",
   "execution_count": 344,
   "id": "cd9adfea",
   "metadata": {},
   "outputs": [
    {
     "data": {
      "text/plain": [
       "array([3], dtype=int64)"
      ]
     },
     "execution_count": 344,
     "metadata": {},
     "output_type": "execute_result"
    }
   ],
   "source": [
    "clf.predict(ss)"
   ]
  },
  {
   "cell_type": "markdown",
   "id": "a2bd11f7",
   "metadata": {},
   "source": [
    "#it's predicted correctly!!!"
   ]
  },
  {
   "cell_type": "markdown",
   "id": "fabae1af",
   "metadata": {},
   "source": [
    "# now we try real photo of 0.we will see whether it will predict or not?"
   ]
  },
  {
   "cell_type": "code",
   "execution_count": 368,
   "id": "982bf6c1",
   "metadata": {},
   "outputs": [
    {
     "name": "stdout",
     "output_type": "stream",
     "text": [
      "[[237 247 252 242 202 254 239 248 246 245 244   0 243   0 247 245 254 244\n",
      "    0   0 239   0   0 241 237 246   0   0 250   0   0 250 252 244   0   0\n",
      "  243   0   0 236 252 242   0   0 238   0   0 241 236 246 205   0 251   0\n",
      "  225 248 253 243 240   0   1   0 252 240]]\n"
     ]
    }
   ],
   "source": [
    "#read the original image\n",
    "image1=cv2.imread(\"zero.jpg\")\n",
    "#converting the image to grayscale\n",
    "gray_image1=cv2.cvtColor(image1,cv2.COLOR_RGB2GRAY)\n",
    "#thresholding the image to create a binary image\n",
    "_,thr=cv2.threshold(gray_image1,127,255,cv2.THRESH_BINARY)\n",
    "# Find contours in the binary image\n",
    "con, _ = cv2.findContours(thr, cv2.RETR_EXTERNAL, cv2.CHAIN_APPROX_SIMPLE)\n",
    "#print(con)\n",
    "#finding the largest contour from the contour values\n",
    "con=sorted(con,key=cv2.contourArea,reverse=True)#key=cv2.contourArea-it's sort by countour araea\n",
    "big_con=con[0]\n",
    "#print(big_con)\n",
    "## Get the bounding box of the largest contour\n",
    "x,y,h,w=cv2.boundingRect(big_con)\n",
    "#print(x,y,h,w)\n",
    "#extract the zero part from the image\n",
    "roi=gray_image1[y:y+h,x:x+w]\n",
    "#print(roi)\n",
    "# Resize the ROI to 8x8 pixels\n",
    "re=cv2.resize(roi,(8,8))\n",
    "#converting the 2d array to singlerow 2d array\n",
    " #converting to 1d array then convert to 2d\n",
    "d1=re.flatten()#flatten() function is used to convert 2d array to 1d array\n",
    "#print(d1)\n",
    "d2=d1.reshape(1,-1) \n",
    "print(d2)"
   ]
  },
  {
   "cell_type": "code",
   "execution_count": 369,
   "id": "2941deed",
   "metadata": {},
   "outputs": [],
   "source": [
    "#applying standaredscaler to d2 array\n",
    "s=stan.fit_transform(d2)"
   ]
  },
  {
   "cell_type": "code",
   "execution_count": 370,
   "id": "328e64be",
   "metadata": {},
   "outputs": [
    {
     "data": {
      "text/plain": [
       "(1, 64)"
      ]
     },
     "execution_count": 370,
     "metadata": {},
     "output_type": "execute_result"
    }
   ],
   "source": [
    "s.shape"
   ]
  },
  {
   "cell_type": "code",
   "execution_count": 371,
   "id": "8e95c539",
   "metadata": {},
   "outputs": [
    {
     "data": {
      "text/plain": [
       "array([3], dtype=int64)"
      ]
     },
     "execution_count": 371,
     "metadata": {},
     "output_type": "execute_result"
    }
   ],
   "source": [
    "#predict the input image by our model\n",
    "clf.predict(s)"
   ]
  },
  {
   "cell_type": "markdown",
   "id": "a9c27eda",
   "metadata": {},
   "source": [
    "#here it's not predicted correct value because we given train data row all small pixel values but here pixel rate very high\n",
    "so now we going to feed some additional data's to algorithm to find out the prediction"
   ]
  },
  {
   "cell_type": "code",
   "execution_count": 372,
   "id": "815b9310",
   "metadata": {},
   "outputs": [
    {
     "data": {
      "text/plain": [
       "array([237, 247, 252, 242, 202, 254, 239, 248, 246, 245, 244,   0, 243,\n",
       "         0, 247, 245, 254, 244,   0,   0, 239,   0,   0, 241, 237, 246,\n",
       "         0,   0, 250,   0,   0, 250, 252, 244,   0,   0, 243,   0,   0,\n",
       "       236, 252, 242,   0,   0, 238,   0,   0, 241, 236, 246, 205,   0,\n",
       "       251,   0, 225, 248, 253, 243, 240,   0,   1,   0, 252, 240],\n",
       "      dtype=uint8)"
      ]
     },
     "execution_count": 372,
     "metadata": {},
     "output_type": "execute_result"
    }
   ],
   "source": [
    "#chaning the 2d array to 1d\n",
    "d2=d2.reshape(-1)\n",
    "d2"
   ]
  },
  {
   "cell_type": "code",
   "execution_count": 373,
   "id": "b6a2d1a3",
   "metadata": {},
   "outputs": [],
   "source": [
    "#adding the new value into 1d array\n",
    "\n",
    "d2=np.append(d2,0)\n"
   ]
  },
  {
   "cell_type": "code",
   "execution_count": 374,
   "id": "7a51dfa7",
   "metadata": {},
   "outputs": [
    {
     "data": {
      "text/plain": [
       "array([237, 247, 252, 242, 202, 254, 239, 248, 246, 245, 244,   0, 243,\n",
       "         0, 247, 245, 254, 244,   0,   0, 239,   0,   0, 241, 237, 246,\n",
       "         0,   0, 250,   0,   0, 250, 252, 244,   0,   0, 243,   0,   0,\n",
       "       236, 252, 242,   0,   0, 238,   0,   0, 241, 236, 246, 205,   0,\n",
       "       251,   0, 225, 248, 253, 243, 240,   0,   1,   0, 252, 240,   0])"
      ]
     },
     "execution_count": 374,
     "metadata": {},
     "output_type": "execute_result"
    }
   ],
   "source": [
    "d2"
   ]
  },
  {
   "cell_type": "code",
   "execution_count": 375,
   "id": "933d0d4d",
   "metadata": {},
   "outputs": [
    {
     "data": {
      "text/plain": [
       "Index(['0', '1', '2', '3', '4', '5', '6', '7', '8', '9', '10', '11', '12',\n",
       "       '13', '14', '15', '16', '17', '18', '19', '20', '21', '22', '23', '24',\n",
       "       '25', '26', '27', '28', '29', '30', '31', '32', '33', '34', '35', '36',\n",
       "       '37', '38', '39', '40', '41', '42', '43', '44', '45', '46', '47', '48',\n",
       "       '49', '50', '51', '52', '53', '54', '55', '56', '57', '58', '59', '60',\n",
       "       '61', '62', '63', 'label'],\n",
       "      dtype='object')"
      ]
     },
     "execution_count": 375,
     "metadata": {},
     "output_type": "execute_result"
    }
   ],
   "source": [
    "#getting the all df dataset column names\n",
    "colums=df.columns\n",
    "colums"
   ]
  },
  {
   "cell_type": "code",
   "execution_count": 376,
   "id": "dcbd402f",
   "metadata": {},
   "outputs": [],
   "source": [
    "#creating dictionary and storing column names and new values\n",
    "dic={}\n",
    "for j,k in zip(colums,d2):\n",
    "    dic.update({j:k})"
   ]
  },
  {
   "cell_type": "code",
   "execution_count": 377,
   "id": "1b5877cb",
   "metadata": {},
   "outputs": [
    {
     "data": {
      "text/plain": [
       "{'0': 237,\n",
       " '1': 247,\n",
       " '2': 252,\n",
       " '3': 242,\n",
       " '4': 202,\n",
       " '5': 254,\n",
       " '6': 239,\n",
       " '7': 248,\n",
       " '8': 246,\n",
       " '9': 245,\n",
       " '10': 244,\n",
       " '11': 0,\n",
       " '12': 243,\n",
       " '13': 0,\n",
       " '14': 247,\n",
       " '15': 245,\n",
       " '16': 254,\n",
       " '17': 244,\n",
       " '18': 0,\n",
       " '19': 0,\n",
       " '20': 239,\n",
       " '21': 0,\n",
       " '22': 0,\n",
       " '23': 241,\n",
       " '24': 237,\n",
       " '25': 246,\n",
       " '26': 0,\n",
       " '27': 0,\n",
       " '28': 250,\n",
       " '29': 0,\n",
       " '30': 0,\n",
       " '31': 250,\n",
       " '32': 252,\n",
       " '33': 244,\n",
       " '34': 0,\n",
       " '35': 0,\n",
       " '36': 243,\n",
       " '37': 0,\n",
       " '38': 0,\n",
       " '39': 236,\n",
       " '40': 252,\n",
       " '41': 242,\n",
       " '42': 0,\n",
       " '43': 0,\n",
       " '44': 238,\n",
       " '45': 0,\n",
       " '46': 0,\n",
       " '47': 241,\n",
       " '48': 236,\n",
       " '49': 246,\n",
       " '50': 205,\n",
       " '51': 0,\n",
       " '52': 251,\n",
       " '53': 0,\n",
       " '54': 225,\n",
       " '55': 248,\n",
       " '56': 253,\n",
       " '57': 243,\n",
       " '58': 240,\n",
       " '59': 0,\n",
       " '60': 1,\n",
       " '61': 0,\n",
       " '62': 252,\n",
       " '63': 240,\n",
       " 'label': 0}"
      ]
     },
     "execution_count": 377,
     "metadata": {},
     "output_type": "execute_result"
    }
   ],
   "source": [
    "dic"
   ]
  },
  {
   "cell_type": "code",
   "execution_count": 378,
   "id": "7f6d2d0f",
   "metadata": {},
   "outputs": [
    {
     "name": "stderr",
     "output_type": "stream",
     "text": [
      "C:\\Users\\Admin\\AppData\\Local\\Temp\\ipykernel_15040\\3141566788.py:1: FutureWarning: The frame.append method is deprecated and will be removed from pandas in a future version. Use pandas.concat instead.\n",
      "  df=df.append(dic,ignore_index=True)#ignore_index=True, it resets the index to create a more consistent DataFrame:\n"
     ]
    }
   ],
   "source": [
    "#adding new column into df dataset\n",
    "df=df.append(dic,ignore_index=True)#ignore_index=True, it resets the index to create a more consistent DataFrame:"
   ]
  },
  {
   "cell_type": "code",
   "execution_count": 379,
   "id": "df526b2e",
   "metadata": {},
   "outputs": [
    {
     "data": {
      "text/html": [
       "<div>\n",
       "<style scoped>\n",
       "    .dataframe tbody tr th:only-of-type {\n",
       "        vertical-align: middle;\n",
       "    }\n",
       "\n",
       "    .dataframe tbody tr th {\n",
       "        vertical-align: top;\n",
       "    }\n",
       "\n",
       "    .dataframe thead th {\n",
       "        text-align: right;\n",
       "    }\n",
       "</style>\n",
       "<table border=\"1\" class=\"dataframe\">\n",
       "  <thead>\n",
       "    <tr style=\"text-align: right;\">\n",
       "      <th></th>\n",
       "      <th>0</th>\n",
       "      <th>1</th>\n",
       "      <th>2</th>\n",
       "      <th>3</th>\n",
       "      <th>4</th>\n",
       "      <th>5</th>\n",
       "      <th>6</th>\n",
       "      <th>7</th>\n",
       "      <th>8</th>\n",
       "      <th>9</th>\n",
       "      <th>...</th>\n",
       "      <th>55</th>\n",
       "      <th>56</th>\n",
       "      <th>57</th>\n",
       "      <th>58</th>\n",
       "      <th>59</th>\n",
       "      <th>60</th>\n",
       "      <th>61</th>\n",
       "      <th>62</th>\n",
       "      <th>63</th>\n",
       "      <th>label</th>\n",
       "    </tr>\n",
       "  </thead>\n",
       "  <tbody>\n",
       "    <tr>\n",
       "      <th>717</th>\n",
       "      <td>0</td>\n",
       "      <td>1</td>\n",
       "      <td>10</td>\n",
       "      <td>13</td>\n",
       "      <td>2</td>\n",
       "      <td>0</td>\n",
       "      <td>0</td>\n",
       "      <td>0</td>\n",
       "      <td>0</td>\n",
       "      <td>10</td>\n",
       "      <td>...</td>\n",
       "      <td>0</td>\n",
       "      <td>0</td>\n",
       "      <td>0</td>\n",
       "      <td>9</td>\n",
       "      <td>13</td>\n",
       "      <td>11</td>\n",
       "      <td>10</td>\n",
       "      <td>9</td>\n",
       "      <td>0</td>\n",
       "      <td>2</td>\n",
       "    </tr>\n",
       "    <tr>\n",
       "      <th>718</th>\n",
       "      <td>0</td>\n",
       "      <td>0</td>\n",
       "      <td>15</td>\n",
       "      <td>13</td>\n",
       "      <td>1</td>\n",
       "      <td>0</td>\n",
       "      <td>0</td>\n",
       "      <td>0</td>\n",
       "      <td>0</td>\n",
       "      <td>0</td>\n",
       "      <td>...</td>\n",
       "      <td>0</td>\n",
       "      <td>0</td>\n",
       "      <td>0</td>\n",
       "      <td>10</td>\n",
       "      <td>13</td>\n",
       "      <td>10</td>\n",
       "      <td>6</td>\n",
       "      <td>2</td>\n",
       "      <td>0</td>\n",
       "      <td>2</td>\n",
       "    </tr>\n",
       "    <tr>\n",
       "      <th>719</th>\n",
       "      <td>0</td>\n",
       "      <td>0</td>\n",
       "      <td>6</td>\n",
       "      <td>16</td>\n",
       "      <td>13</td>\n",
       "      <td>11</td>\n",
       "      <td>1</td>\n",
       "      <td>0</td>\n",
       "      <td>0</td>\n",
       "      <td>0</td>\n",
       "      <td>...</td>\n",
       "      <td>0</td>\n",
       "      <td>0</td>\n",
       "      <td>0</td>\n",
       "      <td>6</td>\n",
       "      <td>16</td>\n",
       "      <td>14</td>\n",
       "      <td>6</td>\n",
       "      <td>0</td>\n",
       "      <td>0</td>\n",
       "      <td>0</td>\n",
       "    </tr>\n",
       "    <tr>\n",
       "      <th>720</th>\n",
       "      <td>237</td>\n",
       "      <td>247</td>\n",
       "      <td>252</td>\n",
       "      <td>242</td>\n",
       "      <td>202</td>\n",
       "      <td>254</td>\n",
       "      <td>239</td>\n",
       "      <td>248</td>\n",
       "      <td>246</td>\n",
       "      <td>245</td>\n",
       "      <td>...</td>\n",
       "      <td>248</td>\n",
       "      <td>253</td>\n",
       "      <td>243</td>\n",
       "      <td>240</td>\n",
       "      <td>0</td>\n",
       "      <td>1</td>\n",
       "      <td>0</td>\n",
       "      <td>252</td>\n",
       "      <td>240</td>\n",
       "      <td>0</td>\n",
       "    </tr>\n",
       "    <tr>\n",
       "      <th>721</th>\n",
       "      <td>237</td>\n",
       "      <td>247</td>\n",
       "      <td>252</td>\n",
       "      <td>242</td>\n",
       "      <td>202</td>\n",
       "      <td>254</td>\n",
       "      <td>239</td>\n",
       "      <td>248</td>\n",
       "      <td>246</td>\n",
       "      <td>245</td>\n",
       "      <td>...</td>\n",
       "      <td>248</td>\n",
       "      <td>253</td>\n",
       "      <td>243</td>\n",
       "      <td>240</td>\n",
       "      <td>0</td>\n",
       "      <td>1</td>\n",
       "      <td>0</td>\n",
       "      <td>252</td>\n",
       "      <td>240</td>\n",
       "      <td>0</td>\n",
       "    </tr>\n",
       "  </tbody>\n",
       "</table>\n",
       "<p>5 rows × 65 columns</p>\n",
       "</div>"
      ],
      "text/plain": [
       "       0    1    2    3    4    5    6    7    8    9  ...   55   56   57  \\\n",
       "717    0    1   10   13    2    0    0    0    0   10  ...    0    0    0   \n",
       "718    0    0   15   13    1    0    0    0    0    0  ...    0    0    0   \n",
       "719    0    0    6   16   13   11    1    0    0    0  ...    0    0    0   \n",
       "720  237  247  252  242  202  254  239  248  246  245  ...  248  253  243   \n",
       "721  237  247  252  242  202  254  239  248  246  245  ...  248  253  243   \n",
       "\n",
       "      58  59  60  61   62   63  label  \n",
       "717    9  13  11  10    9    0      2  \n",
       "718   10  13  10   6    2    0      2  \n",
       "719    6  16  14   6    0    0      0  \n",
       "720  240   0   1   0  252  240      0  \n",
       "721  240   0   1   0  252  240      0  \n",
       "\n",
       "[5 rows x 65 columns]"
      ]
     },
     "execution_count": 379,
     "metadata": {},
     "output_type": "execute_result"
    }
   ],
   "source": [
    "df.tail()"
   ]
  },
  {
   "cell_type": "code",
   "execution_count": 380,
   "id": "5ec890c7",
   "metadata": {},
   "outputs": [],
   "source": [
    "#again split the train and split the dataset\n",
    "X_train,X_test,Y_train,Y_test=train_test_split(df[colums],df['label'],test_size=0.25,random_state=1)"
   ]
  },
  {
   "cell_type": "code",
   "execution_count": 381,
   "id": "246b1f11",
   "metadata": {},
   "outputs": [],
   "source": [
    "#applying the standaredscaler\n",
    "X_train=stan.fit_transform(X_train)\n",
    "X_test=stan.fit_transform(X_test)"
   ]
  },
  {
   "cell_type": "code",
   "execution_count": 382,
   "id": "984a542f",
   "metadata": {},
   "outputs": [
    {
     "data": {
      "text/html": [
       "<style>#sk-container-id-5 {color: black;background-color: white;}#sk-container-id-5 pre{padding: 0;}#sk-container-id-5 div.sk-toggleable {background-color: white;}#sk-container-id-5 label.sk-toggleable__label {cursor: pointer;display: block;width: 100%;margin-bottom: 0;padding: 0.3em;box-sizing: border-box;text-align: center;}#sk-container-id-5 label.sk-toggleable__label-arrow:before {content: \"▸\";float: left;margin-right: 0.25em;color: #696969;}#sk-container-id-5 label.sk-toggleable__label-arrow:hover:before {color: black;}#sk-container-id-5 div.sk-estimator:hover label.sk-toggleable__label-arrow:before {color: black;}#sk-container-id-5 div.sk-toggleable__content {max-height: 0;max-width: 0;overflow: hidden;text-align: left;background-color: #f0f8ff;}#sk-container-id-5 div.sk-toggleable__content pre {margin: 0.2em;color: black;border-radius: 0.25em;background-color: #f0f8ff;}#sk-container-id-5 input.sk-toggleable__control:checked~div.sk-toggleable__content {max-height: 200px;max-width: 100%;overflow: auto;}#sk-container-id-5 input.sk-toggleable__control:checked~label.sk-toggleable__label-arrow:before {content: \"▾\";}#sk-container-id-5 div.sk-estimator input.sk-toggleable__control:checked~label.sk-toggleable__label {background-color: #d4ebff;}#sk-container-id-5 div.sk-label input.sk-toggleable__control:checked~label.sk-toggleable__label {background-color: #d4ebff;}#sk-container-id-5 input.sk-hidden--visually {border: 0;clip: rect(1px 1px 1px 1px);clip: rect(1px, 1px, 1px, 1px);height: 1px;margin: -1px;overflow: hidden;padding: 0;position: absolute;width: 1px;}#sk-container-id-5 div.sk-estimator {font-family: monospace;background-color: #f0f8ff;border: 1px dotted black;border-radius: 0.25em;box-sizing: border-box;margin-bottom: 0.5em;}#sk-container-id-5 div.sk-estimator:hover {background-color: #d4ebff;}#sk-container-id-5 div.sk-parallel-item::after {content: \"\";width: 100%;border-bottom: 1px solid gray;flex-grow: 1;}#sk-container-id-5 div.sk-label:hover label.sk-toggleable__label {background-color: #d4ebff;}#sk-container-id-5 div.sk-serial::before {content: \"\";position: absolute;border-left: 1px solid gray;box-sizing: border-box;top: 0;bottom: 0;left: 50%;z-index: 0;}#sk-container-id-5 div.sk-serial {display: flex;flex-direction: column;align-items: center;background-color: white;padding-right: 0.2em;padding-left: 0.2em;position: relative;}#sk-container-id-5 div.sk-item {position: relative;z-index: 1;}#sk-container-id-5 div.sk-parallel {display: flex;align-items: stretch;justify-content: center;background-color: white;position: relative;}#sk-container-id-5 div.sk-item::before, #sk-container-id-5 div.sk-parallel-item::before {content: \"\";position: absolute;border-left: 1px solid gray;box-sizing: border-box;top: 0;bottom: 0;left: 50%;z-index: -1;}#sk-container-id-5 div.sk-parallel-item {display: flex;flex-direction: column;z-index: 1;position: relative;background-color: white;}#sk-container-id-5 div.sk-parallel-item:first-child::after {align-self: flex-end;width: 50%;}#sk-container-id-5 div.sk-parallel-item:last-child::after {align-self: flex-start;width: 50%;}#sk-container-id-5 div.sk-parallel-item:only-child::after {width: 0;}#sk-container-id-5 div.sk-dashed-wrapped {border: 1px dashed gray;margin: 0 0.4em 0.5em 0.4em;box-sizing: border-box;padding-bottom: 0.4em;background-color: white;}#sk-container-id-5 div.sk-label label {font-family: monospace;font-weight: bold;display: inline-block;line-height: 1.2em;}#sk-container-id-5 div.sk-label-container {text-align: center;}#sk-container-id-5 div.sk-container {/* jupyter's `normalize.less` sets `[hidden] { display: none; }` but bootstrap.min.css set `[hidden] { display: none !important; }` so we also need the `!important` here to be able to override the default hidden behavior on the sphinx rendered scikit-learn.org. See: https://github.com/scikit-learn/scikit-learn/issues/21755 */display: inline-block !important;position: relative;}#sk-container-id-5 div.sk-text-repr-fallback {display: none;}</style><div id=\"sk-container-id-5\" class=\"sk-top-container\"><div class=\"sk-text-repr-fallback\"><pre>LogisticRegression(multi_class=&#x27;ovr&#x27;, random_state=1)</pre><b>In a Jupyter environment, please rerun this cell to show the HTML representation or trust the notebook. <br />On GitHub, the HTML representation is unable to render, please try loading this page with nbviewer.org.</b></div><div class=\"sk-container\" hidden><div class=\"sk-item\"><div class=\"sk-estimator sk-toggleable\"><input class=\"sk-toggleable__control sk-hidden--visually\" id=\"sk-estimator-id-5\" type=\"checkbox\" checked><label for=\"sk-estimator-id-5\" class=\"sk-toggleable__label sk-toggleable__label-arrow\">LogisticRegression</label><div class=\"sk-toggleable__content\"><pre>LogisticRegression(multi_class=&#x27;ovr&#x27;, random_state=1)</pre></div></div></div></div></div>"
      ],
      "text/plain": [
       "LogisticRegression(multi_class='ovr', random_state=1)"
      ]
     },
     "execution_count": 382,
     "metadata": {},
     "output_type": "execute_result"
    }
   ],
   "source": [
    "#appliying logistic regression algorithm\n",
    "loga=LogisticRegression(random_state=1,multi_class='ovr')\n",
    "loga.fit(X_train,Y_train)"
   ]
  },
  {
   "cell_type": "code",
   "execution_count": 383,
   "id": "0bca56d0",
   "metadata": {},
   "outputs": [
    {
     "data": {
      "text/plain": [
       "array([[1.00000000e+00, 3.19307699e-16, 2.33605573e-14, 7.96123797e-14]])"
      ]
     },
     "execution_count": 383,
     "metadata": {},
     "output_type": "execute_result"
    }
   ],
   "source": [
    "#checking the probability of prediction\n",
    "loga.predict_proba(d2.reshape(1,-1))"
   ]
  },
  {
   "cell_type": "code",
   "execution_count": 384,
   "id": "2139f742",
   "metadata": {},
   "outputs": [
    {
     "data": {
      "text/plain": [
       "array([0], dtype=int64)"
      ]
     },
     "execution_count": 384,
     "metadata": {},
     "output_type": "execute_result"
    }
   ],
   "source": [
    "#predict the value \n",
    "loga.predict(d2.reshape(1,-1))\n",
    "#predicted value same as photo value"
   ]
  },
  {
   "cell_type": "markdown",
   "id": "fd0e013b",
   "metadata": {},
   "source": [
    "#if we fed the new data and then predicted it working fine!!"
   ]
  },
  {
   "cell_type": "code",
   "execution_count": null,
   "id": "d6b72ccf",
   "metadata": {},
   "outputs": [],
   "source": []
  }
 ],
 "metadata": {
  "kernelspec": {
   "display_name": "Python 3 (ipykernel)",
   "language": "python",
   "name": "python3"
  },
  "language_info": {
   "codemirror_mode": {
    "name": "ipython",
    "version": 3
   },
   "file_extension": ".py",
   "mimetype": "text/x-python",
   "name": "python",
   "nbconvert_exporter": "python",
   "pygments_lexer": "ipython3",
   "version": "3.10.9"
  }
 },
 "nbformat": 4,
 "nbformat_minor": 5
}
