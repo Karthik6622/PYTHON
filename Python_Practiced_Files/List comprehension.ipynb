{
 "cells": [
  {
   "cell_type": "markdown",
   "id": "778d1ec8",
   "metadata": {},
   "source": [
    "# LIST COMPREHENSION"
   ]
  },
  {
   "cell_type": "code",
   "execution_count": 5,
   "id": "6babe062",
   "metadata": {},
   "outputs": [
    {
     "name": "stdout",
     "output_type": "stream",
     "text": [
      "Enter the startting number:8\n",
      "Enter the endting number:80\n",
      "[8, 16, 24, 32, 40, 48, 56, 64, 72, 80]\n",
      "(8, 16, 24, 32, 40, 48, 56, 64, 72, 80)\n"
     ]
    }
   ],
   "source": [
    "#to find given list has divisable by 8 elements and change result as tuple format\n",
    "start=int(input(\"Enter the startting number:\"))\n",
    "end=int(input(\"Enter the endting number:\"))\n",
    "li=[ll for ll in range(start,end+1) if ll%8==0]\n",
    "print(li)\n",
    "print(tuple(li))"
   ]
  },
  {
   "cell_type": "code",
   "execution_count": 11,
   "id": "51ebfb41",
   "metadata": {},
   "outputs": [
    {
     "name": "stdout",
     "output_type": "stream",
     "text": [
      "Enter the Striing:baby\n",
      "['b', 'a', 'b', 'y']\n",
      "[98, 97, 98, 121]\n",
      "{'b': 98, 'a': 97, 'y': 121}\n"
     ]
    }
   ],
   "source": [
    "#to change string to list using list comprehension and find every character ascii value to store dictinary using lambda\n",
    "s=input(\"Enter the Striing:\")\n",
    "st=[lll for lll in s]\n",
    "print(st)\n",
    "st1=list(map(lambda x:ord(x),st))\n",
    "print(st1)\n",
    "dic1={}\n",
    "for i,j in zip(st,st1):\n",
    "    dic1.update({i:j})\n",
    "print(dic1)"
   ]
  },
  {
   "cell_type": "code",
   "execution_count": 19,
   "id": "8820f5b6",
   "metadata": {},
   "outputs": [
    {
     "name": "stdout",
     "output_type": "stream",
     "text": [
      "Enter the value:6\n",
      "Even number\n"
     ]
    }
   ],
   "source": [
    "#to find we given value is odd or even using list comprehension\n",
    "inp=int(input(\"Enter the value:\"))\n",
    "li2=[inp]\n",
    "li3=[l for l in li2 if l%2==0]\n",
    "if not li3:\n",
    "    print(\"odd number\")\n",
    "else:\n",
    "    print(\"Even number\")"
   ]
  },
  {
   "cell_type": "code",
   "execution_count": 11,
   "id": "e0e83573",
   "metadata": {},
   "outputs": [
    {
     "name": "stdout",
     "output_type": "stream",
     "text": [
      "[5.0, 9.486832980505138, 6.708203932499369, 5.830951894845301, 1.4142135623730951]\n",
      "--------------------------------------------------\n",
      "[5.0, 9.486832980505138, 6.708203932499369, 5.830951894845301, 1.4142135623730951]\n"
     ]
    }
   ],
   "source": [
    "#to find squre root value using math module\n",
    "import math\n",
    "ll=[25,90,45,34,2]\n",
    "lll=[math.sqrt(lll) for lll in ll]\n",
    "print(lll)\n",
    "print('-'*50)\n",
    "ll2=[l**(1/2) for l in ll]#25^(1/2)=squre root 25\n",
    "print(ll2)"
   ]
  },
  {
   "cell_type": "code",
   "execution_count": 12,
   "id": "cc49bcfd",
   "metadata": {},
   "outputs": [
    {
     "name": "stdout",
     "output_type": "stream",
     "text": [
      "0.5\n",
      "5.0\n"
     ]
    }
   ],
   "source": [
    "print(1/2)\n",
    "print(25**0.5)"
   ]
  },
  {
   "cell_type": "code",
   "execution_count": 13,
   "id": "44d913c7",
   "metadata": {},
   "outputs": [
    {
     "name": "stdout",
     "output_type": "stream",
     "text": [
      "[89, 5, 323]\n"
     ]
    }
   ],
   "source": [
    "#to display odd value from the list\n",
    "lii=[89,0,5,4,323]\n",
    "lll=[i for i in lii if i%2!=0]\n",
    "print(lll)"
   ]
  },
  {
   "cell_type": "code",
   "execution_count": null,
   "id": "c9ea58e6",
   "metadata": {},
   "outputs": [],
   "source": []
  }
 ],
 "metadata": {
  "kernelspec": {
   "display_name": "Python 3 (ipykernel)",
   "language": "python",
   "name": "python3"
  },
  "language_info": {
   "codemirror_mode": {
    "name": "ipython",
    "version": 3
   },
   "file_extension": ".py",
   "mimetype": "text/x-python",
   "name": "python",
   "nbconvert_exporter": "python",
   "pygments_lexer": "ipython3",
   "version": "3.10.9"
  }
 },
 "nbformat": 4,
 "nbformat_minor": 5
}
