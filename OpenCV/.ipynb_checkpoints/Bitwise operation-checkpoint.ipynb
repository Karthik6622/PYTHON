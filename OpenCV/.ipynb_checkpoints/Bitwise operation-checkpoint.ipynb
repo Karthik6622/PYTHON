{
 "cells": [
  {
   "cell_type": "markdown",
   "id": "a770a201",
   "metadata": {},
   "source": [
    "# Bitwise operation"
   ]
  },
  {
   "cell_type": "markdown",
   "id": "ab906c0e",
   "metadata": {},
   "source": [
    "bitwise operation can be very useful when working with mask.masks are binary images that indicates the pixel in which operation to be performed"
   ]
  },
  {
   "cell_type": "code",
   "execution_count": 1,
   "id": "f88be570",
   "metadata": {},
   "outputs": [],
   "source": [
    "import numpy as np\n",
    "import cv2"
   ]
  },
  {
   "cell_type": "code",
   "execution_count": 5,
   "id": "7c7bd9bf",
   "metadata": {},
   "outputs": [],
   "source": [
    "#creating two images for bitwise operation\n",
    "#img1\n",
    "img=np.zeros([500,500,3],dtype=np.uint8)\n",
    "img=cv2.rectangle(img,(200,250),(300,350),(255,255,255),-1)\n",
    "#img2\n",
    "img2=cv2.imread(\"image.jpg\")\n",
    "cv2.imshow(\"Image1\",img)\n",
    "cv2.imshow(\"Image2\",img2)\n",
    "cv2.waitKey()\n",
    "cv2.destroyAllWindows()"
   ]
  },
  {
   "cell_type": "code",
   "execution_count": 6,
   "id": "f9d918a1",
   "metadata": {},
   "outputs": [
    {
     "ename": "error",
     "evalue": "OpenCV(4.8.1) D:\\a\\opencv-python\\opencv-python\\opencv\\modules\\core\\src\\arithm.cpp:214: error: (-209:Sizes of input arguments do not match) The operation is neither 'array op array' (where arrays have the same size and type), nor 'array op scalar', nor 'scalar op array' in function 'cv::binary_op'\n",
     "output_type": "error",
     "traceback": [
      "\u001b[1;31m---------------------------------------------------------------------------\u001b[0m",
      "\u001b[1;31merror\u001b[0m                                     Traceback (most recent call last)",
      "Cell \u001b[1;32mIn[6], line 8\u001b[0m\n\u001b[0;32m      1\u001b[0m \u001b[38;5;66;03m#bitwise and\u001b[39;00m\n\u001b[0;32m      2\u001b[0m \u001b[38;5;124;03m'''\u001b[39;00m\n\u001b[0;32m      3\u001b[0m \u001b[38;5;124;03m0 0 -->0\u001b[39;00m\n\u001b[0;32m      4\u001b[0m \u001b[38;5;124;03m0 1 -->0\u001b[39;00m\n\u001b[0;32m      5\u001b[0m \u001b[38;5;124;03m1 0 -->0\u001b[39;00m\n\u001b[0;32m      6\u001b[0m \u001b[38;5;124;03m1 1 -->1\u001b[39;00m\n\u001b[0;32m      7\u001b[0m \u001b[38;5;124;03m'''\u001b[39;00m\n\u001b[1;32m----> 8\u001b[0m bitwiseand\u001b[38;5;241m=\u001b[39m\u001b[43mcv2\u001b[49m\u001b[38;5;241;43m.\u001b[39;49m\u001b[43mbitwise_and\u001b[49m\u001b[43m(\u001b[49m\u001b[43mimg\u001b[49m\u001b[43m,\u001b[49m\u001b[43mimg2\u001b[49m\u001b[43m)\u001b[49m\n\u001b[0;32m      9\u001b[0m cv2\u001b[38;5;241m.\u001b[39mimshow(\u001b[38;5;124m\"\u001b[39m\u001b[38;5;124mBitwiseand\u001b[39m\u001b[38;5;124m\"\u001b[39m,bitwiseand)\n\u001b[0;32m     10\u001b[0m cv2\u001b[38;5;241m.\u001b[39mwaitKey()\n",
      "\u001b[1;31merror\u001b[0m: OpenCV(4.8.1) D:\\a\\opencv-python\\opencv-python\\opencv\\modules\\core\\src\\arithm.cpp:214: error: (-209:Sizes of input arguments do not match) The operation is neither 'array op array' (where arrays have the same size and type), nor 'array op scalar', nor 'scalar op array' in function 'cv::binary_op'\n"
     ]
    }
   ],
   "source": [
    "#bitwise and\n",
    "'''\n",
    "0 0 -->0\n",
    "0 1 -->0\n",
    "1 0 -->0\n",
    "1 1 -->1\n",
    "'''\n",
    "bitwiseand=cv2.bitwise_and(img,img2)\n",
    "cv2.imshow(\"Bitwiseand\",bitwiseand)\n",
    "cv2.waitKey()\n",
    "cv2.destroyAllWindows()\n",
    "#why error coming means both images size is not match"
   ]
  },
  {
   "cell_type": "code",
   "execution_count": 8,
   "id": "4556b11c",
   "metadata": {},
   "outputs": [],
   "source": [
    "#we have to resize the both images then we can perform bitwise and ,or,not\n",
    "resize_image1=cv2.resize(img,(600,600))\n",
    "resize_image2=cv2.resize(img2,(600,600))\n",
    "bitwiseand=cv2.bitwise_and(resize_image1,resize_image2)\n",
    "cv2.imshow(\"Bitwiseand\",bitwiseand)\n",
    "cv2.waitKey()\n",
    "cv2.destroyAllWindows()\n",
    "#explanation:\n",
    "'''\n",
    "it will take black color as 0 and other colors take as 1\n",
    "'''"
   ]
  },
  {
   "cell_type": "code",
   "execution_count": 10,
   "id": "36e89c4e",
   "metadata": {},
   "outputs": [
    {
     "data": {
      "text/plain": [
       "'\\nit will take black color as 0 and other colors take as 1\\n'"
      ]
     },
     "execution_count": 10,
     "metadata": {},
     "output_type": "execute_result"
    }
   ],
   "source": [
    "#bitwise or\n",
    "'''\n",
    "'''\n",
    "0 0 -->0\n",
    "0 1 -->1\n",
    "1 0 -->1\n",
    "1 1 -->1\n",
    "'''\n",
    "'''\n",
    "bitwiseor=cv2.bitwise_or(resize_image1,resize_image2)\n",
    "cv2.imshow(\"Bitwiseor\",bitwiseor)\n",
    "cv2.waitKey()\n",
    "cv2.destroyAllWindows()\n",
    "#explanation:\n",
    "'''\n",
    "it will take black color as 0 and other colors take as 1\n",
    "'''"
   ]
  },
  {
   "cell_type": "code",
   "execution_count": 12,
   "id": "3d5a5d02",
   "metadata": {},
   "outputs": [],
   "source": [
    "#bitwise not\n",
    "bitwisenot=cv2.bitwise_not(resize_image1)\n",
    "cv2.imshow(\"Bitwisenot\",bitwisenot)\n",
    "cv2.waitKey()\n",
    "cv2.destroyAllWindows()\n",
    "#explanation:\n",
    "'''\n",
    "it will take black color as 0 and other colors take as 1 and changing result whereever black color present there it's change to white color whereever white white color prsent there change to blck colr\n",
    "'''"
   ]
  },
  {
   "cell_type": "code",
   "execution_count": 27,
   "id": "c835dd15",
   "metadata": {},
   "outputs": [],
   "source": [
    "#we applying red color on color image\n",
    "image=cv2.imread(\"image.jpg\")\n",
    "#draw the black circle on image\n",
    "image=cv2.circle(image,(200,200),40,(0,55,255),-1)\n",
    "cv2.imshow(\"black applied\",image)\n",
    "cv2.waitKey()\n",
    "cv2.destroyAllWindows()"
   ]
  },
  {
   "cell_type": "code",
   "execution_count": 28,
   "id": "363ab30b",
   "metadata": {},
   "outputs": [],
   "source": [
    "#bitwise not\n",
    "bitwisenot=cv2.bitwise_not(image)\n",
    "cv2.imshow(\"Bitwisenot\",bitwisenot)\n",
    "cv2.waitKey()\n",
    "cv2.destroyAllWindows()\n",
    "#explanation:\n",
    "'''\n",
    "red color going to apply other part of images and inside the circle ouside circle majority color will be applied\n",
    "'''"
   ]
  },
  {
   "cell_type": "code",
   "execution_count": null,
   "id": "a3c04403",
   "metadata": {},
   "outputs": [],
   "source": []
  }
 ],
 "metadata": {
  "kernelspec": {
   "display_name": "Python 3 (ipykernel)",
   "language": "python",
   "name": "python3"
  },
  "language_info": {
   "codemirror_mode": {
    "name": "ipython",
    "version": 3
   },
   "file_extension": ".py",
   "mimetype": "text/x-python",
   "name": "python",
   "nbconvert_exporter": "python",
   "pygments_lexer": "ipython3",
   "version": "3.10.9"
  }
 },
 "nbformat": 4,
 "nbformat_minor": 5
}
