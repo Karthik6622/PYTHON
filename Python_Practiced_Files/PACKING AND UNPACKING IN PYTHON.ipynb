{
 "cells": [
  {
   "cell_type": "markdown",
   "id": "857275aa",
   "metadata": {},
   "source": [
    "PACKING AND UNPACKING IN PYTHON"
   ]
  },
  {
   "cell_type": "code",
   "execution_count": 2,
   "id": "e6856f12",
   "metadata": {},
   "outputs": [
    {
     "name": "stdout",
     "output_type": "stream",
     "text": [
      "90\n",
      "45\n",
      "--------------------------------------------------\n",
      "78\n",
      "[89, 90]\n"
     ]
    }
   ],
   "source": [
    "#packing-packing is the process of combining multiple values into single collection like tuple,list,dictionary\n",
    "tuple1=(\"karthik\",22,\"Thiruchendur\",\"BSC(cs)\")\n"
   ]
  },
  {
   "cell_type": "code",
   "execution_count": 8,
   "id": "d968f6a2",
   "metadata": {},
   "outputs": [
    {
     "name": "stdout",
     "output_type": "stream",
     "text": [
      "90\n",
      "45\n",
      "--------------------------------------------------\n",
      "78\n",
      "[89, 90]\n",
      "--------------------------------------------------\n",
      "karthik\n",
      "22\n",
      "Thiruchendur\n",
      "BSC(cs)\n",
      "--------------------------------------------------\n",
      "karthik\n",
      "[22, 'Thiruchendur', 'BSC(cs)']\n"
     ]
    }
   ],
   "source": [
    "#unpacking-extracting values from the collection\n",
    "a,b,c=90,45,78\n",
    "print(a)\n",
    "print(b)\n",
    "print('-'*50)\n",
    "a,*b=78,89,90\n",
    "print(a)\n",
    "print(b)\n",
    "print('-'*50)\n",
    "name,age,native,course=tuple1\n",
    "print(name)\n",
    "print(age)\n",
    "print(native)\n",
    "print(course)\n",
    "print('-'*50)\n",
    "d,*details=tuple1#unpacking from the list ,*-its store remaining values\n",
    "print(d)\n",
    "print(details)"
   ]
  },
  {
   "cell_type": "code",
   "execution_count": 11,
   "id": "d0287673",
   "metadata": {},
   "outputs": [
    {
     "name": "stdout",
     "output_type": "stream",
     "text": [
      "1 2 3 4\n",
      "--------------------------------------------------\n",
      "1\n",
      "[2, 3, 4]\n"
     ]
    }
   ],
   "source": [
    "#using list\n",
    "list1=[1,2,3,4]\n",
    "a,b,c,d=list1\n",
    "print(a,b,c,d)\n",
    "print('-'*50)\n",
    "a,*b=list1\n",
    "print(a)\n",
    "print(b)"
   ]
  },
  {
   "cell_type": "code",
   "execution_count": 15,
   "id": "a5652227",
   "metadata": {},
   "outputs": [
    {
     "name": "stdout",
     "output_type": "stream",
     "text": [
      "karthik 23 Thiruchendur\n",
      "name ['age', 'native']\n"
     ]
    }
   ],
   "source": [
    "#using Dictionary\n",
    "dic={\"name\":'karthik',\"age\":23,\"native\":'Thiruchendur'}\n",
    "name,age,native=dic.values()\n",
    "a,*b=dic.keys()\n",
    "print(name,age,native)\n",
    "print(a,b)"
   ]
  },
  {
   "cell_type": "code",
   "execution_count": 17,
   "id": "a4105d8b",
   "metadata": {},
   "outputs": [
    {
     "name": "stdout",
     "output_type": "stream",
     "text": [
      "(4, 1)(1, 2)(4, 2)"
     ]
    }
   ],
   "source": [
    "for x in[1,2]:\n",
    "    for y in[1,4]:\n",
    "        if x!=y:\n",
    "            print((y,x),end=\"\")"
   ]
  },
  {
   "cell_type": "code",
   "execution_count": null,
   "id": "2bb1040e",
   "metadata": {},
   "outputs": [],
   "source": []
  }
 ],
 "metadata": {
  "kernelspec": {
   "display_name": "Python 3 (ipykernel)",
   "language": "python",
   "name": "python3"
  },
  "language_info": {
   "codemirror_mode": {
    "name": "ipython",
    "version": 3
   },
   "file_extension": ".py",
   "mimetype": "text/x-python",
   "name": "python",
   "nbconvert_exporter": "python",
   "pygments_lexer": "ipython3",
   "version": "3.10.9"
  }
 },
 "nbformat": 4,
 "nbformat_minor": 5
}
