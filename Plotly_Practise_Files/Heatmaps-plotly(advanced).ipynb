{
 "cells": [
  {
   "cell_type": "markdown",
   "id": "ae09aec8",
   "metadata": {},
   "source": [
    "# Heatmaps"
   ]
  },
  {
   "cell_type": "markdown",
   "id": "ce7700ae",
   "metadata": {},
   "source": [
    "A heatmap is a popular way to visualize data with two continuous variables by using colors to represent the values in a matrix or grid. "
   ]
  },
  {
   "cell_type": "code",
   "execution_count": 2,
   "id": "5856e2da",
   "metadata": {},
   "outputs": [],
   "source": [
    "from plotly.offline import plot\n",
    "import plotly.graph_objects as go\n",
    "import numpy as np\n",
    "import datetime"
   ]
  },
  {
   "cell_type": "markdown",
   "id": "29076d21",
   "metadata": {},
   "source": [
    "# Basic Heatmap"
   ]
  },
  {
   "cell_type": "code",
   "execution_count": 13,
   "id": "e256cf70",
   "metadata": {},
   "outputs": [
    {
     "data": {
      "text/plain": [
       "'temp-plot.html'"
      ]
     },
     "execution_count": 13,
     "metadata": {},
     "output_type": "execute_result"
    }
   ],
   "source": [
    "#we can give only two dimentional array\n",
    "trace=go.Heatmap(z=[[23,45,66,1,6,8],[5,53,6,11,16,80]])\n",
    "data=[trace]\n",
    "plot(data)\n",
    "#its give each value different colors like ccolorscale "
   ]
  },
  {
   "cell_type": "markdown",
   "id": "88208ce9",
   "metadata": {},
   "source": [
    "# Heatmap with categorical axis labels"
   ]
  },
  {
   "cell_type": "code",
   "execution_count": 29,
   "id": "a0537dfb",
   "metadata": {},
   "outputs": [
    {
     "data": {
      "text/plain": [
       "'temp-plot.html'"
      ]
     },
     "execution_count": 29,
     "metadata": {},
     "output_type": "execute_result"
    }
   ],
   "source": [
    "trace=go.Heatmap(z=[[23,45,66,1,6,8],[5,53,6,11,16,80],[-1,99,0,323,76]],\n",
    "                 x=['Monday','Thusday','Wednesday','Thrusday','Friday'],\n",
    "                y=['Mornings','Afternoon','Night'],\n",
    "                text=[[23,45,66,1,6,8],[5,53,6,11,16,80],[-1,99,0,323,76]],\n",
    "                colorscale='Viridis',\n",
    "                \n",
    "                )\n",
    "data=[trace]\n",
    "plot(data)\n",
    "#its give each value different colors like ccolorscale "
   ]
  },
  {
   "cell_type": "markdown",
   "id": "95ab73b9",
   "metadata": {},
   "source": [
    "# Heatmap with datetime Axis"
   ]
  },
  {
   "cell_type": "code",
   "execution_count": 43,
   "id": "88223dc2",
   "metadata": {},
   "outputs": [
    {
     "data": {
      "text/plain": [
       "'temp-plot.html'"
      ]
     },
     "execution_count": 43,
     "metadata": {},
     "output_type": "execute_result"
    }
   ],
   "source": [
    "import plotly.graph_objs as go\n",
    "from plotly.offline import plot\n",
    "\n",
    "# Sample datetime data\n",
    "x_datetime = ['2023-01-01', '2023-01-02', '2023-01-03', '2023-01-04', '2023-01-05']\n",
    "y_datetime = ['2023-01-06', '2023-01-07', '2023-01-08']\n",
    "z = [\n",
    "    [23, 45, 66, 1, 6],\n",
    "    [5, 53, 6, 11, 16],\n",
    "    [-1, 99, 0, 323, 76]\n",
    "]\n",
    "\n",
    "trace = go.Heatmap(\n",
    "    z=z,\n",
    "    x=x_datetime,\n",
    "    y=y_datetime,\n",
    "    colorscale='Viridis'\n",
    ")\n",
    "\n",
    "data = [trace]\n",
    "\n",
    "layout = go.Layout(\n",
    "    title='Heatmap with Datetime Axis',\n",
    "    xaxis=dict(type='date', title='X-Axis Label'),  # Set the X-axis to type 'date'\n",
    "    yaxis=dict(type='date', title='Y-Axis Label'),  # Set the Y-axis to type 'date'\n",
    ")\n",
    "\n",
    "fig = go.Figure(data=data, layout=layout)\n",
    "\n",
    "plot(fig)\n"
   ]
  },
  {
   "cell_type": "code",
   "execution_count": null,
   "id": "c8002f4e",
   "metadata": {},
   "outputs": [],
   "source": []
  },
  {
   "cell_type": "code",
   "execution_count": null,
   "id": "8ccb799f",
   "metadata": {},
   "outputs": [],
   "source": []
  }
 ],
 "metadata": {
  "kernelspec": {
   "display_name": "Python 3 (ipykernel)",
   "language": "python",
   "name": "python3"
  },
  "language_info": {
   "codemirror_mode": {
    "name": "ipython",
    "version": 3
   },
   "file_extension": ".py",
   "mimetype": "text/x-python",
   "name": "python",
   "nbconvert_exporter": "python",
   "pygments_lexer": "ipython3",
   "version": "3.10.9"
  }
 },
 "nbformat": 4,
 "nbformat_minor": 5
}
