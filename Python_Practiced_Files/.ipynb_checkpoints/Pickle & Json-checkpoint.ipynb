{
 "cells": [
  {
   "cell_type": "markdown",
   "id": "1857358b",
   "metadata": {},
   "source": [
    "# Pickle"
   ]
  },
  {
   "cell_type": "markdown",
   "id": "85de3731",
   "metadata": {},
   "source": [
    "Pickle is a module in Python that allows you to serialize and deserialize (or \"pickle\" and \"unpickle\") Python objects. Serialization is the process of converting a Python object into a byte stream, which can be stored in a file or sent over a network. Deserialization is the reverse process of reconstructing the Python object from the byte stream."
   ]
  },
  {
   "cell_type": "markdown",
   "id": "f0225964",
   "metadata": {},
   "source": [
    "Important points to consider when using pickle:\n",
    "\n",
    "Security: Be cautious when unpickling data from untrusted or unauthenticated sources, as pickle files can execute arbitrary code, making them a potential security risk.\n",
    "\n",
    "Compatibility: Pickle files are Python-version specific. Data pickled in one version of Python may not be loadable in a different Python version. Use alternatives like JSON or XML for cross-version compatibility.\n",
    "\n",
    "Data Type Support: pickle can serialize a wide range of Python objects, including custom classes and objects. However, some objects, like file handles or database connections, may not be picklable.\n",
    "\n",
    "Human-Readable: Pickle files are not human-readable; they are binary. If you need human-readable data interchange, consider using JSON or other text-based formats.\n",
    "\n",
    "In summary, the pickle module in Python is a convenient way to serialize and deserialize Python objects, but it should be used with care, especially in situations where security and cross-version compatibility are concerns."
   ]
  },
  {
   "cell_type": "code",
   "execution_count": 2,
   "id": "26883c18",
   "metadata": {},
   "outputs": [],
   "source": [
    "import pickle#importing pickle module"
   ]
  },
  {
   "cell_type": "markdown",
   "id": "5e77bec3",
   "metadata": {},
   "source": [
    "Pickling (Serializing or Encoding):\n",
    "    \n",
    "To pickle (serialize) a Python object, use the pickle.dump() function to write the object to a binary file. Here's how you can pickle an object:"
   ]
  },
  {
   "cell_type": "code",
   "execution_count": 13,
   "id": "5054c3f8",
   "metadata": {},
   "outputs": [],
   "source": [
    "data={'Name':'Karthik','Age':23,'Native':\"Tiruchendur\"}#here we can encode any type of data like dic,list,object...\n",
    "#data=[67,89,90]\n",
    "with open('student.pkl','wb') as file:#wb-write binary\n",
    "    pickle.dump(data,file)"
   ]
  },
  {
   "cell_type": "markdown",
   "id": "a1e62e9f",
   "metadata": {},
   "source": [
    "Unpickling (Deserializing or decoding):\n",
    "    \n",
    "To unpickle (deserialize) a Python object from a file, use the pickle.load() function. Here's how you can unpickle the previously pickled data:"
   ]
  },
  {
   "cell_type": "code",
   "execution_count": 14,
   "id": "705a361d",
   "metadata": {},
   "outputs": [
    {
     "name": "stdout",
     "output_type": "stream",
     "text": [
      "[67, 89, 90]\n"
     ]
    }
   ],
   "source": [
    "with open('student.pkl','rb') as f:#rb-read binary\n",
    "    loaded_file=pickle.load(f)\n",
    "print(loaded_file)"
   ]
  },
  {
   "cell_type": "markdown",
   "id": "391c5899",
   "metadata": {},
   "source": [
    "# changing python object to binary file or pickle file"
   ]
  },
  {
   "cell_type": "code",
   "execution_count": 10,
   "id": "0edfa92b",
   "metadata": {},
   "outputs": [
    {
     "name": "stdout",
     "output_type": "stream",
     "text": [
      "Enter the number of Employees:2\n",
      "Enter the Employee Id:6860\n",
      "Enter the Employee Name:karthik\n",
      "Enter the Employee Native:thiruchendur\n",
      "Emp id is: 6860 and Emp name is: karthik and Employee native from: thiruchendur\n",
      "Enter the Employee Id:6762\n",
      "Enter the Employee Name:baby reshma\n",
      "Enter the Employee Native:kerala\n",
      "Emp id is: 6762 and Emp name is: baby reshma and Employee native from: kerala\n"
     ]
    }
   ],
   "source": [
    "import classs_Pickle\n",
    "f=open('emp.pkl','wb')#here we are opening the pickle file\n",
    "n=int(input(\"Enter the number of Employees:\"))\n",
    "for i in range(n):\n",
    "    id=int(input(\"Enter the Employee Id:\"))\n",
    "    name=input(\"Enter the Employee Name:\")\n",
    "    native=input(\"Enter the Employee Native:\")\n",
    "    e=classs_Pickle.emp(id,name,native)\n",
    "    pickle.dump(e,f)#writing the user input object data into the file\n",
    "    e.display()#displaying the user data using classs_Pickle file class and function\n",
    "f.close()"
   ]
  },
  {
   "cell_type": "markdown",
   "id": "83a8c388",
   "metadata": {},
   "source": [
    "# JSON"
   ]
  },
  {
   "cell_type": "markdown",
   "id": "e30a9982",
   "metadata": {},
   "source": [
    "JSON (JavaScript Object Notation) is a lightweight data-interchange format that is widely used in data exchange between systems. In Python, you can work with JSON data using the built-in json module. This module provides functions to encode (serialize) Python objects into JSON format and decode (deserialize) JSON data into Python objects."
   ]
  },
  {
   "cell_type": "code",
   "execution_count": 12,
   "id": "c5319582",
   "metadata": {},
   "outputs": [],
   "source": [
    "import json"
   ]
  },
  {
   "cell_type": "markdown",
   "id": "730f33f6",
   "metadata": {},
   "source": [
    "Serializing or encoding JSON:\n",
    "    \n",
    "The process of encoding JSON is usually called serialization. This term refers to the transformation of data into a series of bytes (hence serial) to be stored or transmitted across a network. To handle the data flow in a file, the JSON library in Python uses dump() function to convert the Python objects into their respective JSON object, so it makes it easy to write data to files."
   ]
  },
  {
   "cell_type": "code",
   "execution_count": 20,
   "id": "21aa78dc",
   "metadata": {},
   "outputs": [],
   "source": [
    "#dic={'Name':'RESHMA','Role':'Communication Specialist','location':'Chennai'}\n",
    "dic=[90,89,78]\n",
    "#serializing json\n",
    "obj=json.dumps(dic)\n",
    "#writing the data into the file Edu.json'\n",
    "with open('Edu.json','w')as file:\n",
    "    file.write(obj)"
   ]
  },
  {
   "cell_type": "markdown",
   "id": "fb83968a",
   "metadata": {},
   "source": [
    "Deseriaziling or decoding"
   ]
  },
  {
   "cell_type": "code",
   "execution_count": 21,
   "id": "9d9e6138",
   "metadata": {},
   "outputs": [
    {
     "name": "stdout",
     "output_type": "stream",
     "text": [
      "[90, 89, 78]\n"
     ]
    }
   ],
   "source": [
    "with open('Edu.json','r')as f:\n",
    "    #reading from json file\n",
    "    obj=json.load(f)\n",
    "print(obj)"
   ]
  },
  {
   "cell_type": "code",
   "execution_count": 22,
   "id": "d7d99518",
   "metadata": {},
   "outputs": [
    {
     "data": {
      "text/html": [
       "<div>\n",
       "<style scoped>\n",
       "    .dataframe tbody tr th:only-of-type {\n",
       "        vertical-align: middle;\n",
       "    }\n",
       "\n",
       "    .dataframe tbody tr th {\n",
       "        vertical-align: top;\n",
       "    }\n",
       "\n",
       "    .dataframe thead th {\n",
       "        text-align: right;\n",
       "    }\n",
       "</style>\n",
       "<table border=\"1\" class=\"dataframe\">\n",
       "  <thead>\n",
       "    <tr style=\"text-align: right;\">\n",
       "      <th></th>\n",
       "      <th>0</th>\n",
       "    </tr>\n",
       "  </thead>\n",
       "  <tbody>\n",
       "    <tr>\n",
       "      <th>0</th>\n",
       "      <td>90</td>\n",
       "    </tr>\n",
       "    <tr>\n",
       "      <th>1</th>\n",
       "      <td>89</td>\n",
       "    </tr>\n",
       "    <tr>\n",
       "      <th>2</th>\n",
       "      <td>78</td>\n",
       "    </tr>\n",
       "  </tbody>\n",
       "</table>\n",
       "</div>"
      ],
      "text/plain": [
       "    0\n",
       "0  90\n",
       "1  89\n",
       "2  78"
      ]
     },
     "execution_count": 22,
     "metadata": {},
     "output_type": "execute_result"
    }
   ],
   "source": [
    "#changing json file data into dataset\n",
    "import pandas as pd\n",
    "dd=pd.read_json('Edu.json')#if we want read json file, we cmust use read_json clause.\n",
    "dd"
   ]
  },
  {
   "cell_type": "code",
   "execution_count": null,
   "id": "931d0772",
   "metadata": {},
   "outputs": [],
   "source": []
  }
 ],
 "metadata": {
  "kernelspec": {
   "display_name": "Python 3 (ipykernel)",
   "language": "python",
   "name": "python3"
  },
  "language_info": {
   "codemirror_mode": {
    "name": "ipython",
    "version": 3
   },
   "file_extension": ".py",
   "mimetype": "text/x-python",
   "name": "python",
   "nbconvert_exporter": "python",
   "pygments_lexer": "ipython3",
   "version": "3.10.9"
  }
 },
 "nbformat": 4,
 "nbformat_minor": 5
}
