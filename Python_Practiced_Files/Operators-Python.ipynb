{
 "cells": [
  {
   "cell_type": "markdown",
   "id": "493d9861",
   "metadata": {},
   "source": [
    "# PYTHON OPERATORS"
   ]
  },
  {
   "cell_type": "code",
   "execution_count": 3,
   "id": "384e4496",
   "metadata": {},
   "outputs": [
    {
     "name": "stdout",
     "output_type": "stream",
     "text": [
      "Enter the number=10\n",
      "Enter the number=3\n",
      "Addition of x and y is: 13\n",
      "Subtraction of x and y is: 7\n",
      "Multiplication of x and y is: 30\n",
      "Division of x and y is: 3.3333333333333335\n",
      "Floor Division of x and y is: 3\n",
      "Modules of x and y is: 1\n",
      "Expontial of x and y is: 1000\n"
     ]
    }
   ],
   "source": [
    "#Arithmetic operator\n",
    "x=int(input(\"Enter the number=\"))\n",
    "y=int(input(\"Enter the number=\"))\n",
    "print('Addition of x and y is:',x+y)\n",
    "print('Subtraction of x and y is:',x-y)\n",
    "print('Multiplication of x and y is:',x*y)\n",
    "print('Division of x and y is:',x/y)\n",
    "print('Floor Division of x and y is:',x//y)#it will display whole value or round value\n",
    "print('Modules of x and y is:',x%y)#it will give Reminder value\n",
    "print('Expontial of x and y is:',x**y)#it will give power of value"
   ]
  },
  {
   "cell_type": "code",
   "execution_count": 1,
   "id": "05ccda75",
   "metadata": {},
   "outputs": [
    {
     "name": "stdout",
     "output_type": "stream",
     "text": [
      "Enter the Number:30\n",
      "Enter the Number:15\n",
      "The Value of Z is: 45\n",
      "The Addition is: 75\n",
      "The Subtraction is: 60\n",
      "The Multiplication is: 1800\n",
      "The Subtraction is: 120.0\n"
     ]
    }
   ],
   "source": [
    "#Assignment Operator\n",
    "x=int(input('Enter the Number:'))#30\n",
    "y=int(input('Enter the Number:'))#15\n",
    "z=x+y\n",
    "print('The Value of Z is:',z)#45\n",
    "z+=x #z=z+x-->z=45+30\n",
    "print('The Addition is:',z)#75\n",
    "z-=y #z=z-y-->z=75-15\n",
    "print('The Subtraction is:',z)#60\n",
    "z*=x #z=z*x-->z=60*30\n",
    "print('The Multiplication is:',z)#1800\n",
    "z/=y #z=z/y-->z=1800/15\n",
    "print('The Subtraction is:',z)#120"
   ]
  },
  {
   "cell_type": "code",
   "execution_count": 2,
   "id": "1930a00f",
   "metadata": {},
   "outputs": [
    {
     "name": "stdout",
     "output_type": "stream",
     "text": [
      "enter the number:90\n",
      "enter the number:90\n",
      "Equal to is: True\n",
      "notEqual to is: False\n",
      "Greaterthan is: False\n",
      "Greaterthan equal to is: True\n",
      "lessthan is: False\n",
      "lessthan equal to is: True\n"
     ]
    }
   ],
   "source": [
    "#comparison operator\n",
    "x=int(input(\"enter the number:\"))\n",
    "y=int(input(\"enter the number:\"))\n",
    "print('Equal to is:',x==y)\n",
    "print('notEqual to is:',x!=y)\n",
    "print('Greaterthan is:',x>y)\n",
    "print('Greaterthan equal to is:',x>=y)\n",
    "print('lessthan is:',x<y)\n",
    "print('lessthan equal to is:',x<=y)"
   ]
  },
  {
   "cell_type": "code",
   "execution_count": 4,
   "id": "d31f3bd8",
   "metadata": {},
   "outputs": [
    {
     "name": "stdout",
     "output_type": "stream",
     "text": [
      "enter the number:50\n",
      "enter the number:50\n",
      "And value is: False\n",
      "OR value is: True\n",
      "OR value is: True\n"
     ]
    }
   ],
   "source": [
    "#logical operator\n",
    "x=int(input(\"enter the number:\"))\n",
    "y=int(input(\"enter the number:\"))\n",
    "print(\"And value is:\",x==y and x!=y)#Returns True if both statements are true\n",
    "print(\"OR value is:\",x==y or x!=y)#Returns True if one of the statements is true\n",
    "print(\"OR value is:\",not(x==y and x!=y))#Reverse the result, returns False if the result is true"
   ]
  },
  {
   "cell_type": "code",
   "execution_count": 5,
   "id": "13738d07",
   "metadata": {},
   "outputs": [
    {
     "name": "stdout",
     "output_type": "stream",
     "text": [
      "True\n",
      "True\n"
     ]
    }
   ],
   "source": [
    "#membership operator\n",
    "fruits=['apple','orange','mango','pine apple']\n",
    "print('apple' in fruits)\n",
    "print('APPLE' not in fruits)"
   ]
  },
  {
   "cell_type": "code",
   "execution_count": 9,
   "id": "48ca1198",
   "metadata": {},
   "outputs": [
    {
     "name": "stdout",
     "output_type": "stream",
     "text": [
      "enter the number:20\n",
      "enter the number:20\n",
      "2562900951888\n",
      "2562900951888\n",
      "True\n",
      "False\n"
     ]
    }
   ],
   "source": [
    "#Identity operator\n",
    "x=int(input(\"enter the number:\"))\n",
    "y=int(input(\"enter the number:\"))#if we give same number means, it memory storing id will be same\n",
    "print(id(x))\n",
    "print(id(y))\n",
    "print(x is y)\n",
    "print(y is not y)"
   ]
  },
  {
   "cell_type": "code",
   "execution_count": 2,
   "id": "b1f3dea7",
   "metadata": {},
   "outputs": [
    {
     "name": "stdout",
     "output_type": "stream",
     "text": [
      "enter the number:23\n",
      "enter the number:45\n",
      "1980524594096\n",
      "1980524594800\n",
      "False\n",
      "True\n"
     ]
    }
   ],
   "source": [
    "x=int(input(\"enter the number:\"))\n",
    "y=int(input(\"enter the number:\"))#if we give not same number means, it memory storing id will not be same\n",
    "print(id(x))\n",
    "print(id(y))\n",
    "print(x is y)\n",
    "print(x is not y)"
   ]
  },
  {
   "cell_type": "code",
   "execution_count": 11,
   "id": "081de6fd",
   "metadata": {},
   "outputs": [
    {
     "name": "stdout",
     "output_type": "stream",
     "text": [
      "2562981608448\n",
      "2562981663424\n",
      "False\n",
      "True\n"
     ]
    }
   ],
   "source": [
    "l=[1,2,3]\n",
    "l1=[1,2,3]\n",
    "print(id(l))\n",
    "print(id(l1))\n",
    "print(l is l1)\n",
    "print(l is not l1)#list is a mutable datatype.so even if values are same, id won't be same"
   ]
  },
  {
   "cell_type": "code",
   "execution_count": 9,
   "id": "e8838c80",
   "metadata": {},
   "outputs": [
    {
     "name": "stdout",
     "output_type": "stream",
     "text": [
      "Enter the Name:Karthik R\n",
      "Enter the Degree:Bsc(cs)\n",
      "My name is: Karthik R .I have completed Bsc(cs)\n",
      "------------------------------------------------------------\n",
      "Enter the Name:baby\n",
      "Enter the Degree:MA(English)\n",
      "My name is:baby.I have completed MA(English)\n"
     ]
    }
   ],
   "source": [
    "#normal\n",
    "name=input(\"Enter the Name:\")\n",
    "degree=input(\"Enter the Degree:\")\n",
    "print('My name is:',name,'.I have completed',degree)\n",
    "print(\"-\"*60)\n",
    "#String formatting\n",
    "name1=input(\"Enter the Name:\")\n",
    "degree1=input(\"Enter the Degree:\")\n",
    "print(f'''My name is:{name1}.I have completed {degree1}''')#we can use ('', \"\" ,'''''')"
   ]
  },
  {
   "cell_type": "code",
   "execution_count": 23,
   "id": "82c1e543",
   "metadata": {},
   "outputs": [
    {
     "name": "stdout",
     "output_type": "stream",
     "text": [
      "kkkkkkkkkkkkkkkkkkkkkkkkkkkkkkkkkkkkkkkkkkkkkkkkkkkkkkkkkkkkkkkkkkkkkkkkkkkkkkkkkkkkkkkkkkkkkkkkkkkk\n"
     ]
    }
   ],
   "source": [
    "print(\"k\"*100)"
   ]
  },
  {
   "cell_type": "code",
   "execution_count": 49,
   "id": "685013ed",
   "metadata": {},
   "outputs": [
    {
     "name": "stdout",
     "output_type": "stream",
     "text": [
      "0b1111\n",
      "0b11000\n",
      "--------------------------------------------------\n",
      "15\n",
      "--------------------------------------------------\n",
      "0o17\n",
      "--------------------------------------------------\n",
      "0x14\n",
      "0xa\n",
      "--------------------------------------------------\n",
      "20\n",
      "--------------------------------------------------\n",
      "Hexa decimal value is 0xb\n",
      "octal value is 0o13\n",
      "decimal value is 11\n",
      "--------------------------------------------------\n",
      "binary value is 0b101101\n",
      "Hexa decimal value is 0x2d\n",
      "decimal value is 45\n",
      "--------------------------------------------------\n",
      "binary value is 0b100001\n",
      "octal value is 0o41\n",
      "decimal value is 33\n",
      "--------------------------------------------------\n"
     ]
    }
   ],
   "source": [
    "#to find binaryvalue\n",
    "print(bin(15))\n",
    "print(bin(24))\n",
    "print('-'*50)\n",
    "#to convert binary to decimal\n",
    "a=bin(15)\n",
    "print(int(a,2))#base value of binary\n",
    "print('-'*50)\n",
    "#to find octal value\n",
    "print(oct(15))\n",
    "print('-'*50)\n",
    "#to find hexadecimal value\n",
    "print(hex(20))\n",
    "print(hex(10))#remainder value 10-a,11-b,12-c,13-d,14-e,15-f\n",
    "print('-'*50)\n",
    "#octal to decimal\n",
    "o=oct(20)\n",
    "print(int(o,8))\n",
    "print('-'*50)\n",
    "#binary to hexadecimal,octal,decimal\n",
    "b=0b1011\n",
    "print(\"Hexa decimal value is\",hex(b))\n",
    "print(\"octal value is\",oct(b))\n",
    "print(\"decimal value is\",int(b))\n",
    "print('-'*50)\n",
    "#octal to bin,hexadecimal,decimal\n",
    "o1=0o55\n",
    "print(\"binary value is\",bin(o1))\n",
    "print(\"Hexa decimal value is\",hex(o1))\n",
    "print(\"decimal value is\",int(o1))\n",
    "print('-'*50)\n",
    "#hexadecimal to bin,octal,decimal\n",
    "h=0x21\n",
    "print(\"binary value is\",bin(h))\n",
    "print(\"octal value is\",oct(h))\n",
    "print(\"decimal value is\",int(h))\n",
    "print('-'*50)"
   ]
  },
  {
   "cell_type": "code",
   "execution_count": 50,
   "id": "8468189a",
   "metadata": {},
   "outputs": [
    {
     "name": "stdout",
     "output_type": "stream",
     "text": [
      "AND VALUE IS: 2\n",
      "OR VALUE IS: 3\n",
      "E-OR VALUE IS: 1\n"
     ]
    }
   ],
   "source": [
    "#bitwise operator\n",
    "x=2\n",
    "y=3\n",
    "print(\"AND VALUE IS:\",x&y)\n",
    "print(\"OR VALUE IS:\",x|y)\n",
    "print(\"E-OR VALUE IS:\",x^y)"
   ]
  },
  {
   "cell_type": "code",
   "execution_count": 57,
   "id": "ff2482c6",
   "metadata": {},
   "outputs": [
    {
     "name": "stdout",
     "output_type": "stream",
     "text": [
      "Not value is: -4\n",
      "Not value is: 3\n"
     ]
    }
   ],
   "source": [
    "#not \n",
    "x=3\n",
    "y=-4\n",
    "print(\"Not value is:\",~x)#Next value\n",
    "print(\"Not value is:\",~y)#previous value\n"
   ]
  },
  {
   "cell_type": "code",
   "execution_count": 61,
   "id": "0049a4ae",
   "metadata": {},
   "outputs": [
    {
     "name": "stdout",
     "output_type": "stream",
     "text": [
      "Enter the Number:10\n",
      "10 is an Even number\n"
     ]
    }
   ],
   "source": [
    "#to check whether the given number is odd or even\n",
    "#if statement\n",
    "x=int(input('Enter the Number:'))\n",
    "if(x%2==0):\n",
    "    print(x,\"is an Even number\")\n",
    "\n",
    " "
   ]
  },
  {
   "cell_type": "code",
   "execution_count": 62,
   "id": "69a3c6dd",
   "metadata": {},
   "outputs": [
    {
     "name": "stdout",
     "output_type": "stream",
     "text": [
      "Enter the Number:13\n"
     ]
    }
   ],
   "source": [
    "#if statement\n",
    "x=int(input('Enter the Number:'))\n",
    "if(x%2==0):\n",
    "    print(x,\"is an Even number\")\n"
   ]
  },
  {
   "cell_type": "code",
   "execution_count": 63,
   "id": "a3445d4e",
   "metadata": {},
   "outputs": [
    {
     "name": "stdout",
     "output_type": "stream",
     "text": [
      "Enter the Number:23\n",
      "23 is an odd number\n"
     ]
    }
   ],
   "source": [
    "#if else statement\n",
    "x=int(input('Enter the Number:'))\n",
    "if(x%2==0):\n",
    "    print(x,\"is an Even number\")\n",
    "else:\n",
    "    print(x,\"is an odd number\")"
   ]
  },
  {
   "cell_type": "code",
   "execution_count": 66,
   "id": "a7d2f893",
   "metadata": {},
   "outputs": [
    {
     "name": "stdout",
     "output_type": "stream",
     "text": [
      "Enter the AGE:12\n",
      "Not Eligibale to vote\n"
     ]
    }
   ],
   "source": [
    "#write a program to check whether 18+ are eligiable to vote or not\n",
    "x=int(input(\"Enter the AGE:\"))\n",
    "if(x>18):\n",
    "    print(\"Eligable to Vote\")\n",
    "else:\n",
    "    print(\"Not Eligibale to vote\")"
   ]
  },
  {
   "cell_type": "code",
   "execution_count": 71,
   "id": "8d3e39a1",
   "metadata": {},
   "outputs": [
    {
     "name": "stdout",
     "output_type": "stream",
     "text": [
      "Enter the Number:-9\n",
      "-9 is negative number\n"
     ]
    }
   ],
   "source": [
    "#if..elif statement\n",
    "#to check whether the given number is positive or not\n",
    "y=int(input(\"Enter the Number:\"))\n",
    "if(y>0):\n",
    "    print(y,\"is positive number\")\n",
    "elif(y==0):\n",
    "    print(y,\"is a zero\")\n",
    "else:\n",
    "    print(y,\"is negative number\")"
   ]
  },
  {
   "cell_type": "code",
   "execution_count": 75,
   "id": "8c110828",
   "metadata": {},
   "outputs": [
    {
     "name": "stdout",
     "output_type": "stream",
     "text": [
      "Enter the Number:1\n",
      "1 is a positive number\n"
     ]
    }
   ],
   "source": [
    "#Nested if-if condition inside the another if condition is called as Nested if\n",
    "x=int(input(\"Enter the Number:\"))\n",
    "if(x>=0):\n",
    "    if(x==0):\n",
    "        print(x,\"is a ZERO\")\n",
    "    else:\n",
    "        print(x,\"is a positive number\")\n",
    "else:\n",
    "    print(x,\"is a negative number\")"
   ]
  },
  {
   "cell_type": "code",
   "execution_count": 76,
   "id": "4343e688",
   "metadata": {},
   "outputs": [
    {
     "ename": "SyntaxError",
     "evalue": "incomplete input (2719478826.py, line 2)",
     "output_type": "error",
     "traceback": [
      "\u001b[1;36m  Cell \u001b[1;32mIn[76], line 2\u001b[1;36m\u001b[0m\n\u001b[1;33m    print(s#)\u001b[0m\n\u001b[1;37m             ^\u001b[0m\n\u001b[1;31mSyntaxError\u001b[0m\u001b[1;31m:\u001b[0m incomplete input\n"
     ]
    }
   ],
   "source": [
    "s#=\"karthik\"\n",
    "print(s#)"
   ]
  },
  {
   "cell_type": "code",
   "execution_count": 80,
   "id": "dd7c6817",
   "metadata": {},
   "outputs": [
    {
     "name": "stdout",
     "output_type": "stream",
     "text": [
      "a\n",
      "1\n",
      "1\n"
     ]
    }
   ],
   "source": [
    "s=\"karthik\"\n",
    "print(s[1])\n",
    "print(s.find('a'))\n",
    "print(s.index('a'))"
   ]
  },
  {
   "cell_type": "code",
   "execution_count": 82,
   "id": "98960eb2",
   "metadata": {},
   "outputs": [
    {
     "name": "stdout",
     "output_type": "stream",
     "text": [
      "1\n",
      "2\n",
      "3\n",
      "4\n",
      "5\n",
      "6\n",
      "7\n",
      "8\n",
      "9\n"
     ]
    }
   ],
   "source": [
    "#while loop\n",
    "i=1 #initialize the value\n",
    "while i<10:\n",
    "    print(i)#it is going to display the answer\n",
    "    i+=1 #increment"
   ]
  },
  {
   "cell_type": "code",
   "execution_count": 83,
   "id": "87583501",
   "metadata": {},
   "outputs": [
    {
     "name": "stdout",
     "output_type": "stream",
     "text": [
      "1\n",
      "2\n",
      "3\n"
     ]
    }
   ],
   "source": [
    "#break- we can stop the loop even if the while condition is true\n",
    "i=1\n",
    "while (i<6):\n",
    "    print(i)\n",
    "    if i==3:\n",
    "        break\n",
    "    i+=1"
   ]
  },
  {
   "cell_type": "code",
   "execution_count": 85,
   "id": "352f2f21",
   "metadata": {},
   "outputs": [
    {
     "name": "stdout",
     "output_type": "stream",
     "text": [
      "3\n",
      "4\n",
      "6\n",
      "7\n",
      "8\n",
      "9\n",
      "10\n",
      "11\n"
     ]
    }
   ],
   "source": [
    "#continue-we can stop the current iteration,and continue with next iteration\n",
    "i=2\n",
    "while i<=10:\n",
    "    i+=1\n",
    "    if(i==5):\n",
    "        continue\n",
    "    print(i)\n",
    "    "
   ]
  },
  {
   "cell_type": "code",
   "execution_count": 88,
   "id": "53b54cff",
   "metadata": {
    "scrolled": true
   },
   "outputs": [
    {
     "name": "stdout",
     "output_type": "stream",
     "text": [
      "1\n",
      "2\n",
      "3\n",
      "4\n",
      "End of the loop\n",
      "--------------------------------------------------\n",
      "100\n",
      "99\n",
      "98\n",
      "97\n",
      "96\n",
      "95\n",
      "94\n",
      "93\n",
      "92\n",
      "91\n",
      "90\n",
      "end of the loop\n"
     ]
    }
   ],
   "source": [
    "#how to use else statement in for loop # else block will display whatever present inside the else block\n",
    "for i in range(1,5):\n",
    "    print(i)\n",
    "else:\n",
    "    print(\"End of the loop\")\n",
    "print('-'*50)\n",
    "#how to use else statement in While loop\n",
    "i=100\n",
    "while(i>=90):\n",
    "    print(i)\n",
    "    i-=1\n",
    "else:\n",
    "    print(\"end of the loop\")"
   ]
  },
  {
   "cell_type": "code",
   "execution_count": 89,
   "id": "27678db1",
   "metadata": {},
   "outputs": [
    {
     "name": "stdout",
     "output_type": "stream",
     "text": [
      "['k', 'a', 'r', 't', 'h', 'i', 'k']\n"
     ]
    }
   ],
   "source": [
    "#list comprehension\n",
    "#normal way of declaration using for loop\n",
    "string=\"karthik\"\n",
    "li=[]\n",
    "for i in string:\n",
    "    li.append(i)\n",
    "print(li)"
   ]
  },
  {
   "cell_type": "code",
   "execution_count": 90,
   "id": "6a65b165",
   "metadata": {},
   "outputs": [
    {
     "name": "stdout",
     "output_type": "stream",
     "text": [
      "['b', 'a', 'b', 'y']\n"
     ]
    }
   ],
   "source": [
    "#list declaration using list comperhension\n",
    "string=\"baby\"\n",
    "li=[li1 for li1 in string]\n",
    "print(li)"
   ]
  },
  {
   "cell_type": "code",
   "execution_count": 92,
   "id": "64a444d4",
   "metadata": {},
   "outputs": [
    {
     "name": "stdout",
     "output_type": "stream",
     "text": [
      "['b', 'a', 'b', 'y']\n"
     ]
    }
   ],
   "source": [
    "li2=[li3 for li3 in 'baby']\n",
    "print(li2)"
   ]
  },
  {
   "cell_type": "code",
   "execution_count": 104,
   "id": "0e43001f",
   "metadata": {},
   "outputs": [
    {
     "name": "stdout",
     "output_type": "stream",
     "text": [
      "Enter the from Digit:2\n",
      "Enter the end Digit:7\n",
      "[4, 9, 16, 25, 36, 49]\n"
     ]
    }
   ],
   "source": [
    "#squre of number using for loop\n",
    "xy=int(input(\"Enter the from Digit:\"))\n",
    "yx=int(input(\"Enter the end Digit:\"))\n",
    "li4=[]\n",
    "for x1 in range(xy,yx+1):\n",
    "    li4.append(x1**2)\n",
    "print(li4)\n",
    "    "
   ]
  },
  {
   "cell_type": "code",
   "execution_count": 106,
   "id": "1e5ce063",
   "metadata": {},
   "outputs": [
    {
     "name": "stdout",
     "output_type": "stream",
     "text": [
      "Enter the from Digit:3\n",
      "Enter the end Digit:4\n",
      "[9, 16]\n"
     ]
    }
   ],
   "source": [
    "#squre of number using list comprehension\n",
    "xy=int(input(\"Enter the from Digit:\"))\n",
    "yx=int(input(\"Enter the end Digit:\"))\n",
    "li4=[num**2 for num in range(xy,yx+1)]\n",
    "print(li4)\n",
    "\n",
    "    "
   ]
  },
  {
   "cell_type": "code",
   "execution_count": 108,
   "id": "8d987c7a",
   "metadata": {},
   "outputs": [
    {
     "name": "stdout",
     "output_type": "stream",
     "text": [
      "Enter the start Digit:4\n",
      "Enter the end Digit:20\n",
      "[4, 6, 8, 10, 12, 14, 16, 18, 20]\n"
     ]
    }
   ],
   "source": [
    "#find even number using if condion inside the list comprhension\n",
    "xy=int(input(\"Enter the start Digit:\"))\n",
    "yx=int(input(\"Enter the end Digit:\"))\n",
    "li5=[li6 for li6 in range(xy,yx+1) if li6%2==0]\n",
    "print(li5)"
   ]
  },
  {
   "cell_type": "code",
   "execution_count": 124,
   "id": "03b5f1ac",
   "metadata": {},
   "outputs": [
    {
     "name": "stdout",
     "output_type": "stream",
     "text": [
      "Choose the Ferenheit/Celcius:ferenheit\n",
      "Enter the celcius:32.22\n",
      "Ferenheit is: [89.99600000000001]\n"
     ]
    }
   ],
   "source": [
    "#write a program to find celcius from ferenheit using list comprehesion\n",
    "select=input(\"Choose the Ferenheit/Celcius:\")\n",
    "select.lower()\n",
    "if (select==\"celcius\"):\n",
    "    in1=[]\n",
    "    in1.append(float(input(\"Enter the Ferenheit:\")))\n",
    "    list7=[(li8-32)*5/9 for li8 in in1]\n",
    "    print(\"Celcius is:\",list7)\n",
    "elif (select == \"ferenheit\"):\n",
    "    in1=[]\n",
    "    in1.append(float(input(\"Enter the celcius:\")))\n",
    "    list7=[(li8*9/5)+32 for li8 in in1]\n",
    "    print(\"Ferenheit is:\",list7)\n",
    "else:\n",
    "    print(\"Enter correct string\")"
   ]
  },
  {
   "cell_type": "code",
   "execution_count": 126,
   "id": "e7a47510",
   "metadata": {},
   "outputs": [
    {
     "name": "stdout",
     "output_type": "stream",
     "text": [
      "ENTER ANYTHING:90\n",
      "90 <class 'str'>\n"
     ]
    }
   ],
   "source": [
    "#eval function\n",
    "i=input(\"ENTER ANYTHING:\")\n",
    "print(i,type(i))"
   ]
  },
  {
   "cell_type": "code",
   "execution_count": 131,
   "id": "cde8638a",
   "metadata": {},
   "outputs": [
    {
     "name": "stdout",
     "output_type": "stream",
     "text": [
      "Enter Anything:True\n",
      "True <class 'bool'>\n",
      "Enter Anything:67\n",
      "67 <class 'int'>\n",
      "Enter Anything:87.98\n",
      "87.98 <class 'float'>\n"
     ]
    }
   ],
   "source": [
    "i=eval(input(\"Enter Anything:\"))\n",
    "print(i,type(i))\n",
    "j=eval(input(\"Enter Anything:\"))\n",
    "print(j,type(j))\n",
    "k=eval(input(\"Enter Anything:\"))\n",
    "print(k,type(k))"
   ]
  },
  {
   "cell_type": "code",
   "execution_count": 132,
   "id": "56a2a50e",
   "metadata": {},
   "outputs": [
    {
     "name": "stdout",
     "output_type": "stream",
     "text": [
      "Enter the expression:90+78-100\n",
      "68\n"
     ]
    }
   ],
   "source": [
    "#expression\n",
    "l=eval(input(\"Enter the expression:\"))\n",
    "print(l)"
   ]
  },
  {
   "cell_type": "code",
   "execution_count": 135,
   "id": "ecaf1f8e",
   "metadata": {},
   "outputs": [
    {
     "name": "stdout",
     "output_type": "stream",
     "text": [
      "65610067\n"
     ]
    }
   ],
   "source": [
    "m=eval('67+90**4')#we can give only string\n",
    "print(m)"
   ]
  },
  {
   "cell_type": "code",
   "execution_count": 144,
   "id": "9c368ca8",
   "metadata": {},
   "outputs": [
    {
     "name": "stdout",
     "output_type": "stream",
     "text": [
      "Enter the number:5,90,53,78\n",
      "(5, 90, 53, 78)\n"
     ]
    }
   ],
   "source": [
    "n=eval(input(\"Enter the number:\"))\n",
    "print(n)"
   ]
  },
  {
   "cell_type": "code",
   "execution_count": 146,
   "id": "c3d63941",
   "metadata": {},
   "outputs": [
    {
     "name": "stdout",
     "output_type": "stream",
     "text": [
      "Enter the number:65,99,0\n",
      "[65, 99, 0]\n"
     ]
    }
   ],
   "source": [
    "n=eval(input(\"Enter the number:\"))\n",
    "print(list(n))\n"
   ]
  },
  {
   "cell_type": "code",
   "execution_count": null,
   "id": "808b963f",
   "metadata": {},
   "outputs": [],
   "source": []
  }
 ],
 "metadata": {
  "kernelspec": {
   "display_name": "Python 3 (ipykernel)",
   "language": "python",
   "name": "python3"
  },
  "language_info": {
   "codemirror_mode": {
    "name": "ipython",
    "version": 3
   },
   "file_extension": ".py",
   "mimetype": "text/x-python",
   "name": "python",
   "nbconvert_exporter": "python",
   "pygments_lexer": "ipython3",
   "version": "3.10.9"
  }
 },
 "nbformat": 4,
 "nbformat_minor": 5
}
